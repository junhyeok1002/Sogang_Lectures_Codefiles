{
 "cells": [
  {
   "cell_type": "markdown",
   "id": "286c55a8",
   "metadata": {},
   "source": [
    "## NLTK 코퍼스 및 어휘자원활용 6"
   ]
  },
  {
   "cell_type": "markdown",
   "id": "63d5bea3",
   "metadata": {},
   "source": [
    "### 파일경로 관련 함수"
   ]
  },
  {
   "cell_type": "code",
   "execution_count": 1,
   "id": "a9db5544",
   "metadata": {
    "ExecuteTime": {
     "end_time": "2023-06-19T11:13:46.479505Z",
     "start_time": "2023-06-19T11:13:46.458563Z"
    }
   },
   "outputs": [
    {
     "name": "stdout",
     "output_type": "stream",
     "text": [
      "< os.getcwd() >\n",
      "= C:\\Users\\chris\\Desktop\\서강대학교\\8학기\\NLP\n",
      "\n",
      "< os.chdir() >\n",
      "= None\n",
      "\n",
      "< os.listdir() >\n",
      "= ['01_Python_기초정리I.pdf', '01_Python_기초정리II.pdf', '01_Python_기초정리III.pdf', '02_data.zip', '02_NLTK_코퍼스및어휘자원활용I.pdf', '02_NLTK_코퍼스및어휘자원활용II.pdf', '02_NLTK_코퍼스및어휘자원활용III.pdf', '02_NLTK_코퍼스및어휘자원활용IV.pdf', '02_NLTK_코퍼스및어휘자원활용V.pdf', '02_NLTK_코퍼스및어휘자원활용VI.pdf', '03_NLTK_RawText처리I.pdf', '03_NLTK_RawText처리II.pdf', '04_NLTK_영어어휘품사분석I.pdf', '04_NLTK_영어어휘품사분석II.pdf', '04_NLTK_영어어휘품사분석III.pdf', '04_NLTK_영어어휘품사분석IV.pdf', '05_한국어처리.pdf', '06_NLTK_분류.pdf', '07_NLTK_감성분석.pdf']\n",
      "\n",
      "< os.getcwd() >\n",
      "= C:\\Users\\chris\\Desktop\\서강대학교\\8학기\\NLP\\강의자료\n"
     ]
    }
   ],
   "source": [
    "import os \n",
    "print('< os.getcwd() >\\n=',        # 현재 작업 디렉토리 확인\n",
    "      os.getcwd())     \n",
    "print('\\n< os.chdir() >\\n=',       # 작업 디렉토리 변경(상대경로, 절대경로로 해도 됨), 반환값 None, 폴더만 접근가능 : cd의 약자\n",
    "      os.chdir('C:/Users/chris/Desktop/서강대학교/8학기/NLP/강의자료'))\n",
    "print('\\n< os.listdir() >\\n=',     # 현재 작업 디렉토리의 파일과 디렉토리 목록 가져오기\n",
    "      os.listdir())   \n",
    "print('\\n< os.getcwd() >\\n=',      # 현재 작업 디렉토리 확인\n",
    "      os.getcwd())                 # cd로 디렉토리를 바꾸면 현재디렉토리 불러온 결과도 바뀜!! "
   ]
  },
  {
   "cell_type": "markdown",
   "id": "e3aaf4a6",
   "metadata": {},
   "source": [
    "### 상대경로, 절대경로\n",
    "- . 은 현재경로, ..은 상위(이전)경로"
   ]
  },
  {
   "cell_type": "code",
   "execution_count": 2,
   "id": "0c052f31",
   "metadata": {
    "ExecuteTime": {
     "end_time": "2023-06-19T11:13:46.494466Z",
     "start_time": "2023-06-19T11:13:46.483495Z"
    }
   },
   "outputs": [
    {
     "name": "stdout",
     "output_type": "stream",
     "text": [
      "\n",
      "< os.listdir(\".\") >\n",
      "= ['01_Python_기초정리I.pdf', '01_Python_기초정리II.pdf', '01_Python_기초정리III.pdf', '02_data.zip', '02_NLTK_코퍼스및어휘자원활용I.pdf', '02_NLTK_코퍼스및어휘자원활용II.pdf', '02_NLTK_코퍼스및어휘자원활용III.pdf', '02_NLTK_코퍼스및어휘자원활용IV.pdf', '02_NLTK_코퍼스및어휘자원활용V.pdf', '02_NLTK_코퍼스및어휘자원활용VI.pdf', '03_NLTK_RawText처리I.pdf', '03_NLTK_RawText처리II.pdf', '04_NLTK_영어어휘품사분석I.pdf', '04_NLTK_영어어휘품사분석II.pdf', '04_NLTK_영어어휘품사분석III.pdf', '04_NLTK_영어어휘품사분석IV.pdf', '05_한국어처리.pdf', '06_NLTK_분류.pdf', '07_NLTK_감성분석.pdf']\n",
      "\n",
      "< os.listdir(\"..\") >\n",
      "= ['.ipynb_checkpoints', '02_data', '03_data01.txt', '05_data', '19-1 기말.pdf', 'Hangul.py', 'NLP_Note(Final).ipynb', 'NLP_Note(Midterm).ipynb', 'NLP_Note(Midterm)_암기용.ipynb', 'Raw Text 처리 I.ipynb', 't3.pkl', 'test.txt', '__pycache__', '강의자료', '기말과제', '중간고사 채점.ipynb', '중간과제']\n",
      "\n",
      "< os.listdir(\"../중간과제\") >\n",
      "= ['.ipynb_checkpoints', '중간과제_자연어처리_통합본']\n",
      "\n",
      "< os.listdir(\"C:/Users/chris/Desktop/서강대학교/8학기/NLP/강의자료)\") >\n",
      "= ['01_Python_기초정리I.pdf', '01_Python_기초정리II.pdf', '01_Python_기초정리III.pdf', '02_data.zip', '02_NLTK_코퍼스및어휘자원활용I.pdf', '02_NLTK_코퍼스및어휘자원활용II.pdf', '02_NLTK_코퍼스및어휘자원활용III.pdf', '02_NLTK_코퍼스및어휘자원활용IV.pdf', '02_NLTK_코퍼스및어휘자원활용V.pdf', '02_NLTK_코퍼스및어휘자원활용VI.pdf', '03_NLTK_RawText처리I.pdf', '03_NLTK_RawText처리II.pdf', '04_NLTK_영어어휘품사분석I.pdf', '04_NLTK_영어어휘품사분석II.pdf', '04_NLTK_영어어휘품사분석III.pdf', '04_NLTK_영어어휘품사분석IV.pdf', '05_한국어처리.pdf', '06_NLTK_분류.pdf', '07_NLTK_감성분석.pdf']\n"
     ]
    }
   ],
   "source": [
    "# 상대경로\n",
    "print('\\n< os.listdir(\".\") >\\n=',     # 현재 작업 디렉토리의 파일과 디렉토리 목록 가져오기\n",
    "      os.listdir('.'))   \n",
    "print('\\n< os.listdir(\"..\") >\\n=',     # 상위 작업(이전) 디렉토리의 파일과 디렉토리 목록 가져오기\n",
    "      os.listdir('..'))   \n",
    "print('\\n< os.listdir(\"../중간과제\") >\\n=',     # 상위 작업(이전) 디렉토리의 파일과 디렉토리 목록 가져오기\n",
    "      os.listdir('../중간과제'))\n",
    "\n",
    "# 절대경로\n",
    "print('\\n< os.listdir(\"C:/Users/chris/Desktop/서강대학교/8학기/NLP/강의자료)\") >\\n=',     # 상위 작업(이전) 디렉토리의 파일과 디렉토리 목록 가져오기\n",
    "      os.listdir('C:/Users/chris/Desktop/서강대학교/8학기/NLP/강의자료'))"
   ]
  },
  {
   "cell_type": "markdown",
   "id": "915666ea",
   "metadata": {},
   "source": [
    "### 문자열 r prefix\n",
    "- 입력된 문자 그대로 출력 괄호 안에 문자 그대로!\n",
    "- 물론 r과 R은 상관없음 like f-string"
   ]
  },
  {
   "cell_type": "code",
   "execution_count": 3,
   "id": "44e10b84",
   "metadata": {
    "ExecuteTime": {
     "end_time": "2023-06-19T11:13:46.525410Z",
     "start_time": "2023-06-19T11:13:46.496461Z"
    }
   },
   "outputs": [
    {
     "data": {
      "text/plain": [
       "'c:\\nbc\\nbc\\n'"
      ]
     },
     "metadata": {},
     "output_type": "display_data"
    },
    {
     "name": "stdout",
     "output_type": "stream",
     "text": [
      "c:\n",
      "bc\n",
      "bc\n",
      "\n",
      "c:\\nbc\\nbc\n",
      "\n",
      "------------------------------\n"
     ]
    },
    {
     "data": {
      "text/plain": [
       "'c:\\\\nbc\\\\nbc\\\\n'"
      ]
     },
     "metadata": {},
     "output_type": "display_data"
    },
    {
     "name": "stdout",
     "output_type": "stream",
     "text": [
      "c:\\nbc\\nbc\\n\n",
      "c:\\\\nbc\\\\nbc\\n\n"
     ]
    }
   ],
   "source": [
    "display('c:\\nbc\\nbc\\n') #display는 한칸 띄워짐\n",
    "print('c:\\nbc\\nbc\\n') \n",
    "print('c:\\\\nbc\\\\nbc\\n')\n",
    "print('-'*30)\n",
    "display(r'c:\\nbc\\nbc\\n') #display는 한칸 띄워짐\n",
    "print(r'c:\\nbc\\nbc\\n') \n",
    "print(r'c:\\\\nbc\\\\nbc\\n')"
   ]
  },
  {
   "cell_type": "markdown",
   "id": "f508cc12",
   "metadata": {},
   "source": [
    "### 경로명 사용방법"
   ]
  },
  {
   "cell_type": "code",
   "execution_count": 4,
   "id": "4f6c389b",
   "metadata": {
    "ExecuteTime": {
     "end_time": "2023-06-19T11:13:46.540377Z",
     "start_time": "2023-06-19T11:13:46.528375Z"
    }
   },
   "outputs": [
    {
     "data": {
      "text/plain": [
       "'c:\\x07bc\\\\klest'"
      ]
     },
     "metadata": {},
     "output_type": "display_data"
    },
    {
     "data": {
      "text/plain": [
       "'c:\\x08c\\\\klest'"
      ]
     },
     "metadata": {},
     "output_type": "display_data"
    },
    {
     "data": {
      "text/plain": [
       "'c:\\\\c\\\\klest'"
      ]
     },
     "metadata": {},
     "output_type": "display_data"
    }
   ],
   "source": [
    "# c:\\abc\\klest, c:\\bc\\klest, c:\\c\\klest 주소를 찾고 싶지만 아래처럼 출력되는 문제가 있따 :\\만 쓴 경우\n",
    "display('c:\\abc\\klest') \n",
    "display('c:\\bc\\klest')\n",
    "display('c:\\c\\klest')\n",
    "# display('c:\\Users\\klest') # ->에러"
   ]
  },
  {
   "cell_type": "code",
   "execution_count": 5,
   "id": "896b97d0",
   "metadata": {
    "ExecuteTime": {
     "end_time": "2023-06-19T11:13:46.570263Z",
     "start_time": "2023-06-19T11:13:46.542339Z"
    }
   },
   "outputs": [
    {
     "data": {
      "text/plain": [
       "'c:\\\\abc\\\\klest'"
      ]
     },
     "metadata": {},
     "output_type": "display_data"
    },
    {
     "data": {
      "text/plain": [
       "'c:\\\\Users\\\\klest'"
      ]
     },
     "metadata": {},
     "output_type": "display_data"
    },
    {
     "data": {
      "text/plain": [
       "'c:\\\\abc\\\\klest'"
      ]
     },
     "metadata": {},
     "output_type": "display_data"
    },
    {
     "data": {
      "text/plain": [
       "'c:\\\\Users\\\\klest'"
      ]
     },
     "metadata": {},
     "output_type": "display_data"
    },
    {
     "data": {
      "text/plain": [
       "'c:/Users/klest'"
      ]
     },
     "metadata": {},
     "output_type": "display_data"
    }
   ],
   "source": [
    "# 이건 아래 이해되면 지워도 됨. 그저 예제들\n",
    "display('c:\\\\abc\\\\klest')\n",
    "display('c:\\\\Users\\\\klest')\n",
    "display(r'c:\\abc\\klest')\n",
    "display(R'c:\\Users\\klest')\n",
    "display('c:/Users/klest')"
   ]
  },
  {
   "cell_type": "code",
   "execution_count": 6,
   "id": "c407d874",
   "metadata": {
    "ExecuteTime": {
     "end_time": "2023-06-19T11:13:46.585223Z",
     "start_time": "2023-06-19T11:13:46.573256Z"
    }
   },
   "outputs": [
    {
     "data": {
      "text/plain": [
       "'C:\\\\Users\\\\chris\\\\Desktop\\\\서강대학교\\\\8학기'"
      ]
     },
     "metadata": {},
     "output_type": "display_data"
    },
    {
     "data": {
      "text/plain": [
       "'C:\\\\Users\\\\chris\\\\Desktop\\\\서강대학교\\\\8학기\\\\NLP\\\\강의자료'"
      ]
     },
     "metadata": {},
     "output_type": "display_data"
    },
    {
     "data": {
      "text/plain": [
       "'C:\\\\Users\\\\chris\\\\Desktop\\\\서강대학교\\\\8학기\\\\NLP'"
      ]
     },
     "metadata": {},
     "output_type": "display_data"
    }
   ],
   "source": [
    "# 중요!\n",
    "os.chdir('C:/Users/chris/Desktop/서강대학교/8학기') # r없으면 / 이렇게 쓰거나\n",
    "display(os.getcwd())\n",
    "os.chdir(r'C:\\Users\\chris\\Desktop\\서강대학교\\8학기\\NLP\\강의자료') # r있이 \\ 이렇게 쓰거나\n",
    "display(os.getcwd())\n",
    "os.chdir('C:\\\\Users\\\\chris\\\\Desktop\\\\서강대학교\\\\8학기\\\\NLP') # r 없이 \\\\ 이렇게 쓰거나\n",
    "display(os.getcwd())"
   ]
  },
  {
   "cell_type": "markdown",
   "id": "82f5c97d",
   "metadata": {},
   "source": [
    "### 코퍼스 불러오기"
   ]
  },
  {
   "cell_type": "code",
   "execution_count": 7,
   "id": "d0232ae3",
   "metadata": {
    "ExecuteTime": {
     "end_time": "2023-06-19T11:13:49.600896Z",
     "start_time": "2023-06-19T11:13:46.587219Z"
    }
   },
   "outputs": [],
   "source": [
    "import nltk\n",
    "from nltk.corpus import PlaintextCorpusReader"
   ]
  },
  {
   "cell_type": "code",
   "execution_count": 144,
   "id": "defe9bde",
   "metadata": {
    "ExecuteTime": {
     "end_time": "2023-06-20T05:39:22.905580Z",
     "start_time": "2023-06-20T05:39:22.881916Z"
    }
   },
   "outputs": [
    {
     "name": "stdout",
     "output_type": "stream",
     "text": [
      "['hu01.txt', 'hu02.txt', 'hu03.txt', 'hu04.txt', 'na01.txt', 'na02.txt', 'na03.txt', 'na04.txt']\n"
     ]
    }
   ],
   "source": [
    "wordlists = PlaintextCorpusReader(r'.\\02_data','.*')\n",
    "print(wordlists.fileids()) # len 8개"
   ]
  },
  {
   "cell_type": "code",
   "execution_count": 205,
   "id": "5571e4ae",
   "metadata": {
    "ExecuteTime": {
     "end_time": "2023-06-20T07:37:01.213700Z",
     "start_time": "2023-06-20T07:37:01.194752Z"
    }
   },
   "outputs": [
    {
     "data": {
      "text/plain": [
       "[\"So\\nfar\\nthese\\nremarks\\n,\\nlike\\nmost\\ncriticisms\\nof\\nHardy\\n,\\nhave\\ntacitly\\nassumed\\nthat\\nhis\\npoetry\\nis\\nall\\nof\\na\\npiece\\n,\\none\\nsolid\\nmass\\nof\\nverse\\nexpressing\\na\\nsensibility\\nat\\na\\nsingle\\nstage\\nof\\ndevelopment\\n.\\nFor\\ncritics\\n,\\nHardy\\nhas\\nhad\\nno\\npoetic\\nperiods\\n--\\none\\ndoes\\nnot\\nspeak\\nof\\nearly\\nHardy\\nor\\nlate\\nHardy\\n,\\nor\\nof\\nthe\\nLondon\\nor\\nMax\\nGate\\nperiod\\n,\\nbut\\nsimply\\nof\\nHardy\\n,\\nas\\nof\\na\\npoetic\\nmonolith\\n.\\nThis\\nseems\\nodd\\nwhen\\none\\nrecalls\\nthat\\nhe\\nwrote\\npoetry\\nlonger\\nthan\\nany\\nother\\nmajor\\nEnglish\\npoet\\n:\\n``\\nDomicilium\\n''\\nis\\ndated\\n``\\nbetween\\n1857\\nand\\n1860\\n''\\n;\\n;\\n``\\nSeeing\\nThe\\nMoon\\nRise\\n''\\nis\\ndated\\nAugust\\n,\\n1927\\n.\\nOne\\nmight\\nexpect\\nthat\\nin\\na\\npoetic\\ncareer\\nof\\nseventy-odd\\nyears\\n,\\nsome\\nchanges\\nin\\nstyle\\nand\\nmethod\\nwould\\nhave\\noccurred\\n,\\nsome\\ndevelopment\\ntaken\\nplace\\n.\\nThis\\nis\\nnot\\n,\\nhowever\\n,\\nthe\\ncase\\n,\\nand\\ndevelopment\\nis\\na\\nterm\\nwhich\\nwe\\ncan\\napply\\nto\\nHardy\\nonly\\nin\\na\\nvery\\nlimited\\nsense\\n.\\nIn\\na\\ntime\\nwhen\\npoetic\\nstyle\\n,\\nand\\npoetic\\nbelief\\nas\\nwell\\n,\\nseem\\nin\\na\\nstate\\nof\\ncontinual\\nflux\\n,\\nHardy\\nstands\\nout\\nas\\na\\npoet\\nof\\nalmost\\nperverse\\nconsistency\\n.\\nThough\\nhe\\nstruggled\\nwith\\nphilosophy\\nall\\nhis\\nlife\\n,\\nhe\\nnever\\ngot\\nmuch\\nbeyond\\nthe\\npessimism\\nof\\nhis\\ntwenties\\n;\\n;\\nthe\\n``\\nsober\\nopinion\\n''\\nof\\nhis\\nletter\\nto\\nNoyes\\n,\\nwritten\\nwhen\\nHardy\\nwas\\neighty\\nyears\\nold\\n,\\nis\\nessentially\\nthat\\nof\\nhis\\nfirst\\n``\\nphilosophical\\n''\\nnotebook\\nentry\\n,\\nmade\\nwhen\\nhe\\nwas\\ntwenty-five\\n:\\n``\\nThe\\nworld\\ndoes\\nnot\\ndespise\\nus\\n:\\nit\\nonly\\nneglects\\nus\\n''\\n(\\nEarly\\nLife\\n,\\np.\\n63\\n)\\n.\\nAnd\\nthough\\nin\\nhis\\nlater\\nyears\\nhe\\nrevised\\nhis\\npoems\\nmany\\ntimes\\n,\\nthe\\nrevisions\\ndid\\nnot\\nalter\\nthe\\nessential\\nnature\\nof\\nthe\\nstyle\\nwhich\\nhe\\nhad\\nestablished\\nbefore\\nhe\\nwas\\nthirty\\n;\\n;\\nso\\nthat\\n,\\nwhile\\nit\\nusually\\nis\\neasy\\nto\\nrecognize\\na\\npoem\\nby\\nHardy\\n,\\nit\\nis\\ndifficult\\nto\\ndate\\none\\n.\\nThere\\nis\\nonly\\none\\nsense\\nin\\nwhich\\nit\\nis\\nvalid\\nto\\ntalk\\nabout\\nHardy's\\ndevelopment\\n:\\nhe\\ndid\\ndevelop\\ntoward\\na\\nmore\\nconsistent\\nand\\nmore\\neffective\\ncontrol\\nof\\nthat\\ntone\\nwhich\\nwe\\nrecognize\\nas\\nuniquely\\nhis\\n.\\nThere\\nis\\nonly\\none\\nHardy\\nstyle\\n,\\nbut\\nin\\nthe\\nearlier\\npoems\\nthat\\nstyle\\nis\\nonly\\nintermittently\\nevident\\n,\\nand\\nwhen\\nit\\nis\\nnot\\n,\\nthe\\nstyle\\nis\\nthe\\nstyle\\nof\\nanother\\npoet\\n,\\nor\\nof\\nthe\\nfashion\\nof\\nthe\\ntime\\n.\\nIn\\nthe\\nlater\\npoems\\n,\\nhowever\\n,\\nthe\\npersonal\\ntone\\npredominates\\n.\\nThe\\nbad\\nearly\\npoems\\nare\\nbad\\nShakespeare\\nor\\nbad\\nSwinburne\\n;\\n;\\nthe\\nbad\\nlate\\npoems\\nare\\nbad\\nHardy\\n.\\nThere\\nare\\ntwo\\nways\\nof\\ngetting\\nat\\na\\npoet's\\ndevelopment\\n:\\nthrough\\nhis\\ndated\\npoems\\n,\\nand\\nthrough\\nthe\\nrevisions\\nwhich\\nhe\\nmade\\nin\\nlater\\neditions\\nof\\nhis\\nwork\\n.\\nAbout\\na\\nquarter\\nof\\nHardy's\\npoems\\ncarry\\nan\\nappended\\ndate\\nline\\n,\\nusually\\nthe\\nyear\\nof\\ncompletion\\n,\\nbut\\nsometimes\\ninclusive\\nyears\\n(\\n``\\n1908\\n-\\n1910\\n''\\n)\\nor\\ntwo\\nseparate\\ndates\\nwhen\\nHardy\\nworked\\non\\nthe\\npoem\\n(\\n``\\n1905\\nand\\n1926\\n''\\n)\\nor\\nan\\napproximate\\ndate\\n(\\n``\\nDuring\\nthe\\nWar\\n''\\n)\\n.\\nThese\\ndates\\nare\\nvirtually\\nthe\\nonly\\nclues\\nwe\\nhave\\nto\\nthe\\nchronology\\nof\\nthe\\npoems\\n,\\nsince\\nthe\\nseparate\\nvolumes\\nare\\nneither\\nchronological\\nwithin\\nthemselves\\nnor\\nin\\nrelation\\nto\\neach\\nother\\n.\\nWith\\nthe\\nexception\\nof\\nSatires\\nOf\\nCircumstance\\n,\\neach\\nvolume\\ncontains\\ndated\\npoems\\nranging\\nover\\nseveral\\ndecades\\n(\\nWinter\\nWords\\nspans\\nsixty-one\\nyears\\n)\\n;\\n;\\nthe\\ninternal\\norganization\\nrarely\\nhas\\nany\\nchronological\\norder\\n,\\nexcept\\nin\\nobvious\\ngroups\\nlike\\nthe\\n``\\nPoems\\nof\\nPilgrimage\\n''\\n,\\nthe\\n``\\nPoems\\nof\\n1912\\n-\\n13\\n''\\n,\\nand\\nthe\\nwar\\npoems\\n.\\nFrom\\nthe\\ndated\\npoems\\nwe\\ncan\\nventure\\ncertain\\nconclusions\\nabout\\nHardy's\\ncareer\\nin\\npoetry\\n,\\nalways\\nremembering\\nthat\\nconclusions\\nbased\\non\\na\\nfraction\\nof\\nthe\\nwhole\\nmust\\nremain\\ntentative\\n.\\nThe\\ndated\\npoems\\nsuggest\\nthat\\nwhile\\nHardy's\\nconcern\\nwith\\npoetry\\nmay\\nhave\\nbeen\\nconstant\\n,\\nhis\\nproduction\\nwas\\nnot\\n.\\nHe\\nhad\\ntwo\\nproductive\\nperiods\\n,\\none\\nin\\nthe\\nlate\\n1860's\\n,\\nthe\\nother\\nin\\nthe\\ndecade\\nfrom\\n1910\\nto\\n1920\\n(\\nhalf\\nof\\nthe\\ndated\\npoems\\nare\\nfrom\\nthe\\nlatter\\nperiod\\n,\\nand\\nthese\\nalone\\ntotal\\nabout\\none-tenth\\nof\\nall\\nHardy's\\npoems\\n)\\n.\\nThere\\nwas\\none\\nsterile\\nperiod\\n:\\nonly\\none\\npoem\\nis\\ndated\\nbetween\\n1872\\nand\\n1882\\nand\\n,\\nexcept\\nfor\\nthe\\npoems\\nwritten\\non\\nthe\\ntrip\\nto\\nItaly\\nin\\n1887\\n,\\nvery\\nfew\\nfrom\\n1882\\nto\\n1890\\n.\\nThe\\ndated\\npoems\\nalso\\ngive\\nus\\nan\\nidea\\nof\\nthe\\ndegree\\nto\\nwhich\\nHardy\\ndrew\\nupon\\npast\\nproductions\\nfor\\nhis\\nvarious\\nvolumes\\n,\\nand\\ntherefore\\nprobably\\nare\\nan\\nindication\\nof\\nthe\\namount\\nof\\npoetry\\nhe\\nwas\\nwriting\\nat\\nthe\\ntime\\n.\\nPoems\\nOf\\nThe\\nPast\\nAnd\\nThe\\nPresent\\nand\\nTime's\\nLaughing\\nStocks\\n,\\nboth\\npublished\\nwhile\\nHardy\\nwas\\nat\\nwork\\non\\nThe\\nDynasts\\n,\\ndraw\\nheavily\\non\\npoems\\nwritten\\nbefore\\n1900\\n.\\nSatires\\nOf\\nCircumstance\\nand\\nMoments\\nOf\\nVision\\n,\\ncoming\\nduring\\nhis\\nmost\\nproductive\\ndecade\\n,\\nare\\nrelatively\\nself-contained\\n;\\n;\\nthe\\nformer\\ncontains\\nno\\npoem\\ndated\\nbefore\\n1909\\n-\\n10\\n--\\nthat\\nis\\n,\\nno\\npoem\\nfrom\\na\\nperiod\\ncovered\\nby\\na\\nprevious\\nvolume\\n--\\nand\\nthe\\nlatter\\nhas\\nonly\\na\\nfew\\nsuch\\n.\\nThe\\nlast\\nthree\\nvolumes\\nare\\nagain\\nmore\\ndependent\\non\\nthe\\npast\\n,\\nas\\nHardy's\\ncreative\\npowers\\ndeclined\\nin\\nhis\\nold\\nage\\n.\\nThese\\nobservations\\nabout\\nHardy's\\nproductivity\\ntally\\nwith\\nthe\\ndetails\\nof\\nhis\\nlife\\nas\\nwe\\nknow\\nthem\\n.\\nThe\\nfirst\\nproductive\\nperiod\\ncame\\nwhen\\nhe\\nwas\\nconsidering\\npoetry\\nas\\na\\nvocation\\n,\\nbefore\\nhe\\nhad\\ndecided\\nto\\nwrite\\nfiction\\nfor\\na\\nliving\\n(\\nin\\nhis\\nnote\\nfor\\nWho's\\nWho\\nhe\\nwrote\\nthat\\nhe\\n``\\nwrote\\nverses\\n1865\\n-\\n1868\\n;\\n;\\ngave\\nup\\nverse\\nfor\\nprose\\n,\\n1868\\n-\\n70\\n;\\n;\\nbut\\nresumed\\nit\\nlater\\n''\\n)\\n.\\nDuring\\nthe\\npoetically\\nsterile\\nyears\\nhe\\nwas\\nwriting\\nnovels\\nat\\nthe\\nrate\\nof\\nalmost\\none\\na\\nyear\\nand\\nwas\\n,\\nin\\naddition\\n,\\nburdened\\nwith\\nbad\\nhealth\\n(\\nhe\\nspent\\nsix\\nmonths\\nin\\nbed\\nin\\n1881\\n,\\ntoo\\nill\\nto\\ndo\\nmore\\nthan\\nwork\\nslowly\\nand\\npainfully\\nat\\nA\\nLaodicean\\n)\\n.\\nTwo\\nentries\\nin\\nThe\\nEarly\\nLife\\nsupport\\nthe\\nassumption\\nthat\\nduring\\nthis\\nperiod\\nHardy\\nhad\\nvirtually\\nsuspended\\nthe\\nwriting\\nof\\npoetry\\n.\\nMrs.\\nHardy\\nrecords\\nthat\\n``\\nat\\nthe\\nend\\nof\\nNovember\\n(\\n1881\\n)\\nhe\\nmakes\\na\\nnote\\nof\\nan\\nintention\\nto\\nresume\\npoetry\\nas\\nsoon\\nas\\npossible\\n''\\n(\\nEarly\\nLife\\n,\\np.\\n188\\n)\\n;\\n;\\nand\\non\\nChristmas\\nDay\\n,\\n1890\\n,\\nHardy\\nwrote\\n:\\n``\\nWhile\\nthinking\\nof\\nresuming\\n'\\nthe\\nviewless\\nWings\\nOf\\nPoesy\\nbefore\\ndawn\\nthis\\nmorning\\n,\\nnew\\nhorizons\\nseemed\\nto\\nopen\\n,\\nand\\nworrying\\npettinesses\\nto\\ndisappear\\n''\\n(\\nEarly\\nLife\\n,\\np.\\n302\\n)\\n.\\nThere\\nare\\nmore\\npoems\\ndated\\nin\\nthe\\n1890's\\nthan\\nin\\nthe\\n'80's\\n--\\nHardy\\nhad\\napparently\\nresumed\\nthe\\nviewless\\nwings\\nas\\nhe\\ndecreased\\nthe\\nvolume\\nof\\nhis\\nfiction\\n--\\nbut\\nnone\\nin\\n1891\\n,\\nthe\\nyear\\nof\\nTess\\n,\\nand\\nonly\\none\\nin\\n1895\\n,\\nthe\\nyear\\nof\\nJude\\n.\\nAfter\\n1895\\nthe\\nnumber\\nincreases\\n,\\nand\\nin\\nthe\\nnext\\nthirty\\nyears\\nthere\\nis\\nonly\\none\\nyear\\nfor\\nwhich\\nthere\\nis\\nno\\ndated\\npoem\\n--\\n1903\\n,\\nwhen\\nHardy\\nwas\\nat\\nwork\\non\\nThe\\nDynasts\\n.\\nThe\\nsecond\\nproductive\\nperiod\\n,\\nthe\\ndecade\\nfrom\\n1910\\nto\\n1920\\n,\\ncan\\nbe\\nrelated\\nto\\nthree\\nevents\\n:\\nthe\\ncompletion\\nof\\nThe\\nDynasts\\nin\\n1909\\n,\\nwhich\\nleft\\nHardy\\nfree\\nof\\npressure\\nfor\\nthe\\nfirst\\ntime\\nin\\nforty\\nyears\\n;\\n;\\nthe\\ndeath\\nof\\nEmma\\nHardy\\nin\\n1912\\n,\\nwhich\\nhad\\na\\nprofound\\nemotional\\neffect\\non\\nHardy\\nfor\\nwhich\\nhe\\nfound\\nrelease\\nin\\npoetry\\n;\\n;\\nand\\nthe\\nFirst\\nWorld\\nWar\\n.\\nIt\\nmay\\nseem\\nstrange\\nthat\\na\\npoet\\nshould\\ncome\\nto\\nfull\\nfruition\\nin\\nhis\\nseventies\\n,\\nbut\\nwe\\nhave\\nit\\non\\nHardy's\\nown\\nauthority\\nthat\\n``\\nhe\\nwas\\na\\nchild\\ntill\\nhe\\nwas\\nsixteen\\n,\\na\\nyouth\\ntill\\nhe\\nwas\\nfive-and-twenty\\n,\\nand\\na\\nyoung\\nman\\ntill\\nhe\\nwas\\nnearly\\nfifty\\n''\\n(\\nEarly\\nLife\\n,\\np.\\n42\\n)\\n.\\nWe\\nmay\\ncarry\\nthis\\nsequence\\none\\nstep\\nfurther\\nand\\nsay\\nthat\\nat\\nseventy\\nhe\\nwas\\na\\npoet\\nat\\nthe\\nheight\\nof\\nhis\\npowers\\n,\\nwanting\\nonly\\nthe\\nimpetus\\nof\\ntwo\\ntragedies\\n,\\none\\npersonal\\n,\\nthe\\nother\\nnational\\n,\\nto\\nloose\\nthose\\npowers\\nin\\npoetry\\n.\\nHardy's\\ntwo\\nproductive\\ndecades\\nwere\\nseparated\\nby\\nforty\\nyears\\n,\\nyet\\nbetween\\nthem\\nhe\\ndeveloped\\nonly\\nin\\nthat\\nhe\\nbecame\\nmore\\nsteadily\\nhimself\\n--\\nit\\nwas\\na\\nnarrowing\\n,\\nnot\\nan\\nexpanding\\nprocess\\n.\\nLike\\na\\nwise\\ngardener\\n,\\nHardy\\npruned\\naway\\nthe\\nShakespearian\\nsonnets\\nand\\nsongs\\n,\\nand\\nthe\\nelements\\nof\\nmeter\\nand\\npoetic\\ndiction\\nto\\nwhich\\nhis\\npersonal\\nstyle\\nwas\\nnot\\nsuited\\n,\\nand\\nlet\\nthe\\nmain\\nstock\\nof\\nhis\\ntalent\\nflourish\\n.\\nThe\\nrange\\nof\\nthe\\nlater\\npoetry\\nis\\nconsiderably\\nnarrower\\n,\\nbut\\nthe\\nnumber\\nof\\nsuccessful\\npoems\\nis\\nfar\\ngreater\\n.\\nWe\\ncan\\nsee\\nthe\\ngeneral\\ncharacteristics\\nof\\nthe\\nearlier\\ndecade\\nif\\nwe\\nlook\\nat\\ntwo\\npoems\\nof\\nvery\\ndifferent\\nqualities\\n:\\n``\\nRevulsion\\n''\\n(\\n1866\\n)\\nand\\n``\\nNeutral\\nTones\\n''\\n(\\n1867\\n)\\n.\\nThere\\nis\\nnot\\nmuch\\nto\\nbe\\nsaid\\nfor\\n``\\nRevulsion\\n''\\n.\\nLike\\nabout\\nhalf\\nof\\nthe\\n1860\\n-\\n70\\npoems\\n,\\nit\\nis\\na\\nsonnet\\non\\na\\nconventional\\ntheme\\n--\\nthe\\nunhappiness\\nof\\nlove\\n.\\nAlmost\\nanyone\\ncould\\nhave\\nwritten\\nit\\n;\\n;\\nit\\nis\\ncompetent\\nin\\nthe\\nsense\\nthat\\nit\\nmakes\\na\\ncoherent\\nstatement\\nwithout\\nviolating\\nthe\\nrules\\nof\\nthe\\nsonnet\\nform\\n,\\nbut\\nit\\nis\\nentirely\\nundistinguished\\nand\\nentirely\\nunlike\\nHardy\\n.\\nThe\\nlanguage\\nis\\nthe\\nconventional\\nlanguage\\nof\\nthe\\nform\\n;\\n;\\nthere\\nis\\nno\\nphrase\\nor\\nimage\\nthat\\nsounds\\nlike\\nHardy\\nor\\nthat\\nis\\nstriking\\nenough\\nto\\ngive\\nindividuality\\nto\\nthe\\npoem\\n.\\nIt\\nis\\nsmoother\\nthan\\nHardy\\nusually\\nis\\n,\\nbut\\nwith\\nthe\\nsmoothness\\nof\\nanonymity\\n.\\nIt\\nis\\nobviously\\na\\nyoung\\nman's\\npoem\\n,\\nwritten\\nout\\nof\\nbooks\\nand\\nnot\\nout\\nof\\nexperience\\n;\\n;\\nit\\nasserts\\nemotion\\nwithout\\nevoking\\nit\\n--\\nthat\\nis\\nto\\nsay\\n,\\nit\\nis\\nsentimental\\n.\\nThere\\nare\\nmany\\nsuch\\ncompetently\\nanonymous\\nperformances\\namong\\nthe\\nearlier\\npoems\\n.\\n``\\nNeutral\\nTones\\n''\\nwe\\nimmediately\\nrecognize\\nas\\na\\nfine\\npoem\\nin\\nHardy's\\nmost\\ncharacteristic\\nstyle\\n:\\nthe\\nplain\\nbut\\nnot\\nquite\\ncolloquial\\nlanguage\\n,\\nthe\\nhard\\n,\\nparticular\\n,\\ncolorless\\nimages\\n,\\nthe\\nslightly\\nodd\\nstanza-form\\n,\\nthe\\ndramatic\\nhandling\\nof\\nthe\\noccasion\\n,\\nthe\\nrefusal\\nto\\nresolve\\nthe\\nissue\\n--\\nall\\nthese\\nwe\\nhave\\nseen\\nin\\nHardy's\\nbest\\npoems\\n.\\nThe\\npoem\\ndoes\\nnot\\ndistort\\nthe\\nsyntax\\nof\\nordinary\\nspeech\\nnor\\ndraw\\non\\nexotic\\nsources\\nof\\ndiction\\n,\\nyet\\nit\\nis\\nobviously\\nnot\\nordinary\\nspeech\\n--\\nonly\\nHardy\\nwould\\nsay\\n``\\na\\ngrin\\nof\\nbitterness\\nswept\\nthereby\\n;\\n;\\nlike\\nan\\nominous\\nbird\\na-wing\\n''\\n,\\nor\\n``\\nwrings\\nwith\\nwrong\\n''\\n,\\nor\\nwould\\ndescribe\\na\\nwinter\\nsun\\nas\\n``\\nGod-curst\\n''\\n.\\nThe\\ndetails\\nof\\nthe\\nsetting\\nof\\n``\\nNeutral\\nTones\\n''\\nare\\nnot\\n,\\nstrictly\\nspeaking\\n,\\nmetaphorical\\n,\\nbut\\nthey\\ncombine\\nto\\ncreate\\na\\nmood\\nwhich\\nis\\nappropriate\\nboth\\nto\\na\\ndismal\\nwinter\\nday\\nand\\nto\\nthe\\nend\\nof\\nlove\\n,\\nand\\nin\\nthis\\nway\\nlove\\nand\\nweather\\n,\\nthe\\nemotions\\nand\\nthe\\nelements\\n,\\nsymbolize\\neach\\nother\\nin\\na\\nway\\nthat\\nis\\ncommon\\nto\\nmany\\nof\\nHardy's\\nbest\\npoems\\n(\\n``\\nWeathers\\n''\\n,\\n``\\nThe\\nDarkling\\nThrush\\n''\\n,\\nand\\n``\\nDuring\\nWind\\nand\\nRain\\n''\\n,\\nfor\\nexample\\n)\\nand\\nto\\nsome\\nmoving\\npassages\\nin\\nthe\\nnovels\\nas\\nwell\\n(\\nFar\\nFrom\\nThe\\nMadding\\nCrowd\\nis\\nfull\\nof\\nscenes\\nconstructed\\nin\\nthis\\nway\\n)\\n.\\n``\\nNeutral\\nTones\\n''\\nis\\nan\\nexcellent\\nexample\\nof\\nHardy's\\nmature\\nstyle\\n,\\ndrawn\\nfrom\\nhis\\nearliest\\nproductive\\nperiod\\n;\\n;\\nI\\ncite\\nit\\nas\\nevidence\\nthat\\nhe\\ndid\\nnot\\ndevelop\\nthrough\\nnew\\nstyles\\nas\\nhe\\ngrew\\nolder\\n(\\nas\\nYeats\\ndid\\n)\\n,\\nbut\\nthat\\nhe\\nsimply\\nlearned\\nto\\nuse\\nbetter\\nwhat\\nhe\\nalready\\nhad\\n.\\nIn\\nthe\\npoem\\nwe\\nrecognize\\nand\\nacknowledge\\none\\nman's\\nsense\\nof\\nthe\\nworld\\n;\\n;\\nif\\nit\\nis\\nsomber\\n,\\nit\\nis\\nalso\\nprecise\\n,\\nand\\nthe\\nprecision\\nlends\\nauthority\\nto\\nthe\\nvision\\n.\\nIn\\n``\\nRevulsion\\n''\\n,\\non\\nthe\\nother\\nhand\\n,\\nthe\\npessimism\\nis\\na\\ncase\\nnot\\nproven\\n;\\n;\\nthe\\npoem\\noffers\\nnothing\\nto\\npersuade\\nus\\nof\\nthe\\nspeaker's\\nright\\nto\\nspeak\\nas\\nhe\\ndoes\\n.\\nIn\\nthe\\n1860\\n-\\n70\\ndecade\\nthere\\nare\\nmany\\npoems\\nlike\\n``\\nRevulsion\\n''\\n,\\nbut\\nthere\\nis\\nonly\\none\\n``\\nNeutral\\nTones\\n''\\n.\\nHardy\\nwas\\nnot\\nHardy\\nvery\\noften\\n.\\nThe\\n``\\nPoems\\nof\\n1912\\n-\\n13\\n''\\noffer\\na\\ngood\\nexample\\nof\\nHardy's\\nstyle\\nas\\nit\\nwas\\nmanifested\\nin\\nthe\\nlater\\nproductive\\ndecade\\n.\\nThese\\nare\\nthe\\npoems\\nHardy\\nwrote\\nafter\\nthe\\ndeath\\nof\\nhis\\nfirst\\nwife\\n;\\n;\\nthey\\ncompose\\na\\npainful\\nelegy\\nto\\nwhat\\nmight\\nhave\\nbeen\\n,\\nto\\na\\nmarriage\\nthat\\nbegan\\nwith\\na\\npromise\\nof\\nhappiness\\n,\\nand\\nended\\nin\\nlong\\nyears\\nof\\nsuffering\\nand\\nhatred\\n.\\nHardy\\nobviously\\nfelt\\nthat\\nthese\\npoems\\nwere\\npeculiarly\\npersonal\\nand\\nprivate\\n;\\n;\\nhe\\nsometimes\\ncalled\\nthem\\n``\\nan\\nexpiation\\n''\\n,\\nand\\nhe\\nwould\\nnot\\nallow\\nthem\\nto\\nbe\\npublished\\nin\\nperiodicals\\n.\\nThey\\nare\\nthe\\nonly\\npoems\\nthat\\nhe\\nrearranged\\nas\\na\\ngroup\\nbetween\\ntheir\\nfirst\\nappearance\\n(\\nin\\nSatires\\nOf\\nCircumstance\\n)\\nand\\nthe\\npublication\\nof\\nthe\\nCollected\\nPoems\\n.\\nThe\\nelegiac\\ntone\\nis\\nHardy's\\nnatural\\ntone\\nof\\nvoice\\n,\\nand\\nit\\nis\\nnot\\nsurprising\\nthat\\nthe\\n1912\\n-\\n13\\npoems\\nare\\nconsistently\\nand\\nunmistakably\\nhis\\n.\\nThe\\nview\\nis\\nalways\\ntoward\\nthe\\npast\\n;\\n;\\nbut\\nthe\\nmood\\nis\\nnot\\nquite\\nnostalgic\\n--\\nHardy\\nwould\\nnot\\nallow\\nsentiment\\nto\\nsoften\\nhis\\nsense\\nof\\nthe\\nirredeemable\\npastness\\nof\\nthe\\npast\\n,\\nand\\nthe\\neternal\\ndeadness\\nof\\nthe\\ndead\\n.\\nThe\\npoems\\nare\\n,\\nthe\\nepigraph\\ntells\\nus\\n,\\nthe\\n``\\ntraces\\nof\\nan\\nancient\\nflame\\n''\\n;\\n;\\nthe\\nfire\\nof\\nlove\\nis\\ndead\\n,\\nand\\nHardy\\nstands\\n,\\nas\\nthe\\nspeaker\\ndoes\\nin\\nthe\\nlast\\npoem\\nof\\nthe\\nsequence\\n,\\nover\\nthe\\nburnt\\ncircle\\nof\\ncharred\\nsticks\\n,\\nand\\nthinks\\nof\\npast\\nhappiness\\nand\\npresent\\ngrief\\n,\\nhonest\\nand\\nuncomforted\\n.\\n\",\n",
       " \"Critically\\ninvisible\\n,\\nmodern\\nrevolt\\n,\\nlike\\nX-rays\\nand\\nradioactivity\\n,\\nis\\nperceived\\nonly\\nby\\nits\\neffects\\nat\\nmore\\nmaterialistic\\nsocial\\nlevels\\n,\\nwhere\\nit\\nis\\ncalled\\ndelinquency\\n.\\n``\\nDisaffiliation\\n''\\n,\\nby\\nthe\\nway\\n,\\nis\\nthe\\nterm\\nused\\nby\\nthe\\ncritic\\nand\\npoet\\n,\\nLawrence\\nLipton\\n,\\nwho\\nhas\\nwritten\\nseveral\\narticles\\non\\nthis\\nsubject\\n,\\nthe\\nfirst\\nof\\nwhich\\n,\\nin\\nThe\\nNation\\n,\\nquoted\\nas\\nEpigraph\\n:\\n``\\nWe\\ndisaffiliate\\n.\\n''\\n--\\nJohn\\nL.\\nLewis\\n.\\nLike\\nthe\\npillars\\nof\\nHercules\\n,\\nlike\\ntwo\\nruined\\nTitans\\nguarding\\nthe\\nentrance\\nto\\none\\nof\\nDante's\\ncircles\\n,\\nstand\\ntwo\\ngreat\\ndead\\njuvenile\\ndelinquents\\n--\\nthe\\nheroes\\nof\\nthe\\npost-war\\ngeneration\\n:\\nthe\\ngreat\\nsaxophonist\\n,\\nCharlie\\nParker\\n,\\nand\\nDylan\\nThomas\\n.\\nIf\\nthe\\nword\\ndeliberate\\nmeans\\nanything\\n,\\nboth\\nof\\nthem\\ncertainly\\ndeliberately\\ndestroyed\\nthemselves\\n.\\nBoth\\nof\\nthem\\nwere\\novercome\\nby\\nthe\\nhorror\\nof\\nthe\\nworld\\nin\\nwhich\\nthey\\nfound\\nthemselves\\n,\\nbecause\\nat\\nlast\\nthey\\ncould\\nno\\nlonger\\novercome\\nthat\\nworld\\nwith\\nthe\\nweapon\\nof\\na\\npurely\\nlyrical\\nart\\n.\\nBoth\\nof\\nthem\\nwere\\nmy\\nfriends\\n.\\nLiving\\nin\\nSan\\nFrancisco\\nI\\nsaw\\nthem\\nseldom\\nenough\\nto\\nsee\\nthem\\nwith\\na\\nperspective\\nwhich\\nwas\\nnot\\ndistorted\\nby\\nexasperation\\nor\\nfatigue\\n.\\nSo\\nas\\nthe\\nyears\\npassed\\n,\\nI\\nsaw\\nthem\\neach\\ntime\\nin\\nthe\\nlight\\nof\\nan\\naccelerated\\npersonal\\nconflagration\\n.\\nThe\\nlast\\ntime\\nI\\nsaw\\nBird\\n,\\nat\\nJimbo's\\nBob\\nCity\\n,\\nhe\\nwas\\nso\\ngone\\n--\\nso\\nblind\\nto\\nthe\\nworld\\n--\\nthat\\nhe\\nliterally\\nsat\\ndown\\non\\nme\\nbefore\\nhe\\nrealized\\nI\\nwas\\nthere\\n.\\n``\\nWhat\\nhappened\\n,\\nman\\n''\\n?\\n?\\nI\\nsaid\\n,\\nreferring\\nto\\nthe\\npretentious\\n``\\nJazz\\nConcert\\n''\\n.\\n``\\nEvil\\n,\\nman\\n,\\nevil\\n''\\n,\\nhe\\nsaid\\n,\\nand\\nthat's\\nall\\nhe\\nsaid\\nfor\\nthe\\nrest\\nof\\nthe\\nnight\\n.\\nAbout\\ndawn\\nhe\\ngot\\nup\\nto\\nblow\\n.\\nThe\\nrowdy\\ncrowd\\nchilled\\ninto\\nstillness\\nand\\nthe\\nfluent\\nmelody\\nspiraled\\nthrough\\nit\\n.\\nThe\\nlast\\ntime\\nI\\nsaw\\nDylan\\n,\\nhis\\nself-destruction\\nhad\\nnot\\njust\\npassed\\nthe\\nlimits\\nof\\nrationality\\n.\\nIt\\nhad\\nassumed\\nthe\\nterrifying\\ninertia\\nof\\ninanimate\\nmatter\\n.\\nBeing\\nwith\\nhim\\nwas\\nlike\\nbeing\\nswept\\naway\\nby\\na\\ntorrent\\nof\\nfalling\\nstones\\n.\\nNow\\nDylan\\nThomas\\nand\\nCharlie\\nParker\\nhave\\na\\ngreat\\ndeal\\nmore\\nin\\ncommon\\nthan\\nthe\\nsame\\ndisastrous\\nend\\n.\\nAs\\nartists\\n,\\nthey\\nwere\\nvery\\nsimilar\\n.\\nThey\\nwere\\nboth\\nvery\\nfluent\\n.\\nBut\\nthis\\nfluent\\n,\\nenchanting\\nutterance\\nhad\\n,\\ncompared\\nwith\\nimportant\\nartists\\nof\\nthe\\npast\\n,\\nrelatively\\nlittle\\ncontent\\n.\\nNeither\\nof\\nthem\\ngot\\nvery\\nfar\\nbeyond\\na\\nsort\\nof\\nentranced\\nrapture\\nat\\nhis\\nown\\ncreativity\\n.\\nThe\\nprincipal\\ntheme\\nof\\nThomas's\\npoetry\\nwas\\nthe\\nambivalence\\nof\\nbirth\\nand\\ndeath\\n--\\nthe\\npain\\nof\\nblood-stained\\ncreation\\n.\\nMusic\\n,\\nof\\ncourse\\n,\\nis\\nnot\\nso\\nexplicit\\nan\\nart\\n,\\nbut\\nanybody\\nwho\\nknew\\nCharlie\\nParker\\nknows\\nthat\\nhe\\nfelt\\nmuch\\nthe\\nsame\\nway\\nabout\\nhis\\nown\\ngift\\n.\\nBoth\\nof\\nthem\\ndid\\ncommunicate\\none\\ncentral\\ntheme\\n:\\nAgainst\\nthe\\nruin\\nof\\nthe\\nworld\\n,\\nthere\\nis\\nonly\\none\\ndefense\\n--\\nthe\\ncreative\\nact\\n.\\nThis\\n,\\nof\\ncourse\\n,\\nis\\nthe\\ntheme\\nof\\nmuch\\nart\\n--\\nperhaps\\nmost\\npoetry\\n.\\nIt\\nis\\nthe\\ntheme\\nof\\nHorace\\n,\\nwho\\ncertainly\\notherwise\\nbears\\nlittle\\nresemblance\\nto\\nParker\\nor\\nThomas\\n.\\nThe\\ndifference\\nis\\nthat\\nHorace\\naccepted\\nhis\\ntheme\\nwith\\na\\nkind\\nof\\nsilken\\nassurance\\n.\\nTo\\nDylan\\nand\\nBird\\nit\\nwas\\nan\\nagony\\nand\\nterror\\n.\\nI\\ndo\\nnot\\nbelieve\\nthat\\nthis\\nis\\ndue\\nto\\nanything\\nespecially\\nfrightful\\nabout\\ntheir\\nrelationship\\nto\\ntheir\\nown\\ncreativity\\n.\\nI\\nbelieve\\nrather\\nthat\\nit\\nis\\ndue\\nto\\nthe\\ncatastrophic\\nworld\\nin\\nwhich\\nthat\\ncreativity\\nseemed\\nto\\nbe\\nthe\\nsole\\nvalue\\n.\\nHorace's\\ncolumn\\nof\\nimperishable\\nverse\\nshines\\nquietly\\nenough\\nin\\nthe\\nlucid\\nair\\nof\\nAugustan\\nRome\\n.\\nArt\\nmay\\nhave\\nbeen\\nfor\\nhim\\nthe\\nmost\\nenduring\\n,\\norderly\\n,\\nand\\nnoble\\nactivity\\nof\\nman\\n.\\nBut\\nthe\\nother\\nactivities\\nof\\nhis\\nlife\\npartook\\nof\\nthese\\nvalues\\n.\\nThey\\ndid\\nnot\\nactively\\nnegate\\nthem\\n.\\nDylan\\nThomas's\\nverse\\nhad\\nto\\nfind\\nendurance\\nin\\na\\nworld\\nof\\nburning\\ncities\\nand\\nburning\\nJews\\n.\\nHe\\nwas\\nable\\nto\\nfind\\nmeaning\\nin\\nhis\\nart\\nas\\nlong\\nas\\nit\\nwas\\nthe\\nanswer\\nto\\nair\\nraids\\nand\\ngas\\novens\\n.\\nAs\\nthe\\nworld\\nbegan\\nto\\ntake\\non\\nthe\\nguise\\nof\\nan\\nimmense\\nair\\nraid\\nor\\ngas\\noven\\n,\\nI\\nbelieve\\nhis\\nart\\nbecame\\nmeaningless\\nto\\nhim\\n.\\nI\\nthink\\nall\\nthis\\ncould\\napply\\nto\\nParker\\njust\\nas\\nwell\\n,\\nalthough\\n,\\nbecause\\nof\\nthe\\nnature\\nof\\nmusic\\n,\\nit\\nis\\nnot\\ndemonstrable\\n--\\nat\\nleast\\nnot\\nconclusively\\n.\\nThomas\\nand\\nParker\\nhave\\nmore\\nin\\ncommon\\nthan\\ntheme\\n,\\nattitude\\n,\\nlife\\npattern\\n.\\nIn\\nthe\\npractice\\nof\\ntheir\\nart\\n,\\nthere\\nis\\nan\\nobvious\\ntechnical\\nresemblance\\n.\\nContrary\\nto\\npopular\\nbelief\\n,\\nthey\\nwere\\nnot\\ngreat\\ntechnical\\ninnovators\\n.\\nTheir\\neffects\\nare\\nonly\\nsuperficially\\nstartling\\n.\\nThomas\\nis\\na\\nregression\\nfrom\\nthe\\ntechnical\\noriginality\\nand\\ningenuity\\nof\\nwriters\\nlike\\nPierre\\nReverdy\\nor\\nApollinaire\\n.\\nSimilarly\\n,\\nthe\\ninnovations\\nof\\nbop\\n,\\nand\\nof\\nParker\\nparticularly\\n,\\nhave\\nbeen\\nvastly\\noverrated\\nby\\npeople\\nunfamiliar\\nwith\\nmusic\\n,\\nespecially\\nby\\nthat\\nignoramus\\n,\\nthe\\nintellectual\\njitterbug\\n,\\nthe\\njazz\\naficionado\\n.\\nThe\\ntonal\\nnovelties\\nconsist\\nin\\nthe\\nintroduction\\nof\\na\\nfew\\nchords\\nused\\nin\\nclassical\\nmusic\\nfor\\ncenturies\\n.\\nAnd\\nthere\\nis\\nless\\nrhythmic\\ndifference\\nbetween\\nprogressive\\njazz\\n,\\nno\\nmatter\\nhow\\nprogressive\\n,\\nand\\nDixieland\\n,\\nthan\\nthere\\nis\\nbetween\\ntwo\\nmovements\\nof\\nmany\\nconventional\\nsymphonies\\n.\\nWhat\\nParker\\nand\\nhis\\ncontemporaries\\n--\\nGillespie\\n,\\nDavis\\n,\\nMonk\\n,\\nRoach\\n(\\nTristano\\nis\\nan\\nanomaly\\n)\\n,\\netc.\\n--\\ndid\\nwas\\nto\\nabsorb\\nthe\\nmusical\\nornamentation\\nof\\nthe\\nolder\\njazz\\ninto\\nthe\\nbasic\\nstructure\\n,\\nof\\nwhich\\nit\\nthen\\nbecame\\nan\\nintegral\\npart\\n,\\nand\\nwith\\nwhich\\nit\\nthen\\ndeveloped\\n.\\nThis\\nis\\ntrue\\nof\\nthe\\nmelodic\\nline\\nwhich\\ncould\\nbe\\nput\\ntogether\\nfrom\\nselected\\npassages\\nof\\nalmost\\nanybody\\n--\\nBenny\\nCarter\\n,\\nJohnny\\nHodges\\n.\\nIt\\nis\\ntrue\\nof\\nthe\\nrhythmic\\npattern\\nin\\nwhich\\nthe\\nbeat\\nshifts\\ncontinuously\\n,\\nor\\nat\\nleast\\nis\\ncontinuously\\nsprung\\n,\\nso\\nthat\\nit\\nbecomes\\nambiguous\\nenough\\nto\\nallow\\nthe\\npattern\\nto\\nbe\\ndominated\\nby\\nthe\\nlong\\npulsations\\nof\\nthe\\nphrase\\nor\\nstrophe\\n.\\nThis\\nis\\nexactly\\nwhat\\nhappened\\nin\\nthe\\ntransition\\nfrom\\nbaroque\\nto\\nrococo\\nmusic\\n.\\nIt\\nis\\nthe\\ndifference\\nbetween\\nBach\\nand\\nMozart\\n.\\nIt\\nis\\nnot\\na\\nfarfetched\\nanalogy\\nto\\nsay\\nthat\\nthis\\nis\\nwhat\\nThomas\\ndid\\nto\\npoetry\\n.\\nThe\\nspecial\\nsyntactical\\neffects\\nof\\na\\nRimbaud\\nor\\nan\\nEdith\\nSitwell\\n--\\nactually\\nornaments\\n--\\nbecome\\nthe\\nmain\\nconcern\\n.\\nThe\\nmetaphysical\\nconceits\\n,\\nwhich\\nfascinate\\nthe\\nReactionary\\nGeneration\\nstill\\ndominant\\nin\\nbackwater\\nAmerican\\ncolleges\\n,\\nwere\\nembroideries\\n.\\nThomas's\\nellipses\\nand\\nambiguities\\nare\\nends\\nin\\nthemselves\\n.\\nThe\\nimmediate\\ntheme\\n,\\nif\\nit\\nexists\\n,\\nis\\nincidental\\n,\\nand\\nhis\\nmain\\ntheme\\n--\\nthe\\nterror\\nof\\nbirth\\n--\\nis\\nsimply\\nreiterated\\n.\\nThis\\nis\\none\\ndifference\\nbetween\\nBird\\nand\\nDylan\\nwhich\\nshould\\nbe\\npointed\\nout\\n.\\nAgain\\n,\\ncontrary\\nto\\npopular\\nbelief\\n,\\nthere\\nis\\nnothing\\ncrazy\\nor\\nfrantic\\nabout\\nParker\\neither\\nmusically\\nor\\nemotionally\\n.\\nHis\\nsinuous\\nmelody\\nis\\na\\nsort\\nof\\nnaive\\ntranscendence\\nof\\nall\\nexperience\\n.\\nEmotionally\\nit\\ndoes\\nnot\\nresemble\\nBerlioz\\nor\\nWagner\\n;\\n;\\nit\\nresembles\\nMozart\\n.\\nThis\\nis\\ntrue\\nalso\\nof\\na\\npainter\\nlike\\nJackson\\nPollock\\n.\\nHe\\nmay\\nhave\\nbeen\\neccentric\\nin\\nhis\\nbehavior\\n,\\nbut\\nhis\\npaintings\\nare\\nas\\nimpassive\\nas\\nPersian\\ntiles\\n.\\nPartly\\nthis\\ndifference\\nis\\ndue\\nto\\nthe\\nnature\\nof\\nverbal\\ncommunication\\n.\\nThe\\ninsistent\\ntalk-aboutiveness\\nof\\nthe\\ngeneral\\nenvironment\\nobtrudes\\ninto\\neven\\nthe\\nmost\\nidyllic\\npoetry\\n.\\nIt\\nis\\nmuch\\nmore\\na\\npersonal\\ndifference\\n.\\nThomas\\ncertainly\\nwanted\\nto\\ntell\\npeople\\nabout\\nthe\\nruin\\nand\\ndisorder\\nof\\nthe\\nworld\\n.\\nParker\\nand\\nPollock\\nwanted\\nto\\nsubstitute\\na\\nwork\\nof\\nart\\nfor\\nthe\\nworld\\n.\\nTechnique\\npure\\nand\\nsimple\\n,\\nrendition\\n,\\nis\\nnot\\nof\\nmajor\\nimportance\\n,\\nbut\\nit\\nis\\ninteresting\\nthat\\nParker\\n,\\nfollowing\\nLester\\nYoung\\n,\\nwas\\none\\nof\\nthe\\nleaders\\nof\\nthe\\nso-called\\nsaxophone\\nrevolution\\n.\\nIn\\nmodern\\njazz\\n,\\nthe\\nsaxophone\\nis\\ntreated\\nas\\na\\nwoodwind\\nand\\nplayed\\nwith\\nconventional\\nembouchure\\n.\\nMetrically\\n,\\nThomas's\\nverse\\nwas\\nextremely\\nconventional\\n,\\nas\\nwas\\n,\\nincidentally\\n,\\nthe\\nverse\\nof\\nthat\\nother\\ntragic\\nenrage\\n,\\nHart\\nCrane\\n.\\nI\\nwant\\nto\\nmake\\nclear\\nwhat\\nI\\nconsider\\nthe\\none\\ntechnical\\ndevelopment\\nin\\nthe\\nfirst\\nwave\\nof\\nsignificant\\npost-war\\narts\\n.\\nOrnament\\nis\\nconfabulation\\nin\\nthe\\ninterstices\\nof\\nstructure\\n.\\nA\\npoem\\nby\\nDylan\\nThomas\\n,\\na\\nsaxophone\\nsolo\\nby\\nCharles\\nParker\\n,\\na\\npainting\\nby\\nJackson\\nPollock\\n--\\nthese\\nare\\npure\\nconfabulations\\nas\\nends\\nin\\nthemselves\\n.\\nConfabulation\\nhas\\ncome\\nto\\ndetermine\\nstructure\\n.\\nUninhibited\\nlyricism\\nshould\\nbe\\ndistinguished\\nfrom\\nits\\nexact\\nopposite\\n--\\nthe\\nsterile\\n,\\nextraneous\\ninvention\\nof\\nthe\\ncorn-belt\\nmetaphysicals\\n,\\nor\\npresent\\nblight\\nof\\npoetic\\nprofessors\\n.\\nJust\\nas\\nHart\\nCrane\\nhad\\nlittle\\ninfluence\\non\\nanyone\\nexcept\\nvery\\nreactionary\\nwriters\\n--\\nlike\\nAllen\\nTate\\n,\\nfor\\ninstance\\n,\\nto\\nwhom\\nValery\\nwas\\nthe\\nlast\\nword\\nin\\nmodern\\npoetry\\nand\\nthe\\nfelicities\\nof\\nan\\nApollinaire\\n,\\nlet\\nalone\\na\\nPaul\\nEluard\\nwere\\nnonsense\\n--\\nso\\nDylan\\nThomas's\\ninfluence\\nhas\\nbeen\\nslight\\nindeed\\n.\\nIn\\nfact\\n,\\nhis\\nonly\\ndisciple\\n--\\nthe\\nonly\\nperson\\nto\\nimitate\\nhis\\nstyle\\n--\\nwas\\nW.\\nS.\\nGraham\\n,\\nwho\\nseems\\nto\\nhave\\nimitated\\nhim\\nwithout\\nmuch\\nunderstanding\\n,\\nand\\nwho\\nhas\\nsince\\nmoved\\non\\nto\\nother\\nmethods\\n.\\nThomas's\\nprincipal\\ninfluence\\nlay\\nin\\nthe\\ncommunication\\nof\\nan\\nattitude\\n--\\nthat\\nof\\nthe\\nnow\\nextinct\\nBritish\\nromantic\\nschool\\nof\\nthe\\nNew\\nApocalypse\\n--\\nHenry\\nTreece\\n,\\nJ.\\nF.\\nHendry\\n,\\nand\\nothers\\n--\\nall\\nof\\nwhom\\nwere\\nquite\\nconventional\\npoets\\n.\\nParker\\ncertainly\\nhad\\nmuch\\nmore\\nof\\nan\\ninfluence\\n.\\nAt\\none\\ntime\\nit\\nwas\\nthe\\nambition\\nof\\nevery\\nsaxophone\\nplayer\\nin\\nevery\\nhigh\\nschool\\nband\\nin\\nAmerica\\nto\\nblow\\nlike\\nBird\\n.\\nEven\\nbefore\\nhis\\ndeath\\nthis\\ninfluence\\nhad\\nbegun\\nto\\nebb\\n.\\nIn\\nfact\\n,\\nthe\\nwhole\\ngeneration\\nof\\nthe\\nfounding\\nfathers\\nof\\nbop\\n--\\nGillespie\\n,\\nMonk\\n,\\nDavis\\n,\\nBlakey\\n,\\nand\\nthe\\nrest\\n--\\nare\\njust\\nnow\\nat\\na\\nconsiderable\\ndiscount\\n.\\nThe\\nmain\\nline\\nof\\ndevelopment\\ntoday\\ngoes\\nback\\nto\\nLester\\nYoung\\nand\\nby-passes\\nthem\\n.\\nThe\\npoint\\nis\\nthat\\nmany\\nof\\nthe\\nmost\\nimpressive\\ndevelopments\\nin\\nthe\\narts\\nnowadays\\nare\\naberrant\\n,\\nidiosyncratic\\n.\\nThere\\nis\\nno\\nlonger\\nany\\nsense\\nof\\ncontinuing\\ndevelopment\\nof\\nthe\\nsort\\nthat\\ncan\\nbe\\ntraced\\nfrom\\nBaudelaire\\nto\\nEluard\\n,\\nor\\nfor\\nthat\\nmatter\\n,\\nfrom\\nHawthorne\\nthrough\\nHenry\\nJames\\nto\\nGertrude\\nStein\\n.\\nThe\\ncubist\\ngeneration\\nbefore\\nWorld\\nWar\\n1\\n,\\n,\\nand\\n,\\non\\na\\nlower\\nlevel\\n,\\nthe\\nsurrealists\\nof\\nthe\\nperiod\\nbetween\\nthe\\nwars\\n,\\nboth\\nassumed\\nan\\naccepted\\nuniverse\\nof\\ndiscourse\\n,\\nin\\nwhich\\n,\\nto\\nquote\\nAndre\\nBreton\\n,\\nit\\nwas\\npossible\\nto\\nmake\\ndefinite\\nadvances\\n,\\nexactly\\nas\\nin\\nthe\\nsciences\\n.\\nI\\ndoubt\\nif\\nanyone\\nholds\\nsuch\\nideas\\ntoday\\n.\\nContinuity\\nexits\\n,\\nbut\\nlike\\nthe\\nneo-swing\\nmusic\\ndeveloped\\nfrom\\nLester\\nYoung\\n,\\nit\\nis\\na\\ncontinuity\\nsustained\\nby\\npopular\\ndemand\\n.\\nIn\\nthe\\nplastic\\narts\\n,\\na\\nvery\\nsimilar\\nsituation\\nexists\\n.\\nSurrealists\\nlike\\nHans\\nArp\\nand\\nMax\\nErnst\\nmight\\ntalk\\nof\\ncreation\\nby\\nhazard\\n--\\nof\\ncomposing\\npictures\\nby\\nwalking\\non\\nthem\\nwith\\npainted\\nsoles\\n,\\nor\\nby\\ntossing\\nbits\\nof\\npaper\\nup\\nin\\nthe\\nair\\n.\\nBut\\nit\\nis\\nobvious\\nthat\\nthey\\nwere\\nself-deluded\\n.\\nNothing\\nlooks\\nanything\\nlike\\nan\\nErnst\\nor\\nan\\nArp\\nbut\\nanother\\nErnst\\nor\\nArp\\n.\\nNothing\\nlooks\\nless\\nlike\\ntheir\\nwork\\nthan\\nthe\\nhappenings\\nof\\nrandom\\noccasion\\n.\\nMany\\nof\\nthe\\npost-World\\nWar\\n2\\n,\\nabstract\\nexpressionists\\n,\\napostles\\nof\\nthe\\ndiscipline\\nof\\nspontaneity\\nand\\nhazard\\n,\\nlook\\nalike\\n,\\nand\\ndo\\nlook\\nlike\\naccidents\\n.\\nThe\\naesthetic\\nappeal\\nof\\npure\\npaint\\nlaid\\non\\nat\\nrandom\\nmay\\nexist\\n,\\nbut\\nit\\nis\\na\\nvery\\nimpoverished\\nappeal\\n.\\nOnce\\nagain\\nwhat\\nhas\\nhappened\\nis\\nan\\nall-consuming\\nconfabulation\\nof\\nthe\\nincidentals\\n,\\nthe\\naccidents\\nof\\npainting\\n.\\nIt\\nis\\ncurious\\nthat\\nat\\nits\\nbest\\n,\\nthe\\nwork\\nof\\nthis\\nschool\\nof\\npainting\\n--\\nMark\\nRothko\\n,\\nJackson\\nPollock\\n,\\nClyfford\\nStill\\n,\\nRobert\\nMotherwell\\n,\\nWillem\\nDe-Kooning\\n,\\nand\\nthe\\nrest\\n--\\nresembles\\nnothing\\nso\\nmuch\\nas\\nthe\\npassage\\npainting\\nof\\nquite\\nunimpressive\\npainters\\n:\\nthe\\nmother-of-pearl\\nshimmer\\nin\\nthe\\nbackground\\nof\\na\\nHenry\\nMcFee\\n,\\nitself\\na\\nformula\\nderived\\nfrom\\nRenoir\\n;\\n;\\nthe\\nsplashes\\nof\\nlight\\nand\\nblack\\nwhich\\nfake\\ndrapery\\nin\\nthe\\nfashionable\\nimitators\\nof\\nHals\\nand\\nSargent\\n.\\nOften\\nwork\\nof\\nthis\\nsort\\nis\\npresented\\nas\\ncalligraphy\\n--\\nthe\\npure\\nutterance\\nof\\nthe\\nbrush\\nstroke\\nseeking\\nonly\\nabsolute\\npainteresque\\nvalues\\n.\\nYou\\nhave\\nonly\\nto\\ncompare\\nsuch\\npainting\\nwith\\nthe\\nwork\\nof\\n,\\nsay\\n,\\nSesshu\\n,\\nto\\nrealize\\nthat\\nsomeone\\nis\\nusing\\nwords\\nand\\nbrushes\\ncarelessly\\n.\\nAt\\nits\\nbest\\nthe\\nabstract\\nexpressionists\\nachieve\\na\\nsimple\\nrococo\\ndecorative\\nsurface\\n.\\nIts\\npoverty\\nshows\\nup\\nimmediately\\nwhen\\ncompared\\nwith\\nTiepolo\\n,\\nwhere\\nthe\\nrococo\\nrises\\nto\\npainting\\nof\\nextraordinary\\nprofundity\\nand\\npower\\n.\\nA\\nTiepolo\\npainting\\n,\\nhowever\\nconfabulated\\n,\\nis\\na\\nuniverse\\nof\\ntensions\\nin\\nvast\\ndepths\\n.\\nA\\nPollock\\nis\\nan\\nobject\\nof\\nart\\n--\\nbijouterie\\n--\\ndisguised\\nonly\\nby\\nits\\ngreat\\nsize\\n.\\nIn\\nfact\\n,\\nonce\\nthe\\nsize\\nis\\nbig\\nenough\\nto\\ncover\\na\\nwhole\\nwall\\n,\\nit\\nturns\\ninto\\nnothing\\nmore\\nthan\\nextremely\\nexpensive\\nwallpaper\\n.\\nNow\\nthere\\nis\\nnothing\\nwrong\\nwith\\ncomplicated\\nwallpaper\\n.\\nThere\\nis\\njust\\nmore\\nto\\nTiepolo\\n.\\nThe\\ngreat\\nAshikaga\\nbrush\\npainters\\npainted\\nwallpapers\\n,\\ntoo\\n--\\nat\\nleast\\nportable\\nones\\n,\\nscreens\\n.\\nA\\nprocess\\nof\\nelimination\\nwhich\\nleaves\\nthe\\nartist\\nwith\\nnothing\\nbut\\nthe\\nplay\\nof\\nhis\\nmaterials\\nthemselves\\ncannot\\nsustain\\ninterest\\nin\\neither\\nartist\\nor\\npublic\\nfor\\nvery\\nlong\\n.\\nSo\\n,\\nin\\nthe\\nlast\\ncouple\\nof\\nyears\\n,\\nabstract\\nexpressionism\\nhas\\ntended\\ntoward\\nromantic\\nsuggestion\\n--\\nindications\\nof\\nlandscape\\nor\\nliving\\nfigures\\n.\\n\",\n",
       " \"Anglo-Saxon\\nand\\nGreek\\nepic\\neach\\nprovide\\non\\ntwo\\noccasions\\na\\nseemingly\\nauthentic\\naccount\\nof\\nthe\\nnarration\\nof\\nverse\\nin\\nthe\\nheroic\\nage\\n.\\nHrothgar's\\ncourt\\nbard\\nsings\\nof\\nthe\\nencounters\\nat\\nFinnsburg\\n(\\nlines\\n1068\\n-\\n1159\\n)\\n,\\nand\\nimprovises\\nthe\\ntale\\nof\\nBeowulf's\\nexploits\\nin\\na\\ncomplimentary\\ncomparison\\nof\\nthe\\nGeatish\\nvisitor\\nwith\\nSigemund\\n(\\nlines\\n871\\n-\\n892\\n)\\n;\\n;\\nAlcinous'\\ncourt\\nbard\\nsings\\nof\\nthe\\ndiscovered\\nadultery\\nof\\nAres\\nand\\nAphrodite\\n(\\nOdyssey\\n8\\n266-366\\n)\\n,\\nand\\ntakes\\nup\\na\\ntale\\nof\\nOdysseus\\nwhile\\nthe\\nIthacan\\nwanderer\\nlistens\\non\\n(\\nOdyssey\\n8\\n499-520\\n)\\n.\\nNothing\\nin\\nall\\nthis\\nis\\nautobiographical\\n:\\nunlike\\nthe\\npoets\\nof\\nDeor\\nand\\nWidsith\\n,\\nthe\\npoet\\nof\\nBeowulf\\nis\\nnot\\nconcerned\\nwith\\nhis\\nown\\nidentity\\n;\\n;\\nthe\\npoet\\nof\\nThe\\nOdyssey\\n,\\nreputed\\nblind\\n,\\nreveals\\nhimself\\nnot\\nat\\nall\\nin\\nsinging\\nof\\nthe\\nblind\\nminstrel\\nDemodocus\\n.\\nSince\\nnone\\nof\\nthese\\nglimpses\\nof\\npoetizing\\nwithout\\nwriting\\nis\\nintended\\nto\\nincorporate\\na\\nsignature\\ninto\\nthe\\nepic\\nmatter\\n,\\nthere\\nis\\nprima-facie\\nevidence\\nthat\\nBeowulf\\nand\\nthe\\nHomeric\\npoems\\neach\\nderive\\nfrom\\nan\\noral\\ntradition\\n.\\nThat\\nsuch\\na\\ntradition\\nlies\\nbehind\\nThe\\nIliad\\nand\\nThe\\nOdyssey\\n,\\nat\\nleast\\n,\\nis\\nhard\\nto\\ndeny\\n.\\nMilman\\nParry\\nrigorously\\ndefended\\nthe\\nobservation\\nthat\\nthe\\nextant\\nHomeric\\npoems\\nare\\nlargely\\nformulaic\\n,\\nand\\nwas\\nled\\nto\\npostulate\\nthat\\nthey\\ncould\\nbe\\nshown\\nentirely\\nformulaic\\nif\\nthe\\ncomplete\\ncorpus\\nof\\nGreek\\nepic\\nsurvived\\n;\\n;\\nhe\\nfurther\\nreasoned\\nthat\\nfrequent\\nformulas\\nin\\nepic\\nverse\\nindicate\\noral\\ncomposition\\n,\\nand\\nassumed\\nthe\\nslightly\\nless\\nlikely\\ncorollary\\nthat\\noral\\nepic\\nis\\ninclined\\ntowards\\nthe\\nuse\\nof\\nformulas\\n.\\nProceeding\\nfrom\\nParry's\\nconclusions\\nand\\nadopting\\none\\nof\\nhis\\nschemata\\n,\\nFrancis\\nP.\\nMagoun\\n,\\nJr.\\n,\\nargues\\nthat\\nBeowulf\\nlikewise\\nwas\\ncreated\\nfrom\\na\\nlegacy\\nof\\noral\\nformulas\\ninherited\\nand\\nextended\\nby\\nbards\\nof\\nsuccessive\\ngenerations\\n,\\nand\\nthe\\nthesis\\nis\\nstriking\\nand\\ncompelling\\n.\\nYet\\na\\nfresh\\ninspection\\nwill\\nindicate\\none\\ncrucial\\namendment\\n:\\nBeowulf\\nand\\nthe\\nHomeric\\npoems\\nare\\nnot\\nat\\nall\\nformulaic\\nto\\nthe\\nsame\\nextent\\n.\\nThe\\nbondage\\nendurable\\nby\\nan\\noral\\npoet\\nis\\nto\\nbe\\nestimated\\nonly\\nby\\na\\nvery\\nskilful\\noral\\npoet\\n,\\nbut\\nit\\nappears\\nsafe\\nto\\nassume\\nthat\\nno\\nsustained\\nnarrative\\nin\\nrhyme\\ncould\\nbe\\ncomposed\\nwithout\\nextreme\\ndifficulty\\n,\\neven\\nin\\na\\nlanguage\\nof\\nmany\\nterminal\\ninflections\\n.\\nAssonance\\nseems\\nnearly\\nas\\nsevere\\na\\ncurb\\n,\\nalthough\\nin\\na\\ncelebrated\\npassage\\nWilliam\\nof\\nMalmesbury\\ndeclares\\nthat\\nA\\nSong\\nOf\\nRoland\\nwas\\nintoned\\nbefore\\nthe\\nbattle\\ncommenced\\nat\\nHastings\\n.\\nThe\\nAnglo-Saxon\\nalliterative\\nline\\nand\\nthe\\nHomeric\\nhexameter\\nprobably\\nimposed\\nless\\nof\\na\\nrestraint\\n;\\n;\\nthe\\nverse\\nof\\nBeowulf\\nor\\nof\\nThe\\nIliad\\nand\\nThe\\nOdyssey\\nwas\\nnot\\neasy\\nto\\ncreate\\nbut\\nwas\\nnot\\nimpossible\\nfor\\npoets\\nwho\\nhad\\ndeveloped\\ntheir\\ntalents\\nperforce\\nin\\nearning\\na\\nlivelihood\\n.\\nYet\\ncertain\\naids\\nwere\\nvaluable\\nand\\nquite\\ncredibly\\nnecessary\\nfor\\nreciting\\nlong\\nstretches\\nof\\nverse\\nwithout\\na\\npause\\n.\\nThe\\npoet\\nin\\na\\nwritten\\ntradition\\nwho\\ngenerally\\nnever\\nblots\\na\\nline\\nmay\\nonce\\nin\\na\\nwhile\\npause\\nand\\npolish\\nwithout\\nincurring\\nblame\\n.\\nBut\\nthe\\noral\\npoet\\ncannot\\npause\\n;\\n;\\nhe\\nmust\\nimprovise\\ncontinuously\\nwith\\nno\\napparent\\neffort\\n.\\nEven\\nthough\\nthe\\nbondage\\nof\\nhis\\nverse\\nis\\nnot\\nso\\ngreat\\nas\\nthe\\nwriting\\npoet\\ncan\\nmanage\\n,\\nit\\nis\\nstill\\ngreat\\nenough\\nfor\\nhim\\noften\\nto\\nbe\\nseriously\\nimpeded\\nunless\\nhe\\nhas\\naids\\nto\\nfacilitate\\nrapid\\ncomposition\\n.\\nThe\\nGermanic\\npoet\\nhad\\nsuch\\naids\\nin\\nthe\\nkennings\\n,\\nwhich\\nprovided\\nfor\\nthe\\ndifficulties\\nof\\nalliteration\\n;\\n;\\nthe\\nHomeric\\npoet\\nhad\\nepithets\\n,\\nwhich\\nprovided\\nfor\\nrecurring\\nneeds\\nin\\nthe\\nhexameter\\n.\\nEither\\npoet\\ncould\\nquickly\\nand\\neasily\\nselect\\nwords\\nor\\nphrases\\nto\\nsupply\\nhis\\nimmediate\\nrequirements\\nas\\nhe\\nchanted\\nout\\nhis\\nlines\\n,\\nbecause\\nthe\\nkennings\\nand\\nthe\\nepithets\\nmade\\npossible\\nthe\\nconstruction\\nof\\nsystems\\nof\\nnumerous\\nsynonyms\\nfor\\nthe\\nchief\\ncommon\\nand\\nproper\\nnouns\\n.\\nOther\\nsynonyms\\ncould\\nof\\ncourse\\nserve\\nthe\\nsame\\nfunction\\n,\\nand\\nfor\\nthe\\nsake\\nof\\nease\\nI\\nshall\\nspeak\\nof\\nkennings\\nand\\nepithets\\nin\\nthe\\nwidest\\nand\\nloosest\\npossible\\nsense\\n,\\nand\\nname\\n,\\nfor\\nexample\\n,\\nGar-Dene\\na\\nkenning\\nfor\\nthe\\nDanes\\n.\\nVerbal\\nand\\nadverbial\\nelements\\ntoo\\nparticipated\\nin\\neach\\nepic\\ndiction\\n,\\nbut\\nit\\nis\\nfor\\nthe\\npresent\\nsufficient\\nto\\nmark\\nthe\\nlarge\\nnominal\\nand\\nadjectival\\nsupply\\nof\\nsemantic\\nnear-equivalents\\n,\\nand\\nto\\ndesignate\\nthe\\nmembers\\nof\\nany\\nsystem\\nof\\nequivalents\\nas\\nbasic\\nformulas\\nof\\nthe\\npoetic\\nlanguage\\n.\\nLimited\\nto\\na\\nfew\\nthousand\\nlines\\nof\\nheroic\\nverse\\nin\\nAnglo-Saxon\\nas\\nin\\nthe\\nother\\nGermanic\\ndialects\\n,\\nwe\\ncannot\\nsay\\nhow\\nfrequently\\nthe\\nkennings\\nin\\nBeowulf\\nrecurred\\nin\\ncontemporary\\nepic\\non\\nthe\\nsame\\nsoil\\n.\\nBut\\nwe\\ncan\\nsay\\nthat\\nsince\\na\\nwriting\\npoet\\n,\\nwith\\nleisure\\nbefore\\nhim\\n,\\nwould\\nseem\\nunlikely\\nto\\ninvent\\na\\ntechnique\\nbased\\nupon\\nfrequent\\nand\\nsubstantial\\ncircumlocution\\n,\\nthe\\nkennings\\nlike\\nthe\\nepithets\\nmust\\nreasonably\\nbe\\nascribed\\nto\\nan\\noral\\ntradition\\n.\\nOne\\nof\\nthe\\ngreatest\\nHomerists\\nof\\nour\\ntime\\n,\\nFrederick\\nM.\\nCombellack\\n,\\nargues\\nthat\\nwhen\\nit\\nis\\nassumed\\nThe\\nIliad\\nand\\nThe\\nOdyssey\\nare\\noral\\npoems\\n,\\nthe\\npostulated\\nsingle\\nredactor\\ncalled\\nHomer\\ncannot\\nbe\\neither\\ncredited\\nwith\\nor\\ndenied\\noriginality\\nin\\nchoice\\nof\\nphrasing\\n.\\nAny\\nexample\\nof\\ngrand\\nor\\nexquisite\\ndiction\\nmay\\nhave\\nbeen\\ncreated\\nby\\nthe\\npoet\\nwho\\ncompiled\\nnumerous\\nlays\\ninto\\nthe\\ntwo\\nworks\\nwe\\npossess\\nor\\nmay\\nbe\\ndue\\nto\\none\\nof\\nhis\\ncompletely\\nunknown\\nfellow-craftsmen\\n.\\nThe\\nquest\\nof\\nthe\\nhistorical\\nHomer\\nis\\nlikely\\nnever\\nto\\nhave\\nfurther\\nsuccess\\n;\\n;\\nno\\nindividual\\nword\\nin\\nThe\\nIliad\\nor\\nThe\\nOdyssey\\ncan\\nbe\\ncredited\\nto\\nany\\none\\nman\\n;\\n;\\nno\\nstrikingly\\neffective\\nelement\\nof\\nspeech\\nin\\nthe\\nextant\\npoems\\ncan\\nwith\\nassurance\\nbe\\nsaid\\nnot\\nto\\nhave\\nbeen\\na\\ncommonplace\\nin\\nthe\\nvaster\\nepic\\ncorpus\\nthat\\nmay\\nhave\\nexisted\\nat\\nthe\\nbeginning\\nof\\nthe\\nfirst\\nmillennium\\nbefore\\nChrist\\n.\\nThis\\nobservation\\nis\\nof\\ninterest\\nnot\\nonly\\nto\\nstudents\\nof\\nHomeric\\npoetry\\nbut\\nto\\nstudents\\nof\\nAnglo-Saxon\\npoetry\\nas\\nwell\\n.\\nTo\\nthe\\nextent\\nthat\\na\\ntale\\nis\\ntwice\\ntold\\n,\\nits\\nfinal\\nauthor\\nmust\\nbe\\nsuspect\\n,\\nalthough\\nplagiarism\\nin\\nan\\noral\\ntradition\\nis\\nless\\na\\nmisdemeanor\\nthan\\nthe\\nstandard\\nmodus\\ndicendi\\n.\\nCombellack\\nargues\\nfurther\\n,\\nand\\nhere\\nhe\\nmakes\\nhis\\nmain\\npoint\\n,\\nthat\\nonce\\nThe\\nIliad\\nand\\nThe\\nOdyssey\\nare\\nthought\\nformulaic\\npoems\\ncomposed\\nfor\\nan\\naudience\\naccustomed\\nto\\nformulaic\\npoetry\\n,\\nHomeric\\ncritics\\nare\\ndeprived\\nof\\nan\\nentire\\ndomain\\nthey\\npreviously\\nfound\\narable\\n.\\nWith\\na\\nfew\\nimportant\\nand\\na\\nfew\\nmore\\nunimportant\\nexceptions\\n,\\nno\\nexpression\\ncan\\nbe\\ndeemed\\nle\\nmot\\njuste\\nfor\\nits\\ncontext\\n,\\nbecause\\neach\\nwas\\nvery\\nprobably\\nthe\\nonly\\nexpression\\nthat\\nlong-established\\npractice\\nand\\nease\\nof\\nrapid\\nrecitation\\nwould\\nallow\\n.\\nWords\\nor\\nphrases\\nthat\\nconnoisseurs\\nhave\\nadmired\\nas\\nhandsome\\nor\\nironic\\nor\\nhumorous\\nmust\\ntherefore\\nlose\\nmerit\\nand\\nbecome\\nregarded\\nas\\nmere\\ninevitable\\ntime-servers\\n,\\nsometimes\\naccurate\\nand\\nsometimes\\nnot\\n.\\nThis\\nobservation\\ntoo\\nmay\\nhave\\nreference\\nto\\nAnglo-Saxon\\npoetry\\n.\\nTo\\nthe\\nextent\\nthat\\na\\nlanguage\\nis\\nformulaic\\n,\\nits\\nindividual\\ncomponents\\nmust\\nbe\\nregarded\\nas\\nno\\nmore\\ndistinguished\\nthan\\nother\\ncliches\\n.\\nW.\\nF.\\nBryan\\nsuggests\\nthat\\ncertain\\nkennings\\nin\\nBeowulf\\nwere\\nselected\\nsometimes\\nfor\\nappropriateness\\nand\\nsometimes\\nfor\\nironic\\ninappropriateness\\n,\\nbut\\nsuch\\na\\nview\\nwould\\nappear\\nuntenable\\nunless\\nit\\nis\\ndenied\\nthat\\nthe\\nlanguage\\nof\\nBeowulf\\nis\\nformulaic\\n.\\nIf\\nthe\\nmaster\\nof\\nscops\\nwho\\nwas\\nmost\\nresponsible\\nfor\\nthe\\npoem\\never\\nused\\nkennings\\nthat\\nwere\\ntraditional\\n,\\nhe\\nwas\\nat\\nleast\\npartly\\ndeprived\\nof\\nfree\\nwill\\nand\\nnot\\ninclined\\ntowards\\nshrewd\\nand\\nsophisticated\\nmisuse\\nof\\nspeech\\nelements\\n.\\nOnce\\nmany\\nsignificant\\nphrases\\nare\\nfound\\nin\\ntheory\\nor\\nin\\nrecurrent\\npractice\\nto\\nprovide\\nfor\\nprosodic\\nnecessity\\n,\\nthey\\nare\\nnot\\nto\\nbe\\ndefended\\nfor\\ntheir\\nsemantic\\nproperties\\nin\\nisolated\\ncontexts\\n.\\nIt\\nis\\nfalse\\nto\\nbe\\ncertain\\nof\\nhaving\\ndiscovered\\nin\\nthe\\nlanguage\\nof\\nBeowulf\\nsuch\\neffects\\nas\\nintentional\\nirony\\n.\\nYet\\n,\\nif\\nthe\\nargument\\nis\\nturned\\nawry\\n,\\nthere\\nmay\\nbe\\nfound\\na\\ngreat\\ndeal\\nin\\nBryan's\\nview\\n,\\nafter\\nall\\n.\\nA\\nformulaic\\nelement\\nneed\\nnot\\nbe\\nheld\\nmeaningless\\nmerely\\nbecause\\nit\\nwas\\nselected\\nwith\\nlittle\\nconscious\\nreflection\\n.\\nTime-servers\\n,\\nthough\\nthe\\nperiphrastic\\nexpressions\\nare\\n,\\nthey\\nmay\\nnevertheless\\nbe\\nhandsome\\nor\\nironic\\nor\\nhumorous\\n.\\nA\\nlong\\nevolution\\nin\\nan\\noral\\ntradition\\ncaused\\nthe\\npoetic\\nlanguage\\nof\\nthe\\nheroic\\nage\\nto\\nbe\\nbased\\nupon\\nformulas\\nthat\\nshow\\nthe\\nimportant\\nqualities\\nof\\nthings\\n,\\nand\\nthese\\nformulas\\nare\\ntherefore\\npotentially\\nrather\\nthan\\nalways\\nactually\\naccurate\\n.\\nTrue\\n,\\nwe\\ndo\\nnot\\nknow\\nhow\\nthey\\nwere\\nregarded\\nin\\ntheir\\nday\\n,\\nbut\\nwe\\nneed\\nnot\\nbelieve\\nthe\\nepic\\naudience\\nto\\nhave\\nbeen\\nmore\\ninsensitive\\nto\\nthe\\nformulas\\nthan\\nthe\\nnumerous\\nscholars\\nof\\nmodern\\ntimes\\nwho\\nhave\\nread\\nGermanic\\nor\\nHomeric\\npoetry\\nall\\ntheir\\nlives\\nand\\nstill\\nfound\\nmuch\\nto\\nadmire\\nin\\noccasional\\noccurrences\\nof\\nthe\\nmost\\nfamiliar\\nphrases\\n.\\nNouns\\nand\\nadjectives\\nin\\na\\nwritten\\ntradition\\nare\\nchosen\\nfor\\nthe\\nnonce\\n;\\n;\\nin\\nan\\noral\\ntradition\\nthey\\nmay\\nbe\\nchosen\\nfor\\nthe\\nentire\\nepic\\ncorpus\\n,\\nand\\ntend\\ntowards\\nidealization\\nrather\\nthan\\ndistinctive\\ndelineation\\n.\\nReliance\\nis\\ntherefore\\nnot\\nto\\nbe\\nplaced\\nupon\\nthe\\narchaeological\\nparticulars\\nin\\nan\\noral\\npoem\\n;\\n;\\nno-one\\ntoday\\nwould\\nhope\\nto\\ndiscover\\nthe\\nunmistakable\\nruins\\nof\\nHeorot\\nor\\nthe\\npalace\\nof\\nPriam\\n.\\nA\\nship\\nat\\ndry-dock\\ncould\\nbe\\ncalled\\na\\nfoamy-necked\\nfloater\\nin\\nAnglo-Saxon\\nor\\na\\nswift\\nship\\nin\\nGreek\\n.\\nEven\\nwhen\\ndefenseless\\nof\\nweapons\\nthe\\nDanes\\nwould\\nbe\\nGar-Dene\\n(\\nas\\ntheir\\nking\\nis\\nHrothgar\\n)\\nand\\nPriam\\nwould\\nbe\\nEUMMELIHS\\n.\\nAchilles\\n,\\nlike\\nSiegfried\\nin\\nThe\\nNibelungenlied\\n,\\nis\\npotentially\\nthe\\nswiftest\\nof\\nmen\\nand\\nmay\\naccordingly\\nbe\\ncalled\\nswift-footed\\neven\\nwhen\\nhe\\nstands\\nidle\\n.\\nIn\\nCoriolanus\\nthe\\nagnomen\\nof\\nMarcius\\nis\\nused\\ndeliberately\\nand\\npointedly\\n,\\nbut\\nthe\\nHomeric\\nepithets\\nand\\nthe\\nAnglo-Saxon\\nkennings\\nare\\nused\\ncasually\\nand\\nrecall\\nto\\nthe\\nhearer\\n``\\na\\nfamiliar\\nstory\\nor\\nsituation\\nor\\na\\nuseful\\nor\\npleasant\\nquality\\nof\\nthe\\nreferent\\n''\\n.\\nThe\\nepic\\nlanguage\\nwas\\nnot\\nentirely\\nthe\\nservant\\nof\\nthe\\npoet\\n;\\n;\\nit\\nwas\\npartly\\nhis\\nmaster\\n.\\nThe\\npoet's\\nintentions\\nare\\ndifficult\\nto\\ndiscern\\nand\\n,\\nexcept\\nto\\nbiographers\\n,\\nunimportant\\n;\\n;\\nthe\\nlanguage\\n,\\nhowever\\n,\\nis\\na\\nproper\\nobject\\nof\\nscrutiny\\n,\\nand\\nthe\\neffects\\nof\\nthe\\nlanguage\\nare\\npalpable\\neven\\nif\\nsometimes\\ninevitable\\n.\\nBeowulf\\nand\\nthe\\nHomeric\\npoems\\nappear\\noral\\ncompositions\\n.\\nYet\\nthey\\nare\\nwritten\\n;\\n;\\nat\\nsome\\nstage\\nin\\ntheir\\nevolution\\nthey\\nwere\\ntranscribed\\n.\\nAlbert\\nB.\\nLord\\nsuggests\\nthat\\nthe\\nHomeric\\npoems\\nwere\\ndictated\\nto\\na\\nscribe\\nby\\na\\nminstrel\\nwho\\nheld\\nin\\nhis\\nmind\\nthe\\npoems\\nfully\\nmatured\\nbut\\ndid\\nnot\\nhimself\\npossess\\nthe\\nknowledge\\nof\\nwriting\\nsince\\nit\\nwould\\nbe\\nuseless\\nto\\nhis\\nguild\\n,\\nand\\nMagoun\\nargues\\nthat\\nthe\\nBeowulf\\npoet\\nand\\nCynewulf\\nmay\\nhave\\ndictated\\ntheir\\nverse\\nin\\nthe\\nsame\\nfashion\\n.\\nThis\\nexplanation\\nis\\nattractive\\n,\\nbut\\nis\\nvitiated\\nat\\nleast\\nin\\npart\\nby\\nthe\\nobservation\\nthat\\nCynewulf\\n,\\nthough\\nhe\\nused\\nkennings\\nin\\nthe\\ntraditional\\nmanner\\n,\\nwas\\na\\nliterate\\nman\\nwho\\nfour\\ntimes\\ninscribed\\nhis\\nname\\nby\\nrunes\\ninto\\nhis\\nworks\\n.\\nIf\\nCynewulf\\nwas\\nliterate\\n,\\nthe\\nBeowulf\\npoet\\nmay\\nhave\\nbeen\\nalso\\n,\\nand\\nso\\nmay\\nthe\\nfinal\\nredactor\\nof\\nThe\\nIliad\\nand\\nThe\\nOdyssey\\n.\\nIn\\nlieu\\nof\\nthe\\namanuensis\\nto\\nthe\\nblind\\nor\\nilliterate\\nbard\\n,\\none\\nmay\\nconceive\\nof\\na\\nman\\nwho\\nheard\\na\\nvast\\nstore\\nof\\noral\\npoetry\\nrecited\\n,\\nand\\nbecame\\nintimately\\nfamiliar\\nwith\\nthe\\nestablished\\naids\\nto\\npoetizing\\n,\\nand\\nhimself\\nwrote\\nhis\\nown\\ncompositions\\nor\\nhis\\nedition\\nof\\nthe\\ncompositions\\nof\\nthe\\npast\\n.\\nOther\\ntheories\\nof\\norigin\\nare\\ncompatible\\nwith\\nthe\\nformulaic\\ntheory\\n:\\nBeowulf\\nmay\\ncontain\\na\\ndesign\\nfor\\nterror\\n,\\nand\\nThe\\nIliad\\nmay\\nhave\\na\\nvast\\nhysteron-proteron\\npattern\\nanswering\\nto\\na\\nceramic\\npattern\\nproduced\\nduring\\nthe\\nGeometric\\nPeriod\\nin\\npottery\\n.\\nThe\\naccount\\nof\\nthe\\ngrowth\\nand\\nfinal\\ntranscription\\nof\\nthese\\nepics\\nrests\\npartly\\n,\\nhowever\\n,\\nupon\\nthe\\ndegree\\nto\\nwhich\\nthey\\nwere\\nformulaic\\n.\\nCarl\\nEduard\\nSchmidt\\ncounted\\n1804\\ndifferent\\nlines\\nrepeated\\nexactly\\nin\\nthe\\ntwo\\nHomeric\\npoems\\n,\\nand\\nby\\nincreasing\\nthis\\nfigure\\nso\\nas\\nto\\ninclude\\nlines\\nrepeated\\nwith\\nvery\\nslight\\nmodifications\\nhe\\ncounted\\n2118\\ndifferent\\nlines\\nused\\na\\ntotal\\nof\\n5612\\ntimes\\n.\\nThus\\none\\nline\\nin\\nfive\\nfrom\\nThe\\nIliad\\nand\\nThe\\nOdyssey\\nis\\nto\\nbe\\nfound\\nsomewhere\\nelse\\nin\\nthe\\ntwo\\npoems\\n.\\nThe\\nratio\\nis\\nthoroughly\\nremarkable\\n,\\nbecause\\nthe\\nlines\\nare\\nso\\nlong\\n--\\nhalf\\nagain\\nas\\nlong\\nas\\nthose\\nof\\nBeowulf\\n.\\nAnglo-Saxon\\npoetry\\nappears\\nto\\nhave\\nno\\ncomparable\\namount\\nof\\nrepetition\\n;\\n;\\nthere\\nis\\nno\\nreason\\nto\\nthink\\nthat\\nthe\\nscop\\nused\\nand\\nre-used\\nwhole\\nlines\\nand\\neven\\nlengthy\\npassages\\nafter\\nthe\\nmanner\\nof\\nhis\\nHomeric\\ncolleague\\n.\\nIn\\ndetermining\\nthe\\nextent\\nto\\nwhich\\nany\\npoem\\nis\\nformulaic\\nit\\nis\\nidle\\n,\\nhowever\\n,\\nto\\ninspect\\nnothing\\nbesides\\nlines\\nrepeated\\nin\\ntheir\\nentirety\\n,\\nfor\\na\\nstock\\nof\\nline-fragments\\nwould\\nbe\\nsufficient\\nto\\npermit\\nthe\\npoet\\nto\\nextemporize\\nwith\\ndeftness\\nif\\nthey\\nprovided\\nfor\\nprosodic\\nneeds\\n.\\nThe\\nclosest\\nscrutiny\\nis\\nowed\\nto\\nthe\\nAnglo-Saxon\\nkennings\\nand\\nthe\\nHomeric\\nepithets\\n;\\n;\\nif\\nany\\nwords\\nor\\nphrases\\nare\\nformulaic\\n,\\nthey\\nwill\\nbe\\n.\\nThe\\nIliad\\nhas\\ntwo\\nwords\\nfor\\nthe\\nshield\\n,\\nASPIS\\nand\\nSAKOS\\n.\\n\",\n",
       " \"Recent\\ncriticism\\nof\\nGreat\\nExpectations\\nhas\\ntended\\nto\\nemphasize\\nits\\nsymbolic\\nand\\nmythic\\ncontent\\n,\\nto\\nshow\\n,\\nas\\nM.\\nD.\\nZabel\\nhas\\nsaid\\nof\\nDickens\\ngenerally\\n,\\nthat\\nmuch\\nof\\nthe\\nnovel's\\nimpact\\nresides\\nin\\nits\\n``\\nallegoric\\ninsight\\nand\\nmoral\\nmetaphor\\n''\\n.\\nJ.\\nH.\\nMiller's\\nexcellent\\nchapter\\non\\nGreat\\nExpectations\\nhas\\nlately\\nillustrated\\nhow\\nfruitfully\\nthat\\nnovel\\ncan\\nbe\\nread\\nfrom\\nsuch\\na\\nperspective\\n.\\nIn\\nhis\\nanalysis\\n,\\nhowever\\n,\\nhe\\ntouches\\nupon\\nbut\\nfails\\nto\\nexplore\\nan\\nidea\\n,\\ngenerally\\nneglected\\nin\\ndiscussions\\nof\\nthe\\nbook\\n,\\nwhich\\nI\\nbelieve\\nis\\ncentral\\nto\\nits\\nart\\n--\\nthe\\nimportance\\nof\\nhuman\\nhands\\nas\\na\\nrecurring\\nfeature\\nof\\nthe\\nnarrative\\n.\\nThis\\nessay\\nseeks\\nto\\nmake\\nthat\\nexploration\\n.\\nDickens\\nwas\\nnot\\nfor\\nnothing\\nthe\\nmost\\ntheatrical\\nof\\nthe\\ngreat\\nVictorian\\nwriters\\n.\\nHe\\nknew\\ninstinctively\\nthat\\nnext\\nto\\nvoice\\nand\\nface\\nan\\nactor's\\nhands\\nare\\nhis\\nmost\\nuseful\\npossession\\n--\\nthat\\nin\\nfiction\\nas\\nin\\nthe\\ntheatre\\n,\\ngesture\\nis\\nan\\nindispensable\\nshorthand\\nfor\\nindividualizing\\ncharacter\\nand\\ndramatizing\\naction\\nand\\nresponse\\n.\\nIt\\nis\\nhardly\\naccidental\\n,\\ntherefore\\n,\\nthat\\nmany\\nof\\nhis\\nmost\\nvivid\\nfigures\\ndo\\nsuggestive\\nor\\neccentric\\nthings\\nwith\\ntheir\\nhands\\n.\\nIn\\nGreat\\nExpectations\\nthe\\nhands\\nbecome\\nalmost\\nan\\nobsession\\n.\\nMr.\\nJaggers\\nhabitually\\nbites\\nhis\\nforefinger\\n,\\na\\ngesture\\nwhich\\nconveys\\nboth\\ncontempt\\nand\\nthe\\ninscrutable\\nabstractedness\\nthat\\nhalf\\nfascinates\\n,\\nhalf\\nterrifies\\nall\\nwho\\nhave\\ndealings\\nwith\\nhim\\n.\\nMiss\\nHavisham's\\nwithered\\nhands\\n,\\nheavy\\nas\\nif\\nher\\nunhappiness\\nwere\\nsomehow\\nconcentrated\\nin\\nthem\\n,\\nmove\\nin\\nrestless\\nself-pity\\nbetween\\nher\\nbroken\\nheart\\nand\\nher\\nwalking\\nstick\\n.\\nPumblechook's\\n``\\nsignature\\n''\\nis\\nthe\\nperpetually\\nextended\\nglad\\nhand\\n.\\nWemmick\\nreveals\\nhis\\nself-satisfaction\\nby\\nregularly\\nrubbing\\nhis\\nhands\\ntogether\\n.\\nOld\\nMr.\\nPocket's\\nfrantic\\nresponse\\nto\\nlife\\nimprisonment\\nwith\\na\\nuseless\\n,\\nsocial-climbing\\nwife\\nis\\nto\\n``\\nput\\nhis\\ntwo\\nhands\\ninto\\nhis\\ndisturbed\\nhair\\n''\\nand\\n``\\nmake\\nan\\nextraordinary\\neffort\\nto\\nlift\\nhimself\\nup\\nby\\nit\\n''\\n,\\nwhereas\\nJoe\\nGargery\\nendures\\nthe\\nshrewish\\nonslaughts\\nof\\nMrs.\\nJoe\\nby\\napologetically\\ndrawing\\n``\\nthe\\nback\\nof\\nhis\\nhand\\nacross\\nand\\nacross\\nhis\\nnose\\n''\\n.\\nSuch\\nmannerisms\\nwould\\nbe\\nless\\nworthy\\nof\\nremark\\n,\\nwere\\nit\\nnot\\nthat\\nin\\nGreat\\nExpectations\\n,\\nas\\nin\\nno\\nother\\nof\\nDickens'\\nnovels\\n,\\nhands\\nserve\\nas\\na\\nleitmotif\\nof\\nplot\\nand\\ntheme\\n--\\na\\nkind\\nof\\nunifying\\nsymbol\\nor\\nnatural\\nmetaphor\\nfor\\nthe\\nbook's\\ncomplex\\nof\\nhuman\\ninterrelationships\\nand\\nthe\\nvalues\\nand\\nattitudes\\nthat\\nmotivate\\nthem\\n.\\nDickens\\nnot\\nonly\\nreveals\\ncharacter\\nthrough\\ngesture\\n,\\nhe\\nmakes\\nhands\\na\\ncrucial\\nelement\\nof\\nthe\\nplot\\n,\\na\\nmeans\\nof\\nclarifying\\nthe\\nstructure\\nof\\nthe\\nnovel\\nby\\nhelping\\nto\\ndefine\\nthe\\nhero's\\nrelations\\nwith\\nall\\nthe\\nmajor\\ncharacters\\n,\\nand\\na\\ndevice\\nfor\\nordering\\nsuch\\ndiverse\\nthemes\\nas\\nguilt\\n,\\npursuit\\n,\\ncrime\\n,\\ngreed\\n,\\neducation\\n,\\nmaterialism\\n,\\nenslavement\\n(\\nby\\nboth\\npeople\\nand\\ninstitutions\\n)\\n,\\nfriendship\\n,\\nromantic\\nlove\\n,\\nforgiveness\\n,\\nand\\nredemption\\n.\\nWe\\nhave\\nonly\\nto\\nthink\\nof\\nLady\\nMacbeth\\nor\\nthe\\npoliceman-murderer\\nin\\nThomas\\nBurke's\\nfamous\\nstory\\n,\\n``\\nThe\\nHands\\nOf\\nMr.\\nOttermole\\n''\\n,\\nto\\nrealize\\nthat\\nhands\\noften\\ncall\\nup\\nideas\\nof\\ncrime\\nand\\npunishment\\n.\\nSo\\nit\\nis\\nwith\\nGreat\\nExpectations\\n,\\nwhether\\nthe\\nhands\\nbe\\nOrlick's\\nas\\nhe\\nstrikes\\ndown\\nMrs.\\nGargery\\nor\\nPip's\\nas\\nhe\\nsteals\\na\\npie\\nfrom\\nher\\npantry\\n.\\nSuch\\nassociations\\nsuit\\nwell\\nwith\\nthe\\ngothic\\nor\\nmystery-story\\naspects\\nof\\nDickens'\\nnovel\\n,\\nbut\\n,\\non\\na\\ndeeper\\nplane\\n,\\nthey\\nrelate\\nto\\nthe\\nthemes\\nof\\nsin\\n,\\nguilt\\n,\\nand\\npursuit\\nthat\\nhave\\nrecently\\nbeen\\nanalyzed\\nby\\nother\\ncritics\\n.\\nThe\\nnovel\\nopens\\nwith\\na\\nfugitive\\nconvict\\nfrantically\\ntrying\\nto\\navoid\\nthe\\nnemesis\\nof\\nbeing\\n``\\nlaid\\nhands\\non\\n''\\n--\\na\\nmysterious\\nfigure\\nwho\\nlooks\\ninto\\nPip's\\nfrightened\\neyes\\nin\\nthe\\nchurchyard\\n``\\nas\\nif\\nhe\\nwere\\neluding\\nthe\\nhands\\nof\\nthe\\ndead\\npeople\\n,\\nstretching\\nup\\ncautiously\\nout\\nof\\ntheir\\ngraves\\n,\\nto\\nget\\na\\ntwist\\nupon\\nhis\\nankle\\nand\\npull\\nhim\\nin\\n''\\n.\\nMagwitch\\nterrifies\\nPip\\ninto\\nstealing\\na\\npork\\npie\\nfor\\nhim\\nby\\ncreating\\nthe\\nimage\\nin\\nthe\\nboy's\\nimagination\\nof\\na\\nbogy\\nman\\nwho\\nmay\\n``\\nsoftly\\ncreep\\nhis\\nway\\nto\\nhim\\nand\\ntear\\nhim\\nopen\\n''\\n,\\n``\\nimbruing\\nhis\\nhands\\n''\\nin\\nhim\\n.\\nAs\\nPip\\nagonizes\\nover\\nthe\\ntheft\\nthat\\nhis\\nown\\nhands\\nhave\\ncommitted\\n,\\nhis\\nguilty\\nconscience\\nprojects\\nitself\\nupon\\nthe\\nwooden\\nfinger\\nof\\na\\nlocal\\nsignpost\\n,\\ntransforming\\nit\\ninto\\n``\\na\\nphantom\\ndevoting\\nme\\nto\\nthe\\nHulks\\n''\\n.\\nHeld\\nupside\\ndown\\nin\\nthe\\ngraveyard\\n,\\nPip\\nclings\\nin\\nterror\\n``\\nwith\\nboth\\nhands\\n''\\nto\\nhis\\nconvict\\n;\\n;\\nlater\\nhe\\nflees\\nin\\npanic\\nfrom\\nthe\\nfamily\\ntable\\njust\\nas\\nhis\\ntheft\\nis\\nabout\\nto\\nbe\\ndiscovered\\nand\\nis\\nblocked\\nat\\nthe\\nfront\\ndoor\\nby\\na\\nsoldier\\nwho\\naccusingly\\nholds\\nout\\na\\npair\\nof\\nhandcuffs\\nwhich\\nhe\\nhas\\nbrought\\nto\\nGargery's\\nforge\\nfor\\nmending\\n.\\nThrough\\nsuch\\ndetails\\nDickens\\nindicates\\nat\\nthe\\noutset\\nthat\\nguilt\\nis\\na\\npart\\nof\\nthe\\nironic\\nbond\\nbetween\\nPip\\nand\\nMagwitch\\nwhich\\nis\\nso\\nunpredictably\\nto\\nalter\\nboth\\ntheir\\nlives\\n.\\nSince\\nthey\\ncommonly\\ntranslate\\nthoughts\\nand\\nfeelings\\ninto\\ndeeds\\n,\\nhands\\nnaturally\\nrepresent\\naction\\n,\\nand\\nsince\\nnearly\\nhalf\\nthe\\ncharacters\\nin\\nGreat\\nExpectations\\nare\\nof\\nthe\\nunderworld\\nor\\nclosely\\nallied\\nto\\nit\\n,\\nthe\\nlinking\\nof\\nhands\\nwith\\ncrime\\nor\\nviolence\\nis\\nnot\\nto\\nbe\\nwondered\\nat\\n.\\nDickens\\n,\\nfor\\nexcellent\\npsychological\\nreasons\\n,\\nnever\\nfully\\nreveals\\nMagwitch's\\nfelonious\\npast\\n,\\nbut\\nPip\\n,\\nat\\nthe\\nconvict's\\nclimactic\\nreappearance\\nin\\nLondon\\n,\\nshrinks\\nfrom\\nclasping\\na\\nhand\\nwhich\\nhe\\nfears\\n``\\nmight\\nbe\\nstained\\nwith\\nblood\\n''\\n.\\nOrlick\\nslouches\\nabout\\nthe\\nforge\\n``\\nlike\\nCain\\n''\\nwith\\n``\\nhis\\nhands\\nin\\nhis\\npockets\\n''\\n,\\nand\\nwhen\\nhe\\nshouts\\nabuse\\nat\\nMrs.\\nJoe\\nfor\\nobjecting\\nto\\nhis\\nholiday\\n,\\nshe\\nclaps\\nher\\nhands\\nin\\na\\ntantrum\\n,\\nbeats\\nthem\\n``\\nupon\\nher\\nbosom\\nand\\nupon\\nher\\nknees\\n''\\n,\\nand\\nclenches\\nthem\\nin\\nher\\nhusband's\\nhair\\n.\\nThis\\nlast\\n``\\nrampage\\n''\\nis\\nonly\\nthe\\nprelude\\nto\\nthe\\nvicious\\nblow\\nupon\\nher\\nhead\\n,\\n``\\ndealt\\nby\\nsome\\nunknown\\nhand\\n''\\nwhose\\nidentity\\nis\\nlater\\nrevealed\\nnot\\nverbally\\nbut\\nthrough\\na\\nmanual\\naction\\n--\\nthe\\ntracing\\nof\\nOrlick's\\nhammer\\nupon\\na\\nslate\\n.\\nPip\\nhimself\\nis\\nto\\nfeel\\nthe\\nterror\\nof\\nOrlick's\\n``\\nmurderous\\nhand\\n''\\nin\\nhis\\nsecret\\nrendezvous\\nat\\nthe\\nsluicehouse\\non\\nthe\\nmarshes\\n.\\nDickens\\nlays\\ngreat\\nemphasis\\non\\nthe\\nhands\\nin\\nthis\\nscene\\n.\\nOrlick\\nshakes\\nhis\\nhand\\nat\\nPip\\n,\\nbangs\\nthe\\ntable\\nwith\\nhis\\nfist\\n,\\ndraws\\nhis\\nunclenched\\nhand\\n``\\nacross\\nhis\\nmouth\\nas\\nif\\nhis\\nmouth\\nwatered\\n''\\nfor\\nhis\\nvictim\\n,\\nlets\\nhis\\nhands\\nhang\\n``\\nloose\\nand\\nheavy\\nat\\nhis\\nsides\\n''\\n,\\nand\\nPip\\nobserves\\nhim\\nso\\nintensely\\nthat\\nhe\\nknows\\n``\\nof\\nthe\\nslightest\\naction\\nof\\nhis\\nfingers\\n''\\n.\\nOrlick\\nmight\\nalmost\\nbe\\nMagwitch's\\nbogy\\nman\\ncome\\nalive\\n,\\na\\nfigure\\nof\\nnemesis\\nfrom\\nPip's\\nphantasy\\nof\\nguilt\\n.\\nThe\\nscarred\\n,\\ndisfigured\\nwrists\\nof\\nMr.\\nJaggers'\\nhousekeeper\\nare\\nthe\\ntell-tale\\nmarks\\nof\\nher\\nsinister\\npast\\n,\\nfor\\nher\\nmaster\\n,\\ncoolly\\nexhibiting\\nthem\\nto\\nhis\\ndinner\\nguests\\n,\\nmakes\\na\\npoint\\nof\\nthe\\n``\\nforce\\nof\\ngrip\\nthere\\nis\\nin\\nthese\\nhands\\n''\\n.\\nJaggers'\\niron\\ncontrol\\nover\\nher\\n(\\n``\\nshe\\nwould\\nremove\\nher\\nhands\\nfrom\\nany\\ndish\\nshe\\nput\\nbefore\\nhim\\n,\\nhesitatingly\\n,\\nas\\nif\\nshe\\ndreaded\\nhis\\ncalling\\nher\\nback\\n)\\n''\\n)\\nrests\\non\\nhis\\nhaving\\nonce\\ngot\\nher\\nacquitted\\nof\\na\\nmurder\\ncharge\\nby\\ncleverly\\ncontriving\\nher\\nsleeves\\nat\\nthe\\ntrial\\nto\\nconceal\\nher\\nstrength\\nand\\nby\\npassing\\noff\\nthe\\nlacerations\\non\\nthe\\nbacks\\nof\\nher\\nhands\\nas\\nthe\\nscratches\\nof\\nbrambles\\nrather\\nthan\\nof\\nhuman\\nfingernails\\n.\\nIt\\nis\\nthe\\nsimilarity\\nbetween\\nEstella's\\nhands\\nand\\nMolly's\\n(\\n``\\nThe\\naction\\nof\\nher\\nfingers\\nwas\\nlike\\nthe\\naction\\nof\\nknitting\\n''\\n)\\nthat\\nprovides\\nPip\\nwith\\na\\nvital\\nclue\\nto\\nthe\\nreal\\nidentity\\nof\\nboth\\nand\\nestablishes\\na\\nsymbolic\\nconnection\\nbetween\\nthe\\nunderworld\\nof\\ncrime\\nand\\nthe\\ngenteel\\ncruelty\\nof\\nSatis\\nHouse\\n.\\nFinally\\n,\\nMagwitch's\\npursuit\\nof\\nCompeyson\\n,\\nhis\\narchenemy\\nand\\nbetrayer\\n,\\nbegins\\nby\\nhis\\nholding\\nhim\\nin\\na\\nvicelike\\ngrip\\non\\nthe\\nriver\\nflats\\nto\\nfrustrate\\nhis\\nescape\\nand\\nculminates\\nin\\nhis\\n``\\nlaying\\nhis\\nhand\\non\\nhis\\ncloak\\nto\\nidentify\\nhim\\n''\\n,\\nthus\\nprecipitating\\nthe\\ndeath-locked\\nstruggle\\nin\\nthe\\nwater\\nduring\\nwhich\\nCompeyson\\ndrowns\\n.\\nMagwitch's\\nhand\\nhere\\nironically\\nbecomes\\nthe\\nagent\\nof\\njustice\\n.\\nBut\\nonly\\nin\\none\\nof\\nits\\naspects\\nis\\nGreat\\nExpectations\\na\\ntale\\nof\\nviolence\\n,\\nrevenge\\n,\\nand\\nretribution\\n.\\nMoney\\n,\\nso\\nimportant\\na\\ntheme\\nelsewhere\\nin\\nDickens\\n,\\nis\\nhere\\ncentral\\n,\\nand\\nhands\\nare\\noften\\nassociated\\nin\\nsome\\nway\\nwith\\nthe\\nfalse\\nvalues\\n--\\nacquisitiveness\\n,\\nsnobbery\\n,\\nself-interest\\n,\\nhypocrisy\\n,\\ntoadyism\\n,\\nirresponsibility\\n,\\ninjustice\\n--\\nthat\\nattach\\nto\\na\\nsociety\\nbased\\nupon\\nthe\\npursuit\\nof\\nwealth\\n.\\nDickens\\nsuggests\\nthe\\neconomic\\nevils\\nof\\nsuch\\na\\nsociety\\non\\nthe\\nfirst\\npage\\nof\\nhis\\nnovel\\nin\\nthe\\ndescription\\nof\\nPip's\\nfive\\nlittle\\ndead\\nbrothers\\n``\\nwho\\ngave\\nup\\ntrying\\nto\\nget\\na\\nliving\\nexceedingly\\nearly\\nin\\nthat\\nuniversal\\nstruggle\\n''\\n,\\nwho\\nseemed\\nto\\nhave\\n``\\nall\\nbeen\\nborn\\non\\ntheir\\nbacks\\nwith\\ntheir\\nhands\\nin\\ntheir\\ntrousers-pockets\\n,\\nand\\nhad\\nnever\\ntaken\\nthem\\nout\\nin\\nthis\\nstate\\nof\\nexistence\\n''\\n.\\nPip's\\ngreat\\nexpectations\\n,\\nhis\\nprogress\\nthrough\\nillusion\\nand\\ndisillusionment\\n,\\nturn\\n,\\nsomewhat\\nas\\nthey\\ndo\\nfor\\nthe\\nnaive\\nhero\\nof\\nDreiser's\\nAmerican\\nTragedy\\n,\\nupon\\nthe\\nlure\\nof\\ngenteel\\nprosperity\\nthrough\\nunearned\\nincome\\n--\\nwhat\\nWemmick\\ncalls\\n``\\nportable\\nproperty\\n''\\nand\\nwhat\\nJaggers\\nreproaches\\nPip\\nfor\\nletting\\n``\\nslip\\nthrough\\n(\\nhis\\n)\\nfingers\\n''\\n.\\nSince\\na\\ngentleman\\nmust\\n,\\nif\\npossible\\n,\\navoid\\nsullying\\nthem\\nby\\nwork\\n,\\nhis\\nhands\\n,\\nas\\nimportantly\\nas\\nhis\\naccent\\n,\\nbecome\\nthe\\nindex\\nof\\nsocial\\nstatus\\n.\\nAlmost\\nthe\\nfirst\\nstep\\nin\\nthe\\ncorruption\\nof\\nPip's\\nvalues\\nis\\nthe\\nunworthy\\nshame\\nhe\\nfeels\\nwhen\\nEstella\\ncruelly\\nremarks\\nthe\\ncoarseness\\nof\\nhis\\nhands\\n:\\n``\\nThey\\nhad\\nnever\\ntroubled\\nme\\nbefore\\n,\\nbut\\nthey\\ntroubled\\nme\\nnow\\n,\\nas\\nvulgar\\nappendages\\n''\\n.\\nPip\\nimagines\\nhow\\nEstella\\nwould\\nlook\\ndown\\nupon\\nJoe's\\nhands\\n,\\nroughened\\nby\\nwork\\nin\\nthe\\nsmithy\\n,\\nand\\nthe\\ndeliberate\\ncontrast\\nbetween\\nher\\nwhite\\nhands\\nand\\nhis\\nblackened\\nones\\nis\\nmade\\nto\\nsymbolize\\nthe\\nopposition\\nof\\nvalues\\nbetween\\nwhich\\nPip\\nstruggles\\n--\\nidleness\\nand\\nwork\\n,\\nartificiality\\nand\\nnaturalness\\n,\\ngentility\\nand\\ncommonness\\n,\\ncoldness\\nand\\naffection\\n--\\nin\\nfact\\n,\\nbetween\\nSatis\\nHouse\\nand\\nthe\\nforge\\n.\\nWhen\\nthe\\nsnobbery\\nthat\\nalienates\\nPip\\nfrom\\nJoe\\nfinally\\ngives\\nway\\nbefore\\nthe\\ndeeper\\nand\\nstronger\\nforce\\nof\\nlove\\n,\\nthe\\nreunion\\nis\\nmarked\\nby\\nan\\nembarrassed\\nhandshake\\nat\\nwhich\\nPip\\nexclaims\\n:\\n``\\nNo\\n,\\ndon't\\nwipe\\nit\\noff\\n--\\nfor\\nGod's\\nsake\\n,\\ngive\\nme\\nyour\\nblackened\\nhand\\n''\\n!\\n!\\nPip's\\nabject\\nleave-taking\\nof\\nMiss\\nHavisham\\n,\\nduring\\nwhich\\nhe\\nkneels\\nto\\nkiss\\nher\\nhand\\n,\\nsignalizes\\nhis\\nhomage\\nto\\na\\nsupposed\\npatroness\\nwho\\nseems\\nto\\nbe\\nopening\\nup\\nfor\\nhim\\na\\nnew\\nworld\\nof\\nglamour\\n;\\n;\\nwhen\\n,\\non\\nthe\\njourney\\nto\\nLondon\\nthat\\nimmediately\\nfollows\\n,\\nhe\\npauses\\nnostalgically\\nto\\nlay\\nhis\\nhand\\nupon\\nthe\\nfinger-post\\nat\\nthe\\nend\\nof\\nthe\\nvillage\\n,\\nthe\\nwooden\\npointer\\nsymbolically\\ndesignates\\na\\nspiritual\\nfrontier\\nbetween\\ninnocence\\nand\\nthe\\ncorruption\\nof\\nworldly\\nvanity\\n.\\nIncidentally\\n,\\none\\ncannot\\nmiss\\nthe\\nsignificance\\nof\\nthis\\ngesture\\n,\\nfor\\nDickens\\nreintroduces\\nit\\nassociatively\\nin\\nPip's\\nmind\\nat\\nanother\\nmoral\\nand\\npsychological\\ncrisis\\n--\\nhis\\npainful\\nrecognition\\n,\\nin\\na\\ntalk\\nwith\\nHerbert\\nPocket\\n,\\nthat\\nhis\\nhopeless\\nattachment\\nto\\nEstella\\nis\\nas\\nself-destructive\\nas\\nit\\nis\\nromantic\\n.\\nIn\\nboth\\ncases\\nthe\\nfinger-post\\nrepresents\\nPip's\\nheightened\\nawareness\\nof\\ncontrary\\nmagnetisms\\n.\\nA\\nvariety\\nof\\nhand\\nmovements\\nhelps\\ndramatize\\nthe\\nmoral\\nclimate\\nof\\nthe\\nfallen\\nworld\\nPip\\nencounters\\nbeyond\\nthe\\nforge\\n.\\nThe\\nvulture-like\\nattendance\\nof\\nthe\\nPocket\\nfamily\\nupon\\nMiss\\nHavisham\\nis\\nsummed\\nup\\nin\\nthe\\nhypocritical\\ngestures\\nof\\nMiss\\nCamilla\\nPocket\\n,\\nwho\\nputs\\nher\\nhand\\nto\\nher\\nthroat\\nin\\na\\nfeigned\\nspasm\\nof\\ngrief-stricken\\nchoking\\n,\\nthen\\nlays\\nit\\n``\\nupon\\nher\\nheaving\\nbosom\\n''\\nwith\\n``\\nan\\nunnatural\\nfortitude\\nof\\nmanner\\n''\\n,\\nand\\nfinally\\nkisses\\nit\\nto\\nMiss\\nHavisham\\nin\\na\\nparody\\nof\\nthe\\nlady's\\nown\\nmannerism\\ntoward\\nEstella\\n.\\nPumblechook's\\nhands\\nthroughout\\nthe\\nnovel\\nserve\\nto\\ntravesty\\ngreed\\nand\\nhypocritical\\nself-aggrandizement\\n.\\nWe\\nfirst\\nsee\\nhim\\nshaking\\nMrs.\\nJoe's\\nhand\\non\\ndiscovering\\nthe\\nsizable\\namount\\nof\\nthe\\npremium\\npaid\\nto\\nher\\nhusband\\nfor\\nPip's\\nindenture\\nas\\nan\\napprentice\\nand\\nlater\\npumping\\nPip's\\nhands\\n``\\nfor\\nthe\\nhundredth\\ntime\\nat\\nleast\\n''\\n(\\n``\\nMay\\nI\\n--\\nmay\\nI\\n--\\n''\\n?\\n?\\n)\\nin\\neffusive\\ncongratulation\\nto\\nPip\\non\\nhis\\nexpectations\\n.\\nWe\\ntake\\nleave\\nof\\nPumblechook\\nas\\nhe\\ngloats\\nover\\nPip's\\nloss\\nof\\nfortune\\n,\\nextending\\nhis\\nhand\\n``\\nwith\\na\\nmagnificently\\nforgiving\\nair\\n''\\nand\\nexhibiting\\n``\\nthe\\nsame\\nfat\\nfive\\nfingers\\n''\\n,\\none\\nof\\nwhich\\nhe\\nidentifies\\nwith\\n``\\nthe\\nfinger\\nof\\nProvidence\\n''\\nand\\nshakes\\nat\\nPip\\nin\\na\\ncanting\\nimputation\\nof\\nthe\\nlatter's\\n``\\ningratitoode\\n''\\nand\\nhis\\nown\\ngenerosity\\nas\\nPip's\\n``\\nearliest\\nbenefactor\\n''\\n.\\nPip\\nfirst\\nlearns\\n``\\nthe\\nstupendous\\npower\\nof\\nmoney\\n''\\nfrom\\nthe\\nsycophantic\\ntailor\\n,\\nMr.\\nTrabb\\n,\\nwhose\\nbrutality\\nto\\nhis\\nboy\\nhelper\\nexactly\\nmatches\\nthe\\nfinancial\\nresource\\nof\\neach\\nnew\\ncustomer\\n,\\nand\\nwhose\\nfawning\\nhands\\ntouch\\n``\\nthe\\noutside\\nof\\neach\\nelbow\\n''\\nand\\n``\\nrub\\n''\\nPip\\nout\\nof\\nthe\\nshop\\n.\\nThe\\nrespectability\\nwhich\\nmoney\\nconfers\\nimplies\\na\\ndifferent\\netiquette\\n,\\nand\\n,\\nupon\\ntaking\\nup\\nthe\\nlife\\nof\\na\\nLondon\\ngentleman\\n,\\nPip\\nmust\\nlearn\\nfrom\\nHerbert\\nPocket\\nthat\\n``\\nthe\\nspoon\\nis\\nnot\\ngenerally\\nused\\nover-hand\\n,\\nbut\\nunder\\n''\\n.\\n\",\n",
       " \"1\\n.\\nIntroduction\\nIt\\nhas\\nrecently\\nbecome\\npractical\\nto\\nuse\\nthe\\nradio\\nemission\\nof\\nthe\\nmoon\\nand\\nplanets\\nas\\na\\nnew\\nsource\\nof\\ninformation\\nabout\\nthese\\nbodies\\nand\\ntheir\\natmospheres\\n.\\nThe\\nresults\\nof\\npresent\\nobservations\\nof\\nthe\\nthermal\\nradio\\nemission\\nof\\nthe\\nmoon\\nare\\nconsistent\\nwith\\nthe\\nvery\\nlow\\nthermal\\nconductivity\\nof\\nthe\\nsurface\\nlayer\\nwhich\\nwas\\nderived\\nfrom\\nthe\\nvariation\\nin\\nthe\\ninfrared\\nemission\\nduring\\neclipses\\n(\\ne.g.\\n,\\nGarstung\\n,\\n1958\\n)\\n.\\nWhen\\nsufficiently\\naccurate\\nand\\ncomplete\\nmeasurements\\nare\\navailable\\n,\\nit\\nwill\\nbe\\npossible\\nto\\nset\\nlimits\\non\\nthe\\nthermal\\nand\\nelectrical\\ncharacteristics\\nof\\nthe\\nsurface\\nand\\nsubsurface\\nmaterials\\nof\\nthe\\nmoon\\n.\\nObservations\\nof\\nthe\\nradio\\nemission\\nof\\na\\nplanet\\nwhich\\nhas\\nan\\nextensive\\natmosphere\\nwill\\nprobe\\nthe\\natmosphere\\nto\\na\\ngreater\\nextent\\nthan\\nthose\\nusing\\nshorter\\nwave\\nlengths\\nand\\nshould\\nin\\nsome\\ncases\\ngive\\notherwise\\nunobtainable\\ninformation\\nabout\\nthe\\ncharacteristics\\nof\\nthe\\nsolid\\nsurface\\n.\\nRadio\\nobservations\\nof\\nVenus\\nand\\nJupiter\\nhave\\nalready\\nsupplied\\nunexpected\\nexperimental\\ndata\\non\\nthe\\nphysical\\nconditions\\nof\\nthese\\nplanets\\n.\\nThe\\nobserved\\nintensity\\nof\\nthe\\nradio\\nemission\\nof\\nVenus\\nis\\nmuch\\nhigher\\nthan\\nthe\\nexpected\\nthermal\\nintensity\\n,\\nalthough\\nthe\\nspectrum\\nindicated\\nby\\nmeasurements\\nat\\nwave\\nlengths\\nnear\\n3\\ncm\\nand\\n10\\ncm\\nis\\nlike\\nthat\\nof\\na\\nblack\\nbody\\nat\\nabout\\n600-degrees\\n.\\nThis\\nresult\\nsuggests\\na\\nvery\\nhigh\\ntemperature\\nat\\nthe\\nsolid\\nsurface\\nof\\nthe\\nplanet\\n,\\nalthough\\nthere\\nis\\nthe\\npossibility\\nthat\\nthe\\nobserved\\nradiation\\nmay\\nbe\\na\\ncombination\\nof\\nboth\\nthermal\\nand\\nnon-thermal\\ncomponents\\nand\\nthat\\nthe\\nobserved\\nspectrum\\nis\\nthat\\nof\\na\\nblack\\nbody\\nmerely\\nby\\ncoincidence\\n.\\nFor\\nthe\\ncase\\nof\\nJupiter\\n,\\nthe\\nradio\\nemission\\nspectrum\\nis\\ndefinitely\\nnot\\nlike\\nthe\\nspectrum\\nof\\na\\nblack-body\\nradiator\\n,\\nand\\nit\\nseems\\nvery\\nlikely\\nthat\\nthe\\nradiation\\nreaching\\nthe\\nearth\\nis\\na\\ncombination\\nof\\nthermal\\nradiation\\nfrom\\nthe\\natmosphere\\nand\\nnon-thermal\\ncomponents\\n.\\nOf\\nthe\\nremaining\\nplanets\\n,\\nonly\\nMars\\nand\\nSaturn\\nhave\\nbeen\\nobserved\\nas\\nradio\\nsources\\n,\\nand\\nnot\\nvery\\nmuch\\ninformation\\nis\\navailable\\n.\\nMars\\nhas\\nbeen\\nobserved\\ntwice\\nat\\nabout\\n3-cm\\nwave\\nlength\\n,\\nand\\nthe\\nintensity\\nof\\nthe\\nobserved\\nradiation\\nis\\nin\\nreasonable\\nagreement\\nwith\\nthe\\nthermal\\nradiation\\nwhich\\nmight\\nbe\\npredicted\\non\\nthe\\nbasis\\nof\\nthe\\nknown\\ntemperature\\nof\\nMars\\n.\\nThe\\nlow\\nintensity\\nof\\nthe\\nradiation\\nfrom\\nSaturn\\nhas\\nlimited\\nobservations\\n,\\nbut\\nagain\\nthe\\nmeasured\\nradiation\\nseems\\nto\\nbe\\nconsistent\\nwith\\na\\nthermal\\norigin\\n.\\nNo\\nattempts\\nto\\nmeasure\\nthe\\nradio\\nemission\\nof\\nthe\\nremaining\\nplanets\\nhave\\nbeen\\nreported\\n,\\nand\\n,\\nbecause\\nof\\ntheir\\ndistances\\n,\\nsmall\\ndiameters\\n,\\nor\\nlow\\ntemperatures\\n,\\nthe\\nthermal\\nradiation\\nat\\nradio\\nwave\\nlengths\\nreaching\\nthe\\nearth\\nfrom\\nthese\\nsources\\nis\\nexpected\\nto\\nbe\\nof\\nvery\\nlow\\nintensity\\n.\\nIn\\nspite\\nof\\nthis\\n,\\nthe\\nvery\\nlarge\\nradio\\nreflectors\\nand\\nimproved\\namplifying\\ntechniques\\nwhich\\nare\\nnow\\nbecoming\\navailable\\nshould\\nmake\\nit\\npossible\\nto\\nobserve\\nthe\\nradio\\nemission\\nof\\nmost\\nof\\nthe\\nplanets\\nin\\na\\nfew\\nyears\\n.\\nThe\\nstudy\\nof\\nthe\\nradio\\nemission\\nof\\nthe\\nmoon\\nand\\nplanets\\nbegan\\nwith\\nthe\\ndetection\\nof\\nthe\\nthermal\\nradiation\\nof\\nthe\\nmoon\\nat\\n1.25-cm\\nwave\\nlength\\nby\\nDicke\\nand\\nBeringer\\n(\\n1946\\n)\\n.\\nThis\\nwas\\nfollowed\\nby\\na\\ncomprehensive\\nseries\\nof\\nobservations\\nof\\nthe\\n1.25-cm\\nemission\\nof\\nthe\\nmoon\\nover\\nthree\\nlunar\\ncycles\\nby\\nPiddington\\nand\\nMinnett\\n(\\n1949\\n)\\n.\\nThey\\ndeduced\\nfrom\\ntheir\\nmeasurements\\nthat\\nthe\\nradio\\nemission\\nfrom\\nthe\\nwhole\\ndisk\\nof\\nthe\\nmoon\\nvaried\\nduring\\na\\nlunation\\nin\\na\\nroughly\\nsinusoidal\\nfashion\\n;\\n;\\nthat\\nthe\\namplitude\\nof\\nthe\\nvariation\\nwas\\nconsiderably\\nless\\nthan\\nthe\\namplitude\\nof\\nthe\\nvariation\\nin\\nthe\\ninfrared\\nemission\\nas\\nmeasured\\nby\\nPettit\\nand\\nNicholson\\n(\\n1930\\n)\\nand\\nPettit\\n(\\n1935\\n)\\n;\\n;\\nand\\nthat\\nthe\\nmaximum\\nof\\nthe\\nradio\\nemission\\ncame\\nabout\\n3-1\\ndays\\nafter\\nFull\\nMoon\\n,\\nwhich\\nis\\nagain\\nin\\ncontrast\\nto\\nthe\\ninfrared\\nemission\\n,\\nwhich\\nreaches\\nits\\nmaximum\\nat\\nFull\\nMoon\\n.\\nPiddington\\nand\\nMinnett\\nexplained\\ntheir\\nobservations\\nby\\npointing\\nout\\nthat\\nrocklike\\nmaterials\\nwhich\\nare\\nlikely\\nto\\nmake\\nup\\nthe\\nsurface\\nof\\nthe\\nmoon\\nwould\\nbe\\npartially\\ntransparent\\nto\\nradio\\nwaves\\n,\\nalthough\\nopaque\\nto\\ninfrared\\nradiation\\n.\\nThe\\ninfrared\\nemission\\ncould\\nthen\\nbe\\nassumed\\nto\\noriginate\\nat\\nthe\\nsurface\\nof\\nthe\\nmoon\\n,\\nwhile\\nthe\\nradio\\nemission\\noriginates\\nat\\nsome\\ndepth\\nbeneath\\nthe\\nsurface\\n,\\nwhere\\nthe\\ntemperature\\nvariation\\ndue\\nto\\nsolar\\nradiation\\nis\\nreduced\\nin\\namplitude\\nand\\nshifted\\nin\\nphase\\n.\\nSince\\nthe\\nabsorption\\nof\\nradio\\nwaves\\nin\\nrocklike\\nmaterial\\nvaries\\nwith\\nwave\\nlength\\n,\\nit\\nshould\\nbe\\npossible\\nto\\nsample\\nthe\\ntemperature\\nvariation\\nat\\ndifferent\\ndepths\\nbeneath\\nthe\\nsurface\\nand\\npossibly\\ndetect\\nchanges\\nin\\nthe\\nstructure\\nor\\ncomposition\\nof\\nthe\\nlunar\\nsurface\\nmaterial\\n.\\nThe\\nradio\\nemission\\nof\\na\\nplanet\\nwas\\nfirst\\ndetected\\nin\\n1955\\n,\\nwhen\\nBurke\\nand\\nFranklin\\n(\\n1955\\n)\\nidentified\\nthe\\norigin\\nof\\ninterference-like\\nradio\\nnoise\\non\\ntheir\\nrecords\\nat\\nabout\\n15\\nmeters\\nwave\\nlength\\nas\\nemission\\nfrom\\nJupiter\\n.\\nThis\\nsporadic\\ntype\\nof\\nplanetary\\nradiation\\nis\\ndiscussed\\nby\\nBurke\\n(\\nchap.\\n13\\n)\\nand\\nGallet\\n(\\nchap.\\n14\\n)\\n.\\nSteady\\nradiation\\nwhich\\nwas\\npresumably\\nof\\nthermal\\norigin\\nwas\\nobserved\\nfrom\\nVenus\\nat\\n3.15\\nand\\n9.4\\ncm\\n,\\nand\\nfrom\\nMars\\nand\\nJupiter\\nat\\n3.15\\ncm\\nin\\n1956\\n(\\nMayer\\n,\\nMcCullough\\n,\\nand\\nSloanaker\\n,\\n1958\\n,\\nA\\n,\\nB\\n,\\nC\\n)\\n,\\nand\\nfrom\\nSaturn\\nat\\n3.75\\ncm\\nin\\n1957\\n(\\nDrake\\nand\\nEwen\\n,\\n1958\\n)\\n.\\nIn\\nthe\\nrelatively\\nshort\\ntime\\nsince\\nthese\\nearly\\nobservations\\n,\\nVenus\\nhas\\nbeen\\nobserved\\nat\\nadditional\\nwave\\nlengths\\nin\\nthe\\nrange\\nfrom\\n0.8\\nto\\n10.2\\ncm\\n,\\nand\\nJupiter\\nhas\\nbeen\\nobserved\\nover\\nthe\\nwave-length\\nrange\\nfrom\\n3.03\\nto\\n68\\nAj\\n.\\nThe\\nobservable\\ncharacteristics\\nof\\nplanetary\\nradio\\nradiation\\nare\\nthe\\nintensity\\n,\\nthe\\npolarization\\n,\\nand\\nthe\\ndirection\\nof\\narrival\\nof\\nthe\\nwaves\\n.\\nThe\\nmaximum\\nangular\\ndiameter\\nof\\nany\\nplanetary\\ndisk\\nas\\nobserved\\nfrom\\nthe\\nearth\\nis\\nabout\\n1\\nminute\\nof\\narc\\n.\\nThis\\nis\\nmuch\\nsmaller\\nthan\\nthe\\nhighest\\nresolution\\nof\\neven\\nthe\\nvery\\nlarge\\nreflectors\\nnow\\nunder\\nconstruction\\n,\\nand\\nconsequently\\nthe\\nradio\\nemission\\nof\\ndifferent\\nregions\\nof\\nthe\\ndisk\\ncannot\\nbe\\nresolved\\n.\\nIt\\nshould\\nbe\\npossible\\n,\\nhowever\\n,\\nto\\nput\\nuseful\\nlimits\\non\\nthe\\ndiameters\\nof\\nthe\\nradio\\nsources\\nby\\nobserving\\nwith\\nlarge\\nreflectors\\nor\\nwith\\ninterferometers\\n.\\nMeasurements\\nof\\npolarization\\nare\\npresently\\nlimited\\nby\\napparatus\\nsensitivity\\nand\\nwill\\nremain\\ndifficult\\nbecause\\nof\\nthe\\nlow\\nintensity\\nof\\nthe\\nplanetary\\nradiation\\nat\\nthe\\nearth\\n.\\nThere\\nhave\\nbeen\\nfew\\nmeasurements\\nspecifically\\nfor\\nthe\\ndetermination\\nof\\nthe\\npolarization\\nof\\nplanetary\\nradiation\\n.\\nThe\\nmeasurements\\nmade\\nwith\\nthe\\nNRL\\n50-foot\\nreflector\\n,\\nwhich\\nis\\naltitude-azimuth-mounted\\n,\\nwould\\nhave\\nshown\\na\\nsystematic\\nchange\\nwith\\nlocal\\nhour\\nangle\\nin\\nthe\\nmeasured\\nintensities\\nof\\nVenus\\nand\\nJupiter\\nif\\na\\nsubstantial\\npart\\nof\\nthe\\nradiation\\nhad\\nbeen\\nlinearly\\npolarized\\n.\\nRecent\\ninterferometer\\nmeasurements\\n(\\nRadhakrishnan\\nand\\nRoberts\\n,\\n1960\\n)\\nhave\\nshown\\nthe\\n960-mc\\nemission\\nof\\nJupiter\\nto\\nbe\\npartially\\npolarized\\nand\\nto\\noriginate\\nin\\na\\nregion\\nof\\nlarger\\ndiameter\\nthan\\nthe\\nvisible\\ndisk\\n.\\nOther\\nthan\\nthis\\nvery\\nsignificant\\nresult\\n,\\nmost\\nof\\nthe\\ninformation\\nnow\\navailable\\nabout\\nthe\\nradio\\nemission\\nof\\nthe\\nplanets\\nis\\nrestricted\\nto\\nthe\\nintensity\\nof\\nthe\\nradiation\\n.\\nThe\\nconcept\\nof\\napparent\\nblack-body\\ntemperature\\nis\\nused\\nto\\ndescribe\\nthe\\nradiation\\nreceived\\nfrom\\nthe\\nmoon\\nand\\nthe\\nplanets\\n.\\nThe\\nreceived\\nradiation\\nis\\ncompared\\nwith\\nthe\\nradiation\\nfrom\\na\\nhypothetical\\nblack\\nbody\\nwhich\\nsubtends\\nthe\\nsame\\nsolid\\nangle\\nas\\nthe\\nvisible\\ndisk\\nof\\nthe\\nplanet\\n.\\nThe\\napparent\\nblack-body\\ndisk\\ntemperature\\nis\\nthe\\ntemperature\\nwhich\\nmust\\nbe\\nassumed\\nfor\\nthe\\nblack\\nbody\\nin\\norder\\nthat\\nthe\\nintensity\\nof\\nits\\nradiation\\nshould\\nequal\\nthat\\nof\\nthe\\nobserved\\nradiation\\n.\\nThe\\nuse\\nof\\nthis\\nconcept\\ndoes\\nnot\\nspecify\\nthe\\norigin\\nof\\nthe\\nradiation\\n,\\nand\\nonly\\nif\\nthe\\nplanet\\nreally\\nradiates\\nas\\na\\nblack\\nbody\\n,\\nwill\\nthe\\napparent\\nblack-body\\ntemperature\\ncorrespond\\nto\\nthe\\nphysical\\ntemperature\\nof\\nthe\\nemitting\\nmaterial\\n.\\nThe\\nradio\\nradiation\\nof\\nthe\\nsun\\nwhich\\nis\\nreflected\\nfrom\\nthe\\nmoon\\nand\\nplanets\\nshould\\nbe\\nnegligible\\ncompared\\nwith\\ntheir\\nthermal\\nemission\\nat\\ncentimeter\\nwave\\nlengths\\n,\\nexcept\\npossibly\\nat\\ntimes\\nof\\nexceptional\\noutbursts\\nof\\nsolar\\nradio\\nnoise\\n.\\nThe\\nquiescent\\nlevel\\nof\\ncentimeter\\nwave-length\\nsolar\\nradiation\\nwould\\nincrease\\nthe\\naverage\\ndisk\\nbrightness\\ntemperature\\nby\\nless\\nthan\\n1-degree\\n.\\nAt\\nmeter\\nwave\\nlengths\\nan\\nincrease\\nof\\nthe\\norder\\nof\\n10-degrees\\nin\\nthe\\naverage\\ndisk\\ntemperatures\\nof\\nthe\\nnearer\\nplanets\\nwould\\nbe\\nexpected\\n.\\nTherefore\\n,\\nneglecting\\nthe\\nextreme\\noutbursts\\n,\\nreflected\\nsolar\\nradiation\\nis\\nnot\\nexpected\\nto\\ncause\\nsizable\\nerrors\\nin\\nthe\\nmeasurements\\nof\\nplanetary\\nradiation\\nin\\nthe\\ncentimeter-\\nand\\ndecimeter-wave-length\\nrange\\n.\\n2\\n.\\nThe\\nmoon\\n2.1\\nobservations\\nRadio\\nobservations\\nof\\nthe\\nmoon\\nhave\\nbeen\\nmade\\nover\\nthe\\nrange\\nof\\nwave\\nlengths\\nfrom\\n4.3\\nmm\\nto\\n75\\ncm\\n,\\nand\\nthe\\nresults\\nare\\nsummarized\\nin\\nTable\\n1\\n.\\nObservations\\nhave\\nalso\\nbeen\\nmade\\nat\\n1.5\\nmm\\nusing\\noptical\\ntechniques\\n(\\nSinton\\n,\\n1955\\n,\\n1956\\n,\\n;\\n;\\nsee\\nalso\\nchap.\\n11\\n)\\n.\\nNot\\nall\\nthe\\nobservers\\nhave\\nused\\nthe\\nsame\\nprocedures\\nor\\nmade\\nthe\\nsame\\nassumptions\\nabout\\nthe\\nlunar\\nbrightness\\ndistribution\\nwhen\\nreducing\\nthe\\ndata\\n,\\nand\\nthis\\n,\\ntogether\\nwith\\ndifferences\\nin\\nthe\\nmethods\\nof\\ncalibrating\\nthe\\nantennae\\nand\\nreceivers\\n,\\nmust\\naccount\\nfor\\nmuch\\nof\\nthe\\ndisagreement\\nin\\nthe\\nmeasured\\nradio\\nbrightness\\ntemperatures\\n.\\nIn\\nthe\\nobservations\\nat\\n4.3\\nmm\\n(\\nCoates\\n,\\n1959\\n)\\n,\\nthe\\ndiameter\\nof\\nthe\\nantenna\\nbeam\\n,\\n6'.7\\n,\\nwas\\nsmall\\nenough\\nto\\nallow\\nresolution\\nof\\nsome\\nof\\nthe\\nlarger\\nfeatures\\nof\\nthe\\nlunar\\nsurface\\n,\\nand\\ncontour\\ndiagrams\\nhave\\nbeen\\nmade\\nof\\nthe\\nlunar\\nbrightness\\ndistribution\\nat\\nthree\\nlunar\\nphases\\n.\\nThese\\nobservations\\nindicate\\nthat\\nthe\\nlunar\\nmaria\\nheat\\nup\\nmore\\nrapidly\\nand\\nalso\\ncool\\noff\\nmore\\nrapidly\\nthan\\ndo\\nthe\\nmountainous\\nregions\\n.\\nMare\\nImbrium\\nseems\\nto\\nbe\\nan\\nexception\\nand\\nremains\\ncooler\\nthan\\nthe\\nregions\\nwhich\\nsurround\\nit\\n.\\nThese\\ncontour\\ndiagrams\\nalso\\nsuggest\\na\\nrather\\nrapid\\nfalloff\\nin\\nthe\\nradio\\nbrightness\\nwith\\nlatitude\\n.\\nVery\\nrecently\\n,\\nobservations\\nhave\\nbeen\\nmade\\nat\\n8-mm\\nwave\\nlength\\nwith\\na\\nreflector\\n22\\nmeters\\nin\\ndiameter\\nwith\\na\\nresultant\\nbeam\\nwidth\\nof\\nonly\\nabout\\n2'\\n(\\nAmenitskii\\n,\\nNoskova\\n,\\nand\\nSalomonovich\\n,\\n1960\\n)\\n.\\nThe\\nconstant-temperature\\ncontours\\nare\\nmuch\\nsmoother\\nthan\\nthose\\nobserved\\nat\\n4.3\\nmm\\nby\\nCoates\\n(\\n1959\\n)\\nand\\napparently\\nthe\\nemission\\nat\\n8\\nmm\\nis\\nnot\\nnearly\\nso\\nsensitive\\nto\\ndifferences\\nin\\nsurface\\nfeatures\\n.\\nSuch\\nhigh-resolution\\nobservations\\nas\\nthese\\nare\\nneeded\\nat\\nseveral\\nwave\\nlengths\\nin\\norder\\nthat\\nthe\\nradio\\nemission\\nof\\nthe\\nmoon\\ncan\\nbe\\nproperly\\ninterpreted\\n.\\nThe\\nobservations\\nof\\nMayer\\n,\\nMcCullough\\n,\\nand\\nSloanaker\\nat\\n3.15\\ncm\\nand\\nof\\nSloanaker\\nat\\n10.3\\ncm\\nhave\\nnot\\npreviously\\nbeen\\npublished\\nand\\nwill\\nbe\\nbriefly\\ndescribed\\n.\\nMeasurements\\nat\\n3.15\\ncm\\nwere\\nobtained\\non\\n11\\ndays\\nspread\\nover\\nthe\\ninterval\\nMay\\n3\\nto\\nJune\\n19\\n,\\n1956\\n,\\nusing\\nthe\\n50-foot\\nreflector\\nat\\nthe\\nU.\\nS.\\nNaval\\nResearch\\nLaboratory\\nin\\nWashington\\n.\\nThe\\nhalf-intensity\\ndiameter\\nof\\nthe\\nantenna\\nbeam\\nwas\\nabout\\n9'\\n,\\nand\\nthe\\nangle\\nsubtended\\nby\\nthe\\nmoon\\nincluded\\nthe\\nentire\\nmain\\nbeam\\nand\\npart\\nof\\nthe\\nfirst\\nside\\nlobes\\n.\\nThe\\nantenna\\npatterns\\nand\\nthe\\npower\\ngain\\nat\\nthe\\npeak\\nof\\nthe\\nbeam\\nwere\\nboth\\nmeasured\\n(\\nMayer\\n,\\nMcCullough\\n,\\nand\\nSloanaker\\n,\\n1958\\n)\\n,\\nso\\nthat\\nthe\\nabsolute\\npower\\nsensitivity\\nof\\nthe\\nantenna\\nbeam\\nover\\nthe\\nsolid\\nangle\\nof\\nthe\\nmoon\\nwas\\nknown\\n.\\nThe\\nratio\\nof\\nthe\\nmeasured\\nantenna\\ntemperature\\nchange\\nduring\\na\\ndrift\\nscan\\nacross\\nthe\\nmoon\\nto\\nthe\\naverage\\nbrightness\\ntemperature\\nof\\nthe\\nmoon\\nover\\nthe\\nantenna\\nbeam\\n(\\nassuming\\nthat\\nthe\\nbrightness\\ntemperature\\nof\\nthe\\nsky\\nis\\nnegligible\\n)\\nwas\\nfound\\n,\\nby\\ngraphical\\nintegration\\nof\\nthe\\nantenna\\ndirectivity\\ndiagram\\n,\\nto\\nbe\\n0.85\\n.\\nThe\\nmeasured\\nbrightness\\ntemperature\\nis\\na\\ngood\\napproximation\\nto\\nthe\\nbrightness\\ntemperature\\nat\\nthe\\ncenter\\nof\\nthe\\nlunar\\ndisk\\nbecause\\nof\\nthe\\nnarrow\\nantenna\\nbeam\\nand\\nbecause\\nthe\\ntemperature\\ndistribution\\nover\\nthe\\ncentral\\nportion\\nof\\nthe\\nmoon's\\ndisk\\nis\\nnearly\\nuniform\\n.\\nThe\\nresult\\nof\\nthe\\nobservations\\nis\\nAf\\nwhere\\nthe\\nphase\\nangle\\n,\\nQ\\n,\\nis\\nmeasured\\nin\\ndegrees\\nfrom\\nnew\\nmoon\\nand\\nthe\\nprobable\\nerrors\\ninclude\\nabsolute\\nas\\nwell\\nas\\nrelative\\nerrors\\n.\\nThis\\nresult\\nis\\nplotted\\nalong\\nwith\\nthe\\n8.6-mm\\nobservations\\nof\\nGibson\\n(\\n1958\\n)\\nin\\nfigure\\n1\\n,\\nA\\n.\\nThe\\nvariation\\nin\\nthe\\n3-cm\\nemission\\nof\\nthe\\nmoon\\nduring\\na\\nlunation\\nis\\nvery\\nmuch\\nless\\nthan\\nthe\\nvariation\\nin\\nthe\\n8.6-mm\\nemission\\n,\\nas\\nwould\\nbe\\nexpected\\nfrom\\nthe\\nexplanation\\nof\\nPiddington\\nand\\nMinnett\\n(\\n1949\\n)\\n.\\nIn\\nthe\\ndiscussion\\nwhich\\nfollows\\n,\\nthe\\ntime\\naverage\\nof\\nthe\\nradio\\nemission\\nwill\\nbe\\nreferred\\nto\\nas\\nthe\\nconstant\\ncomponent\\n,\\nand\\nthe\\nsuperimposed\\nperiodic\\nvariation\\nwill\\nbe\\ncalled\\nthe\\nvariable\\ncomponent\\n.\\nThe\\n10.3-cm\\nobservation\\nof\\nSloanaker\\nwas\\nmade\\non\\nMay\\n20\\n,\\n1958\\n,\\nusing\\nthe\\n84-foot\\nreflector\\nat\\nthe\\nMaryland\\nPoint\\nObservatory\\nof\\nthe\\nU.\\nS.\\nNaval\\nResearch\\nLaboratory\\n.\\nThe\\nage\\nof\\nthe\\nmoon\\nwas\\nabout\\n2\\ndays\\n.\\nThe\\nhalf-intensity\\ndiameter\\nof\\nthe\\nmain\\nlobe\\nof\\nthe\\nantenna\\nwas\\nabout\\n18'.5\\n,\\nand\\nthe\\nbrightness\\ntemperature\\nwas\\nreduced\\nby\\nassuming\\na\\nGaussian\\nshape\\nfor\\nthe\\nantenna\\nbeam\\nand\\na\\nuniformly\\nbright\\ndisk\\nfor\\nthe\\nmoon\\n.\\n\",\n",
       " \"Abstract\\nExperiments\\nwere\\nmade\\non\\nan\\nelectric\\narc\\napplying\\na\\nporous\\ngraphite\\nanode\\ncooled\\nby\\na\\ntranspiring\\ngas\\n(\\nArgon\\n)\\n.\\nThus\\n,\\nthe\\nenergy\\ntransferred\\nfrom\\nthe\\narc\\nto\\nthe\\nanode\\nwas\\npartly\\nfed\\nback\\ninto\\nthe\\narc\\n.\\nIt\\nwas\\nshown\\nthat\\nby\\nproper\\nanode\\ndesign\\nthe\\nnet\\nenergy\\nloss\\nof\\nthe\\narc\\nto\\nthe\\nanode\\ncould\\nbe\\nreduced\\nto\\napproximately\\n15%\\nof\\nthe\\ntotal\\narc\\nenergy\\n.\\nA\\ndetailed\\nenergy\\nbalance\\nof\\nthe\\nanode\\nwas\\nestablished\\n.\\nThe\\nanode\\nablation\\ncould\\nbe\\nreduced\\nto\\na\\nnegligible\\namount\\n.\\nThe\\ndependence\\nof\\nthe\\narc\\nvoltage\\nupon\\nthe\\nmass\\nflow\\nvelocity\\nof\\nthe\\ntranspirating\\ngas\\nwas\\ninvestigated\\nfor\\nvarious\\narc\\nlengths\\nand\\ncurrents\\nbetween\\n100\\nAmp\\nand\\n200\\nAj\\n.\\nQualitative\\nobservations\\nwere\\nmade\\nand\\nhigh-speed\\nmotion\\npictures\\nwere\\ntaken\\nto\\nstudy\\nflow\\nphenomena\\nin\\nthe\\narc\\nat\\nvarious\\nmass\\nflow\\nvelocities\\n.\\nIntroduction\\nThe\\nhigh\\nheat\\nfluxes\\nexisting\\nat\\nthe\\nelectrode\\nsurfaces\\nof\\nelectric\\narcs\\nnecessitate\\nextensive\\ncooling\\nto\\nprevent\\nelectrode\\nablation\\n.\\nThe\\ncooling\\nrequirements\\nare\\nparticularly\\nsevere\\nat\\nthe\\nanode\\n.\\nIn\\nfree-burning\\nelectric\\narcs\\n,\\nfor\\ninstance\\n,\\napproximately\\n90%\\nof\\nthe\\ntotal\\narc\\npower\\nis\\ntransferred\\nto\\nthe\\nanode\\ngiving\\nrise\\nto\\nlocal\\nheat\\nfluxes\\nin\\nexcess\\nof\\nAf\\nas\\nmeasured\\nby\\nthe\\nauthors\\n--\\nthe\\nexact\\nvalue\\ndepending\\non\\nthe\\narc\\natmosphere\\n.\\nIn\\nplasma\\ngenerators\\nas\\ncurrently\\ncommercially\\navailable\\nfor\\nindustrial\\nuse\\nor\\nas\\nhigh\\ntemperature\\nresearch\\ntools\\noften\\nmore\\nthan\\n50%\\nof\\nthe\\ntotal\\nenergy\\ninput\\nis\\nbeing\\ntransferred\\nto\\nthe\\ncooling\\nmedium\\nof\\nthe\\nanode\\n.\\nThe\\nhigher\\nheat\\ntransfer\\nrates\\nat\\nthe\\nanode\\ncompared\\nwith\\nthose\\nat\\nthe\\ncathode\\ncan\\nbe\\nexplained\\nby\\nthe\\nphysical\\nphenomena\\noccurring\\nin\\nfree\\nburning\\narcs\\n.\\nIn\\nplasma\\ngenerators\\nthe\\nsuperimposed\\nforced\\nconvection\\nmay\\nmodify\\nthe\\npicture\\nsomewhat\\n.\\nThe\\nheat\\ntransfer\\nto\\nthe\\nanode\\nis\\ndue\\nto\\nthe\\nfollowing\\neffects\\n:\\n1\\n.\\nHeat\\nof\\ncondensation\\n(\\nwork\\nfunction\\n)\\nplus\\nkinetic\\nenergy\\nof\\nthe\\nelectrons\\nimpinging\\non\\nthe\\nanode\\n.\\nThis\\nenergy\\ntransfer\\ndepends\\non\\nthe\\ncurrent\\n,\\nthe\\ntemperature\\nin\\nthe\\narc\\ncolumn\\n,\\nthe\\nanode\\nmaterial\\n,\\nand\\nthe\\nconditions\\nin\\nthe\\nanode\\nsheath\\n.\\n2\\n.\\nHeat\\ntransfer\\nby\\nmolecular\\nconduction\\nas\\nwell\\nas\\nby\\nradiation\\nfrom\\nthe\\narc\\ncolumn\\n.\\nThe\\nheat\\ntransfer\\nto\\nthe\\nanode\\nin\\nfree\\nburning\\narcs\\nis\\nenhanced\\nby\\na\\nhot\\ngas\\njet\\nflowing\\nfrom\\nthe\\ncathode\\ntowards\\nthe\\nanode\\nwith\\nvelocities\\nup\\nAf\\n.\\nThis\\nphenomenon\\nhas\\nbeen\\nexperimentally\\ninvestigated\\nin\\ndetail\\nby\\nMaecker\\n(\\nRef.\\n1\\n)\\n.\\nThe\\npressure\\ngradient\\nproducing\\nthe\\njet\\nis\\ndue\\nto\\nthe\\nnature\\nof\\nthe\\nmagnetic\\nfield\\nin\\nthe\\narc\\n(\\nrapid\\ndecrease\\nof\\ncurrent\\ndensity\\nfrom\\ncathode\\nto\\nthe\\nanode\\n)\\n.\\nHence\\n,\\nthe\\nflow\\nconditions\\nat\\nthe\\nanode\\nof\\nfree\\nburning\\narcs\\nresemble\\nthose\\nnear\\na\\nstagnation\\npoint\\n.\\nIt\\nis\\napparent\\nfrom\\nthe\\nabove\\nand\\nfrom\\nexperimental\\nevidence\\nthat\\nthe\\ncooling\\nrequirements\\nfor\\nthe\\nanode\\nof\\nfree\\nburning\\narcs\\nare\\nlarge\\ncompared\\nwith\\nthose\\nfor\\nthe\\ncathode\\n.\\nThe\\ngas\\nflow\\nthrough\\na\\nplasma\\ngenerator\\nwill\\nmodify\\nthese\\nconditions\\n;\\n;\\nhowever\\n,\\nthe\\nanode\\nis\\nstill\\nthe\\npart\\nreceiving\\nthe\\nlargest\\nheat\\nflux\\n.\\nAn\\nattempt\\nto\\nimprove\\nthe\\nlife\\nof\\nthe\\nanodes\\nor\\nthe\\nefficiency\\nof\\nthe\\nplasma\\ngenerators\\nmust\\n,\\ntherefore\\n,\\naim\\nat\\na\\nreduction\\nof\\nthe\\nanode\\nloss\\n.\\nThe\\nfollowing\\npossibilities\\nexist\\nfor\\nachieving\\nthis\\n:\\n1\\n.\\nThe\\nuse\\nof\\nhigh\\nvoltages\\nand\\nlow\\ncurrents\\nby\\nproper\\ndesign\\nto\\nreduce\\nelectron\\nheat\\ntransfer\\nto\\nthe\\nanode\\nfor\\na\\ngiven\\npower\\noutput\\n.\\n2\\n.\\nContinuous\\nmotion\\nof\\nthe\\narc\\ncontact\\narea\\nat\\nthe\\nanode\\nby\\nflow\\nor\\nmagnetic\\nforces\\n.\\n3\\n.\\nFeedback\\nof\\nthe\\nenergy\\ntransferred\\nto\\nthe\\nanode\\nby\\napplying\\ngas\\ntranspiration\\nthrough\\nthe\\nanode\\n.\\nThe\\nthird\\nmethod\\nwas\\n,\\nto\\nour\\nknowledge\\n,\\nsuccessfully\\napplied\\nfor\\nthe\\nfirst\\ntime\\nby\\nC.\\nSheer\\nand\\nco-workers\\n(\\nRef.\\n2\\n)\\n.\\nThe\\npurpose\\nof\\nthe\\npresent\\nstudy\\nis\\nto\\nstudy\\nthe\\nthermal\\nconditions\\nand\\nto\\nestablish\\nan\\nenergy\\nbalance\\nfor\\na\\ntranspiration\\ncooled\\nanode\\nas\\nwell\\nas\\nthe\\neffect\\nof\\nblowing\\non\\nthe\\narc\\nvoltage\\n.\\nGas\\ninjection\\nthrough\\na\\nporous\\nanode\\n(\\ntranspiration\\ncooling\\n)\\nnot\\nonly\\nfeeds\\nback\\nthe\\nenergy\\ntransferred\\nto\\nthe\\nanode\\nby\\nthe\\nabove\\nmentioned\\nprocesses\\n,\\nbut\\nalso\\nmodifies\\nthe\\nconditions\\nin\\nthe\\narc\\nitself\\n.\\nA\\ndetailed\\nstudy\\nof\\nthis\\nlatter\\nphenomenon\\nwas\\nnot\\nattempted\\nin\\nthis\\npaper\\n.\\nArgon\\nwas\\nused\\nas\\na\\nblowing\\ngas\\nto\\nexclude\\nany\\neffects\\nof\\ndissociation\\nor\\nchemical\\nreaction\\n.\\nThe\\nanode\\nmaterial\\nwas\\nporous\\ngraphite\\n.\\nSintered\\nporous\\nmetals\\nshould\\nbe\\nusable\\nin\\nprinciple\\n.\\nHowever\\n,\\ntechnical\\ndifficulties\\narise\\nby\\nmelting\\nat\\nlocal\\nhot\\nspots\\n.\\nThe\\nexperimental\\narrangement\\nas\\ndescribed\\nbelow\\nis\\nbased\\non\\nthe\\ngeometry\\nof\\nfree\\nburning\\narcs\\n.\\nThus\\n,\\ndirect\\ncomparisons\\ncan\\nbe\\ndrawn\\nwith\\nfree\\nburning\\narcs\\nwhich\\nhave\\nbeen\\nstudied\\nin\\ndetail\\nduring\\nthe\\npast\\nyears\\nand\\ndecades\\nby\\nnumerous\\ninvestigators\\n(\\nRef.\\n3\\n)\\n.\\nExperimental\\napparatus\\nFigures\\n1\\nto\\n3\\nshow\\nphotographic\\nand\\nschematic\\nviews\\nof\\nthe\\ntest\\nstand\\nand\\nof\\ntwo\\ndifferent\\nmodels\\nof\\nthe\\nanode\\nholder\\n.\\nThe\\ncathode\\nconsisted\\nof\\na\\n1\\n''\\ndiameter\\nthoriated\\ntungsten\\nrod\\nattached\\nto\\na\\nwater\\ncooled\\ncopper\\ntube\\n.\\nThis\\ntube\\ncould\\nbe\\nadjusted\\nin\\nits\\naxial\\ndirection\\nby\\nan\\nelectric\\ndrive\\nto\\nestablish\\nthe\\nrequired\\nelectrode\\nspacing\\n.\\nThe\\nanode\\nin\\nfigure\\n2\\nwas\\nmounted\\nby\\nmeans\\nof\\nthe\\nanode\\nholder\\nwhich\\nwas\\nattached\\nto\\na\\nsteel\\nplug\\nand\\ndisk\\n.\\nThe\\ntranspiring\\ngas\\nejected\\nfrom\\nthe\\nanode\\nformed\\na\\njet\\ndirected\\naxially\\ntowards\\nthe\\ncathode\\nbelow\\n.\\nInflow\\nof\\nair\\nfrom\\nthe\\nsurrounding\\natmosphere\\nwas\\nprevented\\nby\\nthe\\ntwo\\ndisks\\nshown\\nin\\nfigure\\n2\\n.\\nArgon\\nwas\\nalso\\nblown\\nat\\nlow\\nvelocities\\n(\\nmass\\nflow\\nrate\\nAf\\n)\\nthrough\\na\\ntube\\ncoaxial\\nwith\\nthe\\ncathode\\nas\\nan\\nadditional\\nprecaution\\nagainst\\ncontamination\\nof\\nthe\\narc\\nby\\nair\\n.\\nThe\\nanode\\nconsisted\\nof\\na\\n1\\ninch\\ndiameter\\nporous\\ngraphite\\nplug\\n,\\n1\\ninch\\nlong\\n.\\nThe\\ngraphite\\nwas\\nNational\\nCarbon\\nNC\\n60\\n,\\nwhich\\nhas\\na\\nporosity\\nof\\n50%\\nand\\nan\\naverage\\npore\\nsize\\nof\\n30\\n.\\nThis\\nsmall\\npore\\nsize\\nwas\\nrequired\\nto\\nensure\\nuniformity\\nof\\nthe\\nflow\\nleaving\\nthe\\nanode\\n.\\nThe\\nanode\\nplug\\n(\\nFigure\\n2\\n)\\nwas\\ninserted\\ninto\\na\\ncarbon\\nanode\\nholder\\n.\\nA\\nshielded\\nthermocouple\\nwas\\nused\\nto\\nmeasure\\nthe\\nupstream\\ntemperature\\nof\\nthe\\ntranspiring\\ngas\\n.\\nIt\\nwas\\nexposed\\nto\\na\\nhigh\\nvelocity\\ngas\\njet\\n.\\nA\\nplug\\nand\\na\\ntube\\nwith\\nholes\\nin\\nits\\ncylindrical\\nwalls\\ndivided\\nthe\\nchamber\\nabove\\nthe\\nporous\\nplug\\ninto\\ntwo\\nparts\\n.\\nThis\\narrangement\\nhad\\nthe\\npurpose\\nto\\nprevent\\nheated\\ngas\\nto\\nreach\\nthe\\nthermocouple\\nby\\nnatural\\nconvection\\n.\\nTwo\\npyrometers\\nshown\\nin\\nfigure\\n1\\nand\\n2\\n(\\nPyrometer\\nInstrument\\nCo.\\nModel\\n95\\n)\\nserved\\nfor\\nsimultaneous\\nmeasurement\\nof\\nthe\\nanode\\nsurface\\ntemperature\\nand\\nthe\\ntemperature\\ndistribution\\nalong\\nthe\\nanode\\nholder\\n.\\nThree\\nthermocouples\\nwere\\nplaced\\nat\\ndifferent\\nlocations\\nin\\nthe\\naluminum\\ndisk\\nsurrounding\\nthe\\nanode\\nholder\\nto\\ndetermine\\nits\\ntemperature\\n.\\nAnother\\nanode\\nholder\\nused\\nin\\nthe\\nexperiments\\nis\\nshown\\nin\\nfigure\\n3\\n.\\nIn\\nthis\\ndesign\\nthe\\nanode\\nholder\\nis\\nwater\\ncooled\\nand\\nthe\\nheat\\nlosses\\nby\\nconduction\\nfrom\\nthe\\nanode\\nwere\\ndetermined\\nby\\nmeasuring\\nthe\\ntemperature\\nrise\\nof\\nthe\\ncoolant\\n.\\nTo\\nreduce\\nheat\\ntransfer\\nfrom\\nthe\\nhot\\ngas\\nto\\nthis\\nanode\\nholder\\noutside\\nthe\\nregime\\nof\\nthe\\narc\\n,\\na\\ncarbon\\nshield\\nwas\\nattached\\nto\\nthe\\nsurface\\nproviding\\nan\\nair\\ngap\\nof\\n1\\ninch\\nbetween\\nthe\\nplate\\nand\\nthe\\nsurface\\nof\\nthe\\nanode\\nholder\\n.\\nIn\\naddition\\n,\\nthe\\ninner\\nsurface\\nof\\nthe\\ncarbon\\nshield\\nwas\\ncovered\\nwith\\naluminum\\nfoil\\nto\\nreduce\\nradiation\\n.\\nTemperatures\\nof\\nthe\\nshield\\nand\\nof\\nthe\\nsurface\\nof\\nthe\\nwater-cooled\\nanode\\nholder\\nwere\\nmeasured\\nby\\nthermocouples\\nto\\naccount\\nfor\\nheat\\nreceived\\nby\\nthe\\ncoolant\\nbut\\nnot\\noriginating\\nfrom\\nthe\\nanode\\nplug\\n.\\nThe\\nargon\\nflow\\nfrom\\ncommercial\\nbottles\\nwas\\nregulated\\nby\\na\\npressure\\nregulator\\nand\\nmeasured\\nwith\\na\\ngas\\nflow\\nrator\\n.\\nThe\\npower\\nsource\\nwas\\na\\ncommercial\\nD.\\nC.\\nrectifier\\n.\\nAt\\n100\\nAmp\\nthe\\n360\\ncycle\\nripple\\nwas\\nless\\nthan\\n0.5\\nV\\n(\\npeak\\nto\\npeak\\n)\\nwith\\na\\nresistive\\nload\\n.\\nThe\\ncurrent\\nwas\\nregulated\\nby\\nmeans\\nof\\na\\nvariable\\nresistor\\nand\\nmeasured\\nwith\\na\\n50\\nmV\\nshunt\\nand\\nmillivoltmeter\\n.\\nThe\\narc\\nvoltage\\nwas\\nmeasured\\nwith\\na\\nvoltmeter\\nwhose\\nterminals\\nwere\\nconnected\\nto\\nthe\\nanode\\nand\\ncathode\\nholders\\n.\\nBecause\\nof\\nthe\\nfalling\\ncharacteristic\\nof\\nthe\\nrectifier\\n,\\nno\\nballast\\nresistor\\nwas\\nrequired\\nfor\\nstability\\nof\\noperation\\n.\\nA\\nhigh\\nfrequency\\nstarter\\nwas\\nused\\nto\\nstart\\nthe\\narc\\n.\\nExperimental\\nprocedure\\nand\\nerror\\nanalysis\\n1\\n.\\nTranspiration\\ncooled\\nanode\\nwith\\ncarbon\\nanode\\nholder\\nThe\\nanode\\nholder\\nshown\\nin\\nfigure\\n2\\nwas\\ndesigned\\nwith\\ntwo\\ngoals\\nin\\nmind\\n.\\nThe\\nheat\\nlosses\\nof\\nthe\\nholder\\nwere\\nto\\nbe\\nreduced\\nas\\nfar\\nas\\npossible\\nand\\nthey\\nshould\\nbe\\nsuch\\nthat\\nan\\naccurate\\nheat\\nbalance\\ncan\\nbe\\nmade\\n.\\nIn\\norder\\nto\\nreduce\\nthe\\nnumber\\nof\\nvariable\\nparameters\\n,\\nall\\nexperiments\\nwere\\nmade\\nwith\\na\\nconstant\\narc\\nlength\\nof\\n0.5''\\n''\\nand\\na\\ncurrent\\nof\\n100\\nAj\\n.\\nThe\\nargon\\nflow\\nthrough\\nthe\\nporous\\nanode\\nwas\\nvaried\\nsystematically\\nbetween\\nAf\\nand\\nAf\\n.\\nThe\\nlower\\nlimit\\nwas\\ndetermined\\nby\\nthe\\nfact\\nthat\\nfor\\nsmaller\\nflow\\nrates\\nthe\\narc\\nstarted\\nto\\nstrike\\nto\\nthe\\nanode\\nholder\\ninstead\\nof\\nto\\nthe\\nporous\\ngraphite\\nplug\\nand\\nthat\\nit\\nbecame\\nhighly\\nunstable\\n.\\nThe\\nupper\\nlimit\\nwas\\ndetermined\\nby\\nthe\\ndifficulty\\nof\\nmeasuring\\nthe\\ncharacteristic\\nanode\\nsurface\\ntemperature\\n(\\nsee\\nbelow\\n)\\nsince\\nonly\\na\\nsmall\\nregion\\nof\\nthe\\nanode\\nwas\\nstruck\\nby\\nthe\\narc\\n.\\nThis\\nregion\\nwhich\\nhad\\na\\nhigher\\ntemperature\\nthan\\nthe\\nrest\\nof\\nthe\\nanode\\nsurface\\nchanged\\nsize\\nand\\nlocation\\ncontinuously\\n.\\nFor\\neach\\nmass\\nflow\\nrate\\nthe\\narc\\nvoltage\\nwas\\nmeasured\\n.\\nTo\\nmeasure\\nthe\\nsurface\\ntemperature\\nof\\nthe\\nanode\\nplug\\n,\\nthe\\nsurface\\nwas\\nscanned\\nwith\\na\\npyrometer\\n.\\nAs\\nit\\nturned\\nout\\n,\\na\\nvery\\nhot\\nregion\\noccurred\\non\\nthe\\nplug\\n.\\nIts\\ntemperature\\nwas\\ndenoted\\nby\\nAf\\n.\\nThe\\nsize\\nof\\nthis\\nhot\\nregion\\nwas\\nestimated\\nby\\neye\\n.\\nThe\\nrest\\nof\\nthe\\nsurface\\nhad\\na\\ntemperature\\nwhich\\ndecreased\\ntowards\\nthe\\nouter\\ndiameter\\nof\\nthe\\nplug\\n.\\nThe\\nmean\\ntemperature\\nof\\nthis\\nregion\\nwas\\napproximated\\nby\\nthe\\ntemperature\\nmeasured\\nhalfways\\nbetween\\nthe\\nedge\\nof\\nthe\\nhot\\nspot\\nand\\nthe\\nrim\\nof\\nthe\\nplug\\n.\\nIt\\nwas\\ndenoted\\nby\\nAf\\n.\\nThe\\nmean\\ntemperature\\nof\\nthe\\nsurface\\nwas\\nthen\\ncomputed\\naccording\\nto\\nthe\\nfollowing\\nrelation\\n:\\nAf\\nwhere\\nx\\nis\\nthe\\nfraction\\nof\\nthe\\nplug\\narea\\ncovered\\nby\\nthe\\nhot\\nspot\\n.\\nAssuming\\nthermal\\nequilibrium\\nbetween\\nthe\\nanode\\nsurface\\nand\\nthe\\ntranspiring\\nargon\\n,\\nthe\\ngas\\nenthalpy\\nrise\\nthrough\\nthe\\nanode\\nwas\\ncalculated\\naccording\\nto\\nthe\\nrelation\\nAf\\nwhereby\\nthe\\nspecific\\nheat\\nof\\nargon\\nwas\\ntaken\\nas\\nAf\\n.\\nThis\\ncalculation\\nresults\\nin\\nan\\nenthalpy\\nrise\\nwhich\\nis\\nsomewhat\\nhigh\\nbecause\\nit\\nassumes\\na\\nmass\\nflow\\nequally\\ndistributed\\nover\\nthe\\nplug\\ncross\\nsection\\nwhereas\\nin\\nreality\\nthe\\nmass\\nvelocity\\nis\\nexpected\\nto\\nbe\\nsmaller\\nin\\nthe\\nregions\\nof\\nhigher\\ntemperatures\\n.\\nThe\\nupstream\\ngas\\ntemperature\\nmeasured\\nwith\\nthe\\nthermocouple\\nshown\\nin\\nfigure\\n2\\nwas\\nAf\\n.\\nThe\\nAf\\nvalues\\nare\\nlisted\\nin\\nTable\\n1\\ntogether\\nwith\\nthe\\nmeasured\\nsurface\\ntemperatures\\nand\\narc\\nvoltages\\n.\\nSimultaneously\\nwith\\nthe\\nanode\\nsurface\\ntemperature\\nand\\nvoltage\\nmeasurements\\npyrometer\\nreadings\\nwere\\ntaken\\nalong\\nthe\\ncylindrical\\nsurface\\nof\\nthe\\ncarbon\\nanode\\nholder\\nas\\nindicated\\non\\nfigure\\n2\\n.\\nSome\\nof\\nthese\\ntemperatures\\nare\\nplotted\\nin\\nfigure\\n4\\n.\\nThey\\nshowed\\nno\\nmarked\\ndependence\\non\\nthe\\nflow\\nrate\\nwithin\\nthe\\naccuracy\\nof\\nthese\\nmeasurements\\n.\\nThus\\n,\\nthe\\ndotted\\nline\\nshown\\nin\\nfigure\\n4\\nwas\\ntaken\\nas\\ntypical\\nfor\\nthe\\ntemperature\\ndistribution\\nfor\\nall\\nblowing\\nrates\\n.\\nThe\\nthermocouples\\nin\\nthe\\naluminum\\ndisk\\nshown\\nin\\nfigure\\n2\\nindicated\\nan\\nequilibrium\\ntemperature\\nof\\nthe\\nsurface\\nof\\nAf\\n.\\nThis\\ntemperature\\nwas\\ntaken\\nas\\nenvironmental\\ntemperature\\nto\\nwhich\\nthe\\nanode\\nholder\\nwas\\nexposed\\nas\\nfar\\nas\\nradiation\\nis\\nconcerned\\n.\\nIt\\nis\\nsufficiently\\nsmall\\ncompared\\nwith\\nthe\\nsurface\\ntemperature\\nof\\nthe\\nanode\\nholder\\n,\\nto\\nmake\\nthe\\nenergy\\nflux\\nradiated\\nfrom\\nthe\\nenvironment\\ntoward\\nthe\\nanode\\nholder\\nnegligible\\nwithin\\nthe\\naccuracy\\nof\\nthe\\npresent\\nmeasurements\\n.\\nThe\\nreflection\\nof\\nradiation\\noriginating\\nfrom\\nthe\\nanode\\nholder\\nand\\nreflected\\nback\\nto\\nit\\nby\\nthe\\nsurrounding\\nmetal\\nsurfaces\\nshould\\nalso\\nbe\\nsmall\\nbecause\\nof\\nthe\\npeculiar\\ncharacteristic\\nof\\nthe\\nmetal\\nsurfaces\\nand\\nof\\nthe\\nspecific\\ngeometry\\n.\\nThe\\ntotal\\nheat\\nloss\\nthrough\\nthe\\nanode\\nholder\\nincluded\\nalso\\nthe\\nheat\\nconducted\\nthrough\\nthe\\nbase\\nof\\nthe\\ncylindrical\\npiece\\ninto\\nthe\\nadjacent\\nmetal\\nparts\\n.\\nIt\\nwas\\ncalculated\\nfrom\\nthe\\ntemperature\\ngradient\\nAf\\nat\\nAf\\ninch\\nas\\nAf\\n.\\nThe\\ntotal\\nheat\\nflux\\nfrom\\nthe\\nporous\\nplug\\ninto\\nthe\\nplug\\nholder\\nis\\nthereby\\nAf\\n.\\nThe\\ntemperature\\ndistribution\\nof\\nfigure\\n4\\ngives\\nAf\\nfor\\nall\\nblowing\\nrates\\n,\\nassuming\\nAf\\n.\\nThe\\ntemperature\\ndependent\\nvalue\\nof\\n**ye\\nwas\\ntaken\\nfrom\\nRef.\\n7\\n.\\nThe\\nradiation\\nloss\\nfrom\\nthe\\nanode\\nsurface\\nwas\\ncomputed\\naccording\\nto\\nAf\\nwhere\\nAf\\nis\\nthe\\nmean\\nof\\nthe\\nfourth\\npowers\\nof\\nthe\\ntemperatures\\nAf\\nand\\nAf\\ncalculated\\nanalogously\\nto\\nequation\\n(\\n1\\n)\\n.\\n\",\n",
       " \"A\\nband\\nviscometer\\nis\\nshown\\nin\\nFigure\\n2\\n.\\nIt\\nconsists\\nof\\ntwo\\nblocks\\nwith\\nflat\\nsurfaces\\nheld\\napart\\nby\\nshims\\n.\\nThere\\nis\\na\\nsmall\\nwell\\nin\\nthe\\ntop\\nin\\nwhich\\nthe\\nfluid\\nor\\npaste\\nto\\nbe\\ntested\\nis\\nplaced\\n.\\nA\\ntape\\nof\\ncellulose\\nacetate\\nis\\npulled\\nbetween\\nthe\\nblocks\\nand\\nthe\\ntape\\npulls\\nthe\\nfluid\\nor\\npaste\\nwith\\nit\\nbetween\\nthe\\nparallel\\nfaces\\nof\\nthe\\nblocks\\n.\\nIn\\nnormal\\nuse\\nweights\\nare\\nhung\\non\\nthe\\nend\\nof\\nthe\\ntape\\nand\\nallowed\\nto\\npull\\nthe\\ntape\\nand\\nthe\\nmaterial\\nto\\nbe\\ntested\\nbetween\\nthe\\nblocks\\n.\\nAfter\\nit\\nhas\\nreached\\nterminal\\nvelocity\\n,\\nthe\\ntime\\nfor\\nthe\\ntape\\nto\\ntravel\\na\\nknown\\ndistance\\nis\\nrecorded\\n.\\nBy\\nthe\\nuse\\nof\\nvarious\\nweights\\n,\\ndata\\nfor\\na\\nforce-rate\\nof\\nshear\\ngraph\\ncan\\nbe\\nobtained\\n.\\nThe\\ninstrument\\nused\\nfor\\nthis\\nwork\\nwas\\na\\nslight\\nmodification\\nof\\nthat\\npreviously\\ndescribed\\n.\\nIn\\nthis\\ntest\\na\\nAf\\ntape\\nwas\\npulled\\nbetween\\nthe\\nblocks\\nwith\\na\\nmotor\\nand\\npulley\\nat\\na\\nrate\\nof\\nAf\\nwith\\na\\nclearance\\nof\\n0.002''\\n''\\non\\neach\\nside\\nof\\nthe\\ntape\\n.\\nThis\\ngives\\na\\nrate\\nof\\nshear\\nof\\nAf\\n.\\nThis\\n,\\nhowever\\n,\\ncan\\nonly\\nbe\\nconsidered\\napproximate\\n,\\nas\\nthe\\ndiameter\\nof\\nthe\\npulley\\nwas\\nincreased\\nby\\nthe\\nbuild-up\\nof\\ntape\\nand\\nthe\\ntape\\nwas\\noccasionally\\nremoved\\nfrom\\nthe\\npulley\\nduring\\nthe\\nruns\\n.\\nThe\\nface\\nof\\none\\nblock\\ncontained\\na\\nhole\\n1\\n''\\nin\\ndiameter\\nwhich\\nled\\nto\\na\\nmanometer\\nfor\\nthe\\nmeasurement\\nof\\nthe\\nnormal\\npressure\\n.\\nAlthough\\nthere\\nwere\\nonly\\nfour\\nfluids\\ntested\\n,\\nit\\nwas\\napparent\\nthat\\nthere\\nwere\\ntwo\\ndistinct\\ntypes\\n.\\nTwo\\nof\\nthe\\nfluids\\nshowed\\na\\nhigh-positive\\nnormal\\npressure\\nwhen\\nundergoing\\nshear\\n,\\nand\\ntwo\\nshowed\\nsmall\\nnegative\\npressures\\nwhich\\nwere\\nnegligible\\nin\\ncomparison\\nwith\\nthe\\namount\\nof\\nthe\\npositive\\npressures\\ngenerated\\nby\\nthe\\nother\\ntwo\\n.\\nFigure\\n3\\nshows\\nthe\\ndata\\non\\na\\nsilicone\\nfluid\\n,\\nlabeled\\n12,500\\ncps\\nwhich\\ngave\\na\\nhigh\\npositive\\nnormal\\npressure\\n.\\nAlthough\\nthe\\ntape\\nwas\\nrun\\nfor\\nover\\n1\\nhr.\\n,\\na\\nsteady\\nstate\\nwas\\nnot\\nreached\\n,\\nand\\nit\\nwas\\nconcluded\\nthat\\nthe\\nreason\\nfor\\nthis\\nwas\\nthat\\nthe\\nback\\npressure\\nof\\nthe\\nmanometer\\nwas\\nbuilt\\nup\\nfrom\\nthe\\nmaterial\\nfed\\nfrom\\nbetween\\nthe\\nblocks\\nand\\nthis\\nwas\\navailable\\nat\\na\\nvery\\nslow\\nrate\\n.\\nA\\nsystem\\nhad\\nto\\nbe\\nused\\nwhich\\ndid\\nnot\\ndepend\\nupon\\nthe\\nfeeding\\nof\\nthe\\nfluid\\ninto\\nthe\\nmanometer\\nif\\nmeasurements\\nof\\nthe\\nnormal\\npressure\\nwere\\nto\\nbe\\nmade\\nin\\na\\nreasonable\\ntime\\n.\\nA\\nback\\npressure\\nwas\\nthen\\nintroduced\\n,\\nand\\nthe\\nrise\\nor\\nfall\\nof\\nthe\\nmaterial\\nin\\nthe\\nmanometer\\nindicated\\nwhich\\nwas\\ngreater\\n,\\nthe\\nnormal\\npressure\\nin\\nthe\\nblock\\nor\\nthe\\nback\\npressure\\n.\\nBy\\nthis\\nmethod\\nit\\nwas\\ndetermined\\nthat\\nthe\\nnormal\\npressure\\nexerted\\nby\\na\\nsample\\nof\\npolybutene\\n(\\nmolecular\\nweight\\nreported\\nto\\nbe\\n770\\n)\\nwas\\nover\\nhalf\\nan\\natmosphere\\n.\\nThe\\nactual\\npressure\\nwas\\nnot\\ndetermined\\nbecause\\nthe\\npressure\\nwas\\nbeyond\\nthe\\nupper\\nlimit\\nof\\nthe\\napparatus\\non\\nhand\\n.\\nThe\\ntwo\\nfluids\\nwhich\\ngave\\nthe\\nsmall\\nnegative\\npressures\\nwere\\npolybutenes\\nwith\\nmolecular\\nweights\\nwhich\\nwere\\nstated\\nto\\nbe\\n520\\nand\\n300\\n.\\nThese\\nare\\nfluids\\nwhich\\none\\nwould\\nexpect\\nto\\nbe\\nless\\nviscoelastic\\nor\\nmore\\nNewtonian\\nbecause\\nof\\ntheir\\nlower\\nmolecular\\nweight\\n.\\nThe\\nmaximum\\nsuction\\nwas\\n3.25''\\n''\\nof\\ntest\\nfluid\\nmeasured\\nfrom\\nthe\\ntop\\nof\\nthe\\nblock\\n,\\nand\\nsteady\\nstates\\nwere\\napparently\\nreached\\nwith\\nthese\\nfluids\\n.\\nIt\\nis\\npresumed\\nthat\\nthis\\nnegative\\nhead\\nwas\\nassociated\\nwith\\nsome\\ngeometric\\nfactor\\nof\\nthe\\nassembly\\n,\\nsince\\ndifferent\\nreadings\\nwere\\nobtained\\nwith\\nthe\\nsame\\nfluid\\nand\\nthe\\nonly\\napparent\\ndifference\\nwas\\nthe\\nassembly\\nand\\ndisassembly\\nof\\nthe\\napparatus\\n.\\nThis\\nnegative\\npressure\\nis\\nnot\\nexplained\\nby\\nthe\\nvelocity\\nhead\\nAf\\nsince\\nthis\\nis\\nnot\\nsufficient\\nto\\nexplain\\nthe\\nreadings\\nby\\nseveral\\nmagnitudes\\n.\\nThese\\nexperiments\\ncan\\nbe\\nconsidered\\nexploratory\\nonly\\n.\\nHowever\\n,\\nthey\\ndo\\ndemonstrate\\nthe\\npresence\\nof\\nlarge\\nnormal\\npressures\\nin\\nthe\\npresence\\nof\\nflat\\nshear\\nfields\\nwhich\\nwere\\nforecast\\nby\\nthe\\ntheory\\nin\\nthe\\nfirst\\npart\\nof\\nthe\\npaper\\n.\\nThey\\nalso\\ngive\\ninformation\\nwhich\\nwill\\naid\\nin\\nthe\\ndesign\\nof\\na\\nmore\\nsatisfactory\\ninstrument\\nfor\\nthe\\nmeasurement\\nof\\nthe\\nnormal\\npressures\\n.\\nSuch\\nan\\ninstrument\\nwould\\nbe\\nuseful\\nfor\\nthe\\ncharacterization\\nof\\nmany\\ncommercial\\nmaterials\\nas\\nwell\\nas\\ntheoretical\\nstudies\\n.\\nThe\\nelasticity\\nis\\na\\nparameter\\nof\\nfluids\\nwhich\\nis\\nnot\\nsubject\\nto\\nsimple\\nmeasurement\\nat\\npresent\\n,\\nand\\nit\\nis\\na\\nparameter\\nwhich\\nis\\nprobably\\nvarying\\nin\\nan\\nunknown\\nmanner\\nwith\\nmany\\ncommercial\\nmaterials\\n.\\nSuch\\nan\\ninstrument\\nis\\nexpected\\nto\\nbe\\nespecially\\nuseful\\nif\\nit\\ncould\\nbe\\nused\\nto\\nmeasure\\nthe\\nelasticity\\nof\\nheavy\\npastes\\nsuch\\nas\\nprinting\\ninks\\n,\\npaints\\n,\\nadhesives\\n,\\nmolten\\nplastics\\n,\\nand\\nbread\\ndough\\n,\\nfor\\nthe\\nelasticity\\nis\\nrelated\\nto\\nthose\\nvarious\\nproperties\\ntermed\\n``\\nlength\\n''\\n,\\n``\\nshortness\\n''\\n,\\n``\\nspinnability\\n''\\n,\\netc.\\n,\\nwhich\\nare\\nusually\\njudged\\nby\\nsubjective\\nmethods\\nat\\npresent\\n.\\nThe\\nactual\\nchange\\nAf\\ncaused\\nby\\na\\nshear\\nfield\\nis\\ncalculated\\nby\\nmultiplying\\nthe\\npressure\\ndifferential\\ntimes\\nthe\\nvolume\\n,\\njust\\nas\\nit\\nis\\nfor\\nany\\ngravitational\\nor\\nosmotic\\npressure\\nhead\\n.\\nIf\\nthe\\nvolume\\nis\\nthe\\nmolal\\nvolume\\n,\\nthen\\nAf\\nis\\nobtained\\non\\na\\nmolal\\nbasis\\nwhich\\nis\\nthe\\ncustomary\\nterminology\\nof\\nthe\\nchemists\\n.\\nAlthough\\nthe\\nAf\\ncalculation\\nis\\nobvious\\nby\\nanalogy\\nwith\\nthat\\nfor\\ngravitational\\nfield\\nand\\nosmotic\\npressure\\n,\\nit\\nis\\ninteresting\\nto\\nconfirm\\nit\\nby\\na\\nmethod\\nwhich\\ncan\\nbe\\ngeneralized\\nto\\ninclude\\nrelated\\neffects\\n.\\nConsider\\na\\nshear\\nfield\\nwith\\na\\nheight\\nof\\nH\\nand\\na\\ncross-sectional\\narea\\nof\\nA\\nopposed\\nby\\na\\nmanometer\\nwith\\na\\nheight\\nof\\nH\\n(\\nreferred\\nto\\nthe\\nsame\\nbase\\nas\\nH\\n)\\nand\\na\\ncross-sectional\\narea\\nof\\nA\\n.\\nIf\\nAf\\nis\\nthe\\nchange\\nper\\nunit\\nvolume\\nin\\nGibbs\\nfunction\\ncaused\\nby\\nthe\\nshear\\nfield\\nat\\nconstant\\nP\\nand\\nT\\n,\\nand\\n**yr\\nis\\nthe\\ndensity\\nof\\nthe\\nfluid\\n,\\nthen\\nthe\\ntotal\\npotential\\nenergy\\nof\\nthe\\nsystem\\nabove\\nthe\\nreference\\nheight\\nis\\nAf\\n.\\nAf\\nis\\nthe\\nwork\\nnecessary\\nto\\nfill\\nthe\\nmanometer\\ncolumn\\nfrom\\nthe\\nreference\\nheight\\nto\\nH\\n.\\nThe\\ntotal\\nvolume\\nof\\nthe\\nsystem\\nabove\\nthe\\nreference\\nheight\\nis\\nAf\\n,\\nand\\nH\\ncan\\nbe\\neliminated\\nto\\nobtain\\nan\\nequation\\nfor\\nthe\\ntotal\\npotential\\nenergy\\nof\\nthe\\nsystem\\nin\\nterms\\nof\\nH\\n.\\nThe\\nminimum\\ntotal\\npotential\\nenergy\\nis\\nfound\\nby\\ntaking\\nthe\\nderivative\\nwith\\nrespect\\nto\\nH\\nand\\nequating\\nto\\nzero\\n.\\nThis\\ngives\\nAf\\n,\\nwhich\\nis\\nthe\\npressure\\n.\\nThis\\nis\\ninteresting\\nfor\\nit\\ncombines\\nboth\\nthe\\nthermodynamic\\nconcept\\nof\\na\\nminimum\\nGibbs\\nfunction\\nfor\\nequilibrium\\nand\\nminimum\\nmechanical\\npotential\\nenergy\\nfor\\nequilibrium\\n.\\nThis\\nmethod\\ncan\\nbe\\nextended\\nto\\ninclude\\nthe\\nconcentration\\ndifferences\\ncaused\\nby\\nshear\\nfields\\n.\\nThe\\nrelation\\nbetween\\nosmotic\\npressure\\nand\\nthe\\nGibbs\\nfunction\\nmay\\nalso\\nbe\\ndeveloped\\nin\\nan\\nanalogous\\nway\\n.\\nIn\\nthe\\nabove\\ndevelopment\\nwe\\nhave\\napplied\\nthe\\nthermodynamics\\nof\\nequilibrium\\n(\\nreferred\\nto\\nby\\nsome\\nas\\nthermostatics\\n)\\nto\\nthe\\nsteady\\nstate\\n.\\nThis\\ncan\\nbe\\njustified\\nthermodynamically\\nin\\nthis\\ncase\\n,\\nand\\nthis\\nwill\\nbe\\ndone\\nin\\na\\nseparate\\npaper\\nwhich\\nis\\nbeing\\nprepared\\n.\\nThis\\nhas\\nan\\ninteresting\\nanalogy\\nwith\\nthe\\nassumption\\nstated\\nby\\nPhilippoff\\nthat\\n``\\nthe\\ndeformational\\nmechanics\\nof\\nelastic\\nsolids\\ncan\\nbe\\napplied\\nto\\nflowing\\nsolutions\\n''\\n.\\nThere\\nis\\none\\nexception\\nto\\nthe\\nabove\\nstatement\\nas\\nhas\\nbeen\\npointed\\nout\\n,\\nand\\nthat\\nis\\nthat\\nfluids\\ncan\\nrelax\\nby\\nflowing\\ninto\\nfields\\nof\\nlower\\nrates\\nof\\nshear\\n,\\nso\\nthe\\nstatement\\nshould\\nbe\\nmodified\\nby\\nstating\\nthat\\nthe\\nmechanics\\nare\\nsimilar\\n.\\nIf\\nthe\\nmechanics\\nare\\nsimilar\\n,\\nwe\\ncan\\nalso\\ninfer\\nthat\\nthe\\nthermodynamics\\nwill\\nalso\\nbe\\nsimilar\\n.\\nThe\\nconcept\\nof\\nthe\\nstrain\\nenergy\\nas\\na\\nGibbs\\nfunction\\ndifference\\nAf\\nand\\nexerting\\na\\nforce\\nnormal\\nto\\nthe\\nshearing\\nface\\nis\\ncompatible\\nwith\\nthe\\ninformation\\nobtained\\nfrom\\noptical\\nbirefringence\\nstudies\\nof\\nfluids\\nundergoing\\nshear\\n.\\nEssentially\\nthese\\nbirefringence\\nstudies\\nshow\\nthat\\nat\\nlow\\nrates\\nof\\nshear\\na\\ntension\\nis\\npresent\\nat\\n45-degrees\\nto\\nthe\\ndirection\\nof\\nshear\\n,\\nand\\nas\\nthe\\nrate\\nof\\nshear\\nincreases\\n,\\nthe\\ndirection\\nof\\nthe\\nmaximum\\ntension\\nmoves\\nasymptotically\\ntoward\\nthe\\ndirection\\nof\\nshear\\n.\\nAccording\\nto\\nPhilippoff\\n,\\nthe\\nrecoverable\\nshear\\nS\\nis\\ngiven\\nby\\nAf\\nwhere\\n**yc\\nis\\nthe\\nangle\\nof\\nextinction\\n.\\nFrom\\nthis\\nand\\nthe\\nforce\\nof\\ndeformation\\nit\\nshould\\nbe\\npossible\\nto\\ncalculate\\nthe\\nelastic\\nenergy\\nof\\ndeformation\\nwhich\\nshould\\nbe\\nequal\\nto\\nthe\\nAf\\ncalculated\\nfrom\\nthe\\npressure\\nnormal\\nto\\nthe\\nshearing\\nface\\n.\\nThere\\nis\\nanother\\nmeans\\nwhich\\nshould\\nshow\\nthe\\ndirection\\nand\\nrelative\\nvalue\\nof\\nthe\\nstresses\\nin\\nviscoelastic\\nfluids\\nthat\\nis\\nnot\\nmentioned\\nas\\nsuch\\nin\\nthe\\nliterature\\n,\\nand\\nthat\\nis\\nthe\\nshape\\nof\\nthe\\nsuspended\\ndrops\\nof\\nlow\\nviscosity\\nfluids\\nin\\nshear\\nfields\\n.\\nThese\\ndroplets\\nare\\ndistorted\\nby\\nthe\\nnormal\\nforces\\njust\\nas\\na\\nballoon\\nwould\\nbe\\npulled\\nor\\npressed\\nout\\nof\\nshape\\nin\\none's\\nhands\\n.\\nThese\\ndroplets\\nappear\\nto\\nbe\\nellipsoids\\n,\\nand\\nit\\nis\\nmathematically\\nconvenient\\nto\\nassume\\nthat\\nthey\\nare\\n.\\nIf\\nthey\\nare\\nnot\\nellipsoids\\n,\\nthe\\nconclusions\\nwill\\nbe\\na\\nreasonable\\napproximation\\n.\\nThe\\ndirection\\nof\\nthe\\ntension\\nof\\nminimum\\npressure\\nis\\n,\\nof\\ncourse\\n,\\ngiven\\nby\\nthe\\ndirection\\nof\\nthe\\nmajor\\naxis\\nof\\nthe\\nellipsoids\\n.\\nMason\\nand\\nTaylor\\nboth\\nshow\\nthat\\nthe\\nmajor\\naxis\\nof\\nthe\\nellipsoids\\nis\\nat\\n45-degrees\\nat\\nlow\\nrates\\nof\\nshear\\nand\\nthat\\nit\\napproaches\\nthe\\ndirection\\nof\\nshear\\nwith\\nincreased\\nrates\\nof\\nshear\\n.\\n(\\nSome\\nsuspensions\\nbreak\\nup\\nbefore\\nthey\\nare\\nnear\\nto\\nthe\\ndirection\\nof\\nshear\\n,\\nand\\nsome\\nbecome\\nasymptotic\\nto\\nit\\nwithout\\nbreakup\\n.\\n)\\nThis\\nis\\n,\\nof\\ncourse\\n,\\na\\nsimilar\\ntype\\nof\\nbehavior\\nto\\nthat\\nindicated\\nby\\nbirefringence\\nstudies\\n.\\nThe\\nrelative\\nforces\\ncan\\nbe\\ncalculated\\nfrom\\nthe\\nvarious\\nradii\\nof\\ncurvature\\nif\\nwe\\nassume\\n:\\n(\\nA\\n)\\nThe\\nsurface\\ntension\\nis\\nuniform\\non\\nthe\\nsurface\\nof\\nthe\\ndrop\\n.\\n(\\nB\\n)\\nThat\\nbecause\\nof\\nthe\\nlow\\nviscosity\\nof\\nthe\\nfluid\\n,\\nthe\\ninternal\\npressure\\nis\\nthe\\nsame\\nin\\nall\\ndirections\\n.\\n(\\nC\\n)\\nThe\\nkinetic\\neffects\\nare\\nnegligible\\n.\\n(\\nD\\n)\\nSince\\nthe\\nshape\\nof\\nthe\\ndrop\\nconforms\\nto\\nthe\\nforce\\nfield\\n,\\nit\\ndoes\\nnot\\nappreciably\\naffect\\nthe\\ndistribution\\nof\\nforces\\nin\\nthe\\nfluid\\n.\\nThese\\nare\\nreasonable\\nassumptions\\nwith\\nlow\\nviscosity\\nfluids\\nsuspended\\nin\\nhigh\\nviscosity\\nfluids\\nwhich\\nare\\nsubjected\\nto\\nlow\\nrates\\nof\\nshear\\n.\\nJust\\nas\\nthe\\npressure\\nexerted\\nby\\nsurface\\ntension\\nin\\na\\nspherical\\ndrop\\nis\\nAf\\nand\\nthe\\npressure\\nexerted\\nby\\nsurface\\ntension\\non\\na\\ncylindrical\\nshape\\nis\\nAf\\n,\\nthe\\npressure\\nexerted\\nby\\nany\\ncurved\\nsurface\\nis\\nAf\\n,\\nwhere\\n**yg\\nis\\nthe\\ninterfacial\\ntension\\nand\\nAf\\nand\\nAf\\nare\\nthe\\ntwo\\nradii\\nof\\ncurvature\\n.\\nThis\\nformula\\nis\\ngiven\\nby\\nRumscheidt\\nand\\nMason\\n.\\nIf\\nA\\nis\\nthe\\nmajor\\naxis\\nof\\nan\\nellipsoid\\nand\\nB\\nand\\nC\\nare\\nthe\\nother\\ntwo\\naxes\\n,\\nthe\\nradius\\nof\\ncurvature\\nin\\nthe\\nab\\nplane\\nat\\nthe\\nend\\nof\\nthe\\naxis\\nAf\\n,\\nand\\nthe\\ndifference\\nin\\npressure\\nalong\\nthe\\nA\\nand\\nB\\naxes\\nis\\nAf\\n.\\nThere\\nare\\nno\\ndata\\npublished\\nin\\nthe\\nliterature\\non\\nthe\\nshape\\nof\\nlow\\nviscosity\\ndrops\\nto\\nconfirm\\nthe\\nabove\\nformulas\\n.\\nHowever\\n,\\nthere\\nare\\nphotographs\\nof\\nsuspended\\ndrops\\nof\\ncyclohexanol\\nphthalate\\n(\\nviscosity\\n155\\npoises\\n)\\nsuspended\\nin\\ncorn\\nsyrup\\nof\\n71\\npoises\\nin\\na\\npaper\\nby\\nMason\\nand\\nBartok\\n.\\nThis\\nviscosity\\nof\\nthe\\nmaterial\\nin\\nthe\\ndrops\\nis\\n,\\nof\\ncourse\\n,\\nnot\\nnegligible\\n.\\nMeasurements\\non\\nthe\\nphotograph\\nin\\nthis\\npaper\\ngive\\nAf\\nat\\nthe\\nmaximum\\nrate\\nof\\nshear\\nof\\nAf\\n.\\nIf\\nit\\nis\\nassumed\\nthat\\nthe\\nformula\\ngiven\\nby\\nLodge\\nof\\ncosec\\nAf\\napplies\\n,\\nthe\\npressure\\ndifference\\nalong\\nthe\\nmajor\\naxes\\ncan\\nbe\\ncalculated\\nfrom\\nthe\\nangle\\nof\\ninclination\\nof\\nthe\\nmajor\\naxis\\n,\\nand\\nfrom\\nthis\\nthe\\ninterfacial\\ntension\\ncan\\nbe\\ncalculated\\n.\\nIts\\nvalue\\nwas\\nAf\\nfrom\\nthe\\nabove\\ndata\\n.\\nThis\\nappears\\nto\\nbe\\nhigh\\n,\\nas\\nwould\\nbe\\nexpected\\nfrom\\nthe\\nappreciable\\nviscosity\\nof\\nthe\\nmaterial\\nin\\nthe\\ndrops\\n.\\nIt\\nis\\nappropriate\\nto\\ncall\\nattention\\nto\\ncertain\\nthermodynamic\\nproperties\\nof\\nan\\nideal\\ngas\\nthat\\nare\\nanalogous\\nto\\nrubber-like\\ndeformation\\n.\\nThe\\ninternal\\nenergy\\nof\\nan\\nideal\\ngas\\ndepends\\non\\ntemperature\\nonly\\nand\\nis\\nindependent\\nof\\npressure\\nor\\nvolume\\n.\\nIn\\nother\\nwords\\n,\\nif\\nan\\nideal\\ngas\\nis\\ncompressed\\nand\\nkept\\nat\\nconstant\\ntemperature\\n,\\nthe\\nwork\\ndone\\nin\\ncompressing\\nit\\nis\\ncompletely\\nconverted\\ninto\\nheat\\nand\\ntransferred\\nto\\nthe\\nsurrounding\\nheat\\nsink\\n.\\nThis\\nmeans\\nthat\\nwork\\nequals\\nQ\\nwhich\\nin\\nturn\\nequals\\nAf\\n.\\nThere\\nis\\na\\nwell-known\\nrelationship\\nbetween\\nprobability\\nand\\nentropy\\nwhich\\nstates\\nthat\\nAf\\n,\\nwhere\\n**zq\\nis\\nthe\\nprobability\\nthat\\nstate\\n(\\ni.e.\\n,\\nvolume\\nfor\\nan\\nideal\\ngas\\n)\\ncould\\nbe\\nreached\\nby\\nchance\\nalone\\n.\\nThis\\nis\\nknown\\nas\\nconformational\\nentropy\\n.\\nThis\\nconformational\\nentropy\\nis\\n,\\nin\\nthis\\ncase\\n,\\nequal\\nto\\nthe\\nusual\\nentropy\\n,\\nfor\\nthere\\nare\\nno\\nother\\nchanges\\nor\\nother\\nenergies\\ninvolved\\n.\\nNote\\nthat\\nthough\\nthe\\nideal\\ngas\\nitself\\ncontains\\nno\\nadditional\\nenergy\\n,\\nthe\\ncompressed\\ngas\\ndoes\\nexert\\nan\\nincreased\\npressure\\n.\\nThe\\nenergy\\nfor\\nany\\nisothermal\\nwork\\ndone\\nby\\nthe\\nperfect\\ngas\\nmust\\ncome\\nas\\nthermal\\nenergy\\nfrom\\nits\\nsurroundings\\n.\\n\",\n",
       " \"A\\nproton\\nmagnetic\\nresonance\\nstudy\\nof\\npolycrystalline\\nAf\\nas\\na\\nfunction\\nof\\nmagnetic\\nfield\\nand\\ntemperature\\nis\\npresented\\n.\\nAf\\nis\\nparamagnetic\\n,\\nand\\nelectron\\nparamagnetic\\ndipole\\nas\\nwell\\nas\\nnuclear\\ndipole\\neffects\\nlead\\nto\\nline\\nbroadening\\n.\\nThe\\nlines\\nare\\nasymmetric\\nand\\nover\\nthe\\nrange\\nof\\nfield\\nAf\\ngauss\\nand\\ntemperature\\nAf\\nthe\\nasymmetry\\nincreases\\nwith\\nincreasing\\nAf\\nand\\ndecreasing\\nT\\n.\\nAn\\nisotropic\\nresonance\\nshift\\nof\\nAf\\nto\\nlower\\napplied\\nfields\\nindicates\\na\\nweak\\nisotropic\\nhyperfine\\ncontact\\ninteraction\\n.\\nThe\\ngeneral\\ntheory\\nof\\nresonance\\nshifts\\nis\\nused\\nto\\nderive\\na\\ngeneral\\nexpression\\nfor\\nthe\\nsecond\\nmoment\\nAf\\nof\\na\\npolycrystalline\\nparamagnetic\\nsample\\nand\\nis\\nspecialized\\nto\\nAf\\n.\\nThe\\ntheory\\npredicts\\na\\nlinear\\ndependence\\nof\\nAf\\non\\nAf\\n,\\nwhere\\nJ\\nis\\nthe\\nexperimentally\\ndetermined\\nCurie-Weiss\\nconstant\\n.\\nThe\\nexperimental\\nsecond\\nmoment\\nAf\\nconforms\\nto\\nthe\\nrelation\\nAf\\nin\\nagreement\\nwith\\ntheory\\n.\\nHence\\n,\\nthe\\nelectron\\nparamagnetic\\neffects\\n(\\nslope\\n)\\ncan\\nbe\\nseparated\\nfrom\\nthe\\nnuclear\\neffects\\n(\\nintercept\\n)\\n.\\nThe\\nparamagnetic\\ndipole\\neffects\\nprovide\\nsome\\ninformation\\non\\nthe\\nparticle\\nshapes\\n.\\nThe\\nnuclear\\ndipole\\neffects\\nprovide\\nsome\\ninformation\\non\\nthe\\nmotions\\nof\\nthe\\nhydrogen\\nnuclei\\n,\\nbut\\nthe\\nsymmetry\\nof\\nthe\\nAf\\nbond\\nin\\nAf\\nremains\\nin\\ndoubt\\n.\\nIntroduction\\nthe\\nmagnetic\\nmoment\\nof\\nan\\nunpaired\\nelectron\\nassociated\\nnearby\\nmay\\nhave\\na\\ntremendous\\ninfluence\\non\\nthe\\nmagnetic\\nresonance\\nproperties\\nof\\nnuclei\\n.\\nIt\\nis\\nimportant\\nto\\nconsider\\nand\\nexperimentally\\nverify\\nthis\\ninfluence\\nsince\\nquantitative\\nnuclear\\nresonance\\nis\\nbecoming\\nincreasingly\\nused\\nin\\ninvestigations\\nof\\nstructure\\n.\\nAf\\nappeared\\nto\\nbe\\nwell\\nsuited\\nfor\\nthe\\nstudy\\nof\\nthese\\nmatters\\n,\\nsince\\nit\\nis\\na\\nnormal\\nparamagnet\\n,\\nwith\\nthree\\nunpaired\\nelectrons\\non\\nthe\\nchromium\\n,\\nits\\ncrystal\\nstructure\\nis\\nvery\\nsimple\\n,\\nand\\nthe\\nunknown\\nposition\\nof\\nthe\\nhydrogen\\nin\\nthe\\nstrong\\nAf\\nbond\\nprovides\\nstructural\\ninterest\\n.\\nWe\\nfirst\\ndiscuss\\nthe\\nAf\\nbond\\nin\\nAf\\n.\\nWe\\nthen\\noutline\\nthe\\ntheory\\nof\\nthe\\ninteraction\\nof\\nparamagnetic\\ndipoles\\nwith\\nnuclei\\nand\\nshow\\nthat\\nthe\\ntheory\\nis\\nin\\nexcellent\\nagreement\\nwith\\nexperiment\\n.\\nIndeed\\nit\\nis\\npossible\\nto\\nseparate\\nelectron\\nparamagnetic\\nfrom\\nnuclear\\neffects\\n.\\nThe\\ninformation\\nprovided\\nby\\nthe\\nelectron\\nparamagnetic\\neffects\\nis\\nthen\\ndiscussed\\n,\\nand\\nfinally\\nthe\\nnuclear\\neffects\\nare\\ninterpreted\\nin\\nterms\\nof\\nvarious\\nmotional-modified\\nmodels\\nof\\nthe\\nAf\\nbond\\nin\\nAf\\n.\\nAf\\nbond\\nin\\nAf\\nTheoretical\\nstudies\\nof\\nthe\\nhydrogen\\nbond\\ngenerally\\nagree\\nthat\\nthe\\nAf\\nbond\\nwill\\nbe\\nlinear\\nin\\nthe\\nabsence\\nof\\npeculiarities\\nof\\npacking\\nin\\nthe\\nsolid\\n.\\nMoreover\\n,\\nit\\nwill\\nbe\\nasymmetric\\nuntil\\na\\ncertain\\ncritical\\nAf\\ndistance\\nis\\nreached\\n,\\nbelow\\nwhich\\nit\\nwill\\nbecome\\nsymmetric\\n.\\nThere\\nis\\nample\\nevidence\\nfrom\\nmany\\nsources\\nthat\\nthe\\nAf\\nbond\\nin\\nAf\\nis\\nsymmetric\\n.\\nThe\\nAf\\ndistance\\nin\\nAf\\nis\\n2.26\\nAj\\n.\\nThere\\nis\\nevidence\\n,\\nthough\\nless\\nconvincing\\nthan\\nfor\\nAf\\n,\\nthat\\nthe\\nAf\\nbond\\nin\\nnickel\\ndimethylglyoxime\\nis\\nsymmetric\\n.\\nHere\\nthe\\nAf\\ndistance\\nis\\n2.44\\nAj\\n.\\nA\\nnumber\\nof\\nsemiempirical\\nestimates\\nby\\nvarious\\nworkers\\nlead\\nto\\nthe\\nconclusion\\nthat\\nthe\\nAf\\nbond\\nbecomes\\nsymmetric\\nwhen\\nthe\\nAf\\nbond\\nlength\\nis\\nabout\\n2.4\\nto\\n2.5\\nA\\n,\\nbut\\naside\\nfrom\\nthe\\npossible\\nexample\\nof\\nnickel\\ndimethylglyoxime\\nthere\\nhave\\nbeen\\nno\\nconvincing\\nreports\\nof\\nsymmetric\\nAf\\nbonds\\n.\\nDouglass\\nhas\\nstudied\\nthe\\ncrystal\\nstructure\\nof\\nAf\\nby\\nx-ray\\ndiffraction\\n.\\nHe\\nfinds\\nthe\\nstructure\\ncontains\\nan\\nAf\\nbond\\nwith\\nthe\\nAf\\ndistance\\nof\\nAf\\n.\\nThere\\nis\\n,\\nthen\\n,\\nthe\\npossibility\\nthat\\nthis\\nAf\\nbond\\nis\\nsymmetric\\n,\\nalthough\\nDouglass\\nwas\\nunable\\nto\\ndetermine\\nits\\nsymmetry\\nfrom\\nhis\\nx-ray\\ndata\\n.\\nDouglass\\nfound\\nAf\\nto\\nbe\\ntrigonal\\n,\\nLaue\\nsymmetry\\nAf\\n,\\nwith\\nAf\\n,\\nAf\\n.\\nX-ray\\nand\\nexperimental\\ndensity\\nshowed\\none\\nformula\\nunit\\nin\\nthe\\nunit\\ncell\\n,\\ncorresponding\\nto\\na\\nparamagnetic\\nion\\ndensity\\nof\\nAf\\n.\\nThe\\nx-ray\\ndata\\ndid\\nnot\\npermit\\nDouglass\\nto\\ndetermine\\nuniquely\\nthe\\nspace\\ngroup\\n,\\nbut\\na\\nnegative\\ntest\\nfor\\npiezoelectricity\\nled\\nhim\\nto\\nassume\\na\\ncenter\\nof\\nsymmetry\\n.\\nUnder\\nthis\\nassumption\\nthe\\nspace\\ngroup\\nmust\\nbe\\nAf\\nand\\nthe\\nfollowing\\nare\\nthe\\npositions\\nof\\nthe\\natoms\\nin\\nthe\\nunit\\ncell\\n.\\nAf\\n.\\nThis\\nspace\\ngroup\\nrequires\\nthe\\nhydrogen\\nbond\\nto\\nbe\\nsymmetric\\n.\\nDouglass\\nfound\\npowder\\nintensity\\ncalculations\\nand\\nmeasurements\\nto\\nagree\\nbest\\nfor\\nAf\\n.\\nThese\\ndata\\nlead\\nto\\na\\nstructure\\nin\\nwhich\\nsheets\\nof\\nCr\\natoms\\nlie\\nbetween\\ntwo\\nsheets\\nof\\nO\\natoms\\n.\\nThe\\nO\\natoms\\nin\\neach\\nsheet\\nare\\nclose\\npacked\\nand\\neach\\nCr\\natom\\nis\\nsurrounded\\nby\\na\\ndistorted\\noctahedron\\nof\\nO\\natoms\\n.\\nThe\\nAf\\nlayers\\nare\\nstacked\\nnormal\\nto\\nthe\\n(\\n111\\n)\\naxis\\nwith\\nthe\\nlower\\noxygens\\nof\\none\\nlayer\\ndirectly\\nabove\\nthe\\nupper\\noxygens\\nof\\nthe\\nneighboring\\nlower\\nlayer\\n,\\nin\\nsuch\\na\\nmanner\\nthat\\nthe\\nrepeat\\nis\\nevery\\nthree\\nlayers\\n.\\nThe\\nseparate\\nlayers\\nare\\njoined\\ntogether\\nby\\nhydrogen\\nbonds\\n.\\nA\\ndrawing\\nof\\nthe\\nstructure\\nis\\nto\\nbe\\nfound\\nin\\nreference\\n6\\n.\\nThe\\ngross\\ndetails\\nof\\nthe\\nstructure\\nappear\\nreasonable\\n.\\nThe\\nstructure\\nappears\\nto\\nbe\\nunique\\namong\\nOOH\\ncompounds\\n,\\nbut\\nis\\nthe\\nsame\\nas\\nthat\\nassumed\\nby\\nAf\\n.\\nThe\\nbond\\nangles\\nand\\ndistances\\nare\\nall\\nwithin\\nthe\\nexpected\\nlimits\\nand\\nthe\\nvolume\\nper\\noxygen\\nis\\nabout\\nnormal\\n.\\nHowever\\n,\\nthe\\npossible\\nabsence\\nof\\na\\ncenter\\nof\\nsymmetry\\nnot\\nonly\\nmoves\\nthe\\nhydrogen\\natom\\noff\\nAf\\n,\\nbut\\nalso\\nallows\\nthe\\noxygen\\natoms\\nto\\nbecome\\nnonequivalent\\n,\\nwith\\nAf\\nat\\nAf\\nand\\nAf\\nat\\nAf\\n(\\nspace\\ngroup\\nAf\\n)\\n,\\nwhere\\nAf\\nrepresents\\nthe\\noxygens\\non\\none\\nside\\nof\\nthe\\nAf\\nlayers\\nand\\nAf\\nthose\\non\\nthe\\nother\\nside\\n.\\nHowever\\n,\\nany\\noxygen\\nnonequivalence\\nwould\\nshorten\\neither\\nthe\\nalready\\nextremely\\nshort\\nAf\\ninterlayer\\ndistance\\nof\\n2.55\\nA\\nor\\nthe\\nnon-hydrogen-bonded\\nAf\\ninterlayer\\ninteractions\\nwhich\\nare\\nalready\\nquite\\nshort\\nat\\n2.58\\nAj\\n.\\nHence\\nit\\nis\\ndifficult\\nto\\nconceive\\nof\\na\\npacking\\nof\\nthe\\natoms\\nin\\nthis\\nmaterial\\nin\\nwhich\\nthe\\noxygen\\natoms\\nare\\nfar\\nfrom\\ngeometrical\\nequivalence\\n.\\nThe\\nonly\\neffect\\nof\\nlack\\nof\\na\\ncenter\\nwould\\nthen\\nbe\\nto\\nrelease\\nthe\\nhydrogen\\natoms\\nto\\noccupy\\ngeneral\\n,\\nrather\\nthan\\nspecial\\n,\\npositions\\nalong\\nthe\\n(\\n111\\n)\\naxis\\n.\\nIf\\nthe\\nAf\\nbond\\nis\\nlinear\\nthen\\nthere\\nare\\nthree\\nreasonable\\npositions\\nfor\\nthe\\nhydrogen\\natoms\\n:\\n(\\n1\\n)\\nThe\\nhydrogen\\natoms\\nare\\ncentered\\nand\\nhence\\nall\\nlie\\non\\na\\nsheet\\nmidway\\nbetween\\nthe\\noxygen\\nsheets\\n;\\n;\\n(\\n2\\n)\\nall\\nhydrogen\\natoms\\nlie\\non\\na\\nsheet\\n,\\nbut\\nthe\\nsheet\\nis\\ncloser\\nto\\none\\noxygen\\nsheet\\nthan\\nto\\nthe\\nother\\n;\\n;\\n(\\n3\\n)\\nhydrogen\\natoms\\nare\\nasymmetrically\\nplaced\\n,\\neither\\nrandomly\\nor\\nin\\nan\\nordered\\nway\\n,\\nso\\nthat\\nsome\\nhydrogen\\natoms\\nare\\ncloser\\nto\\nthe\\nupper\\noxygen\\natoms\\nwhile\\nothers\\nare\\ncloser\\nto\\nthe\\nlower\\noxygen\\natoms\\n.\\nPosition\\n(\\n2\\n)\\nappears\\nto\\nus\\nto\\nbe\\nunlikely\\nin\\nview\\nof\\nthe\\nabsence\\nof\\na\\npiezoelectric\\neffect\\nand\\non\\ngeneral\\nchemical\\nstructural\\ngrounds\\n.\\nA\\nrandomization\\nof\\n``\\nups\\n''\\nand\\n``\\ndowns\\n''\\nis\\nmore\\nlikely\\nthan\\nordered\\n``\\nups\\n''\\nand\\n``\\ndowns\\n''\\nin\\nposition\\n(\\n3\\n)\\nsince\\nthe\\nhydrogen\\natoms\\nare\\nwell\\nseparated\\nand\\nso\\nthe\\nposition\\nof\\none\\ncould\\nhardly\\naffect\\nthe\\nposition\\nof\\nanother\\n,\\nand\\nalso\\nsince\\nordered\\n``\\nup\\n''\\nand\\n``\\ndown\\n''\\nimplies\\na\\nlarger\\nunit\\ncell\\n,\\nfor\\nwhich\\nno\\nevidence\\nexists\\n.\\nTherefore\\n,\\nthe\\nonly\\nunknown\\nstructural\\nfeature\\nwould\\nappear\\nto\\nbe\\nwhether\\nthe\\nhydrogen\\natoms\\nare\\nlocated\\nsymmetrically\\n(\\n1\\n)\\nor\\nasymmetrically\\n(\\n3\\n)\\n.\\nExperimental\\nprocedures\\nsamples\\nDouglass\\nprepared\\nhis\\nsample\\nof\\nAf\\nby\\nthermal\\ndecomposition\\nof\\naqueous\\nchromic\\nacid\\nat\\n300\\n-\\n325-degrees-C\\n.\\nDr.\\nDouglass\\nwas\\nkind\\nenough\\nto\\nlend\\nus\\nabout\\n5\\ngrams\\nof\\nhis\\nmaterial\\n.\\nThis\\nmaterial\\nproved\\nto\\nbe\\nunsatisfactory\\n,\\nsince\\nwe\\ncould\\nnot\\nobtain\\nreproducible\\nresults\\non\\nvarious\\nportions\\nof\\nthe\\nsample\\n.\\nSubsequently\\n,\\nwe\\nlearned\\nfrom\\nDouglass\\nthat\\nhis\\nsample\\ncontained\\na\\nfew\\npercent\\nAf\\nimpurity\\n.\\nSince\\nAf\\nis\\nferromagnetic\\n,\\nwe\\nfelt\\nthat\\nany\\nresults\\nobtained\\nfrom\\nthe\\nmagnetically\\ncontaminated\\nAf\\nwould\\nbe\\nsuspect\\n.\\nPlane\\nsuggested\\nanother\\npreparation\\nof\\nAf\\nwhich\\nwe\\nused\\nhere\\n.\\n500\\nml\\nof\\n1M\\naqueous\\nAf\\nwith\\n1\\nAf\\nadded\\nare\\nheated\\nin\\na\\nbomb\\nat\\n170-degrees-C\\nfor\\n48\\nhours\\n.\\nA\\nvery\\nfine\\n,\\ngray\\nsolid\\n(\\nabout\\n15\\ng\\n)\\nis\\nformed\\n,\\nwater-washed\\nby\\ncentrifugation\\n,\\nand\\ndried\\nat\\n110-degrees-C\\n)\\n.\\nDifferential\\nthermal\\nanalysis\\nshowed\\na\\nvery\\nsmall\\nendothermic\\nreaction\\nat\\n340-degrees-C\\nand\\na\\nlarge\\nendothermic\\nreaction\\nat\\n470-degrees-C\\n.\\nThis\\nlatter\\nreaction\\nis\\nin\\naccord\\nwith\\nthe\\nreported\\ndecomposition\\nof\\nAf\\n.\\nThermogravimetric\\nanalysis\\nshowed\\na\\nweight\\nloss\\nof\\n1.8%\\ncentered\\nat\\n337-degrees-C\\nand\\nanother\\nweight\\nloss\\nof\\n10.8%\\nat\\n463-degrees-C\\n.\\nThe\\nexpected\\nweight\\nloss\\nfor\\nAf\\ngoing\\nto\\nAf\\nand\\nAf\\nis\\n10.6%\\n.\\nMass\\nspectrometric\\nanalysis\\nof\\ngases\\nevolved\\nupon\\nheating\\nto\\n410-degrees-C\\nindicated\\nnitrogen\\noxides\\nand\\nwater\\nvapor\\n.\\nThe\\nsmall\\nreaction\\noccurring\\nat\\n337-degrees-C\\nis\\nprobably\\ncaused\\nby\\ndecomposition\\nof\\noccluded\\nnitrates\\n,\\nand\\nperhaps\\nby\\na\\nsmall\\namount\\nof\\nsome\\nhydrous\\nmaterial\\nother\\nthan\\nAf\\n.\\nAll\\nsubsequent\\nmeasurements\\nwere\\nmade\\non\\nmaterial\\nwhich\\nhad\\nbeen\\nheated\\nto\\n375-degrees-C\\nfor\\none\\nhour\\n.\\nEmission\\nspectra\\nindicated\\nAf\\ncalcium\\nand\\nall\\nother\\nimpurities\\nmuch\\nlower\\n.\\nChromium\\nanalysis\\ngave\\n58.8%\\nCr\\nas\\ncompared\\nwith\\n61.2%\\ntheory\\n.\\nHowever\\n,\\nAf\\nadsorbs\\nwater\\nfrom\\nthe\\natmosphere\\nand\\nthis\\nmay\\naccount\\nfor\\nthe\\nlow\\nchromium\\nanalysis\\nand\\nhigh\\ntotal\\nweight\\nloss\\n.\\nThe\\nx-ray\\ndiffraction\\npattern\\nof\\nthe\\nmaterial\\n,\\ntaken\\nwith\\nCuK**ya\\nradiation\\n,\\nindicated\\nthe\\npresence\\nof\\nno\\nextra\\nlines\\nand\\nwas\\nin\\ngood\\nagreement\\nwith\\nthe\\npattern\\nof\\nDouglass\\n.\\nMagnetic\\nanalyses\\nby\\nR.\\nG.\\nMeisenheimer\\nof\\nthis\\nlaboratory\\nindicated\\nno\\nferromagnetic\\nimpurities\\n.\\nAf\\nwas\\nfound\\nto\\nbe\\nparamagnetic\\nwith\\nthree\\nunpaired\\nelectrons\\nper\\nchromium\\natom\\nand\\na\\nmolecular\\nsusceptibility\\nof\\nAf\\n,\\nwhere\\nAf\\n.\\nFor\\nexactly\\nthree\\nunpaired\\nelectrons\\nthe\\ncoefficient\\nwould\\nbe\\n3.10\\n.\\nAn\\ninfrared\\nspectrum\\n,\\nobtained\\nby\\nH.\\nA.\\nBenesi\\nand\\nR.\\nG.\\nSnyder\\nof\\nthis\\nlaboratory\\n,\\nshowed\\nbands\\nin\\nthe\\npositions\\nfound\\nby\\nJones\\n.\\nElectron\\nmicroscopic\\nexamination\\nof\\nthe\\nAf\\nsample\\nshowed\\nit\\nto\\nbe\\ncomposed\\nof\\nnearly\\nisotropic\\nparticles\\nabout\\n0.3M\\nin\\ndiameter\\n.\\nThe\\nparticles\\nappeared\\nrough\\nand\\nundoubtedly\\nthe\\nsingle-crystal\\ndomains\\nare\\nsmaller\\nthan\\nthis\\n.\\nThe\\nx-ray\\ndata\\nare\\nconsistent\\nwith\\nparticle\\nsizes\\nof\\n1000\\nA\\nor\\ngreater\\n.\\nWe\\nfound\\nno\\nobvious\\neffects\\ndue\\nto\\npreferred\\norientation\\nof\\nthe\\ncrystallites\\nin\\nthis\\nsample\\nnor\\nwould\\nwe\\nexpect\\nto\\non\\nthe\\nbasis\\nof\\nthe\\nshape\\nfound\\nfrom\\nelectron\\nmicroscopic\\nexamination\\n.\\nNuclear\\nmagnetic\\nresonance\\n(\\nNMR\\n)\\nmeasurements\\nThe\\nmagnetic\\nresonance\\nabsorption\\nwas\\ndetected\\nby\\nemploying\\na\\nVarian\\nmodel\\nAf\\nbroad\\nline\\nspectrometer\\nand\\nthe\\nassociated\\n12-inch\\nelectromagnet\\nsystem\\n.\\nOne\\nmeasurement\\nat\\n40\\nMc\\nwas\\nobtained\\nwith\\nthe\\nVarian\\nmodel\\nAf\\nunit\\n.\\nA\\nbridged-T\\ntype\\nof\\nbridge\\nwas\\nused\\nin\\nthe\\n10\\n-\\n16\\nMc\\nrange\\n.\\nThe\\nrf\\npower\\nlevel\\nwas\\nmaintained\\nsmall\\nenough\\nat\\nall\\ntimes\\nto\\nprevent\\nobvious\\nline\\nshape\\ndistortions\\nby\\nsaturation\\neffects\\n.\\nA\\nmodulation\\nfrequency\\nof\\n40\\ncps\\nwith\\nan\\namplitude\\nas\\nsmall\\nas\\npossible\\n,\\ncommensurate\\nwith\\nreasonably\\ngood\\nsignal-to-noise\\nquality\\n,\\nwas\\nused\\n.\\nBackground\\nspectra\\nwere\\nobtained\\nin\\nall\\ncases\\n.\\nThe\\nspectrometer\\nwas\\nadjusted\\nto\\nminimize\\nthe\\namount\\nof\\ndispersion\\nmode\\nmixed\\nin\\nwith\\nthe\\nabsorption\\nsignal\\n.\\nA\\nsingle\\nvalue\\nof\\nthe\\nthermal\\nrelaxation\\ntime\\nAf\\nat\\nroom\\ntemperature\\nwas\\nmeasured\\nby\\nthe\\nprogressive\\nsaturation\\nmethod\\n.\\nThe\\nvalue\\nof\\nAf\\nestimated\\nat\\n470\\ngauss\\nwas\\nAf\\nmicroseconds\\n.\\nA\\nsingle\\nmeasurement\\nof\\nthe\\nspin\\n-\\nspin\\nrelaxation\\ntime\\nAf\\nwas\\nobtained\\nat\\n10\\nMc\\nby\\npulse\\nmethods\\n.\\nThis\\nmeasurement\\nwas\\nobtained\\nby\\nW.\\nBlumberg\\nof\\nthe\\nUniversity\\nof\\nCalifornia\\n,\\nBerkeley\\n,\\nby\\nobserving\\nthe\\nbreadth\\nof\\nthe\\nfree\\ninduction\\ndecay\\nsignal\\n.\\nThe\\nvalue\\nderived\\nwas\\n16\\nmicroseconds\\n.\\nField\\nshifts\\nwere\\nderived\\nfrom\\nthe\\nmean\\nvalue\\nof\\nthe\\nresonance\\nline\\n,\\ndefined\\nas\\nthe\\nfield\\nabout\\nwhich\\nthe\\nfirst\\nmoment\\nis\\nzero\\n.\\nSecond\\nmoments\\nof\\nthe\\nspectra\\nwere\\ncomputed\\nby\\nnumerical\\nintegration\\n.\\nCorrections\\nwere\\napplied\\nfor\\nmodulation\\nbroadening\\n,\\napparatus\\nbackground\\n,\\nand\\nfield\\nshift\\n.\\nSpectra\\nwere\\nobtained\\nover\\nthe\\ntemperature\\nrange\\nof\\n77\\n-\\n294-degrees-K\\n.\\nFor\\nthe\\nlow-temperature\\nmeasurements\\nthe\\nsample\\nwas\\ncooled\\nby\\na\\ncold\\nnitrogen\\ngas\\nflow\\nmethod\\nsimilar\\nto\\nthat\\nof\\nAndrew\\nand\\nEades\\n.\\nThe\\ntemperature\\nwas\\nmaintained\\nto\\nwithin\\nabout\\nAf\\nfor\\nthe\\nperiod\\nof\\ntime\\nrequired\\nto\\nmake\\nthe\\nmeasurement\\n(\\nusually\\nabout\\none\\nhour\\n)\\n.\\nOne\\nsample\\n,\\nwhich\\nhad\\nbeen\\nexposed\\nto\\nthe\\natmosphere\\nafter\\nevacuation\\nat\\n375-degrees-C\\n,\\nshowed\\nthe\\npresence\\nof\\nadsorbed\\nwater\\n(\\nabout\\n0.3\\nwt\\n)\\n)\\nas\\nevidenced\\nby\\na\\nweak\\nresonance\\nline\\nwhich\\nwas\\nvery\\nnarrow\\nat\\nroom\\ntemperature\\nand\\nwhich\\ndisappeared\\n,\\ndue\\nto\\nbroadening\\n,\\nat\\nlow\\ntemperature\\n.\\nThe\\ndata\\nreported\\nhere\\nare\\neither\\nfrom\\nspectra\\nfrom\\nwhich\\nthe\\nadsorbed\\nwater\\nresonance\\ncould\\neasily\\nbe\\neliminated\\nor\\nfrom\\nspectra\\nof\\nsamples\\nevacuated\\nand\\nsealed\\noff\\nat\\n375-degrees-C\\nwhich\\ncontain\\nno\\nadsorbed\\nwater\\n.\\nThe\\nmeasured\\npowder\\ndensity\\nof\\nthe\\nAf\\nused\\nhere\\nwas\\nabout\\nAf\\n,\\napproximately\\none-third\\nthat\\nof\\nthe\\ncrystal\\ndensity\\n(\\nAf\\n)\\n.\\nSuch\\na\\ndensity\\ncorresponds\\nto\\na\\nparamagnetic\\nion\\ndensity\\nof\\nabout\\nAf\\n.\\nSpectra\\nwere\\nobtained\\nfrom\\na\\npowdered\\nsample\\nhaving\\nthe\\nshape\\nof\\na\\nright\\ncircular\\ncylinder\\nwith\\na\\nheight-to-diameter\\nratio\\nof\\n4\\n:\\n:\\n1\\n.\\nThe\\ntop\\nof\\nthe\\nsample\\nwas\\nnearly\\nflat\\nand\\nthe\\nbottom\\nhemispherical\\n.\\nSpectra\\nwere\\nalso\\nobtained\\nfrom\\na\\nsample\\nin\\na\\nspherical\\ncontainer\\nwhich\\nwas\\nmade\\nby\\nblowing\\na\\nbubble\\non\\nthe\\nend\\nof\\na\\ncapillary\\nglass\\ntube\\n.\\nThe\\nbubble\\nwas\\nfilled\\nto\\nthe\\ntop\\nand\\nspecial\\nprecautions\\nwere\\ntaken\\nto\\nprevent\\nany\\nsample\\nfrom\\nremaining\\nin\\nthe\\ncapillary\\n.\\nSpectra\\nwere\\nalso\\nobtained\\nfrom\\na\\nthird\\nsample\\nof\\nAf\\nwhich\\nhad\\nbeen\\ndiluted\\nto\\nthree\\ntimes\\nits\\noriginal\\nvolume\\nwith\\npowdered\\n,\\nanhydrous\\nalundum\\n(\\nAf\\n)\\n.\\nThis\\nsample\\nwas\\ncontained\\nin\\na\\ncylindrical\\ncontainer\\nsimilar\\nto\\nthat\\ndescribed\\nabove\\n.\\n\"]"
      ]
     },
     "execution_count": 205,
     "metadata": {},
     "output_type": "execute_result"
    }
   ],
   "source": [
    "a = wordlists.fileids()\n",
    "b = [open('./02_data/'+file,'r').read() for file in a]\n",
    "b"
   ]
  },
  {
   "cell_type": "code",
   "execution_count": 208,
   "id": "c868a10b",
   "metadata": {
    "ExecuteTime": {
     "end_time": "2023-06-20T07:37:24.912679Z",
     "start_time": "2023-06-20T07:37:24.898717Z"
    }
   },
   "outputs": [
    {
     "data": {
      "text/plain": [
       "'So\\nfar\\nthese\\nremarks\\n,\\nlike\\nmost\\ncriticisms\\nof\\nHardy\\n,\\nhave\\ntacitly\\nassumed\\nthat\\nhis\\npoetry\\nis\\nall\\nof\\na\\npiece\\n,\\none\\nsolid\\nmass\\nof\\nverse\\nexpressing\\na\\nsensibility\\nat\\na\\nsingle\\nstage\\nof\\ndevelopment\\n.\\nFor\\n'"
      ]
     },
     "execution_count": 208,
     "metadata": {},
     "output_type": "execute_result"
    }
   ],
   "source": [
    "b[0][:200]"
   ]
  },
  {
   "cell_type": "code",
   "execution_count": null,
   "id": "85821873",
   "metadata": {},
   "outputs": [],
   "source": []
  },
  {
   "cell_type": "code",
   "execution_count": null,
   "id": "b7d96c83",
   "metadata": {},
   "outputs": [],
   "source": []
  },
  {
   "cell_type": "code",
   "execution_count": 183,
   "id": "0417cf18",
   "metadata": {
    "ExecuteTime": {
     "end_time": "2023-06-20T07:26:35.094919Z",
     "start_time": "2023-06-20T07:26:35.076969Z"
    }
   },
   "outputs": [],
   "source": [
    "a = wordlists.fileids()\n",
    "a = open(r'.\\02_data/'+'hu01.txt', 'r').read()\n",
    "a = ' '.join(a.split())[:100]\n",
    "a = '''So far these remarks, far these remarks, most criticisms of\\n'''"
   ]
  },
  {
   "cell_type": "code",
   "execution_count": 189,
   "id": "7cfec9b4",
   "metadata": {
    "ExecuteTime": {
     "end_time": "2023-06-20T07:28:15.125600Z",
     "start_time": "2023-06-20T07:28:15.110638Z"
    }
   },
   "outputs": [
    {
     "name": "stdout",
     "output_type": "stream",
     "text": [
      "['So', 'far', 'these', 'remarks', ',', 'far', 'these', 'remarks', ',', 'most', 'criticisms', 'of']\n",
      "[('So', 'RB'), ('far', 'RB'), ('these', 'DT'), ('remarks', 'NNS'), (',', ','), ('far', 'RB'), ('these', 'DT'), ('remarks', 'NNS'), (',', ','), ('most', 'JJS'), ('criticisms', 'NNS'), ('of', 'IN')]\n"
     ]
    }
   ],
   "source": [
    "b = nltk.word_tokenize(a)\n",
    "print(b)\n",
    "c = nltk.pos_tag(b)\n",
    "print(c)\n",
    "\n",
    "d = nltk.ConditionalFreqDist([(j,i) for i,j in c])"
   ]
  },
  {
   "cell_type": "code",
   "execution_count": 191,
   "id": "c91de31f",
   "metadata": {
    "ExecuteTime": {
     "end_time": "2023-06-20T07:28:24.764241Z",
     "start_time": "2023-06-20T07:28:24.741267Z"
    }
   },
   "outputs": [
    {
     "data": {
      "text/plain": [
       "FreqDist({'far': 2, 'So': 1})"
      ]
     },
     "execution_count": 191,
     "metadata": {},
     "output_type": "execute_result"
    }
   ],
   "source": [
    "d['RB']"
   ]
  },
  {
   "cell_type": "code",
   "execution_count": 197,
   "id": "fd262053",
   "metadata": {
    "ExecuteTime": {
     "end_time": "2023-06-20T07:30:29.227704Z",
     "start_time": "2023-06-20T07:30:29.217694Z"
    }
   },
   "outputs": [
    {
     "name": "stdout",
     "output_type": "stream",
     "text": [
      "[('RB', FreqDist({'far': 2, 'So': 1})), ('DT', FreqDist({'these': 2})), ('NNS', FreqDist({'remarks': 2, 'criticisms': 1})), (',', FreqDist({',': 2})), ('JJS', FreqDist({'most': 1})), ('IN', FreqDist({'of': 1}))]\n"
     ]
    },
    {
     "data": {
      "text/plain": [
       "[('RB', 'far'),\n",
       " ('DT', 'these'),\n",
       " ('NNS', 'remarks'),\n",
       " (',', ','),\n",
       " ('JJS', 'most'),\n",
       " ('IN', 'of')]"
      ]
     },
     "execution_count": 197,
     "metadata": {},
     "output_type": "execute_result"
    }
   ],
   "source": [
    "e = [(k,v) for k, v in d.items()]\n",
    "print(e)\n",
    "\n",
    "f = [(pos, FD.most_common(1)[0][0]) for pos, FD in e]\n",
    "f"
   ]
  },
  {
   "cell_type": "code",
   "execution_count": 203,
   "id": "e4303276",
   "metadata": {
    "ExecuteTime": {
     "end_time": "2023-06-20T07:35:47.101043Z",
     "start_time": "2023-06-20T07:35:47.086086Z"
    }
   },
   "outputs": [
    {
     "data": {
      "text/plain": [
       "{'y': ['Way'],\n",
       " 'h': ['Roth'],\n",
       " 'n': ['Pen'],\n",
       " 'e': ['Devinne', 'Robinette', 'Dryke', 'Jackie'],\n",
       " 'a': ['Lucia', 'Rycca']}"
      ]
     },
     "execution_count": 203,
     "metadata": {},
     "output_type": "execute_result"
    }
   ],
   "source": [
    "a = ['Devinne','Robinette','Lucia','Dryke','Roth','Way','Pen','Jackie','Rycca']\n",
    "b = {end:[word for word in a if word[-1]==end] for end in set([w[-1] for w in a])}\n",
    "b"
   ]
  },
  {
   "cell_type": "code",
   "execution_count": null,
   "id": "524809ca",
   "metadata": {},
   "outputs": [],
   "source": []
  },
  {
   "cell_type": "code",
   "execution_count": null,
   "id": "de153884",
   "metadata": {},
   "outputs": [],
   "source": []
  },
  {
   "cell_type": "code",
   "execution_count": null,
   "id": "162c6937",
   "metadata": {},
   "outputs": [],
   "source": []
  },
  {
   "cell_type": "code",
   "execution_count": 9,
   "id": "ff2f1ae0",
   "metadata": {
    "ExecuteTime": {
     "end_time": "2023-06-19T11:13:49.630823Z",
     "start_time": "2023-06-19T11:13:49.617860Z"
    }
   },
   "outputs": [
    {
     "name": "stdout",
     "output_type": "stream",
     "text": [
      "['hu01.txt', 'hu02.txt', 'hu03.txt', 'hu04.txt']\n",
      "---------------------------------------------\n",
      "['hu03.txt', 'hu04.txt', 'na03.txt', 'na04.txt']\n",
      "---------------------------------------------\n",
      "[]\n",
      "---------------------------------------------\n",
      "[]\n"
     ]
    }
   ],
   "source": [
    "wordlists = PlaintextCorpusReader('./02_data','^h.+')\n",
    "print(wordlists.fileids()) \n",
    "print('-'*45)\n",
    "wordlists = PlaintextCorpusReader('.\\\\02_data','.+[34].+')\n",
    "print(wordlists.fileids()) \n",
    "print('-'*45)\n",
    "wordlists = PlaintextCorpusReader('.\\\\02_data','.+[34]')\n",
    "print(wordlists.fileids())  #34로 끝나는게 없음.\n",
    "print('-'*45)\n",
    "wordlists = PlaintextCorpusReader('.\\\\02_data','[34].+')\n",
    "print(wordlists.fileids())  #34로 시작하는게 없음."
   ]
  },
  {
   "cell_type": "code",
   "execution_count": null,
   "id": "e2207a9b",
   "metadata": {},
   "outputs": [],
   "source": []
  },
  {
   "cell_type": "markdown",
   "id": "17313b23",
   "metadata": {},
   "source": [
    "여기서 원래 강의자료는 코랩 설명 나옴 일단 난 패스"
   ]
  },
  {
   "cell_type": "code",
   "execution_count": 201,
   "id": "b7b183bd",
   "metadata": {
    "ExecuteTime": {
     "end_time": "2023-06-20T07:33:04.510356Z",
     "start_time": "2023-06-20T07:33:04.489445Z"
    }
   },
   "outputs": [],
   "source": [
    "re.match(\"\\w+\\.(txt|TXT|TEXT|text)\",'dfdsfsdfds.pdf')"
   ]
  },
  {
   "cell_type": "code",
   "execution_count": null,
   "id": "0d9a85f5",
   "metadata": {},
   "outputs": [],
   "source": []
  },
  {
   "cell_type": "markdown",
   "id": "f208ad82",
   "metadata": {},
   "source": [
    "### 코퍼스 범주 분류하여 불러오기"
   ]
  },
  {
   "cell_type": "code",
   "execution_count": 10,
   "id": "8bd0796f",
   "metadata": {
    "ExecuteTime": {
     "end_time": "2023-06-19T11:13:49.645785Z",
     "start_time": "2023-06-19T11:13:49.634841Z"
    }
   },
   "outputs": [
    {
     "data": {
      "text/plain": [
       "nltk.corpus.reader.plaintext.PlaintextCorpusReader"
      ]
     },
     "execution_count": 10,
     "metadata": {},
     "output_type": "execute_result"
    }
   ],
   "source": [
    "from nltk.corpus import PlaintextCorpusReader\n",
    "wordlists = PlaintextCorpusReader(r'.\\02_data','.*')\n",
    "type(wordlists) "
   ]
  },
  {
   "cell_type": "code",
   "execution_count": 11,
   "id": "254086ee",
   "metadata": {
    "ExecuteTime": {
     "end_time": "2023-06-19T11:13:49.810343Z",
     "start_time": "2023-06-19T11:13:49.647779Z"
    }
   },
   "outputs": [
    {
     "name": "stdout",
     "output_type": "stream",
     "text": [
      "type(my) =  <class 'nltk.corpus.reader.plaintext.CategorizedPlaintextCorpusReader'>\n",
      "len(my.fileids()) =  8\n",
      "my.fileids()[0::2] =  ['hu01.txt', 'hu03.txt', 'na01.txt', 'na03.txt']\n",
      "my.categories() =  ['hu', 'na']\n",
      "len(my.words()) =  18784\n",
      "len(my.words(categories='hu')) =  9549\n",
      "len(my.words(categories='na')) =  9235\n"
     ]
    }
   ],
   "source": [
    "from nltk.corpus.reader.plaintext \\\n",
    "import CategorizedPlaintextCorpusReader\n",
    "\n",
    "my = CategorizedPlaintextCorpusReader(r'.\\02_data',\n",
    "    '.*', cat_pattern = '^(\\w\\w).+'\n",
    ")\n",
    "print(\"type(my) = \" ,type(my))\n",
    "print(\"len(my.fileids()) = \" ,len(my.fileids()))\n",
    "print(\"my.fileids()[0::2] = \" ,my.fileids()[0::2])\n",
    "print(\"my.categories() = \" ,my.categories()) #단어 2개 패턴으로 범주화\n",
    "print(\"len(my.words()) = \" ,len(my.words()))\n",
    "print(\"len(my.words(categories='hu')) = \" ,len(my.words(categories='hu')))\n",
    "print(\"len(my.words(categories='na')) = \" ,len(my.words(categories='na')))"
   ]
  },
  {
   "cell_type": "markdown",
   "id": "45afe9ce",
   "metadata": {},
   "source": [
    "### 불용어 목록(stopwords)\n",
    "- 길이 2~3이하 어휘 => 약자, a, an, in, on 등 기능어/문법어\n",
    "- the, in, what 등 기능어/문법어, say, people 등 텍스트의 주제어가 될 가능성이 적다고 가정되는 고빈도 어휘\n",
    "\n",
    "정보검색, 텍스트 마이닝 등\n",
    "- 데이터 분석에서 대체로 불용어는 제거됨\n",
    "- 연구목적에 따라 불용어 목록을 다양한 버전의 목록으로 사용\n",
    "- 연구목적에 따라 제거하지 않는 경우도 있다."
   ]
  },
  {
   "cell_type": "code",
   "execution_count": 12,
   "id": "2c314b62",
   "metadata": {
    "ExecuteTime": {
     "end_time": "2023-06-19T11:13:49.825338Z",
     "start_time": "2023-06-19T11:13:49.813337Z"
    }
   },
   "outputs": [
    {
     "name": "stdout",
     "output_type": "stream",
     "text": [
      "<class 'list'>\n",
      "179\n",
      "\n",
      "['i', 'me', 'my', 'myself', 'we', 'our', 'ours', 'ourselves', 'you', \"you're\"]\n",
      "['shouldn', \"shouldn't\", 'wasn', \"wasn't\", 'weren', \"weren't\", 'won', \"won't\", 'wouldn', \"wouldn't\"]\n"
     ]
    }
   ],
   "source": [
    "import nltk\n",
    "from nltk.corpus import stopwords\n",
    "print(type(stopwords.words('english')))\n",
    "print(len(stopwords.words('english')))\n",
    "print()\n",
    "print(stopwords.words('english')[:10]) #앞 10개만 가져오기\n",
    "print(stopwords.words('english')[-10:]) #뒤 10개만 가져오기"
   ]
  },
  {
   "cell_type": "markdown",
   "id": "29e98717",
   "metadata": {},
   "source": [
    "### 연습문제1\n",
    "- ['hu01.txt',  'hu02.txt', 'hu03.txt', 'hu04.txt','na01.txt','na02.txt','na03.txt','na04.txt']\n",
    "- 여기서 중간 숫자 01,02,03,04로 카테고리 나누기"
   ]
  },
  {
   "cell_type": "code",
   "execution_count": 13,
   "id": "7fc0ee19",
   "metadata": {
    "ExecuteTime": {
     "end_time": "2023-06-19T11:13:49.840298Z",
     "start_time": "2023-06-19T11:13:49.826300Z"
    }
   },
   "outputs": [
    {
     "name": "stdout",
     "output_type": "stream",
     "text": [
      "['hu01.txt', 'hu02.txt', 'hu03.txt', 'hu04.txt', 'na01.txt', 'na02.txt', 'na03.txt', 'na04.txt']\n"
     ]
    }
   ],
   "source": [
    "# 이게 정답\n",
    "ex =CategorizedPlaintextCorpusReader('./02_data', '.*', cat_pattern = '[a-z]{2}(0\\d)[.].+')\n",
    "print(ex.fileids())"
   ]
  },
  {
   "cell_type": "code",
   "execution_count": 14,
   "id": "ce34cfdb",
   "metadata": {
    "ExecuteTime": {
     "end_time": "2023-06-19T11:13:49.855223Z",
     "start_time": "2023-06-19T11:13:49.842258Z"
    }
   },
   "outputs": [],
   "source": [
    "# 나의 정답을 적어보자\n",
    "ex =CategorizedPlaintextCorpusReader('./02_data', '.*', cat_pattern = '\\w+(\\d\\d).+' )"
   ]
  },
  {
   "cell_type": "code",
   "execution_count": 15,
   "id": "59bc2aff",
   "metadata": {
    "ExecuteTime": {
     "end_time": "2023-06-19T11:13:49.915064Z",
     "start_time": "2023-06-19T11:13:49.857259Z"
    }
   },
   "outputs": [
    {
     "name": "stdout",
     "output_type": "stream",
     "text": [
      "['01', '02', '03', '04']\n",
      "4776\n",
      "4908\n"
     ]
    }
   ],
   "source": [
    "print(ex.categories())\n",
    "print(len(ex.words(categories='01')))\n",
    "print(len(ex.words(categories='04')))"
   ]
  },
  {
   "cell_type": "markdown",
   "id": "22f83875",
   "metadata": {},
   "source": [
    "### 연습문제 2\n",
    "- 텍스트 전체 어휘 수 중, 불용어를 제외한 내용어의 비율을 구하는 코드"
   ]
  },
  {
   "cell_type": "code",
   "execution_count": 16,
   "id": "4c6b09ec",
   "metadata": {
    "ExecuteTime": {
     "end_time": "2023-06-19T11:13:49.930024Z",
     "start_time": "2023-06-19T11:13:49.916062Z"
    }
   },
   "outputs": [],
   "source": [
    "# 정답\n",
    "def content(text):\n",
    "    content = [w for w in text if w.lower() not in stopwords.words('english')] #w.lower이 포인트!!\n",
    "    return len(content)/len(text) #각각이 단어 리스트기에 len은 단어수 "
   ]
  },
  {
   "cell_type": "code",
   "execution_count": 17,
   "id": "eaf47ecd",
   "metadata": {
    "ExecuteTime": {
     "end_time": "2023-06-19T11:14:28.018683Z",
     "start_time": "2023-06-19T11:13:49.931022Z"
    }
   },
   "outputs": [
    {
     "data": {
      "text/plain": [
       "0.5735054697095199"
      ]
     },
     "execution_count": 17,
     "metadata": {},
     "output_type": "execute_result"
    }
   ],
   "source": [
    "content(nltk.corpus.brown.words(categories= 'romance'))"
   ]
  },
  {
   "cell_type": "code",
   "execution_count": 18,
   "id": "bb4b60c3",
   "metadata": {
    "ExecuteTime": {
     "end_time": "2023-06-19T11:16:05.740241Z",
     "start_time": "2023-06-19T11:14:28.020646Z"
    }
   },
   "outputs": [
    {
     "data": {
      "text/plain": [
       "0.5944537297677692"
      ]
     },
     "execution_count": 18,
     "metadata": {},
     "output_type": "execute_result"
    }
   ],
   "source": [
    "content(nltk.corpus.brown.words(categories= 'learned'))"
   ]
  },
  {
   "cell_type": "code",
   "execution_count": 19,
   "id": "502f003a",
   "metadata": {
    "ExecuteTime": {
     "end_time": "2023-06-19T11:16:43.631329Z",
     "start_time": "2023-06-19T11:16:05.742199Z"
    }
   },
   "outputs": [
    {
     "data": {
      "text/plain": [
       "0.6072136571730108"
      ]
     },
     "execution_count": 19,
     "metadata": {},
     "output_type": "execute_result"
    }
   ],
   "source": [
    "content(nltk.corpus.brown.words(categories= 'government'))"
   ]
  },
  {
   "cell_type": "markdown",
   "id": "b370a3e8",
   "metadata": {},
   "source": [
    "## NLTK Raw Text 처리 1"
   ]
  },
  {
   "cell_type": "markdown",
   "id": "843e40d1",
   "metadata": {},
   "source": [
    "### 텍스트 파일 작성저장 및 불러오기"
   ]
  },
  {
   "cell_type": "code",
   "execution_count": 20,
   "id": "3218f206",
   "metadata": {
    "ExecuteTime": {
     "end_time": "2023-06-19T11:16:43.646290Z",
     "start_time": "2023-06-19T11:16:43.633324Z"
    }
   },
   "outputs": [
    {
     "name": "stdout",
     "output_type": "stream",
     "text": [
      "NLTK\n",
      "Python\n",
      "\n",
      "Programming\n",
      "Data\n"
     ]
    },
    {
     "data": {
      "text/plain": [
       "<_io.TextIOWrapper name='test.txt' mode='w' encoding='cp949'>"
      ]
     },
     "metadata": {},
     "output_type": "display_data"
    },
    {
     "data": {
      "text/plain": [
       "12"
      ]
     },
     "metadata": {},
     "output_type": "display_data"
    }
   ],
   "source": [
    "# 문자열 txt 파일에 저장하는 방법\n",
    "s = 'NLTK\\nPython\\n' ; print(s)\n",
    "ss = 'Programming\\nData' ; print(ss)\n",
    "\n",
    "f = open('test.txt','w') # open('test.txt','w').write(s) 해도됨\n",
    "display(f)       \n",
    "display(f.write(s)) # 출력 문자의 수 12개\n",
    "f.close()"
   ]
  },
  {
   "cell_type": "code",
   "execution_count": 140,
   "id": "e1eb7549",
   "metadata": {
    "ExecuteTime": {
     "end_time": "2023-06-20T05:36:19.666802Z",
     "start_time": "2023-06-20T05:36:19.652842Z"
    }
   },
   "outputs": [
    {
     "name": "stdout",
     "output_type": "stream",
     "text": [
      "NLTK\n",
      "Pytho\n"
     ]
    }
   ],
   "source": [
    "\n",
    "with open('test.txt','r') as f:\n",
    "    print(f.read()[:10])"
   ]
  },
  {
   "cell_type": "code",
   "execution_count": 21,
   "id": "5a18c039",
   "metadata": {
    "ExecuteTime": {
     "end_time": "2023-06-19T11:16:43.661249Z",
     "start_time": "2023-06-19T11:16:43.648286Z"
    }
   },
   "outputs": [
    {
     "data": {
      "text/plain": [
       "12"
      ]
     },
     "metadata": {},
     "output_type": "display_data"
    },
    {
     "data": {
      "text/plain": [
       "16"
      ]
     },
     "metadata": {},
     "output_type": "display_data"
    },
    {
     "name": "stdout",
     "output_type": "stream",
     "text": [
      "NLTK\n",
      "Python\n",
      "Programming\n",
      "Data\n",
      "['NLTK\\n', 'Python\\n', 'Programming\\n', 'Data']\n"
     ]
    }
   ],
   "source": [
    "display(open('test.txt','w').write(s))\n",
    "display(open('test.txt','a').write(ss))\n",
    "\n",
    "f = open('test.txt','r')\n",
    "print(f.read())\n",
    "f.close()\n",
    "\n",
    "with open('test.txt','r') as f:\n",
    "    print(f.readlines())"
   ]
  },
  {
   "cell_type": "markdown",
   "id": "64fb06d0",
   "metadata": {},
   "source": [
    "### ASCII 코드\n",
    "- 문자코드: 컴퓨터에서 각 문자를 대응하 는 코드 체계\n",
    "- 미국정보교환표준부호 <br>(American Standard Code for Information Interchange; ASCII)\n",
    "- 영문알파벳문자인코딩\n",
    "- 7비트 또는 7비트 이진수 연쇄 앞에 o을 붙여 8비트 이진수 연쇄를 통해 영문 알파벳，문장부호, 제어문자 부호화\n",
    "\n",
    "### 한글 코드: 조합형과 완성형\n",
    "-  한글 음절 문자수\n",
    "    - 卜 19개（초성） x 21개（중성）X28개（종성） = 11,172개\n",
    "- 조합형 코드\n",
    "    - 16비트= MSB（1 비트） + 초성（5비트）+ 중성（5비트）+ 종성（5비트） \n",
    "    - 코드번호를통해 음소（자음，모음）정보 파악\n",
    "    - 11,172개 음절 문자 모두 표현 가능\n",
    "- 완성형 코드\n",
    "    - 2바이트（=16비트）\n",
    "    - 음절문자 하나당 코드번호 할당 미리 정의된 문자 외에는 사용할 수 없다.\n",
    "    - euc-kr（기본 완성형 코드）: 사용빈도 99.99%의 2,3매자（11472개 한글 음절 문자 중 20%） 사용 가능，그 외 음절 문자는 사용불가\n",
    "    - cp949（확장 완성형 코드）: euc-kr 2,350자 + euc-kr 누락 음절문자 = 11,172문자\n",
    "    \n",
    "### 유니 코드 unicode\n",
    "- 전세계 문자를 하나의 코드 체계로 표준화한 문자코드세트 \n",
    "- 코드할당비율\n",
    "    - 한자 39.89%(한국，중국，일본 등 사용 한자 통합)，한글 17.04%，아스키 및 기호 문자 10.39% 등\n",
    "- 한글음절문자와정렬\n",
    "    - euc-kr 2,350자(11472개 한글 음절 문자 중 20%)의 코드번호순서와 사전 정렬순서 일치\n",
    "    - cp949는 euc-kr 문자의 코드번호 영 역과 충돌하지 않도록 누락 문자의 코드번호를 할당하여 추가 문자와 euc-kr 등록 문자와 사전정 렬순서가 일치하지 않음\n",
    "    - Unicode는 한글 음절문자 11,172개를 사전정 렬순에 의해 코드번호 부여 \n",
    "- 다양한유니코드\n",
    "    - utf-8: 인터넷문서에서 많이사용\n",
    "    - utf-i61e (little endian), utf-i6Be (big endian),..."
   ]
  },
  {
   "cell_type": "markdown",
   "id": "d5696874",
   "metadata": {},
   "source": [
    "### 파일 인코딩"
   ]
  },
  {
   "cell_type": "code",
   "execution_count": 22,
   "id": "40bf3a67",
   "metadata": {
    "ExecuteTime": {
     "end_time": "2023-06-19T11:16:43.691207Z",
     "start_time": "2023-06-19T11:16:43.663245Z"
    }
   },
   "outputs": [
    {
     "data": {
      "text/plain": [
       "'\\nThe Project Gutenberg EBook o'"
      ]
     },
     "execution_count": 22,
     "metadata": {},
     "output_type": "execute_result"
    }
   ],
   "source": [
    "# utf-8: UTF-8, utf-8, UTF8, utf8\n",
    "# 확장완성 형 코드: cp949\n",
    "open('03_data01.txt', encoding='utf8').read()[:30]"
   ]
  },
  {
   "cell_type": "markdown",
   "id": "b904072a",
   "metadata": {},
   "source": [
    "### 연습문제 1\n",
    "- 03_data01.txt을 문자열 a로 불러와서 다음을 출력하시오. \n",
    "- 파일명\n",
    "    - 공백문자（스페이스，탭,엔터）를제외한 문자수\n",
    "    - 알파벳/문장부호/숫자로 구성된 어휘수（공백문자구분 어휘） \n",
    "    - 공백라인（빈라인）을제외한문단수\n",
    "    - print 함수를 이용하여 다음과 같이 출력"
   ]
  },
  {
   "cell_type": "code",
   "execution_count": 23,
   "id": "7836f19d",
   "metadata": {
    "ExecuteTime": {
     "end_time": "2023-06-19T11:16:43.765969Z",
     "start_time": "2023-06-19T11:16:43.693164Z"
    }
   },
   "outputs": [
    {
     "name": "stdout",
     "output_type": "stream",
     "text": [
      "파일명  03_data01.txt\n",
      "문자수        943,476\n",
      "어휘수        206,529\n",
      "문단수         18,293\n"
     ]
    }
   ],
   "source": [
    "import re\n",
    "f_name = '03_data01.txt'\n",
    "a = open(f_name, encoding = 'utf8').read()\n",
    "b = a.split()\n",
    "print('\\n'.join(['파일명{:>15}','문자수{:15,}','어휘수{:15,}','문단수{:15,}']).\\\n",
    "      format(f_name, len(\"\".join(b)), len(b), len(re.sub('\\n{2,}','\\n',a.strip()). splitlines())))"
   ]
  },
  {
   "cell_type": "markdown",
   "id": "2e220b78",
   "metadata": {},
   "source": [
    "### 토큰화(tokenizing)\n",
    "- 어휘 단위 분히, 소문자 변환, 기본형/어근 복원. 소유격 분리/제거, 문장부호/숫자 분리/제거 등\n",
    "- 연구 목적에 따라 다양한 토큰화 과정\n",
    "- 문제\n",
    "    - 숫자/문장부호/대문자/특수문자(%'\\$)등등/기본형,어근 문제(be -is are were 등등) "
   ]
  },
  {
   "cell_type": "code",
   "execution_count": 24,
   "id": "fdf15fcc",
   "metadata": {
    "ExecuteTime": {
     "end_time": "2023-06-19T11:16:43.780929Z",
     "start_time": "2023-06-19T11:16:43.767964Z"
    }
   },
   "outputs": [
    {
     "data": {
      "text/plain": [
       "\"At eight o'clock on Thursday morning, \\nArthur didn't feel very good.\""
      ]
     },
     "execution_count": 24,
     "metadata": {},
     "output_type": "execute_result"
    }
   ],
   "source": [
    "a = '''At eight o'clock on Thursday morning, \n",
    "Arthur didn't feel very good.'''\n",
    "a"
   ]
  },
  {
   "cell_type": "code",
   "execution_count": 25,
   "id": "faf2cf43",
   "metadata": {
    "ExecuteTime": {
     "end_time": "2023-06-19T11:16:43.810849Z",
     "start_time": "2023-06-19T11:16:43.782925Z"
    }
   },
   "outputs": [
    {
     "name": "stdout",
     "output_type": "stream",
     "text": [
      "['At', 'eight', \"o'clock\", 'on', 'Thursday', 'morning,', 'Arthur', \"didn't\", 'feel', 'very', 'good.']\n",
      "['At', 'eight', \"o'clock\", 'on', 'Thursday', 'morning', 'Arthur', \"didn't\", 'feel', 'very', 'good']\n",
      "['At', 'eight', \"o'clock\", 'on', 'Thursday', 'morning', ',', 'Arthur', 'did', \"n't\", 'feel', 'very', 'good', '.']\n"
     ]
    }
   ],
   "source": [
    "# 완벽하게 분리해내기 어렵다는 특징을 보여주기 위한 예시\n",
    "print(a.split()) # 문장부호 분리 못함 ' \" , . 등\n",
    "print(re.findall(\"['\\w]+\", a)) # 문장부호 분리 못함 ' 등\n",
    "print(nltk.word_tokenize(a)) # 문장부호 분리 못함 ' \" , . 등"
   ]
  },
  {
   "cell_type": "code",
   "execution_count": 26,
   "id": "a9df7f94",
   "metadata": {
    "ExecuteTime": {
     "end_time": "2023-06-19T11:16:43.840769Z",
     "start_time": "2023-06-19T11:16:43.813842Z"
    }
   },
   "outputs": [
    {
     "name": "stdout",
     "output_type": "stream",
     "text": [
      "type(a): <class 'str'>\n"
     ]
    },
    {
     "data": {
      "text/plain": [
       "'\\nThe Project Gutenberg EBook of Crime and Punishme'"
      ]
     },
     "metadata": {},
     "output_type": "display_data"
    }
   ],
   "source": [
    "# word_tokenize\n",
    "a = open('03_data01.txt', encoding = 'utf8').read()\n",
    "print('type(a):',type(a))\n",
    "display(a[:50])"
   ]
  },
  {
   "cell_type": "code",
   "execution_count": 27,
   "id": "f27d2a74",
   "metadata": {
    "ExecuteTime": {
     "end_time": "2023-06-19T11:16:54.198060Z",
     "start_time": "2023-06-19T11:16:43.843761Z"
    }
   },
   "outputs": [
    {
     "name": "stdout",
     "output_type": "stream",
     "text": [
      "type(tokens) <class 'list'>\n",
      "len(tokens) 257084\n",
      "['The', 'Project', 'Gutenberg', 'EBook', 'of', 'Crime', 'and', 'Punishment', ',', 'by', 'Fyodor', 'Dostoevsky', 'This', 'eBook', 'is', 'for', 'the', 'use', 'of', 'anyone', 'anywhere', 'at', 'no', 'cost', 'and', 'with', 'almost', 'no', 'restrictions', 'whatsoever', '.', 'You', 'may', 'copy', 'it', ',', 'give', 'it', 'away', 'or', 're-use', 'it', 'under', 'the', 'terms', 'of', 'the', 'Project', 'Gutenberg', 'License', 'included', 'with', 'this', 'eBook', 'or', 'online', 'at', 'www.gutenberg.org', 'Title', ':', 'Crime', 'and', 'Punishment', 'Author', ':', 'Fyodor', 'Dostoevsky', 'Release', 'Date', ':', 'March', '28', ',', '2006', '[', 'EBook', '#', '2554', ']', 'Last', 'Updated', ':', 'October', '27', ',', '2016', 'Language', ':', 'English', 'Character', 'set', 'encoding', ':', 'UTF-8', '*', '*', '*', 'START', 'OF', 'THIS', 'PROJECT', 'GUTENBERG', 'EBOOK', 'CRIME', 'AND', 'PUNISHMENT', '*', '*', '*', 'Produced', 'by', 'John', 'Bickers', ';', 'and', 'Dagny', 'CRIME', 'AND', 'PUNISHMENT', 'By', 'Fyodor', 'Dostoevsky', 'Translated', 'By', 'Constance', 'Garnett', 'TRANSLATOR', '’', 'S', 'PREFACE', 'A', 'few', 'words', 'about', 'Dostoevsky', 'himself', 'may', 'help', 'the', 'English', 'reader', 'to', 'understand', 'his', 'work', '.', 'Dostoevsky', 'was', 'the', 'son']\n"
     ]
    }
   ],
   "source": [
    "from nltk import word_tokenize\n",
    "tokens = word_tokenize(a)\n",
    "print(\"type(tokens)\",type(tokens))\n",
    "print(\"len(tokens)\",len(tokens)) #연습문제 1에서는 어휘수 206,529였다\n",
    "print(tokens[:150]) # 완벽하지 못한 모습이 보이긴하다 -> * # : 등등"
   ]
  },
  {
   "cell_type": "markdown",
   "id": "68eb011c",
   "metadata": {},
   "source": [
    "### 연습문제 2\n",
    "- tokens 원소 중 문장부호 포함 원소의 unique한 목록 추출코드"
   ]
  },
  {
   "cell_type": "code",
   "execution_count": 28,
   "id": "121c20cb",
   "metadata": {
    "ExecuteTime": {
     "end_time": "2023-06-19T11:16:54.452417Z",
     "start_time": "2023-06-19T11:16:54.206038Z"
    }
   },
   "outputs": [
    {
     "name": "stdout",
     "output_type": "stream",
     "text": [
      "['!', '#', '$', '%', '(', ')', '*', ',', '-', '--', '.', '...', '....', '//gutenberg.org/license', '//pglaf.org', '//pglaf.org/donate', '//pglaf.org/fundraising', '//www.gutenberg.org', '//www.gutenberg.org/2/5/5/2554/', '//www.pglaf.org', '1.A', '1.B', '1.C', '1.D', '1.E', '1.E.1', '1.E.2', '1.E.3', '1.E.4', '1.E.5', '1.E.6', '1.E.7', '1.E.8', '1.E.9', '1.F', '1.F.1', '1.F.2', '1.F.3', '1.F.4', '1.F.5']\n",
      "\n",
      "['window-sills', 'wine-glasses', 'wisdom.', 'with.', 'witness.', 'witnesses.', 'wittily.', 'witty.', 'woman.', 'women.', 'wonder-struck', 'word.', 'work.', 'world.', 'worn-out', 'would.', 'writers.', 'writing-table', 'www.gutenberg.org', 'years.', 'yellowish-black', 'yes.', 'yesterday.', 'yet.', 'you.', 'yourself.', '‘', '’', '“', '”']\n"
     ]
    }
   ],
   "source": [
    "import string\n",
    "b = sorted(set([token for token in tokens if re.search('[\\W+]',token)]))\n",
    "print(b[:40])\n",
    "print()\n",
    "print(b[-30:])"
   ]
  },
  {
   "cell_type": "markdown",
   "id": "74d22189",
   "metadata": {},
   "source": [
    "### sent_tokenize"
   ]
  },
  {
   "cell_type": "code",
   "execution_count": 29,
   "id": "5dbfeb7f",
   "metadata": {
    "ExecuteTime": {
     "end_time": "2023-06-19T11:17:04.251207Z",
     "start_time": "2023-06-19T11:16:54.453378Z"
    }
   },
   "outputs": [
    {
     "name": "stdout",
     "output_type": "stream",
     "text": [
      "type(sents):  <class 'list'>\n",
      "len(sents):  12059\n"
     ]
    },
    {
     "data": {
      "text/plain": [
       "'\\nThe Project Gutenberg EBook of Crime and Punishment, by Fyodor Dostoevsky\\n\\nThis eBook is for the use of anyone anywhere at no cost and with\\nalmost no restrictions whatsoever.'"
      ]
     },
     "metadata": {},
     "output_type": "display_data"
    },
    {
     "data": {
      "text/plain": [
       "'You may copy it, give it away or\\nre-use it under the terms of the Project Gutenberg License included\\nwith this eBook or online at www.gutenberg.org\\n\\n\\nTitle: Crime and Punishment\\n\\nAuthor: Fyodor Dostoevsky\\n\\nRelease Date: March 28, 2006 [EBook #2554]\\nLast Updated: October 27, 2016\\n\\nLanguage: English\\n\\nCharacter set encoding: UTF-8\\n\\n*** START OF THIS PROJECT GUTENBERG EBOOK CRIME AND PUNISHMENT ***\\n\\n\\n\\n\\nProduced by John Bickers; and Dagny\\n\\n\\n\\n\\n\\nCRIME AND PUNISHMENT\\n\\nBy Fyodor Dostoevsky\\n\\n\\n\\nTranslated By Constance Garnett\\n\\n\\n\\n\\nTRANSLATOR’S PREFACE\\n\\nA few words about Dostoevsky himself may help the English reader to\\nunderstand his work.'"
      ]
     },
     "metadata": {},
     "output_type": "display_data"
    }
   ],
   "source": [
    "sents = nltk.sent_tokenize(a)\n",
    "print('type(sents): ',type(sents))\n",
    "print('len(sents): ',len(sents))\n",
    "display(sents[0])\n",
    "display(sents[1])"
   ]
  },
  {
   "cell_type": "markdown",
   "id": "15a0d52d",
   "metadata": {},
   "source": [
    "### 문자열과 Text"
   ]
  },
  {
   "cell_type": "code",
   "execution_count": 30,
   "id": "37b91943",
   "metadata": {
    "ExecuteTime": {
     "end_time": "2023-06-19T11:17:14.424587Z",
     "start_time": "2023-06-19T11:17:04.253161Z"
    }
   },
   "outputs": [
    {
     "name": "stdout",
     "output_type": "stream",
     "text": [
      "<class 'str'>\n"
     ]
    },
    {
     "data": {
      "text/plain": [
       "<Text: \n",
       " T h e   P r o...>"
      ]
     },
     "metadata": {},
     "output_type": "display_data"
    },
    {
     "data": {
      "text/plain": [
       "<Text: The Project Gutenberg EBook of Crime and Punishment...>"
      ]
     },
     "metadata": {},
     "output_type": "display_data"
    },
    {
     "name": "stdout",
     "output_type": "stream",
     "text": [
      "<class 'nltk.text.Text'>\n"
     ]
    }
   ],
   "source": [
    "print(type(a))\n",
    "# a.words() -> error : str는 words못씀 -> nltk.corpus.reader.plaintext.PlaintextCorpusReader타입만 가능\n",
    "text = nltk.Text(a) ; display(text)\n",
    "text = nltk.Text(word_tokenize(a)) ; display(text)\n",
    "print(type(text))"
   ]
  },
  {
   "cell_type": "markdown",
   "id": "76b09b67",
   "metadata": {},
   "source": [
    "### 분포가설 distributional hypothesis\n",
    "- 자연어 처리에서 분포 가설(Distributional Hypothesis)은 단어의 의미를 주변 단어와의 관계를 통해 이해하려는 가설입니다. 이 가설에 따르면, 비슷한 문맥에서 자주 함께 나타나는 단어들은 유사한 의미를 가지고 있다고 가정합니다.\n",
    "\n",
    "- 분포 가설은 통계적 기반 기법을 사용하여 단어의 의미를 모델링하는 많은 방법론과 기술의 기초가 됩니다. 예를 들어, 단어 임베딩 기법인 Word2Vec, GloVe, FastText 등은 분포 가설을 활용하여 단어 간의 의미적 유사성을 학습합니다. 이러한 모델은 단어를 밀집 벡터로 표현하여 유사한 의미를 가진 단어들이 벡터 공간에서 가까이 위치하도록 합니다.\n",
    "\n",
    "- 코퍼스 언어학, 의미론, 언어습득, 인지과학, 전산언어학에서 어휘 의미를 접근하는 토대"
   ]
  },
  {
   "cell_type": "markdown",
   "id": "18780a38",
   "metadata": {},
   "source": [
    "#### 연어 (collocation/collocate)\n",
    "- 동일 문장，동일 멕락에서 빈번하게 함께 사용되는 어휘쌍 \n",
    "- 두 어휘의 습득은 대부분 함께 습득\n",
    "    - 특정 맥락/주제와 관련 => 문서분류，문서요약등\n",
    "    - 문화적 맥락과 관련  =>   의미론, 화용론, 언어교육 등\n",
    "    - 머릿속 사전에서 연관 => 심리언어학，인지과학，신경과학등\n",
    "- 친숙성/빈도 효과, 촉발효과(priming effect)와 관련"
   ]
  },
  {
   "cell_type": "code",
   "execution_count": 31,
   "id": "39e56e74",
   "metadata": {
    "ExecuteTime": {
     "end_time": "2023-06-19T11:17:15.084866Z",
     "start_time": "2023-06-19T11:17:14.427589Z"
    }
   },
   "outputs": [
    {
     "name": "stdout",
     "output_type": "stream",
     "text": [
      "Katerina Ivanovna; Pyotr Petrovitch; Pulcheria Alexandrovna; Avdotya\n",
      "Romanovna; Rodion Romanovitch; Marfa Petrovna; Sofya Semyonovna; old\n",
      "woman; Project Gutenberg-tm; Porfiry Petrovitch; Amalia Ivanovna;\n",
      "great deal; young man; Nikodim Fomitch; Ilya Petrovitch; Project\n",
      "Gutenberg; Andrey Semyonovitch; Hay Market; Dmitri Prokofitch; Good\n",
      "heavens\n"
     ]
    }
   ],
   "source": [
    "text.collocations() #old woman과 young man은 ..음"
   ]
  },
  {
   "cell_type": "code",
   "execution_count": 32,
   "id": "0a8ab9fa",
   "metadata": {
    "ExecuteTime": {
     "end_time": "2023-06-19T11:17:15.279311Z",
     "start_time": "2023-06-19T11:17:15.086844Z"
    }
   },
   "outputs": [
    {
     "name": "stdout",
     "output_type": "stream",
     "text": [
      "Displaying 10 of 474 matches:\n",
      " that “ stern and just man , ” as Maurice Baring \n",
      "agony of the condemned man and insists on the cru\n",
      "who “ gave the hapless man the funeral of a king.\n",
      "s one of ourselves , a man of our blood and our b\n",
      " early in July a young man came out of the garret\n",
      " he passed , the young man had a sick , frightene\n",
      " ... yes , all is in a man ’ s hands and he lets \n",
      "infully upon the young man ’ s already overwrough\n",
      " a moment in the young man ’ s refined face . He \n",
      "ly dressed that even a man accustomed to shabbine\n"
     ]
    }
   ],
   "source": [
    "text.concordance('man',50,10)"
   ]
  },
  {
   "cell_type": "code",
   "execution_count": 33,
   "id": "c000d734",
   "metadata": {
    "ExecuteTime": {
     "end_time": "2023-06-19T11:17:16.882673Z",
     "start_time": "2023-06-19T11:17:15.281307Z"
    }
   },
   "outputs": [
    {
     "name": "stdout",
     "output_type": "stream",
     "text": [
      "young_, young_. the_, young_walked drunken_, literary_, that_won\n"
     ]
    }
   ],
   "source": [
    "text.common_contexts(['man','men'])"
   ]
  },
  {
   "cell_type": "code",
   "execution_count": 34,
   "id": "eaab38a8",
   "metadata": {
    "ExecuteTime": {
     "end_time": "2023-06-19T11:17:17.004800Z",
     "start_time": "2023-06-19T11:17:16.884575Z"
    }
   },
   "outputs": [
    {
     "name": "stdout",
     "output_type": "stream",
     "text": [
      "woman girl moment time room word way gentleman mother letter door lady\n",
      "doctor place thing flat tavern question crowd people\n"
     ]
    }
   ],
   "source": [
    "text.similar('man')"
   ]
  },
  {
   "cell_type": "code",
   "execution_count": 35,
   "id": "ae8e2b0c",
   "metadata": {
    "ExecuteTime": {
     "end_time": "2023-06-19T11:17:17.125148Z",
     "start_time": "2023-06-19T11:17:17.006795Z"
    }
   },
   "outputs": [
    {
     "name": "stdout",
     "output_type": "stream",
     "text": [
      "you it him people they he man her work me them that we all everything\n",
      "things this anyone out us\n"
     ]
    }
   ],
   "source": [
    "text.similar('men')"
   ]
  },
  {
   "cell_type": "markdown",
   "id": "573e59a6",
   "metadata": {},
   "source": [
    "## NLTK Raw Text 처리 2"
   ]
  },
  {
   "cell_type": "markdown",
   "id": "cfb6ab28",
   "metadata": {},
   "source": [
    "### zip함수"
   ]
  },
  {
   "cell_type": "code",
   "execution_count": 36,
   "id": "c39dfd9b",
   "metadata": {
    "ExecuteTime": {
     "end_time": "2023-06-19T11:17:17.140108Z",
     "start_time": "2023-06-19T11:17:17.131135Z"
    }
   },
   "outputs": [
    {
     "name": "stdout",
     "output_type": "stream",
     "text": [
      "a      :  <zip object at 0x000002AE21C9B600>\n",
      "type(a):  <class 'zip'>\n",
      "list(a):  [('a', 'd'), ('b', 'e'), ('c', 'f')]\n"
     ]
    }
   ],
   "source": [
    "a = zip('abc', list('def'))\n",
    "print('a      : ',a)\n",
    "print('type(a): ',type(a))\n",
    "print('list(a): ',list(a))"
   ]
  },
  {
   "cell_type": "code",
   "execution_count": 37,
   "id": "ede45654",
   "metadata": {
    "ExecuteTime": {
     "end_time": "2023-06-19T11:17:17.156064Z",
     "start_time": "2023-06-19T11:17:17.145095Z"
    }
   },
   "outputs": [
    {
     "name": "stdout",
     "output_type": "stream",
     "text": [
      "[('a', 'd', 'g'), ('b', 'e', 'h'), ('c', 'f', 'i')]\n"
     ]
    }
   ],
   "source": [
    "print(list(zip(tuple('abc'), list('def'),'ghi'))) # tuple로 묶이든 list로 묶이든 알아서 zip해줌 + 3개도"
   ]
  },
  {
   "cell_type": "code",
   "execution_count": 38,
   "id": "fa29d0b0",
   "metadata": {
    "ExecuteTime": {
     "end_time": "2023-06-19T11:17:17.172024Z",
     "start_time": "2023-06-19T11:17:17.161052Z"
    }
   },
   "outputs": [
    {
     "name": "stdout",
     "output_type": "stream",
     "text": [
      "print(sys.getsizeof(a)) :  56\n",
      "print(sys.getsizeof(b)) :  120\n"
     ]
    }
   ],
   "source": [
    "import sys\n",
    "a = zip('abc', list('def'))\n",
    "b = list(a) # list(zip('abc', list('def')))\n",
    "\n",
    "# ZIP하면 사이즈가 작아짐 -> list로 다시 풀면 커짐\n",
    "print('print(sys.getsizeof(a)) : ',sys.getsizeof(a))\n",
    "print('print(sys.getsizeof(b)) : ',sys.getsizeof(b))"
   ]
  },
  {
   "cell_type": "code",
   "execution_count": 39,
   "id": "fa1406d9",
   "metadata": {
    "ExecuteTime": {
     "end_time": "2023-06-19T11:17:17.186986Z",
     "start_time": "2023-06-19T11:17:17.177010Z"
    }
   },
   "outputs": [
    {
     "name": "stdout",
     "output_type": "stream",
     "text": [
      "a d\n",
      "b e\n"
     ]
    }
   ],
   "source": [
    "a = zip('abc', list('def'))\n",
    "\n",
    "for (i,j) in a: \n",
    "    print(i,j)\n",
    "    if i == 'b' : break"
   ]
  },
  {
   "cell_type": "code",
   "execution_count": 40,
   "id": "95db3ef9",
   "metadata": {
    "ExecuteTime": {
     "end_time": "2023-06-19T11:17:17.201943Z",
     "start_time": "2023-06-19T11:17:17.190975Z"
    }
   },
   "outputs": [
    {
     "name": "stdout",
     "output_type": "stream",
     "text": [
      "[('a', 'd'), ('b', 'e'), ('c', 'f')]\n",
      "[]\n"
     ]
    }
   ],
   "source": [
    "# 한번 호출되면 다음에는 비워짐\n",
    "b = zip('abc','def')\n",
    "print(list(b))\n",
    "print(list(b))"
   ]
  },
  {
   "cell_type": "markdown",
   "id": "75e37e8d",
   "metadata": {},
   "source": [
    "### map(function, iterable)\n",
    "- 파이썬의 map() 함수는 주어진 함수를 반복 가능한(iterable) 객체의 모든 요소에 적용하여 새로운 이터레이터(iterator)를 반환하는 함수입니다"
   ]
  },
  {
   "cell_type": "code",
   "execution_count": 41,
   "id": "30294a63",
   "metadata": {
    "ExecuteTime": {
     "end_time": "2023-06-19T11:17:17.216903Z",
     "start_time": "2023-06-19T11:17:17.205935Z"
    }
   },
   "outputs": [
    {
     "name": "stdout",
     "output_type": "stream",
     "text": [
      "<class 'generator'>\n"
     ]
    }
   ],
   "source": [
    "print(type((i for i in range(10))))"
   ]
  },
  {
   "cell_type": "code",
   "execution_count": 42,
   "id": "49cef968",
   "metadata": {
    "ExecuteTime": {
     "end_time": "2023-06-19T11:17:17.231864Z",
     "start_time": "2023-06-19T11:17:17.219895Z"
    }
   },
   "outputs": [
    {
     "name": "stdout",
     "output_type": "stream",
     "text": [
      "a:  <map object at 0x000002AE21C94460>\n",
      "type(a):  <class 'map'>\n",
      "list(a):  [1.0, 2.0, 3.0]\n",
      "list(a):  []\n"
     ]
    }
   ],
   "source": [
    "a = map(float, [1,2,3])\n",
    "print('a: ',a)\n",
    "print('type(a): ',type(a))\n",
    "print('list(a): ',list(a))\n",
    "print('list(a): ',list(a)) # 한번 호출되면 끝"
   ]
  },
  {
   "cell_type": "markdown",
   "id": "917d58e3",
   "metadata": {},
   "source": [
    "corpus 예제"
   ]
  },
  {
   "cell_type": "code",
   "execution_count": 43,
   "id": "5dc0ed68",
   "metadata": {
    "ExecuteTime": {
     "end_time": "2023-06-19T11:17:19.285186Z",
     "start_time": "2023-06-19T11:17:17.234855Z"
    }
   },
   "outputs": [
    {
     "data": {
      "text/plain": [
       "['[', 'Moby', 'Dick', 'by', 'Herman', 'Melville', ...]"
      ]
     },
     "metadata": {},
     "output_type": "display_data"
    },
    {
     "name": "stdout",
     "output_type": "stream",
     "text": [
      "[('[', 'Moby'), ('Moby', 'Dick'), ('Dick', 'by'), ('by', 'Herman'), ('Herman', 'Melville'), ('Melville', '1851'), ('1851', ']'), (']', 'ETYMOLOGY'), ('ETYMOLOGY', '.'), ('.', '(')]\n",
      "\n",
      "[('[', 'Moby', 'Dick'), ('Moby', 'Dick', 'by'), ('Dick', 'by', 'Herman'), ('by', 'Herman', 'Melville'), ('Herman', 'Melville', '1851'), ('Melville', '1851', ']'), ('1851', ']', 'ETYMOLOGY'), (']', 'ETYMOLOGY', '.'), ('ETYMOLOGY', '.', '('), ('.', '(', 'Supplied')]\n"
     ]
    }
   ],
   "source": [
    "from nltk.corpus import gutenberg\n",
    "a = gutenberg.words('melville-moby_dick.txt')\n",
    "display(a)                                    #uni-gram\n",
    "print(list(zip(a[:-1],a[1:]))[:10])           #bi-gram\n",
    "print()\n",
    "print(list(zip(a[:-2],a[1:-1],a[2:]))[:10])   #tri-gram"
   ]
  },
  {
   "cell_type": "markdown",
   "id": "653aa810",
   "metadata": {},
   "source": [
    "### 연습문제 1\n",
    "- 다음의 변수 raw로부터 다음을 수행하시오. \n",
    "    - 알파벳 문자만 추출하여 소문자 변환\n",
    "    - 빈도 내 림차순의 알파벳 목록 리스트 chars를 만드시오."
   ]
  },
  {
   "cell_type": "code",
   "execution_count": 44,
   "id": "04d3d936",
   "metadata": {
    "ExecuteTime": {
     "end_time": "2023-06-19T11:17:20.243139Z",
     "start_time": "2023-06-19T11:17:19.287202Z"
    }
   },
   "outputs": [
    {
     "name": "stdout",
     "output_type": "stream",
     "text": [
      "['e', 't', 'a', 'o', 'n', 'i', 's', 'h', 'r', 'l', 'd', 'u', 'm', 'c', 'w', 'f', 'g', 'p', 'b', 'y', 'v', 'k', 'q', 'j', 'x', 'z']\n"
     ]
    }
   ],
   "source": [
    "import nltk\n",
    "from nltk.corpus import gutenberg\n",
    "raw = gutenberg.raw('melville-moby_dick.txt')\n",
    "# 정답\n",
    "fdist = nltk.FreqDist(ch.lower() for ch in re.findall(\"[a-z]\", raw, re.I))\n",
    "chars = [char for (char, _) in fdist.most_common()]\n",
    "print(chars)"
   ]
  },
  {
   "cell_type": "markdown",
   "id": "d872a37f",
   "metadata": {},
   "source": [
    "### anonymous variable : _\n",
    "-  _ 변수는 변수의 값을 무시하고 싶을 때 사용됩니다. 예를 들어, 함수나 메서드의 반환값 중 일부를 사용하지 않을 때 유용하게 활용될 수 있습니다."
   ]
  },
  {
   "cell_type": "code",
   "execution_count": 45,
   "id": "ed62a843",
   "metadata": {
    "ExecuteTime": {
     "end_time": "2023-06-19T11:17:20.258066Z",
     "start_time": "2023-06-19T11:17:20.246099Z"
    }
   },
   "outputs": [
    {
     "name": "stdout",
     "output_type": "stream",
     "text": [
      "a 0\n",
      "b 1\n",
      "c 2\n",
      "\n",
      "a\n",
      "b\n",
      "c\n",
      "\n",
      "2\n"
     ]
    }
   ],
   "source": [
    "for x, _ in zip('abc',range(3)):\n",
    "    print(x, _)\n",
    "print()\n",
    "for x, _ in zip('abc',range(3)):\n",
    "    print(x)\n",
    "print()\n",
    "print(_)"
   ]
  },
  {
   "cell_type": "markdown",
   "id": "7811efec",
   "metadata": {},
   "source": [
    "### Words Corpus\n",
    "- Words Corpus는 단어의 집합으로 구성된 말뭉치입니다. 이 말뭉치에는 영어 단어들이 포함되어 있으며, 사전이나 어휘 자료를 구축하고자 할 때 유용하게 활용될 수 있습니다. \n",
    "\n",
    "\n",
    "- Words Corpus를 사용하는 몇 가지 예시는 다음과 같습니다:\n",
    "1. 어휘 분석: Words Corpus는 영어 단어들의 집합으로 구성되어 있으므로, 특정 텍스트 데이터에서 어휘 분석을 수행할 때 사용될 수 있습니다. 예를 들어, 주어진 텍스트에서 가장 빈도가 높은 단어를 찾거나, 어휘 다양성을 계산하는 등의 작업에 활용될 수 있습니다.\n",
    "\n",
    "2. 텍스트 생성: Words Corpus는 다양한 영어 단어들을 포함하고 있으므로, 텍스트 생성 작업에 활용될 수 있습니다. 예를 들어, 단어들을 무작위로 선택하여 문장이나 문단을 생성하거나, 단어의 연관성을 파악하여 다음 단어를 예측하는 등의 작업에 활용될 수 있습니다.\n",
    "\n",
    "3. 기계 학습: Words Corpus는 자연어 처리와 관련된 기계 학습 작업에 사용될 수 있습니다. 예를 들어, 텍스트 분류, 감성 분석, 토픽 모델링 등의 작업을 수행할 때, 단어들의 특징을 추출하고 모델 학습에 사용할 수 있습니다."
   ]
  },
  {
   "cell_type": "code",
   "execution_count": 46,
   "id": "7908ede2",
   "metadata": {
    "ExecuteTime": {
     "end_time": "2023-06-19T11:17:20.392706Z",
     "start_time": "2023-06-19T11:17:20.262057Z"
    }
   },
   "outputs": [
    {
     "name": "stdout",
     "output_type": "stream",
     "text": [
      "235886\n",
      "<class 'list'>\n",
      "['A', 'a', 'aa', 'aal', 'aalii', 'aam', 'Aani', 'aardvark', 'aardwolf', 'Aaron', 'Aaronic', 'Aaronical', 'Aaronite', 'Aaronitic', 'Aaru', 'Ab', 'aba', 'Ababdeh', 'Ababua', 'abac'] \n",
      "\n",
      "['zymosis', 'zymosterol', 'zymosthenic', 'zymotechnic', 'zymotechnical', 'zymotechnics', 'zymotechny', 'zymotic', 'zymotically', 'zymotize', 'zymotoxic', 'zymurgy', 'Zyrenian', 'Zyrian', 'Zyryan', 'zythem', 'Zythia', 'zythum', 'Zyzomys', 'Zyzzogeton'] \n",
      "\n"
     ]
    }
   ],
   "source": [
    "Words = nltk.corpus.words.words('en')\n",
    "print(len(Words))\n",
    "print(type(Words))\n",
    "print(Words[:20],'\\n')\n",
    "print(Words[-20:],'\\n')"
   ]
  },
  {
   "cell_type": "markdown",
   "id": "42d63b31",
   "metadata": {},
   "source": [
    "### 연습문제 2: 네모 칸 코드"
   ]
  },
  {
   "cell_type": "code",
   "execution_count": 47,
   "id": "d34c534a",
   "metadata": {
    "ExecuteTime": {
     "end_time": "2023-06-19T11:17:20.856468Z",
     "start_time": "2023-06-19T11:17:20.394702Z"
    }
   },
   "outputs": [
    {
     "name": "stdout",
     "output_type": "stream",
     "text": [
      "['Jean-Christophe', 'Jean-Pierre']\n"
     ]
    }
   ],
   "source": [
    "print([ i for i in Words if re.search('[^a-z]',i, re.I) ]) #알파벳 외 문자포함"
   ]
  },
  {
   "cell_type": "code",
   "execution_count": 48,
   "id": "9a685994",
   "metadata": {
    "ExecuteTime": {
     "end_time": "2023-06-19T11:17:21.095763Z",
     "start_time": "2023-06-19T11:17:20.860456Z"
    }
   },
   "outputs": [
    {
     "name": "stdout",
     "output_type": "stream",
     "text": [
      "['abaissed', 'abandoned', 'abased', 'abashed', 'abatised', 'abed', 'aborted', 'abridged', 'abscessed', 'absconded']\n"
     ]
    }
   ],
   "source": [
    "print([ w for w in Words if re.search('ed$', w ) ][:10])  #어휘 끝 ed"
   ]
  },
  {
   "cell_type": "code",
   "execution_count": 49,
   "id": "ccef5376",
   "metadata": {
    "ExecuteTime": {
     "end_time": "2023-06-19T11:17:21.335158Z",
     "start_time": "2023-06-19T11:17:21.099814Z"
    }
   },
   "outputs": [
    {
     "name": "stdout",
     "output_type": "stream",
     "text": [
      "['preaccustomed', 'preachieved', 'preacquired', 'preaged', 'preallied', 'preambled', 'preassigned', 'prebeloved', 'precedented', 'prechampioned']\n"
     ]
    }
   ],
   "source": [
    "print([ w for w in Words if re.match('pre.+ed$'  , w) ][:10])   #시작 pre & 끝 ed\n",
    "# 참고 match는 맨처음에 ^ 가 들어갔다고 가정된것임"
   ]
  },
  {
   "cell_type": "code",
   "execution_count": 50,
   "id": "557aefa6",
   "metadata": {
    "ExecuteTime": {
     "end_time": "2023-06-19T11:17:21.605163Z",
     "start_time": "2023-06-19T11:17:21.337186Z"
    }
   },
   "outputs": [
    {
     "name": "stdout",
     "output_type": "stream",
     "text": [
      "['acquire', 'acquired', 'acquirement', 'acquirenda', 'acquirer', 'preacquire', 'preacquired', 'reacquire', 'unacquired']\n"
     ]
    }
   ],
   "source": [
    "print([ w for w in Words if  re.search('.*acquire.*' , w)]) #acquire 포함"
   ]
  },
  {
   "cell_type": "markdown",
   "id": "24eb5080",
   "metadata": {},
   "source": [
    "### 연습문제 3: 네모 칸 코드"
   ]
  },
  {
   "cell_type": "code",
   "execution_count": 51,
   "id": "987f119c",
   "metadata": {
    "ExecuteTime": {
     "end_time": "2023-06-19T11:17:21.874471Z",
     "start_time": "2023-06-19T11:17:21.608156Z"
    }
   },
   "outputs": [
    {
     "name": "stdout",
     "output_type": "stream",
     "text": [
      "['gait', 'gird', 'girt', 'gurt', 'kaid']\n"
     ]
    }
   ],
   "source": [
    "print([ w for w in Words if  re.search('^[gk][aeiou][ir][dt]$' , w)])"
   ]
  },
  {
   "cell_type": "code",
   "execution_count": 52,
   "id": "14a491c7",
   "metadata": {
    "ExecuteTime": {
     "end_time": "2023-06-19T11:17:22.265396Z",
     "start_time": "2023-06-19T11:17:21.877435Z"
    }
   },
   "outputs": [
    {
     "name": "stdout",
     "output_type": "stream",
     "text": [
      "['a', 'aa', 'ah', 'aha', 'h', 'ha', 'hah']\n"
     ]
    }
   ],
   "source": [
    "print([ w for w in Words if  re.search( '^[ha]+$' , w)])"
   ]
  },
  {
   "cell_type": "markdown",
   "id": "6a6b56c6",
   "metadata": {},
   "source": [
    "### 그룹화 ( ) 용도"
   ]
  },
  {
   "cell_type": "code",
   "execution_count": 53,
   "id": "e8f5306c",
   "metadata": {
    "ExecuteTime": {
     "end_time": "2023-06-19T11:17:22.624436Z",
     "start_time": "2023-06-19T11:17:22.268389Z"
    }
   },
   "outputs": [
    {
     "name": "stdout",
     "output_type": "stream",
     "text": [
      "['abaissed', 'abandoned', 'abased', 'abashed', 'abatised', 'abed', 'abhorring', 'abiding', 'aborted', 'abounding']\n"
     ]
    }
   ],
   "source": [
    "print([w for w in Words if re.search('(ed|ing)$', w)][:10])"
   ]
  },
  {
   "cell_type": "code",
   "execution_count": 54,
   "id": "e1fdf572",
   "metadata": {
    "ExecuteTime": {
     "end_time": "2023-06-19T11:17:22.639396Z",
     "start_time": "2023-06-19T11:17:22.628427Z"
    }
   },
   "outputs": [
    {
     "name": "stdout",
     "output_type": "stream",
     "text": [
      "ed\n",
      "('ed',)\n",
      "('ed', 'ing')\n",
      "['ed', 'ing']\n"
     ]
    }
   ],
   "source": [
    "print(re.search('(ed|ing)\\\\b', 'amed aming').group())               #group\n",
    "print(re.search('(ed|ing)\\\\b', 'amed aming').groups())              #groups\n",
    "print(re.search('(ed|ing)\\\\b.+(ed|ing)\\\\b', 'amed aming').groups()) #groups\n",
    "print(re.findall('(ed|ing)\\\\b', 'amed aming'))                      #findall"
   ]
  },
  {
   "cell_type": "markdown",
   "id": "0f397838",
   "metadata": {},
   "source": [
    "### 연습문제 4\n",
    "- 다음 findall   함수를 통해 모음을 추출하는 코드를 참조하여 모음 2개 이상 연쇄를 \n",
    "Words에서 추출하여 고빈도 20개틀 출력할 수 있는 네모 칸 코드 작성"
   ]
  },
  {
   "cell_type": "code",
   "execution_count": 55,
   "id": "102f2ad0",
   "metadata": {
    "ExecuteTime": {
     "end_time": "2023-06-19T11:17:23.163993Z",
     "start_time": "2023-06-19T11:17:22.643387Z"
    }
   },
   "outputs": [
    {
     "name": "stdout",
     "output_type": "stream",
     "text": [
      "['u', 'e', 'i', 'a', 'i', 'i', 'i', 'e', 'i', 'a', 'i', 'o', 'i', 'o', 'u']\n",
      "\n",
      "[('ia', 14930), ('io', 13489), ('ou', 9996), ('ea', 8802), ('oo', 4568), ('ee', 3837), ('ie', 3825), ('ai', 3725), ('oi', 3702), ('au', 3242), ('ae', 3238), ('eu', 2821), ('ua', 2598), ('eo', 2537), ('ui', 2391), ('ei', 2358), ('oa', 2267), ('ue', 1807), ('iu', 1757), ('oe', 1465)]\n"
     ]
    }
   ],
   "source": [
    "a = 'superclifragilisticexpialidoccious'\n",
    "print(re.findall('[aeiou]', a)) ;print()\n",
    "\n",
    "fd = nltk.FreqDist(vs for w in Words for vs in re.findall('[aeiou]{2,}', w))\n",
    "print(fd.most_common(20))"
   ]
  },
  {
   "cell_type": "markdown",
   "id": "f251601c",
   "metadata": {},
   "source": [
    "### 연습문제 5\n",
    "- words 코퍼스의 어휘 리스트 Words에 대해 다음을 수행하시오.\n",
    "    - 선행 자음 k p，r，s, t, v’ 뒤 에 후행 모음 ‘a，e, i, o, u’가 연쇄하는 빈도 추출 \n",
    "    - 선행 자음 + 후행 모음 연쇄 에 대한 Conditional Freq를 추출한 변수 cfd를 만들고 다음의 빈도교차표와 다음 슬라이드 차트 생성"
   ]
  },
  {
   "cell_type": "code",
   "execution_count": 56,
   "id": "f66f0847",
   "metadata": {
    "ExecuteTime": {
     "end_time": "2023-06-19T11:17:24.153345Z",
     "start_time": "2023-06-19T11:17:23.165987Z"
    }
   },
   "outputs": [
    {
     "name": "stdout",
     "output_type": "stream",
     "text": [
      "      a     e     i     o     u \n",
      "k  1431  4979  2544   597   317 \n",
      "p  8572 11227  6864  8768  2507 \n",
      "r 23804 23956 23280 22402  3942 \n",
      "s  5952 11489 12066  6008  6558 \n",
      "t 14456 29443 31684 15285  4766 \n",
      "v  3212 10716  4224  1545   286 \n"
     ]
    }
   ],
   "source": [
    "import nltk\n",
    "cvs = [cv.lower() for w in Words for cv in re.findall('[ptksvr][aeiou]',w,re.I)]\n",
    "cfd = nltk.ConditionalFreqDist(cvs)\n",
    "cfd.tabulate()"
   ]
  },
  {
   "cell_type": "code",
   "execution_count": 57,
   "id": "be35f36e",
   "metadata": {
    "ExecuteTime": {
     "end_time": "2023-06-19T11:17:25.418115Z",
     "start_time": "2023-06-19T11:17:24.157337Z"
    }
   },
   "outputs": [
    {
     "data": {
      "image/png": "[encoded data removed]",
      "text/plain": [
       "<Figure size 640x480 with 1 Axes>"
      ]
     },
     "metadata": {},
     "output_type": "display_data"
    },
    {
     "data": {
      "text/plain": [
       "<Axes: xlabel='Samples', ylabel='Counts'>"
      ]
     },
     "execution_count": 57,
     "metadata": {},
     "output_type": "execute_result"
    }
   ],
   "source": [
    "cfd.plot()"
   ]
  },
  {
   "cell_type": "markdown",
   "id": "065bf52f",
   "metadata": {},
   "source": [
    "### Index\n",
    "- Dictionary와 Index의 차이와 각각의 장단점을 다시 한 번 정리해보겠습니다.\n",
    "\n",
    "- 차이점:\n",
    "\n",
    "1. Dictionary는 파이썬의 데이터 구조 중 하나로, 키(key)와 값(value)의 쌍으로 데이터를 저장하는 방식입니다. 키를 통해 값을 검색하고 조작합니다.\n",
    "2. Index는 데이터베이스나 검색 엔진 등에서 사용되는 개념으로, 데이터를 빠르게 검색하기 위한 데이터 구조입니다. 특정 필드나 속성을 기반으로 데이터를 정렬하거나 해시화하여 검색 성능을 향상시킵니다.\n",
    "\n",
    "- 장단점:\n",
    "\n",
    "    - Dictionary의 장점:\n",
    "        1. 키를 기반으로 빠른 검색이 가능합니다.\n",
    "        2. 데이터를 구조화하고 관리하고 다양한 데이터 형태를 표현할 수 있습니다.\n",
    "    \n",
    "    - Dictionary의 단점:\n",
    "        1. 순서가 없기 때문에 인덱싱이나 슬라이싱을 지원하지 않습니다.\n",
    "        2. 메모리 사용량이 더 많을 수 있습니다.\n",
    "    \n",
    "    - Index의 장점:\n",
    "        1. 데이터의 빠른 검색이 가능합니다. 검색 성능을 향상시킬 수 있습니다.\n",
    "        2. 데이터베이스나 검색 시스템에서 효율적인 데이터 접근을 지원합니다.\n",
    "    \n",
    "    - Index의 단점:\n",
    "        1. 추가적인 저장 공간을 사용하여 메모리를 소비합니다.\n",
    "        2. 데이터의 변경이 어려울 수 있습니다.\n",
    "        3. 일부 경우에만 사용 가능하며, 모든 상황에서 사용할 수 있는 것은 아닙니다.\n"
   ]
  },
  {
   "cell_type": "code",
   "execution_count": 58,
   "id": "241b4f5f",
   "metadata": {
    "ExecuteTime": {
     "end_time": "2023-06-19T11:17:25.912792Z",
     "start_time": "2023-06-19T11:17:25.421107Z"
    }
   },
   "outputs": [
    {
     "data": {
      "text/plain": [
       "[('aa', 'aa'),\n",
       " ('al', 'aal'),\n",
       " ('ai', 'aalii'),\n",
       " ('am', 'aam'),\n",
       " ('ai', 'Aani'),\n",
       " ('ak', 'aardvark'),\n",
       " ('af', 'aardwolf'),\n",
       " ('an', 'Aaron'),\n",
       " ('ac', 'Aaronic'),\n",
       " ('al', 'Aaronical')]"
      ]
     },
     "execution_count": 58,
     "metadata": {},
     "output_type": "execute_result"
    }
   ],
   "source": [
    "pairs = [(''.join(i).lower(), w) for w in Words for i in re.findall('^(.).*(.)$',w)]\n",
    "pairs[:10] # 아래처럼 순서쌍 생성"
   ]
  },
  {
   "cell_type": "code",
   "execution_count": 59,
   "id": "f4a63c4b",
   "metadata": {
    "ExecuteTime": {
     "end_time": "2023-06-19T11:17:26.156141Z",
     "start_time": "2023-06-19T11:17:25.916782Z"
    }
   },
   "outputs": [
    {
     "data": {
      "text/plain": [
       "nltk.util.Index"
      ]
     },
     "metadata": {},
     "output_type": "display_data"
    },
    {
     "data": {
      "text/plain": [
       "\"Index(<class 'list'>, {'aa': ['aa', 'aba', 'Ababua', 'abaca', 'Abama', 'abasia', 'Abatua', 'Abba', 'Abelia', 'Abelicea', 'abepithymia', 'Aberia', 'abhiseka', 'abilla', 'ablepharia', 'ablepsia', 'Abobra', 'abolla', 'aboma', 'abracadabra', 'abrachia', 'Abranchiata', 'Abrocoma', 'Abroma', 'Abronia', 'Absaroka', 'abscissa', 'absconsa', 'abulia', 'abulomania', 'abuna', 'Abundantia', 'abura', 'Abuta', 'Acacia', 'Acadia', 'Acaena', 'Acalepha', 'Acalypha', 'Acalyptrata', 'acampsia', 'acana', 'acantha', \""
      ]
     },
     "metadata": {},
     "output_type": "display_data"
    }
   ],
   "source": [
    "idx = nltk.Index(pairs)\n",
    "display(type(idx))\n",
    "# display(idx) # 인덱스를 key로 해서 사전느낌으로 만들어줌\n",
    "display(str(idx)[:500])"
   ]
  },
  {
   "cell_type": "code",
   "execution_count": 60,
   "id": "6789768c",
   "metadata": {
    "ExecuteTime": {
     "end_time": "2023-06-19T11:17:26.186061Z",
     "start_time": "2023-06-19T11:17:26.160132Z"
    }
   },
   "outputs": [
    {
     "name": "stdout",
     "output_type": "stream",
     "text": [
      "['abaissed', 'abandoned', 'abased', 'abashed', 'abatised', 'abed', 'abfarad', 'aboard', 'aborad', 'abord', 'aborted', 'abound', 'aboveboard', 'aboveground', 'abraid']\n",
      "\n",
      "['abaciscus', 'abaculus', 'abacus', 'Abantes', 'Abaris', 'abarthrosis', 'abas', 'abasedness', 'abashedness', 'abashless', 'abatis', 'abbacomes', 'abbas', 'abbess', 'abbotnullius']\n",
      "\n",
      "['aa', 'al', 'ai', 'am', 'ak', 'af', 'an', 'ac', 'ae', 'au', 'ab', 'ah', 'ay', 'as', 'at']\n",
      "\n"
     ]
    }
   ],
   "source": [
    "print(idx['ad'][:15]) ; print()\n",
    "print(idx['as'][:15]) ; print()\n",
    "print(list(idx.keys())[:15]) ; print()"
   ]
  },
  {
   "cell_type": "markdown",
   "id": "df512cdf",
   "metadata": {},
   "source": [
    "## 영어 어휘 품사 분석 1"
   ]
  },
  {
   "attachments": {
    "image.png": {
     "image/png": "[encoded data removed]"
    }
   },
   "cell_type": "markdown",
   "id": "a3b9a264",
   "metadata": {},
   "source": [
    "### 연습문제 1\n",
    "![image.png](attachment:image.png)"
   ]
  },
  {
   "cell_type": "code",
   "execution_count": 61,
   "id": "7b11857d",
   "metadata": {
    "ExecuteTime": {
     "end_time": "2023-06-19T11:17:26.215981Z",
     "start_time": "2023-06-19T11:17:26.192047Z"
    }
   },
   "outputs": [
    {
     "name": "stdout",
     "output_type": "stream",
     "text": [
      "look\n",
      "look\n",
      "look\n",
      "look\n",
      "\n",
      "want\n",
      "want\n",
      "want\n",
      "want\n"
     ]
    }
   ],
   "source": [
    "import re \n",
    "\n",
    "def stem1(word):\n",
    "    flag = False\n",
    "    check_list = ['ing','ed','s']\n",
    "    for check in check_list:\n",
    "        if word.endswith(check):\n",
    "             return word.rstrip(check)\n",
    "    return word\n",
    "\n",
    "def stem2(word):\n",
    "    return re.search('^(.*?)(ing|ed|s)?$', word).group(1)\n",
    "\n",
    "def stem2(word):\n",
    "    return re.sub('(ing|ed|s)$', '',word)\n",
    "\n",
    "def stem2(word):\n",
    "    return re.findall('^(.*?)(ing|ed|s)?$', word)[0][0]\n",
    "        \n",
    "print(stem1('look'))     \n",
    "print(stem1('looks'))    \n",
    "print(stem1('looked'))    \n",
    "print(stem1('looking'))    \n",
    "print()\n",
    "print(stem2('want'))     \n",
    "print(stem2('wants'))    \n",
    "print(stem2('wanted'))    \n",
    "print(stem2('wanting'))  \n",
    "\n",
    "# 그러나 precesses 나 languages 등등은 처리하기 힘들다 -> 언어처리가 간단하지 않고 쉽지 않다..."
   ]
  },
  {
   "cell_type": "code",
   "execution_count": 62,
   "id": "492f56c6",
   "metadata": {
    "ExecuteTime": {
     "end_time": "2023-06-19T11:17:26.245902Z",
     "start_time": "2023-06-19T11:17:26.221965Z"
    }
   },
   "outputs": [
    {
     "data": {
      "text/plain": [
       "[('processe', 's')]"
      ]
     },
     "execution_count": 62,
     "metadata": {},
     "output_type": "execute_result"
    }
   ],
   "source": [
    "# 최장 일치\n",
    "re.findall('^(.*)(ing|ed|s|es)$','processes') #re.findall('^(.*)(ing|ed|es|s)$','processes') 도 가능"
   ]
  },
  {
   "cell_type": "code",
   "execution_count": 63,
   "id": "7795c1af",
   "metadata": {
    "ExecuteTime": {
     "end_time": "2023-06-19T11:17:26.275822Z",
     "start_time": "2023-06-19T11:17:26.250888Z"
    }
   },
   "outputs": [
    {
     "data": {
      "text/plain": [
       "[('process', 'es')]"
      ]
     },
     "execution_count": 63,
     "metadata": {},
     "output_type": "execute_result"
    }
   ],
   "source": [
    "# 최단 일치\n",
    "re.findall('^(.*?)(ing|ed|s|es)$','processes') #re.findall('^(.*?)(ing|ed|es|s)$','processes') 도 가능"
   ]
  },
  {
   "cell_type": "markdown",
   "id": "cefe8c65",
   "metadata": {},
   "source": [
    "## 영어 어휘 품사 분석 2"
   ]
  },
  {
   "cell_type": "markdown",
   "id": "1566c004",
   "metadata": {},
   "source": [
    "### 정규표현으로 토큰화"
   ]
  },
  {
   "cell_type": "code",
   "execution_count": 64,
   "id": "f791de47",
   "metadata": {
    "ExecuteTime": {
     "end_time": "2023-06-19T11:17:26.321699Z",
     "start_time": "2023-06-19T11:17:26.280808Z"
    }
   },
   "outputs": [
    {
     "data": {
      "text/plain": [
       "['apple', 'orange', 'and', 'spam', '']"
      ]
     },
     "metadata": {},
     "output_type": "display_data"
    },
    {
     "data": {
      "text/plain": [
       "['apple', ', ', 'orange', ' ', 'and', ' ', 'spam', '.', '']"
      ]
     },
     "metadata": {},
     "output_type": "display_data"
    },
    {
     "data": {
      "text/plain": [
       "['bigcorp', 's', 'bi', 'annual', 'report', 'showed', 'profits', 'rose', '']"
      ]
     },
     "metadata": {},
     "output_type": "display_data"
    },
    {
     "name": "stdout",
     "output_type": "stream",
     "text": [
      "['bigcorp', \"'s\", '2007', 'bi-annual', 'report', 'showed', 'profits', 'rose', '10', '%', '.']\n"
     ]
    }
   ],
   "source": [
    "display(re.split('\\W+','apple, orange and spam.'))\n",
    "display(re.split('(\\W+)','apple, orange and spam.'))\n",
    "\n",
    "s = 'Bigcorp\\'s 2007 bi-annual report showed profits rose 10%.'\n",
    "display(re.split('[^a-z]+',s.lower()))\n",
    "print(re.findall('[a-z]+[-]?[a-z]*|\\d+|[^\\w\\s][a-z]*',s.lower()))"
   ]
  },
  {
   "cell_type": "code",
   "execution_count": 65,
   "id": "3b8f1637",
   "metadata": {
    "ExecuteTime": {
     "end_time": "2023-06-19T11:17:26.352615Z",
     "start_time": "2023-06-19T11:17:26.325687Z"
    }
   },
   "outputs": [
    {
     "data": {
      "text/plain": [
       "\"Bigcorp's 2007 bi-annual report showed profits rose 10%.\""
      ]
     },
     "metadata": {},
     "output_type": "display_data"
    },
    {
     "name": "stdout",
     "output_type": "stream",
     "text": [
      "['Bigcorp', \"'s\", '2007', 'bi-annual', 'report', 'showed', 'profits', 'rose', '10', '%', '.']\n",
      "['Bigcorp', \"'s\", '2007', 'bi-annual', 'report', 'showed', 'profits', 'rose', '10', '%', '.']\n"
     ]
    }
   ],
   "source": [
    "import nltk\n",
    "display(s)\n",
    "print(nltk.word_tokenize(s))\n",
    "print(re.findall('[a-z]+[-]?[a-z]*|\\d+|[^\\w\\s][a-z]*',s , re.I))"
   ]
  },
  {
   "cell_type": "markdown",
   "id": "4f988c74",
   "metadata": {},
   "source": [
    "### stemming/lemmatization으로 토큰화"
   ]
  },
  {
   "cell_type": "code",
   "execution_count": 66,
   "id": "0b48fb79",
   "metadata": {
    "ExecuteTime": {
     "end_time": "2023-06-19T11:17:26.367576Z",
     "start_time": "2023-06-19T11:17:26.356607Z"
    }
   },
   "outputs": [],
   "source": [
    "raw = \"\"\"DENNIS: Listen, strange women lying in ponds \n",
    "distributing swords is no basis for a system of government. \n",
    "Supreme executive power derives from a mandate from the masses, \n",
    "not from some farcical aquatic ceremony.\"\"\""
   ]
  },
  {
   "cell_type": "code",
   "execution_count": 67,
   "id": "2c2fee28",
   "metadata": {
    "ExecuteTime": {
     "end_time": "2023-06-19T11:17:26.382540Z",
     "start_time": "2023-06-19T11:17:26.371565Z"
    }
   },
   "outputs": [
    {
     "name": "stdout",
     "output_type": "stream",
     "text": [
      "['DENNIS', ':', 'Listen', ',', 'strange', 'women', 'lying', 'in', 'ponds', 'distributing', 'swords', 'is', 'no', 'basis', 'for', 'a', 'system', 'of', 'government', '.', 'Supreme', 'executive', 'power', 'derives', 'from', 'a', 'mandate', 'from', 'the', 'masses', ',', 'not', 'from', 'some', 'farcical', 'aquatic', 'ceremony', '.']\n"
     ]
    }
   ],
   "source": [
    "words = nltk.word_tokenize(raw)\n",
    "print(words)"
   ]
  },
  {
   "cell_type": "code",
   "execution_count": 68,
   "id": "84a376ab",
   "metadata": {
    "ExecuteTime": {
     "end_time": "2023-06-19T11:17:26.412456Z",
     "start_time": "2023-06-19T11:17:26.387523Z"
    }
   },
   "outputs": [
    {
     "name": "stdout",
     "output_type": "stream",
     "text": [
      "['denni', ':', 'listen', ',', 'strang', 'women', 'lie', 'in', 'pond', 'distribut', 'sword', 'is', 'no', 'basi', 'for', 'a', 'system', 'of', 'govern', '.', 'suprem', 'execut', 'power', 'deriv', 'from', 'a', 'mandat', 'from', 'the', 'mass', ',', 'not', 'from', 'some', 'farcic', 'aquat', 'ceremoni', '.']\n",
      "\n",
      "['den', ':', 'list', ',', 'strange', 'wom', 'lying', 'in', 'pond', 'distribut', 'sword', 'is', 'no', 'bas', 'for', 'a', 'system', 'of', 'govern', '.', 'suprem', 'execut', 'pow', 'der', 'from', 'a', 'mand', 'from', 'the', 'mass', ',', 'not', 'from', 'som', 'farc', 'aqu', 'ceremony', '.']\n"
     ]
    }
   ],
   "source": [
    "# nltk: stemming\n",
    "porter = nltk.PorterStemmer()\n",
    "lancaster = nltk.LancasterStemmer()\n",
    "\n",
    "# stemming은 빠르지만 불안정함 ex) distribut, ceremoni\n",
    "print([porter.stem(t) for t in words]) \n",
    "print()\n",
    "print([lancaster.stem(t) for t in words])"
   ]
  },
  {
   "cell_type": "code",
   "execution_count": 69,
   "id": "14db1dc2",
   "metadata": {
    "ExecuteTime": {
     "end_time": "2023-06-19T11:17:29.206437Z",
     "start_time": "2023-06-19T11:17:26.416447Z"
    }
   },
   "outputs": [
    {
     "name": "stdout",
     "output_type": "stream",
     "text": [
      "['DENNIS', ':', 'Listen', ',', 'strange', 'woman', 'lying', 'in', 'pond', 'distributing', 'sword', 'is', 'no', 'basis', 'for', 'a', 'system', 'of', 'government', '.', 'Supreme', 'executive', 'power', 'derives', 'from', 'a', 'mandate', 'from', 'the', 'mass', ',', 'not', 'from', 'some', 'farcical', 'aquatic', 'ceremony', '.']\n"
     ]
    }
   ],
   "source": [
    "# nltk: lemmatization\n",
    "# nltk.download('omw-1.4')\n",
    "\n",
    "# 시간이 조금 걸리지만 실존 어간을 출력해줌\n",
    "wnl = nltk.WordNetLemmatizer()\n",
    "print([wnl.lemmatize(t) for t in words])"
   ]
  },
  {
   "cell_type": "markdown",
   "id": "8484a440",
   "metadata": {},
   "source": [
    "## 영어 어휘 품사 분석 3\n",
    "Tagger:\n",
    "- 태거(Tagger)는 주어진 문장에 대해 형태소 분석과 품사 태깅을 수행하는 도구 또는 알고리즘을 말합니다. 태깅은 주어진 텍스트에서 단어에 대한 품사 정보를 부착하는 작업입니다. 예를 들어, \"나는 사과를 먹었다\"라는 문장에서 \"나는\"은 대명사이고, \"사과를\"는 명사와 조사의 결합이며, \"먹었다\"는 동사입니다. 태거는 이와 같이 단어 단위로 형태소를 분석하고, 각 단어에 해당하는 품사 정보를 할당하여 문장의 구조와 의미를 이해하는 데에 도움을 줍니다.\n",
    "\n",
    "str2tuple:\n",
    "- str2tuple은 문자열을 튜플(tuple)로 변환하는 과정을 말합니다. 일반적으로 형태소 분석 작업에서는 형태소와 품사를 형태소/품사 형태로 표현합니다. str2tuple은 이러한 형태의 문자열을 튜플로 변환하는 과정이나 함수를 의미합니다. 예를 들어, \"사과/Noun\"이라는 문자열을 (\"사과\", \"Noun\")이라는 튜플로 변환하는 것입니다. 이러한 형태의 튜플은 분석된 형태소와 품사 정보를 표현하는 데에 사용됩니다.\n",
    "\n",
    "Tagged Corpora:\n",
    "- 태깅된 말뭉치(Tagged Corpora)는 형태소 분석과 품사 태깅이 미리 수행된 언어 자료의 집합을 의미합니다. 이러한 말뭉치는 학습 데이터로 사용되어 기계학습 기반의 자연어처리 모델을 훈련시키는 데에 사용됩니다. 태깅된 말뭉치에는 텍스트 데이터와 해당 텍스트의 각 단어에 대한 품사 정보가 포함되어 있습니다. 이를 통해 모델은 텍스트의 문법적 구조와 의미를 학습하고, 새로운 입력에 대해 형태소 분석과 품사 태깅을 수행할 수 있게 됩니다. 태깅된 말뭉치는 자연어 처리 연구와 개발에서 중요한 자원으로 사용됩니다."
   ]
  },
  {
   "cell_type": "code",
   "execution_count": 167,
   "id": "274b4d02",
   "metadata": {
    "ExecuteTime": {
     "end_time": "2023-06-20T05:49:46.400304Z",
     "start_time": "2023-06-20T05:49:46.377938Z"
    }
   },
   "outputs": [
    {
     "name": "stdout",
     "output_type": "stream",
     "text": [
      "[('And', 'CC'), ('now', 'RB'), ('for', 'IN'), ('something', 'NN'), ('completely', 'RB'), ('different', 'JJ'), ('.', '.')] \n",
      "\n"
     ]
    }
   ],
   "source": [
    "# tagger \n",
    "import nltk\n",
    "\n",
    "s = 'And now for something completely different.'\n",
    "text = nltk.word_tokenize(s)\n",
    "# print(text,\"\\n\") \n",
    "print(nltk.pos_tag(text),\"\\n\") # .이 남아있음\n",
    "# print(nltk.pos_tag(s.split()),\"\\n\") # .이 그냥 different로 갔음"
   ]
  },
  {
   "cell_type": "code",
   "execution_count": 71,
   "id": "a16754eb",
   "metadata": {
    "ExecuteTime": {
     "end_time": "2023-06-19T11:17:29.507631Z",
     "start_time": "2023-06-19T11:17:29.482700Z"
    }
   },
   "outputs": [
    {
     "name": "stdout",
     "output_type": "stream",
     "text": [
      "[('They', 'PRP'), ('refuse', 'VBP'), ('to', 'TO'), ('permit', 'VB'), ('us', 'PRP'), ('to', 'TO'), ('obtain', 'VB'), ('the', 'DT'), ('refuse', 'NN'), ('permit', 'NN'), ('.', '.')]\n"
     ]
    }
   ],
   "source": [
    "# tagger를 이용한 중의성 해소\n",
    "s = \"They refuse to permit us to obtain the refuse permit.\"\n",
    "print(nltk.pos_tag(nltk.word_tokenize(s)))\n",
    "\n",
    "# refuse, permit 등등이 다른 형태소로 처리됨, 중의성 해소!! -> 자연어처리에서 매우중요"
   ]
  },
  {
   "cell_type": "code",
   "execution_count": 72,
   "id": "54c75a06",
   "metadata": {
    "ExecuteTime": {
     "end_time": "2023-06-19T11:17:29.552510Z",
     "start_time": "2023-06-19T11:17:29.512616Z"
    }
   },
   "outputs": [
    {
     "name": "stdout",
     "output_type": "stream",
     "text": [
      "[('Time', 'NNP'), ('flies', 'NNS'), ('like', 'IN'), ('an', 'DT'), ('arrow', 'NN')] \n",
      "\n",
      "[('time', 'NN'), ('flies', 'NNS'), ('like', 'IN'), ('an', 'DT'), ('arrow', 'NN')] \n",
      "\n",
      "[('time', 'NN'), ('sometimes', 'RB'), ('flies', 'NNS'), ('like', 'IN'), ('an', 'DT'), ('arrow', 'NN')] \n",
      "\n",
      "[('Time', 'NNP'), ('sometimes', 'RB'), ('flies', 'VBZ'), ('like', 'IN'), ('an', 'DT'), ('arrow', 'NN')] \n",
      "\n"
     ]
    }
   ],
   "source": [
    "# 그러나 tagger... time, flies like 픔사를 주목해서 보기 -> 변한다....\n",
    "print(nltk.pos_tag(\"Time flies like an arrow\".split()) , \"\\n\")\n",
    "print(nltk.pos_tag(\"time flies like an arrow\".split()) , \"\\n\")\n",
    "print(nltk.pos_tag(\"time sometimes flies like an arrow\".split()) , \"\\n\")\n",
    "print(nltk.pos_tag(\"Time sometimes flies like an arrow\".split()) , \"\\n\")"
   ]
  },
  {
   "cell_type": "code",
   "execution_count": 73,
   "id": "6cfbcb06",
   "metadata": {
    "ExecuteTime": {
     "end_time": "2023-06-19T11:17:29.582430Z",
     "start_time": "2023-06-19T11:17:29.556500Z"
    }
   },
   "outputs": [
    {
     "data": {
      "text/plain": [
       "[('The', 'AT'), ('grand', 'JJ'), ('jury', 'NN')]"
      ]
     },
     "metadata": {},
     "output_type": "display_data"
    },
    {
     "data": {
      "text/plain": [
       "[('The_AT', None), ('grand_JJ', None), ('jury_NN', None)]"
      ]
     },
     "metadata": {},
     "output_type": "display_data"
    },
    {
     "data": {
      "text/plain": [
       "[('The', 'AT'), ('grand', 'JJ'), ('jury', 'NN')]"
      ]
     },
     "metadata": {},
     "output_type": "display_data"
    }
   ],
   "source": [
    "# str2tuple\n",
    "display([nltk.tag.str2tuple(t) for t in 'The/AT grand/JJ jury/NN'.split()])\n",
    "display([nltk.tag.str2tuple(t) for t in 'The_AT grand_JJ jury_NN'.split()])\n",
    "display([nltk.tag.str2tuple(t, sep ='_') for t in 'The_AT grand_JJ jury_NN'.split()])"
   ]
  },
  {
   "cell_type": "code",
   "execution_count": 74,
   "id": "87a7538c",
   "metadata": {
    "ExecuteTime": {
     "end_time": "2023-06-19T11:17:35.467635Z",
     "start_time": "2023-06-19T11:17:29.585424Z"
    }
   },
   "outputs": [
    {
     "name": "stdout",
     "output_type": "stream",
     "text": [
      "[('The', 'AT'), ('Fulton', 'NP-TL'), ('County', 'NN-TL'), ('Grand', 'JJ-TL'), ('Jury', 'NN-TL')]\n",
      "[('The', 'DET'), ('Fulton', 'NOUN'), ('County', 'NOUN'), ('Grand', 'ADJ'), ('Jury', 'NOUN')] \n",
      "\n",
      "[('Pierre', 'NNP'), ('Vinken', 'NNP'), (',', ','), ('61', 'CD'), ('years', 'NNS')]\n",
      "[('Pierre', 'NOUN'), ('Vinken', 'NOUN'), (',', '.'), ('61', 'NUM'), ('years', 'NOUN')] \n",
      "\n",
      "[('NOUN', 275558), ('VERB', 182750), ('.', 147565), ('ADP', 144766), ('DET', 137019), ('ADJ', 83721), ('ADV', 56239), ('PRON', 49334), ('CONJ', 38151), ('PRT', 29829), ('NUM', 14874), ('X', 1386)]\n"
     ]
    }
   ],
   "source": [
    "# tagged corpora\n",
    "print(nltk.corpus.brown.tagged_words()[:5]) # brown\n",
    "print(nltk.corpus.brown.tagged_words(tagset = 'universal')[:5], \"\\n\")\n",
    "\n",
    "\n",
    "print(nltk.corpus.treebank.tagged_words()[:5]) # treebank\n",
    "print(nltk.corpus.treebank.tagged_words(tagset = 'universal')[:5], \"\\n\")\n",
    "\n",
    "tags = nltk.FreqDist(tag for _, tag in nltk.corpus.brown.tagged_words(tagset = 'universal'))\n",
    "print(tags.most_common())"
   ]
  },
  {
   "cell_type": "code",
   "execution_count": null,
   "id": "2ba9d5a3",
   "metadata": {
    "ExecuteTime": {
     "end_time": "2023-06-13T09:36:09.407760Z",
     "start_time": "2023-06-13T09:36:09.394798Z"
    }
   },
   "outputs": [],
   "source": []
  },
  {
   "cell_type": "code",
   "execution_count": 75,
   "id": "30e1c97b",
   "metadata": {
    "ExecuteTime": {
     "end_time": "2023-06-19T11:17:36.440155Z",
     "start_time": "2023-06-19T11:17:35.469684Z"
    }
   },
   "outputs": [
    {
     "data": {
      "text/plain": [
       "<generator object bigrams at 0x000002AE19ADBCF0>"
      ]
     },
     "metadata": {},
     "output_type": "display_data"
    },
    {
     "data": {
      "text/plain": [
       "[(('The', 'DET'), ('Fulton', 'NOUN')),\n",
       " (('Fulton', 'NOUN'), ('County', 'NOUN')),\n",
       " (('County', 'NOUN'), ('Grand', 'ADJ')),\n",
       " (('Grand', 'ADJ'), ('Jury', 'NOUN')),\n",
       " (('Jury', 'NOUN'), ('said', 'VERB'))]"
      ]
     },
     "metadata": {},
     "output_type": "display_data"
    },
    {
     "data": {
      "text/plain": [
       "[]"
      ]
     },
     "metadata": {},
     "output_type": "display_data"
    },
    {
     "name": "stdout",
     "output_type": "stream",
     "text": [
      "--------------------------------------------------\n"
     ]
    },
    {
     "data": {
      "text/plain": [
       "100553"
      ]
     },
     "metadata": {},
     "output_type": "display_data"
    },
    {
     "data": {
      "text/plain": [
       "[(('The', 'DET'), ('Fulton', 'NOUN')),\n",
       " (('Fulton', 'NOUN'), ('County', 'NOUN')),\n",
       " (('County', 'NOUN'), ('Grand', 'ADJ')),\n",
       " (('Grand', 'ADJ'), ('Jury', 'NOUN')),\n",
       " (('Jury', 'NOUN'), ('said', 'VERB'))]"
      ]
     },
     "metadata": {},
     "output_type": "display_data"
    }
   ],
   "source": [
    "# bi-gram\n",
    "words = nltk.corpus.brown.tagged_words(categories = 'news', tagset = 'universal')\n",
    "bi_grams = nltk.bigrams(words)\n",
    "display(bi_grams)\n",
    "\n",
    "display(list(bi_grams)[:5]) # 한번 보여주면\n",
    "\n",
    "display(list(bi_grams)[:5]) # 다음또 보여달라고 못함 ->  사라짐\n",
    "\n",
    "print('-' * 50)\n",
    "bi_grams = list(zip(words[:-1],words[1:])) # 이거 다시\n",
    "display(len(bi_grams))\n",
    "display(bi_grams[:5])"
   ]
  },
  {
   "cell_type": "markdown",
   "id": "e7645ae9",
   "metadata": {},
   "source": [
    "### 연습문제 1"
   ]
  },
  {
   "cell_type": "code",
   "execution_count": 76,
   "id": "0301391c",
   "metadata": {
    "ExecuteTime": {
     "end_time": "2023-06-19T11:17:36.859116Z",
     "start_time": "2023-06-19T11:17:36.445189Z"
    }
   },
   "outputs": [
    {
     "name": "stdout",
     "output_type": "stream",
     "text": [
      "['is', 'was', 'be', 'said', 'will', 'are', 'has', 'had', 'have', 'were']\n"
     ]
    }
   ],
   "source": [
    "import nltk\n",
    "words = nltk.corpus.brown.tagged_words(categories = 'news', tagset = 'universal')\n",
    "\n",
    "# 정답\n",
    "verbs = [wt[0] for (wt, _) in nltk.FreqDist(words).most_common() if wt[1] == 'VERB'][:10]\n",
    "        # [w for w, freq in nltk.FreqDist([w for w, tag in words if tag == \"VERB\"]).most_common(10)]\n",
    "\n",
    "print(verbs)  #most _common이 없으면?"
   ]
  },
  {
   "cell_type": "markdown",
   "id": "88332424",
   "metadata": {},
   "source": [
    "### 연습문제 2"
   ]
  },
  {
   "cell_type": "code",
   "execution_count": 77,
   "id": "d9d0a2d3",
   "metadata": {
    "ExecuteTime": {
     "end_time": "2023-06-19T11:17:37.383677Z",
     "start_time": "2023-06-19T11:17:36.861077Z"
    }
   },
   "outputs": [
    {
     "name": "stdout",
     "output_type": "stream",
     "text": [
      "['NOUN', 'DET', 'ADJ', 'ADP', '.', 'VERB', 'CONJ', 'NUM', 'ADV', 'PRT', 'PRON', 'X']\n"
     ]
    }
   ],
   "source": [
    "nltk_modifiers = [tag for tag in nltk.FreqDist(a[1] for (a,b) in nltk.bigrams(words) if b[1] == 'NOUN')]\n",
    "print(nltk_modifiers)\n",
    "\n",
    "# 나의 답\n",
    "# print([key for key, value in nltk.FreqDist([words[i-1][1] \\\n",
    "#          for i in range(len(words)) if words[i][1] == \"NOUN\"]).most_common()])"
   ]
  },
  {
   "cell_type": "markdown",
   "id": "7cd05d4b",
   "metadata": {},
   "source": [
    "### n-gram 활용\n",
    "- often의 품사들의 종류"
   ]
  },
  {
   "cell_type": "code",
   "execution_count": 78,
   "id": "3caeba1b",
   "metadata": {
    "ExecuteTime": {
     "end_time": "2023-06-19T11:17:37.832476Z",
     "start_time": "2023-06-19T11:17:37.385671Z"
    }
   },
   "outputs": [
    {
     "name": "stdout",
     "output_type": "stream",
     "text": [
      "VERB  ADJ    .  ADP  DET  ADV \n",
      "   6    2    2    2    1    1 \n"
     ]
    }
   ],
   "source": [
    "words = nltk.corpus.brown.tagged_words(categories = 'news', tagset = 'universal')\n",
    "a = nltk.FreqDist(b[1] for (a,b) in nltk.bigrams(words) if a[0].lower() == 'often')\n",
    "a.tabulate()\n",
    "\n",
    "# a.plot(title = 'often', cumulative = True)"
   ]
  },
  {
   "cell_type": "code",
   "execution_count": 79,
   "id": "3cce66c0",
   "metadata": {
    "ExecuteTime": {
     "end_time": "2023-06-19T11:17:38.416051Z",
     "start_time": "2023-06-19T11:17:37.834471Z"
    }
   },
   "outputs": [
    {
     "name": "stdout",
     "output_type": "stream",
     "text": [
      "VERB  ADV  ADP  ADJ    .  DET  PRT PRON NOUN \n",
      "  37    8    7    6    6    2    2    1    1 \n"
     ]
    }
   ],
   "source": [
    "words = nltk.corpus.brown.tagged_words(categories = 'learned', tagset = 'universal')\n",
    "b = nltk.FreqDist(b[1] for (a,b) in nltk.bigrams(words) if a[0].lower() == 'often')\n",
    "b.tabulate()"
   ]
  },
  {
   "cell_type": "code",
   "execution_count": 80,
   "id": "9a3afd2e",
   "metadata": {
    "ExecuteTime": {
     "end_time": "2023-06-19T11:17:39.089261Z",
     "start_time": "2023-06-19T11:17:38.418094Z"
    }
   },
   "outputs": [
    {
     "name": "stdout",
     "output_type": "stream",
     "text": [
      "\n"
     ]
    }
   ],
   "source": [
    "# Counters는 plot이 없다\n",
    "from collections import Counter\n",
    "Counter(b[1] for (a,b) in nltk.bigrams(words) if a[0].lower() == 'often') # .plot() -> 하면 에러\n",
    "print()"
   ]
  },
  {
   "cell_type": "code",
   "execution_count": null,
   "id": "75ffb6ed",
   "metadata": {
    "ExecuteTime": {
     "end_time": "2023-06-19T08:19:00.796354Z",
     "start_time": "2023-06-19T08:19:00.612207Z"
    }
   },
   "outputs": [],
   "source": []
  },
  {
   "cell_type": "code",
   "execution_count": 81,
   "id": "a3724b2b",
   "metadata": {
    "ExecuteTime": {
     "end_time": "2023-06-19T11:17:39.493676Z",
     "start_time": "2023-06-19T11:17:39.092257Z"
    },
    "scrolled": true
   },
   "outputs": [
    {
     "name": "stdout",
     "output_type": "stream",
     "text": [
      "[[('The', 'AT'), ('Fulton', 'NP-TL'), ('County', 'NN-TL'), ('Grand', 'JJ-TL'), ('Jury', 'NN-TL'), ('said', 'VBD'), ('Friday', 'NR'), ('an', 'AT'), ('investigation', 'NN'), ('of', 'IN'), (\"Atlanta's\", 'NP$'), ('recent', 'JJ'), ('primary', 'NN'), ('election', 'NN'), ('produced', 'VBD'), ('``', '``'), ('no', 'AT'), ('evidence', 'NN'), (\"''\", \"''\"), ('that', 'CS'), ('any', 'DTI'), ('irregularities', 'NNS'), ('took', 'VBD'), ('place', 'NN'), ('.', '.')]] \n",
      "\n",
      "combined to achieve\n",
      "continue to place\n",
      "serve to protect\n",
      "wanted to wait\n",
      "allowed to place\n",
      "expected to become\n",
      "expected to approve\n",
      "expected to make\n",
      "intends to make\n",
      "seek to set\n",
      "like to see\n"
     ]
    }
   ],
   "source": [
    "from nltk.corpus import brown\n",
    "print(brown.tagged_sents()[:1], \"\\n\")\n",
    "\n",
    "def process(sentence):\n",
    "    for (w1, t1) , (w2, t2), (w3, t3) in nltk.trigrams(sentence):\n",
    "        if (t1.startswith('V') and t2 == 'TO' and t3.startswith('V')):\n",
    "            print(w1, w2, w3)\n",
    "\n",
    "for tagged_sent in brown.tagged_sents()[:100]: # brown.tagged_sents()로 해야함, 길이 줄이기 위해 제한\n",
    "    process(tagged_sent) # 동사 TO 동사를 추출하는 코드"
   ]
  },
  {
   "cell_type": "code",
   "execution_count": 82,
   "id": "e5b51a12",
   "metadata": {
    "ExecuteTime": {
     "end_time": "2023-06-19T11:17:40.817136Z",
     "start_time": "2023-06-19T11:17:39.507638Z"
    }
   },
   "outputs": [
    {
     "data": {
      "text/plain": [
       "[('1', 'NUM'), ('.', '.'), ('Introduction', 'NOUN')]"
      ]
     },
     "metadata": {},
     "output_type": "display_data"
    },
    {
     "name": "stdout",
     "output_type": "stream",
     "text": [
      "--------------------------------------------------\n"
     ]
    },
    {
     "data": {
      "text/plain": [
       "FreqDist({'VERB': 4, 'NOUN': 3})"
      ]
     },
     "metadata": {},
     "output_type": "display_data"
    },
    {
     "data": {
      "text/plain": [
       "[('VERB', 4), ('NOUN', 3)]"
      ]
     },
     "metadata": {},
     "output_type": "display_data"
    },
    {
     "data": {
      "text/plain": [
       "dict_items([('NOUN', 3), ('VERB', 4)])"
      ]
     },
     "metadata": {},
     "output_type": "display_data"
    },
    {
     "data": {
      "text/plain": [
       "dict_keys(['NOUN', 'VERB'])"
      ]
     },
     "metadata": {},
     "output_type": "display_data"
    },
    {
     "data": {
      "text/plain": [
       "dict_values([3, 4])"
      ]
     },
     "metadata": {},
     "output_type": "display_data"
    }
   ],
   "source": [
    "# ConditionalFreqDist\n",
    "display(words[:3])\n",
    "print(\"-\"*50)\n",
    "cfd1 = nltk.ConditionalFreqDist(words)\n",
    "display(cfd1['yield'])\n",
    "display(cfd1['yield'].most_common())\n",
    "display(cfd1['yield'].items())\n",
    "display(cfd1['yield'].keys())\n",
    "display(cfd1['yield'].values())"
   ]
  },
  {
   "cell_type": "code",
   "execution_count": 83,
   "id": "89f53e53",
   "metadata": {
    "ExecuteTime": {
     "end_time": "2023-06-19T11:17:42.418117Z",
     "start_time": "2023-06-19T11:17:40.819131Z"
    }
   },
   "outputs": [
    {
     "data": {
      "text/plain": [
       "[('VERB', 4), ('NOUN', 3)]"
      ]
     },
     "metadata": {},
     "output_type": "display_data"
    },
    {
     "data": {
      "text/plain": [
       "[('is', 2403), ('be', 1363), ('was', 1114), ('are', 991), ('were', 633)]"
      ]
     },
     "metadata": {},
     "output_type": "display_data"
    },
    {
     "name": "stdout",
     "output_type": "stream",
     "text": [
      "     yield   cut \n",
      "VERB     4    17 \n",
      "NOUN     3     2 \n"
     ]
    }
   ],
   "source": [
    "cfd2 = nltk.ConditionalFreqDist((word, tag) for (word, tag) in words)\n",
    "display(cfd2['yield'].most_common())\n",
    "\n",
    "cfd3 = nltk.ConditionalFreqDist((tag, word) for (word, tag) in words)\n",
    "display(cfd3['VERB'].most_common(5))\n",
    "\n",
    "cfd3.tabulate(conditions = ['VERB','NOUN'], samples = ['yield', 'cut'])\n",
    "\n",
    "# cfd3.plot(title = \"yield vs. cut\", conditions = ['VERB','NOUN'], samples = ['yield', 'cut'] )"
   ]
  },
  {
   "cell_type": "markdown",
   "id": "6d88370a",
   "metadata": {},
   "source": [
    "## 영어 어휘 품사 분석 4"
   ]
  },
  {
   "cell_type": "markdown",
   "id": "ba02efcc",
   "metadata": {},
   "source": [
    "##### Default Tagger\n",
    "<br>\n",
    "Default Tagger는 자연어 처리 분야에서 텍스트를 처리하기 전에 각 단어에 기본 품사를 할당하는 간단한 품사 태그 모델입니다. 이 모델은 훈련 없이 단어에 대해 미리 정의된 기본 품사 태그를 사용하여 텍스트를 태깅합니다.\n",
    "\n",
    "- 장점: \n",
    "\n",
    "    - 간단하고 빠르게 구현할 수 있습니다. Default Tagger는 별도의 훈련이 필요하지 않으므로, 단순히 사전에 정의된 기본 품사 태그를 사용하여 태깅을 수행합니다. 이로써 모델 개발에 들어가는 시간과 노력을 줄일 수 있습니다.\n",
    "\n",
    "    - Out-of-vocabulary(OOV) 단어 처리가 가능합니다. 기본 품사 태그는 미리 정의되어 있기 때문에 사전에 없는 단어에 대해서도 일관된 품사 태그를 할당할 수 있습니다.\n",
    "\n",
    "- 단점:\n",
    "\n",
    "    - 문맥을 고려하지 않습니다. Default Tagger는 단순히 각 단어에 대해 미리 정의된 기본 품사 태그를 할당하므로, 문장의 문맥을 고려하지 않습니다. 따라서 문맥에 따라 단어의 품사가 달라질 수 있는 경우에는 정확한 태깅을 수행할 수 없습니다.\n",
    "\n",
    "    - 다의어 처리가 제한적입니다. Default Tagger는 단어의 다의성을 고려하지 않으며, 단어에 고정된 품사 태그를 할당합니다. 그러나 한 단어가 여러 가지 품사로 사용되는 경우에는 해당 단어의 다의성을 제대로 처리할 수 없습니다.\n",
    "\n",
    "    - 정확도가 상대적으로 낮을 수 있습니다. Default Tagger는 단어의 품사를 추론하는 데에 제한된 정보를 사용하므로, 정확한 태깅 결과를 보장할 수 없습니다. 특히 어순이나 문맥에 따라 품사가 달라지는 언어의 경우에는 성능이 제한적일 수 있습니다.\n",
    "\n",
    "Default Tagger는 단순하고 빠르게 텍스트를 태깅하는 용도로 사용될 수 있지만, 정확한 품사 태깅을 수행하기 위해서는 보다 복잡한 모델이 필요할 수 있습니다."
   ]
  },
  {
   "cell_type": "code",
   "execution_count": 84,
   "id": "b384fc13",
   "metadata": {
    "ExecuteTime": {
     "end_time": "2023-06-19T11:17:42.897603Z",
     "start_time": "2023-06-19T11:17:42.420077Z"
    }
   },
   "outputs": [
    {
     "data": {
      "text/plain": [
       "[('NN', 13162), ('IN', 10616), ('AT', 8893), ('NP', 6866), (',', 5133)]"
      ]
     },
     "metadata": {},
     "output_type": "display_data"
    },
    {
     "data": {
      "text/plain": [
       "['NN    13.089%',\n",
       " 'IN    10.558%',\n",
       " 'AT     8.844%',\n",
       " 'NP     6.828%',\n",
       " ',      5.105%']"
      ]
     },
     "metadata": {},
     "output_type": "display_data"
    },
    {
     "data": {
      "text/plain": [
       "'NN'"
      ]
     },
     "metadata": {},
     "output_type": "display_data"
    }
   ],
   "source": [
    "# Default Tagger\n",
    "import nltk\n",
    "from nltk.corpus import brown\n",
    "tags = [tag for (word, tag) in brown.tagged_words(categories = 'news')]\n",
    "\n",
    "# 품사와 횟수 top5\n",
    "display(nltk.FreqDist(tags).most_common(5))\n",
    "\n",
    "# 품사 비율\n",
    "display([f'{w:5}{f/len(tags):8.3%}' for w, f in nltk.FreqDist(tags).most_common(5)])\n",
    "\n",
    "display(nltk.FreqDist(tags).max()) # 어떤 품사가 고빈도?"
   ]
  },
  {
   "cell_type": "code",
   "execution_count": 85,
   "id": "12f4f307",
   "metadata": {
    "ExecuteTime": {
     "end_time": "2023-06-19T11:17:43.541118Z",
     "start_time": "2023-06-19T11:17:42.900549Z"
    }
   },
   "outputs": [
    {
     "data": {
      "text/plain": [
       "['I', 'do', 'not', 'like', 'green', 'eggs', 'and', 'ham', '.']"
      ]
     },
     "metadata": {},
     "output_type": "display_data"
    },
    {
     "data": {
      "text/plain": [
       "[('I', 'NN'),\n",
       " ('do', 'NN'),\n",
       " ('not', 'NN'),\n",
       " ('like', 'NN'),\n",
       " ('green', 'NN'),\n",
       " ('eggs', 'NN'),\n",
       " ('and', 'NN'),\n",
       " ('ham', 'NN'),\n",
       " ('.', 'NN')]"
      ]
     },
     "metadata": {},
     "output_type": "display_data"
    },
    {
     "name": "stdout",
     "output_type": "stream",
     "text": [
      "[[('The', 'AT'), ('Fulton', 'NP-TL'), ('County', 'NN-TL'), ('Grand', 'JJ-TL'), ('Jury', 'NN-TL'), ('said', 'VBD'), ('Friday', 'NR'), ('an', 'AT'), ('investigation', 'NN'), ('of', 'IN'), (\"Atlanta's\", 'NP$'), ('recent', 'JJ'), ('primary', 'NN'), ('election', 'NN'), ('produced', 'VBD'), ('``', '``'), ('no', 'AT'), ('evidence', 'NN'), (\"''\", \"''\"), ('that', 'CS'), ('any', 'DTI'), ('irregularities', 'NNS'), ('took', 'VBD'), ('place', 'NN'), ('.', '.')]] \n",
      "\n",
      "0.13089484257215028\n"
     ]
    }
   ],
   "source": [
    "raw = 'I do not like green eggs and ham.'\n",
    "tokens = nltk.word_tokenize(raw)\n",
    "display(tokens)\n",
    "\n",
    "default_tagger = nltk.DefaultTagger('NN')\n",
    "display(default_tagger.tag(tokens))\n",
    "\n",
    "tagged_sents = brown.tagged_sents(categories = 'news')\n",
    "print(tagged_sents[:1], \"\\n\")\n",
    "print(default_tagger.accuracy(tagged_sents)) # 정확도\n",
    "# sents, tagged_words는 사용불가능"
   ]
  },
  {
   "cell_type": "markdown",
   "id": "709b2ba0",
   "metadata": {},
   "source": [
    "##### Regular Expression Tagger\n",
    "Regular Expression Tagger는 자연어 처리 분야에서 사용되는 품사 태깅 방법 중 하나입니다. 이 방법은 정규식(Regular Expression)을 사용하여 각 단어에 특정 패턴을 기반으로 품사를 할당합니다.\n",
    "\n",
    "- 장점:\n",
    "\n",
    "    - 유연하고 정확한 규칙 적용이 가능합니다. 정규식은 유연한 패턴 매칭을 제공하므로, 특정 단어나 구문 구조에 대한 규칙을 세울 수 있습니다. 이를 통해 품사 태깅 정확도를 향상시킬 수 있습니다.\n",
    "\n",
    "    - 도메인 특정 태깅에 적합합니다. 특정 도메인의 텍스트를 처리해야 할 때, 해당 도메인의 언어 특징에 맞는 정규식 패턴을 적용하여 품사 태깅을 수행할 수 있습니다. 이는 도메인 특정 어휘나 구문 구조에 대한 정확한 태깅을 가능하게 합니다.\n",
    "\n",
    "    - 훈련 데이터가 필요 없습니다. Regular Expression Tagger는 사전 훈련된 모델을 사용하는 것이 아니기 때문에 훈련 데이터가 필요하지 않습니다. 따라서, 작은 규모의 데이터셋에서도 적용이 가능하며, 모델 구축 및 적용에 드는 시간과 노력을 줄일 수 있습니다.\n",
    "\n",
    "- 단점:\n",
    "\n",
    "    - 일반화 능력이 제한적입니다. Regular Expression Tagger는 주어진 정규식 패턴에 기반하여 태깅을 수행하므로, 패턴에 맞지 않는 단어나 구문에 대해서는 제대로 된 태깅을 수행할 수 없습니다. 즉, 모든 경우를 커버하는 완벽한 정규식 패턴을 작성하는 것은 어려울 수 있습니다.\n",
    "\n",
    "    - 복잡한 문법이 필요할 수 있습니다. 언어의 복잡성에 따라 정규식 패턴 작성이 복잡해질 수 있습니다. 특히, 어순의 유연성이 높거나 다의어가 많은 언어의 경우에는 정확한 패턴을 작성하기가 어려울 수 있습니다.\n",
    "\n",
    "    - 유지 보수가 어려울 수 있습니다. 정규식 패턴은 복잡하거나 규모가 큰 규칙을 다룰 때에는 관리와 유지 보수가 어려울 수 있습니다. 새로운 규칙을 추가하거나 기존 규칙을 수정해야 할 경우, 정규식을 이해하고 수정하는 작업이 필요합니다.\n",
    "\n",
    "Regular Expression Tagger는 특정 패턴에 기반하여 품사 태깅을 수행하는 간단하면서도 유용한 방법입니다. 하지만 정확한 품사 태깅을 위해서는 패턴 작성의 어려움과 일반화 능력의 한계를 고려해야 합니다."
   ]
  },
  {
   "cell_type": "code",
   "execution_count": 86,
   "id": "9fe298a1",
   "metadata": {
    "ExecuteTime": {
     "end_time": "2023-06-19T11:17:45.413550Z",
     "start_time": "2023-06-19T11:17:43.544084Z"
    }
   },
   "outputs": [
    {
     "name": "stdout",
     "output_type": "stream",
     "text": [
      "[('The', 'NN'), ('Fulton', 'NN'), ('County', 'NN'), ('Grand', 'NN'), ('Jury', 'NN'), ('said', 'NN'), ('Friday', 'NN'), ('an', 'NN'), ('investigation', 'NN'), ('of', 'NN'), (\"Atlanta's\", 'NN$'), ('recent', 'NN'), ('primary', 'NN'), ('election', 'NN'), ('produced', 'VBD')]\n"
     ]
    },
    {
     "data": {
      "text/plain": [
       "0.20326391789486245"
      ]
     },
     "metadata": {},
     "output_type": "display_data"
    }
   ],
   "source": [
    "patterns = [\n",
    "    ('.*ing$','VBG'),   # gerunds\n",
    "    ('.*ed$','VBD'),   # simple past\n",
    "    ('.*es$','VBZ'),   # 3rd singular present\n",
    "    ('.*ould$','MD'),   # modals\n",
    "    ('.*\\'s$','NN$'),   # possesive nouns\n",
    "    ('.*s$','NNS'),   # plural nouns\n",
    "    ('^-?[0-9]+(.[0-9]+)?$','CD'),   # cardinal numbers\n",
    "    ('.*','NN'),   # nouns (default)\n",
    "]\n",
    "regexp_tagger = nltk.RegexpTagger(patterns)\n",
    "\n",
    "words = brown.words(categories = 'news')\n",
    "print(regexp_tagger.tag(words[:15]))\n",
    "\n",
    "display(regexp_tagger.accuracy(tagged_sents))\n",
    "# sents, tagged_words는 사용 불가능"
   ]
  },
  {
   "cell_type": "markdown",
   "id": "30a829d2",
   "metadata": {},
   "source": [
    "##### Lookup Tagger"
   ]
  },
  {
   "cell_type": "code",
   "execution_count": 87,
   "id": "0871274f",
   "metadata": {
    "ExecuteTime": {
     "end_time": "2023-06-19T11:17:46.536030Z",
     "start_time": "2023-06-19T11:17:45.416499Z"
    }
   },
   "outputs": [
    {
     "data": {
      "text/plain": [
       "FreqDist({'AT': 5558, 'AT-TL': 18, 'AT-HL': 4})"
      ]
     },
     "metadata": {},
     "output_type": "display_data"
    },
    {
     "name": "stdout",
     "output_type": "stream",
     "text": [
      "{'the': 'AT', ',': ',', '.': '.', 'of': 'IN', 'and': 'CC', 'to': 'TO', 'a': 'AT', 'in': 'IN', 'for': 'IN', 'The': 'AT', 'that': 'CS', '``': '``', 'is': 'BEZ', 'was': 'BEDZ', \"''\": \"''\", 'on': 'IN', 'at': 'IN', 'with': 'IN', 'be': 'BE', 'by': 'IN', 'as': 'CS', 'he': 'PPS', 'said': 'VBD', 'his': 'PP$', 'will': 'MD', 'it': 'PPS', 'from': 'IN', 'are': 'BER', ';': '.', 'an': 'AT', 'has': 'HVZ', '--': '--', 'had': 'HVD', 'who': 'WPS', 'have': 'HV', 'not': '*', 'Mrs.': 'NP', 'were': 'BED', 'this': 'DT', 'which': 'WDT', 'would': 'MD', 'their': 'PP$', 'been': 'BEN', 'they': 'PPSS', 'He': 'PPS', 'one': 'CD', 'I': 'PPSS', 'but': 'CC', 'its': 'PP$', 'or': 'CC'}\n"
     ]
    }
   ],
   "source": [
    "fd = nltk.FreqDist(brown.words(categories = 'news'))\n",
    "cfd = nltk.ConditionalFreqDist(brown.tagged_words(categories = 'news'))\n",
    "display(cfd['the'])\n",
    "\n",
    "likely_tags = dict((word, cfd[word].max()) for (word, _) in fd.most_common(50))\n",
    "print(likely_tags) \n",
    "# \"likely_tags\"는 텍스트 처리에서 특정 단어에 대해 가장 가능성이 높은 품사 태그를 \n",
    "# 예측하는 작업을 수행하는 함수나 메서드의 이름입니다."
   ]
  },
  {
   "cell_type": "code",
   "execution_count": 88,
   "id": "5f93a1cc",
   "metadata": {
    "ExecuteTime": {
     "end_time": "2023-06-19T11:17:49.260090Z",
     "start_time": "2023-06-19T11:17:46.538987Z"
    }
   },
   "outputs": [
    {
     "name": "stdout",
     "output_type": "stream",
     "text": [
      "0.40313662310798176\n",
      "0.45578495136941344\n",
      "0.5060962269029576\n",
      "0.539819400521113\n"
     ]
    }
   ],
   "source": [
    "# likely_tags50\n",
    "lookup_tagger = nltk.UnigramTagger(model = likely_tags)\n",
    "print(lookup_tagger.accuracy(tagged_sents))\n",
    "\n",
    "# likely_tags100\n",
    "likely_tags100 = dict( (word, cfd[word].max()) for (word, _) in fd.most_common(100) )\n",
    "print(nltk.UnigramTagger(model = likely_tags100).accuracy(tagged_sents))\n",
    "\n",
    "# likely_tags200\n",
    "likely_tags200 = dict( (word, cfd[word].max()) for (word, _) in fd.most_common(200) )\n",
    "print(nltk.UnigramTagger(model = likely_tags200).accuracy(tagged_sents))\n",
    "\n",
    "# likely_tags300\n",
    "likely_tags300 = dict( (word, cfd[word].max()) for (word, _) in fd.most_common(300) )\n",
    "print(nltk.UnigramTagger(model = likely_tags300).accuracy(tagged_sents))"
   ]
  },
  {
   "cell_type": "markdown",
   "id": "9fa3f88b",
   "metadata": {},
   "source": [
    "##### Lookup Tagger, likely_tags눈 무엇이며 장단점이 무엇일까?\n",
    "1. Lookup Tagger는 사전에 정의된 단어-품사 쌍을 사용하여 단어에 대한 품사 태깅을 수행하는 방법입니다. 이 방법은 미리 구축된 사전을 통해 각 단어에 대해 정확한 품사를 할당합니다.\n",
    "\n",
    "- 장점:\n",
    "\n",
    "    - 빠르고 간단하게 구현할 수 있습니다. Lookup Tagger는 단어와 품사 사전만으로 동작하기 때문에 모델 구축에 드는 시간과 노력을 크게 줄일 수 있습니다.\n",
    "\n",
    "    - 정확한 품사 태깅을 제공할 수 있습니다. 미리 정의된 사전을 사용하기 때문에, 각 단어에 대한 품사 할당이 사전에 정확하게 기록되어 있을 경우, 해당 단어에 대해 정확한 품사 태깅을 수행할 수 있습니다.\n",
    "\n",
    "    - Out-of-vocabulary(OOV) 단어를 처리할 수 있습니다. 사전에 없는 단어에 대해서는 일반적으로 \"UNK\"와 같은 특수한 품사 태그를 할당하여 처리할 수 있습니다.\n",
    "\n",
    "- 단점:\n",
    "\n",
    "    - 문맥을 고려하지 않습니다. Lookup Tagger는 단어 자체에 기반하여 품사를 할당하기 때문에 문맥을 고려하지 않습니다. 따라서 문맥에 따라 단어의 품사가 달라질 수 있는 경우에는 정확한 태깅을 수행할 수 없습니다.\n",
    "\n",
    "    - 다의어 처리가 제한적입니다. Lookup Tagger는 단어의 다의성을 고려하지 않으며, 단어에 고정된 품사 태그를 할당합니다. 따라서 한 단어가 여러 가지 품사로 사용되는 경우에는 해당 단어의 다의성을 제대로 처리할 수 없습니다.\n",
    "\n",
    "    - 사전 구축이 필요합니다. Lookup Tagger를 사용하기 위해서는 사전에 단어와 품사 쌍을 미리 수작업으로 구축해야 합니다. 대규모 사전을 구축하는 경우에는 관리와 업데이트에 일정한 비용과 노력이 필요합니다.\n",
    "\n",
    "2. \"likely_tags\"는 제시된 문맥에서 특정 단어에 대해 가능성이 높은 품사 태그를 예측하는 작업을 수행하는 함수나 메서드를 나타냅니다. 이는 언어 모델을 기반으로 단어와 문맥의 통계적 정보를 활용하여 품사 태깅을 수행합니다.\n",
    "\n",
    "- 장점과 단점은 \"likely_tags\"의 구현 방식에 따라 다를 수 있지만, 일반적으로 언어 모델을 활용하여 문맥을 고려한 품사 태깅이 가능하다는 장점이 있습니다. 하지만 훈련 데이터에 의존하므로 데이터의 다양성과 품질에 따라 예측 성능이 달라질 수 있으며, 모델 구축과 훈련에 시간과 계산 리소스가 필요한 단점이 있습니다. 또한, OOV 단어나 드물게 등장하는 단어에 대한 태깅이 제한될 수 있습니다."
   ]
  },
  {
   "cell_type": "markdown",
   "id": "4c05ac67",
   "metadata": {},
   "source": [
    "##### Unigram Tagger\n",
    "- lookup tagger : 미리구축한 고빈도 사전 이용(대체로 고빈도 어휘 대상)\n",
    "- unigram tagger : 학습(training) 수행, 모든 어휘에 대해 어휘별 가장 높은 확률의 태그 할당"
   ]
  },
  {
   "cell_type": "code",
   "execution_count": 89,
   "id": "c2fc3acd",
   "metadata": {
    "ExecuteTime": {
     "end_time": "2023-06-19T11:17:50.785969Z",
     "start_time": "2023-06-19T11:17:49.262045Z"
    }
   },
   "outputs": [
    {
     "name": "stdout",
     "output_type": "stream",
     "text": [
      "[('Various', 'JJ'), ('of', 'IN'), ('the', 'AT'), ('apartments', 'NNS'), ('are', 'BER'), ('of', 'IN'), ('the', 'AT'), ('terrace', 'NN'), ('type', 'NN'), (',', ','), ('being', 'BEG'), ('on', 'IN'), ('the', 'AT'), ('ground', 'NN'), ('floor', 'NN'), ('so', 'QL'), ('that', 'CS'), ('entrance', 'NN'), ('is', 'BEZ'), ('direct', 'JJ'), ('.', '.')]\n"
     ]
    },
    {
     "data": {
      "text/plain": [
       "0.9349006503968017"
      ]
     },
     "metadata": {},
     "output_type": "display_data"
    }
   ],
   "source": [
    "import nltk\n",
    "from nltk.corpus import brown\n",
    "brown_tagged_sents = brown.tagged_sents(categories = 'news')\n",
    "brown_sents = brown.sents(categories = 'news')\n",
    "unigram_tagger = nltk.UnigramTagger(brown_tagged_sents)\n",
    "\n",
    "print(unigram_tagger.tag(brown_sents[2007]))\n",
    "display(unigram_tagger.accuracy(brown_tagged_sents))"
   ]
  },
  {
   "cell_type": "code",
   "execution_count": 90,
   "id": "b268ce3b",
   "metadata": {
    "ExecuteTime": {
     "end_time": "2023-06-19T11:17:51.833209Z",
     "start_time": "2023-06-19T11:17:50.787965Z"
    }
   },
   "outputs": [
    {
     "name": "stdout",
     "output_type": "stream",
     "text": [
      "4160\n"
     ]
    },
    {
     "data": {
      "text/plain": [
       "0.8121200039868434"
      ]
     },
     "metadata": {},
     "output_type": "display_data"
    },
    {
     "name": "stdout",
     "output_type": "stream",
     "text": [
      "[('The', 'AT'), ('population', 'NN'), ('of', 'IN'), ('the', 'AT'), ('Congo', 'NP'), ('is', 'BEZ'), ('13.5', None), ('million', 'CD'), (',', ','), ('divided', 'VBN'), ('into', 'IN'), ('at', 'IN'), ('least', 'AP'), ('seven', 'CD'), ('major', 'JJ'), ('``', '``'), ('culture', None), ('clusters', 'NNS'), (\"''\", \"''\"), ('and', 'CC'), ('innumerable', None), ('tribes', None), ('speaking', 'VBG'), ('400', 'CD'), ('separate', 'JJ'), ('dialects', None), ('.', '.')]\n"
     ]
    }
   ],
   "source": [
    "# Training data VS test data\n",
    "size = int(len(brown_tagged_sents) * 0.9)\n",
    "print(size)\n",
    "\n",
    "train_sents = brown_tagged_sents[:size]\n",
    "test_sents = brown_tagged_sents[size:]\n",
    "\n",
    "unigram_tagger = nltk.UnigramTagger(train_sents)\n",
    "display(unigram_tagger.accuracy(test_sents))\n",
    "\n",
    "unseen_sent = brown_sents[4203]\n",
    "unigram_tagger = nltk.UnigramTagger(train_sents)\n",
    "print(unigram_tagger.tag(unseen_sent))"
   ]
  },
  {
   "cell_type": "markdown",
   "id": "422964a1",
   "metadata": {},
   "source": [
    "##### N-gram Tagger"
   ]
  },
  {
   "cell_type": "code",
   "execution_count": 91,
   "id": "9210b103",
   "metadata": {
    "ExecuteTime": {
     "end_time": "2023-06-19T11:17:53.613724Z",
     "start_time": "2023-06-19T11:17:51.834166Z"
    }
   },
   "outputs": [
    {
     "name": "stdout",
     "output_type": "stream",
     "text": [
      "[('The', 'AT'), ('population', 'NN'), ('of', 'IN'), ('the', 'AT'), ('Congo', 'NP'), ('is', 'BEZ'), ('13.5', None), ('million', 'CD'), (',', ','), ('divided', 'VBN'), ('into', 'IN'), ('at', 'IN'), ('least', 'AP'), ('seven', 'CD'), ('major', 'JJ'), ('``', '``'), ('culture', None), ('clusters', 'NNS'), (\"''\", \"''\"), ('and', 'CC'), ('innumerable', None), ('tribes', None), ('speaking', 'VBG'), ('400', 'CD'), ('separate', 'JJ'), ('dialects', None), ('.', '.')] \n",
      "\n",
      "[('The', 'AT'), ('population', 'NN'), ('of', 'IN'), ('the', 'AT'), ('Congo', 'NP'), ('is', 'BEZ'), ('13.5', None), ('million', None), (',', None), ('divided', None), ('into', None), ('at', None), ('least', None), ('seven', None), ('major', None), ('``', None), ('culture', None), ('clusters', None), (\"''\", None), ('and', None), ('innumerable', None), ('tribes', None), ('speaking', None), ('400', None), ('separate', None), ('dialects', None), ('.', None)] \n",
      "\n",
      "[('The', 'AT'), ('population', None), ('of', None), ('the', None), ('Congo', None), ('is', None), ('13.5', None), ('million', None), (',', None), ('divided', None), ('into', None), ('at', None), ('least', None), ('seven', None), ('major', None), ('``', None), ('culture', None), ('clusters', None), (\"''\", None), ('and', None), ('innumerable', None), ('tribes', None), ('speaking', None), ('400', None), ('separate', None), ('dialects', None), ('.', None)] \n",
      "\n"
     ]
    }
   ],
   "source": [
    "# 아래의 코드들에 None이 많이 보인다 uni -> Tri로 갈수록 None(태깅할 수 없음)이 많아짐 왜?????\n",
    "\n",
    "# uni-gram\n",
    "unseen_sent = brown_sents[4203]\n",
    "unigram_tagger = nltk.UnigramTagger(train_sents)\n",
    "print(unigram_tagger.tag(unseen_sent), '\\n') \n",
    "\n",
    "# bi-gram\n",
    "unseen_sent = brown_sents[4203]\n",
    "bigram_tagger = nltk.BigramTagger(train_sents)\n",
    "print(bigram_tagger.tag(unseen_sent), '\\n') \n",
    "\n",
    "# tri-gram\n",
    "unseen_sent = brown_sents[4203]\n",
    "trigram_tagger = nltk.TrigramTagger(train_sents)\n",
    "print(trigram_tagger.tag(unseen_sent), '\\n') "
   ]
  },
  {
   "cell_type": "code",
   "execution_count": 92,
   "id": "50283ad4",
   "metadata": {
    "ExecuteTime": {
     "end_time": "2023-06-19T11:17:53.823430Z",
     "start_time": "2023-06-19T11:17:53.615911Z"
    }
   },
   "outputs": [
    {
     "name": "stdout",
     "output_type": "stream",
     "text": [
      "0.8121200039868434\n",
      "0.10206319146815508\n",
      "0.0626931127279976\n"
     ]
    }
   ],
   "source": [
    "# tri로 갈수록 정확도 많고 None이 많아짐\n",
    "\n",
    "print(unigram_tagger.accuracy(test_sents))\n",
    "print(bigram_tagger.accuracy(test_sents))\n",
    "print(trigram_tagger.accuracy(test_sents))"
   ]
  },
  {
   "cell_type": "markdown",
   "id": "4998fbaf",
   "metadata": {
    "ExecuteTime": {
     "end_time": "2023-06-13T07:43:29.754140Z",
     "start_time": "2023-06-13T07:43:29.739181Z"
    }
   },
   "source": [
    "이러한 상황이 발생할 수 있는 몇 가지 이유는 다음과 같습니다:\n",
    "\n",
    "1. 훈련 데이터 부족: Trigram 모델은 이전 두 단어의 조합을 고려하기 때문에 충분한 훈련 데이터가 필요합니다. 만약 훈련 데이터가 부족하거나 다양한 문맥을 반영하지 못한 경우, 모델이 None 타입을 반환할 수 있습니다.\n",
    "\n",
    "2. Out-of-vocabulary(OOV) 단어: Trigram 모델에 존재하지 않는 단어가 입력으로 들어오면, 모델은 해당 단어를 처리할 수 없고 None 타입을 반환할 수 있습니다. 이는 훈련 데이터에 없는 단어 또는 희귀한 단어에 대해 발생할 수 있습니다.\n",
    "\n",
    "3. 문맥 부족: Trigram 모델은 이전 두 단어의 조합을 고려하기 때문에, 입력 문장의 길이가 짧거나 문맥이 부족한 경우 None 타입을 반환할 수 있습니다.\n",
    "\n",
    "4. 모호한 문장: 문장 내에 다의어나 모호성이 있는 구조가 있는 경우, Trigram 모델이 정확한 예측을 하기 어려울 수 있고 None 타입을 반환할 수 있습니다."
   ]
  },
  {
   "cell_type": "markdown",
   "id": "0c530a3c",
   "metadata": {},
   "source": [
    "Unigram, Bigram 및 Trigram은 언어 모델링에서 사용되는 n-gram 언어 모델의 변형입니다.\n",
    "\n",
    "- 장점:\n",
    "\n",
    "    - 문맥을 더 잘 파악할 수 있습니다. Unigram은 단어 간의 문맥을 고려하지 않고 개별 단어에만 집중합니다. 그러나 Bigram은 현재 단어와 이전 단어의 조합을 고려하며, Trigram은 현재 단어와 이전 두 단어의 조합을 고려합니다. 이로 인해 Bigram과 Trigram은 문맥 정보를 더 잘 파악하고 문장의 자연스러움을 표현할 수 있습니다.\n",
    "\n",
    "    - 더 정확한 예측이 가능합니다. 문맥 정보를 고려하는 Bigram과 Trigram은 단어 예측이 더 정확해질 수 있습니다. 이전 단어의 영향을 받는 Unigram에 비해 문맥 정보를 더 많이 활용하기 때문입니다.\n",
    "\n",
    "각각을 어떻게 활용해야 할까요?\n",
    "\n",
    "- Unigram: 간단한 언어 모델링이나 기본적인 텍스트 처리 작업에 적합합니다. 문맥 정보가 필요 없는 단순한 작업이나 데이터가 적은 경우에 유용할 수 있습니다.\n",
    "\n",
    "- Bigram: 문맥을 고려한 언어 모델링, 품사 태깅, 기계 번역 등 다양한 자연어 처리 작업에 적합합니다. 이전 단어의 영향을 고려하면서도 모델의 복잡성을 낮추는 장점이 있습니다.\n",
    "\n",
    "- Trigram: 더 정교한 언어 모델링이 필요한 경우에 사용됩니다. 문맥 정보를 더 많이 고려하므로 문장 생성, 텍스트 생성, 대화 시스템 등에서 활용할 수 있습니다. 하지만 데이터 양이 많거나 모델의 복잡성이 상승할 수 있으므로, 데이터와 계산 리소스의 제약을 고려해야 합니다.\n",
    "\n",
    "일반적으로 Bigram과 Trigram은 Unigram에 비해 더 정확한 예측과 더 자연스러운 문장 생성을 가능하게 합니다. 하지만 모델의 복잡성과 데이터 양, 계산 리소스 등을 고려하여 적절한 n-gram 모델을 선택하고 활용해야 합니다."
   ]
  },
  {
   "cell_type": "markdown",
   "id": "0ffb9af5",
   "metadata": {},
   "source": [
    "##### Combining Tagger\n",
    "- n-gram tagger를 이용한 Combining Tagger 활용 예시\n",
    "1. tri가 분석할 수 없으면 bi사용\n",
    "2. bi가 분석할 수 없으면 uni 사용\n",
    "3. uni가 분석할 수 없다면 default tagger사용"
   ]
  },
  {
   "cell_type": "code",
   "execution_count": 93,
   "id": "38f197d7",
   "metadata": {
    "ExecuteTime": {
     "end_time": "2023-06-19T11:17:58.058249Z",
     "start_time": "2023-06-19T11:17:53.829723Z"
    }
   },
   "outputs": [
    {
     "data": {
      "text/plain": [
       "0.131405972094873"
      ]
     },
     "metadata": {},
     "output_type": "display_data"
    },
    {
     "data": {
      "text/plain": [
       "0.9353630649241612"
      ]
     },
     "metadata": {},
     "output_type": "display_data"
    },
    {
     "data": {
      "text/plain": [
       "0.9736193811380784"
      ]
     },
     "metadata": {},
     "output_type": "display_data"
    },
    {
     "data": {
      "text/plain": [
       "0.9829321372941086"
      ]
     },
     "metadata": {},
     "output_type": "display_data"
    }
   ],
   "source": [
    "t0 = nltk.DefaultTagger('NN')\n",
    "t1 = nltk.UnigramTagger(train_sents, backoff = t0)\n",
    "t2 = nltk.BigramTagger(train_sents, backoff = t1)\n",
    "t3 = nltk.TrigramTagger(train_sents, backoff = t2)\n",
    "\n",
    "display(t0.accuracy(train_sents))\n",
    "display(t1.accuracy(train_sents))\n",
    "display(t2.accuracy(train_sents))\n",
    "display(t3.accuracy(train_sents))"
   ]
  },
  {
   "cell_type": "markdown",
   "id": "14fb778b",
   "metadata": {},
   "source": [
    "\"cutoff\" 값을 설정하여 등장 빈도가 \"cutoff\" 값 이하인 단어를 제외합니다. \n",
    "- 어휘 크기를 줄이고 모델의 복잡성을 감소시킬 수 있습니다"
   ]
  },
  {
   "cell_type": "code",
   "execution_count": 94,
   "id": "939e5502",
   "metadata": {
    "ExecuteTime": {
     "end_time": "2023-06-19T11:18:03.818424Z",
     "start_time": "2023-06-19T11:17:58.065273Z"
    }
   },
   "outputs": [
    {
     "data": {
      "text/plain": [
       "0.9759613791274953"
      ]
     },
     "metadata": {},
     "output_type": "display_data"
    },
    {
     "data": {
      "text/plain": [
       "0.9750002761790082"
      ]
     },
     "metadata": {},
     "output_type": "display_data"
    },
    {
     "data": {
      "text/plain": [
       "0.9747020028501674"
      ]
     },
     "metadata": {},
     "output_type": "display_data"
    },
    {
     "data": {
      "text/plain": [
       "0.9744700124832911"
      ]
     },
     "metadata": {},
     "output_type": "display_data"
    }
   ],
   "source": [
    "# cutoff 빈도 1이하 어휘 제외\n",
    "t3 = nltk.TrigramTagger(train_sents, backoff = t2, cutoff= 1)\n",
    "display(t3.accuracy(train_sents))\n",
    "\n",
    "# cutoff 빈도 2이하 어휘 제외\n",
    "t3 = nltk.TrigramTagger(train_sents, backoff = t2, cutoff= 2)\n",
    "display(t3.accuracy(train_sents))\n",
    "\n",
    "# cutoff 빈도 3이하 어휘 제외\n",
    "t3 = nltk.TrigramTagger(train_sents, backoff = t2, cutoff= 3)\n",
    "display(t3.accuracy(train_sents))\n",
    "\n",
    "# cutoff 빈도 4이하 어휘 제외\n",
    "t3 = nltk.TrigramTagger(train_sents, backoff = t2, cutoff= 4)\n",
    "display(t3.accuracy(train_sents))"
   ]
  },
  {
   "cell_type": "code",
   "execution_count": 95,
   "id": "1b964023",
   "metadata": {
    "ExecuteTime": {
     "end_time": "2023-06-19T11:18:03.923933Z",
     "start_time": "2023-06-19T11:18:03.820606Z"
    }
   },
   "outputs": [
    {
     "data": {
      "text/plain": [
       "0.8440147513206419"
      ]
     },
     "execution_count": 95,
     "metadata": {},
     "output_type": "execute_result"
    }
   ],
   "source": [
    "# 태거 저장 및 불러오기\n",
    "import pickle\n",
    "\n",
    "pickle.dump(t3, open('t3.pkl','wb'))\n",
    "my_tagger = pickle.load(open('t3.pkl','rb'))\n",
    "my_tagger.accuracy(test_sents)"
   ]
  },
  {
   "cell_type": "code",
   "execution_count": 96,
   "id": "3f655765",
   "metadata": {
    "ExecuteTime": {
     "end_time": "2023-06-19T11:18:03.938970Z",
     "start_time": "2023-06-19T11:18:03.925936Z"
    }
   },
   "outputs": [
    {
     "name": "stdout",
     "output_type": "stream",
     "text": [
      "[('The', 'AT'), ('board', 'NN'), (\"'s\", 'NN'), ('action', 'NN'), ('shows', 'NNS'), ('what', 'WDT'), ('free', 'JJ'), ('enterprise', 'NN'), ('is', 'BEZ'), ('up', 'RP'), ('against', 'IN'), ('in', 'IN'), ('out', 'IN'), ('complex', 'JJ'), ('maze', 'NN'), ('of', 'IN'), ('regulatory', 'NN'), ('laws', 'NNS'), ('.', '.')]\n"
     ]
    }
   ],
   "source": [
    "text = \"\"\"The board's action shows what free enterprise \n",
    "        is up against in out complex maze of regulatory laws.\"\"\"\n",
    "tokens = nltk.word_tokenize(text)\n",
    "print(my_tagger.tag(tokens))"
   ]
  },
  {
   "cell_type": "markdown",
   "id": "f43ada97",
   "metadata": {},
   "source": [
    "## 한국어처리\n",
    "- 시험에 거의 안나오게 됨 : 심도 있게 공부할 필요 XXXXXX"
   ]
  },
  {
   "cell_type": "code",
   "execution_count": 97,
   "id": "a4d31cba",
   "metadata": {
    "ExecuteTime": {
     "end_time": "2023-06-19T11:18:20.218887Z",
     "start_time": "2023-06-19T11:18:03.944080Z"
    }
   },
   "outputs": [
    {
     "name": "stdout",
     "output_type": "stream",
     "text": [
      "['명사', '추출', '한국어', '형태소', '분석'] \n",
      "\n",
      "[('한국어', 'NNG'), ('형태소', 'NNG'), ('를', 'JKO'), ('분석', 'NNG'), ('하', 'XSV'), ('ㅂ니다', 'EFN')] \n",
      "\n",
      "['한국어', '형태소', '를', '분석', '하', 'ㅂ니다'] \n",
      "\n",
      "--------------------------------------------------\n",
      "['문장을 분리합니다.', '그러나 완벽하지 않습니다'] \n",
      "\n",
      "['문장을 분리합니다', '그러나 완벽하지 않습니다'] \n",
      "\n",
      "['문장을 분리해요.', '그러나 완벽하지 않습니다'] \n",
      "\n",
      "['문장을 분리 해요 그러나 완벽하지 않습니다'] \n",
      "\n"
     ]
    }
   ],
   "source": [
    "# 꼬꼬마 \n",
    "from konlpy.tag import Kkma\n",
    "kkma = Kkma()\n",
    "print(kkma.nouns('명사만을 추출하여 한국어 형태소를 분석합니다'), \"\\n\")\n",
    "print(kkma.pos('한국어 형태소를 분석합니다'), \"\\n\")\n",
    "print(kkma.morphs('한국어 형태소를 분석합니다'), \"\\n\")\n",
    "\n",
    "print(\"-\"*50)\n",
    "print(kkma.sentences('문장을 분리합니다. 그러나 완벽하지 않습니다'), \"\\n\")\n",
    "print(kkma.sentences('문장을 분리합니다 그러나 완벽하지 않습니다'), \"\\n\")\n",
    "print(kkma.sentences('문장을 분리해요. 그러나 완벽하지 않습니다'), \"\\n\")\n",
    "print(kkma.sentences('문장을 분리해요 그러나 완벽하지 않습니다'), \"\\n\") #이거는 한 문장으로 알아먹음ㅁ"
   ]
  },
  {
   "cell_type": "code",
   "execution_count": 98,
   "id": "a6053d4a",
   "metadata": {
    "ExecuteTime": {
     "end_time": "2023-06-19T11:18:22.001204Z",
     "start_time": "2023-06-19T11:18:20.222878Z"
    }
   },
   "outputs": [
    {
     "name": "stdout",
     "output_type": "stream",
     "text": [
      "429\n",
      "[('북미', 'NNG'), ('양국', 'NNG'), ('이', 'JKS'), ('3', 'NR'), ('일', 'NNM'), ('오후', 'NNG'), ('판문점', 'NNG'), ('에서', 'JKM'), ('12', 'NR'), ('일', 'NNM')]\n"
     ]
    }
   ],
   "source": [
    "import os\n",
    "from konlpy.tag import Kkma\n",
    "kkma = Kkma()\n",
    "a = os.getcwd()\n",
    "b = os.listdir('./05_data')\n",
    "tagged = [ j for i in b for j in kkma.pos(open('/'.join([a, '05_data', i]), encoding = 'utf-8').read()) ]\n",
    "print(len(tagged))\n",
    "print(tagged[:10])"
   ]
  },
  {
   "cell_type": "code",
   "execution_count": 99,
   "id": "ca070b9d",
   "metadata": {
    "ExecuteTime": {
     "end_time": "2023-06-19T11:18:22.031634Z",
     "start_time": "2023-06-19T11:18:22.007700Z"
    }
   },
   "outputs": [
    {
     "name": "stdout",
     "output_type": "stream",
     "text": [
      "49\n",
      "65\n",
      "12593\n",
      "12623\n",
      "44032\n",
      "44059\n",
      "--------------------------------------------------\n",
      "1\n",
      "A\n",
      "ㄱ\n",
      "ㅏ\n",
      "가\n",
      "갛\n",
      "--------------------------------------------------\n",
      "90\n",
      "97\n",
      "['[', '\\\\', ']', '^', '_', '`']\n"
     ]
    }
   ],
   "source": [
    "# ord함수 : 문자코드 십진수 출력\n",
    "print(ord('1')) # ㅐord(1) -> 이건 에러, ord('10') -> 이것은 두글자라 에러(한글자만 넣어야함)\n",
    "print(ord('A'))\n",
    "print(ord('ㄱ'))\n",
    "print(ord('ㅏ'))\n",
    "print(ord('가'))\n",
    "print(ord('갛'))\n",
    "print('-'*50)\n",
    "\n",
    "# 함수 chr : 십진수 문자코드를 문자로 출력\n",
    "print(chr(49))\n",
    "print(chr(65))\n",
    "print(chr(12593))\n",
    "print(chr(12623))\n",
    "print(chr(44032))\n",
    "print(chr(44059))\n",
    "print('-'*50)\n",
    "\n",
    "\n",
    "# 영어 대문자와 소문자 코드사이 문장부호\n",
    "print(ord('Z')) ; print(ord('a'))\n",
    "print([ chr(i) for i in range(91,97) ])\n"
   ]
  },
  {
   "cell_type": "code",
   "execution_count": 100,
   "id": "2c051794",
   "metadata": {
    "ExecuteTime": {
     "end_time": "2023-06-19T11:18:22.061761Z",
     "start_time": "2023-06-19T11:18:22.036626Z"
    }
   },
   "outputs": [
    {
     "name": "stdout",
     "output_type": "stream",
     "text": [
      "['ㄱ', 'ㅏ', 'ㅁ']\n",
      "감\n",
      "--------------------------------------------------\n"
     ]
    },
    {
     "data": {
      "text/plain": [
       "[['ㄱ', 'ㅏ', ''],\n",
       " ['ㄷ', 'ㅏ', 'ㄳ'],\n",
       " ['ㄷ', 'ㅏ', 'ㅇ'],\n",
       " ['ㄴ', 'ㅏ', ''],\n",
       " ['ㄱ', 'ㅟ', ''],\n",
       " ['ㅎ', 'ㅏ', 'ㅌ']]"
      ]
     },
     "metadata": {},
     "output_type": "display_data"
    },
    {
     "data": {
      "text/plain": [
       "['가', '닧', '당', '나', '귀', '핱']"
      ]
     },
     "metadata": {},
     "output_type": "display_data"
    }
   ],
   "source": [
    "# 한글 음절 및 자소처리 모듈\n",
    "import Hangul\n",
    "print(Hangul.syllable2jaso('감'))\n",
    "print(Hangul.jaso2syllable('ㄱ','ㅏ','ㅁ'))\n",
    "print('-'*50)\n",
    "\n",
    "display([Hangul.syllable2jaso(i) for i in '가닧당나귀핱'])\n",
    "display([Hangul.jaso2syllable(*i) for i in [['ㄱ', 'ㅏ', ''],['ㄷ', 'ㅏ', 'ㄳ'], ['ㄷ', 'ㅏ', 'ㅇ'],\n",
    "                                            ['ㄴ', 'ㅏ', ''], ['ㄱ', 'ㅟ', ''],['ㅎ', 'ㅏ', 'ㅌ']]])"
   ]
  },
  {
   "cell_type": "markdown",
   "id": "f4ee6422",
   "metadata": {
    "ExecuteTime": {
     "end_time": "2023-06-13T06:06:20.210934Z",
     "start_time": "2023-06-13T06:06:20.210934Z"
    }
   },
   "source": [
    "연습문제 1"
   ]
  },
  {
   "cell_type": "code",
   "execution_count": 101,
   "id": "457d52a8",
   "metadata": {
    "ExecuteTime": {
     "end_time": "2023-06-19T11:18:22.076547Z",
     "start_time": "2023-06-19T11:18:22.063552Z"
    }
   },
   "outputs": [
    {
     "name": "stdout",
     "output_type": "stream",
     "text": [
      "학교가 학교가 강당을 강당을 학교는 학교는 강당은 강당은 "
     ]
    }
   ],
   "source": [
    "def test(a,b):\n",
    "    initial = Hangul.syllable2jaso(b)[0]\n",
    "    final = Hangul.syllable2jaso(a[-1])[-1]\n",
    "    josa = { '이':'가' , '가':'이' , '을':'를' , '를':'을' , '은':'는' , '는':'은'}\n",
    "    if final != '' and initial != 'ㅇ': return a + josa [b]\n",
    "    elif final == '' and initial == 'ㅇ': return a + josa [b]\n",
    "    else : return a + b\n",
    "print(test('학교','가'), end = ' ')\n",
    "print(test('학교','이'), end = ' ')\n",
    "print(test('강당','을'), end = ' ')\n",
    "print(test('강당','를'), end = ' ')\n",
    "print(test('학교','은'), end = ' ')\n",
    "print(test('학교','는'), end = ' ')\n",
    "print(test('강당','은'), end = ' ')\n",
    "print(test('강당','는'), end = ' ')"
   ]
  },
  {
   "cell_type": "markdown",
   "id": "f5b099be",
   "metadata": {},
   "source": [
    "## NLTK_분류"
   ]
  },
  {
   "cell_type": "code",
   "execution_count": 102,
   "id": "792ee55e",
   "metadata": {
    "ExecuteTime": {
     "end_time": "2023-06-19T11:18:22.106206Z",
     "start_time": "2023-06-19T11:18:22.079402Z"
    }
   },
   "outputs": [
    {
     "data": {
      "text/plain": [
       "['female.txt', 'male.txt']"
      ]
     },
     "metadata": {},
     "output_type": "display_data"
    },
    {
     "name": "stdout",
     "output_type": "stream",
     "text": [
      "['Abagael', 'Abagail', 'Abbe', 'Abbey', 'Abbi']\n",
      "5001\n",
      "\n",
      "['Aamir', 'Aaron', 'Abbey', 'Abbie', 'Abbot']\n",
      "2943\n"
     ]
    }
   ],
   "source": [
    "# name corpus\n",
    "import nltk\n",
    "from nltk.corpus import names\n",
    "display(names.fileids())\n",
    "\n",
    "print(names.words('female.txt')[:5])\n",
    "print(len(names.words('female.txt')))\n",
    "print()\n",
    "print(names.words('male.txt')[:5])\n",
    "print(len(names.words('male.txt')))"
   ]
  },
  {
   "cell_type": "code",
   "execution_count": 103,
   "id": "6712b1bb",
   "metadata": {
    "ExecuteTime": {
     "end_time": "2023-06-19T11:18:22.135951Z",
     "start_time": "2023-06-19T11:18:22.107989Z"
    }
   },
   "outputs": [
    {
     "name": "stdout",
     "output_type": "stream",
     "text": [
      "[('Aamir', 'male'), ('Ada', 'female'), ('Adolfo', 'male'), ('Agatha', 'female'), ('Ailina', 'female'), ('Albertine', 'female'), ('Alex', 'male'), ('Alicia', 'female'), ('Allison', 'female'), ('Alvina', 'female'), ('Amber', 'female'), ('Anallese', 'female'), ('Andriana', 'female'), ('Angie', 'male'), ('Annalisa', 'female'), ('Anson', 'male'), ('Aprilette', 'female'), ('Arel', 'male'), ('Arlyn', 'female'), ('Ashley', 'female'), ('Audrey', 'female'), ('Austin', 'male'), ('Babs', 'female'), ('Barnabas', 'male'), ('Bartlett', 'male'), ('Beck', 'male'), ('Bengt', 'male'), ('Berna', 'female'), ('Berti', 'female'), ('Bettye', 'female'), ('Bishop', 'male'), ('Bob', 'male'), ('Brande', 'female'), ('Brianna', 'female')] \n",
      "\n",
      "[('Tod', 'male'), ('Katina', 'female'), ('Kelsey', 'male'), ('Antoni', 'male'), ('Nestor', 'male'), ('Jasmina', 'female'), ('Hal', 'male'), ('Abby', 'male'), ('Viv', 'female'), ('Tawsha', 'female'), ('Debbra', 'female'), ('Annelise', 'female'), ('Weidar', 'male'), ('Gertrud', 'female'), ('Julie', 'female'), ('Reginauld', 'male'), ('Dosi', 'female'), ('Cassaundra', 'female'), ('Veradis', 'female'), ('Aamir', 'male')] \n",
      "\n"
     ]
    },
    {
     "data": {
      "text/plain": [
       "[({'last_letter': 'd'}, 'male'),\n",
       " ({'last_letter': 'a'}, 'female'),\n",
       " ({'last_letter': 'y'}, 'male'),\n",
       " ({'last_letter': 'i'}, 'male'),\n",
       " ({'last_letter': 'r'}, 'male')]"
      ]
     },
     "metadata": {},
     "output_type": "display_data"
    }
   ],
   "source": [
    "# Gender Identification : 성별 분류\n",
    "labeled_names = [(name, file.replace('.txt','')) \\\n",
    "                 for file in names.fileids() \\\n",
    "                 for name in names.words(file)]\n",
    "print(sorted(labeled_names)[0:1000:30], \"\\n\")\n",
    "\n",
    "# 랜덤하게 섞어 추출\n",
    "import random\n",
    "random.shuffle(labeled_names)\n",
    "print(labeled_names[:20], \"\\n\")\n",
    "\n",
    "# 이름 마지막 알파벳 feature만 추출\n",
    "features = [({'last_letter' : name[-1]}, gender) for (name, gender) in labeled_names]\n",
    "display(features[:5])"
   ]
  },
  {
   "cell_type": "code",
   "execution_count": 104,
   "id": "90303301",
   "metadata": {
    "ExecuteTime": {
     "end_time": "2023-06-19T11:18:22.180819Z",
     "start_time": "2023-06-19T11:18:22.137909Z"
    }
   },
   "outputs": [
    {
     "name": "stdout",
     "output_type": "stream",
     "text": [
      "test 정확도 : 0.744 \n",
      "\n",
      "Most Informative Features\n",
      "             last_letter = 'a'            female : male   =     34.3 : 1.0\n",
      "             last_letter = 'k'              male : female =     30.5 : 1.0\n",
      "             last_letter = 'v'              male : female =     18.8 : 1.0\n",
      "             last_letter = 'f'              male : female =     16.1 : 1.0\n",
      "             last_letter = 'p'              male : female =     12.0 : 1.0\n",
      "             last_letter = 'd'              male : female =     10.5 : 1.0\n",
      "             last_letter = 'm'              male : female =      9.1 : 1.0\n",
      "             last_letter = 'o'              male : female =      8.1 : 1.0\n",
      "             last_letter = 'r'              male : female =      7.1 : 1.0\n",
      "             last_letter = 'w'              male : female =      5.1 : 1.0\n"
     ]
    },
    {
     "data": {
      "text/plain": [
       "'female'"
      ]
     },
     "metadata": {},
     "output_type": "display_data"
    },
    {
     "data": {
      "text/plain": [
       "'male'"
      ]
     },
     "metadata": {},
     "output_type": "display_data"
    },
    {
     "data": {
      "text/plain": [
       "'male'"
      ]
     },
     "metadata": {},
     "output_type": "display_data"
    },
    {
     "data": {
      "text/plain": [
       "'female'"
      ]
     },
     "metadata": {},
     "output_type": "display_data"
    }
   ],
   "source": [
    "train_set, test_set = features[500:], features[:500]\n",
    "classifier = nltk.NaiveBayesClassifier.train(train_set)\n",
    "print(\"test 정확도 :\", nltk.classify.accuracy(classifier, test_set), \"\\n\")\n",
    "\n",
    "# likelihood ratio 가능도비/우도비 => feature 영향력\n",
    "classifier.show_most_informative_features(10)\n",
    "\n",
    "# prediction\n",
    "display(classifier.classify({'last_letter':'a'}))\n",
    "display(classifier.classify({'last_letter':'b'}))\n",
    "display(classifier.classify({'last_letter':'c'}))\n",
    "display(classifier.classify({'last_letter':'e'}))"
   ]
  },
  {
   "cell_type": "code",
   "execution_count": 105,
   "id": "dad69741",
   "metadata": {
    "ExecuteTime": {
     "end_time": "2023-06-19T11:18:22.285693Z",
     "start_time": "2023-06-19T11:18:22.186848Z"
    }
   },
   "outputs": [
    {
     "name": "stdout",
     "output_type": "stream",
     "text": [
      "test 정확도 : 0.7962264150943397 \n",
      "\n",
      "Most Informative Features\n",
      "             last_letter = 'a'            female : male   =     35.5 : 1.0\n",
      "             last_letter = 'k'              male : female =     28.8 : 1.0\n",
      "             last_letter = 'p'              male : female =     16.4 : 1.0\n",
      "             last_letter = 'f'              male : female =     15.3 : 1.0\n",
      "             last_letter = 'v'              male : female =      9.8 : 1.0\n",
      "             last_letter = 'd'              male : female =      9.4 : 1.0\n",
      "             last_letter = 'o'              male : female =      8.4 : 1.0\n",
      "             last_letter = 'm'              male : female =      8.1 : 1.0\n",
      "             last_letter = 'r'              male : female =      6.7 : 1.0\n",
      "             last_letter = 'w'              male : female =      5.8 : 1.0\n"
     ]
    },
    {
     "data": {
      "text/plain": [
       "'male'"
      ]
     },
     "metadata": {},
     "output_type": "display_data"
    },
    {
     "data": {
      "text/plain": [
       "'female'"
      ]
     },
     "metadata": {},
     "output_type": "display_data"
    },
    {
     "data": {
      "text/plain": [
       "'male'"
      ]
     },
     "metadata": {},
     "output_type": "display_data"
    },
    {
     "data": {
      "text/plain": [
       "'female'"
      ]
     },
     "metadata": {},
     "output_type": "display_data"
    }
   ],
   "source": [
    "# name 코퍼스 : 첫/마지막 철자, 이름 길이\n",
    "import nltk\n",
    "# labelling\n",
    "from nltk.corpus import names\n",
    "labeled_names = [(name, file.replace(\".txt\",'')) \\\n",
    "                  for file in names.fileids() \\\n",
    "                  for name in names.words(file)]\n",
    "\n",
    "# 랜덤 셔플\n",
    "random.shuffle(labeled_names)\n",
    "\n",
    "def gender_features1(name):\n",
    "    features = {}\n",
    "    features['name_length'] = len(name)\n",
    "    features[\"first_letter\"] = name[0].lower()\n",
    "    features['last_letter'] = name[-1].lower()\n",
    "    return features\n",
    "\n",
    "# feature extraction\n",
    "features = [(gender_features1(name), gender) for name, gender in labeled_names]\n",
    "\n",
    "# train set 추출\n",
    "size = int(len(features) * 0.9) # 기존과 다르게 추출\n",
    "train_set, test_set = features[:size], features[size:]\n",
    "classifier = nltk.NaiveBayesClassifier.train(train_set)\n",
    "print(\"test 정확도 :\", nltk.classify.accuracy(classifier, test_set), \"\\n\")  #앞셀 보다 상승\n",
    "\n",
    "classifier.show_most_informative_features()\n",
    "\n",
    "# prediction\n",
    "display(classifier.classify(gender_features1('John')))\n",
    "display(classifier.classify(gender_features1('Susie')))\n",
    "display(classifier.classify(gender_features1('Lewis')))\n",
    "display(classifier.classify(gender_features1('Stephanie')))"
   ]
  },
  {
   "cell_type": "markdown",
   "id": "0e001f2e",
   "metadata": {},
   "source": [
    "Choosing The Right Features\n",
    "- 좋은 모형을 만들기 위해\n",
    "    - 모형 개선을 위한 관련된/영향력 있는 자질 추출\n",
    "    - 이를 위한 효괒거 표상 및 처리 방법 고려\n",
    "- 관련 데이터에 대한 직관\n",
    "- 관련 데이타 분야에 대한 경험\n",
    "- 시행착오를 통한 관찰\n"
   ]
  },
  {
   "cell_type": "code",
   "execution_count": 106,
   "id": "e8de9ea1",
   "metadata": {
    "ExecuteTime": {
     "end_time": "2023-06-19T11:18:23.811940Z",
     "start_time": "2023-06-19T11:18:22.287698Z"
    }
   },
   "outputs": [
    {
     "name": "stdout",
     "output_type": "stream",
     "text": [
      "{'name_length': 4, 'first_letter': 'j', 'last_letter': 'n', 'count(a)': 0, 'has(a)': False, 'count(b)': 0, 'has(b)': False, 'count(c)': 0, 'has(c)': False, 'count(d)': 0, 'has(d)': False, 'count(e)': 0, 'has(e)': False, 'count(f)': 0, 'has(f)': False, 'count(g)': 0, 'has(g)': False, 'count(h)': 1, 'has(h)': True, 'count(i)': 0, 'has(i)': False, 'count(j)': 1, 'has(j)': True, 'count(k)': 0, 'has(k)': False, 'count(l)': 0, 'has(l)': False, 'count(m)': 0, 'has(m)': False, 'count(n)': 1, 'has(n)': True, 'count(o)': 1, 'has(o)': True, 'count(p)': 0, 'has(p)': False, 'count(q)': 0, 'has(q)': False, 'count(r)': 0, 'has(r)': False, 'count(s)': 0, 'has(s)': False, 'count(t)': 0, 'has(t)': False, 'count(u)': 0, 'has(u)': False, 'count(v)': 0, 'has(v)': False, 'count(w)': 0, 'has(w)': False, 'count(x)': 0, 'has(x)': False, 'count(y)': 0, 'has(y)': False, 'count(z)': 0, 'has(z)': False} \n",
      "\n",
      "test 정확도 : 0.7886792452830189\n",
      "Most Informative Features\n",
      "             last_letter = 'a'            female : male   =     35.5 : 1.0\n",
      "             last_letter = 'k'              male : female =     28.8 : 1.0\n",
      "             last_letter = 'p'              male : female =     16.4 : 1.0\n",
      "             last_letter = 'f'              male : female =     15.3 : 1.0\n",
      "             last_letter = 'v'              male : female =      9.8 : 1.0\n",
      "             last_letter = 'd'              male : female =      9.4 : 1.0\n",
      "             last_letter = 'o'              male : female =      8.4 : 1.0\n",
      "             last_letter = 'm'              male : female =      8.1 : 1.0\n",
      "             last_letter = 'r'              male : female =      6.7 : 1.0\n",
      "             last_letter = 'w'              male : female =      5.8 : 1.0\n"
     ]
    }
   ],
   "source": [
    "# 가능한 자질 추출 예\n",
    "def gender_features2(name):\n",
    "    features = {}\n",
    "    features['name_length'] = len(name)\n",
    "    features['first_letter'] = name[0].lower()\n",
    "    features['last_letter'] = name[-1].lower()\n",
    "    \n",
    "    for letter in 'abcdefghijklmnopqrstuvwxyz' :\n",
    "        features[f'count({letter})'] = name.lower().count(letter)\n",
    "        features[f'has({letter})'] = letter in name.lower()\n",
    "    return features\n",
    "\n",
    "print(gender_features2('John'), '\\n')\n",
    "\n",
    "features = [(gender_features2(name), gender) \\\n",
    "           for name, gender in labeled_names]\n",
    "size = int(len(features) * 0.9)\n",
    "train_set, test_set = features[:size], features[size:]\n",
    "classifier = nltk.NaiveBayesClassifier.train(train_set)\n",
    "print('test 정확도 :',nltk.classify.accuracy(classifier, test_set))\n",
    "\n",
    "classifier.show_most_informative_features()"
   ]
  },
  {
   "cell_type": "code",
   "execution_count": 107,
   "id": "77748770",
   "metadata": {
    "ExecuteTime": {
     "end_time": "2023-06-19T11:18:24.021650Z",
     "start_time": "2023-06-19T11:18:23.813948Z"
    }
   },
   "outputs": [
    {
     "name": "stdout",
     "output_type": "stream",
     "text": [
      "{'name_length': 4, 'first_letter': 'j', 'last_letter': 'n', 'count(a)': 0, 'has(a)': False, 'count(e)': 0, 'has(e)': False, 'count(i)': 0, 'has(i)': False, 'count(o)': 1, 'has(o)': True, 'count(u)': 0, 'has(u)': False} \n",
      "\n",
      "test 정확도 : 0.7811320754716982\n",
      "Most Informative Features\n",
      "             last_letter = 'a'            female : male   =     35.5 : 1.0\n",
      "             last_letter = 'k'              male : female =     28.8 : 1.0\n",
      "             last_letter = 'p'              male : female =     16.4 : 1.0\n",
      "             last_letter = 'f'              male : female =     15.3 : 1.0\n",
      "             last_letter = 'v'              male : female =      9.8 : 1.0\n",
      "             last_letter = 'd'              male : female =      9.4 : 1.0\n",
      "             last_letter = 'o'              male : female =      8.4 : 1.0\n",
      "             last_letter = 'm'              male : female =      8.1 : 1.0\n",
      "             last_letter = 'r'              male : female =      6.7 : 1.0\n",
      "             last_letter = 'w'              male : female =      5.8 : 1.0\n"
     ]
    }
   ],
   "source": [
    "# 가능한 자질 추출 예\n",
    "def gender_features3(name):\n",
    "    features = {}\n",
    "    features['name_length'] = len(name)\n",
    "    features['first_letter'] = name[0].lower()\n",
    "    features['last_letter'] = name[-1].lower()\n",
    "    \n",
    "    for letter in 'aeiou' :\n",
    "        features[f'count({letter})'] = name.lower().count(letter)\n",
    "        features[f'has({letter})'] = letter in name.lower()\n",
    "    return features\n",
    "\n",
    "print(gender_features3('John'), '\\n')\n",
    "\n",
    "features = [(gender_features3(name), gender) \\\n",
    "           for name, gender in labeled_names]\n",
    "size = int(len(features) * 0.9)\n",
    "train_set, test_set = features[:size], features[size:]\n",
    "classifier = nltk.NaiveBayesClassifier.train(train_set)\n",
    "print('test 정확도 :',nltk.classify.accuracy(classifier, test_set)) # 앞셀보다 감소....\n",
    "\n",
    "classifier.show_most_informative_features()"
   ]
  },
  {
   "cell_type": "markdown",
   "id": "61ea65e9",
   "metadata": {},
   "source": [
    "### 모형개선을 위한 development set = validation set"
   ]
  },
  {
   "cell_type": "code",
   "execution_count": 108,
   "id": "19f12a4f",
   "metadata": {
    "ExecuteTime": {
     "end_time": "2023-06-19T11:18:24.067074Z",
     "start_time": "2023-06-19T11:18:24.023669Z"
    }
   },
   "outputs": [
    {
     "name": "stdout",
     "output_type": "stream",
     "text": [
      "valid 정확도 : 0.757\n"
     ]
    }
   ],
   "source": [
    "def gender_features(word):\n",
    "    return {'last_letter':word[-1]}\n",
    "\n",
    "train_names = labeled_names[1500:]\n",
    "devtest_names = labeled_names[500:1500]\n",
    "test_names = labeled_names[:500]\n",
    "\n",
    "train_set = [(gender_features(n), gender) for (n, gender) in train_names]\n",
    "devtest_set = [(gender_features(n), gender) for (n, gender) in devtest_names]\n",
    "test_set = [(gender_features(n), gender) for (n, gender) in test_names]\n",
    "\n",
    "classifier = nltk.NaiveBayesClassifier.train(train_set)\n",
    "print(\"valid 정확도 :\",nltk.classify.accuracy(classifier, devtest_set))"
   ]
  },
  {
   "cell_type": "code",
   "execution_count": 109,
   "id": "45148a53",
   "metadata": {
    "ExecuteTime": {
     "end_time": "2023-06-19T11:18:24.096960Z",
     "start_time": "2023-06-19T11:18:24.071996Z"
    }
   },
   "outputs": [
    {
     "name": "stdout",
     "output_type": "stream",
     "text": [
      "243 \n",
      "\n",
      "[('female', 'male', 'Carlyn'), ('female', 'male', 'Elizabet'), ('male', 'female', 'Stanley'), ('male', 'female', 'Gavriel'), ('male', 'female', 'Mackenzie'), ('female', 'male', 'Drew'), ('female', 'male', 'Madalyn'), ('male', 'female', 'Jamie'), ('male', 'female', 'Hervey'), ('male', 'female', 'Paige'), ('female', 'male', 'Damaris'), ('male', 'female', 'Averill'), ('male', 'female', 'Ismail'), ('male', 'female', 'Lemmy'), ('male', 'female', 'Russell'), ('male', 'female', 'Durante'), ('male', 'female', 'Parke'), ('male', 'female', 'Dale'), ('male', 'female', 'Tallie'), ('female', 'male', 'Chloris')]\n"
     ]
    }
   ],
   "source": [
    "# 오류 분석\n",
    "errors = []\n",
    "for (name, tag) in devtest_names:\n",
    "    guess = classifier.classify(gender_features(name))\n",
    "    if guess != tag:\n",
    "        errors.append((tag, guess, name))\n",
    "\n",
    "print(len(errors),'\\n')\n",
    "\n",
    "print(errors[:20])"
   ]
  },
  {
   "cell_type": "code",
   "execution_count": 110,
   "id": "3dbf3875",
   "metadata": {
    "ExecuteTime": {
     "end_time": "2023-06-19T11:18:24.111954Z",
     "start_time": "2023-06-19T11:18:24.098919Z"
    }
   },
   "outputs": [
    {
     "name": "stdout",
     "output_type": "stream",
     "text": [
      "correct = female   guess = male   name = Alisun         \n",
      "correct = female   guess = male   name = Allis          \n",
      "correct = female   guess = male   name = Alyss          \n",
      "correct = female   guess = male   name = Ardelis        \n",
      "correct = female   guess = male   name = Aryn           \n",
      "correct = female   guess = male   name = Avis           \n",
      "correct = female   guess = male   name = Babs           \n",
      "correct = female   guess = male   name = Bert           \n",
      "correct = female   guess = male   name = Birgit         \n",
      "correct = female   guess = male   name = Caren          \n",
      "correct = female   guess = male   name = Carlyn         \n",
      "correct = female   guess = male   name = Caroljean      \n",
      "correct = female   guess = male   name = Charleen       \n",
      "correct = female   guess = male   name = Chloris        \n",
      "correct = female   guess = male   name = Christen       \n",
      "correct = female   guess = male   name = Cinnamon       \n",
      "correct = female   guess = male   name = Coralyn        \n",
      "correct = female   guess = male   name = Damaris        \n",
      "correct = female   guess = male   name = Darleen        \n",
      "correct = female   guess = male   name = Deb            \n",
      "correct = female   guess = male   name = Devin          \n",
      "correct = female   guess = male   name = Diamond        \n",
      "correct = female   guess = male   name = Dido           \n",
      "correct = female   guess = male   name = Donnajean      \n",
      "correct = female   guess = male   name = Drew           \n",
      "correct = female   guess = male   name = Eilis          \n",
      "correct = female   guess = male   name = Eleanor        \n",
      "correct = female   guess = male   name = Elizabet       \n",
      "correct = female   guess = male   name = Emlyn          \n",
      "correct = female   guess = male   name = Enid           \n",
      "correct = female   guess = male   name = Eryn           \n",
      "correct = female   guess = male   name = Esther         \n",
      "correct = female   guess = male   name = Eveleen        \n",
      "correct = female   guess = male   name = Fan            \n",
      "correct = female   guess = male   name = Farrand        \n",
      "correct = female   guess = male   name = Fawn           \n",
      "correct = female   guess = male   name = Fiann          \n",
      "correct = female   guess = male   name = Floris         \n",
      "correct = female   guess = male   name = Garland        \n",
      "correct = female   guess = male   name = Gwendolen      \n",
      "correct = female   guess = male   name = Harriett       \n",
      "correct = female   guess = male   name = Heather        \n",
      "correct = female   guess = male   name = Ines           \n",
      "correct = female   guess = male   name = Ingeberg       \n",
      "correct = female   guess = male   name = Jackelyn       \n",
      "correct = female   guess = male   name = Jacquelynn     \n",
      "correct = female   guess = male   name = Jessalin       \n",
      "correct = female   guess = male   name = Joleen         \n",
      "correct = female   guess = male   name = Josselyn       \n",
      "correct = female   guess = male   name = Joyan          \n"
     ]
    }
   ],
   "source": [
    "for (tag, guess, name) in sorted(errors)[:50]: #sorted(errors) 인데 50개로 제한함 길이상\n",
    "    print(f'correct = {tag:8} guess = {guess:6} name = {name:15}')"
   ]
  },
  {
   "cell_type": "code",
   "execution_count": 111,
   "id": "df2383e9",
   "metadata": {
    "ExecuteTime": {
     "end_time": "2023-06-19T11:18:24.157034Z",
     "start_time": "2023-06-19T11:18:24.113879Z"
    }
   },
   "outputs": [
    {
     "name": "stdout",
     "output_type": "stream",
     "text": [
      "valid 정확도 : 0.775\n",
      "test 정확도 : 0.776\n"
     ]
    }
   ],
   "source": [
    "# 모형 개선해보기\n",
    "def gender_features(word):\n",
    "    return {'last_two_letters':word[-2:]}\n",
    "\n",
    "train_set = [(gender_features(n), gender) for (n, gender) in train_names]\n",
    "devtest_set = [(gender_features(n), gender) for (n, gender) in devtest_names]\n",
    "\n",
    "classifier = nltk.NaiveBayesClassifier.train(train_set)\n",
    "print(\"valid 정확도 :\",nltk.classify.accuracy(classifier, devtest_set)) # 앞에 보다 증가\n",
    "\n",
    "test_set = [(gender_features(n), gender) for (n, gender) in test_names]\n",
    "print(\"test 정확도 :\",nltk.classify.accuracy(classifier, test_set))\n",
    "\n",
    "# training 한것을 validation한 것으로 확인한 후 최종 test에 사용"
   ]
  },
  {
   "cell_type": "markdown",
   "id": "1303da00",
   "metadata": {},
   "source": [
    "### 문서분류"
   ]
  },
  {
   "cell_type": "code",
   "execution_count": 112,
   "id": "d09ac0d6",
   "metadata": {
    "ExecuteTime": {
     "end_time": "2023-06-19T11:18:24.217715Z",
     "start_time": "2023-06-19T11:18:24.158759Z"
    }
   },
   "outputs": [
    {
     "data": {
      "text/plain": [
       "['neg', 'pos']"
      ]
     },
     "metadata": {},
     "output_type": "display_data"
    },
    {
     "data": {
      "text/plain": [
       "2000"
      ]
     },
     "metadata": {},
     "output_type": "display_data"
    },
    {
     "data": {
      "text/plain": [
       "1000"
      ]
     },
     "metadata": {},
     "output_type": "display_data"
    },
    {
     "data": {
      "text/plain": [
       "1000"
      ]
     },
     "metadata": {},
     "output_type": "display_data"
    },
    {
     "name": "stdout",
     "output_type": "stream",
     "text": [
      "--------------------------------------------------\n"
     ]
    },
    {
     "data": {
      "text/plain": [
       "['neg/cv000_29416.txt',\n",
       " 'neg/cv250_26462.txt',\n",
       " 'neg/cv500_10722.txt',\n",
       " 'neg/cv750_10606.txt',\n",
       " 'pos/cv000_29590.txt',\n",
       " 'pos/cv250_25616.txt',\n",
       " 'pos/cv500_10251.txt',\n",
       " 'pos/cv750_10180.txt']"
      ]
     },
     "metadata": {},
     "output_type": "display_data"
    }
   ],
   "source": [
    "import nltk\n",
    "from nltk.corpus import movie_reviews\n",
    "display(movie_reviews.categories())\n",
    "display(len(movie_reviews.fileids()))\n",
    "display(len(movie_reviews.fileids('neg')))\n",
    "display(len(movie_reviews.fileids('pos')))\n",
    "print('-'*50)\n",
    "display(movie_reviews.fileids()[::250])"
   ]
  },
  {
   "cell_type": "code",
   "execution_count": 113,
   "id": "5702ea13",
   "metadata": {
    "ExecuteTime": {
     "end_time": "2023-06-19T11:18:24.247631Z",
     "start_time": "2023-06-19T11:18:24.219673Z"
    }
   },
   "outputs": [
    {
     "data": {
      "text/plain": [
       "nltk.corpus.reader.util.StreamBackedCorpusView"
      ]
     },
     "metadata": {},
     "output_type": "display_data"
    },
    {
     "data": {
      "text/plain": [
       "['plot', ':', 'two', 'teen', 'couples', 'go', 'to', ...]"
      ]
     },
     "metadata": {},
     "output_type": "display_data"
    },
    {
     "data": {
      "text/plain": [
       "'plot'"
      ]
     },
     "metadata": {},
     "output_type": "display_data"
    },
    {
     "data": {
      "text/plain": [
       "['plot', ':', 'two', 'teen', 'couples']"
      ]
     },
     "metadata": {},
     "output_type": "display_data"
    },
    {
     "name": "stdout",
     "output_type": "stream",
     "text": [
      "--------------------------------------------------\n"
     ]
    },
    {
     "data": {
      "text/plain": [
       "38"
      ]
     },
     "metadata": {},
     "output_type": "display_data"
    },
    {
     "data": {
      "text/plain": [
       "24"
      ]
     },
     "metadata": {},
     "output_type": "display_data"
    }
   ],
   "source": [
    "# StreamBackedCorpusView\n",
    "\n",
    "display(type(movie_reviews.words('neg/cv000_29416.txt')))\n",
    "display(movie_reviews.words('neg/cv000_29416.txt'))\n",
    "display(movie_reviews.words('neg/cv000_29416.txt')[0]) #인덱싱 OK\n",
    "display(movie_reviews.words('neg/cv000_29416.txt')[:5]) # 슬라이싱 OK\n",
    "# display(movie_reviews.words('neg/cv000_29416.txt')[::5])  # 스텝 슬라이싱 NOK\n",
    "# -> ValueError: slices with steps are not supported by StreamBackedCorpusView 에러\n",
    "\n",
    "print(\"-\"*50)\n",
    "display(movie_reviews.words(movie_reviews.fileids()[0]).count('the')) #count함수 OK\n",
    "display(movie_reviews.words(movie_reviews.fileids()[0]).index('the')) #index함수 OK\n",
    "# movie_reviews.words(movie_reviews.fileids()[0]).append('the')       #append함수 NOK\n",
    "# 그러나 list()로 변경후 사용가능!!!"
   ]
  },
  {
   "cell_type": "code",
   "execution_count": 114,
   "id": "193403ef",
   "metadata": {
    "ExecuteTime": {
     "end_time": "2023-06-19T11:18:25.297826Z",
     "start_time": "2023-06-19T11:18:24.249612Z"
    }
   },
   "outputs": [
    {
     "data": {
      "text/plain": [
       "2000"
      ]
     },
     "metadata": {},
     "output_type": "display_data"
    },
    {
     "data": {
      "text/plain": [
       "[(['plot', ':', 'two', 'teen', 'couples', 'go', 'to', ...], 'neg'),\n",
       " (['a', 'sensuous', 'romantic', 'comedy', ',', 'about', ...], 'neg'),\n",
       " (['you', 'always', 'have', 'to', 'be', 'careful', ...], 'neg'),\n",
       " (['disney', \"'\", 's', '\"', 'air', 'bud', '\"', 'tells', ...], 'neg'),\n",
       " (['films', 'adapted', 'from', 'comic', 'books', 'have', ...], 'pos'),\n",
       " (['kadosh', 'means', 'sacred', 'in', 'hebrew', '.', ...], 'pos'),\n",
       " (['losing', 'a', 'job', 'is', 'not', 'an', 'all', 'too', ...], 'pos'),\n",
       " (['what', \"'\", 's', 'shocking', 'about', '\"', 'carlito', ...], 'pos')]"
      ]
     },
     "metadata": {},
     "output_type": "display_data"
    },
    {
     "data": {
      "text/plain": [
       "[(['you', 'know', 'that', 'a', 'movie', 'has', 'issues', ...], 'neg'),\n",
       " (['coinciding', 'with', 'the', 'emerging', 'popularity', ...], 'neg'),\n",
       " (['the', 'police', 'negotiator', 'is', 'the', 'person', ...], 'pos'),\n",
       " (['capsule', ':', 'this', 'is', 'a', 'harrowing', ...], 'pos'),\n",
       " (['silly', 'performances', 'and', 'some', 'huge', ...], 'neg'),\n",
       " (['dora', '(', 'fernanda', 'montenegro', ')', 'sits', ...], 'pos'),\n",
       " (['`', 'we', 'run', 'tings', '.', 'tings', 'don', \"'\", ...], 'pos'),\n",
       " (['it', \"'\", 's', 'a', 'fact', 'that', 'a', 'good', ...], 'pos')]"
      ]
     },
     "metadata": {},
     "output_type": "display_data"
    }
   ],
   "source": [
    "# 문서 분류 : labeling & 순서뒤섞기\n",
    "documents = [(movie_reviews.words(fileid), category)\n",
    "            for category in movie_reviews.categories()\n",
    "            for fileid in movie_reviews.fileids(category)]\n",
    "\n",
    "display(len(documents))\n",
    "\n",
    "# 문서별 어휘 리스트, 긍정/부정 범주\n",
    "display(documents[::250])\n",
    "\n",
    "# 순서 뒤 섞기\n",
    "random.shuffle(documents)\n",
    "display(documents[::250])"
   ]
  },
  {
   "cell_type": "code",
   "execution_count": 115,
   "id": "44ce64ae",
   "metadata": {
    "ExecuteTime": {
     "end_time": "2023-06-19T11:18:32.113847Z",
     "start_time": "2023-06-19T11:18:25.299832Z"
    }
   },
   "outputs": [
    {
     "data": {
      "text/plain": [
       "[('contains(,)', True),\n",
       " ('contains(the)', True),\n",
       " ('contains(.)', True),\n",
       " ('contains(a)', True),\n",
       " ('contains(and)', True),\n",
       " ('contains(of)', True),\n",
       " ('contains(to)', True),\n",
       " (\"contains(')\", True),\n",
       " ('contains(is)', True),\n",
       " ('contains(in)', True)]"
      ]
     },
     "execution_count": 115,
     "metadata": {},
     "output_type": "execute_result"
    }
   ],
   "source": [
    "# 문서분류 : 고빈도 어휘 목록 활용\n",
    "all_words = nltk.FreqDist(w.lower() for w in movie_reviews.words())\n",
    "word_features = list(all_words)[:2000] # 전체 코퍼스의 2000어휘\n",
    "word_features[:5]\n",
    "\n",
    "# 전체 코퍼스의 2000어휘 포함 여부 \n",
    "def document_features(document):\n",
    "    document_words = set(document)\n",
    "    features = {}\n",
    "    for word in word_features:\n",
    "        features[f'contains({word})'] = word in document_words\n",
    "    return features\n",
    "\n",
    "t = document_features(movie_reviews.words('pos/cv957_8737.txt'))\n",
    "list(t.items())[:10] # 고빈도 어휘는 문서 분류에서 어떤 역할? -> 문법어? 기능어? 인듯?\n",
    "# 'pos/cv957_8737.txt 에서 해당 단어가 포함 되어있는 지 여부"
   ]
  },
  {
   "cell_type": "code",
   "execution_count": 116,
   "id": "da90dcd1",
   "metadata": {
    "ExecuteTime": {
     "end_time": "2023-06-19T11:18:32.144077Z",
     "start_time": "2023-06-19T11:18:32.116851Z"
    }
   },
   "outputs": [
    {
     "data": {
      "text/plain": [
       "[(['you', 'know', 'that', 'a', 'movie', 'has', 'issues', ...], 'neg'),\n",
       " (['nicolas', 'cage', 'comes', 'up', 'with', 'an', ...], 'neg'),\n",
       " (['albert', 'brooks', 'saves', 'the', 'day', ',', ...], 'pos'),\n",
       " (['available', 'for', 'rental', '-', 'october', '12', ...], 'pos'),\n",
       " (['although', 'i', 'had', 'not', 'been', 'a', 'viewer', ...], 'neg'),\n",
       " (['wonderland', 'is', 'a', 'rather', 'sugary', ...], 'neg'),\n",
       " (['godzilla', 'is', 'the', 'ultimate', 'culmination', ...], 'neg'),\n",
       " (['fit', 'for', 'a', 'ghoul', \"'\", 's', 'night', 'out', ...], 'neg'),\n",
       " (['there', 'is', 'a', 'striking', 'scene', 'early', ...], 'pos'),\n",
       " (['modern', 'audiences', 'are', 'more', 'likely', 'to', ...], 'pos')]"
      ]
     },
     "execution_count": 116,
     "metadata": {},
     "output_type": "execute_result"
    }
   ],
   "source": [
    "# 단어 목록과 감성라벨\n",
    "documents[:10]"
   ]
  },
  {
   "cell_type": "code",
   "execution_count": 117,
   "id": "6364c24f",
   "metadata": {
    "ExecuteTime": {
     "end_time": "2023-06-19T11:18:47.148873Z",
     "start_time": "2023-06-19T11:18:32.146111Z"
    }
   },
   "outputs": [
    {
     "name": "stdout",
     "output_type": "stream",
     "text": [
      "test 정확도 : 0.82\n"
     ]
    }
   ],
   "source": [
    "featuresets = [(document_features(d), c) for (d,c) in documents]\n",
    "train_set, test_set = featuresets[100:], featuresets[:100]\n",
    "classifier = nltk.NaiveBayesClassifier.train(train_set)\n",
    "print(\"test 정확도 :\",nltk.classify.accuracy(classifier, test_set))"
   ]
  },
  {
   "cell_type": "code",
   "execution_count": 118,
   "id": "af30c5f8",
   "metadata": {
    "ExecuteTime": {
     "end_time": "2023-06-19T11:18:47.178934Z",
     "start_time": "2023-06-19T11:18:47.150868Z"
    }
   },
   "outputs": [
    {
     "name": "stdout",
     "output_type": "stream",
     "text": [
      "Most Informative Features\n",
      "   contains(outstanding) = True              pos : neg    =     11.2 : 1.0\n",
      "         contains(mulan) = True              pos : neg    =      8.3 : 1.0\n",
      "        contains(seagal) = True              neg : pos    =      8.2 : 1.0\n",
      "   contains(wonderfully) = True              pos : neg    =      7.4 : 1.0\n",
      "         contains(damon) = True              pos : neg    =      6.3 : 1.0\n"
     ]
    }
   ],
   "source": [
    "# sample에 따라 accuracy, most_informative features는 차이가 있을 수 있다\n",
    "classifier.show_most_informative_features(5)\n",
    "# feature : 전체 코퍼스의 고빈도 2000어휘 포함 여부\n",
    "# 어떤 어휘가 긍정/부정 판별에 효과적?"
   ]
  },
  {
   "cell_type": "markdown",
   "id": "ac45534c",
   "metadata": {},
   "source": [
    "## NLTK_감성분석"
   ]
  },
  {
   "cell_type": "code",
   "execution_count": 119,
   "id": "84cd6552",
   "metadata": {
    "ExecuteTime": {
     "end_time": "2023-06-19T11:18:47.193955Z",
     "start_time": "2023-06-19T11:18:47.180824Z"
    }
   },
   "outputs": [
    {
     "name": "stdout",
     "output_type": "stream",
     "text": [
      "Most Informative Features\n",
      "   contains(outstanding) = True              pos : neg    =     11.2 : 1.0\n",
      "         contains(mulan) = True              pos : neg    =      8.3 : 1.0\n",
      "        contains(seagal) = True              neg : pos    =      8.2 : 1.0\n",
      "   contains(wonderfully) = True              pos : neg    =      7.4 : 1.0\n",
      "         contains(damon) = True              pos : neg    =      6.3 : 1.0\n",
      "         contains(flynt) = True              pos : neg    =      5.7 : 1.0\n",
      "          contains(lame) = True              neg : pos    =      5.6 : 1.0\n",
      "         contains(awful) = True              neg : pos    =      5.3 : 1.0\n",
      "           contains(era) = True              pos : neg    =      5.2 : 1.0\n",
      "        contains(poorly) = True              neg : pos    =      5.1 : 1.0\n"
     ]
    }
   ],
   "source": [
    "classifier.show_most_informative_features(10)\n",
    "# 왜 부정감성어가 상위 순위?"
   ]
  },
  {
   "cell_type": "code",
   "execution_count": 120,
   "id": "6a4e225e",
   "metadata": {
    "ExecuteTime": {
     "end_time": "2023-06-19T11:18:54.155972Z",
     "start_time": "2023-06-19T11:18:47.196746Z"
    }
   },
   "outputs": [
    {
     "data": {
      "text/plain": [
       "302"
      ]
     },
     "metadata": {},
     "output_type": "display_data"
    },
    {
     "name": "stdout",
     "output_type": "stream",
     "text": [
      "['+', '4', '5', '8', '90', 'above', 'add', 'air', 'allen', 'amazing', 'amusing', 'animated', 'animation', 'annoying', 'anyway', 'appear', 'approach', 'army', 'arnold', 'ask', 'aspect', 'ass', 'atmosphere', 'audiences', 'awful', 'b', 'batman', 'beauty', 'believable', 'biggest', 'bland', 'bond', 'boring', 'brilliant', 'british', 'brought', 'brown', 'budget', 'bunch', 'cage', 'cameron', 'cannot', 'carter', 'catch', 'chan', 'chase', 'cheap', 'chemistry', 'choice', 'christopher', 'cinematography', 'class', 'clearly', 'club', 'cold', 'college', 'complex', 'constantly', 'control', 'convincing', 'couldn', 'crap', 'created', 'credit', 'culture', 'decent', 'definitely', 'delivers', 'depth', 'deserves', 'details', 'development', 'disaster', 'doctor', 'double', 'dream', 'dreams', 'dull', 'dumb', 'earlier']\n"
     ]
    }
   ],
   "source": [
    "negative = movie_reviews.words(categories = 'neg')\n",
    "positive = movie_reviews.words(categories = 'pos')\n",
    "\n",
    "A = {word for word, _ in nltk.FreqDist(w.lower() for w in negative).most_common(1000)}\n",
    "B = {word for word, _ in nltk.FreqDist(w.lower() for w in positive).most_common(1000)}\n",
    "\n",
    "# 대창 차집합\n",
    "Symmetric_Difference = A^B\n",
    "display(len(Symmetric_Difference))\n",
    "\n",
    "Symmetric_Difference = sorted(Symmetric_Difference)\n",
    "print(Symmetric_Difference[:80])\n",
    "# 왜 stop word나 숫자/문장 부호가 많지 않을까?"
   ]
  },
  {
   "cell_type": "code",
   "execution_count": 121,
   "id": "43eb80b0",
   "metadata": {
    "ExecuteTime": {
     "end_time": "2023-06-19T11:19:08.876808Z",
     "start_time": "2023-06-19T11:18:54.159961Z"
    }
   },
   "outputs": [
    {
     "name": "stdout",
     "output_type": "stream",
     "text": [
      "test 정확도 : 0.83\n",
      "\n",
      "Most Informative Features\n",
      "         contain(seagal) = True              neg : pos    =      7.7 : 1.0\n",
      "          contain(mulan) = True              pos : neg    =      7.7 : 1.0\n",
      "         contain(wasted) = True              neg : pos    =      6.1 : 1.0\n",
      "           contain(lame) = True              neg : pos    =      5.8 : 1.0\n",
      "          contain(flynt) = True              pos : neg    =      5.7 : 1.0\n",
      "          contain(awful) = True              neg : pos    =      5.6 : 1.0\n",
      "          contain(waste) = True              neg : pos    =      5.0 : 1.0\n",
      "     contain(ridiculous) = True              neg : pos    =      4.8 : 1.0\n",
      "         contain(poorly) = True              neg : pos    =      4.7 : 1.0\n",
      "          contain(bland) = True              neg : pos    =      4.3 : 1.0\n",
      "        contain(unfunny) = True              neg : pos    =      4.2 : 1.0\n",
      "          contain(worst) = True              neg : pos    =      4.2 : 1.0\n",
      "           contain(mess) = True              neg : pos    =      4.1 : 1.0\n",
      "           contain(dull) = True              neg : pos    =      4.1 : 1.0\n",
      "         contain(stupid) = True              neg : pos    =      3.9 : 1.0\n"
     ]
    }
   ],
   "source": [
    "documents = [\n",
    "    (list(movie_reviews.words(fileid)), category)\n",
    "    for category in movie_reviews.categories()\n",
    "    for fileid in movie_reviews.fileids(category)\n",
    "]\n",
    "\n",
    "import random\n",
    "random.shuffle(documents)\n",
    "def document_features(document):\n",
    "    document_words = set(document)\n",
    "    features = {}\n",
    "    for word in Symmetric_Difference: #Symmetric_Difference\n",
    "        features[f'contain({word})'] = word in document_words\n",
    "    return features\n",
    "\n",
    "featuresets = [(document_features(d), c) for (d,c) in documents]\n",
    "train_set, test_set = featuresets[100:], featuresets[:100]\n",
    "classifier = nltk.NaiveBayesClassifier.train(train_set)\n",
    "print(\"test 정확도 :\",nltk.classify.accuracy(classifier, test_set)) ; print()\n",
    "\n",
    "classifier.show_most_informative_features(15) # 왜 부정 감성어가 식별력이 좋을까?"
   ]
  },
  {
   "cell_type": "code",
   "execution_count": 122,
   "id": "5bcabfdd",
   "metadata": {
    "ExecuteTime": {
     "end_time": "2023-06-19T11:19:13.423379Z",
     "start_time": "2023-06-19T11:19:08.879802Z"
    }
   },
   "outputs": [
    {
     "name": "stdout",
     "output_type": "stream",
     "text": [
      "positive : 151, negative : 151 \n",
      "\n",
      "['+', '8', 'above', 'allen', 'amazing', 'animated', 'animation', 'approach', 'army', 'aspect', 'atmosphere', 'audiences', 'beauty', 'believable', 'bond', 'brilliant', 'british', 'brought', 'brown', 'cameron', 'cannot', 'carter', 'chan', 'chemistry', 'choice', 'cinematography', 'class', 'clearly', 'cold', 'complex', 'constantly', 'convincing', 'created', 'credit', 'culture', 'definitely', 'delivers', 'depth', 'deserves', 'details'] \n",
      "\n",
      "['4', '5', '90', 'add', 'air', 'amusing', 'annoying', 'anyway', 'appear', 'arnold', 'ask', 'ass', 'awful', 'b', 'batman', 'biggest', 'bland', 'boring', 'budget', 'bunch', 'cage', 'catch', 'chase', 'cheap', 'christopher', 'club', 'college', 'control', 'couldn', 'crap', 'decent', 'development', 'disaster', 'doctor', 'double', 'dull', 'dumb', 'eddie', 'effort', 'entirely'] \n",
      "\n"
     ]
    }
   ],
   "source": [
    "# 긍정/ 부정 어휘 목록 추출\n",
    "A = {word for word, _ in nltk.FreqDist(w.lower() for w in negative).most_common(1000)}\n",
    "B = {word for word, _ in nltk.FreqDist(w.lower() for w in positive).most_common(1000)}\n",
    "\n",
    "# 대창 차집합\n",
    "positive_words = B - A\n",
    "negative_words = A - B\n",
    "\n",
    "print(f'positive : {len(positive_words)}, negative : {len(negative_words)}', '\\n')\n",
    "print(sorted(positive_words)[:40], '\\n')\n",
    "print(sorted(negative_words)[:40], '\\n')"
   ]
  },
  {
   "cell_type": "code",
   "execution_count": 123,
   "id": "2bdce4e3",
   "metadata": {
    "ExecuteTime": {
     "end_time": "2023-06-19T11:19:13.438306Z",
     "start_time": "2023-06-19T11:19:13.425343Z"
    }
   },
   "outputs": [],
   "source": [
    "# 긍정/부정 점수 측정\n",
    "def value_of(word):\n",
    "    if word in positive_words: return 1\n",
    "    elif word in negative_words : return -1\n",
    "    return 0\n",
    "\n",
    "def sentiment_score(document):\n",
    "    return sum(value_of(word) for word in document)"
   ]
  },
  {
   "cell_type": "code",
   "execution_count": 124,
   "id": "d26df51c",
   "metadata": {
    "ExecuteTime": {
     "end_time": "2023-06-19T11:19:13.483229Z",
     "start_time": "2023-06-19T11:19:13.441298Z"
    }
   },
   "outputs": [
    {
     "name": "stdout",
     "output_type": "stream",
     "text": [
      "1 2 -3 7 \n",
      "12 -1 -4 -3 "
     ]
    }
   ],
   "source": [
    "for i in range(4): # 부정 점수\n",
    "    print(sentiment_score(movie_reviews.words(\n",
    "        random.sample(movie_reviews.fileids(categories = 'neg'), 1))), end = ' ')\n",
    "\n",
    "print()\n",
    "for i in range(4): #긍정 점수\n",
    "    print(sentiment_score(movie_reviews.words(\n",
    "        random.sample(movie_reviews.fileids(categories = 'pos'), 1))), end = ' ')"
   ]
  },
  {
   "cell_type": "code",
   "execution_count": 125,
   "id": "737c9fcc",
   "metadata": {
    "ExecuteTime": {
     "end_time": "2023-06-19T11:19:15.251634Z",
     "start_time": "2023-06-19T11:19:13.486187Z"
    }
   },
   "outputs": [
    {
     "data": {
      "text/plain": [
       "-6.449"
      ]
     },
     "execution_count": 125,
     "metadata": {},
     "output_type": "execute_result"
    }
   ],
   "source": [
    "# 부정\n",
    "sum(sentiment_score(movie_reviews.words(fileid)) for fileid in movie_reviews.fileids(categories='neg'))/\\\n",
    "len(movie_reviews.fileids(categories='neg'))"
   ]
  },
  {
   "cell_type": "code",
   "execution_count": 126,
   "id": "6fc0b862",
   "metadata": {
    "ExecuteTime": {
     "end_time": "2023-06-19T11:19:17.197815Z",
     "start_time": "2023-06-19T11:19:15.253639Z"
    }
   },
   "outputs": [
    {
     "data": {
      "text/plain": [
       "6.566"
      ]
     },
     "execution_count": 126,
     "metadata": {},
     "output_type": "execute_result"
    }
   ],
   "source": [
    "# 긍정\n",
    "sum(sentiment_score(movie_reviews.words(fileid)) for fileid in movie_reviews.fileids(categories='pos'))/\\\n",
    "len(movie_reviews.fileids(categories='pos'))"
   ]
  },
  {
   "cell_type": "markdown",
   "id": "0efdb3ce",
   "metadata": {},
   "source": [
    "### VADER-Sentiment-Analysis\n",
    "- NLTK를 이용한 VADER감성분석"
   ]
  },
  {
   "cell_type": "code",
   "execution_count": 127,
   "id": "8eb65e7a",
   "metadata": {
    "ExecuteTime": {
     "end_time": "2023-06-19T11:19:17.227728Z",
     "start_time": "2023-06-19T11:19:17.199804Z"
    }
   },
   "outputs": [
    {
     "name": "stdout",
     "output_type": "stream",
     "text": [
      "{'neg': 0.0, 'neu': 0.513, 'pos': 0.487, 'compound': 0.5859}\n",
      "<class 'dict'>\n"
     ]
    }
   ],
   "source": [
    "# nltk.download('vader_lexicon')\n",
    "\n",
    "from nltk.sentiment import SentimentIntensityAnalyzer\n",
    "sla = SentimentIntensityAnalyzer()\n",
    "print(sla.polarity_scores(\"Wow, NLTK is really powerfull\"))\n",
    "print(type(sla.polarity_scores(\"Wow, NLTK is really powerfull\")))"
   ]
  },
  {
   "cell_type": "code",
   "execution_count": 128,
   "id": "89b08210",
   "metadata": {
    "ExecuteTime": {
     "end_time": "2023-06-19T11:19:17.242773Z",
     "start_time": "2023-06-19T11:19:17.229757Z"
    }
   },
   "outputs": [],
   "source": [
    "# VADER scores \n",
    "# 확률값 합계 1 = pos(긍정) + neu(중립) + neg(부정)\n",
    "# 복합 점수(compound)는 감성의 종합 점수를 나타내며,       + normalized compound score\n",
    "# 일반적으로 0.05보다 크면 긍정, -0.05보다 작으면 부정으로 간주됩니다. 그 사이는 중립"
   ]
  },
  {
   "cell_type": "code",
   "execution_count": 129,
   "id": "621d4d56",
   "metadata": {
    "ExecuteTime": {
     "end_time": "2023-06-19T11:19:17.348056Z",
     "start_time": "2023-06-19T11:19:17.250711Z"
    }
   },
   "outputs": [
    {
     "name": "stdout",
     "output_type": "stream",
     "text": [
      "{'neg': 0.054, 'neu': 0.804, 'pos': 0.142, 'compound': 0.9961}\n",
      "{'neg': 0.141, 'neu': 0.8, 'pos': 0.059, 'compound': -0.9844}\n",
      "{'neg': 0.136, 'neu': 0.762, 'pos': 0.102, 'compound': -0.9418}\n",
      "{'neg': 0.108, 'neu': 0.751, 'pos': 0.141, 'compound': 0.9721}\n",
      "\n",
      "{'neg': 0.055, 'neu': 0.82, 'pos': 0.124, 'compound': 0.9868}\n",
      "{'neg': 0.139, 'neu': 0.731, 'pos': 0.13, 'compound': -0.9823}\n",
      "{'neg': 0.129, 'neu': 0.697, 'pos': 0.173, 'compound': 0.9823}\n",
      "{'neg': 0.082, 'neu': 0.732, 'pos': 0.186, 'compound': 0.9987}\n"
     ]
    }
   ],
   "source": [
    "from nltk.corpus import movie_reviews\n",
    "\n",
    "for i in range(4): # 부정 점수\n",
    "    print(sla.polarity_scores(movie_reviews.raw(\n",
    "        random.sample(movie_reviews.fileids(categories = 'neg'), 1))))\n",
    "\n",
    "print()\n",
    "for i in range(4): #긍정 점수\n",
    "    print(sla.polarity_scores(movie_reviews.raw(\n",
    "        random.sample(movie_reviews.fileids(categories = 'pos'), 1))))"
   ]
  }
 ],
 "metadata": {
  "kernelspec": {
   "display_name": "Python 3 (ipykernel)",
   "language": "python",
   "name": "python3"
  },
  "language_info": {
   "codemirror_mode": {
    "name": "ipython",
    "version": 3
   },
   "file_extension": ".py",
   "mimetype": "text/x-python",
   "name": "python",
   "nbconvert_exporter": "python",
   "pygments_lexer": "ipython3",
   "version": "3.9.16"
  },
  "toc": {
   "base_numbering": 1,
   "nav_menu": {},
   "number_sections": true,
   "sideBar": true,
   "skip_h1_title": false,
   "title_cell": "Table of Contents",
   "title_sidebar": "Contents",
   "toc_cell": false,
   "toc_position": {
    "height": "calc(100% - 180px)",
    "left": "10px",
    "top": "150px",
    "width": "204.792px"
   },
   "toc_section_display": true,
   "toc_window_display": false
  }
 },
 "nbformat": 4,
 "nbformat_minor": 5
}
