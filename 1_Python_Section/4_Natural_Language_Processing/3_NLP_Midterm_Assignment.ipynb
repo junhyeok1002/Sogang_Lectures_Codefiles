{
 "cells": [
  {
   "cell_type": "markdown",
   "id": "be2e1cc9",
   "metadata": {},
   "source": [
    "20180634_최준혁_NLP_중간과제"
   ]
  },
  {
   "cell_type": "markdown",
   "id": "cc939c3a",
   "metadata": {},
   "source": [
    "## 과제 시작 전 준비"
   ]
  },
  {
   "cell_type": "code",
   "execution_count": 1,
   "id": "1d5e01a2",
   "metadata": {
    "ExecuteTime": {
     "end_time": "2023-05-21T15:00:44.620217Z",
     "start_time": "2023-05-21T15:00:41.934401Z"
    }
   },
   "outputs": [],
   "source": [
    "import re, os, nltk #이외의 모듈 사용X"
   ]
  },
  {
   "cell_type": "code",
   "execution_count": 2,
   "id": "6879f8c6",
   "metadata": {
    "ExecuteTime": {
     "end_time": "2023-05-21T15:00:44.635174Z",
     "start_time": "2023-05-21T15:00:44.625206Z"
    }
   },
   "outputs": [],
   "source": [
    "for Folder in ['./Q1_Out','./Q2_Out']:   #1번, 2번 문제 출력 파일 저장을 위한 폴더 만들기\n",
    "    os.makedirs(Folder, exist_ok = True) # exist_ok = True : 동일 폴더 존재 무시 "
   ]
  },
  {
   "cell_type": "markdown",
   "id": "e0d8eb69",
   "metadata": {},
   "source": [
    "# 1번\n",
    "과제 설명 \n",
    "- text : 파일을 open 후 read 해서 lower화 시킴\n",
    "- punctuation : text에서 \\W+와 \"_\"를 이용해 문장부호 추출한 후 하나의 문자열로 ''.join하여 문장부호 문자열 뭉치를 만듦\n",
    "- word_list : text를 공백단위(\\n \\t 빈문자열)로 나누기 위해 split()\n",
    "- indices : 검색단어를 word_list에서 발견 시 앞뒤 인덱스를 튜플쌍으로 저장\n",
    "    - 참고사항 : 앞뒤 단어를 구할때 인덱스 +1, -1을 구하는 형태라 전체 텍스트 맨 앞이나 뒤 단어를 검색하면 오류날 것으로 예상됨. 하지만 별도 지침이 없어서 예외처리는 하지 않았습니다\n",
    "- freqD : indices에서 받아온 인덱스로 형식에 맞게 변환 후 먼저 알파벳 순으로 정렬하고 Freqdist하여서 동일 빈도면 알파벳 오름차순이도록 함\n",
    "- filtered_freqD : 최소 빈도수 제한하기\n",
    "- 이후 과정 ; Freqdist를 형식에 맞게 문자열화하여 파일 생성 \n",
    "    - 참고사항 : with open as f 이런 식으로 처리하는 것이 강의자료에 없어서 혹시 몰라 직접 open하여 받고 close하였습니다"
   ]
  },
  {
   "cell_type": "code",
   "execution_count": 3,
   "id": "bd58e8c4",
   "metadata": {
    "ExecuteTime": {
     "end_time": "2023-05-21T15:00:45.278490Z",
     "start_time": "2023-05-21T15:00:44.638168Z"
    }
   },
   "outputs": [],
   "source": [
    "# 1번 \n",
    "def contexts(folder, filename, search_word, atleast):\n",
    "    text = open(f'./Q1/{filename}','r',encoding ='utf').read().lower()\n",
    "    punctuation  = ''.join(set(re.findall('[\\W]',text)))+'_'\n",
    "    word_list = [word.strip(punctuation) for word in text.split()]\n",
    "    indices = [(index-1,index+1) for index in range(len(word_list)) if word_list[index] == search_word.lower()]\n",
    "    freqD = nltk.FreqDist(sorted([f'{word_list[i]}_{word_list[j]}' for i,j in indices]))\n",
    "    filtered_freqD = nltk.FreqDist({item: freq for item, freq in freqD.items() if freq >= atleast})\n",
    "    f = open(f'./Q1_Out/{filename[:-4]}_context_{search_word.lower()}_{atleast}.txt','w',encoding ='utf')\n",
    "    f.write(\"\\n\".join([f'{i}\\t{j}' for i,j in filtered_freqD.most_common()]))\n",
    "    f.close()\n",
    "contexts('Q1', 'Q1_data02.txt', 'hand', 2)\n",
    "contexts('Q1', 'Q1_data01.txt', 'The', 3)\n",
    "contexts('Q1', 'Q1_data01.txt', 'through', 1)\n",
    "contexts('Q1', 'Q1_data01.txt', 'HAND', 2)\n",
    "contexts('Q1', 'Q1_data02.txt', 'THE', 7)"
   ]
  },
  {
   "cell_type": "markdown",
   "id": "5cbd0b2a",
   "metadata": {},
   "source": [
    "# 2번\n",
    "과제 설명\n",
    "- fileids : Q2의 모든 파일명 호출\n",
    "- for 루프 : Q2 모든 파일을 하나씩 불러와서 Q2_Out에 각각의 morph.txt를 생성하기 위한 루프\n",
    "    - text : Q2의 파일을 read하여 가져옴\n",
    "    - line_list : 정규표현으로 원하는 정보가 있는 줄을 가져와서 \" + \"로 join하고 다시 \" + \"로 split하여 한개의 형태소 분석이 각각 리스트의 원소가 되도록 저장\n",
    "    - 파일 저장 : morph.txt를 생성하고 line_list 각 원소를 \\n를 붙여서 line by line으로 write"
   ]
  },
  {
   "cell_type": "code",
   "execution_count": 4,
   "id": "e1020288",
   "metadata": {
    "ExecuteTime": {
     "end_time": "2023-05-21T15:00:52.203014Z",
     "start_time": "2023-05-21T15:00:45.282443Z"
    }
   },
   "outputs": [],
   "source": [
    "# 2번\n",
    "fileids = nltk.corpus.PlaintextCorpusReader('./Q2','.*').fileids()\n",
    "for k in range(len(fileids)):\n",
    "    text = open(f'./Q2/{fileids[k]}','r',encoding ='utf').read()\n",
    "    line_list = \" + \".join(re.findall('[\\w-]+\\t.+\\t(.+)',text)).split(\" + \")\n",
    "    f = open(f'./Q2_Out/{fileids[k][:-4]}_morph.txt','w',encoding ='utf')\n",
    "    for line in line_list: f.write(f'{line}\\n')\n",
    "    f.close()"
   ]
  },
  {
   "cell_type": "markdown",
   "id": "c6c1ac33",
   "metadata": {},
   "source": [
    "# 3번\n",
    "과제 설명\n",
    "- fileids : Q3폴더의 파일명들\n",
    "- cfd_input : Q3폴더의 모든 파일을 확인하여 (장르, 문장부호) 튜플원소로 이루어진 리스트 생성\n",
    "- 그것을 ConditionalFreqDist로 만들고 tabulate()하여 보여줌."
   ]
  },
  {
   "cell_type": "code",
   "execution_count": 5,
   "id": "acd90ee2",
   "metadata": {
    "ExecuteTime": {
     "end_time": "2023-05-21T15:00:54.674402Z",
     "start_time": "2023-05-21T15:00:52.207006Z"
    }
   },
   "outputs": [
    {
     "name": "stdout",
     "output_type": "stream",
     "text": [
      "      ,     .     /     :     ;     ·     ，     ：     ； \n",
      "A  6708  3673  2925    91    68  2585     0     0     0 \n",
      "B  4171  1047   367   204     3   610     0     5     0 \n",
      "D  2429    55    10    97     5     0     0     0     0 \n",
      "E  8567    12     5    45     0    56     0     0     0 \n",
      "G  3125     9     0    12     0    90     0     0     0 \n",
      "H 35348  2293   214  1136    94  4514     1     1     4 \n",
      "J   335     1     2     0     0     0     0     0     0 \n"
     ]
    }
   ],
   "source": [
    "# 3번\n",
    "fileids = nltk.corpus.PlaintextCorpusReader('./Q3','.*').fileids()\n",
    "cfd_input = [(fileids[i][2], w) for i in range(len(fileids)) for w in re.findall(\"(.+)/SP\",\\\n",
    "            open(f'./Q3/{fileids[i]}','r',encoding ='utf').read())]\n",
    "nltk.ConditionalFreqDist(cfd_input).tabulate()"
   ]
  },
  {
   "cell_type": "markdown",
   "id": "0ac1a55e",
   "metadata": {},
   "source": [
    "Appendix : 정답 확인용 코드"
   ]
  },
  {
   "cell_type": "code",
   "execution_count": 6,
   "id": "22957a18",
   "metadata": {
    "ExecuteTime": {
     "end_time": "2023-05-21T15:00:54.689364Z",
     "start_time": "2023-05-21T15:00:54.678392Z"
    }
   },
   "outputs": [],
   "source": [
    "def compare_text_files(file1_path, file2_path):\n",
    "    with open(file1_path, 'r', encoding='utf-8') as file1, open(file2_path, 'r', encoding='utf-8') as file2:\n",
    "        content1 = file1.read()\n",
    "        content2 = file2.read()\n",
    "        \n",
    "        if content1 == content2:\n",
    "            return True\n",
    "        else:\n",
    "            print(\"error\",file1_path)\n",
    "            return False"
   ]
  },
  {
   "cell_type": "code",
   "execution_count": 7,
   "id": "d97fbcf1",
   "metadata": {
    "ExecuteTime": {
     "end_time": "2023-05-21T15:00:54.719282Z",
     "start_time": "2023-05-21T15:00:54.693364Z"
    }
   },
   "outputs": [
    {
     "name": "stdout",
     "output_type": "stream",
     "text": [
      "1 True\n",
      "2 True\n",
      "3 True\n",
      "4 True\n",
      "5 True\n"
     ]
    }
   ],
   "source": [
    "# 1번 정답\n",
    "Ans = nltk.corpus.PlaintextCorpusReader('./Q1_Ans','.*').fileids()\n",
    "Out = nltk.corpus.PlaintextCorpusReader('./Q1_Out','.*').fileids()\n",
    "for i in range(len(Out)):\n",
    "    print(i+1, compare_text_files(f'./Q1_Ans/{Ans[i]}', f'./Q1_Out/{Out[i]}'))"
   ]
  },
  {
   "cell_type": "code",
   "execution_count": 8,
   "id": "a0ef4b38",
   "metadata": {
    "ExecuteTime": {
     "end_time": "2023-05-21T15:00:55.543112Z",
     "start_time": "2023-05-21T15:00:54.723272Z"
    }
   },
   "outputs": [
    {
     "name": "stdout",
     "output_type": "stream",
     "text": [
      "1 True\n",
      "2 True\n",
      "3 True\n",
      "4 True\n",
      "5 True\n",
      "6 True\n",
      "7 True\n",
      "8 True\n",
      "9 True\n",
      "10 True\n",
      "11 True\n",
      "12 True\n",
      "13 True\n",
      "14 True\n",
      "15 True\n",
      "16 True\n",
      "17 True\n",
      "18 True\n",
      "19 True\n",
      "20 True\n",
      "21 True\n",
      "22 True\n",
      "23 True\n",
      "24 True\n",
      "25 True\n",
      "26 True\n",
      "27 True\n",
      "28 True\n",
      "29 True\n",
      "30 True\n",
      "31 True\n",
      "32 True\n",
      "33 True\n",
      "34 True\n",
      "35 True\n",
      "36 True\n",
      "37 True\n",
      "38 True\n",
      "39 True\n",
      "40 True\n",
      "41 True\n",
      "42 True\n",
      "43 True\n",
      "44 True\n",
      "45 True\n",
      "46 True\n",
      "47 True\n",
      "48 True\n",
      "49 True\n",
      "50 True\n"
     ]
    }
   ],
   "source": [
    "# 2번 정답\n",
    "Ans = nltk.corpus.PlaintextCorpusReader('./Q2_Ans','.*').fileids()\n",
    "Out = nltk.corpus.PlaintextCorpusReader('./Q2_Out','.*').fileids()\n",
    "for i in range(len(Out)):\n",
    "    print(i+1, compare_text_files(f'./Q2_Ans/{Ans[i]}', f'./Q2_Out/{Out[i]}'))"
   ]
  }
 ],
 "metadata": {
  "kernelspec": {
   "display_name": "Python 3 (ipykernel)",
   "language": "python",
   "name": "python3"
  },
  "language_info": {
   "codemirror_mode": {
    "name": "ipython",
    "version": 3
   },
   "file_extension": ".py",
   "mimetype": "text/x-python",
   "name": "python",
   "nbconvert_exporter": "python",
   "pygments_lexer": "ipython3",
   "version": "3.9.16"
  },
  "toc": {
   "base_numbering": 1,
   "nav_menu": {},
   "number_sections": true,
   "sideBar": true,
   "skip_h1_title": false,
   "title_cell": "Table of Contents",
   "title_sidebar": "Contents",
   "toc_cell": false,
   "toc_position": {
    "height": "calc(100% - 180px)",
    "left": "10px",
    "top": "150px",
    "width": "232.727px"
   },
   "toc_section_display": true,
   "toc_window_display": false
  }
 },
 "nbformat": 4,
 "nbformat_minor": 5
}
