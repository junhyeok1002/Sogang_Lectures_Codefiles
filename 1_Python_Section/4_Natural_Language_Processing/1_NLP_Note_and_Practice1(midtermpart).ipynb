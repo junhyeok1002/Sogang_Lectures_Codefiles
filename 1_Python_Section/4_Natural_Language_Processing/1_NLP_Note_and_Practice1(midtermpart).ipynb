{
 "cells": [
  {
   "cell_type": "markdown",
   "id": "83f357a2",
   "metadata": {},
   "source": [
    "## 파이썬 기초정리 1"
   ]
  },
  {
   "cell_type": "markdown",
   "id": "cb466668",
   "metadata": {},
   "source": [
    "### 문자열\n",
    "나머지 : %, 몫 : //"
   ]
  },
  {
   "cell_type": "code",
   "execution_count": 1,
   "id": "45f7409c",
   "metadata": {
    "ExecuteTime": {
     "end_time": "2023-04-25T03:58:03.703713Z",
     "start_time": "2023-04-25T03:58:03.681672Z"
    }
   },
   "outputs": [
    {
     "name": "stdout",
     "output_type": "stream",
     "text": [
      "('a',)\n",
      "a\n"
     ]
    }
   ],
   "source": [
    "a = 'abcd'; c= tuple(a) ; print(c[0:1]) ; print(c[0]) #튜플은 하나면 아래와 같이 출력"
   ]
  },
  {
   "cell_type": "code",
   "execution_count": 2,
   "id": "1ec90fce",
   "metadata": {
    "ExecuteTime": {
     "end_time": "2023-04-25T03:58:03.718365Z",
     "start_time": "2023-04-25T03:58:03.706604Z"
    }
   },
   "outputs": [
    {
     "data": {
      "text/plain": [
       "['a', 'b', 'a', 'b']"
      ]
     },
     "execution_count": 2,
     "metadata": {},
     "output_type": "execute_result"
    }
   ],
   "source": [
    "b = list(a) ; b[:2]*2 #리스트, 튜플 전부 더하기 곱하기 가능!"
   ]
  },
  {
   "cell_type": "code",
   "execution_count": 3,
   "id": "1a117d38",
   "metadata": {
    "ExecuteTime": {
     "end_time": "2023-04-25T03:58:03.733570Z",
     "start_time": "2023-04-25T03:58:03.720568Z"
    }
   },
   "outputs": [
    {
     "name": "stdout",
     "output_type": "stream",
     "text": [
      "e: {2, 3, 12}\n",
      "d: {} <class 'dict'>\n"
     ]
    }
   ],
   "source": [
    "e = {2,12,3,2} ; print('e:',e) # 이건 set임\n",
    "d = {}; print('d:',d, type(d)) #이건 dict임"
   ]
  },
  {
   "cell_type": "code",
   "execution_count": 4,
   "id": "db98d19e",
   "metadata": {
    "ExecuteTime": {
     "end_time": "2023-04-25T03:58:03.748493Z",
     "start_time": "2023-04-25T03:58:03.736527Z"
    }
   },
   "outputs": [
    {
     "name": "stdout",
     "output_type": "stream",
     "text": [
      "True\n",
      "False\n"
     ]
    }
   ],
   "source": [
    "d = {'a': 2, 'b': 1}\n",
    "print('a' in d) ; print(2 in d) # 사전은 in을 썼을때 key로 탐색"
   ]
  },
  {
   "cell_type": "code",
   "execution_count": 5,
   "id": "6564a910",
   "metadata": {
    "ExecuteTime": {
     "end_time": "2023-04-25T03:58:03.763488Z",
     "start_time": "2023-04-25T03:58:03.750490Z"
    }
   },
   "outputs": [
    {
     "name": "stdout",
     "output_type": "stream",
     "text": [
      "a\n",
      "b\n"
     ]
    }
   ],
   "source": [
    "for i in d:#그렇다고 d[0]이 a는 X -> 사전은 순서가 없어서 인덱싱이 안됨(key로 검색)\n",
    "    print(i) "
   ]
  },
  {
   "cell_type": "code",
   "execution_count": 6,
   "id": "f708982c",
   "metadata": {
    "ExecuteTime": {
     "end_time": "2023-04-25T03:58:03.778465Z",
     "start_time": "2023-04-25T03:58:03.765450Z"
    }
   },
   "outputs": [
    {
     "name": "stdout",
     "output_type": "stream",
     "text": [
      "upper :  THEY'RE BILL'S FRIENDS FRPM THE UK.\n",
      "lower :  they're bill's friends frpm the uk.\n",
      "capitalize :  They're bill's friends frpm the uk.\n",
      "title :  They'Re Bill'S Friends Frpm The Uk.\n"
     ]
    }
   ],
   "source": [
    "a = \"they're Bill's friends frpm the UK.\"\n",
    "print('upper : ',a.upper())\n",
    "print('lower : ',a.lower())\n",
    "print('capitalize : ',a.capitalize()) #첫 문자만 대문자화, 나머지는 소문자화\n",
    "print('title : ',a.title()) #각 단어 첫 알파벳은 대문좌화 나머지는 소문자화 + 참고) Apostrophe(')다음은 대문자이다"
   ]
  },
  {
   "cell_type": "code",
   "execution_count": 7,
   "id": "15251ee4",
   "metadata": {
    "ExecuteTime": {
     "end_time": "2023-04-25T03:58:03.793491Z",
     "start_time": "2023-04-25T03:58:03.781020Z"
    }
   },
   "outputs": [
    {
     "name": "stdout",
     "output_type": "stream",
     "text": [
      "a : they're Bill's friends frpm the UK.\n",
      "a.find('e') : 2\n",
      "a.find('e',3,6) : -1\n",
      "a.rfind('e') : 30\n",
      "a.startsswith(\"t\") : True\n",
      "a.endswith(\"UK.\") : True\n"
     ]
    }
   ],
   "source": [
    "print('a :',a)\n",
    "print('a.find(\\'e\\') :', a.find('e')) #첫 발견한 'e'의 인덱스 + 참고) a.find('ey')도 e의 첫등장 인덱스인 2로 출력\n",
    "print('a.find(\\'e\\',3,6) :', a.find('e',3,6)) #index 3이상 6미만 탐색하여 e찾기 -> 없으면 -1반환\n",
    "print('a.rfind(\\'e\\') :', a.rfind('e')) #오른쪽부터 탐색해서 인덱스 반환\n",
    "print('a.startsswith(\\\"t\\\") :',a.startswith(\"t\")) # ~로 시작?\n",
    "print('a.endswith(\\\"UK.\\\") :',a.endswith(\"UK.\")) # ~로 끝나?"
   ]
  },
  {
   "cell_type": "code",
   "execution_count": 8,
   "id": "3157b210",
   "metadata": {
    "ExecuteTime": {
     "end_time": "2023-04-25T03:58:03.808369Z",
     "start_time": "2023-04-25T03:58:03.795366Z"
    }
   },
   "outputs": [
    {
     "name": "stdout",
     "output_type": "stream",
     "text": [
      "True\n",
      "True\n",
      "False\n"
     ]
    }
   ],
   "source": [
    "print('abc한글123'.isalnum()) # 자매품 isalpha(), isdigit(), islower(), isupper(), istitle()\n",
    "print('abc    123%^&.'.isprintable()) # \\t, \\n 등이 있으면 False, \" \"같은 공백은 괜찮음\n",
    "print('ffff \\n \\t '.isspace()) # \\t, \\n,\" \"공백 들로만 이루어져 있으면 True"
   ]
  },
  {
   "cell_type": "code",
   "execution_count": 9,
   "id": "7dbc4bcc",
   "metadata": {
    "ExecuteTime": {
     "end_time": "2023-04-25T03:58:03.838305Z",
     "start_time": "2023-04-25T03:58:03.809592Z"
    }
   },
   "outputs": [
    {
     "data": {
      "text/plain": [
       "'I like\\t\\nprogramming.'"
      ]
     },
     "metadata": {},
     "output_type": "display_data"
    },
    {
     "data": {
      "text/plain": [
       "' \\nI like\\t\\npro'"
      ]
     },
     "metadata": {},
     "output_type": "display_data"
    },
    {
     "data": {
      "text/plain": [
       "'\\t \\nI like\\t\\nprograMMing.\\n\\n'"
      ]
     },
     "metadata": {},
     "output_type": "display_data"
    },
    {
     "data": {
      "text/plain": [
       "['I', 'like', 'programming.']"
      ]
     },
     "metadata": {},
     "output_type": "display_data"
    },
    {
     "data": {
      "text/plain": [
       "['\\t ', 'I like\\t', 'programming.', '', '']"
      ]
     },
     "metadata": {},
     "output_type": "display_data"
    }
   ],
   "source": [
    "a = '\\t \\nI like\\t\\nprogramming.\\n\\n'\n",
    "display( a.strip()) #문자 좌우 공백제거, 자매품 a.rstrip()  a.ㅣstrip() 좌우공백제거\n",
    "display( a.strip('\\n.\\tgnimar')) # 양옆에서 \\n . \\t g n i m a r가 나오면 지우고 안나오면 stop \n",
    "display(a.replace('m','M')) #m을 전부 M으로 대체\n",
    "display(a.split()) #공백기준으로 나누어서 리스트, 인자를 주면 그것을 기준으로 나눔,  split(' ')과 다름!\n",
    "display(a.split('\\n')) #줄바꿈 기준 나누어서 리스트, 줄을 마지막에 2번 바꿔서 빈공백 2개도 같이 출력"
   ]
  },
  {
   "cell_type": "code",
   "execution_count": 10,
   "id": "133bdf62",
   "metadata": {
    "ExecuteTime": {
     "end_time": "2023-04-25T03:58:03.868214Z",
     "start_time": "2023-04-25T03:58:03.844260Z"
    },
    "scrolled": true
   },
   "outputs": [
    {
     "data": {
      "text/plain": [
       "['\\t ', 'I like\\t', 'programming.', '']"
      ]
     },
     "metadata": {},
     "output_type": "display_data"
    },
    {
     "data": {
      "text/plain": [
       "['\\t \\n', 'I like\\t\\n', 'programming.\\n', '\\n']"
      ]
     },
     "metadata": {},
     "output_type": "display_data"
    },
    {
     "data": {
      "text/plain": [
       "('\\t \\nI like\\t\\nprogrammi', 'n', 'g.\\n\\n')"
      ]
     },
     "metadata": {},
     "output_type": "display_data"
    },
    {
     "data": {
      "text/plain": [
       "'I:like:programming.'"
      ]
     },
     "metadata": {},
     "output_type": "display_data"
    }
   ],
   "source": [
    "a = '\\t \\nI like\\t\\nprogramming.\\n\\n'\n",
    "display(a.splitlines()) #줄바꿈기준(한줄 : ~~~문자열 \\n)으로 나누어서 리스트, split('\\n')과 다름\n",
    "display(a.splitlines(True)) #줄바꿈기준(한줄 : ~~~문자열 \\n)으로 나누어서 리스트, True하면 \\n포함 여부 결정, default는 False\n",
    "display(a.partition('n')) #첫 일치 문자열 기준 앞뒤로 쪼개서 튜플로 반환, 일치문자 없으면 -> (전체문자, 빈문자, 빈문자)\n",
    "# 참고) rpartition도 있음\n",
    "display(\":\".join(a.split())) # 나눠진 것을 ':'로 사이를 메꿔서 붙이기"
   ]
  },
  {
   "cell_type": "markdown",
   "id": "30a814e1",
   "metadata": {},
   "source": [
    "### 연습문제 1"
   ]
  },
  {
   "cell_type": "code",
   "execution_count": 11,
   "id": "b5a62593",
   "metadata": {
    "ExecuteTime": {
     "end_time": "2023-04-25T03:58:03.883173Z",
     "start_time": "2023-04-25T03:58:03.869170Z"
    }
   },
   "outputs": [
    {
     "name": "stdout",
     "output_type": "stream",
     "text": [
      "\n",
      "abc\n",
      "abc\n",
      "abc\n"
     ]
    }
   ],
   "source": [
    "a = '\\nabc\\nabc\\nabc'\n",
    "print(a)"
   ]
  },
  {
   "cell_type": "markdown",
   "id": "7959e362",
   "metadata": {},
   "source": [
    "b = ???\n",
    "<br> 결과 : ['\\n', 'abc\\n', 'abc\\n']"
   ]
  },
  {
   "cell_type": "code",
   "execution_count": 12,
   "id": "041baad8",
   "metadata": {
    "ExecuteTime": {
     "end_time": "2023-04-25T03:58:03.898091Z",
     "start_time": "2023-04-25T03:58:03.885128Z"
    }
   },
   "outputs": [
    {
     "data": {
      "text/plain": [
       "['\\n', 'abc\\n', 'abc\\n']"
      ]
     },
     "execution_count": 12,
     "metadata": {},
     "output_type": "execute_result"
    }
   ],
   "source": [
    "a.splitlines(True)[:-1]"
   ]
  },
  {
   "cell_type": "code",
   "execution_count": 13,
   "id": "e2326cab",
   "metadata": {
    "ExecuteTime": {
     "end_time": "2023-04-25T03:58:03.913143Z",
     "start_time": "2023-04-25T03:58:03.900124Z"
    }
   },
   "outputs": [
    {
     "data": {
      "text/plain": [
       "['\\n', 'abc\\n', 'abc\\n']"
      ]
     },
     "metadata": {},
     "output_type": "display_data"
    }
   ],
   "source": [
    "display(a.strip('abc').splitlines(True)) #rstrip도 가능"
   ]
  },
  {
   "cell_type": "markdown",
   "id": "2dc04c8c",
   "metadata": {},
   "source": [
    "### 연습문제 2"
   ]
  },
  {
   "cell_type": "code",
   "execution_count": 14,
   "id": "9d7b9cab",
   "metadata": {
    "ExecuteTime": {
     "end_time": "2023-04-25T03:58:03.928013Z",
     "start_time": "2023-04-25T03:58:03.915046Z"
    }
   },
   "outputs": [],
   "source": [
    "a = 'A:aA:A:A'"
   ]
  },
  {
   "cell_type": "markdown",
   "id": "69d33046",
   "metadata": {},
   "source": [
    "b -> 'A*:*aA:A:A'"
   ]
  },
  {
   "cell_type": "code",
   "execution_count": 15,
   "id": "8e46da41",
   "metadata": {
    "ExecuteTime": {
     "end_time": "2023-04-25T03:58:03.943099Z",
     "start_time": "2023-04-25T03:58:03.930009Z"
    }
   },
   "outputs": [
    {
     "data": {
      "text/plain": [
       "'A*:*aA:A:A'"
      ]
     },
     "metadata": {},
     "output_type": "display_data"
    },
    {
     "data": {
      "text/plain": [
       "'A*:*aA:A:A'"
      ]
     },
     "metadata": {},
     "output_type": "display_data"
    }
   ],
   "source": [
    "display(\"*\".join(a.partition(':')))\n",
    "display(a.replace(\":\",\"*:*\",1)) #1,2,3 숫자 들은 앞에서 부터 매치되는 문자열 n개를 바꿔주겠다는 의미"
   ]
  },
  {
   "cell_type": "code",
   "execution_count": 16,
   "id": "1bf2f756",
   "metadata": {
    "ExecuteTime": {
     "end_time": "2023-04-25T03:58:03.958024Z",
     "start_time": "2023-04-25T03:58:03.944968Z"
    }
   },
   "outputs": [],
   "source": [
    "a = 'A:apple'"
   ]
  },
  {
   "cell_type": "markdown",
   "id": "6c3c28c2",
   "metadata": {},
   "source": [
    "b -> ['A', 'Apple']"
   ]
  },
  {
   "cell_type": "code",
   "execution_count": 17,
   "id": "0785398d",
   "metadata": {
    "ExecuteTime": {
     "end_time": "2023-04-25T03:58:03.973040Z",
     "start_time": "2023-04-25T03:58:03.961251Z"
    }
   },
   "outputs": [
    {
     "data": {
      "text/plain": [
       "['A', 'Apple']"
      ]
     },
     "metadata": {},
     "output_type": "display_data"
    },
    {
     "data": {
      "text/plain": [
       "['A', 'Apple']"
      ]
     },
     "metadata": {},
     "output_type": "display_data"
    }
   ],
   "source": [
    "display(a.title().split(':'))\n",
    "display(a.replace(\":a\",\":A\").split(':'))"
   ]
  },
  {
   "cell_type": "markdown",
   "id": "c80ea13d",
   "metadata": {},
   "source": [
    "## 파이썬 기초정리 2\n",
    "- 사전, 집합, 리스트"
   ]
  },
  {
   "cell_type": "markdown",
   "id": "d8f5915e",
   "metadata": {},
   "source": [
    "### 리스트"
   ]
  },
  {
   "cell_type": "code",
   "execution_count": 18,
   "id": "8cfab217",
   "metadata": {
    "ExecuteTime": {
     "end_time": "2023-04-25T03:58:03.987889Z",
     "start_time": "2023-04-25T03:58:03.974888Z"
    }
   },
   "outputs": [
    {
     "name": "stdout",
     "output_type": "stream",
     "text": [
      "[1, 2, 3, 4, 5, 6]\n",
      "[1, 2, 3, 4, 5, 6, 'asd']\n",
      "[1, 2, 3, 4, 5, 6, 'asd', 's', 'd', 'f', 'd']\n",
      "[1, 2, 3, 4, 5, 6, 'asd', 's', 'd', 'f', 'd', 'ab', 'd', 'f']\n"
     ]
    }
   ],
   "source": [
    "a = [1,2,3,4,5,6] ; print(a)\n",
    "a.append('asd') ; print(a)\n",
    "a.extend(\"sdfd\") ; print(a) #중요! 문자열 하나를 extend하면 나눠서 들어간다\n",
    "a.extend(['ab','d','f']) ; print(a)"
   ]
  },
  {
   "cell_type": "code",
   "execution_count": 19,
   "id": "9f041b20",
   "metadata": {
    "ExecuteTime": {
     "end_time": "2023-04-25T03:58:04.002812Z",
     "start_time": "2023-04-25T03:58:03.990764Z"
    }
   },
   "outputs": [
    {
     "name": "stdout",
     "output_type": "stream",
     "text": [
      "[1, 1, 2, 3]\n",
      "[1, 1, 10, 2, 3]\n",
      "[3, 2, 10, 1, 1]\n",
      "[10, 3, 2, 1, 1]\n"
     ]
    }
   ],
   "source": [
    "a=[1,2,1,2,3]\n",
    "a.remove(2) ; print(a) #앞에서 부터 하나 제거\n",
    "a.insert(2, 10); print(a) #리스트를 그대로 삽입도 가능\n",
    "a.reverse() ; print(a) #reverse는 숫자 내림차순이 아니라 그냥 역순 뒤집기\n",
    "a.sort(reverse = True) ; print(a) # 내림차순, sort()기본은 오름차순"
   ]
  },
  {
   "cell_type": "markdown",
   "id": "a6976ed1",
   "metadata": {},
   "source": [
    "### 사전"
   ]
  },
  {
   "cell_type": "code",
   "execution_count": 20,
   "id": "8082b83c",
   "metadata": {
    "ExecuteTime": {
     "end_time": "2023-04-25T03:58:04.017791Z",
     "start_time": "2023-04-25T03:58:04.005804Z"
    }
   },
   "outputs": [
    {
     "name": "stdout",
     "output_type": "stream",
     "text": [
      "dict_values([1, 2])\n",
      "dict_items([('b', 1), ('a', 2)])\n"
     ]
    }
   ],
   "source": [
    "a = {'b':1, 'a':2}\n",
    "print(a.values())\n",
    "print(a.items()) # 리스트 아님 주의"
   ]
  },
  {
   "cell_type": "markdown",
   "id": "c87f7716",
   "metadata": {},
   "source": [
    "### 집합\n",
    "- 숫자, 문자열, 튜플만 set의 원소가 될 수 있다 -> 수정 불가능한 data type\n",
    "- list, dict 같이 수정 가능한 것은 안됨\n",
    "- set은 출력 순서가 의미 없다"
   ]
  },
  {
   "cell_type": "code",
   "execution_count": 21,
   "id": "7f724c58",
   "metadata": {
    "ExecuteTime": {
     "end_time": "2023-04-25T03:58:04.032766Z",
     "start_time": "2023-04-25T03:58:04.021769Z"
    }
   },
   "outputs": [
    {
     "name": "stdout",
     "output_type": "stream",
     "text": [
      "{'ab', 'bc'}\n",
      "{1, 'ab', 'bc'}\n",
      "{1, 2, 3, 'ab', 'bc'}\n",
      "{1, 2, 'ab', 'bc'}\n",
      "{1, 2, 'ab', 'k', 'kk', 'bc'}\n"
     ]
    }
   ],
   "source": [
    "a = {'ab', 'bc', 'bc'} ; print(a) #중복제거\n",
    "a.add(1) ; print(a) # 원소 하나 추가\n",
    "a.update([2,3]) ; print(a) #2개 이상 추가\n",
    "a.discard(3) ; print(a) # 삭제\n",
    "a.update({'k':1, 'kk':3}); print(a)#사전을 업데이트하면 key만 넣음"
   ]
  },
  {
   "cell_type": "code",
   "execution_count": 22,
   "id": "08c1b4d4",
   "metadata": {
    "ExecuteTime": {
     "end_time": "2023-04-25T03:58:04.047692Z",
     "start_time": "2023-04-25T03:58:04.034728Z"
    }
   },
   "outputs": [
    {
     "name": "stdout",
     "output_type": "stream",
     "text": [
      "{1, 2, 3, 4}\n",
      "{2, 3}\n",
      "{1}\n",
      "{1, 4}\n"
     ]
    }
   ],
   "source": [
    "a = {1,2,3} ; b={2,3,4}\n",
    "print(a.union(b)) # = a | b, 합집합, a에 바로 반영되지 않음\n",
    "print(a.intersection(b)) # a & b, 교집합, a에 바로 반영되지 않음\n",
    "print(a.difference(b)) # a - b, 차집합, a에 바로 반영되지 않음\n",
    "print(a.symmetric_difference(b)) # a ^ b, 대칭차집합(합집합 - 교집합), a에 바로 반영되지 않음"
   ]
  },
  {
   "cell_type": "code",
   "execution_count": 23,
   "id": "0deee7c3",
   "metadata": {
    "ExecuteTime": {
     "end_time": "2023-04-25T03:58:04.062690Z",
     "start_time": "2023-04-25T03:58:04.049720Z"
    }
   },
   "outputs": [
    {
     "name": "stdout",
     "output_type": "stream",
     "text": [
      "{1, 2, 3, 4}\n",
      "{2, 3, 4}\n",
      "set()\n",
      "{2, 3, 4}\n"
     ]
    }
   ],
   "source": [
    "a = {1,2,3} ; b={2,3,4}\n",
    "a.update(b) ; print(a) # = a |= b, 합집합으로 업데이트, a에 바로 반영\n",
    "a.intersection_update(b); print(a) # a &= b, 교집합으로 업데이트, a에 바로 반영\n",
    "a.difference_update(b); print(a) # a -= b, 차집합으로 업데이트, a에 바로 반영\n",
    "a.symmetric_difference_update(b) ; print(a)# a ^= b, 대칭차집합(합집합 - 교집합)으로 업데이트, a에 바로 반영"
   ]
  },
  {
   "cell_type": "markdown",
   "id": "04531ad9",
   "metadata": {},
   "source": [
    "### 연습문제 1"
   ]
  },
  {
   "cell_type": "code",
   "execution_count": 24,
   "id": "2a44740d",
   "metadata": {
    "ExecuteTime": {
     "end_time": "2023-04-25T03:58:04.077649Z",
     "start_time": "2023-04-25T03:58:04.064647Z"
    }
   },
   "outputs": [
    {
     "name": "stdout",
     "output_type": "stream",
     "text": [
      "['I', ' ', 'a', 'm', ' ', 'n', 'o', 't', ' ', 'g', 'o', 'o', 'd', ' ', 'i', 'n', ' ', 'p', 'r', 'o', 'g', 'r', 'a', 'm', 'm', 'i', 'n', 'g', '.']\n",
      "['n', ' ', 'i', 'I', 'p', 't', 'g', 'd', 'r', '.', 'a', 'o', 'm']\n"
     ]
    }
   ],
   "source": [
    "a = \"I am not good in programming.\"\n",
    "print(list(a)) #문자열을 리스트로\n",
    "print(list(set(a))) #문자열을 중복 제거 후 리스트로"
   ]
  },
  {
   "cell_type": "code",
   "execution_count": 25,
   "id": "2d1d36f0",
   "metadata": {
    "ExecuteTime": {
     "end_time": "2023-04-25T03:58:04.092610Z",
     "start_time": "2023-04-25T03:58:04.079606Z"
    }
   },
   "outputs": [
    {
     "name": "stdout",
     "output_type": "stream",
     "text": [
      "{'I': 1, ' ': 5, 'a': 2, 'm': 3, 'n': 3, 'o': 4, 't': 1, 'g': 3, 'd': 1, 'i': 2, 'p': 1, 'r': 2, '.': 1}\n",
      "{'I': 1, ' ': 5, 'a': 2, 'm': 3, 'n': 3, 'o': 4, 't': 1, 'g': 3, 'd': 1, 'i': 2, 'p': 1, 'r': 2, '.': 1}\n"
     ]
    }
   ],
   "source": [
    "b = {} #사전O, 집합X\n",
    "for i in a:\n",
    "    b[i] = a.count(i)\n",
    "print(b)\n",
    "print({i: a.count(i) for i in a}) #comprehension 방법"
   ]
  },
  {
   "cell_type": "code",
   "execution_count": 26,
   "id": "4a4cc889",
   "metadata": {
    "ExecuteTime": {
     "end_time": "2023-04-25T03:58:04.107397Z",
     "start_time": "2023-04-25T03:58:04.094567Z"
    }
   },
   "outputs": [
    {
     "name": "stdout",
     "output_type": "stream",
     "text": [
      "[('I', 1), (' ', 5), ('a', 2), ('m', 3), ('n', 3), ('o', 4), ('t', 1), ('g', 3), ('d', 1), ('i', 2), ('p', 1), ('r', 2), ('.', 1)]\n",
      "[('I', 1), (' ', 5), ('d', 1), ('i', 2), ('n', 3), ('g', 3), ('.', 1), ('a', 2), ('r', 2), ('m', 3), ('o', 4), ('p', 1), ('t', 1)]\n"
     ]
    }
   ],
   "source": [
    "print(list(b.items())) \n",
    "print(list(set([(i,a.count(i)) for i in a]))) #list comprehension 버전"
   ]
  },
  {
   "cell_type": "markdown",
   "id": "47a6d4e0",
   "metadata": {},
   "source": [
    "### list comprehension\n",
    "- 변수를 local로 생성했다가 지워서 메모리 측면이나 속도 측면에서 유리\n",
    "- 구조는 [출력부 조건부]이며 출력부에는 삼항연산자를 이용해 if else if else 여러개 가능하다. 조건부에는 for문과 if문이 들어가는데 순서대로 쌓여진다고 생각하면 된다(for if for이면 for문 돌면서 if문 ture면 안에 for문 돌기, for for if 면 2중 for돌면서 if문 true면 넣기)\n",
    "<br>+ 겉을 {}로해서 사전이나 집합으로 만들 수도 있음 + 튜플\n",
    "- 한줄코드의 장점 : 함수의 논항(argument, input값)에 쓸 수 있다"
   ]
  },
  {
   "cell_type": "code",
   "execution_count": 27,
   "id": "e497913a",
   "metadata": {
    "ExecuteTime": {
     "end_time": "2023-04-25T03:58:04.122490Z",
     "start_time": "2023-04-25T03:58:04.108529Z"
    }
   },
   "outputs": [
    {
     "data": {
      "text/plain": [
       "<generator object <genexpr> at 0x000001A0AA351A50>"
      ]
     },
     "execution_count": 27,
     "metadata": {},
     "output_type": "execute_result"
    }
   ],
   "source": [
    "(i for i in range(5)) #generator"
   ]
  },
  {
   "cell_type": "code",
   "execution_count": 28,
   "id": "0bf5268a",
   "metadata": {
    "ExecuteTime": {
     "end_time": "2023-04-25T03:58:04.152455Z",
     "start_time": "2023-04-25T03:58:04.130895Z"
    }
   },
   "outputs": [
    {
     "data": {
      "text/plain": [
       "(0, 1, 2, 3, 4)"
      ]
     },
     "execution_count": 28,
     "metadata": {},
     "output_type": "execute_result"
    }
   ],
   "source": [
    "tuple(i for i in range(5)) #tuple"
   ]
  },
  {
   "cell_type": "code",
   "execution_count": 29,
   "id": "aebb3d41",
   "metadata": {
    "ExecuteTime": {
     "end_time": "2023-04-25T03:58:04.167183Z",
     "start_time": "2023-04-25T03:58:04.155404Z"
    }
   },
   "outputs": [
    {
     "name": "stdout",
     "output_type": "stream",
     "text": [
      "[0, 1, 2, 3, 4]\n",
      "[0, 1, 2, 3, 4]\n"
     ]
    }
   ],
   "source": [
    "print(list(i for i in range(5))) #list\n",
    "print([i for i in range(5)]) #list"
   ]
  },
  {
   "cell_type": "code",
   "execution_count": 30,
   "id": "f5fc36c1",
   "metadata": {
    "ExecuteTime": {
     "end_time": "2023-04-25T03:58:04.182366Z",
     "start_time": "2023-04-25T03:58:04.169374Z"
    }
   },
   "outputs": [
    {
     "name": "stdout",
     "output_type": "stream",
     "text": [
      "{0, 1, 2, 3, 4}\n",
      "{0, 1, 2, 3, 4}\n"
     ]
    }
   ],
   "source": [
    "print(set(i for i in range(5))) #set\n",
    "print({i for i in range(5)}) #set"
   ]
  },
  {
   "cell_type": "code",
   "execution_count": 31,
   "id": "416cfa5d",
   "metadata": {
    "ExecuteTime": {
     "end_time": "2023-04-25T03:58:04.197291Z",
     "start_time": "2023-04-25T03:58:04.184329Z"
    }
   },
   "outputs": [
    {
     "name": "stdout",
     "output_type": "stream",
     "text": [
      "{0: 0, 1: 1, 2: 4, 3: 9, 4: 16}\n"
     ]
    }
   ],
   "source": [
    "print({i:i**2 for i in range(5)}) #dict"
   ]
  },
  {
   "cell_type": "markdown",
   "id": "24578787",
   "metadata": {},
   "source": [
    "### 연습문제 2"
   ]
  },
  {
   "cell_type": "code",
   "execution_count": 32,
   "id": "69062a0d",
   "metadata": {
    "ExecuteTime": {
     "end_time": "2023-04-25T03:58:04.212251Z",
     "start_time": "2023-04-25T03:58:04.199286Z"
    }
   },
   "outputs": [
    {
     "data": {
      "text/plain": [
       "[('Susie', 'Tom'),\n",
       " ('Susie', 'Billy'),\n",
       " ('Susie', 'Jefferson'),\n",
       " ('Eva', 'Tom'),\n",
       " ('Eva', 'Billy'),\n",
       " ('Eva', 'Jefferson'),\n",
       " ('Stephanie', 'Tom'),\n",
       " ('Stephanie', 'Billy'),\n",
       " ('Stephanie', 'Jefferson')]"
      ]
     },
     "execution_count": 32,
     "metadata": {},
     "output_type": "execute_result"
    }
   ],
   "source": [
    "Female = ['Susie','Eva','Stephanie']\n",
    "Male = [\"Tom\",\"Billy\",\"Jefferson\"]\n",
    "names = [(x,y) for x in Female for y in Male]\n",
    "names"
   ]
  },
  {
   "cell_type": "code",
   "execution_count": 144,
   "id": "13c623cd",
   "metadata": {
    "ExecuteTime": {
     "end_time": "2023-04-25T04:06:51.568958Z",
     "start_time": "2023-04-25T04:06:51.553877Z"
    }
   },
   "outputs": [
    {
     "data": {
      "text/plain": [
       "5"
      ]
     },
     "execution_count": 144,
     "metadata": {},
     "output_type": "execute_result"
    }
   ],
   "source": [
    "a = 'dfsfsfasfsfsda'\n",
    "a.count('f')"
   ]
  },
  {
   "cell_type": "markdown",
   "id": "4d412c37",
   "metadata": {},
   "source": [
    "### 연습문제 3"
   ]
  },
  {
   "cell_type": "code",
   "execution_count": 33,
   "id": "e3a5fb68",
   "metadata": {
    "ExecuteTime": {
     "end_time": "2023-04-25T03:58:04.227211Z",
     "start_time": "2023-04-25T03:58:04.215314Z"
    }
   },
   "outputs": [
    {
     "data": {
      "text/plain": [
       "[(('Susie', 5), ('Tom', 3)),\n",
       " (('Susie', 5), ('Billy', 5)),\n",
       " (('Jefferson', 9), ('Susie', 5)),\n",
       " (('Eva', 3), ('Tom', 3)),\n",
       " (('Billy', 5), ('Eva', 3)),\n",
       " (('Jefferson', 9), ('Eva', 3)),\n",
       " (('Stephanie', 9), ('Tom', 3)),\n",
       " (('Stephanie', 9), ('Billy', 5)),\n",
       " (('Stephanie', 9), ('Jefferson', 9))]"
      ]
     },
     "execution_count": 33,
     "metadata": {},
     "output_type": "execute_result"
    }
   ],
   "source": [
    "names = [((x, len(x)), (y, len(y))) if len(x) >= len(y) else ((y, len(y)), (x, len(x)))  for x in Female for y in Male] \n",
    "names"
   ]
  },
  {
   "cell_type": "markdown",
   "id": "cdb0ce5e",
   "metadata": {},
   "source": [
    "## 파이썬 기초정리 3 "
   ]
  },
  {
   "cell_type": "markdown",
   "id": "328165d6",
   "metadata": {},
   "source": [
    "### 정규표현식 메타문자\n",
    "__< 반복메타문자 >__\n",
    "<br>\\* : 0회이상 반복\n",
    "<br>\\+ : 1회이상 반복\n",
    "<br>? : 0 or 1회 반복\n",
    "<br>{m,n} : m회이상 n회 이하 반복 -> 주의 띄어쓰기 사용금지, 자매품 : {m,} {,n}\n",
    "\n",
    "__< 매칭 및 기타 메타문자 >__\n",
    "<br>\\.(점) : \\n을 제외한 하나의 문자와 매치(어떤 문자이든 OK)\n",
    "<br>^ : 문자열의 시작과 매치 -> 주의! ^는 []안에 들어가면 not의 의미이다\n",
    "<br>$ : 문자열의 끝과 매치 or 문자열 마지막이 \\n일 경우 바로 전과 매치\n",
    "<br>{m,n} : m회이상 n회 이하 반복 -> 주의 띄어쓰기 사용금지, 자매품 : {m,} {,n}\n",
    "<br>[] : 문자목록집합 -> [abc]는 a, b, c 중 하나를 의미 -> 응용: [a-zA-Z0-9]\n",
    "<br> | : a|b와 같이 '또는'의 의미\n",
    "<br>() : 정규표현 그룹화\n",
    "\n",
    "__< 이스케이프 문자 >__\n",
    "<br>\\d : 모든숫자 문자  [0-9]\n",
    "<br>\\D : 숫자문자외 문자 [^0-9]\n",
    "<br>\\s : white space [\\t\\n] -> spacebar 1개 공백도 포함\n",
    "<br>\\S : white space외 문자 [^\\t\\n]\n",
    "<br>\\w : 숫자, 자연어, 밑줄_와 매치\n",
    "<br>\\W : 숫자, 자연어, 밑줄_외 문자와 매치\n",
    "<br>\\b : 어휘경계(\\w\\W의 사이) or 문자열 시작/끝과 \\w사이\n",
    "<br>\\B : 비어휘경계, \\b가 아닌 경계"
   ]
  },
  {
   "cell_type": "markdown",
   "id": "db11e3da",
   "metadata": {},
   "source": [
    "### match 함수"
   ]
  },
  {
   "cell_type": "code",
   "execution_count": 149,
   "id": "da17ef3a",
   "metadata": {
    "ExecuteTime": {
     "end_time": "2023-04-25T04:08:40.752023Z",
     "start_time": "2023-04-25T04:08:40.742089Z"
    }
   },
   "outputs": [
    {
     "name": "stdout",
     "output_type": "stream",
     "text": [
      "<re.Match object; span=(0, 7), match='d\\td  d '>\n"
     ]
    }
   ],
   "source": [
    "print(re.match('.+',\"d\\td  d \\n\")) #앞에서부터 숫자하나 매치\n"
   ]
  },
  {
   "cell_type": "code",
   "execution_count": 34,
   "id": "6e85642f",
   "metadata": {
    "ExecuteTime": {
     "end_time": "2023-04-25T03:58:04.242207Z",
     "start_time": "2023-04-25T03:58:04.230417Z"
    }
   },
   "outputs": [
    {
     "name": "stdout",
     "output_type": "stream",
     "text": [
      "<re.Match object; span=(0, 1), match='1'>\n",
      "<re.Match object; span=(0, 1), match='1'>\n",
      "None\n"
     ]
    }
   ],
   "source": [
    "import re\n",
    "print(re.match('[\\d]',\"1234\")) #앞에서부터 숫자하나 매치\n",
    "print(re.match('1',\"1234\")) #앞에서부터 1매치\n",
    "print(re.match('2',\"1234\")) #앞에서부터매치 -> 매치안되면 NoneType"
   ]
  },
  {
   "cell_type": "code",
   "execution_count": 35,
   "id": "65ced9f2",
   "metadata": {
    "ExecuteTime": {
     "end_time": "2023-04-25T03:58:04.272128Z",
     "start_time": "2023-04-25T03:58:04.244167Z"
    }
   },
   "outputs": [
    {
     "data": {
      "text/plain": [
       "'3456'"
      ]
     },
     "metadata": {},
     "output_type": "display_data"
    },
    {
     "data": {
      "text/plain": [
       "'3456abc'"
      ]
     },
     "metadata": {},
     "output_type": "display_data"
    },
    {
     "data": {
      "text/plain": [
       "'3456abc\\t\\n'"
      ]
     },
     "metadata": {},
     "output_type": "display_data"
    },
    {
     "data": {
      "text/plain": [
       "'3456abc\\t\\n.+?*'"
      ]
     },
     "metadata": {},
     "output_type": "display_data"
    }
   ],
   "source": [
    "#여기 시험에 나옴\n",
    "display(re.match('\\d+','3456abc\\t\\n.+?*').group()) #Match안되면 NoneType인데 Group Method는 NoneType에 오류남(match안되면 오류)\n",
    "display(re.match('\\d+\\w+','3456abc\\t\\n.+?*').group())\n",
    "display(re.match('[\\w\\s]+','3456abc\\t\\n.+?*').group())\n",
    "display(re.match('[\\w\\s\\S]+','3456abc\\t\\n.+?*').group())"
   ]
  },
  {
   "cell_type": "markdown",
   "id": "e57c1921",
   "metadata": {},
   "source": [
    "### search 함수\n",
    "- search 메소드는 패턴이 문자열에서 어디에 있든지 찾아 반환하는 반면, match 메소드는 패턴이 문자열의 시작에서부터 일치 확인 후 찾아 반환.\n",
    "- group 메소드는 매칭된 것을 출력해주고\n",
    "- groups 메소드는 ()로 그룹화된 하위객체를 출력함 -> 따라서 표현식에 ()이 없으면 빈 튜플 출력"
   ]
  },
  {
   "cell_type": "code",
   "execution_count": 36,
   "id": "92156149",
   "metadata": {
    "ExecuteTime": {
     "end_time": "2023-04-25T03:58:04.317000Z",
     "start_time": "2023-04-25T03:58:04.274087Z"
    }
   },
   "outputs": [
    {
     "data": {
      "text/plain": [
       "<re.Match object; span=(0, 2), match='\\t\\n'>"
      ]
     },
     "metadata": {},
     "output_type": "display_data"
    },
    {
     "data": {
      "text/plain": [
       "<re.Match object; span=(2, 5), match='123'>"
      ]
     },
     "metadata": {},
     "output_type": "display_data"
    },
    {
     "name": "stdout",
     "output_type": "stream",
     "text": [
      "--------------------------------------------------\n"
     ]
    },
    {
     "data": {
      "text/plain": [
       "<re.Match object; span=(10, 13), match='\\t\\n\\n'>"
      ]
     },
     "metadata": {},
     "output_type": "display_data"
    },
    {
     "data": {
      "text/plain": [
       "'\\t\\n\\n'"
      ]
     },
     "metadata": {},
     "output_type": "display_data"
    },
    {
     "data": {
      "text/plain": [
       "('\\t\\n\\n',)"
      ]
     },
     "metadata": {},
     "output_type": "display_data"
    },
    {
     "name": "stdout",
     "output_type": "stream",
     "text": [
      "--------------------------------------------------\n"
     ]
    },
    {
     "data": {
      "text/plain": [
       "('\\n',)"
      ]
     },
     "metadata": {},
     "output_type": "display_data"
    },
    {
     "data": {
      "text/plain": [
       "'\\n'"
      ]
     },
     "metadata": {},
     "output_type": "display_data"
    },
    {
     "data": {
      "text/plain": [
       "'\\t\\n\\n'"
      ]
     },
     "metadata": {},
     "output_type": "display_data"
    },
    {
     "name": "stdout",
     "output_type": "stream",
     "text": [
      "--------------------------------------------------\n"
     ]
    },
    {
     "data": {
      "text/plain": [
       "()"
      ]
     },
     "metadata": {},
     "output_type": "display_data"
    },
    {
     "data": {
      "text/plain": [
       "()"
      ]
     },
     "metadata": {},
     "output_type": "display_data"
    }
   ],
   "source": [
    "# 여기 연습 많이하고 다양한 예제로 공부하기\n",
    "display(re.search('[\\s]+','\\t\\n123\\t\\nabc\\t\\n\\n'))\n",
    "display(re.search('[\\d]+','\\t\\n123\\t\\nabc\\t\\n\\n')) #search는 앞에서부터 매칭이 안되면 뒤로 넘어가서 탐색함\n",
    "print('-'*50)\n",
    "display(re.search('\\s+$','\\t\\n123\\t\\nabc\\t\\n\\n')) #문자열 끝과매치\n",
    "display(re.search('\\s+$','\\t\\n123\\t\\nabc\\t\\n\\n').group()) \n",
    "display(re.search('(\\s+)$','\\t\\n123\\t\\nabc\\t\\n\\n').groups()) #groups는 튜플로 반환, 하나면 ('abc',)로 출력\n",
    "print('-'*50)\n",
    "display(re.search('(\\s)+$','\\t\\n123\\t\\nabc\\t\\n\\n').groups()) #걸리는건 다걸리지만 뒤 하나가 괄호처짐, ()안에 \\s이므로 문자열 끝에서 공백하나 탐색 후 튜플로\n",
    "display(re.search('[\\s+]$','\\t\\n123\\t\\nabc\\t\\n\\n').group()) # []안에 있는 +문자는 +문자 그대로 간주됨 -> 문자 끝에서 공백이나 + 한개\n",
    "display(re.search('[\\s]+$','\\t\\n123\\t\\nabc\\t\\n\\n').group()) # 문자열 끝에서 공백들 탐색\n",
    "print('-'*50)\n",
    "display(re.search('[\\s+]$','\\t\\n123\\t\\nabc\\t\\n\\n').groups())\n",
    "display(re.search('[\\s]+$','\\t\\n123\\t\\nabc\\t\\n\\n').groups())"
   ]
  },
  {
   "cell_type": "code",
   "execution_count": 37,
   "id": "5cf1651e",
   "metadata": {
    "ExecuteTime": {
     "end_time": "2023-04-25T03:58:04.331971Z",
     "start_time": "2023-04-25T03:58:04.318968Z"
    }
   },
   "outputs": [
    {
     "name": "stdout",
     "output_type": "stream",
     "text": [
      "bcd103 103\n",
      "103abc 103\n"
     ]
    }
   ],
   "source": [
    "a = ['abc','bcd103','103abc']\n",
    "# re.search('\\w+', a)  -> error :리스트는 한번에 할 수 없음 반복문으로 순환해야함\n",
    "for i in a:\n",
    "    if re.search('\\d+', i):\n",
    "        print(i, re.search('\\d+', i).group())"
   ]
  },
  {
   "cell_type": "markdown",
   "id": "15b0030b",
   "metadata": {},
   "source": [
    "### findall 함수\n",
    "- 매칭X -> 빈리스트 출력\n",
    "- 매칭O \n",
    "    - -> 그룹형 1개 : [문자열]\n",
    "    - -> 그룹형 2개 이상 : 문자열 튜플을 리스트를 씌워서 출력 ex) [(a, b, c)}"
   ]
  },
  {
   "cell_type": "code",
   "execution_count": 38,
   "id": "32917cc3",
   "metadata": {
    "ExecuteTime": {
     "end_time": "2023-04-25T03:58:04.361966Z",
     "start_time": "2023-04-25T03:58:04.333926Z"
    }
   },
   "outputs": [
    {
     "data": {
      "text/plain": [
       "[('park', '010-1234-5678')]"
      ]
     },
     "metadata": {},
     "output_type": "display_data"
    },
    {
     "data": {
      "text/plain": [
       "[('park', '010-1234-5678', '1234-5678')]"
      ]
     },
     "metadata": {},
     "output_type": "display_data"
    },
    {
     "data": {
      "text/plain": [
       "[('park', '010-1234-5678', '1234', '5678')]"
      ]
     },
     "metadata": {},
     "output_type": "display_data"
    },
    {
     "data": {
      "text/plain": [
       "['.', '\\n']"
      ]
     },
     "metadata": {},
     "output_type": "display_data"
    },
    {
     "data": {
      "text/plain": [
       "['\\n', '\\n']"
      ]
     },
     "metadata": {},
     "output_type": "display_data"
    },
    {
     "data": {
      "text/plain": [
       "['\\t']"
      ]
     },
     "metadata": {},
     "output_type": "display_data"
    }
   ],
   "source": [
    "display(re.findall('(\\w+)\\s+(\\d+[-]\\d+[-]\\d+)',\"park 010-1234-5678\"))\n",
    "display(re.findall('(\\w+)\\s+(\\d+[-](\\d+[-]\\d+))',\"park 010-1234-5678\"))\n",
    "display(re.findall('(\\w+)\\s+(\\d+[-](\\d+)[-](\\d+))',\"park 010-1234-5678\")) #괄호가 포함관계면 다음과 같은 순서로\n",
    "\n",
    "display(re.findall('[\\w\\W]$',\"\\t123.abc.\\n\"))# 중요: $는 문자열의 마지막이 \\n이면 그 앞 or 문자열 마지막. 따라서 2개가 걸림\n",
    "display(re.findall('[\\w\\W]$',\"\\t123.abc.\\n\\n\"))# 중요: $는 문자열의 마지막이 \\n이면 그 앞 or 문자열 마지막. 따라서 2개가 걸림\n",
    "display(re.findall('[\\w\\W]$',\"\\t123.abc.\\n\\t\"))# 중요: $는 문자열의 마지막이 \\n이면 그 앞 or 문자열 마지막. 따라서 2개가 걸림"
   ]
  },
  {
   "cell_type": "code",
   "execution_count": 39,
   "id": "cd6a5465",
   "metadata": {
    "ExecuteTime": {
     "end_time": "2023-04-25T03:58:04.376921Z",
     "start_time": "2023-04-25T03:58:04.364843Z"
    }
   },
   "outputs": [
    {
     "data": {
      "text/plain": [
       "['\\n', '\\n']"
      ]
     },
     "metadata": {},
     "output_type": "display_data"
    }
   ],
   "source": [
    "display(re.findall('[\\w\\W]$',\"5\\n\\n\\n\\n\\t123.abc.\\n\\n\"))"
   ]
  },
  {
   "cell_type": "markdown",
   "id": "e247d2f2",
   "metadata": {},
   "source": [
    "### re.split 함수"
   ]
  },
  {
   "cell_type": "code",
   "execution_count": 40,
   "id": "bd55df8b",
   "metadata": {
    "ExecuteTime": {
     "end_time": "2023-04-25T03:58:04.406856Z",
     "start_time": "2023-04-25T03:58:04.379806Z"
    }
   },
   "outputs": [
    {
     "data": {
      "text/plain": [
       "['', '123', 'abc', '']"
      ]
     },
     "metadata": {},
     "output_type": "display_data"
    },
    {
     "data": {
      "text/plain": [
       "['', '123..abc..\\n\\n\\n']"
      ]
     },
     "metadata": {},
     "output_type": "display_data"
    },
    {
     "data": {
      "text/plain": [
       "['', '\\t\\n', '123', '..', 'abc', '..\\n\\n\\n', '']"
      ]
     },
     "metadata": {},
     "output_type": "display_data"
    },
    {
     "data": {
      "text/plain": [
       "['', '\\n', '123', '.', 'abc', '\\t', '']"
      ]
     },
     "metadata": {},
     "output_type": "display_data"
    }
   ],
   "source": [
    "display(re.split('\\W+','\\t\\n123..abc..\\n\\n\\n'))\n",
    "display(re.split('\\W+','\\t\\n123..abc..\\n\\n\\n', 1))\n",
    "display(re.split('(\\W+)','\\t\\n123..abc..\\n\\n\\n')) #()는 나누는 것도 포함\n",
    "display(re.split('(\\W)+','\\t\\n123..abc..\\n\\n\\t')) #()는 나누는 것도 포함이지만 뒤에것이 괄호처짐"
   ]
  },
  {
   "cell_type": "markdown",
   "id": "9f8e8b83",
   "metadata": {},
   "source": [
    "### re.sub 함수"
   ]
  },
  {
   "cell_type": "code",
   "execution_count": 41,
   "id": "cf20f665",
   "metadata": {
    "ExecuteTime": {
     "end_time": "2023-04-25T03:58:04.421728Z",
     "start_time": "2023-04-25T03:58:04.408728Z"
    }
   },
   "outputs": [
    {
     "data": {
      "text/plain": [
       "'white and white painting'"
      ]
     },
     "metadata": {},
     "output_type": "display_data"
    },
    {
     "data": {
      "text/plain": [
       "'white and blue painting'"
      ]
     },
     "metadata": {},
     "output_type": "display_data"
    },
    {
     "data": {
      "text/plain": [
       "'white blue painting'"
      ]
     },
     "metadata": {},
     "output_type": "display_data"
    },
    {
     "data": {
      "text/plain": [
       "'red white painting'"
      ]
     },
     "metadata": {},
     "output_type": "display_data"
    }
   ],
   "source": [
    "display(re.sub('red|blue', 'white', 'red and blue painting')) #red 나 blue는 전부 white로\n",
    "display(re.sub('red|blue', 'white', 'red and blue painting',1)) #앞에 1개만\n",
    "display(re.sub('(red|blue) and', 'white', 'red and blue painting')) #red and이 대체\n",
    "display(re.sub('and (red|blue)', 'white', 'red and blue painting')) #and blue가 대체"
   ]
  },
  {
   "cell_type": "markdown",
   "id": "911bae3e",
   "metadata": {},
   "source": [
    "### 연습문제 1"
   ]
  },
  {
   "cell_type": "code",
   "execution_count": 42,
   "id": "402e3090",
   "metadata": {
    "ExecuteTime": {
     "end_time": "2023-04-25T03:58:04.451649Z",
     "start_time": "2023-04-25T03:58:04.425177Z"
    }
   },
   "outputs": [
    {
     "data": {
      "text/plain": [
       "'3456abc\\t\\n'"
      ]
     },
     "metadata": {},
     "output_type": "display_data"
    },
    {
     "data": {
      "text/plain": [
       "'3456abc\\t\\n.+?*'"
      ]
     },
     "metadata": {},
     "output_type": "display_data"
    },
    {
     "data": {
      "text/plain": [
       "'3456'"
      ]
     },
     "metadata": {},
     "output_type": "display_data"
    }
   ],
   "source": [
    "display(re.match('[0-9a-z\\t\\n]+','3456abc\\t\\n.+?*').group())\n",
    "display(re.match('[\\s\\S]+','3456abc\\t\\n.+?*').group())\n",
    "display(re.match('\\d+','3456abc\\t\\n.+?*').group()) #[0-9]+ 또는 \\d+ 또는 [\\d]+"
   ]
  },
  {
   "cell_type": "markdown",
   "id": "93bb6356",
   "metadata": {},
   "source": [
    "### 연습문제 2"
   ]
  },
  {
   "cell_type": "code",
   "execution_count": 43,
   "id": "08375efd",
   "metadata": {
    "ExecuteTime": {
     "end_time": "2023-04-25T03:58:04.466571Z",
     "start_time": "2023-04-25T03:58:04.454607Z"
    }
   },
   "outputs": [
    {
     "data": {
      "text/plain": [
       "'\\napple 오랜지(Orange) Cherry\\n토마토(TOMATO) 1/3 kg'"
      ]
     },
     "execution_count": 43,
     "metadata": {},
     "output_type": "execute_result"
    }
   ],
   "source": [
    "a = '''\n",
    "apple 오랜지(Orange) Cherry\n",
    "토마토(TOMATO) 1/3 kg'''\n",
    "a"
   ]
  },
  {
   "cell_type": "code",
   "execution_count": 44,
   "id": "6a8b4962",
   "metadata": {
    "ExecuteTime": {
     "end_time": "2023-04-25T03:58:04.481531Z",
     "start_time": "2023-04-25T03:58:04.469564Z"
    }
   },
   "outputs": [
    {
     "data": {
      "text/plain": [
       "['', 'apple 오랜지(Orange) Cherry', '토마토(TOMATO) 1/3 kg']"
      ]
     },
     "metadata": {},
     "output_type": "display_data"
    },
    {
     "data": {
      "text/plain": [
       "['\\n', 'apple 오랜지(Orange) Cherry\\n', '토마토(TOMATO) 1/3 kg']"
      ]
     },
     "metadata": {},
     "output_type": "display_data"
    },
    {
     "data": {
      "text/plain": [
       "('', '\\n', 'apple 오랜지(Orange) Cherry\\n토마토(TOMATO) 1/3 kg')"
      ]
     },
     "metadata": {},
     "output_type": "display_data"
    }
   ],
   "source": [
    "display(a.splitlines())\n",
    "display(a.splitlines(True))\n",
    "display(a.partition('\\n'))"
   ]
  },
  {
   "cell_type": "code",
   "execution_count": 45,
   "id": "ff0c5917",
   "metadata": {
    "ExecuteTime": {
     "end_time": "2023-04-25T03:58:04.511589Z",
     "start_time": "2023-04-25T03:58:04.483526Z"
    }
   },
   "outputs": [
    {
     "data": {
      "text/plain": [
       "('apple 오랜지(Orange) Cherry',)"
      ]
     },
     "metadata": {},
     "output_type": "display_data"
    },
    {
     "data": {
      "text/plain": [
       "('apple 오랜지(Orange) Cherry', '토마토(TOMATO) 1/3 kg')"
      ]
     },
     "metadata": {},
     "output_type": "display_data"
    },
    {
     "data": {
      "text/plain": [
       "('Orange', 'TOMATO')"
      ]
     },
     "metadata": {},
     "output_type": "display_data"
    }
   ],
   "source": [
    "display(re.match('\\n(.+)',a).groups())\n",
    "display(re.match('\\n(.+)\\n(.+)',a).groups())\n",
    "display(re.match('[\\s\\w]+[(](.+)[)][\\s\\w]+[(](.+)[)]',a).groups()) #[\\s\\w] 대신 \\D도 가능"
   ]
  },
  {
   "cell_type": "code",
   "execution_count": 169,
   "id": "0cd023a3",
   "metadata": {
    "ExecuteTime": {
     "end_time": "2023-04-25T04:47:50.183186Z",
     "start_time": "2023-04-25T04:47:50.162246Z"
    }
   },
   "outputs": [
    {
     "name": "stdout",
     "output_type": "stream",
     "text": [
      "Displaying 2 of 2 matches:\n",
      " df dfsf fdfs df sdf fdsfdf dfs dfs dfs d\n",
      "df dfsf fdfs df sdf fdsfdf dfs dfs dfs d s dfsdf\n"
     ]
    }
   ],
   "source": [
    "a = 'df dfsf , fdfs df sdf, fdsfdf. dfs \\ndfs dfs d\\t s dfsdf \\n'\n",
    "nltk.Text(re.split(\"\\W+\",a)[:-1]).concordance('df')"
   ]
  },
  {
   "cell_type": "code",
   "execution_count": 183,
   "id": "2eb52f0a",
   "metadata": {
    "ExecuteTime": {
     "end_time": "2023-04-25T04:56:19.566088Z",
     "start_time": "2023-04-25T04:56:19.543113Z"
    }
   },
   "outputs": [
    {
     "data": {
      "text/plain": [
       "[6, 8, 7]"
      ]
     },
     "execution_count": 183,
     "metadata": {},
     "output_type": "execute_result"
    }
   ],
   "source": [
    "a = ['kotast','sdfsfeef','rdkmcft']\n",
    "b = [sorted(list(i)) for i in a]\n",
    "b\n",
    "c = [{k:i.count(k) for k in i} for i in b]\n",
    "c\n",
    "d = [[k for k in i if i[k] > 1] for i in c]\n",
    "d\n",
    "e = [sum([i[k] for k in i]) for i in c]\n",
    "\n",
    "e"
   ]
  },
  {
   "cell_type": "code",
   "execution_count": 185,
   "id": "48b406a1",
   "metadata": {
    "ExecuteTime": {
     "end_time": "2023-04-25T04:58:32.497497Z",
     "start_time": "2023-04-25T04:58:32.482585Z"
    }
   },
   "outputs": [
    {
     "data": {
      "text/plain": [
       "['.ipynb_checkpoints',\n",
       " 'NLP_Note(Midterm).ipynb',\n",
       " 'NLP_Note(Midterm)_암기용.ipynb',\n",
       " '강의자료']"
      ]
     },
     "execution_count": 185,
     "metadata": {},
     "output_type": "execute_result"
    }
   ],
   "source": [
    "import os \n",
    "os.listdir()"
   ]
  },
  {
   "cell_type": "markdown",
   "id": "4077b3c0",
   "metadata": {},
   "source": [
    "### 최소매칭(?)"
   ]
  },
  {
   "cell_type": "code",
   "execution_count": 46,
   "id": "7d07c4dd",
   "metadata": {
    "ExecuteTime": {
     "end_time": "2023-04-25T03:58:04.526448Z",
     "start_time": "2023-04-25T03:58:04.513445Z"
    }
   },
   "outputs": [
    {
     "data": {
      "text/plain": [
       "'<a href=\"in.html\">HERE<a href=\"out.html\">'"
      ]
     },
     "execution_count": 46,
     "metadata": {},
     "output_type": "execute_result"
    }
   ],
   "source": [
    "a = '<a href=\"in.html\">HERE<a href=\"out.html\">'\n",
    "a"
   ]
  },
  {
   "cell_type": "code",
   "execution_count": 47,
   "id": "e0e82829",
   "metadata": {
    "ExecuteTime": {
     "end_time": "2023-04-25T03:58:04.541526Z",
     "start_time": "2023-04-25T03:58:04.529402Z"
    }
   },
   "outputs": [
    {
     "data": {
      "text/plain": [
       "'href=\"in.html\">HERE<a href=\"out.html\"'"
      ]
     },
     "metadata": {},
     "output_type": "display_data"
    },
    {
     "data": {
      "text/plain": [
       "'href=\"in.html\"'"
      ]
     },
     "metadata": {},
     "output_type": "display_data"
    }
   ],
   "source": [
    "display(re.search('href=\".*\"',a).group()) #.*에 해당 부분이 in.html\">HERE<a href=\"out.html인 것 -> 길게 매칭하려는 특성\n",
    "display(re.search('href=\".*?\"',a).group()) #하지만 최소매칭은 먼저 \"가 걸리는 곳에서 매칭"
   ]
  },
  {
   "cell_type": "code",
   "execution_count": 48,
   "id": "6a30bcf4",
   "metadata": {
    "ExecuteTime": {
     "end_time": "2023-04-25T03:58:04.556423Z",
     "start_time": "2023-04-25T03:58:04.543367Z"
    }
   },
   "outputs": [
    {
     "data": {
      "text/plain": [
       "['href=\"in.html\"', 'href=\"out.html\"']"
      ]
     },
     "metadata": {},
     "output_type": "display_data"
    },
    {
     "data": {
      "text/plain": [
       "['in.html', 'out.html']"
      ]
     },
     "metadata": {},
     "output_type": "display_data"
    },
    {
     "data": {
      "text/plain": [
       "['href=\"in.html\">HERE<a href=\"out.html\"']"
      ]
     },
     "metadata": {},
     "output_type": "display_data"
    },
    {
     "data": {
      "text/plain": [
       "['a', 'href', 'in', 'html', 'HERE', 'a', 'href', 'out', 'html']"
      ]
     },
     "metadata": {},
     "output_type": "display_data"
    }
   ],
   "source": [
    "display(re.findall('href=\".*?\"',a))\n",
    "display(re.findall('href=\"(.*?)\"',a))\n",
    "display(re.findall('href=\".*\"',a))\n",
    "display(re.findall('\\w+',a))"
   ]
  },
  {
   "cell_type": "markdown",
   "id": "d45c22e9",
   "metadata": {},
   "source": [
    "### 어휘 경계"
   ]
  },
  {
   "cell_type": "code",
   "execution_count": 49,
   "id": "4ed6a80f",
   "metadata": {
    "ExecuteTime": {
     "end_time": "2023-04-25T03:58:04.586371Z",
     "start_time": "2023-04-25T03:58:04.559323Z"
    }
   },
   "outputs": [
    {
     "data": {
      "text/plain": [
       "['123', 'abc']"
      ]
     },
     "metadata": {},
     "output_type": "display_data"
    },
    {
     "data": {
      "text/plain": [
       "['123', 'abc']"
      ]
     },
     "metadata": {},
     "output_type": "display_data"
    },
    {
     "data": {
      "text/plain": [
       "['123abc']"
      ]
     },
     "metadata": {},
     "output_type": "display_data"
    },
    {
     "name": "stdout",
     "output_type": "stream",
     "text": [
      "--------------------------------------------------\n"
     ]
    },
    {
     "data": {
      "text/plain": [
       "['123..abc']"
      ]
     },
     "metadata": {},
     "output_type": "display_data"
    },
    {
     "data": {
      "text/plain": [
       "['123', 'abc']"
      ]
     },
     "metadata": {},
     "output_type": "display_data"
    },
    {
     "name": "stdout",
     "output_type": "stream",
     "text": [
      "--------------------------------------------------\n"
     ]
    },
    {
     "data": {
      "text/plain": [
       "['1', '.', 'a', '.']"
      ]
     },
     "metadata": {},
     "output_type": "display_data"
    },
    {
     "data": {
      "text/plain": [
       "['\\t', '3', '.', 'c']"
      ]
     },
     "metadata": {},
     "output_type": "display_data"
    }
   ],
   "source": [
    "# \\b는 backspace(커서를 왼쪽으로 움직임)를 의미하는 이스케이프 문자이므로 \\\\b로 문자 \\b그 자체임을 나타내줘야합니다!\n",
    "# 그게 아니면 r'\\b'를 사용해도 됨\n",
    "display(re.findall(r'\\b.+\\b','\\t\\n123\\n\\tabc\\n\\n\\n'))\n",
    "display(re.findall('\\\\b.+\\\\b','\\t\\n123\\n\\tabc\\n\\n\\n'))\n",
    "display(re.findall('\\\\b.+\\\\b','\\t\\n123abc\\n\\n\\n'))\n",
    "print('-'*50)\n",
    "display(re.findall('\\\\b.+\\\\b','\\t\\n123..abc..\\n\\n\\n')) #어휘 경계가 여러개가 있지만 최대탐색이 기본이므로 .+에 123..abc가 걸림\n",
    "display(re.findall('\\\\b\\w+\\\\b','\\t\\n123..abc..\\n\\n\\n'))\n",
    "print('-'*50)\n",
    "display(re.findall('\\\\b.','\\t123.abc.\\n')) #어휘가 123 ,abc이고 그 각각 앞뒤로 어휘경계가 있다. 어휘경계 바로 뒤 문자를 출력함\n",
    "display(re.findall('.\\\\b','\\t123.abc.\\n')) #어휘 경계 바로 앞 문자 출력"
   ]
  },
  {
   "cell_type": "markdown",
   "id": "53c744bc",
   "metadata": {},
   "source": [
    "### 정규표현 flags"
   ]
  },
  {
   "cell_type": "code",
   "execution_count": 50,
   "id": "f9ef9c08",
   "metadata": {
    "ExecuteTime": {
     "end_time": "2023-04-25T03:58:04.601367Z",
     "start_time": "2023-04-25T03:58:04.588246Z"
    }
   },
   "outputs": [
    {
     "data": {
      "text/plain": [
       "'ab'"
      ]
     },
     "metadata": {},
     "output_type": "display_data"
    },
    {
     "data": {
      "text/plain": [
       "'ab\\ncd'"
      ]
     },
     "metadata": {},
     "output_type": "display_data"
    },
    {
     "data": {
      "text/plain": [
       "'ab\\ncd'"
      ]
     },
     "metadata": {},
     "output_type": "display_data"
    }
   ],
   "source": [
    "display(re.match('.+','ab\\ncd').group()) #.은 \\n를 탐색하진 못함\n",
    "display(re.match('.+','ab\\ncd', re.DOTALL).group()) #하지만 re.DOTALL :  \".\" 문자가 \"\\n\"포함한 모든 문자와 매치하도록 설정\n",
    "display(re.match('.+','ab\\ncd', re.S).group()) #re.DOTALL과 같은 기능"
   ]
  },
  {
   "cell_type": "code",
   "execution_count": 51,
   "id": "470f71f3",
   "metadata": {
    "ExecuteTime": {
     "end_time": "2023-04-25T03:58:04.616273Z",
     "start_time": "2023-04-25T03:58:04.603208Z"
    }
   },
   "outputs": [
    {
     "data": {
      "text/plain": [
       "'py'"
      ]
     },
     "metadata": {},
     "output_type": "display_data"
    },
    {
     "data": {
      "text/plain": [
       "'pyTHon'"
      ]
     },
     "metadata": {},
     "output_type": "display_data"
    },
    {
     "data": {
      "text/plain": [
       "'pyTHon'"
      ]
     },
     "metadata": {},
     "output_type": "display_data"
    }
   ],
   "source": [
    "display(re.match('[a-z]+','pyTHon').group()) # 대소문자 차이\n",
    "# display(re.match('[A-Z]+','pyTHon').group()) #error 발생 : 대소문자차이\n",
    "display(re.match('[A-Z]+','pyTHon', re.IGNORECASE).group()) # 대소문자 무시 flag\n",
    "display(re.match('[A-Z]+','pyTHon', re.I).group()) # re.I 같은 기능(I는 L아니고 i임)"
   ]
  },
  {
   "cell_type": "code",
   "execution_count": 52,
   "id": "7bbbd50b",
   "metadata": {
    "ExecuteTime": {
     "end_time": "2023-04-25T03:58:04.646125Z",
     "start_time": "2023-04-25T03:58:04.619166Z"
    }
   },
   "outputs": [
    {
     "data": {
      "text/plain": [
       "['ab']"
      ]
     },
     "metadata": {},
     "output_type": "display_data"
    },
    {
     "data": {
      "text/plain": [
       "['ab', 'cd', 'ef']"
      ]
     },
     "metadata": {},
     "output_type": "display_data"
    },
    {
     "data": {
      "text/plain": [
       "['ab', 'cd', 'ef']"
      ]
     },
     "metadata": {},
     "output_type": "display_data"
    },
    {
     "name": "stdout",
     "output_type": "stream",
     "text": [
      "--------------------------------------------------\n"
     ]
    },
    {
     "data": {
      "text/plain": [
       "['ef']"
      ]
     },
     "metadata": {},
     "output_type": "display_data"
    },
    {
     "data": {
      "text/plain": [
       "['ab', 'cd', 'ef']"
      ]
     },
     "metadata": {},
     "output_type": "display_data"
    }
   ],
   "source": [
    "display(re.findall('^[a-z]+','ab\\ncd\\nef')) # ^은 각 줄 시작부분과 매칭됨. 이경우는 한줄로 인식하여 처음만 걸림\n",
    "display(re.findall('^[a-z]+','ab\\ncd\\nef', re.MULTILINE)) #각 줄마다 구분이 되어 각줄 첫번째 알파벳모음이 다 걸람\n",
    "display(re.findall('^[a-z]+','ab\\ncd\\nef', re.M)) #re.M같은 기능\n",
    "print('-'*50)\n",
    "display(re.findall('[a-z]+$','ab\\ncd\\nef')) #마찬가지 원리\n",
    "display(re.findall('[a-z]+$','ab\\ncd\\nef', re.M)) "
   ]
  },
  {
   "cell_type": "markdown",
   "id": "7b7b3db7",
   "metadata": {},
   "source": [
    "### 연습문제 3"
   ]
  },
  {
   "cell_type": "code",
   "execution_count": 53,
   "id": "bc4eff55",
   "metadata": {
    "ExecuteTime": {
     "end_time": "2023-04-25T03:58:04.661090Z",
     "start_time": "2023-04-25T03:58:04.649396Z"
    }
   },
   "outputs": [
    {
     "name": "stdout",
     "output_type": "stream",
     "text": [
      "Trump.python@python.ac.kr\n",
      "obama@python.org\n"
     ]
    }
   ],
   "source": [
    "a = '''회원 명단입니다.\n",
    "Donald Trump\\t\\tTrump.python@python.ac.kr\n",
    "Barack Obama  obama@python.org\n",
    "이상입니다.\n",
    "'''\n",
    "print('\\n'.join(re.findall('[.\\w]+@[.\\w]+$', a ,re.M)))"
   ]
  },
  {
   "cell_type": "markdown",
   "id": "94fb3f1b",
   "metadata": {},
   "source": [
    "## NLTK 코퍼스 및 어휘자원활용 1"
   ]
  },
  {
   "cell_type": "code",
   "execution_count": 54,
   "id": "ba024b3b",
   "metadata": {
    "ExecuteTime": {
     "end_time": "2023-04-25T03:58:08.164800Z",
     "start_time": "2023-04-25T03:58:04.663069Z"
    }
   },
   "outputs": [],
   "source": [
    "import nltk\n",
    "# nltk.download()"
   ]
  },
  {
   "cell_type": "code",
   "execution_count": 55,
   "id": "2fffabe5",
   "metadata": {
    "ExecuteTime": {
     "end_time": "2023-04-25T03:58:19.697655Z",
     "start_time": "2023-04-25T03:58:08.167672Z"
    }
   },
   "outputs": [
    {
     "name": "stdout",
     "output_type": "stream",
     "text": [
      "*** Introductory Examples for the NLTK Book ***\n",
      "Loading text1, ..., text9 and sent1, ..., sent9\n",
      "Type the name of the text or sentence to view it.\n",
      "Type: 'texts()' or 'sents()' to list the materials.\n",
      "text1: Moby Dick by Herman Melville 1851\n",
      "text2: Sense and Sensibility by Jane Austen 1811\n",
      "text3: The Book of Genesis\n",
      "text4: Inaugural Address Corpus\n",
      "text5: Chat Corpus\n",
      "text6: Monty Python and the Holy Grail\n",
      "text7: Wall Street Journal\n",
      "text8: Personals Corpus\n",
      "text9: The Man Who Was Thursday by G . K . Chesterton 1908\n"
     ]
    },
    {
     "data": {
      "text/plain": [
       "<Text: Moby Dick by Herman Melville 1851>"
      ]
     },
     "metadata": {},
     "output_type": "display_data"
    },
    {
     "data": {
      "text/plain": [
       "nltk.text.Text"
      ]
     },
     "metadata": {},
     "output_type": "display_data"
    },
    {
     "data": {
      "text/plain": [
       "['[', 'Moby', 'Dick', 'by', 'Herman']"
      ]
     },
     "metadata": {},
     "output_type": "display_data"
    },
    {
     "data": {
      "text/plain": [
       "260819"
      ]
     },
     "metadata": {},
     "output_type": "display_data"
    }
   ],
   "source": [
    "from nltk.book import *\n",
    "display(text1)\n",
    "display(type(text1))\n",
    "display(text1[:5])\n",
    "display(len(text1))"
   ]
  },
  {
   "cell_type": "code",
   "execution_count": 56,
   "id": "32d99f37",
   "metadata": {
    "ExecuteTime": {
     "end_time": "2023-04-25T03:58:19.727481Z",
     "start_time": "2023-04-25T03:58:19.702515Z"
    }
   },
   "outputs": [
    {
     "data": {
      "text/plain": [
       "<Text: Moby Dick by Herman Melville 1851>"
      ]
     },
     "metadata": {},
     "output_type": "display_data"
    },
    {
     "data": {
      "text/plain": [
       "nltk.text.Text"
      ]
     },
     "metadata": {},
     "output_type": "display_data"
    },
    {
     "data": {
      "text/plain": [
       "['[', 'Moby', 'Dick', 'by', 'Herman']"
      ]
     },
     "metadata": {},
     "output_type": "display_data"
    },
    {
     "data": {
      "text/plain": [
       "260819"
      ]
     },
     "metadata": {},
     "output_type": "display_data"
    }
   ],
   "source": [
    "from nltk import book\n",
    "display(book.text1)\n",
    "display(type(book.text1))\n",
    "display(book.text1[:5])\n",
    "display(len(book.text1))"
   ]
  },
  {
   "cell_type": "markdown",
   "id": "17ff2d62",
   "metadata": {},
   "source": [
    "### concordance"
   ]
  },
  {
   "cell_type": "code",
   "execution_count": 57,
   "id": "3c677236",
   "metadata": {
    "ExecuteTime": {
     "end_time": "2023-04-25T03:58:20.056668Z",
     "start_time": "2023-04-25T03:58:19.729475Z"
    }
   },
   "outputs": [
    {
     "name": "stdout",
     "output_type": "stream",
     "text": [
      "Displaying 25 of 14431 matches:\n",
      "nsumptive Usher to a Grammar School ) The pale Usher -- threadbare in coat , he\n",
      "hief , mockingly embellished with all the gay flags of all the known nations of\n",
      "llished with all the gay flags of all the known nations of the world . He loved\n",
      "gay flags of all the known nations of the world . He loved to dust his old gram\n",
      "gue leaving out , through ignorance , the letter H , which almost alone maketh \n",
      " letter H , which almost alone maketh the signification of the word , you deliv\n",
      "ost alone maketh the signification of the word , you deliver that which is not \n",
      "ALE . ... It is more immediately from the Dut . and Ger . WALLEN ; A . S . WALW\n",
      "ub - Sub appears to have gone through the long Vaticans and street - stalls of \n",
      " long Vaticans and street - stalls of the earth , picking up whatever random al\n",
      "t not , in every case at least , take the higgledy - piggledy whale statements \n",
      " cetology . Far from it . As touching the ancient authors generally , as well a\n",
      "ncient authors generally , as well as the poets here appearing , these extracts\n",
      " it up , Sub - Subs ! For by how much the more pains ye take to please the worl\n",
      "much the more pains ye take to please the world , by so much the more shall ye \n",
      "take to please the world , by so much the more shall ye for ever go thankless !\n",
      "t I could clear out Hampton Court and the Tuileries for ye ! But gulp down your\n",
      "gulp down your tears and hie aloft to the royal - mast with your hearts ; for y\n",
      "who have gone before are clearing out the seven - storied heavens , and making \n",
      " to shine after him ; One would think the deep to be hoary .\" -- JOB . \" Now th\n",
      "he deep to be hoary .\" -- JOB . \" Now the Lord had prepared a great fish to swa\n",
      "low up Jonah .\" -- JONAH . \" There go the ships ; there is that Leviathan whom \n",
      "herein .\" -- PSALMS . \" In that day , the Lord with his sore , and great , and \n",
      "strong sword , shall punish Leviathan the piercing serpent , even Leviathan tha\n",
      "t crooked serpent ; and he shall slay the dragon that is in the sea .\" -- ISAIA\n"
     ]
    }
   ],
   "source": [
    "book.text1.concordance('the')\n",
    "# 해당 단어의 문맥을 파악하는 용도로 앞뒤 문장을 같이 제시한다"
   ]
  },
  {
   "cell_type": "code",
   "execution_count": 58,
   "id": "264f6c2f",
   "metadata": {
    "ExecuteTime": {
     "end_time": "2023-04-25T03:58:20.116443Z",
     "start_time": "2023-04-25T03:58:20.058760Z"
    }
   },
   "outputs": [
    {
     "name": "stdout",
     "output_type": "stream",
     "text": [
      "Displaying 5 of 14431 matches:\n",
      "chool ) The pale Us\n",
      "ith all the gay fla\n",
      " of all the known n\n",
      "ions of the world .\n",
      "rance , the letter \n"
     ]
    }
   ],
   "source": [
    "a = book.text1.concordance('the',width = 20, lines = 5)  #변수 지정이 안됨, 한번 출력되고 반환값이 X"
   ]
  },
  {
   "cell_type": "code",
   "execution_count": 59,
   "id": "4038df91",
   "metadata": {
    "ExecuteTime": {
     "end_time": "2023-04-25T03:58:20.131402Z",
     "start_time": "2023-04-25T03:58:20.118436Z"
    }
   },
   "outputs": [],
   "source": [
    "a #변수 지정이 안됨 -> a.append(b)처럼 실행되고 반환되는 값은 없는 경우이다"
   ]
  },
  {
   "cell_type": "code",
   "execution_count": 60,
   "id": "206e449c",
   "metadata": {
    "ExecuteTime": {
     "end_time": "2023-04-25T03:58:20.146383Z",
     "start_time": "2023-04-25T03:58:20.134357Z"
    }
   },
   "outputs": [
    {
     "name": "stdout",
     "output_type": "stream",
     "text": [
      "None\n"
     ]
    },
    {
     "data": {
      "text/plain": [
       "NoneType"
      ]
     },
     "metadata": {},
     "output_type": "display_data"
    }
   ],
   "source": [
    "print(a)  #변수 지정이 안됨\n",
    "display(type(a))  #변수 지정이 안됨"
   ]
  },
  {
   "cell_type": "markdown",
   "id": "f4d042ec",
   "metadata": {},
   "source": [
    "### 공통 맥락 어휘 연쇄(common_contexts)\n",
    "- concordance시에 같은 문맥을 공유하는 공통 맥락 찾기"
   ]
  },
  {
   "cell_type": "code",
   "execution_count": 61,
   "id": "385c2425",
   "metadata": {
    "ExecuteTime": {
     "end_time": "2023-04-25T03:58:24.709157Z",
     "start_time": "2023-04-25T03:58:20.149316Z"
    }
   },
   "outputs": [
    {
     "name": "stdout",
     "output_type": "stream",
     "text": [
      "most_and\n",
      "most_and\n",
      "No common contexts were found\n",
      "am_glad a_pretty a_lucky is_pretty be_glad\n"
     ]
    }
   ],
   "source": [
    "book.text1.common_contexts(['monstrous','doleful','careful'])\n",
    "book.text1.common_contexts(['monstrous','doleful'])\n",
    "book.text1.common_contexts(['monstrous','very']) #공통 문맥이 없음\n",
    "book.text2.common_contexts(['monstrous','very']) #결과의 _는 해당단어가 있었던 자리"
   ]
  },
  {
   "cell_type": "markdown",
   "id": "5b03d159",
   "metadata": {},
   "source": [
    "### 유사 맥락 연쇄의 어휘목록(similar)\n",
    "- similar 메서드는 같은 문맥에서 주어진 단어 대신 사용된 횟수가 높은 단어들을 찾는다"
   ]
  },
  {
   "cell_type": "code",
   "execution_count": 62,
   "id": "bde9a101",
   "metadata": {
    "ExecuteTime": {
     "end_time": "2023-04-25T03:58:24.933618Z",
     "start_time": "2023-04-25T03:58:24.711840Z"
    }
   },
   "outputs": [
    {
     "name": "stdout",
     "output_type": "stream",
     "text": [
      "true contemptible christian abundant few mean careful puzzled\n",
      "mystifying passing curious loving doleful gamesome singular\n",
      "delightfully perilous fearless determined uncommon\n",
      "\n",
      "very so exceedingly heartily a as good great extremely remarkably\n",
      "sweet vast amazingly\n"
     ]
    }
   ],
   "source": [
    "book.text1.similar('monstrous') ; print()\n",
    "book.text2.similar('monstrous')"
   ]
  },
  {
   "cell_type": "code",
   "execution_count": 63,
   "id": "36099090",
   "metadata": {
    "ExecuteTime": {
     "end_time": "2023-04-25T03:58:27.080345Z",
     "start_time": "2023-04-25T03:58:24.936513Z"
    }
   },
   "outputs": [
    {
     "data": {
      "image/png": "[encoded data removed]",
      "text/plain": [
       "<Figure size 640x480 with 1 Axes>"
      ]
     },
     "metadata": {},
     "output_type": "display_data"
    }
   ],
   "source": [
    "book.text4.dispersion_plot(['citizens', 'democracy', 'freedom', 'duties', 'America'])"
   ]
  },
  {
   "cell_type": "markdown",
   "id": "264fa30f",
   "metadata": {},
   "source": [
    "## NLTK 코퍼스 및 어휘자원활용 2"
   ]
  },
  {
   "cell_type": "code",
   "execution_count": 64,
   "id": "cf131e03",
   "metadata": {
    "ExecuteTime": {
     "end_time": "2023-04-25T03:58:27.110185Z",
     "start_time": "2023-04-25T03:58:27.086137Z"
    },
    "scrolled": true
   },
   "outputs": [
    {
     "name": "stdout",
     "output_type": "stream",
     "text": [
      "<Text: The Book of Genesis>\n",
      "\n",
      "<class 'nltk.text.Text'>\n",
      "\n",
      "['In', 'the', 'beginning', 'God', 'created', 'the', 'heaven', 'and', 'the', 'earth', '.', 'And', 'the', 'earth', 'was', 'without', 'form', ',', 'and', 'void', ';', 'and', 'darkness', 'was', 'upon', 'the', 'face', 'of', 'the', 'deep', '.', 'And', 'the', 'Spirit', 'of', 'God', 'moved', 'upon', 'the', 'face', 'of', 'the', 'waters', '.', 'And', 'God', 'said', ',', 'Let', 'there']\n"
     ]
    }
   ],
   "source": [
    "print(book.text3) ; print() \n",
    "print(type(book.text3)) ; print() #text타입은 append가 안됨\n",
    "print(book.text3[:50]) #그러나 슬라이싱하면 리스트가 되는데 이때는 append가 됨 -> 즉 타입/구조 식별이 중요"
   ]
  },
  {
   "cell_type": "markdown",
   "id": "e4fda9ac",
   "metadata": {},
   "source": [
    "### 어휘 절대빈도, 상대빈도"
   ]
  },
  {
   "cell_type": "code",
   "execution_count": 65,
   "id": "41646e9b",
   "metadata": {
    "ExecuteTime": {
     "end_time": "2023-04-25T03:58:27.140988Z",
     "start_time": "2023-04-25T03:58:27.115059Z"
    }
   },
   "outputs": [
    {
     "name": "stdout",
     "output_type": "stream",
     "text": [
      "smote 절대빈도 :  5\n",
      "smote 상대빈도 :  0.01116968992940756\n",
      "smote 상대빈도(반올림) :  0.011\n",
      "\n",
      "the 절대빈도 :  2411\n",
      "the 상대빈도 :  5.386024483960325\n"
     ]
    }
   ],
   "source": [
    "print(\"smote 절대빈도 : \",book.text3.count('smote')) # 절대빈도 : 전체에서 몇번 등장? -> 텍스트의 길이가 다를때 직접비교 어려움\n",
    "print(\"smote 상대빈도 : \",(book.text3.count('smote')/len(book.text3))*100) #상대빈도 -> 단어수로 나눔. 전체 길이 달라도 다른 텍스트와 비교가능\n",
    "print(\"smote 상대빈도(반올림) : \",round((book.text3.count('smote')/len(book.text3))*100, 3)) #소수점 3번쨰 자리까지 반올림\n",
    "print(\"\\nthe 절대빈도 : \",book.text3.count('the')) # 절대빈도 \n",
    "print(\"the 상대빈도 : \",(book.text3.count('the')/len(book.text3))*100) #상대빈도"
   ]
  },
  {
   "cell_type": "markdown",
   "id": "8fe9b9b3",
   "metadata": {},
   "source": [
    "### formating\n",
    "- f-string과 format은 위치만 다르고 문법은 같음\n",
    "    - :.nf -> 소수점 n자리까지 실수표현\n",
    "    - :.n% -> 소수점 n자리까지 백분위 표현(*100이 자동으로 진행)\n",
    "    - :<10d -> 10자리 정수 좌측정렬, >하면 우측정렬, ^하면 가운데 정렬, ^,<,> 앞에 문자적으면 빈 공간을 그것으로 채움"
   ]
  },
  {
   "cell_type": "code",
   "execution_count": 160,
   "id": "84923e70",
   "metadata": {
    "ExecuteTime": {
     "end_time": "2023-04-25T04:34:57.419468Z",
     "start_time": "2023-04-25T04:34:57.398425Z"
    }
   },
   "outputs": [
    {
     "name": "stdout",
     "output_type": "stream",
     "text": [
      "5.386%\n",
      "5.386%\n",
      "5.386%\n"
     ]
    }
   ],
   "source": [
    "# 포멧팅 관련\n",
    "print('%.3f%%' %((book.text3.count('the')/len(book.text3))*100)) # 100 곱해줘야 함\n",
    "print('{:.3%}'.format((book.text3.count('the')/len(book.text3)))) # 100 안곱해도 됨.\n",
    "print(f'{book.text3.count(\"the\")/len(book.text3):.3%}')# :.3% -> 백분율로 표시 : 100 안곱해도 됨.\n",
    "# f포멧팅할때 '' \"\" 구분하기 -> f-string은 내부에 \\를 쓸수 없다"
   ]
  },
  {
   "attachments": {
    "image-2.png": {
     "image/png": "[encoded data removed]"
    }
   },
   "cell_type": "markdown",
   "id": "1ae08478",
   "metadata": {},
   "source": [
    "### Zipf 법칙\n",
    "- 대량의 텍스트에 사용된 어구의 빈출 순위와 빈도를 집계하면, 빈출 순위가 k번째 빈도는 빈출 순위 첫 번째 빈도를 1/k한 값이 되는 법칙을 짚의 법칙(제타 분포)이라고 한다. 따라서 빈출 순위와 빈도를 곱하면 값이 거의 같은 값이 된다\n",
    "- log-log scale 기울기 -1과 유사하다(멱법칙 power law)\n",
    "- 어휘 빈도 뿐만 아니라, 빈도로 기술되는 자연, 사회현상에서도 관찰\n",
    "- 80:20법칙, 파레토법칙, long-tail법칙으로도 알려짐\n",
    "![image-2.png](attachment:image-2.png)"
   ]
  },
  {
   "cell_type": "markdown",
   "id": "60d484b9",
   "metadata": {},
   "source": [
    "#### type, token, type-token ratio(TTR)"
   ]
  },
  {
   "cell_type": "code",
   "execution_count": 67,
   "id": "aa37200b",
   "metadata": {
    "ExecuteTime": {
     "end_time": "2023-04-25T03:58:27.389324Z",
     "start_time": "2023-04-25T03:58:27.175896Z"
    }
   },
   "outputs": [
    {
     "name": "stdout",
     "output_type": "stream",
     "text": [
      "token : 44764개\n",
      "type : 2789개\n",
      "text3 type-token ratio : 0.062개\n",
      "text4 type-token ratio : 0.066개\n"
     ]
    }
   ],
   "source": [
    "# text3 : 창세기, text4 : 미국 대통령 취임 연설문\n",
    "print(f\"token : {len(book.text3)}개\") #등장한 단어 총 개수\n",
    "print(f\"type : {len(set(book.text3))}개\") #유니크한 단어 개수\n",
    "print(f\"text3 type-token ratio : {round(len(set(book.text3))/len(book.text3),3)}개\")\n",
    "print(f\"text4 type-token ratio : {round(len(set(book.text4))/len(book.text4),3)}개\")\n",
    "# type-token ratio = lexical diversity, lexical richness"
   ]
  },
  {
   "cell_type": "markdown",
   "id": "362337a0",
   "metadata": {},
   "source": [
    "### Herdan/Heaps 법칙\n",
    "- Herdan/Heaps 법칙은 다음과 같이 요약될 수 있습니다. 말뭉치 크기가 증가할수록 토큰 수는 비례해서 증가하고, 타입 수는 그보다 덜 빠르게 증가합니다. -> 큰 텍스트일 수록 type-token-ratio 가 작게 산출\n",
    "- 즉 엄청 큰 텍스트로 가면 쓰는 단어는 거기서 거기다"
   ]
  },
  {
   "cell_type": "code",
   "execution_count": 68,
   "id": "4e816f34",
   "metadata": {
    "ExecuteTime": {
     "end_time": "2023-04-25T03:58:27.404284Z",
     "start_time": "2023-04-25T03:58:27.397302Z"
    }
   },
   "outputs": [],
   "source": [
    "a= 'Tokens =' ; b= 'Type/Tokens ='"
   ]
  },
  {
   "cell_type": "code",
   "execution_count": 69,
   "id": "32337ea9",
   "metadata": {
    "ExecuteTime": {
     "end_time": "2023-04-25T03:58:27.586877Z",
     "start_time": "2023-04-25T03:58:27.410268Z"
    }
   },
   "outputs": [
    {
     "name": "stdout",
     "output_type": "stream",
     "text": [
      "Tokens =        260,819\n",
      "Type/Tokens =     0.074\n"
     ]
    }
   ],
   "source": [
    "print(f'{a:15}{len(book.text1):8,}') # :8, -> 숫자 8자리를 ,로 나누어 표시\n",
    "print(f'{b:<15}{len(set(book.text1))/len(book.text1):8.3f}') # "
   ]
  },
  {
   "cell_type": "code",
   "execution_count": 70,
   "id": "c6995e4c",
   "metadata": {
    "ExecuteTime": {
     "end_time": "2023-04-25T03:58:27.691312Z",
     "start_time": "2023-04-25T03:58:27.591783Z"
    }
   },
   "outputs": [
    {
     "name": "stdout",
     "output_type": "stream",
     "text": [
      "Tokens =        141,576\n",
      "Type/Tokens =     0.048\n"
     ]
    }
   ],
   "source": [
    "print('{:15}{:8,}'.format(a,len(book.text2)))\n",
    "print('{0:<15}{1:>8.3f}'.format(b,len(set(book.text2))/len(book.text2)))\n",
    "#f-string을 사용하는 것이 코드의 가독성과 실행 속도 측면에서 유리하고 순서지정 등의 문제에서 자유롭다"
   ]
  },
  {
   "cell_type": "code",
   "execution_count": 71,
   "id": "70cc1a08",
   "metadata": {
    "ExecuteTime": {
     "end_time": "2023-04-25T03:58:27.737393Z",
     "start_time": "2023-04-25T03:58:27.696503Z"
    }
   },
   "outputs": [
    {
     "data": {
      "text/plain": [
       "'Tokens =         44,764\\nType/Tokens =     0.062'"
      ]
     },
     "execution_count": 71,
     "metadata": {},
     "output_type": "execute_result"
    }
   ],
   "source": [
    "f'''{a:15}{len(book.text3):8,}\n",
    "{b:<15}{len(set(book.text3))/len(book.text3):8.3f}'''"
   ]
  },
  {
   "cell_type": "code",
   "execution_count": 72,
   "id": "a4dc703a",
   "metadata": {
    "ExecuteTime": {
     "end_time": "2023-04-25T03:58:28.026621Z",
     "start_time": "2023-04-25T03:58:27.741383Z"
    }
   },
   "outputs": [
    {
     "name": "stdout",
     "output_type": "stream",
     "text": [
      "0.074\n",
      "0.048\n",
      "0.062\n",
      "--------------------------------------------------\n",
      "0.166\n",
      "0.095\n",
      "0.065\n"
     ]
    }
   ],
   "source": [
    "print(round(len(set(book.text1))/len(book.text1),3))\n",
    "print(round(len(set(book.text2))/len(book.text2),3))\n",
    "print(round(len(set(book.text3))/len(book.text3),3))\n",
    "print('-'*50)\n",
    "print(round(len(set(book.text1[:40000]))/len(book.text1[:40000]),3))\n",
    "print(round(len(set(book.text2[:40000]))/len(book.text2[:40000]),3))\n",
    "print(round(len(set(book.text3[:40000]))/len(book.text3[:40000]),3))\n",
    "# 하지만 앞의 40000개의 단어만 보게되어서 정확한 비교가 아닐 수 있다."
   ]
  },
  {
   "cell_type": "code",
   "execution_count": 73,
   "id": "b645faf7",
   "metadata": {
    "ExecuteTime": {
     "end_time": "2023-04-25T03:58:28.193175Z",
     "start_time": "2023-04-25T03:58:28.031607Z"
    }
   },
   "outputs": [
    {
     "name": "stdout",
     "output_type": "stream",
     "text": [
      "text1 :  0.165\n",
      "text2 :  0.094\n",
      "text3 :  0.055\n"
     ]
    }
   ],
   "source": [
    "import random #매번 다른 결과가 나옴\n",
    "sample = random.choices(book.text1, k = 40000)\n",
    "print('text1 : ',round(len(set(sample))/len(sample),3))\n",
    "sample = random.choices(book.text2, k = 40000)\n",
    "print('text2 : ',round(len(set(sample))/len(sample),3))\n",
    "sample = random.choices(book.text3, k = 40000)\n",
    "print('text3 : ',round(len(set(sample))/len(sample),3))"
   ]
  },
  {
   "cell_type": "markdown",
   "id": "4536b6fb",
   "metadata": {},
   "source": [
    "### random module 주요함수"
   ]
  },
  {
   "cell_type": "code",
   "execution_count": 74,
   "id": "cf6e43a4",
   "metadata": {
    "ExecuteTime": {
     "end_time": "2023-04-25T03:58:28.222936Z",
     "start_time": "2023-04-25T03:58:28.198161Z"
    }
   },
   "outputs": [
    {
     "name": "stdout",
     "output_type": "stream",
     "text": [
      "복원추출 : ['c', 'b', 'd', 'b']\n",
      "비복원추출 : ['b', 'd', 'c', 'e']\n",
      "순서 뒤섞기 : None\n",
      "뒤섞은 a출력 : ['e', 'c', 'd', 'a', 'b']\n"
     ]
    }
   ],
   "source": [
    "a = ['a', 'b', 'c', 'd', 'e']\n",
    "print('복원추출 :',random.choices(a, k =4))\n",
    "print('비복원추출 :',random.sample(a, k =4))\n",
    "print('순서 뒤섞기 :',random.shuffle(a)) #반환 값없이 실행됨\n",
    "print('뒤섞은 a출력 :',a)"
   ]
  },
  {
   "cell_type": "markdown",
   "id": "ded9c9a6",
   "metadata": {},
   "source": [
    "### 어휘별 빈도(Counter, FreqDist)"
   ]
  },
  {
   "cell_type": "code",
   "execution_count": 75,
   "id": "4f93b6c9",
   "metadata": {
    "ExecuteTime": {
     "end_time": "2023-04-25T03:58:28.920283Z",
     "start_time": "2023-04-25T03:58:28.227083Z"
    }
   },
   "outputs": [
    {
     "data": {
      "text/plain": [
       "FreqDist({',': 18713, 'the': 13721, '.': 6862, 'of': 6536, 'and': 6024, 'a': 4569, 'to': 4542, ';': 4072, 'in': 3916, 'that': 2982, ...})"
      ]
     },
     "metadata": {},
     "output_type": "display_data"
    },
    {
     "data": {
      "text/plain": [
       "nltk.probability.FreqDist"
      ]
     },
     "metadata": {},
     "output_type": "display_data"
    },
    {
     "data": {
      "text/plain": [
       "[(',', 18713), ('the', 13721), ('.', 6862), ('of', 6536), ('and', 6024)]"
      ]
     },
     "metadata": {},
     "output_type": "display_data"
    },
    {
     "data": {
      "text/plain": [
       "6536"
      ]
     },
     "metadata": {},
     "output_type": "display_data"
    }
   ],
   "source": [
    "Freq = nltk.FreqDist(book.text1)\n",
    "display(Freq) #collections 모듈의 collections.Counter 함수와 동일\n",
    "display(type(Freq)) #data type : nltk.probability.FreqDist\n",
    "display(Freq.most_common(5)) #가장 많은 빈도수의 단어\n",
    "display(Freq['of']) #of의 개수"
   ]
  },
  {
   "cell_type": "code",
   "execution_count": 76,
   "id": "33927475",
   "metadata": {
    "ExecuteTime": {
     "end_time": "2023-04-25T03:58:29.162582Z",
     "start_time": "2023-04-25T03:58:28.925217Z"
    }
   },
   "outputs": [
    {
     "name": "stdout",
     "output_type": "stream",
     "text": [
      "type :  <class 'collections.Counter'>\n",
      "most common 5 :  [(',', 18713), ('the', 13721), ('.', 6862), ('of', 6536), ('and', 6024)]\n",
      "of의 개수 :  6536\n",
      "--------------------------------------------------------------------------------\n"
     ]
    }
   ],
   "source": [
    "from collections import Counter\n",
    "Freq = Counter(book.text1)\n",
    "print('type : ',type(Freq))\n",
    "print('most common 5 : ',Freq.most_common(5))\n",
    "print('of의 개수 : ',Freq['of']) #of의 개수\n",
    "print(\"-\"*80)\n",
    "# print(Freq) #사전 형태로 빈도수 출력"
   ]
  },
  {
   "cell_type": "markdown",
   "id": "91b4ac43",
   "metadata": {},
   "source": [
    "### 연습문제 1\n",
    "- 40000토큰 무작위 복원 추출하여 type-token ratio를 50번 반복한 후 평균 내어 제시"
   ]
  },
  {
   "cell_type": "code",
   "execution_count": 77,
   "id": "e5fdfdfe",
   "metadata": {
    "ExecuteTime": {
     "end_time": "2023-04-25T03:58:31.670872Z",
     "start_time": "2023-04-25T03:58:29.167569Z"
    }
   },
   "outputs": [
    {
     "name": "stdout",
     "output_type": "stream",
     "text": [
      "average Type/Token ratio = 0.167\n"
     ]
    }
   ],
   "source": [
    "import random as rd\n",
    "a = [len(set(j))/len(j)  for i in range(50) for j in [rd.choices(book.text1,k=40000)]]\n",
    "print('average Type/Token ratio =', round(sum(a)/len(a),3))"
   ]
  },
  {
   "cell_type": "code",
   "execution_count": 78,
   "id": "2297fc93",
   "metadata": {
    "ExecuteTime": {
     "end_time": "2023-04-25T03:58:31.685832Z",
     "start_time": "2023-04-25T03:58:31.676195Z"
    }
   },
   "outputs": [
    {
     "data": {
      "text/plain": [
       "50"
      ]
     },
     "execution_count": 78,
     "metadata": {},
     "output_type": "execute_result"
    }
   ],
   "source": [
    "len(a)"
   ]
  },
  {
   "cell_type": "markdown",
   "id": "4e6b0fd2",
   "metadata": {},
   "source": [
    "### 연습문제 2\n",
    "- concordance는 대소문자 구분을 해서 the와 The가 다른 단어로 산출된다. 이를 사용자 정의 함수를 이용하여 해결해보자\n",
    "- 상대빈소를 소수점 3자리 까지 출력하는 함수 percentage를 만들어서 소수점3자리까지"
   ]
  },
  {
   "cell_type": "code",
   "execution_count": 79,
   "id": "52845fd0",
   "metadata": {
    "ExecuteTime": {
     "end_time": "2023-04-25T03:58:31.700794Z",
     "start_time": "2023-04-25T03:58:31.690820Z"
    }
   },
   "outputs": [],
   "source": [
    "def percentage (text, word):\n",
    "    lowers = [i.lower() for i in text] # 모범 답안\n",
    "    print(f'Relative Frequency : {round((lowers.count(word.lower())/len(lowers)) * 100, 3):.3f}%')"
   ]
  },
  {
   "cell_type": "code",
   "execution_count": 80,
   "id": "edb73eb6",
   "metadata": {
    "ExecuteTime": {
     "end_time": "2023-04-25T03:58:31.745674Z",
     "start_time": "2023-04-25T03:58:31.733705Z"
    }
   },
   "outputs": [],
   "source": [
    "def percentage (text, word): #상대빈도 : 단어수/전체단어수\n",
    "    pct = ' '.join(text[:]).lower().split(' ').count(word.lower())/len(text[:]) #나의 정답\n",
    "    print(f'Relative Frequency : {round(pct * 100, 3):.3f}%')"
   ]
  },
  {
   "cell_type": "code",
   "execution_count": 81,
   "id": "805b4eee",
   "metadata": {
    "ExecuteTime": {
     "end_time": "2023-04-25T03:58:31.835435Z",
     "start_time": "2023-04-25T03:58:31.750660Z"
    }
   },
   "outputs": [
    {
     "name": "stdout",
     "output_type": "stream",
     "text": [
      "Relative Frequency : 2.900%\n",
      "Relative Frequency : 2.900%\n"
     ]
    }
   ],
   "source": [
    "percentage(book.text2, 'The')\n",
    "percentage(book.text2, 'the')"
   ]
  },
  {
   "cell_type": "markdown",
   "id": "38568150",
   "metadata": {},
   "source": [
    "### 연습문제 3\n",
    "- Freq로 type-token ratio 소수점 3째자리까지 구하기"
   ]
  },
  {
   "cell_type": "code",
   "execution_count": 82,
   "id": "b9ffb831",
   "metadata": {
    "ExecuteTime": {
     "end_time": "2023-04-25T03:58:32.014959Z",
     "start_time": "2023-04-25T03:58:31.840422Z"
    }
   },
   "outputs": [],
   "source": [
    "Freq = Counter(book.text1)"
   ]
  },
  {
   "cell_type": "code",
   "execution_count": 83,
   "id": "d7ba23e9",
   "metadata": {
    "ExecuteTime": {
     "end_time": "2023-04-25T03:58:32.029916Z",
     "start_time": "2023-04-25T03:58:32.018944Z"
    }
   },
   "outputs": [
    {
     "name": "stdout",
     "output_type": "stream",
     "text": [
      "Type/Token Ratio: 0.074\n"
     ]
    }
   ],
   "source": [
    "a = len(Freq) #type값, len(set(Freq.keys())) 도 가능\n",
    "b = sum(Freq.values())\n",
    "print(f'Type/Token Ratio: {a/b:5.3f}')"
   ]
  },
  {
   "cell_type": "markdown",
   "id": "053fcedd",
   "metadata": {},
   "source": [
    "### 연습문제 4"
   ]
  },
  {
   "cell_type": "code",
   "execution_count": 84,
   "id": "7bab6f46",
   "metadata": {
    "ExecuteTime": {
     "end_time": "2023-04-25T03:58:32.074792Z",
     "start_time": "2023-04-25T03:58:32.033903Z"
    }
   },
   "outputs": [
    {
     "data": {
      "text/plain": [
       "['Nantucketer',\n",
       " 'Nevertheless',\n",
       " 'circumstance',\n",
       " 'circumstances',\n",
       " 'considerable',\n",
       " 'considering',\n",
       " 'harpooneers',\n",
       " 'nevertheless']"
      ]
     },
     "execution_count": 84,
     "metadata": {},
     "output_type": "execute_result"
    }
   ],
   "source": [
    "sorted([key for key in Freq if len(key)>10 and Freq[key]>20]) #and 사용 예시\n",
    "sorted([key for key in Freq if (len(key)>10) & (Freq[key]>20)]) #& 사용 예시 : &는 괄호로 꼭 묶어야함"
   ]
  },
  {
   "cell_type": "markdown",
   "id": "febeaf9b",
   "metadata": {},
   "source": [
    "## NLTK 코퍼스 및 어휘자원활용 3\n",
    "AI핵심은 데이터 수집/가공 능력 -> 좋은 요리에는 좋은 재료! 모델에서 데이터 중심의 AI로"
   ]
  },
  {
   "cell_type": "markdown",
   "id": "710f92af",
   "metadata": {},
   "source": [
    "### 코퍼스란?\n",
    "코퍼스(Corpus)란 언어학, 자연어처리, 인공지능 등에서 사용되는 언어 샘플의 집합입니다. 즉, 대량의 텍스트나 음성 데이터를 수집, 정제하여 분석 가능한 형태로 구축한 언어 자료집이라고 할 수 있습니다.\n",
    "<br> -> 전산화된 문자 텍스트 or 음성 자료 집합\n",
    "- 협의적(일반적)의미의 코퍼스\n",
    "    - 대표성(representativeness), 균형성(balance), 크기(size)를 고려하여 정교한 설계/구축\n",
    "    - 코퍼스 종류 : 장르(문어,구어), 방언, 역사시기, 언어 학습, 언어비교 등등\n",
    "    - 언어 분석 정보 : 원문(raw), 형태소분석, 어휘의미, 구문분석\n",
    "- 광의적 의미의 코퍼스\n",
    "    - 언어 연구 목적 외에도 다양한 목적으로 활용 가능한 전산화된 언어자료\n",
    "    - 웹문서, SNS(트위터, 인스타), 전산 텍스트\n",
    "    - 반드시 대표성 및 균형성이 고려될 필요는 없으나 최근 빅데이터의 대표성 문제가 화두\n",
    "\n",
    "\n",
    "#### 대표성, 균형성, 크기\n",
    "대표성(representativeness):\n",
    "대표성은 코퍼스가 대상 언어의 모든 측면을 포괄하고 있는지를 나타내는 지표입니다. 이는 코퍼스가 다양한 문체, 주제, 어휘, 화용 등을 포함하고 있어야 한다는 것을 의미합니다. 대표성이 높은 코퍼스는 신뢰성이 높은 분석 결과를 도출할 수 있도록 도와줍니다. \n",
    "<br> -> 즉 모집단(언어 전체)를 대신해서 표본집단(해당 코퍼스)이 모집단의 특징을 잘 담고 있는지 \n",
    "\n",
    "균형성(balance):\n",
    "균형성은 코퍼스 내에서 다양한 텍스트 유형이 균형있게 포함되어 있는지를 나타내는 지표입니다. 예를 들어, 언론매체나 문학작품 등 특정한 유형의 텍스트가 지나치게 많이 포함되어 있으면, 분석 결과가 왜곡될 수 있습니다. 따라서 균형성을 고려하여 코퍼스를 구성하는 것이 중요합니다.\n",
    "<br> -> 표본집단(해당 코퍼스)이 모집단의 특성을 균형적으로 고르게 반영하는지\n",
    "\n",
    "크기(size):\n",
    "크기는 코퍼스에 포함된 텍스트의 양을 나타내는 지표입니다. 코퍼스의 크기는 분석 목적에 따라 다양하게 결정될 수 있습니다. 예를 들어, 통계 분석을 위해서는 대규모의 코퍼스가 필요할 수 있고, 특정한 주제나 언어 현상을 분석하기 위해서는 소규모의 코퍼스도 충분할 수 있습니다. 적절한 크기의 코퍼스를 구성하여 분석을 수행해야합니다.\n",
    "<br> -> 표본집단(해당 코퍼스)의 크기가 충분히 큰지\n",
    "\n",
    "#### 코퍼스 설계\n",
    "- 장르, 역사시기, 방언, 언어사용자 특성 등에 따른 변이성(variation)고려\n",
    "- 언어 사용/관심사 특성 또는 모집다느이 대표성 -> 균형성, 크기\n",
    "- 보통 코퍼스 설계만 1~2년 -> 보편성, 변이성 관찰 목적\n",
    "\n",
    "층화표본 추출(stratified sampling)\n",
    "- 모딥단의 층화/집단의 분포비율 고려하여 표본 추출 -> 층화 내 random sampling\n",
    "- 여론 조사 : 지역, 직업, 사회, 나이, 성별\n",
    "- 예시) Brown Corpus\n",
    "\n",
    "표본으로서의 코퍼스 -> 보편성, 변이성 관찰\n",
    "<br>모집단으로서의 코퍼스 -> 개별 텍스트와 비교를 위한 모집단(참조 코퍼스, reference corpus)\n",
    "\n",
    "#### 빅데이터의 한계\n",
    "- 단순히 큰 규모보다 용도에 맞는 데이터가 중요\n",
    "    - AI 개발자들이 적용가능한 제대로된 데이터 확보가 어렵기 때문에 구글 등의 세계적 기업은 정교한 설계에 수작업으로 구축한 Dataset을 사용\n",
    "- SNS의 데이터화 \n",
    "    - 페북, 인스타, 트위터 -> 인간 관계, 경험, 기분/정서의 데이터화\n",
    "    - 감성분석(sentiment analysis/opinion mining) -> 화자의 태도 분석(긍정/중립/부정)\n",
    "- 잠재적 용도가 무한한 SNS 데이터\n",
    "    - 트위터의 경우 고학력 고소득 35-44세 대도시 싱글족이 주로 사용함, 주요주제 : 정치/여성 문제\n",
    "    <br> -> 따라서 트위터 사용자의 인구통계적 특성이 미국의 평균/보편/일반적이라고 할 수 없으므로 미국인을 대표하는 특성으로 다루는 것을 조심해야함\n",
    "    - Google Books Ngram Viewer\n",
    "        - 전세계 유명대학/기업 도서관의 소장 도서 자동스캐닝 -> 광학적 문자인식(OCR) 이용하여 텍스트의 문자, 부호, 단어, 문장, 문단 인식 -> 코퍼스 구축\n",
    "        - 지원 언어 : 영어(영,미,소설), 중국어, 불어, 독어, 스페인어, 이탈리아어, 러시아어, 히브리어"
   ]
  },
  {
   "cell_type": "markdown",
   "id": "50d37344",
   "metadata": {},
   "source": [
    "### Project Gutenberg\n",
    "- 1971년 시작 2015년 5만건 이상의 텍스트 구축\n",
    "- 서구 문화 전통을 나타내는 문학 작품(소설,시,드라마 등) 위주이나 다양한 장르 텍스트 구성\n",
    "- 대부분 영어 텍스트이나, 불어, 독어, 네덜란드어, 이태리어, 포르투갈어, 핀란드어 텍스트로 구성\n",
    "- 처음에는 컴퓨터에서 사용할 수 e-book 생산 배포 장려 목적이었지만 귀중한 역사적, 문화적 연구 자원이자 인문학/공학적 자원임"
   ]
  },
  {
   "cell_type": "code",
   "execution_count": 85,
   "id": "d3df07e8",
   "metadata": {
    "ExecuteTime": {
     "end_time": "2023-04-25T03:58:32.104773Z",
     "start_time": "2023-04-25T03:58:32.078782Z"
    }
   },
   "outputs": [
    {
     "data": {
      "text/plain": [
       "<LazyModule 'nltk.corpus'>"
      ]
     },
     "metadata": {},
     "output_type": "display_data"
    },
    {
     "data": {
      "text/plain": [
       "nltk.lazyimport.LazyModule"
      ]
     },
     "metadata": {},
     "output_type": "display_data"
    },
    {
     "data": {
      "text/plain": [
       "<PlaintextCorpusReader in 'C:\\\\Users\\\\chris\\\\AppData\\\\Roaming\\\\nltk_data\\\\corpora\\\\gutenberg'>"
      ]
     },
     "metadata": {},
     "output_type": "display_data"
    },
    {
     "data": {
      "text/plain": [
       "nltk.corpus.reader.plaintext.PlaintextCorpusReader"
      ]
     },
     "metadata": {},
     "output_type": "display_data"
    }
   ],
   "source": [
    "display(nltk.corpus)\n",
    "display(type(nltk.corpus))\n",
    "display(nltk.corpus.gutenberg)\n",
    "display(type(nltk.corpus.gutenberg))"
   ]
  },
  {
   "cell_type": "markdown",
   "id": "5e930ce5",
   "metadata": {},
   "source": [
    "### fileids"
   ]
  },
  {
   "cell_type": "code",
   "execution_count": 86,
   "id": "6f4bcd41",
   "metadata": {
    "ExecuteTime": {
     "end_time": "2023-04-25T03:58:32.134757Z",
     "start_time": "2023-04-25T03:58:32.109699Z"
    }
   },
   "outputs": [
    {
     "data": {
      "text/plain": [
       "['austen-emma.txt',\n",
       " 'austen-persuasion.txt',\n",
       " 'austen-sense.txt',\n",
       " 'bible-kjv.txt',\n",
       " 'blake-poems.txt',\n",
       " 'bryant-stories.txt',\n",
       " 'burgess-busterbrown.txt',\n",
       " 'carroll-alice.txt',\n",
       " 'chesterton-ball.txt',\n",
       " 'chesterton-brown.txt',\n",
       " 'chesterton-thursday.txt',\n",
       " 'edgeworth-parents.txt',\n",
       " 'melville-moby_dick.txt',\n",
       " 'milton-paradise.txt',\n",
       " 'shakespeare-caesar.txt',\n",
       " 'shakespeare-hamlet.txt',\n",
       " 'shakespeare-macbeth.txt',\n",
       " 'whitman-leaves.txt']"
      ]
     },
     "metadata": {},
     "output_type": "display_data"
    },
    {
     "data": {
      "text/plain": [
       "list"
      ]
     },
     "metadata": {},
     "output_type": "display_data"
    }
   ],
   "source": [
    "from nltk.corpus import gutenberg \n",
    "display(gutenberg.fileids()) # display(nltk.corpus.gutenberg.fileids())  \n",
    "display(type(gutenberg.fileids())) #파일 목록"
   ]
  },
  {
   "cell_type": "code",
   "execution_count": 87,
   "id": "8c519b56",
   "metadata": {
    "ExecuteTime": {
     "end_time": "2023-04-25T03:58:32.164553Z",
     "start_time": "2023-04-25T03:58:32.138622Z"
    }
   },
   "outputs": [
    {
     "data": {
      "text/plain": [
       "['austen-emma.txt',\n",
       " 'austen-persuasion.txt',\n",
       " 'austen-sense.txt',\n",
       " 'bible-kjv.txt',\n",
       " 'blake-poems.txt',\n",
       " 'bryant-stories.txt',\n",
       " 'burgess-busterbrown.txt',\n",
       " 'carroll-alice.txt',\n",
       " 'chesterton-ball.txt',\n",
       " 'chesterton-brown.txt',\n",
       " 'chesterton-thursday.txt',\n",
       " 'edgeworth-parents.txt',\n",
       " 'melville-moby_dick.txt',\n",
       " 'milton-paradise.txt',\n",
       " 'shakespeare-caesar.txt',\n",
       " 'shakespeare-hamlet.txt',\n",
       " 'shakespeare-macbeth.txt',\n",
       " 'whitman-leaves.txt']"
      ]
     },
     "execution_count": 87,
     "metadata": {},
     "output_type": "execute_result"
    }
   ],
   "source": [
    "[fileid for fileid in gutenberg.fileids()]"
   ]
  },
  {
   "cell_type": "markdown",
   "id": "f3d11ce1",
   "metadata": {},
   "source": [
    "### raw\n",
    "- 원문 그대로\n",
    "- raw() 히면 모든 file 전부 원문 출력\n",
    "- raw('파일명.txt')하면 해당 파일만 원문 출력"
   ]
  },
  {
   "cell_type": "code",
   "execution_count": 88,
   "id": "8cf31611",
   "metadata": {
    "ExecuteTime": {
     "end_time": "2023-04-25T03:58:32.194587Z",
     "start_time": "2023-04-25T03:58:32.170539Z"
    }
   },
   "outputs": [
    {
     "name": "stdout",
     "output_type": "stream",
     "text": [
      "type(a) :  <class 'str'>\n",
      "type(a[:99]) :  <class 'str'>\n",
      "type(a[:100]) :  <class 'str'>\n",
      "len(a) :  887071\n",
      "\n",
      "[Emma by Jane Austen 1816]\n",
      "\n",
      "VOLUME I\n",
      "\n",
      "CHAPTER I\n",
      "\n",
      "\n",
      "Emma Woodhouse, handsome, clever, and rich, with a comfortable home\n",
      "and happy disposition, seemed to unite some of the best blessings\n",
      "of existence; an\n"
     ]
    }
   ],
   "source": [
    "a = gutenberg.raw('austen-emma.txt')\n",
    "print('type(a) : ', type(a)) #str 타입\n",
    "print('type(a[:99]) : ', type(a[:20]))  #str 타입\n",
    "print('type(a[:100]) : ', type(a[:1000])) # nltk.collections.LazySubsequence 타입\n",
    "#대용량의 텍스트 데이터를 메모리에 한꺼번에 로딩하지 않고, 필요한 부분만 동적으로 생성하여 처리\n",
    "print('len(a) : ', len(a))\n",
    "print()\n",
    "print(a[:200])"
   ]
  },
  {
   "cell_type": "markdown",
   "id": "deb51efc",
   "metadata": {},
   "source": [
    "### words\n",
    "- 단어 별로 추출(문장 구분X)"
   ]
  },
  {
   "cell_type": "code",
   "execution_count": 89,
   "id": "7a7847a6",
   "metadata": {
    "ExecuteTime": {
     "end_time": "2023-04-25T03:58:32.674190Z",
     "start_time": "2023-04-25T03:58:32.198461Z"
    }
   },
   "outputs": [
    {
     "name": "stdout",
     "output_type": "stream",
     "text": [
      "type(a) :  <class 'nltk.corpus.reader.util.StreamBackedCorpusView'>\n",
      "type(a[:99]) :  <class 'list'>\n",
      "type(a[:]) :  <class 'nltk.collections.LazySubsequence'>\n",
      "len(a) :  192427\n",
      "\n",
      "['[', 'Emma', 'by', 'Jane', 'Austen', '1816', ']', 'VOLUME', 'I', 'CHAPTER', 'I', 'Emma', 'Woodhouse', ',', 'handsome', ',', 'clever', ',', 'and', 'rich', ',', 'with', 'a', 'comfortable', 'home', 'and', 'happy', 'disposition', ',', 'seemed', 'to', 'unite', 'some', 'of', 'the', 'best', 'blessings', 'of', 'existence', ';']\n"
     ]
    }
   ],
   "source": [
    "a = gutenberg.words('austen-emma.txt')\n",
    "print('type(a) : ', type(a)) #StreamBackedCorpusView 타입\n",
    "print('type(a[:99]) : ', type(a[:20])) #list 타입\n",
    "print('type(a[:]) : ', type(a[:])) # nltk.collections.LazySubsequence 타입\n",
    "#대용량의 텍스트 데이터를 메모리에 한꺼번에 로딩하지 않고, 필요한 부분만 동적으로 생성하여 처리\n",
    "print('len(a) : ', len(a))\n",
    "print()\n",
    "print(a[:40])"
   ]
  },
  {
   "cell_type": "markdown",
   "id": "ce47ca4d",
   "metadata": {},
   "source": [
    "### sents\n",
    "- 문장 단위로 나눠 리스트에 담고 그 리스트 안에 있는 문장도 단어단위로 쪼개어 2중 리스트로 구현\n",
    "- sents() 히면 모든 file 전부 sents 출력\n",
    "- sents('파일명.txt')하면 해당 파일만 sents 출력"
   ]
  },
  {
   "cell_type": "code",
   "execution_count": 90,
   "id": "70909a2b",
   "metadata": {
    "ExecuteTime": {
     "end_time": "2023-04-25T03:58:33.676509Z",
     "start_time": "2023-04-25T03:58:32.677183Z"
    },
    "scrolled": true
   },
   "outputs": [
    {
     "name": "stdout",
     "output_type": "stream",
     "text": [
      "type(a) :  <class 'nltk.corpus.reader.util.StreamBackedCorpusView'>\n",
      "type(a[:99]) :  <class 'list'>\n",
      "type(a[:100]) :  <class 'nltk.collections.LazySubsequence'>\n",
      "len(a) :  7717\n",
      "\n",
      "[['[', 'Emma', 'by', 'Jane', 'Austen', '1816', ']'], ['VOLUME', 'I'], ['CHAPTER', 'I'], ['Emma', 'Woodhouse', ',', 'handsome', ',', 'clever', ',', 'and', 'rich', ',', 'with', 'a', 'comfortable', 'home', 'and', 'happy', 'disposition', ',', 'seemed', 'to', 'unite', 'some', 'of', 'the', 'best', 'blessings', 'of', 'existence', ';', 'and', 'had', 'lived', 'nearly', 'twenty', '-', 'one', 'years', 'in', 'the', 'world', 'with', 'very', 'little', 'to', 'distress', 'or', 'vex', 'her', '.']]\n"
     ]
    }
   ],
   "source": [
    "a = gutenberg.sents('austen-emma.txt')\n",
    "print('type(a) : ', type(a)) #StreamBackedCorpusView 타입\n",
    "print('type(a[:99]) : ', type(a[:99])) #이때 까진 list\n",
    "print('type(a[:100]) : ', type(a[:100])) # nltk.collections.LazySubsequence 타입\n",
    "#대용량의 텍스트 데이터를 메모리에 한꺼번에 로딩하지 않고, 필요한 부분만 동적으로 생성하여 처리\n",
    "print('len(a) : ', len(a))\n",
    "print()\n",
    "print(a[:4])"
   ]
  },
  {
   "cell_type": "markdown",
   "id": "403fc6ab",
   "metadata": {},
   "source": [
    "### 데이터구조 식별의 중요성"
   ]
  },
  {
   "cell_type": "code",
   "execution_count": 91,
   "id": "def74936",
   "metadata": {
    "ExecuteTime": {
     "end_time": "2023-04-25T03:58:33.706429Z",
     "start_time": "2023-04-25T03:58:33.682493Z"
    }
   },
   "outputs": [
    {
     "name": "stdout",
     "output_type": "stream",
     "text": [
      "type(b) : <class 'nltk.corpus.reader.util.StreamBackedCorpusView'>\n",
      "type(c) : <class 'list'>\n"
     ]
    }
   ],
   "source": [
    "b = gutenberg.words('austen-emma.txt')\n",
    "c = b[:100]\n",
    "print(f'type(b) : {type(b)}') #append하면 속성오류남\n",
    "print(f'type(c) : {type(c)}') #append 가능"
   ]
  },
  {
   "cell_type": "code",
   "execution_count": 92,
   "id": "7305b7d8",
   "metadata": {
    "ExecuteTime": {
     "end_time": "2023-04-25T03:58:33.736421Z",
     "start_time": "2023-04-25T03:58:33.712423Z"
    }
   },
   "outputs": [
    {
     "name": "stdout",
     "output_type": "stream",
     "text": [
      "type(book) : <class 'module'>\n",
      "type(book.text1) : <class 'nltk.text.Text'>\n",
      "type(gutenberg) : <class 'nltk.corpus.reader.plaintext.PlaintextCorpusReader'>\n",
      "type(gutenberg.raw(\"austen-emma.txt\")) : <class 'str'>\n"
     ]
    }
   ],
   "source": [
    "print(f'type(book) : {type(book)}') # book.raw('text1')하면 오류남 \n",
    "print(f'type(book.text1) : {type(book.text1)}') # book.text1.raw()하면 오류남\n",
    "print(f'type(gutenberg) : {type(gutenberg)}') #여기에는 raw() 사용 가능, \n",
    "print(f'type(gutenberg.raw(\"austen-emma.txt\")) : {type(gutenberg.raw(\"austen-emma.txt\"))}')\n",
    "# 하지만 gutenberg.raw('austen-emma.txt').similar 등등 쓰면 오류"
   ]
  },
  {
   "cell_type": "code",
   "execution_count": 93,
   "id": "63154a80",
   "metadata": {
    "ExecuteTime": {
     "end_time": "2023-04-25T03:58:35.608421Z",
     "start_time": "2023-04-25T03:58:33.739417Z"
    }
   },
   "outputs": [
    {
     "name": "stdout",
     "output_type": "stream",
     "text": [
      "type(book.text1) : <class 'nltk.text.Text'>\n",
      "type(gutenberg.raw(\"austen-emma.txt\")) : <class 'str'>\n",
      "type(gutenberg.words(\"austen-emma.txt\")) : <class 'nltk.corpus.reader.util.StreamBackedCorpusView'>\n",
      "type(gutenberg.sents(\"austen-emma.txt\")) : <class 'nltk.corpus.reader.util.StreamBackedCorpusView'>\n",
      "\n",
      "13721\n",
      "8005\n",
      "4844\n",
      "0\n"
     ]
    }
   ],
   "source": [
    "# 하지만 Count는 아래의 데이터 타입에서 모두 지원\n",
    "print(f'type(book.text1) : {type(book.text1)}')\n",
    "print(f'type(gutenberg.raw(\"austen-emma.txt\")) : {type(gutenberg.raw(\"austen-emma.txt\"))}')\n",
    "print(f'type(gutenberg.words(\"austen-emma.txt\")) : {type(gutenberg.words(\"austen-emma.txt\"))}')\n",
    "print(f'type(gutenberg.sents(\"austen-emma.txt\")) : {type(gutenberg.sents(\"austen-emma.txt\"))}')\n",
    "print()\n",
    "print(book.text1.count('the')) #count 가능\n",
    "print(gutenberg.raw(\"austen-emma.txt\").count('the')) #count 가능\n",
    "print(gutenberg.words(\"austen-emma.txt\").count('the')) #count 가능\n",
    "print(gutenberg.sents(\"austen-emma.txt\").count('the')) #count 가능"
   ]
  },
  {
   "cell_type": "markdown",
   "id": "4e14e173",
   "metadata": {},
   "source": [
    "### 파일별 기본 통계량 추출\n",
    "- num_chars/num_words: 평균 단어 길이(average word length) -> 앞파벳길이\n",
    "- num_words/num_sents: 평균 문장 길이(average sentence length) -> 단어길이\n",
    "- num_types/num_words: 어휘 다양성(vocabulary diversity) = type-token ratio(TTR)"
   ]
  },
  {
   "cell_type": "code",
   "execution_count": 94,
   "id": "5d4b9ceb",
   "metadata": {
    "ExecuteTime": {
     "end_time": "2023-04-25T03:59:08.317714Z",
     "start_time": "2023-04-25T03:58:35.611335Z"
    }
   },
   "outputs": [
    {
     "name": "stdout",
     "output_type": "stream",
     "text": [
      "--------------------------------------------------\n",
      "   4.610  24.935   0.038    austen-emma.txt\n",
      "   4.750  26.200   0.059    austen-persuasion.txt\n",
      "   4.754  28.321   0.045    austen-sense.txt\n",
      "   4.287  33.573   0.013    bible-kjv.txt\n",
      "   4.567  19.073   0.184    blake-poems.txt\n",
      "   4.489  19.407   0.071    bryant-stories.txt\n",
      "   4.465  17.991   0.082    burgess-busterbrown.txt\n",
      "   4.233  20.029   0.077    carroll-alice.txt\n",
      "   4.716  20.296   0.086    chesterton-ball.txt\n",
      "   4.725  22.612   0.091    chesterton-brown.txt\n",
      "   4.631  18.566   0.092    chesterton-thursday.txt\n",
      "   4.439  20.593   0.040    edgeworth-parents.txt\n",
      "   4.766  25.929   0.066    melville-moby_dick.txt\n",
      "   4.836  52.310   0.093    milton-paradise.txt\n",
      "   4.348  11.943   0.117    shakespeare-caesar.txt\n",
      "   4.360  12.028   0.126    shakespeare-hamlet.txt\n",
      "   4.337  12.134   0.150    shakespeare-macbeth.txt\n",
      "   4.592  36.443   0.080    whitman-leaves.txt\n"
     ]
    }
   ],
   "source": [
    "print('-'*50)\n",
    "for fileid in gutenberg.fileids():\n",
    "    num_chars = len(gutenberg.raw(fileid))   #알파벳수\n",
    "    num_words = len(gutenberg.words(fileid)) #단어수\n",
    "    num_sents = len(gutenberg.sents(fileid)) #문장수\n",
    "    num_types = len(set(w.lower() for w in gutenberg.words(fileid)))\n",
    "    out = '{:>8.3f}'*3\n",
    "    print(out.format(num_chars/num_words, num_words/num_sents, num_types/num_words), \" \" *3+fileid)"
   ]
  },
  {
   "cell_type": "markdown",
   "id": "fb0d0909",
   "metadata": {},
   "source": [
    "### 텍스트 가독성(readability)\n",
    "- 텍스트 난이도를 나타내는 통계적 척도로, 텍스트 수준 평가 기준으로 활용\n",
    "- 문장/문단/어휘 길이, 어휘 수준과 관련하여 평가\n",
    "- 텍스트의 독자 수준 평가(읽기 능력 등등)\n",
    "- 텍스트 수준을 고려하여 학년별 수준 도서 추천, 시험 지문 난이도 평가 등등..."
   ]
  },
  {
   "cell_type": "markdown",
   "id": "7199fb68",
   "metadata": {},
   "source": [
    "## NLTK 코퍼스 및 어휘자원활용 4\n",
    "문자수, 어휘수, 문장수 고려하기\n",
    "- 공백문자, 숫자, 문장부호도 포함해야할까?\n",
    "- 문자수 : 공백문자, 숫자, 문장부호 제거?\n",
    "- 어휘수 : 알파벳이 하나 이상 포함?\n",
    "- 문장수 : 알파벳이 하나 이상 구성 어휘 포함?"
   ]
  },
  {
   "cell_type": "markdown",
   "id": "3ea9a238",
   "metadata": {},
   "source": [
    "### 연습문제 1\n",
    "austen-emma.txt에서 알파벳의 수 산출 -> 답: 684,327"
   ]
  },
  {
   "cell_type": "code",
   "execution_count": 95,
   "id": "43ab8a4c",
   "metadata": {
    "ExecuteTime": {
     "end_time": "2023-04-25T03:59:08.706567Z",
     "start_time": "2023-04-25T03:59:08.320597Z"
    }
   },
   "outputs": [
    {
     "data": {
      "text/plain": [
       "684327"
      ]
     },
     "execution_count": 95,
     "metadata": {},
     "output_type": "execute_result"
    }
   ],
   "source": [
    "raw = gutenberg.raw('austen-emma.txt')\n",
    "len(re.findall('[a-zA-Z]',raw))"
   ]
  },
  {
   "cell_type": "markdown",
   "id": "66689521",
   "metadata": {},
   "source": [
    "### 연습문제 2\n",
    "austen-emma.txt에서 words로 알파벳을 하나 이상 포함한 어휘 수 산출-> 답: 161,975\n"
   ]
  },
  {
   "cell_type": "code",
   "execution_count": 96,
   "id": "0a97b6ad",
   "metadata": {
    "ExecuteTime": {
     "end_time": "2023-04-25T03:59:11.234802Z",
     "start_time": "2023-04-25T03:59:08.713549Z"
    }
   },
   "outputs": [
    {
     "data": {
      "text/plain": [
       "161975"
      ]
     },
     "execution_count": 96,
     "metadata": {},
     "output_type": "execute_result"
    }
   ],
   "source": [
    "words = gutenberg.words('austen-emma.txt')\n",
    "len([word for word in words if len(re.findall('[a-zA-Z]+',word))!=0]) #나의 답\n",
    "len([w for w in gutenberg.words('austen-emma.txt') if re.search('[a-z]',w,re.I)]) #모범 답"
   ]
  },
  {
   "cell_type": "markdown",
   "id": "5e173fae",
   "metadata": {},
   "source": [
    "참고"
   ]
  },
  {
   "cell_type": "code",
   "execution_count": 97,
   "id": "ba954a8c",
   "metadata": {
    "ExecuteTime": {
     "end_time": "2023-04-25T03:59:11.249764Z",
     "start_time": "2023-04-25T03:59:11.238827Z"
    }
   },
   "outputs": [
    {
     "name": "stdout",
     "output_type": "stream",
     "text": [
      "spacebar\n"
     ]
    }
   ],
   "source": [
    "if ' ': print('spacebar') # spacebar는 True 나머지는 False\n",
    "if '' : print('blank')\n",
    "if 0  : print('zero')\n",
    "if [] : print('null list')\n",
    "if {} : print('null dict')"
   ]
  },
  {
   "cell_type": "markdown",
   "id": "86c2200c",
   "metadata": {},
   "source": [
    "### NLTK : words 특성\n",
    "- 정규표현식만으로 단어를 정제하는 것은 어렵다.\n",
    "- NLTK코드는 충분한가?"
   ]
  },
  {
   "cell_type": "code",
   "execution_count": 98,
   "id": "c3f384b2",
   "metadata": {
    "ExecuteTime": {
     "end_time": "2023-04-25T03:59:11.399364Z",
     "start_time": "2023-04-25T03:59:11.253756Z"
    }
   },
   "outputs": [
    {
     "name": "stdout",
     "output_type": "stream",
     "text": [
      "['[Emma', 'by', 'Jane', 'Austen', 'VOLUME', 'I', 'CHAPTER', 'I', 'Emma', 'Woodhouse,', 'handsome,', 'clever,', 'and', 'rich,', 'with', 'a', 'comfortable', 'home', 'and', 'happy', 'disposition,', 'seemed', 'to', 'unite', 'some', 'of', 'the', 'best', 'blessings', 'of', 'existence;', 'and', 'had', 'lived', 'nearly', 'twenty-one', 'years', 'in', 'the', 'world']\n"
     ]
    }
   ],
   "source": [
    "b = re.findall('\\S*[a-z]\\S*', gutenberg.raw('austen-emma.txt'), flags = re.I)\n",
    "print(b[:40]) # [Emma, twenty-one 등등이 보임..."
   ]
  },
  {
   "cell_type": "code",
   "execution_count": 99,
   "id": "b4161ff9",
   "metadata": {
    "ExecuteTime": {
     "end_time": "2023-04-25T03:59:12.656097Z",
     "start_time": "2023-04-25T03:59:11.402359Z"
    }
   },
   "outputs": [
    {
     "name": "stdout",
     "output_type": "stream",
     "text": [
      "['Emma', 'by', 'Jane', 'Austen', 'VOLUME', 'I', 'CHAPTER', 'I', 'Emma', 'Woodhouse', 'handsome', 'clever', 'and', 'rich', 'with', 'a', 'comfortable', 'home', 'and', 'happy', 'disposition', 'seemed', 'to', 'unite', 'some', 'of', 'the', 'best', 'blessings', 'of', 'existence', 'and', 'had', 'lived', 'nearly', 'twenty', 'one', 'years', 'in', 'the', 'world']\n"
     ]
    }
   ],
   "source": [
    "word = [w for w in gutenberg.words('austen-emma.txt') if re.search('[a-z]',w,re.I)]\n",
    "print(word[:41])"
   ]
  },
  {
   "cell_type": "code",
   "execution_count": 100,
   "id": "4012085b",
   "metadata": {
    "ExecuteTime": {
     "end_time": "2023-04-25T03:59:12.670962Z",
     "start_time": "2023-04-25T03:59:12.660303Z"
    }
   },
   "outputs": [
    {
     "name": "stdout",
     "output_type": "stream",
     "text": [
      "len(word): 161975\n",
      "len(b): 158128\n"
     ]
    }
   ],
   "source": [
    "print(f'len(word): {len(word)}\\nlen(b): {len(b)}')"
   ]
  },
  {
   "cell_type": "code",
   "execution_count": 101,
   "id": "880157fd",
   "metadata": {
    "ExecuteTime": {
     "end_time": "2023-04-25T03:59:13.523843Z",
     "start_time": "2023-04-25T03:59:12.673955Z"
    }
   },
   "outputs": [
    {
     "name": "stdout",
     "output_type": "stream",
     "text": [
      "[\"days'\", \"years'\", \"`No'\", \"years'\", \"better'\", \"friends'\", \"Churchills'\", \"Ceremonies'\", \"friends'\", \"years'\", \"years'\", \"persons'\", \"d'\", \"neighbours'\", \"Knightley'\", \"Eltons'\", \"days'\", \"minutes'\", \"Sucklings'\", \"moments'\", \"Genlis'\", \"`George'\", \"Emma'\", \"persons'\"]\n",
      "\n",
      "['twenty-one', 'came--a', 'sorrow--but', 'consciousness.--Miss', 'wedding-day', 'bride-people', 'self-denying,', 'kindness--the', 'years--how', 'old--how', 'health--and', 'well-informed,', 'hers--one', 'change?--It', 'Taylor!--I', 'good-humoured,', 'wife;--and', 'own!--But', 'large.--And', 'us!--We', 'way;--and', 'her--James', 'pretty-spoken', 'backgammon-table', 'eight-and-thirty,', 'bye--I', 'independence!--At', 'know--and', 'know--', 'joke--it']\n"
     ]
    }
   ],
   "source": [
    "c = [w for w in b if re.search(\"\\\\b'$\" ,w)]\n",
    "print(c[:30]) \n",
    "print()\n",
    "d = [w for w in b if re.search(\"-\" ,w)]\n",
    "print(d[:30]) "
   ]
  },
  {
   "cell_type": "markdown",
   "id": "09896660",
   "metadata": {},
   "source": [
    "### 연습문제 3 -> 모범 답안 궁금"
   ]
  },
  {
   "cell_type": "code",
   "execution_count": 102,
   "id": "effeb013",
   "metadata": {
    "ExecuteTime": {
     "end_time": "2023-04-25T03:59:13.538646Z",
     "start_time": "2023-04-25T03:59:13.530699Z"
    }
   },
   "outputs": [],
   "source": [
    "# if not re.search('[a-zA-Z]', ''join{~~)}) 이런식이어음"
   ]
  },
  {
   "cell_type": "code",
   "execution_count": 103,
   "id": "684ff28b",
   "metadata": {
    "ExecuteTime": {
     "end_time": "2023-04-25T03:59:14.929922Z",
     "start_time": "2023-04-25T03:59:13.544226Z"
    }
   },
   "outputs": [
    {
     "data": {
      "text/plain": [
       "7710"
      ]
     },
     "execution_count": 103,
     "metadata": {},
     "output_type": "execute_result"
    }
   ],
   "source": [
    "sents = gutenberg.sents('austen-emma.txt')\n",
    "len([' '.join(line) for line in sents if re.search('[a-z]',' '.join(line), flags = re.I)])"
   ]
  },
  {
   "cell_type": "markdown",
   "id": "cc14b840",
   "metadata": {},
   "source": [
    "### 함수 Text\n",
    "- gutenberg corpus를 nltl.text.Text 타입으로 변환하는 함수"
   ]
  },
  {
   "cell_type": "code",
   "execution_count": 104,
   "id": "53b2d04a",
   "metadata": {
    "ExecuteTime": {
     "end_time": "2023-04-25T03:59:15.992081Z",
     "start_time": "2023-04-25T03:59:14.933913Z"
    }
   },
   "outputs": [
    {
     "data": {
      "text/plain": [
       "['[', 'Emma', 'by', 'Jane', 'Austen', '1816', ']', ...]"
      ]
     },
     "metadata": {},
     "output_type": "display_data"
    },
    {
     "data": {
      "text/plain": [
       "nltk.corpus.reader.util.StreamBackedCorpusView"
      ]
     },
     "metadata": {},
     "output_type": "display_data"
    },
    {
     "name": "stdout",
     "output_type": "stream",
     "text": [
      "--------------------------------------------------\n"
     ]
    },
    {
     "data": {
      "text/plain": [
       "<Text: Emma by Jane Austen 1816>"
      ]
     },
     "metadata": {},
     "output_type": "display_data"
    },
    {
     "data": {
      "text/plain": [
       "nltk.text.Text"
      ]
     },
     "metadata": {},
     "output_type": "display_data"
    }
   ],
   "source": [
    "display(gutenberg.words('austen-emma.txt'))\n",
    "display(type(gutenberg.words('austen-emma.txt')))\n",
    "print('-'*50)\n",
    "# nltl.text.Text 타입으로 변환하는 함수\n",
    "text = nltk.Text(gutenberg.words('austen-emma.txt'))\n",
    "display(text)\n",
    "display(type(text))"
   ]
  },
  {
   "cell_type": "code",
   "execution_count": 105,
   "id": "fca6a7d4",
   "metadata": {
    "ExecuteTime": {
     "end_time": "2023-04-25T03:59:19.388172Z",
     "start_time": "2023-04-25T03:59:15.996069Z"
    }
   },
   "outputs": [
    {
     "name": "stdout",
     "output_type": "stream",
     "text": [
      "Displaying 5 of 37 matches:\n",
      "her father , was sometimes taken by surprize at his being still able to pity ` p\n",
      "them do the other any good .\" \" You surprize me ! Emma must do Harriet good : an\n",
      " Knightley actually looked red with surprize and displeasure , as he stood up , \n",
      "Mr . Elton , and found to his great surprize , that Mr . Elton was actually on h\n",
      "nd aid .\" Emma saw Mrs . Weston ' s surprize , and felt that it must be great , \n"
     ]
    },
    {
     "data": {
      "text/plain": [
       "None"
      ]
     },
     "metadata": {},
     "output_type": "display_data"
    },
    {
     "name": "stdout",
     "output_type": "stream",
     "text": [
      "--------------------------------------------------\n",
      "her letter marriage it man pleasure mind him circumstance idea word\n",
      "truth disposition world friend situation herself all evening event\n"
     ]
    },
    {
     "data": {
      "text/plain": [
       "None"
      ]
     },
     "metadata": {},
     "output_type": "display_data"
    },
    {
     "name": "stdout",
     "output_type": "stream",
     "text": [
      "--------------------------------------------------\n",
      "of_and s_and the_of a_to\n"
     ]
    },
    {
     "data": {
      "text/plain": [
       "None"
      ]
     },
     "metadata": {},
     "output_type": "display_data"
    }
   ],
   "source": [
    "# None 찍힘 -> 이것들은 메소드를 이용함과 동시에 출력이 이루어지고 반환 값이 X\n",
    "display(text.concordance('surprize', lines = 5, width = 80)) #따라서 concordance 사용가능\n",
    "print('-'*50)\n",
    "display(text.similar('surprize')) #따라서 similar 사용가능\n",
    "print('-'*50)\n",
    "display(text.common_contexts(['surprize','mind'])) #따라서 common_context 사용가능"
   ]
  },
  {
   "cell_type": "code",
   "execution_count": 106,
   "id": "0f6544d6",
   "metadata": {
    "ExecuteTime": {
     "end_time": "2023-04-25T03:59:23.247673Z",
     "start_time": "2023-04-25T03:59:19.392983Z"
    }
   },
   "outputs": [],
   "source": [
    "text_raw = nltk.Text(gutenberg.raw('austen-emma.txt'))\n",
    "text_sents = nltk.Text(gutenberg.sents('austen-emma.txt'))\n",
    "\n",
    "text_words = nltk.Text(gutenberg.words('austen-emma.txt')) #이건 맞게됨"
   ]
  },
  {
   "cell_type": "code",
   "execution_count": 107,
   "id": "9ce5e18a",
   "metadata": {
    "ExecuteTime": {
     "end_time": "2023-04-25T03:59:26.479206Z",
     "start_time": "2023-04-25T03:59:23.254098Z"
    }
   },
   "outputs": [
    {
     "data": {
      "text/plain": [
       "<Text: [ E m m a   b y...>"
      ]
     },
     "metadata": {},
     "output_type": "display_data"
    },
    {
     "name": "stdout",
     "output_type": "stream",
     "text": [
      "no matches\n",
      "Displaying 3 of 86021 matches:\n",
      "[ E m m a   b y   J a n e   A u s t e n  \n",
      "[ E m m a   b y   J a n e   A u s t e n   1 8 1 6 ] \n",
      " \n",
      " V O L U\n",
      "[ E m m a   b y   J a n e   A u s t e n   1 8 1 6 ] \n",
      " \n",
      " V O L U M E   I \n",
      " \n",
      "\n"
     ]
    }
   ],
   "source": [
    "display(text_raw) #이런식임\n",
    "text_raw.concordance('surprize') #다 띄어져서 변환 따라서 단어 검색 X\n",
    "text_raw.concordance('e', lines = 3, width = 80) #다 띄어져서 변환 따라서 알파벳 검색은 O"
   ]
  },
  {
   "cell_type": "code",
   "execution_count": 108,
   "id": "1b8dfbfa",
   "metadata": {
    "ExecuteTime": {
     "end_time": "2023-04-25T03:59:26.494070Z",
     "start_time": "2023-04-25T03:59:26.484021Z"
    }
   },
   "outputs": [
    {
     "data": {
      "text/plain": [
       "['[', 'Emma', 'by', 'Jane', 'Austen', '1816', ']']"
      ]
     },
     "execution_count": 108,
     "metadata": {},
     "output_type": "execute_result"
    }
   ],
   "source": [
    "text_sents[0]"
   ]
  },
  {
   "cell_type": "code",
   "execution_count": 109,
   "id": "64b20a7f",
   "metadata": {
    "ExecuteTime": {
     "end_time": "2023-04-25T03:59:26.523910Z",
     "start_time": "2023-04-25T03:59:26.497986Z"
    }
   },
   "outputs": [
    {
     "name": "stdout",
     "output_type": "stream",
     "text": [
      "['[', 'Emma', 'by', 'Jane', 'Austen', '1816', ']']\n",
      "<class 'list'>\n",
      "--------------------------------------------------\n"
     ]
    },
    {
     "data": {
      "text/plain": [
       "<Text: ['[', 'Emma', 'by', 'Jane', 'Austen', '1816', ']'] ['VOLUME', 'I'] ['CHAPTER', 'I'] ['Emma', 'Woodhouse', ',', 'handsome', ',', 'clever', ',', 'and', 'rich', ',', 'with', 'a', 'comfortable', 'home', 'and', 'happy', 'disposition', ',', 'seemed', 'to', 'unite', 'some', 'of', 'the', 'best', 'blessings', 'of', 'existence', ';', 'and', 'had', 'lived', 'nearly', 'twenty', '-', 'one', 'years', 'in', 'the', 'world', 'with', 'very', 'little', 'to', 'distress', 'or', 'vex', 'her', '.'] ['She', 'was', 'the', 'youngest', 'of', 'the', 'two', 'daughters', 'of', 'a', 'most', 'affectionate', ',', 'indulgent', 'father', ';', 'and', 'had', ',', 'in', 'consequence', 'of', 'her', 'sister', \"'\", 's', 'marriage', ',', 'been', 'mistress', 'of', 'his', 'house', 'from', 'a', 'very', 'early', 'period', '.'] ['Her', 'mother', 'had', 'died', 'too', 'long', 'ago', 'for', 'her', 'to', 'have', 'more', 'than', 'an', 'indistinct', 'remembrance', 'of', 'her', 'caresses', ';', 'and', 'her', 'place', 'had', 'been', 'supplied', 'by', 'an', 'excellent', 'woman', 'as', 'governess', ',', 'who', 'had', 'fallen', 'little', 'short', 'of', 'a', 'mother', 'in', 'affection', '.'] ['Sixteen', 'years', 'had', 'Miss', 'Taylor', 'been', 'in', 'Mr', '.', 'Woodhouse', \"'\", 's', 'family', ',', 'less', 'as', 'a', 'governess', 'than', 'a', 'friend', ',', 'very', 'fond', 'of', 'both', 'daughters', ',', 'but', 'particularly', 'of', 'Emma', '.'] ['Between', '_them_', 'it', 'was', 'more', 'the', 'intimacy', 'of', 'sisters', '.']...>"
      ]
     },
     "metadata": {},
     "output_type": "display_data"
    }
   ],
   "source": [
    "print(text_sents[0]) #이런식임\n",
    "print(type(text_sents[0])) ; print('-'*50)\n",
    "display(text_sents)"
   ]
  },
  {
   "cell_type": "markdown",
   "id": "22d5230e",
   "metadata": {},
   "source": [
    "### Brown Corpus\n",
    "- 세계 최초 코퍼스\n",
    "- 60년 초 Brown 대학이 구축 -> 영어(문어) 특성\n",
    "- 61년 미국 출판 자료 2000어휘 x 500개 표본 텍스트 -> 총 100만 어휘\n",
    "- 신문 18%, 책(정보) 57%, 책(문학) 25%\n",
    "- 표본 추출 방법 : 미국 출발 비율 고려 장르별 텍스트 비율 구성, 제비뽑기 + 층화 표본 추출"
   ]
  },
  {
   "cell_type": "code",
   "execution_count": 110,
   "id": "2bb3c8fc",
   "metadata": {
    "ExecuteTime": {
     "end_time": "2023-04-25T03:59:26.538962Z",
     "start_time": "2023-04-25T03:59:26.527934Z"
    }
   },
   "outputs": [],
   "source": [
    "from nltk.corpus import brown"
   ]
  },
  {
   "cell_type": "code",
   "execution_count": 111,
   "id": "2b232b81",
   "metadata": {
    "ExecuteTime": {
     "end_time": "2023-04-25T03:59:26.583751Z",
     "start_time": "2023-04-25T03:59:26.542862Z"
    }
   },
   "outputs": [
    {
     "data": {
      "text/plain": [
       "nltk.corpus.util.LazyCorpusLoader"
      ]
     },
     "metadata": {},
     "output_type": "display_data"
    },
    {
     "data": {
      "text/plain": [
       "['adventure',\n",
       " 'belles_lettres',\n",
       " 'editorial',\n",
       " 'fiction',\n",
       " 'government',\n",
       " 'hobbies',\n",
       " 'humor',\n",
       " 'learned',\n",
       " 'lore',\n",
       " 'mystery',\n",
       " 'news',\n",
       " 'religion',\n",
       " 'reviews',\n",
       " 'romance',\n",
       " 'science_fiction']"
      ]
     },
     "metadata": {},
     "output_type": "display_data"
    }
   ],
   "source": [
    "display(type(brown))\n",
    "display(brown.categories()) #장르 id, len = 15개, list타입"
   ]
  },
  {
   "cell_type": "code",
   "execution_count": 112,
   "id": "bccc17e1",
   "metadata": {
    "ExecuteTime": {
     "end_time": "2023-04-25T03:59:29.127152Z",
     "start_time": "2023-04-25T03:59:26.587743Z"
    }
   },
   "outputs": [
    {
     "data": {
      "text/plain": [
       "['The', 'Fulton', 'County', 'Grand', 'Jury', 'said', ...]"
      ]
     },
     "metadata": {},
     "output_type": "display_data"
    },
    {
     "data": {
      "text/plain": [
       "nltk.corpus.reader.util.ConcatenatedCorpusView"
      ]
     },
     "metadata": {},
     "output_type": "display_data"
    },
    {
     "data": {
      "text/plain": [
       "100554"
      ]
     },
     "metadata": {},
     "output_type": "display_data"
    },
    {
     "data": {
      "text/plain": [
       "162158"
      ]
     },
     "metadata": {},
     "output_type": "display_data"
    }
   ],
   "source": [
    "display(brown.words(categories='news'))\n",
    "display(type(brown.words(categories='news')))\n",
    "display(len(brown.words(categories='news')))\n",
    "display(len(brown.words(categories=['news','editorial'])))"
   ]
  },
  {
   "cell_type": "code",
   "execution_count": 113,
   "id": "336759ec",
   "metadata": {
    "ExecuteTime": {
     "end_time": "2023-04-25T03:59:29.141990Z",
     "start_time": "2023-04-25T03:59:29.131017Z"
    }
   },
   "outputs": [
    {
     "data": {
      "text/plain": [
       "500"
      ]
     },
     "metadata": {},
     "output_type": "display_data"
    },
    {
     "data": {
      "text/plain": [
       "list"
      ]
     },
     "metadata": {},
     "output_type": "display_data"
    },
    {
     "name": "stdout",
     "output_type": "stream",
     "text": [
      "['ca01', 'ca02', 'ca03', 'ca04', 'ca05', 'ca06', 'ca07', 'ca08', 'ca09', 'ca10']\n"
     ]
    }
   ],
   "source": [
    "display(len(brown.fileids()))\n",
    "display(type(brown.fileids()))\n",
    "print(brown.fileids()[:10]) #앞두자리 : 장르, 뒷두자리 : 동일장르 식별번호"
   ]
  },
  {
   "cell_type": "code",
   "execution_count": 114,
   "id": "37cee816",
   "metadata": {
    "ExecuteTime": {
     "end_time": "2023-04-25T03:59:29.202831Z",
     "start_time": "2023-04-25T03:59:29.146168Z"
    }
   },
   "outputs": [
    {
     "data": {
      "text/plain": [
       "['The', 'Fulton', 'County', 'Grand', 'Jury', 'said', ...]"
      ]
     },
     "metadata": {},
     "output_type": "display_data"
    },
    {
     "data": {
      "text/plain": [
       "nltk.corpus.reader.util.ConcatenatedCorpusView"
      ]
     },
     "metadata": {},
     "output_type": "display_data"
    },
    {
     "data": {
      "text/plain": [
       "4519"
      ]
     },
     "metadata": {},
     "output_type": "display_data"
    }
   ],
   "source": [
    "#fileids나 catagories 둘 중 하나만 사용가능 \n",
    "display(brown.words(fileids=['ca01', 'ca02'])) \n",
    "display(type(brown.words(fileids=['ca01', 'ca02'])))\n",
    "display(len(brown.words(fileids=['ca01', 'ca02'])))"
   ]
  },
  {
   "attachments": {
    "image-2.png": {
     "image/png": "[encoded data removed]"
    }
   },
   "cell_type": "markdown",
   "id": "253e6987",
   "metadata": {},
   "source": [
    "장르 코드 및 파일명 예시\n",
    "![image-2.png](attachment:image-2.png)"
   ]
  },
  {
   "cell_type": "markdown",
   "id": "84392bc8",
   "metadata": {},
   "source": [
    "### 연습문제 4"
   ]
  },
  {
   "cell_type": "code",
   "execution_count": 115,
   "id": "fc368e84",
   "metadata": {
    "ExecuteTime": {
     "end_time": "2023-04-25T03:59:29.232962Z",
     "start_time": "2023-04-25T03:59:29.208814Z"
    }
   },
   "outputs": [
    {
     "name": "stdout",
     "output_type": "stream",
     "text": [
      "cj = 80\n",
      "cg = 75\n",
      "cf = 48\n",
      "ca = 44\n",
      "ce = 36\n",
      "ch = 30\n",
      "ck = 29\n",
      "cn = 29\n",
      "cp = 29\n",
      "cb = 27\n",
      "cl = 24\n",
      "cc = 17\n",
      "cd = 17\n",
      "cr = 9\n",
      "cm = 6\n"
     ]
    }
   ],
   "source": [
    "#방법 1 : FreqDist -> 자동으로 내림차순 정렬해줌\n",
    "Freq = nltk.FreqDist([genre[:2] for genre in brown.fileids()]) \n",
    "for key in Freq : print(f'{key} = {Freq[key]}')\n",
    "# 빈도 오름 차순을 하고 싶으면 -> 리스트로 바꿔서 sorted(dict.items, key = lambda x:x[1])"
   ]
  },
  {
   "cell_type": "code",
   "execution_count": 116,
   "id": "44fd84d9",
   "metadata": {
    "ExecuteTime": {
     "end_time": "2023-04-25T03:59:29.262701Z",
     "start_time": "2023-04-25T03:59:29.239792Z"
    }
   },
   "outputs": [
    {
     "name": "stdout",
     "output_type": "stream",
     "text": [
      "cj = 80\n",
      "cg = 75\n",
      "cf = 48\n",
      "ca = 44\n",
      "ce = 36\n",
      "ch = 30\n",
      "ck = 29\n",
      "cn = 29\n",
      "cp = 29\n",
      "cb = 27\n",
      "cl = 24\n",
      "cc = 17\n",
      "cd = 17\n",
      "cr = 9\n",
      "cm = 6\n"
     ]
    }
   ],
   "source": [
    "# 방법 2: 정렬을 직접하는 방법(2-1 : 꼼수로 슬라이싱, 2-2 : Counter 사용)\n",
    "sorted_list = sorted({i[:2]:int(i[2:]) for i in brown.fileids()}.items(), \n",
    "                     key = lambda x:x[1], reverse = True)\n",
    "# Counter([genre[:2] for genre in brown.fileids()]).items()와 같은 방식도 가능\n",
    "for key, values in sorted_list : print(f'{key} = {values}')"
   ]
  },
  {
   "cell_type": "markdown",
   "id": "d7a63fb0",
   "metadata": {},
   "source": [
    "### 어휘 빈도 추출"
   ]
  },
  {
   "cell_type": "code",
   "execution_count": 117,
   "id": "935fef1c",
   "metadata": {
    "ExecuteTime": {
     "end_time": "2023-04-25T03:59:31.073975Z",
     "start_time": "2023-04-25T03:59:29.269648Z"
    }
   },
   "outputs": [
    {
     "data": {
      "text/plain": [
       "FreqDist({'the': 10347, ',': 7954, '.': 6511, 'of': 4854, 'to': 3727, 'and': 3543, 'a': 3293, 'in': 3111, 'for': 1510, 'is': 1485, ...})"
      ]
     },
     "metadata": {},
     "output_type": "display_data"
    },
    {
     "name": "stdout",
     "output_type": "stream",
     "text": [
      "<class 'nltk.probability.FreqDist'>\n"
     ]
    }
   ],
   "source": [
    "words = brown.words(categories=['news','editorial'])\n",
    "Freq = nltk.FreqDist(w.lower() for w in words) # Counter(w.lower() for w in words)도 가능\n",
    "display(Freq)\n",
    "print(type(Freq))"
   ]
  },
  {
   "cell_type": "code",
   "execution_count": 118,
   "id": "6b1e98f8",
   "metadata": {
    "ExecuteTime": {
     "end_time": "2023-04-25T03:59:31.103780Z",
     "start_time": "2023-04-25T03:59:31.080314Z"
    }
   },
   "outputs": [
    {
     "name": "stdout",
     "output_type": "stream",
     "text": [
      "   can : 218  \n",
      " could : 144  \n",
      "   may : 172  \n",
      " might : 77   \n",
      "  must : 108  \n",
      "  will : 624  \n"
     ]
    }
   ],
   "source": [
    "modals =['can','could','may','might','must','will']\n",
    "for i in modals: #f-string을 사용할 때 f 또는 F를 사용하는 것에는 차이가 없습니다.\n",
    "    print(F'{i:>6} : {Freq[i]:<5}')\n"
   ]
  },
  {
   "cell_type": "markdown",
   "id": "0c7c2e79",
   "metadata": {},
   "source": [
    "### FreqDist vs. dictionary vs. Counter\n",
    "공통점\n",
    "- FreqDist나 Counter에 dict()를 씌우거나 사전인 것 처럼 D[key]로 접근, 수정도 가능\n",
    "- 바로 items(), keys(), values()해서 dict_values로 만들 수도 있음\n",
    "\n",
    "차이점\n",
    "- FreqDist, Counter는 기본적으로 새롭게 추가 및 수정을 해도 value 값 내림차순 정렬이 default임 \n",
    "- dictionary는 순서가 없지만 겉으로 보여지기에는 등장하는 순서인듯\n",
    "- update: 사전은 새로운 값으로 수정, 없으면 추가지만 Counter와 FreqDist는 새 값을 기존 값에 더하고 없으면 추가\n",
    "- D[key]로 수정했을때 FreqDist는 바로 내림차순 정렬하지만 이때 Counter는 정렬하지 않는다\n"
   ]
  },
  {
   "cell_type": "code",
   "execution_count": 119,
   "id": "dc90d869",
   "metadata": {
    "ExecuteTime": {
     "end_time": "2023-04-25T03:59:31.118701Z",
     "start_time": "2023-04-25T03:59:31.108726Z"
    }
   },
   "outputs": [
    {
     "name": "stdout",
     "output_type": "stream",
     "text": [
      "['c', 'b', 'c', 'd', 'c', 'a', 'b', 'a', 'c', 'c', 'c', 'a', 'a', 'b', 'a', 'd', 'a', 'b', 'b', 'a']\n"
     ]
    }
   ],
   "source": [
    "a = random.choices('abcde', weights= range(len('abcde'),0,-1),k=20)\n",
    "print(a)"
   ]
  },
  {
   "cell_type": "markdown",
   "id": "c8f91a05",
   "metadata": {},
   "source": [
    "FreqDist"
   ]
  },
  {
   "cell_type": "code",
   "execution_count": 120,
   "id": "375bf756",
   "metadata": {
    "ExecuteTime": {
     "end_time": "2023-04-25T03:59:31.163580Z",
     "start_time": "2023-04-25T03:59:31.123689Z"
    }
   },
   "outputs": [
    {
     "data": {
      "text/plain": [
       "FreqDist({'a': 7, 'c': 6, 'b': 5, 'd': 2})"
      ]
     },
     "metadata": {},
     "output_type": "display_data"
    },
    {
     "data": {
      "text/plain": [
       "6"
      ]
     },
     "metadata": {},
     "output_type": "display_data"
    },
    {
     "data": {
      "text/plain": [
       "dict_items([('c', 6), ('b', 5), ('d', 2), ('a', 7)])"
      ]
     },
     "metadata": {},
     "output_type": "display_data"
    },
    {
     "data": {
      "text/plain": [
       "dict_keys(['c', 'b', 'd', 'a'])"
      ]
     },
     "metadata": {},
     "output_type": "display_data"
    },
    {
     "data": {
      "text/plain": [
       "dict_values([6, 5, 2, 7])"
      ]
     },
     "metadata": {},
     "output_type": "display_data"
    },
    {
     "name": "stdout",
     "output_type": "stream",
     "text": [
      "--------------------------------------------------\n"
     ]
    },
    {
     "data": {
      "text/plain": [
       "FreqDist({'d': 12, 'a': 7, 'c': 6, 'b': 5, 'f': 1})"
      ]
     },
     "metadata": {},
     "output_type": "display_data"
    },
    {
     "data": {
      "text/plain": [
       "FreqDist({'d': 12, 'f': 10, 'a': 7, 'c': 6, 'b': 5})"
      ]
     },
     "metadata": {},
     "output_type": "display_data"
    }
   ],
   "source": [
    "FreqDist = nltk.FreqDist(a)\n",
    "display(FreqDist) #기본적으로 내림차순\n",
    "display(FreqDist['c'])\n",
    "display(FreqDist.items()) # a에서 그냥 먼저등장하는 순서인듯\n",
    "display(FreqDist.keys())  # a에서 그냥 먼저등장하는 순서인듯\n",
    "display(FreqDist.values())# a에서 그냥 먼저등장하는 순서인듯\n",
    "print('-'*50)\n",
    "FreqDist.update({'f':1, 'd':10}) ; display(FreqDist) #없는건 추가, 있는건 기존에 합, 내림차순 정렬\n",
    "FreqDist['f'] = 10 ; display(FreqDist) #이거는 직접적으로 f를 10으로 대체, 내림차순 정렬"
   ]
  },
  {
   "cell_type": "markdown",
   "id": "24dbd4c4",
   "metadata": {},
   "source": [
    "Dictionary"
   ]
  },
  {
   "cell_type": "code",
   "execution_count": 121,
   "id": "53ce99e4",
   "metadata": {
    "ExecuteTime": {
     "end_time": "2023-04-25T03:59:31.208569Z",
     "start_time": "2023-04-25T03:59:31.167570Z"
    }
   },
   "outputs": [
    {
     "data": {
      "text/plain": [
       "{'c': 6, 'b': 5, 'd': 12, 'a': 7, 'f': 10}"
      ]
     },
     "metadata": {},
     "output_type": "display_data"
    },
    {
     "data": {
      "text/plain": [
       "6"
      ]
     },
     "metadata": {},
     "output_type": "display_data"
    },
    {
     "data": {
      "text/plain": [
       "dict_items([('c', 6), ('b', 5), ('d', 12), ('a', 7), ('f', 10)])"
      ]
     },
     "metadata": {},
     "output_type": "display_data"
    },
    {
     "data": {
      "text/plain": [
       "dict_keys(['c', 'b', 'd', 'a', 'f'])"
      ]
     },
     "metadata": {},
     "output_type": "display_data"
    },
    {
     "data": {
      "text/plain": [
       "dict_values([6, 5, 12, 7, 10])"
      ]
     },
     "metadata": {},
     "output_type": "display_data"
    },
    {
     "name": "stdout",
     "output_type": "stream",
     "text": [
      "--------------------------------------------------\n"
     ]
    },
    {
     "data": {
      "text/plain": [
       "{'c': 6, 'b': 5, 'd': 10, 'a': 7, 'f': 1}"
      ]
     },
     "metadata": {},
     "output_type": "display_data"
    },
    {
     "data": {
      "text/plain": [
       "{'c': 6, 'b': 5, 'd': 10, 'a': 7, 'f': 10}"
      ]
     },
     "metadata": {},
     "output_type": "display_data"
    }
   ],
   "source": [
    "Dict = dict(FreqDist) # a에서 그냥 먼저등장하는 순서인듯\n",
    "display(Dict)\n",
    "display(Dict['c'])\n",
    "display(Dict.items()) # a에서 그냥 먼저등장하는 순서인듯\n",
    "display(Dict.keys())  # a에서 그냥 먼저등장하는 순서인듯\n",
    "display(Dict.values())# a에서 그냥 먼저등장하는 순서인듯\n",
    "print('-'*50)\n",
    "Dict.update({'f':1, 'd':10}) ; display(Dict) #없는건 추가, 있는건 새 값으로 대체, 정렬X\n",
    "Dict['f'] = 10 ; display(Dict) #이거는 직접적으로 f를 10으로 수정"
   ]
  },
  {
   "cell_type": "markdown",
   "id": "67828204",
   "metadata": {},
   "source": [
    "Counter"
   ]
  },
  {
   "cell_type": "code",
   "execution_count": 122,
   "id": "26c98ec3",
   "metadata": {
    "ExecuteTime": {
     "end_time": "2023-04-25T03:59:31.253374Z",
     "start_time": "2023-04-25T03:59:31.212852Z"
    }
   },
   "outputs": [
    {
     "data": {
      "text/plain": [
       "Counter({'c': 6, 'b': 5, 'd': 2, 'a': 7})"
      ]
     },
     "metadata": {},
     "output_type": "display_data"
    },
    {
     "data": {
      "text/plain": [
       "6"
      ]
     },
     "metadata": {},
     "output_type": "display_data"
    },
    {
     "data": {
      "text/plain": [
       "dict_items([('c', 6), ('b', 5), ('d', 2), ('a', 7)])"
      ]
     },
     "metadata": {},
     "output_type": "display_data"
    },
    {
     "data": {
      "text/plain": [
       "dict_keys(['c', 'b', 'd', 'a'])"
      ]
     },
     "metadata": {},
     "output_type": "display_data"
    },
    {
     "data": {
      "text/plain": [
       "dict_values([6, 5, 2, 7])"
      ]
     },
     "metadata": {},
     "output_type": "display_data"
    },
    {
     "name": "stdout",
     "output_type": "stream",
     "text": [
      "--------------------------------------------------\n"
     ]
    },
    {
     "data": {
      "text/plain": [
       "Counter({'c': 6, 'b': 5, 'd': 12, 'a': 7, 'f': 1})"
      ]
     },
     "metadata": {},
     "output_type": "display_data"
    },
    {
     "data": {
      "text/plain": [
       "Counter({'c': 6, 'b': 5, 'd': 12, 'a': 7, 'f': 10})"
      ]
     },
     "metadata": {},
     "output_type": "display_data"
    }
   ],
   "source": [
    "Counter = nltk.Counter(a)\n",
    "display(Counter) #기본적으로 내림차순\n",
    "display(Counter['c'])\n",
    "display(Counter.items()) # a에서 그냥 먼저등장하는 순서인듯\n",
    "display(Counter.keys())  # a에서 그냥 먼저등장하는 순서인듯\n",
    "display(Counter.values())# a에서 그냥 먼저등장하는 순서인듯\n",
    "print('-'*50)\n",
    "Counter.update({'f':1, 'd':10}) ; display(Counter) #없는건 추가, 있는건 기존에 합, 내림차순 정렬\n",
    "Counter['f'] = 10 ; display(Counter) #이거는 직접적으로 f를 10으로 대체, 하지만 정렬X"
   ]
  },
  {
   "cell_type": "code",
   "execution_count": 123,
   "id": "381e1050",
   "metadata": {
    "ExecuteTime": {
     "end_time": "2023-04-25T03:59:31.283319Z",
     "start_time": "2023-04-25T03:59:31.257603Z"
    }
   },
   "outputs": [
    {
     "data": {
      "text/plain": [
       "[('d', 12), ('f', 10), ('a', 7), ('c', 6), ('b', 5)]"
      ]
     },
     "metadata": {},
     "output_type": "display_data"
    },
    {
     "data": {
      "text/plain": [
       "[('d', 12), ('f', 10), ('a', 7), ('c', 6), ('b', 5)]"
      ]
     },
     "metadata": {},
     "output_type": "display_data"
    }
   ],
   "source": [
    "display(FreqDist.most_common()) #most_common지원 : 내림차순 정렬 메소드\n",
    "display(Counter.most_common())  #most_common지원 : 내림차순 정렬 메소드\n",
    "# display(Dict.most_common()) -> 사전만 error "
   ]
  },
  {
   "cell_type": "markdown",
   "id": "777b2166",
   "metadata": {},
   "source": [
    "### 조건부(conditional) 어휘 빈도"
   ]
  },
  {
   "cell_type": "code",
   "execution_count": 124,
   "id": "935482b0",
   "metadata": {
    "ExecuteTime": {
     "end_time": "2023-04-25T03:59:44.747251Z",
     "start_time": "2023-04-25T03:59:31.289261Z"
    }
   },
   "outputs": [
    {
     "data": {
      "text/plain": [
       "<ConditionalFreqDist with 15 conditions>"
      ]
     },
     "execution_count": 124,
     "metadata": {},
     "output_type": "execute_result"
    }
   ],
   "source": [
    "cfd = nltk.ConditionalFreqDist((genre, word.lower())\n",
    "                              for genre in brown.categories()\n",
    "                              for word in brown.words(categories = genre)\n",
    "                              )\n",
    "cfd"
   ]
  },
  {
   "cell_type": "code",
   "execution_count": 125,
   "id": "7a3d0741",
   "metadata": {
    "ExecuteTime": {
     "end_time": "2023-04-25T03:59:44.762212Z",
     "start_time": "2023-04-25T03:59:44.751240Z"
    }
   },
   "outputs": [
    {
     "name": "stdout",
     "output_type": "stream",
     "text": [
      "<class 'nltk.probability.ConditionalFreqDist'>\n",
      "<class 'dict'>\n"
     ]
    }
   ],
   "source": [
    "print(type(cfd))\n",
    "print(type(dict(cfd))) #dict로 변경가능"
   ]
  },
  {
   "cell_type": "code",
   "execution_count": 126,
   "id": "6305afb0",
   "metadata": {
    "ExecuteTime": {
     "end_time": "2023-04-25T03:59:44.793237Z",
     "start_time": "2023-04-25T03:59:44.767199Z"
    }
   },
   "outputs": [
    {
     "data": {
      "text/plain": [
       "FreqDist({'the': 6386, ',': 5188, '.': 4030, 'of': 2861, 'and': 2186, 'to': 2144, 'a': 2130, 'in': 2020, 'for': 969, 'that': 829, ...})"
      ]
     },
     "execution_count": 126,
     "metadata": {},
     "output_type": "execute_result"
    }
   ],
   "source": [
    "cfd['news'] #뉴스 카테고리의 경우 FreqDist"
   ]
  },
  {
   "cell_type": "code",
   "execution_count": 127,
   "id": "ba1d1370",
   "metadata": {
    "ExecuteTime": {
     "end_time": "2023-04-25T03:59:44.853034Z",
     "start_time": "2023-04-25T03:59:44.796120Z"
    }
   },
   "outputs": [
    {
     "name": "stdout",
     "output_type": "stream",
     "text": [
      "           can could   may might \n",
      "    news    94    87    93    38 \n",
      "religion    84    59    79    12 \n",
      " hobbies   276    59   143    22 \n"
     ]
    }
   ],
   "source": [
    "genres = ['news','religion','hobbies']\n",
    "modals = ['can','could','may','might']\n",
    "cfd.tabulate(conditions= genres, samples =modals) #조건부로 단어 빈도수 체크가능"
   ]
  },
  {
   "cell_type": "code",
   "execution_count": 128,
   "id": "aa5ba2f4",
   "metadata": {
    "ExecuteTime": {
     "end_time": "2023-04-25T03:59:44.868061Z",
     "start_time": "2023-04-25T03:59:44.855959Z"
    },
    "scrolled": true
   },
   "outputs": [
    {
     "name": "stdout",
     "output_type": "stream",
     "text": [
      "          news religion  hobbies \n",
      "  can        0        0        0 \n",
      "could        0        0        0 \n",
      "  may        0        0        0 \n",
      "might        0        0        0 \n"
     ]
    }
   ],
   "source": [
    "cfd.tabulate(conditions= modals, samples =genres) #반대로 넣으면 일케됨"
   ]
  },
  {
   "cell_type": "markdown",
   "id": "d1bb74dd",
   "metadata": {},
   "source": [
    "## NLTK 코퍼스 및 어휘자원활용 5"
   ]
  },
  {
   "cell_type": "code",
   "execution_count": 129,
   "id": "d9b0e9fd",
   "metadata": {
    "ExecuteTime": {
     "end_time": "2023-04-25T03:59:44.882889Z",
     "start_time": "2023-04-25T03:59:44.870919Z"
    }
   },
   "outputs": [],
   "source": [
    "from nltk.corpus import inaugural\n",
    "# inaugural.fileids()"
   ]
  },
  {
   "cell_type": "code",
   "execution_count": 130,
   "id": "d088d549",
   "metadata": {
    "ExecuteTime": {
     "end_time": "2023-04-25T03:59:45.078399Z",
     "start_time": "2023-04-25T03:59:44.887887Z"
    }
   },
   "outputs": [
    {
     "data": {
      "text/plain": [
       "'Fellow-Citizens of the Senate and of the House of '"
      ]
     },
     "metadata": {},
     "output_type": "display_data"
    },
    {
     "data": {
      "text/plain": [
       "'--------------------------------------------------'"
      ]
     },
     "metadata": {},
     "output_type": "display_data"
    },
    {
     "data": {
      "text/plain": [
       "['Fellow', '-', 'Citizens', 'of', 'the', 'Senate', ...]"
      ]
     },
     "metadata": {},
     "output_type": "display_data"
    },
    {
     "data": {
      "text/plain": [
       "'--------------------------------------------------'"
      ]
     },
     "metadata": {},
     "output_type": "display_data"
    },
    {
     "data": {
      "text/plain": [
       "[['Fellow', '-', 'Citizens', 'of', 'the', 'Senate', 'and', 'of', 'the', 'House', 'of', 'Representatives', ':'], ['Among', 'the', 'vicissitudes', 'incident', 'to', 'life', 'no', 'event', 'could', 'have', 'filled', 'me', 'with', 'greater', 'anxieties', 'than', 'that', 'of', 'which', 'the', 'notification', 'was', 'transmitted', 'by', 'your', 'order', ',', 'and', 'received', 'on', 'the', '14th', 'day', 'of', 'the', 'present', 'month', '.'], ...]"
      ]
     },
     "metadata": {},
     "output_type": "display_data"
    },
    {
     "data": {
      "text/plain": [
       "'--------------------------------------------------'"
      ]
     },
     "metadata": {},
     "output_type": "display_data"
    }
   ],
   "source": [
    "display(inaugural.raw()[:50]) ; display(\"-\"*50)\n",
    "display(inaugural.words())    ; display(\"-\"*50)\n",
    "display(inaugural.sents())    ; display(\"-\"*50)"
   ]
  },
  {
   "cell_type": "markdown",
   "id": "c229946a",
   "metadata": {},
   "source": [
    "코퍼스 관련 메소드 정리\n",
    "- categories, fileids\n",
    "- raw, words, sents\n",
    "- nltk.Text() -> 쓰워서 nltk함수 적용(concordance, common_contexts similar 등등)"
   ]
  },
  {
   "cell_type": "markdown",
   "id": "7ebfee42",
   "metadata": {},
   "source": [
    "### 연습문제 1"
   ]
  },
  {
   "cell_type": "code",
   "execution_count": 131,
   "id": "7a9d7357",
   "metadata": {
    "ExecuteTime": {
     "end_time": "2023-04-25T03:59:46.095653Z",
     "start_time": "2023-04-25T03:59:45.082647Z"
    },
    "scrolled": true
   },
   "outputs": [
    {
     "name": "stdout",
     "output_type": "stream",
     "text": [
      "Displaying 8 of 248 matches:\n",
      "Fellow - Citizens of the Senate and of the House of \n",
      "wisest and most experienced of her citizens a distrustful scrutiny into his qu\n",
      "oof of the confidence of my fellow citizens , and have thence too little consu\n",
      "an my own , nor those of my fellow citizens at large less than either . No peo\n",
      "hich can win the affections of its citizens and command the respect of the wor\n",
      "is Government must depend . Fellow citizens , I am again called upon by the vo\n",
      "frage , in common with my fellow - citizens , in the adoption or rejection of \n",
      "the Legislature , are exercised by citizens selected at regular periods by the\n"
     ]
    }
   ],
   "source": [
    "nltk.Text(inaugural.words()).concordance('citizens', lines = 8)  #citizen 용례"
   ]
  },
  {
   "cell_type": "code",
   "execution_count": 132,
   "id": "1480bf32",
   "metadata": {
    "ExecuteTime": {
     "end_time": "2023-04-25T03:59:49.746913Z",
     "start_time": "2023-04-25T03:59:46.101632Z"
    }
   },
   "outputs": [
    {
     "name": "stdout",
     "output_type": "stream",
     "text": [
      "country people government union americans time men power nation rights\n",
      "peace institutions progress happiness prosperity children all states\n",
      "labor strength\n"
     ]
    }
   ],
   "source": [
    "nltk.Text(inaugural.words()).similar('citizens')  # 유사 맥락 어휘 목록"
   ]
  },
  {
   "cell_type": "markdown",
   "id": "4f00d6e8",
   "metadata": {},
   "source": [
    "### 연습문제 2"
   ]
  },
  {
   "cell_type": "code",
   "execution_count": 133,
   "id": "9aed22a9",
   "metadata": {
    "ExecuteTime": {
     "end_time": "2023-04-25T03:59:49.776798Z",
     "start_time": "2023-04-25T03:59:49.751149Z"
    }
   },
   "outputs": [
    {
     "data": {
      "text/plain": [
       "['1789-Washington.txt', '1793-Washington.txt', '1797-Adams.txt']"
      ]
     },
     "metadata": {},
     "output_type": "display_data"
    },
    {
     "data": {
      "text/plain": [
       "['2013-Obama.txt', '2017-Trump.txt', '2021-Biden.txt']"
      ]
     },
     "metadata": {},
     "output_type": "display_data"
    }
   ],
   "source": [
    "a = inaugural.fileids()\n",
    "display(a[:3])\n",
    "display(a[-3:])"
   ]
  },
  {
   "cell_type": "code",
   "execution_count": 134,
   "id": "91ec3bb8",
   "metadata": {
    "ExecuteTime": {
     "end_time": "2023-04-25T03:59:49.806837Z",
     "start_time": "2023-04-25T03:59:49.780792Z"
    }
   },
   "outputs": [
    {
     "data": {
      "text/plain": [
       "[1789, 1793, 1797, 1801, 1805, 1809, 1813, 1817]"
      ]
     },
     "metadata": {},
     "output_type": "display_data"
    },
    {
     "data": {
      "text/plain": [
       "[1993, 1997, 2001, 2005, 2009, 2013, 2017, 2021]"
      ]
     },
     "metadata": {},
     "output_type": "display_data"
    }
   ],
   "source": [
    "b = [int(txt[:4]) for txt in a] # [re.search('\\d+', txt).group() for txt in a] #matchsk findall도 됨\n",
    "display(b[:8])\n",
    "display(b[-8:])\n",
    "# 숫자를 문자열로 두면 실수 등의 문제가 발생할 수 있으므로 -> 문자열을 숫자로 변경하는 작업을 꼭 해두자"
   ]
  },
  {
   "cell_type": "markdown",
   "id": "24b5b585",
   "metadata": {},
   "source": [
    "### america vs. citizen:연도별 빈도"
   ]
  },
  {
   "cell_type": "code",
   "execution_count": 135,
   "id": "9c69a8fd",
   "metadata": {
    "ExecuteTime": {
     "end_time": "2023-04-25T03:59:50.569681Z",
     "start_time": "2023-04-25T03:59:49.809907Z"
    }
   },
   "outputs": [
    {
     "data": {
      "text/plain": [
       "<ConditionalFreqDist with 2 conditions>"
      ]
     },
     "metadata": {},
     "output_type": "display_data"
    },
    {
     "data": {
      "text/plain": [
       "dict_keys(['citizen', 'america'])"
      ]
     },
     "metadata": {},
     "output_type": "display_data"
    }
   ],
   "source": [
    "cfd = nltk.ConditionalFreqDist((target, int(fileid[:4]))\n",
    "                               for fileid in inaugural.fileids()\n",
    "                               for w in inaugural.words(fileid)\n",
    "                               for target in ['america','citizen']\n",
    "                               if w.lower().startswith(target) #american 이나 citizens 등등의 문자를 탐색하기 위헤 startssith\n",
    ")\n",
    "display(cfd)\n",
    "display(cfd.keys())\n"
   ]
  },
  {
   "cell_type": "markdown",
   "id": "7e853508",
   "metadata": {},
   "source": [
    "### citizen vs. america 추세도"
   ]
  },
  {
   "cell_type": "code",
   "execution_count": 136,
   "id": "2e3e0493",
   "metadata": {
    "ExecuteTime": {
     "end_time": "2023-04-25T03:59:51.871173Z",
     "start_time": "2023-04-25T03:59:50.575697Z"
    }
   },
   "outputs": [
    {
     "data": {
      "image/png": "[encoded data removed]",
      "text/plain": [
       "<Figure size 640x480 with 1 Axes>"
      ]
     },
     "metadata": {},
     "output_type": "display_data"
    },
    {
     "data": {
      "text/plain": [
       "<Axes: xlabel='Samples', ylabel='Counts'>"
      ]
     },
     "execution_count": 136,
     "metadata": {},
     "output_type": "execute_result"
    }
   ],
   "source": [
    "cfd.plot()\n",
    "# 차트의 의미 : citizen 단어는 꾸준히 등장하는 느낌이고 america는 최근 급증 -> 민족적인 결속을 강조하는 트렌드"
   ]
  },
  {
   "cell_type": "code",
   "execution_count": 137,
   "id": "797e1e57",
   "metadata": {
    "ExecuteTime": {
     "end_time": "2023-04-25T03:59:52.694995Z",
     "start_time": "2023-04-25T03:59:51.878179Z"
    }
   },
   "outputs": [
    {
     "data": {
      "image/png": "[encoded data removed]",
      "text/plain": [
       "<Figure size 640x480 with 1 Axes>"
      ]
     },
     "metadata": {},
     "output_type": "display_data"
    },
    {
     "data": {
      "text/plain": [
       "<Axes: xlabel='Samples', ylabel='Cumulative Counts'>"
      ]
     },
     "execution_count": 137,
     "metadata": {},
     "output_type": "execute_result"
    }
   ],
   "source": [
    "cfd.plot(conditions = ['america','citizen'], samples = range(1789, 2022, 8), cumulative = True)\n",
    "# 차트의 의미 : citizen 단어는 꾸준히 등장하는 느낌이고 america는 최근 급증 -> 민족적인 결속을 강조하는 트렌드"
   ]
  },
  {
   "cell_type": "markdown",
   "id": "d1722fbc",
   "metadata": {},
   "source": [
    "### Names corpus"
   ]
  },
  {
   "cell_type": "code",
   "execution_count": 138,
   "id": "2cbd0612",
   "metadata": {
    "ExecuteTime": {
     "end_time": "2023-04-25T03:59:52.739995Z",
     "start_time": "2023-04-25T03:59:52.699982Z"
    }
   },
   "outputs": [
    {
     "data": {
      "text/plain": [
       "['Abagael', 'Abagail', 'Abbe', 'Abbey', 'Abbi']"
      ]
     },
     "metadata": {},
     "output_type": "display_data"
    },
    {
     "data": {
      "text/plain": [
       "['female.txt', 'male.txt']"
      ]
     },
     "metadata": {},
     "output_type": "display_data"
    }
   ],
   "source": [
    "names = nltk.corpus.names\n",
    "display(names.words()[:5])\n",
    "display(names.fileids())"
   ]
  },
  {
   "cell_type": "code",
   "execution_count": 139,
   "id": "57aab863",
   "metadata": {
    "ExecuteTime": {
     "end_time": "2023-04-25T03:59:52.769792Z",
     "start_time": "2023-04-25T03:59:52.742882Z"
    }
   },
   "outputs": [
    {
     "name": "stdout",
     "output_type": "stream",
     "text": [
      "make: 2,943 vs female: 5,001\n"
     ]
    }
   ],
   "source": [
    "male = names.words('male.txt')\n",
    "female = names.words('female.txt')\n",
    "print(f'make: {len(male):5,} vs female: {len(female):5,}') #단어수"
   ]
  },
  {
   "cell_type": "markdown",
   "id": "d8a73463",
   "metadata": {},
   "source": [
    "### 연습문제 3"
   ]
  },
  {
   "cell_type": "code",
   "execution_count": 140,
   "id": "e0cc33e8",
   "metadata": {
    "ExecuteTime": {
     "end_time": "2023-04-25T03:59:52.784770Z",
     "start_time": "2023-04-25T03:59:52.774780Z"
    }
   },
   "outputs": [
    {
     "name": "stdout",
     "output_type": "stream",
     "text": [
      "['Abbey', 'Abbie', 'Abby', 'Addie', 'Adrian']\n",
      "365\n"
     ]
    }
   ],
   "source": [
    "a = sorted(list(set(male) & set(female))) ; print(a[:5]) ; print(len(a))"
   ]
  },
  {
   "cell_type": "code",
   "execution_count": 141,
   "id": "f5935df3",
   "metadata": {
    "ExecuteTime": {
     "end_time": "2023-04-25T03:59:52.814754Z",
     "start_time": "2023-04-25T03:59:52.788745Z"
    }
   },
   "outputs": [
    {
     "name": "stdout",
     "output_type": "stream",
     "text": [
      "['Zeus', 'Zippy', 'Zollie', 'Zolly', 'Zorro']\n",
      "2578\n"
     ]
    }
   ],
   "source": [
    "b = sorted(list(set(male) - set(female))) ; print(b[-5:]) ; print(len(b))"
   ]
  },
  {
   "cell_type": "markdown",
   "id": "36dcfbed",
   "metadata": {},
   "source": [
    "### 연습문제 4"
   ]
  },
  {
   "cell_type": "code",
   "execution_count": 142,
   "id": "50491fdd",
   "metadata": {
    "ExecuteTime": {
     "end_time": "2023-04-25T03:59:53.637592Z",
     "start_time": "2023-04-25T03:59:52.818662Z"
    }
   },
   "outputs": [
    {
     "data": {
      "text/plain": [
       "dict_keys(['female.txt', 'male.txt'])"
      ]
     },
     "metadata": {},
     "output_type": "display_data"
    },
    {
     "data": {
      "image/png": "[encoded data removed]",
      "text/plain": [
       "<Figure size 640x480 with 1 Axes>"
      ]
     },
     "metadata": {},
     "output_type": "display_data"
    },
    {
     "data": {
      "text/plain": [
       "<Axes: xlabel='Samples', ylabel='Counts'>"
      ]
     },
     "execution_count": 142,
     "metadata": {},
     "output_type": "execute_result"
    }
   ],
   "source": [
    "cfd = nltk.ConditionalFreqDist( #(re.search('\\w+',fileid).group() 로 male,female만 찾을 수도 있음\n",
    "    [(fileid, w[-1]) for fileid in names.fileids() for w in names.words(fileid)] \n",
    ")\n",
    "display(cfd.keys())\n",
    "cfd.plot()"
   ]
  }
 ],
 "metadata": {
  "kernelspec": {
   "display_name": "Python 3 (ipykernel)",
   "language": "python",
   "name": "python3"
  },
  "language_info": {
   "codemirror_mode": {
    "name": "ipython",
    "version": 3
   },
   "file_extension": ".py",
   "mimetype": "text/x-python",
   "name": "python",
   "nbconvert_exporter": "python",
   "pygments_lexer": "ipython3",
   "version": "3.9.16"
  },
  "toc": {
   "base_numbering": 1,
   "nav_menu": {},
   "number_sections": true,
   "sideBar": true,
   "skip_h1_title": false,
   "title_cell": "Table of Contents",
   "title_sidebar": "Contents",
   "toc_cell": false,
   "toc_position": {
    "height": "calc(100% - 180px)",
    "left": "10px",
    "top": "150px",
    "width": "284.41px"
   },
   "toc_section_display": true,
   "toc_window_display": false
  }
 },
 "nbformat": 4,
 "nbformat_minor": 5
}
