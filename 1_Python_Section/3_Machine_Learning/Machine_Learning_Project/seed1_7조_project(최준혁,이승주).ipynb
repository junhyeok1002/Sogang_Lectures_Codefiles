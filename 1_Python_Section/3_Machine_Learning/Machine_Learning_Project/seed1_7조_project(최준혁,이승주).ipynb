{
  "cells": [
    {
      "cell_type": "markdown",
      "metadata": {
        "id": "ayANNtszQ9Pb"
      },
      "source": [
        "# Comparing 3 Gradient Boosting Methods \n",
        "- XGBoost, LightGBM, CatBoost\n",
        "<br><br>\n",
        "과목 : 경제학도를 위한 머신러닝\n",
        "<br>팀원(7조) : 최준혁, 이승주\n"
      ],
      "id": "ayANNtszQ9Pb"
    },
    {
      "cell_type": "markdown",
      "metadata": {
        "id": "aa6f3ac1"
      },
      "source": [
        "## Data Loading : Flight csv\n",
        "- https://www.kaggle.com/datasets/usdot/flight-delays?datasetId=810&sortBy=voteCount&select=flights.csv\n",
        "- 비행기 지연 여부를 예측하는 데이터 셋\n",
        "<br><br>\n",
        "- \"MONTH\" : Month of the Flight Trip\n",
        "- \"DAY\" : Day of the Flight Trip\n",
        "- \"DAY_OF_WEEK\" : \n",
        "- \"AIRLINE\" : Airline Identifier\n",
        "- \"FLIGHT_NUMBER\" : Flight Identifier\n",
        "- \"DESTINATION_AIRPORT\" : Destination Airport\n",
        "- \"ORIGIN_AIRPORT\" : Starting Airport\n",
        "- \"AIR_TIME\" : The time duration between wheels_off and wheels_on time\n",
        "- \"DEPARTURE_TIME\" : WHEEL_OFF - TAXI_OUT\n",
        "- \"DISTANCE\" : Distance between two airports\n",
        "- \"ARRIVAL_DELAY\" : 1(ARRIVAL_TIME - SCHEDULED_ARRIVAL)"
      ],
      "id": "aa6f3ac1"
    },
    {
      "cell_type": "code",
      "execution_count": null,
      "metadata": {
        "colab": {
          "base_uri": "https://localhost:8080/"
        },
        "id": "6O6W6OQhd5Kp",
        "outputId": "a6df3f7a-56d5-4db6-bd45-09ff60a05e36"
      },
      "outputs": [
        {
          "output_type": "stream",
          "name": "stdout",
          "text": [
            "Looking in indexes: https://pypi.org/simple, https://us-python.pkg.dev/colab-wheels/public/simple/\n",
            "Requirement already satisfied: catboost in /usr/local/lib/python3.8/dist-packages (1.1.1)\n",
            "Requirement already satisfied: pandas>=0.24.0 in /usr/local/lib/python3.8/dist-packages (from catboost) (1.3.5)\n",
            "Requirement already satisfied: plotly in /usr/local/lib/python3.8/dist-packages (from catboost) (5.5.0)\n",
            "Requirement already satisfied: numpy>=1.16.0 in /usr/local/lib/python3.8/dist-packages (from catboost) (1.21.6)\n",
            "Requirement already satisfied: six in /usr/local/lib/python3.8/dist-packages (from catboost) (1.15.0)\n",
            "Requirement already satisfied: matplotlib in /usr/local/lib/python3.8/dist-packages (from catboost) (3.2.2)\n",
            "Requirement already satisfied: graphviz in /usr/local/lib/python3.8/dist-packages (from catboost) (0.10.1)\n",
            "Requirement already satisfied: scipy in /usr/local/lib/python3.8/dist-packages (from catboost) (1.7.3)\n",
            "Requirement already satisfied: pytz>=2017.3 in /usr/local/lib/python3.8/dist-packages (from pandas>=0.24.0->catboost) (2022.6)\n",
            "Requirement already satisfied: python-dateutil>=2.7.3 in /usr/local/lib/python3.8/dist-packages (from pandas>=0.24.0->catboost) (2.8.2)\n",
            "Requirement already satisfied: cycler>=0.10 in /usr/local/lib/python3.8/dist-packages (from matplotlib->catboost) (0.11.0)\n",
            "Requirement already satisfied: pyparsing!=2.0.4,!=2.1.2,!=2.1.6,>=2.0.1 in /usr/local/lib/python3.8/dist-packages (from matplotlib->catboost) (3.0.9)\n",
            "Requirement already satisfied: kiwisolver>=1.0.1 in /usr/local/lib/python3.8/dist-packages (from matplotlib->catboost) (1.4.4)\n",
            "Requirement already satisfied: tenacity>=6.2.0 in /usr/local/lib/python3.8/dist-packages (from plotly->catboost) (8.1.0)\n"
          ]
        }
      ],
      "source": [
        "pip install catboost"
      ],
      "id": "6O6W6OQhd5Kp"
    },
    {
      "cell_type": "code",
      "execution_count": null,
      "metadata": {
        "id": "694nJ2z_CW1A"
      },
      "outputs": [],
      "source": [
        "import time\n",
        "import statsmodels.api as sm\n",
        "from sklearn.model_selection import GridSearchCV\n",
        "from sklearn.preprocessing import MinMaxScaler\n",
        "import warnings\n",
        "warnings.filterwarnings('ignore')"
      ],
      "id": "694nJ2z_CW1A"
    },
    {
      "cell_type": "code",
      "execution_count": null,
      "metadata": {
        "colab": {
          "base_uri": "https://localhost:8080/"
        },
        "id": "FH_gvozYQpF3",
        "outputId": "3b4e513e-2561-4b2b-d36e-31a5e7701a81"
      },
      "outputs": [
        {
          "output_type": "stream",
          "name": "stdout",
          "text": [
            "Drive already mounted at /content/drive; to attempt to forcibly remount, call drive.mount(\"/content/drive\", force_remount=True).\n"
          ]
        }
      ],
      "source": [
        "#colab에 google drive mount\n",
        "\n",
        "from google.colab import drive\n",
        "drive.mount('/content/drive')"
      ],
      "id": "FH_gvozYQpF3"
    },
    {
      "cell_type": "code",
      "execution_count": null,
      "metadata": {
        "id": "Zz-c0VLLlI8g"
      },
      "outputs": [],
      "source": [
        "# Random sampling Number\n",
        "seed = 1"
      ],
      "id": "Zz-c0VLLlI8g"
    },
    {
      "cell_type": "code",
      "source": [
        "from google.colab import drive\n",
        "drive.mount('/content/drive')"
      ],
      "metadata": {
        "colab": {
          "base_uri": "https://localhost:8080/"
        },
        "id": "EzmErxcuov0P",
        "outputId": "e0ad3594-7f4c-4c97-8a28-54d6fddfdad5"
      },
      "id": "EzmErxcuov0P",
      "execution_count": null,
      "outputs": [
        {
          "output_type": "stream",
          "name": "stdout",
          "text": [
            "Drive already mounted at /content/drive; to attempt to forcibly remount, call drive.mount(\"/content/drive\", force_remount=True).\n"
          ]
        }
      ]
    },
    {
      "cell_type": "code",
      "execution_count": null,
      "metadata": {
        "id": "TGjQnLp0THqM"
      },
      "outputs": [],
      "source": [
        "import pandas as pd, numpy as np, time\n",
        "from sklearn.model_selection import train_test_split\n",
        "\n",
        "origin = pd.read_csv(\"/content/drive/MyDrive/flights.csv\")\n",
        "\n",
        "origin = origin[[\"MONTH\",\"DAY\",\"DAY_OF_WEEK\",\"AIRLINE\",\"FLIGHT_NUMBER\",\"DESTINATION_AIRPORT\",\"ORIGIN_AIRPORT\",\"AIR_TIME\", \"DEPARTURE_TIME\",\"DISTANCE\",\"ARRIVAL_DELAY\"]]\n",
        "origin.dropna(inplace=True)\n",
        "\n",
        "origin[\"ARRIVAL_DELAY\"] = (origin[\"ARRIVAL_DELAY\"]>10)*1\n",
        "\n",
        "cols = [\"AIRLINE\",\"FLIGHT_NUMBER\",\"DESTINATION_AIRPORT\",\"ORIGIN_AIRPORT\"]\n",
        "for item in cols:\n",
        "    origin[item] = origin[item].astype(\"category\").cat.codes +1\n",
        "\n",
        "data = origin.sample(frac = 0.001, random_state=seed)\n",
        "data2 = origin.sample(frac = 0.01, random_state=seed)"
      ],
      "id": "TGjQnLp0THqM"
    },
    {
      "cell_type": "code",
      "execution_count": null,
      "metadata": {
        "colab": {
          "base_uri": "https://localhost:8080/",
          "height": 488
        },
        "id": "a_FoohpXT8B3",
        "outputId": "34ea5392-e823-4199-8494-9c9a3cda26b9"
      },
      "outputs": [
        {
          "output_type": "execute_result",
          "data": {
            "text/plain": [
              "         MONTH  DAY  DAY_OF_WEEK  AIRLINE  FLIGHT_NUMBER  DESTINATION_AIRPORT  \\\n",
              "0            1    1            4        2             97                  815   \n",
              "1            1    1            4        1           2333                  773   \n",
              "2            1    1            4       12            838                  604   \n",
              "3            1    1            4        1            257                  741   \n",
              "4            1    1            4        2            134                  555   \n",
              "...        ...  ...          ...      ...            ...                  ...   \n",
              "4856718     10   30            5        3            327                  101   \n",
              "4856719     10   30            5       11            377                  217   \n",
              "4856720     10   30            5       11           1645                  277   \n",
              "4856721     10   30            5        4           1248                  277   \n",
              "4856722     10   30            5        5           4310                  172   \n",
              "\n",
              "         ORIGIN_AIRPORT  AIR_TIME  DEPARTURE_TIME  DISTANCE  ARRIVAL_DELAY  \n",
              "0                   606     169.0          2354.0    1448.0              0  \n",
              "1                   765     263.0             2.0    2330.0              0  \n",
              "2                   867     266.0            18.0    2296.0              0  \n",
              "3                   765     258.0            15.0    2342.0              0  \n",
              "4                   866     199.0            24.0    1448.0              0  \n",
              "...                 ...       ...             ...       ...            ...  \n",
              "4856718             183     137.0          1759.0     937.0              0  \n",
              "4856719             143     116.0          1754.0     925.0              0  \n",
              "4856720             143     168.0          1756.0    1346.0              0  \n",
              "4856721              20     252.0          1754.0    1919.0              0  \n",
              "4856722              61      70.0          1746.0     419.0              1  \n",
              "\n",
              "[4767130 rows x 11 columns]"
            ],
            "text/html": [
              "\n",
              "  <div id=\"df-67958690-baad-43aa-9dfc-aeb1792a1a91\">\n",
              "    <div class=\"colab-df-container\">\n",
              "      <div>\n",
              "<style scoped>\n",
              "    .dataframe tbody tr th:only-of-type {\n",
              "        vertical-align: middle;\n",
              "    }\n",
              "\n",
              "    .dataframe tbody tr th {\n",
              "        vertical-align: top;\n",
              "    }\n",
              "\n",
              "    .dataframe thead th {\n",
              "        text-align: right;\n",
              "    }\n",
              "</style>\n",
              "<table border=\"1\" class=\"dataframe\">\n",
              "  <thead>\n",
              "    <tr style=\"text-align: right;\">\n",
              "      <th></th>\n",
              "      <th>MONTH</th>\n",
              "      <th>DAY</th>\n",
              "      <th>DAY_OF_WEEK</th>\n",
              "      <th>AIRLINE</th>\n",
              "      <th>FLIGHT_NUMBER</th>\n",
              "      <th>DESTINATION_AIRPORT</th>\n",
              "      <th>ORIGIN_AIRPORT</th>\n",
              "      <th>AIR_TIME</th>\n",
              "      <th>DEPARTURE_TIME</th>\n",
              "      <th>DISTANCE</th>\n",
              "      <th>ARRIVAL_DELAY</th>\n",
              "    </tr>\n",
              "  </thead>\n",
              "  <tbody>\n",
              "    <tr>\n",
              "      <th>0</th>\n",
              "      <td>1</td>\n",
              "      <td>1</td>\n",
              "      <td>4</td>\n",
              "      <td>2</td>\n",
              "      <td>97</td>\n",
              "      <td>815</td>\n",
              "      <td>606</td>\n",
              "      <td>169.0</td>\n",
              "      <td>2354.0</td>\n",
              "      <td>1448.0</td>\n",
              "      <td>0</td>\n",
              "    </tr>\n",
              "    <tr>\n",
              "      <th>1</th>\n",
              "      <td>1</td>\n",
              "      <td>1</td>\n",
              "      <td>4</td>\n",
              "      <td>1</td>\n",
              "      <td>2333</td>\n",
              "      <td>773</td>\n",
              "      <td>765</td>\n",
              "      <td>263.0</td>\n",
              "      <td>2.0</td>\n",
              "      <td>2330.0</td>\n",
              "      <td>0</td>\n",
              "    </tr>\n",
              "    <tr>\n",
              "      <th>2</th>\n",
              "      <td>1</td>\n",
              "      <td>1</td>\n",
              "      <td>4</td>\n",
              "      <td>12</td>\n",
              "      <td>838</td>\n",
              "      <td>604</td>\n",
              "      <td>867</td>\n",
              "      <td>266.0</td>\n",
              "      <td>18.0</td>\n",
              "      <td>2296.0</td>\n",
              "      <td>0</td>\n",
              "    </tr>\n",
              "    <tr>\n",
              "      <th>3</th>\n",
              "      <td>1</td>\n",
              "      <td>1</td>\n",
              "      <td>4</td>\n",
              "      <td>1</td>\n",
              "      <td>257</td>\n",
              "      <td>741</td>\n",
              "      <td>765</td>\n",
              "      <td>258.0</td>\n",
              "      <td>15.0</td>\n",
              "      <td>2342.0</td>\n",
              "      <td>0</td>\n",
              "    </tr>\n",
              "    <tr>\n",
              "      <th>4</th>\n",
              "      <td>1</td>\n",
              "      <td>1</td>\n",
              "      <td>4</td>\n",
              "      <td>2</td>\n",
              "      <td>134</td>\n",
              "      <td>555</td>\n",
              "      <td>866</td>\n",
              "      <td>199.0</td>\n",
              "      <td>24.0</td>\n",
              "      <td>1448.0</td>\n",
              "      <td>0</td>\n",
              "    </tr>\n",
              "    <tr>\n",
              "      <th>...</th>\n",
              "      <td>...</td>\n",
              "      <td>...</td>\n",
              "      <td>...</td>\n",
              "      <td>...</td>\n",
              "      <td>...</td>\n",
              "      <td>...</td>\n",
              "      <td>...</td>\n",
              "      <td>...</td>\n",
              "      <td>...</td>\n",
              "      <td>...</td>\n",
              "      <td>...</td>\n",
              "    </tr>\n",
              "    <tr>\n",
              "      <th>4856718</th>\n",
              "      <td>10</td>\n",
              "      <td>30</td>\n",
              "      <td>5</td>\n",
              "      <td>3</td>\n",
              "      <td>327</td>\n",
              "      <td>101</td>\n",
              "      <td>183</td>\n",
              "      <td>137.0</td>\n",
              "      <td>1759.0</td>\n",
              "      <td>937.0</td>\n",
              "      <td>0</td>\n",
              "    </tr>\n",
              "    <tr>\n",
              "      <th>4856719</th>\n",
              "      <td>10</td>\n",
              "      <td>30</td>\n",
              "      <td>5</td>\n",
              "      <td>11</td>\n",
              "      <td>377</td>\n",
              "      <td>217</td>\n",
              "      <td>143</td>\n",
              "      <td>116.0</td>\n",
              "      <td>1754.0</td>\n",
              "      <td>925.0</td>\n",
              "      <td>0</td>\n",
              "    </tr>\n",
              "    <tr>\n",
              "      <th>4856720</th>\n",
              "      <td>10</td>\n",
              "      <td>30</td>\n",
              "      <td>5</td>\n",
              "      <td>11</td>\n",
              "      <td>1645</td>\n",
              "      <td>277</td>\n",
              "      <td>143</td>\n",
              "      <td>168.0</td>\n",
              "      <td>1756.0</td>\n",
              "      <td>1346.0</td>\n",
              "      <td>0</td>\n",
              "    </tr>\n",
              "    <tr>\n",
              "      <th>4856721</th>\n",
              "      <td>10</td>\n",
              "      <td>30</td>\n",
              "      <td>5</td>\n",
              "      <td>4</td>\n",
              "      <td>1248</td>\n",
              "      <td>277</td>\n",
              "      <td>20</td>\n",
              "      <td>252.0</td>\n",
              "      <td>1754.0</td>\n",
              "      <td>1919.0</td>\n",
              "      <td>0</td>\n",
              "    </tr>\n",
              "    <tr>\n",
              "      <th>4856722</th>\n",
              "      <td>10</td>\n",
              "      <td>30</td>\n",
              "      <td>5</td>\n",
              "      <td>5</td>\n",
              "      <td>4310</td>\n",
              "      <td>172</td>\n",
              "      <td>61</td>\n",
              "      <td>70.0</td>\n",
              "      <td>1746.0</td>\n",
              "      <td>419.0</td>\n",
              "      <td>1</td>\n",
              "    </tr>\n",
              "  </tbody>\n",
              "</table>\n",
              "<p>4767130 rows × 11 columns</p>\n",
              "</div>\n",
              "      <button class=\"colab-df-convert\" onclick=\"convertToInteractive('df-67958690-baad-43aa-9dfc-aeb1792a1a91')\"\n",
              "              title=\"Convert this dataframe to an interactive table.\"\n",
              "              style=\"display:none;\">\n",
              "        \n",
              "  <svg xmlns=\"http://www.w3.org/2000/svg\" height=\"24px\"viewBox=\"0 0 24 24\"\n",
              "       width=\"24px\">\n",
              "    <path d=\"M0 0h24v24H0V0z\" fill=\"none\"/>\n",
              "    <path d=\"M18.56 5.44l.94 2.06.94-2.06 2.06-.94-2.06-.94-.94-2.06-.94 2.06-2.06.94zm-11 1L8.5 8.5l.94-2.06 2.06-.94-2.06-.94L8.5 2.5l-.94 2.06-2.06.94zm10 10l.94 2.06.94-2.06 2.06-.94-2.06-.94-.94-2.06-.94 2.06-2.06.94z\"/><path d=\"M17.41 7.96l-1.37-1.37c-.4-.4-.92-.59-1.43-.59-.52 0-1.04.2-1.43.59L10.3 9.45l-7.72 7.72c-.78.78-.78 2.05 0 2.83L4 21.41c.39.39.9.59 1.41.59.51 0 1.02-.2 1.41-.59l7.78-7.78 2.81-2.81c.8-.78.8-2.07 0-2.86zM5.41 20L4 18.59l7.72-7.72 1.47 1.35L5.41 20z\"/>\n",
              "  </svg>\n",
              "      </button>\n",
              "      \n",
              "  <style>\n",
              "    .colab-df-container {\n",
              "      display:flex;\n",
              "      flex-wrap:wrap;\n",
              "      gap: 12px;\n",
              "    }\n",
              "\n",
              "    .colab-df-convert {\n",
              "      background-color: #E8F0FE;\n",
              "      border: none;\n",
              "      border-radius: 50%;\n",
              "      cursor: pointer;\n",
              "      display: none;\n",
              "      fill: #1967D2;\n",
              "      height: 32px;\n",
              "      padding: 0 0 0 0;\n",
              "      width: 32px;\n",
              "    }\n",
              "\n",
              "    .colab-df-convert:hover {\n",
              "      background-color: #E2EBFA;\n",
              "      box-shadow: 0px 1px 2px rgba(60, 64, 67, 0.3), 0px 1px 3px 1px rgba(60, 64, 67, 0.15);\n",
              "      fill: #174EA6;\n",
              "    }\n",
              "\n",
              "    [theme=dark] .colab-df-convert {\n",
              "      background-color: #3B4455;\n",
              "      fill: #D2E3FC;\n",
              "    }\n",
              "\n",
              "    [theme=dark] .colab-df-convert:hover {\n",
              "      background-color: #434B5C;\n",
              "      box-shadow: 0px 1px 3px 1px rgba(0, 0, 0, 0.15);\n",
              "      filter: drop-shadow(0px 1px 2px rgba(0, 0, 0, 0.3));\n",
              "      fill: #FFFFFF;\n",
              "    }\n",
              "  </style>\n",
              "\n",
              "      <script>\n",
              "        const buttonEl =\n",
              "          document.querySelector('#df-67958690-baad-43aa-9dfc-aeb1792a1a91 button.colab-df-convert');\n",
              "        buttonEl.style.display =\n",
              "          google.colab.kernel.accessAllowed ? 'block' : 'none';\n",
              "\n",
              "        async function convertToInteractive(key) {\n",
              "          const element = document.querySelector('#df-67958690-baad-43aa-9dfc-aeb1792a1a91');\n",
              "          const dataTable =\n",
              "            await google.colab.kernel.invokeFunction('convertToInteractive',\n",
              "                                                     [key], {});\n",
              "          if (!dataTable) return;\n",
              "\n",
              "          const docLinkHtml = 'Like what you see? Visit the ' +\n",
              "            '<a target=\"_blank\" href=https://colab.research.google.com/notebooks/data_table.ipynb>data table notebook</a>'\n",
              "            + ' to learn more about interactive tables.';\n",
              "          element.innerHTML = '';\n",
              "          dataTable['output_type'] = 'display_data';\n",
              "          await google.colab.output.renderOutput(dataTable, element);\n",
              "          const docLink = document.createElement('div');\n",
              "          docLink.innerHTML = docLinkHtml;\n",
              "          element.appendChild(docLink);\n",
              "        }\n",
              "      </script>\n",
              "    </div>\n",
              "  </div>\n",
              "  "
            ]
          },
          "metadata": {},
          "execution_count": 7
        }
      ],
      "source": [
        "origin #EDA는 나중에?"
      ],
      "id": "a_FoohpXT8B3"
    },
    {
      "cell_type": "code",
      "execution_count": null,
      "metadata": {
        "colab": {
          "base_uri": "https://localhost:8080/"
        },
        "id": "kYkKoe8cTtCX",
        "outputId": "7ff2f93a-7f2b-4769-cf8e-84d925a53d48"
      },
      "outputs": [
        {
          "output_type": "execute_result",
          "data": {
            "text/plain": [
              "MONTH                  0\n",
              "DAY                    0\n",
              "DAY_OF_WEEK            0\n",
              "AIRLINE                0\n",
              "FLIGHT_NUMBER          0\n",
              "DESTINATION_AIRPORT    0\n",
              "ORIGIN_AIRPORT         0\n",
              "AIR_TIME               0\n",
              "DEPARTURE_TIME         0\n",
              "DISTANCE               0\n",
              "ARRIVAL_DELAY          0\n",
              "dtype: int64"
            ]
          },
          "metadata": {},
          "execution_count": 8
        }
      ],
      "source": [
        "origin.isnull().sum() #결측치가 없는 데이터"
      ],
      "id": "kYkKoe8cTtCX"
    },
    {
      "cell_type": "code",
      "execution_count": null,
      "metadata": {
        "colab": {
          "base_uri": "https://localhost:8080/",
          "height": 488
        },
        "id": "moOz9H4e5k-u",
        "outputId": "8e4ca842-93e7-471d-b8b2-5e80ecc2fb16"
      },
      "outputs": [
        {
          "output_type": "execute_result",
          "data": {
            "text/plain": [
              "         MONTH  DAY  DAY_OF_WEEK  AIRLINE  FLIGHT_NUMBER  DESTINATION_AIRPORT  \\\n",
              "2602948      6   14            7       14           2522                  558   \n",
              "4078086      9   11            5       11            998                  623   \n",
              "4382930      9   30            3       14            402                  733   \n",
              "4008491      9    6            7       14           3323                  733   \n",
              "2281007      5   25            1        3            310                  766   \n",
              "...        ...  ...          ...      ...            ...                  ...   \n",
              "4366286      9   29            2        1           2198                  766   \n",
              "873137       2   27            5        8           3117                  766   \n",
              "467998       1   31            6       12           1905                  766   \n",
              "2240555      5   22            5        6            603                  741   \n",
              "649326       2   12            4       14             60                  619   \n",
              "\n",
              "         ORIGIN_AIRPORT  AIR_TIME  DEPARTURE_TIME  DISTANCE  ARRIVAL_DELAY  \n",
              "2602948             858     118.0           527.0     874.0              0  \n",
              "4078086             675     120.0           905.0     641.0              1  \n",
              "4382930             814      64.0          1839.0     423.0              0  \n",
              "4008491             738      82.0          1725.0     577.0              0  \n",
              "2281007             628     133.0          1435.0     867.0              0  \n",
              "...                 ...       ...             ...       ...            ...  \n",
              "4366286             611     129.0          1804.0     978.0              0  \n",
              "873137              657      34.0           832.0     135.0              0  \n",
              "467998              655     101.0          1755.0     599.0              0  \n",
              "2240555             609      97.0          1621.0     594.0              1  \n",
              "649326              782     147.0          1854.0     973.0              0  \n",
              "\n",
              "[4767 rows x 11 columns]"
            ],
            "text/html": [
              "\n",
              "  <div id=\"df-ebb61a88-7484-428b-83a1-3b8e28d47da2\">\n",
              "    <div class=\"colab-df-container\">\n",
              "      <div>\n",
              "<style scoped>\n",
              "    .dataframe tbody tr th:only-of-type {\n",
              "        vertical-align: middle;\n",
              "    }\n",
              "\n",
              "    .dataframe tbody tr th {\n",
              "        vertical-align: top;\n",
              "    }\n",
              "\n",
              "    .dataframe thead th {\n",
              "        text-align: right;\n",
              "    }\n",
              "</style>\n",
              "<table border=\"1\" class=\"dataframe\">\n",
              "  <thead>\n",
              "    <tr style=\"text-align: right;\">\n",
              "      <th></th>\n",
              "      <th>MONTH</th>\n",
              "      <th>DAY</th>\n",
              "      <th>DAY_OF_WEEK</th>\n",
              "      <th>AIRLINE</th>\n",
              "      <th>FLIGHT_NUMBER</th>\n",
              "      <th>DESTINATION_AIRPORT</th>\n",
              "      <th>ORIGIN_AIRPORT</th>\n",
              "      <th>AIR_TIME</th>\n",
              "      <th>DEPARTURE_TIME</th>\n",
              "      <th>DISTANCE</th>\n",
              "      <th>ARRIVAL_DELAY</th>\n",
              "    </tr>\n",
              "  </thead>\n",
              "  <tbody>\n",
              "    <tr>\n",
              "      <th>2602948</th>\n",
              "      <td>6</td>\n",
              "      <td>14</td>\n",
              "      <td>7</td>\n",
              "      <td>14</td>\n",
              "      <td>2522</td>\n",
              "      <td>558</td>\n",
              "      <td>858</td>\n",
              "      <td>118.0</td>\n",
              "      <td>527.0</td>\n",
              "      <td>874.0</td>\n",
              "      <td>0</td>\n",
              "    </tr>\n",
              "    <tr>\n",
              "      <th>4078086</th>\n",
              "      <td>9</td>\n",
              "      <td>11</td>\n",
              "      <td>5</td>\n",
              "      <td>11</td>\n",
              "      <td>998</td>\n",
              "      <td>623</td>\n",
              "      <td>675</td>\n",
              "      <td>120.0</td>\n",
              "      <td>905.0</td>\n",
              "      <td>641.0</td>\n",
              "      <td>1</td>\n",
              "    </tr>\n",
              "    <tr>\n",
              "      <th>4382930</th>\n",
              "      <td>9</td>\n",
              "      <td>30</td>\n",
              "      <td>3</td>\n",
              "      <td>14</td>\n",
              "      <td>402</td>\n",
              "      <td>733</td>\n",
              "      <td>814</td>\n",
              "      <td>64.0</td>\n",
              "      <td>1839.0</td>\n",
              "      <td>423.0</td>\n",
              "      <td>0</td>\n",
              "    </tr>\n",
              "    <tr>\n",
              "      <th>4008491</th>\n",
              "      <td>9</td>\n",
              "      <td>6</td>\n",
              "      <td>7</td>\n",
              "      <td>14</td>\n",
              "      <td>3323</td>\n",
              "      <td>733</td>\n",
              "      <td>738</td>\n",
              "      <td>82.0</td>\n",
              "      <td>1725.0</td>\n",
              "      <td>577.0</td>\n",
              "      <td>0</td>\n",
              "    </tr>\n",
              "    <tr>\n",
              "      <th>2281007</th>\n",
              "      <td>5</td>\n",
              "      <td>25</td>\n",
              "      <td>1</td>\n",
              "      <td>3</td>\n",
              "      <td>310</td>\n",
              "      <td>766</td>\n",
              "      <td>628</td>\n",
              "      <td>133.0</td>\n",
              "      <td>1435.0</td>\n",
              "      <td>867.0</td>\n",
              "      <td>0</td>\n",
              "    </tr>\n",
              "    <tr>\n",
              "      <th>...</th>\n",
              "      <td>...</td>\n",
              "      <td>...</td>\n",
              "      <td>...</td>\n",
              "      <td>...</td>\n",
              "      <td>...</td>\n",
              "      <td>...</td>\n",
              "      <td>...</td>\n",
              "      <td>...</td>\n",
              "      <td>...</td>\n",
              "      <td>...</td>\n",
              "      <td>...</td>\n",
              "    </tr>\n",
              "    <tr>\n",
              "      <th>4366286</th>\n",
              "      <td>9</td>\n",
              "      <td>29</td>\n",
              "      <td>2</td>\n",
              "      <td>1</td>\n",
              "      <td>2198</td>\n",
              "      <td>766</td>\n",
              "      <td>611</td>\n",
              "      <td>129.0</td>\n",
              "      <td>1804.0</td>\n",
              "      <td>978.0</td>\n",
              "      <td>0</td>\n",
              "    </tr>\n",
              "    <tr>\n",
              "      <th>873137</th>\n",
              "      <td>2</td>\n",
              "      <td>27</td>\n",
              "      <td>5</td>\n",
              "      <td>8</td>\n",
              "      <td>3117</td>\n",
              "      <td>766</td>\n",
              "      <td>657</td>\n",
              "      <td>34.0</td>\n",
              "      <td>832.0</td>\n",
              "      <td>135.0</td>\n",
              "      <td>0</td>\n",
              "    </tr>\n",
              "    <tr>\n",
              "      <th>467998</th>\n",
              "      <td>1</td>\n",
              "      <td>31</td>\n",
              "      <td>6</td>\n",
              "      <td>12</td>\n",
              "      <td>1905</td>\n",
              "      <td>766</td>\n",
              "      <td>655</td>\n",
              "      <td>101.0</td>\n",
              "      <td>1755.0</td>\n",
              "      <td>599.0</td>\n",
              "      <td>0</td>\n",
              "    </tr>\n",
              "    <tr>\n",
              "      <th>2240555</th>\n",
              "      <td>5</td>\n",
              "      <td>22</td>\n",
              "      <td>5</td>\n",
              "      <td>6</td>\n",
              "      <td>603</td>\n",
              "      <td>741</td>\n",
              "      <td>609</td>\n",
              "      <td>97.0</td>\n",
              "      <td>1621.0</td>\n",
              "      <td>594.0</td>\n",
              "      <td>1</td>\n",
              "    </tr>\n",
              "    <tr>\n",
              "      <th>649326</th>\n",
              "      <td>2</td>\n",
              "      <td>12</td>\n",
              "      <td>4</td>\n",
              "      <td>14</td>\n",
              "      <td>60</td>\n",
              "      <td>619</td>\n",
              "      <td>782</td>\n",
              "      <td>147.0</td>\n",
              "      <td>1854.0</td>\n",
              "      <td>973.0</td>\n",
              "      <td>0</td>\n",
              "    </tr>\n",
              "  </tbody>\n",
              "</table>\n",
              "<p>4767 rows × 11 columns</p>\n",
              "</div>\n",
              "      <button class=\"colab-df-convert\" onclick=\"convertToInteractive('df-ebb61a88-7484-428b-83a1-3b8e28d47da2')\"\n",
              "              title=\"Convert this dataframe to an interactive table.\"\n",
              "              style=\"display:none;\">\n",
              "        \n",
              "  <svg xmlns=\"http://www.w3.org/2000/svg\" height=\"24px\"viewBox=\"0 0 24 24\"\n",
              "       width=\"24px\">\n",
              "    <path d=\"M0 0h24v24H0V0z\" fill=\"none\"/>\n",
              "    <path d=\"M18.56 5.44l.94 2.06.94-2.06 2.06-.94-2.06-.94-.94-2.06-.94 2.06-2.06.94zm-11 1L8.5 8.5l.94-2.06 2.06-.94-2.06-.94L8.5 2.5l-.94 2.06-2.06.94zm10 10l.94 2.06.94-2.06 2.06-.94-2.06-.94-.94-2.06-.94 2.06-2.06.94z\"/><path d=\"M17.41 7.96l-1.37-1.37c-.4-.4-.92-.59-1.43-.59-.52 0-1.04.2-1.43.59L10.3 9.45l-7.72 7.72c-.78.78-.78 2.05 0 2.83L4 21.41c.39.39.9.59 1.41.59.51 0 1.02-.2 1.41-.59l7.78-7.78 2.81-2.81c.8-.78.8-2.07 0-2.86zM5.41 20L4 18.59l7.72-7.72 1.47 1.35L5.41 20z\"/>\n",
              "  </svg>\n",
              "      </button>\n",
              "      \n",
              "  <style>\n",
              "    .colab-df-container {\n",
              "      display:flex;\n",
              "      flex-wrap:wrap;\n",
              "      gap: 12px;\n",
              "    }\n",
              "\n",
              "    .colab-df-convert {\n",
              "      background-color: #E8F0FE;\n",
              "      border: none;\n",
              "      border-radius: 50%;\n",
              "      cursor: pointer;\n",
              "      display: none;\n",
              "      fill: #1967D2;\n",
              "      height: 32px;\n",
              "      padding: 0 0 0 0;\n",
              "      width: 32px;\n",
              "    }\n",
              "\n",
              "    .colab-df-convert:hover {\n",
              "      background-color: #E2EBFA;\n",
              "      box-shadow: 0px 1px 2px rgba(60, 64, 67, 0.3), 0px 1px 3px 1px rgba(60, 64, 67, 0.15);\n",
              "      fill: #174EA6;\n",
              "    }\n",
              "\n",
              "    [theme=dark] .colab-df-convert {\n",
              "      background-color: #3B4455;\n",
              "      fill: #D2E3FC;\n",
              "    }\n",
              "\n",
              "    [theme=dark] .colab-df-convert:hover {\n",
              "      background-color: #434B5C;\n",
              "      box-shadow: 0px 1px 3px 1px rgba(0, 0, 0, 0.15);\n",
              "      filter: drop-shadow(0px 1px 2px rgba(0, 0, 0, 0.3));\n",
              "      fill: #FFFFFF;\n",
              "    }\n",
              "  </style>\n",
              "\n",
              "      <script>\n",
              "        const buttonEl =\n",
              "          document.querySelector('#df-ebb61a88-7484-428b-83a1-3b8e28d47da2 button.colab-df-convert');\n",
              "        buttonEl.style.display =\n",
              "          google.colab.kernel.accessAllowed ? 'block' : 'none';\n",
              "\n",
              "        async function convertToInteractive(key) {\n",
              "          const element = document.querySelector('#df-ebb61a88-7484-428b-83a1-3b8e28d47da2');\n",
              "          const dataTable =\n",
              "            await google.colab.kernel.invokeFunction('convertToInteractive',\n",
              "                                                     [key], {});\n",
              "          if (!dataTable) return;\n",
              "\n",
              "          const docLinkHtml = 'Like what you see? Visit the ' +\n",
              "            '<a target=\"_blank\" href=https://colab.research.google.com/notebooks/data_table.ipynb>data table notebook</a>'\n",
              "            + ' to learn more about interactive tables.';\n",
              "          element.innerHTML = '';\n",
              "          dataTable['output_type'] = 'display_data';\n",
              "          await google.colab.output.renderOutput(dataTable, element);\n",
              "          const docLink = document.createElement('div');\n",
              "          docLink.innerHTML = docLinkHtml;\n",
              "          element.appendChild(docLink);\n",
              "        }\n",
              "      </script>\n",
              "    </div>\n",
              "  </div>\n",
              "  "
            ]
          },
          "metadata": {},
          "execution_count": 9
        }
      ],
      "source": [
        "data #원본 데이터를 1/10로 줄인 sample"
      ],
      "id": "moOz9H4e5k-u"
    },
    {
      "cell_type": "markdown",
      "metadata": {
        "id": "4WUcMhlAvGrG"
      },
      "source": [
        "## EDA\n",
        "- 전체에서 랜텀 추출한 5만개 데이터로 진행함"
      ],
      "id": "4WUcMhlAvGrG"
    },
    {
      "cell_type": "code",
      "execution_count": null,
      "metadata": {
        "colab": {
          "base_uri": "https://localhost:8080/"
        },
        "id": "gxzAfLn9vCs7",
        "outputId": "e8d39130-f71b-4430-a004-13643532797d"
      },
      "outputs": [
        {
          "output_type": "stream",
          "name": "stdout",
          "text": [
            "Index(['MONTH', 'DAY', 'DAY_OF_WEEK', 'AIRLINE', 'FLIGHT_NUMBER',\n",
            "       'DESTINATION_AIRPORT', 'ORIGIN_AIRPORT'],\n",
            "      dtype='object')\n",
            "Index(['AIR_TIME', 'DEPARTURE_TIME', 'DISTANCE'], dtype='object')\n"
          ]
        }
      ],
      "source": [
        "cat_list = origin.iloc[:,:7].columns\n",
        "num_list = origin.iloc[:,7:-1].columns\n",
        "print(cat_list) #AIRLINE\n",
        "print(num_list)"
      ],
      "id": "gxzAfLn9vCs7"
    },
    {
      "cell_type": "markdown",
      "metadata": {
        "id": "JsJYY80q19Ub"
      },
      "source": [
        "Categorical Variable"
      ],
      "id": "JsJYY80q19Ub"
    },
    {
      "cell_type": "code",
      "execution_count": null,
      "metadata": {
        "colab": {
          "base_uri": "https://localhost:8080/",
          "height": 1000
        },
        "id": "1s34nSkRvRwb",
        "outputId": "f3527e33-788a-4fcd-be6e-c2907a3ee95c"
      },
      "outputs": [
        {
          "output_type": "display_data",
          "data": {
            "text/html": [
              "<html>\n",
              "<head><meta charset=\"utf-8\" /></head>\n",
              "<body>\n",
              "    <div>            <script src=\"https://cdnjs.cloudflare.com/ajax/libs/mathjax/2.7.5/MathJax.js?config=TeX-AMS-MML_SVG\"></script><script type=\"text/javascript\">if (window.MathJax) {MathJax.Hub.Config({SVG: {font: \"STIX-Web\"}});}</script>                <script type=\"text/javascript\">window.PlotlyConfig = {MathJaxConfig: 'local'};</script>\n",
              "        <script src=\"https://cdn.plot.ly/plotly-2.8.3.min.js\"></script>                <div id=\"0bf936a4-5dd5-47e5-9405-312f5ca9daa5\" class=\"plotly-graph-div\" style=\"height:525px; width:100%;\"></div>            <script type=\"text/javascript\">                                    window.PLOTLYENV=window.PLOTLYENV || {};                                    if (document.getElementById(\"0bf936a4-5dd5-47e5-9405-312f5ca9daa5\")) {                    Plotly.newPlot(                        \"0bf936a4-5dd5-47e5-9405-312f5ca9daa5\",                        [{\"domain\":{\"x\":[0.0,1.0],\"y\":[0.0,1.0]},\"hovertemplate\":\"ORIGIN_AIRPORT=%{label}<extra></extra>\",\"labels\":[858,675,814,738,628,792,655,765,730,674,675,866,765,866,897,784,765,765,703,816,98,771,776,20,771,828,765,38,771,896,805,675,639,655,232,811,730,653,609,784,667,609,867,806,109,628,782,875,811,806,640,674,782,867,675,771,866,217,892,763,640,609,842,828,20,784,670,817,622,765,763,765,817,693,626,109,846,859,674,675,832,867,628,867,85,675,185,825,724,771,675,707,81,875,20,755,670,611,763,817,640,689,883,675,82,695,703,675,20,858,639,626,674,738,674,682,858,857,206,655,832,850,765,867,675,740,765,782,771,732,675,855,824,817,727,733,867,609,791,867,674,866,670,828,805,707,784,609,650,883,609,817,642,771,681,817,784,592,805,675,868,892,867,611,606,143,773,828,740,767,755,609,675,674,875,639,763,866,876,817,682,675,109,867,608,805,675,828,781,806,675,817,688,670,655,834,643,811,674,828,860,740,730,656,166,852,890,679,609,781,38,792,828,771,81,862,867,172,695,755,805,713,755,866,740,792,884,857,626,653,765,825,867,640,675,782,784,626,670,609,667,755,892,609,609,610,817,740,730,733,784,876,857,781,817,855,875,674,896,765,682,640,755,732,754,818,693,675,858,682,817,755,675,783,828,817,861,765,875,811,245,143,765,703,674,628,806,674,883,628,674,88,600,655,781,867,792,860,716,892,817,811,682,656,290,841,628,740,765,763,910,740,732,876,908,875,875,740,825,867,738,655,805,217,628,740,738,850,156,266,817,628,774,228,855,828,867,697,675,609,266,866,769,813,609,611,611,892,755,628,217,628,817,805,806,867,655,166,609,816,703,782,674,281,817,695,857,771,787,848,675,675,609,827,675,80,763,703,781,620,811,655,769,806,805,183,609,846,876,817,754,695,674,867,20,805,867,682,609,50,855,812,674,857,674,784,867,611,105,792,647,817,900,695,674,703,628,609,828,770,824,878,805,716,855,889,710,674,805,866,846,609,799,839,771,814,609,814,609,746,876,771,615,905,782,781,866,54,738,673,771,866,638,765,805,143,740,675,703,640,703,714,763,640,876,874,22,867,682,866,791,655,740,609,782,609,846,695,861,609,817,892,609,827,805,705,866,81,628,603,675,892,682,667,738,609,828,866,730,655,824,765,848,673,178,290,730,817,628,817,655,867,609,636,274,766,185,793,755,765,655,817,755,805,674,861,876,846,649,781,765,640,675,755,175,730,817,628,811,80,817,875,771,793,763,675,640,867,682,609,589,675,609,901,755,609,866,763,765,846,860,867,626,266,675,866,703,782,825,892,597,828,765,695,741,624,639,827,828,799,674,591,639,817,615,609,817,875,805,876,166,771,640,675,609,866,640,866,857,642,675,817,853,763,828,817,792,674,875,628,670,740,217,857,866,860,730,755,866,662,50,183,763,609,217,876,875,893,827,682,817,721,805,609,867,817,817,591,865,674,817,806,82,682,825,763,675,763,675,858,682,828,665,867,817,782,630,675,182,620,746,878,766,608,789,673,740,846,673,166,655,867,805,758,675,609,626,655,695,806,799,682,628,674,746,655,817,846,828,867,828,817,735,626,793,164,609,720,855,293,866,824,806,765,813,674,817,784,892,248,682,842,639,274,867,857,738,655,872,805,828,870,741,793,765,883,779,828,793,695,670,227,782,732,740,609,611,874,792,609,740,653,865,828,805,782,675,812,670,720,682,832,609,828,698,682,817,892,894,875,82,825,857,828,673,828,867,866,674,781,164,674,738,875,695,763,707,828,738,703,805,626,339,674,609,673,609,857,883,817,134,892,674,20,379,890,828,673,817,892,689,609,866,817,870,771,609,695,665,675,640,875,730,771,675,817,817,892,782,628,884,245,755,673,670,806,740,811,828,782,674,781,872,254,703,674,858,875,609,609,817,647,693,857,872,719,217,754,740,703,640,609,720,895,740,674,812,876,806,811,867,609,703,883,771,824,703,673,805,266,755,867,874,825,811,675,754,673,740,746,867,682,892,609,675,792,670,609,606,792,628,606,817,812,774,591,696,675,866,781,883,867,746,883,827,763,817,817,609,896,628,866,828,48,827,765,703,784,609,811,740,755,380,817,805,628,675,874,781,628,674,682,166,846,751,673,803,753,763,817,782,609,613,609,182,867,628,782,876,782,765,755,674,626,875,875,217,748,892,675,101,712,609,817,64,642,883,740,609,862,811,781,765,609,855,878,609,609,805,861,776,878,793,675,675,811,193,763,883,806,846,609,609,817,806,866,763,628,827,811,609,675,805,670,837,695,782,846,876,609,876,682,608,784,703,655,793,703,211,609,675,609,620,895,866,765,664,609,860,883,695,153,866,866,609,234,609,611,828,880,867,732,782,901,806,876,875,827,675,675,827,609,805,868,771,695,883,763,679,740,674,675,716,290,699,628,675,109,740,591,721,675,827,713,682,878,805,876,866,765,751,640,857,50,217,781,673,784,741,670,109,867,765,609,889,883,675,784,674,827,674,673,779,50,755,855,675,817,675,614,881,591,828,738,765,893,682,653,755,674,650,811,655,613,82,695,875,600,641,113,878,601,866,867,817,846,670,227,793,674,674,857,656,806,740,82,194,805,782,609,674,628,892,817,695,740,740,682,681,716,224,828,695,611,817,811,817,857,675,749,667,675,782,817,640,609,212,247,266,740,609,655,857,765,695,136,765,682,642,675,638,615,609,825,878,682,763,740,638,782,609,675,732,183,603,609,611,609,95,782,892,205,793,825,681,763,636,167,763,848,828,763,640,817,867,866,740,609,792,874,673,16,626,674,875,653,668,695,675,675,876,653,682,828,597,674,846,626,817,782,20,866,875,216,825,673,867,143,817,895,591,765,641,751,675,609,194,274,855,892,793,867,765,805,20,101,828,738,817,827,156,609,763,781,609,812,609,628,754,730,825,763,765,828,639,763,695,771,866,866,723,22,762,771,792,281,675,817,628,674,740,827,763,144,771,805,82,20,609,805,811,786,894,628,774,674,675,892,640,867,720,754,752,806,609,88,626,755,755,817,101,805,771,657,674,682,817,817,674,771,740,740,828,609,674,793,746,740,784,705,640,858,784,866,828,866,760,817,609,609,857,740,828,183,609,782,109,682,740,782,640,655,266,805,674,828,771,217,763,674,755,628,591,228,639,63,765,721,861,675,805,20,621,670,811,675,740,883,817,674,763,695,855,806,655,609,792,719,673,782,828,895,817,782,674,626,615,828,713,771,796,695,682,895,759,38,640,782,755,20,842,782,817,809,817,817,771,771,867,609,817,642,817,695,719,857,674,817,674,895,817,805,813,904,670,782,733,655,782,828,675,703,817,805,812,640,682,20,755,609,703,625,256,673,772,599,734,771,119,673,258,817,763,786,695,738,781,675,675,782,758,765,670,771,609,732,609,628,828,661,827,765,628,205,867,675,689,670,786,817,765,740,784,753,782,589,639,606,732,824,855,695,740,805,784,867,609,655,763,828,674,625,609,792,781,765,740,675,802,695,609,755,81,855,675,730,628,674,653,771,615,695,609,626,782,626,655,656,765,682,765,817,892,654,673,817,771,37,217,817,857,50,738,675,872,813,858,859,817,828,626,609,765,793,839,611,641,753,692,251,217,626,675,825,812,802,842,875,212,786,805,792,828,609,611,828,674,875,765,765,889,674,600,876,628,640,628,860,656,675,781,636,755,814,806,609,896,674,827,828,675,779,857,672,893,673,740,609,166,655,763,763,866,609,765,609,765,591,609,771,817,266,674,674,805,812,609,816,628,805,875,675,850,674,876,740,781,771,674,875,784,866,774,699,782,755,217,703,805,655,763,755,805,698,784,765,593,628,682,703,765,771,126,763,609,793,867,817,640,867,875,601,77,818,609,771,628,732,875,675,817,732,866,17,875,782,740,674,805,740,740,609,670,674,872,817,867,792,883,872,674,825,771,875,792,811,675,730,792,628,871,689,625,50,744,876,82,811,852,699,855,670,861,673,675,674,792,792,817,670,682,609,803,763,811,805,755,638,674,867,855,603,763,811,185,670,655,228,653,730,609,817,703,817,806,792,655,763,811,674,892,626,828,883,784,765,740,867,229,828,771,883,609,256,670,682,640,719,782,843,704,899,675,741,771,695,675,643,628,846,166,256,866,653,771,721,674,805,874,628,205,599,670,61,703,792,640,825,675,674,765,675,769,695,609,674,732,609,695,609,609,730,20,156,892,615,817,724,846,765,763,673,655,817,626,628,817,765,682,817,817,675,763,763,883,695,628,609,867,682,674,609,670,866,866,609,765,828,876,828,611,866,266,88,740,806,682,647,817,609,609,875,609,867,782,611,20,20,828,826,674,786,166,682,759,867,603,295,875,792,784,857,765,655,765,675,620,38,732,782,866,609,866,763,606,686,792,817,673,695,738,803,740,828,754,846,674,101,164,827,892,649,857,698,817,245,824,674,717,170,628,746,792,805,639,675,217,744,883,727,655,675,804,639,675,784,828,680,867,626,101,156,771,771,695,817,875,782,668,765,628,867,804,609,814,682,827,166,878,682,827,824,834,855,609,705,703,875,771,81,626,792,825,765,611,765,675,754,759,698,266,682,867,786,896,782,675,867,817,609,867,817,628,771,901,765,866,682,703,874,763,813,609,609,827,730,257,765,895,875,825,667,675,733,174,228,771,867,655,776,609,20,806,765,695,817,786,867,216,806,812,765,609,858,81,609,781,705,857,675,651,649,609,771,674,742,682,828,755,771,792,817,164,609,828,653,134,205,675,81,781,695,695,71,828,812,609,839,828,628,217,828,828,703,265,703,638,771,682,763,682,620,695,766,703,867,857,805,636,809,606,266,740,611,63,675,662,782,609,185,266,609,825,674,740,653,266,784,771,640,740,867,738,818,824,817,609,874,740,160,675,271,857,827,682,719,878,802,792,875,670,729,866,609,695,817,782,227,626,664,793,609,738,827,788,763,609,875,796,740,818,675,667,827,675,828,628,784,730,628,615,675,695,281,828,817,674,703,855,655,626,685,867,170,805,865,664,755,784,670,695,867,876,628,763,771,640,872,874,878,875,682,817,814,740,866,640,740,817,892,866,609,805,804,675,674,720,609,817,828,811,674,765,674,763,857,705,773,792,205,609,846,611,817,695,765,862,827,611,784,817,857,875,217,839,817,774,614,609,735,876,675,817,828,763,866,670,782,792,674,791,674,781,772,883,805,82,164,781,759,817,816,817,738,883,674,755,855,674,655,825,817,730,782,792,782,217,828,82,828,682,857,638,832,813,766,875,857,141,740,674,892,609,755,817,817,109,741,653,682,670,628,895,824,867,765,290,827,277,732,213,620,673,839,82,615,82,675,615,828,703,865,792,765,695,771,817,805,755,703,656,867,828,740,817,673,813,721,805,671,640,828,652,805,875,834,876,834,784,217,674,875,867,609,746,166,837,894,82,759,591,685,765,857,812,655,784,892,675,776,609,875,77,609,675,866,809,695,626,609,633,640,609,740,805,640,609,848,763,806,859,765,781,670,670,771,779,805,805,784,740,719,675,682,817,675,828,784,655,738,673,40,806,862,817,20,827,765,732,744,674,81,703,784,900,790,141,805,740,609,817,714,874,825,828,612,703,776,866,905,628,746,827,755,805,878,782,675,763,20,609,185,787,875,667,609,781,765,812,771,883,172,609,765,828,781,892,674,240,832,790,609,609,765,867,606,866,828,765,771,675,674,878,858,682,827,792,805,674,730,76,866,740,627,866,866,675,784,606,674,695,674,609,674,675,858,866,609,667,705,876,738,765,673,832,878,876,771,38,765,806,746,782,781,254,892,749,827,732,674,827,755,867,872,674,695,682,667,655,20,740,746,817,817,740,755,143,866,265,878,817,892,867,805,766,782,817,682,828,628,730,58,805,710,784,732,866,673,892,183,600,681,878,256,866,655,867,763,782,655,675,656,667,771,640,609,835,609,667,670,809,740,617,699,628,746,828,594,205,761,71,875,850,804,217,695,763,674,755,730,681,640,655,867,105,867,765,824,832,866,878,116,765,781,81,749,875,892,763,640,760,674,867,817,869,740,763,828,846,771,609,682,164,895,765,857,793,763,855,695,670,754,755,866,682,732,754,908,20,828,609,228,682,784,817,26,640,811,855,867,594,741,674,641,782,846,740,609,675,654,650,792,608,609,640,811,655,755,872,872,817,640,832,817,828,817,732,784,274,628,432,653,655,740,872,791,733,730,673,50,675,674,892,88,740,217,640,740,784,765,695,824,765,628,640,675,639,874,740,782,670,817,800,867,771,875,265,784,892,640,673,782,746,628,606,674,655,866,875,805,860,609,628,674,828,611,609,674,730,872,828,875,143,740,765,905,763,609,710,803,217,771,817,868,817,738,671,626,866,740,674,889,878,806,217,205,908,609,740,674,609,609,875,609,867,768,765,20,812,876,740,695,806,183,867,805,682,740,438,655,740,765,811,866,720,626,755,786,609,897,609,805,892,670,765,675,875,216,611,674,749,653,786,628,719,609,695,740,774,730,156,81,38,609,730,779,805,741,211,894,670,164,805,867,640,673,828,637,670,611,874,817,883,812,674,609,609,758,866,670,828,20,817,695,848,875,817,765,673,792,732,782,183,740,805,771,628,765,615,682,674,266,771,703,825,695,817,866,101,832,782,166,817,846,675,828,892,681,682,773,749,183,784,633,866,824,674,817,656,628,792,643,805,805,156,156,876,878,693,655,611,805,816,655,609,763,682,609,880,771,892,650,867,274,609,674,675,271,765,876,740,765,806,846,792,611,280,857,782,875,827,675,817,892,591,740,685,673,857,609,609,813,866,655,265,81,839,817,867,875,828,786,867,670,765,876,673,817,657,862,765,781,609,81,670,874,866,805,858,763,850,648,771,653,858,655,730,763,682,817,703,828,661,806,655,675,827,695,640,765,661,228,675,653,817,655,809,817,615,827,675,740,876,674,609,793,832,143,817,682,653,754,850,883,811,754,609,675,817,805,817,825,784,609,695,759,663,806,857,904,771,621,674,603,793,674,232,817,799,674,771,609,755,710,626,696,639,805,682,805,818,867,765,866,855,205,266,892,653,771,874,730,867,628,867,611,591,817,872,825,82,670,817,817,627,740,817,755,817,816,682,655,781,866,763,825,763,695,655,674,905,771,38,755,839,771,143,782,674,730,732,80,740,674,883,695,228,682,805,867,674,866,805,817,857,765,883,656,82,597,839,609,675,641,759,767,818,732,655,792,80,875,732,675,763,626,695,857,876,781,589,628,875,628,883,695,653,817,825,763,20,656,892,817,856,875,20,825,719,675,649,628,782,784,814,763,872,597,732,304,653,765,861,703,682,698,825,811,674,771,695,609,606,38,828,866,143,628,653,867,896,828,811,674,80,626,867,694,216,782,828,782,763,867,781,866,792,825,656,754,620,768,874,867,656,48,866,770,867,741,765,675,655,682,703,638,765,771,857,782,858,732,755,674,817,817,857,609,828,765,811,740,782,857,740,720,612,782,88,671,656,682,792,703,611,817,609,621,782,850,763,859,655,605,680,805,867,782,763,892,591,675,872,732,670,782,818,782,628,125,653,875,673,876,609,670,881,829,832,817,640,817,675,674,892,855,740,682,626,732,824,274,655,609,829,141,786,269,806,755,901,675,817,765,892,674,638,858,800,765,628,892,755,732,608,857,782,20,803,857,674,294,655,851,746,782,609,754,763,805,695,703,674,771,824,682,609,183,606,817,166,675,293,48,755,892,609,782,746,695,746,675,609,611,817,805,817,828,866,681,828,763,763,793,832,277,860,682,628,674,626,609,875,866,675,732,817,782,740,817,640,866,703,771,674,827,817,267,674,227,758,771,786,784,187,793,867,793,172,746,740,609,640,700,867,609,703,695,765,793,754,674,792,628,675,779,781,674,628,781,817,825,616,816,217,876,740,867,674,866,609,871,765,875,866,609,805,763,889,740,828,771,817,682,765,589,247,675,889,782,670,817,817,747,782,841,675,792,695,609,782,746,740,673,653,703,628,781,674,640,846,746,37,667,673,828,675,217,673,763,805,866,732,695,857,811,817,667,611,828,754,867,730,765,673,720,638,164,626,791,782,763,609,771,817,817,867,256,782,656,609,675,852,857,661,640,642,674,591,771,682,217,746,653,784,640,674,860,670,867,675,620,82,839,653,843,141,198,674,674,784,695,675,674,765,664,611,817,148,783,892,901,782,655,628,878,166,875,806,655,628,609,699,763,609,703,763,817,653,765,674,784,817,866,675,703,695,695,609,766,81,675,628,730,655,867,814,193,765,655,817,846,701,670,675,765,667,828,805,20,673,765,765,841,740,675,740,825,828,817,640,769,792,637,740,771,20,883,892,792,721,895,675,763,674,784,640,609,609,639,817,824,779,620,874,81,722,653,781,857,811,817,765,784,817,670,827,611,811,628,609,653,765,674,609,771,695,765,867,832,609,675,675,695,817,866,674,876,172,21,697,828,867,865,609,609,817,890,892,783,771,674,857,855,640,824,609,172,733,896,875,860,609,867,901,670,609,695,867,765,682,765,609,285,615,674,740,674,740,867,828,675,674,38,166,765,20,730,817,817,695,765,609,771,846,891,883,675,49,674,725,867,763,675,901,866,217,895,628,38,278,791,716,217,828,674,765,866,670,805,811,609,883,771,609,609,682,603,806,680,626,670,817,611,675,674,848,828,675,682,675,109,883,875,655,806,166,675,765,857,765,640,609,615,892,640,81,805,628,718,626,673,824,730,813,765,730,876,655,874,655,817,682,805,816,806,771,878,784,661,674,765,875,611,855,765,674,266,855,829,732,172,825,422,867,193,792,185,774,817,589,782,792,265,817,626,609,655,828,846,609,674,166,892,638,817,755,675,860,670,817,675,867,793,857,674,876,609,781,901,858,872,817,738,805,655,655,591,80,784,740,782,682,675,107,771,817,670,612,806,611,609,771,82,622,609,609,166,755,648,867,640,266,653,763,763,883,763,673,682,827,729,682,611,763,828,817,653,857,591,878,771,703,763,875,832,782,640,675,895,759,867,805,867,811,675,813,875,813,609,640,860,172,628,892,814,793,828,771,817,746,206,759,828,784,827,675,675,828,832,611,611,609,817,765,81,867,674,765,695,680,663,675,609,883,849,703,782,674,782,720,673,636,213,866,640,839,655,205,675,805,806,817,617,817,609,765,867,628,740,817,763,628,682,227,817,730,609,609,779,675,832,765,805,290,876,765,828,655,866,81,900,817,781,901,681,817,851,866,817,673,674,789,772,816,633,740,609,682,740,673,675,848,809,892,817,763,866,857,771,851,670,802,817,749,857,739,609,670,824,656,695,892,763,738,817,817,639,878,867,755,825,656,875,817,695,740,875,145,817,755,609,673,876,674,792,656,732,740,857,628,609,609,828,883,205,867,670,817,817,656,805,867,817,875,755,661,771,857,250,655,817,782,673,639,765,710,611,865,670,805,254,765,875,689,172,695,609,792,799,741,609,626,763,828,675,875,872,792,721,817,780,625,817,876,746,609,897,669,824,828,817,740,818,724,875,675,732,817,766,82,857,755,876,217,771,640,612,609,675,828,695,866,812,806,826,875,674,674,609,784,609,649,101,774,895,626,827,681,609,828,774,883,842,609,682,166,875,827,603,782,867,763,674,765,805,782,611,20,905,216,609,609,868,696,817,818,765,609,20,755,755,640,609,673,889,875,611,866,892,771,752,782,606,788,866,649,867,675,635,824,876,674,682,671,848,673,688,828,682,857,639,675,609,674,740,805,609,857,218,674,673,682,771,682,883,828,655,855,755,655,765,765,674,858,609,784,771,792,689,755,95,817,658,872,277,868,673,765,803,766,732,863,876,307,710,755,781,763,609,675,781,883,880,878,878,698,846,828,771,674,765,628,765,682,675,256,590,824,651,101,832,771,716,609,609,867,765,674,817,675,695,749,675,805,809,675,738,846,765,609,670,805,781,20,817,609,814,805,695,281,664,63,874,771,866,673,609,675,655,825,609,811,620,682,792,817,675,674,771,816,819,828,675,792,827,805,781,811,674,740,227,674,682,640,164,675,763,740,892,626,730,670,754,792,738,674,868,872,787,845,733,193,3,892,675,827,832,828,847,817,675,803,841,876,627,626,792,857,640,655,857,867,771,828,730,811,655,741,675,765,609,170,817,784,782,674,827,817,597,675,675,675,695,875,828,763,763,806,771,674,732,792,814,206,755,817,675,828,695,266,765,80,693,784,867,806,675,876,628,611,710,883,876,695,781,784,710,740,740,828,763,784,227,720,609,695,675,265,883,817,609,816,771,811,765,784,615,763,858,697,866,784,817,675,817,740,817,817,828,732,818,806,20,784,811,782,755,703,817,88,755,655,793,875,850,740,827,817,674,813,695,867,740,867,817,817,138,817,828,609,730,670,675,720,817,611,609,865,765,892,740,763,732,806,143,670,732,817,670,597,866,639,813,771,755,763,892,875,655,866,695,817,628,817,892,675,858,27,650,265,828,682,817,609,649,628,875,867,620,786,771,858,626,867,670,763,609,670,765,609,675,63,609,609,290,733,782,771,88,682,667,20,811,609,855,707,609,878,675,650,797,674,867,640,265,740,765,730,699,703,832,655,740,806,609,763,664,150,755,695,872,778,101,765,20,858,751,695,817,817,609,656,710,692,266,858,673,846,715,266,827,828,615,31,620,740,815,763,867,846,817,655,674,703,755,817,655,876,217,875,609,611,657,655,609,782,655,782,814,740,628,817,825,675,812,627,670,675,217,695,817,675,824,805,677,792,784,867,166,682,674,257,682,895,144,281,771,741,782,786,892,661,38,828,675,856,816,609,827,817,817,675,805,675,765,675,730,763,901,675,172,870,63,858,867,857,867,240,817,738,857,871,628,82,828,688,225,782,772,857,811,703,655,609,609,771,675,609,771,265,101,816,213,674,667,609,166,673,695,875,730,803,105,673,211,247,640,609,681,857,730,217,673,867,817,786,675,817,670,670,867,867,866,81,675,781,655,81,855,817,828,611,805,628,740,740,173,682,682,674,782,141,870,812,828,755,746,857,867,873,868,817,867,121,674,682,773,88,763,591,789,732,771,816,755,609,828,673,765,763,848,81,695,771,628,741,274,673,866,740,166,892,134,803,671,738,309,805,754,765,20,784,825,811,866,857,765,227,817,695,609,857,675,875,228,675,784,876,811,609,817,782,225,674,172,771,817,872,232,673,639,675,827,895,771,673,655,675,667,682,866,699,883,256,650,817,132,710,857,626,82,805,682,740,609,827,674,828,857,806,763,846,611,817,828,735,802,752,805,810,755,609,38,615,671,609,828,828,806,77,675,875,765,832,682,172,551,765,720,828,626,609,765,876,866,817,655,732,674,746,828,828,828,858,763,817,640,609,740,874,771,865,626,806,828,805,674,609,867,817,628,675,674,211,805,605,164,874,127,740,740,895,675,827,674,805,628,600,609,857,867,50,784,719,817,675,784,854,682,38,817,817,848,817,655,675,752,763,805,876,889,655,806,674,682,875,609,806,875,682,781,653,609,295,827,609,101,765,675,850,805,653,20,626,143,806,849,892,828,875,827,703,730,682,661,50,817,675,793,740,609,655,50,867,166,755,775,910,50,81,608,740,675,791,620,80,609,638,782,740,36,817,892,763,733,682,867,763,765,816,867,772,827,828,682,828,781,740,682,763,813,805,50,765,217,824,765,218,817,228,765,682,817,640,699,591,805,827,682,828,755,274,674,695,892,668,866,878,765,781,38,817,883,695,740,753,606,626,866,817,674,817,674,781,628,290,875,217,670,858,695,827,740,609,675,695,740,867,878,650,673,781,143,895,765,674,22,738,609,763,763,874,675,868,827,784,765,765,609,672,740,682,609,240,857,20,647,609,876,828,740,675,615,628,867,763,249,655,763,674,628,655,674,792,875,755,216,857,858,765,765,609,80,156,763,867,675,609,857,875,765,771,805,817,675,817,872,164,605,143,781,155,740,136,609,845,609,771,792,609,628,689,881,673,827,740,655,782,732,675,293,217,64,20,674,156,740,609,828,682,795,675,609,754,850,670,609,613,655,628,784,861,245,609,613,857,876,675,765,817,858,682,763,591,784,609,866,732,638,703,68,228,763,740,753,782,828,765,673,740,730,765,63,813,867,730,875,136,763,793,740,855,667,609,765,817,763,817,817,674,640,755,738,827,32,876,806,695,640,713,816,765,675,640,874,828,628,35,266,740,166,878,867,846,883,730,591,740,754,228,740,609,193,805,763,885,674,867,763,774,817,155,814,846,770,878,753,811,781,842,695,655,682,675,771,166,194,69,786,857,87,730,806,628,875,50,703,874,609,824,805,825,857,867,817,805,609,610,763,703,792,867,828,864,275,765,655,675,878,763,247,740,682,859,626,675,892,817,605,670,828,741,867,866,793,793,609,674,673,640,246,609,591,640,613,172,64,875,806,217,636,817,609,784,628,695,703,20,622,806,765,217,740,817,883,765,765,827,695,765,675,675,740,805,883,627,832,50,763,867,782,828,141,741,857,639,866,814,828,806,77,805,14,817,763,681,858,718,763,867,670,772,703,872,143,782,740,674,811,765,817,703,793,682,817,765,817,740,611,876,673,827,63,20,816,663,867,703,892,817,774,80,771,805,671,609,781,857,725,667,765,866,828,848,609,878,867,825,675,771,828,609,628,843,753,674,639,766,732,609,682,817,183,38,828,730,274,765,606,732,695,828,740,36,867,667,746,716,875,792,771,763,817,63,789,733,675,670,166,816,765,675,876,640,741,609,675,628,896,675,740,730,901,682,626,674,738,866,628,675,611,80,781,609,848,784,770,825,857,139,626,628,626,670,811,38,806,274,609,857,703,792,156,609,765,802,640,695,682,875,639,875,732,205,866,609,674,674,675,786,809,858,740,717,740,812,867,670,746,857,828,782,110,805,675,765,655,866,740,674,695,673,825,732,883,811,817,892,827,812,828,876,20,649,765,866,784,673,674,763,732,867,665,211,673,640,655,733,164,765,682,695,730,843,878,695,878,609,875,609,675,50,759,675,609,699,828,875,698,609,805,825,738,867,857,782,628,883,755,811,58,675,857,765,609,674,872,846,628,852,755,824,682,162,806,805,136,205,732,740,266,655,655,143,866,784,695,867,713,867,609,779,874,788,867,675,273,817,758,703,640,864,877,793,784,655,792,817,865,655,675,176,883,763,609,878,675,638,746,20,609,876,217,765,765,791,793,626,609,759,634,812,765,828,652,656,851,609,682,817,674,875,908,747,805,755,812,817,805,674,699,772,655,755,738,857,763,693,892,771,812,817,874,892,817,655,828,740,695,740,828,674,699,702,771,883,754,676,151,609,765,861,609,825,626,650,755,792,832,817,674,675,20,675,805,611,809,755,628,866,763,875,626,656,148,650,704,682,695,765,846,824,803,841,817,771,265,20,675,753,784,183,20,254,675,765,217,675,740,172,755,674,626,855,730,828,857,851,828,866,805,609,746,765,655,858,765,867,38,671,638,779,765,828,640,740,817,183,695,675,783,611,730,765,682,786,628,765,805,609,609,817,782,843,674,779,277,675,185,814,816,740,693,805,740,827,290,738,817,695,859,811,703,828,164,763,82,832,883,656,609,609,876,883,675,730,228,609,675,611,609,813,832,763,895,836,828,817,765,95,765,642,866,832,609,740,782,765,866,609,38,763,675,755,811,805,675,609,875,845,866,858,247,670,609,675,675,782,805,615,213,609,721,867,828,855,674,185,765,609,611,695,876,609,817,825,697,656,50,101,656,682,817,867,806,609,805,695,109,884,817,895,828,640,867,857,183,682,746,606,705,182,647,792,860,771,703,828,740,290,789,817,809,857,730,61,609,626,792,817,689,615,765,884,870,695,817,824,674,670,870,828,173,265,740,609,661,755,867,609,827,675,675,805,793,866,656,164,754,875,609,653,874,827,896,715,866,640,675,183,675,609,759,817,609,771,816,674,811,703,817,628,817,675,611,805,876,38,817,670,508,182,640,740,771,763,867,667,293,674,256,817,670,682,765,609,763,732,765,611,828,732,781,77,675,859,674,615,764,674,857,828,817,800,818,703,294,866,788,738,738,858,637,763,703,784,740,217,706,682,883,827,20,782,609,695,857,828,828,872,704,805,682,256,800,605,277,781,265,875,732,765,682,765,828,895,156,640,755,606,846,825,20,740,655,771,827,674,217,640,20,675,738,609,813,609,639,675,669,628,675,846,635,827,817,674,784,892,609,814,628,765,740,675,892,867,675,655,883,628,20,703,156,782,609,609,868,828,609,143,740,667,228,817,730,673,825,740,682,781,867,609,682,857,875,793,834,824,655,628,627,828,848,674,674,878,608,773,695,682,765,784,81,675,642,611,852,866,771,765,846,675,673,814,841,609,20,758,792,609,771,866,778,782,673,655,81,875,609,828,867,681,827,782,805,813,814,892,20,670,855,675,675,609,675,867,792,609,288,256,136,655,875,730,876,813,682,655,670,675,296,609,277,603,867,685,732,609,879,805,650,877,655,866,792,841,609,771,674,675,166,872,695,626,266,784,817,674,290,872,621,875,851,642,855,825,765,609,656,628,817,675,738,811,858,675,824,792,883,730,655,650,875,232,828,703,771,811,872,675,611,254,155,866,673,755,806,266,675,703,682,740,675,875,20,755,164,771,699,765,183,876,609,828,773,860,704,872,740,609,609,143,609,846,765,609,763,695,828,675,681,816,94,883,828,806,792,876,591,22,609,866,867,817,627,782,695,674,817,857,872,867,591,767,675,609,609,38,640,763,782,81,827,101,271,817,846,655,675,781,143,741,740,866,843,755,628,609,784,650,842,866,779,892,867,765,638,812,628,740,609,792,720,765,858,824,806,763,857,673,609,732,771,867,780,738,723,746,730,817,732,675,675,755,611,609,615,655,172,765,765,866,50,763,784,839,813,805,628,867,803,655,732,682,866,611,703,673,892,866,609,640,681,875,689,645,630,765,249,740,639,674,675,866,703,857,640,765,813,674,673,655,703,827,601,765,828,638,746,765,682,20,611,609,609,763,817,675,782,817,675,784,228,818,661,609,764,670,611,740,675,20,857,673,609,730,832,685,817,774,654,628,655,816,670,875,765,805,628,828,271,817,720,799,173,765,674,674,703,228,609,655,825,892,797,781,782,866,674,609,609,706,817,832,771,895,695,817,765,874,670,825,894,784,867,755,217,883,784,609,682,20,217,675,82,675,878,217,763,817,740,866,290,703,828,695,640,765,805,875,682,290,782,675,609,609,682,828,763,713,609,674,673,674,771,229,805,866,703,828,828,713,194,675,883,867,773,609,751,763,732,628,867,22,834,80,755,774,675,763,817,682,674,628,143,755,857,655,742,696,771,817,867,779,875,628,88,740,825,655,675,740,782,792,626,626,866,893,755,682,628,765,889,667,817,730,609,792,817,850,670,782,825,827,682,871,771,675,281,792,626,817,740,637,875,900,641,730,655,832,872,867,675,765,763,681,875,695,872,655,686,875,675,670,857,753,755,674,867,57,765,662,695,738,889,609,675,674,609,224,763,148,740,765,755,771,639,656,883,719,875,766,266,703,649,892,765,730,628,674,827,828,695,817,675,653,674,817,689,628,81,609,655,609,652,779,782,667,164,875,628,682,675,214,763,879,806,675,805,682,626,878,626,892,682,792,611,782,609,812,682,655,784,867,875,693,228,755,674,841,763,765,763,626,765,695,754,697,638,825,703,855,703,77,228,858,725,817,643,674,63,857,740,650,667,740,349,611,608,857,771,674,811,738,670,675,812,733,817,771,639,703,846,732,846,875,828,699,817,166,773,738,792,275,867,609,603,771,183,674,674,846,858,675,842,738,771,781,187,765,828,892,867,682,82,606,738,609,828,765,675,684,670,781,870,728,609,858,640,628,655,792,792,771,703,848,711,674,857,816,673,763,628,740,675,763,681,628,812,765,811,765,765,824,675,782,703,796,20,628,80,609,245,827,673,86,609,782,749,771,806,695,827,784,814,674,817,765,628,670,763,865,20,274,892,695,771,765,771,813,155,765,784,228,50,754,784,609,875,674,792,861,609,675,753,765,790,857,601,638,827,866,653,867,894,724,730,609,781,609,817,682,811,846,732,609,867,827,811,649,759,802,867,609,643,695,872,792,661,703,703,771,609,817,818,271,784,792,697,655,655,611,625,817,695,763,675,792,811,20,275,753,872,878,817,603,640,782,872,817,858,792,834,674,685,892,674,883,609,793,878,816,765,674,863,828,703,755,682,674,675,610,609,185,621,675,275,134,773,626,781,883,628,867,609,828,699,828,217,765,732,828,825,827,638,611,156,609,653,755,609,785,784,674,611,609,621,874,695,875,765,156,866,806,615,866,655,610,670,675,628,640,875,639,674,111,866,609,755,610,64,675,674,732,674,609,681,46,784,857,875,781,832,615,889,674,892,774,878,266,817,611,765,674,609,675,763,852,841,655,675,817,609,867,866,628,689,875,765,817,782,615,765,673,675,867,841,740,875,675,674,828,609,817,828,814,784,703,875,817,691,639,809,609,703,715,611,866,156,707,265,805,611,908,876,628,628,628,792,817,675,765,771,689,782,763,655,866,828,828,806,771,703,765,866,852,675,740,609,628,828,609,805,817,692,259,867,895,695,615,740,763,867,824,740,515,781,611,867,792,755,675,771,63,885,765,620,650,579,670,609,740,867,735,706,675,674,682,655,811,656,763,771,655,828,609,740,655,784,274,639,782,832,846,850,754,805,857,732,881,682,817,675,866,674,732,62,673,755,730,734,703,134,675,50,858,656,883,609,674,828,611,848,575,895,274,740,811,675,649,675,611,878,166,733,771,771,895,781,674,639,640,183,695,797,784,892,781,858,609,883,674,765,609,852,675,875,609,703,755,740,781,609,682,763,740,812,626,875,640,781,609,675,293,609,817,682,675,143,875,784,674,827,674,675,673,817,740,866,675,82,828,670,765,784,615,205,609,643,895,664,609,817,844,817,865,682,628,628,817,653,730,782,136,626,609,697,740,866,656,682,611,746,853,857,675,857,859,164,626,866,759,185,875,857,695,828,135,765,746,782,755,695,867,876,205,895,695,740,847,205,759,763,809,894,817,675,792,790,651,875,675,832,674,74,740,655,133,763,827,765,782,789,203,640,878,628,763,828,765,763,628,817,675,817,675,655,695,771,609,609,674,626,828,866,695,20,867,695,609,883,765,675,673,675,611,828,265,768,740,639,732,754,609,640,655,817,763,740,763,610,684,695,765,274,151,827,183,846,771,693,281,667,626,818,872,696,867,875,857,787,663,707,655,653,805,748,765,760,765,905,703,266,674,827,872,755,866,628,217,740,827,828,791,892,730,867,695,861,784,848,832,609,792,655,827,675,611,818,867,674,609,228,716,714,754,609,793,740,675,627,786,265,143,609,740,620,611,755,675,164,661,875,653,817,673,858,866,675,612,670,609,771,655,655,609,675,806,809,217,817,895,872,827,609,755,655,883,650,848,662,765,875,763,673,675,673,674,609,763,675,740,81,136,773,876,609,755,784,682,846,817,655,858,896,875,792,878,771,904,786,811,765,156,740,182,857,765,828,638,670,628,609,806,675,883,883,217,675,765,730,653,609,695,771,817,609,38,603,266,710,875,781,640,870,609,782,628,763,675,771,887,674,812,626,858,682,816,771,746,609,615,730,673,740,143,828,793,825,784,782,768,868,828,881,649,866,755,699,675,751,675,611,755,640,828,136,671,655,878,653,656,609,765,755,670,217,811,682,776,695,805,883,615,765,866,622,782,699,730,82,784,817,628,675,771,705,828,755,779,888,686,875,817,740,675,609,640,674,655,674,609,64,81,681,205,843,817,205,674,136,857,675,883,61,806,88,143,655,217,784,703,675,892,82,817,817,834,675,897,771,828,805,711,217,782,710,784,875,855,20,878,703,838,591,650,875,755,827,675,675,674,782,194,867,682,763,817,675,609,590,814,817,674,763,885,817,609,674,782,805,699,738,824,878,825,761,628,88,655,784,763,888,591,656,625,703,765,740,609,81,609,740,867,782,695,827,674,674,867,705,867,609,665,817,193,20,828,20,636,628,655,867,609,828,867,848,832,626,872,249,817,793,848,867,781,805,865,217,857,797,811,806,828,784,655,896,901,763,655,817,609,860,155,818,675,867,682,609,816,780,655,817,22,828,656,782,738,867,805,792,714,20,896,681,755,88,655,817,763,784,80,792,765,740,674,755,817,609,828,682,77,867,763,271,817,675,781,675,609,675,879,763,846,817,639,609,866,682,763,816,763,755,673,609,183,636,776,776,765,811,164,763,853,805,655,773,655,890,817,793,640,609,155,811,772,609,615,609,675,675,876,640,857,866,695,811,784,771,740,817,628,626,655,682,641,825,732,786,82,217,682,781,628,732,699,628,855,772,673,828,773,771,172,824,626,740,755,655,802,36,827,867,730,765,867,611,640,803,670,845,867,874,876,205,848,109,788,751,640,779,166,695,609,64,609,792,228,193,872,839,792,875,782,698,591,682,883,674,673,825,817,591,806,782,671,792,148,705,164,681,656,674,828,740,866,812,675,609,655,696,763,792,833,855,609,703,609,892,740,51,655,640,817,875,774,839,670,740,817,628,674,732,703,698,872,205,817,674,858,675,655,719,805,811,205,828,675,675,609,765,817,609,50,695,609,591,674,738,695,875,782,606,908,144,166,603,828,766,908,817,856,805,653,638,875,775,609,793,825,655,892,875,615,611,609,883,784,875,846,832,632,803,675,763,771,744,908,640,675,655,20,892,892,883,858,674,156,608,740,817,609,866,883,740,609,828,765,817,755,675,763,166,866,812,674,609,640,38,740,615,655,786,655,771,655,754,653,759,164,866,640,765,817,685,730,874,674,827,863,17,695,875,674,609,827,784,817,755,857,740,765,865,193,857,765,740,266,811,867,782,82,782,609,765,805,682,765,611,765,758,626,811,703,740,675,812,866,740,740,828,682,771,867,784,3,266,24,811,793,866,730,670,817,820,793,781,786,867,643,892,615,675,738,675,875,609,813,872,740,782,759,817,765,828,875,695,166,622,674,782,695,622,817,730,628,817,673,817,875,674,670,663,640,846,763,827,763,609,755,63,867,765,828,682,792,740,875,639,828,867,766,901,609,765,655,828,763,824,104,675,793,776,682,806,640,867,856,828,856,730,732,784,628,853,640,274,857,674,675,682,818,675,648,609,636,876,865,765,81,609,688,673,664,673,740,765,640,828,732,676,746,773,806,782,817,875,38,786,20,866,763,640,828,675,609,626,609,792,817,673,846,842,675,895,626,866,816,639,792,675,858,828,825,806,827,892,640,674,755,848,675,765,784,765,635,674,20,765,628,867,609,832,817,640,670,892,867,703,782,791,880,765,883,867,875,609,656,771,695,288,95,670,647,792,855,841,705,148,675,674,628,746,857,640,866,628,784,640,866,703,675,817,782,828,855,88,754,878,828,811,828,36,674,609,875,774,675,811,675,597,732,593,828,830,675,763,211,738,675,640,857,866,98,675,784,872,20,628,749,197,277,52,82,182,605,88,609,806,867,265,828,643,828,797,855,763,670,655,609,628,857,695,817,620,664,109,695,867,792,609,805,150,755,609,746,892,101,846,889,782,883,695,609,805,228,828,765,814,765,832,755,656,682,674,628,857,855,758,609,786,792,765,31,771,703,850,703,636,695,609,82,609,782,674,653,809,876,765,908,782,20,217,287,784,611,867,875,765,828,695,703,817,827,673,875,866,817,827,748,892,857,789,817,653,828,793,875,655,236,661,892,732,805,829,641,892,828,639,609,759,755,655,192,784,609,609,784,640,695,827,765,675,730,765,719,256,609,848,609,695,609,763,36,765,217,609,655,792,817,655,875,609,16,674,827,771,740,656,859,817,591,817,675,738,817,639,695,730,670,738,597,883,781,732,878,805,781,771,765,805,682,827,655,740,824,695,825,755,850,674,782,640,275,771,816,857,639,609,609,593,771,740,650,825,787,609,655,695,765,740,609,817,695,828,817,609,867,771,609,621,776,892,656,674,740,609,857,695,746,591,740,80,763,866,901,809,254,782,611,735,615,38,793,88,740,628,850,740,875,872,674,77,806,670,763,695,867,857,781,609,824,628,763,740,675,753,811,867,817,792,682,770,781,675,782,611,827,609,740,640,846,832,740,740,187,828,867,227,628,828,817,817,782,274,746,703,817,875,770,609,784,609,875,674,609,48,81,792,609,784,730,784,628,609,817,771,884,779,866,695,846,857,828,591,673,878,640,673,817,639,746,720,806,866,875,649,695,813,609,609,806,782,866,858,628,834,20,674,782,828,806,674,825,670,740,609,609,744,782,805,714,77,740,866,857,905,811,703,615,693,675,875,611,792,673,817,675,740,817,825,63,763,875,81,689,828,817,806,740,274,682,792,872,759,782,895,895,817,817,655,811,682,628,816,730,905,609,848,824,753,817,655,876,866,848,845,789,866,832,653,825,675,855,765,675,763,609,816,846,806,611,828,828,782,738,805,765,609,675,878,611,628,782,732,673,746,675,50,721,817,875,763,674,763,784,626,761,876,49,638,817,675,746,866,31,609,765,711,782,792,793,875,784,875,792,817,897,846,740,180,805,817,755,655,817,609,670,655,876,755,782,720,771,817,876,101,765,841,848,817,817,656,771,675,793,740,866,753,674,784,692,865,857,655,650,639,755,872,675,867,639,746,867,784,763,752,81,81,682,609,811,817,817,109,765,765,896,674,827,875,228,816,773,740,675,850,740,782,771,763,866,816,695,695,603,740,719,620,746,166,781,290,256,876,793,812,638,784,682,806,655,626,811,675,799,139,674,742,682,609,878,674,817,771,892,682,591,763,874,655,626,765,217,806,783,681,817,50,784,36,653,867,730,609,609,874,866,609,205,609,765,872,674,626,763,857,740,878,675,735,792,609,765,740,249,682,875,136,674,866,675,763,817,675,718,732,874,846,638,784,805,740,892,674,609,771,763,673,861,867,817,609,263,675,148,765,606,609,805,805,682,740,765,827,703,828,854,817,674,740,740,695,611,866,641,883,164,216,901,667,214,274,733,878,866,792,892,858,675,732,609,682,784,609,673,841,824,166,609,765,674,628,763,765,609,685,817,640,784,828,892,784,876,784,609,817,817,868,20,609,609,719,674,811,609,782,773,817,765,828,609,867,776,858,609,765,675,817,765,655,655,771,670,817,675,609,772,827,829,765,827,827,673,673,866,655,609,806,817,611,846,675,703,628,720,609,765,703,674,817,817,893,810,609,817,828,869,782,122,784,765,811,828,782,655,673,228,817,874,675,765,763,753,609,765,867,878,740,611,763,609,675,734,805,695,806,880,866,740,765,695,720,740,274,641,866,817,744,874,824,763,828,695,857,782,638,872,825,591,688,901,780,857,846,867,763,20,746,778,867,673,784,892,755,867,876,695,782,817,771,875,82,875,185,786,771,805,675,628,774,874,671,667,609,606,875,740,839,703,225,754,609,20,825,827,872,674,793,703,828,803,793,640,609,872,828,867,870,866,655,827,682,828,867,755,732,857,765,217,755,855,744,817,765,740,755,866,782,695,674,640,793,793,675,857,628,817,658,674,740,872,650,817,812,755,626,866,674,740,812,875,640,675,661,639,682,227,895,609,857,784,655,682,609,175,675,740,782,673,875,765,674,732,674,682,655,755,817,682,872,892,227,689,609,792,875,611,889,740,734,217,827,817,591,22,101,854,740,755,606,846,64,755,746,782,866,740,828,703,872,875,765,674,828,895,883,183,683,609,811,609,817,674,828,883,695,824,806,878,57,793,740,825,675,867,811,792,805,609,839,866,892,81,782,741,812,828,609,740,228,628,670,675,674,866,682,667,640,793,813,674,746,784,689,675,828,805,639,828,827,730,825,674,844,640,763,793,867,886,655,784,784,866,817,792,782,867,681,148,817,861,274,763,755,832,656,828,784,611,740,827,832,782,670,730,653,612,858,765,622,674,675,765,674,682,771,615,784,805,817,793,675,872,628,609,639,763,813,609,675,628,182,609,883,805,765,763,867,828,81,704,784,673,892,892,675,765,640,609,627,765,732,628,782,872,765,812,905,782,674,655,101,875,805,763,675,77,50,696,746,609,875,784,664,755,609,675,682,674,765,82,763,600,127,740,730,872,674,674,81,817,866,805,82,63,857,638,892,591,759,825,740,732,816,681,733,875,143,828,771,805,866,858,20,166,867,205,667,817,655,675,784,857,738,763,817,20,675,765,609,817,867,682,638,763,771,732,781,908,674,848,865,675,763,806,127,812,817,685,720,82,695,782,858,740,64,682,875,675,765,640,166,817,811,609,782,716,817,609,217,771,746,609,772,817,741,730,867,674,675,792,782,172,81,81,681,825,872,667,825,828,866,765,771,805,655,875,609,626,892,867,682,765,730,670,895,721,779,771,695,674,673,875,682,867,805,872,784,675,217,20,695,857,52,606,805,818,193,876,674,732,866,695,870,205,782,704,866,872,628,817,755,814,674,274,857,782,682,266,828,621,609,828,609,765,609,695,609,674,675,591,664,771,867,824,675,628,827,814,685,628,675,628,771,655,609,755,232,740,609,82,765,639,828,82,156,609,609,765,217,865,781,166,20,891,675,875,755,664,674,763,883,628,609,628,628,721,609,858,228,867,806,649,695,827,817,703,892,755,273,264,867,613,603,730,763,817,217,638,61,817,786,393,738,817,682,205,811,206,609,817,609,128,611,883,628,703,855,875,609,58,649,755,609,638,703,828,628,637,628,827,609,59,675,88,274,719,789,875,782,855,674,20,875,655,792,742,682,675,653,217,721,811,848,846,627,884,872,670,675,609,908,20,182,609,892,876,867,827,640,759,875,675,867,682,620,817,20,612,640,792,857,817,765,872,782,805,609,38,647,703,828,675,609,756,889,217,638,695,674,803,792,825,703,217,650,626,245,609,653,673,839,878,669,805,765,846,628,608,682,878,641,774,817,771,299,817,156,782,611,892,640,703,615,695,771,832,765,846,817,164,867,765,674,172,892,755,812,846,773,763,628,850,631,771,172,828,194,695,3,20,682,782,765,281,611,784,805,603,875,779,81,858,784,746,892,667,817,740,674,769,682,730,782,909,825,867,674,765,609,783,609,609,674,847,172,876,765,805,828,227,817,609,450,628,674,682,591,673,670,228,869,792,143,876,812,817,828,828,892,817,908,626,817,755,740,675,828,703,228,867,620,763,765,755,782,266,782,740,866,817,867,104,675,791,266,699,827,656,765,763,703,609,828,846,771,183,867,857,655,839,817,827,771,892,88,205,784,628,653,779,655,187,781,667,817,704,609,805,217,64,682,805,874,875,817,875,892,26,671,609,754,793,755,695,609,740,675,866,883,626,763,817,753,609,628,828,640,682,682,817,755,867,850,817,765,738,682,670,763,765,892,228,875,827,656,653,774,805,675,860,781,730,867,740,718,805,771,802,817,774,892,763,883,883,805,20,740,867,719,656,38,763,50,82,821,812,755,817,730,892,695,765,866,828,827,846,609,674,878,699,256,740,792,867,817,684,653,730,874,763,779,755,892,675,817,834,792,609,901,828,765,174,866,674,855,225,640,876,628,805,805,732,609,867,609,655,703,806,833,673,81,875,865,265,26,609,673,784,695,875,792,609,765,228,817,855,266,609,876,828,294,675,675,866,784,675,782,675,763,675,876,784,173,626,805,625,682,763,867,682,656,884,771,782,166,143,638,639,640,858,846,674,817,827,771,817,827,610,828,765,791,872,682,783,813,20,682,866,626,674,817,611,626,781,609,655,609,609,609,626,675,866,836,169,626,675,271,763,855,805,609,746,616,866,675,724,781,655,673,784,858,719,740,866,765,763,867,811,792,720,816,817,609,109,805,33,784,799,675,876,811,609,805,781,172,655,811,58,883,755,266,806,817,892,703,653,260,172,867,892,828,763,675,31,805,746,805,892,612,850,640,843,703,817,740,738,798,670,825,782,609,875,755,883,675,878,825,609,872,792,763,765,763,674,827,817,82,765,628,674,675,867,274,675,732,626,811,782,674,878,609,217,141,673,287,763,714,817,21,626,857,828,845,671,640,771,88,681,805,755,609,793,675,827,817,878,675,812,875,867,20,187,653,675,867,817,733,771,803,805,875,628,227,605,655,109,675,675,732,740,740,675,609,217,892,896,673,828,730,867,626,771,763,628,740,895,609,673,609,875,875,609,878,304,609,78,867,674,771,673,878,832,274,628,817,805,703,655,866,266,792,682,763,719,895,185,759,867,857,866,827,679,696,817,670,832,828,782,824,763,848,771,765,765,673,867,674,784,784,876,609,755,639,896,866,792,781,771,685,806,817,675,827,867,732,828,848,755,656,172,681,609,703,670,695,674,857,628,817,876,759,792,752,265,765,606,655,769,685,805,825,866,674,125,792,275,671,846,730,771,875,814,781,817,653,763,792,695,755,640,733,867,653,858,828,876,857,655,771,719,591,628,763,817,609,682,875,740,674,640,703,765,857,740,695,828,805,655,674,674,746,674,628,867,866,765,712,88,754,866,846,640,875,755,640,873,876,876,827,166,173,643,828,793,591,786,82,217,817,628,591,609,771,769,771,609,185,256,827,806,867,609,828,640,281,817,817,664,883,591,779,855,682,832,674,763,811,825,675,695,20,866,811,806,88,872,755,626,817,799,740,640,875,771,841,805,883,883,682,824,811,805,626,881,861,817,765,20,64,703,805,609,637,867,765,765,609,817,674,641,591,675,695,788,740,814,753,730,675,782,806,655,817,867,674,872,867,765,639,746,763,792,805,867,866,720,638,730,784,876,763,866,855,832,817,825,828,703,792,605,732,653,674,670,674,828,866,609,609,620,834,156,675,817,653,609,841,751,674,867,675,811,895,63,674,674,905,609,782,628,892,609,80,674,682,738,782,649,816,38,740,232,675,789,908,858,875,832,841,81,817,675,609,609,867,817,773,851,866,746,620,755,626,703,650,655,827,867,827,699,765,82,609,782,875,866,655,786,878,825,771,763,866,763,852,675,782,857,674,670,653,805,803,845,628,792,867,817,817,695,730,673,680,232,615,653,792,875,667,740,771,609,817,763,791,876,832,143,763,763,817,682,606,828,663,817,875,805,217,628,626,732,806,675,875,609,609,716,713,866,20,170,765,793,765,874,857,613,828,706,786,763,740,609,682,751,673,675,653,640,763,817,626,682,867,858,878,609,670,883,883,805,718,663,655,670,866,674,765,817,755,874,817,817,862,857,699,699,682,655,753,866,791,817,828,269,897,894,730,839,781,674,817,674,896,628,806,858,740,867,725,781,827,786,817,825,609,674,878,755,828,720,627,609,783,228,628,627,590,857,143,784,809,817,765,185,866,740,827,626,655,611,763,817,763,740,846,771,857,721,682,698,811,732,675,695,771,805,759,266,675,609,606,609,606,878,682,620,706,695,811,667,765,828,875,765,827,866,160,765,746,609,609,609,639,858,674,699,2,740,673,908,765,874,674,876,266,817,805,740,771,695,655,866,874,855,765,675,134,591,675,609,674,640,755,675,828,817,655,675,63,793,817,812,695,674,172,266,874,892,755,609,870,628,740,793,670,771,732,626,605,905,703,828,20,784,628,640,867,609,655,771,609,620,655,846,771,674,806,892,81,765,703,828,628,782,134,755,707,817,710,824,695,828,681,883,277,875,649,671,867,817,609,609,805,792,740,675,136,141,857,867,817,874,609,609,730,609,609,228,597,746,828,671,609,674,48,832,232,817,827,827,710,256,640,611,211,782,721,740,771,695,892,670,674,763,609,227,892,266,144,867,640,597,609,782,609,675,782,782,866,763,876,883,832,782,806,872,799,82,866,828,703,703,878,730,765,872,675,805,787,675,874,674,740,805,828,609,245,703,886,867,867,710,628,867,650,755,787,867,817,892,732,695,879,867,655,670,640,674,857,782,867,896,782,817,839,640,609,56,740,266,811,841,866,828,740,603,224,857,817,609,793,892,606,682,805,792,228,805,626,867,875,228,266,740,675,290,703,817,846,655,875,655,763,740,609,872,144,827,609,655,875,763,640,265,867,771,689,641,817,763,782,828,867,729,609,640,609,682,609,817,892,817,655,600,675,846,609,628,857,825,841,782,817,784,682,652,857,765,674,805,746,784,611,732,752,824,674,782,755,63,817,845,681,765,782,707,792,740,609,883,811,806,819,626,817,194,77,825,88,611,859,805,281,620,740,892,811,768,673,685,256,675,872,266,817,841,827,740,705,281,866,817,609,740,811,754,875,754,673,655,675,719,626,805,689,136,806,82,870,867,884,867,611,620,868,710,867,675,876,827,609,20,883,193,732,827,695,185,828,755,827,674,730,715,811,136,675,866,688,101,763,792,792,741,278,667,892,653,655,609,674,755,817,703,682,876,682,655,867,755,695,703,784,81,867,655,892,825,746,682,682,20,755,682,606,609,265,867,765,896,878,7,22,866,656,811,695,640,258,828,867,674,872,901,827,101,825,792,817,675,732,825,254,703,740,784,828,805,216,615,746,828,703,765,615,817,817,656,730,703,792,682,857,867,703,827,763,606,867,653,695,771,824,867,626,875,675,682,703,817,792,707,675,250,740,763,827,827,166,875,653,825,866,675,609,784,755,866,763,609,703,609,867,166,781,730,50,763,182,732,771,866,609,867,765,643,643,784,763,703,673,609,609,875,784,763,609,784,782,732,814,674,784,609,703,20,782,811,817,782,811,782,653,675,695,763,765,812,746,817,675,217,639,888,705,872,601,825,740,674,825,806,875,274,670,609,628,769,609,647,670,628,784,850,715,875,732,771,673,867,137,743,787,754,757,20,855,857,670,738,670,710,609,675,740,738,832,88,670,675,827,784,875,866,673,185,828,781,817,857,628,606,765,895,675,771,848,811,827,806,771,855,857,874,185,670,857,817,703,591,824,194,606,609,866,828,674,205,141,667,63,867,730,699,786,674,247,682,655,817,755,746,784,695,824,816,892,609,275,746,655,49,656,883,803,674,781,883,740,857,642,674,805,240,628,655,866,620,675,765,763,755,740,730,782,609,101,755,670,265,682,674,746,20,609,609,796,740,706,675,682,904,674,867,755,806,817,695,817,589,817,875,615,763,784,866,707,609,763,893,211,827,655,828,675,639,827,866,160,740,609,784,740,730,850,710,763,867,156,675,609,610,703,740,609,675,609,876,661,763,855,637,290,763,827,875,781,609,628,832,784,908,857,817,824,738,771,872,182,655,626,667,134,792,640,866,858,890,740,863,628,867,177,682,682,720,793,703,675,846,817,50,817,655,792,867,273,673,213,872,655,78,763,763,673,805,782,640,674,20,866,682,890,749,782,732,867,620,769,640,817,755,772,740,897,765,817,765,670,682,755,609,827,775,674,782,765,675,689,626,867,656,817,848,655,609,615,290,857,875,672,119,799,674,740,755,828,765,870,876,867,735,675,895,640,738,682,653,626,720,755,193,710,827,164,817,865,82,782,782,81,695,904,805,824,740,649,803,206,781,695,674,765,875,655,136,670,675,265,812,676,878,757,866,609,640,217,782,682,765,695,639,792,20,675,61,655,866,655,606,846,839,730,61,620,609,185,674,765,277,675,36,771,765,817,792,828,908,609,77,754,855,675,609,782,771,657,765,627,746,211,609,825,866,628,675,655,867,609,674,866,858,609,609,765,816,872,813,609,3,664,655,674,765,674,274,866,875,827,825,874,628,827,81,765,857,817,867,682,812,742,740,674,870,609,811,217,211,824,211,675,875,274,834,609,609,640,740,628,82,828,765,828,771,704,20,782,841,806,806,609,858,799,763,81,857,793,786,755,606,626,817,855,892,740,740,674,640,675,875,628,689,814,703,225,675,817,868,784,638,606,765,792,817,677,675,628,674,674,266,632,827,609,703,817,730,670,51,817,63,628,609,782,740,771,620,674,655,805,828,828,609,136,628,875,751,901,675,765,655,627,695,682,61,884,876,848,892,695,866,720,214,732,671,609,9,782,828,719,875,867,732,172,656,112,653,205,782,640,20,851,698,817,828,674,232,609,675,817,670,730,765,703,380,765,755,674,817,763,816,143,817,828,817,858,774,875,670,866,212,875,765,811,166,184,730,867,754,682,839,609,857,814,759,650,667,866,628,765,811,628,609,857,761,892,876,805,20,867,799,828,674,752,676,674,769,675,266,640,655,875,779,265,653,771,609,857,703,674,82,675,872,828,763,764,673,792,254,782,648,765,783,883,156,867,703,627,784,164,609,765,879,720,753,765,674,771,5,719,640,718,699,670,765,695,675,763,771,857,674,872,674,82,621,166,781,824,225,628,640,817,609,609,806,828,609,640,828,782,883,806,655,674,746,675,671,653,817,784,667,855,20,740,675,682,674,765,655,817,817,763,792,803,38,784,890,692,872,866,784,80,166,730,763,77,675,695,740,675,765,858,589,609,695,655,792,653,765,695,740,828,716,620,704,817,609,753,866,846,693,182,20,784,640,670,212,732,609,866,740,655,765,867,816,765,628,609,763,682,765,886,867,665,675,668,857,792,784,792,782,675,773,732,850,765,674,763,782,675,854,765,640,703,183,740,812,852,56,640,628,867,792,875,609,609,817,609,656,653,674,858,784,274,753,273,670,755,695,817,817,782,609,271,842,813,609,817,673,770,892,771,771,771,609,781,61,740,811,892,850,850,640,675,866,609,771,628,695,653,614,609,609,656,817,609,640,825,828,755,828,828,759,867,825,872,875,771,878,611,763,765,740,763,247,682,682,867,883,609,793,817,806,609,639,874,670,674,806,763,695,701,591,88,609,730,782,274,609,688,772,682,857,740,827,788,782,872,682,172,109,675,846,609,817,674,670,609,883,895,275,682,628,674,771,817,858,900,673,895,628,628,828,775,876,628,217,786,857,656,892,643,792,866,795,675,611,710,601,793,703,616,638,640,763,827,703,740,752,765,755,824,640,674,640,682,675,77,817,763,638,832,747,639,256,805,755,791,782,50,609,825,875,740,673,855,674,804,674,846,166,858,254,730,790,896,812,740,793,875,896,867,638,875,160,675,675,721,675,653,257,828,719,754,883,640,805,675,265,738,825,738,20,806,867,673,740,626,611,674,827,765,832,675,885,732,655,846,793,817,763,653,740,832,765,732,855,703,875,655,857,805,20,628,82,667,817,655,828,746,156,682,746,611,164,620,781,876,609,828,763,703,674,876,675,883,875,765,639,682,266,867,867,817,866,628,682,674,828,782,740,876,817,817,667,842,892,788,721,765,609,673,667,696,80,611,901,866,867,811,805,811,784,872,875,674,905,609,715,782,857,811,674,693,719,740,609,640,805,827,655,878,649,857,615,732,696,857,828,857,867,771,816,812,817,846,675,735,611,290,839,845,675,740,828,784,626,675,763,730,817,603,763,855,759,817,765,805,695,80,707,784,643,895,606,675,828,805,803,675,827,740,667,828,768,793,817,867,867,217,673,675,64,682,765,765,675,675,755,227,763,134,259,674,755,50,695,817,674,792,258,689,892,670,892,875,824,858,609,875,857,609,719,682,803,274,821,827,628,783,674,609,740,647,763,782,793,81,695,88,266,765,817,673,817,673,627,765,626,784,628,628,784,674,832,655,774,860,609,38,670,653,628,828,828,857,866,609,274,817,824,609,829,782,675,875,591,609,771,755,61,817,765,857,59,674,846,765,730,81,789,866,876,609,828,828,827,859,784,217,817,36,828,834,883,784,640,857,867,782,771,817,771,20,609,38,640,675,266,674,20,867,817,274,732,805,892,765,639,674,730,827,716,680,282,225,848,765,609,825,892,866,710,867,872,872,673,674,80,703,817,655,759,772,628,858,675,866,858,669,740,857,867,855,875,718,643,817,839,620,609,765,695,782,828,740,674,609,675,609,682,692,805,771,782,876,675,674,609,867,855,771,626,892,675,628,784,675,892,817,682,811,675,673,679,674,784,655,653,640,867,805,828,875,817,763,828,740,875,805,740,681,275,827,141,784,771,814,892,274,674,792,867,674,674,609,805,626,875,867,740,765,766,626,656,782,857,875,609,682,772,814,876,655,628,867,867,817,832,125,765,817,245,609,805,710,850,792,609,765,240,275,673,817,740,763,609,772,811,889,765,20,653,876,627,855,675,827,609,805,771,828,892,670,793,817,897,817,738,896,846,754,832,811,817,609,754,765,765,650,867,817,771,828,732,682,609,892,609,832,792,673,866,626,101,827,792,738,850,591,763,640,828,682,901,746,867,682,703,857,763,609,872,620,827,675,673,771,655,817,640,628,738,730,865,781,773,765,609,765,857,228,817,21,789,817,697,857,867,211,675,626,653,866,811,875,670,781,497,817,775,682,655,780,257,786,858,866,817,715,682,875,674,675,818,609,782,729,740,675,609,609,609,766,828,612,662,38,825,690,740,867,154,805,667,875,663,828,763,689,828,827,754,765,782,674,741,765,855,240,609,675,674,857,675,755,883,609,674,611,730,80,656,806,670,672,828,609,876,786,859,682,765,875,211,740,674,682,254,609,892,675,792,825,782,740,805,828,740,818,707,266,817,738,792,655,267,183,239,771,866,675,695,817,740,640,265,675,609,81,675,765,682,867,848,746,682,805,763,489,673,781,782,228,740,609,765,643,874,867,95,655,892,817,828,827,817,755,682,670,763,755,661,611,858,656,883,225,682,730,609,695,765,782,876,784,710,640,765,857,674,675,860,870,765,817,827,591,735,876,850,167,674,773,866,867,63,143,771,673,274,763,781,211,609,792,609,675,20,609,740,765,867,851,828,730,765,812,626,708,655,611,792,825,670,738,858,791,689,817,805,792,609,675,609,166,872,214,674,609,655,866,206,655,786,47,779,755,817,626,870,755,610,746,655,682,782,832,185,206,876,817,828,876,673,682,695,670,682,626,855,765,824,755,849,805,48,674,639,779,724,609,609,805,671,867,765,675,274,643,609,640,673,638,671,875,828,828,205,50,825,670,643,832,867,166,851,792,609,77,805,674,685,771,675,765,675,160,636,609,675,609,858,806,636,611,792,740,682,860,818,675,781,675,609,771,805,682,759,883,782,675,828,825,792,175,740,817,755,681,609,609,682,782,866,825,869,703,817,675,674,746,867,842,866,765,828,827,661,205,740,782,217,824,765,817,817,875,817,765,628,20,792,763,812,164,703,765,703,817,649,763,772,763,81,753,609,675,649,642,647,609,765,828,817,609,643,813,609,857,609,892,817,730,895,675,867,673,763,901,875,763,682,63,867,806,746,857,781,811,63,760,609,782,675,606,828,733,858,670,740,675,730,211,848,703,670,655,828,640,653,824,883,746,817,754,857,875,765,855,784,38,755,81,817,817,50,732,883,781,871,609,859,876,656,817,867,878,806,733,740,857,740,817,609,817,867,839,155,765,784,611,675,655,867,883,611,633,792,675,770,738,817,695,857,866,780,655,811,765,867,908,883,674,791,792,771,703,805,609,695,857,164,765,671,817,689,682,609,782,828,615,609,682,695,765,892,817,62,673,626,817,805,812,858,755,892,875,682,805,755,765,178,811,609,828,609,695,876,609,730,825,609,814,811,765,681,866,765,630,765,828,628,730,817,793,771,866,817,609,765,192,609,733,827,813,805,805,782,740,109,609,765,817,825,671,640,38,670,803,675,825,694,817,812,609,734,714,655,609,681,730,813,730,653,692,867,782,674,805,760,901,828,755,781,673,754,670,657,872,781,710,817,875,867,20,655,765,771,875,740,901,640,817,828,653,770,675,656,866,857,675,670,782,609,675,740,781,703,765,771,817,109,637,655,827,817,883,640,771,675,793,695,675,675,640,290,628,889,855,626,20,627,675,674,88,609,655,768,156,784,828,590,867,649,813,855,682,825,763,866,817,695,817,771,872,850,908,883,825,755,738,827,850,817,667,695,832,867,855,656,782,746,653,640,682,640,765,863,640,867,867,682,730,825,732,793,782,827,732,82,109,817,792,828,755,185,740,740,609,820,626,782,611,792,765,166,609,675,256,740,824,738,650,674,675,682,675,811,771,827,892,134,781,896,824,20,111,763,828,670,857,827,792,852,828,828,740,609,812,866,205,779,606,765,217,850,675,703,609,682,784,828,638,817,101,732,872,817,730,805,38,674,674,846,805,857,867,611,872,81,765,755,17,609,674,867,805,640,810,763,703,673,740,817,817,866,674,755,675,827,695,811,670,735,703,682,805,848,681,675,741,771,763,867,892,626,143,640,839,805,875,266,695,628,194,763,805,860,164,673,763,806,695,763,695,81,164,609,763,828,689,846,792,101,805,771,655,875,828,674,867,682,591,613,193,892,908,675,637,771,812,770,755,183,769,740,867,277,850,730,290,674,633,611,675,626,671,839,825,857,674,782,796,655,626,611,740,640,730,664,673,867,814,675,675,832,217,593,622,867,256,674,878,892,249,675,866,675,740,609,858,611,828,866,874,867,834,639,765,675,793,609,892,792,680,654,640,675,627,205,730,611,784,640,878,675,792,763,740,828,640,792,782,811,674,628,817,673,827,609,817,622,832,771,753,732,674,674,785,82,832,241,675,63,771,639,763,883,640,20,867,164,828,827,876,755,792,884,805,876,674,611,875,675,703,872,883,811,658,855,875,674,682,857,782,720,647,673,730,782,609,892,765,640,875,20,609,867,669,771,816,765,609,816,828,806,674,799,755,805,673,674,825,825,805,640,784,601,784,755,765,816,640,655,740,101,763,640,876,603,763,766,217,825,876,824,786,754,892,828,695,866,380,730,603,670,88,866,609,832,866,656,828,811,732,874,755,688,166,738,782,591,609,675,674,667,80,765,693,792,867,867,817,883,164,866,867,875,828,91,817,626,640,846,755,814,817,887,812,765,609,806,765,682,609,656,699,639,703,609,674,655,828,626,765,828,695,813,806,710,806,224,693,827,755,866,872,211,878,682,609,771,649,609,20,765,740,682,626,675,817,746,88,806,772,878,792,763,241,674,682,605,782,817,738,816,609,609,675,758,675,828,817,82,609,828,792,765,217,875,858,673,640,805,20,881,811,876,866,811,772,763,744,653,740,682,632,671,675,680,77,656,640,740,682,628,811,640,166,740,865,639,653,667,673,763,640,817,806,832,628,865,638,615,828,628,740,784,763,816,732,872,77,609,866,846,82,755,825,655,606,677,748,674,763,866,740,782,883,695,628,673,675,763,675,228,725,673,673,740,609,695,703,792,827,755,682,908,640,50,805,784,193,771,675,674,205,265,857,20,878,609,682,875,674,609,765,867,628,817,867,755,50,713,850,732,228,805,609,874,695,670,883,695,857,675,38,673,217,805,765,626,852,797,609,875,765,780,609,609,754,695,675,866,211,670,609,675,872,653,58,211,765,649,866,217,811,20,609,784,673,740,858,806,675,817,730,628,763,166,82,740,667,765,740,609,101,740,781,866,828,738,674,773,857,674,611,755,817,904,892,675,828,828,740,746,609,640,695,682,828,682,134,817,816,639,832,670,620,626,817,609,817,827,703,896,765,817,890,605,670,776,675,20,755,858,695,803,848,703,895,266,603,633,609,765,806,710,655,829,771,674,626,675,811,805,870,671,774,706,776,673,609,771,674,640,227,827,640,857,656,876,883,827,3,828,682,780,82,674,609,635,50,828,765,626,674,640,878,732,825,628,695,875,893,792,771,695,892,784,670,675,742,857,609,718,703,827,866,806,857,763,874,674,707,892,892,675,867,752,225,655,784,792,740,817,846,828,817,806,817,225,740,695,908,650,817,828,609,828,703,185,682,675,622,754,808,771,156,771,146,883,642,763,636,872,730,591,827,771,609,675,20,740,675,817,740,234,732,825,675,875,643,695,878,817,164,858,640,673,675,265,751,813,866,591,695,640,817,740,624,806,765,693,675,827,763,817,817,682,782,304,14,763,763,817,640,809,793,143,740,655,732,905,755,805,63,876,656,682,846,742,609,609,703,673,806,805,817,866,50,832,827,896,636,765,628,609,805,792,695,857,866,763,784,791,771,855,803,765,874,784,807,867,874,883,81,703,771,817,667,755,609,759,627,228,763,674,866,609,628,805,765,695,591,865,628,866,785,609,765,867,827,628,217,639,867,765,254,792,674,159,81,653,695,675,784,695,609,817,828,621,784,805,655,609,655,857,650,763,655,892,773,3,730,813,620,675,217,688,729,671,675,755,805,866,675,609,805,867,674,670,867,872,740,892,172,781,857,878,265,814,626,805,765,765,589,682,710,738,765,675,675,765,876,782,682,738,811,730,763,805,784,609,675,866,166,765,134,732,867,682,824,805,763,892,689,878,609,892,872,875,867,636,50,867,883,867,832,866,628,38,609,816,848,879,82,626,611,675,866,805,702,895,134,740,755,814,813,907,655,771,703,811,828,692,611,164,866,166,824,896,655,609,655,682,817,827,895,655,817,609,846,813,805,603,740,667,156,674,784,609,829,703,827,641,183,611,782,655,640,805,655,772,782,266,765,817,774,675,832,817,20,740,867,170,771,609,765,872,908,784,765,855,774,811,872,771,872,674,828,682,169,771,765,609,765,817,771,817,675,861,765,782,642,738,639,846,643,781,38,61,600,817,609,811,875,674,754,746,867,3,763,866,636,703,817,653,674,591,825,771,857,817,892,256,858,655,703,846,667,771,805,640,752,752,827,609,597,782,732,674,611,609,653,213,166,667,883,817,793,782,638,878,814,306,806,740,806,164,842,765,817,641,765,832,784,866,828,805,763,36,81,857,730,892,609,674,828,673,143,892,897,695,876,828,710,817,866,674,872,674,811,673,817,656,814,776,848,730,256,816,36,695,675,805,876,245,166,755,755,866,858,673,674,861,763,878,655,763,730,695,101,782,817,20,674,20,763,213,828,857,774,815,703,782,755,817,846,730,805,639,63,883,609,274,675,793,740,765,628,792,674,769,786,674,828,832,875,674,740,628,771,817,771,653,682,860,674,892,875,781,872,655,848,869,805,874,673,655,839,698,866,609,608,673,828,667,781,674,675,875,867,674,609,817,732,857,817,738,699,770,774,710,754,858,674,675,81,867,771,675,675,832,765,817,628,609,825,859,603,82,674,782,88,185,763,782,805,846,137,908,858,818,674,765,102,609,867,240,758,765,760,695,867,878,740,858,763,716,675,134,695,38,609,707,875,766,759,740,609,82,609,609,784,857,636,763,609,36,681,655,792,675,670,755,675,249,675,675,771,763,787,782,673,765,740,784,675,878,695,771,673,894,638,655,730,703,609,740,874,675,609,875,878,695,695,782,901,703,852,675,892,896,738,763,763,817,674,775,792,655,609,740,828,682,626,828,655,682,828,846,609,867,892,782,784,813,866,817,626,892,673,63,620,870,769,61,876,875,80,628,695,788,806,828,682,817,867,857,817,626,784,740,20,782,867,294,81,281,670,730,166,839,755,846,266,609,763,710,281,817,675,626,848,754,144,740,817,781,816,740,866,193,860,839,655,805,782,661,825,695,827,675,695,793,740,751,480,763,703,63,674,258,867,817,674,730,166,867,640,875,609,628,609,615,793,828,857,773,872,609,760,765,609,867,633,682,682,640,782,634,290,817,611,866,689,792,674,857,640,628,874,609,732,781,817,134,380,793,782,759,609,765,609,661,867,609,817,828,703,655,609,805,831,164,895,695,682,740,609,266,755,909,839,867,870,82,20,656,812,855,657,765,866,136,643,875,782,628,674,675,828,294,878,828,872,609,611,765,675,876,649,82,656,740,867,792,703,626,868,166,265,290,695,609,792,675,695,217,675,597,611,740,682,846,817,876,633,805,626,857,710,792,782,730,781,640,817,763,793,628,628,905,754,859,784,867,703,771,670,740,609,609,867,816,638,670,675,609,609,867,609,865,701,628,737,892,64,675,876,640,674,824,817,817,628,781,640,828,866,650,786,603,875,732,827,857,682,655,866,609,714,841,896,755,774,695,673,765,755,670,758,164,890,597,675,857,841,673,81,892,640,832,805,867,732,674,782,655,682,703,695,609,655,771,849,703,858,732,765,88,813,50,749,867,763,867,600,827,738,609,227,703,732,887,857,785,755,653,876,675,609,703,675,281,782,164,63,703,609,805,740,765,765,812,782,867,765,63,675,765,82,805,784,817,740,655,609,805,609,675,20,681,763,867,703,266,695,640,754,771,774,730,908,732,771,695,674,206,180,290,867,874,817,674,793,828,850,682,875,682,649,20,652,627,817,628,817,674,609,828,786,609,754,907,609,674,874,217,817,710,628,88,615,63,673,611,670,22,765,20,675,675,855,675,771,812,817,765,740,609,817,640,746,874,782,883,782,205,674,784,765,828,675,763,638,265,667,755,883,793,740,805,866,682,675,615,609,674,655,765,275,682,858,699,784,88,609,784,817,746,740,817,675,763,747,738,786,784,755,828,763,674,816,740,639,866,850,782,894,720,883,682,771,674,846,609,818,675,653,164,784,703,639,765,609,867,290,813,883,674,628,656,675,741,714,735,730,740,609,828,803,606,811,740,839,740,874,716,763,692,628,626,695,817,20,655,682,655,290,817,628,765,763,866,817,828,817,674,91,609,271,166,867,814,675,805,675,20,639,673,732,609,855,772,675,20,674,740,730,793,655,723,857,763,771,755,771,817,857,857,875,874,216,643,656,792,640,817,682,805,805,674,832,655,673,817,740,878,686,674,817,663,883,174,883,828,699,674,792,670,673,636,628,611,782,655,217,817,771,603,674,792,101,675,828,675,875,740,763,857,873,875,817,675,859,609,765,875,857,765,876,74,730,740,710,703,846,817,875,867,247,640,875,875,653,740,606,695,792,839,786,730,682,883,740,125,626,675,867,674,782,878,655,695,755,689,626,82,673,827,265,741,640,857,674,650,675,675,667,895,782,719,674,892,206,640,797,639,866,626,817,817,817,827,609,740,82,714,682,80,765,816,818,674,675,765,892,674,674,655,611,765,850,609,824,828,774,695,80,703,265,895,667,656,673,867,862,805,670,730,855,805,765,612,765,609,771,655,763,609,26,771,842,792,857,628,846,746,889,875,755,782,649,874,732,857,674,193,817,805,866,878,867,763,763,902,858,771,655,675,782,695,702,36,81,655,861,673,763,609,828,673,628,828,811,653,20,855,732,763,674,855,605,639,862,875,857,674,703,674,805,730,670,832,732,792,742,703,674,792,776,674,876,638,814,771,870,786,620,875,591,860,81,828,827,763,792,20,848,755,781,609,866,667,786,673,626,673,855,784,822,843,828,771,183,825,784,867,609,740,656,754,609,765,640,784,763,655,817,677,653,774,675,703,609,673,771,740,626,857,805,166,696,896,812,156,609,609,266,655,81,682,266,160,828,82,211,878,675,817,670,640,698,740,872,609,609,732,744,640,771,805,614,628,655,673,638,655,767,817,828,817,730,609,611,164,763,675,213,782,771,763,817,609,765,828,675,812,606,874,866,765,782,765,655,673,628,828,883,675,857,867,609,641,609,682,606,792,805,867,609,674,857,765,634,81,827,867,864,867,771,609,609,217,824,806,765,866,26,875,656,643,792,872,274,156,765,817,682,81,640,807,771,867,828,765,638,781,792,824,765,655,828,867,793,50,867,674,817,784,634,81,765,740,813,827,609,241,609,867,674,806,781,609,228,730,674,695,828,771,740,674,765,703,695,771,675,828,817,876,609,765,805,817,817,639,682,695,875,875,740,228,782,805,609,655,814,675,228,763,655,782,591,828,875,655,792,765,866,740,71,755,895,628,817,660,828,805,771,866,759,674,833,674,675,841,682,591,805,217,827,781,749,828,827,609,866,640,817,828,765,825,719,773,875,696,746,609,675,867,754,653,245,674,640,740,816,817,782,674,675,867,609,639,609,80,695,628,866,730,721,758,817,20,675,867,191,733,640,805,812,256,606,817,771,816,784,695,782,265,812,817,782,609,850,609,703,611,811,765,609,609,674,612,695,609,883,654,827,740,738,703,763,855,593,166,675,763,682,825,812,875,682,740,609,771,675,695,217,695,266,675,858,674,640,811,866,873,641,883,817,875,606,857,865,771,63,611,682,875,674,172,682,609,609,792,695,628,227,640,692,827,609,771,609,824,670,609,811,763,805,606,673,609,675,713,591,695,640,796,22,225,730,609,682,868,239,746,730,675,631,703,606,817,894,843,661,811,143,828,675,817,805,828,628,842,705,703,812,675,782,782,609,782,611,825,773,157,653,740,866,681,695,895,817,200,730,609,771,716,674,754,857,172,883,784,609,732,655,867,782,228,828,611,695,670,20,732,628,763,613,674,867,876,703,875,164,892,817,721,892,185,866,740,673,867,611,755,655,771,850,817,82,777,828,730,675,839,782,695,771,38,675,661,828,697,817,824,792,670,610,611,773,866,101,763,793,648,655,672,628,817,883,674,784,765,838,639,765,867,859,875,628,828,875,628,763,765,609,817,867,609,732,628,164,792,817,609,852,670,740,655,857,675,674,832,689,811,817,867,640,674,866,857,638,682,765,609,136,755,640,78,866,732,817,866,813,827,609,609,875,609,627,805,609,755,813,710,699,290,763,746,866,682,792,806,771,839,828,609,816,615,20,681,732,828,828,782,828,667,740,872,858,626,20,782,763,682,101,857,811,853,763,817,628,867,765,757,639,682,304,38,639,857,805,649,828,723,675,628,805,673,828,817,628,874,703,681,682,609,664,875,805,674,718,609,765,817,782,725,591,817,695,232,183,143,753,290,628,640,609,817,730,609,217,817,876,81,763,806,755,217,784,81,782,20,673,609,792,867,875,675,828,20,767,655,825,655,628,738,81,824,208,817,892,867,626,629,817,673,656,867,63,611,675,735,101,828,663,765,82,740,626,88,765,755,627,609,846,765,765,805,730,867,703,609,682,717,609,674,675,655,816,675,640,817,675,765,746,817,783,783,670,849,608,36,682,620,892,805,828,784,740,640,899,611,655,791,670,811,848,685,817,611,765,675,818,638,674,782,817,784,825,763,164,767,609,164,674,855,828,765,655,867,609,890,738,606,611,832,20,792,771,875,655,892,828,730,670,817,782,673,817,763,609,217,626,703,763,896,611,628,675,14,866,667,779,682,813,878,763,703,675,809,699,812,858,20,816,674,141,805,674,765,740,675,653,823,628,895,609,185,784,834,657,805,818,827,738,649,910,866,825,827,166,640,811,805,615,699,806,784,817,703,866,609,212,675,846,609,786,755,185,784,274,796,825,609,675,771,828,817,609,675,883,609,703,670,143,883,792,81,763,695,655,857,609,771,860,740,832,763,805,793,817,827,628,639,846,655,782,811,876,866,675,867,611,805,609,640,682,782,609,892,806,738,765,771,817,828,812,675,867,82,812,730,674,682,653,611,156,805,792,813,817,771,695,763,675,816,682,694,872,656,701,765,740,866,791,738,817,707,806,609,763,675,674,746,828,825,829,611,609,875,817,755,674,845,627,609,740,675,674,626,782,675,843,591,857,281,628,806,164,805,811,771,817,828,88,793,867,609,792,591,22,828,755,817,57,639,825,628,730,628,695,640,866,828,673,828,765,755,878,134,596,878,615,674,763,824,609,817,640,639,892,655,889,827,675,763,609,642,626,812,892,765,628,828,675,782,740,703,81,872,674,771,655,792,782,889,832,638,857,817,832,166,784,674,732,875,809,738,768,20,855,782,732,765,866,675,655,715,695,695,775,832,674,626,828,805,63,832,740,740,741,274,769,866,640,765,657,609,825,675,662,655,827,781,740,763,874,828,675,857,765,637,765,892,695,792,773,846,82,878,867,609,640,675,827,755,674,787,872,763,738,674,827,674,675,774,675,609,50,681,866,20,817,172,817,765,805,827,141,688,674,674,671,364,784,816,858,615,846,828,817,872,765,755,805,640,205,866,876,674,639,271,875,774,682,128,867,771,763,867,828,294,591,673,817,782,892,857,818,828,82,824,609,755,643,675,193,695,615,738,757,906,723,875,164,892,857,875,655,765,782,866,733,675,609,695,782,817,673,866,901,719,673,805,31,828,867,626,827,675,784,765,682,817,792,740,874,20,866,653,185,782,609,675,759,695,674,825,643,673,682,228,611,792,609,674,827,782,187,805,306,609,805,675,872,874,866,828,765,817,817,867,674,825,695,876,628,813,703,786,805,857,811,817,753,675,817,674,674,839,884,670,793,666,20,825,864,792,650,695,866,878,896,895,827,811,609,786,793,867,101,740,850,815,763,867,673,682,673,765,872,609,827,655,765,765,675,892,867,875,828,733,38,893,252,302,867,805,784,20,626,609,755,813,105,695,670,828,675,710,281,771,896,765,817,746,682,626,20,763,735,740,675,817,765,784,867,661,866,274,765,675,772,670,597,682,753,628,771,657,682,626,784,753,828,817,653,217,875,788,765,854,876,759,774,817,655,784,266,755,876,80,861,698,20,652,771,703,733,817,667,867,611,857,759,824,832,771,781,763,817,817,675,740,758,792,628,827,765,878,711,857,805,755,765,828,792,730,64,828,695,867,670,203,609,755,653,674,765,857,784,782,866,763,673,792,814,817,740,609,817,811,765,591,740,217,782,675,763,867,277,817,667,805,166,805,638,765,609,805,626,674,817,674,4,719,866,224,641,609,101,867,771,227,878,673,883,738,609,703,740,817,675,675,896,703,817,682,740,846,655,703,781,88,609,867,656,817,628,227,876,667,765,765,81,673,817,640,682,675,866,675,609,626,892,763,675,172,3,892,609,172,872,695,591,817,866,782,20,779,255,894,765,824,675,784,673,80,293,857,673,755,682,857,649,20,765,603,784,827,732,667,620,875,811,275,674,827,609,704,217,609,609,628,827,20,205,626,761,695,738,682,674,20,732,763,817,609,792,639,782,771,648,765,655,865,715,628,134,900,817,50,609,850,88,609,674,805,675,681,704,675,857,895,695,765,872,740,655,656,806,640,656,765,817,675,730,20,609,805,878,685,896,792,740,256,655,609,755,682,828,732,609,771,681,825,667,695,732,765,609,675,878,763,866,782,164,805,817,867,742,816,828,675,609,772,682,817,675,846,828,639,792,699,793,817,876,836,695,763,817,892,611,682,817,719,867,628,80,771,609,609,753,827,781,656,867,655,883,675,674,674,763,740,763,227,20,892,674,883,872,811,828,674,640,695,682,759,716,733,675,675,640,895,755,609,827,740,609,609,675,738,874,639,628,867,763,844,143,682,156,674,765,655,908,740,628,828,695,740,183,859,675,892,609,738,892,703,155,857,763,682,730,892,805,878,673,695,781,740,782,817,828,763,867,892,771,746,628,867,771,827,848,753,626,875,769,817,784,673,703,817,805,857,827,827,765,156,862,740,674,611,817,848,855,784,875,609,703,794,589,628,817,825,609,673,609,866,828,661,656,609,825,655,806,740,782,892,609,817,765,782,824,20,274,763,817,832,655,674,674,211,766,675,675,784,655,675,627,857,784,77,771,828,674,101,675,766,782,817,637,609,653,675,880,765,765,675,719,817,892,695,759,876,740,730,81,771,814,782,857,883,239,754,866,825,817,609,640,763,673,832,817,281,883,793,682,765,628,740,695,828,674,753,670,754,675,786,772,855,740,817,765,611,77,675,713,674,765,228,674,765,866,611,765,771,759,609,817,655,670,730,609,611,857,765,765,82,609,771,818,784,700,825,817,828,609,738,772,609,675,703,609,809,763,653,626,828,805,77,763,763,674,675,691,770,895,740,674,818,817,730,670,867,867,763,628,774,640,824,825,609,875,695,661,81,892,50,609,771,848,771,638,763,782,205,703,746,866,740,892,628,828,786,615,674,738,828,738,763,857,290,674,817,825,674,740,765,611,609,858,609,765,852,867,617,763,206,827,166,755,827,806,771,805,695,883,806,771,817,842,865,782,625,875,883,228,817,655,674,827,892,806,674,143,817,817,814,828,674,628,755,827,817,703,655,732,875,673,784,889,772,719,874,183,628,693,615,846,695,740,640,746,782,643,866,673,867,782,628,855,673,640,609,738,20,609,765,878,611,805,893,765,905,866,698,817,765,781,865,730,809,675,224,806,782,609,730,628,817,817,892,817,730,671,77,763,628,703,875,805,675,212,865,904,817,653,695,682,872,640,828,763,817,675,895,793,751,781,867,703,817,77,878,616,878,867,609,805,805,827,765,876,817,867,675,765,781,769,611,755,817,609,817,876,740,812,817,782,609,2,848,682,875,857,599,817,609,746,88,674,664,738,628,632,187,883,609,867,892,732,674,846,883,695,626,185,813,782,792,846,817,609,148,627,771,811,639,609,817,82,639,265,781,866,746,609,738,866,746,763,878,787,842,842,828,626,783,805,802,827,817,828,648,674,765,675,817,771,274,817,876,104,675,639,618,609,883,670,792,675,143,675,609,20,738,872,875,805,806,872,817,655,755,730,866,164,874,811,784,675,670,789,80,828,730,609,38,628,682,817,763,857,765,655,60,740,799,782,817,782,771,867,866,817,841,755,591,793,875,675,597,703,792,633,867,675,828,867,765,784,609,611,858,273,675,855,875,628,611,865,881,611,685,817,817,640,561,825,740,817,867,134,675,782,774,695,805,609,817,784,274,609,738,817,755,817,675,813,674,609,172,817,675,792,883,648,655,228,609,817,857,733,746,892,817,814,834,675,765,640,846,81,670,789,609,876,703,803,828,875,828,824,755,771,784,3,591,609,784,655,639,673,649,799,650,609,828,88,782,653,734,828,675,674,832,792,805,863,609,655,855,811,216,682,829,763,101,774,892,682,875,850,740,883,277,674,674,872,872,866,875,817,667,675,730,795,867,803,217,792,609,755,755,828,817,908,765,626,765,765,839,825,734,892,636,738,670,675,817,857,763,857,675,814,609,626,812,825,755,626,807,636,609,874,793,740,784,765,883,784,765,667,679,703,817,675,867,860,31,609,82,185,640,675,38,755,867,675,875,749,164,763,673,88,782,793,867,782,755,817,779,675,600,832,892,675,703,817,765,36,88,216,695,735,853,740,655,771,695,867,771,675,609,695,763,682,695,818,695,273,604,829,82,763,817,836,784,740,611,857,866,740,166,628,292,828,817,615,763,597,609,763,896,755,675,640,639,755,675,875,675,817,765,824,858,183,867,765,290,763,857,814,763,109,609,806,817,828,806,866,866,626,649,773,609,653,738,609,675,64,824,765,866,817,771,817,857,681,451,808,895,732,730,828,765,746,770,640,763,20,81,682,609,828,265,640,716,763,217,842,164,655,867,784,875,855,866,609,793,866,755,765,227,609,817,763,862,763,763,824,703,765,782,850,675,817,675,872,626,109,858,217,826,746,817,857,753,609,643,655,813,656,673,738,883,674,655,675,674,828,793,824,626,753,765,827,611,275,670,609,867,673,730,609,675,640,227,896,792,673,606,905,609,615,740,828,781,817,765,674,81,674,799,875,639,857,846,857,852,730,883,628,63,846,782,675,883,675,674,782,266,883,713,649,703,896,636,738,771,628,740,832,770,609,872,628,217,675,670,867,817,817,609,866,746,755,755,609,828,867,867,730,81,673,883,827,109,817,754,682,82,609,852,784,695,827,828,817,721,818,730,674,609,640,813,674,653,714,80,655,674,626,670,688,790,867,740,732,792,852,765,817,228,674,638,628,695,811,674,827,867,792,675,866,143,909,655,80,655,867,740,859,625,763,771,224,781,817,695,696,675,674,740,675,675,828,866,609,682,673,848,670,673,807,806,609,782,609,763,763,817,674,673,655,827,812,628,740,164,803,792,628,675,901,682,675,812,792,867,721,841,703,890,724,792,824,609,765,695,628,277,784,860,640,738,738,682,832,719,656,695,765,721,846,695,656,609,817,755,703,730,817,258,858,655,780,674,817,805,855,817,792,765,703,763,640,611,883,765,763,217,622,883,817,740,781,755,674,732,715,805,82,639,655,274,265,640,715,827,867,846,782,606,892,875,765,828,875,792,730,695,828,609,674,802,813,755,675,611,817,771,765,639,827,867,817,876,675,814,752,765,682,867,859,857,817,828,674,143,667,740,626,491,892,609,805,771,817,828,905,817,817,653,805,674,675,703,857,675,869,817,876,174,82,755,802,730,752,817,755,817,784,653,872,782,867,848,193,859,782,675,674,675,782,878,655,674,609,832,875,209,3,755,609,876,897,628,746,611,653,711,732,615,701,765,628,892,673,628,866,765,741,661,805,792,805,609,827,828,816,628,675,192,784,895,846,781,792,674,653,771,763,738,817,265,805,784,611,817,675,674,609,738,650,675,703,609,809,781,876,890,740,628,702,859,609,674,781,806,825,754,627,670,782,670,701,609,866,703,609,763,696,609,805,763,647,667,765,817,674,20,876,782,857,674,675,670,682,843,673,754,865,38,755,875,866,866,703,875,817,871,655,858,609,771,730,866,740,609,846,872,862,827,874,600,793,817,832,867,141,817,628,765,83,721,817,814,789,867,626,817,732,187,867,625,640,765,817,721,609,671,858,805,825,782,867,603,792,765,682,784,682,675,782,626,806,609,257,771,857,734,875,703,710,805,227,867,609,828,867,703,674,670,817,872,763,793,759,606,755,766,675,812,673,597,908,741,675,740,611,682,674,682,867,763,609,82,784,883,227,832,675,817,609,771,814,134,827,20,836,817,883,883,828,784,883,674,828,782,673,626,754,755,670,26,771,205,611,867,622,655,866,655,878,740,855,609,627,867,792,716,875,710,166,206,782,866,732,858,754,682,805,878,827,653,827,875,670,183,875,817,878,1,609,675,805,675,655,875,855,892,867,695,828,857,875,640,765,830,703,217,763,166,817,817,626,763,116,609,640,640,865,817,609,806,867,827,805,741,656,141,805,675,817,730,872,738,640,698,755,866,641,866,792,796,763,896,703,674,765,730,892,740,817,36,50,827,827,674,740,609,740,609,740,765,78,143,275,828,818,784,763,817,875,765,817,609,782,771,670,622,675,781,846,817,256,793,782,182,866,784,194,695,675,759,755,710,640,740,867,101,609,611,628,675,156,765,609,653,796,740,740,675,695,674,609,671,695,673,836,892,670,670,611,875,628,763,609,878,692,825,695,883,274,866,649,274,896,867,695,741,639,850,609,817,866,782,867,622,817,782,817,675,817,784,655,740,883,897,755,782,763,827,606,609,677,673,850,814,606,865,675,763,866,675,609,792,817,609,782,763,738,609,740,752,591,824,609,866,656,609,755,36,675,832,763,675,143,855,817,765,695,792,182,754,274,805,857,628,675,759,63,763,682,738,781,148,675,765,609,782,675,782,615,730,697,763,792,817,763,855,675,655,682,637,799,812,876,673,675,682,875,866,814,609,682,597,817,628,740,850,217,753,710,858,673,611,834,609,682,703,638,609,782,883,217,740,817,740,39,765,628,609,666,875,741,812,901,759,875,705,609,817,640,872,217,846,817,205,832,792,771,868,638,81,609,771,640,763,232,784,609,763,753,784,812,703,677,786,866,867,763,183,740,892,867,765,883,759,763,866,777,609,228,673,858,763,805,655,695,811,860,674,611,682,670,892,667,793,20,883,650,609,773,667,645,771,866,615,609,682,806,649,674,846,675,740,703,705,695,784,640,723,639,183,782,895,703,695,828,682,763,817,639,740,675,817,628,254,674,675,827,817,867,817,236,789,755,122,805,811,793,730,763,626,628,655,675,817,892,828,857,763,638,633,673,806,740,803,699,649,738,20,828,675,867,80,721,609,674,675,805,805,765,813,673,675,792,875,20,609,695,730,779,771,671,866,773,88,773,674,763,609,758,901,782,792,228,874,827,887,609,805,765,828,271,615,689,703,675,740,827,675,765,827,670,664,256,674,640,720,867,771,674,673,825,675,63,875,746,782,738,667,670,765,875,609,626,832,77,772,773,828,640,166,591,642,892,858,784,265,817,817,668,827,740,828,265,695,675,755,792,878,591,782,730,216,217,631,828,781,740,817,784,640,771,609,781,825,653,673,876,811,608,784,779,829,793,866,695,595,812,682,789,746,805,217,740,867,763,809,784,740,732,865,817,867,784,754,650,674,670,20,866,698,674,828,606,858,667,682,755,875,609,817,812,227,901,46,609,674,628,765,765,867,806,765,832,755,638,765,872,657,640,883,268,765,806,765,609,792,782,80,653,217,698,740,816,817,817,805,867,770,803,793,872,817,893,655,765,707,674,101,812,866,817,682,609,609,708,640,695,828,827,609,197,765,655,695,878,754,667,817,771,38,605,82,872,858,24,883,755,765,166,805,82,765,609,136,172,866,892,740,674,609,765,832,674,763,828,38,733,754,95,640,892,773,765,866,609,784,765,901,765,740,675,765,857,673,850,753,609,792,828,825,673,867,892,755,732,228,143,828,782,857,703,740,640,674,605,892,732,883,205,670,730,842,695,271,682,682,63,781,805,20,63,846,765,61,765,771,631,606,82,600,682,817,733,640,817,866,628,872,765,784,682,290,738,880,751,892,682,814,682,758,828,784,673,784,792,674,703,856,866,609,20,855,817,183,673,805,781,675,817,763,846,740,183,655,817,675,855,740,792,730,674,674,733,20,805,673,813,806,878,805,867,901,656,875,872,740,866,765,205,827,88,817,816,682,765,867,817,22,166,609,817,290,166,866,674,839,620,609,828,609,793,759,817,682,892,661,674,805,740,609,817,814,832,817,796,628,797,827,38,640,814,817,874,867,828,20,875,786,715,290,682,609,675,872,675,782,662,846,38,148,667,827,908,50,612,817,816,740,827,61,763,675,867,609,809,876,771,682,806,759,82,875,846,805,771,883,765,828,771,827,878,675,682,611,841,740,817,609,779,771,832,641,867,765,636,755,763,682,763,805,755,766,852,656,606,183,740,817,698,675,755,828,765,609,839,765,875,772,796,763,591,670,782,765,806,875,640,755,805,828,812,771,81,674,740,674,867,266,705,609,771,867,827,681,779,857,813,857,695,655,703,763,805,609,740,675,742,738,746,601,876,275,824,825,64,673,805,842,875,763,755,266,628,609,740,740,763,755,828,811,828,681,609,732,771,703,828,781,754,628,674,765,771,689,740,881,609,685,78,774,609,649,751,101,674,50,682,640,682,867,765,763,825,658,740,855,866,682,95,803,126,643,793,609,675,866,695,771,828,256,763,740,817,805,638,205,811,675,793,805,740,872,817,746,652,277,782,656,883,732,692,746,730,793,817,763,825,765,87,763,674,804,872,695,848,817,867,763,792,609,817,628,828,753,784,866,81,689,674,782,908,673,628,857,628,878,784,596,611,765,740,805,857,675,684,817,763,759,638,682,765,609,674,609,674,881,827,817,675,695,817,675,655,682,639,771,825,758,822,730,626,784,771,710,812,846,730,182,621,636,217,675,740,895,784,765,20,771,876,867,866,867,740,628,826,846,876,682,896,765,591,765,867,828,755,784,733,788,828,740,765,628,628,695,765,825,609,867,720,755,874,782,663,765,858,675,740,817,682,682,859,824,673,817,874,674,695,782,817,609,36,673,628,908,194,673,609,878,857,857,866,828,675,825,609,703,656,675,817,825,627,609,811,771,892,771,855,164,875,611,609,793,761,828,730,765,674,670,825,782,769,896,870,730,670,653,609,674,784,817,609,817,828,857,740,875,670,609,828,755,708,703,866,866,674,758,699,874,765,626,839,640,675,670,695,828,609,673,805,661,839,674,765,695,876,825,609,771,695,670,656,805,755,827,628,825,703,784,655,771,609,817,740,720,738,640,892,765,892,872,675,740,765,304,754,866,609,695,730,611,765,858,817,896,765,878,817,740,817,867,718,99,792,786,679,674,875,675,771,274,675,225,754,655,695,817,675,675,718,609,692,765,782,892,875,875,792,609,866,609,217,719,765,86,828,628,805,763,655,802,786,615,782,627,738,784,771,166,703,638,817,817,846,755,674,841,609,784,640,755,740,193,670,867,710,670,867,827,755,164,655,228,856,674,793,825,653,825,883,609,817,875,274,867,876,622,675,857,757,626,274,172,892,675,674,740,765,857,875,828,765,740,875,866,682,675,867,857,655,681,609,809,740,892,697,655,703,763,703,817,640,617,828,866,867,793,867,704,774,763,673,814,765,721,905,782,817,626,695,721,876,817,867,738,228,782,609,827,763,675,217,824,805,655,832,628,650,892,782,740,730,655,713,880,771,874,896,771,828,628,792,867,805,817,674,609,908,609,670,166,817,858,609,832,88,655,827,781,763,695,653,867,896,615,591,811,782,751,839,732,875,164,609,740,771,655,271,874,782,266,212,609,817,906,609,609,206,695,817,755,866,674,779,828,782,827,872,670,732,673,817,675,695,866,857,866,655,781,156,792,817,867,862,867,876,674,609,626,639,875,817,675,266,628,875,675,275,609,892,841,740,183,765,675,63,866,817,765,874,38,805,740,636,674,755,827,771,611,681,682,693,675,49,817,852,771,817,817,675,20,640,591,805,674,805,609,828,805,771,803,156,695,754,832,870,817,769,156,806,867,628,765,674,730,707,611,681,824,609,609,682,740,792,695,653,817,816,782,828,661,814,730,784,862,609,875,674,817,738,805,811,676,256,781,611,695,710,765,673,628,875,621,26,858,674,61,867,763,626,670,675,866,667,848,675,650,828,703,609,817,740,771,811,628,674,626,609,682,782,763,828,735,765,782,675,866,675,627,36,703,675,825,171,765,682,609,695,628,872,740,63,740,48,883,640,755,857,807,876,675,71,806,670,609,771,609,867,805,866,765,675,682,681,81,609,828,655,609,855,20,765,609,609,805,609,609,828,609,740,682,761,866,878,811,763,765,817,846,828,673,655,730,674,217,792,782,857,183,878,670,740,695,653,763,653,156,792,673,638,740,674,609,811,805,836,763,755,817,833,870,828,674,720,765,674,731,901,866,609,857,784,805,673,867,674,655,754,817,817,673,828,828,628,765,675,670,626,817,609,609,655,828,754,892,740,784,858,655,857,857,878,682,273,673,828,817,755,591,883,763,609,759,875,763,672,811,227,786,626,626,675,771,740,738,609,609,827,628,867,732,817,730,609,674,765,842,675,896,793,817,872,866,183,763,609,817,63,675,665,628,875,875,626,609,765,827,675,682,811,771,738,817,872,817,182,748,740,878,857,640,827,811,816,480,846,782,867,782,763,675,859,765,811,763,675,872,878,628,817,682,901,806,636,814,653,626,825,855,866,771,765,740,805,609,867,740,805,675,740,782,692,875,834,817,609,876,827,716,164,806,740,609,857,673,817,784,817,741,674,609,792,217,784,825,217,628,695,805,874,609,799,217,765,827,771,81,866,763,857,609,782,892,682,782,738,828,740,609,675,883,857,621,699,655,673,609,615,828,875,793,805,217,611,674,786,611,609,817,873,609,741,781,857,101,866,681,763,805,628,858,867,817,817,703,867,806,881,667,817,763,675,765,605,640,640,609,673,591,755,828,858,765,217,609,827,735,866,867,867,765,703,217,82,876,653,640,817,792,869,675,228,866,878,765,669,609,765,784,829,828,779,895,655,667,895,601,695,290,755,609,867,687,746,786,793,904,63,682,784,792,828,780,771,674,720,670,817,892,765,653,746,867,765,166,827,765,828,817,703,719,639,765,608,675,781,867,682,859,675,817,673,20,779,675,609,682,655,828,755,817,675,805,874,609,878,781,875,770,828,875,606,740,640,811,825,816,609,703,628,655,817,674,738,765,675,784,271,765,20,855,792,640,910,763,746,805,755,805,854,649,63,765,866,266,675,695,590,626,31,883,875,901,755,640,675,828,675,730,655,746,217,874,674,773,867,663,628,895,859,626,901,609,611,710,695,609,638,765,703,765,792,850,858,805,866,770,855,733,870,771,655,721,185,265,792,828,732,781,824,606,674,857,740,609,800,797,628,793,674,752,740,675,827,609,703,817,166,755,674,792,866,763,828,872,740,609,682,709,655,792,673,640,655,628,609,682,61,656,703,784,765,80,828,628,805,817,755,771,763,867,674,782,675,81,805,832,655,682,782,675,771,727,609,814,763,850,82,597,763,38,22,755,675,609,755,675,824,817,765,765,782,746,825,870,867,857,763,627,805,695,643,675,682,892,878,763,622,848,682,740,765,628,88,732,860,828,88,674,763,828,640,682,609,703,674,828,703,813,609,792,811,814,670,866,628,143,77,883,817,266,217,615,832,257,217,765,784,655,782,825,20,755,277,867,765,609,841,699,730,763,675,655,697,817,732,866,755,88,674,689,866,20,749,817,515,738,628,817,695,720,609,770,675,817,781,61,856,183,871,675,655,673,675,674,609,609,256,628,846,866,609,827,609,609,807,675,896,765,746,833,792,682,812,805,805,638,861,674,857,609,640,674,867,609,817,673,48,156,675,766,689,892,817,817,848,655,763,866,675,256,706,720,857,628,682,784,806,217,826,609,718,217,616,675,655,765,765,609,865,771,674,628,784,265,805,674,763,817,682,817,763,609,190,609,740,811,884,655,805,748,695,783,740,817,626,848,655,609,732,876,817,812,867,674,673,866,675,867,875,675,721,609,806,875,670,866,304,793,806,730,675,816,784,784,612,804,817,771,653,883,828,81,755,609,640,771,755,653,611,809,876,655,653,609,875,609,765,763,827,858,675,638,740,765,609,805,781,782,675,827,817,609,640,747,817,763,867,600,774,638,878,908,640,730,166,695,773,765,811,839,892,793,636,763,827,805,628,817,828,667,609,695,674,805,867,771,814,723,20,667,782,609,805,81,792,639,674,867,611,867,883,172,217,901,817,814,876,682,603,771,765,811,779,817,817,615,675,875,765,608,883,638,875,609,805,609,205,765,655,746,675,832,673,183,740,749,805,883,817,763,603,302,771,740,187,805,681,675,695,674,828,183,827,675,781,194,805,609,817,628,675,628,640,628,868,799,227,656,655,290,695,749,806,605,866,811,755,818,784,766,609,740,606,609,609,609,214,807,674,755,640,740,656,730,674,674,883,274,20,765,786,740,609,817,763,655,609,670,812,817,640,674,290,773,892,828,740,628,857,782,50,787,732,26,817,755,656,763,609,227,143,817,82,609,655,817,706,77,771,755,765,705,653,786,878,670,645,817,746,730,655,20,609,740,674,606,825,765,628,866,858,609,828,740,786,817,852,49,609,858,829,733,674,609,875,773,848,674,227,786,817,640,740,740,682,675,792,609,817,901,682,867,670,765,689,695,858,609,763,848,714,828,828,755,640,674,890,809,637,867,771,811,765,771,164,675,765,784,805,817,806,827,609,609,817,120,782,609,782,875,875,754,143,628,609,828,661,710,763,609,275,824,675,867,828,811,867,782,695,784,883,817,849,824,782,703,866,88,828,174,609,713,817,62,626,796,771,695,274,273,9,653,816,740,805,675,675,655,611,673,858,604,674,805,827,867,609,855,828,647,812,609,675,695,50,784,817,763,50,194,894,866,716,892,817,828,682,82,655,866,674,855,638,876,880,703,805,809,627,754,867,765,817,740,827,800,17,627,867,892,20,628,857,609,655,609,896,609,695,792,695,765,674,857,609,854,875,866,591,628,805,655,806,765,763,765,732,782,814,740,814,897,867,828,695,805,162,655,765,817,755,732,817,58,828,878,825,858,806,609,824,614,639,611,781,217,38,866,217,825,682,765,638,901,866,867,759,724,828,640,695,206,287,674,866,675,88,878,892,655,805,867,720,609,763,674,655,217,730,805,601,609,609,626,782,867,765,628,878,784,82,817,256,217,644,172,643,817,866,609,755,609,609,765,765,670,653,894,675,628,867,828,765,275,866,866,50,817,857,876,609,817,673,858,874,872,664,781,675,675,695,817,653,892,792,265,825,846,828,828,771,828,609,806,876,653,896,792,817,786,770,674,878,848,77,847,782,813,805,668,675,730,703,775,193,866,688,682,61,609,674,855,784,670,674,675,628,827,715,866,827,872,806,578,675,609,824,872,763,817,609,866,695,670,20,609,716,827,682,792,876,755,675,609,682,828,828,675,655,787,682,771,673,730,765,716,609,825,746,740,649,626,205,858,876,828,875,784,746,594,738,846,609,754,674,817,709,867,609,640,805,817,274,682,609,827,872,867,134,715,661,872,896,156,697,870,591,896,732,609,867,674,773,673,643,80,675,817,670,628,710,674,771,740,88,732,703,609,773,824,832,640,674,779,828,675,782,740,626,867,653,835,782,755,805,782,765,789,640,640,182,824,695,622,682,628,817,609,759,626,792,883,817,740,792,640,695,615,265,628,205,675,609,892,792,245,642,734,755,258,846,805,763,82,817,738,714,866,211,674,817,764,841,626,817,82,609,763,4,640,732,703,611,781,852,675,828,674,812,274,675,733,675,765,824,828,784,703,866,866,763,763,609,682,655,640,876,675,609,609,792,628,875,841,848,805,814,656,695,656,872,632,763,649,867,825,682,878,817,782,782,857,682,606,640,689,866,703,627,771,867,763,763,82,857,817,675,817,803,878,609,609,609,818,682,739,667,732,832,655,883,817,682,858,816,134,148,682,185,765,670,817,675,675,626,828,769,755,763,763,763,765,867,609,782,740,765,886,883,685,817,786,892,703,591,817,765,817,19,875,719,228,817,713,224,675,784,217,857,682,782,817,771,765,655,693,892,675,741,867,703,655,817,675,675,755,817,857,608,62,892,814,746,763,765,655,206,857,603,20,109,609,883,874,867,85,650,640,866,905,825,380,661,892,784,609,695,740,867,765,817,817,716,883,670,675,675,675,806,817,763,673,765,682,758,763,866,738,858,755,640,793,675,817,755,81,697,755,867,793,763,674,205,817,609,656,682,640,817,740,655,875,765,628,817,675,682,675,763,755,806,765,667,695,806,674,695,609,763,782,825,792,876,628,20,675,825,675,859,792,609,650,867,626,866,649,892,755,38,867,793,771,866,867,771,892,867,828,675,626,628,765,609,190,875,609,806,773,763,875,805,628,867,825,875,675,782,867,609,817,661,892,183,628,707,674,855,792,858,628,703,640,772,707,609,817,611,656,791,782,48,817,628,675,656,828,166,609,765,48,254,673,699,740,609,867,249,805,713,792,876,675,817,674,883,625,784,591,675,842,675,817,892,703,828,695,792,883,675,80,755,655,628,765,765,793,732,609,814,609,771,817,655,606,878,640,791,247,878,793,675,674,265,811,214,759,817,883,633,874,730,626,763,814,866,675,638,908,609,872,755,675,609,673,765,765,817,206,609,784,771,817,817,609,817,783,841,861,749,763,681,609,740,781,857,609,874,155,675,792,858,782,878,867,782,792,772,865,755,859,626,615,856,771,606,765,674,867,846,765,867,846,876,805,765,855,609,674,682,793,875,713,674,828,622,817,892,609,674,754,740,782,765,628,803,80,784,674,857,20,805,615,817,812,609,765,709,872,609,732,782,639,817,609,673,828,689,828,609,740,682,640,755,609,695,771,265,292,875,630,828,765,228,611,781,653,817,850,782,763,101,88,782,674,792,640,732,832,674,730,817,828,628,793,674,682,842,771,855,609,638,755,674,805,603,640,817,771,740,675,817,878,812,675,817,792,827,852,606,740,740,765,792,682,828,609,817,640,703,732,817,650,609,670,817,695,620,172,817,653,730,875,655,695,765,609,695,695,711,828,609,730,855,267,875,730,825,908,675,626,172,82,824,695,82,828,866,765,674,812,867,203,640,655,828,827,791,738,620,817,609,763,702,889,675,682,872,77,715,68,674,609,609,673,698,766,617,816,682,88,609,695,779,755,732,741,828,811,805,675,647,682,732,765,827,846,817,867,639,792,857,674,695,765,624,38,791,771,719,792,225,817,174,172,615,627,784,740,193,156,817,674,817,682,723,784,817,765,682,730,771,782,280,827,80,733,653,771,784,655,765,857,20,749,765,892,883,682,867,817,609,765,101,825,871,609,622,811,674,609,609,832,817,771,609,875,217,792,81,782,771,782,674,228,765,705,682,878,765,655,609,609,875,205,674,101,591,828,591,675,674,786,591,674,797,795,817,730,781,765,674,675,673,682,667,832,755,850,763,771,609,260,609,141,721,763,789,663,636,212,817,609,763,695,609,225,682,695,719,765,755,692,628,380,20,852,828,703,674,655,109,695,81,867,827,640,640,615,857,655,703,31,828,674,806,817,695,655,805,266,50,274,792,765,782,763,675,628,695,730,812,661,627,50,628,664,245,740,38,675,78,792,792,639,763,715,878,674,858,674,749,817,804,754,866,638,82,866,875,183,695,240,703,274,740,681,828,674,81,609,908,785,811,892,828,782,765,640,225,763,606,771,834,673,817,824,763,670,876,290,765,817,733,872,825,806,674,82,824,675,674,609,649,811,857,138,675,858,842,828,674,763,626,875,763,841,717,814,793,889,828,848,609,675,763,674,763,740,20,763,846,872,82,674,591,824,695,740,9,763,689,878,812,380,784,908,675,611,674,82,626,765,765,689,817,675,675,265,765,682,609,866,828,872,730,611,682,172,791,883,674,763,892,740,828,763,682,755,858,765,740,878,706,620,682,640,763,763,817,80,829,765,805,141,811,612,628,817,141,892,655,594,655,892,872,808,805,817,755,675,671,166,77,628,857,782,817,817,674,740,633,817,716,740,765,817,755,156,673,817,733,205,732,609,674,674,825,228,827,206,653,740,892,892,591,771,867,771,866,792,892,740,674,609,867,695,817,792,675,591,80,628,765,640,609,805,827,740,755,675,670,753,650,628,866,765,673,763,109,874,817,824,763,674,754,827,49,38,805,825,784,609,867,609,828,695,609,609,779,136,675,782,81,628,730,101,674,765,640,781,817,591,640,730,675,633,609,792,782,805,81,872,792,702,792,274,817,875,846,817,597,674,674,675,792,740,782,655,689,782,740,640,828,765,628,883,806,878,908,867,765,782,781,640,655,765,895,817,682,256,674,746,892,648,20,675,671,655,763,817,805,817,763,185,227,698,710,860,792,661,828,674,166,805,637,164,740,784,825,274,867,611,841,841,609,674,81,867,867,730,755,266,655,771,827,730,626,817,730,730,817,755,846,786,765,876,781,609,640,817,792,782,63,817,609,81,225,712,806,789,883,875,782,855,674,817,857,670,866,777,792,782,813,640,738,626,656,818,732,609,782,266,792,675,96,80,667,845,875,703,674,875,817,817,805,674,832,817,828,689,673,611,609,817,765,609,689,857,814,655,211,649,782,895,673,805,274,817,755,815,609,866,591,866,247,674,674,885,609,609,609,784,792,682,640,763,875,674,661,805,875,872,671,784,213,734,740,609,655,227,875,795,828,682,615,640,811,664,710,817,875,682,609,740,761,817,866,786,655,20,817,754,828,674,832,892,786,681,682,689,674,640,740,249,828,827,755,682,50,670,290,875,765,763,827,682,591,765,211,786,609,771,628,866,675,872,597,675,769,290,793,782,655,257,156,792,878,817,732,609,817,828,20,892,609,784,603,670,867,806,685,755,817,674,609,650,817,640,883,628,782,656,817,628,765,892,765,610,866,621,703,21,710,655,653,740,655,784,655,609,838,883,740,805,805,620,740,628,216,609,746,675,730,265,828,675,674,817,640,628,816,758,82,817,784,813,675,806,811,609,791,755,892,740,771,214,875,763,738,811,740,817,206,63,675,682,682,817,682,670,817,628,867,740,866,640,609,791,674,875,817,655,817,245,876,689,866,247,892,50,609,768,609,673,218,740,817,77,861,858,867,875,817,782,719,755,609,81,763,755,765,817,784,639,832,867,707,793,639,628,609,256,883,682,754,740,828,788,763,828,741,20,825,881,655,883,589,867,183,763,876,817,682,825,670,811,661,596,770,867,216,866,670,603,228,802,771,772,655,839,817,878,732,802,859,732,828,609,832,828,732,867,826,730,771,771,755,732,656,638,166,675,610,670,805,675,875,763,609,765,740,605,674,740,69,812,884,674,857,695,774,609,814,670,674,730,816,765,740,828,730,675,828,892,738,625,828,867,640,793,771,857,857,867,765,49,867,636,782,817,682,591,755,792,674,827,814,867,670,751,703,855,732,781,875,628,828,763,695,809,640,730,867,233,609,609,816,828,655,649,682,763,628,763,793,674,695,792,695,611,670,624,609,817,866,828,101,591,872,818,653,857,784,620,828,626,828,867,217,653,892,805,670,615,609,609,817,763,817,667,695,640,817,609,628,865,695,848,887,866,755,771,866,218,876,185,667,875,640,674,675,217,675,675,828,675,827,609,806,839,771,811,867,682,796,868,611,670,746,758,740,765,682,765,217,730,806,642,771,675,682,740,857,746,675,626,771,771,817,876,850,609,675,813,675,892,155,765,609,895,855,695,64,673,23,674,609,673,17,673,740,828,864,730,866,784,772,655,609,609,817,675,79,765,682,655,755,703,814,875,867,626,875,825,774,609,104,866,675,765,765,809,895,852,609,872,227,643,781,859,63,828,740,740,257,675,828,20,206,867,771,875,673,759,755,866,765,682,850,817,703,878,867,615,628,763,682,674,805,674,265,681,738,655,781,699,782,754,611,620,781,781,857,855,674,774,873,675,38,811,675,868,892,609,703,765,832,228,626,609,655,792,792,156,675,753,615,20,875,828,858,740,850,650,673,746,866,828,755,763,763,675,609,834,730,817,20,784,866,606,609,20,868,828,883,81,290,910,763,695,738,765,674,860,875,217,203,609,896,740,755,217,763,227,670,21,695,609,81,828,763,771,851,867,609,682,77,695,804,813,609,740,792,857,888,792,707,655,609,205,126,771,674,675,755,895,710,717,803,825,827,782,895,71,855,763,755,817,675,667,867,872,827,692,666,755,867,166,609,867,805,670,713,878,682,685,626,765,805,755,765,883,675,732,832,609,703,852,172,609,771,675,628,806,857,636,695,628,609,735,603,817,627,782,591,771,626,817,698,674,653,740,675,765,183,217,695,673,792,675,883,205,591,867,817,765,740,740,180,809,740,824,671,609,264,841,805,817,732,765,855,828,730,765,675,867,782,755,867,828,892,763,765,765,732,639,710,755,817,689,868,867,695,703,765,239,765,609,817,755,738,755,682,765,771,867,867,741,670,80,615,771,143,841,782,846,611,611,682,866,817,674,101,732,878,673,20,781,695,817,682,883,771,265,675,763,813,825,771,817,148,817,892,782,765,791,723,603,878,675,782,825,763,755,784,620,828,827,867,858,628,908,875,609,763,892,689,866,740,655,628,682,740,730,641,803,857,740,675,828,866,746,738,611,185,765,628,825,609,828,857,883,609,674,775,609,732,779,109,784,718,813,867,817,781,857,895,656,817,817,867,848,875,781,608,730,628,875,828,883,674,767,828,765,860,781,640,82,805,878,682,846,172,858,703,765,738,673,839,895,765,765,765,703,754,164,765,20,763,626,675,806,765,626,738,609,606,727,609,673,876,628,740,655,784,628,667,812,828,674,101,765,245,872,817,809,870,721,611,765,817,730,675,211,755,771,828,228,763,20,609,653,63,609,620,872,675,217,655,895,20,784,827,612,740,792,695,771,771,675,675,817,626,655,817,640,828,824,695,817,867,609,792,156,81,816,266,81,805,609,674,874,781,782,688,867,682,673,609,610,675,867,824,848,755,611,765,765,627,675,674,784,636,817,857,227,828,686,771,81,828,817,817,649,609,675,589,675,817,740,859,609,698,782,817,661,627,771,674,740,675,675,675,765,703,839,830,793,274,817,817,771,228,675,611,703,817,609,609,640,846,784,763,813,827,82,755,746,817,857,781,792,173,817,765,828,628,681,682,867,670,827,781,682,628,88,765,765,827,866,754,872,805,730,828,782,784,817,765,793,674,217,695,817,551,674,817,883,155,609,266,609,653,667,897,892,655,896,670,825,671,609,681,765,611,841,674,610,867,609,878,828,812,609,759,827,340,765,675,792,640,782,674,895,765,118,806,784,703,825,872,866,609,626,109,753,773,609,850,636,609,857,828,771,781,740,649,740,828,183,784,609,61,755,858,193,695,740,763,855,746,674,813,655,817,867,784,200,774,828,872,675,763,782,609,640,628,281,896,670,755,217,609,784,609,674,628,740,744,740,639,848,782,108,609,611,872,867,609,670,828,765,782,675,825,771,682,806,670,817,217,681,817,88,828,653,609,755,817,625,609,805,673,829,763,740,705,792,817,640,253,625,793,205,20,865,806,674,875,82,628,892,824,858,850,857,805,817,817,647,730,655,183,649,122,827,606,765,817,781,290,80,775,855,811,50,615,740,829,591,796,806,609,595,732,828,867,825,817,803,640,872,867,765,670,675,817,857,738,755,784,883,610,675,799,703,675,155,892,792,772,892,792,628,828,817,609,675,846,751,655,755,892,779,817,765,50,675,626,682,859,81,774,818,793,655,134,872,740,817,827,740,875,682,874,653,648,675,673,867,603,867,730,857,591,740,674,61,740,689,682,606,866,682,775,812,817,771,784,703,609,171,817,20,183,817,606,817,143,143,828,227,48,857,818,741,827,765,682,20,615,686,675,805,805,813,609,771,674,817,792,183,781,755,857,609,740,674,852,846,675,755,648,867,705,817,636,763,217,857,217,609,753,217,763,674,675,799,689,880,793,763,670,782,848,859,765,784,667,740,765,817,817,828,905,225,827,857,874,703,626,792,782,185,875,827,866,609,901,900,675,609,825,781,609,187,603,688,703,682,782,858,708,228,793,817,609,817,670,674,674,866,857,609,805,878,817,875,765,609,825,703,721,740,611,754,675,721,675,661,675,883,661,753,763,710,792,748,682,763,765,165,793,832,266,628,792,738,805,674,755,609,609,805,817,763,80,674,866,695,824,779,609,908,805,591,814,266,675,817,601,674,763,828,674,682,185,695,732,867,609,828,825,817,675,667,628,710,866,866,626,771,674,817,193,732,673,674,782,828,682,892,740,858,793,682,609,609,674,874,817,817,656,719,719,628,670,771,740,675,755,628,892,755,883,866,674,740,817,670,805,642,628,640,825,674,205,703,874,763,759,814,695,718,782,628,695,276,892,166,650,655,591,755,828,628,641,294,609,718,674,805,814,740,695,695,653,695,896,763,640,811,667,784,611,674,682,759,655,655,732,765,699,866,675,49,848,875,867,224,205,80,185,655,765,806,813,760,817,825,723,817,811,674,872,671,655,755,675,82,20,674,628,95,80,875,695,640,805,671,609,811,640,816,817,765,695,649,695,867,182,609,817,703,817,784,682,782,765,164,793,755,792,640,867,703,50,609,730,740,755,875,643,732,695,675,703,866,670,660,650,867,675,730,609,771,765,710,765,627,777,803,867,817,675,197,732,609,857,109,640,827,674,771,746,817,740,817,610,675,688,675,609,786,867,817,591,695,640,792,766,609,805,732,782,675,674,705,740,606,675,846,667,674,867,892,817,817,828,640,867,759,703,755,867,782,655,626,875,609,827,784,765,771,828,771,689,817,828,590,892,817,789,792,892,640,609,846,733,884,77,730,857,217,867,695,805,675,774,828,774,893,217,763,675,771,763,740,675,805,765,828,711,682,875,670,638,765,755,675,886,867,206,609,817,673,889,675,670,817,857,828,609,609,730,817,740,782,828,609,805,806,609,811,675,675,279,765,828,828,88,615,805,675,228,875,857,674,765,781,732,817,675,674,609,866,782,675,827,875,805,892,217,825,675,855,771,784,674,858,805,765,77,875,892,626,755,628,740,675,875,692,772,753,609,793,611,611,655,673,20,703,740,771,674,609,782,817,730,908,143,20,828,221,817,673,765,674,876,675,609,634,746,763,217,740,867,784,609,707,682,217,740,640,626,217,640,872,675,615,680,889,740,610,667,875,792,88,755,782,661,875,649,866,655,615,675,828,816,609,98,740,781,649,859,695,609,867,755,730,781,805,883,61,867,858,609,866,817,817,755,185,20,730,875,628,682,878,656,655,817,682,866,875,878,861,695,674,878,740,126,828,766,609,827,805,673,31,640,765,829,228,609,626,88,765,792,113,290,674,816,858,205,805,866,740,682,740,217,704,763,866,670,224,755,817,740,792,682,828,639,869,817,740,609,703,703,827,784,628,674,827,674,781,682,763,655,217,781,804,673,754,811,766,266,675,266,639,875,670,782,670,765,771,825,628,675,667,738,218,827,855,817,763,802,754,609,81,817,193,784,675,655,640,875,867,857,841,792,670,828,719,769,883,866,806,695,674,742,730,217,217,827,896,782,738,674,875,883,675,752,765,655,817,896,609,811,143,867,792,673,805,806,771,892,674,828,252,883,806,784,143,872,828,754,817,609,640,817,121,670,893,648,905,846,609,682,676,817,805,626,740,293,609,904,755,755,673,817,857,827,675,740,765,655,655,674,817,640,827,673,609,673,603,609,740,609,695,866,793,628,682,626,670,642,866,675,816,217,827,765,852,609,740,805,771,675,792,628,792,675,817,626,876,290,609,753,866,265,781,673,740,894,673,674,805,781,763,825,880,628,846,843,228,673,782,675,703,878,855,813,626,695,828,858,771,631,867,675,695,674,895,751,671,627,867,866,828,281,896,867,615,765,882,811,674,675,20,675,670,217,824,638,623,675,674,670,740,695,812,817,714,80,867,740,36,228,211,143,695,682,805,674,876,867,814,719,828,193,827,675,817,763,26,682,609,782,881,609,817,609,828,655,765,600,781,784,805,675,20,832,805,842,763,38,674,878,763,855,636,759,650,814,755,875,628,657,38,878,609,217,781,732,806,765,609,628,256,673,730,720,682,609,269,832,227,901,765,621,892,782,834,17,871,908,673,88,813,825,20,740,792,792,897,640,751,870,784,793,857,803,881,647,662,855,814,746,858,866,740,682,143,156,640,867,20,609,682,703,781,609,740,805,674,828,828,765,649,763,817,828,784,825,755,846,792,667,649,825,824,817,640,855,26,720,755,606,20,818,765,817,755,61,784,842,839,740,872,249,609,771,793,892,763,609,591,650,655,217,874,723,866,817,738,166,818,740,817,875,817,776,857,723,792,782,660,695,674,806,755,640,796,817,609,739,674,763,609,667,828,713,740,606,609,832,682,784,763,866,740,681,883,740,77,852,867,675,609,763,875,792,640,611,609,172,866,674,655,765,591,649,892,765,781,148,867,883,597,782,828,874,669,867,875,695,740,824,867,674,867,655,817,670,875,682,857,817,655,609,183,675,817,150,675,655,827,674,773,817,609,827,740,674,878,792,20,674,763,817,738,805,792,732,109,605,166,784,675,675,817,636,817,765,858,817,626,782,866,825,639,755,109,782,620,765,883,878,667,805,827,813,719,675,675,805,782,828,828,674,655,857,609,765,763,811,765,817,786,781,166,732,628,839,143,703,271,782,827,670,674,817,765,217,782,640,817,763,609,770,870,682,782,892,640,866,670,828,640,824,817,878,627,675,763,675,609,38,805,670,765,675,784,655,655,726,805,606,134,655,763,674,621,609,749,640,781,674,265,793,755,674,755,828,609,703,765,828,828,734,674,806,719,857,740,590,740,658,695,606,876,848,816,682,212,813,876,655,682,628,857,872,609,266,640,615,765,610,675,609,655,781,617,611,765,699,817,640,827,682,682,765,671,886,828,796,805,730,609,883,817,738,792,674,596,765,857,867,867,858,674,817,851,781,620,609,755,817,838,896,609,740,817,76,655,675,675,875,628,703,217,609,674,806,675,609,667,609,817,82,166,782,867,892,793,875,771,746,784,143,609,905,857,765,628,674,784,817,782,866,792,872,805,674,679,805,765,20,626,626,895,832,857,765,674,857,609,695,817,187,675,811,738,875,782,674,763,825,715,609,866,26,796,227,779,878,695,695,828,763,80,640,609,866,674,682,740,843,609,710,817,866,675,817,846,640,817,669,685,765,812,852,832,765,781,609,611,674,682,609,765,771,765,855,673,626,609,609,771,866,656,217,674,857,628,609,626,695,81,717,674,294,867,765,674,609,866,628,805,674,695,855,793,151,703,675,892,875,908,875,628,609,806,638,695,763,682,245,765,740,828,612,675,170,765,782,867,782,675,792,741,681,813,896,609,855,740,781,640,675,695,674,732,766,803,156,695,609,699,817,765,867,782,730,682,782,817,878,875,817,673,827,674,773,626,817,674,867,143,182,782,657,657,845,640,792,771,852,749,883,860,703,675,675,628,671,675,828,643,895,806,828,817,675,867,828,655,749,673,896,825,871,658,771,88,867,628,695,827,740,656,874,751,892,675,670,22,609,719,792,784,707,82,828,889,817,805,682,675,740,655,682,653,166,782,675,811,205,828,825,609,740,673,825,857,784,755,675,876,811,674,892,867,670,875,874,867,806,755,867,682,591,682,166,782,740,765,699,892,640,849,628,858,611,675,765,740,695,892,667,697,609,817,763,609,689,811,695,166,628,763,674,80,685,765,20,640,765,609,673,675,675,682,754,675,765,611,825,782,828,225,609,816,740,867,792,671,32,740,674,675,738,805,771,695,784,81,805,763,771,609,765,771,866,875,609,878,782,682,859,126,859,653,771,732,655,720,866,265,670,640,896,719,792,695,609,682,878,703,82,670,21,182,812,763,193,828,675,799,855,740,653,611,892,609,781,673,751,609,674,718,855,828,771,765,805,740,763,640,765,754,787,792,609,828,772,217,675,609,793,866,101,857,857,897,705,817,771,81,655,763,674,867,50,811,769,609,805,872,740,675,768,675,692,675,257,640,782,655,628,673,615,792,740,650,695,817,675,782,703,889,20,782,653,817,755,740,842,874,825,771,805,732,782,628,609,765,609,755,875,817,609,609,675,606,675,615,866,892,816,166,156,628,784,606,741,746,673,271,828,733,675,695,205,857,670,609,867,670,627,281,639,832,858,682,793,603,763,628,765,874,726,81,217,773,781,682,850,843,817,848,755,825,817,730,771,642,765,609,609,641,765,811,805,828,811,653,765,792,609,765,655,878,828,867,875,741,827,765,867,212,751,654,765,817,63,48,205,673,817,784,817,792,673,673,878,792,732,867,782,867,675,792,655,695,609,674,817,875,836,109,682,674,655,183,755,741,670,867,639,695,771,784,682,609,765,655,896,771,673,755,609,872,704,733,839,605,459,699,892,740,626,870,695,675,640,828,906,828,681,730,695,867,640,770,827,682,846,609,628,876,828,675,719,878,675,740,643,675,895,673,611,609,804,792,759,865,682,848,817,682,609,827,754,81,682,38,817,143,817,871,824,825,817,895,817,256,878,670,805,609,649,591,611,848,156,805,674,746,675,606,653,674,609,682,792,786,732,640,811,674,834,763,867,765,896,763,740,852,866,695,626,896,609,656,675,695,143,640,674,655,134,732,825,824,817,275,763,703,626,628,771,82,782,609,797,205,865,811,712,589,183,674,674,858,866,867,673,674,774,805,828,609,217,806,892,225,817,738,797,792,738,872,675,827,609,817,793,609,674,609,892,600,609,640,866,793,867,784,609,765,875,615,594,867,746,746,674,782,166,765,765,755,828,867,675,682,857,872,804,875,605,20,817,740,892,674,597,670,828,682,765,765,740,183,667,675,695,771,876,730,63,682,166,682,647,28,786,193,640,636,817,825,832,765,872,273,827,844,867,763,675,674,675,703,738,771,675,828,825,771,828,675,682,655,682,782,129,211,806,805,771,228,655,703,817,740,674,699,699,846,741,647,674,875,812,682,832,675,703,655,876,82,897,828,591,806,674,825,183,20,892,703,673,755,747,755,857,675,817,232,805,740,20,875,782,738,673,825,828,765,675,639,628,740,606,866,855,681,793,792,740,875,782,609,128,206,852,828,857,804,732,274,50,901,784,274,828,868,784,763,765,765,675,763,164,609,901,740,892,682,765,817,896,817,655,784,628,609,640,655,836,866,695,36,874,675,674,806,792,811,782,872,609,875,643,638,842,257,817,611,771,875,675,872,609,817,875,765,825,824,43,883,867,763,606,817,771,628,875,738,649,266,866,875,638,682,609,828,225,38,245,610,673,682,164,892,817,817,874,609,38,828,682,609,628,846,805,628,658,683,709,674,656,609,609,782,185,611,765,655,591,805,695,867,673,674,674,827,817,732,591,827,857,765,817,792,817,866,866,765,675,640,740,841,817,832,832,609,674,805,876,765,77,813,738,828,609,674,781,793,867,763,703,862,675,875,597,611,674,867,293,867,824,771,609,817,609,857,732,806,876,858,850,771,883,846,811,900,892,733,771,695,675,814,674,627,148,655,609,765,763,765,763,889,889,892,827,674,732,627,740,782,626,217,609,805,609,740,839,674,832,256,828,609,805,674,609,81,786,640,626,260,640,20,740,609,763,628,857,732,674,639,50,866,771,828,771,784,753,825,674,609,667,721,892,670,805,875,647,771,763,846,609,675,892,755,740,699,611,217,670,781,732,857,817,805,703,875,892,673,792,674,765,866,732,857,763,771,667,675,792,765,817,765,38,805,765,674,611,824,212,817,674,609,806,799,609,765,640,740,817,628,609,609,674,673,867,817,20,828,803,611,673,765,674,817,752,609,805,639,876,769,805,817,606,763,817,653,640,771,20,805,782,20,859,878,832,883,784,765,866,609,896,782,675,746,77,609,638,609,816,695,780,609,811,781,765,266,824,682,772,817,784,643,817,254,675,765,866,828,266,655,763,848,257,827,817,755,640,217,825,855,609,828,615,82,805,817,855,827,771,626,675,609,846,784,850,769,805,828,609,661,655,695,857,185,749,674,732,781,228,205,265,600,217,671,609,609,217,781,759,735,689,695,674,817,214,855,784,805,784,805,675,816,734,805,682,857,828,797,675,82,31,695,703,682,682,740,609,803,765,867,626,695,817,591,782,655,733,628,763,674,675,765,765,763,628,674,682,817,867,661,789,765,817,740,720,765,755,782,765,46,793,771,673,638,674,695,611,609,892,846,628,817,224,867,817,695,637,20,628,730,824,878,656,166,104,172,674,754,627,655,763,88,846,192,875,834,134,866,674,605,874,771,811,765,857,857,898,257,784,674,670,809,817,817,828,866,857,828,193,828,867,626,271,675,876,182,858,867,909,50,653,682,867,817,675,771,825,172,867,804,852,732,670,674,817,81,695,689,653,905,763,609,716,814,695,274,674,730,216,695,827,605,22,827,792,609,828,101,605,620,655,611,817,857,225,765,670,675,774,786,765,738,901,828,782,673,649,782,828,628,875,781,817,858,675,793,786,590,765,765,763,763,866,609,786,792,628,609,792,815,628,827,744,765,817,205,656,805,674,143,895,703,217,90,805,867,765,732,784,763,732,675,690,609,704,858,740,792,695,675,805,740,857,266,817,689,626,628,695,812,784,274,611,857,855,675,640,892,814,674,280,824,817,609,724,675,782,740,681,591,746,609,792,740,817,703,817,623,867,817,703,784,872,740,774,765,625,817,703,762,77,857,636,825,765,671,738,763,695,122,673,892,609,674,791,857,784,782,850,771,703,694,674,817,771,905,892,763,609,682,673,609,611,740,806,896,614,817,771,754,682,765,675,816,814,640,328,828,817,792,867,655,740,653,674,609,876,825,628,876,601,805,746,640,851,765,779,792,675,806,603,817,857,609,626,730,866,628,82,740,765,609,755,695,765,875,674,682,675,828,824,88,857,609,265,662,675,875,77,828,805,811,759,784,674,828,609,606,674,827,710,82,611,655,620,832,818,867,609,655,813,875,901,715,745,674,857,828,655,825,609,217,740,828,674,740,628,609,675,20,611,866,640,675,628,609,759,33,784,763,674,828,674,867,655,675,909,609,732,866,894,782,674,609,824,866,817,828,828,185,765,615,609,839,817,609,755,655,817,615,782,855,675,792,643,682,828,653,656,763,858,275,609,653,695,605,817,817,828,828,609,721,707,857,872,892,673,765,846,825,640,782,730,615,682,643,50,682,763,694,765,245,883,805,846,817,828,674,805,600,878,143,771,654,20,806,667,675,814,653,782,673,834,828,763,673,841,806,675,740,819,109,763,609,655,770,673,213,829,755,827,771,675,723,892,166,763,675,817,860,82,755,872,817,857,740,811,782,655,855,866,655,82,848,755,828,828,656,217,890,166,673,746,824,827,818,667,828,730,872,738,682,782,185,817,640,277,626,609,803,699,616,675,703,817,782,216,674,655,883,817,782,858,867,908,865,322,784,655,189,674,674,609,95,754,721,609,628,784,828,797,695,817,628,857,211,752,228,784,648,765,896,867,908,61,759,673,763,657,658,867,609,792,628,805,667,726,742,628,763,872,763,673,674,701,817,827,847,855,872,765,817,781,875,217,609,674,867,675,628,675,217,867,609,211,738,866,875,867,675,609,703,805,102,609,785,800,675,812,784,792,667,765,832,866,883,771,628,866,205,782,670,718,812,682,675,290,782,771,275,609,655,675,628,609,609,852,205,827,866,805,765,224,738,776,776,609,765,710,752,611,828,806,675,675,273,628,765,765,56,797,609,765,773,740,740,675,754,828,771,867,800,827,681,59,828,771,742,782,817,655,217,806,784,729,673,270,799,682,205,805,692,682,609,883,591,866,872,859,682,673,695,80,703,860,875,670,682,805,609,621,640,895,640,655,881,609,755,183,675,839,733,875,858,782,841,695,670,628,828,828,740,673,703,806,95,627,792,817,792,908,603,670,673,609,764,782,740,603,755,629,866,828,206,703,862,675,874,674,673,825,740,825,136,714,825,185,846,609,675,875,828,674,740,797,626,825,696,81,872,867,825,675,805,597,674,703,609,166,656,172,609,674,800,674,675,805,805,675,812,875,674,656,673,609,765,866,793,792,675,867,828,784,675,620,673,769,763,303,675,765,609,771,675,609,628,675,703,867,674,611,753,703,682,765,609,640,765,817,609,670,622,653,615,609,765,781,765,805,675,183,227,667,695,611,875,883,763,771,771,865,675,738,857,685,867,639,784,253,695,719,740,655,878,642,817,674,875,164,134,591,710,881,746,782,866,872,609,78,817,857,225,740,687,792,77,655,850,611,609,612,861,628,857,828,874,771,661,866,239,740,609,793,805,675,817,817,765,609,828,828,655,872,771,640,740,755,883,661,615,765,806,101,828,763,674,771,765,689,740,858,876,853,653,867,782,857,805,609,675,63,771,763,806,670,784,143,682,827,713,769,695,774,867,771,655,793,609,675,183,667,857,811,755,817,50,714,755,876,814,867,609,77,609,776,628,759,825,63,754,611,740,824,843,205,744,609,828,850,675,675,673,763,670,792,763,817,626,609,655,867,867,620,806,206,628,765,655,20,609,817,771,63,827,626,674,639,627,813,867,673,763,609,703,771,609,792,674,817,718,675,172,675,825,867,703,817,675,655,217,609,740,827,194,866,674,638,20,781,792,609,875,857,892,827,682,628,865,866,609,765,591,751,817,817,805,609,663,771,730,703,876,673,674,809,892,609,655,183,695,675,720,609,751,866,765,742,609,832,828,693,784,88,828,609,693,784,609,609,867,846,874,609,765,771,682,817,703,628,77,217,878,872,755,782,674,867,878,755,746,703,765,609,698,771,792,825,824,141,626,875,655,908,875,695,782,867,866,763,744,673,193,875,611,878,896,640,82,217,805,866,675,765,217,609,817,655,875,681,867,771,671,674,867,763,642,234,26,609,763,166,628,895,782,682,875,61,759,720,850,740,872,217,628,816,782,609,763,819,765,265,82,866,628,695,653,861,828,695,878,867,640,817,867,674,143,755,883,22,784,779,746,827,901,703,740,866,828,732,817,817,636,81,682,867,609,609,782,771,716,695,866,765,655,674,703,766,755,867,695,217,770,675,271,205,857,763,867,814,228,682,892,846,784,217,755,763,628,781,628,857,620,673,674,630,628,763,609,765,20,609,50,784,893,675,763,813,765,771,639,867,164,763,615,20,771,792,749,878,793,626,609,792,648,609,755,860,763,628,628,620,805,217,173,771,867,730,857,892,781,83,765,875,675,609,765,82,609,609,695,765,797,716,609,828,817,866,782,784,867,857,892,703,609,866,591,674,828,716,755,763,866,703,755,784,791,763,695,271,185,811,675,792,675,674,817,183,875,675,866,875,703,872,765,758,832,782,846,657,609,763,828,682,609,628,738,730,707,675,662,765,643,805,901,626,817,765,765,867,609,628,166,726,674,721,626,591,640,609,740,611,867,765,653,675,763,239,640,867,878,213,695,740,784,828,628,817,640,661,875,817,866,782,628,740,703,675,829,832,746,740,779,740,695,707,867,809,609,740,755,771,20,682,860,817,682,867,205,781,884,695,655,763,609,781,807,674,811,655,299,626,782,78,655,626,674,187,610,792,609,872,615,674,609,817,609,746,240,765,674,812,250,240,674,846,609,174,730,669,703,824,290,763,784,875,703,640,606,867,817,866,867,609,675,299,653,606,829,675,619,867,655,695,817,674,755,640,682,839,88,768,870,792,640,763,227,101,805,721,897,628,590,784,675,817,606,866,674,816,166,814,848,640,787,828,782,806,765,675,867,857,817,765,661,812,763,689,741,841,806,781,875,183,228,673,855,257,655,763,771,857,675,609,193,628,875,793,675,703,675,675,857,784,782,143,628,609,814,733,813,611,816,806,609,636,703,609,166,732,857,817,876,763,755,703,256,784,763,674,817,682,710,817,740,36,675,883,651,675,890,674,640,20,746,783,741,703,883,872,875,626,674,876,81,671,817,883,803,720,784,730,817,68,875,814,817,817,217,273,892,674,874,834,771,738,609,875,686,681,88,64,755,866,216,673,274,805,868,867,872,216,832,867,824,609,675,720,721,867,615,675,892,817,867,622,817,817,164,850,640,828,827,848,172,803,695,609,765,883,640,771,740,784,597,156,609,673,205,827,628,850,866,156,628,805,867,763,795,817,674,609,772,655,878,857,817,674,817,710,673,755,609,720,818,682,862,675,695,730,817,763,675,755,22,846,759,719,213,695,682,763,640,655,824,771,824,867,872,740,872,675,609,740,710,640,740,116,721,596,855,828,611,695,765,655,228,817,755,674,765,746,765,872,266,855,740,682,655,763,814,814,749,670,839,695,671,38,609,675,674,675,609,867,811,620,878,771,228,738,655,703,615,892,609,806,675,36,674,825,730,626,674,14,867,883,746,675,730,732,765,816,609,782,611,875,817,892,867,609,640,740,628,817,609,817,649,164,782,765,81,908,817,765,858,670,740,791,609,730,792,755,673,792,232,740,786,732,832,763,655,765,765,166,675,817,609,609,867,194,827,609,80,614,655,799,855,628,746,874,855,732,205,628,730,872,824,806,542,703,166,167,682,765,857,812,732,288,609,858,682,675,805,20,675,682,26,792,825,682,855,875,740,892,828,791,781,827,626,675,609,217,674,740,793,740,782,609,746,81,895,589,628,674,857,771,682,765,716,667,817,828,626,724,827,782,867,883,675,854,675,673,655,792,609,828,266,805,143,817,784,740,782,675,784,817,733,774,266,857,792,228,817,755,183,682,655,636,655,649,846,867,740,674,245,866,771,686,805,792,784,825,638,818,878,855,827,674,227,647,674,782,217,857,846,805,670,782,640,655,675,695,828,738,782,805,656,227,640,609,205,746,867,874,623,782,591,670,232,828,763,609,609,757,805,732,828,609,876,740,681,892,828,782,875,905,846,876,740,671,765,874,832,809,673,771,674,870,609,740,763,695,653,817,206,827,817,828,655,763,771,872,763,695,784,674,675,771,805,20,732,639,609,796,101,805,765,721,792,827,855,754,824,615,765,695,245,628,765,848,805,765,813,82,867,609,765,274,609,732,889,829,63,80,817,675,827,670,609,653,805,895,640,896,806,609,817,817,755,612,695,817,812,290,782,771,784,74,738,782,892,738,606,172,718,77,675,773,754,876,673,779,746,217,811,655,609,695,681,782,693,609,695,710,740,817,695,606,232,817,609,860,277,674,732,876,876,703,816,774,825,765,640,656,154,609,609,875,867,792,675,732,817,682,857,824,703,682,81,784,609,784,81,81,609,609,82,746,20,866,873,639,817,763,896,828,806,740,754,116,792,763,825,858,866,848,827,884,792,879,867,589,611,682,20,763,670,640,838,732,828,695,609,890,765,63,627,266,755,876,792,811,670,782,674,878,670,895,611,228,640,217,765,792,626,727,825,673,883,828,872,765,890,866,806,782,791,205,256,49,827,817,640,626,674,875,765,805,719,878,805,805,828,828,755,817,247,712,755,675,675,827,828,290,675,20,639,628,755,670,657,867,628,817,655,194,792,828,817,812,784,716,867,896,827,36,765,281,817,867,738,695,867,228,740,867,782,655,858,695,628,591,876,699,765,740,817,817,866,827,710,656,81,910,765,166,628,763,765,695,782,379,205,784,817,650,682,867,894,623,704,751,866,763,656,805,842,674,591,674,857,609,674,674,674,609,639,878,817,675,609,675,609,638,828,812,786,20,817,703,673,805,784,867,675,817,611,609,874,765,740,644,640,626,817,673,746,80,817,746,793,732,905,628,876,832,817,640,883,763,812,866,675,897,674,730,867,817,876,828,824,781,609,675,740,805,825,640,609,670,674,640,609,134,609,670,695,675,615,828,655,628,655,797,20,872,805,755,609,633,817,773,674,673,609,765,866,670,682,22,675,813,814,834,867,628,670,867,740,675,784,274,755,675,892,787,817,875,603,661,875,876,827,883,805,771,20,670,791,866,878,730,805,755,695,765,874,649,675,796,256,771,720,841,866,765,674,653,817,740,166,740,754,609,205,765,217,782,655,609,673,675,710,817,866,664,670,828,611,828,782,782,828,655,609,156,827,600,640,765,620,173,675,636,771,867,817,682,740,865,611,719,703,813,730,638,827,771,609,240,638,892,817,786,828,867,867,782,609,841,857,281,763,81,782,620,792,682,875,626,765,164,615,876,803,611,640,609,805,817,896,640,749,754,827,896,883,277,782,706,817,682,609,817,609,732,866,867,832,763,867,674,876,640,703,848,609,765,763,609,825,217,872,825,609,611,609,866,682,790,867,876,817,674,817,653,600,834,828,782,827,848,805,811,628,703,733,256,892,591,828,64,266,649,605,763,811,609,682,754,609,640,806,740,740,77,81,782,733,611,867,765,670,759,875,828,872,675,682,639,846,609,640,784,628,225,266,771,817,858,828,609,755,675,609,867,718,675,817,217,781,628,846,782,787,828,609,846,828,675,836,732,217,749,867,704,193,640,703,765,899,841,653,866,682,609,875,781,666,872,225,824,817,655,858,828,606,771,782,655,763,806,674,670,740,793,755,194,626,784,667,763,609,763,655,675,805,590,740,866,695,872,883,682,792,609,655,824,828,740,670,655,763,765,848,866,896,811,655,771,609,673,896,865,617,894,895,609,673,82,655,789,674,655,765,653,813,597,857,763,782,609,638,782,217,695,892,172,817,866,609,817,817,811,670,765,848,878,675,655,773,730,217,763,828,609,828,193,675,867,799,650,640,740,806,669,866,812,867,812,892,77,732,805,674,792,828,654,876,827,855,811,817,892,674,703,875,609,855,730,628,875,740,609,674,675,82,77,883,755,803,656,674,770,675,872,784,784,771,703,890,689,732,649,20,655,806,719,683,755,779,876,765,766,828,673,732,765,674,765,813,817,609,183,805,832,825,763,841,806,782,740,875,641,707,194,784,858,878,866,892,825,682,703,792,740,865,732,828,883,828,265,674,20,205,703,609,740,763,817,615,667,866,755,265,784,771,883,49,670,687,825,765,20,640,781,53,828,673,867,695,695,732,695,673,682,857,154,611,461,883,771,640,674,81,866,740,732,609,876,675,682,817,673,591,609,866,675,88,805,183,640,695,183,763,217,626,784,755,609,763,682,275,781,628,682,732,628,755,782,703,763,675,874,827,741,227,828,782,817,675,655,866,858,675,784,782,693,674,638,675,763,609,612,825,152,850,721,682,143,763,670,640,673,827,814,650,771,693,609,670,867,792,695,701,217,889,782,867,628,706,845,720,144,846,740,674,855,763,642,172,609,825,755,875,793,867,639,609,741,674,673,825,740,674,792,695,609,609,858,271,682,805,675,782,661,703,675,846,827,834,695,765,675,156,828,763,716,867,870,703,730,763,817,718,805,640,839,674,760,628,695,740,765,673,752,609,866,828,782,817,674,781,673,753,763,867,591,682,781,755,655,867,805,655,609,733,865,670,883,866,763,695,675,832,673,876,205,765,675,649,799,765,675,197,792,609,609,763,746,817,806,675,732,827,628,656,765,817,867,740,805,872,867,805,892,869,20,612,781,609,82,288,828,866,846,609,730,710,660,675,715,817,81,883,855,825,609,889,784,784,889,674,817,675,609,782,867,732,703,782,817,670,825,609,813,628,172,817,719,609,763,765,603,670,675,675,781,609,828,720,867,842,871,792,626,695,640,771,703,720,88,755,254,609,655,825,818,228,609,664,872,256,613,661,740,866,817,805,732,710,892,143,266,774,817,781,782,767,878,865,765,703,867,609,875,816,217,832,771,740,88,615,182,784,875,670,782,817,828,609,808,640,765,782,867,606,828,765,143,753,828,205,653,675,620,825,682,759,730,755,763,858,765,895,771,611,647,765,908,703,675,867,675,621,606,866,637,765,832,730,699,727,82,641,674,256,765,828,674,740,17,654,675,143,707,765,81,609,674,857,670,719,805,649,670,628,876,626,771,852,227,908,101,765,610,740,701,828,640,781,782,609,755,682,771,740,786,111,609,763,674,817,675,609,763,38,637,782,256,854,738,609,639,850,874,892,626,758,872,628,828,275,703,883,655,274,867,793,281,883,20,609,827,51,763,682,674,792,682,807,265,682,682,883,667,730,609,609,674,872,20,82,878,755,867,804,817,656,614,740,832,629,771,675,771,258,674,771,703,670,892,765,675,851,609,609,883,773,675,735,763,875,673,217,783,674,628,828,611,817,674,674,597,872,817,875,763,675,765,867,827,852,895,674,817,765,784,675,763,817,765,817,828,890,609,22,755,628,707,817,765,606,828,673,771,828,640,771,77,824,875,765,640,875,673,675,738,755,695,675,792,765,740,874,625,782,827,755,730,617,682,867,866,655,866,817,817,609,609,878,655,609,792,827,866,765,695,640,782,771,874,765,256,771,805,674,81,609,609,817,671,862,609,782,185,675,640,828,609,738,755,674,765,792,277,721,784,771,628,234,675,626,628,771,20,609,673,740,828,866,828,817,742,675,609,609,875,817,759,732,785,682,857,675,628,765,874,784,36,875,609,217,50,908,647,892,674,793,673,143,867,857,771,755,609,828,765,817,599,872,670,828,763,703,609,740,609,828,674,193,875,703,763,874,695,707,765,806,674,609,817,870,765,784,866,817,628,611,682,805,265,867,866,609,609,628,824,88,817,857,601,754,855,673,80,753,166,765,720,675,784,609,867,609,867,781,740,765,609,805,675,609,855,640,225,839,854,746,805,765,892,759,609,781,640,895,832,793,667,867,866,875,793,765,817,620,817,828,674,861,609,20,827,805,674,695,740,640,703,653,81,211,817,771,823,609,817,867,865,817,817,828,883,628,609,785,867,763,674,892,817,738,141,828,850,22,636,876,777,627,755,858,806,828,867,825,740,872,781,660,872,755,621,609,609,825,755,755,782,738,806,793,175,817,681,875,784,673,816,689,626,653,892,740,828,805,817,812,609,771,674,675,183,740,784,782,640,675,763,640,656,834,771,695,769,609,674,673,675,817,675,738,784,888,765,765,673,611,20,675,626,749,185,655,156,590,673,765,805,609,626,740,82,609,703,817,675,881,695,740,846,682,883,765,763,675,832,805,609,828,817,867,673,265,290,817,890,857,640,674,609,765,681,730,730,892,734,682,806,746,771,674,763,655,730,639,675,675,148,805,782,640,817,591,855,164,609,781,143,898,782,738,671,878,765,650,858,174,609,609,828,866,765,867,805,805,876,609,605,805,817,816,675,771,765,675,710,681,817,655,846,675,217,629,784,857,765,867,655,875,674,701,609,675,674,655,867,606,740,670,805,827,765,609,765,782,626,817,740,625,817,671,609,732,82,817,782,765,187,827,274,866,763,628,755,266,875,609,866,817,20,817,792,61,782,20,675,166,792,765,675,784,628,703,675,740,817,655,640,740,673,900,673,81,817,626,644,674,675,765,682,803,713,290,806,817,839,908,755,609,825,875,675,655,675,36,695,883,609,866,755,664,755,609,166,827,857,703,889,615,710,217,673,794,674,781,857,793,740,628,866,805,765,763,674,82,908,740,674,825,639,867,817,674,820,716,858,675,609,695,609,792,143,666,281,867,765,866,828,609,817,675,606,811,817,753,813,824,640,682,782,771,730,675,825,738,228,674,769,228,674,817,782,716,695,867,194,765,867,805,771,670,655,782,817,828,675,714,828,675,771,674,784,740,866,740,674,763,784,857,817,816,837,674,609,867,166,609,703,874,658,773,892,772,609,682,641,609,675,828,895,609,755,166,817,781,839,755,816,763,653,811,164,695,656,793,670,761,817,257,765,839,732,867,765,673,740,733,874,738,675,875,755,655,763,850,792,609,765,781,609,674,655,653,771,639,611,878,609,265,695,771,816,20,609,675,675,626,792,156,703,817,166,628,817,609,828,264,782,675,673,682,782,256,811,609,896,817,738,609,640,738,803,675,755,682,867,754,832,609,682,673,889,655,609,765,609,839,755,867,675,740,695,730,782,851,878,746,728,811,626,812,640,609,814,883,653,626,667,817,763,205,746,674,883,61,867,827,654,878,675,609,609,740,274,892,630,805,781,682,874,740,642,675,867,695,774,609,817,682,828,805,811,674,732,626,765,875,867,609,883,609,763,856,763,817,805,792,211,615,875,681,664,817,866,814,784,670,670,609,805,805,765,805,771,866,640,765,891,675,784,786,892,765,746,755,205,655,792,867,817,786,857,765,695,867,895,703,878,609,817,817,714,675,609,193,656,817,846,674,609,763,765,805,784,781,673,828,846,897,811,653,628,609,793,674,675,655,695,670,787,675,606,740,640,675,857,740,805,806,792,828,797,695,771,771,875,896,682,784,675,773,143,765,675,828,730,655,740,640,606,626,720,857,875,754,695,857,867,817,866,740,872,876,846,732,867,827,609,858,771,875,703,674,771,782,765,609,848,817,682,738,695,637,703,730,765,855,827,639,763,872,817,828,656,818,827,782,20,674,609,781,765,703,763,260,892,675,698,611,867,675,601,779,763,673,855,805,811,282,694,867,674,675,705,813,675,765,740,763,655,773,857,675,675,883,609,876,674,828,792,217,682,883,740,765,784,782,872,738,792,591,850,892,828,825,892,895,26,811,732,628,609,867,745,874,109,817,866,765,828,876,859,746,738,828,205,759,608,817,855,675,908,640,675,755,876,866,755,763,738,217,217,875,817,609,867,892,805,695,866,754,740,634,800,732,746,628,673,675,640,789,817,670,797,101,765,609,765,866,675,858,626,874,811,640,655,839,771,817,675,701,875,867,674,680,875,601,732,738,20,674,609,866,245,774,641,755,866,827,627,740,817,628,876,675,88,812,707,674,866,846,878,703,763,763,834,755,755,866,817,673,732,765,217,609,675,765,755,817,763,682,866,828,754,591,771,787,832,883,675,782,703,682,784,858,609,817,765,854,730,771,695,875,763,793,95,628,817,858,166,782,832,876,611,828,643,670,673,664,792,896,848,699,817,786,892,82,875,755,626,81,828,901,628,682,732,782,827,649,682,874,193,609,812,609,655,805,825,265,675,732,266,770,609,817,811,662,221,682,627,867,674,101,769,609,682,144,674,653,833,827,655,732,20,883,650,782,805,772,611,817,763,793,653,227,609,172,805,775,626,803,81,816,782,811,293,143,730,857,692,805,772,737,827,866,825,673,875,865,867,609,20,732,805,675,81,674,682,892,655,609,674,710,609,784,682,674,905,763,817,811,628,611,740,609,857,217,682,20,20,609,705,695,858,875,271,817,655,674,611,755,792,875,640,740,732,674,857,873,611,765,765,765,740,883,703,695,858,861,867,730,101,816,667,765,671,675,855,817,876,609,828,655,628,609,817,682,607,782,675,143,740,675,892,817,866,825,868,655,782,698,740,48,792,867,805,675,770,675,682,854,265,609,166,732,673,638,695,740,695,674,867,805,878,883,755,695,867,81,36,825,703,867,719,628,827,765,12,866,740,765,740,805,878,771,806,766,811,765,682,682,765,817,892,611,851,701,866,905,299,817,806,20,609,682,609,866,782,817,858,609,759,817,792,703,639,755,101,656,875,675,655,763,827,892,791,637,872,782,793,673,611,867,675,753,817,713,715,754,628,675,866,674,783,703,673,883,740,670,827,817,765,866,738,703,682,846,782,609,892,857,812,765,905,609,855,650,828,763,839,839,867,763,892,653,855,205,765,792,673,655,765,817,670,653,98,817,757,857,38,71,609,857,156,643,673,867,867,609,867,892,625,670,870,682,784,805,780,682,674,765,82,257,653,904,675,732,640,609,772,883,656,755,609,682,655,639,804,817,765,817,824,37,782,883,20,640,636,53,814,675,214,817,857,681,765,867,857,905,781,732,791,673,674,784,670,628,817,883,626,673,765,673,741,622,738,655,782,695,867,50,655,640,143,740,591,763,782,866,224,883,733,817,817,655,675,873,676,20,817,771,26,792,622,878,655,733,609,763,765,746,611,740,675,681,674,866,609,682,817,266,674,771,763,765,733,825,782,673,638,655,782,703,816,851,817,805,784,867,763,77,740,875,763,781,636,609,784,765,710,609,675,754,606,703,872,784,609,792,101,682,765,609,765,20,187,670,626,609,674,732,590,674,908,640,755,858,755,164,609,670,609,784,779,228,786,781,609,82,640,640,774,274,626,670,908,765,675,166,136,227,771,786,145,817,609,674,802,793,771,779,185,675,825,839,675,875,609,872,784,825,185,765,828,827,771,867,675,675,763,784,675,224,817,682,217,682,682,805,675,675,875,857,82,805,719,647,241,611,765,814,20,828,875,674,792,857,817,755,771,876,883,771,703,773,782,82,655,666,611,699,792,655,763,765,675,707,648,740,620,846,617,609,740,817,765,706,765,638,852,609,732,674,814,763,781,814,867,817,866,670,828,814,703,707,857,216,867,740,674,846,866,675,674,670,674,640,734,888,217,773,805,274,640,628,674,837,788,628,655,867,674,811,828,774,673,891,805,674,782,591,867,838,792,109,266,611,682,82,611,682,771,754,101,615,812,874,813,225,611,782,878,817,867,673,796,872,749,675,640,867,628,673,682,771,695,857,740,759,852,771,754,674,883,675,827,703,670,771,738,655,675,765,675,205,695,857,609,609,609,719,832,682,765,812,695,774,765,765,805,695,148,136,143,182,855,812,81,759,675,763,655,628,674,817,817,615,655,803,640,832,782,792,828,143,682,169,809,786,609,812,609,655,661,817,675,675,855,755,675,867,746,675,755,806,771,771,682,817,665,650,81,765,620,755,782,763,817,828,771,628,740,855,771,874,740,609,866,609,782,771,852,828,50,817,895,828,818,205,695,674,765,765,817,755,609,628,649,740,675,850,872,80,597,703,22,784,828,841,755,211,636,857,875,875,841,817,765,846,765,805,866,895,628,628,655,682,866,682,817,817,875,609,636,857,817,653,874,805,817,740,164,866,695,793,892,828,860,866,817,675,784,609,674,784,626,866,670,839,703,867,874,682,670,782,752,784,608,763,876,792,740,866,827,649,675,740,639,81,164,609,733,673,890,806,628,827,671,828,771,730,655,189,812,686,627,755,670,866,81,892,649,3,675,811,866,805,817,765,878,782,670,763,680,782,817,732,631,857,36,640,670,695,675,817,628,857,82,841,675,101,781,674,603,603,256,765,653,606,867,763,751,867,609,609,883,304,763,609,828,266,626,719,591,675,60,622,686,738,843,827,768,866,782,674,675,782,628,872,866,783,782,828,874,609,876,875,817,848,782,628,205,684,867,609,185,609,674,682,628,265,609,872,674,867,817,733,852,628,791,755,793,656,774,670,274,655,771,805,792,865,828,855,878,765,842,704,866,755,827,655,883,674,763,609,769,866,866,817,674,811,682,655,740,867,609,763,875,22,626,763,847,784,782,715,609,675,682,626,867,628,755,755,655,673,609,638,828,674,866,895,782,848,878,655,740,867,626,892,817,874,740,655,191,763,827,867,892,674,730,640,609,673,609,705,753,746,674,765,765,193,205,867,732,642,858,702,866,121,670,674,682,695,738,848,685,827,703,63,304,740,827,769,865,609,675,754,609,682,866,621,867,653,793,734,763,825,740,653,82,217,832,828,817,670,667,875,695,217,765,817,655,730,224,872,763,609,828,627,693,643,805,874,763,765,875,817,695,611,866,763,817,740,763,674,740,875,682,817,621,784,784,228,591,649,674,784,866,627,703,755,763,841,740,625,88,897,792,656,867,866,655,781,816,754,591,875,141,883,622,217,703,740,710,817,752,814,817,765,765,606,217,685,866,673,667,610,609,609,751,765,609,670,626,755,655,786,876,740,805,828,784,609,20,627,846,703,793,675,695,673,675,732,767,609,609,670,166,698,82,609,674,674,640,293,866,843,881,755,675,857,609,892,771,205,827,674,609,816,782,673,166,611,609,611,653,867,806,867,832,640,266,609,811,670,881,828,852,755,703,647,674,892,682,655,817,755,817,792,675,706,266,746,740,805,682,867,730,793,730,217,896,867,708,682,673,755,771,841,671,790,755,628,80,609,786,857,628,867,674,682,827,867,892,609,749,782,772,797,867,784,805,628,670,674,828,675,812,824,695,137,910,664,848,816,763,784,738,875,667,626,771,892,828,828,640,650,765,82,217,782,670,797,828,782,247,765,824,857,640,642,628,609,655,837,674,817,695,228,695,609,81,703,675,626,811,673,265,806,143,174,695,805,156,816,682,805,81,609,866,628,609,763,225,792,784,832,799,143,866,655,628,639,675,792,109,765,740,695,811,656,217,811,156,755,763,832,878,674,674,50,675,825,101,754,851,609,609,782,893,759,866,765,791,824,609,755,805,674,763,897,740,746,667,828,816,626,755,825,811,765,755,653,225,784,805,782,609,675,653,628,695,875,674,805,692,846,858,247,638,765,825,682,673,674,893,655,850,825,82,755,755,682,805,827,784,624,867,609,740,673,908,609,765,825,695,759,609,640,753,751,874,628,899,755,82,290,765,740,824,611,805,774,606,628,640,827,695,805,653,890,738,867,740,609,705,765,875,606,892,673,793,771,695,639,48,675,771,866,765,655,806,855,765,827,811,895,875,847,675,682,786,675,674,31,817,765,655,20,824,763,817,703,872,791,653,828,805,211,695,136,628,228,674,655,811,645,730,855,673,609,740,740,805,755,740,640,738,878,609,218,765,875,809,675,816,50,674,675,703,134,609,848,650,740,732,876,217,674,740,675,609,827,628,765,80,206,674,675,675,640,765,883,675,747,670,875,609,240,866,675,608,675,667,867,878,675,721,867,774,784,674,866,609,674,817,655,866,590,689,805,792,589,828,655,827,755,680,675,784,883,763,655,817,740,642,755,817,864,675,612,732,781,875,674,792,36,609,674,875,695,670,827,81,710,674,628,740,895,875,874,675,609,675,765,875,781,746,626,883,773,817,695,856,628,874,817,693,867,738,609,703,292,827,591,872,166,817,828,805,765,895,675,782,784,609,806,640,817,855,609,622,674,817,766,857,609,628,674,771,755,793,846,765,675,771,609,591,95,755,20,656,703,806,765,859,715,703,710,638,628,855,636,682,606,674,591,733,867,155,774,782,763,180,609,883,667,859,609,740,609,784,875,656,88,867,20,650,754,763,74,640,792,782,883,674,611,867,653,765,765,674,816,655,609,755,841,143,674,765,609,740,682,217,674,782,824,214,682,674,883,254,817,609,609,817,811,867,714,274,628,701,839,141,674,639,703,675,857,674,20,653,626,656,773,774,640,765,675,20,609,609,857,740,730,883,872,755,609,609,701,609,792,705,805,817,699,817,755,609,675,674,213,793,606,866,682,674,611,657,857,806,701,867,846,817,710,771,626,812,730,857,875,673,698,763,714,817,290,817,567,674,675,80,656,765,850,861,730,872,628,298,875,257,901,828,58,827,609,674,274,866,827,3,732,827,670,771,763,872,740,674,763,626,883,774,695,732,825,655,867,721,825,611,695,804,682,876,763,628,655,828,855,765,817,857,818,609,811,655,805,865,673,765,828,866,875,655,755,609,38,784,753,900,878,703,675,759,793,827,825,746,817,609,858,655,792,784,670,774,784,82,695,63,746,866,782,749,763,792,784,878,172,674,603,874,609,892,732,828,872,821,257,866,817,875,866,609,814,786,675,883,892,892,655,682,674,606,609,862,867,872,793,638,817,673,791,653,609,674,832,786,682,730,755,655,771,675,720,274,782,763,825,674,673,695,689,828,898,674,817,878,892,867,817,866,656,740,682,63,674,779,655,609,628,827,759,655,611,827,265,653,628,193,670,784,82,609,675,825,771,867,3,156,626,867,655,867,773,661,846,872,740,792,866,675,763,817,884,763,765,825,746,765,609,828,848,857,784,755,609,832,789,755,867,217,673,824,670,866,101,675,217,609,673,825,848,771,771,609,172,703,605,875,771,817,675,705,740,892,638,732,627,876,674,832,805,628,765,892,806,782,730,627,805,867,674,82,720,626,805,628,669,825,101,825,675,703,842,781,682,670,817,740,655,765,866,781,655,892,675,701,755,755,627,792,817,682,883,765,299,811,866,805,803,606,256,673,817,817,172,817,763,740,867,828,180,740,682,817,783,609,228,673,695,639,883,782,817,256,639,609,817,88,857,805,832,857,763,653,628,710,640,763,755,63,703,875,892,784,892,846,730,867,664,817,655,63,703,166,866,675,755,729,741,876,817,653,896,675,730,878,740,805,673,266,609,740,755,777,674,890,875,816,675,828,166,245,655,825,817,857,805,682,732,85,765,640,682,805,640,172,674,682,825,817,770,682,655,828,675,883,817,213,828,817,46,850,265,896,740,828,792,101,740,782,825,628,88,82,813,730,866,719,765,763,682,765,857,266,857,867,763,695,755,866,628,609,782,172,841,274,667,626,695,817,609,850,643,892,611,82,892,895,878,874,732,703,805,883,867,741,791,82,813,609,875,626,806,224,730,609,650,811,828,642,674,769,682,811,609,785,875,782,834,649,682,673,817,771,817,817,695,867,782,875,875,883,753,763,782,626,817,784,674,740,765,755,609,825,781,867,628,765,695,827,827,675,729,228,673,875,797,730,609,755,875,817,655,608,675,765,805,755,109,609,814,866,738,755,784,609,628,675,816,673,784,828,834,217,63,755,675,77,755,875,782,166,817,740,640,878,784,740,139,101,817,817,792,682,738,740,675,609,858,721,846,655,884,832,875,673,596,765,674,803,143,671,740,805,816,719,64,628,275,143,846,608,606,844,763,643,620,38,695,817,817,805,224,703,628,670,781,609,234,655,804,675,892,703,817,597,817,642,892,592,803,166,675,866,824,82,781,636,828,866,771,811,783,813,653,675,859,755,763,858,730,857,628,20,740,817,850,611,853,82,636,591,841,640,827,695,781,872,695,805,866,674,134,673,865,784,754,784,883,817,206,866,817,628,732,609,851,867,738,730,655,817,850,217,606,817,702,875,698,828,732,650,640,878,675,755,628,866,857,765,763,795,771,143,828,609,816,674,655,20,755,277,717,591,817,628,609,778,211,674,763,872,212,732,828,782,817,754,640,656,81,866,875,740,817,673,609,675,609,695,866,628,606,655,134,254,710,256,806,674,655,866,730,609,730,817,825,82,763,682,811,784,774,765,866,755,609,846,792,817,846,806,763,805,675,675,609,609,805,827,740,765,626,758,867,673,892,695,805,889,740,839,809,792,675,740,805,626,732,609,695,673,257,205,883,609,765,705,867,127,674,667,675,827,673,817,609,782,784,740,609,740,609,867,763,796,769,266,591,627,20,675,740,732,703,670,655,784,68,682,867,825,655,865,784,172,782,839,730,667,866,792,740,674,674,640,771,866,675,660,831,675,740,115,172,781,626,675,611,779,782,754,609,763,611,782,875,729,609,216,64,695,609,673,866,689,817,674,703,787,867,771,628,675,855,755,653,876,692,782,781,740,695,732,754,841,792,609,609,609,805,765,872,656,811,212,878,817,675,883,277,675,591,738,755,63,813,806,611,653,738,674,866,817,782,606,1,765,827,817,867,866,217,640,784,715,740,748,732,732,889,817,892,609,682,675,782,875,609,674,682,827,274,182,609,765,609,256,700,609,648,782,875,858,164,866,245,817,682,867,878,817,839,848,622,878,738,695,805,771,628,228,875,866,640,695,883,782,675,817,101,765,782,784,596,740,828,674,609,640,675,175,827,867,782,609,609,817,817,806,763,828,866,738,265,277,591,166,609,695,38,827,609,682,867,855,825,811,626,850,875,875,765,675,640,774,765,763,755,609,787,857,682,677,673,892,817,811,674,770,638,626,817,755,710,675,755,606,805,876,817,828,892,892,682,596,876,866,773,858,136,786,667,866,867,883,609,827,227,732,265,827,611,763,763,867,640,82,670,695,740,609,675,695,781,682,740,857,769,828,759,256,792,755,817,649,784,828,628,867,867,699,771,732,655,626,811,628,765,670,825,730,763,675,825,813,755,765,765,867,782,675,892,185,817,591,763,88,765,774,824,858,817,846,164,703,828,782,792,817,763,674,620,771,673,655,706,805,818,817,784,846,828,806,765,771,609,101,655,626,217,841,674,857,781,784,682,591,828,240,817,674,866,674,213,782,133,38,782,675,816,681,732,656,670,755,805,628,848,832,855,675,217,275,805,827,703,892,755,876,817,817,609,866,817,784,609,628,88,718,892,805,738,609,20,857,675,894,609,825,611,765,682,609,103,874,908,640,805,789,792,266,609,655,232,874,616,827,878,673,805,858,703,675,628,675,673,674,674,782,817,817,680,695,740,674,805,875,172,695,606,674,653,715,628,875,740,609,740,597,172,655,674,878,675,874,655,628,875,763,640,628,681,847,682,855,817,817,746,832,703,865,832,695,892,675,294,810,620,872,875,746,642,609,654,674,850,817,172,143,817,828,224,814,655,675,771,857,765,813,172,609,609,733,738,703,639,695,872,771,886,640,628,682,869,817,730,811,765,755,695,895,63,675,609,867,827,655,855,730,673,857,857,828,740,674,640,897,805,828,753,771,609,205,674,847,674,772,675,878,845,782,855,812,609,746,771,867,245,805,805,889,217,791,628,82,609,878,695,703,63,817,675,782,746,740,793,609,82,740,606,828,848,719,755,62,741,675,740,755,779,703,774,892,817,109,771,609,828,653,82,81,740,781,817,772,846,765,300,626,653,896,817,828,609,861,626,771,872,817,763,740,827,755,817,755,674,883,609,674,50,740,765,674,740,827,874,867,609,881,828,609,193,765,606,817,611,732,101,784,784,817,271,682,653,892,867,814,883,699,875,782,667,867,832,825,850,763,763,866,765,866,793,858,828,896,590,755,858,782,782,695,695,875,875,673,809,95,792,228,740,217,781,867,784,657,611,674,675,609,732,827,816,674,754,740,792,755,817,675,874,603,616,812,751,626,832,792,673,695,866,866,792,672,765,81,703,755,82,695,866,786,782,609,827,673,640,784,609,628,63,825,675,674,867,755,674,734,59,655,765,765,675,673,640,765,740,675,746,878,609,609,755,755,828,695,640,77,771,892,828,763,740,865,703,782,763,653,816,675,817,609,867,740,828,817,674,878,771,752,164,883,141,682,875,763,763,771,613,782,205,781,682,740,609,713,805,892,381,817,761,673,765,675,866,591,609,643,695,806,82,817,806,626,81,896,782,742,673,695,817,627,185,655,855,800,740,792,771,814,675,765,740,755,740,703,143,803,703,867,870,227,765,609,674,666,667,81,863,867,288,698,803,740,675,763,520,846,675,48,784,881,868,874,805,825,867,817,674,671,609,290,620,878,665,875,857,876,740,857,3,832,792,805,782,784,674,626,827,901,782,875,738,609,883,817,50,684,755,892,206,609,730,675,650,653,763,754,703,682,817,873,817,827,675,674,872,697,682,825,763,814,793,866,872,266,675,892,792,695,38,735,825,867,703,730,858,172,834,703,628,850,81,825,740,824,673,656,817,770,812,759,695,817,609,740,828,782,166,740,805,771,825,61,675,793,673,640,675,640,674,867,655,628,732,597,806,695,792,817,143,857,740,256,671,675,626,841,674,839,805,673,674,695,628,805,674,805,867,609,656,101,770,674,675,715,878,655,806,755,858,655,755,763,682,824,875,744,784,773,671,765,806,782,695,755,638,765,667,703,755,857,817,763,792,180,825,671,817,782,805,682,609,217,875,591,784,866,675,656,817,606,280,765,682,814,883,609,806,609,655,713,609,817,878,256,828,703,892,817,655,649,825,675,874,763,713,755,740,206,740,695,895,673,784,640,782,845,817,682,611,867,792,20,166,81,675,655,867,802,640,811,907,673,193,609,817,640,675,675,609,827,867,755,695,829,786,765,782,695,832,874,782,771,784,825,732,857,609,786,609,695,643,695,883,36,805,755,626,720,855,675,817,781,740,656,740,878,814,763,703,609,828,674,626,671,228,897,878,740,682,591,817,703,874,640,786,805,703,892,640,855,805,866,773,810,875,655,628,856,867,827,875,763,825,143,265,674,640,803,267,875,828,771,180,806,703,803,878,866,766,609,755,628,753,867,682,630,655,765,755,811,701,615,875,896,674,805,806,827,878,81,878,763,867,896,857,740,771,95,867,609,783,609,763,782,674,178,77,611,811,730,876,740,609,661,615,146,827,892,755,461,753,765,805,771,825,867,655,675,817,825,765,614,177,628,166,166,755,870,792,832,811,817,787,655,814,703,670,817,213,675,817,755,867,878,875,781,876,674,765,792,674,732,682,857,72,606,627,609,682,609,805,763,20,867,858,867,828,892,143,828,876,829,763,675,901,765,682,698,673,696,881,655,771,859,675,81,675,674,806,765,765,695,670,866,812,875,640,755,20,784,765,679,892,46,852,878,763,769,214,689,626,144,765,875,609,793,765,765,892,77,828,782,611,655,673,80,765,817,728,682,818,782,854,866,640,682,746,874,601,872,828,805,763,228,281,857,643,609,765,109,719,771,875,609,858,606,867,786,674,866,811,792,640,673,674,733,828,732,611,713,609,740,861,765,806,755,874,892,670,872,784,811,805,609,751,793,639,857,866,614,591,675,782,277,609,732,892,867,653,791,763,699,848,156,883,755,164,609,817,673,628,817,811,682,674,685,266,867,817,224,817,732,901,876,782,628,710,817,20,866,817,782,638,674,884,827,732,817,774,695,134,615,817,784,828,740,740,876,733,695,867,708,806,796,817,765,738,792,866,20,773,875,148,682,738,609,675,626,628,22,699,675,782,674,858,876,878,775,155,730,682,827,875,695,814,626,682,675,695,609,867,806,101,763,740,763,901,765,828,674,867,763,290,811,609,740,703,673,817,640,763,866,763,860,682,674,866,609,740,872,80,883,656,156,228,805,771,855,183,782,818,3,765,771,682,732,673,771,875,763,782,811,628,792,817,782,817,846,825,855,814,640,256,817,609,609,857,609,784,205,883,779,609,675,818,806,695,655,675,611,674,851,275,628,673,828,290,611,675,832,859,699,639,867,257,872,655,653,827,674,695,656,746,867,609,266,82,817,164,792,706,755,674,732,209,675,703,806,866,860,809,771,626,190,817,640,156,763,703,675,640,755,805,766,609,655,609,817,656,872,628,792,765,141,828,832,883,815,682,682,674,740,857,866,814,20,676,738,755,703,695,908,763,868,763,858,817,860,695,867,806,817,771,633,805,20,792,597,606,828,139,101,82,606,682,640,655,740,817,609,675,609,892,784,695,609,824,866,740,695,655,218,748,897,817,256,673,883,812,876,136,839,805,671,755,628,738,609,674,703,784,673,782,755,615,708,867,273,824,792,828,793,781,674,732,789,791,878,37,763,671,867,755,892,817,674,755,876,628,609,675,640,901,22,857,675,703,839,824,63,738,674,600,813,655,676,876,817,735,811,883,866,765,703,609,217,763,185,256,693,892,765,674,765,866,817,867,746,765,828,875,740,781,875,792,857,188,872,732,866,671,217,867,740,746,673,674,626,746,812,866,792,774,828,878,655,875,628,675,827,903,793,682,674,791,639,817,805,872,703,805,628,867,791,732,695,626,732,759,605,765,695,704,740,792,866,799,143,897,703,711,828,866,827,857,674,805,649,655,760,628,782,714,763,143,816,656,781,185,655,806,194,765,228,805,675,846,628,776,606,609,740,875,896,832,763,755,735,655,674,832,828,640,609,749,754,740,609,867,805,875,626,858,730,674,872,875,740,806,793,674,675,793,846,80,800,703,183,827,730,872,675,828,627,609,606,782,763,271,640,755,674,804,765,675,805,740,889,867,755,765,828,805,712,791,805,858,675,765,782,608,825,817,827,675,640,675,628,771,20,805,82,730,858,739,670,842,741,703,324,878,81,781,765,740,730,675,867,653,857,693,609,682,653,674,776,827,763,675,889,674,852,640,216,740,640,763,866,609,784,827,806,755,828,477,682,883,609,271,867,655,609,675,164,673,673,655,674,875,787,626,640,754,628,857,627,867,656,609,228,266,867,793,782,817,166,609,771,878,160,817,740,765,197,860,765,611,628,765,609,763,892,866,771,876,855,755,828,639,765,817,675,609,896,675,689,172,670,674,763,609,867,772,763,765,675,848,867,640,828,765,655,765,848,609,811,855,857,814,832,855,690,82,805,817,695,682,719,639,673,855,817,817,609,828,650,740,166,872,740,812,767,609,609,737,827,858,682,866,673,673,609,682,609,765,850,892,763,867,670,824,866,608,811,792,670,765,675,857,675,674,730,828,675,793,842,910,609,695,784,755,730,640,848,639,627,59,620,674,740,609,675,609,667,824,817,695,782,782,857,825,740,767,733,675,638,740,732,878,867,217,805,895,878,817,765,609,741,655,164,639,674,771,738,755,754,655,609,154,81,817,782,609,635,805,675,628,695,867,795,866,609,784,740,805,867,867,792,765,841,612,674,777,866,675,611,782,827,817,674,805,655,817,817,740,781,611,805,225,675,817,746,626,609,782,194,740,754,850,695,611,817,609,805,792,63,883,771,674,708,766,827,741,609,817,749,609,670,609,763,784,628,850,591,832,609,848,589,81,674,675,814,638,164,828,611,773,211,791,674,609,817,675,640,606,628,703,883,765,695,590,214,740,655,843,817,613,763,866,773,81,827,675,755,730,609,765,828,217,641,746,879,872,832,734,438,784,682,615,792,655,872,771,740,782,680,661,763,793,675,609,901,620,675,755,609,695,806,675,620,895,670,763,817,883,674,857,793,817,828,611,38,905,682,649,765,875,172,670,878,763,675,109,674,841,63,806,628,872,653,866,832,765,732,803,682,609,703,883,763,741,754,883,876,609,878,50,271,878,782,875,794,813,675,765,670,765,827,20,655,825,205,609,172,213,636,746,817,655,792,828,763,805,217,609,740,640,765,738,674,805,609,640,628,782,740,765,640,857,805,875,867,281,846,166,254,670,867,875,828,673,828,670,740,905,609,806,674,670,875,615,805,674,590,765,792,675,695,609,848,786,867,884,857,212,828,609,861,609,670,839,805,685,763,892,894,166,753,892,740,827,628,673,732,875,38,674,322,875,779,134,655,682,155,14,88,682,763,674,858,755,655,867,732,609,858,763,805,805,817,866,143,695,609,817,675,674,817,771,828,753,64,867,883,675,77,817,866,265,770,805,875,765,217,718,866,673,640,682,628,26,782,673,82,730,705,655,682,682,719,771,857,732,674,817,782,817,799,674,689,817,827,784,628,740,828,782,767,870,772,695,755,675,777,809,759,817,802,816,829,857,771,770,867,771,713,626,755,765,817,740,609,771,675,673,831,730,182,866,816,609,828,143,615,732,732,771,872,218,896,620,857,852,718,771,626,675,805,761,82,825,20,850,674,755,82,875,825,675,875,740,765,857,805,867,848,740,675,609,825,867,782,695,787,806,828,740,878,857,735,655,817,626,875,827,674,872,671,825,609,878,813,682,628,805,655,883,772,828,670,793,816,228,857,784,49,868,846,609,675,641,611,213,609,20,88,609,755,872,765,755,730,655,609,817,857,872,895,733,675,732,655,193,710,867,872,878,80,817,817,765,609,670,828,740,763,841,701,710,675,671,806,609,655,817,733,875,551,876,738,824,883,782,817,895,792,763,905,866,640,772,674,156,667,755,675,866,653,266,870,740,661,290,880,648,788,675,859,653,625,711,774,609,148,765,609,765,817,806,589,872,68,217,80,813,695,674,784,784,892,875,730,671,655,185,771,765,784,166,695,82,265,883,609,867,857,721,655,875,675,781,875,866,771,609,682,611,755,171,765,765,827,875,827,763,765,765,674,609,867,218,640,857,827,818,682,626,765,656,867,715,740,860,741,892,20,674,674,883,655,763,600,611,763,771,866,655,782,857,217,610,813,611,609,850,609,792,626,656,675,832,674,867,746,817,841,653,674,825,892,817,682,628,839,609,649,24,817,883,609,858,20,668,857,738,675,874,755,674,217,269,781,772,609,792,609,609,806,628,755,771,791,674,817,665,784,824,703,626,781,675,601,655,620,825,675,609,786,817,875,892,609,704,81,860,628,673,740,828,738,817,782,675,682,675,844,670,809,20,782,892,781,172,872,827,643,88,765,754,656,827,695,628,715,609,727,872,38,741,892,805,240,764,626,733,874,805,609,765,703,609,841,609,817,707,878,164,740,628,828,674,640,647,264,609,675,755,765,795,713,763,848,650,611,805,829,765,828,771,640,659,867,805,901,675,193,875,765,639,763,675,765,905,896,680,866,817,673,713,626,765,628,265,867,850,738,867,695,759,124,626,763,187,817,818,884,781,782,591,811,662,675,817,609,591,167,765,817,817,784,792,740,609,817,778,609,828,265,667,640,892,828,857,825,730,609,875,675,746,846,817,609,765,832,615,765,640,88,732,671,58,256,867,609,628,675,828,782,827,892,674,861,763,628,675,22,732,673,766,703,609,77,20,805,730,673,166,758,609,674,755,609,872,765,609,732,817,867,266,771,746,868,784,892,892,695,892,703,609,771,850,828,866,763,765,817,82,609,763,805,802,793,855,729,667,858,846,609,746,802,609,782,649,772,782,265,609,818,675,675,682,861,784,892,889,299,673,675,682,609,675,682,609,655,611,597,674,765,771,640,628,628,611,763,746,626,817,670,20,663,755,901,228,806,782,817,609,217,675,628,695,695,655,589,883,50,781,765,896,851,867,866,185,765,867,640,806,740,892,859,38,771,832,746,738,674,609,817,755,861,766,872,781,740,164,675,681,753,889,670,682,792,640,609,832,827,63,640,763,828,867,674,609,101,703,878,655,782,765,811,792,266,782,740,82,765,674,740,784,825,627,673,609,740,874,844,609,765,895,217,682,703,609,609,765,703,858,754,611,655,792,755,675,710,846,828,817,828,675,628,675,883,892,217,675,805,656,675,609,763,681,20,626,670,817,740,754,763,670,714,609,848,868,674,609,866,858,695,638,765,673,706,867,703,866,609,805,5,674,866,20,695,875,675,732,765,763,824,781,817,793,825,817,805,649,675,703,763,857,867,763,866,753,205,609,857,848,765,897,857,740,855,675,613,274,909,749,721,50,817,266,817,771,806,662,698,674,805,205,101,609,626,670,290,793,673,781,781,136,866,803,738,765,792,828,773,640,883,655,127,609,185,675,807,765,675,695,673,673,682,695,878,640,805,805,626,782,849,675,806,805,20,740,675,828,817,628,674,695,875,39,732,732,674,695,674,467,693,609,883,620,82,740,682,675,655,874,817,805,667,266,217,842,817,256,674,675,867,755,755,741,609,825,227,755,609,626,675,674,892,699,782,670,109,735,609,755,640,673,805,674,675,875,765,892,867,611,20,817,649,814,275,828,626,765,763,675,771,817,732,675,875,878,730,170,857,638,591,682,705,876,867,274,626,765,674,867,675,774,204,781,609,675,765,817,593,805,817,143,640,699,792,695,875,883,763,192,675,848,792,827,628,609,31,867,662,867,892,825,217,867,682,857,805,628,628,817,740,867,166,740,124,805,876,626,720,827,866,811,741,640,771,817,185,817,271,792,609,817,846,865,609,763,640,805,667,784,591,817,616,765,703,792,699,698,628,755,875,771,770,655,609,274,786,908,883,166,855,817,674,868,675,703,609,892,682,806,906,812,763,817,674,866,872,675,828,816,674,755,662,673,640,628,183,872,673,675,653,859,703,892,765,763,38,638,867,38,611,166,675,817,814,721,673,828,817,811,675,792,866,640,817,628,605,185,825,682,682,763,609,609,703,817,765,205,655,609,627,805,738,765,212,817,765,765,896,765,147,817,699,872,857,817,695,896,806,866,811,848,751,675,793,628,793,227,883,817,671,896,875,817,827,754,817,609,609,655,874,730,816,673,609,784,771,738,872,674,827,265,872,682,758,782,679,792,609,63,875,740,763,141,609,872,730,867,771,755,846,606,892,241,675,703,782,805,766,704,656,681,695,827,817,908,703,805,38,827,675,875,740,817,682,817,143,876,865,876,754,895,682,606,695,832,811,867,134,828,675,759,839,817,609,874,674,773,817,817,782,867,806,655,828,655,884,81,765,752,596,782,763,868,892,763,857,673,892,735,751,670,883,866,866,791,782,883,771,817,600,675,228,834,765,771,732,765,20,817,771,682,782,655,867,675,874,824,784,653,755,828,626,695,682,653,109,765,628,866,661,609,771,695,789,875,827,782,675,703,667,667,675,866,101,653,695,675,782,848,733,113,817,817,755,817,866,63,746,620,38,776,211,792,828,732,609,818,763,609,817,626,805,867,166,763,817,682,655,675,765,675,867,120,803,817,720,674,828,782,755,817,217,143,905,136,670,813,730,134,674,866,609,763,611,609,817,828,82,740,763,675,866,763,872,628,626,763,875,611,792,611,779,875,858,828,609,746,880,183,771,674,765,867,88,825,763,674,755,675,814,828,689,765,765,883,828,846,156,615,730,827,655,81,817,734,689,628,732,875,674,867,817,609,193,866,738,869,25,765,857,38,675,695,805,866,765,669,878,740,638,825,682,266,682,825,825,892,36,857,609,878,792,695,609,876,673,814,740,674,172,48,38,866,866,670,763,755,828,876,265,859,732,813,609,675,763,782,892,266,827,753,771,156,828,763,910,874,876,845,610,274,765,751,827,765,828,825,609,875,817,682,817,765,784,874,816,682,763,883,755,878,609,609,866,742,867,674,875,732,763,876,782,281,846,817,626,734,793,609,217,667,20,782,805,670,732,763,792,675,867,674,740,719,812,639,763,675,805,765,817,609,695,842,740,136,866,758,609,617,817,681,883,732,765,866,609,609,670,101,675,784,875,185,857,225,771,627,640,856,732,828,883,689,867,763,674,674,673,753,818,214,828,148,655,673,825,866,675,20,609,609,266,848,740,765,771,740,816,655,846,674,217,755,866,703,82,82,860,674,866,740,609,870,803,892,740,867,866,274,872,895,640,765,638,875,805,758,730,590,675,827,858,817,675,609,735,782,755,626,695,828,656,883,866,740,782,782,699,675,50,811,670,828,3,878,839,765,638,866,805,609,673,753,765,825,749,738,759,606,608,732,609,48,732,639,866,793,633,685,609,817,740,875,674,755,892,656,703,50,771,896,732,765,689,878,828,143,876,866,281,695,610,682,38,695,817,675,626,628,703,738,109,867,655,615,892,609,793,738,674,867,857,827,674,817,673,817,640,792,674,755,682,875,859,771,763,667,674,675,674,730,609,866,640,609,675,817,811,817,867,63,674,870,782,763,867,817,782,682,675,857,878,675,755,805,867,866,857,875,861,878,765,640,828,695,636,670,732,805,673,805,817,875,781,765,609,81,670,695,782,816,771,789,626,609,842,824,281,817,605,782,136,730,675,236,670,875,628,866,866,817,673,892,867,655,763,740,609,755,792,827,609,661,817,900,626,228,875,817,633,763,782,271,655,897,828,628,82,872,693,166,675,609,896,792,628,675,675,675,817,682,858,673,256,626,771,753,675,811,817,782,682,244,228,695,812,771,867,640,892,842,656,732,704,825,755,609,695,628,609,817,765,674,642,675,738,772,609,792,759,746,812,609,872,228,628,763,763,866,848,817,755,812,682,857,217,63,655,674,883,780,609,611,866,859,674,784,674,806,765,827,848,765,878,782,80,670,792,817,609,675,44,906,858,673,670,781,806,628,817,883,266,627,811,732,817,609,811,792,609,166,609,675,674,675,740,763,828,673,674,872,675,674,674,653,771,858,841,689,782,817,763,828,740,675,875,876,609,872,763,772,738,615,120,613,620,875,674,609,674,609,628,626,792,763,695,784,695,782,609,875,732,703,755,755,909,675,765,910,855,674,885,786,875,803,765,675,228,183,703,805,858,695,274,784,781,36,805,895,266,639,274,875,675,876,867,710,611,675,612,682,82,807,649,763,889,784,779,63,675,655,817,773,628,812,812,850,765,166,867,609,164,892,707,628,20,695,591,883,755,866,703,786,655,866,763,816,609,872,848,859,876,806,740,740,609,239,781,673,275,817,883,7,866,803,655,817,217,682,781,775,738,836,832,670,872,867,867,266,615,867,817,695,765,765,626,730,817,82,740,675,754,77,675,674,805,765,36,763,825,846,803,609,872,784,827,832,771,153,609,765,892,817,675,628,675,771,611,671,817,640,14,855,763,740,782,655,609,738,855,653,674,194,664,730,858,858,81,805,867,804,674,286,143,639,749,695,858,740,695,866,26,875,685,763,805,771,817,740,273,776,22,784,828,738,763,827,892,832,817,857,846,771,740,832,782,852,825,857,876,773,82,855,609,609,865,673,655,20,662,866,825,740,627,875,609,817,675,765,825,901,615,781,875,781,792,832,675,667,763,866,640,609,703,892,38,134,640,811,781,703,765,740,781,738,817,828,675,765,172,866,600,653,828,782,805,138,817,740,609,805,753,655,740,653,784,609,675,703,674,609,682,786,817,216,805,695,867,673,591,858,695,870,788,609,858,740,892,781,825,765,655,771,774,771,675,677,771,715,763,675,603,640,781,848,872,806,872,50,740,773,755,867,689,769,615,699,772,805,875,878,683,205,28,266,765,675,763,774,771,675,609,609,867,682,797,217,28,78,806,765,183,817,758,814,675,805,755,611,876,779,771,763,20,609,782,667,626,857,611,784,730,782,611,765,674,805,876,884,673,695,682,765,827,883,811,827,827,782,878,793,865,792,740,682,281,20,786,763,784,609,892,817,88,866,22,674,228,609,609,628,828,674,193,638,817,827,875,63,670,682,297,655,817,817,867,609,740,867,755,827,674,824,792,667,755,857,817,653,674,866,892,611,609,628,765,675,628,596,695,674,256,732,682,673,825,609,817,609,866,782,867,626,640,732,655,755,817,166,609,765,763,771,609,782,805,805,38,674,755,773,755,193,817,720,156,765,892,806,674,674,867,673,257,682,763,765,792,805,858,254,719,866,866,858,282,805,817,228,866,793,763,695,813,771,763,866,740,896,655,908,681,699,675,865,673,12,682,792,667,82,738,878,656,675,806,805,765,862,846,294,591,828,872,892,655,673,674,765,266,80,824,183,20,805,792,674,703,609,832,620,897,795,682,781,825,817,674,82,82,875,56,763,655,682,641,765,867,824,304,667,628,675,187,611,763,213,626,803,674,674,38,858,695,653,866,883,894,611,763,640,782,675,609,663,771,674,675,846,866,675,612,675,182,740,609,695,858,674,640,883,628,695,850,713,670,609,781,740,792,674,667,872,746,802,609,827,828,805,88,674,817,778,765,606,695,640,274,606,828,875,768,758,640,695,842,781,682,784,628,828,867,805,182,674,774,867,254,674,870,825,824,109,675,817,892,266,695,771,792,611,609,771,675,640,805,640,875,867,746,765,193,675,793,817,699,81,857,730,860,675,20,763,77,622,816,655,729,614,763,626,710,869,88,674,689,755,892,649,620,640,895,817,817,763,866,655,609,682,857,769,673,611,782,763,765,628,858,784,674,20,628,627,817,862,763,883,876,895,682,609,675,781,784,827,609,606,193,824,892,817,841,609,670,730,867,784,703,20,883,656,792,765,682,682,609,866,606,740,141,655,721,740,362,867,730,772,116,875,763,817,655,792,695,817,784,22,763,633,772,183,674,609,611,755,670,814,857,639,703,755,812,875,653,609,640,274,793,609,817,817,638,609,784,772,866,695,674,812,792,611,141,125,782,867,274,817,81,714,765,765,858,817,675,817,828,640,732,185,763,609,674,771,695,771,792,755,682,765,609,740,828,256,740,675,732,626,674,765,870,817,827,628,675,867,765,817,832,782,187,892,805,867,675,793,867,628,649,771,792,828,817,832,825,782,655,792,675,20,674,640,825,609,755,805,771,805,148,590,784,748,857,890,867,597,655,866,638,707,866,609,272,754,628,185,781,828,827,867,674,740,290,746,193,858,675,609,695,674,700,611,655,763,867,609,670,805,875,782,760,832,828,609,793,609,639,817,866,629,765,605,817,828,892,217,771,655,20,781,674,703,653,867,673,765,792,828,740,784,763,609,763,674,805,217,892,765,817,227,609,22,824,817,825,866,763,609,782,740,606,754,805,671,675,805,811,845,695,740,883,703,670,640,628,839,782,675,675,674,792,755,148,872,825,765,805,832,674,156,674,867,781,765,765,620,742,828,661,816,730,732,866,897,682,828,769,640,217,656,740,857,36,846,247,817,824,875,817,695,866,841,609,228,675,782,765,609,765,653,867,703,640,626,875,609,805,825,866,675,800,673,857,642,771,653,824,675,755,612,832,205,817,628,817,824,892,765,765,695,732,674,620,866,77,609,867,125,265,763,653,806,782,265,638,875,857,628,661,609,846,837,703,609,695,740,857,875,765,806,872,710,740,109,655,674,817,832,682,675,609,211,626,712,805,633,675,765,732,846,609,703,95,811,241,908,855,875,22,609,884,689,791,824,816,855,74,784,615,828,755,609,695,814,271,857,740,217,792,825,640,817,217,867,675,609,857,609,673,793,817,703,865,755,655,782,609,740,866,639,229,674,855,828,675,892,609,187,53,740,675,860,675,682,703,71,674,817,143,765,875,682,874,615,892,682,682,813,828,615,883,763,782,878,817,740,690,109,68,609,703,765,799,866,621,875,732,755,670,609,695,908,639,670,732,80,825,681,206,740,776,674,857,875,609,682,88,675,805,80,817,771,674,828,609,765,874,828,765,876,817,675,609,674,782,792,892,817,811,682,609,784,808,730,695,611,671,771,185,682,695,682,867,740,765,867,848,227,638,674,720,814,82,689,765,765,740,655,771,656,615,695,609,740,675,867,682,101,788,628,816,763,688,290,817,675,784,792,730,172,281,846,827,740,771,771,166,817,782,763,781,151,20,670,682,874,653,685,755,855,858,675,216,748,892,164,841,784,892,855,591,670,655,730,718,872,744,828,626,698,784,674,805,674,774,872,703,827,763,653,740,205,656,609,609,669,817,867,628,792,609,593,695,682,609,765,817,653,828,827,143,613,609,809,640,859,817,609,824,867,638,866,806,670,609,620,609,763,675,653,611,266,675,895,680,703,127,609,609,611,870,636,765,792,816,825,806,667,674,674,865,763,782,738,109,817,703,671,628,782,781,675,193,817,817,182,817,875,765,675,828,881,875,765,827,765,908,792,875,695,841,781,245,825,765,866,640,827,781,609,867,828,675,782,609,746,719,609,763,609,695,164,640,817,217,653,628,609,654,828,816,781,695,792,143,675,682,590,784,710,670,758,256,183,763,784,675,867,707,703,695,675,771,732,892,695,763,894,765,828,609,650,675,749,817,858,699,774,695,883,814,675,859,675,639,639,80,628,817,166,670,853,649,675,609,673,675,846,771,664,817,828,609,883,875,63,681,674,817,781,628,817,770,609,143,781,674,628,784,792,605,674,217,811,784,675,846,732,755,817,784,763,639,866,609,88,784,609,156,781,828,626,883,164,755,611,828,782,857,682,703,596,738,213,88,765,892,695,20,828,765,811,755,755,878,832,82,670,813,695,827,883,740,628,703,20,793,203,664,609,675,867,609,858,825,609,343,870,892,732,22,655,667,689,782,628,166,228,824,649,828,628,874,732,759,217,782,765,771,675,705,827,740,876,792,732,803,628,793,677,781,609,636,892,740,653,682,628,792,814,164,671,782,817,640,656,765,765,806,609,771,675,867,892,695,805,670,746,609,609,793,805,875,205,698,674,759,792,740,792,817,817,809,20,621,857,867,806,860,609,763,675,759,811,827,770,765,695,609,763,740,771,817,652,609,674,866,682,813,774,857,609,827,748,765,266,763,675,627,64,609,609,682,792,640,740,883,784,868,682,867,782,674,217,811,675,740,857,730,857,772,784,36,609,620,695,784,81,784,624,842,703,857,688,675,896,806,875,782,101,799,857,857,609,730,755,867,648,609,859,609,34,628,205,755,675,20,681,870,609,682,827,827,640,878,674,609,828,793,901,217,675,182,883,817,63,850,655,664,609,892,772,675,606,740,866,256,875,828,828,695,875,656,682,793,867,818,848,765,866,605,784,695,811,827,609,765,166,609,784,832,817,20,746,732,827,771,740,609,858,755,675,793,609,782,850,754,38,673,609,874,101,675,817,765,740,603,878,609,883,674,782,755,857,805,765,695,719,675,699,661,875,782,805,765,797,673,609,817,817,867,730,828,675,628,824,682,765,839,765,746,774,865,827,892,609,866,675,17,675,674,784,50,857,655,727,640,82,824,674,675,720,609,763,673,784,640,848,682,730,782,889,609,866,878,609,857,777,675,875,763,695,626,655,265,825,134,164,771,828,655,763,228,763,217,784,817,771,740,183,591,591,755,875,682,732,674,627,156,649,609,655,166,765,793,774,817,781,675,817,824,828,653,817,16,828,828,805,591,866,693,609,675,164,866,843,640,609,846,895,703,730,695,675,817,674,792,695,670,765,789,733,275,228,817,675,674,609,876,828,875,763,772,640,81,784,828,774,611,22,611,20,817,765,703,675,636,609,876,792,817,828,183,892,74,609,290,682,804,875,857,875,640,703,782,875,682,781,609,905,628,675,867,901,817,765,628,673,788,682,763,628,828,675,774,867,225,674,609,675,825,892,866,108,703,763,763,829,872,765,376,765,875,609,740,867,781,814,685,755,857,653,766,31,553,765,824,655,828,883,59,692,227,293,609,872,813,77,782,815,627,640,805,817,649,896,621,782,256,816,867,655,675,77,876,674,766,779,640,765,824,875,894,765,781,609,755,730,609,791,867,755,759,814,811,682,832,832,848,817,675,828,695,609,828,227,82,874,642,763,771,763,755,675,817,817,609,828,628,763,755,832,763,755,674,609,109,340,895,908,649,765,740,266,606,740,611,782,867,784,771,675,782,771,829,769,655,609,628,790,695,866,734,754,828,628,817,655,591,763,655,675,754,738,765,771,628,673,867,682,755,609,828,765,755,782,740,675,628,609,817,850,813,746,246,858,682,740,763,675,802,817,674,824,817,781,806,655,675,857,792,143,740,765,217,817,730,611,673,682,675,675,143,674,874,732,866,782,38,609,749,211,811,867,667,765,729,740,609,670,806,765,674,892,609,781,609,813,655,655,655,609,205,890,693,670,781,765,875,77,675,77,628,695,674,859,609,782,609,818,81,769,192,809,640,609,609,857,828,609,609,876,884,628,816,609,674,615,639,609,695,143,825,563,690,695,901,50,101,682,771,673,867,858,695,781,784,893,782,875,764,682,755,608,828,817,675,817,876,730,807,827,675,792,656,740,703,703,675,775,763,609,670,817,636,112,805,782,828,122,88,763,883,892,763,673,228,869,817,695,875,892,755,609,730,615,741,232,846,817,81,806,792,674,805,763,674,827,649,674,857,883,855,765,817,172,791,817,730,806,825,675,50,164,627,765,257,805,695,628,3,772,878,828,875,682,148,857,817,841,817,740,609,817,895,38,861,908,817,727,609,696,883,755,82,825,827,685,817,779,789,227,81,695,825,866,774,867,655,827,872,784,38,848,806,36,765,20,675,692,857,876,763,265,878,896,675,825,733,609,637,673,771,817,765,874,779,227,664,759,695,603,143,626,867,755,609,615,817,809,674,889,811,872,673,724,653,875,674,609,828,227,740,20,855,38,792,673,805,675,771,738,703,763,597,738,867,695,746,675,63,674,609,647,703,828,892,858,876,740,771,858,638,805,800,746,628,609,892,656,866,895,784,866,674,866,878,765,875,673,828,710,755,655,133,674,883,866,281,874,817,857,759,245,609,741,673,740,889,784,628,782,609,866,141,866,674,20,776,682,675,695,817,674,740,626,805,609,817,274,765,861,878,673,653,782,674,740,38,740,765,784,611,763,628,675,600,675,816,804,749,655,609,825,755,828,609,674,828,640,293,848,172,88,784,765,609,674,866,609,817,805,675,782,689,847,782,805,609,811,695,116,674,275,36,81,675,733,755,675,611,782,217,732,674,682,805,771,763,675,732,765,609,609,806,850,875,827,136,780,792,817,674,866,771,597,732,812,746,732,755,784,806,786,653,720,156,765,896,628,695,755,649,876,892,814,136,867,817,805,640,628,763,682,738,609,689,732,828,77,626,866,609,866,817,792,740,675,867,867,781,228,706,675,639,782,609,674,865,772,611,682,609,771,675,825,674,670,774,609,609,155,703,682,609,866,817,656,703,674,661,763,217,675,673,217,682,716,765,846,793,755,609,740,609,609,858,674,782,805,675,787,81,828,740,763,675,814,765,615,867,805,653,166,258,805,784,732,828,609,670,193,609,857,782,733,787,782,874,828,867,755,682,703,675,848,875,782,908,675,740,813,655,765,597,740,266,81,675,805,765,609,818,20,763,786,866,277,674,675,274,846,828,682,81,817,674,790,828,609,805,866,832,674,792,673,609,740,817,228,82,874,653,640,814,817,615,883,781,675,49,817,832,591,730,805,674,828,609,88,755,670,867,765,50,799,675,908,675,816,866,674,865,817,251,872,782,675,217,609,828,866,805,675,732,609,867,791,674,82,640,669,824,674,817,866,81,626,805,746,860,703,281,765,858,763,763,703,674,891,675,649,875,685,609,675,805,783,825,782,682,828,866,675,609,832,765,878,814,609,828,653,816,675,649,695,784,781,875,628,642,819,740,755,805,674,611,730,742,782,610,166,805,784,227,640,710,763,735,870,88,227,765,806,765,675,674,675,791,740,857,228,763,647,765,892,793,639,883,172,217,876,782,682,227,265,606,655,828,828,805,640,640,626,858,732,674,817,765,609,811,680,825,640,682,786,703,730,867,759,896,839,673,702,609,166,771,730,855,675,755,281,730,858,765,828,806,707,322,88,765,771,765,883,674,892,667,759,878,857,670,675,675,3,166,609,771,889,817,828,609,732,784,765,721,699,675,682,817,20,813,719,832,875,792,846,88,640,878,805,617,872,673,740,765,755,793,730,20,718,609,20,113,805,805,703,674,811,680,606,732,675,674,892,655,640,703,655,609,655,867,655,675,695,782,858,792,872,719,693,765,895,670,228,832,817,805,791,667,703,172,615,653,817,611,828,892,765,878,771,867,682,721,782,674,149,695,824,867,817,824,817,875,732,817,908,695,673,827,817,805,828,817,655,674,674,874,675,805,832,626,867,828,217,867,828,893,755,834,763,793,858,792,895,273,811,828,870,765,763,817,846,713,695,609,883,661,696,631,640,867,867,675,894,817,763,695,818,674,755,675,860,876,674,682,765,867,792,655,892,867,609,600,781,802,740,817,866,828,732,825,863,156,287,846,609,180,845,609,674,867,185,817,867,876,609,771,867,656,878,675,674,892,101,781,763,674,655,609,805,721,682,811,763,765,892,771,782,806,779,81,655,841,740,828,673,675,590,611,77,812,674,705,88,640,732,82,855,850,765,875,776,740,753,671,881,675,817,609,695,792,763,828,626,80,805,628,806,695,675,609,817,626,156,771,817,740,710,782,609,753,628,866,857,855,655,811,626,87,185,867,643,811,867,638,640,661,805,866,675,703,620,828,763,674,670,883,817,857,813,77,765,591,625,281,866,650,654,806,670,265,675,166,95,755,787,805,109,643,713,609,609,601,670,875,639,828,63,682,628,876,653,674,648,164,689,609,786,746,63,725,740,846,740,640,281,784,759,609,695,782,872,771,765,720,817,763,817,609,876,817,105,711,832,734,681,82,850,695,867,609,730,832,858,628,674,824,628,609,874,675,671,601,760,673,650,746,673,710,754,867,892,805,682,609,695,789,656,755,703,765,682,817,867,675,669,817,609,675,813,628,828,695,771,759,805,640,732,846,828,715,878,719,771,609,866,866,828,63,872,609,673,846,828,609,670,810,650,670,866,845,670,674,769,101,817,846,890,765,828,782,705,673,183,875,38,793,628,638,828,626,703,828,832,740,609,670,655,817,761,63,763,655,781,703,695,771,609,681,866,765,811,609,866,670,813,609,609,609,811,682,768,782,82,20,281,628,874,805,866,87,732,606,866,628,780,817,655,779,302,48,811,611,640,803,875,281,695,892,828,833,689,825,182,817,896,765,765,183,621,675,640,806,763,806,674,695,817,827,609,763,609,640,217,771,828,803,784,650,674,68,867,655,706,765,805,610,290,626,674,650,892,872,784,653,827,817,792,828,765,148,82,758,817,792,628,768,817,827,63,784,827,20,751,792,771,792,776,699,609,656,828,827,695,763,609,856,771,905,674,721,828,770,805,212,892,792,273,763,711,782,609,866,638,817,824,771,817,674,867,217,674,38,782,765,190,655,782,609,763,703,628,868,703,755,674,805,674,609,883,719,673,229,784,655,638,883,671,626,675,876,817,876,803,867,653,640,817,717,867,876,609,674,675,805,763,695,771,265,817,543,738,817,783,792,609,740,649,875,805,876,836,143,605,689,675,755,867,675,82,271,765,628,710,740,828,755,670,828,675,719,771,654,866,771,782,435,628,892,817,817,784,625,828,183,609,655,791,828,814,675,674,806,695,50,805,682,732,671,199,685,764,703,730,763,892,627,754,674,772,675,867,294,805,870,689,858,91,782,817,675,814,673,763,815,765,638,675,675,852,817,604,655,817,733,805,735,609,740,867,867,817,740,609,682,765,682,805,730,872,143,673,894,74,890,695,841,656,857,601,811,217,740,828,734,217,732,763,675,675,265,765,816,628,640,781,730,670,755,640,640,655,876,875,290,867,883,883,817,720,878,675,763,174,674,609,763,867,784,773,609,811,740,656,733,857,704,183,286,855,828,704,778,878,825,771,615,817,805,609,627,792,875,771,655,675,720,674,609,674,817,786,867,615,746,606,660,674,655,782,674,740,805,628,155,741,655,792,637,740,656,649,792,806,639,825,609,674,609,675,695,817,732,811,805,765,774,866,655,816,817,653,675,817,892,653,892,609,782,905,867,771,732,675,672,674,765,217,806,656,740,852,609,782,857,813,811,769,182,183,609,746,771,675,858,781,848,609,675,765,846,611,674,759,733,828,675,784,164,828,755,765,271,811,828,695,848,675,858,686,828,653,817,866,875,673,867,626,817,655,805,615,875,874,675,828,698,805,878,109,675,784,274,143,628,274,626,611,805,674,811,867,867,732,740,755,763,698,817,855,693,640,609,81,674,866,609,817,609,827,675,674,740,792,804,656,832,866,878,626,763,674,828,609,817,655,628,621,675,875,695,654,609,765,675,771,15,816,674,609,674,828,784,817,817,674,817,892,765,674,878,674,609,790,846,227,824,828,674,866,759,673,247,858,805,609,609,774,80,879,771,784,763,828,675,814,609,765,818,828,803,791,591,765,609,591,896,814,799,675,895,866,771,675,20,682,670,859,828,827,609,217,878,811,763,695,164,608,867,870,855,825,828,673,850,609,682,675,883,895,817,784,675,857,817,765,640,721,763,828,817,670,846,715,763,788,866,609,875,828,228,46,765,740,817,193,867,143,786,825,825,838,812,228,193,705,675,675,765,853,600,828,859,653,640,816,640,866,867,671,878,817,817,609,811,792,876,247,675,875,811,695,792,765,867,784,732,817,828,817,695,866,782,641,861,695,628,609,611,637,878,846,846,674,858,293,763,225,817,763,805,896,765,639,655,156,817,655,735,755,591,620,740,136,628,628,806,732,274,613,172,670,817,765,710,825,787,892,675,740,245,738,846,609,740,784,38,719,828,640,609,695,674,740,695,867,806,830,867,609,781,217,670,682,673,850,626,867,897,655,609,693,755,740,857,827,143,872,796,670,81,49,682,895,809,615,866,802,703,156,265,609,782,771,740,740,857,771,143,812,817,715,833,806,857,674,872,667,682,682,675,674,270,827,640,817,786,766,674,22,304,861,653,670,609,609,266,649,866,703,892,782,673,609,609,703,828,695,781,609,609,842,609,695,655,164,675,636,609,182,867,765,857,875,875,828,816,765,247,834,811,872,36,675,817,675,63,610,675,779,867,825,867,867,771,653,845,755,878,682,732,609,850,812,675,655,740,817,609,867,730,765,827,832,682,892,675,874,732,674,867,64,784,817,867,740,763,857,872,609,609,673,866,867,689,640,713,861,827,765,857,675,183,803,782,640,878,675,755,765,817,817,740,817,609,675,205,1,875,755,867,872,20,765,748,883,609,817,740,674,133,892,730,673,817,860,841,600,793,675,755,805,266,675,738,674,771,765,673,828,640,674,806,825,185,811,740,611,626,695,781,718,682,784,719,876,156,867,805,817,763,806,782,674,603,867,738,805,673,675,20,883,281,866,765,827,817,828,609,166,628,827,609,763,609,628,898,673,774,875,640,671,674,817,755,817,655,674,817,861,908,628,867,771,800,675,765,675,866,675,740,740,160,763,185,763,719,763,834,674,755,867,609,675,56,240,816,867,784,817,857,740,670,655,805,674,82,703,763,626,732,816,846,892,643,805,888,874,626,675,68,703,671,765,615,765,451,881,650,781,655,784,782,294,782,827,875,579,872,763,817,81,876,277,771,857,763,765,875,675,763,738,661,609,674,703,765,674,782,782,599,665,740,857,626,782,661,740,872,682,811,781,628,155,771,656,609,878,703,740,653,667,765,857,609,730,674,674,765,516,639,771,763,673,805,884,125,277,857,892,20,782,217,817,674,674,82,842,793,816,609,185,609,674,755,609,674,834,782,805,49,675,828,740,675,675,624,878,828,812,892,749,628,765,763,850,759,892,812,855,674,228,754,591,626,695,765,811,876,655,675,824,703,674,867,740,857,185,603,763,799,655,695,675,674,609,168,695,805,281,695,675,805,806,741,693,817,763,755,703,116,805,806,217,109,164,811,895,828,782,741,266,674,681,653,892,640,176,609,812,817,832,867,817,653,890,77,765,703,765,609,217,763,825,674,626,754,792,606,622,626,746,606,695,817,609,682,732,817,825,738,609,609,817,670,695,782,656,611,682,675,818,878,805,883,817,889,867,746,806,765,166,667,675,826,771,695,674,817,670,782,805,675,675,720,878,817,765,264,747,765,606,674,905,857,872,730,738,609,867,211,817,643,609,172,834,895,792,628,817,701,792,695,765,805,892,784,703,682,824,875,828,866,765,809,828,143,641,771,609,827,892,37,875,848,674,740,866,851,274,781,771,674,763,689,782,703,827,870,866,615,609,811,771,655,655,609,771,669,680,755,695,674,792,670,234,793,782,811,713,867,640,789,782,740,811,841,825,609,765,867,854,609,640,765,782,755,773,609,746,896,832,730,695,609,771,673,217,88,653,817,875,281,828,867,755,846,811,782,806,675,817,817,626,609,675,675,878,650,631,754,688,806,793,765,640,817,771,754,740,817,703,755,772,816,771,817,674,866,792,732,857,817,679,828,732,827,730,813,828,872,591,675,682,670,673,771,82,867,781,732,817,674,20,771,673,763,754,867,771,682,827,799,811,674,811,660,88,682,813,644,828,655,828,828,806,858,611,817,738,773,763,675,828,759,828,266,740,872,674,188,655,695,793,763,609,156,828,846,20,855,858,765,695,782,862,817,824,782,765,109,697,703,805,771,876,878,827,805,867,703,865,609,217,817,827,828,828,753,636,703,675,799,867,765,675,655,744,817,773,675,867,740,863,655,816,80,857,867,771,771,703,765,740,245,755,655,812,266,865,125,740,609,695,892,866,872,806,867,825,867,786,611,628,811,290,703,824,773,653,674,615,755,591,746,765,626,864,674,689,640,740,609,872,720,257,696,817,828,817,689,674,166,665,674,765,185,707,817,682,825,817,827,785,628,682,695,841,217,763,782,782,775,811,183,609,640,876,782,792,740,878,703,609,609,695,655,817,855,817,817,792,620,883,855,875,655,674,765,674,867,839,656,883,764,20,673,609,628,675,818,653,193,876,740,695,609,649,866,828,892,609,811,875,740,763,816,738,867,609,609,655,675,855,755,609,859,875,627,828,609,38,782,675,846,673,183,675,609,124,791,187,609,782,670,765,765,732,228,763,740,782,892,875,784,232,611,765,674,765,674,805,771,783,217,675,889,640,857,866,848,671,227,763,898,754,828,609,740,763,817,719,675,883,603,609,740,859,615,20,784,892,63,626,609,638,901,738,817,824,609,735,609,101,857,609,695,782,682,792,674,608,609,811,883,675,892,640,290,82,730,675,786,772,609,876,817,205,682,817,609,867,714,748,675,609,765,782,782,682,740,827,805,136,828,828,817,674,858,609,771,49,611,88,872,828,817,763,667,841,763,771,857,653,611,793,626,673,817,626,792,20,781,611,689,674,675,674,609,640,876,628,828,609,763,892,628,765,212,76,601,732,38,792,609,841,825,827,901,603,674,781,628,667,908,609,166,609,827,82,828,814,609,838,682,670,875,763,675,765,883,755,863,867,609,673,825,628,650,703,675,733,703,630,82,866,812,857,655,857,627,81,866,740,275,817,682,673,183,867,628,824,755,695,765,742,655,166,874,910,855,870,740,275,245,867,609,878,12,655,811,892,225,740,740,796,755,732,609,784,674,688,827,675,805,606,817,655,605,609,832,875,855,695,892,869,211,730,765,675,626,217,765,609,773,101,626,730,640,611,27,640,866,183,670,655,733,695,782,768,763,867,609,740,817,866,828,811,609,763,792,874,892,609,784,674,828,771,866,818,640,792,867,817,828,814,867,763,859,828,703,759,673,754,817,695,80,20,870,782,703,825,713,824,765,732,609,872,675,784,884,857,802,896,730,655,193,628,866,682,109,817,674,675,41,784,817,655,765,732,732,673,217,674,738,765,626,740,774,755,670,811,628,695,628,682,695,806,892,609,674,771,674,655,755,148,817,136,609,817,765,781,867,817,710,826,857,855,875,185,670,817,876,653,792,740,640,166,609,883,813,857,738,846,867,609,674,682,892,620,643,816,32,817,846,675,782,675,653,846,183,784,611,166,883,615,763,640,765,160,673,609,861,695,675,609,740,832,875,828,661,705,848,649,609,661,670,792,797,755,796,858,765,682,828,675,675,643,183,753,802,817,740,883,805,784,675,675,141,872,866,876,730,811,771,866,640,779,109,827,730,674,765,675,703,817,901,855,692,628,763,655,675,628,763,730,638,689,612,866,763,866,740,855,828,609,789,828,870,732,892,763,655,653,136,867,692,674,828,781,771,773,674,765,817,655,772,804,609,695,684,765,609,682,867,848,274,143,274,675,656,782,867,872,817,609,105,667,876,718,827,832,874,675,867,655,609,675,82,759,873,206,674,765,867,892,900,670,175,738,817,661,828,867,817,828,867,770,695,738,763,852,817,640,635,856,675,703,740,774,740,782,759,639,796,682,20,701,164,883,197,765,265,828,828,628,695,217,865,597,640,740,841,817,674,765,615,876,811,655,867,77,675,811,765,890,866,675,765,874,656,765,792,896,875,852,636,695,857,867,867,732,858,675,857,217,771,20,730,609,675,266,894,823,81,675,841,782,866,217,675,784,828,613,781,781,740,817,773,655,603,782,867,812,651,611,786,695,609,782,82,765,824,814,98,892,707,705,846,224,832,628,841,730,866,682,805,806,866,817,649,765,675,784,681,655,675,126,866,867,824,101,729,57,682,806,674,825,199,673,784,771,828,771,817,709,674,817,851,275,817,883,640,792,702,591,828,782,695,695,640,81,852,689,626,655,892,701,857,695,640,656,82,218,656,609,674,655,805,759,655,674,101,812,50,609,703,609,765,876,675,771,784,88,695,875,782,655,682,185,817,867,855,695,174,811,826,867,36,867,771,674,649,817,763,857,675,710,670,866,828,738,818,784,817,81,825,805,675,896,872,649,256,217,249,740,765,693,782,858,697,740,789,828,828,806,720,848,628,732,763,763,817,609,732,878,730,674,793,782,872,817,855,695,638,828,661,628,703,817,656,626,675,673,609,34,782,883,765,609,875,655,299,654,603,817,814,740,759,720,809,653,763,805,846,609,765,609,703,782,806,786,730,763,205,792,827,591,865,674,763,879,695,185,765,824,695,771,609,609,695,741,867,609,143,817,817,814,637,674,641,719,886,730,867,740,609,656,675,895,755,695,811,675,829,765,883,782,609,803,755,828,675,187,674,892,656,817,628,730,205,817,628,20,674,828,792,738,610,857,682,846,707,682,755,865,674,609,609,817,649,740,812,740,682,167,828,813,825,805,609,876,782,703,805,101,805,858,640,673,775,817,228,895,232,653,740,20,769,740,606,670,609,855,784,703,740,773,755,64,781,741,782,20,591,682,763,141,713,87,82,817,782,792,867,784,670,675,805,609,855,143,20,782,828,825,765,803,675,857,755,628,609,673,865,827,695,753,609,781,674,817,754,183,828,740,875,817,866,682,818,771,628,805,772,670,682,771,730,755,825,695,817,818,655,765,812,674,784,675,892,867,755,674,217,655,860,656,639,866,832,166,765,611,875,256,674,784,655,670,784,77,765,755,275,867,818,825,193,817,82,703,20,817,825,855,781,765,875,655,650,792,655,867,674,770,782,806,674,674,670,827,626,740,817,20,610,82,892,874,782,670,636,763,805,828,805,152,673,825,620,892,730,628,875,828,732,61,675,740,81,901,730,824,22,740,740,825,674,828,153,782,846,765,863,827,866,294,228,754,846,784,765,866,675,782,675,813,81,82,867,885,703,609,20,613,866,63,740,172,156,813,895,817,740,867,792,813,793,675,703,773,878,763,883,682,183,607,755,212,700,675,626,710,166,137,606,765,639,609,771,703,20,194,817,609,682,746,765,806,609,675,763,653,817,675,77,817,675,782,675,853,817,800,892,609,817,740,88,865,740,653,232,740,754,771,771,740,695,171,793,850,828,878,765,799,619,763,792,740,675,901,670,828,703,671,609,867,805,765,655,155,805,628,867,682,795,661,656,81,217,656,897,740,792,765],\"legendgroup\":\"\",\"name\":\"\",\"showlegend\":true,\"type\":\"pie\",\"textinfo\":\"value+percent+label\",\"textposition\":\"inside\"}],                        {\"template\":{\"data\":{\"barpolar\":[{\"marker\":{\"line\":{\"color\":\"rgb(234,234,242)\",\"width\":0.5},\"pattern\":{\"fillmode\":\"overlay\",\"size\":10,\"solidity\":0.2}},\"type\":\"barpolar\"}],\"bar\":[{\"error_x\":{\"color\":\"rgb(36,36,36)\"},\"error_y\":{\"color\":\"rgb(36,36,36)\"},\"marker\":{\"line\":{\"color\":\"rgb(234,234,242)\",\"width\":0.5},\"pattern\":{\"fillmode\":\"overlay\",\"size\":10,\"solidity\":0.2}},\"type\":\"bar\"}],\"carpet\":[{\"aaxis\":{\"endlinecolor\":\"rgb(36,36,36)\",\"gridcolor\":\"white\",\"linecolor\":\"white\",\"minorgridcolor\":\"white\",\"startlinecolor\":\"rgb(36,36,36)\"},\"baxis\":{\"endlinecolor\":\"rgb(36,36,36)\",\"gridcolor\":\"white\",\"linecolor\":\"white\",\"minorgridcolor\":\"white\",\"startlinecolor\":\"rgb(36,36,36)\"},\"type\":\"carpet\"}],\"choropleth\":[{\"colorbar\":{\"outlinewidth\":0,\"tickcolor\":\"rgb(36,36,36)\",\"ticklen\":8,\"ticks\":\"outside\",\"tickwidth\":2},\"type\":\"choropleth\"}],\"contourcarpet\":[{\"colorbar\":{\"outlinewidth\":0,\"tickcolor\":\"rgb(36,36,36)\",\"ticklen\":8,\"ticks\":\"outside\",\"tickwidth\":2},\"type\":\"contourcarpet\"}],\"contour\":[{\"colorbar\":{\"outlinewidth\":0,\"tickcolor\":\"rgb(36,36,36)\",\"ticklen\":8,\"ticks\":\"outside\",\"tickwidth\":2},\"colorscale\":[[0.0,\"rgb(2,4,25)\"],[0.06274509803921569,\"rgb(24,15,41)\"],[0.12549019607843137,\"rgb(47,23,57)\"],[0.18823529411764706,\"rgb(71,28,72)\"],[0.25098039215686274,\"rgb(97,30,82)\"],[0.3137254901960784,\"rgb(123,30,89)\"],[0.3764705882352941,\"rgb(150,27,91)\"],[0.4392156862745098,\"rgb(177,22,88)\"],[0.5019607843137255,\"rgb(203,26,79)\"],[0.5647058823529412,\"rgb(223,47,67)\"],[0.6274509803921569,\"rgb(236,76,61)\"],[0.6901960784313725,\"rgb(242,107,73)\"],[0.7529411764705882,\"rgb(244,135,95)\"],[0.8156862745098039,\"rgb(245,162,122)\"],[0.8784313725490196,\"rgb(246,188,153)\"],[0.9411764705882353,\"rgb(247,212,187)\"],[1.0,\"rgb(250,234,220)\"]],\"type\":\"contour\"}],\"heatmapgl\":[{\"colorbar\":{\"outlinewidth\":0,\"tickcolor\":\"rgb(36,36,36)\",\"ticklen\":8,\"ticks\":\"outside\",\"tickwidth\":2},\"colorscale\":[[0.0,\"rgb(2,4,25)\"],[0.06274509803921569,\"rgb(24,15,41)\"],[0.12549019607843137,\"rgb(47,23,57)\"],[0.18823529411764706,\"rgb(71,28,72)\"],[0.25098039215686274,\"rgb(97,30,82)\"],[0.3137254901960784,\"rgb(123,30,89)\"],[0.3764705882352941,\"rgb(150,27,91)\"],[0.4392156862745098,\"rgb(177,22,88)\"],[0.5019607843137255,\"rgb(203,26,79)\"],[0.5647058823529412,\"rgb(223,47,67)\"],[0.6274509803921569,\"rgb(236,76,61)\"],[0.6901960784313725,\"rgb(242,107,73)\"],[0.7529411764705882,\"rgb(244,135,95)\"],[0.8156862745098039,\"rgb(245,162,122)\"],[0.8784313725490196,\"rgb(246,188,153)\"],[0.9411764705882353,\"rgb(247,212,187)\"],[1.0,\"rgb(250,234,220)\"]],\"type\":\"heatmapgl\"}],\"heatmap\":[{\"colorbar\":{\"outlinewidth\":0,\"tickcolor\":\"rgb(36,36,36)\",\"ticklen\":8,\"ticks\":\"outside\",\"tickwidth\":2},\"colorscale\":[[0.0,\"rgb(2,4,25)\"],[0.06274509803921569,\"rgb(24,15,41)\"],[0.12549019607843137,\"rgb(47,23,57)\"],[0.18823529411764706,\"rgb(71,28,72)\"],[0.25098039215686274,\"rgb(97,30,82)\"],[0.3137254901960784,\"rgb(123,30,89)\"],[0.3764705882352941,\"rgb(150,27,91)\"],[0.4392156862745098,\"rgb(177,22,88)\"],[0.5019607843137255,\"rgb(203,26,79)\"],[0.5647058823529412,\"rgb(223,47,67)\"],[0.6274509803921569,\"rgb(236,76,61)\"],[0.6901960784313725,\"rgb(242,107,73)\"],[0.7529411764705882,\"rgb(244,135,95)\"],[0.8156862745098039,\"rgb(245,162,122)\"],[0.8784313725490196,\"rgb(246,188,153)\"],[0.9411764705882353,\"rgb(247,212,187)\"],[1.0,\"rgb(250,234,220)\"]],\"type\":\"heatmap\"}],\"histogram2dcontour\":[{\"colorbar\":{\"outlinewidth\":0,\"tickcolor\":\"rgb(36,36,36)\",\"ticklen\":8,\"ticks\":\"outside\",\"tickwidth\":2},\"colorscale\":[[0.0,\"rgb(2,4,25)\"],[0.06274509803921569,\"rgb(24,15,41)\"],[0.12549019607843137,\"rgb(47,23,57)\"],[0.18823529411764706,\"rgb(71,28,72)\"],[0.25098039215686274,\"rgb(97,30,82)\"],[0.3137254901960784,\"rgb(123,30,89)\"],[0.3764705882352941,\"rgb(150,27,91)\"],[0.4392156862745098,\"rgb(177,22,88)\"],[0.5019607843137255,\"rgb(203,26,79)\"],[0.5647058823529412,\"rgb(223,47,67)\"],[0.6274509803921569,\"rgb(236,76,61)\"],[0.6901960784313725,\"rgb(242,107,73)\"],[0.7529411764705882,\"rgb(244,135,95)\"],[0.8156862745098039,\"rgb(245,162,122)\"],[0.8784313725490196,\"rgb(246,188,153)\"],[0.9411764705882353,\"rgb(247,212,187)\"],[1.0,\"rgb(250,234,220)\"]],\"type\":\"histogram2dcontour\"}],\"histogram2d\":[{\"colorbar\":{\"outlinewidth\":0,\"tickcolor\":\"rgb(36,36,36)\",\"ticklen\":8,\"ticks\":\"outside\",\"tickwidth\":2},\"colorscale\":[[0.0,\"rgb(2,4,25)\"],[0.06274509803921569,\"rgb(24,15,41)\"],[0.12549019607843137,\"rgb(47,23,57)\"],[0.18823529411764706,\"rgb(71,28,72)\"],[0.25098039215686274,\"rgb(97,30,82)\"],[0.3137254901960784,\"rgb(123,30,89)\"],[0.3764705882352941,\"rgb(150,27,91)\"],[0.4392156862745098,\"rgb(177,22,88)\"],[0.5019607843137255,\"rgb(203,26,79)\"],[0.5647058823529412,\"rgb(223,47,67)\"],[0.6274509803921569,\"rgb(236,76,61)\"],[0.6901960784313725,\"rgb(242,107,73)\"],[0.7529411764705882,\"rgb(244,135,95)\"],[0.8156862745098039,\"rgb(245,162,122)\"],[0.8784313725490196,\"rgb(246,188,153)\"],[0.9411764705882353,\"rgb(247,212,187)\"],[1.0,\"rgb(250,234,220)\"]],\"type\":\"histogram2d\"}],\"histogram\":[{\"marker\":{\"pattern\":{\"fillmode\":\"overlay\",\"size\":10,\"solidity\":0.2}},\"type\":\"histogram\"}],\"mesh3d\":[{\"colorbar\":{\"outlinewidth\":0,\"tickcolor\":\"rgb(36,36,36)\",\"ticklen\":8,\"ticks\":\"outside\",\"tickwidth\":2},\"type\":\"mesh3d\"}],\"parcoords\":[{\"line\":{\"colorbar\":{\"outlinewidth\":0,\"tickcolor\":\"rgb(36,36,36)\",\"ticklen\":8,\"ticks\":\"outside\",\"tickwidth\":2}},\"type\":\"parcoords\"}],\"pie\":[{\"automargin\":true,\"type\":\"pie\"}],\"scatter3d\":[{\"line\":{\"colorbar\":{\"outlinewidth\":0,\"tickcolor\":\"rgb(36,36,36)\",\"ticklen\":8,\"ticks\":\"outside\",\"tickwidth\":2}},\"marker\":{\"colorbar\":{\"outlinewidth\":0,\"tickcolor\":\"rgb(36,36,36)\",\"ticklen\":8,\"ticks\":\"outside\",\"tickwidth\":2}},\"type\":\"scatter3d\"}],\"scattercarpet\":[{\"marker\":{\"colorbar\":{\"outlinewidth\":0,\"tickcolor\":\"rgb(36,36,36)\",\"ticklen\":8,\"ticks\":\"outside\",\"tickwidth\":2}},\"type\":\"scattercarpet\"}],\"scattergeo\":[{\"marker\":{\"colorbar\":{\"outlinewidth\":0,\"tickcolor\":\"rgb(36,36,36)\",\"ticklen\":8,\"ticks\":\"outside\",\"tickwidth\":2}},\"type\":\"scattergeo\"}],\"scattergl\":[{\"marker\":{\"colorbar\":{\"outlinewidth\":0,\"tickcolor\":\"rgb(36,36,36)\",\"ticklen\":8,\"ticks\":\"outside\",\"tickwidth\":2}},\"type\":\"scattergl\"}],\"scattermapbox\":[{\"marker\":{\"colorbar\":{\"outlinewidth\":0,\"tickcolor\":\"rgb(36,36,36)\",\"ticklen\":8,\"ticks\":\"outside\",\"tickwidth\":2}},\"type\":\"scattermapbox\"}],\"scatterpolargl\":[{\"marker\":{\"colorbar\":{\"outlinewidth\":0,\"tickcolor\":\"rgb(36,36,36)\",\"ticklen\":8,\"ticks\":\"outside\",\"tickwidth\":2}},\"type\":\"scatterpolargl\"}],\"scatterpolar\":[{\"marker\":{\"colorbar\":{\"outlinewidth\":0,\"tickcolor\":\"rgb(36,36,36)\",\"ticklen\":8,\"ticks\":\"outside\",\"tickwidth\":2}},\"type\":\"scatterpolar\"}],\"scatter\":[{\"marker\":{\"colorbar\":{\"outlinewidth\":0,\"tickcolor\":\"rgb(36,36,36)\",\"ticklen\":8,\"ticks\":\"outside\",\"tickwidth\":2}},\"type\":\"scatter\"}],\"scatterternary\":[{\"marker\":{\"colorbar\":{\"outlinewidth\":0,\"tickcolor\":\"rgb(36,36,36)\",\"ticklen\":8,\"ticks\":\"outside\",\"tickwidth\":2}},\"type\":\"scatterternary\"}],\"surface\":[{\"colorbar\":{\"outlinewidth\":0,\"tickcolor\":\"rgb(36,36,36)\",\"ticklen\":8,\"ticks\":\"outside\",\"tickwidth\":2},\"colorscale\":[[0.0,\"rgb(2,4,25)\"],[0.06274509803921569,\"rgb(24,15,41)\"],[0.12549019607843137,\"rgb(47,23,57)\"],[0.18823529411764706,\"rgb(71,28,72)\"],[0.25098039215686274,\"rgb(97,30,82)\"],[0.3137254901960784,\"rgb(123,30,89)\"],[0.3764705882352941,\"rgb(150,27,91)\"],[0.4392156862745098,\"rgb(177,22,88)\"],[0.5019607843137255,\"rgb(203,26,79)\"],[0.5647058823529412,\"rgb(223,47,67)\"],[0.6274509803921569,\"rgb(236,76,61)\"],[0.6901960784313725,\"rgb(242,107,73)\"],[0.7529411764705882,\"rgb(244,135,95)\"],[0.8156862745098039,\"rgb(245,162,122)\"],[0.8784313725490196,\"rgb(246,188,153)\"],[0.9411764705882353,\"rgb(247,212,187)\"],[1.0,\"rgb(250,234,220)\"]],\"type\":\"surface\"}],\"table\":[{\"cells\":{\"fill\":{\"color\":\"rgb(231,231,240)\"},\"line\":{\"color\":\"white\"}},\"header\":{\"fill\":{\"color\":\"rgb(183,183,191)\"},\"line\":{\"color\":\"white\"}},\"type\":\"table\"}]},\"layout\":{\"annotationdefaults\":{\"arrowcolor\":\"rgb(67,103,167)\"},\"autotypenumbers\":\"strict\",\"coloraxis\":{\"colorbar\":{\"outlinewidth\":0,\"tickcolor\":\"rgb(36,36,36)\",\"ticklen\":8,\"ticks\":\"outside\",\"tickwidth\":2}},\"colorscale\":{\"sequential\":[[0.0,\"rgb(2,4,25)\"],[0.06274509803921569,\"rgb(24,15,41)\"],[0.12549019607843137,\"rgb(47,23,57)\"],[0.18823529411764706,\"rgb(71,28,72)\"],[0.25098039215686274,\"rgb(97,30,82)\"],[0.3137254901960784,\"rgb(123,30,89)\"],[0.3764705882352941,\"rgb(150,27,91)\"],[0.4392156862745098,\"rgb(177,22,88)\"],[0.5019607843137255,\"rgb(203,26,79)\"],[0.5647058823529412,\"rgb(223,47,67)\"],[0.6274509803921569,\"rgb(236,76,61)\"],[0.6901960784313725,\"rgb(242,107,73)\"],[0.7529411764705882,\"rgb(244,135,95)\"],[0.8156862745098039,\"rgb(245,162,122)\"],[0.8784313725490196,\"rgb(246,188,153)\"],[0.9411764705882353,\"rgb(247,212,187)\"],[1.0,\"rgb(250,234,220)\"]],\"sequentialminus\":[[0.0,\"rgb(2,4,25)\"],[0.06274509803921569,\"rgb(24,15,41)\"],[0.12549019607843137,\"rgb(47,23,57)\"],[0.18823529411764706,\"rgb(71,28,72)\"],[0.25098039215686274,\"rgb(97,30,82)\"],[0.3137254901960784,\"rgb(123,30,89)\"],[0.3764705882352941,\"rgb(150,27,91)\"],[0.4392156862745098,\"rgb(177,22,88)\"],[0.5019607843137255,\"rgb(203,26,79)\"],[0.5647058823529412,\"rgb(223,47,67)\"],[0.6274509803921569,\"rgb(236,76,61)\"],[0.6901960784313725,\"rgb(242,107,73)\"],[0.7529411764705882,\"rgb(244,135,95)\"],[0.8156862745098039,\"rgb(245,162,122)\"],[0.8784313725490196,\"rgb(246,188,153)\"],[0.9411764705882353,\"rgb(247,212,187)\"],[1.0,\"rgb(250,234,220)\"]]},\"colorway\":[\"rgb(76,114,176)\",\"rgb(221,132,82)\",\"rgb(85,168,104)\",\"rgb(196,78,82)\",\"rgb(129,114,179)\",\"rgb(147,120,96)\",\"rgb(218,139,195)\",\"rgb(140,140,140)\",\"rgb(204,185,116)\",\"rgb(100,181,205)\"],\"font\":{\"color\":\"rgb(36,36,36)\"},\"geo\":{\"bgcolor\":\"white\",\"lakecolor\":\"white\",\"landcolor\":\"rgb(234,234,242)\",\"showlakes\":true,\"showland\":true,\"subunitcolor\":\"white\"},\"hoverlabel\":{\"align\":\"left\"},\"hovermode\":\"closest\",\"paper_bgcolor\":\"white\",\"plot_bgcolor\":\"rgb(234,234,242)\",\"polar\":{\"angularaxis\":{\"gridcolor\":\"white\",\"linecolor\":\"white\",\"showgrid\":true,\"ticks\":\"\"},\"bgcolor\":\"rgb(234,234,242)\",\"radialaxis\":{\"gridcolor\":\"white\",\"linecolor\":\"white\",\"showgrid\":true,\"ticks\":\"\"}},\"scene\":{\"xaxis\":{\"backgroundcolor\":\"rgb(234,234,242)\",\"gridcolor\":\"white\",\"gridwidth\":2,\"linecolor\":\"white\",\"showbackground\":true,\"showgrid\":true,\"ticks\":\"\",\"zerolinecolor\":\"white\"},\"yaxis\":{\"backgroundcolor\":\"rgb(234,234,242)\",\"gridcolor\":\"white\",\"gridwidth\":2,\"linecolor\":\"white\",\"showbackground\":true,\"showgrid\":true,\"ticks\":\"\",\"zerolinecolor\":\"white\"},\"zaxis\":{\"backgroundcolor\":\"rgb(234,234,242)\",\"gridcolor\":\"white\",\"gridwidth\":2,\"linecolor\":\"white\",\"showbackground\":true,\"showgrid\":true,\"ticks\":\"\",\"zerolinecolor\":\"white\"}},\"shapedefaults\":{\"fillcolor\":\"rgb(67,103,167)\",\"line\":{\"width\":0},\"opacity\":0.5},\"ternary\":{\"aaxis\":{\"gridcolor\":\"white\",\"linecolor\":\"white\",\"showgrid\":true,\"ticks\":\"\"},\"baxis\":{\"gridcolor\":\"white\",\"linecolor\":\"white\",\"showgrid\":true,\"ticks\":\"\"},\"bgcolor\":\"rgb(234,234,242)\",\"caxis\":{\"gridcolor\":\"white\",\"linecolor\":\"white\",\"showgrid\":true,\"ticks\":\"\"}},\"xaxis\":{\"automargin\":true,\"gridcolor\":\"white\",\"linecolor\":\"white\",\"showgrid\":true,\"ticks\":\"\",\"title\":{\"standoff\":15},\"zerolinecolor\":\"white\"},\"yaxis\":{\"automargin\":true,\"gridcolor\":\"white\",\"linecolor\":\"white\",\"showgrid\":true,\"ticks\":\"\",\"title\":{\"standoff\":15},\"zerolinecolor\":\"white\"}}},\"legend\":{\"tracegroupgap\":0},\"title\":{\"text\":\"ORIGIN_AIRPORT\"}},                        {\"responsive\": true}                    ).then(function(){\n",
              "                            \n",
              "var gd = document.getElementById('0bf936a4-5dd5-47e5-9405-312f5ca9daa5');\n",
              "var x = new MutationObserver(function (mutations, observer) {{\n",
              "        var display = window.getComputedStyle(gd).display;\n",
              "        if (!display || display === 'none') {{\n",
              "            console.log([gd, 'removed!']);\n",
              "            Plotly.purge(gd);\n",
              "            observer.disconnect();\n",
              "        }}\n",
              "}});\n",
              "\n",
              "// Listen for the removal of the full notebook cells\n",
              "var notebookContainer = gd.closest('#notebook-container');\n",
              "if (notebookContainer) {{\n",
              "    x.observe(notebookContainer, {childList: true});\n",
              "}}\n",
              "\n",
              "// Listen for the clearing of the current output cell\n",
              "var outputEl = gd.closest('.output');\n",
              "if (outputEl) {{\n",
              "    x.observe(outputEl, {childList: true});\n",
              "}}\n",
              "\n",
              "                        })                };                            </script>        </div>\n",
              "</body>\n",
              "</html>"
            ]
          },
          "metadata": {}
        },
        {
          "output_type": "display_data",
          "data": {
            "text/html": [
              "<html>\n",
              "<head><meta charset=\"utf-8\" /></head>\n",
              "<body>\n",
              "    <div>            <script src=\"https://cdnjs.cloudflare.com/ajax/libs/mathjax/2.7.5/MathJax.js?config=TeX-AMS-MML_SVG\"></script><script type=\"text/javascript\">if (window.MathJax) {MathJax.Hub.Config({SVG: {font: \"STIX-Web\"}});}</script>                <script type=\"text/javascript\">window.PlotlyConfig = {MathJaxConfig: 'local'};</script>\n",
              "        <script src=\"https://cdn.plot.ly/plotly-2.8.3.min.js\"></script>                <div id=\"05cd13f5-1ee6-493c-b881-b4ab79f1df62\" class=\"plotly-graph-div\" style=\"height:525px; width:100%;\"></div>            <script type=\"text/javascript\">                                    window.PLOTLYENV=window.PLOTLYENV || {};                                    if (document.getElementById(\"05cd13f5-1ee6-493c-b881-b4ab79f1df62\")) {                    Plotly.newPlot(                        \"05cd13f5-1ee6-493c-b881-b4ab79f1df62\",                        [{\"domain\":{\"x\":[0.0,1.0],\"y\":[0.0,1.0]},\"hovertemplate\":\"DESTINATION_AIRPORT=%{label}<extra></extra>\",\"labels\":[558,623,733,733,766,624,589,701,714,785,558,774,777,714,631,589,824,774,589,825,274,689,689,172,619,722,774,217,741,623,697,596,821,681,63,714,761,577,623,577,742,574,588,644,50,832,558,818,806,766,558,806,704,560,827,624,760,214,623,714,777,652,631,742,264,569,815,558,754,755,589,821,592,558,602,172,776,558,641,745,604,731,777,577,205,702,205,827,558,604,766,624,116,647,205,731,735,624,807,611,631,689,558,582,299,808,714,644,22,689,712,733,824,577,749,669,638,540,109,552,631,624,708,604,720,558,816,622,669,760,807,689,631,857,624,652,577,742,558,704,777,624,733,714,623,766,754,599,631,623,814,631,720,766,766,742,754,754,622,841,624,735,623,623,714,31,679,824,714,731,577,755,585,592,558,821,777,722,714,816,564,644,172,806,623,766,648,806,816,714,795,701,631,623,631,689,558,733,610,714,777,754,700,689,143,733,558,754,803,575,61,714,807,652,185,714,824,143,695,714,821,623,577,623,841,663,644,687,623,644,679,816,835,766,604,589,754,783,844,585,604,558,733,712,841,766,742,644,777,766,589,714,624,623,602,605,825,714,624,821,807,558,714,652,622,558,624,788,624,720,702,560,596,766,712,602,766,766,624,777,81,154,623,558,624,589,714,697,589,804,687,266,689,575,558,712,766,816,631,776,644,774,776,714,109,604,754,776,687,824,777,849,638,604,766,807,825,683,712,766,644,776,796,101,624,776,804,824,280,294,777,689,619,182,766,731,648,815,613,622,216,714,766,754,550,776,815,558,587,687,225,624,781,689,644,623,644,82,604,825,790,755,844,290,624,560,760,577,689,604,845,703,762,558,718,172,730,589,741,681,733,644,766,681,731,219,644,741,815,695,652,742,555,762,141,733,827,624,631,88,564,679,715,816,742,631,777,777,82,631,631,598,624,714,714,720,808,808,714,558,766,624,605,766,631,687,777,589,654,555,733,681,689,777,758,777,733,689,623,619,712,766,644,558,577,681,766,274,695,841,577,714,604,558,559,217,728,712,766,652,720,558,623,681,714,652,38,623,777,623,589,795,558,841,823,731,558,689,558,616,668,733,669,604,774,766,821,274,604,766,574,704,644,624,624,741,742,631,708,714,622,623,644,652,205,101,722,695,766,720,703,624,598,558,166,619,175,714,712,644,622,665,731,720,540,558,774,577,622,619,689,558,717,587,217,708,614,766,714,185,777,777,631,766,777,605,790,619,766,754,558,728,720,766,714,673,659,558,560,623,816,619,754,81,854,806,720,781,714,652,731,604,816,730,624,679,821,731,824,689,714,777,815,806,558,663,624,774,804,714,141,758,790,815,731,689,795,821,681,558,591,755,624,777,816,720,577,841,754,652,841,819,63,619,760,816,761,741,827,766,194,206,624,644,101,806,730,558,804,560,604,766,733,589,588,620,665,806,766,818,630,558,43,538,577,714,604,806,604,714,669,695,689,714,665,592,558,720,20,558,766,689,560,623,624,804,815,558,766,36,558,766,777,555,684,585,795,564,777,619,558,718,622,774,631,589,622,733,704,761,695,558,558,714,631,82,560,720,577,82,774,776,681,816,712,754,602,731,558,81,602,631,777,81,806,679,714,754,777,558,712,624,558,712,623,602,689,733,558,624,781,166,704,589,741,781,766,704,558,652,755,644,766,765,604,589,623,624,807,558,815,766,720,638,754,624,647,558,804,714,172,623,760,815,720,733,714,558,754,577,228,638,689,766,832,832,766,629,714,823,731,720,462,777,670,623,579,704,754,558,274,843,841,245,410,558,807,731,644,631,777,604,558,604,689,773,777,652,766,714,781,816,816,669,652,620,604,766,569,652,558,38,741,766,730,623,631,714,638,754,605,575,714,82,816,777,689,672,735,668,817,558,766,644,815,558,191,558,763,624,807,845,558,623,560,763,679,588,558,777,766,808,644,619,773,558,644,755,558,244,602,809,841,760,714,741,704,558,585,644,766,714,689,622,539,622,554,819,583,731,622,815,577,679,766,806,558,841,754,832,687,714,644,619,807,588,621,687,775,624,624,825,776,38,577,631,589,623,795,714,575,721,514,732,616,797,765,766,731,589,558,552,63,624,679,689,766,558,816,712,790,620,766,744,77,714,720,644,623,807,795,823,816,604,774,689,122,623,605,849,183,624,670,816,211,558,733,623,630,816,827,777,712,783,733,821,766,598,806,766,624,644,754,602,603,806,38,721,714,689,766,773,645,714,619,709,821,816,577,777,830,589,560,774,731,602,624,652,816,748,754,577,766,644,720,644,652,704,166,704,589,841,731,624,577,558,624,797,714,589,602,274,555,714,718,36,795,589,845,624,714,695,622,624,624,827,766,841,714,539,777,733,571,766,733,622,712,714,754,776,687,720,766,31,624,766,623,273,582,619,558,569,731,824,604,816,677,815,824,825,679,604,712,38,81,766,824,776,766,755,101,623,619,575,704,841,854,558,737,558,825,766,689,148,838,616,766,845,635,766,631,730,811,577,704,558,815,624,587,592,624,624,558,766,136,714,762,624,766,20,816,558,555,754,828,558,712,282,766,604,756,777,689,766,540,229,50,796,766,819,652,546,733,810,735,763,735,665,624,754,63,730,816,766,670,824,752,821,829,589,714,735,714,621,652,652,134,143,166,714,602,689,816,648,714,22,825,816,766,715,577,589,712,558,825,575,731,824,704,733,564,610,777,80,604,804,689,589,143,564,766,193,766,689,733,816,689,81,845,577,845,704,564,815,712,777,585,703,714,741,558,81,644,761,616,777,766,841,604,558,815,644,712,742,577,754,766,841,577,577,170,659,662,271,624,681,806,22,720,766,777,816,816,679,602,577,217,145,733,687,841,826,766,712,139,232,760,815,714,816,183,766,714,644,618,679,754,687,741,714,760,774,815,763,777,624,714,558,766,714,754,81,623,766,635,183,815,815,558,825,582,604,704,205,575,827,274,22,623,776,681,623,631,766,589,733,755,733,773,774,558,589,714,689,604,203,714,815,623,564,183,659,558,766,689,754,630,846,577,577,558,777,659,720,788,720,704,807,644,623,754,624,735,646,638,712,855,714,797,733,631,763,624,185,773,558,166,730,766,766,740,730,82,571,818,679,741,164,765,766,774,681,558,217,777,80,766,558,754,666,589,74,754,832,589,599,777,558,602,720,714,832,577,815,733,762,622,616,619,832,588,766,807,652,742,783,631,832,824,652,624,558,754,624,815,273,773,587,560,217,604,689,729,589,742,714,619,766,704,559,623,558,624,623,804,824,697,560,619,766,592,644,623,558,777,823,766,741,755,589,585,704,647,777,766,816,731,281,795,723,832,558,271,703,824,555,681,791,143,624,20,742,774,558,806,577,624,578,604,605,555,754,681,652,790,558,766,681,776,824,558,624,797,277,712,731,619,560,766,604,777,735,845,624,644,631,712,815,558,631,754,816,714,720,644,714,714,564,754,816,799,558,776,714,623,558,712,713,777,575,623,604,274,733,670,722,777,689,558,766,624,815,681,720,712,720,577,589,704,832,576,781,624,624,741,558,623,265,22,797,741,48,777,644,777,624,624,624,624,765,712,767,623,689,816,619,774,558,816,20,61,652,560,714,679,714,704,721,134,558,733,622,566,564,623,832,720,589,652,816,766,590,558,815,766,790,714,816,766,762,712,624,604,824,558,577,766,766,754,689,689,623,624,766,558,624,622,733,143,832,623,623,821,731,560,714,577,689,574,652,724,265,806,762,690,806,808,825,604,589,623,623,712,564,824,719,624,741,624,766,602,777,733,624,801,687,104,589,857,712,723,714,730,766,540,815,558,644,841,781,826,622,172,558,731,720,577,623,754,644,825,558,293,558,807,597,644,760,636,715,592,619,827,221,777,587,719,689,795,664,702,766,681,774,827,616,631,622,558,588,777,816,604,623,755,765,825,761,604,689,815,560,731,127,558,776,290,765,766,815,733,681,754,689,582,766,622,577,774,807,755,777,623,777,714,541,714,766,776,766,558,604,624,714,88,816,703,37,631,761,587,846,833,752,558,604,804,816,761,774,558,631,816,624,777,751,832,712,143,806,622,619,687,294,807,731,604,623,712,754,712,624,781,624,577,823,736,766,589,558,164,38,555,631,577,733,624,558,841,773,281,555,720,166,766,623,832,816,823,558,766,766,558,623,599,754,619,762,712,797,720,708,187,266,823,558,577,558,741,704,540,564,558,726,795,823,754,733,815,857,815,712,824,558,763,833,589,712,788,762,558,644,623,821,624,559,794,714,604,576,712,712,216,214,728,558,720,631,741,754,624,774,585,714,832,575,253,127,827,558,777,712,22,766,679,722,604,217,689,558,712,816,635,766,704,728,558,258,733,622,827,703,816,760,707,624,687,828,624,604,841,624,845,816,575,816,824,166,22,741,733,558,558,624,827,63,558,794,624,217,776,841,833,677,623,766,266,558,755,689,776,766,623,815,832,631,566,624,689,720,164,258,605,795,558,844,727,704,766,679,806,776,623,689,815,815,624,164,766,810,577,689,558,604,797,766,558,753,731,293,777,645,765,825,638,821,560,604,679,766,38,720,766,720,806,754,647,774,639,542,793,652,754,558,624,816,555,624,616,776,577,558,776,777,577,722,50,821,689,816,704,668,714,558,134,225,767,806,558,624,622,254,604,821,773,624,766,644,228,623,679,821,763,623,33,720,681,558,776,777,631,704,682,766,672,623,766,623,823,652,731,720,77,602,754,622,152,111,560,225,766,755,806,143,751,679,781,815,588,624,58,827,723,564,82,823,704,577,558,731,766,712,623,619,754,604,575,577,689,558,812,205,623,652,265,829,766,624,682,205,265,624,733,540,807,631,143,763,669,652,634,777,712,589,720,602,702,704,742,134,623,38,577,575,656,766,777,714,714,821,690,824,555,720,624,724,558,274,730,624,714,604,816,577,816,714,589,576,766,773,733,824,624,689,819,589,816,754,700,766,631,761,763,183,695,652,570,644,716,841,689,681,687,88,766,623,689,714,760,832,714,602,679,776,741,623,731,827,689,821,815,730,735,624,702,824,560,755,742,843,555,704,733,824,844,755,720,720,575,540,623,619,704,832,776,761,766,761,795,187,841,652,624,720,832,704,777,623,733,731,754,825,712,78,777,577,766,766,684,623,624,695,577,827,816,631,690,682,558,814,731,754,689,824,816,766,193,274,540,679,776,816,850,815,589,714,714,577,774,644,816,624,816,733,735,624,141,776,61,845,844,623,704,604,624,560,540,714,266,624,555,653,730,838,817,623,82,689,577,602,807,774,619,644,545,777,77,558,266,619,20,733,689,689,211,652,136,569,652,712,577,558,704,712,804,741,538,776,714,619,558,560,832,623,668,733,623,766,659,558,558,733,714,730,678,558,806,624,754,111,622,623,832,752,644,228,731,731,172,679,624,689,832,815,760,644,801,801,754,624,589,721,182,797,802,754,546,841,720,801,689,560,577,857,781,814,733,577,714,776,558,845,712,575,730,624,712,816,665,558,832,558,642,624,795,544,811,790,720,704,733,20,575,777,631,50,766,806,619,558,629,164,714,740,624,766,265,559,735,804,778,558,704,765,629,558,841,624,806,624,622,766,841,714,832,816,823,742,816,213,755,77,689,712,843,797,731,712,623,681,712,82,592,821,806,631,776,609,185,776,624,814,844,806,704,766,821,602,777,652,774,777,821,755,577,833,577,605,766,708,20,816,687,623,712,558,560,560,707,766,558,557,755,689,824,689,659,645,857,766,712,754,788,575,689,754,714,604,205,689,704,558,631,558,227,546,773,741,619,723,652,587,712,714,605,766,586,644,703,126,746,766,754,776,766,773,141,777,101,815,604,602,714,774,619,604,617,587,604,644,708,156,647,815,755,558,624,731,776,193,558,623,825,274,714,704,809,602,806,741,845,704,712,741,652,623,679,741,712,816,546,714,623,777,558,623,560,704,172,754,82,794,712,754,256,815,659,720,731,816,766,733,558,704,266,624,824,698,776,588,624,265,604,540,141,589,672,564,841,791,815,687,577,602,623,766,815,651,619,766,819,599,275,623,766,714,623,619,558,703,735,704,841,588,806,755,776,766,290,605,817,274,616,731,762,63,575,733,766,795,704,624,575,623,604,558,777,773,824,624,766,558,714,577,740,806,652,808,824,714,732,575,652,623,651,777,733,714,51,622,365,644,560,585,827,841,558,761,766,192,613,605,714,227,614,61,762,695,777,679,598,689,806,644,587,762,777,731,815,631,634,844,754,560,577,774,166,731,558,604,841,741,777,776,815,765,766,679,821,622,815,842,841,755,809,623,781,704,816,558,714,794,266,604,845,689,766,598,777,631,228,730,807,624,690,781,754,795,679,623,720,644,681,644,143,178,689,723,777,815,735,597,704,777,704,624,777,91,815,721,736,815,681,63,624,774,564,644,320,766,827,733,765,821,558,558,806,741,763,766,774,777,604,575,815,713,701,265,689,733,841,624,558,644,558,767,781,804,558,722,193,148,164,735,704,623,622,624,136,795,762,194,604,708,689,558,623,644,731,638,834,857,619,679,816,731,631,787,679,832,623,50,644,558,644,730,617,679,577,644,575,786,78,777,752,766,681,610,589,569,631,166,577,714,815,714,803,714,193,631,832,38,630,687,713,619,622,623,665,679,652,101,558,689,624,704,776,830,804,816,806,622,735,712,63,245,558,774,558,644,760,733,712,602,755,689,644,766,624,652,577,754,577,3,618,616,777,256,712,714,731,622,733,733,558,623,38,815,624,785,766,702,795,564,689,844,558,602,540,720,616,619,659,703,17,294,816,606,624,714,825,623,730,755,774,714,624,690,766,714,704,619,618,256,760,741,777,577,841,714,824,558,604,714,806,589,722,631,807,754,712,832,815,619,823,806,731,689,790,560,766,81,774,777,624,589,772,741,558,558,623,720,806,720,670,624,720,166,682,733,731,704,816,733,806,622,815,817,735,742,823,624,755,777,763,714,824,760,760,558,619,623,701,731,754,755,63,712,558,714,577,742,587,777,776,558,712,742,602,731,589,806,816,689,704,217,77,823,624,766,731,700,806,624,827,577,623,703,588,815,290,730,654,644,623,735,730,777,652,815,652,777,623,777,816,806,714,731,558,610,558,622,82,714,816,652,304,687,576,766,558,166,731,577,631,777,166,652,712,806,609,776,741,763,623,619,754,714,217,731,816,623,681,766,679,766,589,755,773,631,281,714,777,713,814,731,816,712,712,631,631,776,624,714,589,577,631,720,766,689,254,689,754,720,624,701,260,721,766,741,575,808,776,703,777,602,806,731,777,217,558,624,754,589,558,754,825,777,733,577,616,598,679,20,827,555,164,704,731,774,623,624,712,564,38,558,624,558,266,777,624,577,623,712,754,707,720,806,558,558,731,624,604,560,754,228,623,689,588,766,816,857,755,824,758,577,623,741,766,687,689,619,731,815,816,560,714,762,845,766,714,610,742,733,755,558,558,644,126,766,733,624,823,720,652,804,585,824,623,689,558,624,720,624,624,714,689,644,824,558,777,712,714,777,714,832,687,720,644,217,731,777,577,816,718,730,558,558,687,622,540,763,702,777,592,754,827,637,776,624,624,266,644,841,766,88,623,20,681,681,766,623,718,733,681,599,589,712,623,730,720,704,575,569,623,816,558,141,624,777,557,143,558,558,644,602,575,631,815,710,730,704,720,598,689,841,773,77,815,558,141,539,205,63,823,558,733,616,689,687,731,857,585,714,622,687,621,704,777,558,540,723,605,689,577,271,714,824,624,624,644,720,766,577,714,638,631,631,558,540,605,827,720,766,825,766,654,82,824,38,709,773,644,781,166,689,712,558,224,624,773,744,823,558,560,720,602,714,794,816,558,845,644,624,845,619,841,807,631,619,616,623,555,777,81,824,605,644,602,825,591,707,816,714,714,645,654,704,766,730,799,577,720,730,619,766,101,603,704,720,755,604,778,677,644,631,766,841,841,652,623,624,638,558,622,689,797,558,619,558,704,841,81,577,575,623,599,266,558,824,647,722,619,816,815,577,790,623,619,763,558,806,766,816,624,558,712,265,604,766,714,624,591,604,589,622,765,271,605,624,652,622,644,766,689,824,558,689,714,731,815,80,558,704,681,598,576,714,723,777,766,558,154,824,577,623,266,82,644,777,687,735,844,824,648,624,760,791,101,631,558,558,704,652,589,619,143,624,720,841,755,731,816,704,824,823,824,745,766,815,706,619,724,577,589,546,731,652,814,712,36,539,816,761,589,704,689,143,558,730,774,720,824,540,558,815,741,766,653,224,824,845,777,731,720,816,624,816,799,606,604,624,712,644,807,623,101,712,714,604,631,766,714,821,599,781,712,703,575,712,718,631,619,733,741,194,707,712,616,704,806,621,624,760,561,622,577,558,588,631,682,575,704,689,850,731,558,689,777,777,687,792,582,652,552,623,763,733,47,88,815,825,714,558,718,623,726,558,795,766,841,824,815,781,795,682,561,245,558,624,827,816,645,708,689,728,643,742,689,816,733,760,735,217,558,777,560,560,638,619,766,730,807,217,22,689,56,816,781,831,623,777,624,591,816,766,644,720,225,714,623,714,623,714,689,788,183,624,687,205,82,589,631,48,604,766,558,576,681,558,704,814,558,841,560,804,776,652,652,777,776,806,857,754,728,647,558,624,690,622,829,20,714,821,766,619,82,776,766,689,821,766,642,589,644,741,205,712,703,558,589,624,622,714,624,735,714,714,806,704,624,586,687,776,760,604,652,816,652,623,610,760,765,558,644,806,701,63,644,558,755,109,827,320,712,245,783,77,766,778,631,720,823,38,617,558,795,720,821,558,644,798,212,558,777,804,741,558,816,652,624,558,774,766,754,809,827,585,577,624,558,815,827,731,815,689,720,624,148,731,777,644,604,689,81,773,656,558,766,558,623,622,841,166,754,741,844,164,838,766,815,760,173,720,777,776,624,687,577,731,652,824,589,824,588,695,827,804,766,766,623,631,704,652,777,777,733,604,821,619,815,815,774,815,827,574,766,714,766,746,604,623,63,804,622,623,624,760,841,804,754,227,679,587,712,577,719,816,730,604,558,766,538,832,825,63,766,610,799,814,623,623,728,575,720,623,733,631,689,619,558,720,558,164,760,620,714,720,155,802,644,589,654,816,739,623,766,631,623,819,816,806,714,623,193,695,761,586,816,623,575,731,704,654,20,776,679,558,824,623,266,689,752,754,766,689,714,558,824,670,602,712,558,712,816,624,816,670,720,622,741,849,577,589,558,654,689,560,766,766,558,622,714,687,731,760,652,644,622,698,754,816,577,714,754,602,576,623,824,687,731,816,624,558,777,766,806,589,81,689,815,806,841,777,845,720,714,558,624,824,776,575,720,765,776,125,731,690,623,560,558,730,704,623,647,623,815,804,623,20,712,616,623,623,760,689,824,589,558,560,689,63,679,760,712,88,850,857,766,624,558,644,841,776,799,689,589,624,766,720,652,754,558,650,714,730,605,766,558,720,689,810,728,558,558,593,544,613,844,619,61,760,741,824,74,558,681,558,832,704,566,714,560,679,776,558,712,755,815,624,558,703,704,63,631,619,730,841,624,763,730,689,763,644,830,624,134,689,575,589,755,788,765,754,825,766,589,619,304,689,81,622,857,558,558,781,558,821,579,154,816,604,767,731,841,766,766,624,631,622,631,824,604,583,816,555,558,704,777,824,577,712,672,754,623,766,577,631,799,797,624,821,760,730,620,807,626,766,816,63,554,766,816,731,712,720,623,841,730,806,720,687,766,749,624,801,731,767,624,624,731,82,841,766,827,275,558,731,806,624,624,762,555,623,472,623,580,604,704,579,719,712,712,624,623,766,766,704,774,622,662,604,589,704,668,714,166,624,704,631,61,604,623,754,604,644,776,821,714,776,777,580,589,730,821,776,807,624,589,774,731,714,624,623,88,806,824,766,733,754,77,689,48,644,841,824,766,596,850,776,815,605,721,689,652,704,714,539,815,602,777,652,624,656,624,652,733,777,714,754,776,20,624,605,644,166,799,577,735,587,733,708,755,558,622,712,766,623,777,689,623,558,50,143,622,658,712,777,766,754,631,807,558,589,714,760,622,816,714,733,804,687,576,741,832,708,777,631,624,687,776,819,217,712,763,558,806,631,647,652,623,681,819,602,835,623,755,695,720,652,557,683,631,689,143,741,741,730,712,575,228,619,290,624,589,766,619,638,777,766,714,815,804,714,731,619,602,815,766,788,742,799,774,38,720,652,558,797,37,754,774,649,815,577,824,704,767,589,604,766,815,577,776,647,766,546,795,656,689,806,844,589,575,88,815,588,814,823,589,562,185,714,777,558,753,816,670,689,668,815,623,575,806,731,845,718,630,143,844,776,624,700,681,689,720,575,689,742,733,799,624,824,806,712,681,183,681,755,687,681,758,824,712,624,681,816,564,622,691,781,714,681,604,622,602,704,652,619,17,766,166,689,587,803,564,766,624,777,687,558,766,575,841,777,712,728,575,857,622,576,720,582,266,807,754,101,773,644,558,26,777,689,166,624,645,564,754,742,689,631,558,624,712,641,620,156,576,616,761,623,558,558,577,806,577,718,825,624,81,622,589,714,824,63,540,266,777,679,731,816,631,841,733,712,714,239,558,832,704,689,228,714,623,766,20,623,560,555,588,766,623,558,622,799,577,777,602,777,777,154,714,777,766,766,766,741,619,804,652,733,776,815,824,714,679,722,623,575,668,122,733,599,766,644,792,754,766,832,806,266,776,648,77,766,689,77,36,832,624,720,766,546,623,82,765,560,624,816,602,558,840,755,690,753,728,824,695,761,560,766,681,38,624,232,623,689,577,799,88,795,714,777,707,755,199,788,766,274,587,816,815,806,604,797,841,806,730,577,758,731,277,20,624,82,558,766,604,81,720,806,714,722,766,265,652,225,101,631,695,766,777,761,78,619,761,781,558,755,841,560,807,712,714,704,50,832,754,564,205,668,758,714,624,623,687,680,777,274,815,733,624,704,205,689,679,631,624,689,777,558,624,558,815,679,143,577,781,679,193,799,714,624,622,558,815,540,795,816,766,821,799,624,20,602,754,741,623,228,652,827,690,259,622,212,631,644,795,365,724,589,704,80,589,555,681,708,815,754,63,689,687,652,631,827,835,194,623,806,815,714,755,712,698,228,774,143,830,616,714,164,558,777,702,558,754,652,623,712,578,735,742,576,816,605,166,766,552,205,754,624,766,218,652,729,777,819,766,571,714,714,558,624,577,624,624,821,689,714,824,749,558,786,795,217,795,624,714,733,623,720,185,829,816,602,754,604,193,409,679,741,806,807,832,648,777,821,838,577,619,765,624,604,577,761,619,765,616,577,824,806,704,758,712,619,704,631,623,760,790,687,642,622,569,824,225,731,624,61,741,136,585,638,623,766,766,809,804,689,689,797,799,777,217,832,766,621,844,730,754,766,109,806,653,558,808,624,738,714,832,742,815,558,589,604,730,731,807,624,704,807,781,619,577,624,217,689,766,53,652,662,714,742,575,36,714,239,689,623,558,723,792,714,587,761,720,689,228,604,815,624,652,720,766,166,761,271,703,766,777,281,274,624,575,718,589,689,38,776,558,564,719,136,846,695,631,841,562,631,807,589,777,712,560,714,605,652,765,644,558,735,714,624,558,213,712,281,766,575,183,558,275,712,622,644,624,824,623,623,689,763,760,560,77,827,558,622,766,821,777,741,689,166,806,619,767,728,558,815,681,679,844,733,754,841,712,795,185,714,58,728,689,652,733,634,735,777,841,569,811,815,558,766,689,63,689,731,644,156,558,615,730,832,841,822,766,841,575,624,704,718,766,560,807,619,183,816,112,766,776,827,631,795,540,731,558,714,816,228,577,558,687,622,622,714,720,721,731,82,815,623,623,815,644,148,109,760,687,735,695,774,712,730,731,695,741,816,817,624,249,624,205,733,20,723,180,561,816,569,773,823,703,841,777,704,766,754,815,564,560,558,854,143,228,217,77,730,273,623,731,761,712,558,839,795,575,816,558,585,631,755,823,644,558,290,808,766,714,774,611,708,790,623,763,689,766,560,634,624,623,704,560,166,266,604,604,689,766,651,777,681,623,722,730,232,681,641,825,623,164,652,623,728,602,766,597,805,553,631,777,836,577,703,712,766,777,81,777,704,624,619,777,623,832,844,698,731,776,689,20,156,684,202,816,714,832,804,761,624,832,624,82,777,652,166,733,623,741,689,776,623,689,624,82,733,731,624,816,624,774,652,589,604,602,558,725,652,143,20,82,731,799,81,700,714,797,760,166,823,731,695,733,753,754,589,815,577,665,778,558,714,624,558,766,689,766,166,832,766,821,689,616,20,815,730,720,720,777,558,846,623,733,811,689,577,610,558,714,767,558,703,824,205,839,624,801,766,183,38,576,714,38,689,577,714,631,589,714,777,64,623,714,604,172,569,628,619,689,540,558,766,776,829,631,644,622,733,623,624,38,806,806,604,807,82,689,777,712,560,777,766,689,206,832,101,731,806,766,832,624,824,687,690,824,731,774,166,558,714,570,777,604,689,689,832,710,689,806,720,823,619,765,577,781,82,258,825,824,558,619,644,718,766,38,652,589,766,773,558,824,623,558,733,824,754,644,645,689,714,704,766,558,662,733,776,623,689,809,777,689,762,832,689,815,166,172,762,761,81,832,815,683,777,832,774,109,806,668,730,766,695,720,795,781,743,88,558,766,723,695,156,777,624,668,815,790,766,723,760,776,714,705,717,714,558,731,755,777,754,714,644,745,624,38,832,781,766,754,624,589,760,20,733,832,714,560,824,156,689,271,783,777,720,704,109,774,624,816,619,577,599,631,774,588,619,228,714,638,824,766,822,689,558,806,714,624,746,679,623,575,624,821,754,816,20,714,720,777,754,754,774,762,575,720,816,777,841,589,857,622,823,679,824,558,247,577,766,824,781,577,824,821,619,766,689,166,575,587,773,766,265,776,604,558,700,824,712,804,766,806,712,823,560,151,777,723,733,714,623,714,754,623,623,679,816,714,558,790,766,804,714,540,20,604,816,760,569,605,774,687,622,644,731,558,720,217,681,589,22,247,613,558,274,766,766,183,704,575,755,712,623,825,569,689,652,816,762,844,156,558,815,560,714,766,714,777,619,776,687,816,689,824,558,20,619,825,693,774,720,652,623,61,773,714,175,558,761,766,558,766,857,679,555,679,708,681,714,754,558,605,644,605,712,816,766,677,623,816,679,816,827,774,714,825,652,777,623,712,624,766,631,631,679,712,704,569,605,781,825,582,624,602,821,824,714,777,622,602,589,558,224,823,760,644,560,761,624,766,731,735,604,714,612,719,185,766,604,623,558,816,622,623,799,816,720,720,217,623,589,624,712,788,689,604,766,589,720,689,159,82,795,558,589,218,172,20,814,821,287,731,683,63,741,624,589,602,714,806,687,558,681,555,726,614,558,558,712,689,624,776,20,589,704,619,624,806,766,763,621,185,841,712,766,841,722,806,564,624,604,816,720,776,631,538,644,624,777,624,143,844,290,624,821,742,631,741,819,652,63,816,647,616,624,777,616,558,277,824,143,681,720,644,695,634,558,602,802,806,227,687,631,624,598,766,704,690,624,623,799,623,741,22,815,558,845,681,623,748,605,825,558,720,166,704,802,588,540,628,776,560,689,816,659,841,20,777,720,655,783,781,776,631,82,669,644,809,589,704,714,211,679,652,619,766,623,823,739,714,555,733,64,88,720,689,712,737,681,759,623,777,168,644,730,766,714,605,774,766,80,714,766,815,766,194,558,823,714,602,714,859,575,137,624,577,589,623,708,38,731,731,714,710,807,616,624,558,689,577,652,704,815,777,558,742,22,77,624,741,815,777,679,816,703,599,731,623,644,821,558,50,704,672,592,720,731,577,714,624,577,631,819,80,656,773,679,720,652,733,816,776,815,622,574,733,587,723,623,631,588,48,838,558,461,217,773,777,624,714,560,766,217,689,205,790,560,832,712,781,774,560,824,689,731,619,624,266,658,766,714,773,624,777,558,624,803,623,589,575,164,714,623,712,806,754,766,807,681,631,857,256,624,704,623,823,64,687,538,631,824,714,809,824,766,844,687,166,754,619,211,712,63,777,844,799,777,841,623,681,266,604,714,623,631,777,95,712,766,766,816,576,31,777,194,540,689,719,689,569,816,776,558,622,544,841,824,652,620,610,558,631,754,766,704,821,683,739,558,815,742,652,652,804,280,823,251,577,624,714,558,742,664,256,804,720,108,622,777,816,815,845,766,712,622,731,720,824,657,777,689,704,703,720,816,760,577,558,602,712,623,679,598,776,751,631,164,816,558,624,644,774,773,712,832,702,652,754,589,631,290,858,604,732,624,766,824,755,731,703,36,788,800,619,815,766,733,560,590,681,689,577,182,755,558,797,603,670,720,777,720,776,20,82,95,624,754,761,704,558,558,624,560,806,274,712,81,652,712,558,624,682,766,742,766,714,841,825,558,589,733,623,712,766,20,714,712,776,88,720,840,724,50,806,824,659,558,558,558,687,689,712,766,720,816,558,577,765,841,762,558,714,795,700,741,631,806,63,714,631,731,659,827,689,806,101,205,610,577,777,622,217,669,564,832,735,631,765,109,808,205,773,816,815,38,588,723,730,679,815,731,714,644,748,560,43,742,644,560,663,799,773,815,754,766,760,88,622,604,623,604,588,712,217,598,760,815,631,712,832,731,701,778,816,827,827,689,758,560,850,733,63,604,777,620,104,652,228,82,755,841,720,540,733,88,766,754,576,624,577,777,776,731,754,644,766,619,720,827,648,652,679,602,695,644,731,558,589,689,558,689,815,704,577,652,577,689,774,631,712,623,766,700,695,623,839,766,652,731,615,687,804,80,604,841,760,81,799,690,766,766,631,558,811,644,589,832,810,644,816,768,560,689,760,693,552,623,623,560,555,558,679,266,558,623,777,695,679,816,624,670,816,619,558,689,564,589,766,558,689,629,558,589,712,623,290,623,538,744,799,776,815,741,712,623,730,217,631,714,842,624,558,815,638,728,124,816,741,719,815,589,589,604,558,624,558,720,824,560,612,704,815,558,605,166,617,558,624,156,815,652,577,644,274,735,631,623,558,558,733,766,766,827,624,689,624,712,558,619,624,804,778,776,558,540,714,754,735,545,741,78,644,720,773,602,206,81,540,199,616,815,64,816,807,644,714,148,837,776,735,781,689,742,788,714,20,560,575,703,718,623,689,824,623,832,821,575,815,754,217,660,762,689,712,776,824,61,703,730,807,679,759,679,714,733,575,788,20,558,143,624,558,857,774,824,720,815,589,20,823,766,731,824,558,766,832,577,681,762,766,81,746,821,776,622,774,766,776,634,602,659,558,598,564,720,777,604,689,720,624,723,714,540,714,712,575,712,731,777,815,795,598,38,644,720,776,725,766,612,689,754,816,816,733,712,712,613,824,825,766,714,824,806,730,754,760,589,807,766,624,791,576,762,172,676,766,832,741,631,742,748,799,598,20,766,20,684,540,714,624,712,644,619,631,623,689,225,790,589,623,689,704,766,821,777,714,733,850,824,766,730,616,777,622,88,542,622,681,714,624,623,766,211,825,558,790,574,20,623,766,619,610,742,587,558,816,720,577,816,766,766,644,615,623,730,776,824,557,604,558,38,714,577,731,731,712,714,624,766,773,652,815,720,816,575,624,754,80,256,766,623,558,766,815,247,776,816,766,558,806,462,619,558,816,604,540,714,577,777,703,679,841,816,668,623,816,720,613,604,590,845,714,624,88,777,806,704,81,788,585,766,558,172,806,641,558,712,758,704,816,797,644,20,795,604,714,644,797,20,646,815,755,623,825,777,766,720,540,624,696,598,558,806,777,703,704,844,652,558,624,754,689,560,821,619,754,605,857,702,807,624,795,722,795,827,777,712,704,703,564,682,766,304,622,193,703,81,823,558,82,652,552,589,577,681,558,815,720,623,794,850,648,714,777,577,766,232,205,589,841,624,695,841,624,217,605,605,256,48,558,781,714,712,577,776,766,669,613,689,623,624,741,558,704,631,806,575,704,558,558,761,714,575,775,732,790,721,558,577,754,704,754,714,704,760,816,560,652,558,652,765,823,623,841,631,766,596,622,766,166,720,714,815,755,587,619,558,564,766,714,766,720,689,50,166,766,679,712,604,604,558,624,588,801,558,558,558,662,558,741,619,777,776,766,816,777,825,777,583,811,619,824,558,723,560,766,622,182,623,762,228,271,679,624,766,762,766,577,841,704,777,816,65,704,575,624,760,623,558,733,38,763,733,652,723,779,602,714,821,719,623,704,823,623,841,232,721,681,604,825,754,766,681,666,712,790,689,760,730,205,825,589,755,766,80,622,731,644,704,731,558,82,825,760,733,604,733,804,704,731,558,619,825,166,735,619,825,821,589,714,588,644,589,623,850,800,624,687,576,720,619,659,825,586,698,804,845,731,827,623,604,755,806,689,540,754,814,599,623,777,623,558,714,723,631,712,589,808,689,689,687,712,164,558,82,766,589,624,714,714,589,777,754,620,766,616,569,766,781,766,797,766,689,704,624,623,720,644,824,731,569,725,652,644,560,755,558,592,623,266,776,832,816,754,808,681,704,644,735,480,712,623,558,766,833,717,689,36,823,558,689,624,370,720,598,723,827,689,624,752,689,652,622,777,644,816,604,558,765,720,712,735,714,266,821,689,652,741,712,623,599,731,731,558,575,742,817,555,570,619,82,731,589,700,681,631,81,616,38,638,558,766,605,825,827,712,766,419,689,268,816,659,766,624,560,558,644,20,631,577,620,712,681,795,760,814,247,766,558,623,558,712,689,623,795,558,825,624,766,762,631,574,841,616,857,766,652,816,766,644,825,720,755,602,816,815,755,274,631,800,832,807,193,577,602,650,558,815,739,741,726,806,821,616,22,623,714,760,763,644,33,619,766,623,689,619,605,816,841,689,777,587,741,599,720,712,766,20,622,763,815,680,765,689,742,558,558,624,560,720,704,558,206,841,631,679,31,714,760,766,806,143,825,777,587,712,816,623,714,265,766,730,585,754,111,679,624,720,773,720,622,776,766,631,821,585,604,841,164,777,816,81,766,712,731,714,558,217,766,816,622,795,681,624,604,755,623,630,689,723,815,681,602,575,773,777,703,689,555,631,250,704,841,598,689,623,599,841,575,731,754,212,689,585,777,638,712,579,569,631,777,714,604,589,766,766,740,733,294,183,731,88,624,577,558,101,766,622,624,588,741,774,570,623,689,623,558,806,816,689,689,766,815,623,558,577,275,712,832,827,773,704,816,87,624,558,638,766,776,714,766,689,631,841,558,731,754,712,689,777,544,683,558,774,824,690,82,766,558,624,702,558,821,752,623,644,239,180,670,652,558,733,712,714,81,689,730,622,726,604,619,573,817,766,623,569,622,735,732,755,631,604,558,110,611,766,689,766,735,815,731,589,766,558,766,781,712,742,741,623,598,712,783,604,712,610,217,293,679,806,598,605,776,599,687,622,776,589,766,792,731,624,754,558,623,712,733,193,644,38,755,799,807,766,605,644,575,689,652,731,644,253,578,558,700,644,830,823,841,616,549,247,712,63,815,612,558,619,689,562,623,754,799,762,577,766,774,679,783,841,569,623,558,558,652,733,824,733,605,88,766,624,558,587,577,689,766,859,766,644,827,577,714,824,679,821,821,755,652,799,138,589,754,816,644,558,561,712,577,827,50,714,832,689,604,714,841,558,623,733,623,823,816,714,36,720,616,766,807,622,623,788,795,619,631,624,818,561,714,817,616,558,575,766,825,816,20,185,766,178,624,631,21,662,81,704,652,754,63,631,185,294,689,38,681,712,719,546,46,803,838,558,713,766,624,776,581,754,191,558,824,814,560,602,154,816,558,855,558,754,662,714,604,754,604,742,776,217,560,712,728,846,620,681,624,689,665,807,587,823,540,669,720,577,689,816,623,589,712,577,766,776,227,644,602,777,731,589,589,624,776,741,554,703,20,589,714,644,623,670,804,669,765,714,766,689,807,558,616,101,199,540,258,624,797,624,824,774,806,644,720,689,754,774,81,621,754,577,765,712,857,731,101,825,558,815,777,816,841,804,766,624,558,767,824,842,816,38,558,560,577,577,731,821,766,624,689,101,558,720,577,815,766,804,720,558,266,806,766,823,281,589,754,825,589,101,558,774,712,789,755,776,703,631,741,187,623,806,265,559,558,624,774,841,604,624,714,602,577,712,638,714,824,815,777,624,558,815,776,36,624,689,689,623,815,266,558,624,628,777,761,714,741,755,558,733,741,20,765,555,585,731,841,741,647,815,807,815,766,712,575,558,577,560,742,712,766,815,604,623,806,733,733,88,82,843,766,587,619,714,624,689,824,766,631,815,741,38,604,777,554,558,558,714,265,823,714,761,755,687,714,804,644,623,824,644,841,816,141,558,50,623,679,558,689,187,766,853,20,687,720,277,80,714,816,795,714,766,766,777,623,619,652,624,777,712,624,687,577,624,604,227,623,22,623,712,624,821,806,824,815,816,744,644,558,741,558,631,766,712,575,832,687,614,274,766,631,807,788,558,623,681,624,742,766,730,540,619,623,623,228,776,795,638,719,577,841,668,824,82,776,850,631,720,824,755,754,77,741,731,760,712,644,773,623,644,815,766,217,82,841,821,624,558,617,624,777,558,577,623,766,589,652,624,776,742,540,652,681,745,681,806,777,720,589,754,754,606,560,652,558,624,824,652,616,257,604,558,631,619,654,205,623,605,630,804,689,841,849,619,623,755,623,586,714,806,22,616,821,777,763,742,217,777,604,777,689,644,741,720,652,624,679,20,689,841,766,690,575,708,741,712,777,583,228,652,631,807,701,766,776,720,714,816,668,825,558,217,712,712,719,164,806,712,776,256,790,670,815,843,740,766,624,631,815,714,623,797,720,539,722,821,746,816,695,766,731,774,720,164,225,217,777,558,741,714,712,752,816,720,589,589,714,766,776,589,679,806,603,659,754,754,714,788,741,679,718,806,589,818,731,36,754,638,823,816,623,781,708,604,644,644,731,818,540,714,824,795,776,765,816,827,832,714,80,714,816,815,644,645,807,815,821,806,754,623,766,776,824,689,806,733,558,81,623,754,689,741,558,644,827,714,825,624,708,560,652,602,624,698,82,815,761,739,762,604,802,766,684,624,714,558,590,274,824,766,815,624,741,777,806,564,766,540,558,777,679,689,754,614,799,227,558,136,816,832,816,689,638,744,589,776,689,695,731,624,558,575,766,558,623,760,821,631,712,638,622,816,712,755,682,703,689,712,558,638,610,577,731,824,624,38,704,816,577,704,604,752,558,589,714,811,816,816,589,624,704,763,644,659,569,623,624,623,20,81,816,558,645,602,604,766,217,622,555,589,777,712,730,721,623,754,653,765,560,585,816,776,624,644,18,622,623,689,774,679,228,730,630,624,558,854,714,585,804,762,558,652,624,577,733,216,806,540,575,689,816,274,832,681,815,245,624,773,20,266,172,175,185,619,281,598,623,714,81,811,841,712,558,577,587,728,730,755,560,733,766,647,631,689,156,669,648,841,587,777,81,731,723,777,790,183,644,704,790,689,735,589,797,156,824,815,623,644,731,741,714,730,827,721,689,843,815,622,681,577,624,290,795,843,816,766,558,773,842,164,824,558,733,577,577,714,816,558,589,101,125,20,564,619,714,631,610,651,730,720,776,623,720,785,714,630,733,623,631,624,624,799,766,712,558,641,558,81,766,604,823,857,558,754,807,774,623,618,679,577,816,50,777,704,703,777,604,561,804,766,806,700,788,804,211,827,644,800,731,605,815,256,816,183,605,731,730,605,558,576,778,143,644,558,731,766,777,644,771,619,558,824,714,624,821,624,708,720,720,731,604,619,755,821,824,681,604,825,777,559,773,644,741,558,742,714,543,714,733,720,795,217,631,821,704,712,841,755,558,577,741,624,766,689,574,631,742,624,762,712,850,616,815,816,689,765,741,776,824,624,652,714,719,623,592,777,815,589,806,766,20,827,708,689,589,217,754,816,624,604,280,577,240,735,777,777,754,794,714,821,175,604,733,816,668,712,577,777,596,558,733,827,806,582,766,827,712,668,720,624,624,712,816,790,623,816,755,807,790,704,804,613,816,217,754,824,266,766,766,644,806,569,228,777,704,763,712,558,619,731,774,623,730,649,50,206,714,790,558,815,623,589,742,644,604,741,712,766,742,720,824,662,816,577,760,733,720,604,760,714,558,631,622,821,589,816,558,767,669,558,604,708,624,644,558,154,631,624,623,624,681,824,777,777,797,622,558,704,571,558,20,560,555,687,624,714,720,589,558,755,662,841,776,577,720,720,638,838,558,166,755,721,290,619,714,781,619,622,164,720,689,827,777,624,766,624,841,624,741,659,589,704,824,700,624,690,577,558,689,668,777,714,825,731,824,558,652,577,766,815,622,558,681,816,703,669,760,681,730,733,712,644,587,623,730,679,838,613,733,766,631,624,558,652,623,736,61,589,762,714,741,763,774,575,730,766,815,266,733,644,585,624,816,143,569,704,754,790,624,777,792,681,623,834,624,631,720,667,136,644,665,731,689,850,550,604,704,827,577,644,720,766,827,806,194,623,558,577,774,720,766,758,687,689,841,646,558,712,619,623,623,760,624,754,815,714,714,687,577,824,777,687,774,832,623,141,277,729,592,714,644,577,50,577,821,623,624,652,815,82,816,761,714,689,624,825,843,577,623,821,712,773,577,558,766,631,558,558,225,558,185,274,824,766,679,704,763,577,652,754,681,733,766,689,20,815,824,602,731,825,754,857,689,689,623,712,704,704,777,733,701,197,733,766,766,823,192,731,172,714,701,623,731,795,577,712,622,246,684,605,712,650,781,806,689,735,760,718,624,558,645,815,807,166,758,754,245,701,560,602,575,810,666,558,712,741,704,558,806,647,702,652,657,689,832,631,824,644,689,718,681,217,558,88,687,766,766,571,824,577,624,644,741,703,754,766,742,592,719,783,604,731,806,824,816,228,266,766,857,88,228,766,624,555,687,604,815,589,760,542,731,730,681,558,558,704,266,652,777,845,776,827,774,766,558,806,824,735,806,776,644,761,774,841,714,720,766,61,622,703,689,776,588,644,766,761,689,652,806,644,806,624,777,624,731,560,604,601,644,776,558,681,720,806,773,824,754,624,704,824,624,766,624,604,731,731,681,801,689,766,802,558,816,558,731,644,823,821,704,623,558,558,754,668,681,824,569,88,560,816,659,742,714,730,619,164,831,652,610,777,623,689,806,712,708,821,610,733,816,844,783,689,781,624,631,624,824,723,816,712,558,623,228,754,709,684,558,731,644,777,733,652,776,589,766,815,624,733,631,558,631,604,704,824,774,176,804,824,815,577,558,741,816,777,714,816,797,815,619,774,265,610,101,766,766,559,777,841,624,689,766,644,766,707,807,714,816,558,266,577,564,80,760,773,815,602,622,714,731,623,766,577,598,712,708,712,624,825,781,815,806,776,714,622,755,689,679,82,795,716,558,630,722,755,714,623,776,681,712,790,558,631,560,624,589,804,766,704,644,777,766,801,816,558,777,832,730,797,679,641,767,777,624,825,745,217,689,735,825,575,558,556,731,77,741,554,742,577,622,601,723,613,735,777,733,755,776,587,588,689,232,619,649,704,624,558,604,558,689,232,773,801,806,77,20,754,714,816,754,644,50,587,704,766,761,575,714,681,774,593,624,816,623,681,652,81,706,585,714,587,690,776,766,763,652,589,644,815,20,644,783,712,741,714,712,714,604,766,777,707,714,244,624,733,714,714,807,746,182,742,733,755,827,646,652,623,558,558,558,777,589,731,623,681,765,631,825,714,577,761,816,749,816,740,644,558,689,623,776,815,558,825,800,823,720,623,624,20,628,558,143,741,773,804,731,825,832,689,776,714,589,604,730,708,604,766,558,555,754,610,599,558,733,656,558,622,714,804,559,720,667,827,731,741,760,623,712,781,731,797,82,797,619,571,644,844,714,806,143,766,605,681,644,558,766,540,742,586,816,558,558,714,589,774,776,679,624,644,799,577,224,631,623,644,631,95,143,558,623,759,540,623,681,816,854,754,754,781,760,109,715,558,20,558,722,806,648,714,293,575,827,623,245,146,816,652,776,760,760,712,717,730,816,766,652,806,82,558,832,623,816,589,13,212,777,149,577,857,589,754,631,777,623,652,606,166,762,760,766,752,577,623,766,631,624,733,806,766,576,604,644,689,766,619,88,679,670,575,644,50,815,687,624,755,156,656,821,560,681,712,271,589,824,731,687,766,816,591,245,766,766,808,560,624,754,714,815,766,827,731,644,64,274,294,766,714,714,624,825,651,766,815,558,777,631,806,623,766,622,704,777,777,816,681,623,689,623,620,773,825,741,624,841,689,647,824,681,616,26,91,616,712,82,774,647,558,20,816,724,622,659,558,689,166,604,589,623,774,720,558,731,623,815,87,714,624,815,256,816,754,592,624,741,816,634,827,776,701,560,623,689,577,689,577,825,644,795,777,558,777,854,704,766,689,774,577,82,634,767,61,816,712,760,211,183,745,774,623,24,766,624,266,12,766,622,807,560,624,626,602,622,644,767,815,622,689,723,619,274,766,689,689,558,703,741,704,592,681,183,20,577,766,644,700,588,817,266,558,50,801,558,375,624,720,689,117,765,164,783,610,622,81,681,714,714,631,695,754,604,50,720,714,667,841,558,730,558,766,766,703,854,217,739,80,284,558,558,712,622,577,647,265,636,777,577,623,712,815,558,156,558,824,604,589,816,823,714,777,539,622,558,172,148,767,695,714,623,624,773,714,777,821,766,841,558,656,87,558,777,720,714,741,648,623,733,652,622,172,558,558,589,558,738,624,704,258,733,827,777,631,704,623,832,144,623,714,20,748,766,766,777,760,558,766,815,687,766,714,766,689,824,558,718,832,217,778,109,620,806,604,652,564,733,797,592,754,558,631,558,193,714,832,824,20,766,587,821,577,679,824,631,712,644,558,217,714,183,774,82,187,816,564,766,81,766,841,731,841,765,624,88,624,763,619,652,624,752,560,816,558,754,700,814,707,760,704,807,558,819,731,622,684,691,754,81,687,777,620,774,20,679,702,320,816,558,815,777,689,827,183,824,704,206,827,679,647,714,816,681,599,720,766,810,741,776,845,760,560,143,714,558,807,560,830,623,101,644,560,659,843,588,205,741,733,294,623,741,733,623,815,631,844,689,624,623,20,704,766,624,623,577,773,558,695,56,104,763,644,712,681,823,217,742,644,623,766,744,690,227,50,776,677,741,659,604,780,558,227,731,625,589,712,773,689,814,717,622,622,605,720,821,762,624,673,804,806,790,758,589,653,681,766,712,803,560,766,622,690,816,766,733,265,806,577,741,623,766,576,718,623,695,708,624,725,624,733,631,714,821,689,720,766,623,742,766,52,631,824,624,714,82,619,88,80,555,679,777,599,708,741,712,712,623,704,731,604,624,841,774,815,141,624,689,623,827,766,804,761,704,754,619,652,623,829,776,624,622,776,624,816,741,166,765,624,602,134,558,827,587,695,720,624,804,766,681,776,589,681,631,742,266,765,720,166,183,776,689,763,777,612,577,684,712,225,724,604,63,712,761,631,81,806,604,824,644,783,741,767,781,754,623,558,156,644,654,558,623,558,712,763,804,558,766,558,266,269,558,774,624,681,652,763,741,624,619,628,731,766,754,558,733,815,575,766,624,76,623,807,841,777,665,619,720,575,542,781,592,652,814,624,631,816,816,82,733,816,166,777,687,825,844,558,555,714,598,558,622,652,558,560,714,731,679,777,821,827,776,623,841,644,623,587,585,82,733,81,731,558,807,777,623,589,559,766,38,776,827,156,766,816,101,624,712,569,766,733,205,20,576,807,624,760,689,193,730,777,695,558,558,777,730,824,558,832,554,623,623,558,712,602,596,714,823,605,795,816,777,624,712,631,730,806,774,644,558,742,293,730,558,624,746,704,228,777,755,733,681,704,792,815,714,258,38,733,20,799,558,624,205,731,760,832,824,720,832,622,183,689,558,824,814,712,734,823,720,815,695,679,777,623,290,143,766,616,712,838,773,742,623,644,558,730,185,623,577,156,806,755,623,736,644,589,644,59,623,623,602,762,815,766,832,569,806,720,664,558,560,720,624,777,712,564,760,217,806,217,558,794,604,804,689,652,256,720,741,665,755,841,825,166,776,575,624,766,624,214,714,616,558,824,631,766,558,801,622,604,806,742,698,766,604,604,712,704,730,644,712,815,605,712,824,714,712,777,816,669,689,733,558,623,846,824,781,765,733,622,731,652,689,183,689,652,558,714,816,712,821,558,562,777,679,816,766,81,644,812,735,558,558,816,712,774,806,88,689,173,754,720,722,624,799,733,731,604,577,605,806,652,577,814,558,714,577,624,776,714,712,776,620,731,766,766,806,638,587,640,847,766,560,841,560,623,754,755,712,589,599,602,807,715,712,590,731,644,806,832,624,240,604,821,589,619,712,774,558,624,558,827,577,228,274,631,809,644,714,731,193,278,776,622,806,832,742,558,577,731,14,81,558,766,825,762,589,619,166,803,558,689,714,589,623,558,741,712,777,816,827,816,623,741,266,824,588,720,166,806,558,720,841,689,776,695,588,731,733,575,558,624,718,577,761,577,795,631,766,577,776,282,205,733,644,623,631,799,624,821,577,604,560,714,806,799,652,816,814,832,624,777,788,766,644,689,577,731,827,754,648,704,821,766,714,558,777,624,577,623,704,714,670,815,733,623,704,689,631,821,799,823,766,619,832,742,644,807,816,815,555,577,766,841,624,47,754,790,624,720,631,679,724,624,850,733,766,240,599,774,689,752,781,731,720,622,183,766,656,767,824,589,777,88,824,50,557,624,558,589,766,575,622,3,714,589,624,592,714,558,760,766,687,754,619,833,795,558,766,644,558,714,804,816,754,269,703,714,570,659,602,714,558,558,773,704,816,644,841,604,653,777,652,728,733,687,766,714,815,558,741,797,654,587,761,741,624,166,589,766,616,754,689,819,622,853,587,714,731,623,754,101,624,689,577,841,815,651,824,577,816,695,194,714,631,683,681,604,590,731,857,754,624,624,206,20,601,631,754,604,760,631,816,558,631,623,766,695,846,761,841,616,624,652,841,647,777,754,714,575,623,767,714,733,841,742,624,824,776,623,707,654,623,605,773,652,712,630,777,825,714,816,589,644,689,821,631,653,687,20,766,652,714,816,731,624,762,714,714,714,589,644,819,712,624,777,766,741,752,712,808,714,821,741,714,558,766,695,558,249,766,760,624,766,81,763,558,825,788,214,816,638,575,766,841,681,806,825,777,741,841,766,558,558,804,754,777,755,734,558,577,624,679,164,776,652,770,730,815,689,623,689,558,624,712,689,648,825,558,774,631,807,134,816,558,712,624,616,777,624,741,824,82,613,558,644,604,704,712,815,244,815,733,622,841,806,843,777,704,558,604,718,160,714,821,807,540,714,815,585,859,797,624,602,241,720,752,679,689,630,36,193,689,695,560,814,623,652,560,558,605,766,777,689,623,558,733,712,265,558,589,758,704,823,730,652,752,681,644,558,754,815,558,623,63,755,624,774,644,832,266,766,766,575,777,558,857,558,624,730,101,730,741,623,679,616,804,689,647,623,623,712,71,185,799,588,778,652,624,714,700,604,744,265,652,714,760,624,783,712,20,652,82,823,781,731,623,257,558,712,37,631,558,728,754,620,652,720,691,714,561,20,741,256,143,766,652,558,783,604,703,623,687,781,714,763,777,644,733,720,624,560,558,294,766,704,712,589,623,700,712,714,687,689,689,652,644,695,725,624,605,663,81,558,824,588,714,824,766,712,623,823,689,560,704,730,589,741,766,761,577,723,733,720,816,714,777,806,602,754,689,740,741,82,604,156,714,589,624,827,754,589,80,774,624,731,712,558,824,720,832,704,217,753,577,712,678,216,164,714,631,61,823,564,816,712,623,773,774,773,542,761,217,731,663,781,662,777,623,166,806,731,624,623,742,638,704,623,722,824,755,540,550,777,589,774,589,776,558,624,658,644,664,776,712,714,589,592,617,644,712,714,604,807,814,720,689,807,714,832,624,624,695,714,833,101,771,714,766,741,558,631,841,598,702,687,722,806,652,733,777,205,20,760,82,622,720,672,77,558,816,766,806,689,624,575,211,760,712,164,803,589,731,687,623,217,741,735,589,783,765,704,806,631,766,652,755,754,604,689,689,20,689,281,624,558,604,714,824,689,624,777,687,589,777,741,746,294,577,82,777,758,652,183,714,731,604,815,708,689,806,293,776,816,631,266,689,714,755,623,82,754,624,604,731,791,620,731,857,624,575,816,752,773,766,766,832,604,781,266,641,644,735,754,795,644,777,217,824,577,815,839,17,704,832,623,825,82,38,765,731,824,622,558,20,824,824,648,712,631,795,245,712,644,604,767,558,821,63,816,623,670,731,714,211,558,631,689,720,754,558,596,587,644,700,624,714,777,679,827,704,714,623,551,777,604,623,773,558,815,589,623,741,642,631,745,589,754,668,217,631,825,733,754,164,623,766,623,806,719,800,631,714,827,742,723,589,670,788,259,619,816,251,741,143,844,577,558,720,766,679,558,766,622,799,552,731,712,652,691,558,623,718,631,733,712,712,742,631,830,704,184,644,721,846,704,714,682,604,695,827,754,816,714,731,606,623,299,712,652,766,623,558,760,652,844,588,604,774,205,690,832,704,766,689,558,681,604,814,806,689,714,604,604,824,794,254,841,689,604,632,148,589,845,730,816,622,815,622,642,712,816,624,14,554,622,806,589,631,560,733,101,714,689,592,821,766,815,766,624,668,619,558,714,714,681,652,604,623,776,136,755,624,647,776,624,776,20,565,682,806,712,774,109,38,824,254,623,761,824,644,686,205,720,703,684,587,804,564,741,704,815,781,649,82,689,623,274,766,816,631,824,624,763,622,815,558,809,558,290,731,766,704,589,712,816,827,624,736,806,577,830,38,605,681,271,731,825,558,148,741,634,558,613,624,712,575,558,626,815,604,731,752,815,617,766,630,689,712,766,777,623,766,681,721,558,36,816,781,760,781,760,624,806,134,766,681,754,797,708,824,623,777,806,166,715,841,766,720,582,652,767,622,588,766,623,766,631,227,721,714,737,558,712,622,604,652,766,776,850,589,741,623,712,63,552,766,754,152,841,604,659,631,558,808,583,589,827,82,773,558,558,754,712,714,816,827,88,575,624,624,704,193,841,136,824,767,20,774,721,619,620,766,731,689,266,623,623,558,773,577,624,712,741,766,733,575,801,712,819,766,687,631,777,690,742,712,735,816,623,821,816,766,815,712,622,704,619,726,558,781,766,766,77,687,623,766,228,689,684,712,623,766,679,558,765,769,558,558,689,815,733,720,766,731,720,652,143,815,623,228,730,589,64,558,704,166,712,558,714,622,714,644,558,183,681,777,689,815,540,825,206,681,765,160,708,558,619,632,816,741,815,58,602,754,576,714,760,644,170,558,38,623,714,602,815,631,714,761,109,731,746,245,714,560,164,560,185,624,824,815,577,558,766,575,20,558,733,602,693,776,558,766,795,766,622,228,731,624,774,622,766,766,704,735,760,624,689,631,587,777,815,815,623,550,266,624,564,766,704,824,204,765,623,766,687,731,604,689,141,825,815,803,712,605,722,623,549,745,689,814,827,166,217,720,185,728,754,275,575,622,714,714,623,587,256,806,821,815,575,766,224,569,804,704,704,624,558,558,624,185,714,754,766,589,770,733,714,766,619,827,670,809,540,766,540,622,624,754,733,80,558,850,766,577,733,565,704,689,558,754,596,776,712,558,259,754,766,542,631,637,675,762,205,730,80,804,718,558,807,804,619,754,816,677,832,815,623,164,622,847,679,558,730,624,689,714,587,558,172,652,815,644,622,598,845,624,88,619,558,577,209,564,824,766,788,714,777,304,624,20,766,217,766,652,274,558,624,689,704,816,185,549,575,564,730,815,754,644,463,766,714,560,604,815,623,265,743,762,815,619,619,672,681,555,256,847,760,623,88,63,722,765,589,804,816,767,733,623,679,558,644,576,816,777,712,777,776,766,631,604,588,668,106,766,689,806,754,623,558,733,558,776,164,841,622,825,624,271,622,558,781,741,622,590,183,845,712,761,762,624,838,844,101,704,558,679,558,558,82,714,575,712,712,266,560,777,766,720,558,712,821,558,20,558,766,624,623,723,681,558,854,588,766,776,824,765,624,247,824,217,577,644,274,652,623,832,703,604,689,766,687,577,859,733,731,624,624,697,624,644,766,777,850,605,624,558,109,605,788,604,720,816,731,838,742,799,689,766,217,712,558,824,777,742,589,36,134,708,760,95,781,695,742,857,575,558,558,714,832,823,731,815,741,740,558,714,766,624,558,560,682,624,624,558,766,290,264,589,741,807,134,755,816,816,777,776,774,766,760,623,623,561,799,689,577,824,737,758,714,766,714,616,795,604,704,723,714,714,777,624,644,652,623,821,558,760,767,616,247,558,679,733,20,841,741,809,766,623,719,714,830,652,832,712,841,619,619,143,558,20,554,823,755,712,816,741,602,265,644,766,815,816,754,624,777,577,652,623,569,733,183,766,806,687,623,714,777,841,714,776,558,623,623,766,766,703,585,712,669,821,766,777,704,801,816,577,679,806,825,806,806,577,777,619,624,811,717,760,20,630,776,619,754,577,754,776,558,816,712,766,623,824,575,714,624,754,777,20,741,722,575,183,804,631,824,652,712,730,816,816,558,766,604,183,80,741,687,720,560,815,714,668,623,689,166,586,602,733,631,723,624,624,832,624,741,776,623,766,816,720,164,689,623,558,735,558,624,760,558,714,766,824,558,766,797,555,558,777,715,558,558,720,824,809,773,720,558,604,777,602,754,22,577,714,577,766,677,704,217,694,791,589,616,274,800,824,777,695,720,604,558,824,755,754,3,714,38,722,624,623,679,684,766,558,777,811,589,576,166,630,777,733,602,816,256,589,766,604,604,731,766,714,166,558,766,714,265,558,815,619,631,703,623,714,624,741,604,730,741,728,622,754,622,742,806,558,558,777,605,755,766,841,608,623,714,656,110,681,281,558,720,720,588,631,224,623,623,733,266,733,733,815,642,577,821,644,602,712,823,622,593,558,623,622,164,794,806,624,766,714,622,720,816,776,824,816,832,598,644,631,832,816,689,623,832,644,766,558,77,760,558,712,604,708,644,708,558,714,753,816,558,766,558,733,755,777,730,766,766,623,712,605,776,714,589,712,577,760,604,731,741,730,689,825,741,575,760,722,832,733,765,689,624,217,623,816,652,755,624,652,731,821,723,815,597,589,816,558,714,647,816,558,623,82,624,558,766,681,766,560,733,628,624,604,766,819,631,815,689,558,743,774,795,50,731,730,217,777,638,755,815,604,766,166,760,152,266,689,795,193,681,836,558,604,156,560,776,622,689,689,704,777,841,588,604,602,766,733,766,166,555,712,720,766,777,585,623,558,623,564,622,213,604,265,82,679,624,604,604,558,760,652,766,577,731,652,762,714,652,558,766,816,689,172,558,712,652,815,827,714,760,832,164,689,720,804,624,824,622,766,623,624,741,577,217,797,824,815,217,720,577,733,815,206,624,631,619,841,659,560,741,558,712,125,597,91,825,766,668,754,605,760,777,631,773,687,766,281,815,164,575,681,265,774,290,766,720,217,575,832,704,604,760,695,714,604,754,623,63,216,644,624,748,704,689,555,815,845,754,624,733,827,206,644,631,795,679,704,592,689,746,806,712,558,735,755,806,589,612,624,766,703,714,712,800,648,577,823,714,603,776,838,630,714,754,816,623,754,587,815,815,776,841,794,733,575,832,604,681,644,720,540,695,752,587,815,544,776,754,697,731,755,742,652,712,767,809,714,806,602,806,575,589,777,638,689,228,623,266,623,766,777,755,256,589,558,827,741,672,712,665,766,555,751,754,816,623,841,777,689,816,714,720,577,560,766,712,754,644,806,806,816,558,88,766,553,217,585,766,815,816,720,592,777,50,20,689,813,776,799,655,774,827,631,619,166,644,754,760,742,719,731,841,690,669,623,592,728,631,755,766,714,624,624,841,622,558,576,668,550,681,679,689,766,765,714,730,733,714,804,741,730,823,604,766,624,777,644,245,841,558,741,712,558,815,735,754,712,766,766,695,804,716,825,588,604,806,689,777,712,731,631,564,827,560,602,766,708,558,824,679,712,832,761,815,290,726,20,558,617,815,712,807,160,591,689,766,689,681,560,622,733,462,624,766,766,720,766,81,624,575,777,752,558,714,754,785,610,604,579,564,754,731,670,644,720,800,689,799,766,624,166,815,766,604,588,82,766,777,623,824,623,638,777,832,560,558,679,766,827,689,815,689,101,569,656,777,681,731,773,619,604,689,619,708,82,644,558,558,766,763,689,815,731,558,577,754,816,265,616,809,622,217,819,823,766,704,622,832,844,763,689,824,631,558,277,647,631,644,558,217,274,266,669,659,689,580,624,684,741,275,827,689,141,667,687,624,644,558,689,637,623,777,472,558,652,681,166,714,564,795,766,731,741,257,622,689,654,540,604,558,777,587,720,558,714,623,714,589,766,795,228,637,708,602,766,741,776,816,602,760,652,755,623,624,776,714,624,704,803,766,681,558,588,712,143,712,679,577,794,36,228,795,689,145,754,623,164,714,714,618,622,172,763,616,601,722,558,825,714,679,708,589,623,754,689,714,777,720,623,689,589,777,754,730,704,569,776,690,141,824,164,714,663,689,806,38,781,558,101,681,604,795,605,558,577,631,689,790,766,624,766,101,172,733,754,765,721,558,604,740,540,624,631,631,712,644,816,623,647,217,684,825,619,558,649,781,792,644,774,704,731,266,558,575,575,731,704,644,774,605,845,176,151,623,777,804,720,623,20,766,589,806,281,687,659,558,731,631,679,622,212,689,824,728,604,777,644,558,619,720,776,575,623,631,585,558,777,839,741,581,712,679,730,733,623,730,623,558,20,741,560,816,689,622,800,652,558,540,623,824,733,755,655,691,624,761,704,825,777,689,631,623,265,714,558,183,682,704,606,774,825,763,821,622,109,687,588,714,185,823,816,624,807,558,703,815,704,268,689,602,714,558,558,631,795,712,760,817,703,766,624,776,816,655,652,624,760,689,827,766,766,827,624,631,623,622,146,712,754,816,766,631,588,227,815,733,604,602,565,704,804,623,681,624,766,806,256,577,560,558,652,631,558,644,604,755,841,732,689,816,570,623,733,623,81,807,228,857,689,290,720,622,760,815,832,558,774,589,623,799,623,558,558,630,619,667,816,589,760,824,815,101,712,670,766,713,776,679,815,731,624,704,854,558,731,806,815,623,623,766,816,540,722,827,766,795,724,558,704,681,587,559,598,558,624,205,845,558,605,766,762,730,742,689,558,830,589,816,679,741,605,82,742,558,841,647,679,689,714,589,570,843,687,712,821,205,815,689,825,850,714,623,605,722,832,585,754,619,761,766,760,704,558,644,558,622,708,665,832,669,760,623,776,712,20,564,766,804,689,694,575,682,776,26,673,845,604,754,623,790,217,638,558,841,776,558,602,714,754,689,558,689,842,766,714,623,700,766,623,566,776,807,570,855,766,815,754,755,824,704,558,766,712,604,824,774,623,704,217,689,712,754,777,730,720,577,630,681,689,689,690,689,707,816,821,841,681,663,655,748,731,558,811,773,653,20,704,652,741,587,730,814,841,738,832,832,575,598,558,156,622,766,720,681,3,806,781,777,82,807,644,689,256,804,731,624,624,704,623,616,668,712,558,816,814,763,774,754,774,712,720,624,623,577,623,604,777,647,766,622,766,545,616,644,619,841,766,703,795,558,766,583,695,704,560,558,708,623,619,816,766,733,575,183,156,804,604,751,841,264,720,554,731,816,624,631,689,704,825,160,599,605,228,766,558,808,558,689,652,577,815,560,830,577,558,212,604,689,704,227,217,714,624,577,679,577,731,558,824,774,854,752,825,754,172,689,548,806,137,623,804,712,842,733,712,712,644,620,22,558,623,558,708,792,227,714,795,704,742,777,714,714,623,214,712,816,265,652,558,689,777,733,558,821,766,681,624,777,808,806,815,577,766,766,616,721,638,558,589,733,577,558,644,577,623,766,766,788,698,766,164,577,815,714,589,217,742,766,217,807,774,816,265,841,577,841,616,816,823,274,20,684,821,623,689,602,558,266,766,631,714,623,644,809,712,790,777,631,143,823,624,623,704,622,714,624,622,63,624,827,774,266,816,806,88,824,689,558,821,631,766,777,816,777,766,730,623,781,558,638,676,652,722,624,577,827,631,766,629,689,79,558,754,761,265,641,816,622,274,679,816,720,777,735,558,704,827,687,776,714,558,760,760,631,754,758,776,604,624,624,741,644,815,125,761,683,763,790,777,613,558,721,619,754,695,631,623,708,571,652,832,766,766,682,621,754,558,631,558,730,765,777,624,109,766,217,622,50,741,821,681,624,558,31,558,148,811,766,712,652,731,704,687,714,741,652,623,577,720,774,730,815,766,790,672,824,622,589,741,720,558,733,708,741,589,776,806,731,777,76,766,824,558,577,760,806,830,821,821,623,742,689,622,660,681,728,777,555,695,604,781,558,754,577,761,825,558,560,712,61,644,801,777,558,816,619,143,721,774,644,731,604,720,821,816,623,425,816,841,714,227,644,730,766,754,558,806,815,619,841,741,766,275,689,790,733,776,638,815,804,82,825,558,823,623,588,574,815,185,777,777,776,731,20,827,577,587,841,577,754,695,766,679,816,602,575,811,731,735,720,777,774,695,670,714,795,816,589,815,689,679,589,766,815,681,101,631,841,825,659,714,164,623,596,781,766,704,718,38,704,777,577,631,689,838,604,182,689,560,624,622,821,101,571,782,689,754,776,623,777,742,663,540,671,718,859,602,288,598,815,714,712,104,575,766,652,604,752,53,766,774,765,689,765,560,604,558,714,816,841,754,766,623,777,271,689,790,719,740,731,806,623,88,777,841,712,623,623,841,687,652,620,623,766,575,841,704,558,624,681,624,589,760,689,619,824,80,703,825,681,22,773,777,560,754,754,689,776,704,555,616,843,652,773,631,704,560,623,604,81,624,631,742,819,766,689,552,558,558,652,733,766,587,182,668,622,82,766,723,706,111,228,624,185,815,598,752,608,720,552,624,799,631,726,644,587,58,777,714,589,211,644,587,652,833,681,624,669,815,827,217,730,68,558,689,714,558,624,841,648,704,766,649,844,575,755,773,687,217,712,807,763,624,558,20,77,816,589,714,266,721,170,723,777,652,683,681,841,756,718,761,619,816,228,186,560,841,560,604,605,20,623,644,760,712,815,650,679,777,777,589,577,732,558,624,848,821,704,735,589,762,604,577,589,714,740,81,742,824,821,558,715,681,766,616,549,558,712,716,714,816,752,558,712,731,689,720,299,577,619,816,766,631,560,624,174,631,689,819,777,575,815,631,558,575,576,766,578,824,720,689,631,689,624,624,720,730,795,777,815,63,577,552,816,558,766,589,766,77,714,754,766,198,605,598,824,206,689,712,589,686,832,815,832,777,733,767,624,558,622,558,558,776,731,681,554,824,774,560,624,768,766,714,681,766,588,704,679,631,558,755,687,624,623,38,720,730,624,816,630,776,799,718,832,598,228,815,575,766,558,718,816,669,788,682,164,815,589,623,644,577,587,228,766,63,624,558,631,558,815,761,754,623,808,664,577,227,777,816,687,816,20,731,821,718,815,731,766,624,827,265,623,624,720,661,205,679,558,832,623,577,624,642,777,712,623,824,631,681,741,588,795,827,652,754,217,20,714,832,762,777,614,631,127,623,776,807,558,806,804,240,777,689,652,558,623,819,552,631,577,558,763,716,776,64,731,832,624,558,760,704,625,792,622,754,777,689,730,631,731,623,624,754,832,704,781,689,712,644,754,216,577,604,622,558,755,755,679,714,182,652,616,712,695,575,777,760,622,774,558,631,704,624,832,540,623,766,774,78,821,766,624,82,624,652,161,51,777,735,602,777,841,755,857,754,623,730,714,681,622,652,821,754,723,773,776,761,143,761,558,624,623,22,766,824,644,720,652,810,777,703,730,766,624,742,807,777,714,644,604,61,558,777,712,256,689,681,720,624,815,558,710,760,816,687,554,652,816,714,558,776,623,777,761,714,558,815,656,714,689,156,777,166,731,824,733,589,623,827,823,807,766,720,624,815,714,794,689,151,714,766,755,604,555,773,61,682,774,577,766,197,681,652,832,825,631,777,733,266,763,823,623,832,824,804,773,558,824,712,714,624,228,631,82,766,777,797,775,766,637,850,741,766,577,742,816,816,558,766,731,754,766,273,555,623,644,766,823,558,824,82,619,622,754,741,571,730,712,714,239,811,623,623,623,712,777,274,755,624,20,558,720,815,777,623,552,708,644,619,712,806,766,815,647,689,766,82,758,540,814,733,742,797,797,806,754,777,558,558,577,777,577,558,777,80,183,689,557,561,714,816,686,689,558,704,77,687,589,689,546,731,720,832,623,624,766,777,630,776,81,623,781,823,766,766,575,604,823,623,624,795,731,841,714,841,644,624,824,631,82,211,766,766,644,766,668,720,777,733,228,714,723,689,101,704,687,803,766,679,712,814,714,624,697,777,20,185,816,761,558,634,605,623,558,38,733,766,841,815,816,623,621,624,659,827,765,721,714,832,741,733,689,577,816,265,825,183,624,829,766,714,63,225,623,741,816,841,766,777,766,704,624,681,714,761,754,187,682,808,64,602,136,605,81,616,712,777,555,689,558,712,754,652,761,604,774,232,681,714,179,703,731,624,704,631,720,577,624,604,540,825,776,827,714,824,631,575,754,797,758,546,774,806,605,623,712,679,558,720,824,647,558,742,801,714,766,555,733,623,703,623,575,695,619,748,845,623,681,742,712,624,760,726,712,714,558,766,754,689,832,756,763,205,644,622,832,741,687,821,776,720,550,555,704,631,299,612,755,172,48,604,623,665,558,183,720,589,558,689,689,20,589,815,183,858,624,815,755,687,766,731,638,824,766,731,228,740,172,591,558,777,619,679,778,591,169,730,795,795,679,558,774,754,77,624,704,624,766,622,580,648,164,540,655,620,604,624,644,681,825,776,540,630,821,731,623,577,795,631,587,806,766,804,702,652,604,841,624,760,824,631,704,766,560,704,589,622,624,766,827,807,712,806,558,644,714,644,644,712,766,720,704,741,733,827,704,720,712,652,575,622,714,760,624,681,622,577,182,558,558,558,50,765,765,205,823,564,824,832,788,687,624,704,712,720,605,754,741,193,546,766,274,274,185,762,816,38,815,823,631,228,598,816,815,217,720,611,776,558,631,217,776,558,623,816,631,766,81,777,624,816,714,741,824,555,604,731,816,577,631,624,761,504,576,687,20,806,217,777,840,816,761,274,754,731,777,720,704,623,841,712,712,577,679,806,624,855,766,731,806,624,587,777,815,624,646,281,597,704,555,689,558,821,731,587,687,731,742,733,624,623,275,453,558,546,714,620,704,810,766,704,841,714,540,604,816,800,815,824,20,681,816,604,730,575,38,623,707,816,766,689,206,63,575,816,623,766,815,766,213,558,576,797,652,689,781,806,143,825,588,714,599,731,624,603,827,733,148,689,624,545,832,698,605,766,36,205,265,754,703,731,644,604,193,731,558,816,582,777,589,592,624,624,564,619,619,777,776,624,714,624,791,776,806,766,704,720,624,704,558,814,704,841,652,575,754,824,561,806,623,704,681,766,550,841,679,720,623,824,806,623,652,50,754,712,558,728,687,723,604,622,577,841,754,712,623,731,604,714,624,689,624,577,766,558,693,741,604,714,816,712,575,577,806,560,816,555,166,558,731,599,731,652,577,265,652,832,841,825,774,638,701,781,624,832,604,823,598,816,623,623,720,619,558,623,166,623,192,652,704,558,714,558,731,714,714,166,622,777,766,644,779,766,604,714,578,619,624,577,81,644,194,266,823,745,665,644,816,712,700,704,731,648,20,577,816,172,558,619,815,824,720,773,803,564,689,46,644,623,560,720,141,714,623,652,669,623,708,766,720,624,841,638,217,82,26,824,644,689,715,602,841,712,733,593,637,589,192,714,824,755,622,647,816,596,712,766,620,558,824,797,616,834,264,631,815,622,164,631,273,774,714,714,38,624,228,613,720,623,754,766,815,815,760,644,619,741,760,622,841,823,631,776,260,809,781,774,651,638,827,589,217,841,558,733,766,755,647,816,589,719,604,644,807,624,623,256,704,777,714,605,82,652,755,800,644,558,623,778,577,677,623,558,776,838,815,806,819,760,728,821,816,816,720,851,720,720,564,575,706,589,797,589,748,575,265,622,689,760,806,575,687,141,689,681,821,733,731,623,754,558,631,816,816,804,776,766,565,733,576,816,735,731,766,841,816,777,623,806,689,217,741,577,577,193,816,733,799,630,540,563,806,816,776,20,681,49,225,766,624,723,763,702,50,623,777,777,841,558,577,540,290,841,638,700,558,795,824,689,844,832,816,733,656,714,604,577,766,211,720,644,731,773,622,604,753,541,805,841,652,623,624,807,824,624,742,844,824,604,134,623,844,623,619,558,681,832,689,604,712,730,669,228,844,758,589,824,645,143,544,754,774,816,765,730,777,624,714,850,777,558,587,799,727,576,845,721,194,722,714,754,776,720,792,624,714,38,790,776,659,644,624,815,777,604,816,689,558,637,619,604,88,622,735,712,741,604,712,644,620,712,689,624,245,624,766,82,754,604,540,706,558,815,795,824,624,616,766,659,589,193,781,624,825,816,619,821,742,670,558,766,741,148,741,790,193,558,821,558,659,714,824,720,733,731,735,631,712,714,824,589,816,766,689,77,755,274,619,558,712,577,712,816,785,622,708,754,541,845,766,760,777,652,841,558,767,217,766,558,712,815,622,558,681,766,570,841,589,704,731,619,777,576,290,815,623,623,766,774,604,721,843,638,558,720,741,558,560,777,265,214,720,631,558,824,797,766,598,766,681,714,558,228,577,604,754,644,832,619,821,816,623,730,622,720,816,766,722,690,604,832,832,623,766,624,558,624,827,754,733,689,619,624,644,741,589,777,816,213,765,714,588,766,46,720,577,558,577,644,824,766,733,730,766,733,622,766,766,816,731,36,754,816,652,599,777,577,624,693,712,791,575,623,766,735,754,776,766,623,604,766,619,575,742,589,760,804,275,558,623,679,166,841,853,212,589,166,538,276,212,774,245,166,815,854,622,575,681,623,816,714,842,610,695,558,791,622,602,754,704,577,741,754,781,731,569,623,742,708,752,821,185,777,761,20,558,795,714,815,754,638,622,848,679,770,841,714,616,742,731,806,741,808,824,807,702,623,806,853,816,652,733,815,622,589,776,589,815,731,638,646,277,823,712,766,631,622,695,763,227,704,644,816,816,217,766,589,720,624,777,119,257,760,801,806,180,841,623,605,545,689,558,777,558,704,558,754,720,623,648,631,109,815,815,624,731,646,228,815,755,766,741,814,50,693,577,733,560,733,622,265,722,824,804,765,857,623,557,619,577,652,577,560,766,630,623,758,821,622,742,754,760,731,804,641,799,577,136,589,804,810,552,689,777,193,619,558,624,623,754,815,703,776,816,821,845,143,714,766,766,845,623,689,570,604,754,761,724,631,824,605,589,577,623,776,256,623,766,773,638,841,624,824,703,857,704,624,824,754,679,821,558,623,773,824,714,558,577,166,690,681,763,821,776,589,816,777,644,668,760,807,38,558,781,555,761,558,555,562,185,839,809,82,558,631,575,777,294,815,815,766,774,605,740,558,225,679,587,577,776,777,623,558,689,806,825,669,754,766,766,766,741,714,689,624,695,631,823,731,604,558,182,777,616,558,821,679,623,586,634,807,731,604,577,203,577,228,731,777,714,652,824,714,624,623,558,741,560,815,644,644,776,58,704,604,721,689,193,575,766,731,569,669,720,63,652,816,766,815,669,731,704,690,574,704,799,749,815,604,622,825,624,714,598,754,624,185,275,722,569,640,558,143,623,815,807,731,624,815,810,754,824,623,623,88,806,823,624,792,827,720,558,558,766,815,667,704,552,795,714,619,766,679,82,841,652,821,766,580,777,801,205,700,663,733,766,570,558,816,205,604,587,624,683,755,644,704,256,631,824,616,569,154,575,704,765,631,604,766,827,695,777,64,558,628,733,624,254,712,844,558,761,577,558,558,558,777,656,46,766,827,714,819,766,824,616,623,290,613,714,832,815,695,644,624,714,766,624,679,648,187,816,712,558,823,766,714,642,741,599,781,560,707,774,722,644,704,712,720,638,714,754,714,712,652,665,623,754,755,766,217,704,825,690,766,715,854,766,558,854,599,558,681,827,558,766,814,815,816,714,604,624,679,754,187,558,712,217,741,844,752,679,558,766,667,702,755,591,760,741,703,731,624,576,816,193,795,644,761,637,644,741,766,777,821,577,712,622,265,733,683,631,788,695,679,804,569,714,733,689,36,592,824,577,136,815,588,624,821,690,714,714,815,632,774,766,20,101,623,687,803,558,824,824,681,766,720,577,558,617,776,644,602,623,575,735,689,815,712,765,624,586,644,799,689,624,766,850,731,217,82,138,558,206,741,604,653,815,700,819,63,827,623,281,704,558,777,78,754,101,558,109,624,733,644,577,636,623,689,217,758,720,714,558,816,689,164,698,156,714,622,815,733,624,630,689,689,712,155,704,735,558,290,624,824,755,277,845,619,50,708,754,623,589,754,754,689,558,714,776,560,795,841,624,550,678,839,558,733,754,577,815,684,816,589,638,631,558,841,623,816,164,816,731,704,749,824,816,690,587,624,731,766,731,560,714,766,689,602,624,540,766,720,766,733,558,605,681,816,766,20,652,733,266,659,577,763,766,766,714,695,624,624,815,733,776,190,704,558,825,652,604,859,700,777,815,644,619,623,588,596,82,624,622,824,623,774,766,857,50,689,712,624,602,689,825,762,622,819,720,816,821,558,190,760,777,193,724,604,845,854,714,766,652,631,624,669,214,589,558,624,749,741,777,733,720,777,714,824,689,274,740,714,560,558,815,681,845,816,776,806,718,211,623,720,624,731,721,232,754,67,766,624,733,819,766,815,604,776,819,605,681,755,652,277,604,754,245,616,841,741,712,832,622,816,560,558,558,628,624,623,766,622,704,689,623,689,712,765,623,558,714,644,844,668,558,652,776,841,795,720,577,577,733,763,766,679,604,558,213,708,722,624,777,731,816,217,741,689,754,682,766,740,552,602,623,604,558,824,558,558,815,624,558,589,558,695,766,589,804,776,666,558,558,714,827,766,777,624,576,704,754,560,714,824,645,638,582,714,720,604,720,624,589,766,228,776,815,63,774,540,730,754,816,214,558,623,591,616,623,166,815,714,827,172,825,712,816,700,712,766,575,689,825,766,766,755,815,815,130,816,816,589,558,815,644,577,824,781,777,558,644,731,575,844,760,622,624,689,815,681,815,841,821,574,741,776,712,265,806,749,577,777,558,720,766,604,589,816,604,841,164,540,777,670,844,589,577,689,205,766,623,558,766,707,713,720,689,777,741,754,776,815,602,679,624,228,712,824,577,558,133,624,712,602,774,766,838,777,815,766,577,631,558,763,765,741,731,778,825,695,704,815,668,577,616,679,644,228,774,815,741,740,746,804,731,631,624,774,777,731,577,577,735,604,624,695,774,217,766,631,293,844,38,647,824,797,841,82,631,827,730,631,524,825,777,777,766,766,560,684,712,776,712,672,577,85,709,774,704,760,81,714,733,604,81,704,624,704,741,689,20,623,720,624,823,704,777,624,662,78,604,795,806,766,766,283,816,604,766,632,709,623,815,265,742,815,714,695,776,714,761,558,857,560,816,605,639,577,761,624,766,804,806,50,774,794,766,777,557,631,712,741,665,839,766,741,50,714,624,20,620,623,610,679,652,827,766,558,558,637,87,558,714,733,806,841,695,217,821,228,841,590,825,815,577,555,760,577,850,621,737,777,679,652,624,804,681,577,689,604,631,827,850,766,585,689,819,540,777,644,807,624,558,141,712,631,577,754,598,761,816,714,558,689,806,624,558,577,704,80,816,816,555,760,824,766,589,824,687,815,744,695,777,760,845,824,832,576,832,825,766,256,558,82,20,604,832,731,172,681,731,560,623,166,631,714,560,719,824,205,605,714,766,806,766,644,766,56,730,558,776,720,682,623,712,815,623,816,225,825,623,816,728,652,623,689,741,741,766,752,766,765,558,695,718,712,194,570,824,712,766,714,816,733,610,558,589,228,760,588,143,766,766,64,714,741,704,558,695,624,806,766,845,679,622,689,619,766,588,803,777,841,683,555,720,714,741,652,777,754,777,624,816,652,742,832,816,20,754,558,714,832,81,741,560,795,720,821,714,540,558,766,624,766,731,766,687,717,733,735,765,577,681,725,205,832,731,681,712,271,606,689,766,143,590,731,816,550,730,689,841,816,799,205,832,821,38,644,720,265,714,741,143,760,766,644,766,754,687,624,750,808,604,689,558,720,742,664,689,767,766,624,125,775,827,733,604,704,148,766,824,679,788,205,720,729,624,623,679,679,806,748,558,624,763,766,280,166,733,832,82,827,731,689,557,555,687,91,689,82,731,816,622,806,714,623,61,164,681,720,687,577,560,558,166,638,604,825,777,714,558,558,816,659,81,731,766,604,589,36,735,605,754,795,154,265,681,766,652,766,777,730,80,712,766,840,569,714,760,742,773,558,825,766,766,689,776,217,624,777,224,767,712,63,735,648,788,614,733,558,841,815,558,631,825,588,783,714,832,681,790,766,679,778,558,761,182,766,733,825,558,714,622,814,81,577,842,714,766,540,807,616,577,623,577,841,814,622,806,622,622,825,827,623,824,275,714,795,687,623,825,631,823,703,825,758,817,577,681,774,760,731,714,754,690,816,824,735,741,630,755,623,731,741,631,623,731,61,740,797,644,689,816,575,720,776,575,804,766,638,731,687,662,631,81,227,644,755,624,624,721,623,792,605,586,564,679,631,558,766,611,652,558,824,670,689,616,808,741,741,816,841,816,797,712,774,816,139,777,20,755,816,558,689,630,652,763,558,638,82,720,850,622,755,816,604,558,217,824,799,656,761,777,623,754,731,558,777,720,714,730,624,652,714,754,669,754,631,648,731,712,689,689,631,540,766,845,841,714,631,631,712,687,777,777,689,266,816,731,622,766,622,644,558,575,689,585,589,766,558,758,538,816,735,841,663,646,799,623,766,730,624,773,652,824,704,604,814,616,679,681,644,224,268,589,745,731,766,807,714,265,624,763,668,777,776,611,714,631,587,266,741,827,605,192,667,619,623,731,644,589,644,702,624,821,687,554,689,604,689,689,679,815,807,761,68,832,631,704,689,766,266,558,714,623,832,825,731,824,558,558,807,227,777,631,797,762,681,664,558,754,825,624,623,622,827,644,577,577,616,797,741,623,22,760,824,714,712,290,816,708,777,619,704,577,679,665,604,776,733,815,549,644,712,575,824,205,733,623,733,623,558,712,776,766,773,558,774,832,720,604,735,716,569,733,644,712,694,172,824,733,558,824,631,558,766,644,777,644,647,700,728,641,806,816,558,558,605,604,689,689,641,624,623,264,815,38,714,730,766,591,777,689,730,281,602,712,623,766,558,731,742,731,631,687,816,760,766,827,558,81,794,616,765,731,777,648,577,687,624,644,623,604,766,623,733,77,795,211,712,758,623,766,720,730,795,558,795,844,589,720,602,624,714,714,81,644,558,558,558,589,714,630,183,540,832,689,816,624,824,823,558,830,623,841,683,827,558,776,558,712,754,652,9,589,624,754,731,814,604,552,558,644,731,816,733,644,560,712,546,644,814,801,816,38,591,558,644,558,677,558,821,558,577,824,577,619,558,689,761,558,824,80,619,577,720,708,589,844,795,807,602,722,731,22,765,622,777,753,652,589,152,712,558,602,720,741,652,827,841,730,824,730,754,624,622,679,558,766,577,838,31,815,555,624,604,815,792,622,558,777,714,577,714,539,761,624,558,624,703,623,766,776,816,720,679,577,776,853,82,558,810,623,766,555,569,841,689,172,708,689,558,558,754,143,558,807,794,790,841,752,652,712,714,733,88,714,624,816,577,731,816,82,623,577,575,774,624,668,265,712,211,624,712,644,819,841,845,644,832,624,689,704,704,766,624,766,766,714,754,801,807,720,844,708,766,777,804,266,823,777,217,854,777,631,806,754,712,624,695,217,652,842,206,781,588,721,741,652,714,732,624,816,816,714,109,741,623,763,854,755,558,217,588,761,795,193,604,804,830,714,777,679,624,88,684,558,714,569,776,767,806,659,754,804,652,712,766,766,845,631,733,623,689,766,777,714,776,731,558,631,558,624,282,788,742,777,704,623,689,558,683,558,668,668,741,444,679,762,624,704,152,558,781,623,832,654,723,689,776,81,746,767,602,604,690,558,733,762,702,88,604,571,839,795,720,624,143,720,559,623,773,712,741,604,777,689,741,560,790,766,82,733,558,843,824,558,754,742,712,832,604,754,741,623,81,714,735,712,644,821,742,604,558,766,615,766,38,631,766,681,623,776,647,754,720,714,583,689,712,577,714,274,558,766,824,61,624,689,710,689,714,746,714,143,631,610,777,824,806,760,832,624,690,761,558,641,766,143,795,631,731,731,712,624,623,832,807,766,845,714,624,689,622,689,733,540,766,816,815,558,777,832,777,684,689,679,821,604,598,623,689,622,731,616,766,755,704,623,712,766,712,766,755,644,658,714,623,172,773,264,164,712,839,88,577,641,731,712,731,217,588,652,217,714,720,806,622,777,704,624,558,624,558,720,714,704,776,558,217,162,82,754,558,624,717,558,624,624,623,623,606,841,712,754,695,620,754,714,156,766,766,74,816,846,816,623,623,689,681,704,714,134,731,20,832,841,558,799,758,720,576,733,714,845,698,623,791,589,765,776,561,825,604,689,77,644,809,109,558,624,558,733,88,624,558,622,714,731,659,555,795,644,679,842,689,623,591,752,172,704,806,623,605,622,795,825,624,521,577,623,755,815,765,826,631,558,569,652,127,194,720,602,714,275,624,766,631,293,766,271,623,714,631,766,623,679,776,754,754,652,807,183,693,690,704,816,766,741,644,558,712,714,806,720,714,777,774,712,156,619,164,558,558,602,816,624,620,720,841,619,623,577,741,766,558,776,714,765,827,712,682,624,624,825,558,731,77,560,684,704,720,708,781,603,689,164,777,604,731,764,624,758,766,741,799,624,602,766,733,236,816,558,540,816,714,731,733,766,761,766,773,155,604,777,704,763,577,827,720,243,741,824,622,795,689,624,644,766,644,755,623,689,552,714,624,251,684,558,799,623,857,695,777,804,824,714,807,815,590,806,722,185,766,776,795,172,735,558,640,154,679,766,623,703,773,619,631,558,766,722,724,712,824,623,824,577,558,38,730,695,841,652,631,624,754,630,807,754,733,761,741,164,650,766,766,714,560,816,577,689,704,815,824,164,707,624,38,564,704,748,558,558,816,577,20,720,602,577,558,731,774,776,720,736,714,707,742,624,592,558,558,558,766,558,766,795,804,588,560,647,590,598,577,604,714,622,762,211,631,689,776,717,624,754,554,815,577,714,558,652,558,558,558,577,644,598,644,635,624,81,619,777,766,644,689,791,733,766,624,815,766,624,558,763,575,652,735,712,624,816,718,20,806,624,766,766,731,541,558,752,598,652,720,704,558,777,624,762,558,289,623,714,710,735,777,791,753,728,558,777,20,824,754,81,143,815,689,689,595,714,589,815,777,657,799,841,624,714,708,602,788,850,558,714,754,652,611,704,754,622,815,777,777,644,723,806,539,720,824,824,622,623,624,825,616,832,610,266,644,731,795,320,742,857,766,681,631,774,624,813,752,733,763,560,817,602,730,606,824,741,777,266,271,777,714,722,623,778,587,806,622,766,623,720,788,577,82,644,720,792,762,844,623,825,575,730,575,558,604,88,166,598,842,712,766,558,558,766,631,754,720,795,824,815,558,704,754,773,623,816,623,714,696,622,792,714,807,560,821,806,539,217,652,623,604,604,823,616,589,577,631,714,714,217,602,832,714,695,841,599,704,577,754,754,841,644,577,689,714,741,788,589,777,558,631,631,540,681,777,754,824,712,754,755,824,773,761,604,754,825,558,741,841,714,558,704,821,623,809,228,714,704,687,681,605,733,720,624,602,558,623,101,804,799,806,558,823,776,557,707,841,624,703,605,700,623,736,693,766,824,714,652,652,558,766,795,623,576,166,846,623,816,20,624,816,712,558,824,755,731,762,74,558,558,712,687,644,766,575,766,624,766,624,624,704,558,589,704,754,644,758,854,622,777,652,832,88,741,821,689,754,624,824,644,38,761,735,815,689,558,816,841,644,588,605,766,761,812,605,624,817,815,598,841,754,558,606,695,721,622,824,589,624,631,703,80,558,589,20,776,816,587,767,681,754,166,758,82,623,577,714,681,827,575,795,777,689,714,624,712,575,823,832,205,558,63,623,774,623,644,741,776,712,613,589,587,766,714,823,631,624,824,101,136,704,806,714,712,652,731,540,774,712,623,624,806,714,217,815,729,689,20,731,714,647,774,623,714,589,631,766,604,832,825,712,575,766,734,622,20,589,182,624,832,712,824,164,731,832,824,766,631,842,720,825,624,766,558,766,266,571,766,724,722,714,754,652,766,604,760,623,707,714,558,774,714,577,742,825,816,754,841,577,281,241,558,777,737,683,838,748,800,720,689,20,36,212,816,644,623,704,763,576,624,644,693,766,622,575,623,806,720,689,577,211,777,622,166,624,558,20,714,736,679,824,815,623,624,604,20,644,638,816,806,228,652,821,731,754,604,807,776,755,821,577,644,577,602,816,776,844,681,816,818,795,841,714,754,714,704,797,815,256,708,558,51,623,824,741,623,825,714,714,561,679,776,687,623,806,832,774,825,559,577,589,763,766,766,777,558,623,841,815,833,754,619,777,754,815,558,714,824,708,652,720,624,690,816,754,815,773,622,719,714,623,720,741,721,804,731,598,20,739,577,774,857,187,589,741,704,823,720,148,704,225,689,774,681,599,679,217,754,720,714,644,227,655,805,712,766,558,832,604,761,815,777,841,587,687,558,613,741,714,631,624,679,827,766,754,731,774,721,631,745,668,652,630,622,624,624,193,558,824,558,624,766,624,652,804,704,631,797,575,730,36,624,815,736,82,815,795,664,558,623,689,679,624,679,636,623,604,639,712,624,172,841,644,82,558,720,723,558,577,265,624,602,733,806,228,754,744,703,689,575,815,776,623,681,714,714,762,151,690,652,644,623,816,821,588,742,766,550,266,619,631,754,832,689,754,588,714,669,619,644,681,689,624,616,61,604,766,693,679,841,858,797,827,604,730,815,624,704,558,631,806,554,631,623,766,623,652,824,777,101,624,832,589,754,733,712,774,602,774,823,819,690,712,64,776,755,689,679,644,624,266,624,815,205,628,588,777,714,795,624,832,754,558,741,577,844,825,832,604,624,624,741,756,766,824,704,704,214,765,652,714,77,558,766,681,776,558,807,825,815,558,644,767,845,257,735,823,714,689,631,624,709,679,214,679,689,631,819,815,558,755,755,164,577,689,766,712,792,731,766,166,766,560,558,816,823,631,832,560,652,634,689,228,804,832,644,737,652,638,777,714,622,48,714,652,604,741,766,558,815,799,690,589,604,164,760,761,824,558,274,624,558,720,714,754,271,656,624,766,558,549,623,156,742,539,604,577,623,624,730,825,274,22,731,815,644,717,622,712,605,558,718,832,712,733,619,623,824,623,814,624,624,777,824,838,624,679,689,624,623,558,113,623,806,588,631,644,610,733,766,654,809,652,733,631,620,777,164,809,766,754,558,754,681,704,652,841,558,577,720,760,245,766,20,746,754,781,816,816,754,558,807,689,714,704,811,624,766,795,622,274,590,624,741,681,704,689,172,733,101,766,712,760,690,633,731,623,689,631,558,712,604,558,589,733,766,638,258,760,714,752,731,598,695,623,540,740,652,731,681,217,689,689,801,760,631,644,778,766,185,624,7,623,638,20,733,731,712,256,622,183,807,748,81,63,824,776,624,687,550,624,558,762,704,714,232,558,575,136,767,776,679,540,659,589,777,652,766,741,610,610,704,623,644,624,766,656,644,859,761,841,545,604,714,806,202,183,754,704,815,631,819,695,789,624,592,613,730,63,560,714,733,816,81,587,644,88,695,731,245,265,714,821,38,624,766,704,689,265,689,652,841,652,623,731,760,704,806,816,806,844,164,623,624,679,624,730,832,563,555,824,781,733,577,602,657,797,624,821,623,232,577,560,26,604,733,558,773,714,816,733,674,22,804,720,714,602,623,783,761,825,844,766,171,742,733,815,631,623,815,560,624,731,590,765,679,816,766,203,754,80,652,760,720,687,737,644,81,193,758,623,38,274,766,824,777,689,664,766,614,766,679,821,777,687,623,754,696,585,807,731,754,754,731,766,776,689,766,217,552,623,650,652,765,816,120,816,644,558,156,797,746,841,824,807,564,766,704,148,217,804,714,689,81,766,690,816,589,816,185,589,766,766,623,602,766,577,564,644,714,121,777,604,752,604,624,774,624,767,766,777,703,807,821,589,717,616,754,712,767,712,623,644,816,689,558,588,731,644,815,714,619,644,558,815,164,644,808,766,755,755,742,577,797,815,815,659,560,558,602,619,714,740,777,619,825,766,605,541,651,708,773,265,845,766,620,704,217,766,754,558,604,816,733,681,815,623,712,624,624,644,540,604,804,604,689,623,816,623,558,827,225,577,623,217,841,660,631,777,777,731,249,773,604,623,558,815,773,566,777,733,623,638,720,624,790,576,619,604,741,681,777,767,623,624,558,839,575,217,689,596,589,679,183,766,143,577,577,806,558,816,832,815,766,680,781,816,741,22,754,20,623,754,762,647,687,777,619,766,211,714,664,577,628,766,82,806,807,754,624,720,806,720,730,714,228,604,623,795,806,824,652,722,623,714,827,712,712,217,704,777,816,815,605,652,631,588,619,766,624,754,604,681,689,832,777,20,623,631,720,689,577,704,774,631,624,762,816,631,704,776,571,832,736,766,815,816,815,558,766,741,652,631,631,679,558,558,755,774,558,555,741,602,586,760,577,777,555,766,708,605,774,624,712,722,766,824,143,754,624,82,652,684,558,558,777,136,602,588,766,821,644,631,766,558,577,588,832,558,821,712,760,824,624,777,575,558,623,624,730,712,816,602,731,825,577,591,714,766,714,604,558,824,687,714,623,585,605,558,652,558,720,558,841,624,814,816,602,714,719,80,720,622,766,143,704,808,777,741,712,754,845,622,644,693,720,766,647,827,806,815,754,679,804,644,741,644,88,816,589,807,712,766,631,815,754,564,715,623,558,766,689,558,700,681,652,616,668,577,605,762,684,695,760,644,588,540,614,809,801,824,631,590,689,844,820,816,652,712,731,816,558,703,569,823,689,682,841,815,689,824,795,704,857,714,623,755,558,773,638,558,733,838,777,720,714,823,605,773,766,703,857,630,766,631,740,668,648,795,624,741,857,821,143,652,622,604,624,815,821,704,712,591,766,825,644,841,712,763,704,624,88,689,644,754,741,821,575,795,217,844,81,733,841,604,735,745,849,624,748,714,712,564,741,754,721,766,755,555,842,82,766,751,82,624,644,590,754,703,816,766,622,644,815,720,602,741,136,823,589,624,558,589,604,777,731,604,644,814,754,554,247,631,806,815,652,545,824,731,193,776,281,623,844,730,631,558,821,777,577,720,609,294,766,754,624,720,816,632,589,68,38,698,807,752,719,815,714,821,766,704,763,623,777,642,644,766,623,577,623,631,716,616,733,815,689,644,760,624,790,558,623,763,560,824,766,545,766,689,844,731,689,824,733,689,644,776,733,622,766,623,687,714,558,271,577,839,741,799,713,20,604,558,825,776,714,766,712,624,702,761,587,624,624,766,704,712,741,816,776,720,588,695,624,701,592,689,767,681,212,558,589,777,766,172,644,733,558,554,841,733,619,777,604,619,589,604,679,777,540,816,20,550,841,731,575,212,766,546,217,265,733,801,787,689,742,81,577,714,816,816,724,689,558,720,777,806,841,670,766,850,817,816,555,825,555,838,619,183,624,631,712,777,774,816,575,623,714,825,659,569,781,275,622,678,816,225,814,652,631,605,82,644,815,228,631,781,845,731,183,631,807,689,760,714,558,558,731,558,712,766,560,164,653,766,558,644,577,652,280,619,777,752,566,777,797,751,665,758,624,166,781,589,624,558,804,766,166,623,712,815,712,785,761,766,631,733,704,622,574,731,814,577,679,623,844,623,622,651,689,777,761,605,816,602,714,689,752,558,766,681,558,81,742,689,560,815,806,841,773,765,824,20,755,806,20,558,824,766,638,631,558,766,577,766,623,827,755,754,816,728,577,806,689,785,589,775,558,766,754,714,766,774,832,816,714,613,659,61,631,797,816,20,605,586,741,602,731,754,781,101,755,156,602,558,755,821,623,712,806,136,652,807,741,754,804,788,558,709,731,822,797,766,266,808,766,776,733,622,121,622,775,591,590,712,690,712,645,755,600,766,624,825,577,558,766,557,577,540,754,689,761,777,79,558,652,624,194,821,652,816,735,624,799,742,166,720,766,841,623,689,806,765,763,623,816,712,564,631,624,809,816,558,704,754,689,766,623,741,714,644,604,684,714,845,741,558,745,801,824,644,722,797,619,741,720,703,816,738,733,689,815,652,575,719,575,619,577,589,816,623,795,183,804,815,745,598,714,589,623,731,679,714,714,766,777,81,741,841,714,816,631,702,689,652,797,712,622,777,623,762,700,577,795,704,558,662,766,754,624,679,816,63,731,808,622,193,714,558,804,815,815,602,690,623,689,623,720,712,577,644,742,815,763,185,623,755,760,704,740,689,774,777,495,777,604,788,623,777,819,689,777,714,799,571,714,815,622,647,695,689,558,624,631,731,766,777,766,776,669,824,736,815,585,766,712,622,544,741,807,816,737,689,827,744,827,731,754,257,619,736,720,714,741,755,754,562,766,701,744,755,38,558,623,247,687,767,631,589,649,558,253,624,774,681,37,806,624,722,742,832,644,558,569,714,799,624,585,776,844,761,824,624,755,577,742,795,788,762,644,703,265,623,845,558,816,816,754,624,669,623,689,714,206,816,558,623,731,644,638,766,723,604,631,704,681,704,689,801,558,622,689,623,790,823,687,577,624,824,742,619,687,251,687,731,558,825,560,704,774,843,126,183,714,631,806,732,704,623,815,148,714,760,816,558,614,815,712,766,714,689,766,652,689,623,558,622,80,815,776,777,824,644,558,589,558,48,777,652,731,712,766,558,712,558,735,806,652,577,720,624,827,577,182,841,841,623,815,704,558,623,577,558,754,558,604,832,624,755,623,754,280,623,705,807,575,558,558,824,602,816,654,558,816,624,815,558,689,824,624,754,777,766,827,816,816,797,766,644,815,591,712,558,558,776,575,225,712,82,558,720,806,777,589,777,777,795,623,754,644,164,576,816,256,661,806,624,681,20,733,623,624,816,575,642,619,719,700,754,619,172,776,659,761,545,824,644,624,558,720,766,624,652,712,816,758,766,712,695,766,783,714,558,558,555,623,631,558,689,741,790,624,251,212,720,558,619,816,558,707,703,760,816,841,754,558,604,558,774,824,702,712,604,806,558,559,185,712,777,622,644,821,824,712,755,842,720,624,781,731,652,558,776,589,815,652,63,714,558,619,761,38,815,703,714,538,816,652,806,588,681,604,610,134,604,577,790,599,741,738,652,624,735,766,622,624,26,773,602,88,80,795,577,695,679,765,720,654,689,815,776,754,777,624,776,689,824,623,620,714,841,652,755,776,644,604,754,731,623,755,816,841,182,624,774,815,206,714,777,832,668,781,810,843,815,816,704,766,841,731,765,733,681,644,766,139,293,622,718,265,193,741,766,82,87,761,644,644,623,721,290,714,217,714,741,702,652,816,722,623,558,720,815,665,807,816,773,101,620,558,558,137,589,828,354,558,592,589,774,631,702,624,687,816,558,82,624,82,707,599,720,720,560,763,741,695,81,720,704,825,644,714,714,755,816,720,623,845,644,631,731,552,825,575,677,589,631,570,714,622,740,832,788,773,732,624,63,183,695,619,712,695,797,623,558,777,623,540,666,143,624,720,689,622,712,814,733,143,558,841,624,205,555,604,720,575,689,695,841,604,776,797,652,17,577,766,816,781,577,560,815,797,20,842,610,714,741,644,766,689,631,631,687,724,806,720,704,841,728,714,622,679,815,845,741,722,766,644,624,544,644,741,558,788,558,832,82,631,558,816,827,712,731,832,558,623,552,558,624,644,824,200,687,602,587,689,714,577,733,558,816,689,816,841,827,690,766,821,624,766,766,704,816,794,791,624,558,733,730,733,624,605,730,754,840,777,641,558,689,558,644,558,605,761,164,832,679,575,806,623,741,731,689,704,623,626,589,617,827,731,625,712,777,687,809,558,631,824,91,558,644,733,844,274,823,777,631,815,689,777,742,38,82,558,740,558,777,604,712,841,754,761,624,576,752,652,713,609,624,714,619,766,623,597,624,689,150,624,558,712,720,766,602,227,742,589,623,766,624,714,841,82,631,619,20,665,644,754,589,697,623,240,766,765,589,81,558,681,616,589,577,589,714,631,766,689,20,644,644,193,838,841,558,619,558,765,558,704,731,624,652,795,815,731,766,797,20,623,703,755,832,644,733,700,850,766,560,179,224,631,589,806,754,838,704,712,853,638,708,844,604,672,193,815,622,816,702,622,704,602,183,689,755,254,720,816,575,776,598,81,227,816,39,730,704,546,624,257,623,816,821,558,720,689,712,844,555,712,589,714,644,171,560,631,777,721,555,809,816,774,733,569,604,702,624,841,644,275,839,619,631,652,555,625,623,679,766,712,217,766,771,623,723,725,720,574,841,766,623,558,804,825,560,624,623,832,589,730,816,644,558,824,845,731,781,576,558,766,704,815,577,824,644,622,109,806,619,814,766,841,689,841,857,854,720,20,624,704,704,760,712,577,183,720,758,821,766,623,624,695,216,720,816,815,624,714,648,577,816,540,714,844,623,644,589,604,825,20,695,134,824,777,823,82,766,624,741,669,22,20,290,558,821,589,720,544,604,832,777,577,714,766,687,742,774,558,561,689,651,558,821,781,540,558,281,558,778,714,232,164,804,774,631,604,552,816,556,22,806,709,821,622,733,777,624,589,623,766,815,704,714,577,577,719,623,754,262,815,806,832,254,703,712,795,841,569,766,841,695,735,773,558,689,777,814,766,558,816,681,652,825,558,604,730,766,622,575,681,712,815,824,766,704,760,752,843,88,704,704,718,714,619,712,20,815,825,777,624,681,735,558,766,712,575,777,23,20,704,104,624,752,712,558,558,714,644,679,558,827,623,777,228,101,816,712,766,82,619,781,838,824,730,631,766,687,741,689,267,815,774,558,766,748,616,790,815,755,604,821,605,78,838,211,63,824,38,731,724,689,656,777,625,615,774,619,777,832,731,623,733,619,774,722,277,624,631,151,807,816,623,689,776,733,624,776,619,624,733,585,806,714,577,558,631,823,134,704,816,622,730,558,832,758,689,624,841,714,731,729,558,689,845,689,558,109,754,558,712,622,766,667,700,823,754,266,821,766,644,217,827,590,695,730,712,638,766,622,624,689,709,577,761,733,369,539,720,577,714,774,630,777,707,631,622,170,619,631,754,575,841,774,816,558,731,754,714,631,623,741,624,766,766,598,774,815,766,801,712,619,644,589,558,156,558,623,806,815,767,644,577,558,704,766,704,777,824,624,714,631,623,616,776,242,558,735,604,714,777,212,558,689,712,754,206,815,558,589,806,783,585,623,777,679,558,558,228,827,714,560,689,712,641,766,679,172,720,564,815,679,564,689,604,788,681,589,623,720,735,558,815,742,679,558,777,570,652,644,558,587,604,228,589,741,754,732,773,729,598,679,832,604,777,605,735,754,558,624,841,166,604,187,604,589,681,766,136,558,681,580,20,623,623,644,88,704,754,741,714,274,777,630,624,604,731,620,136,754,731,205,689,569,777,777,712,766,648,623,781,679,81,689,766,777,824,558,631,670,704,820,714,816,824,720,731,777,575,806,712,766,755,714,589,584,652,731,644,731,589,558,720,588,754,766,622,714,555,720,766,776,720,624,774,720,689,577,777,774,644,760,781,648,754,742,35,619,623,730,587,766,777,841,816,741,766,538,758,624,762,733,558,558,602,670,589,623,174,81,589,228,777,720,828,712,731,558,809,558,703,644,807,714,816,751,702,558,766,704,824,766,558,622,558,689,622,712,611,704,695,166,712,754,3,604,824,20,613,795,203,777,720,558,604,558,679,832,631,687,591,766,714,841,589,748,585,622,652,729,816,714,143,623,623,689,815,845,824,63,821,631,217,172,589,558,766,604,217,766,841,575,689,623,510,558,558,587,755,575,841,766,845,602,712,558,631,560,848,613,806,589,628,821,689,815,741,709,816,558,577,689,816,558,631,540,633,766,182,815,731,765,589,540,631,265,776,669,575,558,652,639,644,624,695,766,681,624,569,762,857,777,558,604,679,720,766,681,576,703,631,816,623,689,776,714,766,82,585,590,754,558,558,816,624,704,824,624,766,604,777,266,712,754,631,709,616,624,714,795,623,766,616,589,741,776,82,704,703,712,777,623,575,564,741,623,845,712,762,589,815,807,804,766,815,26,631,631,728,589,689,832,776,558,741,824,766,800,622,623,733,731,689,183,720,704,664,604,766,20,791,623,63,217,604,815,777,766,824,164,712,624,766,623,539,682,644,754,766,795,777,752,704,631,689,558,589,774,670,816,766,703,193,714,695,816,712,558,766,589,801,766,816,766,815,689,623,821,791,841,172,777,731,560,610,88,815,20,679,575,766,689,589,774,644,638,689,712,766,731,558,841,774,714,681,702,543,777,604,557,20,703,814,631,577,823,742,781,766,687,631,589,616,733,670,631,624,777,598,841,217,799,624,619,687,824,806,704,714,825,558,714,644,731,631,624,624,679,760,589,704,631,816,824,720,815,752,619,682,744,792,600,631,624,824,807,774,754,624,558,738,766,575,854,776,558,589,754,63,589,720,815,257,799,589,846,714,575,701,624,714,755,728,698,825,656,619,720,631,777,602,623,776,689,766,623,634,604,830,211,300,766,558,651,777,185,777,624,733,843,623,776,577,38,172,589,691,577,624,622,841,735,714,806,712,622,754,777,740,589,623,631,777,589,598,766,766,604,703,816,754,714,622,577,624,815,731,735,777,624,589,627,684,777,824,776,824,821,808,776,577,546,806,624,766,712,714,752,731,720,36,832,622,714,691,816,714,816,762,616,773,754,825,577,761,558,217,766,722,623,766,604,776,217,265,720,714,64,623,824,555,714,679,644,217,564,733,754,731,766,689,558,604,689,816,777,704,613,816,777,172,558,217,604,625,791,558,754,624,777,816,766,63,604,815,681,816,733,558,662,714,587,589,558,656,844,760,558,776,622,776,821,689,815,821,577,623,815,266,841,741,623,558,275,647,134,217,558,714,631,735,38,225,720,754,591,577,824,631,656,777,558,816,575,687,217,577,136,652,622,602,644,589,761,712,227,589,816,698,763,767,704,844,668,577,228,624,815,704,754,714,652,766,719,733,590,754,763,560,22,689,266,689,681,712,589,88,644,623,577,825,816,731,755,631,624,185,540,166,714,623,824,806,602,619,714,814,689,558,630,815,777,795,602,763,652,644,623,766,766,714,816,624,592,20,742,266,733,816,558,824,624,134,827,808,714,670,703,205,637,827,631,777,823,816,766,528,126,766,731,823,571,730,166,816,136,577,558,832,577,558,704,843,558,143,821,687,619,731,808,766,602,37,14,166,766,631,622,821,679,587,801,777,679,624,623,63,766,689,228,845,101,738,217,624,839,712,631,558,766,690,766,714,731,712,754,776,774,577,167,623,818,20,740,50,622,81,731,766,644,733,166,762,558,624,815,832,754,558,689,577,49,774,815,766,624,681,816,644,766,728,714,194,731,616,652,827,714,681,689,277,704,788,641,624,681,815,816,143,766,589,631,766,781,730,624,659,558,652,624,623,731,704,558,577,616,604,825,641,575,804,82,816,652,588,38,589,714,720,741,815,183,704,777,777,760,410,712,558,766,733,816,205,558,845,589,619,832,824,762,166,760,804,644,588,824,777,708,623,741,217,589,623,815,714,605,624,689,652,777,560,631,708,697,821,624,558,795,730,763,760,605,172,766,704,644,143,540,766,795,599,290,712,704,622,841,558,588,704,644,730,815,731,766,271,206,776,731,577,774,623,766,558,689,729,766,560,821,628,721,166,602,823,558,217,624,723,825,749,712,119,777,109,742,638,622,720,777,602,687,741,824,841,704,558,558,738,825,623,712,689,776,714,206,602,644,620,754,599,766,755,558,806,638,558,623,644,760,821,741,774,36,577,682,682,588,558,604,841,228,256,825,816,589,766,566,634,622,689,830,605,681,71,667,631,187,776,722,194,749,777,653,766,742,619,652,700,741,624,773,720,714,558,20,588,624,777,704,50,828,754,681,776,652,602,730,781,766,824,704,689,807,558,766,577,815,741,766,807,741,824,624,577,557,714,619,733,631,774,733,628,742,164,624,624,689,766,146,667,731,631,644,763,622,630,776,20,290,766,623,777,644,714,577,575,141,624,644,257,728,619,777,81,806,558,731,841,552,816,98,604,774,722,652,141,766,604,777,708,624,598,700,687,838,773,689,766,777,777,766,730,577,735,558,781,156,774,592,264,266,624,558,624,766,704,587,733,689,803,774,815,659,766,841,823,558,619,815,731,577,731,683,731,754,164,605,746,217,101,804,824,825,776,720,777,684,714,563,540,681,623,560,766,558,624,732,562,824,575,560,777,815,587,49,766,712,689,773,731,82,742,714,555,839,712,806,631,172,577,672,741,591,625,714,577,714,740,767,623,558,647,624,776,816,714,766,712,217,681,604,569,754,20,760,558,788,720,733,604,827,689,754,689,623,720,577,766,766,752,555,766,714,148,731,624,623,604,731,733,558,766,841,560,730,624,558,274,604,823,558,795,224,815,141,584,648,687,731,841,712,623,166,766,577,741,622,704,558,588,731,613,624,80,720,631,644,206,136,720,815,824,762,841,741,754,228,589,738,631,733,762,623,689,575,558,720,805,720,623,647,670,733,589,622,644,604,558,766,558,731,558,806,623,604,88,760,589,766,613,733,622,795,720,707,558,850,712,766,766,614,776,225,702,577,717,777,271,832,817,815,804,741,720,689,815,143,776,712,689,766,575,714,741,631,841,689,767,577,265,650,714,731,806,566,777,36,50,704,604,670,730,720,832,844,622,737,816,712,575,824,731,689,766,735,720,741,20,714,766,760,101,604,20,703,624,549,619,20,754,620,182,558,689,704,623,605,807,720,714,754,194,821,821,557,714,755,821,766,644,558,754,821,644,589,274,604,589,558,736,815,816,827,652,623,225,777,558,832,681,558,577,88,623,777,687,559,766,558,714,824,816,689,714,225,704,844,766,290,816,577,825,558,816,589,816,619,777,558,762,774,560,731,644,832,545,558,700,604,624,714,619,720,589,227,702,766,816,577,623,780,714,720,619,616,712,720,766,217,714,704,631,760,558,689,602,733,720,588,722,821,754,816,799,708,622,824,733,781,624,631,619,577,577,850,623,704,689,821,211,754,624,766,723,689,733,589,754,576,733,824,624,681,679,644,766,777,644,704,804,754,604,773,624,652,708,776,88,620,589,821,623,741,644,587,821,742,825,730,610,604,663,712,827,575,712,776,714,809,806,20,714,714,624,558,760,605,558,695,624,827,762,265,733,605,624,712,804,731,752,797,631,605,644,773,624,642,670,644,777,623,604,766,730,816,689,824,20,815,80,742,806,624,689,739,78,816,718,824,754,624,687,604,754,587,605,824,714,766,624,624,589,766,820,816,806,689,704,35,761,777,687,689,730,642,591,766,754,714,714,731,766,617,714,777,857,731,624,824,832,80,766,841,624,754,604,77,558,217,816,814,704,81,604,668,731,766,708,777,631,704,558,712,741,647,623,217,681,689,731,795,589,824,794,689,741,590,588,624,585,217,631,731,695,806,614,619,704,684,765,81,558,832,558,14,588,575,723,77,638,560,257,136,815,741,689,774,679,714,824,558,758,777,712,589,821,754,558,714,832,558,662,816,624,274,624,790,795,631,777,589,589,816,689,832,558,631,704,752,712,624,802,172,589,742,766,652,538,823,809,652,183,622,644,730,689,689,166,730,689,841,80,631,766,777,604,777,766,720,623,777,631,586,716,687,777,695,624,700,797,99,824,816,646,742,63,766,730,712,225,101,777,824,670,623,619,590,714,560,290,205,542,714,777,687,205,816,38,638,217,558,670,274,816,659,652,766,577,774,569,281,816,623,624,746,731,604,816,652,704,766,704,631,104,20,669,827,766,823,766,815,624,631,821,604,755,681,143,558,714,560,817,713,644,815,765,841,714,558,774,774,185,842,623,766,560,777,754,575,558,733,754,810,714,825,795,578,619,777,604,781,731,185,773,620,841,720,689,766,689,558,741,587,558,766,720,816,720,760,766,558,817,766,825,720,569,854,679,80,164,623,564,558,730,652,82,624,714,807,821,585,736,81,766,816,558,766,591,185,776,796,776,844,619,605,806,714,644,766,714,754,681,644,815,704,766,761,816,569,712,777,766,631,777,558,806,577,776,589,265,704,841,841,766,560,714,644,560,766,777,811,623,735,143,823,669,109,604,682,681,604,622,742,765,656,720,81,560,777,731,81,766,714,776,640,668,577,205,841,588,631,816,731,622,81,718,777,823,577,589,824,766,774,754,776,777,623,816,605,558,774,815,721,731,687,766,721,622,774,546,623,774,827,776,731,841,719,806,623,558,777,824,824,587,623,577,841,575,88,644,742,588,689,624,714,602,619,706,558,622,558,712,166,720,624,623,623,830,619,815,689,644,682,845,644,720,648,575,623,722,721,589,704,720,590,758,577,624,816,733,806,277,647,815,563,766,185,624,631,741,689,733,815,624,825,755,824,644,604,185,825,185,619,703,575,766,601,652,624,625,770,624,720,644,827,589,755,777,631,776,766,714,623,575,265,821,38,777,808,558,624,631,638,712,762,708,689,134,714,741,776,64,806,164,797,604,228,777,731,774,755,201,730,624,61,814,741,766,748,577,687,773,624,558,766,624,644,587,827,766,824,766,730,838,714,730,604,109,266,623,156,125,766,816,733,644,589,837,766,704,714,704,561,631,765,766,704,644,824,558,754,815,824,679,821,815,558,816,623,38,560,714,577,274,619,813,783,558,832,712,558,715,790,763,558,810,766,604,656,815,816,689,832,748,719,604,644,560,619,624,624,602,38,777,602,577,217,539,619,714,828,695,644,652,624,602,624,766,604,304,823,558,558,575,733,714,265,558,741,638,720,766,732,845,832,558,714,832,546,245,604,821,773,776,604,824,631,700,824,623,630,622,575,720,687,81,605,704,410,575,778,558,80,795,166,795,604,624,766,644,731,777,560,624,589,664,766,687,624,652,571,766,806,733,816,704,714,723,816,755,472,755,714,689,605,823,648,766,766,82,742,605,720,760,806,623,592,720,172,624,761,598,766,624,654,712,799,741,832,717,766,602,841,193,714,560,38,816,733,166,560,736,825,776,689,806,712,712,857,806,841,205,689,731,777,557,815,558,841,806,720,166,689,774,586,82,623,760,587,776,589,623,558,619,774,720,730,228,589,721,774,845,622,723,825,704,624,736,824,577,754,731,681,745,36,623,776,109,638,731,624,821,575,766,741,841,604,624,554,613,624,776,841,816,217,624,623,194,5,623,841,706,622,217,622,624,589,624,712,816,623,763,832,558,806,693,20,733,205,795,815,777,605,624,20,109,754,558,714,63,841,577,766,689,558,558,731,624,695,704,766,825,599,623,602,714,704,704,755,714,816,714,797,731,841,804,631,558,689,712,816,63,558,624,815,741,687,622,605,599,842,819,631,679,622,587,558,624,816,815,185,832,558,763,558,143,766,631,558,797,166,806,603,816,712,585,712,762,704,558,720,578,619,641,733,766,761,766,777,736,844,50,781,623,766,707,714,804,766,679,824,631,804,624,741,143,720,154,172,689,815,720,257,266,605,38,156,540,604,766,712,766,730,81,604,558,564,704,605,619,652,741,777,776,766,63,619,598,824,797,736,760,766,704,664,714,766,624,766,781,558,765,104,760,50,830,558,274,825,558,816,558,624,624,577,799,760,624,604,577,766,755,624,623,687,754,620,776,689,271,558,623,731,558,652,704,560,228,766,841,687,806,558,624,766,631,623,766,616,143,558,631,841,569,577,624,623,20,558,622,783,623,623,841,647,623,558,810,766,624,670,760,731,819,679,841,558,644,619,624,774,558,745,815,623,720,766,689,754,712,731,754,558,816,644,82,766,689,38,766,714,731,841,774,652,712,738,832,630,762,224,712,816,730,714,623,754,624,776,623,624,166,763,754,558,735,714,577,588,729,127,731,613,815,814,604,624,602,539,766,622,576,555,712,776,669,827,714,172,762,766,763,558,807,766,730,712,714,623,815,652,663,781,731,616,803,766,631,766,776,777,558,720,802,652,754,644,652,807,714,741,582,777,560,665,558,731,801,622,650,81,815,558,623,679,624,590,689,755,754,773,266,754,193,631,652,733,577,816,622,623,20,735,689,774,766,558,695,814,731,577,755,815,624,558,576,689,622,638,827,623,714,558,731,638,824,624,704,762,265,577,760,714,20,26,63,80,589,816,624,624,707,638,815,754,564,623,774,806,631,689,823,762,144,83,806,776,22,20,624,823,587,654,754,800,777,755,825,605,602,815,558,816,540,164,712,558,776,806,754,766,622,704,265,766,714,841,773,704,622,78,839,700,766,815,712,622,714,731,689,704,777,735,623,766,714,689,824,718,623,777,760,754,623,766,631,704,695,605,217,733,644,624,245,631,841,566,766,841,654,735,586,754,604,631,829,783,733,577,624,681,604,631,720,619,653,776,613,622,689,558,623,619,815,703,624,558,755,704,714,731,816,730,689,815,679,795,777,737,832,577,795,624,762,766,602,776,763,714,575,624,720,824,624,558,558,558,714,623,790,599,604,766,644,227,761,816,290,644,762,654,623,777,754,624,558,266,765,554,766,714,687,603,816,825,816,754,587,678,681,589,712,801,816,824,777,211,720,591,731,644,695,622,857,825,712,605,644,722,752,815,631,832,679,824,733,778,815,762,687,82,845,588,602,183,589,604,575,185,727,624,631,821,714,733,777,622,788,730,540,644,805,558,774,832,564,38,824,766,733,766,622,624,624,552,560,164,588,558,624,622,766,825,761,704,824,555,624,622,623,776,683,733,598,46,766,720,766,577,703,776,577,761,754,88,102,623,17,577,731,776,697,815,655,693,555,730,679,172,714,714,760,681,754,720,164,731,754,624,23,668,777,776,604,624,704,614,754,720,712,731,101,714,704,624,712,622,560,558,622,815,824,760,622,81,566,733,589,558,733,638,704,712,712,681,766,795,20,799,689,745,712,726,576,791,251,287,687,641,589,791,821,731,558,720,575,820,689,712,558,714,755,623,854,88,807,619,817,773,752,619,217,766,644,766,119,733,733,63,806,823,217,20,714,623,558,37,652,555,549,815,624,266,558,714,555,827,172,815,558,728,823,602,824,623,824,857,602,622,587,577,781,558,714,785,623,540,558,644,623,631,176,754,754,577,624,824,619,22,827,38,623,577,832,698,827,816,832,754,622,702,741,623,20,777,558,653,616,714,704,575,175,714,166,730,544,552,733,777,765,575,731,823,689,714,766,558,558,576,631,652,659,824,722,81,125,841,623,558,754,774,774,720,728,824,722,841,598,824,755,765,166,774,577,720,763,766,558,695,566,712,82,712,730,558,62,712,644,558,571,624,577,827,82,558,558,766,558,577,735,777,558,781,631,598,585,143,797,558,741,604,598,754,766,631,857,667,776,733,733,777,654,766,773,577,731,766,731,622,723,795,735,540,777,687,656,832,832,687,708,741,825,26,712,704,558,833,582,575,681,832,644,720,558,702,714,731,588,240,702,766,774,277,754,577,808,731,558,844,650,841,777,623,624,623,652,754,271,577,569,731,758,821,631,619,777,804,704,589,841,704,712,687,816,806,689,679,720,816,576,712,714,217,714,644,841,742,766,712,774,824,77,824,731,295,689,604,754,766,777,560,725,733,679,561,558,185,687,731,211,249,212,166,622,577,541,777,679,754,623,804,659,290,577,610,577,816,50,730,720,824,720,712,807,825,788,754,610,558,733,754,766,742,155,733,623,558,631,254,657,821,774,623,689,679,766,754,622,560,777,766,101,825,560,17,777,807,624,644,733,720,265,804,623,558,797,604,20,558,63,644,735,824,741,714,689,262,707,689,564,61,766,714,193,712,704,720,766,704,679,689,623,754,644,558,644,766,766,558,832,624,558,714,736,720,193,266,558,644,102,754,712,689,777,623,728,816,589,704,766,623,589,774,624,825,589,824,741,575,689,714,766,733,644,652,767,682,50,558,816,548,126,558,624,560,714,217,575,558,824,703,588,81,669,689,816,790,652,815,824,624,773,87,731,824,623,624,806,211,689,735,752,765,630,624,821,623,720,587,623,631,731,733,731,795,766,591,807,758,697,824,598,623,624,824,748,583,577,644,577,730,587,707,783,623,644,736,206,558,644,648,602,774,815,823,741,558,615,183,589,638,741,816,712,733,741,755,624,20,624,623,758,622,712,558,558,754,712,624,819,644,815,624,815,644,754,735,689,714,624,714,806,754,168,539,712,81,723,623,652,589,679,763,622,766,844,715,712,754,137,714,832,558,624,654,777,560,63,619,185,841,752,777,712,689,577,777,631,689,841,580,679,827,712,575,217,843,589,712,720,712,766,602,806,558,623,689,655,622,806,704,776,644,720,766,748,825,619,806,821,624,766,623,271,720,731,704,169,589,265,823,741,755,612,621,777,57,795,804,754,616,742,624,689,720,631,776,806,824,807,824,731,644,755,754,806,714,814,714,731,172,644,681,733,702,815,631,644,679,697,815,166,754,760,731,824,783,731,552,754,728,275,766,687,695,577,558,687,704,540,540,652,689,731,689,689,623,730,624,766,766,558,624,712,558,816,577,134,624,604,777,807,741,825,774,681,22,689,631,825,558,622,791,575,623,623,624,742,624,623,790,714,712,754,712,766,824,602,766,766,714,850,742,754,558,776,650,816,575,776,731,704,777,690,668,558,712,841,540,766,623,707,777,623,763,806,20,797,776,857,714,816,712,257,723,749,681,539,731,766,631,589,38,164,712,712,689,689,650,577,604,622,164,684,624,754,689,644,689,801,577,605,604,704,827,776,659,754,832,648,23,712,624,754,558,589,644,728,714,668,731,816,50,656,827,733,623,575,816,806,788,558,755,761,217,624,63,689,821,558,695,754,552,61,804,754,624,816,560,589,624,744,777,577,714,776,610,589,823,558,558,619,760,679,766,766,760,733,631,624,624,575,824,760,832,622,766,623,766,731,614,681,761,766,109,624,807,741,719,841,577,87,624,629,166,704,712,560,652,760,754,816,560,841,577,841,109,720,623,558,714,754,624,720,704,652,766,824,777,730,63,777,652,631,766,776,88,815,644,712,624,844,776,624,631,689,689,748,689,604,604,558,578,714,695,777,619,766,63,577,766,816,610,648,827,781,816,704,631,653,712,576,689,766,832,723,679,783,718,715,701,299,36,558,766,766,824,790,731,731,704,589,815,714,720,655,577,652,766,668,662,558,766,704,776,644,644,631,824,624,589,631,766,623,707,766,741,214,714,776,731,577,714,575,776,714,558,616,841,211,733,766,816,602,558,216,714,704,723,590,720,816,735,806,755,644,61,589,819,765,164,712,824,763,755,577,714,777,558,721,687,714,733,774,558,806,712,662,731,827,689,830,622,754,624,624,105,776,616,824,815,622,766,657,623,619,766,817,825,741,552,564,687,815,622,740,733,735,712,588,616,271,714,558,674,172,558,806,50,733,816,645,652,718,564,616,604,777,761,760,623,742,824,82,767,777,714,788,577,766,274,558,554,845,623,824,624,689,558,116,541,754,631,649,619,857,624,825,577,816,704,815,577,20,577,795,605,695,731,720,777,143,807,624,689,631,767,735,808,624,815,558,190,728,88,36,722,806,217,816,554,558,631,667,733,714,714,591,841,754,761,838,735,689,687,807,689,845,631,605,730,841,841,652,689,776,540,733,704,304,795,591,720,714,183,712,799,631,624,605,624,228,689,644,577,577,192,712,766,814,541,815,652,776,689,755,623,622,136,587,766,766,652,577,731,766,731,754,832,843,714,704,604,720,109,619,704,577,777,560,704,604,766,773,575,619,624,587,693,760,587,598,806,569,738,746,717,774,703,631,765,698,816,164,265,823,767,624,619,624,558,265,815,558,714,816,185,714,755,791,619,807,824,82,816,604,766,824,731,558,681,704,799,741,679,274,176,714,558,637,777,754,701,558,586,689,774,777,773,558,816,652,723,824,704,824,572,604,777,622,766,577,795,799,577,623,765,704,760,619,807,774,689,265,679,624,610,732,155,38,88,577,589,577,631,731,592,644,712,714,670,714,624,776,602,731,577,752,857,557,558,714,824,20,556,766,589,63,604,623,623,679,760,631,631,767,720,577,648,733,624,681,558,815,631,777,766,558,816,624,352,824,712,680,619,624,558,560,575,788,709,816,733,700,731,555,712,624,714,804,720,681,804,774,765,804,558,816,623,714,731,754,733,560,766,733,623,841,679,589,777,720,665,754,776,832,558,98,552,273,624,217,720,707,720,821,604,754,665,274,560,777,660,681,558,624,714,604,38,777,754,712,778,764,720,687,777,665,689,558,569,552,774,569,689,766,827,809,689,741,644,589,712,623,777,712,540,720,807,735,294,804,558,558,160,613,588,720,714,265,540,841,714,721,733,281,790,564,558,116,733,714,624,558,156,589,650,681,623,765,624,766,619,815,588,752,82,558,687,20,682,754,558,622,777,588,560,624,841,602,766,718,766,653,558,624,720,731,825,754,624,801,819,624,624,558,704,631,731,624,566,604,257,807,712,616,588,624,766,587,619,815,824,576,689,209,558,755,631,644,841,554,815,703,807,760,781,63,558,807,733,832,774,722,88,731,249,552,558,228,841,273,577,558,563,815,558,821,827,183,624,816,774,762,611,689,714,731,689,773,725,714,689,795,821,714,766,735,559,558,20,225,681,572,731,183,766,704,702,816,766,816,815,733,766,558,592,712,816,755,558,654,624,558,777,245,766,631,681,619,816,712,36,139,622,631,631,799,754,543,558,652,642,254,631,566,88,540,704,806,720,624,754,816,714,774,587,638,679,760,733,733,766,755,670,714,776,816,274,141,731,689,760,824,619,228,26,644,814,236,799,623,712,816,811,558,720,631,265,591,558,741,781,602,821,857,623,823,624,754,741,644,624,624,824,754,816,290,577,714,753,815,720,704,577,777,604,691,766,731,733,77,720,624,602,672,728,623,616,742,636,824,821,776,82,619,777,815,816,741,681,754,712,731,704,166,555,576,589,758,712,766,266,280,82,558,741,670,31,604,558,623,841,850,185,558,733,667,631,681,796,714,766,706,624,674,558,841,841,540,164,575,815,689,712,647,577,557,720,592,687,731,623,714,824,731,624,623,815,624,846,623,825,712,661,558,610,652,806,558,841,682,835,701,827,712,166,624,577,638,795,686,623,766,679,754,589,714,577,815,841,681,712,731,143,824,558,558,819,731,703,714,558,681,679,704,712,619,841,577,576,624,652,652,605,773,689,733,712,714,217,720,723,558,681,648,821,604,704,644,623,776,714,689,795,552,558,267,577,654,598,623,714,774,619,271,766,735,841,777,754,125,631,564,558,205,795,245,687,592,815,720,754,795,566,760,136,766,841,558,622,754,689,766,817,622,668,624,681,755,714,777,558,558,825,816,841,560,575,823,766,824,624,36,575,575,619,760,624,694,689,590,569,754,714,821,821,741,575,816,821,602,624,604,689,722,577,766,247,741,777,630,766,687,134,767,815,718,558,558,808,731,741,717,620,766,644,702,730,766,558,644,227,704,824,623,577,577,806,754,623,618,815,816,714,558,792,824,714,714,653,624,767,631,172,824,622,247,558,766,624,754,776,815,689,731,623,631,827,712,22,781,589,819,777,735,766,741,806,733,679,156,558,689,815,624,776,577,689,63,577,774,825,845,193,766,827,604,82,815,620,558,631,211,821,558,823,762,733,141,622,810,616,695,689,795,845,775,624,560,816,766,623,638,575,766,781,741,777,81,731,624,703,589,266,63,274,558,245,623,549,652,59,623,760,558,624,766,576,628,81,623,781,720,730,571,712,825,689,647,720,644,825,624,604,211,50,602,720,720,733,589,824,766,777,689,689,733,589,824,795,816,652,631,624,816,773,555,644,781,797,714,712,817,679,689,624,811,656,604,631,689,558,644,733,20,631,741,577,731,815,622,689,701,755,564,623,754,63,714,836,604,766,80,652,708,682,777,777,38,217,48,558,622,689,781,760,26,624,50,650,575,152,777,629,624,704,741,815,815,624,777,824,156,619,610,723,652,723,602,766,644,807,824,156,651,644,783,274,832,588,82,575,577,594,38,589,816,824,552,723,741,714,109,714,623,604,540,816,558,841,166,766,624,766,624,589,731,766,712,777,228,824,722,266,777,604,619,77,558,841,816,774,185,623,631,644,652,605,681,228,754,816,655,558,766,624,591,689,815,733,644,558,832,695,816,714,777,676,689,599,766,604,624,774,816,774,824,712,763,733,645,587,668,807,555,631,624,558,755,623,265,777,712,785,61,741,720,271,217,620,731,704,624,763,624,613,799,766,741,766,754,719,776,808,832,733,766,825,274,560,619,714,758,575,714,560,81,624,825,704,741,841,624,623,589,20,631,656,684,558,623,754,557,766,760,644,622,669,558,850,604,777,754,704,730,558,602,824,558,619,816,766,652,766,623,20,714,558,806,704,766,689,754,575,88,644,644,577,777,589,760,619,587,777,773,589,558,730,755,689,624,720,816,766,797,689,839,806,622,807,624,766,558,624,558,731,589,817,777,644,790,320,824,815,714,712,755,631,704,781,804,588,827,720,623,558,714,558,652,766,806,689,720,578,681,558,777,825,762,776,708,555,816,20,712,766,824,731,714,712,712,792,776,560,827,604,295,689,830,212,766,777,754,172,766,776,777,679,558,788,825,742,623,589,731,576,213,644,652,731,558,604,774,841,689,681,714,766,558,796,564,714,704,623,806,746,239,623,832,689,623,797,681,832,281,624,755,652,582,741,552,761,205,622,623,776,815,825,679,841,748,707,622,755,577,795,716,720,703,558,742,844,575,540,36,816,841,844,816,754,731,825,575,695,731,767,766,762,766,731,644,714,742,624,777,624,166,730,754,703,624,841,665,816,689,767,558,624,821,824,777,623,623,766,730,733,832,761,589,790,623,290,587,623,558,824,20,777,624,575,797,811,817,616,558,644,257,624,689,206,815,766,730,777,689,668,624,575,540,575,577,733,558,767,631,731,166,588,714,622,558,720,265,766,766,766,766,604,623,814,281,558,714,624,623,177,652,815,623,816,624,806,552,577,624,731,806,294,644,714,604,714,714,232,558,38,558,558,577,604,558,777,629,722,777,766,754,714,245,689,781,143,558,745,766,623,555,754,558,797,552,82,816,841,624,778,801,624,737,624,720,472,731,730,81,558,672,695,82,604,766,830,731,630,695,689,754,846,776,774,256,623,266,763,720,558,714,545,766,81,679,577,631,766,766,751,718,558,631,776,623,679,623,687,623,679,624,681,777,824,832,731,754,602,774,604,730,689,636,113,741,560,560,762,587,806,80,815,631,160,558,648,766,602,631,776,558,824,20,732,779,754,766,714,720,623,689,733,558,755,631,804,776,646,33,781,558,624,777,604,714,227,622,731,277,623,689,755,733,591,714,704,217,652,777,571,695,50,623,689,689,552,733,760,824,712,695,652,819,857,82,602,624,712,88,624,842,687,714,807,723,827,558,714,766,624,623,790,624,217,832,754,824,714,804,689,162,777,569,824,631,159,558,841,256,650,824,754,853,807,558,687,827,631,731,720,560,82,720,714,623,755,656,776,814,623,668,689,602,587,720,602,816,193,540,624,731,714,619,681,589,604,730,766,824,577,755,766,589,681,166,754,644,599,714,558,733,681,720,684,624,824,577,589,766,624,722,651,136,816,714,807,558,824,777,712,827,689,290,558,825,101,577,776,622,792,841,730,815,558,605,845,558,277,824,714,714,540,555,577,714,560,754,182,720,193,827,824,754,824,714,571,652,687,722,785,590,689,689,589,821,558,754,795,806,777,679,730,623,558,624,558,766,238,577,825,644,766,731,682,704,806,704,714,806,624,624,623,712,815,630,587,777,639,841,560,623,720,604,807,824,695,821,687,575,156,81,766,832,766,624,733,714,733,558,558,630,712,644,558,714,760,763,217,714,766,766,766,681,687,647,815,631,225,166,689,760,720,558,620,824,714,596,20,624,679,143,742,824,766,20,720,712,712,622,558,631,841,815,816,766,689,623,714,81,795,733,623,742,560,714,776,824,652,560,651,766,714,797,730,815,577,731,766,652,777,681,185,815,623,588,624,774,689,762,777,815,624,832,588,644,777,815,720,560,109,620,827,589,681,754,138,776,731,689,558,801,733,766,766,575,622,619,635,20,624,712,588,804,841,224,558,652,679,754,644,604,22,602,689,776,777,733,126,604,776,841,564,824,125,558,814,555,712,815,845,564,681,575,663,624,724,681,687,720,576,827,766,766,101,795,811,841,166,604,823,558,50,781,755,576,760,824,689,687,577,763,733,589,687,604,777,719,591,558,602,217,560,765,577,720,605,644,832,111,598,755,714,20,733,701,631,194,604,766,689,623,712,564,754,558,733,558,623,602,845,689,679,816,617,604,550,623,652,708,704,806,816,755,720,795,720,564,227,714,765,623,631,679,646,623,623,624,604,604,766,763,81,754,575,558,763,777,777,687,558,731,783,577,558,587,806,703,815,136,20,624,714,703,740,560,577,681,652,754,704,733,741,754,631,720,816,622,166,741,659,766,558,558,714,564,624,623,733,558,733,82,806,760,623,777,587,61,277,695,659,739,806,22,773,720,558,714,689,602,693,644,815,741,799,558,20,185,712,588,257,766,689,797,720,754,63,815,644,777,766,714,20,731,821,623,664,754,652,619,257,256,540,795,804,712,644,619,806,624,714,558,656,806,626,71,830,681,20,730,689,623,577,689,558,605,555,644,841,684,637,558,70,682,714,838,815,832,558,766,687,824,679,577,788,720,712,777,788,816,3,689,689,205,183,815,730,815,832,81,754,652,589,605,82,731,815,730,714,776,712,720,604,763,558,622,659,815,781,46,815,63,832,558,805,695,766,781,841,821,644,143,714,558,59,619,624,773,619,730,598,649,622,558,790,806,623,733,689,797,766,558,178,266,604,845,714,766,741,733,20,824,721,674,720,644,109,702,712,695,619,624,766,833,816,577,573,767,622,644,824,569,730,781,824,712,815,588,558,714,619,754,704,806,644,589,816,804,277,164,761,778,558,554,816,816,227,659,558,827,777,644,714,731,555,733,720,741,766,695,689,827,766,643,776,704,712,624,819,624,742,558,796,558,598,622,644,816,754,842,730,212,679,624,558,622,777,814,731,777,619,641,824,766,655,799,266,730,827,815,88,558,644,558,733,714,755,740,624,835,857,652,754,714,631,624,610,766,604,730,623,619,622,731,766,558,652,623,816,714,624,73,766,816,624,731,809,82,631,766,712,602,776,644,741,689,686,721,755,217,795,564,81,806,841,576,20,766,714,712,714,733,730,773,561,569,766,227,845,815,722,20,50,652,733,827,134,722,558,589,558,143,776,540,641,797,587,594,714,774,816,577,718,766,82,766,815,558,735,631,652,731,669,731,817,766,558,652,777,47,624,689,766,577,824,193,232,807,733,766,766,624,602,777,750,679,540,624,689,82,558,689,731,624,604,558,623,777,841,774,624,558,623,689,623,687,624,754,589,558,816,818,193,271,766,776,63,558,588,577,558,702,589,20,754,815,623,560,704,777,816,821,681,587,206,704,624,558,731,619,624,825,730,589,624,631,577,3,720,777,850,712,575,816,624,266,560,714,815,596,752,815,815,804,206,824,720,631,714,558,754,730,198,766,766,558,823,714,624,755,558,610,714,140,624,797,589,766,720,712,700,647,81,776,824,840,604,143,143,624,577,652,689,623,623,808,774,624,712,22,50,755,623,82,754,277,558,766,712,689,266,689,815,704,857,754,720,558,806,766,776,558,623,766,623,806,832,257,714,631,815,741,558,81,558,616,624,602,624,564,623,634,790,577,173,550,731,166,733,720,714,816,166,720,832,714,774,558,558,659,712,760,731,777,845,624,766,704,815,604,823,585,720,720,804,714,844,714,761,815,623,755,791,77,558,623,766,81,773,795,576,773,777,698,841,776,560,714,604,714,823,703,730,824,766,777,274,733,816,689,689,777,827,704,795,194,781,816,762,604,841,824,827,225,843,854,815,733,714,754,623,731,827,624,604,589,101,624,735,825,815,673,826,824,558,816,808,164,558,790,823,624,604,832,619,623,22,815,555,774,733,558,217,623,714,816,766,761,844,689,760,560,589,714,727,622,735,815,777,816,582,687,653,714,630,558,214,552,761,293,558,714,742,733,598,741,589,604,700,755,823,733,735,63,719,712,777,712,765,776,644,816,206,841,781,719,703,545,164,754,703,183,766,631,624,577,797,841,776,622,619,164,797,722,827,704,681,403,712,265,77,730,575,760,679,624,20,665,558,656,585,777,217,695,733,290,783,679,637,733,815,736,689,714,731,733,652,824,603,748,148,622,827,622,638,622,720,766,228,619,558,604,610,777,577,731,824,754,624,624,714,577,558,816,766,689,577,689,766,652,619,777,731,754,712,143,589,175,540,774,697,766,558,801,718,558,623,228,589,558,109,624,816,205,604,589,558,577,558,589,623,585,815,266,555,766,714,857,624,712,827,766,558,816,624,841,704,290,766,686,623,172,816,558,730,540,689,781,681,662,816,742,841,558,668,624,88,558,589,74,558,754,652,754,741,712,807,227,623,560,741,561,623,753,540,704,638,816,824,766,558,624,605,714,558,720,806,644,558,824,731,777,558,558,558,566,624,598,690,623,754,804,620,136,824,558,788,754,681,558,712,638,631,730,756,816,623,678,240,589,760,766,766,281,777,821,624,604,631,776,558,682,589,816,689,20,720,832,624,660,558,766,101,806,569,687,179,684,733,644,624,232,20,844,806,773,554,774,714,631,624,754,815,558,730,807,616,714,558,652,647,679,227,682,577,569,254,689,823,619,558,815,20,624,266,582,679,558,777,766,689,766,166,659,741,841,695,624,733,766,687,623,815,825,644,604,623,81,560,542,777,228,799,575,624,777,777,816,623,760,689,731,777,143,742,689,780,714,645,695,733,718,558,816,589,841,622,294,623,577,564,37,172,741,823,36,589,143,714,624,816,838,714,624,821,604,849,624,265,834,763,824,776,714,766,623,741,720,766,712,558,604,733,213,652,681,740,707,735,622,679,624,741,811,240,824,265,795,588,558,765,844,766,774,712,723,766,619,22,824,82,712,631,841,558,824,558,560,815,714,652,558,821,589,777,766,187,166,81,577,561,773,623,659,701,741,581,766,774,555,555,766,776,652,816,172,624,731,741,575,558,689,273,841,227,712,622,712,720,766,623,797,623,795,88,731,540,599,714,690,766,689,689,652,257,704,20,617,704,623,624,679,185,623,765,558,714,631,714,622,624,714,777,689,754,702,712,816,604,712,558,248,777,722,275,589,560,741,816,766,472,117,730,778,624,563,754,795,754,712,679,646,762,712,564,589,631,619,602,714,819,570,695,689,703,815,825,806,808,720,844,652,589,766,708,754,63,714,698,652,572,623,815,610,712,689,807,704,751,814,824,631,714,668,624,766,217,704,730,766,777,624,703,774,577,732,619,605,824,816,689,557,766,724,708,761,630,765,841,704,644,577,829,695,731,689,841,815,690,638,577,689,266,731,589,714,823,589,651,714,704,704,558,141,806,589,741,844,689,587,761,570,624,781,816,825,731,766,20,652,558,766,681,577,589,560,785,603,623,622,156,712,719,742,624,824,774,604,623,590,588,795,720,742,622,61,712,841,712,760,708,766,816,741,722,689,644,807,631,274,604,624,558,555,799,825,714,569,714,134,604,589,795,257,648,187,622,622,738,754,620,815,704,623,681,560,760,766,623,733,624,807,558,735,273,816,624,577,806,558,265,558,624,624,560,622,795,616,689,619,558,622,624,714,577,731,742,738,50,652,742,620,558,766,619,576,766,689,804,708,61,588,244,577,589,841,733,714,689,811,20,558,777,623,689,740,824,558,850,712,807,731,741,577,816,589,164,733,558,810,558,746,816,741,683,714,793,766,558,806,576,624,767,833,577,667,689,704,815,714,266,714,815,738,689,652,588,841,766,827,815,742,631,616,766,624,741,623,605,773,558,623,827,604,619,773,275,832,714,824,166,38,589,712,733,765,703,689,689,569,631,604,558,683,167,211,604,631,721,741,624,623,679,777,825,714,571,652,821,687,598,604,623,776,266,156,766,558,624,604,604,577,647,668,806,689,644,577,172,766,776,558,560,689,754,604,681,806,819,816,762,36,841,766,712,172,841,589,687,624,589,558,644,604,687,760,689,558,777,277,577,555,741,638,832,815,605,816,575,731,558,624,652,576,731,741,265,720,814,564,766,689,799,720,544,620,624,715,816,631,712,730,623,645,587,781,589,806,623,730,824,723,557,689,777,558,777,689,766,773,624,806,777,623,631,689,550,577,172,631,624,689,735,741,766,623,731,687,815,824,693,766,644,154,741,733,185,684,652,644,611,656,766,844,760,754,825,622,564,679,714,229,623,588,598,811,206,774,777,624,558,714,857,806,558,816,679,623,679,777,63,619,815,766,689,765,624,827,741,602,679,689,644,760,631,799,807,577,708,776,623,616,842,730,616,266,182,624,816,558,841,576,689,844,588,720,623,773,714,558,681,755,741,217,731,689,766,623,816,623,712,704,624,754,804,575,742,668,704,766,682,733,80,806,766,821,714,589,731,832,777,689,824,766,20,623,806,824,827,644,754,552,712,577,631,589,760,832,766,733,217,731,80,59,558,619,715,558,743,823,644,659,577,164,622,773,720,164,832,824,754,766,183,602,733,217,662,558,695,742,604,577,604,558,538,712,82,623,497,605,619,767,624,217,623,720,807,819,623,539,665,622,689,777,767,733,857,205,730,245,755,577,228,815,143,589,619,767,815,766,832,265,766,712,712,755,652,616,704,587,781,631,731,575,766,38,704,644,599,622,689,712,689,850,754,786,766,731,558,718,774,703,558,623,134,824,558,695,22,576,681,605,714,741,731,766,558,766,624,622,623,623,586,623,20,766,801,558,714,558,816,558,185,731,558,612,644,604,558,185,755,714,816,623,589,721,816,795,558,690,624,816,755,809,689,731,797,808,681,164,816,733,766,624,714,644,695,720,577,558,622,623,844,266,662,824,754,557,624,704,766,577,712,624,844,791,815,777,815,622,731,589,821,689,623,797,659,754,644,815,815,766,604,766,733,641,733,652,644,773,714,824,832,816,748,731,689,733,733,714,623,816,765,558,558,714,164,763,738,644,558,760,777,20,731,731,585,824,558,754,589,776,720,623,622,714,777,604,835,623,749,714,806,602,682,824,183,558,824,745,293,20,762,760,689,585,700,815,824,539,689,750,172,604,558,825,766,704,816,589,766,630,841,815,844,781,644,714,720,564,644,720,815,596,766,766,48,731,766,540,766,704,558,554,616,807,733,752,679,720,714,558,707,622,604,624,723,624,704,720,20,714,156,549,816,824,631,275,766,624,806,166,631,824,605,766,604,559,755,815,575,266,232,623,695,714,631,712,816,733,809,587,827,808,774,816,15,623,622,731,260,589,206,575,712,690,631,844,629,624,577,698,806,589,777,774,766,708,217,766,859,203,766,844,689,623,670,816,815,816,777,644,777,766,733,777,558,815,766,841,629,824,558,754,815,821,766,821,766,708,816,689,187,754,624,225,681,648,762,683,221,689,656,154,766,577,82,598,760,816,622,623,668,644,715,704,623,619,689,766,290,689,266,558,766,598,754,714,841,540,644,806,799,766,623,748,733,217,797,575,712,741,832,569,721,217,766,577,136,766,777,587,774,777,652,592,624,858,761,652,577,256,558,558,704,81,604,804,172,624,227,850,604,225,730,720,724,731,733,766,101,668,575,575,689,761,738,720,689,588,258,294,623,714,733,824,832,558,766,613,558,624,602,623,669,20,624,841,681,807,623,766,730,766,857,735,731,679,638,558,714,631,592,227,731,714,766,689,754,712,798,654,841,714,795,780,806,714,679,560,754,644,558,638,622,558,577,845,714,841,704,754,733,558,830,138,731,704,754,720,687,815,845,558,681,714,587,731,256,589,815,760,552,641,644,695,689,816,604,623,720,821,783,652,624,741,575,816,761,623,577,623,827,558,679,827,653,569,731,558,741,824,714,766,712,825,605,733,781,689,704,624,266,577,752,687,74,804,783,623,558,777,830,575,182,731,823,824,623,731,823,687,577,564,265,681,815,623,773,36,554,731,766,731,194,783,776,613,811,825,824,670,824,622,592,767,588,639,679,712,779,564,824,839,776,815,704,795,290,714,631,64,217,624,558,823,712,754,766,22,641,624,652,714,575,806,733,712,555,714,575,714,644,622,619,816,652,623,672,101,731,704,704,622,740,624,766,575,777,797,712,558,774,816,689,817,714,712,665,654,164,704,824,763,781,703,558,38,857,623,558,652,668,577,20,689,81,741,766,668,589,589,815,714,714,604,624,638,731,623,610,644,766,577,81,815,766,623,801,644,623,679,714,619,689,558,776,720,631,754,774,777,766,761,742,558,631,560,816,766,766,224,624,581,612,604,684,604,604,742,271,50,804,652,652,767,630,806,733,631,841,815,777,589,755,624,624,623,825,569,720,731,166,712,777,156,558,806,766,623,731,638,766,755,765,821,825,766,631,623,827,808,623,724,670,777,714,635,558,777,558,631,20,742,624,721,623,624,760,681,731,558,623,763,824,622,592,679,616,602,777,558,172,549,825,560,564,689,766,740,777,558,605,558,558,731,777,564,854,622,558,766,605,652,832,687,689,689,127,745,558,589,88,704,266,624,766,766,668,598,755,748,33,622,681,801,635,558,558,613,589,752,766,806,816,773,731,766,575,809,682,825,741,17,172,720,741,733,841,695,569,712,766,722,722,733,689,689,624,558,622,624,845,689,722,825,730,817,266,577,681,712,652,619,704,141,598,631,172,824,776,731,558,766,731,754,575,134,549,634,576,623,815,623,752,581,712,559,624,777,807,815,806,622,576,730,815,766,730,832,604,642,64,624,730,766,704,795,552,774,689,623,587,539,577,776,644,627,719,638,832,731,704,549,704,766,558,790,695,558,735,644,702,841,164,624,823,679,20,577,294,820,714,687,605,156,806,652,624,652,80,569,824,63,558,183,754,20,720,777,670,623,766,816,719,624,564,731,741,725,619,624,731,38,577,766,824,795,674,777,556,766,623,20,733,741,777,689,588,714,766,806,631,766,766,166,731,558,815,777,577,681,823,773,217,631,679,698,766,631,777,194,604,766,720,720,774,730,850,816,832,668,624,714,841,227,558,670,781,821,760,774,587,774,816,766,623,610,742,558,816,766,266,558,20,811,777,555,766,834,741,540,815,824,704,689,754,704,712,712,644,622,722,574,760,816,81,733,766,274,816,560,704,558,804,793,265,815,824,647,766,681,825,823,773,560,778,558,689,854,652,754,720,560,646,776,712,845,804,714,714,821,704,571,625,714,160,703,766,741,766,816,546,824,800,575,824,754,845,763,623,604,815,193,846,624,824,604,816,689,577,774,265,695,624,755,623,754,652,20,777,824,558,714,777,604,644,773,704,714,599,777,714,631,816,624,704,804,815,754,854,815,624,766,577,825,816,821,712,225,681,754,624,234,652,850,540,631,730,266,720,720,205,776,844,569,766,50,558,821,720,623,777,266,815,720,712,560,735,622,832,806,754,689,731,841,604,604,604,564,656,815,558,704,663,704,776,816,799,811,802,714,652,761,558,558,821,622,696,714,720,714,754,670,832,776,644,807,623,560,816,194,622,570,731,217,788,624,689,623,755,720,605,714,183,687,558,777,558,776,652,680,558,554,793,763,589,748,574,720,602,742,714,720,844,616,644,731,704,712,795,776,806,624,799,857,774,589,225,754,727,624,689,726,777,766,602,560,832,819,742,742,619,816,766,777,624,741,766,558,619,644,832,622,714,714,266,755,704,766,654,624,824,624,816,558,624,843,815,741,575,602,558,605,663,183,575,827,624,815,652,602,754,623,714,733,731,809,631,754,623,712,644,762,754,638,540,720,763,777,689,776,815,644,577,554,704,808,570,619,754,825,558,623,592,733,765,714,604,558,763,761,141,560,776,766,806,815,667,733,816,689,631,623,766,558,755,712,689,801,714,623,777,806,704,634,774,558,824,731,733,560,681,610,733,766,794,810,624,622,777,712,714,766,589,714,766,644,766,825,760,824,652,624,777,558,815,689,274,845,824,689,806,564,816,217,652,816,766,766,704,560,558,623,815,604,644,652,714,193,558,751,610,622,754,558,735,704,582,695,703,821,733,815,714,730,774,777,827,788,624,172,776,575,819,821,619,795,558,816,558,777,777,622,733,679,577,681,217,722,623,587,689,774,754,652,206,604,555,704,824,824,558,804,624,733,228,679,714,564,766,815,624,598,746,622,623,760,795,624,766,205,166,780,723,575,704,807,766,624,742,704,731,646,754,844,558,804,652,857,587,558,778,733,689,78,761,574,687,809,558,575,733,577,815,587,841,777,681,841,848,824,624,776,654,623,712,558,731,689,193,730,806,707,185,619,623,804,776,689,714,806,824,777,806,575,182,679,766,610,714,624,624,622,827,816,741,773,816,646,605,720,619,712,183,591,701,777,838,718,821,604,821,623,652,777,604,689,731,589,723,698,558,730,575,777,714,801,815,766,714,841,804,815,624,754,143,704,720,558,217,730,681,827,714,631,731,714,824,681,731,777,731,816,741,644,604,227,777,623,783,200,623,644,622,637,540,823,712,558,832,731,81,824,679,730,843,623,687,271,776,720,101,558,767,630,806,766,215,731,766,652,687,245,624,808,569,185,815,795,631,652,712,807,50,714,631,776,623,824,824,617,575,731,652,88,755,109,630,766,755,631,143,821,622,774,217,281,722,714,816,857,760,623,558,766,714,733,714,689,577,644,64,577,741,679,101,697,575,754,804,631,815,824,754,564,558,659,624,825,605,588,766,777,680,778,807,172,602,164,63,585,766,816,558,623,217,745,624,689,683,816,644,712,564,631,728,620,577,624,624,652,704,604,652,731,558,624,714,766,644,722,127,825,704,708,623,689,616,604,824,762,714,777,644,832,682,575,631,624,616,31,719,558,624,836,659,827,624,558,580,623,652,63,755,708,776,828,558,777,558,754,212,605,217,712,741,589,766,558,808,763,806,644,821,755,586,670,558,265,172,733,624,714,558,731,558,624,143,714,589,815,702,762,624,652,589,689,806,704,586,602,742,622,623,558,558,824,766,558,82,624,741,80,623,720,561,555,704,857,638,682,714,714,623,546,821,623,20,720,765,585,781,714,703,558,644,766,774,741,689,720,624,689,808,689,816,777,558,624,622,604,624,638,558,720,619,733,558,560,652,714,799,754,815,631,730,624,644,833,754,816,714,766,558,816,766,766,623,815,714,623,815,695,564,720,624,156,704,714,577,843,807,806,733,804,274,644,632,681,166,143,585,816,193,558,733,809,616,800,714,754,631,777,689,604,776,697,766,577,624,555,141,81,577,558,827,575,735,585,816,577,731,804,823,810,689,712,824,776,760,817,704,228,766,754,80,804,689,20,766,807,88,735,623,766,825,644,722,624,841,619,644,598,689,760,558,773,623,623,766,741,558,624,689,623,741,714,720,558,714,193,776,620,43,575,714,777,733,714,227,714,773,745,726,766,604,624,558,38,752,801,50,623,754,689,589,652,560,776,689,816,624,630,723,733,652,821,741,605,720,217,776,558,714,602,652,760,644,742,631,797,623,558,825,558,776,630,631,545,827,136,807,623,588,712,624,652,806,731,623,704,622,644,815,731,712,602,560,623,143,767,638,623,704,257,20,728,783,591,589,728,624,806,624,735,560,558,714,3,804,755,783,795,619,22,644,624,720,279,730,623,631,54,631,605,766,687,763,266,211,240,631,681,81,564,730,610,816,766,631,681,256,610,619,714,802,540,795,815,799,590,232,766,589,631,773,623,642,717,832,623,652,80,689,754,266,599,731,806,776,712,818,816,227,824,766,558,156,821,577,558,134,781,852,785,577,825,712,806,575,815,720,623,777,679,644,63,735,558,558,714,644,755,623,825,679,766,558,687,624,577,816,773,845,714,619,624,816,704,731,766,619,824,689,774,733,623,806,623,712,714,623,766,704,558,816,211,714,554,754,733,712,549,766,777,619,653,681,731,227,761,604,166,577,558,824,731,816,558,623,766,576,774,754,689,558,766,623,689,790,704,704,707,755,290,217,575,776,143,816,742,766,644,183,841,679,704,824,275,619,735,760,723,712,790,766,824,589,718,731,558,602,816,766,652,577,644,807,679,720,575,776,575,558,623,833,712,816,631,577,652,652,712,755,59,689,816,777,731,542,766,777,589,619,714,695,558,610,679,824,754,50,185,20,38,733,816,166,679,622,825,797,687,799,622,752,652,781,754,807,624,720,622,712,63,577,82,558,558,731,714,624,795,766,720,560,635,558,801,824,558,777,776,577,631,797,558,682,620,558,766,101,807,741,741,687,774,815,827,622,622,555,623,577,731,575,624,714,817,623,558,644,844,290,763,777,845,624,26,777,557,774,832,606,741,624,689,644,560,822,816,714,172,758,575,164,774,761,733,588,228,624,714,827,777,766,624,623,766,589,626,760,558,558,624,622,546,623,816,624,575,827,825,689,760,557,720,833,776,730,720,88,760,755,766,755,774,816,619,558,829,720,748,604,560,795,623,715,624,720,714,652,741,638,558,623,681,623,631,714,622,824,707,731,558,766,731,777,88,214,693,558,624,741,558,766,733,631,623,623,825,589,81,714,624,824,815,560,777,274,653,704,136,714,815,816,733,763,704,623,714,728,659,777,681,777,733,704,714,205,587,560,712,776,720,681,766,95,652,805,217,577,571,733,766,105,845,720,548,774,558,679,733,755,623,763,82,815,585,754,228,720,631,714,731,88,623,558,720,623,804,689,714,740,720,623,619,776,714,825,766,720,765,766,720,623,636,597,720,631,624,20,766,815,693,266,766,712,742,741,274,653,777,766,623,670,652,733,687,733,823,689,832,689,638,268,577,689,733,776,766,816,644,754,809,589,766,816,712,689,730,754,816,733,777,631,622,602,804,844,806,816,558,736,733,748,777,624,164,766,762,754,720,763,558,604,714,644,604,712,804,604,577,558,742,801,704,824,720,623,689,816,558,760,564,730,774,714,623,741,841,731,733,82,652,733,558,730,733,714,790,684,577,550,754,624,624,624,623,760,82,185,815,624,558,624,777,825,143,558,816,846,766,644,558,681,577,605,109,20,664,558,558,624,561,745,631,616,604,816,754,704,766,623,560,714,714,638,589,274,14,689,540,602,760,816,589,577,20,641,575,558,761,172,712,588,731,651,816,766,766,623,841,560,589,662,622,631,777,824,714,560,765,816,602,730,766,816,616,824,540,622,225,619,644,714,714,623,712,622,816,623,604,816,558,143,631,558,558,824,827,652,689,623,644,815,570,183,589,754,79,733,558,815,815,824,623,623,575,577,812,265,689,558,841,714,631,797,652,679,712,806,558,589,795,754,733,806,718,726,754,605,652,143,824,558,833,689,606,733,624,807,807,766,704,569,681,211,766,217,841,712,604,795,136,731,766,704,777,582,816,605,776,742,265,766,689,841,824,720,577,82,704,561,623,720,623,681,721,652,823,164,806,806,712,766,555,631,652,558,624,560,741,714,577,656,777,850,720,739,624,98,766,623,815,824,788,555,644,700,214,712,679,824,720,652,604,577,731,624,624,781,644,205,731,558,777,546,712,762,733,777,815,714,758,652,824,816,624,766,731,832,712,807,681,765,742,679,720,577,109,777,624,687,733,619,602,624,558,558,720,766,689,832,631,652,558,809,20,193,695,638,624,827,644,20,777,704,712,631,624,644,616,552,704,781,558,731,266,714,575,166,560,544,604,806,577,266,689,293,134,652,816,164,777,598,714,264,843,760,681,602,695,17,577,841,733,689,277,659,735,558,825,630,631,164,766,605,714,806,733,65,712,183,712,825,689,824,762,777,26,577,681,22,720,558,616,741,682,558,760,825,821,733,704,752,816,714,806,832,631,725,589,689,560,816,602,806,679,777,824,714,624,266,763,672,790,569,756,766,754,850,689,774,571,623,558,623,20,577,824,766,556,841,714,558,558,712,604,43,824,777,622,763,733,623,761,815,605,765,720,624,776,652,806,742,777,808,623,624,761,741,714,624,841,269,185,777,558,644,815,777,624,815,589,604,766,823,712,652,624,766,714,763,693,558,821,678,707,777,766,631,795,816,760,63,745,605,604,766,714,644,546,774,558,777,681,558,754,806,575,644,631,624,143,690,816,730,82,624,766,592,589,588,589,558,766,631,185,714,164,773,274,689,605,777,555,777,631,824,652,577,631,695,652,806,564,825,754,714,63,712,816,558,544,825,224,703,766,622,160,801,689,624,806,755,816,104,624,723,807,631,741,604,619,38,290,777,577,599,806,825,816,817,754,634,712,832,183,777,558,624,832,558,788,816,795,558,577,766,623,647,714,804,777,776,730,825,624,619,832,558,766,807,755,816,577,624,714,560,577,588,624,730,736,558,589,623,631,703,558,619,695,730,624,624,185,575,777,558,695,695,558,239,815,557,731,844,777,776,741,825,616,720,815,714,733,631,589,762,679,668,631,624,776,704,564,558,704,733,695,577,217,795,774,815,266,602,751,616,760,624,623,575,841,731,558,795,844,730,670,623,711,642,689,766,585,695,741,804,712,558,776,558,719,631,622,623,143,777,72,731,558,622,695,577,689,558,712,704,816,631,558,714,646,612,704,558,558,81,689,720,679,143,830,804,712,720,569,644,670,740,650,766,20,777,277,624,644,766,101,804,714,552,763,619,689,712,720,788,816,815,815,577,720,712,589,266,766,560,589,558,714,88,624,823,558,143,752,845,763,38,624,684,854,602,714,708,558,284,766,623,816,217,806,821,731,816,777,806,1,741,777,712,714,619,704,755,603,53,540,596,777,728,700,763,761,766,623,679,766,832,712,766,704,844,824,797,712,703,558,845,217,623,815,722,731,741,841,766,766,832,754,687,720,610,576,832,631,679,722,679,631,619,623,825,558,832,193,718,355,602,776,63,733,811,806,558,558,806,624,143,827,217,624,776,20,766,844,681,266,631,824,164,575,558,712,569,714,777,741,733,806,689,624,558,766,683,588,766,712,558,623,624,816,824,742,623,704,776,776,604,754,689,599,754,589,622,623,773,695,589,742,766,733,644,701,766,714,668,193,806,558,624,824,624,804,679,558,754,623,841,605,797,704,841,783,832,777,624,754,216,816,14,589,788,622,841,540,720,712,681,80,712,731,704,795,587,577,560,815,764,290,841,840,753,825,549,832,558,667,623,720,604,781,577,609,712,741,816,766,623,754,577,723,766,731,644,824,612,766,644,742,700,816,732,741,622,631,294,564,765,816,599,575,624,619,824,824,687,776,766,843,774,806,825,733,777,720,245,766,624,816,575,704,714,714,689,681,754,166,558,543,183,720,575,164,714,807,624,577,714,82,256,754,631,689,679,714,714,731,560,591,720,644,857,816,630,823,644,577,623,841,631,754,766,644,731,807,791,838,623,558,801,793,193,841,704,728,806,273,577,38,817,741,824,631,623,604,618,38,631,624,777,624,840,720,766,731,704,712,613,714,761,807,624,776,815,774,589,704,755,722,777,577,827,576,20,558,720,762,766,558,777,38,733,745,712,644,695,703,560,552,712,564,816,714,558,823,558,679,754,754,773,689,833,616,841,644,807,82,721,714,620,754,707,211,623,741,656,81,817,623,577,712,733,77,766,656,621,631,841,108,766,841,712,619,698,604,81,816,689,714,228,623,652,604,714,763,832,720,576,703,821,714,82,790,623,766,569,695,624,700,766,681,714,623,81,575,185,754,766,712,824,766,806,605,766,623,773,761,824,816,581,773,166,741,690,823,766,697,558,818,815,741,827,217,82,773,816,624,815,815,777,795,217,604,631,733,735,653,224,668,752,821,776,689,604,766,859,844,714,777,81,741,720,143,714,205,777,684,623,558,81,845,558,624,687,228,157,815,708,558,766,575,733,644,648,741,275,560,761,774,714,795,825,631,644,776,183,604,80,644,602,560,846,622,777,766,616,631,211,558,623,681,766,806,589,577,777,689,766,644,188,624,704,589,815,558,38,761,575,766,714,816,558,777,558,766,774,602,624,815,587,689,558,689,733,755,622,771,774,755,751,730,623,622,681,689,815,604,631,682,577,644,680,815,774,759,714,733,641,644,619,731,558,841,604,623,101,624,827,689,714,759,823,623,558,558,623,766,805,587,714,232,622,558,776,841,558,558,631,644,824,825,804,806,604,624,247,88,777,807,175,773,731,681,95,806,652,703,825,558,720,20,256,816,687,776,624,806,766,827,730,776,644,624,766,823,589,570,720,816,558,558,754,167,731,844,720,816,558,228,558,265,109,832,714,594,816,689,766,733,82,733,777,710,777,20,623,776,755,619,652,143,558,824,827,604,714,552,652,810,558,575,754,766,81,817,555,644,265,604,624,689,555,624,708,766,766,577,631,624,587,714,638,815,824,622,302,613,644,714,777,624,143,689,681,652,733,575,741,644,722,773,730,825,845,152,816,558,804,644,777,763,745,20,730,830,652,733,819,558,712,816,708,689,602,704,82,815,816,777,799,766,560,644,754,652,712,827,558,720,824,825,687,714,558,773,167,704,844,816,777,714,192,816,265,624,766,777,624,561,824,49,576,806,824,134,777,816,546,814,558,652,644,148,707,558,807,555,804,630,754,741,652,558,776,764,741,275,217,623,266,689,619,733,555,722,590,714,577,766,271,845,732,714,806,766,704,806,714,776,558,622,577,714,589,560,665,712,778,841,841,624,731,845,761,755,815,714,604,564,731,626,704,735,774,631,604,603,816,815,602,735,684,791,619,228,84,714,777,540,766,576,217,777,766,602,558,602,816,663,689,714,577,742,557,806,712,704,766,558,225,619,766,277,544,683,569,564,807,644,777,166,604,695,760,558,733,652,217,766,623,722,815,821,730,558,652,681,652,758,765,844,623,824,613,806,82,80,824,776,582,755,619,704,558,619,816,631,644,714,824,589,274,50,669,742,602,555,623,792,624,589,624,788,689,766,539,720,731,589,712,623,564,777,723,560,755,604,589,720,564,623,631,816,623,714,589,733,166,824,695,819,731,228,702,689,816,823,143,689,619,623,731,841,714,623,687,631,815,88,751,604,653,644,731,187,773,795,558,781,754,623,569,558,558,558,738,742,816,624,624,589,681,720,624,81,228,663,816,562,38,558,842,558,832,712,623,88,555,38,624,824,577,815,599,816,720,754,777,808,687,623,766,631,266,816,714,804,740,644,733,667,741,277,704,592,681,816,631,540,711,622,577,766,20,624,704,558,616,624,776,846,652,821,681,575,712,256,274,712,228,748,714,274,712,816,599,704,604,712,761,560,712,821,623,575,781,832,689,777,575,777,832,689,815,714,623,577,644,644,588,824,624,841,631,644,841,623,730,714,714,714,777,605,733,695,644,589,816,623,624,679,619,3,689,689,821,576,731,681,577,20,683,274,816,766,733,824,762,605,304,742,742,644,634,638,586,720,652,806,815,558,622,679,271,754,714,795,766,774,806,797,766,815,714,766,634,741,730,588,622,648,730,816,761,827,730,777,733,777,760,821,644,767,807,631,290,755,815,815,109,704,689,622,558,720,624,217,558,765,781,622,587,776,785,731,766,604,731,624,564,720,729,712,575,731,575,712,766,574,166,781,644,295,731,644,624,695,631,804,730,760,290,558,766,816,554,81,733,81,20,777,648,816,644,733,766,815,816,777,766,577,766,754,549,17,166,766,773,714,823,712,815,776,589,773,777,816,604,718,589,22,624,776,577,714,816,258,774,558,795,615,712,712,722,574,819,17,741,766,668,766,558,714,256,564,841,164,604,555,623,558,777,631,558,619,762,758,731,558,824,689,558,665,741,777,598,549,741,558,760,20,833,754,720,731,689,558,701,702,766,631,577,143,838,776,689,761,652,766,720,815,777,558,776,624,694,624,644,777,742,644,841,558,733,631,766,652,622,82,558,731,588,570,558,558,652,624,731,714,844,31,281,704,816,172,766,804,577,795,825,712,623,82,569,850,766,806,687,712,740,588,619,824,841,714,668,824,575,700,806,558,714,623,623,101,714,841,623,575,804,604,555,577,733,560,558,662,714,558,631,806,623,624,766,723,111,695,754,706,704,623,824,816,624,577,679,703,558,730,619,38,720,766,631,38,589,797,143,589,816,681,558,20,752,712,704,730,815,720,730,71,577,565,540,577,766,580,143,766,702,765,560,712,714,623,741,622,219,624,806,714,589,166,63,577,689,714,760,704,589,292,733,558,714,762,824,624,558,589,558,777,741,760,540,689,781,857,816,760,622,620,577,217,806,619,785,712,604,689,704,622,704,815,742,20,816,815,623,712,714,48,777,589,742,225,762,766,644,765,712,624,777,714,704,714,566,575,761,816,795,763,709,687,560,644,712,825,774,624,755,731,623,720,714,741,835,623,766,558,257,598,259,687,213,624,714,644,766,760,816,849,638,714,733,777,659,704,776,644,816,714,613,704,589,555,679,679,605,604,714,720,604,712,761,704,766,558,148,631,757,80,816,644,644,823,597,766,720,558,815,795,681,254,644,849,827,644,824,564,689,20,589,704,733,558,624,841,751,719,829,577,821,741,682,598,712,766,815,733,206,602,823,832,799,644,644,704,558,777,733,624,656,824,616,622,857,714,816,730,816,602,824,232,575,81,790,689,605,714,741,558,776,185,558,644,730,624,689,689,695,320,575,558,652,623,713,821,624,783,731,689,623,166,614,712,703,82,624,742,623,558,712,701,766,31,623,624,754,766,644,604,623,795,766,554,731,631,704,82,624,558,815,624,81,845,652,806,558,644,63,583,704,20,623,558,576,783,777,427,841,622,217,754,577,624,558,558,555,815,642,815,766,703,136,631,821,766,608,624,588,712,689,205,776,558,827,624,801,825,619,766,623,631,648,577,667,624,624,182,766,741,755,20,733,761,669,631,766,577,604,815,623,741,624,816,558,623,558,766,815,766,623,806,623,754,806,777,141,623,560,623,791,217,689,704,776,577,714,558,80,575,689,816,712,104,806,667,558,577,714,806,624,722,679,816,754,804,624,558,823,77,728,599,741,714,193,827,631,689,631,766,624,816,604,602,602,781,652,731,616,783,763,206,776,719,271,766,695,622,604,762,774,766,624,806,832,602,777,765,742,824,806,733,224,624,774,714,689,825,806,681,755,619,797,741,799,841,644,681,558,644,679,766,776,623,714,616,823,589,644,558,558,575,631,714,816,795,143,623,589,752,602,677,776,748,211,818,589,681,824,850,652,774,770,20,825,695,766,589,783,741,630,766,624,589,624,777,225,631,714,741,724,558,644,687,777,704,721,824,816,783,156,623,766,832,766,755,624,624,623,690,602,816,825,623,217,217,141,850,766,712,714,564,815,824,602,266,841,682,575,578,766,664,731,714,807,689,558,558,806,569,731,631,558,681,622,644,760,731,760,781,689,602,777,558,735,560,82,720,558,755,558,766,731,644,760,827,558,702,624,777,588,704,754,679,648,730,624,50,766,712,702,689,624,614,704,652,540,623,777,558,602,631,631,827,821,760,558,714,731,624,624,832,841,659,731,679,213,290,733,758,624,20,604,825,776,136,681,843,631,624,712,623,778,687,624,624,623,644,558,731,648,806,777,824,731,610,623,777,599,689,577,774,150,777,589,815,624,774,781,631,77,714,777,558,670,760,624,724,205,3,755,774,806,777,728,624,623,558,63,733,714,577,370,558,712,672,631,806,785,587,822,803,777,774,766,143,622,294,38,652,624,577,558,659,624,624,781,777,623,777,623,217,558,731,577,788,777,754,624,624,714,754,623,733,733,587,766,143,815,766,720,637,714,742,576,224,777,558,714,809,755,166,588,624,766,816,610,624,799,589,766,824,558,766,577,631,558,695,200,560,731,689,815,704,631,723,766,679,721,552,731,164,602,816,766,631,82,558,816,766,558,205,714,558,217,845,821,673,731,762,806,720,20,754,832,619,795,577,193,766,633,754,824,631,781,558,766,558,816,816,766,558,806,816,749,714,37,228,704,623,850,701,172,623,766,616,733,558,764,815,689,631,623,806,558,605,731,624,652,604,762,712,624,589,714,558,689,689,774,731,766,777,777,815,777,589,592,679,558,821,681,774,766,730,841,741,164,781,832,714,827,832,731,644,815,558,266,754,714,82,652,777,619,558,606,765,731,754,575,109,806,622,227,816,540,623,714,602,558,623,695,109,777,602,558,604,723,577,624,733,575,558,816,160,604,752,681,540,797,849,827,773,620,824,623,558,766,602,624,558,689,821,193,761,816,82,587,714,735,773,604,589,81,816,752,832,647,689,714,816,766,101,700,731,823,777,773,623,731,556,652,790,838,777,730,155,577,719,795,558,635,807,575,737,623,88,777,585,844,577,604,850,735,604,821,690,714,604,824,827,619,582,777,185,804,720,38,256,564,631,577,80,631,766,185,557,598,804,598,720,830,806,776,754,733,622,644,604,698,752,577,816,604,689,773,185,577,733,738,845,623,754,32,668,624,746,741,558,631,703,689,754,714,814,558,274,825,841,821,245,712,714,754,558,816,623,704,88,714,754,558,689,714,652,777,766,824,622,101,277,652,266,616,624,558,714,638,217,824,558,741,644,816,766,577,714,20,558,804,81,577,766,783,801,841,816,689,670,575,577,745,624,777,623,687,825,166,619,644,754,770,600,832,654,806,824,555,766,304,558,714,577,644,695,689,602,623,623,714,616,714,841,811,560,841,622,624,749,290,704,731,707,662,20,50,217,548,558,558,731,730,832,742,825,560,558,845,731,652,704,558,603,773,795,101,754,631,624,81,823,777,679,689,245,777,589,558,652,754,624,854,763,720,558,624,832,604,841,824,540,156,689,720,623,832,731,777,755,624,731,777,211,652,624,774,604,776,630,577,804,806,766,605,670,564,766,77,624,828,720,816,776,81,841,788,558,681,602,558,777,720,766,714,558,806,560,742,703,38,815,38,265,766,619,687,588,619,777,857,806,558,722,730,821,766,604,816,689,575,82,714,652,623,766,203,765,560,644,577,558,730,558,821,689,689,558,755,825,714,584,589,605,712,824,766,720,806,558,712,777,665,704,742,733,652,714,589,728,815,766,832,679,624,557,689,766,644,776,704,624,22,766,733,754,763,766,624,799,560,735,622,741,815,833,704,558,824,274,825,589,644,205,795,824,205,766,265,792,569,704,741,689,816,754,558,827,733,733,704,577,623,806,712,712,560,558,624,731,624,741,689,576,733,588,733,755,712,781,733,753,715,766,558,712,754,689,589,38,754,604,227,841,761,714,832,824,754,620,815,777,630,277,631,823,616,824,560,815,558,602,731,588,841,704,712,803,624,589,695,776,549,712,742,623,815,605,558,725,575,806,742,832,52,766,252,708,824,652,728,704,766,644,472,733,187,558,815,695,816,821,704,733,623,766,669,604,733,590,689,589,825,703,704,777,766,558,225,604,604,733,806,731,763,624,704,602,714,472,806,754,830,49,540,624,616,762,88,624,824,777,630,588,624,766,777,558,816,624,777,774,558,589,81,80,714,623,577,606,164,564,624,623,134,827,728,681,20,816,766,619,731,824,681,766,689,704,631,815,695,652,760,760,704,604,819,693,714,849,560,20,560,815,652,592,704,712,816,816,848,624,824,791,832,760,795,712,631,649,714,776,708,766,558,558,766,56,712,791,766,824,832,825,823,624,754,668,602,807,558,558,143,815,582,714,652,795,604,623,841,624,755,659,577,733,803,797,800,766,714,652,816,731,622,682,689,766,765,731,777,704,717,815,778,806,714,644,687,720,704,777,619,756,754,577,700,703,720,824,659,81,766,622,725,624,589,755,689,720,642,631,720,777,712,714,702,712,652,844,577,824,683,760,704,57,714,624,816,622,751,622,624,558,81,712,777,558,623,741,558,623,589,20,68,604,681,689,824,577,714,720,703,704,558,806,625,619,714,589,560,774,766,689,766,558,754,754,644,669,624,540,624,624,631,624,754,771,604,766,575,619,564,49,679,620,712,731,758,604,182,725,652,824,795,624,633,763,714,704,20,720,624,774,824,619,623,766,644,817,652,839,816,830,733,575,815,623,712,604,838,689,631,257,807,557,624,766,61,589,575,679,256,841,735,652,555,776,624,548,604,558,712,811,816,624,164,808,695,623,723,766,766,689,679,274,781,808,577,714,776,689,776,172,824,558,766,815,841,681,469,815,741,731,776,575,815,598,819,733,623,689,777,731,575,735,558,712,766,823,801,777,619,604,558,681,690,763,576,777,824,821,731,652,689,816,228,624,778,589,766,731,82,714,623,714,712,20,733,652,166,558,795,774,766,760,604,816,755,631,669,693,589,763,623,766,604,558,687,634,777,192,49,644,741,765,766,766,783,754,807,558,624,217,766,708,274,766,88,136,558,622,776,776,704,821,760,604,228,816,589,631,623,623,827,577,838,558,832,704,652,809,723,777,558,624,558,227,604,50,20,638,712,815,623,619,806,844,604,624,733,689,763,720,815,604,804,766,624,712,560,745,577,712,754,689,774,558,825,134,754,830,631,602,575,815,795,558,558,623,795,217,624,558,718,577,781,766,777,558,164,619,432,807,624,174,575,720,101,217,82,556,777,841,619,766,623,806,634,714,681,766,807,804,611,761,81,575,763,631,610,824,754,797,765,689,228,731,776,558,275,558,760,274,558,810,584,704,143,558,648,841,560,720,741,50,704,695,228,761,754,766,850,781,644,558,704,619,832,843,604,776,558,730,558,714,773,569,623,807,712,741,766,558,815,774,714,731,754,577,679,755,714,760,558,766,841,689,644,652,623,631,652,777,602,815,585,797,652,604,824,824,205,704,777,808,623,38,652,683,638,832,624,101,624,623,760,644,624,832,731,815,741,766,269,624,82,714,616,774,166,827,712,755,623,735,821,624,741,623,766,815,623,695,622,623,766,605,624,712,623,560,816,560,766,766,624,720,815,766,714,722,644,624,591,777,619,552,704,815,589,730,816,604,715,720,825,77,816,740,164,624,589,758,679,824,623,20,842,154,203,744,823,815,816,543,761,773,652,816,815,827,558,766,778,624,754,38,777,766,815,624,88,577,773,816,841,728,623,624,587,652,824,760,712,624,841,652,622,624,731,821,370,712,816,720,589,832,824,624,754,816,689,754,652,704,652,166,777,741,777,624,804,216,558,683,766,227,624,766,824,827,644,733,558,754,623,681,290,644,623,616,652,652,631,577,82,66,206,681,754,560,623,712,558,730,714,766,622,211,754,815,564,217,806,22,164,577,830,774,816,558,832,777,705,589,731,689,558,781,644,704,587,20,845,811,754,691,623,814,712,845,704,854,712,20,807,821,754,558,559,777,766,558,761,624,604,816,766,741,50,576,657,624,577,714,624,644,714,619,659,797,754,777,38,558,816,683,605,777,615,834,604,624,777,804,741,714,766,558,604,623,624,689,814,624,813,832,824,712,622,20,558,624,689,714,36,766,623,679,720,589,824,540,88,20,777,815,731,663,776,775,681,714,816,631,766,806,631,766,720,577,580,712,733,616,558,631,681,821,804,644,714,622,701,644,652,558,206,815,589,714,766,824,714,604,622,763,558,816,816,777,720,80,689,766,558,80,714,631,766,228,762,558,689,731,604,622,624,653,815,714,172,558,704,620,290,624,714,558,589,825,720,558,823,695,731,604,630,558,760,227,690,773,576,824,731,558,101,644,766,795,577,558,689,815,577,766,589,733,766,704,788,605,807,824,631,776,558,748,256,712,624,815,799,822,760,689,766,623,689,754,577,624,730,731,776,77,807,712,731,588,733,777,82,689,623,20,714,589,604,754,602,624,588,624,778,729,720,712,164,766,668,832,619,766,766,589,668,824,564,689,17,731,631,733,824,825,588,708,824,540,848,766,602,838,642,809,624,589,761,714,292,577,644,20,274,623,598,766,766,760,589,720,823,827,631,573,622,806,185,841,832,619,837,623,172,234,766,624,841,105,858,624,731,714,845,777,577,758,558,575,540,166,631,624,624,832,712,644,832,604,795,854,622,712,605,761,564,631,752,69,596,623,623,816,577,589,824,766,624,704,731,681,714,622,689,741,712,714,50,766,558,582,585,689,631,730,624,704,217,766,824,624,816,766,644,824,558,816,804,754,577,623,766,602,589,766,766,689,634,624,755,224,623,795,689,281,712,832,741,695,229,765,766,741,598,838,766,577,240,624,619,714,766,722,648,227,704,652,552,681,807,733,558,101,558,558,623,623,806,781,644,577,631,623,588,754,841,205,668,754,624,704,714,804,783,795,599,731,841,26,560,721,619,602,814,854,109,742,815,815,558,761,806,841,166,589,622,164,575,678,777,540,825,623,774,592,845,741,816,645,816,832,63,558,816,776,752,821,558,777,577,733,575,714,755,730,815,589,622,637,742,599,777,631,720,720,148,713,714,720,723,624,776,623,38,589,560,642,558,652,602,806,558,652,558,766,610,752,644,733,816,558,821,564,558,714,624,765,738,777,20,624,631,245,823,821,816,731,601,714,558,623,623,558,577,687,766,558,712,720,742,589,824,623,623,624,78,735,777,720,712,766,777,644,733,799,766,265,594,652,558,245,735,277,620,558,714,624,766,720,564,217,82,714,832,575,20,622,619,712,623,206,623,766,816,733,841,624,679,773,720,624,101,649,77,816,689,816,560,766,733,558,589,624,712,740,766,558,631,776,623,629,714,806,187,720,622,815,592,766,765,804,777,82,755,795,824,823,754,365,766,642,754,631,101,825,564,714,689,704,575,695,558,239,17,766,559,228,659,746,824,841,588,689,695,689,63,712,669,631,822,540,689,624,624,733,185,558,712,558,558,624,714,689,766,807,712,687,712,714,26,616,558,766,277,824,733,760,714,558,741,797,733,777,623,774,815,20,731,558,624,752,766,558,809,81,589,679,720,616,712,777,205,558,714,824,841,776,558,741,574,227,558,623,604,712,672,619,588,50,850,720,776,712,720,681,20,687,766,604,704,816,96,560,731,712,697,841,622,587,644,624,265,582,82,710,816,558,558,816,714,815,689,604,592,689,20,656,49,720,702,623,733,766,667,777,767,672,766,731,714,577,555,624,823,795,623,766,720,652,816,622,689,781,644,205,766,720,558,228,704,754,730,623,827,604,684,714,689,644,787,624,714,724,845,623,714,599,765,825,558,712,624,695,712,604,292,777,731,821,623,689,720,807,701,714,166,731,623,172,731,164,766,846,623,558,624,731,695,766,623,577,624,564,712,731,712,64,777,740,546,816,776,731,816,824,604,104,804,622,714,631,558,777,256,538,540,712,766,821,205,703,623,777,761,555,777,714,689,824,827,720,679,755,558,622,622,143,624,754,558,623,624,553,781,558,815,767,681,816,754,708,816,777,668,619,619,689,714,806,754,277,766,668,858,623,754,720,733,155,714,777,624,166,841,815,825,824,622,602,624,679,790,80,754,558,623,825,624,589,689,689,623,741,577,624,698,824,82,712,668,818,748,553,652,804,68,704,558,827,577,689,782,714,558,558,774,644,228,604,841,679,815,754,644,704,730,777,752,562,602,622,824,652,623,766,823,49,577,824,816,720,824,766,720,815,733,681,795,558,761,638,795,777,712,733,602,766,731,558,558,839,239,558,816,652,619,623,136,616,623,776,797,624,815,805,704,720,623,816,816,712,733,714,754,720,172,777,652,816,623,718,604,742,624,689,832,575,799,720,766,841,702,624,193,622,766,850,605,766,631,217,577,850,816,792,776,101,644,689,247,624,164,558,816,733,776,558,605,560,720,622,599,704,265,766,723,781,558,776,623,689,624,20,824,844,720,776,824,741,695,774,14,247,689,185,714,824,816,212,712,821,841,714,721,561,763,589,299,815,816,714,659,714,714,714,703,755,624,821,605,766,623,766,558,576,808,589,624,22,624,720,776,714,281,558,588,676,587,825,558,766,689,816,704,766,623,704,228,589,700,758,823,141,695,681,714,797,613,777,689,714,695,693,80,816,577,824,217,799,754,217,766,714,558,704,806,558,821,638,731,816,754,81,766,777,714,631,228,824,814,816,714,755,810,766,623,689,557,569,193,20,227,760,704,622,589,714,766,806,164,624,755,558,682,577,777,754,754,265,766,558,733,48,566,714,777,731,827,816,754,3,679,679,714,689,605,815,564,777,558,623,857,712,560,741,777,669,824,714,815,821,795,720,766,623,714,815,730,731,765,679,631,193,558,720,622,681,558,841,125,623,124,837,623,681,619,728,704,762,624,723,667,754,708,623,589,648,777,799,604,733,586,589,730,81,689,555,821,689,778,689,755,558,623,714,783,776,755,88,774,575,623,58,776,212,575,766,558,714,762,760,754,777,806,624,697,733,598,624,604,217,623,290,712,577,754,761,824,264,738,550,61,644,664,644,773,807,712,703,558,724,80,714,714,604,154,64,816,766,555,719,690,689,624,604,741,712,623,217,712,777,681,816,704,777,602,815,815,624,717,777,558,622,844,577,558,714,777,577,832,589,558,622,623,783,558,605,816,664,20,681,720,815,166,624,816,760,731,824,697,644,631,624,806,712,589,714,761,815,689,806,622,156,558,821,555,766,689,558,681,561,712,845,825,806,730,624,631,228,631,824,714,577,807,624,577,82,815,741,194,795,754,622,245,689,714,805,624,720,558,689,38,766,832,754,687,645,689,558,701,624,687,754,815,754,577,624,755,714,622,703,575,818,558,623,776,766,754,652,754,712,596,806,577,767,754,589,806,623,624,247,827,624,733,624,714,720,687,766,599,712,777,704,587,571,619,776,741,754,631,760,816,602,859,766,558,807,841,668,731,816,647,714,841,687,762,228,623,714,558,760,631,558,631,814,589,720,88,668,623,602,182,700,569,274,832,712,776,555,825,730,804,741,714,589,827,736,663,652,833,731,681,689,557,624,733,82,816,553,624,816,776,166,589,631,624,602,164,714,766,225,558,744,714,720,816,752,638,776,561,652,604,766,211,577,689,624,766,714,564,837,795,274,306,689,708,773,558,740,623,589,766,613,766,761,731,673,832,733,605,560,824,809,558,664,577,815,817,687,679,558,816,644,754,95,720,733,741,558,720,670,687,679,599,754,227,287,816,733,731,766,816,624,816,720,657,623,807,741,623,841,766,681,623,714,217,575,644,647,776,819,103,787,619,592,623,777,619,575,824,804,225,777,827,783,616,754,588,712,800,156,778,689,824,807,622,776,825,731,795,623,731,824,821,623,741,832,652,689,560,840,754,566,766,819,766,806,714,777,776,824,704,766,20,766,733,712,806,731,742,781,589,644,720,816,773,814,631,832,670,825,703,558,652,586,594,821,689,777,624,687,823,558,714,754,712,611,101,50,843,558,558,766,32,558,577,172,714,733,225,760,116,766,806,754,788,623,623,817,558,598,105,689,733,742,766,814,619,228,718,733,742,777,687,816,679,806,799,225,733,634,20,766,766,589,302,689,689,714,558,712,833,558,790,623,762,825,776,777,689,577,624,714,575,664,839,265,622,689,256,605,754,82,816,558,589,591,101,797,622,558,714,816,575,806,679,794,815,77,841,704,604,652,558,761,624,815,718,175,748,558,558,180,762,807,832,741,63,623,588,589,754,720,714,670,623,604,592,81,575,815,740,762,849,575,623,795,624,720,816,704,217,631,815,575,577,712,622,731,720,624,576,61,681,700,638,824,150,720,765,824,592,109,139,760,652,766,624,622,561,761,63,731,575,799,623,741,777,728,82,624,206,589,806,766,777,781,695,689,815,821,843,741,725,681,631,644,825,679,619,777,193,843,731,850,558,577,589,224,624,714,558,762,815,610,718,720,622,821,824,624,631,558,845,624,823,623,821,652,774,577,564,766,589,712,80,212,619,712,714,776,576,806,558,558,602,859,558,638,205,704,558,766,815,644,766,136,741,736,542,712,558,733,715,841,687,775,807,823,762,604,577,766,682,266,654,575,560,558,714,589,577,624,816,723,824,684,695,755,588,821,804,577,619,602,611,754,619,558,602,604,731,712,742,766,714,624,712,109,823,679,714,644,624,558,604,824,824,815,636,624,623,33,81,166,806,754,806,624,832,575,652,560,566,755,689,172,228,217,624,799,217,783,555,777,560,623,712,619,588,681,766,799,254,804,742,714,733,776,623,622,761,741,631,704,765,624,714,823,604,652,782,712,577,755,714,773,731,754,821,731,558,689,728,558,205,206,689,742,602,631,653,823,228,712,166,720,271,810,596,622,712,558,82,704,598,773,845,148,714,656,82,766,742,815,714,857,824,577,816,577,777,704,669,558,741,714,815,766,624,821,692,777,845,652,689,777,622,816,816,766,156,604,587,704,730,755,815,797,623,687,774,558,714,613,589,587,668,63,741,558,777,622,714,714,720,712,80,644,577,679,823,206,777,623,166,766,712,841,844,814,774,577,143,712,589,741,795,647,624,148,589,712,821,714,38,777,791,82,816,631,714,577,623,604,825,624,816,689,622,720,624,623,765,733,703,20,644,841,841,175,558,766,766,602,624,763,700,816,714,81,712,689,712,589,841,577,774,760,143,88,720,281,172,777,558,735,714,703,733,624,766,558,538,712,760,631,845,217,62,589,20,731,602,642,714,825,648,776,143,714,774,655,20,704,777,88,644,754,754,687,20,558,695,720,760,730,766,624,815,731,552,816,795,824,766,763,822,631,761,667,558,797,77,540,681,767,624,723,558,558,624,804,712,623,827,589,604,652,766,844,714,815,689,714,783,558,827,558,247,575,755,824,761,623,624,801,164,770,681,540,689,555,558,714,631,619,558,631,766,604,644,558,77,644,766,545,38,730,689,623,577,82,703,687,790,166,790,577,604,622,587,766,689,730,741,620,691,730,766,704,290,795,731,762,815,294,712,708,714,667,77,807,185,623,777,755,824,766,799,703,824,623,206,605,681,587,682,766,558,575,623,668,838,714,766,577,681,689,754,558,575,619,624,777,619,774,689,832,815,172,816,623,745,777,604,777,765,558,644,624,806,622,652,754,754,774,205,558,755,616,733,619,712,722,689,558,689,288,624,622,558,816,795,766,797,624,754,741,88,776,558,664,370,776,714,760,265,576,776,592,720,577,714,735,815,81,652,689,824,156,648,776,766,577,844,766,777,760,631,714,679,644,624,669,695,116,577,803,720,735,577,833,560,712,761,740,824,679,622,816,156,217,695,704,81,850,183,558,811,754,704,563,824,557,623,695,589,206,774,738,630,575,604,773,622,714,766,644,579,624,712,185,832,714,712,598,714,755,558,624,623,755,795,714,821,621,558,795,101,624,647,714,806,622,825,704,720,669,622,714,653,558,714,558,689,767,717,109,558,604,623,741,577,777,801,622,217,624,622,623,623,624,751,731,773,712,577,624,623,652,82,624,631,14,619,821,754,721,624,549,36,558,227,681,582,687,714,799,558,731,841,624,815,652,715,555,816,776,820,604,795,631,652,731,777,559,622,624,558,689,741,714,604,194,741,766,227,619,624,823,712,845,652,730,823,644,623,644,754,795,704,648,741,82,558,624,690,164,777,95,604,639,540,806,754,687,652,623,764,558,652,558,623,766,712,824,689,730,777,823,560,631,631,816,644,788,689,825,783,741,20,815,555,795,832,731,689,48,824,689,754,557,825,720,623,623,766,623,761,712,659,766,816,623,689,620,166,720,804,824,101,712,20,621,776,712,704,623,689,589,624,306,857,604,811,816,825,720,704,558,712,558,650,842,571,816,555,738,623,695,816,558,602,766,577,832,804,766,624,80,731,741,795,644,604,704,644,742,624,777,631,832,136,841,815,217,275,816,733,644,558,103,704,584,714,776,766,644,604,731,790,731,558,824,821,816,760,624,806,824,680,20,841,742,577,731,577,667,777,256,689,624,644,689,610,816,714,704,731,623,228,815,101,624,766,815,143,759,644,624,766,720,777,766,183,644,841,714,825,791,755,777,22,824,684,205,766,708,564,730,213,712,558,741,687,815,754,766,778,577,766,560,731,569,854,854,806,816,217,599,558,631,816,741,850,88,183,638,622,777,560,652,689,136,774,630,274,755,816,824,604,558,604,602,642,558,644,558,558,816,806,777,704,723,766,245,217,605,580,809,689,754,623,678,558,577,807,754,577,558,712,755,730,182,631,558,265,776,689,689,624,584,746,777,38,644,857,81,720,605,605,751,801,644,652,714,825,679,840,681,824,777,689,766,733,714,815,720,758,804,577,815,731,624,644,604,101,806,714,806,577,754,816,776,731,88,704,737,631,733,188,714,679,712,549,714,577,558,652,587,720,582,652,714,810,206,623,731,624,689,631,61,720,720,777,558,573,63,217,720,731,832,577,652,275,816,720,558,623,50,227,733,589,841,766,558,741,704,638,822,228,623,558,183,589,604,776,623,714,652,731,700,624,777,558,631,634,766,605,817,695,566,623,815,558,832,760,720,644,81,644,589,795,558,742,712,622,558,797,558,631,642,814,760,795,720,577,841,63,558,834,558,577,766,558,538,720,576,704,765,777,638,735,741,783,619,719,558,681,156,824,681,777,720,20,695,755,558,624,689,689,720,623,721,704,741,540,610,841,741,776,741,82,624,720,623,644,589,631,620,183,689,720,20,742,807,540,805,832,766,624,619,558,712,754,720,825,777,733,777,281,754,555,558,773,577,631,622,774,815,577,795,720,766,631,623,806,759,730,143,703,731,20,742,766,804,624,712,821,624,733,833,281,731,652,624,731,623,622,815,185,20,558,623,616,737,558,823,624,679,619,783,558,590,714,631,704,623,748,754,613,652,712,619,714,624,623,777,824,731,558,577,825,623,172,631,622,266,728,624,704,702,714,730,681,558,587,681,777,604,652,558,650,146,624,841,654,720,754,622,689,814,164,689,741,766,777,689,624,588,266,712,558,762,720,619,816,755,760,760,825,623,604,14,558,806,38,623,766,598,619,167,838,624,659,766,766,616,797,816,766,217,266,704,776,620,199,623,799,733,586,777,733,766,193,728,681,816,777,619,712,652,823,187,766,20,689,714,720,619,806,681,825,538,419,689,558,714,82,731,624,807,620,644,265,82,624,558,712,644,704,714,679,36,589,577,575,819,766,624,815,623,712,704,720,622,841,754,624,602,624,823,652,720,838,766,833,733,88,766,687,720,604,712,816,824,652,569,754,807,679,587,735,668,815,644,731,624,766,689,847,271,754,669,679,714,619,816,653,816,577,269,623,714,545,631,815,623,623,720,714,733,816,689,761,741,652,602,683,652,622,714,561,616,733,824,624,623,774,766,558,623,821,274,624,591,754,228,652,695,577,689,689,819,754,731,766,577,776,623,806,80,712,604,613,558,708,821,815,832,143,569,689,577,575,166,652,712,631,720,815,766,781,816,720,714,742,187,558,712,623,755,761,741,624,720,604,558,814,205,815,81,804,832,304,689,689,781,742,754,623,623,754,701,624,760,622,689,193,689,63,731,604,217,816,622,689,682,704,816,816,774,585,714,134,558,689,827,841,825,589,538,777,624,741,558,624,577,623,801,624,714,816,841,805,20,569,558,766,654,266,689,619,558,631,766,579,815,731,667,754,687,575,824,733,256,766,755,652,183,844,614,730,736,631,689,643,558,806,781,806,623,631,730,773,558,577,816,689,794,689,807,781,624,804,833,689,846,737,760,695,622,714,704,754,816,623,577,754,766,644,806,681,622,714,622,265,806,689,602,38,730,644,689,777,299,720,638,825,558,682,815,704,564,841,766,733,700,575,644,591,824,821,668,761,754,844,610,623,575,624,730,166,821,174,266,602,712,622,844,274,540,227,605,816,652,697,26,558,815,714,577,816,558,631,712,22,558,618,720,82,777,766,766,704,777,741,817,558,815,758,795,164,730,811,687,712,555,558,652,765,211,623,624,712,564,558,754,704,761,814,539,710,575,795,669,681,623,558,558,216,216,730,719,704,663,733,622,689,760,824,604,232,731,733,624,824,82,816,99,605,624,631,623,689,808,806,622,558,540,193,604,166,755,82,564,623,631,799,806,631,816,781,712,622,558,841,689,754,832,776,766,665,622,824,832,824,766,816,797,704,816,558,577,275,756,604,544,714,733,714,228,832,774,799,766,815,816,439,610,816,808,714,714,619,733,681,816,754,795,689,183,320,679,558,622,765,622,217,816,38,217,766,806,623,95,616,555,777,620,644,723,589,623,754,631,211,815,624,777,720,136,712,624,619,619,575,755,720,816,766,708,832,821,714,761,702,589,560,815,679,558,712,558,589,589,604,813,741,760,823,684,788,273,187,577,720,824,558,733,777,728,616,558,589,760,644,552,815,712,588,712,806,754,101,442,558,558,558,774,714,193,815,841,741,823,689,623,652,776,740,597,558,558,564,663,704,766,815,827,681,754,602,766,726,624,714,602,731,805,558,714,806,577,808,754,648,714,560,839,827,832,808,589,783,777,758,841,763,777,624,754,205,558,816,850,623,714,714,605,624,604,653,766,623,644,558,681,816,166,695,760,81,723,761,766,644,712,644,544,257,701,741,540,806,558,74,604,589,265,712,588,714,766,824,638,561,623,841,788,824,740,748,575,730,733,801,558,552,814,200,624,631,755,774,605,774,175,658,22,703,604,824,704,644,681,720,631,49,558,50,652,670,596,832,766,714,652,807,714,823,644,760,542,590,766,815,577,558,299,623,505,631,773,623,63,217,810,740,558,623,689,816,604,720,558,766,818,624,689,766,623,859,602,616,668,765,708,766,804,664,731,623,832,575,604,752,558,631,560,681,777,689,20,816,689,824,217,185,815,712,602,558,766,108,623,639,558,624,644,652,730,722,604,624,63,602,720,50,652,624,575,714,624,540,714,558,631,576,816,644,799,763,109,766,781,774,558,806,560,81,166,714,605,228,631,730,741,265,704,766,816,721,577,20,825,714,558,774,712,586,857,754,227,631,766,624,624,652,741,622,714,141,827,558,681,558,689,558,205,74,754,816,742,689,624,781,766,824,767,80,731,624,183,623,266,689,816,761,588,755,38,777,774,797,754,804,681,704,766,695,754,722,624,681,183,689,679,679,589,213,714,754,777,577,773,635,776,652,558,755,806,804,558,714,815,821,720,623,240,804,205,577,245,589,733,720,766,795,823,589,616,631,766,641,577,589,635,206,763,585,558,720,651,631,681,714,816,605,777,766,564,754,558,720,569,714,841,646,624,754,754,588,755,712,824,730,714,644,824,604,804,274,774,624,555,64,741,712,760,815,172,808,754,689,623,766,644,714,795,585,827,81,624,589,265,624,689,631,670,586,825,652,754,816,814,624,20,712,558,825,742,622,776,610,763,193,806,832,814,683,777,816,605,689,806,816,623,841,754,731,623,754,763,712,763,815,740,274,644,183,125,631,731,777,697,766,801,742,590,807,605,689,754,741,623,644,714,577,265,720,265,290,277,827,766,731,712,733,644,175,638,723,733,726,767,623,765,624,815,766,622,766,714,821,558,257,766,720,778,819,766,652,652,703,825,777,613,586,575,766,624,720,720,109,558,806,773,752,577,558,712,589,624,77,689,624,803,730,720,806,838,816,767,807,762,806,109,560,689,712,555,850,720,674,807,799,730,558,256,624,575,821,569,552,560,624,816,766,577,854,623,544,824,799,622,766,741,816,20,681,712,618,712,762,733,589,765,766,777,87,591,577,265,731,754,825,681,712,815,645,603,712,589,558,714,714,857,623,689,80,832,783,689,746,824,652,558,827,654,733,266,217,571,763,540,687,731,728,227,832,777,716,558,689,740,754,651,721,807,762,733,720,689,754,730,558,802,712,766,589,652,731,605,166,180,631,623,679,602,624,245,763,631,623,82,766,738,166,619,681,731,214,624,624,624,806,615,703,824,766,624,720,558,807,558,652,88,109,741,604,695,689,806,622,766,741,604,164,682,804,623,700,558,754,623,804,56,816,832,679,644,257,624,802,766,825,821,659,776,589,712,50,777,790,644,20,664,589,714,796,713,619,622,588,733,742,166,714,558,776,557,730,714,275,806,695,777,714,733,50,815,619,816,816,823,777,766,762,622,714,832,577,575,832,766,631,604,754,540,624,766,741,624,631,821,624,644,689,604,825,571,575,631,652,623,825,797,558,652,622,714,624,765,624,714,824,720,631,274,712,807,266,652,815,588,689,624,257,205,557,824,575,763,825,849,631,808,577,275,815,631,826,742,652,777,733,247,148,588,776,558,217,275,815,776,540,841,697,841,714,714,714,623,714,656,644,832,806,623,714,575,740,619,704,700,687,774,623,816,577,777,644,88,558,708,604,604,652,88,700,824,776,540,731,766,405,47,806,766,604,841,650,623,714,679,760,714,720,658,702,20,249,731,558,704,795,754,622,577,619,766,689,623,807,622,644,247,766,766,731,704,687,631,148,681,760,766,689,774,741,598,754,652,730,700,240,624,552,214,20,731,558,624,781,659,623,815,827,604,644,681,589,731,704,622,652,624,721,558,720,815,569,619,663,806,731,558,776,624,560,225,776,623,575,766,857,589,38,766,631,577,652,644,624,821,560,558,827,742,558,695,815,132,687,704,577,816,698,644,622,575,774,558,733,773,575,815,841,821,606,695,689,689,834,629,714,733,558,631,558,20,832,827,558,580,558,728,623,619,604,689,156,714,648,624,777,774,752,575,624,670,733,804,623,558,731,754,827,730,687,773,714,730,781,558,720,816,575,816,806,807,564,689,704,689,558,558,774,624,558,841,816,728,714,589,844,755,761,555,217,183,816,695,136,714,776,816,721,293,857,624,765,695,766,774,575,766,718,610,652,38,742,825,763,689,652,792,733,767,815,623,806,807,754,577,558,689,275,558,589,690,689,644,679,624,644,136,714,624,623,217,620,733,68,776,714,644,612,689,695,624,766,558,850,838,755,816,604,845,845,733,82,558,776,681,681,558,599,564,714,266,623,720,554,712,714,774,689,624,714,730,558,644,714,602,185,172,754,558,765,788,804,652,624,558,827,802,577,841,815,624,824,558,733,777,816,712,136,811,806,558,166,761,766,624,558,807,173,604,81,164,806,624,792,48,623,777,564,704,558,638,765,760,540,227,731,689,824,622,689,720,81,558,703,766,624,82,689,715,754,815,681,185,552,816,781,623,742,815,619,704,558,731,845,754,781,704,754,266,754,558,689,733,71,824,622,737,762,700,558,619,622,720,624,816,839,652,854,624,558,707,755,766,644,754,815,604,577,631,825,733,857,832,624,704,577,833,641,623,824,827,712,558,815,766,854,712,704,566,741,766,815,590,602,730,589,540,689,712,644,773,774,555,712,577,217,623,746,766,777,619,853,832,558,766,728,555,816,560,824,624,20,644,714,741,824,575,587,766,733,281,818,63,619,816,704,644,644,777,765,731,806,777,681,652,617,766,193,776,806,742,589,731,631,758,766,776,690,827,695,806,832,619,814,622,720,714,577,624,823,63,61,182,773,652,577,806,217,762,754,777,797,631,654,704,619,143,63,815,624,841,754,847,164,806,604,825,631,689,623,185,695,623,825,731,20,754,667,754,558,714,720,616,730,682,577,604,815,562,624,82,731,623,766,622,754,672,81,689,720,558,589,825,754,240,644,540,623,698,777,622,631,816,808,833,824,681,63,20,815,560,767,589,624,654,754,20,763,774,82,679,777,766,841,689,623,741,720,623,631,605,704,808,623,741,624,712,558,781,624,696,174,766,832,183,695,754,824,758,760,766,731,720,604,827,788,754,36,588,266,755,689,20,560,623,800,714,644,714,766,604,558,612,733,766,550,731,766,815,217,841,816,733,712,558,624,719,588,801,806,631,714,577,577,564,624,689,816,804,576,857,731,558,558,604,156,836,444,623,720,631,777,652,776,644,641,558,806,816,71,623,619,774,712,623,560,7,216,776,804,754,797,605,824,622,774,805,754,619,689,824,669,653,320,623,558,752,605,558,766,714,217,857,624,589,558,623,613,714,720,777,64,687,558,619,841,20,689,624,558,644,704,616,623,558,766,560,742,631,164,752,624,712,832,136,616,589,795,731,564,730,555,624,631,807,776,558,555,766,644,739,558,623,558,622,844,815,761,714,604,669,569,704,815,762,761,623,206,720,841,82,558,731,604,766,623,558,679,228,610,763,689,183,762,714,766,766,256,806,825,731,791,760,708,623,816,631,652,816,588,590,80,806,777,730,714,720,824,816,730,134,631,604,681,766,652,679,803,824,827,558,558,815,766,82,183,605,806,766,824,821,760,575,631,776,581,624,815,616,588,733,754,777,631,789,808,540,577,689,708,589,804,815,623,695,731,714,817,719,710,741,217,623,558,834,766,623,777,558,558,644,816,624,569,624,552,774,731,654,619,806,599,816,712,760,652,623,718,622,827,748,755,733,622,719,644,689,712,602,777,602,766,689,623,143,704,622,687,644,703,824,821,754,721,624,50,281,561,644,575,816,638,623,766,830,703,602,644,619,648,679,766,714,712,762,50,824,652,816,82,714,622,841,577,754,832,714,766,623,687,776,845,577,806,755,720,781,741,766,558,841,623,799,766,777,766,38,844,841,77,193,720,266,781,624,690,728,765,644,751,733,631,605,631,754,704,644,631,624,773,225,681,763,824,653,776,766,725,733,720,624,824,623,731,659,623,824,624,824,604,589,622,631,754,824,832,623,624,624,776,560,667,558,217,774,589,598,754,624,589,806,731,554,816,631,825,755,754,774,714,624,589,82,622,576,695,754,761,689,20,558,777,755,714,558,38,766,754,575,623,816,807,766,733,555,558,604,631,589,704,704,714,624,714,624,766,854,689,555,754,763,228,558,720,644,761,795,857,148,825,774,714,604,166,766,644,558,604,766,827,577,714,748,754,850,777,681,816,623,544,712,816,704,575,766,815,776,720,558,741,558,816,816,824,857,623,774,217,20,679,806,763,20,577,50,558,760,760,707,722,216,74,754,670,712,777,624,689,827,720,766,552,774,569,714,558,731,760,800,741,569,815,720,777,217,689,714,714,577,569,761,623,589,613,841,816,718,733,577,605,623,631,652,797,625,619,704,821,712,602,805,619,228,631,166,644,714,624,806,754,760,564,38,622,766,558,774,777,689,644,206,624,776,560,777,265,558,77,807,816,760,777,679,689,619,741,652,63,815,832,624,604,815,266,631,806,587,817,838,610,720,741,714,604,624,687,766,623,245,575,640,754,816,832,577,766,624,605,631,795,763,777,623,166,777,624,762,228,228,587,623,558,731,714,714,644,63,143,758,704,740,695,841,714,604,169,714,814,558,631,689,714,630,714,857,604,807,623,774,159,558,558,624,689,689,647,156,217,754,766,575,549,832,205,644,555,755,695,622,741,797,754,766,689,558,681,598,714,558,841,652,589,20,807,624,652,80,712,712,825,806,821,814,760,806,88,558,806,766,185,734,631,623,80,631,652,624,747,712,714,832,652,558,623,712,712,714,619,853,714,624,777,624,821,754,746,558,815,558,624,754,754,558,766,558,619,652,754,205,755,623,704,736,540,714,774,742,604,741,777,714,623,731,824,558,766,610,815,765,166,631,558,623,824,539,777,824,763,589,735,816,808,703,32,217,624,687,806,824,63,845,623,720,766,771,631,755,205,577,714,754,605,714,589,689,558,777,841,602,189,539,815,824,624,816,644,755,698,720,619,588,77,824,558,619,806,777,742,624,766,832,558,623,166,577,733,623,807,777,653,695,604,777,558,689,733,652,260,816,81,821,841,631,623,730,540,227,644,731,714,689,808,652,824,558,558,799,730,631,737,806,714,624,704,776,563,631,644,754,558,766,623,623,644,575,623,825,741,748,134,704,211,554,624,604,689,728,801,806,585,558,20,63,623,754,755,665,760,582,815,730,599,650,86,766,704,841,731,825,577,631,623,720,652,558,731,644,217,558,766,799,766,766,427,558,631,619,624,619,776,82,587,777,576,513,806,765,592,82,765,271,558,766,714,623,844,792,816,704,624,819,827,841,712,765,742,631,555,689,604,816,558,720,689,807,815,558,714,589,622,20,592,720,652,623,704,631,754,766,604,623,762,708,687,712,815,334,760,577,774,652,631,604,50,265,540,766,205,740,183,610,777,777,63,589,558,712,673,256,777,815,815,589,832,558,602,710,271,658,760,613,667,667,679,760,832,679,558,773,776,766,763,766,714,622,624,730,689,86,604,777,558,816,816,765,712,558,638,689,644,827,679,774,624,80,841,816,624,832,755,766,766,668,109,689,815,82,598,695,644,631,558,624,754,845,652,602,274,652,733,143,88,81,712,777,763,733,766,141,569,712,644,623,703,217,681,714,558,733,624,689,589,558,109,777,575,766,589,58,754,824,616,766,589,720,815,754,558,631,815,832,718,823,742,807,714,644,825,806,832,823,755,773,644,832,623,642,622,558,644,558,712,754,604,641,604,841,624,271,689,761,558,604,558,654,589,730,569,581,754,605,720,821,857,679,50,677,816,816,844,558,816,827,708,766,574,714,166,729,766,689,247,558,689,589,631,788,623,731,832,777,577,832,558,720,589,720,714,760,659,577,776,824,217,824,622,624,741,730,81,762,644,569,816,704,766,256,623,622,624,832,619,777,558,816,558,644,631,762,777,558,754,689,735,558,558,623,714,773,624,754,762,143,589,604,815,777,704,560,558,616,731,777,731,815,778,589,714,558,623,564,679,720,781,777,555,558,815,733,722,777,569,622,703,278,182,804,777,815,183,754,806,598,558,714,714,558,655,762,602,754,718,766,731,815,631,644,558,766,841,777,731,577,815,730,689,690,623,714,777,816,824,766,760,815,588,766,634,619,558,754,815,558,631,714,777,765,827,558,754,832,720,766,652,267,827,689,623,631,589,290,741,631,616,558,766,622,815,841,558,681,825,806,623,61,604,689,824,651,577,589,825,589,624,766,610,689,714,733,755,651,679,754,77,560,774,575,82,833,558,766,760,741,61,788,623,205,832,575,815,575,587,714,668,558,623,761,20,766,823,623,832,824,825,624,712,741,720,558,615,194,652,731,754,619,766,624,816,822,558,815,774,816,781,558,606,761,689,766,714,583,624,774,185,558,558,558,741,577,601,683,20,714,560,679,156,558,217,841,592,816,575,816,623,777,781,827,806,589,816,714,624,281,589,558,679,631,777,823,731,806,754,816,841,558,648,624,814,719,823,623,558,82,558,599,714,778,623,774,164,558,557,687,251,558,781,589,714,841,823,779,720,577,755,731,260,776,776,714,558,765,245,763,695,777,558,704,712,825,731,597,652,605,704,564,623,665,742,833,766,742,695,657,644,832,821,824,644,777,733,766,624,166,731,622,816,761,589,624,88,765,748,816,718,644,576,540,766,853,806,623,719,619,777,624,624,731,682,624,616,766,652,618,720,678,816,765,795,217,741,539,644,558,206,829,730,143,733,81,731,569,723,760,624,560,217,733,616,766,815,799,763,290,619,815,788,704,766,697,558,766,20,777,558,824,845,577,631,766,88,624,824,754,560,755,569,815,642,766,766,681,766,689,806,558,731,266,720,741,290,631,560,558,558,741,653,776,741,558,604,63,712,604,795,843,720,558,644,623,714,774,619,778,814,634,20,269,761,777,766,815,810,712,605,104,558,714,815,815,558,623,544,644,687,644,766,806,762,777,733,187,824,695,682,760,558,690,622,164,558,61,712,605,814,766,766,589,704,577,816,604,689,624,783,577,742,624,731,166,712,766,689,648,822,749,723,714,815,622,689,577,814,604,624,558,166,20,558,569,80,558,841,589,765,832,766,604,624,755,622,689,623,857,228,814,795,228,816,558,644,855,623,755,641,799,765,631,624,816,583,714,748,720,821,604,766,720,577,766,776,558,187,816,821,623,552,825,623,82,827,623,20,577,567,619,80,722,841,558,823,652,805,824,777,156,741,777,558,689,816,166,20,560,598,624,82,575,777,558,166,714,714,766,823,540,564,623,741,766,689,765,796,551,712,704,624,681,577,689,577,681,790,623,277,708,557,816,558,187,577,623,679,166,766,700,602,624,17,816,774,287,554,575,773,763,776,689,821,827,703,604,827,816,712,806,720,741,558,622,589,854,575,745,588,766,774,720,712,631,799,800,619,631,714,765,558,824,604,679,619,689,816,774,38,56,624,564,577,624,689,622,540,644,795,623,766,631,823,777,816,624,708,704,273,720,712,564,172,716,788,664,156,598,559,631,761,731,827,619,78,804,714,624,624,554,766,712,762,827,622,622,623,714,714,731,735,649,672,575,689,755,804,20,804,257,731,754,773,558,793,776,623,558,816,558,827,77,733,843,714,624,755,683,624,156,832,816,766,687,689,841,815,806,788,602,720,689,766,712,81,731,731,777,587,841,766,754,166,589,777,164,623,589,558,714,815,212,689,604,766,742,604,604,558,689,818,806,623,766,631,589,538,623,723,622,624,587,766,638,733,644,859,689,658,558,14,689,777,622,702,619,766,605,714,669,217,588,806,687,714,774,841,714,558,681,217,841,816,777,604,610,766,838,766,704,816,558,723,741,652,644,760,708,704,714,558,766,624,644,725,843,832,681,558,588,624,638,741,754,766,766,213,766,714,777,638,623,832,679,824,644,591,624,824,824,577,733,766,825,730,815,644,577,81,193,20,717,733,681,777,815,616,695,166,731,774,558,558,777,564,815,624,767,681,610,277,679,624,63,777,708,714,560,624,540,77,766,781,623,623,730,844,651,576,689,731,624,714,704,644,604,824,624,719,644,569,623,558,564,714,815,766,777,13,824,275,795,20,623,143,824,776,704,838,75,777,841,652,540,604,714,648,799,624,824,806,815,793,136,777,624,755,558,646,558,825,704,832,845,663,558,774,733,689,777,825,604,687,712,766,720,623,249,773,217,708,730,777,82,652,652,22,819,604,741,742,265,844,569,825,631,622,755,560,577,679,804,766,704,815,679,631,624,689,827,591,604,266,704,733,754,266,558,624,766,577,172,731,622,558,708,708,556,824,731,816,587,644,816,631,602,624,730,824,20,816,648,589,287,824,20,668,714,557,806,82,604,755,624,622,631,806,624,815,741,558,49,720,844,623,622,777,624,651,832,735,616,587,3,604,689,730,795,720,623,760,791,689,733,81,50,575,773,672,644,733,761,766,647,63,760,61,735,558,824,825,765,713,558,763,245,604,815,741,806,577,264,599,712,589,777,256,714,558,712,156,623,755,540,733,569,806,558,825,760,681,774,619,733,558,795,824,78,766,816,631,774,712,558,156,182,81,623,821,766,766,575,754,819,558,576,762,832,720,558,598,762,816,721,682,781,683,712,722,756,577,776,827,742,622,804,733,806,624,832,712,558,558,832,754,832,618,205,604,806,689,730,570,703,88,624,631,630,623,844,760,720,652,741,827,623,720,689,815,622,823,766,652,766,777,844,266,766,689,623,720,631,714,624,669,87,741,631,841,758,592,735,712,689,765,731,46,690,803,624,766,766,754,631,824,777,588,841,744,720,777,558,731,604,712,808,624,760,631,644,720,631,816,827,845,143,558,558,575,857,602,816,148,806,766,81,616,811,623,806,631,766,731,602,558,781,714,558,774,714,783,795,589,827,774,754,596,77,644,712,754,659,695,714,790,644,623,81,644,755,731,619,766,574,148,624,82,644,806,88,766,604,815,733,781,602,623,776,754,679,766,193,766,619,602,275,689,824,765,20,624,217,183,838,546,766,679,714,623,849,624,605,766,254,175,733,765,827,604,766,558,679,777,604,795,558,623,558,740,558,712,619,703,623,604,20,733,623,730,652,623,777,766,577,714,690,774,560,754,742,815,816,712,689,702,720,652,624,766,806,832,638,741,558,731,616,82,623,777,704,821,806,604,225,644,575,754,164,763,560,766,755,623,187,777,816,265,795,558,821,164,621,78,841,126,695,712,689,558,821,712,624,766,689,619,825,712,689,577,733,816,815,832,777,644,560,665,13,766,191,720,841,604,755,558,616,824,845,832,134,754,777,841,589,815,704,623,824,575,80,815,728,36,623,708,704,20,816,683,777,755,824,274,624,681,815,583,841,709,256,277,624,832,720,733,558,781,644,667,766,254,205,827,741,622,634,217,631,754,38,720,61,256,687,766,644,774,687,720,558,731,719,781,679,644,730,652,604,193,631,741,166,558,841,558,777,265,224,766,815,760,714,754,558,199,217,732,577,556,558,575,681,816,589,777,766,616,845,180,836,804,740,728,624,739,754,776,596,602,604,265,644,714,720,228,773,558,731,733,591,558,20,631,712,827,712,644,689,631,575,766,776,742,766,712,825,604,558,827,641,622,777,644,20,816,777,806,652,558,766,733,37,194,731,631,623,569,679],\"legendgroup\":\"\",\"name\":\"\",\"showlegend\":true,\"type\":\"pie\",\"textinfo\":\"value+percent+label\",\"textposition\":\"inside\"}],                        {\"template\":{\"data\":{\"barpolar\":[{\"marker\":{\"line\":{\"color\":\"rgb(234,234,242)\",\"width\":0.5},\"pattern\":{\"fillmode\":\"overlay\",\"size\":10,\"solidity\":0.2}},\"type\":\"barpolar\"}],\"bar\":[{\"error_x\":{\"color\":\"rgb(36,36,36)\"},\"error_y\":{\"color\":\"rgb(36,36,36)\"},\"marker\":{\"line\":{\"color\":\"rgb(234,234,242)\",\"width\":0.5},\"pattern\":{\"fillmode\":\"overlay\",\"size\":10,\"solidity\":0.2}},\"type\":\"bar\"}],\"carpet\":[{\"aaxis\":{\"endlinecolor\":\"rgb(36,36,36)\",\"gridcolor\":\"white\",\"linecolor\":\"white\",\"minorgridcolor\":\"white\",\"startlinecolor\":\"rgb(36,36,36)\"},\"baxis\":{\"endlinecolor\":\"rgb(36,36,36)\",\"gridcolor\":\"white\",\"linecolor\":\"white\",\"minorgridcolor\":\"white\",\"startlinecolor\":\"rgb(36,36,36)\"},\"type\":\"carpet\"}],\"choropleth\":[{\"colorbar\":{\"outlinewidth\":0,\"tickcolor\":\"rgb(36,36,36)\",\"ticklen\":8,\"ticks\":\"outside\",\"tickwidth\":2},\"type\":\"choropleth\"}],\"contourcarpet\":[{\"colorbar\":{\"outlinewidth\":0,\"tickcolor\":\"rgb(36,36,36)\",\"ticklen\":8,\"ticks\":\"outside\",\"tickwidth\":2},\"type\":\"contourcarpet\"}],\"contour\":[{\"colorbar\":{\"outlinewidth\":0,\"tickcolor\":\"rgb(36,36,36)\",\"ticklen\":8,\"ticks\":\"outside\",\"tickwidth\":2},\"colorscale\":[[0.0,\"rgb(2,4,25)\"],[0.06274509803921569,\"rgb(24,15,41)\"],[0.12549019607843137,\"rgb(47,23,57)\"],[0.18823529411764706,\"rgb(71,28,72)\"],[0.25098039215686274,\"rgb(97,30,82)\"],[0.3137254901960784,\"rgb(123,30,89)\"],[0.3764705882352941,\"rgb(150,27,91)\"],[0.4392156862745098,\"rgb(177,22,88)\"],[0.5019607843137255,\"rgb(203,26,79)\"],[0.5647058823529412,\"rgb(223,47,67)\"],[0.6274509803921569,\"rgb(236,76,61)\"],[0.6901960784313725,\"rgb(242,107,73)\"],[0.7529411764705882,\"rgb(244,135,95)\"],[0.8156862745098039,\"rgb(245,162,122)\"],[0.8784313725490196,\"rgb(246,188,153)\"],[0.9411764705882353,\"rgb(247,212,187)\"],[1.0,\"rgb(250,234,220)\"]],\"type\":\"contour\"}],\"heatmapgl\":[{\"colorbar\":{\"outlinewidth\":0,\"tickcolor\":\"rgb(36,36,36)\",\"ticklen\":8,\"ticks\":\"outside\",\"tickwidth\":2},\"colorscale\":[[0.0,\"rgb(2,4,25)\"],[0.06274509803921569,\"rgb(24,15,41)\"],[0.12549019607843137,\"rgb(47,23,57)\"],[0.18823529411764706,\"rgb(71,28,72)\"],[0.25098039215686274,\"rgb(97,30,82)\"],[0.3137254901960784,\"rgb(123,30,89)\"],[0.3764705882352941,\"rgb(150,27,91)\"],[0.4392156862745098,\"rgb(177,22,88)\"],[0.5019607843137255,\"rgb(203,26,79)\"],[0.5647058823529412,\"rgb(223,47,67)\"],[0.6274509803921569,\"rgb(236,76,61)\"],[0.6901960784313725,\"rgb(242,107,73)\"],[0.7529411764705882,\"rgb(244,135,95)\"],[0.8156862745098039,\"rgb(245,162,122)\"],[0.8784313725490196,\"rgb(246,188,153)\"],[0.9411764705882353,\"rgb(247,212,187)\"],[1.0,\"rgb(250,234,220)\"]],\"type\":\"heatmapgl\"}],\"heatmap\":[{\"colorbar\":{\"outlinewidth\":0,\"tickcolor\":\"rgb(36,36,36)\",\"ticklen\":8,\"ticks\":\"outside\",\"tickwidth\":2},\"colorscale\":[[0.0,\"rgb(2,4,25)\"],[0.06274509803921569,\"rgb(24,15,41)\"],[0.12549019607843137,\"rgb(47,23,57)\"],[0.18823529411764706,\"rgb(71,28,72)\"],[0.25098039215686274,\"rgb(97,30,82)\"],[0.3137254901960784,\"rgb(123,30,89)\"],[0.3764705882352941,\"rgb(150,27,91)\"],[0.4392156862745098,\"rgb(177,22,88)\"],[0.5019607843137255,\"rgb(203,26,79)\"],[0.5647058823529412,\"rgb(223,47,67)\"],[0.6274509803921569,\"rgb(236,76,61)\"],[0.6901960784313725,\"rgb(242,107,73)\"],[0.7529411764705882,\"rgb(244,135,95)\"],[0.8156862745098039,\"rgb(245,162,122)\"],[0.8784313725490196,\"rgb(246,188,153)\"],[0.9411764705882353,\"rgb(247,212,187)\"],[1.0,\"rgb(250,234,220)\"]],\"type\":\"heatmap\"}],\"histogram2dcontour\":[{\"colorbar\":{\"outlinewidth\":0,\"tickcolor\":\"rgb(36,36,36)\",\"ticklen\":8,\"ticks\":\"outside\",\"tickwidth\":2},\"colorscale\":[[0.0,\"rgb(2,4,25)\"],[0.06274509803921569,\"rgb(24,15,41)\"],[0.12549019607843137,\"rgb(47,23,57)\"],[0.18823529411764706,\"rgb(71,28,72)\"],[0.25098039215686274,\"rgb(97,30,82)\"],[0.3137254901960784,\"rgb(123,30,89)\"],[0.3764705882352941,\"rgb(150,27,91)\"],[0.4392156862745098,\"rgb(177,22,88)\"],[0.5019607843137255,\"rgb(203,26,79)\"],[0.5647058823529412,\"rgb(223,47,67)\"],[0.6274509803921569,\"rgb(236,76,61)\"],[0.6901960784313725,\"rgb(242,107,73)\"],[0.7529411764705882,\"rgb(244,135,95)\"],[0.8156862745098039,\"rgb(245,162,122)\"],[0.8784313725490196,\"rgb(246,188,153)\"],[0.9411764705882353,\"rgb(247,212,187)\"],[1.0,\"rgb(250,234,220)\"]],\"type\":\"histogram2dcontour\"}],\"histogram2d\":[{\"colorbar\":{\"outlinewidth\":0,\"tickcolor\":\"rgb(36,36,36)\",\"ticklen\":8,\"ticks\":\"outside\",\"tickwidth\":2},\"colorscale\":[[0.0,\"rgb(2,4,25)\"],[0.06274509803921569,\"rgb(24,15,41)\"],[0.12549019607843137,\"rgb(47,23,57)\"],[0.18823529411764706,\"rgb(71,28,72)\"],[0.25098039215686274,\"rgb(97,30,82)\"],[0.3137254901960784,\"rgb(123,30,89)\"],[0.3764705882352941,\"rgb(150,27,91)\"],[0.4392156862745098,\"rgb(177,22,88)\"],[0.5019607843137255,\"rgb(203,26,79)\"],[0.5647058823529412,\"rgb(223,47,67)\"],[0.6274509803921569,\"rgb(236,76,61)\"],[0.6901960784313725,\"rgb(242,107,73)\"],[0.7529411764705882,\"rgb(244,135,95)\"],[0.8156862745098039,\"rgb(245,162,122)\"],[0.8784313725490196,\"rgb(246,188,153)\"],[0.9411764705882353,\"rgb(247,212,187)\"],[1.0,\"rgb(250,234,220)\"]],\"type\":\"histogram2d\"}],\"histogram\":[{\"marker\":{\"pattern\":{\"fillmode\":\"overlay\",\"size\":10,\"solidity\":0.2}},\"type\":\"histogram\"}],\"mesh3d\":[{\"colorbar\":{\"outlinewidth\":0,\"tickcolor\":\"rgb(36,36,36)\",\"ticklen\":8,\"ticks\":\"outside\",\"tickwidth\":2},\"type\":\"mesh3d\"}],\"parcoords\":[{\"line\":{\"colorbar\":{\"outlinewidth\":0,\"tickcolor\":\"rgb(36,36,36)\",\"ticklen\":8,\"ticks\":\"outside\",\"tickwidth\":2}},\"type\":\"parcoords\"}],\"pie\":[{\"automargin\":true,\"type\":\"pie\"}],\"scatter3d\":[{\"line\":{\"colorbar\":{\"outlinewidth\":0,\"tickcolor\":\"rgb(36,36,36)\",\"ticklen\":8,\"ticks\":\"outside\",\"tickwidth\":2}},\"marker\":{\"colorbar\":{\"outlinewidth\":0,\"tickcolor\":\"rgb(36,36,36)\",\"ticklen\":8,\"ticks\":\"outside\",\"tickwidth\":2}},\"type\":\"scatter3d\"}],\"scattercarpet\":[{\"marker\":{\"colorbar\":{\"outlinewidth\":0,\"tickcolor\":\"rgb(36,36,36)\",\"ticklen\":8,\"ticks\":\"outside\",\"tickwidth\":2}},\"type\":\"scattercarpet\"}],\"scattergeo\":[{\"marker\":{\"colorbar\":{\"outlinewidth\":0,\"tickcolor\":\"rgb(36,36,36)\",\"ticklen\":8,\"ticks\":\"outside\",\"tickwidth\":2}},\"type\":\"scattergeo\"}],\"scattergl\":[{\"marker\":{\"colorbar\":{\"outlinewidth\":0,\"tickcolor\":\"rgb(36,36,36)\",\"ticklen\":8,\"ticks\":\"outside\",\"tickwidth\":2}},\"type\":\"scattergl\"}],\"scattermapbox\":[{\"marker\":{\"colorbar\":{\"outlinewidth\":0,\"tickcolor\":\"rgb(36,36,36)\",\"ticklen\":8,\"ticks\":\"outside\",\"tickwidth\":2}},\"type\":\"scattermapbox\"}],\"scatterpolargl\":[{\"marker\":{\"colorbar\":{\"outlinewidth\":0,\"tickcolor\":\"rgb(36,36,36)\",\"ticklen\":8,\"ticks\":\"outside\",\"tickwidth\":2}},\"type\":\"scatterpolargl\"}],\"scatterpolar\":[{\"marker\":{\"colorbar\":{\"outlinewidth\":0,\"tickcolor\":\"rgb(36,36,36)\",\"ticklen\":8,\"ticks\":\"outside\",\"tickwidth\":2}},\"type\":\"scatterpolar\"}],\"scatter\":[{\"marker\":{\"colorbar\":{\"outlinewidth\":0,\"tickcolor\":\"rgb(36,36,36)\",\"ticklen\":8,\"ticks\":\"outside\",\"tickwidth\":2}},\"type\":\"scatter\"}],\"scatterternary\":[{\"marker\":{\"colorbar\":{\"outlinewidth\":0,\"tickcolor\":\"rgb(36,36,36)\",\"ticklen\":8,\"ticks\":\"outside\",\"tickwidth\":2}},\"type\":\"scatterternary\"}],\"surface\":[{\"colorbar\":{\"outlinewidth\":0,\"tickcolor\":\"rgb(36,36,36)\",\"ticklen\":8,\"ticks\":\"outside\",\"tickwidth\":2},\"colorscale\":[[0.0,\"rgb(2,4,25)\"],[0.06274509803921569,\"rgb(24,15,41)\"],[0.12549019607843137,\"rgb(47,23,57)\"],[0.18823529411764706,\"rgb(71,28,72)\"],[0.25098039215686274,\"rgb(97,30,82)\"],[0.3137254901960784,\"rgb(123,30,89)\"],[0.3764705882352941,\"rgb(150,27,91)\"],[0.4392156862745098,\"rgb(177,22,88)\"],[0.5019607843137255,\"rgb(203,26,79)\"],[0.5647058823529412,\"rgb(223,47,67)\"],[0.6274509803921569,\"rgb(236,76,61)\"],[0.6901960784313725,\"rgb(242,107,73)\"],[0.7529411764705882,\"rgb(244,135,95)\"],[0.8156862745098039,\"rgb(245,162,122)\"],[0.8784313725490196,\"rgb(246,188,153)\"],[0.9411764705882353,\"rgb(247,212,187)\"],[1.0,\"rgb(250,234,220)\"]],\"type\":\"surface\"}],\"table\":[{\"cells\":{\"fill\":{\"color\":\"rgb(231,231,240)\"},\"line\":{\"color\":\"white\"}},\"header\":{\"fill\":{\"color\":\"rgb(183,183,191)\"},\"line\":{\"color\":\"white\"}},\"type\":\"table\"}]},\"layout\":{\"annotationdefaults\":{\"arrowcolor\":\"rgb(67,103,167)\"},\"autotypenumbers\":\"strict\",\"coloraxis\":{\"colorbar\":{\"outlinewidth\":0,\"tickcolor\":\"rgb(36,36,36)\",\"ticklen\":8,\"ticks\":\"outside\",\"tickwidth\":2}},\"colorscale\":{\"sequential\":[[0.0,\"rgb(2,4,25)\"],[0.06274509803921569,\"rgb(24,15,41)\"],[0.12549019607843137,\"rgb(47,23,57)\"],[0.18823529411764706,\"rgb(71,28,72)\"],[0.25098039215686274,\"rgb(97,30,82)\"],[0.3137254901960784,\"rgb(123,30,89)\"],[0.3764705882352941,\"rgb(150,27,91)\"],[0.4392156862745098,\"rgb(177,22,88)\"],[0.5019607843137255,\"rgb(203,26,79)\"],[0.5647058823529412,\"rgb(223,47,67)\"],[0.6274509803921569,\"rgb(236,76,61)\"],[0.6901960784313725,\"rgb(242,107,73)\"],[0.7529411764705882,\"rgb(244,135,95)\"],[0.8156862745098039,\"rgb(245,162,122)\"],[0.8784313725490196,\"rgb(246,188,153)\"],[0.9411764705882353,\"rgb(247,212,187)\"],[1.0,\"rgb(250,234,220)\"]],\"sequentialminus\":[[0.0,\"rgb(2,4,25)\"],[0.06274509803921569,\"rgb(24,15,41)\"],[0.12549019607843137,\"rgb(47,23,57)\"],[0.18823529411764706,\"rgb(71,28,72)\"],[0.25098039215686274,\"rgb(97,30,82)\"],[0.3137254901960784,\"rgb(123,30,89)\"],[0.3764705882352941,\"rgb(150,27,91)\"],[0.4392156862745098,\"rgb(177,22,88)\"],[0.5019607843137255,\"rgb(203,26,79)\"],[0.5647058823529412,\"rgb(223,47,67)\"],[0.6274509803921569,\"rgb(236,76,61)\"],[0.6901960784313725,\"rgb(242,107,73)\"],[0.7529411764705882,\"rgb(244,135,95)\"],[0.8156862745098039,\"rgb(245,162,122)\"],[0.8784313725490196,\"rgb(246,188,153)\"],[0.9411764705882353,\"rgb(247,212,187)\"],[1.0,\"rgb(250,234,220)\"]]},\"colorway\":[\"rgb(76,114,176)\",\"rgb(221,132,82)\",\"rgb(85,168,104)\",\"rgb(196,78,82)\",\"rgb(129,114,179)\",\"rgb(147,120,96)\",\"rgb(218,139,195)\",\"rgb(140,140,140)\",\"rgb(204,185,116)\",\"rgb(100,181,205)\"],\"font\":{\"color\":\"rgb(36,36,36)\"},\"geo\":{\"bgcolor\":\"white\",\"lakecolor\":\"white\",\"landcolor\":\"rgb(234,234,242)\",\"showlakes\":true,\"showland\":true,\"subunitcolor\":\"white\"},\"hoverlabel\":{\"align\":\"left\"},\"hovermode\":\"closest\",\"paper_bgcolor\":\"white\",\"plot_bgcolor\":\"rgb(234,234,242)\",\"polar\":{\"angularaxis\":{\"gridcolor\":\"white\",\"linecolor\":\"white\",\"showgrid\":true,\"ticks\":\"\"},\"bgcolor\":\"rgb(234,234,242)\",\"radialaxis\":{\"gridcolor\":\"white\",\"linecolor\":\"white\",\"showgrid\":true,\"ticks\":\"\"}},\"scene\":{\"xaxis\":{\"backgroundcolor\":\"rgb(234,234,242)\",\"gridcolor\":\"white\",\"gridwidth\":2,\"linecolor\":\"white\",\"showbackground\":true,\"showgrid\":true,\"ticks\":\"\",\"zerolinecolor\":\"white\"},\"yaxis\":{\"backgroundcolor\":\"rgb(234,234,242)\",\"gridcolor\":\"white\",\"gridwidth\":2,\"linecolor\":\"white\",\"showbackground\":true,\"showgrid\":true,\"ticks\":\"\",\"zerolinecolor\":\"white\"},\"zaxis\":{\"backgroundcolor\":\"rgb(234,234,242)\",\"gridcolor\":\"white\",\"gridwidth\":2,\"linecolor\":\"white\",\"showbackground\":true,\"showgrid\":true,\"ticks\":\"\",\"zerolinecolor\":\"white\"}},\"shapedefaults\":{\"fillcolor\":\"rgb(67,103,167)\",\"line\":{\"width\":0},\"opacity\":0.5},\"ternary\":{\"aaxis\":{\"gridcolor\":\"white\",\"linecolor\":\"white\",\"showgrid\":true,\"ticks\":\"\"},\"baxis\":{\"gridcolor\":\"white\",\"linecolor\":\"white\",\"showgrid\":true,\"ticks\":\"\"},\"bgcolor\":\"rgb(234,234,242)\",\"caxis\":{\"gridcolor\":\"white\",\"linecolor\":\"white\",\"showgrid\":true,\"ticks\":\"\"}},\"xaxis\":{\"automargin\":true,\"gridcolor\":\"white\",\"linecolor\":\"white\",\"showgrid\":true,\"ticks\":\"\",\"title\":{\"standoff\":15},\"zerolinecolor\":\"white\"},\"yaxis\":{\"automargin\":true,\"gridcolor\":\"white\",\"linecolor\":\"white\",\"showgrid\":true,\"ticks\":\"\",\"title\":{\"standoff\":15},\"zerolinecolor\":\"white\"}}},\"legend\":{\"tracegroupgap\":0},\"title\":{\"text\":\"DESTINATION_AIRPORT\"}},                        {\"responsive\": true}                    ).then(function(){\n",
              "                            \n",
              "var gd = document.getElementById('05cd13f5-1ee6-493c-b881-b4ab79f1df62');\n",
              "var x = new MutationObserver(function (mutations, observer) {{\n",
              "        var display = window.getComputedStyle(gd).display;\n",
              "        if (!display || display === 'none') {{\n",
              "            console.log([gd, 'removed!']);\n",
              "            Plotly.purge(gd);\n",
              "            observer.disconnect();\n",
              "        }}\n",
              "}});\n",
              "\n",
              "// Listen for the removal of the full notebook cells\n",
              "var notebookContainer = gd.closest('#notebook-container');\n",
              "if (notebookContainer) {{\n",
              "    x.observe(notebookContainer, {childList: true});\n",
              "}}\n",
              "\n",
              "// Listen for the clearing of the current output cell\n",
              "var outputEl = gd.closest('.output');\n",
              "if (outputEl) {{\n",
              "    x.observe(outputEl, {childList: true});\n",
              "}}\n",
              "\n",
              "                        })                };                            </script>        </div>\n",
              "</body>\n",
              "</html>"
            ]
          },
          "metadata": {}
        },
        {
          "output_type": "display_data",
          "data": {
            "text/html": [
              "<html>\n",
              "<head><meta charset=\"utf-8\" /></head>\n",
              "<body>\n",
              "    <div>            <script src=\"https://cdnjs.cloudflare.com/ajax/libs/mathjax/2.7.5/MathJax.js?config=TeX-AMS-MML_SVG\"></script><script type=\"text/javascript\">if (window.MathJax) {MathJax.Hub.Config({SVG: {font: \"STIX-Web\"}});}</script>                <script type=\"text/javascript\">window.PlotlyConfig = {MathJaxConfig: 'local'};</script>\n",
              "        <script src=\"https://cdn.plot.ly/plotly-2.8.3.min.js\"></script>                <div id=\"ff2bd544-a608-467d-8153-834e10a1171f\" class=\"plotly-graph-div\" style=\"height:525px; width:100%;\"></div>            <script type=\"text/javascript\">                                    window.PLOTLYENV=window.PLOTLYENV || {};                                    if (document.getElementById(\"ff2bd544-a608-467d-8153-834e10a1171f\")) {                    Plotly.newPlot(                        \"ff2bd544-a608-467d-8153-834e10a1171f\",                        [{\"domain\":{\"x\":[0.0,1.0],\"y\":[0.0,1.0]},\"hovertemplate\":\"AIRLINE=%{label}<extra></extra>\",\"labels\":[14,11,14,14,3,1,12,10,4,10,1,10,1,2,4,14,4,2,14,14,10,11,5,4,14,12,2,1,1,14,10,5,14,14,1,14,7,3,4,14,10,5,10,14,14,14,14,10,14,5,4,6,4,11,1,1,14,11,14,11,14,4,5,12,4,14,14,4,10,14,14,14,5,4,14,3,12,4,10,8,12,11,3,11,10,8,14,2,5,12,1,8,14,10,4,4,14,1,14,8,14,5,4,5,5,5,3,1,4,5,14,14,14,11,10,5,14,14,9,1,4,1,1,1,1,4,13,1,8,14,1,11,4,8,1,3,11,4,4,4,14,1,14,1,4,8,14,5,5,6,4,8,5,1,8,10,5,10,4,1,8,14,11,6,2,5,7,12,11,9,3,4,5,14,4,14,12,2,10,11,4,1,4,13,10,11,1,14,10,4,1,11,5,14,12,5,4,14,10,10,10,5,7,5,11,14,4,4,5,14,3,1,10,9,14,10,10,11,5,3,4,10,3,2,11,8,11,11,6,5,4,10,10,8,1,14,14,14,14,4,10,4,14,4,14,5,10,11,1,5,14,14,1,14,10,14,4,6,1,14,4,4,1,14,3,4,8,1,1,9,5,1,8,8,1,11,5,11,4,1,10,5,11,14,1,3,4,5,14,3,11,4,5,12,4,11,6,10,5,1,11,14,4,4,14,1,4,12,1,4,10,5,14,1,5,10,4,5,14,11,5,12,10,8,1,11,6,4,3,10,9,11,14,14,11,12,10,2,5,4,10,4,8,10,5,1,2,4,3,11,11,1,11,10,11,14,5,1,4,14,3,14,5,14,1,11,14,4,5,12,1,1,4,4,5,1,14,9,1,14,14,12,5,14,4,3,4,1,14,8,3,5,11,10,4,14,10,1,4,4,14,7,5,13,6,14,11,12,1,1,5,10,8,13,6,9,3,4,10,4,1,1,4,10,9,5,14,11,10,2,14,4,5,10,9,1,4,10,11,14,14,1,5,4,3,14,11,10,11,12,4,10,12,14,10,11,5,1,1,14,3,5,11,14,10,3,3,11,1,11,14,12,4,4,3,14,4,11,10,4,8,14,5,12,4,5,2,10,3,11,8,3,4,8,1,1,12,4,7,12,12,11,5,3,10,11,7,11,1,1,12,1,4,5,10,14,14,14,1,11,1,10,3,4,10,10,14,3,3,14,11,4,8,3,5,7,5,1,14,14,12,4,9,10,14,1,14,13,8,4,5,8,14,8,11,5,10,4,1,14,10,13,10,6,5,2,9,14,2,9,9,1,1,5,1,2,14,14,14,5,14,14,2,11,14,5,1,4,4,14,13,9,14,1,4,11,14,14,14,5,5,9,8,14,1,11,1,14,4,3,14,5,10,14,14,10,7,4,2,8,14,14,1,11,8,14,4,4,12,5,12,5,14,14,10,5,5,14,5,10,5,14,5,5,2,9,12,9,12,14,5,14,5,11,10,14,5,1,4,4,8,11,14,10,8,14,2,4,11,1,4,11,1,2,8,5,14,12,1,14,5,4,12,6,5,14,1,14,4,11,1,4,5,14,4,1,4,5,9,1,10,1,14,4,14,11,8,14,9,10,5,5,14,11,11,7,11,12,12,4,14,5,4,14,11,5,10,14,4,1,14,1,1,14,11,4,11,4,4,14,10,11,5,14,4,14,11,1,14,4,4,10,4,14,10,1,5,14,6,4,1,14,14,1,1,14,4,4,14,14,14,5,11,10,14,14,8,10,11,3,4,14,4,14,5,6,5,4,4,4,4,6,6,14,11,5,14,3,11,4,14,12,4,1,5,3,14,3,5,1,14,10,4,5,1,8,11,1,14,3,4,3,4,1,14,11,5,14,14,4,14,14,14,1,13,14,11,10,4,4,8,5,8,11,2,4,8,4,5,1,14,4,4,5,11,11,7,14,4,12,11,4,11,14,3,4,11,14,4,10,8,10,14,14,14,1,3,4,5,5,11,4,11,14,8,1,14,5,2,1,1,2,1,7,8,14,4,9,2,14,6,14,5,14,12,14,8,11,5,1,1,14,12,3,12,4,14,14,4,10,5,3,10,8,10,3,1,1,14,14,4,5,1,1,7,11,5,4,14,9,14,4,5,4,14,4,12,3,14,14,1,3,11,12,4,11,8,5,14,5,11,8,5,1,14,5,14,11,4,10,14,14,13,4,14,14,4,4,4,5,8,11,4,1,8,14,1,3,14,11,1,4,4,13,14,10,14,11,1,12,4,1,10,14,3,11,9,14,10,5,4,4,10,14,3,1,14,3,14,4,1,4,14,1,3,4,5,4,10,14,11,10,2,2,5,14,4,14,10,8,14,14,3,5,9,14,10,1,10,8,12,14,10,8,14,5,14,11,10,11,11,1,5,14,1,11,1,3,5,14,5,1,6,10,4,14,10,2,10,14,7,12,14,14,11,5,4,14,10,14,3,14,14,4,3,14,5,4,10,4,11,11,5,14,3,4,1,1,1,8,4,14,10,11,1,5,4,1,3,14,8,9,4,5,8,13,10,8,10,10,10,5,2,4,10,4,14,1,10,1,10,12,5,11,10,5,14,10,1,5,11,9,14,5,5,5,5,4,1,4,1,1,11,1,5,10,8,14,8,14,4,1,1,8,14,9,7,5,14,11,4,12,14,10,11,14,14,4,5,1,3,14,4,4,14,14,6,10,4,14,4,1,14,3,12,4,10,4,10,3,11,1,10,11,14,13,5,10,14,3,10,4,14,11,3,10,5,4,1,1,4,10,5,11,4,12,8,11,12,4,14,11,4,14,9,4,5,14,1,3,5,10,10,14,1,14,14,11,1,5,14,11,10,7,9,4,10,10,14,11,14,10,11,4,4,5,14,11,11,12,3,4,1,5,4,7,14,11,8,4,14,2,2,14,14,1,11,8,1,4,10,6,10,11,1,14,1,2,4,14,5,1,3,10,8,4,1,4,14,12,14,5,6,10,14,14,9,14,14,11,4,14,10,5,12,4,4,4,3,11,11,4,4,8,6,4,10,8,11,4,4,6,12,14,11,14,8,10,14,10,4,1,14,2,14,2,2,1,14,14,4,5,1,14,4,4,9,5,9,11,14,1,1,10,10,7,4,11,14,11,4,14,4,1,10,1,11,5,10,8,9,4,4,14,14,8,12,4,11,11,10,14,3,2,14,4,1,10,14,6,14,5,11,9,6,14,4,12,10,9,8,4,4,1,2,3,14,14,4,4,12,11,10,9,10,1,13,11,11,4,9,5,1,14,14,4,5,1,14,5,5,5,14,5,14,14,8,12,14,14,8,4,5,4,11,11,4,14,3,4,14,5,14,3,3,2,14,4,5,1,4,10,9,4,11,3,1,8,12,14,2,4,14,4,4,4,4,3,12,10,14,1,3,4,14,9,14,14,8,1,1,5,14,5,3,5,14,2,4,4,9,11,11,4,14,11,4,12,4,12,11,5,14,1,6,4,11,8,10,5,14,1,10,14,8,7,12,11,4,11,1,11,14,8,14,8,12,14,3,5,10,11,1,8,1,10,11,10,11,5,1,14,11,1,1,8,1,8,1,1,14,4,14,10,10,14,10,4,10,4,8,14,1,2,7,10,3,10,7,4,14,1,10,4,14,12,14,4,13,11,8,11,5,14,11,14,3,10,8,1,14,5,12,10,4,4,1,1,4,11,1,10,1,8,4,1,10,4,9,12,14,14,14,4,1,1,13,5,5,3,5,2,6,14,10,2,4,14,1,4,6,6,14,14,4,5,1,1,9,10,14,12,14,1,14,3,8,14,10,12,14,13,10,8,14,2,5,11,4,14,10,12,5,4,14,14,13,11,4,11,10,4,14,4,4,5,3,14,10,8,5,14,2,2,10,14,10,11,4,5,5,4,14,14,14,8,4,1,4,14,11,2,1,10,1,14,1,7,12,11,10,14,6,14,5,1,1,14,8,10,14,14,10,11,8,11,1,1,1,14,4,12,10,12,10,10,1,11,12,11,14,1,9,10,14,13,12,1,5,7,4,8,9,10,4,1,12,13,2,6,4,14,14,1,14,10,5,10,5,14,12,14,4,14,14,4,12,14,14,10,14,8,1,8,1,3,1,5,14,4,1,2,2,5,4,14,11,4,14,3,4,2,14,9,11,11,14,2,1,14,11,1,5,11,5,14,14,4,11,4,4,7,4,4,14,4,11,5,1,13,14,3,12,8,14,3,9,14,4,8,1,1,4,9,14,11,3,4,10,5,6,4,14,2,1,5,10,12,12,14,6,2,10,5,5,4,4,5,1,14,4,4,5,13,14,14,5,4,12,5,14,4,14,8,7,11,12,5,4,4,14,14,1,10,3,8,4,3,14,12,2,14,2,14,2,1,1,10,1,5,11,8,10,1,14,11,6,11,6,1,14,4,4,8,1,1,4,10,8,5,12,14,1,10,10,1,11,5,14,11,12,1,6,2,1,14,10,8,11,8,11,3,8,8,4,10,10,3,8,1,3,1,10,11,10,4,12,14,1,10,12,10,4,12,4,8,14,10,3,10,14,8,10,10,14,10,1,1,7,5,3,4,1,4,14,4,8,11,5,5,10,11,4,4,8,14,2,1,4,1,3,4,4,12,1,7,14,14,5,10,4,5,1,5,7,1,8,11,4,8,4,4,12,14,11,10,10,11,14,11,7,14,4,14,10,14,14,4,12,12,10,3,5,1,10,10,10,11,4,3,1,11,14,4,4,5,7,4,1,14,5,14,11,5,10,7,4,2,14,1,5,14,14,14,1,3,3,12,4,14,10,14,11,14,4,12,14,4,5,4,2,4,9,14,1,5,8,9,5,14,10,4,14,14,11,5,11,14,5,14,5,12,11,14,3,11,4,3,10,7,11,3,2,14,10,8,14,10,1,10,14,10,2,8,1,5,4,4,14,8,14,1,11,12,10,1,4,10,5,11,14,1,8,11,5,12,11,14,7,1,4,1,5,14,14,9,11,11,9,1,10,14,11,10,11,14,5,11,14,14,11,11,7,12,1,6,14,14,11,14,2,4,8,1,5,10,14,11,10,6,4,4,14,10,1,11,8,4,8,14,14,14,1,14,12,2,5,7,1,4,4,3,1,9,5,4,10,12,14,14,1,14,4,10,10,11,10,8,5,5,1,1,11,14,14,2,14,3,1,5,14,11,5,10,11,1,1,14,14,7,6,10,8,2,14,11,1,3,14,5,11,10,11,14,8,1,11,14,1,10,5,11,3,12,8,14,10,10,11,1,11,14,4,3,8,11,1,5,3,5,14,2,14,11,10,14,14,4,10,14,4,14,11,10,9,14,8,1,3,1,3,4,4,14,11,1,5,4,11,14,4,10,14,11,5,14,14,5,4,4,4,14,10,4,10,4,14,1,14,8,6,14,11,4,5,14,3,6,1,7,1,5,1,14,2,1,14,14,1,8,4,3,14,14,8,2,9,11,8,4,5,14,14,5,5,14,4,3,14,12,4,10,14,14,14,1,14,4,10,4,5,4,8,4,1,5,10,14,12,3,14,5,14,10,10,14,1,10,14,5,10,14,3,14,5,8,11,5,5,4,5,5,3,10,10,5,14,8,2,8,12,11,6,1,4,10,14,1,13,4,14,14,10,14,6,4,14,1,11,14,14,1,4,14,14,5,1,10,14,1,8,4,4,10,11,2,2,12,12,9,2,11,14,14,4,12,1,5,11,7,4,11,11,11,2,4,1,14,2,11,4,10,14,11,4,10,10,4,10,8,14,5,10,14,11,4,10,12,4,11,3,14,4,4,1,9,14,1,14,10,1,3,11,10,14,11,5,5,12,4,5,8,1,11,11,4,11,12,11,2,12,9,10,4,14,12,5,5,1,11,7,3,10,10,14,4,2,12,14,1,5,10,14,4,2,3,10,11,2,12,1,8,6,1,14,6,7,1,4,13,9,9,10,10,4,14,14,3,4,10,8,10,14,10,11,11,14,11,3,7,10,14,12,11,10,10,10,14,1,2,1,10,12,14,14,14,10,14,14,14,2,11,3,8,10,11,2,10,14,11,5,5,14,10,11,10,10,14,4,5,14,3,3,2,4,14,1,8,4,14,5,14,10,14,10,1,14,14,1,11,3,1,11,11,1,4,12,4,10,8,8,4,8,14,14,14,1,3,10,14,11,14,14,11,10,11,14,14,10,3,14,5,12,5,14,14,5,7,11,14,8,10,1,4,5,10,14,10,14,11,5,11,10,11,14,8,14,14,11,4,14,8,10,13,4,4,4,14,4,12,12,1,14,3,2,10,1,2,2,4,10,5,3,11,10,11,14,3,11,4,12,10,11,5,10,5,1,4,12,5,11,5,10,8,10,5,10,14,7,11,11,5,14,11,1,10,5,4,11,14,4,5,4,4,3,8,12,4,7,3,5,11,14,1,1,4,4,11,4,12,11,14,14,2,4,4,3,8,5,8,4,14,1,14,2,8,10,2,11,14,14,9,4,3,4,4,5,5,4,7,4,14,3,4,7,10,4,5,14,6,14,14,4,11,9,4,12,5,14,14,3,5,14,7,14,4,4,2,2,14,11,4,11,4,5,4,8,11,3,11,14,3,14,12,4,11,14,10,14,5,14,4,1,13,10,11,8,4,11,4,14,1,8,11,8,14,1,10,4,7,14,3,4,5,1,3,14,11,14,11,1,14,4,4,1,3,4,2,5,5,14,14,14,12,4,11,5,4,5,3,3,5,11,10,4,6,1,14,14,14,11,1,14,14,4,14,3,2,1,10,12,8,11,14,10,5,4,5,14,14,4,14,10,12,2,10,2,8,1,10,12,10,10,14,2,14,1,10,8,10,3,14,4,6,14,1,2,4,14,4,4,4,12,11,14,14,7,4,5,11,14,14,10,14,12,1,14,11,14,14,10,1,1,12,10,1,9,1,4,4,1,11,14,4,4,1,5,11,8,5,11,3,10,14,14,3,4,8,5,4,1,1,14,14,5,4,10,14,14,5,14,11,11,14,14,11,1,9,5,14,12,14,3,14,14,4,14,4,5,4,14,11,11,11,3,11,14,3,5,1,14,7,14,3,10,3,14,5,14,10,1,14,5,11,14,5,1,12,9,10,4,12,14,2,13,14,14,3,4,10,5,12,1,13,2,9,5,11,10,11,14,1,11,11,4,11,1,4,4,13,10,12,1,8,11,14,4,4,10,9,2,4,8,11,7,9,14,14,12,1,14,4,14,5,14,14,11,14,14,4,5,3,10,13,14,11,5,1,11,9,4,5,4,11,8,10,10,3,8,1,14,3,12,14,12,11,14,9,14,8,4,1,10,14,14,10,14,10,14,12,5,4,2,4,1,2,11,3,6,2,10,1,14,14,1,4,1,5,10,14,9,3,6,13,4,2,1,2,4,4,14,8,12,11,5,14,14,5,10,10,11,8,12,4,9,3,6,1,1,11,5,14,3,14,13,10,10,4,10,11,14,5,14,14,10,4,5,11,5,8,14,1,1,4,3,6,5,10,14,11,14,8,12,8,8,4,11,11,4,4,14,1,10,14,13,14,5,4,3,8,6,4,3,10,5,14,4,5,5,10,14,8,5,14,14,4,11,5,14,1,1,10,5,14,8,5,6,5,14,3,5,11,8,14,14,10,14,14,5,14,1,4,8,14,10,14,14,4,8,12,10,10,4,5,5,6,4,4,10,10,5,3,11,5,10,4,4,14,2,4,11,8,10,1,4,4,14,6,5,5,14,8,5,1,11,5,8,1,2,4,10,14,14,5,3,14,10,4,1,11,14,4,4,3,10,14,8,4,4,8,14,2,9,1,11,11,5,8,10,1,2,4,5,14,4,5,13,14,3,1,10,4,14,5,11,14,9,11,10,14,4,10,1,1,1,14,14,14,4,14,5,11,2,14,11,10,5,11,11,14,5,2,14,10,4,4,5,1,8,5,14,4,11,4,13,5,5,8,3,4,14,10,5,10,11,4,1,1,11,4,14,1,5,4,5,9,3,14,14,14,8,14,11,4,14,6,8,11,4,10,4,2,14,13,2,3,10,10,13,14,4,14,11,4,1,4,14,14,1,5,4,1,4,1,5,1,10,14,14,1,4,1,5,11,10,4,5,11,14,3,2,1,4,8,14,14,14,10,14,12,1,4,5,10,5,5,11,5,11,6,14,5,1,6,10,8,14,5,5,5,4,4,1,1,14,14,11,4,4,12,3,4,10,4,4,9,4,5,5,4,10,14,5,2,1,9,11,3,4,14,14,8,3,7,12,11,5,1,4,12,11,8,10,14,4,2,8,1,10,4,4,10,12,3,11,1,1,2,12,8,12,8,1,5,11,11,4,6,1,12,5,8,1,14,10,14,14,4,4,14,5,4,14,14,1,14,2,6,5,1,14,8,1,14,10,13,3,14,14,3,5,14,3,11,4,4,5,11,11,14,4,8,5,3,11,11,5,14,5,10,2,12,11,4,5,6,8,4,14,8,4,10,2,14,14,3,5,5,5,1,10,10,4,11,5,14,5,5,11,1,5,10,4,8,4,11,10,14,5,13,1,1,14,11,14,11,4,7,11,10,14,14,4,5,11,8,5,1,10,14,5,11,6,1,5,2,11,1,11,4,5,14,10,11,12,1,14,10,14,6,3,4,4,4,4,14,4,14,14,10,14,14,8,4,8,5,14,1,8,4,5,4,1,4,11,14,1,12,11,11,14,9,5,14,11,1,6,4,3,5,14,1,1,11,8,4,11,14,1,3,12,5,5,4,14,1,9,10,14,10,10,10,10,4,3,10,10,1,11,5,14,4,2,4,11,1,8,14,8,8,5,3,1,3,8,5,4,12,14,4,11,10,7,4,14,9,1,1,10,14,1,1,2,10,4,10,14,5,14,5,4,10,11,11,4,5,12,1,1,14,12,11,4,5,10,3,8,4,10,4,10,4,4,1,10,1,4,13,3,10,11,14,3,5,14,12,1,11,3,4,14,10,14,4,14,12,1,11,1,8,14,4,3,14,10,14,14,1,1,14,2,2,4,11,14,8,8,4,10,5,12,10,1,3,12,5,1,14,4,9,4,1,7,14,14,1,8,10,12,12,14,1,5,1,10,1,11,10,14,5,10,10,8,4,14,10,14,9,9,14,4,12,5,14,14,14,10,1,4,8,11,14,5,10,8,14,1,4,3,10,11,9,4,4,1,11,7,5,4,10,1,14,1,10,4,1,7,14,1,2,11,5,8,4,5,5,13,4,4,5,5,11,5,3,10,5,11,4,4,11,1,5,5,9,4,5,9,2,1,1,5,14,10,11,14,14,9,4,14,14,10,11,3,13,4,5,10,14,10,11,3,10,1,4,11,11,11,4,10,11,4,14,14,12,10,1,1,14,11,10,12,4,4,14,14,4,11,14,11,10,4,4,4,11,10,4,10,4,6,5,12,5,11,6,14,11,10,14,5,14,5,1,1,4,14,9,5,4,1,8,4,4,14,9,12,1,4,1,1,5,1,10,5,10,10,14,14,8,4,4,10,10,5,4,5,10,5,14,5,14,1,14,1,4,8,8,14,5,4,1,10,11,2,7,1,5,14,6,2,1,14,14,3,5,5,14,14,12,1,5,12,10,14,5,4,1,11,10,14,14,14,10,14,11,14,9,14,14,5,5,10,14,4,5,4,11,4,10,5,4,11,1,14,6,1,8,10,1,4,14,8,4,1,2,10,4,4,4,9,10,3,14,10,4,10,5,3,5,14,5,1,14,9,4,14,10,10,1,14,1,10,1,4,4,14,14,1,1,14,4,12,1,1,10,1,4,14,5,1,1,3,1,1,10,14,14,5,3,10,8,1,14,2,14,5,11,3,1,4,5,8,14,14,5,14,1,8,8,12,1,5,12,14,13,4,1,10,8,3,10,11,1,11,10,4,4,12,10,11,12,1,11,14,1,4,9,1,1,14,2,4,14,9,14,14,1,4,8,14,11,14,5,1,3,4,4,11,5,5,12,10,4,3,5,4,1,11,8,11,5,1,3,1,8,1,12,14,14,14,14,11,6,1,10,5,11,1,3,5,14,14,7,14,4,1,11,11,10,14,5,10,5,1,10,14,8,12,12,1,10,11,1,5,14,14,14,14,1,10,14,1,11,10,4,14,7,14,4,8,1,12,5,10,11,14,14,14,4,5,9,6,1,5,11,10,14,14,14,4,3,10,14,4,5,9,4,1,1,14,14,6,13,3,8,14,1,14,1,14,1,14,10,14,10,3,14,14,2,9,10,14,14,14,1,5,4,11,1,10,4,11,5,10,1,4,1,14,14,1,11,2,3,14,8,1,9,5,8,11,1,14,14,14,4,14,14,14,4,14,5,14,4,1,4,10,10,5,1,8,14,5,5,14,11,10,8,10,5,8,12,4,7,14,10,8,5,10,4,14,10,1,4,14,14,14,11,14,14,11,14,9,2,14,1,14,1,14,1,10,1,2,14,10,1,5,4,1,14,2,8,4,12,5,8,4,10,1,1,13,4,10,14,14,14,11,14,14,4,14,10,4,5,1,4,4,3,3,11,6,4,4,5,14,9,4,3,10,4,11,1,5,5,11,10,14,3,10,4,7,10,4,4,3,11,3,4,14,8,10,8,5,10,10,1,10,11,14,7,11,11,8,4,14,14,10,13,4,14,3,5,14,12,12,5,4,10,10,2,14,11,14,4,12,11,9,12,11,1,12,5,10,4,1,8,12,6,14,1,9,14,11,2,10,2,1,7,14,14,8,10,14,8,1,11,10,10,1,14,14,14,4,10,14,8,5,14,14,8,1,3,8,9,5,1,12,1,8,10,4,4,8,11,8,4,8,4,1,7,6,5,1,4,5,1,14,11,2,10,4,6,13,12,2,3,8,10,5,4,3,3,2,14,12,1,4,4,5,9,4,3,14,4,1,8,14,8,4,11,12,11,14,7,5,10,12,14,5,4,4,5,14,7,10,14,11,10,4,1,11,14,14,13,11,4,14,1,4,12,6,14,9,1,1,6,3,5,1,10,4,14,1,1,4,5,7,12,1,10,14,4,8,4,11,11,5,14,4,7,1,14,14,8,14,4,10,3,4,11,10,14,14,1,11,5,4,1,11,1,12,2,5,10,3,7,5,5,11,14,10,14,11,4,14,2,14,2,2,4,6,11,5,14,4,1,10,1,11,14,14,14,4,1,14,1,11,11,3,5,14,14,4,14,8,4,10,4,6,1,5,5,4,10,10,14,10,8,5,10,4,1,8,1,4,10,6,5,12,10,14,10,14,1,3,1,1,12,5,10,4,10,5,3,4,3,5,1,1,14,14,4,14,8,10,11,5,4,1,2,4,8,14,14,4,10,14,2,5,12,14,14,1,12,3,12,14,14,10,14,4,11,3,9,14,14,3,14,6,14,4,13,8,12,8,10,14,4,8,14,1,14,5,5,14,10,12,10,4,11,5,4,14,14,9,14,5,8,1,14,5,4,3,1,8,4,5,12,5,10,14,10,2,4,12,12,14,4,4,1,3,4,4,14,5,4,8,6,4,5,3,8,14,4,14,4,4,10,10,10,4,14,10,1,3,7,4,10,14,1,1,1,11,4,12,14,11,14,3,5,10,14,10,8,5,8,14,5,3,4,4,5,5,14,8,14,4,3,5,4,14,9,14,13,3,12,14,9,14,5,4,4,1,8,6,14,1,5,1,1,14,4,14,14,4,8,1,10,11,14,6,4,14,4,14,10,4,12,8,2,12,1,9,1,1,14,5,5,5,2,14,4,5,14,1,14,14,3,14,10,10,14,11,11,14,5,4,9,11,5,10,2,5,11,11,1,5,4,14,1,5,5,14,14,3,5,10,14,14,1,1,4,8,10,5,14,14,11,5,8,6,14,4,5,1,14,4,11,11,1,1,4,11,3,1,11,1,10,3,1,2,11,11,2,4,1,3,14,11,1,4,14,14,14,3,4,1,1,5,1,14,8,10,14,4,5,14,5,10,4,3,1,14,3,14,3,10,4,2,12,14,14,5,5,1,8,14,14,3,6,4,1,9,4,8,4,14,10,14,5,5,1,3,14,10,14,4,5,10,14,8,1,5,10,5,11,8,14,4,1,14,3,14,10,10,12,12,5,1,10,12,14,11,7,9,1,14,10,7,14,14,14,6,5,6,5,5,10,8,4,11,8,11,14,3,11,1,11,1,3,1,14,10,10,1,1,14,3,14,11,5,4,5,10,14,1,14,14,7,1,5,1,1,11,4,1,5,14,1,11,11,14,5,1,1,14,14,8,14,8,14,14,14,12,1,4,8,9,11,4,8,14,14,6,7,14,5,14,2,3,3,14,14,4,4,14,13,1,10,5,4,9,9,1,1,12,5,10,14,5,1,11,6,4,11,4,5,8,9,4,8,10,14,10,10,11,10,14,14,4,6,3,14,10,5,1,14,5,3,14,10,14,1,5,1,4,5,14,11,12,14,10,14,1,1,5,10,14,11,10,12,11,1,8,1,11,4,14,11,1,14,9,11,12,10,11,5,14,14,2,12,12,5,14,4,5,11,14,5,14,8,14,13,14,10,9,2,9,4,11,11,12,12,11,9,14,5,11,10,1,11,14,14,3,12,1,4,14,10,14,14,11,5,8,3,3,4,5,14,4,4,5,4,14,4,4,5,5,11,1,4,10,4,10,4,12,10,5,10,14,5,14,4,10,11,11,1,14,7,14,14,2,14,14,14,11,14,13,10,14,8,4,1,8,14,10,1,5,5,8,14,4,14,9,8,2,14,5,4,9,12,10,5,5,1,5,4,14,14,5,2,3,8,1,1,14,4,11,5,5,14,14,4,14,14,4,14,4,1,9,10,4,14,3,1,4,4,1,10,14,11,5,4,10,10,14,1,2,4,10,11,8,5,5,14,9,8,5,7,6,14,1,14,1,11,4,4,9,14,4,4,11,10,14,12,10,14,14,14,8,3,12,7,14,4,4,3,11,4,14,12,14,14,14,11,5,14,14,14,12,8,2,12,4,4,7,10,14,11,1,14,14,4,1,14,1,8,14,10,1,4,10,4,6,7,11,11,14,3,1,14,4,14,4,1,13,10,4,10,2,11,3,5,4,4,4,5,14,4,14,5,14,4,4,5,5,11,3,14,5,11,10,10,4,5,3,10,10,1,3,9,2,3,14,5,10,1,14,12,1,11,5,12,1,5,14,14,5,2,1,14,6,4,4,14,8,4,4,5,4,10,5,7,2,7,11,14,10,4,5,4,4,10,14,2,10,10,4,11,7,11,4,14,10,3,1,12,14,14,1,8,4,8,7,11,3,14,8,12,12,5,1,11,1,10,10,10,1,5,14,5,14,4,14,5,4,2,1,8,4,8,12,1,10,8,4,11,1,11,4,3,1,2,14,10,14,5,11,10,14,1,11,10,5,1,5,14,1,11,2,4,1,4,14,14,4,4,1,14,10,1,5,1,1,11,14,6,7,14,11,4,14,2,10,4,14,14,12,11,1,1,4,14,3,14,9,14,11,5,8,14,11,1,8,14,7,10,4,1,12,11,4,12,4,5,3,8,14,8,11,1,14,1,14,10,5,4,5,12,1,11,8,5,8,14,6,14,14,14,10,14,8,5,4,4,4,5,8,2,1,4,9,1,4,8,4,14,1,10,14,6,1,14,13,4,2,14,4,5,14,10,4,4,11,4,8,3,14,4,1,14,10,10,2,14,4,14,4,5,1,14,4,4,8,4,5,10,12,3,11,14,11,9,14,1,11,4,8,2,2,14,14,5,8,10,9,10,14,5,4,11,9,11,5,5,1,14,2,9,3,4,8,3,10,14,5,1,10,5,9,10,5,3,8,1,9,14,7,5,4,14,1,5,14,10,1,4,5,11,11,3,11,14,5,14,3,14,1,4,10,1,4,4,12,8,1,6,5,2,4,9,3,10,14,5,3,1,10,8,3,14,5,1,8,4,7,1,4,14,10,12,14,3,8,14,11,8,10,4,14,3,5,4,8,10,14,12,1,1,11,8,8,11,4,11,14,4,13,4,2,14,10,11,1,14,1,14,8,5,11,3,8,11,4,9,8,5,14,14,14,2,10,14,14,5,5,14,14,5,5,11,8,4,14,1,4,11,4,4,10,1,10,10,5,10,6,10,10,14,14,14,1,10,14,10,14,4,14,14,11,1,11,11,4,12,4,11,10,1,12,10,10,14,14,1,11,4,5,4,10,1,4,3,5,14,10,12,5,10,14,9,4,8,4,4,5,8,4,11,1,1,14,3,4,14,3,3,4,4,4,14,4,11,11,4,10,11,12,13,10,10,11,14,11,14,4,2,10,12,5,3,12,12,10,14,3,4,11,14,10,7,5,12,10,5,14,1,5,1,5,10,3,11,14,8,3,4,14,4,4,2,12,4,1,1,10,14,12,12,14,10,5,14,2,8,14,14,4,14,10,3,4,14,14,1,8,4,1,14,1,14,4,1,14,12,4,7,3,14,4,12,14,1,10,14,11,14,14,4,8,5,10,4,8,10,12,14,6,14,4,11,9,1,4,10,11,14,4,14,8,5,14,14,10,4,5,5,4,11,11,14,8,12,11,9,11,14,14,1,4,1,14,7,12,5,4,1,4,4,3,14,14,10,14,11,4,10,1,3,14,11,8,3,14,5,1,10,4,3,9,3,10,4,3,14,4,14,7,10,14,10,11,5,4,5,4,5,1,5,14,3,2,1,8,14,5,14,12,14,1,14,14,1,4,2,2,4,14,6,11,10,8,13,14,10,10,9,1,5,4,1,12,12,14,10,12,11,1,9,14,12,1,14,5,5,5,10,8,1,3,4,14,10,5,1,14,4,14,10,3,7,5,5,11,1,4,9,10,4,11,2,1,12,4,14,11,2,5,11,10,8,7,5,14,8,1,3,14,5,5,12,1,12,1,14,14,14,14,11,10,4,4,10,5,12,14,10,2,10,3,14,9,2,5,14,11,6,14,2,5,7,10,5,14,14,1,2,3,1,14,11,14,4,11,12,9,12,5,11,10,4,14,14,11,14,11,4,5,14,1,1,1,11,1,14,1,4,10,5,5,4,2,5,8,5,10,1,5,4,14,14,5,4,8,4,1,10,14,10,11,4,4,12,10,5,4,8,3,2,11,3,11,1,4,4,6,14,5,14,11,1,14,1,11,5,9,4,13,1,11,5,12,4,14,4,6,14,10,1,10,5,14,4,5,4,11,1,8,8,2,5,13,1,11,13,14,3,1,5,14,11,14,10,4,4,3,1,4,5,14,11,14,5,4,14,14,11,4,5,10,10,11,12,12,10,5,1,14,10,7,5,7,14,14,14,11,14,4,11,1,4,8,2,10,9,14,3,11,4,1,1,10,4,11,1,11,14,10,3,11,5,14,1,1,11,1,1,14,14,2,5,3,4,4,12,12,10,1,1,4,1,8,10,14,14,2,12,4,2,8,8,14,1,8,9,5,5,10,5,4,11,12,14,14,10,8,4,14,11,10,4,14,12,4,14,9,14,11,8,3,11,10,8,10,8,5,6,5,4,8,11,4,14,6,14,5,10,11,1,14,5,14,4,6,5,2,3,14,11,11,7,11,14,1,10,14,5,1,5,14,8,14,12,4,5,12,4,10,8,11,10,14,4,14,4,8,4,6,10,14,1,14,5,4,10,14,3,4,1,1,3,5,11,4,12,10,10,4,5,1,1,3,14,14,11,4,1,11,11,3,4,5,11,14,1,9,14,1,8,5,4,5,2,1,1,6,8,4,11,4,13,10,14,1,11,14,11,14,1,7,3,11,5,14,3,8,14,12,4,10,10,1,4,1,11,1,14,10,4,11,4,3,6,10,4,14,9,3,11,5,5,4,12,1,1,11,5,1,2,2,14,9,10,1,10,13,14,5,10,4,4,14,12,12,4,1,3,4,1,10,11,14,14,14,4,14,5,8,14,1,3,7,12,14,14,1,3,1,14,3,8,5,12,1,4,10,1,4,8,9,14,14,12,14,11,12,14,11,10,5,10,4,14,3,5,4,4,14,11,1,1,4,1,10,4,14,1,14,4,14,4,14,11,1,5,4,8,5,11,8,1,5,3,4,2,14,11,6,5,7,4,14,5,5,5,3,4,14,6,4,4,10,3,2,10,11,4,4,11,14,1,10,14,4,1,4,1,10,14,14,1,2,1,12,14,5,10,11,14,9,4,9,4,10,5,7,14,5,12,4,1,14,8,4,4,4,10,4,1,14,14,4,10,14,1,10,9,2,10,14,3,4,5,1,5,14,14,10,8,14,2,7,1,10,14,1,3,4,12,10,14,8,13,14,1,14,12,4,14,1,4,14,4,4,5,14,6,14,5,10,3,3,10,4,4,3,14,12,14,1,5,14,8,3,14,10,14,14,4,2,14,3,5,14,1,6,14,4,4,4,8,14,14,14,1,14,3,3,11,14,14,14,11,8,13,14,10,4,1,14,5,14,12,5,5,1,13,10,4,14,4,14,5,14,14,14,12,1,14,1,11,4,10,14,4,4,5,14,12,14,4,14,8,10,14,9,4,9,5,11,14,1,10,1,9,14,8,14,4,14,3,4,8,11,4,5,8,14,6,12,1,12,12,1,11,3,11,4,14,1,5,4,3,14,4,14,5,10,10,12,14,13,4,5,14,13,11,5,1,14,14,4,1,1,5,11,1,3,14,5,8,1,13,4,5,14,5,5,8,11,4,1,12,5,11,12,4,14,14,11,12,14,10,14,11,14,1,14,14,10,2,14,4,4,10,8,2,10,14,8,1,8,7,14,4,11,6,3,14,14,5,4,11,14,14,5,3,5,10,11,14,10,8,1,6,11,4,5,12,8,14,14,6,14,14,3,1,5,14,14,9,10,14,14,14,14,9,11,1,4,5,14,8,5,11,4,4,11,11,2,14,10,14,10,4,1,10,4,5,14,1,1,4,14,10,14,14,8,1,8,11,10,6,1,14,13,14,14,5,10,4,5,10,5,14,5,10,1,5,1,3,1,8,5,7,9,14,14,4,2,5,10,5,5,4,4,8,14,1,3,4,14,14,4,7,14,4,14,11,12,5,10,1,14,1,13,11,10,4,5,5,5,10,10,7,1,9,6,11,1,1,8,10,10,5,12,6,4,12,12,10,11,12,11,4,5,8,8,11,12,14,14,1,12,3,11,1,11,5,1,14,5,4,4,14,14,12,2,5,5,13,3,4,5,14,8,12,1,14,9,7,5,5,14,14,14,5,14,4,1,9,5,14,5,10,5,14,10,14,1,4,1,4,5,14,8,14,1,14,8,10,10,11,5,10,10,12,11,5,5,11,2,14,4,3,10,6,14,14,3,4,11,10,11,14,14,5,14,11,11,11,10,14,4,14,4,1,5,12,5,14,4,11,10,4,1,8,4,1,4,4,11,8,14,5,2,5,4,9,4,14,13,1,14,5,4,5,8,1,14,2,8,10,14,4,12,12,12,4,4,1,4,8,8,8,11,11,4,1,12,14,8,4,8,1,4,14,1,10,3,14,4,1,1,10,1,14,7,14,4,8,14,5,11,10,12,14,1,10,1,1,4,5,5,14,14,4,11,14,14,10,10,11,14,11,4,11,9,6,5,8,8,4,7,11,4,11,3,5,5,3,14,1,10,10,14,14,5,5,6,4,14,8,4,8,6,7,14,14,5,14,8,14,4,14,4,14,5,10,11,1,4,14,3,5,8,10,11,5,2,4,10,1,7,1,14,4,14,12,14,14,12,10,11,4,4,13,4,14,11,14,14,5,1,9,14,4,11,14,6,3,10,4,1,14,5,11,1,12,10,10,8,14,5,1,10,10,11,8,4,4,14,5,14,4,4,14,11,10,8,4,10,10,14,1,9,14,1,9,14,5,1,11,14,9,8,9,5,8,8,4,8,5,1,1,10,10,8,4,4,14,10,6,4,14,4,2,4,10,10,11,1,1,12,14,1,10,13,4,14,8,8,14,8,5,5,14,14,3,8,4,11,3,5,10,14,14,14,2,5,3,4,12,14,14,3,14,14,8,1,1,5,4,4,4,11,13,6,5,12,6,14,11,5,11,4,5,8,11,5,10,4,5,5,12,4,4,14,11,8,11,10,14,14,8,4,5,10,14,10,14,8,14,5,14,14,12,14,12,1,5,4,12,10,5,10,3,4,1,3,4,4,14,10,12,11,11,4,8,3,11,1,4,1,5,4,14,8,3,14,1,11,14,14,5,4,2,11,10,3,1,4,4,1,14,11,14,10,10,1,1,2,14,12,8,13,6,11,14,4,4,4,2,12,9,4,2,6,14,5,5,5,6,14,10,4,8,4,1,7,12,8,11,14,14,4,4,14,3,5,14,14,1,8,10,14,14,2,11,14,14,12,11,10,3,8,1,12,6,14,14,14,1,1,6,5,3,14,10,1,11,10,1,14,2,4,1,12,14,5,4,4,10,2,12,14,7,14,13,14,14,5,14,10,11,3,10,4,14,14,10,7,4,5,4,11,5,4,4,1,1,1,10,2,1,4,11,10,14,4,14,14,1,1,11,1,11,3,1,12,1,10,6,10,14,1,14,11,4,4,1,4,5,4,1,4,10,1,6,14,14,11,5,10,11,4,10,10,4,10,14,1,10,11,14,14,14,10,11,14,1,14,14,8,3,14,4,4,1,1,5,1,4,10,11,4,14,1,4,14,14,5,11,10,3,2,8,5,1,14,12,8,5,5,8,4,4,3,14,5,14,14,1,1,14,10,3,14,5,14,14,12,8,14,10,10,8,6,4,4,8,4,1,10,4,12,4,4,14,10,4,10,5,10,4,11,14,5,4,9,4,11,3,1,14,1,4,2,14,4,14,1,12,12,12,5,12,1,1,3,9,7,4,11,14,1,5,14,7,1,9,14,2,1,11,4,11,4,12,14,11,1,13,10,10,4,1,9,4,5,11,14,14,1,9,14,4,2,6,4,1,1,4,2,4,14,3,11,8,7,2,5,11,1,4,3,2,14,14,2,5,14,4,1,4,14,5,10,14,14,14,14,5,12,14,1,11,8,4,4,10,14,10,1,7,8,10,14,10,3,14,10,10,14,11,10,8,7,3,11,5,11,10,10,14,10,14,12,14,11,14,4,11,1,11,1,1,4,8,11,2,14,1,4,10,5,14,4,5,14,14,4,10,1,4,5,1,4,5,10,10,14,8,7,14,14,5,8,14,4,2,11,8,5,12,8,10,4,8,14,4,10,11,4,5,2,5,1,6,10,14,11,14,5,12,7,10,4,5,4,3,4,4,11,14,11,11,1,5,14,14,1,5,12,1,4,1,8,4,2,14,14,4,1,14,12,2,14,1,3,14,11,1,4,1,10,14,13,10,1,4,4,11,11,4,1,5,14,14,4,10,3,11,14,8,4,14,11,10,4,14,1,11,4,10,13,5,8,6,1,10,8,1,11,3,12,14,14,3,11,4,14,2,3,8,11,14,1,11,10,3,6,1,14,1,14,14,4,1,4,5,14,5,9,14,5,12,5,9,14,14,11,1,14,11,11,10,1,14,14,4,3,14,5,14,5,8,14,14,14,4,14,13,2,10,14,14,5,3,14,14,12,4,3,14,11,5,5,5,3,5,10,1,4,1,10,4,4,14,14,3,5,3,14,5,5,14,5,1,4,2,6,11,14,1,12,4,6,3,9,6,2,14,14,1,9,14,8,6,10,1,5,3,5,9,4,9,14,5,9,10,11,4,14,11,8,4,14,13,10,4,10,10,5,4,12,12,12,10,13,11,14,10,4,9,8,1,8,14,4,10,4,10,10,12,14,10,5,4,14,1,10,4,7,3,12,14,14,4,4,14,1,5,12,1,1,7,10,14,14,4,5,5,11,4,2,14,11,11,4,1,1,5,1,4,5,5,11,6,3,11,1,5,10,14,4,1,11,1,14,1,7,14,5,9,12,14,14,14,4,14,5,14,12,4,12,5,11,4,5,4,3,14,14,4,14,11,9,14,3,14,14,4,5,4,1,5,11,10,5,12,5,1,5,4,5,5,12,11,4,10,1,4,10,8,14,4,5,11,4,1,2,14,14,11,4,14,2,5,9,1,4,13,8,12,3,14,4,5,1,14,5,10,10,10,14,12,14,11,5,10,3,1,4,4,14,14,11,5,5,14,3,5,1,1,8,9,1,14,10,12,4,10,14,3,14,5,11,11,4,10,11,3,1,11,9,14,1,12,3,11,14,5,14,14,4,10,14,5,14,11,1,4,14,7,14,3,4,11,12,1,14,11,5,8,10,10,10,1,14,14,1,10,14,1,4,9,2,10,14,11,4,4,5,4,12,2,1,11,4,4,4,1,14,1,14,4,14,6,14,4,5,4,10,5,14,11,2,11,5,14,4,14,5,1,10,14,12,3,1,1,5,8,4,1,14,10,6,14,1,5,14,11,14,4,1,14,12,1,5,8,9,1,12,14,14,3,10,7,8,4,5,4,5,8,12,10,2,14,10,5,2,3,11,10,1,4,14,1,14,5,14,14,14,14,12,12,14,11,4,1,4,5,14,11,3,1,14,3,14,1,14,14,5,4,1,11,2,14,14,5,10,10,14,8,5,1,2,5,4,11,10,14,1,14,10,14,14,1,1,5,8,5,14,5,5,3,12,8,5,14,12,14,3,11,5,1,1,14,5,11,4,3,1,1,5,9,1,5,11,2,4,14,14,10,14,14,1,10,2,1,10,1,13,10,14,11,14,14,11,14,14,5,4,14,11,11,14,1,10,14,9,1,2,1,10,7,11,1,1,11,6,1,14,2,14,3,11,4,11,10,4,4,4,4,14,10,10,10,7,3,14,3,14,4,14,14,11,5,4,2,10,5,4,14,4,8,11,11,9,14,3,4,12,14,10,8,14,8,8,3,14,14,8,9,10,11,4,14,3,14,4,10,5,12,14,10,14,9,9,5,14,8,8,1,4,2,11,10,5,4,14,10,2,9,14,10,8,5,14,1,8,4,14,4,5,9,10,9,14,9,4,5,11,5,4,5,4,5,11,11,4,5,4,4,11,11,1,3,4,8,10,14,5,5,12,14,2,10,10,1,10,8,10,5,4,5,1,2,1,12,2,1,14,5,4,14,4,4,4,3,11,4,10,14,3,14,2,9,4,11,4,14,12,12,14,2,14,14,1,11,8,9,4,4,5,14,14,11,1,7,11,13,14,11,14,5,14,4,11,1,12,10,5,1,8,14,9,1,4,3,1,8,1,12,1,1,1,12,1,4,14,8,11,5,8,4,3,4,4,11,3,11,1,6,5,5,14,8,14,10,14,5,14,11,14,1,4,12,13,14,10,9,1,4,14,5,4,11,11,14,10,14,14,5,8,5,4,1,9,8,4,5,11,11,4,11,1,4,2,8,5,3,11,14,14,11,1,14,8,10,1,14,5,4,10,1,3,10,14,5,14,10,13,3,4,1,4,14,10,11,14,1,14,4,1,10,14,8,11,5,1,3,8,11,5,5,4,2,10,9,2,4,11,3,4,4,14,1,2,6,14,13,12,6,10,3,4,14,12,11,5,2,1,2,4,12,14,4,14,11,11,1,3,9,5,11,1,11,3,14,14,14,6,14,14,4,1,9,3,11,10,3,11,12,5,11,11,4,14,2,14,5,7,10,14,1,1,14,5,9,5,4,14,14,12,10,14,14,1,5,14,3,4,10,10,14,10,14,14,3,11,4,14,11,1,14,5,4,1,14,12,4,5,8,12,11,14,14,4,5,11,1,4,5,14,3,8,6,4,10,10,14,14,10,10,11,14,14,14,11,10,5,14,4,5,14,12,14,11,14,14,14,4,5,5,9,1,13,9,1,4,4,10,2,1,10,1,14,4,14,4,5,1,14,14,1,14,2,4,6,4,14,5,12,14,14,5,5,1,4,14,10,1,7,13,10,10,14,11,4,11,10,1,14,4,2,5,1,3,14,1,4,10,10,10,1,3,14,14,12,14,5,6,1,14,12,14,7,12,10,4,2,4,10,8,4,14,10,4,3,14,9,5,14,8,14,3,4,14,9,14,4,1,3,1,14,14,10,13,14,1,12,11,5,14,14,3,4,10,14,14,4,10,4,4,1,14,14,1,7,8,3,14,12,3,4,4,11,1,14,9,4,6,5,10,14,14,13,4,1,4,11,14,1,14,5,5,11,7,14,10,11,14,8,2,14,1,1,13,3,12,14,7,14,5,14,10,8,3,4,10,14,14,4,11,14,5,11,10,10,4,8,1,1,14,1,14,3,8,1,8,14,1,8,11,4,8,4,1,14,14,8,10,1,5,1,1,14,5,7,5,14,5,1,11,11,1,11,8,10,10,1,14,9,14,11,4,4,6,5,11,5,1,1,8,4,3,9,10,4,2,6,1,1,11,8,11,14,10,14,10,8,14,10,2,2,4,4,12,4,4,5,1,4,14,14,7,14,14,5,10,8,11,11,1,1,4,11,10,10,14,8,5,4,5,14,5,2,5,4,4,10,10,14,10,4,10,10,1,14,11,14,1,4,3,6,14,10,10,9,4,14,6,4,14,9,4,14,4,11,14,10,1,14,5,4,11,3,1,11,12,14,4,1,5,3,11,12,4,4,1,5,4,1,14,14,12,9,1,5,4,11,5,5,9,11,5,8,1,10,3,8,5,6,14,3,4,3,1,5,4,14,14,11,10,5,4,12,11,3,14,3,14,4,11,5,5,7,14,5,1,4,14,8,4,5,1,1,11,10,14,14,4,10,14,10,14,14,3,4,14,4,4,14,5,4,5,14,4,14,14,11,11,1,4,8,8,4,10,4,5,4,3,3,10,2,10,12,1,10,4,1,4,1,5,14,1,14,10,3,10,14,8,14,10,4,14,4,14,10,14,9,14,1,1,1,11,4,4,8,4,5,14,1,10,6,10,14,14,4,4,1,5,14,12,1,5,8,3,5,14,11,11,5,4,11,14,10,5,1,4,5,11,11,10,14,4,9,2,11,1,8,8,11,10,4,8,14,5,8,4,14,14,12,14,14,14,5,14,5,4,5,4,1,10,14,6,4,1,3,2,3,7,4,3,14,11,4,11,10,14,11,1,4,4,14,1,14,6,14,4,14,10,8,4,1,14,14,14,8,5,11,14,4,4,7,14,2,14,11,5,14,5,6,14,4,10,10,14,11,14,10,1,6,11,4,4,11,4,4,14,11,14,14,10,1,9,14,7,8,14,11,14,10,8,10,5,1,1,1,14,14,11,11,4,14,1,3,6,11,11,10,2,6,10,4,1,14,10,10,1,14,11,14,4,5,1,1,6,14,1,11,12,10,11,12,4,14,5,5,14,11,11,14,12,10,14,5,11,5,4,10,11,14,4,10,1,10,11,10,14,1,14,5,14,14,3,11,4,5,1,2,14,8,14,8,8,5,9,12,14,5,4,5,3,13,14,8,10,11,4,14,3,1,14,14,4,3,8,5,5,4,8,10,14,7,1,5,5,14,8,10,1,5,4,6,5,14,1,5,10,10,8,4,1,14,14,1,2,7,4,8,7,1,11,1,14,12,1,1,1,6,2,10,11,10,1,11,1,10,6,7,4,9,14,3,6,8,12,8,1,12,5,12,1,4,10,1,9,2,4,14,3,4,4,5,14,11,14,12,14,14,10,14,11,10,8,2,14,4,11,14,12,10,1,4,14,1,5,1,1,4,2,4,10,1,1,4,14,8,1,1,14,1,14,4,3,11,5,5,4,9,3,5,14,4,11,4,11,5,4,10,1,14,14,10,1,1,13,10,1,10,12,4,14,2,5,11,1,4,14,2,14,14,5,14,14,14,5,12,4,4,4,1,4,2,10,8,14,1,14,12,6,4,4,4,2,2,8,5,14,1,4,14,10,14,11,1,14,14,11,14,1,5,14,11,5,1,14,10,14,5,1,14,14,4,10,10,1,1,14,4,8,13,11,1,11,14,9,14,10,4,10,14,1,14,11,8,4,14,10,4,5,14,14,10,4,8,5,14,10,4,14,6,5,10,4,14,1,10,14,1,14,1,14,10,14,11,4,10,1,9,4,1,5,1,14,12,14,14,14,3,10,2,4,5,3,14,4,14,5,9,10,14,14,1,10,8,14,1,4,10,4,3,4,14,5,12,1,2,1,7,4,11,4,5,11,8,13,5,3,14,6,5,4,14,14,5,1,3,1,9,14,5,11,1,4,8,14,10,5,14,2,11,14,5,14,12,5,4,14,12,1,14,14,4,14,8,4,8,4,10,12,3,11,14,4,1,1,10,9,12,2,1,1,4,1,8,1,14,7,4,4,10,4,10,5,8,13,12,14,14,14,1,12,12,14,1,14,11,11,14,14,14,4,1,14,10,11,8,5,14,5,6,8,1,12,10,14,1,14,4,5,4,10,9,4,14,11,14,14,4,5,1,7,1,11,11,11,2,1,5,4,4,14,10,14,5,11,3,10,8,7,1,4,14,14,1,3,14,1,11,3,14,5,13,5,1,1,10,14,12,8,14,8,1,14,8,4,10,10,9,14,14,14,6,4,11,11,14,10,12,10,5,14,6,3,11,2,1,5,4,12,10,14,14,4,4,4,8,4,14,3,14,10,5,10,5,10,14,1,10,12,12,14,14,5,5,4,14,14,10,12,9,10,14,14,14,14,8,10,5,1,14,10,14,4,14,6,13,14,10,1,11,4,4,14,4,9,14,4,8,1,5,12,14,10,3,14,5,4,1,5,3,2,4,14,4,10,1,12,4,10,14,5,4,5,10,1,10,4,1,11,10,14,1,11,10,5,14,5,1,1,9,14,12,1,11,14,4,10,4,14,11,13,4,14,1,2,6,3,11,14,14,14,6,3,5,10,2,14,3,11,14,14,5,14,14,11,10,2,4,10,14,8,3,9,11,1,4,5,7,10,1,5,14,10,1,10,11,5,4,14,3,4,4,3,1,10,5,4,14,12,4,10,14,8,8,5,14,4,14,12,10,11,1,4,14,4,4,2,5,11,4,14,1,14,9,8,5,9,14,1,10,10,5,4,4,10,2,1,4,4,4,4,3,2,11,14,12,14,14,11,14,14,6,10,10,3,4,1,5,8,5,7,1,8,1,14,11,8,4,5,5,1,5,8,1,14,14,5,11,1,11,1,4,2,10,10,10,2,4,10,4,14,14,14,1,10,14,5,10,8,1,14,4,10,4,4,12,14,5,1,5,4,6,11,4,4,7,3,8,1,14,14,8,14,4,14,14,14,4,14,14,14,4,8,10,1,14,2,10,9,8,3,3,11,8,10,14,10,10,14,5,5,2,5,8,11,5,5,6,11,10,14,1,10,6,10,1,14,11,5,13,1,14,1,8,10,9,4,6,14,1,10,4,10,4,4,14,1,14,8,1,11,14,5,11,10,14,11,10,14,8,1,14,14,11,14,1,14,10,4,4,4,4,14,14,5,4,1,1,7,14,1,4,2,4,2,11,11,5,5,11,14,10,10,14,4,2,4,2,7,1,14,14,4,4,10,1,11,10,8,10,14,5,12,3,6,14,10,2,14,11,4,11,6,10,4,14,1,5,7,14,1,4,14,14,4,8,10,8,1,5,1,14,8,7,11,10,8,1,11,14,3,4,10,3,11,4,14,1,14,5,10,5,14,12,4,14,14,9,4,14,12,4,4,14,12,4,4,6,14,14,1,4,1,12,11,14,11,3,10,8,1,14,5,14,1,14,11,10,8,10,11,8,14,5,5,1,11,1,14,14,14,10,8,3,4,4,7,4,4,2,9,1,10,1,4,14,4,14,1,1,12,12,11,14,14,14,14,9,5,5,4,5,14,13,10,11,5,4,1,11,5,1,14,9,4,12,4,11,6,14,2,14,1,14,14,3,1,14,5,1,11,3,9,14,11,7,1,10,1,10,5,1,11,11,5,1,12,5,6,4,10,10,1,4,11,14,6,3,5,10,1,14,14,11,10,7,12,14,14,6,13,11,12,14,11,1,10,14,1,5,5,11,14,14,1,12,5,14,1,2,11,4,14,4,4,4,14,4,11,4,14,14,10,14,13,11,1,6,14,8,11,12,14,12,2,10,5,7,10,12,4,1,10,14,14,13,10,4,1,10,10,14,3,11,11,10,6,14,5,14,14,11,14,11,12,8,8,5,4,12,14,2,14,14,8,14,4,10,12,10,10,4,5,14,14,14,1,1,6,4,4,1,10,10,8,1,4,5,1,10,4,5,2,14,3,14,11,4,4,14,10,14,5,10,14,4,11,11,14,5,1,14,14,9,14,3,8,14,6,11,6,1,1,8,4,5,14,3,4,4,1,12,1,10,12,10,5,4,11,1,5,4,1,11,10,5,8,12,11,1,14,1,5,4,14,1,14,9,3,14,10,4,12,11,7,5,14,14,12,11,5,11,11,1,1,10,5,5,1,1,12,4,10,3,5,1,4,10,4,12,11,3,14,1,14,11,10,1,14,4,5,4,14,6,4,4,2,5,2,11,1,14,14,5,3,10,14,14,5,4,4,4,10,10,14,5,12,5,14,11,12,1,5,14,1,11,11,14,12,4,14,4,4,12,4,4,4,8,8,5,7,1,1,12,7,14,3,12,14,2,14,12,11,3,4,2,14,4,1,5,4,10,1,10,8,5,5,14,14,4,4,6,5,6,14,8,5,5,3,14,14,4,14,4,2,10,14,11,14,1,5,14,1,14,4,11,1,4,10,14,14,14,3,4,9,10,14,11,5,5,14,14,14,10,5,4,3,4,11,3,10,3,14,3,12,1,11,4,14,7,14,8,9,5,14,3,8,10,4,14,11,14,10,12,10,4,14,4,1,8,5,5,14,1,14,14,5,10,14,1,4,10,3,6,10,1,10,4,14,14,14,11,14,10,4,8,11,11,1,5,14,1,12,14,4,2,14,14,11,5,5,14,9,2,11,1,8,14,14,14,12,14,4,1,6,12,14,14,1,8,1,1,1,4,2,5,2,14,11,4,11,4,1,11,7,10,5,10,5,4,12,8,3,14,14,11,3,10,14,5,1,11,12,10,5,14,4,14,1,14,11,2,5,10,14,14,3,5,4,14,1,11,14,1,5,7,3,4,11,8,14,2,4,14,4,14,4,4,5,10,8,9,4,5,5,13,1,14,11,2,5,5,8,10,14,11,14,6,8,14,3,5,14,1,12,14,1,14,1,2,7,11,14,14,5,7,4,11,14,11,3,8,4,5,4,5,14,1,4,14,10,11,1,5,1,3,12,10,4,9,3,12,14,8,1,8,14,1,11,14,1,1,5,4,7,1,12,2,4,4,5,2,14,11,5,4,4,4,4,3,1,11,1,4,8,12,1,1,1,1,14,10,1,4,14,3,14,10,11,14,11,11,6,6,4,14,3,5,10,8,10,14,8,3,3,5,5,11,10,14,14,4,13,4,1,10,14,11,13,1,14,14,3,14,8,4,12,4,10,14,14,11,8,10,5,5,11,4,1,7,5,14,10,5,1,5,2,14,8,11,14,5,3,10,2,1,14,1,14,1,4,4,14,11,5,10,1,9,5,4,14,14,1,11,13,10,1,14,14,1,2,7,5,14,10,11,1,14,5,11,4,10,11,14,11,5,4,5,1,2,12,2,4,10,7,9,14,5,14,14,14,14,1,14,1,2,2,1,4,8,5,14,4,14,1,4,1,4,8,4,10,14,14,4,2,2,1,1,12,4,4,14,1,10,4,4,12,10,2,14,5,10,5,12,6,11,6,10,10,14,1,11,3,12,11,11,14,14,8,11,5,7,10,5,5,5,4,14,11,9,3,14,8,4,10,14,4,14,14,11,3,1,1,10,10,8,8,4,14,14,3,4,4,14,5,1,14,10,4,5,8,2,14,11,9,14,11,5,10,14,1,10,3,1,4,14,2,4,5,8,14,14,2,4,11,8,10,8,3,6,4,10,10,1,5,4,5,11,14,4,5,1,3,4,4,5,4,14,14,1,10,14,12,4,14,3,10,7,4,1,10,12,10,5,14,5,9,14,5,3,5,2,8,5,14,4,4,9,14,10,11,10,1,14,8,1,5,11,11,1,14,4,4,8,11,1,11,14,5,1,8,14,2,4,11,14,11,1,6,12,2,10,11,10,14,11,14,14,10,14,2,2,10,14,14,4,1,7,10,14,4,2,4,14,11,7,5,5,10,11,10,14,12,4,11,10,12,14,4,5,11,5,14,6,11,5,14,5,1,14,14,12,10,8,14,5,4,4,1,3,11,1,1,14,12,14,5,8,1,11,3,4,4,4,14,1,13,14,14,14,13,14,14,10,5,4,10,14,4,5,4,11,8,10,14,14,11,5,14,11,1,14,14,1,1,10,13,14,11,4,3,14,5,4,12,11,12,4,14,10,14,14,1,1,5,1,1,5,1,8,14,8,14,4,5,1,4,6,13,1,8,10,14,1,8,11,14,4,10,1,14,14,14,11,7,14,14,1,5,5,8,1,14,4,4,5,12,1,6,1,5,4,10,5,1,4,6,5,8,2,4,8,14,4,14,1,14,7,14,4,11,1,1,2,1,14,14,3,5,14,9,1,10,10,9,1,5,10,8,14,12,1,8,11,14,12,1,11,3,11,1,5,14,14,4,3,5,7,14,4,14,1,10,1,10,5,4,11,4,14,6,14,14,14,10,4,4,14,3,11,1,11,1,4,2,5,5,2,11,4,8,1,12,4,14,5,14,6,11,14,11,11,10,14,1,2,4,8,11,11,8,8,4,4,14,5,4,8,2,1,3,12,1,7,14,14,14,4,4,14,14,1,10,5,14,4,5,4,13,14,4,4,11,4,11,14,1,14,14,14,9,1,4,10,4,1,7,14,3,4,5,3,9,14,10,12,10,4,1,4,3,1,1,11,4,11,2,13,5,14,5,14,5,5,14,9,5,1,5,14,8,1,3,11,10,10,12,1,5,6,4,14,4,1,14,4,1,1,4,5,10,3,2,4,14,14,1,4,11,10,10,4,3,14,12,12,5,1,13,1,13,3,10,10,3,11,10,3,14,4,14,5,4,12,10,12,1,6,10,6,5,14,14,3,7,8,10,7,5,10,4,10,10,14,4,4,8,12,14,1,11,14,14,8,1,12,14,4,1,2,4,11,11,4,4,11,14,9,14,6,11,12,1,12,1,1,14,1,4,14,10,14,5,4,1,4,14,9,14,10,1,10,10,4,14,1,4,1,12,14,4,3,11,14,14,13,14,14,2,5,12,14,3,11,14,1,14,10,4,10,4,10,10,13,1,2,4,4,14,1,12,11,10,1,5,5,5,14,10,5,11,4,5,8,4,14,14,4,14,1,2,5,2,14,14,10,11,4,4,4,14,14,14,14,8,8,6,4,14,1,12,12,14,3,14,1,14,8,14,12,14,1,8,14,7,1,14,1,5,1,1,10,10,1,10,1,14,14,1,14,2,10,14,13,14,11,5,1,4,11,1,8,14,5,14,11,1,14,4,8,1,11,5,5,10,5,4,10,2,11,5,1,1,8,4,14,4,1,1,1,1,14,7,10,11,8,1,14,8,14,12,3,14,12,14,11,11,3,10,14,10,12,4,8,5,8,4,2,1,12,11,1,5,6,4,14,3,14,10,12,4,11,11,1,1,1,4,14,9,8,14,3,9,14,11,3,1,5,10,4,1,14,14,3,14,12,10,14,14,14,11,4,4,8,4,1,4,11,4,4,4,11,8,4,14,8,4,3,14,2,14,8,2,14,14,14,14,1,4,14,11,10,14,14,5,14,14,14,14,12,4,4,11,11,14,4,3,14,8,2,14,4,1,11,11,14,14,4,1,14,11,4,12,5,5,1,10,5,1,5,4,11,2,2,10,4,1,14,6,1,3,10,12,7,3,14,11,5,14,14,4,10,14,11,14,10,8,5,5,10,14,5,10,11,14,1,5,14,4,1,14,4,10,9,4,14,2,1,12,4,10,14,8,14,12,8,5,14,1,14,8,5,2,5,12,10,10,14,1,5,14,11,5,10,14,1,11,12,5,4,4,5,5,14,1,11,14,1,12,14,4,14,4,14,1,10,4,10,8,4,10,9,4,10,14,12,11,11,4,14,4,3,8,14,1,11,13,14,11,14,4,11,8,1,4,10,2,11,1,4,10,14,4,11,5,12,14,5,3,14,5,14,4,5,4,14,14,8,12,4,10,8,14,14,14,4,9,5,1,1,1,14,3,4,14,8,5,14,1,11,8,10,9,5,14,14,4,4,14,4,1,1,1,2,5,11,6,4,6,14,4,14,14,12,4,5,5,11,4,9,14,14,4,14,5,12,1,12,8,12,11,14,5,11,7,4,10,7,4,14,4,2,14,8,5,5,8,2,9,10,2,5,10,11,2,14,4,14,14,10,1,5,4,12,10,14,6,14,2,5,4,9,4,10,1,12,5,14,10,11,8,4,4,5,5,1,10,8,1,10,5,12,10,8,11,6,14,10,6,14,10,14,12,4,4,11,14,5,2,11,5,4,8,12,14,1,3,14,4,11,14,7,1,5,4,14,8,12,4,10,14,4,3,4,2,14,5,10,4,9,5,3,1,1,2,14,5,5,11,11,5,10,14,8,5,11,4,8,4,10,8,10,1,11,1,5,1,2,1,4,11,8,11,4,11,14,10,5,14,14,10,4,14,14,1,11,4,4,5,9,1,14,12,11,5,14,12,10,4,5,14,4,11,10,1,14,8,14,14,5,7,4,11,1,6,10,14,14,14,14,14,10,12,10,8,1,8,12,14,5,14,14,5,9,7,3,10,1,11,8,11,10,4,14,14,4,1,4,1,4,5,5,10,11,5,1,4,11,7,14,10,1,10,1,14,13,11,11,14,14,9,4,1,4,12,4,13,4,14,11,5,12,2,3,12,4,5,14,1,1,14,5,3,4,5,12,8,1,8,14,4,14,4,12,3,4,1,5,14,4,5,9,1,11,11,10,10,10,5,14,14,5,4,4,10,5,11,4,1,10,4,4,14,12,3,5,4,12,10,10,14,11,14,14,5,14,1,5,1,4,14,5,14,4,4,1,11,1,7,5,4,8,12,10,5,5,14,1,11,14,10,5,5,4,12,4,4,10,9,7,14,14,11,14,11,4,4,11,1,13,5,4,5,4,4,2,10,10,14,9,5,10,1,11,3,2,4,11,12,10,2,11,4,6,3,1,8,11,10,5,10,3,4,1,14,11,14,14,13,9,10,4,14,3,3,10,5,4,1,4,5,5,4,14,14,5,4,5,1,1,14,5,14,1,7,5,1,11,11,14,5,4,14,4,1,14,4,11,11,4,14,1,10,4,12,9,2,3,3,14,14,1,1,7,14,3,3,14,12,14,14,5,1,14,14,8,5,14,10,14,14,14,11,4,1,5,11,14,14,14,14,2,14,4,14,14,11,10,14,4,5,10,14,5,11,4,9,4,2,5,1,14,1,5,6,11,14,3,5,1,8,5,6,1,11,14,11,10,12,14,4,10,8,14,10,4,4,14,14,10,4,11,1,4,10,4,10,8,5,4,14,11,4,4,4,13,1,1,8,8,14,4,11,10,7,10,1,14,10,6,5,3,10,10,14,4,14,4,11,11,4,7,10,4,4,14,4,8,14,1,5,13,12,3,7,5,14,8,2,11,4,1,4,14,5,1,10,10,10,3,1,3,5,14,12,4,10,14,1,14,4,9,1,5,11,1,4,5,5,5,5,5,7,14,7,8,10,10,6,14,4,2,8,12,4,14,4,3,4,8,14,12,4,1,10,4,4,1,14,4,12,5,8,14,11,14,11,5,1,5,2,13,1,14,14,5,5,5,14,4,10,4,8,4,3,1,1,5,14,14,4,8,14,5,1,8,4,4,12,5,4,14,4,10,1,14,1,4,1,5,3,14,12,8,1,3,11,6,5,2,14,11,8,5,2,4,14,14,8,1,14,1,11,12,1,10,10,5,10,10,4,5,14,14,5,14,5,4,1,2,14,3,13,4,7,11,14,14,11,14,14,1,3,1,12,10,3,14,11,5,4,10,1,9,10,1,14,4,10,1,1,11,4,5,5,11,1,4,1,14,4,12,14,7,12,5,3,1,5,4,1,14,2,3,1,4,1,12,5,4,2,4,4,5,2,10,5,10,9,14,5,14,14,14,5,8,11,4,14,9,7,10,1,14,14,8,4,12,13,10,11,14,14,13,4,4,14,6,4,14,5,14,9,14,1,12,5,2,11,4,10,11,5,3,14,4,14,14,4,14,5,1,10,11,1,10,14,8,9,14,2,4,14,1,5,1,10,14,4,10,10,12,3,14,5,14,11,10,6,4,14,14,10,5,4,13,11,4,12,14,12,10,13,4,14,5,11,14,8,11,3,12,11,8,1,1,5,11,2,10,10,7,4,14,5,14,1,4,5,10,10,14,11,14,10,12,4,14,5,14,7,5,12,14,4,10,8,11,8,5,10,11,2,10,14,1,4,1,2,1,12,4,4,4,12,11,12,14,4,14,14,1,4,4,1,12,8,8,1,1,10,4,7,14,14,14,14,8,4,3,5,4,14,1,11,2,10,9,8,1,11,5,8,10,14,4,4,14,14,14,5,9,11,5,1,1,1,14,14,1,4,4,4,14,10,1,14,3,1,4,4,14,6,14,10,3,4,14,14,14,10,14,10,6,5,14,1,5,5,14,7,1,4,1,10,14,10,4,4,10,4,4,14,10,4,14,14,11,10,5,8,10,14,10,1,2,4,12,14,5,10,3,11,14,4,1,11,5,11,14,12,4,11,14,1,3,14,11,14,12,3,14,11,6,11,11,14,13,4,2,14,8,4,4,1,14,14,3,4,5,14,11,3,14,4,1,2,6,1,10,5,1,11,10,8,2,14,2,12,12,1,4,1,14,14,14,3,4,8,8,7,13,4,14,10,4,4,8,10,10,14,4,11,12,1,14,2,10,11,14,11,10,14,11,4,12,3,10,10,14,11,5,4,1,3,5,4,4,6,4,4,10,8,12,4,10,3,1,1,14,5,6,10,5,4,12,11,14,14,4,1,2,5,10,5,5,4,12,1,14,8,10,11,3,14,4,14,11,14,14,2,14,3,1,5,11,11,4,10,5,6,10,14,5,14,5,4,3,14,14,9,11,14,14,11,6,12,11,14,5,10,8,14,14,3,4,1,3,1,14,14,10,14,10,13,4,14,14,1,3,14,1,4,10,5,14,3,2,10,6,14,3,4,8,1,11,12,11,1,4,14,5,4,11,14,1,4,3,5,8,14,14,4,14,1,11,8,10,10,1,1,14,2,4,4,10,14,4,1,10,4,8,11,3,14,10,14,14,14,5,4,14,11,14,1,5,2,1,11,14,10,4,11,4,4,5,14,10,1,10,4,4,14,11,1,11,9,14,14,1,1,6,4,14,1,14,13,13,3,4,4,14,12,5,14,14,1,5,7,14,13,10,5,11,4,10,12,4,11,11,5,14,12,2,10,7,14,11,14,3,11,5,1,5,12,1,5,14,14,12,11,4,14,5,11,10,10,14,4,14,14,10,10,5,1,12,9,14,14,10,5,14,14,5,1,4,1,14,11,8,5,3,1,11,5,5,5,12,14,10,12,5,8,14,10,8,14,4,5,10,5,5,5,1,4,8,1,14,1,12,14,11,4,11,14,1,14,10,4,10,5,14,4,10,14,1,1,14,10,14,2,14,14,14,5,10,5,1,4,4,6,14,14,8,10,2,14,8,3,9,2,14,11,14,3,11,10,4,14,1,1,11,2,12,14,1,11,8,12,14,5,14,5,2,2,5,8,5,8,12,4,10,3,14,4,1,10,5,3,5,3,1,1,1,5,4,4,10,7,4,1,5,4,1,4,12,10,11,11,4,14,14,8,4,14,8,1,1,10,11,1,1,8,2,7,4,14,14,3,1,5,11,2,14,14,5,8,1,14,11,1,4,4,5,4,10,14,8,14,9,10,5,11,6,14,4,4,9,1,1,10,9,4,10,5,4,4,1,4,4,9,2,14,14,14,1,4,14,3,5,10,1,5,14,11,14,14,14,11,1,10,14,4,14,11,13,11,4,14,3,1,11,4,3,14,7,10,1,3,10,2,4,14,4,10,5,14,4,3,4,5,4,10,11,12,2,8,14,11,1,1,1,14,2,11,1,5,1,14,11,4,5,9,5,14,10,14,4,12,14,10,14,12,1,7,11,7,4,8,11,1,5,10,5,1,3,10,12,1,4,1,1,14,14,14,10,11,12,5,14,14,14,2,10,14,4,1,2,4,10,14,11,1,8,1,14,14,4,5,11,14,7,14,14,14,10,1,11,1,14,4,14,4,5,14,14,14,14,14,1,4,9,2,10,10,5,14,4,1,11,12,2,3,9,5,10,3,10,8,14,3,1,14,4,10,14,11,5,3,10,14,10,12,4,4,14,14,10,1,14,4,1,1,10,12,5,12,5,5,12,8,1,10,4,11,4,4,14,5,8,3,11,14,4,8,3,12,10,1,13,3,4,1,10,1,3,11,10,10,11,10,1,14,6,4,11,1,5,4,14,2,14,10,14,7,11,14,14,14,1,14,10,11,4,8,9,10,4,14,10,5,8,1,10,14,4,5,11,14,3,14,12,1,6,5,10,4,14,2,10,5,4,3,14,6,14,5,9,6,8,6,14,1,1,12,11,14,9,14,12,3,1,10,8,12,14,11,1,12,4,9,4,14,11,1,4,5,1,10,8,1,11,10,14,5,1,14,10,14,5,11,11,3,13,8,11,7,14,14,4,1,10,14,4,14,11,7,14,4,14,1,4,11,14,5,3,14,14,10,8,2,14,14,10,3,1,11,8,14,5,5,11,2,14,14,1,8,1,14,1,2,3,1,2,14,10,6,5,4,1,14,11,7,5,5,3,5,4,11,14,14,14,4,14,14,2,11,4,1,9,14,7,5,10,1,14,14,10,1,14,10,1,4,1,14,5,12,10,1,12,4,11,11,9,14,9,5,9,9,10,11,14,10,14,7,4,5,10,10,4,14,12,10,8,2,4,10,3,1,10,14,14,8,10,11,14,14,11,8,14,8,11,10,5,5,4,5,14,10,1,6,11,12,1,1,5,10,12,12,5,2,3,4,5,10,14,4,14,12,14,4,4,3,8,14,4,11,11,5,14,11,14,2,1,2,11,13,1,11,14,14,8,1,7,5,1,4,10,1,14,7,5,5,5,4,14,14,7,4,14,4,14,1,12,1,1,13,3,1,14,1,5,8,12,1,11,14,14,11,14,8,14,11,11,12,6,4,12,2,9,14,5,9,1,4,1,14,4,5,1,5,3,3,1,1,1,6,14,14,9,14,5,1,12,11,11,14,10,14,4,12,5,14,3,4,3,9,14,14,10,2,1,14,12,12,1,4,4,5,14,14,10,4,3,5,10,14,10,10,1,1,14,11,14,5,10,6,9,11,10,14,14,14,7,11,2,4,4,14,4,3,10,5,11,8,14,4,4,5,1,10,6,10,5,1,1,10,1,12,4,1,10,2,12,6,1,11,10,1,7,14,14,6,4,11,5,12,8,6,7,10,4,14,10,4,4,4,14,14,14,3,7,14,1,2,1,4,14,5,4,1,2,1,2,14,10,4,2,5,4,11,14,14,11,3,4,14,9,11,7,6,4,9,11,4,4,10,10,4,14,1,14,1,12,5,4,10,9,14,13,12,10,4,11,4,2,10,11,5,1,1,14,11,6,8,2,1,14,4,4,14,3,9,1,12,10,14,14,10,5,3,1,8,14,14,1,5,1,10,1,14,14,8,1,4,2,11,14,1,11,1,1,1,9,13,5,12,14,5,1,5,4,14,14,14,1,1,7,1,14,12,14,10,1,12,5,3,4,14,11,9,4,14,9,4,5,11,10,3,14,1,5,14,11,14,14,10,3,10,14,14,1,14,14,10,6,5,10,12,14,14,4,2,10,14,12,14,8,11,1,3,1,4,5,8,1,14,3,14,5,12,10,3,14,2,10,5,9,8,2,3,3,2,14,14,14,4,11,14,10,14,1,4,1,3,4,1,11,10,3,14,14,11,4,5,14,14,11,14,4,5,14,11,4,1,12,14,8,11,5,3,12,10,8,14,1,1,14,11,14,1,3,5,4,11,13,1,7,1,11,10,1,1,14,1,4,14,11,11,12,4,5,4,10,5,5,14,13,9,13,11,14,3,8,10,7,8,14,1,11,10,11,8,3,11,3,11,5,5,1,14,14,10,5,14,4,10,10,11,12,5,11,4,12,5,4,4,10,4,10,3,5,11,2,1,9,4,1,2,10,14,3,1,4,8,1,11,1,1,4,1,14,11,14,11,14,14,14,3,14,14,4,10,14,4,10,1,14,14,2,4,4,14,10,11,4,2,14,8,12,11,14,1,11,14,4,14,10,14,5,14,14,5,5,5,9,8,9,10,14,4,14,3,12,14,5,14,5,14,11,10,4,6,8,14,4,14,10,14,4,14,8,14,4,14,11,14,10,4,11,11,10,14,11,14,14,1,5,5,5,11,11,4,12,8,2,14,10,2,5,3,8,14,10,12,14,11,11,10,1,4,12,1,11,14,10,14,2,8,14,11,1,4,14,14,14,11,1,5,10,8,4,14,12,14,9,4,3,1,14,11,5,7,4,12,10,11,14,14,3,14,8,10,12,4,11,14,14,5,1,14,11,1,4,10,5,14,12,6,1,5,4,1,6,8,10,12,7,6,14,10,14,1,14,14,5,12,14,14,1,11,5,9,14,10,8,11,8,4,1,4,10,14,14,8,10,8,12,4,4,14,10,10,10,3,10,7,11,4,12,8,10,4,1,3,14,12,4,5,11,2,11,12,10,5,4,5,14,1,4,14,1,13,6,1,14,12,5,4,5,1,1,1,6,2,10,12,14,10,5,2,1,4,8,4,8,14,14,1,14,5,14,11,14,1,10,5,12,4,1,1,8,5,1,4,14,4,11,1,10,4,14,11,12,4,11,10,4,14,10,8,11,14,9,10,14,4,14,3,11,10,10,14,7,4,10,10,10,14,4,9,12,14,4,11,1,4,1,14,3,4,14,5,10,4,14,3,3,14,14,14,1,2,11,6,11,13,1,3,6,14,4,12,1,14,11,10,2,10,12,5,4,14,14,6,3,11,14,14,4,4,3,14,4,11,14,14,14,10,5,14,6,4,6,4,7,14,12,14,1,10,11,11,4,5,6,4,14,5,14,5,5,8,14,14,10,14,14,12,14,10,5,8,3,4,4,11,4,5,14,14,1,14,14,10,5,14,3,14,4,14,3,10,11,14,1,5,14,14,14,6,1,8,10,12,8,9,1,9,13,8,5,14,14,4,14,4,10,7,11,14,5,11,14,14,5,10,7,14,1,14,2,5,11,14,14,10,6,14,5,4,14,5,14,1,5,10,4,1,1,4,1,9,5,6,10,7,4,14,14,14,1,4,4,8,14,11,4,14,1,8,7,2,3,2,4,14,4,1,1,3,1,14,5,14,11,5,10,14,5,2,1,4,1,4,14,2,10,2,14,12,13,5,4,12,4,4,1,3,11,13,2,8,11,14,14,1,14,10,4,14,11,4,10,14,10,8,10,1,4,14,14,1,4,4,1,9,10,4,14,13,2,11,14,2,1,2,11,8,6,4,14,5,11,14,14,14,4,14,7,14,3,14,8,6,10,14,3,3,4,1,6,11,11,5,10,4,10,5,14,4,11,10,4,11,14,14,4,10,12,10,1,1,14,4,1,14,9,4,12,1,11,2,10,10,11,10,11,1,10,11,4,12,4,7,10,10,6,1,14,4,11,12,1,14,5,14,14,6,1,4,14,8,4,1,4,4,7,10,4,10,4,10,11,4,5,4,11,14,5,14,1,14,11,12,13,4,14,14,3,11,3,2,7,5,2,5,14,8,10,8,5,14,10,12,14,2,1,1,10,14,5,4,2,7,8,3,4,12,4,4,11,14,14,4,14,11,10,11,1,14,5,12,5,4,3,14,12,5,14,1,6,14,2,7,11,5,5,14,3,1,3,8,11,10,1,10,6,14,4,2,8,6,4,1,4,4,11,5,12,1,4,12,3,11,1,14,4,4,8,5,1,1,14,10,12,4,5,14,3,14,5,3,14,10,4,12,4,1,8,14,5,4,8,14,14,7,4,10,5,10,6,7,1,3,1,2,10,6,10,10,14,10,14,1,9,10,12,4,4,5,1,4,5,3,14,14,4,14,1,7,5,6,11,2,8,11,14,8,10,7,5,14,5,11,4,11,4,12,14,1,14,12,11,4,1,12,4,5,14,4,14,4,14,5,12,11,14,14,14,14,4,10,14,1,14,10,5,4,7,3,4,1,4,14,8,8,8,14,11,5,1,3,5,4,3,8,10,12,2,8,11,1,14,5,1,7,10,5,11,14,5,12,8,4,8,1,10,14,10,2,10,4,11,3,4,1,10,4,4,1,13,4,5,14,4,14,1,11,1,11,4,8,14,5,1,4,8,10,4,14,14,10,11,14,2,11,10,12,1,11,14,14,4,14,10,1,14,10,4,4,11,5,5,10,4,14,4,4,3,1,14,10,1,14,5,2,5,1,1,1,10,12,4,14,3,4,14,14,1,10,14,1,4,5,14,14,10,4,14,4,4,14,14,14,8,14,5,13,11,2,10,10,4,4,11,10,11,5,4,10,10,8,1,4,3,4,5,12,11,9,11,14,4,5,2,4,14,8,5,13,1,11,1,8,5,11,11,1,5,4,14,1,1,4,2,7,5,1,1,14,14,13,14,4,10,14,11,14,4,1,14,11,13,10,6,11,1,9,1,2,12,3,11,6,14,3,9,3,11,14,5,8,11,5,14,1,4,8,4,11,9,10,4,1,5,14,14,11,4,10,4,5,10,11,4,11,12,14,4,9,8,4,10,5,12,14,1,14,11,8,11,14,8,5,4,14,10,10,14,4,14,3,10,14,14,10,14,8,3,10,14,13,14,8,5,8,1,14,11,8,5,14,4,8,14,2,1,4,9,14,13,14,3,12,13,5,11,4,8,1,2,14,12,5,4,4,4,12,1,10,7,14,1,3,14,11,14,4,1,1,3,4,14,14,1,8,14,11,6,8,5,5,14,14,3,5,9,10,2,4,5,14,6,6,10,12,10,5,1,11,9,3,8,4,14,14,4,8,10,8,14,14,5,10,2,2,11,2,14,14,5,4,10,14,14,11,1,14,5,7,1,8,1,14,3,14,14,10,8,1,14,5,1,2,10,14,5,14,14,14,14,11,1,1,10,4,11,1,9,4,12,10,11,4,14,10,1,11,11,3,3,5,12,11,14,14,14,4,13,14,10,4,4,4,12,4,14,4,3,1,14,8,11,7,1,4,8,7,7,6,14,6,11,1,4,1,10,8,1,5,14,1,10,1,5,10,4,4,2,1,14,14,4,8,8,14,4,1,8,4,4,10,2,8,14,4,10,3,4,11,10,4,4,5,5,11,8,12,1,8,14,1,1,12,2,1,4,14,5,11,14,5,14,6,5,8,14,14,12,4,1,8,14,14,11,7,3,8,14,2,14,1,12,4,3,2,11,10,10,14,4,14,11,14,4,14,14,4,12,3,14,1,14,14,5,5,7,14,2,3,14,8,1,6,14,14,14,10,1,12,6,4,5,1,14,11,12,14,11,14,9,14,10,9,3,5,4,11,14,4,9,2,8,1,5,12,1,10,12,2,14,12,1,1,14,10,11,4,10,8,2,14,2,8,4,2,2,8,12,4,4,5,14,1,14,8,14,4,3,2,14,11,8,7,5,1,14,2,4,14,5,1,1,14,1,14,14,6,3,1,6,1,8,1,4,9,8,4,4,8,4,10,4,5,14,11,5,14,14,5,14,14,14,14,8,11,1,8,14,12,1,10,14,10,10,14,4,14,11,10,14,4,10,11,1,4,1,11,4,14,1,1,3,4,14,1,10,1,12,4,1,5,10,1,13,1,11,10,2,10,10,14,14,2,14,12,1,4,2,5,8,4,11,14,5,12,7,5,8,3,4,14,14,10,8,12,8,5,14,1,8,8,11,1,4,2,5,4,14,4,1,7,11,11,11,14,4,5,1,14,1,4,14,14,14,11,4,10,14,4,1,2,3,2,12,11,5,8,10,10,2,11,1,3,14,3,5,12,4,14,8,5,8,11,5,10,10,11,14,1,5,4,14,5,1,10,5,4,10,14,4,11,14,4,4,14,1,5,11,10,2,14,10,11,14,4,13,2,4,12,1,14,10,1,14,10,10,12,5,3,5,8,4,12,4,14,14,14,14,1,14,10,4,14,14,8,10,14,5,14,9,1,5,5,11,5,14,4,1,1,8,11,14,2,10,11,4,14,1,3,14,9,4,5,1,4,8,5,11,14,4,12,5,11,10,4,10,1,8,14,11,14,10,12,14,11,3,14,11,5,5,14,10,1,4,5,10,8,14,11,14,7,12,11,14,5,14,8,12,9,5,2,4,1,12,9,14,10,14,1,13,13,14,1,11,4,4,11,14,14,11,1,3,6,4,10,10,14,4,2,1,11,1,11,11,5,14,5,14,11,14,5,11,14,1,14,13,14,8,5,8,11,4,3,11,4,4,10,11,11,14,10,14,2,3,11,4,11,14,4,6,14,1,5,11,14,6,1,8,8,1,10,4,1,4,5,5,1,1,9,5,5,14,14,5,3,1,11,4,4,10,4,1,10,9,14,1,2,1,5,4,9,14,11,3,14,14,4,1,14,11,5,10,4,6,4,10,5,6,13,3,1,14,6,5,14,14,1,3,4,14,4,4,14,12,14,12,14,4,4,10,14,14,14,12,4,14,11,4,14,4,12,4,4,14,5,3,6,1,10,4,14,1,8,4,1,14,4,4,4,4,12,10,5,1,11,8,1,14,4,14,1,4,10,4,5,14,4,1,2,4,4,10,14,5,12,14,14,14,8,11,10,4,7,4,4,14,14,4,14,1,5,14,1,5,1,8,14,14,4,4,10,2,4,5,14,10,14,1,14,14,2,4,14,4,11,11,10,14,1,1,4,3,9,8,1,14,12,14,1,10,4,5,10,4,5,1,5,14,14,4,1,4,11,4,5,5,4,4,5,1,14,8,11,12,14,1,10,14,11,5,4,1,9,11,11,1,1,3,12,10,14,5,4,7,4,5,10,8,14,5,4,5,1,10,4,4,1,11,3,10,5,14,14,10,5,4,4,14,4,12,5,5,3,14,4,5,1,5,5,3,4,11,12,4,8,4,14,10,7,1,9,4,3,4,14,11,13,10,12,9,11,4,8,4,4,10,4,1,5,5,4,4,8,1,14,1,4,10,4,11,1,14,11,13,10,9,6,6,10,5,14,14,10,5,9,10,5,9,5,10,4,14,5,2,14,10,10,4,1,12,9,11,3,1,4,8,11,14,11,4,10,9,8,14,12,11,11,14,8,1,8,14,12,8,10,4,14,13,1,12,5,5,8,14,14,1,5,9,11,5,5,14,13,8,5,11,11,11,7,14,11,7,10,14,5,4,11,10,10,14,10,11,5,4,14,4,4,14,8,14,12,4,5,10,14,5,11,12,14,8,14,3,1,5,3,3,5,8,1,10,14,9,10,11,14,1,14,11,14,14,3,1,7,5,12,12,14,4,5,14,14,1,10,4,14,6,14,14,5,14,1,12,4,4,3,4,1,1,4,9,14,14,5,14,10,13,4,14,14,1,10,4,1,11,1,5,10,7,14,10,11,11,14,4,14,1,11,4,10,11,10,14,2,3,4,5,5,5,14,11,14,14,3,14,11,9,4,3,14,14,5,14,13,14,11,14,4,11,10,8,10,14,11,10,3,4,1,4,11,12,11,10,14,14,12,14,4,9,14,11,4,5,14,4,8,8,14,8,9,8,10,14,11,11,4,4,4,14,4,11,11,8,1,5,14,1,4,4,14,11,11,12,14,10,14,14,4,3,4,3,9,3,8,4,14,5,12,14,4,3,14,13,14,11,14,13,9,5,14,4,13,4,5,4,11,6,10,4,10,4,3,10,1,13,14,5,7,5,10,1,14,3,14,7,14,5,1,14,5,7,14,14,14,1,14,10,4,1,7,14,5,11,5,1,4,14,14,14,14,10,9,1,14,7,4,11,3,8,14,2,2,1,12,2,10,4,1,10,14,1,13,8,11,1,5,1,3,1,4,11,10,11,7,11,14,5,8,4,10,14,11,2,10,4,5,4,11,5,4,4,10,5,14,14,10,14,14,11,14,14,13,14,14,10,1,1,3,1,11,1,11,12,14,10,4,8,1,14,14,1,14,5,5,11,2,5,14,1,5,3,3,1,1,11,1,10,12,11,10,5,5,1,1,1,3,10,3,1,5,5,14,5,14,4,14,1,1,11,1,4,4,5,14,3,4,14,10,5,12,11,4,4,3,1,14,14,5,14,5,11,14,7,4,1,12,4,11,13,14,7,1,10,5,5,4,5,12,8,14,10,11,14,4,14,10,10,1,9,14,6,5,11,1,10,1,11,14,4,4,1,3,1,6,10,1,10,5,4,14,4,8,5,1,14,2,5,1,4,7,4,14,10,5,5,4,11,14,4,5,5,11,1,10,1,14,14,5,9,5,8,8,14,8,1,1,4,5,14,3,14,1,1,12,5,1,1,14,5,1,14,5,6,4,4,5,14,4,14,12,4,1,14,11,14,4,14,5,14,14,12,4,5,5,12,4,4,5,14,11,1,10,5,6,4,2,4,1,3,14,10,4,8,4,11,8,11,5,4,14,5,14,11,14,10,14,10,14,4,10,8,1,7,4,10,8,11,1,4,3,3,1,9,10,1,14,1,10,10,1,5,14,5,14,14,11,1,2,4,1,1,12,5,10,7,2,3,14,5,5,4,3,10,11,14,4,14,14,11,6,10,9,11,8,11,10,5,4,1,14,14,5,4,4,10,9,4,14,9,14,3,10,4,14,14,3,1,3,8,1,5,14,3,1,3,11,1,8,10,1,5,4,8,5,4,1,11,11,11,8,14,11,4,4,5,5,11,4,8,8,8,3,8,10,14,11,11,14,4,11,1,3,6,12,9,14,14,9,4,14,14,1,1,14,10,3,9,10,1,10,10,1,11,14,11,10,14,4,1,5,14,4,1,4,1,14,14,2,2,14,5,7,5,11,11,4,8,8,3,10,11,10,12,6,14,1,3,3,14,14,7,14,10,5,5,14,14,4,14,4,4,10,2,1,5,4,8,5,14,12,10,14,10,6,7,1,4,4,4,10,1,5,10,3,10,6,1,11,4,10,1,14,1,1,1,14,14,3,14,1,5,6,8,14,5,4,14,1,14,14,3,6,5,6,1,1,10,12,14,3,1,5,14,4,14,14,14,4,1,12,7,4,8,11,1,10,12,12,2,5,4,11,1,14,1,11,11,14,10,11,5,4,10,10,14,14,8,7,1,3,1,12,12,1,14,1,14,4,10,1,10,3,14,5,8,5,1,11,10,11,5,5,10,1,8,8,14,11,11,5,6,12,14,4,4,4,2,10,10,7,14,1,14,12,9,8,4,10,5,4,5,14,5,12,14,8,4,10,7,5,4,4,14,14,5,5,3,12,6,14,14,5,8,10,5,14,1,14,11,1,1,10,8,3,11,14,11,3,11,1,1,2,9,2,1,3,12,11,5,4,5,11,1,4,5,8,11,4,9,11,6,9,1,14,2,14,1,14,4,4,4,10,4,4,14,14,14,14,5,10,3,12,12,11,3,10,14,4,11,12,8,5,4,8,2,1,14,5,14,14,4,5,1,11,4,11,11,3,14,14,10,9,5,11,5,14,8,1,11,11,8,4,5,14,14,5,4,1,11,8,4,14,12,10,11,11,10,14,8,8,3,3,13,4,14,1,10,4,8,10,14,5,5,12,3,10,14,4,14,4,10,5,11,11,14,5,11,10,4,14,2,12,10,14,14,1,1,7,11,10,4,6,10,10,3,8,4,8,12,2,14,14,11,8,14,8,5,4,10,4,11,8,14,8,14,10,11,5,11,14,5,14,5,4,14,5,12,5,5,8,14,4,14,8,6,14,8,10,1,14,11,1,12,10,7,10,5,3,11,14,5,14,4,11,3,1,5,4,8,14,1,11,14,12,6,4,4,1,9,14,3,5,14,5,4,14,11,5,10,14,5,10,2,4,3,4,3,11,1,11,10,10,1,10,4,1,14,14,3,8,5,14,5,1,12,1,6,14,12,9,11,1,11,5,14,10,8,1,5,4,3,10,1,14,11,9,5,10,8,10,14,10,4,4,4,14,14,12,5,10,14,4,14,10,4,4,12,4,14,4,4,4,14,5,8,14,11,10,4,14,3,11,14,1,14,4,8,5,14,14,11,3,4,14,4,14,4,10,2,12,1,14,5,7,2,5,5,1,4,10,12,3,5,10,11,11,10,13,10,3,11,5,8,11,14,5,2,14,9,14,10,4,5,14,11,11,5,4,8,1,1,1,1,4,4,1,1,4,14,9,5,3,14,9,4,5,1,14,5,4,1,4,4,3,11,4,2,11,4,11,14,11,14,14,10,7,2,8,8,8,4,3,9,5,4,8,5,3,4,10,4,1,4,4,1,14,14,4,12,1,11,4,14,4,11,9,4,10,1,1,14,1,14,14,14,5,4,1,14,14,3,14,4,4,1,6,11,10,12,1,1,14,5,14,4,10,13,1,10,1,4,13,14,3,2,14,14,3,9,4,2,12,11,1,4,13,9,4,10,11,4,14,1,4,1,12,10,14,4,1,12,14,14,4,14,11,5,12,6,9,14,9,10,14,4,14,14,14,4,5,4,4,4,10,12,11,5,8,13,10,10,5,7,14,5,14,8,12,14,11,2,1,5,2,10,3,10,14,11,4,11,9,14,14,14,1,10,5,4,5,5,11,11,4,11,2,14,5,14,4,8,10,9,8,5,6,12,14,10,1,5,5,10,14,1,1,14,1,4,4,11,1,7,4,10,14,1,1,4,4,14,3,1,1,3,4,9,5,5,11,12,11,14,14,5,3,5,10,14,14,14,10,10,3,14,6,4,10,4,5,2,10,2,4,10,10,10,11,10,14,10,4,10,2,12,11,10,11,14,1,1,5,14,1,10,8,5,3,4,9,1,2,4,10,13,14,4,4,4,1,14,2,1,8,1,5,11,4,2,6,4,5,10,10,4,4,3,14,4,4,4,8,3,2,8,5,14,1,1,3,4,14,3,4,10,14,14,8,7,1,4,4,11,5,1,5,10,4,11,4,14,1,7,4,1,1,8,6,4,8,12,9,5,8,7,14,11,1,9,2,3,5,5,4,9,5,12,11,1,1,4,4,4,1,1,8,4,4,3,4,4,14,14,10,11,11,10,5,2,3,4,5,14,5,7,5,7,10,10,4,5,14,1,11,14,11,1,4,6,8,5,3,14,4,5,14,9,1,14,4,14,5,14,4,1,5,14,2,11,14,14,5,14,11,14,14,2,14,10,8,5,1,14,5,4,14,12,5,14,10,6,14,5,14,11,8,10,4,12,8,5,7,4,2,5,2,12,4,2,9,3,4,5,1,5,4,10,11,14,14,10,14,11,1,14,14,5,14,4,2,5,10,11,5,5,3,14,11,9,12,11,13,1,10,8,4,10,10,14,14,7,14,1,14,12,4,1,3,14,14,6,12,5,1,1,10,8,10,4,3,4,12,1,14,14,5,9,14,12,4,4,14,10,14,1,8,10,4,4,11,4,5,8,1,2,7,5,7,6,4,5,2,5,14,1,1,3,12,8,4,10,4,1,4,11,14,4,1,11,4,1,14,12,14,5,1,11,14,5,10,3,5,12,2,1,1,10,14,12,1,8,4,10,4,4,14,12,14,3,7,4,4,4,1,4,4,14,14,14,10,10,8,1,5,14,2,5,8,1,1,11,1,14,7,10,11,3,2,5,5,10,14,14,14,5,14,14,14,13,11,14,10,14,8,8,14,2,5,8,7,9,8,14,4,10,11,14,14,9,14,5,14,5,5,10,14,14,5,10,14,6,10,8,14,4,4,14,8,4,4,4,4,9,7,1,5,5,5,14,3,10,4,4,4,10,11,4,3,10,1,8,14,14,10,10,9,1,14,1,11,1,14,1,5,11,14,10,10,4,6,5,5,4,14,1,5,12,14,8,5,5,7,2,5,9,4,14,10,14,5,14,14,14,5,11,1,5,14,4,5,8,1,14,8,5,11,14,4,14,3,4,10,4,9,14,5,14,1,2,12,1,14,4,10,4,14,1,12,3,5,14,14,14,1,7,10,10,4,14,13,5,1,10,1,1,10,5,1,5,10,11,10,2,12,10,1,13,14,10,11,4,3,14,4,5,14,10,8,14,14,14,1,14,11,14,11,14,5,5,1,14,4,14,1,4,14,3,1,11,3,11,2,5,4,11,3,11,11,2,1,14,14,14,5,14,14,8,7,9,4,14,5,2,10,14,14,14,8,10,3,8,14,11,4,3,1,14,1,5,4,1,1,14,14,10,3,12,1,9,6,11,8,7,14,14,8,5,14,14,10,9,14,2,10,8,14,10,14,11,2,11,5,4,4,1,14,8,11,10,11,14,1,4,11,3,4,1,6,10,10,4,1,5,10,7,1,12,11,10,4,10,5,4,6,10,4,1,8,12,5,1,11,14,6,10,14,10,10,5,4,5,4,3,5,5,1,10,1,14,8,3,14,8,6,12,5,14,10,5,10,11,11,14,9,1,11,14,9,11,12,4,14,1,5,14,12,10,12,1,2,9,5,12,14,1,5,14,14,5,8,4,14,8,14,11,11,13,5,4,14,4,11,4,13,14,5,14,4,14,11,5,5,9,3,14,1,4,2,2,10,3,5,6,14,13,14,12,14,10,8,8,10,10,7,4,14,10,11,14,11,11,8,4,4,12,12,14,14,14,11,14,1,1,11,14,1,14,12,1,10,13,6,5,14,14,3,11,10,14,10,5,1,14,4,10,3,1,11,10,2,3,10,14,14,5,4,14,1,3,12,14,1,1,14,4,8,5,10,4,5,14,10,5,5,14,7,3,11,9,3,14,4,14,1,14,2,10,5,14,11,1,14,4,4,14,4,14,8,11,11,14,11,14,13,5,3,4,8,1,14,1,4,1,11,14,1,14,10,14,12,10,14,14,10,14,7,10,13,14,2,11,8,4,14,10,2,5,3,4,10,14,11,4,4,12,14,5,14,2,11,10,11,4,5,1,1,2,4,1,14,10,10,1,12,10,14,1,10,1,14,2,4,4,1,4,4,4,11,4,12,11,1,4,2,1,12,5,14,12,14,2,10,7,14,14,1,14,7,11,4,9,4,5,1,1,5,4,4,14,4,5,14,11,2,11,4,3,5,3,14,14,4,4,14,14,2,1,1,14,5,10,1,5,4,11,5,3,14,2,5,1,5,4,1,4,10,13,14,6,5,8,4,3,4,3,4,11,1,14,11,6,11,4,14,12,12,5,5,8,4,14,1,14,2,10,1,11,5,9,5,8,11,14,10,4,2,4,11,4,3,4,10,14,4,14,5,14,2,4,14,14,6,14,5,5,5,7,14,3,4,11,14,8,4,8,12,14,11,10,14,5,10,3,10,4,10,11,10,2,10,14,1,14,13,14,1,14,3,12,5,12,4,10,10,6,4,5,10,11,4,14,11,14,14,5,3,12,1,10,14,14,12,1,4,8,5,5,5,14,14,10,14,1,1,5,10,5,3,2,4,1,2,14,13,14,5,1,10,11,1,11,5,4,8,5,1,5,4,11,10,1,8,10,1,11,14,12,12,5,8,5,8,4,10,14,3,1,4,10,1,4,2,4,1,5,10,8,1,11,4,4,12,10,5,3,11,10,5,14,1,14,3,14,11,10,14,1,11,3,4,14,14,4,5,8,14,11,10,14,10,12,4,1,1,1,5,14,14,4,4,14,12,4,1,10,10,11,4,8,1,11,10,14,10,4,14,1,6,5,2,10,10,12,11,10,14,2,10,1,1,6,12,6,4,9,10,14,2,12,11,9,1,11,4,10,1,2,10,10,10,5,5,14,3,5,14,14,5,3,9,14,5,5,11,11,10,4,1,14,4,12,14,5,4,12,4,12,12,1,5,14,1,5,7,1,8,8,1,4,14,1,14,3,1,10,4,9,10,4,5,4,14,11,9,14,1,11,4,12,14,4,14,3,14,14,10,12,14,14,1,7,10,14,10,6,4,9,4,12,2,11,9,1,2,14,11,2,4,4,11,11,11,1,11,10,5,12,4,1,14,14,14,10,5,8,11,2,14,2,12,14,3,1,8,11,10,2,10,14,4,1,14,10,5,1,10,3,10,1,14,4,9,5,5,1,13,2,1,4,11,14,14,3,4,11,5,14,3,4,14,14,4,4,5,1,14,8,8,4,11,10,1,4,14,10,4,10,4,4,10,10,9,5,4,5,14,1,5,9,10,3,10,3,2,4,10,7,8,5,14,3,14,5,4,5,1,11,11,8,14,12,10,10,14,7,14,10,4,4,11,5,4,4,14,5,14,14,11,11,2,10,3,3,10,10,4,14,11,4,4,10,8,14,1,2,8,3,1,10,14,14,4,1,10,1,14,11,10,14,5,14,11,9,14,5,4,14,11,4,5,14,14,4,1,11,5,4,5,4,11,4,4,11,5,11,3,5,4,3,14,10,14,1,14,14,14,4,4,14,11,4,2,4,8,5,8,14,4,11,12,14,3,4,1,5,4,4,4,5,14,5,9,10,5,1,14,3,4,1,10,3,10,4,5,7,10,8,4,9,1,14,14,14,11,5,1,14,5,1,1,11,14,11,11,4,14,4,10,11,3,8,10,5,10,11,4,4,11,5,5,2,1,10,14,12,8,1,10,1,14,8,8,4,1,1,3,14,1,13,14,11,5,4,12,10,3,14,5,14,14,12,14,11,14,4,3,14,2,10,3,14,14,6,4,7,4,4,8,14,1,8,14,14,1,4,5,11,4,14,12,12,12,14,8,7,4,14,1,4,8,1,14,1,7,11,1,6,4,11,1,1,5,3,4,2,14,4,14,1,1,4,9,1,5,10,14,8,14,5,10,14,4,14,11,14,14,14,14,1,13,11,14,8,5,10,14,14,8,10,2,3,5,4,5,4,5,5,9,8,14,1,2,8,10,5,4,4,11,11,4,8,1,14,10,10,5,1,4,14,6,4,14,14,5,4,10,1,8,14,5,10,11,4,1,11,14,6,8,3,5,4,14,4,5,8,1,1,14,14,14,9,2,4,14,3,4,14,11,1,1,5,12,14,2,10,1,12,1,4,5,10,10,5,5,11,11,14,4,10,4,11,8,5,10,5,10,11,11,4,14,4,11,14,11,8,12,9,1,14,3,5,8,4,1,11,10,14,14,4,12,1,4,14,14,11,8,6,1,4,2,11,3,4,6,5,9,14,10,14,11,1,10,1,1,4,14,14,4,4,10,14,8,14,5,1,12,10,5,5,5,1,4,14,1,10,5,4,14,5,1,14,14,1,14,10,14,6,4,14,1,14,1,5,1,10,3,14,12,12,14,11,4,4,10,3,10,1,4,1,14,8,1,11,4,4,10,5,4,14,4,14,4,11,1,5,4,4,1,2,4,5,4,1,4,11,9,14,11,10,4,1,11,12,5,14,6,4,1,14,2,9,4,4,4,14,10,9,14,12,3,4,10,5,1,10,2,14,8,11,8,14,4,14,6,5,1,14,8,14,8,7,1,14,1,1,11,7,10,10,3,1,4,14,8,9,3,14,11,5,5,14,14,11,8,10,4,4,2,5,4,5,5,4,12,8,14,4,4,14,14,10,4,2,14,14,11,4,10,5,12,14,6,4,5,1,12,4,14,10,14,4,14,1,2,14,10,14,11,5,4,8,12,1,12,14,12,3,4,9,1,1,14,14,7,1,2,3,4,5,3,4,14,10,14,12,1,11,4,3,12,5,1,8,9,1,4,8,1,1,1,9,11,9,14,8,3,6,7,1,4,5,9,2,14,4,12,5,1,9,4,14,10,11,14,1,4,14,11,12,10,3,9,9,13,3,4,8,10,10,4,14,14,12,14,5,10,6,2,10,3,8,4,1,14,14,14,11,3,5,14,14,5,10,11,1,5,1,5,4,14,12,11,3,4,1,1,13,1,4,3,10,7,14,4,12,2,5,14,11,3,4,14,4,4,5,14,10,1,4,14,9,11,5,4,5,1,11,14,1,8,1,2,8,1,12,1,14,4,4,11,1,8,14,11,12,4,4,10,1,14,10,5,10,1,4,2,10,10,14,10,11,10,4,14,14,10,4,5,1,1,3,1,14,14,14,11,11,4,1,14,2,8,11,5,8,9,12,9,14,14,11,5,9,5,4,2,1,1,14,11,4,14,12,1,5,14,2,4,11,13,11,4,6,2,4,5,5,5,10,1,1,1,5,5,5,11,5,14,8,1,4,14,14,1,7,11,14,1,2,1,11,10,5,5,4,4,10,4,2,8,10,4,7,1,14,14,14,4,10,11,4,1,5,12,10,3,4,14,11,4,5,14,5,10,5,11,4,4,4,11,14,12,11,1,3,11,10,4,9,14,14,1,14,1,4,14,10,8,1,10,5,5,4,11,5,14,7,4,5,7,1,14,10,1,14,5,4,12,10,14,5,14,6,5,11,11,5,10,4,5,10,4,4,3,4,10,11,1,14,14,11,11,14,14,1,11,4,5,4,14,12,14,4,4,2,8,10,5,3,5,10,9,10,14,8,6,4,1,4,10,1,1,14,1,10,5,1,5,14,4,1,1,10,14,5,4,5,4,10,5,1,5,5,14,14,12,1,14,14,4,14,8,3,1,3,14,3,8,5,14,5,12,1,5,14,4,14,4,14,4,8,14,8,9,5,2,4,4,4,4,10,14,3,14,11,14,7,6,6,14,10,4,4,14,9,14,8,13,12,5,14,7,8,1,10,1,2,14,14,5,1,3,9,14,5,14,3,11,13,14,14,4,1,1,1,5,4,1,9,5,14,6,11,10,5,5,5,14,14,2,9,14,11,1,4,4,5,12,3,2,10,13,10,14,4,1,5,8,11,5,14,4,14,5,3,11,5,6,7,8,6,1,8,10,14,5,5,4,8,1,10,11,4,4,10,14,1,5,5,14,4,14,5,5,14,10,4,14,10,5,9,3,13,1,4,11,1,9,1,14,14,4,1,11,12,4,4,11,5,1,4,4,14,4,3,11,4,5,12,10,14,9,14,14,3,11,13,1,14,10,4,13,14,1,5,10,11,14,1,2,14,12,7,4,10,1,8,8,8,1,5,4,4,9,9,14,11,4,5,1,1,14,3,14,8,14,14,1,4,5,11,10,5,2,14,1,4,14,14,8,14,14,14,6,10,4,12,5,14,10,1,12,10,14,3,14,14,8,14,11,9,10,3,1,3,11,5,11,10,2,10,14,14,4,3,14,14,1,4,1,4,5,8,11,4,11,12,4,8,4,2,14,3,4,1,12,14,9,2,14,14,14,11,10,8,4,12,5,6,10,3,13,5,1,14,1,4,12,14,14,1,14,4,4,8,14,14,14,10,4,4,5,1,4,4,4,4,4,11,7,5,1,11,14,14,5,11,2,9,10,14,14,1,4,10,5,4,14,1,12,8,7,4,5,5,4,10,14,11,4,12,14,14,1,8,14,10,10,4,14,5,11,5,12,5,5,2,14,14,5,6,6,14,13,1,1,14,2,4,14,11,13,11,4,11,14,1,1,14,5,14,5,1,11,11,4,9,1,2,3,11,1,12,4,12,4,10,1,6,14,1,10,4,5,10,11,14,14,10,14,14,4,5,8,7,14,10,1,2,5,5,8,4,10,14,14,14,10,11,3,9,5,2,12,2,14,14,8,4,3,14,14,8,4,2,5,14,5,4,4,12,4,1,14,3,1,4,4,10,4,6,12,1,8,1,3,7,10,8,4,14,14,11,14,4,4,4,14,12,4,14,5,3,4,8,10,3,6,10,8,11,4,14,10,11,10,9,4,1,10,10,7,5,10,14,4,3,2,5,14,14,14,5,11,14,7,4,4,1,1,11,13,11,14,10,11,11,4,14,14,4,7,3,11,12,10,14,14,6,4,5,4,13,5,7,14,1,4,9,11,5,14,1,14,14,11,10,5,3,10,4,7,14,12,14,8,5,1,4,11,14,2,1,4,1,14,14,1,14,4,14,3,4,6,4,11,1,1,10,8,13,14,14,10,5,1,14,5,8,14,14,10,9,14,14,14,14,11,1,14,10,7,10,1,8,1,10,4,4,14,4,10,2,11,14,8,4,12,14,14,1,11,4,1,3,10,14,14,4,14,14,4,8,14,10,11,3,13,2,4,1,1,3,1,2,4,11,14,14,10,11,14,5,10,4,14,8,14,11,1,5,8,14,14,4,4,5,5,9,5,14,14,12,14,11,5,14,14,7,11,4,14,10,13,10,1,1,4,10,4,3,11,14,10,1,10,4,14,11,3,10,8,4,10,4,11,3,14,8,4,8,10,4,4,14,11,10,4,5,14,8,1,8,4,5,4,7,12,5,11,8,5,14,14,12,5,5,1,13,10,10,10,5,11,11,5,10,10,4,1,14,4,4,3,14,14,3,12,10,5,14,14,5,14,10,4,14,14,4,5,11,11,10,8,1,10,4,14,8,8,1,14,10,14,11,13,4,2,14,4,3,11,11,4,4,1,10,1,14,4,4,10,14,14,14,4,11,5,14,14,14,5,11,12,4,1,14,1,1,10,8,14,4,12,1,4,11,14,14,5,4,13,14,11,1,10,3,1,5,10,1,4,4,4,8,13,10,2,5,1,1,3,13,4,9,2,4,1,4,11,14,1,10,14,1,4,8,4,4,14,12,14,10,4,1,6,10,4,1,14,11,4,1,10,2,14,3,10,10,14,11,14,3,4,1,10,8,5,1,14,14,14,11,3,11,1,5,12,6,14,4,11,1,11,12,10,12,4,10,14,4,8,1,10,8,8,11,5,8,14,14,8,3,1,11,14,14,12,5,1,8,1,1,4,12,3,14,4,10,14,4,8,4,9,1,1,11,14,14,14,5,12,14,1,5,4,2,4,7,5,8,5,14,7,5,14,10,14,1,14,5,4,14,1,8,4,3,14,1,10,4,14,14,4,1,1,4,11,11,5,10,14,4,14,5,10,1,14,4,14,8,1,1,14,11,10,11,3,1,3,4,1,5,14,4,8,1,2,14,14,13,4,13,10,8,2,4,14,3,4,10,10,10,1,10,14,2,10,11,4,5,6,14,5,12,4,3,4,1,14,11,2,4,4,14,5,7,4,10,5,10,14,14,14,14,10,4,1,12,14,6,11,1,5,8,3,4,12,4,2,6,10,5,10,14,14,14,9,14,6,11,6,3,11,4,14,10,1,1,14,14,10,7,1,14,12,4,14,4,14,11,4,14,14,4,11,11,12,14,11,4,11,1,10,1,2,1,8,1,1,14,2,5,11,4,1,4,12,4,11,3,9,14,1,8,4,14,8,11,5,14,1,5,7,10,12,11,1,14,5,3,10,1,4,7,4,8,6,7,6,5,12,14,1,2,3,11,1,1,4,2,14,7,13,8,14,14,4,12,5,11,4,12,4,3,10,3,8,4,14,14,5,10,12,5,4,4,4,1,10,10,10,5,12,11,14,3,14,4,10,10,4,1,5,10,14,10,4,12,11,11,14,11,2,14,3,14,2,11,14,1,14,1,14,5,7,11,14,10,5,10,1,3,1,14,5,4,10,14,8,14,4,11,8,11,11,12,14,3,5,5,14,12,1,14,4,14,1,14,14,5,4,5,4,1,11,1,2,4,10,10,14,10,5,14,11,4,4,10,1,1,14,11,14,14,11,4,11,10,3,14,14,12,4,14,1,14,10,11,10,14,10,1,11,14,10,14,5,4,5,4,12,4,11,1,3,5,10,11,1,10,11,1,4,10,4,11,14,14,5,10,5,7,11,4,11,5,14,4,5,11,4,14,3,10,10,14,4,11,14,3,10,12,13,11,14,13,4,14,14,4,1,6,4,10,14,14,14,9,5,1,5,10,14,4,1,4,3,14,1,3,5,12,7,1,14,1,3,5,14,10,11,8,8,1,8,14,9,4,11,11,11,11,14,9,4,1,10,3,1,6,10,4,5,14,3,14,11,8,1,14,14,5,5,5,14,14,4,14,9,3,10,14,4,1,8,14,13,11,11,14,14,14,4,8,3,14,2,14,11,1,3,1,10,4,14,2,14,5,1,14,5,1,14,14,1,4,6,3,8,14,14,3,4,3,4,12,14,10,14,11,4,14,3,14,1,14,10,4,11,2,9,1,14,14,2,11,14,5,1,14,11,1,4,14,14,14,1,1,8,4,10,4,4,2,12,14,7,14,4,11,14,14,14,13,14,10,11,3,12,4,5,1,5,14,5,4,5,14,14,14,8,1,8,1,5,11,14,10,3,8,11,14,3,3,12,14,14,3,5,9,4,1,8,4,14,1,2,3,11,11,11,4,5,10,8,11,10,10,3,3,5,1,5,1,8,4,11,5,14,10,1,9,5,5,1,4,14,5,13,1,4,1,4,4,14,5,10,11,9,1,12,14,14,3,11,14,14,10,1,11,4,1,14,5,10,11,2,10,1,9,14,3,8,3,14,4,1,12,14,3,4,2,14,10,10,4,1,11,4,4,14,14,5,9,11,1,7,5,5,14,14,10,10,14,14,7,1,5,4,1,1,4,4,14,1,10,1,14,10,4,14,12,9,11,14,1,1,11,3,1,14,4,11,14,1,1,11,14,1,4,8,3,10,1,14,14,1,2,14,10,10,9,11,1,11,10,4,8,14,4,11,5,4,8,1,4,1,5,10,10,11,10,1,14,11,1,5,14,10,14,14,4,11,14,14,14,4,11,10,12,2,7,3,11,1,12,12,7,1,5,7,11,8,3,10,8,12,12,5,4,14,8,4,14,3,11,14,14,11,8,14,8,10,4,14,14,6,8,14,14,10,8,1,14,4,14,2,14,14,14,14,14,4,14,8,5,5,5,4,10,10,12,11,12,8,1,10,14,14,6,1,8,4,1,4,5,10,4,14,14,10,12,14,5,14,10,1,4,1,10,1,2,4,14,14,4,8,11,10,1,4,5,4,14,1,5,14,14,4,10,1,12,4,10,8,14,8,14,12,4,4,1,14,4,10,4,14,1,14,5,4,11,10,8,4,9,5,5,2,5,12,4,9,1,14,1,14,14,4,8,4,14,14,1,4,4,1,1,4,4,14,14,11,10,10,11,14,4,14,11,14,5,4,4,1,4,4,14,9,8,5,1,14,4,5,14,3,4,2,10,14,4,1,12,1,14,5,14,14,14,11,11,14,4,11,5,4,10,5,14,14,14,3,5,11,4,1,4,4,4,14,10,12,10,14,14,11,5,14,14,12,4,2,14,5,4,1,5,5,1,10,4,14,5,1,2,14,8,2,1,1,4,10,2,1,6,14,10,1,14,14,1,4,3,11,10,12,10,10,9,11,14,10,11,14,1,1,12,5,1,4,14,5,1,10,11,2,14,4,14,11,6,5,12,1,4,14,8,14,5,12,4,4,8,5,14,4,5,5,14,4,5,1,10,8,14,5,11,14,6,14,3,8,9,14,14,11,13,10,4,14,3,4,4,12,14,4,5,10,10,14,14,11,4,12,4,12,14,5,13,9,6,14,11,10,9,14,10,10,10,5,14,10,4,14,5,14,10,1,3,12,10,11,14,14,10,4,14,1,6,14,1,14,10,5,7,1,1,4,14,8,14,1,5,5,13,4,1,10,11,4,13,5,14,11,11,8,7,4,4,14,4,5,4,14,14,14,7,14,4,11,14,7,1,14,14,5,8,4,14,3,14,8,14,3,11,14,14,4,5,1,8,5,14,8,4,10,14,10,1,14,7,11,1,14,5,4,3,14,12,11,9,14,7,12,10,4,4,14,14,12,5,4,14,14,14,14,10,1,8,11,14,14,2,4,1,10,14,4,10,14,1,6,14,14,4,1,1,14,10,11,14,14,4,14,14,4,4,5,4,10,5,3,1,8,4,11,14,14,1,8,2,1,11,4,4,14,14,10,2,9,11,8,8,11,5,10,1,1,6,1,4,4,14,10,4,8,8,1,14,8,2,11,10,11,1,8,7,14,5,11,1,5,5,1,5,9,1,4,11,8,14,14,4,1,8,10,14,3,11,4,5,4,5,14,4,10,6,4,8,11,1,5,14,5,7,1,14,3,12,4,4,8,11,8,14,10,12,8,14,10,10,11,8,10,10,5,5,8,4,9,1,10,9,14,3,4,14,1,4,14,4,1,14,11,10,14,1,14,14,14,13,4,10,2,7,3,2,4,9,14,10,9,14,10,4,1,14,4,10,10,1,4,8,5,1,4,10,14,14,10,5,14,4,4,3,5,14,8,8,4,14,1,8,14,4,3,10,3,14,8,11,12,11,1,13,1,5,14,14,4,1,10,12,12,8,12,14,12,14,3,9,11,1,4,1,7,5,5,14,13,2,4,4,8,1,14,6,3,10,4,5,11,13,11,10,4,11,10,5,10,11,3,4,14,3,14,10,11,5,4,12,14,9,5,11,4,5,14,11,10,1,5,11,12,13,3,1,8,12,14,5,4,8,14,1,4,8,2,8,4,2,12,14,14,5,4,9,1,5,5,5,11,14,14,10,5,4,11,14,5,11,10,13,10,4,4,4,14,9,10,4,14,14,5,14,12,1,14,14,14,4,8,1,12,11,11,5,11,1,4,4,11,9,10,3,14,1,4,8,8,14,5,5,5,7,3,11,11,3,4,9,14,4,1,13,10,14,5,10,10,9,11,14,8,4,14,1,10,9,14,14,14,14,7,13,11,13,4,3,11,14,4,6,7,11,14,14,12,1,4,14,5,13,11,1,2,2,4,4,11,1,11,1,4,10,11,12,10,11,14,11,3,5,11,12,3,14,1,14,4,2,8,4,11,14,14,3,14,5,11,1,10,14,4,4,1,14,5,2,3,11,14,5,12,14,13,14,10,11,2,4,6,2,6,4,14,4,12,12,3,14,11,8,10,4,14,9,10,2,11,1,3,9,5,7,11,4,14,10,1,14,11,14,11,14,14,11,14,10,5,1,10,5,4,10,5,4,14,14,3,14,8,5,14,11,14,14,5,5,5,1,11,5,10,14,10,7,3,14,4,14,6,9,12,1,10,14,14,1,4,14,10,1,14,1,9,1,5,14,2,1,14,11,4,11,12,14,14,4,14,14,1,11,10,14,1,5,2,1,8,5,14,14,11,1,5,12,8,4,14,10,11,14,3,12,5,4,5,5,14,14,5,7,1,7,4,1,12,1,9,14,4,1,1,12,14,14,1,8,1,1,4,14,1,10,5,1,5,3,1,4,1,10,5,1,1,8,14,1,5,8,13,14,1,3,11,10,3,10,1,4,14,11,14,3,5,4,4,8,4,10,1,1,3,5,4,14,4,2,10,1,11,14,5,1,9,1,14,1,4,14,14,5,5,4,14,1,4,1,11,5,4,10,5,12,10,10,10,11,14,5,8,1,1,10,14,1,5,5,4,11,8,4,1,8,14,13,10,4,4,14,1,14,1,8,1,8,4,4,11,14,14,1,3,4,1,14,12,8,5,10,14,12,14,14,9,4,12,10,12,12,12,10,4,7,1,11,14,10,14,14,11,11,11,3,11,5,8,14,3,4,11,4,1,8,8,11,1,10,14,2,14,4,11,13,1,14,10,5,14,14,10,1,4,4,11,12,1,14,1,11,14,14,10,8,1,8,14,14,4,14,14,2,4,8,4,8,7,4,1,5,5,14,12,4,14,5,5,5,14,1,14,4,3,11,14,1,11,5,14,12,5,14,14,1,5,11,14,10,5,12,12,8,10,4,14,14,4,1,5,14,3,11,4,14,4,14,3,6,5,5,10,5,14,10,4,3,2,10,14,14,12,11,1,1,4,12,4,14,14,5,8,10,12,9,14,6,1,3,8,8,4,4,12,8,14,5,8,1,9,11,8,8,14,4,5,5,14,10,4,10,12,1,14,1,14,13,14,11,5,4,2,1,14,14,5,12,2,14,8,9,4,3,10,14,14,1,14,11,10,5,5,4,6,5,14,4,11,14,8,5,14,10,1,1,14,1,11,10,5,3,14,14,4,9,5,14,1,1,4,1,3,1,1,12,14,8,5,5,4,7,1,3,4,8,11,2,14,1,4,5,4,9,8,5,14,12,7,14,5,6,1,5,14,5,4,4,8,8,13,10,14,11,7,11,14,11,10,14,11,5,4,2,2,9,5,7,11,8,14,9,4,5,11,4,3,9,2,9,11,11,14,1,3,14,1,10,12,11,4,6,12,4,1,4,5,14,4,1,6,11,1,1,14,3,4,4,10,14,8,3,5,3,10,1,8,11,5,14,10,14,11,4,4,6,14,4,1,5,1,8,14,14,14,9,12,3,1,14,8,9,13,11,8,1,5,2,14,6,3,4,14,1,14,14,4,14,11,4,4,8,1,4,11,1,4,5,4,5,14,5,3,1,10,4,4,11,4,9,14,14,5,6,4,5,11,1,5,4,4,5,2,14,4,11,13,1,9,5,8,10,1,14,10,5,9,14,1,10,4,13,11,8,10,5,11,1,4,6,9,11,4,6,5,4,11,14,1,14,13,5,1,10,4,8,4,14,1,4,1,4,5,10,14,12,10,5,14,11,14,2,4,12,1,8,8,8,12,14,2,2,14,8,6,1,1,14,11,6,4,10,8,14,11,14,6,4,4,5,11,3,5,8,8,5,8,3,14,4,11,8,3,4,3,3,14,11,1,5,6,13,10,5,3,14,2,10,6,2,4,11,7,1,11,5,14,4,11,10,4,4,5,12,14,1,12,1,6,4,4,5,11,1,4,5,5,11,5,11,10,1,14,14,10,14,14,6,4,4,4,12,14,4,1,3,1,2,5,4,14,14,4,1,14,12,14,1,1,2,8,10,10,11,14,14,14,10,12,3,1,5,5,11,1,14,4,4,11,14,4,10,5,12,14,14,5,9,11,4,11,10,9,4,4,12,11,14,4,12,3,14,10,1,1,14,4,1,14,5,7,11,1,4,14,14,3,1,3,2,14,10,8,1,11,4,5,11,10,14,4,11,8,4,11,8,1,8,14,4,1,3,4,6,10,1,14,5,5,5,10,1,5,8,4,14,11,9,14,12,4,1,14,4,4,14,1,1,6,10,5,2,1,1,4,14,4,4,1,1,14,11,2,7,14,1,10,14,12,14,1,14,11,14,12,5,10,14,1,11,14,8,4,6,5,1,14,14,5,1,5,11,14,7,13,1,11,5,10,1,14,1,8,5,6,14,8,11,14,11,8,4,10,1,10,4,10,14,14,1,3,10,10,14,14,4,5,12,5,1,14,8,14,14,4,4,7,10,11,4,14,4,4,14,5,14,1,1,8,14,14,12,9,14,4,1,14,10,1,14,14,14,14,6,1,11,4,14,3,5,4,4,4,14,11,4,1,14,1,14,9,1,5,1,14,10,14,1,8,11,11,1,3,10,3,8,14,6,12,14,14,3,5,1,11,11,14,14,14,11,7,10,10,4,12,2,3,1,1,10,2,8,5,2,14,7,1,11,13,14,4,10,4,11,11,9,1,10,14,14,1,1,8,3,5,10,5,14,1,4,1,3,1,14,3,2,4,3,1,14,14,4,10,10,14,14,4,14,4,4,3,7,14,4,14,4,10,10,5,14,8,10,3,14,4,11,10,14,5,14,14,4,1,4,2,10,14,5,11,14,14,5,5,10,14,5,1,5,14,5,11,13,8,10,4,14,1,10,1,10,14,11,14,4,4,4,2,5,4,1,11,4,11,4,14,3,3,4,5,1,5,14,10,10,8,5,4,3,3,1,4,13,10,14,14,4,5,14,4,5,4,4,12,1,4,14,10,1,11,14,4,14,14,14,14,8,4,1,5,8,11,4,1,14,8,4,10,3,4,10,1,1,14,5,1,14,14,10,14,14,1,5,14,8,4,4,10,4,3,11,10,7,1,5,12,10,4,6,14,4,8,8,4,4,12,5,10,4,14,11,10,1,1,4,11,4,14,10,14,8,14,14,14,5,14,11,4,8,4,14,1,5,4,5,10,4,3,4,14,5,11,4,14,5,5,4,5,1,12,3,10,1,4,8,5,12,14,14,6,5,5,12,3,4,11,14,14,5,4,5,14,12,11,10,14,14,5,2,1,14,10,9,13,4,4,5,10,14,1,11,1,4,8,1,14,14,14,4,5,10,2,14,12,5,6,4,14,4,14,14,14,8,11,14,10,14,1,14,1,9,14,4,14,14,11,3,14,4,3,11,11,13,14,5,7,8,10,10,2,12,8,10,13,14,14,10,14,6,4,14,1,14,8,5,12,10,10,14,14,5,14,7,10,5,14,11,11,14,14,2,11,5,4,10,12,7,10,14,14,12,1,12,1,1,13,14,4,4,3,3,4,10,4,10,12,10,5,14,14,1,1,4,14,4,4,4,3,10,14,14,11,5,7,8,4,1,4,12,8,11,14,4,11,12,14,1,11,4,1,2,12,11,4,5,4,4,14,1,5,4,4,1,4,5,2,2,5,3,5,11,14,4,11,1,6,10,8,7,10,14,4,11,4,11,8,8,4,14,1,4,2,10,9,1,4,4,11,5,4,4,11,12,6,5,4,14,3,1,11,14,2,10,12,14,10,1,14,1,4,10,14,11,1,14,3,14,4,11,2,4,4,9,1,3,10,14,4,10,5,14,11,5,11,14,14,3,4,10,8,12,8,14,10,6,1,14,14,10,5,5,10,5,8,14,10,1,14,10,4,11,14,4,14,10,5,14,9,10,4,4,6,12,10,5,2,4,5,3,14,14,4,5,10,5,10,14,4,11,1,6,14,2,1,1,4,5,3,2,10,1,14,14,14,1,4,1,4,1,14,9,12,12,4,4,4,14,1,5,11,2,9,11,12,4,14,10,9,1,9,12,14,9,8,11,10,1,10,12,14,7,10,4,12,5,5,14,4,5,14,14,4,1,5,1,14,1,14,14,14,8,1,11,5,11,14,4,11,14,3,2,2,14,8,1,6,14,1,14,14,8,10,1,14,11,1,8,4,2,3,1,14,12,1,5,10,14,14,14,1,8,14,14,14,3,13,5,14,2,3,1,14,10,8,1,10,14,14,11,6,4,8,5,9,4,14,14,4,14,12,14,11,9,4,10,1,14,1,4,4,4,14,14,8,14,4,12,11,10,4,11,12,14,14,10,4,14,14,4,10,2,10,3,6,4,12,6,3,10,10,14,5,11,11,5,6,10,8,11,10,11,1,14,14,10,9,7,1,1,12,5,1,14,2,4,11,11,5,10,4,1,4,1,14,10,1,14,1,9,14,12,14,9,10,5,10,12,5,4,4,5,14,9,4,1,10,10,1,12,11,1,14,11,5,5,14,14,4,3,1,2,10,11,10,1,4,12,1,8,10,3,3,11,4,10,14,8,14,10,4,11,1,14,14,14,11,10,4,4,12,14,11,5,8,4,11,11,11,14,11,14,1,4,14,4,11,10,4,10,5,14,1,10,4,14,11,10,10,4,11,11,14,8,14,14,4,14,6,14,2,4,4,4,11,8,1,5,14,5,5,4,14,5,14,4,1,14,4,11,8,4,12,11,13,1,10,14,14,10,4,14,10,7,8,11,10,14,9,1,6,4,4,14,14,1,11,6,10,4,4,14,2,11,1,10,14,1,5,14,11,11,8,10,14,11,1,11,14,2,4,4,11,11,3,14,14,3,1,4,4,10,4,12,4,9,11,4,14,4,1,14,9,14,10,12,5,4,3,10,9,1,1,8,10,5,10,5,11,5,12,4,5,11,14,14,14,10,1,11,4,10,10,10,10,14,11,4,4,8,14,10,11,11,14,5,7,14,8,10,10,5,14,4,8,8,10,14,1,3,3,14,2,10,9,8,3,9,8,8,10,14,1,3,1,11,11,4,14,1,14,4,1,6,2,10,1,5,14,3,11,3,11,14,12,11,4,8,14,14,14,8,1,14,5,1,12,3,8,4,8,10,5,1,4,5,11,14,5,14,4,14,4,4,11,12,2,12,4,3,1,10,14,14,4,11,14,10,3,11,11,3,11,4,1,1,10,1,5,10,10,12,11,10,11,14,10,8,10,1,5,3,6,2,14,5,14,4,14,14,5,14,4,4,5,1,4,10,14,14,1,5,3,8,1,10,1,1,11,14,6,14,1,2,4,12,11,11,1,8,4,4,10,1,11,4,1,11,4,11,10,4,4,5,14,8,2,10,4,14,3,4,3,4,3,6,8,14,12,5,10,11,14,1,10,4,8,5,4,9,2,4,8,14,10,14,7,14,1,1,8,5,9,5,14,14,4,5,14,4,7,4,6,5,6,10,11,14,4,5,14,14,1,3,5,1,4,14,3,8,1,5,14,2,3,9,14,4,8,5,1,14,12,11,3,3,14,9,8,4,10,10,11,1,5,1,10,1,14,14,1,12,3,12,14,1,11,10,5,6,1,1,12,5,14,14,8,1,1,10,3,12,1,3,10,14,1,3,5,10,4,3,2,5,5,5,8,2,1,4,10,14,10,1,2,3,14,1,14,1,4,2,10,5,1,11,14,10,14,4,13,14,10,1,10,12,11,4,14,4,14,1,14,1,11,11,5,11,4,5,12,10,11,4,3,11,11,12,3,5,13,4,4,4,4,4,10,12,14,5,11,1,4,14,12,14,14,4,4,14,1,2,11,2,7,8,10,8,1,3,4,3,11,14,4,1,14,5,14,1,14,11,1,1,9,1,12,5,4,10,6,4,4,4,10,11,1,1,3,11,14,4,14,5,4,14,4,4,10,14,1,14,4,1,4,14,8,5,13,8,9,10,14,5,14,5,4,1,14,10,2,14,14,7,11,11,14,5,12,4,8,14,3,14,14,1,4,10,1,9,14,1,14,14,11,14,10,1,7,14,12,5,5,4,4,14,4,10,4,3,1,11,11,2,3,2,1,10,5,2,14,14,10,5,4,1,1,12,4,4,4,14,8,2,5,14,12,10,11,4,14,14,14,10,5,1,14,10,5,1,11,14,2,14,14,14,4,8,1,5,10,14,6,4,7,14,10,3,11,2,14,14,14,3,14,1,14,4,5,4,14,14,5,4,3,14,10,14,6,10,1,11,14,4,14,4,10,4,11,4,8,5,5,1,11,14,1,1,4,5,10,5,1,4,14,8,14,14,2,4,1,14,5,10,1,14,3,4,14,1,10,1,14,10,14,8,14,1,1,4,14,10,10,10,5,5,4,11,4,11,9,14,14,4,14,14,5,1,4,1,14,8,14,7,1,9,14,5,5,10,14,1,3,5,8,10,4,14,14,3,1,10,2,14,8,6,1,9,11,4,8,12,11,8,1,1,4,12,5,6,5,14,14,10,4,1,10,4,5,11,9,10,10,14,10,5,14,14,7,4,4,5,1,12,14,1,8,4,14,14,11,2,14,4,14,9,4,3,10,3,4,1,8,14,4,10,4,4,3,14,12,1,1,11,10,10,3,5,2,14,14,14,10,1,5,10,1,4,10,11,14,12,14,10,14,4,14,5,14,10,12,10,14,11,10,4,1,4,14,5,4,11,14,5,14,8,10,11,12,5,1,4,1,1,4,4,11,14,3,1,10,2,4,3,3,14,4,10,5,14,14,14,11,1,5,10,8,11,4,10,10,4,14,12,5,14,6,2,11,10,14,4,14,11,3,13,2,4,14,9,4,1,11,3,1,4,1,5,14,12,10,11,14,4,14,4,14,5,4,14,10,3,10,10,8,5,4,14,4,14,14,14,2,5,14,10,11,10,12,14,14,1,6,14,10,6,1,11,1,1,8,2,10,9,8,4,10,3,11,14,14,5,10,4,14,11,14,1,3,14,4,10,5,10,11,4,14,10,9,4,9,14,6,11,5,10,4,4,5,11,4,10,4,14,7,4,14,14,14,3,14,5,14,3,8,11,1,14,6,10,8,12,4,4,14,10,14,12,3,11,14,11,14,10,10,14,4,8,4,10,4,11,10,11,14,14,12,4,4,12,4,11,5,14,4,4,14,4,11,14,10,4,4,14,10,14,14,1,3,12,1,4,5,11,10,4,10,8,14,14,4,10,5,8,14,11,14,1,14,4,11,10,1,8,14,14,14,14,1,10,9,10,14,4,1,10,14,1,14,11,14,8,6,1,1,1,10,11,5,4,14,11,10,6,7,5,14,4,4,5,4,4,1,5,5,1,4,4,14,10,4,11,1,4,10,6,12,3,6,4,11,4,4,10,14,5,10,10,2,4,8,1,14,4,4,4,12,4,4,1,1,14,14,13,11,4,10,4,1,14,14,4,14,5,14,5,10,4,14,14,4,3,4,5,3,9,14,14,11,1,1,14,14,10,1,1,14,1,1,2,10,4,4,9,14,14,4,14,14,1,4,10,4,1,11,14,1,5,1,14,10,5,14,14,4,10,12,1,14,14,14,1,14,14,10,4,10,5,1,14,5,4,8,14,2,5,1,11,10,10,11,6,14,4,14,10,9,14,5,4,8,11,14,5,12,9,14,11,9,4,14,11,4,10,12,11,5,14,8,10,14,1,3,4,1,14,1,2,13,14,3,6,9,8,11,10,8,10,10,5,5,11,4,11,14,5,10,1,12,14,14,5,11,4,14,5,11,11,1,13,8,1,5,4,3,7,3,14,12,1,5,4,14,3,10,12,14,4,1,14,10,14,7,2,10,8,3,1,14,2,1,14,10,4,14,10,14,9,8,11,1,11,14,4,4,10,11,14,10,1,14,1,14,3,2,3,14,4,10,11,5,4,2,3,11,6,12,14,14,11,1,11,11,1,11,5,14,4,10,14,11,14,10,7,10,1,12,14,14,4,1,11,14,14,10,5,1,14,8,14,1,4,14,5,4,8,1,5,5,1,14,5,4,14,1,11,2,14,10,10,8,10,1,8,4,13,9,14,14,4,14,8,3,4,1,2,4,12,5,11,11,2,14,4,10,5,1,3,1,10,10,11,13,8,14,1,14,1,5,4,5,5,5,6,5,1,14,11,14,10,1,14,1,9,14,4,14,10,1,14,3,1,14,1,14,11,4,4,10,5,5,1,4,10,8,14,5,4,8,5,5,12,11,10,4,5,4,14,10,4,14,1,8,11,9,10,14,10,5,2,1,5,11,4,14,4,5,11,14,12,14,14,14,14,14,3,14,5,14,11,11,5,4,3,5,5,11,5,14,11,14,1,8,10,1,14,4,9,8,12,5,14,4,14,2,1,13,12,10,8,11,14,14,2,1,14,5,4,4,14,5,10,5,1,8,14,4,1,14,4,14,7,4,11,4,9,11,4,3,11,14,14,5,4,1,14,12,4,11,4,2,8,1,4,13,1,6,14,7,4,10,14,4,11,14,12,14,1,11,1,14,4,1,13,14,12,14,14,5,4,10,14,10,12,12,2,5,1,11,14,11,11,5,4,1,4,1,2,9,5,1,4,7,10,14,6,14,2,11,11,12,8,2,4,14,3,6,9,11,4,4,14,8,14,14,14,11,14,5,11,4,4,3,12,10,14,14,11,1,11,14,4,12,5,1,14,1,10,4,5,5,8,9,8,14,11,4,5,8,14,10,14,6,11,1,14,14,14,7,14,4,14,14,4,6,5,2,4,14,1,14,8,10,10,10,5,11,11,1,5,14,2,8,1,14,11,14,1,14,14,14,12,14,4,1,5,3,13,14,4,12,4,12,10,8,4,11,1,1,10,14,14,4,1,1,10,5,3,2,11,11,1,14,14,12,1,2,12,1,5,4,1,12,4,11,4,4,14,14,9,12,4,4,10,7,14,11,4,1,14,11,14,11,4,5,11,10,2,9,4,8,14,1,6,12,1,8,14,1,10,8,8,10,14,1,10,14,10,4,1,1,5,4,4,14,14,5,5,8,3,2,14,10,14,14,8,4,14,10,8,6,7,12,4,8,10,10,5,4,4,4,6,11,10,11,6,7,1,14,11,10,8,12,10,9,2,12,5,5,10,8,4,14,10,1,3,1,10,2,4,2,4,10,4,11,1,4,4,4,4,4,5,10,9,11,14,6,10,14,4,2,14,3,12,2,10,14,4,5,1,4,1,6,3,4,14,6,1,1,14,5,1,3,11,14,12,10,4,14,11,5,5,4,14,14,10,6,12,14,5,8,1,3,1,1,5,5,5,11,1,11,5,1,4,10,11,1,5,1,1,8,14,4,10,1,9,10,5,14,14,10,4,2,4,4,4,10,10,4,5,14,4,11,14,5,4,12,11,1,9,10,14,14,10,6,4,11,14,5,14,12,3,4,3,1,1,1,3,2,14,14,14,12,14,1,6,3,11,1,14,14,14,4,1,5,1,5,14,14,12,5,5,3,11,14,3,5,2,10,14,13,10,1,4,14,1,2,11,11,14,5,14,14,3,1,1,10,1,14,11,5,14,10,4,11,4,10,2,1,4,9,14,14,4,9,5,1,4,4,10,14,1,4,9,1,7,10,11,5,11,4,14,4,4,1,1,12,1,14,6,4,1,4,11,2,1,10,4,11,1,5,1,1,4,1,6,1,8,9,9,2,4,14,12,5,4,14,10,5,12,4,2,14,14,10,1,3,14,5,5,6,10,14,14,14,4,4,1,11,11,4,14,14,14,8,11,8,11,1,14,5,5,14,4,2,4,10,14,3,14,14,4,14,5,4,1,2,11,5,10,1,14,12,14,14,4,4,10,3,14,12,11,11,10,2,10,5,14,14,14,1,11,1,14,14,14,10,5,10,8,14,11,1,14,10,14,10,14,14,10,11,10,1,4,5,5,14,2,8,5,10,3,14,4,4,1,1,8,14,14,14,14,5,4,1,5,5,5,14,1,11,12,14,4,1,4,6,9,14,3,1,14,5,3,7,5,11,4,14,4,5,12,12,14,1,1,12,11,3,10,4,5,4,1,14,1,1,3,14,14,8,9,5,14,4,12,10,10,5,11,14,3,10,1,4,12,3,4,14,12,14,14,14,10,5,11,1,14,4,14,5,4,1,5,5,5,6,1,1,10,11,3,8,1,12,5,4,11,1,4,14,11,4,14,12,1,11,4,14,14,4,4,14,4,2,4,10,10,7,11,5,4,4,10,9,7,3,14,11,14,9,14,14,12,6,11,1,6,4,7,2,11,10,4,1,1,5,14,11,1,4,5,14,4,12,11,14,14,4,1,4,4,9,3,2,14,9,1,14,3,14,6,11,14,3,10,4,14,4,4,4,1,10,3,11,8,4,11,5,4,11,14,1,14,14,5,14,1,10,14,11,10,14,1,1,4,10,8,10,11,4,11,4,10,10,11,5,5,2,1,14,5,4,14,4,14,10,1,5,3,8,4,1,2,5,14,11,10,4,4,14,6,5,4,3,14,2,1,2,3,11,9,5,14,11,1,4,4,10,14,5,10,3,14,4,14,5,14,1,5,14,10,2,12,14,8,5,5,10,5,11,4,4,14,6,8,5,4,4,3,10,9,14,4,2,11,10,5,10,4,4,2,14,2,14,1,4,14,14,14,10,4,14,14,14,12,14,5,12,11,5,1,14,2,12,5,4,1,14,5,8,14,5,1,4,14,11,11,4,14,5,14,1,14,14,14,14,5,1,4,4,4,10,14,11,3,5,14,8,3,12,10,4,11,1,14,5,10,3,1,4,13,1,4,4,5,13,5,8,4,12,1,2,14,14,11,4,14,14,4,4,14,2,14,5,11,14,4,4,4,14,14,14,11,14,14,7,8,4,8,11,13,1,4,9,2,4,11,14,4,2,14,4,1,8,14,11,12,4,5,1,3,7,8,8,8,14,4,10,5,14,11,11,11,4,5,14,11,11,1,5,14,14,14,4,6,14,10,2,8,5,14,13,14,10,2,5,4,11,4,14,1,11,14,1,10,8,2,4,3,5,1,1,8,1,14,11,14,11,3,10,14,9,11,11,1,1,5,10,10,1,4,10,1,5,11,11,12,1,4,1,5,10,3,12,5,14,14,10,12,14,10,4,5,1,9,14,14,14,14,10,4,5,1,14,14,7,4,14,11,14,4,7,7,4,14,4,11,12,14,10,3,14,2,11,11,2,11,4,1,5,5,3,5,1,4,13,1,5,1,10,3,4,9,10,5,5,5,1,3,14,6,5,5,14,8,11,8,14,1,8,2,14,6,10,1,4,5,14,1,12,9,6,10,1,11,1,10,14,10,11,14,1,10,14,4,10,10,1,14,10,12,1,12,14,4,4,5,4,4,4,10,10,1,4,1,1,14,14,14,11,4,1,4,3,14,1,14,14,9,5,9,4,14,14,14,5,14,14,4,1,14,14,4,2,8,4,2,1,11,14,10,8,10,9,4,14,14,5,5,8,4,3,1,1,4,4,10,10,10,1,8,14,5,8,14,7,5,10,4,10,8,1,11,11,1,11,14,5,11,14,4,4,1,14,4,14,3,11,1,4,10,4,8,13,11,10,11,2,4,5,9,8,5,14,8,1,14,11,1,10,11,1,14,10,4,12,12,14,14,4,5,1,11,1,14,6,5,14,9,3,4,3,4,14,12,10,2,3,12,14,11,14,4,4,14,4,3,12,14,14,1,9,3,10,12,4,5,8,8,9,10,1,11,7,2,11,1,3,14,4,11,11,11,11,4,14,14,12,14,3,14,11,10,12,14,1,4,9,4,11,11,10,14,10,11,12,14,11,13,12,1,11,11,10,12,14,4,14,11,6,5,4,14,11,4,11,14,14,1,1,14,11,1,1,14,2,5,10,14,4,10,5,1,4,12,14,1,12,4,14,1,14,6,2,2,14,4,11,11,1,11,10,7,14,11,14,4,14,1,10,10,14,2,4,11,5,3,5,4,11,4,14,14,1,10,5,1,14,14,14,1,14,12,7,1,3,14,8,1,10,4,14,14,14,12,11,1,11,9,10,4,4,10,14,4,14,1,8,4,8,3,3,14,12,12,14,4,3,7,14,3,14,7,9,4,14,9,14,14,7,1,4,5,4,10,5,4,4,1,14,3,8,7,5,14,2,5,11,12,14,14,1,10,8,5,8,6,11,14,5,12,14,11,1,14,5,12,10,14,12,4,4,4,6,11,14,14,5,12,1,6,14,1,8,1,14,12,1,4,12,11,4,5,10,14,5,11,4,14,5,5,10,1,14,4,1,1,11,4,12,1,5,1,4,14,11,5,14,11,2,9,1,10,1,14,2,8,4,14,1,12,4,1,8,10,11,1,14,4,14,14,11,14,14,8,13,1,11,4,4,1,4,4,4,10,4,10,3,10,1,14,14,1,11,14,1,5,10,4,14,1,4,10,10,8,9,1,14,4,4,8,14,11,4,10,3,12,4,4,4,10,8,4,5,6,5,6,8,14,4,4,10,4,14,4,14,14,5,14,10,10,6,10,4,14,14,4,8,14,4,10,8,1,4,12,14,3,14,13,11,4,1,14,1,10,4,8,11,11,4,1,10,5,14,5,8,1,4,10,1,12,14,4,11,4,1,4,2,4,4,10,10,4,4,3,8,7,1,3,1,14,6,11,14,14,5,2,14,5,13,5,7,4,1,11,10,8,1,14,12,4,5,8,14,8,4,11,2,11,11,5,11,11,1,5,10,1,11,14,1,14,12,10,5,14,11,14,12,5,4,4,10,14,8,1,14,8,4,14,14,14,4,10,14,4,14,14,11,4,4,1,14,4,2,8,10,8,1,1,14,1,5,1,10,1,14,4,12,4,8,14,1,1,10,11,4,1,5,4,3,14,14,2,14,12,11,4,8,10,1,4,13,3,14,4,14,14,1,11,14,14,8,14,14,14,1,14,4,14,4,4,14,14,12,10,9,4,2,14,12,5,4,10,14,12,10,14,6,11,4,1,10,8,14,4,4,11,12,4,1,8,5,3,1,1,12,12,14,1,4,14,12,4,14,8,14,3,11,1,4,1,14,8,11,14,5,11,10,1,14,1,4,5,1,14,1,11,14,11,10,4,12,5,11,3,1,10,10,11,5,5,9,2,1,14,4,10,10,11,14,14,14,4,11,11,1,10,14,5,8,10,4,6,10,14,7,2,14,14,4,14,14,14,11,10,5,10,14,6,4,2,14,1,8,14,1,4,14,11,7,4,1,13,14,3,10,14,2,1,11,10,4,4,10,5,10,4,14,11,1,8,1,3,14,10,14,5,3,14,3,11,14,14,14,7,11,8,5,5,7,11,8,14,12,3,5,4,5,11,9,11,14,4,14,10,3,4,7,14,14,11,1,14,10,12,3,1,5,4,14,4,1,4,5,8,7,11,1,4,13,2,14,4,4,9,14,5,14,11,14,14,10,5,1,14,4,3,8,14,1,10,4,12,10,10,14,12,14,4,1,4,14,14,10,14,7,10,3,11,1,11,5,1,5,4,1,8,4,2,14,10,11,5,11,1,10,14,14,5,10,8,3,12,5,4,1,2,1,14,14,14,14,11,6,14,1,10,4,4,3,12,8,14,10,4,3,1,5,1,10,1,4,10,5,14,4,12,1,4,3,1,14,5,14,14,14,8,4,11,13,10,1,4,14,2,5,14,10,3,14,1,14,4,10,10,14,4,14,10,11,14,4,4,5,14,14,14,8,12,10,14,14,14,5,10,4,5,1,4,14,2,10,11,6,13,14,1,14,9,5,5,11,3,4,14,1,10,10,5,11,4,2,9,8,11,2,10,14,10,8,8,8,6,14,12,4,14,14,12,14,3,14,14,10,4,4,11,14,14,14,14,4,5,5,4,4,12,5,5,14,14,12,5,3,1,1,14,7,14,12,14,8,4,14,11,4,14,14,3,2,4,11,4,1,1,4,3,8,4,13,5,11,1,1,5,12,4,3,10,14,4,14,1,5,10,14,8,14,11,14,1,14,14,13,8,14,4,11,12,6,14,5,5,1,14,3,11,12,14,1,2,8,11,12,6,4,1,14,10,6,4,10,8,14,5,6,5,14,12,5,10,8,5,11,5,14,14,11,8,4,12,14,12,11,14,12,14,10,5,12,4,14,12,11,4,1,14,14,10,6,5,5,3,1,12,8,11,12,1,8,14,9,11,10,3,4,8,11,5,1,14,14,8,2,4,8,8,9,14,14,5,14,1,1,7,11,8,11,14,4,10,1,1,14,8,10,14,5,14,4,11,7,11,7,14,14,14,2,11,1,14,8,14,1,6,2,9,3,14,4,4,4,3,7,3,10,5,5,5,8,1,14,1,1,4,14,10,5,1,14,14,14,4,3,4,14,14,8,4,12,11,5,10,3,10,14,4,8,12,12,14,14,14,1,8,8,14,1,4,11,14,14,14,14,6,11,11,10,10,4,14,14,10,2,11,4,5,9,1,10,14,14,14,8,14,1,6,14,10,4,4,5,4,10,3,5,10,3,10,14,3,8,14,14,10,4,11,14,14,14,5,10,14,11,5,12,3,5,14,5,14,5,14,10,14,13,14,6,1,11,11,14,5,10,8,4,11,11,10,4,14,8,4,14,14,14,3,1,2,11,14,14,8,4,1,5,2,10,3,4,14,3,8,3,14,14,1,3,14,10,1,1,11,8,1,5,14,10,5,5,3,8,14,4,8,9,14,5,14,7,4,4,4,11,14,14,14,2,12,14,8,4,8,1,13,14,1,5,10,9,5,14,14,4,5,10,4,14,14,5,10,3,12,5,14,4,2,4,10,14,3,10,4,4,11,1,10,5,10,11,11,14,4,14,14,4,14,1,1,10,3,1,8,12,4,5,14,1,3,10,14,5,10,5,4,11,3,11,8,10,14,2,14,2,12,11,11,14,11,10,4,2,14,11,11,11,5,1,5,14,10,14,4,5,3,1,10,14,12,5,3,5,14,14,2,14,11,1,4,4,14,4,14,8,5,5,14,1,5,1,4,5,10,4,4,14,1,14,11,1,4,1,11,10,9,10,14,10,5,3,10,9,5,4,5,1,5,14,14,5,5,7,2,10,8,5,8,11,12,4,14,4,3,14,14,8,11,1,1,4,14,11,14,4,14,11,13,10,5,8,3,5,11,5,4,11,3,4,14,8,1,14,4,12,8,13,4,2,1,12,11,14,1,4,5,14,4,3,5,1,10,5,14,4,8,14,10,5,10,5,2,1,10,14,2,14,11,11,10,8,14,4,9,10,14,10,14,14,4,10,10,8,14,12,9,10,14,14,14,14,14,4,8,10,1,3,14,10,14,12,2,11,1,9,5,10,5,11,8,5,11,5,11,2,13,12,11,12,5,14,14,4,2,8,14,8,10,4,4,2,2,5,10,5,7,10,5,1,4,10,14,14,10,10,5,2,5,8,5,8,1,1,4,14,13,14,14,10,5,14,3,14,14,11,8,6,5,11,4,5,10,4,1,14,14,11,4,3,10,11,5,14,8,4,14,6,1,1,4,3,3,5,4,14,8,11,4,10,1,3,14,1,2,2,3,12,14,14,14,1,14,1,14,14,1,1,4,12,10,14,8,10,1,5,10,2,4,4,14,5,7,5,4,11,14,4,1,11,11,14,10,10,4,8,5,4,8,5,1,5,4,1,4,14,14,6,11,1,5,4,4,14,7,1,5,1,4,14,11,6,14,10,12,4,9,10,10,9,14,11,10,14,1,4,10,1,5,4,10,11,14,14,1,10,11,1,10,14,5,4,14,4,3,10,11,11,2,10,14,14,14,14,4,14,14,4,14,14,10,5,1,11,11,1,1,1,10,5,3,8,1,14,1,7,10,4,11,2,1,4,11,5,4,4,4,1,4,1,12,14,14,5,14,14,11,3,1,14,1,4,11,10,14,4,11,4,10,4,14,14,1,14,14,10,11,4,11,1,1,2,14,14,14,3,14,8,14,1,3,4,4,12,5,10,14,14,5,10,1,14,4,10,5,7,14,5,4,4,5,1,2,3,14,14,10,4,11,8,8,4,3,9,14,1,11,10,1,4,4,4,14,14,11,2,14,14,1,11,3,5,11,4,6,10,1,4,4,4,3,5,8,1,14,14,4,9,5,2,14,11,5,11,14,5,10,14,13,4,4,4,3,4,4,8,14,5,3,14,12,4,5,11,1,5,8,14,9,2,4,13,12,10,14,14,4,1,11,9,14,14,2,8,6,4,11,6,7,4,14,11,4,12,14,10,11,2,14,10,1,10,4,11,14,11,10,4,4,1,10,10,5,5,12,1,5,14,14,11,3,9,4,5,13,14,10,1,10,1,14,4,5,11,6,14,14,11,6,11,14,1,1,5,14,8,11,3,14,5,14,10,2,11,1,9,10,14,3,10,5,4,12,13,1,4,11,4,4,4,10,8,3,14,1,14,14,14,6,14,10,12,4,5,7,4,5,9,4,3,5,14,14,14,11,1,14,14,4,8,4,5,4,12,3,5,11,4,11,14,3,14,11,11,11,4,8,4,14,14,3,4,8,11,11,4,4,14,5,8,14,14,5,1,4,4,5,14,4,8,10,11,1,14,4,4,10,5,10,1,2,4,1,8,14,14,6,4,14,5,7,7,14,5,5,1,14,1,6,14,5,7,14,1,8,11,4,14,9,1,14,3,6,4,4,11,10,14,11,4,1,4,10,14,7,5,4,1,11,2,11,4,10,14,4,8,4,8,2,1,12,10,1,2,8,1,12,1,8,10,5,14,11,3,11,1,4,11,10,4,8,11,12,13,2,5,14,14,12,4,5,3,1,4,5,11,5,5,5,4,14,1,1,3,4,4,1,10,2,14,3,8,4,2,14,1,1,4,5,1,1,4,4,1,1,1,1,8,14,1,3,8,1,11,1,1,5,13,5,12,11,10,8,10,6,1,10,10,10,10,14,14,1,10,5,3,4,2,4,9,5,1,4,11,14,4,10,3,14,1,4,11,4,2,14,8,4,1,10,1,10,4,5,14,14,5,11,2,4,1,14,6,1,5,5,14,2,14,10,8,6,10,8,11,1,4,4,11,6,11,5,4,10,12,2,1,4,1,1,4,14,3,5,10,4,9,9,11,12,7,8,14,13,14,14,8,4,6,10,4,5,11,10,10,13,2,4,1,14,1,3,1,14,5,5,12,5,9,14,14,11,2,12,14,14,14,10,11,14,3,10,5,14,1,4,1,1,10,11,9,10,4,5,10,14,1,14,5,12,4,1,5,1,10,12,10,11,5,14,10,5,1,14,14,10,9,4,10,10,5,14,10,12,11,3,4,11,8,12,11,1,14,1,1,14,4,4,4,2,1,8,12,14,10,14,4,10,14,4,1,4,4,5,1,4,1,3,4,1,4,1,8,4,1,14,14,1,1,4,12,13,10,8,14,11,6,14,14,11,4,11,3,4,12,1,1,4,10,2,4,12,5,11,4,2,3,10,8,11,11,7,4,4,14,14,10,14,14,1,4,4,14,14,5,14,6,11,14,4,14,10,6,8,10,12,5,14,1,4,4,11,4,11,5,12,4,5,14,5,5,8,10,5,14,4,8,4,14,14,14,11,14,10,13,4,1,4,14,14,14,8,14,8,4,1,14,4,10,8,5,8,2,11,14,14,14,5,4,4,13,10,11,14,1,1,8,9,14,5,14,1,14,1,4,12,1,1,5,1,2,1,11,4,1,6,2,4,10,8,5,1,5,1,14,11,1,2,4,9,4,14,14,14,3,10,5,10,14,6,11,4,14,10,1,12,5,14,5,1,4,11,14,8,4,5,4,14,4,14,5,14,14,14,10,10,4,4,1,7,11,10,1,1,7,12,5,14,11,10,5,14,11,14,5,14,11,8,2,11,14,14,8,14,11,1,4,14,14,4,14,10,14,11,10,10,1,1,4,6,11,5,14,11,11,11,11,14,14,4,9,12,1,4,1,11,4,10,4,9,10,3,14,10,14,1,5,6,4,1,5,10,2,1,11,4,14,1,5,10,5,1,10,5,8,1,5,14,12,2,14,1,1,14,4,12,14,10,1,1,4,14,5,14,14,14,4,11,4,14,1,14,14,2,3,14,10,2,14,3,4,10,10,3,9,12,2,13,14,10,4,14,1,14,1,7,10,10,1,1,8,14,5,8,14,14,8,1,11,11,11,10,10,4,13,14,4,1,14,3,11,2,10,14,14,9,12,8,14,5,5,14,5,5,4,5,11,10,4,14,14,3,2,14,12,10,14,11,8,10,1,11,5,10,4,5,14,11,4,14,4,2,14,14,6,3,2,12,10,9,10,3,14,1,4,7,8,10,10,1,1,12,14,11,8,3,3,2,5,12,14,1,1,4,1,10,3,10,14,12,2,6,3,14,12,5,14,14,8,14,4,4,14,14,4,8,2,8,1,4,11,4,1,14,5,1,9,4,1,14,14,14,1,4,14,13,4,14,1,10,3,10,1,5,12,1,4,4,14,10,9,5,12,5,14,3,9,4,14,3,1,4,7,4,6,14,11,2,1,14,11,5,4,8,14,8,2,4,10,11,11,5,8,4,5,14,11,6,10,14,1,14,14,1,5,12,14,3,4,5,14,14,11,4,6,4,10,5,14,4,11,14,3,14,5,5,7,10,10,10,3,10,12,1,2,14,10,5,13,11,14,14,4,1,11,10,4,4,12,4,11,4,14,14,14,14,8,14,10,14,10,14,5,5,14,11,5,14,1,5,8,11,4,10,1,8,1,11,14,1,11,14,14,4,14,14,2,8,1,3,3,12,11,14,4,1,10,10,11,7,5,14,8,1,14,10,6,1,4,5,14,12,11,4,8,14,10,1,8,5,5,1,9,8,10,2,8,4,3,10,11,1,12,11,4,8,5,1,14,5,2,4,1,14,1,14,11,4,5,10,14,5,14,14,3,5,4,6,8,14,1,14,4,3,4,1,5,4,11,2,5,10,1,9,14,5,14,4,5,5,14,1,14,4,4,10,2,4,5,10,1,4,4,9,5,2,4,8,14,5,11,11,1,9,14,3,11,8,4,5,1,11,12,4,5,5,14,1,5,1,1,11,8,5,13,10,4,1,1,12,1,10,4,3,13,14,4,14,1,1,10,4,11,4,4,1,11,4,9,14,1,1,4,14,9,5,14,14,10,10,11,14,3,5,1,4,1,1,3,6,10,11,14,6,10,11,10,14,1,5,4,11,1,4,14,10,4,5,1,4,5,14,5,1,14,10,10,4,1,2,1,10,5,5,1,14,14,5,3,14,14,3,4,10,10,14,10,1,14,8,3,1,6,4,4,14,5,14,11,1,5,8,14,8,10,11,2,8,14,14,5,3,11,14,4,3,11,10,8,1,14,1,5,6,1,1,3,11,14,1,1,14,10,5,10,14,14,2,1,14,3,10,8,12,12,8,5,4,8,5,14,6,10,11,1,3,6,12,11,11,1,5,5,14,11,14,4,10,1,11,14,4,9,11,3,14,3,14,4,12,6,4,14,5,1,10,5,10,14,14,11,10,14,14,8,14,14,1,11,4,1,5,2,9,14,14,4,1,11,5,14,4,1,4,4,14,14,4,14,14,8,14,8,14,4,4,13,14,4,14,4,14,14,14,5,1,14,8,14,11,5,10,14,14,8,13,1,4,14,1,4,14,10,11,14,10,10,10,4,14,14,1,14,10,8,4,4,10,14,10,14,11,14,4,4,11,8,8,6,14,1,1,11,4,1,5,4,4,1,1,10,10,1,4,8,5,3,14,1,5,4,14,10,10,1,14,1,4,14,10,14,11,14,7,11,1,12,5,4,10,11,12,14,14,1,8,5,11,1,3,10,14,10,1,13,5,1,3,14,4,14,14,5,14,14,14,14,11,2,14,14,11,3,10,14,14,11,5,11,14,14,8,11,14,14,14,14,3,1,7,4,4,14,4,10,3,10,14,1,11,10,14,4,5,4,8,11,11,3,3,1,2,1,9,11,14,4,1,10,10,1,5,3,14,7,3,10,14,14,14,14,8,10,1,8,10,14,5,14,11,5,13,4,3,3,11,10,7,5,8,12,14,14,10,12,3,13,4,11,12,9,1,1,10,11,11,4,14,5,8,12,4,13,7,5,4,10,11,4,4,14,14,4,14,14,11,14,7,1,14,1,3,10,11,11,3,12,4,14,1,3,1,14,1,3,8,4,4,4,4,4,1,10,1,1,1,4,3,4,4,12,12,3,9,5,14,5,8,5,8,11,14,8,4,11,2,2,14,1,3,11,11,4,3,11,9,2,4,11,8,5,14,14,11,14,10,1,4,12,10,2,14,8,1,1,11,5,10,8,10,14,1,9,14,14,14,12,14,3,1,5,10,10,10,5,1,14,11,14,10,14,4,4,1,12,9,6,4,11,10,4,4,5,14,10,5,3,12,9,11,9,2,11,10,14,12,10,14,8,8,14,4,1,14,14,14,14,1,4,14,3,1,14,4,10,14,10,4,10,1,10,2,1,4,10,11,14,14,14,5,5,1,8,14,1,14,5,9,4,7,14,10,4,1,4,4,14,10,10,14,3,14,1,14,13,14,11,4,11,1,14,14,10,14,1,14,3,10,10,14,14,11,12,1,14,1,1,3,8,11,14,6,14,10,10,10,5,2,10,4,7,14,4,6,14,8,10,5,4,14,5,4,10,9,10,10,4,5,10,1,5,2,14,11,10,14,3,14,14,8,4,14,1,4,14,10,10,8,9,3,4,10,13,5,14,4,9,10,1,2,4,14,6,6,5,3,14,11,14,3,10,14,5,14,10,12,11,14,1,5,10,11,4,10,14,8,2,4,11,12,14,14,14,4,10,2,6,1,14,14,4,4,5,14,5,14,4,14,8,14,10,14,14,5,4,1,5,1,11,3,1,4,12,14,4,3,12,11,14,5,11,4,14,12,5,11,14,14,1,14,9,14,8,14,14,4,14,14,4,14,4,3,4,5,5,1,10,14,14,1,14,11,8,5,1,10,14,5,4,11,4,11,5,4,14,3,14,1,4,5,4,5,1,4,8,4,4,12,2,4,13,10,14,14,1,4,5,14,4,11,11,14,11,14,4,4,3,10,10,8,4,7,3,14,14,9,10,10,8,5,4,14,14,11,10,11,4,14,4,14,6,10,11,11,5,10,4,8,10,14,14,14,14,5,11,14,6,14,1,4,9,12,11,5,10,4,1,14,4,14,1,10,10,5,2,10,11,14,10,8,14,10,2,11,10,14,11,1,11,2,11,5,4,12,4,10,4,14,7,13,4,4,14,8,4,14,14,5,10,14,14,4,4,10,14,9,5,8,14,1,1,14,9,4,4,14,14,5,1,4,14,12,14,14,2,10,3,4,5,11,4,6,14,4,12,11,4,10,4,3,9,3,4,14,5,11,14,3,3,14,14,4,14,14,11,12,5,3,4,8,14,1,9,12,8,1,5,4,8,8,10,5,11,4,4,13,2,5,7,11,14,11,10,4,3,3,1,3,1,8,4,11,4,4,4,14,9,14,14,14,12,13,1,4,14,4,3,5,1,14,4,3,14,14,1,1,7,4,11,3,10,8,5,14,14,14,1,4,4,5,11,11,14,4,14,5,10,4,1,14,14,5,12,3,14,12,3,9,4,5,11,4,12,3,11,10,11,14,11,4,14,3,5,12,14,12,11,10,5,7,11,4,4,14,5,4,14,6,14,14,4,14,2,1,14,14,5,11,2,12,4,14,8,1,3,1,5,11,14,14,8,14,1,4,14,11,4,10,11,14,1,14,14,5,5,4,4,3,5,2,14,14,14,3,4,1,4,14,14,5,5,14,5,14,10,14,1,2,14,4,1,5,10,14,10,14,4,8,8,4,5,4,10,10,10,4,11,4,3,4,11,10,3,14,5,12,14,1,5,4,1,4,4,14,14,2,2,4,10,1,8,4,13,2,5,1,4,11,8,7,1,3,5,3,5,14,12,4,11,2,4,5,2,14,1,12,11,4,3,8,11,1,5,5,4,14,10,2,14,1,4,8,11,14,1,8,8,12,1,12,14,9,2,4,12,14,4,10,1,4,5,9,6,10,5,14,1,9,1,9,5,14,14,14,4,12,4,14,11,14,3,14,11,12,14,2,12,4,4,4,11,5,5,3,11,14,11,4,4,1,1,10,5,8,14,14,14,1,12,7,4,5,8,11,14,10,5,6,10,1,4,12,12,14,1,14,12,3,8,14,10,10,8,10,14,4,14,3,2,1,8,1,4,2,11,1,4,13,5,14,10,2,4,14,11,1,14,8,14,4,4,5,10,12,1,4,8,1,14,14,14,12,1,10,5,8,11,5,1,5,14,14,4,6,1,14,4,14,4,5,14,1,10,10,10,3,5,14,1,1,1,4,1,4,10,14,5,14,14,7,8,4,8,3,3,10,5,11,14,4,3,6,12,14,10,14,11,10,10,10,1,1,14,14,4,14,14,8,14,4,10,10,5,5,11,5,14,6,4,4,14,12,14,5,4,14,10,5,3,5,14,4,14,4,3,5,14,14,3,3,4,5,4,2,10,3,5,11,14,5,3,7,10,4,14,6,5,4,11,4,14,4,8,4,10,4,8,5,1,5,14,1,14,14,14,11,13,5,10,11,10,2,12,14,3,14,11,11,10,9,11,4,10,1,14,14,10,4,10,14,3,9,4,5,11,10,11,5,10,3,10,2,11,6,14,9,10,14,6,5,8,14,14,4,14,8,4,8,14,4,5,14,5,7,14,7,3,4,4,10,4,1,10,4,8,10,8,4,14,4,14,8,14,2,2,4,1,14,8,11,14,4,11,8,10,14,8,4,7,7,7,4,14,10,14,5,1,1,8,14,11,1,1,14,10,14,10,4,14,3,5,10,11,5,1,4,9,5,14,10,4,12,14,14,14,14,5,14,1,1,14,14,11,1,4,11,14,10,5,11,4,14,1,11,10,10,14,4,3,1,1,4,11,8,4,14,4,14,12,4,14,14,11,14,11,4,10,4,4,1,14,5,5,10,1,1,7,4,1,6,14,8,4,4,1,8,14,14,8,14,1,11,1,14,2,12,14,14,1,14,14,1,6,14,1,4,14,14,14,10,2,14,2,8,10,2,5,14,4,8,14,4,12,12,3,10,2,4,10,11,14,4,3,8,1,14,5,4,10,11,5,10,7,13,12,4,1,5,10,3,14,11,10,14,11,14,4,10,11,12,1,6,2,11,10,14,12,8,1,11,8,12,4,3,1,1,1,14,4,2,4,3,1,14,14,9,4,1,1,12,13,1,4,10,4,1,11,7,10,14,14,5,1,2,8,13,11,3,11,1,11,14,4,4,11,5,2,14,3,4,11,5,3,10,11,14,3,14,2,3,1,1,5,1,4,5,14,12,4,1,4,5,10,1,8,1,8,11,3,14,14,10,2,14,1,1,3,2,14,4,14,7,12,4,14,14,9,5,14,10,11,4,14,11,14,8,14,5,14,4,14,5,11,12,4,10,14,12,4,1,4,4,3,10,1,8,4,14,14,5,3,4,10,5,2,14,6,1,10,14,5,11,11,3,14,14,11,10,8,5,4,10,11,11,14,14,14,12,14,10,11,11,4,11,4,12,10,14,5,12,14,14,14,3,1,3,10,9,14,14,1,7,11,14,1,1,1,14,14,2,10,4,10,5,14,8,11,14,1,7,10,11,10,1,11,4,5,4,8,10,5,10,2,1,14,1,1,12,2,1,2,2,4,14,10,12,4,14,4,14,3,14,4,14,12,5,12,10,10,8,14,12,11,1,9,5,10,4,10,5,11,4,11,10,4,2,3,1,5,10,7,4,8,1,14,5,10,1,10,14,11,2,11,8,14,4,4,14,4,1,4,5,14,11,10,14,12,5,4,4,9,4,14,14,3,14,14,4,12,11,10,5,1,8,4,14,2,4,3,7,4,5,14,14,4,11,4,10,14,4,5,2,14,5,4,5,14,9,12,10,1,11,10,14,14,4,14,5,14,12,14,8,14,14,5,4,4,5,2,14,10,11,14,11,4,12,12,10,1,1,10,5,7,5,3,10,9,1,10,1,10,4,11,3,14,4,1,11,4,4,4,11,1,14,14,14,12,8,5,4,1,1,14,3,4,14,14,1,11,14,14,14,11,5,11,13,11,6,1,11,11,1,4,12,5,1,5,3,14,10,12,10,1,4,4,5,14,5,4,10,4,14,4,14,9,14,10,2,10,11,5,14,1,14,1,5,9,4,11,12,14,14,9,5,4,10,1,1,9,11,9,10,4,14,10,8,11,8,4,3,2,12,5,1,2,1,2,8,8,3,1,8,3,13,14,2,10,12,4,5,1,10,12,8,11,5,14,3,14,14,1,5,2,11,4,10,14,7,11,4,14,5,14,14,10,4,2,11,3,14,5,5,11,11,7,12,8,3,10,2,1,10,4,5,14,14,10,14,14,1,4,12,2,14,13,14,4,3,5,12,4,10,6,1,4,3,2,8,8,12,1,5,10,14,14,14,10,7,14,14,9,8,4,9,5,6,2,4,5,2,14,4,1,4,11,4,3,2,1,7,1,14,13,11,14,14,2,7,4,7,1,2,1,14,5,14,14,8,11,2,3,12,4,1,11,4,14,14,4,1,8,4,14,1,14,10,1,14,2,13,12,14,3,10,3,5,2,9,12,8,11,4,14,14,4,5,14,14,10,14,4,10,5,10,5,10,8,1,4,5,11,5,11,14,11,4,10,4,13,1,8,4,11,14,10,4,5,5,14,14,14,5,14,10,12,11,14,12,14,14,1,1,10,7,4,14,1,11,14,14,14,9,10,1,10,10,5,11,8,1,4,14,5,14,14,3,4,14,11,4,3,4,10,4,4,14,5,4,5,4,5,8,10,14,1,10,11,11,8,3,3,14,14,10,14,14,10,14,14,1,14,1,4,4,4,10,9,14,14,14,7,4,8,5,14,14,5,5,11,4,1,11,14,6,6,11,11,11,5,4,2,5,10,12,5,11,2,8,14,14,4,5,10,14,14,4,11,4,5,10,1,1,1,14,14,4,12,14,1,5,4,4,3,5,5,4,14,14,11,9,2,3,1,4,11,2,8,10,5,10,14,5,5,14,1,4,6,4,2,14,5,5,14,8,1,11,4,14,14,10,10,14,10,14,14,1,4,1,1,14,4,1,11,8,14,14,14,14,14,2,10,14,14,5,11,4,12,4,5,3,12,14,7,14,14,10,14,14,1,14,5,14,14,3,4,5,14,4,5,3,11,11,14,10,5,14,14,11,3,14,1,13,2,9,1,8,14,14,11,4,10,11,1,7,14,14,10,10,2,10,14,4,12,4,14,4,1,1,14,14,10,14,8,14,5,11,4,1,5,14,3,9,14,5,12,7,14,4,4,5,10,14,14,5,13,11,10,1,14,12,14,14,12,10,14,2,7,14,1,14,14,1,14,14,11,14,1,4,14,11,2,2,4,4,5,12,4,11,1,9,4,14,14,1,11,12,10,14,9,12,12,5,4,8,10,14,14,14,14,14,11,5,11,12,14,5,3,14,1,14,14,4,14,14,14,10,11,2,10,14,14,10,4,14,1,10,5,14,10,14,1,14,11,3,11,4,8,11,14,5,12,13,3,1,14,11,11,4,2,11,14,5,3,4,8,14,4,13,4,4,2,1,6,5,2,14,1,5,5,2,1,8,14,1,5,1,11,4,1,14,12,2,11,4,1,9,4,14,1,9,1,4,6,11,4,8,6,10,5,5,6,14,14,4,11,4,11,11,5,4,4,5,4,9,9,11,12,14,11,1,3,12,12,4,14,4,3,8,10,1,11,12,10,5,14,14,14,4,11,14,1,1,5,14,14,10,4,4,4,8,6,14,5,5,5,3,1,3,8,12,1,8,14,10,14,1,4,5,5,11,6,14,5,14,14,10,14,1,4,10,8,7,14,1,13,14,11,1,1,14,11,14,12,12,2,12,14,14,4,5,14,4,4,4,12,8,11,4,4,14,10,10,3,1,4,10,9,3,7,4,4,5,13,3,4,11,4,11,14,5,1,4,14,14,4,4,5,9,3,14,2,14,4,8,11,2,14,5,8,3,5,10,8,10,1,14,3,10,1,1,3,1,4,10,14,1,1,11,9,11,3,8,11,6,14,6,10,8,10,4,10,14,4,12,1,14,5,12,4,8,13,14,14,4,3,8,11,14,10,11,6,11,3,4,3,14,4,4,1,2,9,14,14,5,14,14,10,14,5,11,11,10,14,1,10,10,4,4,10,14,2,10,14,14,2,1,2,5,14,12,10,8,4,14,14,3,11,11,10,4,11,4,14,8,10,11,10,1,11,14,8,14,11,8,4,14,14,1,14,3,11,1,3,11,5,3,14,2,7,7,14,12,1,1,12,14,2,1,8,4,14,4,3,1,11,2,5,9,5,1,12,14,14,4,14,1,11,5,11,11,4,14,5,5,14,3,14,4,1,14,10,5,8,14,14,4,5,3,4,1,11,14,14,5,3,14,14,11,5,3,4,12,14,1,8,6,4,11,5,1,1,14,10,5,10,14,14,11,4,10,14,13,1,4,6,14,4,5,9,4,5,9,14,1,8,5,3,11,8,14,1,4,14,11,6,9,5,14,14,1,1,14,10,4,11,1,10,14,12,1,10,11,1,12,10,1,1,5,3,5,3,10,8,4,11,5,11,10,4,14,5,5,1,2,13,4,10,5,10,1,14,1,14,1,8,4,3,8,4,4,2,11,8,2,5,14,14,5,14,5,10,9,14,11,11,4,1,1,4,1,14,11,14,11,5,4,10,3,5,1,1,14,10,1,14,4,14,7,8,5,8,9,12,2,6,1,8,1,4,1,14,1,2,8,14,14,14,14,2,14,11,1,14,1,5,11,5,3,11,3,11,4,1,14,11,11,14,10,14,5,4,3,4,11,8,7,7,11,10,4,1,1,3,13,5,5,4,2,8,1,4,11,4,1,1,11,12,12,5,14,9,14,5,8,8,11,12,5,14,8,1,14,12,14,2,8,1,6,5,5,4,14,4,10,4,14,11,8,11,10,5,14,1,14,3,14,12,1,14,9,11,14,4,14,7,5,12,11,4,5,4,14,11,4,4,8,4,11,11,1,10,11,14,5,9,10,4,5,9,10,14,14,4,5,14,2,2,4,10,4,8,14,4,1,4,1,8,4,10,14,2,12,13,1,5,4,5,11,1,4,3,10,3,5,3,11,11,14,11,14,1,1,10,10,5,13,10,6,10,1,11,5,12,13,10,14,14,10,5,1,4,5,14,5,1,5,1,1,4,11,5,4,10,14,11,4,4,14,1,14,14,14,14,4,5,4,1,4,5,14,1,4,4,14,4,9,9,11,14,11,4,5,1,14,14,3,4,1,10,14,1,1,8,14,5,10,1,5,4,3,14,10,4,14,6,4,9,4,2,7,5,10,12,9,5,14,1,10,14,7,11,2,14,9,8,5,12,14,12,14,14,6,4,1,10,10,5,3,1,8,11,5,5,12,10,1,12,10,3,10,10,12,10,11,3,2,10,12,14,13,1,2,11,4,14,1,4,4,4,14,1,10,10,14,14,14,2,14,5,1,5,4,1,14,4,1,1,4,14,10,8,2,10,12,5,8,1,2,8,5,3,10,1,4,5,1,4,14,1,1,1,14,14,14,9,8,1,1,1,11,12,4,1,1,14,4,1,14,14,5,1,5,2,10,4,5,4,4,14,4,6,4,11,10,14,11,14,1,8,13,1,5,14,14,5,4,4,11,12,4,4,1,10,1,6,9,2,4,4,14,1,7,10,14,4,4,14,10,10,4,5,4,14,1,5,10,14,4,5,14,10,5,14,10,10,3,14,4,14,14,1,12,1,11,10,10,4,5,14,5,1,4,4,11,3,4,14,11,10,9,1,1,3,14,5,10,9,11,11,4,14,4,2,11,10,6,6,14,1,14,12,11,3,12,14,14,8,4,11,10,11,11,3,14,11,14,12,14,12,9,4,7,4,14,14,10,8,14,1,1,14,14,14,4,10,5,14,11,10,4,3,14,4,1,9,12,14,4,8,14,4,4,14,3,11,1,1,11,14,6,10,11,9,14,5,4,12,8,4,1,10,3,12,14,10,4,11,7,1,10,14,10,5,5,14,3,5,2,10,4,8,5,1,11,1,2,4,7,10,1,4,13,4,1,12,3,11,10,8,14,10,10,14,14,5,5,7,4,12,14,11,14,14,10,1,5,4,14,14,5,13,5,14,5,1,14,14,10,14,4,14,5,5,9,1,5,14,12,2,14,10,1,10,2,14,5,14,14,14,8,3,14,5,4,3,1,4,10,14,10,5,9,14,12,3,4,9,4,14,12,1,12,14,10,3,2,1,10,14,14,1,14,5,14,4,14,4,14,8,5,1,4,9,5,12,9,1,14,5,10,3,3,14,14,14,1,4,4,10,14,1,5,14,12,9,6,14,11,14,11,10,4,11,1,9,3,8,5,4,11,14,9,4,4,1,2,10,9,1,4,5,10,14,4,3,1,8,14,3,4,5,4,12,14,8,1,1,11,1,14,11,14,5,14,2,10,4,10,11,4,2,8,4,5,11,1,11,5,5,11,10,6,10,10,10,11,10,14,11,1,5,10,4,1,9,2,10,5,5,1,2,4,4,12,10,1,14,1,4,14,14,11,4,3,4,5,11,12,5,10,4,9,6,3,14,7,11,14,10,4,4,3,4,1,4,11,4,14,1,14,12,3,10,10,4,10,1,14,14,14,12,14,5,14,14,14,9,1,2,1,6,8,11,3,14,9,4,8,14,8,14,1,5,9,13,12,1,11,10,5,14,1,5,14,1,5,10,4,2,1,14,4,3,2,14,2,8,14,11,10,14,14,8,11,14,1,14,10,11,1,2,1,14,1,10,14,2,8,8,10,11,5,3,14,14,4,2,11,1,4,14,14,12,10,14,1,12,10,10,9,10,4,14,11,10,3,14,14,3,11,14,14,11,10,14,7,5,10,11,8,11,1,4,8,11,5,14,10,14,11,1,14,14,4,3,12,2,3,3,5,4,10,14,14,5,14,12,10,14,1,1,10,1,8,1,5,11,14,4,10,14,14,4,4,5,12,14,14,12,14,4,14,1,11,5,10,14,10,14,14,7,11,14,10,5,11,4,14,10,10,14,1,10,12,6,14,7,10,1,14,4,4,4,12,14,14,4,3,6,4,1,1,4,11,3,10,3,1,12,10,8,14,4,12,8,14,14,10,10,8,1,8,14,9,14,14,4,1,8,7,4,9,14,3,10,11,1,14,11,14,10,5,11,1,3,14,11,5,4,5,14,6,5,12,14,1,3,14,8,14,10,5,1,14,2,14,14,12,3,8,14,5,4,14,4,14,10,12,4,1,4,1,4,12,11,10,1,8,12,4,11,1,12,2,4,4,14,11,1,14,3,8,14,4,1,11,7,1,5,14,5,10,1,14,3,10,4,6,11,1,8,10,14,3,14,14,1,10,5,5,14,5,14,4,14,2,14,4,4,3,3,11,5,1,10,14,14,10,12,13,5,4,14,12,2,5,4,4,5,5,4,5,11,4,14,14,3,1,4,8,4,14,5,4,11,2,5,1,9,4,4,10,12,1,4,10,1,14,5,5,5,11,10,14,14,11,14,3,11,10,14,1,14,1,8,2,5,9,11,11,11,14,3,10,4,11,14,4,7,14,5,10,14,10,10,6,5,1,1,4,10,3,8,5,3,14,14,4,5,9,3,8,3,10,14,14,13,10,9,8,10,11,10,4,1,1,14,14,14,4,11,4,4,12,4,4,10,1,14,5,10,4,1,1,5,11,4,2,5,14,9,4,13,2,6,9,11,4,6,10,11,8,1,14,12,1,4,1,1,10,1,11,14,14,4,10,1,10,14,14,5,12,14,5,3,10,5,1,10,4,10,4,4,14,1,14,10,14,14,5,4,5,14,5,13,4,14,14,3,14,14,12,4,5,5,14,11,8,1,8,14,14,14,7,14,14,6,4,11,9,1,2,12,4,14,10,11,8,14,5,1,10,8,5,1,11,7,14,12,8,4,11,14,11,1,11,10,14,10,14,14,14,5,14,4,3,1,1,10,5,5,14,10,10,14,14,1,4,4,14,1,4,4,11,14,12,4,14,14,14,10,14,4,14,14,1,11,11,1,5,5,14,11,3,1,14,6,14,1,4,14,14,1,4,3,14,11,2,1,13,14,4,5,5,9,14,14,5,12,4,11,4,1,14,14,11,1,10,10,5,5,4,14,4,1,4,12,2,4,4,4,14,5,14,1,12,1,14,14,4,1,4,11,4,14,11,14,4,4,4,14,3,11,10,14,12,4,1,4,14,12,2,14,14,14,10,11,14,1,14,1,5,14,11,14,14,4,12,4,1,8,1,1,8,11,4,5,5,2,4,14,7,4,4,10,4,14,2,5,4,4,14,6,11,5,4,5,3,3,10,14,4,3,14,6,4,8,7,1,8,5,5,1,10,12,14,14,1,1,14,14,6,14,1,5,4,8,4,6,5,4,11,1,14,1,8,14,5,14,11,14,1,14,10,14,4,5,10,10,4,11,5,10,3,14,4,1,14,1,14,1,7,10,1,5,4,5,14,3,14,10,6,12,12,4,6,4,1,12,14,11,11,14,1,9,5,3,11,4,1,10,9,7,9,10,14,5,1,4,5,13,3,10,14,4,14,5,11,5,5,1,1,10,4,10,4,12,4,12,11,3,14,14,14,1,5,1,5,14,5,5,8,14,1,1,5,5,1,4,10,6,3,1,10,2,9,4,10,10,1,1,14,11,11,1,4,2,11,11,5,1,14,6,10,14,14,8,12,1,5,10,1,11,2,5,1,4,14,14,4,1,4,1,14,3,1,14,5,14,14,14,14,14,8,14,4,1,10,14,4,5,4,10,4,3,2,1,3,7,1,14,11,2,14,4,5,5,5,4,1,14,1,10,1,4,11,1,13,4,14,6,1,14,14,10,14,9,1,14,4,1,9,3,10,1,14,11,4,14,14,4,1,1,11,5,4,14,3,9,3,4,1,1,2,6,10,5,5,10,1,8,10,10,1,5,14,5,10,10,14,14,11,11,4,9,14,5,3,1,10,14,14,5,14,14,14,14,4,1,8,12,14,4,2,14,11,11,1,2,14,4,2,11,4,12,10,8,14,4,11,4,4,4,4,3,4,10,10,12,10,12,14,14,14,4,4,11,4,14,14,12,4,10,14,1,4,11,8,5,10,10,1,4,14,10,1,12,11,5,11,9,14,2,12,4,12,1,4,10,14,4,14,5,1,12,1,1,14,1,11,5,4,1,11,9,11,14,1,5,14,10,4,3,4,8,1,5,10,4,8,14,11,1,14,4,10,8,5,12,3,4,8,4,5,14,1,4,4,5,9,4,5,14,9,9,14,14,8,5,4,14,14,9,11,4,1,10,3,4,4,14,10,3,2,11,4,13,1,1,8,4,10,10,14,9,14,11,11,4,1,10,4,5,4,10,4,5,12,12,3,8,5,10,14,4,4,4,10,14,8,4,5,14,4,4,4,3,4,14,4,8,10,14,9,5,3,12,6,14,4,5,4,1,8,4,4,5,10,5,8,14,14,8,13,10,8,14,10,4,12,4,8,1,4,1,2,14,8,14,5,1,10,11,11,12,8,14,1,12,14,10,14,11,10,14,12,5,11,6,4,9,14,1,4,11,1,14,8,8,10,8,14,14,11,11,10,14,11,9,14,8,10,4,11,2,4,14,14,14,14,10,7,4,10,5,5,5,8,5,10,1,14,1,11,6,14,5,4,4,11,4,1,1,14,14,12,14,14,10,2,3,9,14,14,14,14,3,4,14,4,10,1,14,10,2,4,6,1,4,14,3,5,5,10,10,11,8,1,8,14,14,11,14,12,3,4,1,14,1,7,14,4,8,8,5,14,14,10,14,14,10,10,1,8,14,14,10,14,9,8,3,4,14,10,4,8,5,10,10,14,1,3,5,11,1,1,4,1,5,4,4,13,9,4,11,11,8,3,3,1,11,5,14,1,14,4,10,3,5,1,14,14,1,6,8,1,11,1,5,12,5,14,14,1,14,10,5,11,10,14,11,11,14,14,11,14,4,11,4,4,6,11,14,4,11,1,10,5,14,14,11,4,8,10,5,3,14,9,8,14,10,14,12,1,14,3,14,11,5,4,11,14,2,1,4,1,14,1,14,14,11,1,14,10,12,14,14,10,2,14,5,1,10,5,1,14,11,4,3,4,4,14,4,10,3,14,1,1,3,1,10,14,1,5,14,5,1,4,8,4,10,5,9,8,8,1,12,10,4,14,14,8,5,3,6,14,5,9,14,8,10,4,11,14,11,4,14,3,5,4,1,10,5,9,5,11,4,14,11,10,1,14,10,14,4,14,1,4,3,11,4,4,9,3,14,14,10,14,14,8,10,4,12,5,14,8,12,11,14,1,5,2,2,14,4,14,8,11,8,4,4,8,8,11,4,4,1,4,14,14,4,14,14,14,14,14,2,5,11,14,1,1,7,14,8,1,5,4,14,1,10,14,1,11,14,14,4,11,14,14,11,4,4,14,10,8,4,4,4,11,1,1,5,3,14,11,14,5,14,14,10,11,14,14,8,5,5,5,1,11,4,1,12,3,5,4,4,2,11,5,5,14,14,5,10,4,3,5,4,11,1,4,5,4,8,11,11,1,1,14,14,4,14,4,14,1,4,11,11,4,10,11,13,14,4,5,4,5,14,1,14,10,14,4,6,8,14,1,11,2,7,4,2,4,1,10,8,4,10,11,14,4,11,4,1,14,4,4,4,1,4,11,5,1,8,1,14,10,12,11,10,14,14,14,8,5,1,9,12,14,4,13,8,12,4,2,5,11,4,14,10,3,12,8,11,1,13,5,5,10,10,4,4,11,2,14,5,12,14,11,14,10,14,1,5,11,14,8,5,14,14,10,8,14,14,3,2,10,14,1,10,8,4,3,4,1,5,1,4,4,8,8,14,14,3,4,14,5,1,12,5,1,10,5,2,1,10,5,14,2,10,8,14,14,4,4,8,14,14,12,6,14,1,1,6,5,3,14,10,11,3,14,11,1,14,4,1,5,6,4,1,12,5,9,10,1,2,14,11,3,14,14,14,5,9,14,14,4,11,6,1,5,12,14,10,4,4,14,2,5,10,14,1,10,10,8,10,14,2,2,11,10,9,10,14,5,7,1,4,12,14,1,1,10,4,10,10,8,12,4,2,4,14,1,4,7,10,12,4,14,14,11,14,6,1,2,1,4,2,6,10,4,14,1,10,12,1,11,14,10,7,10,12,8,1,2,14,1,1,9,6,4,8,14,5,5,14,1,1,8,14,4,3,1,8,10,5,8,4,1,10,3,4,14,3,5,10,2,4,4,14,11,1,12,1,7,2,11,4,4,14,12,5,5,9,11,10,12,14,12,3,10,3,10,10,4,4,8,4,2,14,14,14,4,7,14,14,10,4,14,6,10,4,10,5,5,10,4,1,4,14,14,5,10,4,1,14,12,13,8,1,4,14,11,4,14,14,11,4,5,4,10,3,2,10,5,12,5,8,11,14,14,1,4,10,4,8,2,11,5,11,8,14,5,5,8,11,5,13,10,1,1,5,5,3,8,14,4,11,14,1,4,14,14,1,14,10,13,2,11,5,4,12,1,14,10,1,5,10,8,8,14,14,1,8,1,11,5,5,14,14,10,11,7,14,2,4,14,3,5,11,14,5,11,13,1,10,1,14,13,14,14,1,14,8,1,10,10,4,12,4,14,5,3,1,11,12,1,4,4,14,10,3,1,4,1,5,11,1,11,14,8,1,14,7,9,12,11,8,14,10,5,14,6,6,13,5,4,1,11,3,10,8,10,4,11,1,11,4,3,10,4,14,5,14,2,4,14,4,1,2,4,14,10,4,14,4,11,5,11,11,10,10,5,1,4,1,2,4,14,14,1,1,14,2,8,14,4,5,3,14,4,4,11,11,4,14,3,10,14,10,3,14,10,10,10,1,7,12,9,12,10,4,4,10,4,5,14,14,1,12,5,14,14,3,14,4,14,1,10,1,11,4,14,14,7,9,1,4,1,14,14,14,4,8,10,5,3,6,14,14,14,1,1,11,10,5,4,7,10,9,1,4,14,12,4,5,14,5,14,11,2,4,10,5,5,14,4,11,2,4,14,14,4,1,14,14,14,12,2,14,10,14,10,14,10,4,14,13,9,10,14,3,8,1,8,12,14,1,1,4,2,1,4,5,4,11,5,5,13,3,11,14,1,4,10,1,1,10,1,5,1,10,1,3,5,5,5,8,12,1,13,14,11,14,14,14,14,3,4,5,2,7,8,8,12,14,10,1,4,4,1,4,14,5,14,4,14,2,5,4,14,10,8,14,14,13,14,14,1,10,14,3,4,10,4,4,5,10,14,14,1,7,2,10,14,14,3,14,14,2,10,5,4,14,10,11,10,11,4,14,1,4,14,4,10,14,1,14,1,3,11,14,1,14,5,10,4,3,11,11,8,1,12,9,11,3,1,12,4,11,4,10,4,11,11,11,5,14,9,3,1,14,1,6,3,14,10,4,4,12,8,14,1,11,7,5,2,14,4,9,9,14,11,10,1,14,5,14,9,13,1,11,8,8,14,14,1,3,10,14,12,1,4,10,14,13,14,10,11,5,14,14,4,1,4,8,10,14,1,4,11,14,11,4,14,4,5,4,4,14,3,4,8,10,9,14,7,8,10,14,10,1,4,10,11,3,1,1,12,14,5,4,3,1,6,4,10,10,8,14,1,10,8,5,13,14,14,12,4,1,3,1,10,8,14,1,4,10,1,11,8,1,12,10,4,12,10,14,14,11,5,1,14,8,3,5,10,10,11,7,4,4,14,14,14,8,14,5,2,4,5,5,14,4,1,14,10,4,8,11,3,4,1,7,4,11,4,4,14,12,14,1,4,8,5,3,7,5,4,1,1,1,14,14,10,4,1,11,5,10,14,11,1,11,12,8,14,6,13,1,14,1,5,1,5,2,2,14,14,14,12,14,14,6,14,2,1,14,14,10,4,14,1,5,4,5,10,10,1,11,12,1,1,14,10,1,6,14,11,1,14,3,5,14,8,9,10,11,5,11,14,4,12,14,10,3,5,5,5,14,4,14,4,10,4,14,14,1,11,3,14,4,14,5,4,14,4,3,3,2,1,11,10,1,11,3,4,4,4,1,8,11,14,6,14,14,11,10,14,14,14,4,14,13,14,10,10,1,4,10,14,11,8,4,5,1,10,14,14,8,14,14,1,8,14,10,12,11,11,7,14,10,2,14,4,14,1,10,3,5,11,10,14,4,2,9,4,1,14,14,14,4,12,5,3,1,11,5,5,4,2,12,11,14,8,14,5,11,4,1,5,11,5,12,5,11,10,14,14,2,10,11,13,14,4,5,11,4,4,1,4,8,8,5,4,4,14,8,14,14,1,1,14,10,14,4,4,14,14,14,12,14,11,4,4,14,10,8,14,1,8,1,8,11,8,5,4,2,5,3,12,4,11,3,1,14,5,14,7,14,4,10,4,10,10,14,3,5,14,14,11,1,11,5,4,1,4,14,14,4,1,11,5,1,8,14,14,14,11,1,12,14,11,11,14,6,1,5,14,4,5,14,2,14,1,1,6,4,5,4,3,12,4,8,13,4,10,10,10,5,1,1,14,4,8,4,4,10,1,1,14,1,6,14,2,14,9,14,14,3,7,14,14,14,12,10,11,4,4,5,10,1,10,4,1,5,8,2,11,1,14,11,10,5,4,4,14,5,6,14,5,1,9,14,4,4,5,5,10,10,5,11,4,10,14,11,8,10,4,10,5,14,14,10,14,12,12,14,5,8,10,14,4,11,12,14,9,14,5,10,1,14,14,11,7,3,11,1,5,1,10,3,2,10,1,10,4,10,11,10,4,14,8,14,1,4,4,10,4,5,11,10,5,9,14,6,5,2,14,1,11,4,14,14,14,1,14,4,14,14,4,14,12,14,14,7,1,4,4,14,1,14,3,12,3,10,14,1,14,10,12,14,4,14,14,4,11,5,4,14,4,5,14,14,4,14,3,14,2,1,6,14,10,4,12,1,4,1,4,5,12,10,1,14,10,5,10,10,1,13,4,10,11,13,1,14,3,8,4,1,10,1,5,1,14,6,10,4,3,11,9,1,10,11,6,3,14,4,8,14,4,1,4,14,11,11,4,14,14,1,3,11,1,6,4,12,12,4,4,4,4,1,11,4,7,4,1,1,6,4,13,14,14,14,14,11,12,10,9,14,1,1,10,1,14,14,2,2,14,3,1,5,9,2,4,14,11,10,12,14,1,11,10,12,8,8,10,1,14,3,5,4,1,4,8,4,1,8,1,1,4,11,10,4,10,14,1,14,14,12,1,14,14,11,4,3,14,14,4,4,6,3,4,14,8,8,4,5,14,14,4,14,1,8,4,4,14,12,5,10,10,10,12,5,4,2,8,4,1,1,5,5,10,6,14,9,4,5,5,14,14,6,1,2,14,14,10,4,10,11,6,8,4,2,8,4,1,14,5,4,5,1,10,4,4,1,3,14,10,14,4,1,11,11,10,4,14,5,10,4,12,14,4,5,11,9,10,11,11,1,14,14,2,14,10,5,2,14,11,5,14,4,14,1,1,11,4,14,11,10,10,3,6,5,14,3,1,1,6,14,14,5,1,12,14,4,1,10,14,4,14,10,10,8,4,1,1,14,8,10,10,14,7,10,8,4,14,14,10,14,12,10,8,14,14,10,10,9,14,14,3,3,5,4,14,11,5,5,14,2,12,14,10,4,4,14,14,1,14,14,3,11,14,2,4,11,11,8,10,12,12,14,4,4,4,1,14,14,1,4,2,4,4,14,5,14,4,14,7,11,4,11,4,1,14,4,14,5,8,14,1,4,1,6,12,4,5,8,11,4,3,2,10,1,5,1,1,11,10,14,11,14,5,3,3,10,4,10,4,14,5,12,14,4,1,7,4,9,4,14,10,14,5,11,5,3,4,14,3,7,5,11,7,1,11,3,8,14,11,10,5,11,5,10,4,4,8,1,10,9,14,14,14,14,5,10,14,5,3,1,4,4,13,5,10,14,14,5,1,14,14,14,14,5,9,14,3,1,13,4,8,14,14,5,1,10,11,1,14,10,3,5,8,1,1,5,14,2,14,1,8,8,4,4,12,14,6,1,4,5,4,8,8,14,5,14,8,10,9,12,14,3,8,2,4,8,1,4,14,14,14,12,3,10,5,14,4,1,14,8,4,13,14,5,14,12,1,13,4,14,4,10,12,2,12,14,4,14,4,14,5,2,5,4,5,1,14,1,10,4,12,1,14,1,9,11,10,3,14,1,12,11,14,4,14,13,10,4,1,14,1,10,9,12,14,12,5,14,2,9,4,9,11,2,4,4,4,11,5,14,10,11,10,12,3,14,4,4,10,11,1,11,10,8,4,6,14,2,4,4,14,11,3,4,11,4,10,10,5,10,9,10,14,7,14,10,8,4,6,5,14,11,8,11,4,5,14,4,8,12,4,3,14,11,14,1,10,8,1,10,11,14,5,11,4,14,4,10,5,10,11,4,8,5,14,14,5,5,11,3,1,3,10,1,4,6,1,1,11,12,1,11,5,8,14,5,2,14,4,2,11,2,11,14,11,4,2,3,10,10,12,10,4,12,3,14,4,4,10,14,4,10,1,14,4,5,4,1,14,10,14,3,8,14,14,11,8,5,5,1,14,14,8,4,9,14,14,5,8,9,4,10,5,11,1,5,4,12,1,4,14,3,14,3,4,5,12,14,4,5,9,1,2,14,10,5,13,1,4,14,4,4,10,10,3,8,4,12,14,4,5,2,10,8,10,4,4,1,1,5,4,14,10,1,10,1,4,11,14,14,5,10,4,10,4,12,4,12,5,5,14,14,4,4,13,14,12,1,5,5,3,10,14,9,10,5,4,11,10,14,3,14,4,11,5,14,14,14,14,4,4,2,12,5,5,1,10,5,12,4,1,10,6,11,8,14,10,4,13,3,1,10,7,8,8,4,12,11,6,14,11,14,4,4,14,3,4,11,1,5,12,14,4,11,4,3,5,11,12,14,4,3,10,5,14,1,14,7,14,5,1,4,14,14,5,8,5,9,11,10,11,10,3,1,11,5,6,1,1,14,4,2,5,8,8,12,5,4,3,14,1,4,14,14,14,1,14,14,3,11,4,1,3,14,5,14,10,4,14,14,14,12,11,14,14,12,7,5,12,4,1,14,5,14,10,4,10,10,2,4,14,14,5,11,6,5,4,4,4,10,13,3,4,4,5,5,5,4,10,11,5,1,12,1,4,4,5,14,5,11,5,4,10,3,10,14,14,4,8,4,14,8,4,14,1,1,14,10,4,4,14,4,14,5,5,9,1,10,3,4,8,10,10,14,1,14,1,1,1,4,10,11,14,4,1,1,11,11,4,10,4,14,8,14,11,4,13,4,1,10,4,10,11,14,14,14,4,2,4,14,1,4,4,2,14,1,14,8,8,4,4,14,5,5,11,14,11,4,5,1,4,8,14,14,1,14,1,5,1,4,8,14,14,14,2,14,4,4,14,8,10,10,3,11,1,14,14,4,11,4,6,1,14,4,10,5,14,6,14,10,5,11,1,10,1,4,1,14,10,1,4,1,11,14,8,4,8,4,1,1,4,5,14,12,1,4,4,10,1,1,11,8,5,4,10,5,4,9,5,1,3,14,11,8,10,11,14,4,8,8,14,3,9,14,14,14,2,4,4,14,4,4,14,11,14,14,14,3,1,12,1,11,5,3,10,11,10,4,1,1,5,5,11,14,14,3,3,14,8,1,14,14,11,1,14,11,3,3,4,10,4,5,4,1,13,4,14,14,5,3,5,4,14,1,12,8,14,14,3,2,1,1,4,14,3,4,14,7,8,14,4,8,5,10,1,11,14,1,3,5,1,14,10,1,4,5,3,11,5,4,10,1,14,4,10,11,11,14,14,13,10,9,4,4,1,11,14,5,4,14,5,4,4,10,5,10,4,4,6,7,1,5,1,8,11,9,5,11,10,10,4,10,4,14,1,1,14,12,5,1,1,14,11,5,9,11,10,5,10,14,4,1,10,14,4,12,10,14,10,1,5,4,1,14,14,4,11,11,5,14,14,8,3,12,14,6,11,14,1,5,4,7,14,3,14,11,4,5,3,14,11,14,2,5,3,14,5,1,10,4,2,14,5,4,14,14,4,7,1,1,8,12,4,4,10,2,11,4,1,10,5,5,4,4,6,1,14,4,11,4,14,14,5,1,5,1,14,5,1,10,12,5,5,3,3,10,2,5,2,7,4,11,14,11,4,14,10,14,1,8,4,9,2,5,14,1,14,11,14,10,14,4,4,8,8,14,5,14,4,8,11,5,2,3,5,4,4,14,4,14,3,1,14,3,11,1,5,14,5,4,11,5,14,9,14,4,9,4,14,11,4,1,10,10,10,11,4,1,5,14,4,11,8,10,7,14,1,13,3,4,1,10,1,4,8,5,12,14,14,2,1,2,1,6,14,14,14,12,11,14,5,4,5,1,4,5,2,1,14,14,11,5,7,14,5,5,2,14,4,2,10,1,10,11,5,1,12,2,2,7,13,5,14,12,14,10,14,1,14,11,3,5,14,4,14,1,4,4,14,4,14,1,4,4,12,1,1,10,5,1,14,1,8,14,10,9,1,14,12,10,4,14,2,4,4,1,14,11,8,14,4,4,10,3,7,5,8,5,14,1,5,14,6,5,5,14,1,11,8,4,5,14,12,11,14,10,14,14,14,14,8,4,1,10,4,5,1,4,1,5,4,14,1,4,14,1,1,4,4,1,4,10,4,14,10,14,11,14,4,4,4,4,5,4,1,12,8,5,1,4,14,10,8,11,3,4,1,4,11,14,10,12,8,2,14,2,10,14,14,14,8,10,13,14,10,10,4,11,11,14,14,14,13,4,5,5,14,4,4,4,1,14,14,8,10,3,5,4,14,14,14,4,2,12,14,5,8,14,10,4,4,14,2,1,12,1,14,14,1,14,14,14,14,4,4,6,1,14,4,1,7,4,14,13,4,7,4,9,4,14,14,12,5,1,12,11,5,10,1,1,3,5,4,14,14,1,8,8,4,4,12,3,14,4,14,14,1,11,14,11,3,4,5,4,2,11,1,2,11,1,14,11,14,4,1,14,8,5,4,12,5,1,8,11,2,14,5,12,11,8,1,10,6,12,8,4,11,10,4,3,4,10,4,1,4,14,14,3,14,5,1,9,4,5,1,8,4,10,4,4,5,14,1,10,8,1,12,8,11,11,5,4,14,1,11,11,14,1,5,7,10,5,4,1,8,11,11,1,14,2,14,4,1,14,2,14,10,4,9,10,5,5,14,14,10,6,14,5,14,4,14,12,12,12,4,10,5,5,14,14,12,4,14,8,14,3,12,10,3,4,14,4,5,10,4,14,9,14,5,4,11,14,4,4,14,3,11,14,5,10,8,2,14,11,5,14,14,5,3,5,1,11,10,5,4,6,11,11,12,14,4,11,10,5,11,1,10,10,5,8,11,14,7,10,12,8,1,14,5,14,1,8,5,9,4,14,12,5,5,4,11,1,8,14,14,14,9,4,10,10,10,5,4,1,11,3,4,7,1,1,1,6,11,11,14,1,6,9,9,14,12,4,14,10,11,11,14,5,3,5,10,2,14,2,1,14,14,10,1,14,4,5,1,2,3,11,11,10,4,14,14,11,4,11,11,5,8,10,3,10,5,1,1,4,8,14,1,1,14,4,14,8,5,5,1,10,11,2,14,5,1,12,1,4,14,1,14,9,14,11,4,1,10,2,14,14,3,14,10,1,4,3,14,3,10,5,11,4,1,14,14,5,7,11,14,11,14,4,12,4,3,1,9,9,4,14,14,12,5,11,4,14,4,14,1,11,4,3,3,1,14,4,10,8,11,9,4,9,11,10,11,14,1,1,14,5,5,9,10,9,14,10,11,8,10,8,4,10,4,1,4,4,14,4,1,4,4,10,2,14,4,4,1,11,10,1,12,10,11,1,4,14,1,1,14,2,8,4,10,11,11,5,14,1,14,5,2,11,1,14,4,8,10,4,5,5,11,9,10,4,4,9,4,1,10,14,14,5,14,10,5,1,11,1,14,14,12,13,1,5,1,10,10,14,12,4,6,4,1,4,14,14,14,10,5,3,10,5,4,12,10,11,4,10,4,1,14,5,10,1,14,4,14,11,10,4,14,14,14,1,5,3,1,14,3,8,14,5,14,10,8,14,1,8,13,10,4,1,10,10,14,14,10,6,8,10,2,9,9,14,2,12,14,3,14,11,1,5,5,3,4,14,3,5,3,4,14,14,1,14,11,1,5,14,4,14,5,11,4,14,14,14,14,14,11,14,2,8,4,10,1,10,10,4,14,5,1,14,14,4,11,1,3,1,3,4,11,5,4,11,14,8,4,14,4,14,9,4,10,8,14,14,10,10,12,8,5,12,1,4,10,14,14,14,4,4,5,4,4,4,11,1,10,1,5,6,14,5,11,5,10,3,14,14,10,14,14,5,5,14,14,11,14,14,1,4,14,9,5,10,14,4,10,3,4,5,14,1,5,4,14,4,8,11,8,1,13,9,10,13,10,1,4,7,4,1,4,14,4,11,1,11,8,2,14,14,4,11,1,10,8,12,5,5,4,11,6,1,4,4,4,11,1,9,1,1,14,10,1,3,8,1,12,14,8,14,14,7,14,11,11,4,5,4,14,11,13,14,8,8,8,1,14,10,1,14,9,14,1,3,11,4,4,12,2,10,5,14,14,10,14,10,1,14,4,1,10,5,2,11,14,4,14,10,14,14,2,14,11,14,3,14,8,1,3,10,14,4,1,14,8,4,12,4,10,1,10,4,1,4,14,1,4,1,12,14,8,14,5,14,14,10,3,4,3,11,3,4,14,1,1,10,4,10,10,4,14,1,9,2,14,5,5,4,1,10,10,4,1,14,8,4,5,2,1,14,5,10,14,14,14,14,5,8,14,14,4,11,2,2,12,14,12,10,14,14,14,10,14,9,10,11,14,14,5,2,14,5,14,4,7,11,2,10,2,3,10,11,4,4,7,12,1,3,4,7,10,12,14,14,10,5,5,10,1,1,14,10,6,4,7,14,10,14,8,8,4,14,14,4,3,1,4,4,14,14,1,5,10,1,4,11,14,8,8,14,4,1,4,5,14,14,1,10,14,1,5,9,4,14,7,4,8,4,4,10,4,4,9,11,14,10,2,14,12,11,14,1,14,4,1,4,1,3,4,1,11,14,14,8,14,14,5,12,1,14,2,1,11,10,5,10,14,4,8,5,10,14,1,1,14,14,4,10,4,4,14,14,10,5,4,3,11,14,11,4,14,11,5,14,1,14,11,4,1,8,1,5,11,3,8,4,14,4,4,12,4,14,14,5,3,4,14,10,14,1,5,4,14,10,5,14,9,5,14,8,5,14,14,10,4,3,4,11,10,1,6,11,14,5,4,11,13,1,10,14,14,4,11,4,1,1,4,11,4,5,14,10,5,13,2,14,14,2,2,1,3,11,14,14,10,4,11,3,14,8,1,14,4,1,11,14,11,8,10,9,3,14,14,6,5,4,10,14,5,2,14,10,14,4,3,4,5,14,1,14,5,11,5,1,8,11,14,11,9,5,10,14,14,1,12,14,11,10,5,5,8,10,4,5,5,4,11,1,14,10,14,1,14,3,14,14,4,5,10,1,1,4,1,5,14,13,4,5,3,2,14,4,12,14,14,14,14,4,14,14,2,14,9,1,14,2,8,3,14,2,1,14,14,14,12,14,14,14,10,14,5,14,7,8,8,14,14,3,1,14,14,4,1,10,14,14,10,4,4,5,14,10,14,14,1,9,11,10,5,11,8,11,4,4,5,1,1,11,5,4,11,14,14,14,11,4,11,14,10,13,1,4,11,14,9,4,3,4,10,10,4,5,14,8,4,5,10,14,7,14,14,3,11,1,13,4,3,5,1,5,2,14,5,5,4,2,12,13,4,4,14,4,5,8,8,4,9,10,14,10,10,1,4,11,4,5,14,4,10,11,1,2,4,14,14,14,14,5,14,5,3,4,2,14,1,1,10,5,11,14,14,5,14,5,8,14,2,10,13,10,8,4,11,12,8,10,14,14,10,14,6,10,1,14,13,3,14,5,14,14,14,11,12,14,12,5,5,1,12,1,14,14,3,4,5,8,1,10,14,4,2,14,14,4,4,4,14,4,5,14,1,9,14,3,3,4,2,11,14,4,14,5,10,5,1,14,5,1,14,1,14,4,10,14,11,1,14,10,5,6,14,10,10,10,1,4,4,5,4,4,1,4,10,5,5,1,1,14,5,1,1,3,9,5,14,10,10,10,11,12,5,14,4,10,14,14,14,10,14,14,14,5,1,5,1,14,14,1,4,2,10,8,14,8,5,12,1,14,1,4,7,1,1,1,5,10,4,8,12,4,5,4,4,5,1,8,14,4,12,8,10,7,9,1,3,14,10,4,5,2,8,9,3,12,11,10,4,8,14,11,14,11,5,12,11,4,14,3,1,5,12,4,10,14,11,4,14,8,2,8,14,1,14,14,4,1,5,14,8,14,4,14,5,14,5,8,11,10,4,11,8,4,4,4,12,4,8,14,14,11,5,1,14,6,5,10,4,14,10,5,10,14,1,3,11,1,5,14,12,3,4,5,12,3,14,14,5,10,14,5,4,5,14,4,11,4,10,10,14,8,10,11,5,1,14,12,11,8,11,4,11,14,5,14,14,14,5,5,8,4,11,1,4,11,4,11,3,1,4,14,4,5,14,14,14,4,8,1,14,3,14,2,1,4,1,9,4,11,8,5,8,5,14,5,4,10,11,11,11,5,4,5,1,2,10,7,14,10,12,6,8,4,3,12,11,11,4,7,1,5,14,5,1,14,14,1,1,2,10,14,3,14,14,7,14,4,14,14,1,14,10,14,13,14,14,11,5,10,1,14,7,14,4,14,11,14,7,5,14,11,4,5,14,5,1,3,14,14,8,10,14,14,8,4,12,10,1,10,8,10,14,12,1,5,10,4,5,11,5,11,14,14,2,10,10,12,1,10,5,10,1,10,11,12,1,5,11,1,4,4,11,10,1,4,1,4,9,3,5,14,14,10,13,14,2,1,10,5,5,1,5,14,14,3,5,11,5,14,5,14,1,8,11,11,11,3,14,11,5,4,4,14,10,3,8,14,6,5,5,14,1,14,6,5,4,1,11,5,13,10,7,8,10,1,14,14,10,3,13,1,14,12,3,5,1,14,1,6,6,11,12,10,12,14,14,1,1,1,10,4,3,1,12,8,12,1,3,8,14,14,1,12,10,14,1,10,10,14,11,10,14,10,8,9,10,3,3,5,1,4,11,14,10,4,5,4,12,8,14,11,1,4,10,14,2,14,10,1,14,12,4,11,4,4,10,1,14,1,8,4,14,8,4,8,10,14,4,14,9,14,11,11,10,13,9,10,11,4,14,4,8,14,1,12,14,14,4,7,11,4,4,4,14,4,4,1,10,4,14,14,6,1,11,4,2,4,12,4,14,3,1,4,1,10,1,5,5,5,2,4,1,1,4,13,5,12,12,4,8,14,14,14,12,1,10,11,5,12,11,12,12,10,4,4,5,14,14,11,14,8,14,11,1,14,5,2,1,1,14,1,4,3,10,4,5,6,12,1,5,7,11,11,4,3,11,4,14,14,2,7,14,8,5,8,1,1,8,5,14,5,8,14,10,14,4,4,14,14,5,1,4,2,4,14,8,1,4,14,3,8,11,11,14,14,1,10,5,14,3,14,11,10,3,3,5,14,3,14,14,5,5,14,14,14,14,11,4,1,14,4,14,12,4,1,1,4,4,14,5,11,14,1,1,14,14,4,4,14,14,11,14,12,7,10,14,1,11,1,11,14,1,5,14,11,5,12,14,4,5,10,11,1,13,12,5,13,4,14,1,14,10,4,11,14,11,8,1,4,5,8,5,14,12,9,14,5,14,1,14,4,14,4,14,10,10,3,3,11,4,3,5,5,11,10,1,5,7,5,4,10,11,10,10,14,10,4,5,1,14,2,14,9,1,10,5,10,3,8,10,5,14,5,4,4,5,2,9,14,1,1,4,4,11,11,11,14,4,14,4,4,3,12,4,1,5,14,1,13,14,14,4,10,14,14,10,5,4,14,1,14,5,4,1,1,5,1,8,10,14,14,14,3,4,10,13,14,4,14,5,10,1,1,1,11,10,5,4,4,4,12,5,4,4,1,4,14,9,10,4,14,9,13,5,14,10,2,4,12,1,14,4,5,14,10,10,1,10,2,1,11,4,14,14,10,8,12,10,11,11,5,1,4,1,4,5,4,3,11,10,4,10,10,8,4,10,10,11,10,3,11,4,8,10,14,5,4,1,3,5,10,8,11,14,1,13,5,14,14,4,14,10,14,14,11,13,14,11,14,5,4,14,4,14,1,13,14,1,14,14,14,14,1,14,4,10,14,1,4,10,10,10,1,4,11,12,4,1,3,12,4,11,4,9,10,4,4,4,14,10,10,1,1,1,12,14,8,10,5,4,4,1,10,6,11,1,14,1,1,5,7,4,14,14,8,1,5,10,3,14,5,1,4,1,14,10,14,8,14,5,14,12,10,10,8,11,13,14,14,14,3,4,14,4,3,4,14,11,10,14,5,14,10,11,4,4,5,14,1,14,12,1,3,12,10,10,14,14,5,10,14,14,4,1,14,14,10,8,13,3,1,5,14,14,14,14,14,4,2,5,5,14,4,4,10,11,2,4,14,14,3,14,14,8,14,14,3,5,5,5,12,11,4,7,11,14,2,1,14,12,2,12,4,12,14,2,14,11,6,14,1,10,6,14,1,14,14,14,5,14,4,11,3,4,14,4,6,10,14,8,14,5,5,8,2,14,14,7,4,14,3,11,14,1,4,14,1,14,11,10,12,10,4,11,4,14,14,4,1,5,11,14,11,11,9,14,14,11,5,12,14,10,1,4,9,11,4,1,5,1,4,4,5,8,11,14,4,3,10,9,14,11,4,11,14,14,12,14,10,13,10,14,11,14,14,5,14,4,6,14,11,9,14,4,14,12,14,13,14,10,4,4,10,8,14,4,2,10,4,4,2,5,8,4,4,14,11,11,11,14,4,11,14,11,11,14,11,10,1,4,11,4,6,11,12,10,1,14,1,14,10,1,5,12,11,10,11,14,14,10,1,1,5,14,8,7,14,10,4,11,10,5,10,14,7,11,5,4,14,10,5,4,8,4,10,1,4,1,10,1,5,12,4,14,4,4,4,4,4,1,10,4,9,14,11,10,12,4,6,14,14,10,5,5,11,4,5,4,14,1,10,14,14,12,14,1,5,2,4,4,12,4,1,5,4,4,4,10,4,11,9,1,14,5,14,12,2,10,11,14,5,4,11,1,14,2,5,9,14,5,4,14,1,3,4,12,4,4,2,14,7,11,4,12,3,10,9,11,11,4,14,1,14,4,4,14,4,14,5,8,11,10,4,1,1,2,5,11,4,5,14,12,4,14,11,14,5,5,9,13,1,3,10,11,9,6,2,1,14,14,4,4,12,14,12,7,14,14,14,4,1,5,13,1,3,8,14,5,14,8,11,4,1,4,6,4,13,12,4,14,5,14,11,14,10,5,12,10,10,10,12,14,12,14,1,1,10,11,1,14,1,10,7,4,13,11,2,10,1,1,4,10,14,4,8,10,10,4,14,14,2,5,14,10,8,4,11,7,14,11,3,11,14,10,14,1,4,1,3,5,5,10,1,14,4,14,5,8,3,8,5,11,4,1,12,5,8,7,1,11,11,2,1,10,14,4,14,4,1,3,10,5,4,1,12,7,13,4,11,11,14,13,14,2,14,14,11,2,11,14,13,3,9,14,14,14,7,5,12,3,3,14,4,13,14,5,10,1,14,5,4,10,4,1,4,5,14,8,10,11,14,5,10,13,14,10,10,14,2,11,1,5,12,3,5,14,10,9,14,1,5,14,14,5,14,14,14,1,11,14,9,5,9,5,12,8,11,8,10,1,5,14,14,10,12,10,14,6,11,10,14,8,5,4,3,4,13,1,14,1,1,14,5,11,4,5,10,14,11,5,14,6,5,14,14,1,10,14,5,12,8,11,3,4,5,10,10,14,4,1,1,8,5,14,14,5,14,5,14,6,4,14,14,14,10,14,11,14,5,1,2,4,14,14,14,10,11,11,11,10,4,8,1,12,4,4,14,3,5,8,4,1,10,5,14,4,5,2,5,8,9,14,5,11,11,4,14,4,14,1,1,4,4,4,4,6,5,14,4,5,4,5,14,12,5,6,4,4,14,10,4,14,14,8,14,14,14,5,7,1,8,3,10,14,8,10,4,13,4,2,5,10,8,4,1,11,1,4,5,1,14,14,12,1,5,14,4,4,1,14,14,5,14,12,5,1,8,14,4,12,14,12,11,1,14,12,10,1,1,6,14,10,5,10,8,10,4,14,2,1,10,4,14,1,1,4,4,4,4,14,3,4,4,14,10,14,5,12,1,14,3,10,10,5,14,4,12,1,11,4,4,2,4,14,10,14,1,4,1,11,2,13,5,1,14,1,5,3,3,8,12,5,1,11,7,11,12,14,11,1,2,11,4,1,5,13,1,11,3,4,1,11,10,10,1,4,1,10,4,5,11,10,14,13,4,1,8,12,14,4,2,11,11,8,4,14,4,14,1,5,11,1,10,2,6,3,8,14,3,10,3,14,14,10,14,7,10,1,4,8,1,14,7,11,8,7,14,1,2,11,2,3,14,12,3,5,14,5,14,14,4,5,11,10,14,14,4,1,1,3,14,4,14,10,14,1,2,8,14,1,11,5,14,5,11,14,4,14,12,7,14,5,11,11,1,4,5,14,3,9,5,1,14,14,4,14,1,5,3,14,10,1,7,3,1,12,2,4,4,9,11,5,3,14,5,4,1,14,14,14,8,11,11,1,1,5,5,3,14,14,12,5,3,9,13,14,14,5,10,8,11,12,3,14,11,14,4,11,1,4,10,12,10,5,11,14,10,14,14,6,10,1,1,5,9,3,4,14,8,11,11,14,10,4,10,5,4,5,5,14,11,9,14,1,14,1,8,5,11,14,14,1,5,14,4,11,2,7,11,12,5,5,1,1,4,11,10,14,10,10,5,14,5,10,14,1,5,3,10,14,14,5,10,1,8,14,14,5,10,11,5,14,4,14,1,8,11,14,14,11,4,14,4,13,4,14,1,6,11,12,12,1,1,5,5,3,10,4,14,1,9,5,14,7,3,10,5,1,1,11,5,6,14,4,5,14,5,14,1,4,10,11,14,11,10,1,14,14,8,7,6,11,5,12,10,4,4,14,10,10,4,4,13,5,14,1,4,8,14,14,14,10,8,4,10,6,14,5,4,1,3,1,1,1,4,1,1,7,8,1,1,11,1,14,8,14,14,6,11,10,12,10,5,10,10,5,3,1,10,3,11,12,10,8,5,11,5,10,11,3,11,2,8,4,4,10,14,14,5,11,11,1,1,4,5,5,14,9,14,5,1,11,10,10,1,4,14,1,10,14,1,9,4,4,2,4,10,3,14,10,8,4,4,14,5,11,14,12,11,14,1,9,11,1,3,10,7,4,1,11,6,9,11,5,1,1,14,1,1,14,12,5,14,14,11,11,7,12,11,3,11,7,10,1,5,11,4,12,10,11,14,4,10,4,8,10,3,4,14,1,4,7,2,10,4,14,10,8,5,4,1,14,1,12,1,4,11,10,14,5,10,4,5,4,10,2,8,1,14,1,12,8,1,8,11,1,5,14,1,14,14,1,10,1,10,14,5,5,14,11,12,5,14,12,4,10,14,5,11,14,10,14,14,4,10,5,14,7,12,10,1,2,14,4,4,4,10,14,5,8,14,5,5,4,1,1,3,14,8,13,14,12,2,14,5,11,8,14,4,14,14,5,14,4,1,14,14,10,14,14,4,14,11,14,11,10,9,10,14,4,3,5,14,9,10,5,6,14,4,10,5,14,14,14,5,4,3,14,11,3,8,4,14,14,7,10,14,1,14,10,14,3,14,1,1,14,3,4,4,14,1,14,4,10,12,14,11,14,10,1,5,8,4,8,14,5,2,5,9,8,14,11,8,4,2,4,9,9,14,10,12,14,4,1,12,11,8,4,10,5,5,14,1,4,11,9,4,4,11,5,10,4,5,10,8,1,5,11,4,4,10,7,10,11,4,8,1,4,3,12,14,8,8,14,14,11,8,4,1,14,1,5,14,4,14,8,5,11,4,1,1,4,6,10,1,11,4,1,4,5,10,5,3,4,14,14,4,5,14,11,2,9,5,14,11,14,4,4,4,14,14,11,11,14,4,14,14,13,5,8,1,1,1,5,11,4,8,1,2,14,4,11,14,12,9,7,3,8,11,14,6,4,5,4,14,4,8,8,1,8,9,11,11,14,14,5,1,4,1,11,4,14,14,2,12,8,4,2,4,3,14,4,14,1,5,4,14,14,14,11,1,4,14,11,4,9,14,1,10,4,1,10,3,14,4,14,2,3,2,11,5,8,12,1,11,11,14,1,1,14,4,10,1,1,10,8,14,2,12,2,11,14,4,14,14,14,12,14,14,14,14,11,10,11,4,2,1,8,1,9,4,8,2,11,4,10,14,1,8,1,14,10,14,5,3,14,11,14,14,12,5,11,8,5,5,8,3,3,12,14,5,6,4,10,4,7,4,12,14,14,4,3,6,10,14,5,1,5,6,5,7,3,14,6,5,12,14,4,10,1,14,13,2,14,2,14,1,1,14,14,14,4,1,11,5,8,6,10,11,1,3,4,4,5,2,1,11,5,3,5,5,11,11,11,4,4,14,8,3,7,11,14,14,4,1,10,1,7,4,1,4,12,2,3,2,2,14,4,4,4,5,10,11,4,10,4,14,14,14,1,1,5,10,1,14,8,1,14,8,8,8,10,14,4,8,1,4,5,11,5,1,11,4,3,14,5,4,4,4,14,14,14,11,5,4,14,1,1,1,5,14,14,12,4,4,10,4,10,12,4,4,1,13,9,4,10,14,10,10,14,5,11,8,1],\"legendgroup\":\"\",\"name\":\"\",\"showlegend\":true,\"type\":\"pie\",\"textinfo\":\"value+percent+label\",\"textposition\":\"inside\"}],                        {\"template\":{\"data\":{\"barpolar\":[{\"marker\":{\"line\":{\"color\":\"rgb(234,234,242)\",\"width\":0.5},\"pattern\":{\"fillmode\":\"overlay\",\"size\":10,\"solidity\":0.2}},\"type\":\"barpolar\"}],\"bar\":[{\"error_x\":{\"color\":\"rgb(36,36,36)\"},\"error_y\":{\"color\":\"rgb(36,36,36)\"},\"marker\":{\"line\":{\"color\":\"rgb(234,234,242)\",\"width\":0.5},\"pattern\":{\"fillmode\":\"overlay\",\"size\":10,\"solidity\":0.2}},\"type\":\"bar\"}],\"carpet\":[{\"aaxis\":{\"endlinecolor\":\"rgb(36,36,36)\",\"gridcolor\":\"white\",\"linecolor\":\"white\",\"minorgridcolor\":\"white\",\"startlinecolor\":\"rgb(36,36,36)\"},\"baxis\":{\"endlinecolor\":\"rgb(36,36,36)\",\"gridcolor\":\"white\",\"linecolor\":\"white\",\"minorgridcolor\":\"white\",\"startlinecolor\":\"rgb(36,36,36)\"},\"type\":\"carpet\"}],\"choropleth\":[{\"colorbar\":{\"outlinewidth\":0,\"tickcolor\":\"rgb(36,36,36)\",\"ticklen\":8,\"ticks\":\"outside\",\"tickwidth\":2},\"type\":\"choropleth\"}],\"contourcarpet\":[{\"colorbar\":{\"outlinewidth\":0,\"tickcolor\":\"rgb(36,36,36)\",\"ticklen\":8,\"ticks\":\"outside\",\"tickwidth\":2},\"type\":\"contourcarpet\"}],\"contour\":[{\"colorbar\":{\"outlinewidth\":0,\"tickcolor\":\"rgb(36,36,36)\",\"ticklen\":8,\"ticks\":\"outside\",\"tickwidth\":2},\"colorscale\":[[0.0,\"rgb(2,4,25)\"],[0.06274509803921569,\"rgb(24,15,41)\"],[0.12549019607843137,\"rgb(47,23,57)\"],[0.18823529411764706,\"rgb(71,28,72)\"],[0.25098039215686274,\"rgb(97,30,82)\"],[0.3137254901960784,\"rgb(123,30,89)\"],[0.3764705882352941,\"rgb(150,27,91)\"],[0.4392156862745098,\"rgb(177,22,88)\"],[0.5019607843137255,\"rgb(203,26,79)\"],[0.5647058823529412,\"rgb(223,47,67)\"],[0.6274509803921569,\"rgb(236,76,61)\"],[0.6901960784313725,\"rgb(242,107,73)\"],[0.7529411764705882,\"rgb(244,135,95)\"],[0.8156862745098039,\"rgb(245,162,122)\"],[0.8784313725490196,\"rgb(246,188,153)\"],[0.9411764705882353,\"rgb(247,212,187)\"],[1.0,\"rgb(250,234,220)\"]],\"type\":\"contour\"}],\"heatmapgl\":[{\"colorbar\":{\"outlinewidth\":0,\"tickcolor\":\"rgb(36,36,36)\",\"ticklen\":8,\"ticks\":\"outside\",\"tickwidth\":2},\"colorscale\":[[0.0,\"rgb(2,4,25)\"],[0.06274509803921569,\"rgb(24,15,41)\"],[0.12549019607843137,\"rgb(47,23,57)\"],[0.18823529411764706,\"rgb(71,28,72)\"],[0.25098039215686274,\"rgb(97,30,82)\"],[0.3137254901960784,\"rgb(123,30,89)\"],[0.3764705882352941,\"rgb(150,27,91)\"],[0.4392156862745098,\"rgb(177,22,88)\"],[0.5019607843137255,\"rgb(203,26,79)\"],[0.5647058823529412,\"rgb(223,47,67)\"],[0.6274509803921569,\"rgb(236,76,61)\"],[0.6901960784313725,\"rgb(242,107,73)\"],[0.7529411764705882,\"rgb(244,135,95)\"],[0.8156862745098039,\"rgb(245,162,122)\"],[0.8784313725490196,\"rgb(246,188,153)\"],[0.9411764705882353,\"rgb(247,212,187)\"],[1.0,\"rgb(250,234,220)\"]],\"type\":\"heatmapgl\"}],\"heatmap\":[{\"colorbar\":{\"outlinewidth\":0,\"tickcolor\":\"rgb(36,36,36)\",\"ticklen\":8,\"ticks\":\"outside\",\"tickwidth\":2},\"colorscale\":[[0.0,\"rgb(2,4,25)\"],[0.06274509803921569,\"rgb(24,15,41)\"],[0.12549019607843137,\"rgb(47,23,57)\"],[0.18823529411764706,\"rgb(71,28,72)\"],[0.25098039215686274,\"rgb(97,30,82)\"],[0.3137254901960784,\"rgb(123,30,89)\"],[0.3764705882352941,\"rgb(150,27,91)\"],[0.4392156862745098,\"rgb(177,22,88)\"],[0.5019607843137255,\"rgb(203,26,79)\"],[0.5647058823529412,\"rgb(223,47,67)\"],[0.6274509803921569,\"rgb(236,76,61)\"],[0.6901960784313725,\"rgb(242,107,73)\"],[0.7529411764705882,\"rgb(244,135,95)\"],[0.8156862745098039,\"rgb(245,162,122)\"],[0.8784313725490196,\"rgb(246,188,153)\"],[0.9411764705882353,\"rgb(247,212,187)\"],[1.0,\"rgb(250,234,220)\"]],\"type\":\"heatmap\"}],\"histogram2dcontour\":[{\"colorbar\":{\"outlinewidth\":0,\"tickcolor\":\"rgb(36,36,36)\",\"ticklen\":8,\"ticks\":\"outside\",\"tickwidth\":2},\"colorscale\":[[0.0,\"rgb(2,4,25)\"],[0.06274509803921569,\"rgb(24,15,41)\"],[0.12549019607843137,\"rgb(47,23,57)\"],[0.18823529411764706,\"rgb(71,28,72)\"],[0.25098039215686274,\"rgb(97,30,82)\"],[0.3137254901960784,\"rgb(123,30,89)\"],[0.3764705882352941,\"rgb(150,27,91)\"],[0.4392156862745098,\"rgb(177,22,88)\"],[0.5019607843137255,\"rgb(203,26,79)\"],[0.5647058823529412,\"rgb(223,47,67)\"],[0.6274509803921569,\"rgb(236,76,61)\"],[0.6901960784313725,\"rgb(242,107,73)\"],[0.7529411764705882,\"rgb(244,135,95)\"],[0.8156862745098039,\"rgb(245,162,122)\"],[0.8784313725490196,\"rgb(246,188,153)\"],[0.9411764705882353,\"rgb(247,212,187)\"],[1.0,\"rgb(250,234,220)\"]],\"type\":\"histogram2dcontour\"}],\"histogram2d\":[{\"colorbar\":{\"outlinewidth\":0,\"tickcolor\":\"rgb(36,36,36)\",\"ticklen\":8,\"ticks\":\"outside\",\"tickwidth\":2},\"colorscale\":[[0.0,\"rgb(2,4,25)\"],[0.06274509803921569,\"rgb(24,15,41)\"],[0.12549019607843137,\"rgb(47,23,57)\"],[0.18823529411764706,\"rgb(71,28,72)\"],[0.25098039215686274,\"rgb(97,30,82)\"],[0.3137254901960784,\"rgb(123,30,89)\"],[0.3764705882352941,\"rgb(150,27,91)\"],[0.4392156862745098,\"rgb(177,22,88)\"],[0.5019607843137255,\"rgb(203,26,79)\"],[0.5647058823529412,\"rgb(223,47,67)\"],[0.6274509803921569,\"rgb(236,76,61)\"],[0.6901960784313725,\"rgb(242,107,73)\"],[0.7529411764705882,\"rgb(244,135,95)\"],[0.8156862745098039,\"rgb(245,162,122)\"],[0.8784313725490196,\"rgb(246,188,153)\"],[0.9411764705882353,\"rgb(247,212,187)\"],[1.0,\"rgb(250,234,220)\"]],\"type\":\"histogram2d\"}],\"histogram\":[{\"marker\":{\"pattern\":{\"fillmode\":\"overlay\",\"size\":10,\"solidity\":0.2}},\"type\":\"histogram\"}],\"mesh3d\":[{\"colorbar\":{\"outlinewidth\":0,\"tickcolor\":\"rgb(36,36,36)\",\"ticklen\":8,\"ticks\":\"outside\",\"tickwidth\":2},\"type\":\"mesh3d\"}],\"parcoords\":[{\"line\":{\"colorbar\":{\"outlinewidth\":0,\"tickcolor\":\"rgb(36,36,36)\",\"ticklen\":8,\"ticks\":\"outside\",\"tickwidth\":2}},\"type\":\"parcoords\"}],\"pie\":[{\"automargin\":true,\"type\":\"pie\"}],\"scatter3d\":[{\"line\":{\"colorbar\":{\"outlinewidth\":0,\"tickcolor\":\"rgb(36,36,36)\",\"ticklen\":8,\"ticks\":\"outside\",\"tickwidth\":2}},\"marker\":{\"colorbar\":{\"outlinewidth\":0,\"tickcolor\":\"rgb(36,36,36)\",\"ticklen\":8,\"ticks\":\"outside\",\"tickwidth\":2}},\"type\":\"scatter3d\"}],\"scattercarpet\":[{\"marker\":{\"colorbar\":{\"outlinewidth\":0,\"tickcolor\":\"rgb(36,36,36)\",\"ticklen\":8,\"ticks\":\"outside\",\"tickwidth\":2}},\"type\":\"scattercarpet\"}],\"scattergeo\":[{\"marker\":{\"colorbar\":{\"outlinewidth\":0,\"tickcolor\":\"rgb(36,36,36)\",\"ticklen\":8,\"ticks\":\"outside\",\"tickwidth\":2}},\"type\":\"scattergeo\"}],\"scattergl\":[{\"marker\":{\"colorbar\":{\"outlinewidth\":0,\"tickcolor\":\"rgb(36,36,36)\",\"ticklen\":8,\"ticks\":\"outside\",\"tickwidth\":2}},\"type\":\"scattergl\"}],\"scattermapbox\":[{\"marker\":{\"colorbar\":{\"outlinewidth\":0,\"tickcolor\":\"rgb(36,36,36)\",\"ticklen\":8,\"ticks\":\"outside\",\"tickwidth\":2}},\"type\":\"scattermapbox\"}],\"scatterpolargl\":[{\"marker\":{\"colorbar\":{\"outlinewidth\":0,\"tickcolor\":\"rgb(36,36,36)\",\"ticklen\":8,\"ticks\":\"outside\",\"tickwidth\":2}},\"type\":\"scatterpolargl\"}],\"scatterpolar\":[{\"marker\":{\"colorbar\":{\"outlinewidth\":0,\"tickcolor\":\"rgb(36,36,36)\",\"ticklen\":8,\"ticks\":\"outside\",\"tickwidth\":2}},\"type\":\"scatterpolar\"}],\"scatter\":[{\"marker\":{\"colorbar\":{\"outlinewidth\":0,\"tickcolor\":\"rgb(36,36,36)\",\"ticklen\":8,\"ticks\":\"outside\",\"tickwidth\":2}},\"type\":\"scatter\"}],\"scatterternary\":[{\"marker\":{\"colorbar\":{\"outlinewidth\":0,\"tickcolor\":\"rgb(36,36,36)\",\"ticklen\":8,\"ticks\":\"outside\",\"tickwidth\":2}},\"type\":\"scatterternary\"}],\"surface\":[{\"colorbar\":{\"outlinewidth\":0,\"tickcolor\":\"rgb(36,36,36)\",\"ticklen\":8,\"ticks\":\"outside\",\"tickwidth\":2},\"colorscale\":[[0.0,\"rgb(2,4,25)\"],[0.06274509803921569,\"rgb(24,15,41)\"],[0.12549019607843137,\"rgb(47,23,57)\"],[0.18823529411764706,\"rgb(71,28,72)\"],[0.25098039215686274,\"rgb(97,30,82)\"],[0.3137254901960784,\"rgb(123,30,89)\"],[0.3764705882352941,\"rgb(150,27,91)\"],[0.4392156862745098,\"rgb(177,22,88)\"],[0.5019607843137255,\"rgb(203,26,79)\"],[0.5647058823529412,\"rgb(223,47,67)\"],[0.6274509803921569,\"rgb(236,76,61)\"],[0.6901960784313725,\"rgb(242,107,73)\"],[0.7529411764705882,\"rgb(244,135,95)\"],[0.8156862745098039,\"rgb(245,162,122)\"],[0.8784313725490196,\"rgb(246,188,153)\"],[0.9411764705882353,\"rgb(247,212,187)\"],[1.0,\"rgb(250,234,220)\"]],\"type\":\"surface\"}],\"table\":[{\"cells\":{\"fill\":{\"color\":\"rgb(231,231,240)\"},\"line\":{\"color\":\"white\"}},\"header\":{\"fill\":{\"color\":\"rgb(183,183,191)\"},\"line\":{\"color\":\"white\"}},\"type\":\"table\"}]},\"layout\":{\"annotationdefaults\":{\"arrowcolor\":\"rgb(67,103,167)\"},\"autotypenumbers\":\"strict\",\"coloraxis\":{\"colorbar\":{\"outlinewidth\":0,\"tickcolor\":\"rgb(36,36,36)\",\"ticklen\":8,\"ticks\":\"outside\",\"tickwidth\":2}},\"colorscale\":{\"sequential\":[[0.0,\"rgb(2,4,25)\"],[0.06274509803921569,\"rgb(24,15,41)\"],[0.12549019607843137,\"rgb(47,23,57)\"],[0.18823529411764706,\"rgb(71,28,72)\"],[0.25098039215686274,\"rgb(97,30,82)\"],[0.3137254901960784,\"rgb(123,30,89)\"],[0.3764705882352941,\"rgb(150,27,91)\"],[0.4392156862745098,\"rgb(177,22,88)\"],[0.5019607843137255,\"rgb(203,26,79)\"],[0.5647058823529412,\"rgb(223,47,67)\"],[0.6274509803921569,\"rgb(236,76,61)\"],[0.6901960784313725,\"rgb(242,107,73)\"],[0.7529411764705882,\"rgb(244,135,95)\"],[0.8156862745098039,\"rgb(245,162,122)\"],[0.8784313725490196,\"rgb(246,188,153)\"],[0.9411764705882353,\"rgb(247,212,187)\"],[1.0,\"rgb(250,234,220)\"]],\"sequentialminus\":[[0.0,\"rgb(2,4,25)\"],[0.06274509803921569,\"rgb(24,15,41)\"],[0.12549019607843137,\"rgb(47,23,57)\"],[0.18823529411764706,\"rgb(71,28,72)\"],[0.25098039215686274,\"rgb(97,30,82)\"],[0.3137254901960784,\"rgb(123,30,89)\"],[0.3764705882352941,\"rgb(150,27,91)\"],[0.4392156862745098,\"rgb(177,22,88)\"],[0.5019607843137255,\"rgb(203,26,79)\"],[0.5647058823529412,\"rgb(223,47,67)\"],[0.6274509803921569,\"rgb(236,76,61)\"],[0.6901960784313725,\"rgb(242,107,73)\"],[0.7529411764705882,\"rgb(244,135,95)\"],[0.8156862745098039,\"rgb(245,162,122)\"],[0.8784313725490196,\"rgb(246,188,153)\"],[0.9411764705882353,\"rgb(247,212,187)\"],[1.0,\"rgb(250,234,220)\"]]},\"colorway\":[\"rgb(76,114,176)\",\"rgb(221,132,82)\",\"rgb(85,168,104)\",\"rgb(196,78,82)\",\"rgb(129,114,179)\",\"rgb(147,120,96)\",\"rgb(218,139,195)\",\"rgb(140,140,140)\",\"rgb(204,185,116)\",\"rgb(100,181,205)\"],\"font\":{\"color\":\"rgb(36,36,36)\"},\"geo\":{\"bgcolor\":\"white\",\"lakecolor\":\"white\",\"landcolor\":\"rgb(234,234,242)\",\"showlakes\":true,\"showland\":true,\"subunitcolor\":\"white\"},\"hoverlabel\":{\"align\":\"left\"},\"hovermode\":\"closest\",\"paper_bgcolor\":\"white\",\"plot_bgcolor\":\"rgb(234,234,242)\",\"polar\":{\"angularaxis\":{\"gridcolor\":\"white\",\"linecolor\":\"white\",\"showgrid\":true,\"ticks\":\"\"},\"bgcolor\":\"rgb(234,234,242)\",\"radialaxis\":{\"gridcolor\":\"white\",\"linecolor\":\"white\",\"showgrid\":true,\"ticks\":\"\"}},\"scene\":{\"xaxis\":{\"backgroundcolor\":\"rgb(234,234,242)\",\"gridcolor\":\"white\",\"gridwidth\":2,\"linecolor\":\"white\",\"showbackground\":true,\"showgrid\":true,\"ticks\":\"\",\"zerolinecolor\":\"white\"},\"yaxis\":{\"backgroundcolor\":\"rgb(234,234,242)\",\"gridcolor\":\"white\",\"gridwidth\":2,\"linecolor\":\"white\",\"showbackground\":true,\"showgrid\":true,\"ticks\":\"\",\"zerolinecolor\":\"white\"},\"zaxis\":{\"backgroundcolor\":\"rgb(234,234,242)\",\"gridcolor\":\"white\",\"gridwidth\":2,\"linecolor\":\"white\",\"showbackground\":true,\"showgrid\":true,\"ticks\":\"\",\"zerolinecolor\":\"white\"}},\"shapedefaults\":{\"fillcolor\":\"rgb(67,103,167)\",\"line\":{\"width\":0},\"opacity\":0.5},\"ternary\":{\"aaxis\":{\"gridcolor\":\"white\",\"linecolor\":\"white\",\"showgrid\":true,\"ticks\":\"\"},\"baxis\":{\"gridcolor\":\"white\",\"linecolor\":\"white\",\"showgrid\":true,\"ticks\":\"\"},\"bgcolor\":\"rgb(234,234,242)\",\"caxis\":{\"gridcolor\":\"white\",\"linecolor\":\"white\",\"showgrid\":true,\"ticks\":\"\"}},\"xaxis\":{\"automargin\":true,\"gridcolor\":\"white\",\"linecolor\":\"white\",\"showgrid\":true,\"ticks\":\"\",\"title\":{\"standoff\":15},\"zerolinecolor\":\"white\"},\"yaxis\":{\"automargin\":true,\"gridcolor\":\"white\",\"linecolor\":\"white\",\"showgrid\":true,\"ticks\":\"\",\"title\":{\"standoff\":15},\"zerolinecolor\":\"white\"}}},\"legend\":{\"tracegroupgap\":0},\"title\":{\"text\":\"AIRLINE\"}},                        {\"responsive\": true}                    ).then(function(){\n",
              "                            \n",
              "var gd = document.getElementById('ff2bd544-a608-467d-8153-834e10a1171f');\n",
              "var x = new MutationObserver(function (mutations, observer) {{\n",
              "        var display = window.getComputedStyle(gd).display;\n",
              "        if (!display || display === 'none') {{\n",
              "            console.log([gd, 'removed!']);\n",
              "            Plotly.purge(gd);\n",
              "            observer.disconnect();\n",
              "        }}\n",
              "}});\n",
              "\n",
              "// Listen for the removal of the full notebook cells\n",
              "var notebookContainer = gd.closest('#notebook-container');\n",
              "if (notebookContainer) {{\n",
              "    x.observe(notebookContainer, {childList: true});\n",
              "}}\n",
              "\n",
              "// Listen for the clearing of the current output cell\n",
              "var outputEl = gd.closest('.output');\n",
              "if (outputEl) {{\n",
              "    x.observe(outputEl, {childList: true});\n",
              "}}\n",
              "\n",
              "                        })                };                            </script>        </div>\n",
              "</body>\n",
              "</html>"
            ]
          },
          "metadata": {}
        }
      ],
      "source": [
        "import plotly.express as px\n",
        "data2\n",
        "ax1 = px.pie(data2[\"DESTINATION_AIRPORT\"],names=\"DESTINATION_AIRPORT\",title=\"DESTINATION_AIRPORT\",template = 'seaborn')\n",
        "ax1.update_traces(textposition=\"inside\", textinfo=\"value+percent+label\")\n",
        "\n",
        "ax2 = px.pie(data2[\"ORIGIN_AIRPORT\"],names=\"ORIGIN_AIRPORT\",title=\"ORIGIN_AIRPORT\",template = 'seaborn')\n",
        "ax2.update_traces(textposition=\"inside\", textinfo=\"value+percent+label\")\n",
        "\n",
        "ax3 = px.pie(data2[\"AIRLINE\"],names=\"AIRLINE\",title=\"AIRLINE\",template = 'seaborn')\n",
        "ax3.update_traces(textposition=\"inside\", textinfo=\"value+percent+label\")\n",
        "\n",
        "\n",
        "display(ax2)\n",
        "display(ax1)\n",
        "display(ax3)"
      ],
      "id": "1s34nSkRvRwb"
    },
    {
      "cell_type": "code",
      "execution_count": null,
      "metadata": {
        "colab": {
          "base_uri": "https://localhost:8080/"
        },
        "id": "1VToN8aYvTUM",
        "outputId": "bc49641b-0161-4f1e-f750-94ae8f99bda3"
      },
      "outputs": [
        {
          "output_type": "execute_result",
          "data": {
            "text/plain": [
              "6040"
            ]
          },
          "metadata": {},
          "execution_count": 12
        }
      ],
      "source": [
        "len(data2['FLIGHT_NUMBER'].unique()) # 항공편 number의 수 6001"
      ],
      "id": "1VToN8aYvTUM"
    },
    {
      "cell_type": "code",
      "execution_count": null,
      "metadata": {
        "colab": {
          "base_uri": "https://localhost:8080/"
        },
        "id": "gUICsZP2vTYw",
        "outputId": "73bc09e6-5a06-4d78-b15d-414c887da941"
      },
      "outputs": [
        {
          "output_type": "execute_result",
          "data": {
            "text/plain": [
              "2602948    2522\n",
              "4078086     998\n",
              "4382930     402\n",
              "4008491    3323\n",
              "2281007     310\n",
              "           ... \n",
              "1975784     549\n",
              "1204301    5065\n",
              "2188058    1420\n",
              "4198498    3669\n",
              "4054216     296\n",
              "Name: FLIGHT_NUMBER, Length: 47671, dtype: int16"
            ]
          },
          "metadata": {},
          "execution_count": 13
        }
      ],
      "source": [
        "data2['FLIGHT_NUMBER'] #6001개의 항공편이 총 47671번"
      ],
      "id": "gUICsZP2vTYw"
    },
    {
      "cell_type": "markdown",
      "metadata": {
        "id": "T1OnYmK-2LnP"
      },
      "source": [
        "Numerical Variable"
      ],
      "id": "T1OnYmK-2LnP"
    },
    {
      "cell_type": "code",
      "execution_count": null,
      "metadata": {
        "colab": {
          "base_uri": "https://localhost:8080/",
          "height": 382
        },
        "id": "gvo6hz5AvRcF",
        "outputId": "2f851a6a-6444-4ca4-a96f-94a7a1d218e0"
      },
      "outputs": [
        {
          "output_type": "execute_result",
          "data": {
            "text/plain": [
              "Text(0.5, 1.0, 'DISTANCE')"
            ]
          },
          "metadata": {},
          "execution_count": 14
        },
        {
          "output_type": "display_data",
          "data": {
            "text/plain": [
              "<Figure size 1296x432 with 3 Axes>"
            ],
            "image/png": "[encoded data removed]"
          },
          "metadata": {
            "needs_background": "light"
          }
        }
      ],
      "source": [
        "import seaborn as sns\n",
        "import matplotlib.pyplot as plt \n",
        "# plt.figure(figsize=(12, 8))\n",
        "f, ax = plt.subplots(1, 3, figsize=(18, 6))\n",
        "\n",
        "sns.distplot(data2['DEPARTURE_TIME'], bins = 20, hist= True, kde = True, rug = True, ax= ax[0])\n",
        "ax[0].set_title(\"DEPARTURE_TIME\",fontsize = 20)\n",
        "sns.distplot(data2['AIR_TIME'], bins = 20, hist= True, kde = True, rug = True, ax= ax[1])\n",
        "ax[1].set_title(\"AIR_TIME\",fontsize = 20)\n",
        "sns.distplot(data2['DISTANCE'], bins = 20, hist= True, kde = True, rug = True, ax= ax[2])\n",
        "ax[2].set_title(\"DISTANCE\",fontsize = 20)"
      ],
      "id": "gvo6hz5AvRcF"
    },
    {
      "cell_type": "markdown",
      "metadata": {
        "id": "idjsGty22r1U"
      },
      "source": [
        "오른쪽 2개의 분포를 log변환으로 정규화 시켜줄 필요가 있음\n",
        "- 효과는 굉장했다"
      ],
      "id": "idjsGty22r1U"
    },
    {
      "cell_type": "code",
      "execution_count": null,
      "metadata": {
        "colab": {
          "base_uri": "https://localhost:8080/",
          "height": 382
        },
        "id": "4j5Fa2aA2q8_",
        "outputId": "59f089e2-4bbd-4f5e-96af-752e7c31c3b6"
      },
      "outputs": [
        {
          "output_type": "execute_result",
          "data": {
            "text/plain": [
              "Text(0.5, 1.0, 'DISTANCE')"
            ]
          },
          "metadata": {},
          "execution_count": 15
        },
        {
          "output_type": "display_data",
          "data": {
            "text/plain": [
              "<Figure size 1296x432 with 3 Axes>"
            ],
            "image/png": "[encoded data removed]"
          },
          "metadata": {
            "needs_background": "light"
          }
        }
      ],
      "source": [
        "import seaborn as sns\n",
        "import matplotlib.pyplot as plt \n",
        "# plt.figure(figsize=(12, 8))\n",
        "f, ax = plt.subplots(1, 3, figsize=(18, 6))\n",
        "\n",
        "sns.distplot((data2['DEPARTURE_TIME']), bins = 20, hist= True, kde = True, rug = True, ax= ax[0])\n",
        "ax[0].set_title(\"DEPARTURE_TIME\",fontsize = 20)\n",
        "sns.distplot(np.log(data2['AIR_TIME']), bins = 20, hist= True, kde = True, rug = True, ax= ax[1])\n",
        "ax[1].set_title(\"AIR_TIME\",fontsize = 20)\n",
        "sns.distplot(np.log(data2['DISTANCE']), bins = 20, hist= True, kde = True, rug = True, ax= ax[2])\n",
        "ax[2].set_title(\"DISTANCE\",fontsize = 20)"
      ],
      "id": "4j5Fa2aA2q8_"
    },
    {
      "cell_type": "code",
      "execution_count": null,
      "metadata": {
        "colab": {
          "base_uri": "https://localhost:8080/",
          "height": 313
        },
        "id": "dvG-ggSg01vt",
        "outputId": "7f8014d4-bb06-4450-ccd9-cdfbe2b0c23c"
      },
      "outputs": [
        {
          "output_type": "execute_result",
          "data": {
            "text/plain": [
              "Text(0.5, 1.0, 'ARRIVAL_DELAY dist : unbalance target')"
            ]
          },
          "metadata": {},
          "execution_count": 16
        },
        {
          "output_type": "display_data",
          "data": {
            "text/plain": [
              "<Figure size 432x288 with 1 Axes>"
            ],
            "image/png": "[encoded data removed]"
          },
          "metadata": {
            "needs_background": "light"
          }
        }
      ],
      "source": [
        "sns.distplot(data2['ARRIVAL_DELAY'], bins = 20, hist= True, kde = True, rug = True) #target값의 분포가 unbalance함\n",
        "plt.title(\"ARRIVAL_DELAY dist : unbalance target\")"
      ],
      "id": "dvG-ggSg01vt"
    },
    {
      "cell_type": "code",
      "execution_count": null,
      "metadata": {
        "id": "IQKiv-3z3gQ1"
      },
      "outputs": [],
      "source": [
        "#수치형 변수 로그변환으로 정규화시킴\n",
        "origin['AIR_TIME'] = np.log(origin['AIR_TIME'])\n",
        "origin['DISTANCE'] = np.log(origin['DISTANCE'])"
      ],
      "id": "IQKiv-3z3gQ1"
    },
    {
      "cell_type": "code",
      "execution_count": null,
      "metadata": {
        "id": "e6-gGfTG01zv"
      },
      "outputs": [],
      "source": [
        "data = origin.sample(frac = 0.001, random_state=seed)\n",
        "data2 = origin.sample(frac = 0.01, random_state=seed)"
      ],
      "id": "e6-gGfTG01zv"
    },
    {
      "cell_type": "markdown",
      "metadata": {
        "id": "ktLVrrHM7tKH"
      },
      "source": [
        "수치형 자료들을 범주화하기"
      ],
      "id": "ktLVrrHM7tKH"
    },
    {
      "cell_type": "code",
      "execution_count": null,
      "metadata": {
        "colab": {
          "base_uri": "https://localhost:8080/",
          "height": 590
        },
        "id": "OJkKW9Ve_1bV",
        "outputId": "93922bc1-fd61-4b46-c52e-f9d49e6b25ee"
      },
      "outputs": [
        {
          "output_type": "stream",
          "name": "stdout",
          "text": [
            "---AIR_TIME---\n"
          ]
        },
        {
          "output_type": "display_data",
          "data": {
            "text/plain": [
              "count    47671.000000\n",
              "mean         4.540113\n",
              "std          0.618605\n",
              "min          2.079442\n",
              "25%          4.094345\n",
              "50%          4.543295\n",
              "75%          4.962845\n",
              "max          6.501290\n",
              "Name: AIR_TIME, dtype: float64"
            ]
          },
          "metadata": {}
        },
        {
          "output_type": "stream",
          "name": "stdout",
          "text": [
            "\n",
            "---DEPARTURE_TIME---\n"
          ]
        },
        {
          "output_type": "display_data",
          "data": {
            "text/plain": [
              "count    47671.00000\n",
              "mean      1337.57750\n",
              "std        494.62691\n",
              "min          1.00000\n",
              "25%        923.00000\n",
              "50%       1334.00000\n",
              "75%       1740.00000\n",
              "max       2400.00000\n",
              "Name: DEPARTURE_TIME, dtype: float64"
            ]
          },
          "metadata": {}
        },
        {
          "output_type": "stream",
          "name": "stdout",
          "text": [
            "\n",
            "---DISTANCE---\n"
          ]
        },
        {
          "output_type": "display_data",
          "data": {
            "text/plain": [
              "count    47671.000000\n",
              "mean         6.442597\n",
              "std          0.760707\n",
              "min          3.433987\n",
              "25%          5.921578\n",
              "50%          6.470800\n",
              "75%          6.956545\n",
              "max          8.513787\n",
              "Name: DISTANCE, dtype: float64"
            ]
          },
          "metadata": {}
        },
        {
          "output_type": "stream",
          "name": "stdout",
          "text": [
            "\n"
          ]
        }
      ],
      "source": [
        "for i in num_list:\n",
        "  print(f\"---{i}---\")\n",
        "  display(data2[i].describe())\n",
        "  print()"
      ],
      "id": "OJkKW9Ve_1bV"
    },
    {
      "cell_type": "code",
      "execution_count": null,
      "metadata": {
        "id": "x-8tWTrd73bU"
      },
      "outputs": [],
      "source": [
        "data2['AIR_TIME_cat'] = np.digitize(data2['AIR_TIME'], np.linspace(2.0,6.5,10))\n",
        "data2['DEPARTURE_TIME_cat'] = np.digitize(data2['DEPARTURE_TIME'], np.linspace(0.9,2400.1,10))\n",
        "data2['DISTANCE_cat'] = np.digitize(data2['DISTANCE'], np.linspace(3.4,8.6,10))"
      ],
      "id": "x-8tWTrd73bU"
    },
    {
      "cell_type": "code",
      "execution_count": null,
      "metadata": {
        "colab": {
          "base_uri": "https://localhost:8080/"
        },
        "id": "zf_T1dN473hE",
        "outputId": "89b3d6a8-79ec-4ffc-da0b-0fc77b00ceaa"
      },
      "outputs": [
        {
          "output_type": "stream",
          "name": "stdout",
          "text": [
            "<class 'pandas.core.frame.DataFrame'>\n",
            "Int64Index: 47671 entries, 2602948 to 4054216\n",
            "Data columns (total 14 columns):\n",
            " #   Column               Non-Null Count  Dtype  \n",
            "---  ------               --------------  -----  \n",
            " 0   MONTH                47671 non-null  int64  \n",
            " 1   DAY                  47671 non-null  int64  \n",
            " 2   DAY_OF_WEEK          47671 non-null  int64  \n",
            " 3   AIRLINE              47671 non-null  int8   \n",
            " 4   FLIGHT_NUMBER        47671 non-null  int16  \n",
            " 5   DESTINATION_AIRPORT  47671 non-null  int16  \n",
            " 6   ORIGIN_AIRPORT       47671 non-null  int16  \n",
            " 7   AIR_TIME             47671 non-null  float64\n",
            " 8   DEPARTURE_TIME       47671 non-null  float64\n",
            " 9   DISTANCE             47671 non-null  float64\n",
            " 10  ARRIVAL_DELAY        47671 non-null  int64  \n",
            " 11  AIR_TIME_cat         47671 non-null  int64  \n",
            " 12  DEPARTURE_TIME_cat   47671 non-null  int64  \n",
            " 13  DISTANCE_cat         47671 non-null  int64  \n",
            "dtypes: float64(3), int16(3), int64(7), int8(1)\n",
            "memory usage: 4.3 MB\n"
          ]
        }
      ],
      "source": [
        "data2.info()"
      ],
      "id": "zf_T1dN473hE"
    },
    {
      "cell_type": "code",
      "execution_count": null,
      "metadata": {
        "colab": {
          "base_uri": "https://localhost:8080/",
          "height": 478
        },
        "id": "CWfyh46m4_1x",
        "outputId": "fc960c75-097d-4b46-d827-bb124f21a8d5"
      },
      "outputs": [
        {
          "output_type": "execute_result",
          "data": {
            "text/plain": [
              "Text(0.5, 1.0, 'DISTANCE_cat')"
            ]
          },
          "metadata": {},
          "execution_count": 22
        },
        {
          "output_type": "display_data",
          "data": {
            "text/plain": [
              "<Figure size 1296x576 with 3 Axes>"
            ],
            "image/png": "[encoded data removed]"
          },
          "metadata": {
            "needs_background": "light"
          }
        }
      ],
      "source": [
        "f, ax = plt.subplots(1, 3, figsize=(18, 8))\n",
        "\n",
        "sns.countplot('DEPARTURE_TIME_cat', data = data2, ax=ax[0])\n",
        "sns.countplot('AIR_TIME_cat', data = data2, ax=ax[1])\n",
        "sns.countplot('DISTANCE_cat', data = data2, ax=ax[2])\n",
        "ax[0].set_title(\"DEPARTURE_TIME_cat\")\n",
        "ax[1].set_title(\"AIR_TIME_cat\")\n",
        "ax[2].set_title(\"DISTANCE_cat\")"
      ],
      "id": "CWfyh46m4_1x"
    },
    {
      "cell_type": "code",
      "execution_count": null,
      "metadata": {
        "id": "dHYyOjSPDREF"
      },
      "outputs": [],
      "source": [
        "data3 = data2.copy()\n",
        "data2 = data2[origin.columns]"
      ],
      "id": "dHYyOjSPDREF"
    },
    {
      "cell_type": "markdown",
      "metadata": {
        "id": "e7d0d14c"
      },
      "source": [
        "## (Reference) Regarding optimization\n",
        "- 아래 구현된 부분 = bayesian optimazation methods : 하지만 본 프로젝트에서는 시도만 하였고 사용하지 않음\n",
        "- (hyperopt)모듈을 사용하여 객체지향으로 구현함\n",
        "- hyperparameter를 잘 튜닝해야 모형간 성능을 비교할 수 있지만 각 모형별로 최적의 튜닝을 하기 쉽지 않았음. 여러 가지 방법 중 하나로 bayesian optimization을 시도해보았으나 결국 사용하지 않았지만 소개함\n",
        "<br><br>\n",
        "- 따라서 본 프로젝트에서는 초기값으로 부여한 값들 중 default보다 성능이 좋은 파라미터 근처의 값들로 grid search하였음.\n",
        "- 하지만 사용한 방법이 좋은 방법이라 생각하지 않으며 본 프로젝트의 한계점이라고 생각함"
      ],
      "id": "e7d0d14c"
    },
    {
      "cell_type": "code",
      "execution_count": null,
      "metadata": {
        "id": "7f5de9a1"
      },
      "outputs": [],
      "source": [
        "from hyperopt import hp\n",
        "import numpy as np\n",
        "from sklearn.metrics import mean_squared_error\n",
        "\n",
        "\n",
        "# XGB parameters\n",
        "xgb_reg_params = {\n",
        "    'learning_rate':    hp.choice('learning_rate',    np.arange(0.05, 0.31, 0.05)),\n",
        "    'max_depth':        hp.choice('max_depth',        np.arange(10, 50, 3, dtype=int)),\n",
        "    'min_child_weight': hp.choice('min_child_weight', np.arange(1, 8, 1, dtype=int)),\n",
        "    'colsample_bytree': hp.choice('colsample_bytree', np.arange(0.3, 0.8, 0.1)),\n",
        "    'subsample':        hp.uniform('subsample', 0.8, 1),\n",
        "    'n_estimators':     100,\n",
        "}\n",
        "xgb_fit_params = {\n",
        "    'eval_metric': 'rmse',\n",
        "    'early_stopping_rounds': 10,\n",
        "    'verbose': False\n",
        "}\n",
        "xgb_para = dict()\n",
        "xgb_para['reg_params'] = xgb_reg_params\n",
        "xgb_para['fit_params'] = xgb_fit_params\n",
        "xgb_para['loss_func' ] = lambda y, pred: np.sqrt(mean_squared_error(y, pred))\n",
        "\n",
        "\n",
        "# LightGBM parameters\n",
        "lgb_reg_params = {\n",
        "    'learning_rate':    hp.choice('learning_rate',    np.arange(0.05, 0.31, 0.05)),\n",
        "    'max_depth':        hp.choice('max_depth',       np.arange(10, 50, 3, dtype=int)), \n",
        "    'min_child_weight': hp.choice('min_child_weight', np.arange(1, 8, 1, dtype=int)),\n",
        "    'colsample_bytree': hp.choice('colsample_bytree', np.arange(0.3, 0.8, 0.1)),\n",
        "    'subsample':        hp.uniform('subsample', 0.8, 1),\n",
        "    'n_estimators':     100,\n",
        "}\n",
        "lgb_fit_params = {\n",
        "    'eval_metric': 'l2',\n",
        "    'early_stopping_rounds': 10,\n",
        "    'verbose': False\n",
        "}\n",
        "lgb_para = dict()\n",
        "lgb_para['reg_params'] = lgb_reg_params\n",
        "lgb_para['fit_params'] = lgb_fit_params\n",
        "lgb_para['loss_func' ] = lambda y, pred: np.sqrt(mean_squared_error(y, pred))\n",
        "\n",
        "\n",
        "# CatBoost parameters\n",
        "ctb_reg_params = {\n",
        "    'learning_rate':     hp.choice('learning_rate',     np.arange(0.05, 0.31, 0.05)),\n",
        "    'max_depth':         hp.choice('max_depth',         np.arange(10, 50, 3, dtype=int)),\n",
        "    'colsample_bylevel': hp.choice('colsample_bylevel', np.arange(0.3, 0.8, 0.1)),\n",
        "    'n_estimators':      100,\n",
        "    'eval_metric':       'RMSE',\n",
        "}\n",
        "ctb_fit_params = {\n",
        "    'early_stopping_rounds': 10,\n",
        "    'verbose': False\n",
        "}\n",
        "ctb_para = dict()\n",
        "ctb_para['reg_params'] = ctb_reg_params\n",
        "ctb_para['fit_params'] = ctb_fit_params\n",
        "ctb_para['loss_func' ] = lambda y, pred: np.sqrt(mean_squared_error(y, pred))"
      ],
      "id": "7f5de9a1"
    },
    {
      "cell_type": "code",
      "execution_count": null,
      "metadata": {
        "id": "c464d9aa"
      },
      "outputs": [],
      "source": [
        "import lightgbm as lgb\n",
        "import xgboost as xgb\n",
        "import catboost as ctb\n",
        "from hyperopt import fmin, tpe, STATUS_OK, STATUS_FAIL, Trials\n",
        "\n",
        "\n",
        "class HPOpt(object):\n",
        "\n",
        "    def __init__(self, x_train, x_test, y_train, y_test):\n",
        "        self.x_train = x_train\n",
        "        self.x_test  = x_test\n",
        "        self.y_train = y_train\n",
        "        self.y_test  = y_test\n",
        "\n",
        "    def process(self, fn_name, space, trials, algo, max_evals):\n",
        "        fn = getattr(self, fn_name)\n",
        "        try:\n",
        "            result = fmin(fn=fn, space=space, algo=algo, max_evals=max_evals, trials=trials)\n",
        "        except Exception as e:\n",
        "            return {'status': STATUS_FAIL,\n",
        "                    'exception': str(e)}\n",
        "        return result, trials\n",
        "\n",
        "    def xgb_reg(self, para):\n",
        "        reg = xgb.XGBRegressor(**para['reg_params'])\n",
        "        return self.train_reg(reg, para)\n",
        "\n",
        "    def lgb_reg(self, para):\n",
        "        reg = lgb.LGBMRegressor(**para['reg_params'])\n",
        "        return self.train_reg(reg, para)\n",
        "\n",
        "    def ctb_reg(self, para):\n",
        "        reg = ctb.CatBoostRegressor(**para['reg_params'])\n",
        "        return self.train_reg(reg, para)\n",
        "\n",
        "    def train_reg(self, reg, para):\n",
        "        reg.fit(self.x_train, self.y_train,\n",
        "                eval_set=[(self.x_train, self.y_train), (self.x_test, self.y_test)],\n",
        "                **para['fit_params'])\n",
        "        pred = reg.predict(self.x_test)\n",
        "        loss = para['loss_func'](self.y_test, pred)\n",
        "        return {'loss': loss, 'status': STATUS_OK}"
      ],
      "id": "c464d9aa"
    },
    {
      "cell_type": "code",
      "execution_count": null,
      "metadata": {
        "colab": {
          "base_uri": "https://localhost:8080/",
          "height": 70
        },
        "id": "d346c677",
        "outputId": "3396090a-6526-4dc3-f6f8-e2993b388e2c"
      },
      "outputs": [
        {
          "output_type": "execute_result",
          "data": {
            "text/plain": [
              "\"obj = HPOpt(train, test, y_train, y_test)\\n\\nxgb_opt = obj.process(fn_name='xgb_reg', space=xgb_para, trials=Trials(), algo=tpe.suggest, max_evals=100)\\nlgb_opt = obj.process(fn_name='lgb_reg', space=lgb_para, trials=Trials(), algo=tpe.suggest, max_evals=100)\\nctb_opt = obj.process(fn_name='ctb_reg', space=ctb_para, trials=Trials(), algo=tpe.suggest, max_evals=100)\""
            ],
            "application/vnd.google.colaboratory.intrinsic+json": {
              "type": "string"
            }
          },
          "metadata": {},
          "execution_count": 26
        }
      ],
      "source": [
        "'''obj = HPOpt(train, test, y_train, y_test)\n",
        "\n",
        "xgb_opt = obj.process(fn_name='xgb_reg', space=xgb_para, trials=Trials(), algo=tpe.suggest, max_evals=100)\n",
        "lgb_opt = obj.process(fn_name='lgb_reg', space=lgb_para, trials=Trials(), algo=tpe.suggest, max_evals=100)\n",
        "ctb_opt = obj.process(fn_name='ctb_reg', space=ctb_para, trials=Trials(), algo=tpe.suggest, max_evals=100)'''"
      ],
      "id": "d346c677"
    },
    {
      "cell_type": "markdown",
      "metadata": {
        "id": "1GlCs9r-0tfO"
      },
      "source": [
        "## Enhanced Gradient Boosting Methods\n",
        "\n",
        "|  | XGBoost  | lightGBM  | CatBoost |\n",
        "| --- | --- | --- | --- |\n",
        "| sparse matrix | 잘 처리하는 편임 | 잘 처리하는 편임 | 잘 처리하는 못함 |\n",
        "| 오버피팅 취약도 | 셋중에서는 가장 취약 | 대표본에서 강하지만 <br>소표본에서 취약                     (대략 10000개 이하) | 강함 |\n",
        "| 범주형 변수 처리 | No | Yes (not best) | Yes (best) |\n",
        "| 학습 속도 | 가장 느림 | 매우 빠름 (best) | 매우 빠름 (not best) |\n",
        "| 예측 속도 | 가장 느림 | 매우 빠름 (not best) | 매우 빠름 (best) |\n",
        "| 하이퍼파라미터 튜닝 민감도 | 하이퍼파라미터에 따라 성능이 크게 좌우 | 하이퍼파라미터에 따라 성능이 크게 좌우 | 하이퍼파라미터를 설정하지 않아도 스스로 최적화하는 경향이 있음. |\n",
        "| 특징 | 기존GBM보다 속도나 성능면에서<br> 우월하지만 새로나온 모형보다 밀림 | 속도가 가장 빠르고 가볍지만 <br> 소표본에서 오버피팅에 취약함 | LightGBM에 비해 조금 느리지만 오버피팅에 강하고 <br> 범주형 변수 처리와 순서자료(시계열)등 처리에 강함 <br> 하지만 전부 수치형자료일 경우 느리고 <br> 성능에서 큰 효과를 내기 어려운 알고리즘임 |"
      ],
      "id": "1GlCs9r-0tfO"
    },
    {
      "cell_type": "markdown",
      "metadata": {
        "id": "c1ea60aa"
      },
      "source": [
        "### XGBoost"
      ],
      "id": "c1ea60aa"
    },
    {
      "cell_type": "code",
      "execution_count": null,
      "metadata": {
        "id": "0c62ca61"
      },
      "outputs": [],
      "source": [
        "import xgboost as xgb\n",
        "from sklearn import metrics\n",
        "def XGBOOST(train, test, y_train, y_test):\n",
        "  return_D = dict()\n",
        "  def auc(m, train, test): \n",
        "      return (metrics.roc_auc_score(y_train,m.predict_proba(train)[:,1]),\n",
        "                              metrics.roc_auc_score(y_test,m.predict_proba(test)[:,1]))\n",
        "\n",
        "  # Parameter Tuning\n",
        "  model = xgb.XGBClassifier()\n",
        "  param_dist = {\n",
        "                \"max_depth\": [3,7,11],\n",
        "                \"min_child_weight\" : [1,2,3],\n",
        "                \"n_estimators\": [300],\n",
        "                \"learning_rate\": [0.09 ,0.1, 0.11]\n",
        "                }\n",
        "\n",
        "  start = time.time()\n",
        "  grid_search = GridSearchCV(model, param_grid=param_dist, cv = 3, \n",
        "                                    verbose=False, n_jobs=-1,scoring=\"roc_auc\")\n",
        "  grid_search.fit(train, y_train)\n",
        "  end = time.time()\n",
        "  xgb_gs_time = end - start\n",
        "  # print(f\"xgb_gs_time = {xgb_gs_time:.8f} sec\")\n",
        "\n",
        "  params = grid_search.best_params_\n",
        "  print(params)\n",
        "\n",
        "  start = time.time()\n",
        "  model = xgb.XGBClassifier(\\\n",
        "                            max_depth=params['max_depth'], \\\n",
        "                            min_child_weight=params['min_child_weight'],\\\n",
        "                            n_estimators=params['n_estimators'], \\\n",
        "                            learning_rate=params['learning_rate'], \\\n",
        "                            n_jobs=-1 , verbose=False)\n",
        "  model.fit(train,y_train)\n",
        "  end = time.time()\n",
        "  xgb_train_time = end - start\n",
        "  # print(f\"xgb_train_time = {xgb_train_time:.8f} sec\")\n",
        "\n",
        "  start = time.time()\n",
        "  xgb_result = auc(model, train, test)\n",
        "  end = time.time()\n",
        "  xgb_pred_time = end - start\n",
        "  # print(f\"xgb_pred_time = {xgb_pred_time:.8f} sec\")\n",
        "\n",
        "  model0 = xgb.XGBClassifier()\n",
        "  model0.fit(train,y_train)\n",
        "  default_result = auc(model0, train, test)\n",
        "\n",
        "  return_D['xgb_gs_time'] = xgb_gs_time\n",
        "  return_D['xgb_train_time'] = xgb_train_time\n",
        "  return_D['xgb_pred_time'] = xgb_pred_time\n",
        "  return_D['xgb_result'] = xgb_result\n",
        "  return_D['default_result'] = default_result\n",
        "\n",
        "  return return_D"
      ],
      "id": "0c62ca61"
    },
    {
      "cell_type": "markdown",
      "metadata": {
        "id": "2c63a762"
      },
      "source": [
        "### LightGBM"
      ],
      "id": "2c63a762"
    },
    {
      "cell_type": "code",
      "execution_count": null,
      "metadata": {
        "id": "9319dc02"
      },
      "outputs": [],
      "source": [
        "import lightgbm as lgb\n",
        "from sklearn import metrics\n",
        "def LIGHTGBM(train, test, y_train, y_test,all_cat = False):\n",
        "  return_D = dict()\n",
        "  def auc2(m, train, test): \n",
        "      return (metrics.roc_auc_score(y_train,m.predict(train)),\n",
        "                              metrics.roc_auc_score(y_test,m.predict(test)))\n",
        "\n",
        "  lg = lgb.LGBMClassifier(silent=True)\n",
        "  param_dist = {\n",
        "                \"max_depth\": [15,20,25],\n",
        "                \"learning_rate\" : [0.01,0.05,0.1],\n",
        "                \"num_leaves\": [15, 20, 25],\n",
        "                \"n_estimators\": [300]\n",
        "              }\n",
        "\n",
        "  start = time.time()\n",
        "  grid_search = GridSearchCV(lg, n_jobs=-1, param_grid=param_dist, cv = 3, scoring=\"roc_auc\", verbose=False)\n",
        "  grid_search.fit(train,y_train)\n",
        "  params = grid_search.best_params_\n",
        "  print(params)\n",
        "  end = time.time()\n",
        "  lgb_gs_time = end - start\n",
        "  # print(f\"lgb_gs_time = {lgb_gs_time:.8f} sec\")\n",
        "\n",
        "  d_train = lgb.Dataset(train, label=y_train, free_raw_data=False)\n",
        "\n",
        "  # Without Categorical Features\n",
        "  start = time.time()\n",
        "  model2 = lgb.train(params, d_train,verbose_eval=False)\n",
        "  end = time.time()\n",
        "  lgb_without_cat_train_time = end - start\n",
        "  # print(f\"lgb_without_cat_train_time = {lgb_without_cat_train_time:.8f} sec\")\n",
        "\n",
        "  # auc2(model2, train, test)\n",
        "  start = time.time()\n",
        "  lgb_without_cat_result = auc2(model2, train, test)\n",
        "  end = time.time()\n",
        "  lgb_without_cat_pred_time = end - start\n",
        "  # print(f\"lgb_without_cat_pred_time = {lgb_without_cat_pred_time:.8f} sec\")\n",
        "\n",
        "  #With Catgeorical Features\n",
        "  start = time.time()\n",
        "  cate_features_name = [\"MONTH\",\"DAY\",\"DAY_OF_WEEK\",\"AIRLINE\",\"DESTINATION_AIRPORT\",'FLIGHT_NUMBER',\n",
        "                  \"ORIGIN_AIRPORT\"]\n",
        "  if all_cat == True: \n",
        "    cate_features_name = train.columns.tolist()\n",
        "    print(cate_features_name)\n",
        "  model2 = lgb.train(params, d_train, categorical_feature = cate_features_name,verbose_eval=False)\n",
        "  end = time.time()\n",
        "  lgb_with_cat_train_time = end - start\n",
        "  # print(f\"lgb_with_cat_train_time = {lgb_with_cat_train_time:.8f} sec\")\n",
        "\n",
        "  # auc2(model2, train, test)\n",
        "  start = time.time()\n",
        "  lgb_with_cat_result = auc2(model2, train, test)\n",
        "  end = time.time()\n",
        "  lgb_with_cat_pred_time = end - start\n",
        "  # print(f\"lgb_with_cat_pred_time = {lgb_with_cat_pred_time:.8f} sec\")\n",
        "\n",
        "  return_D['lgb_gs_time'] = lgb_gs_time\n",
        "  return_D['lgb_without_cat_train_time'] = lgb_without_cat_train_time\n",
        "  return_D['lgb_without_cat_pred_time'] = lgb_without_cat_pred_time\n",
        "  return_D['lgb_without_cat_result'] = lgb_without_cat_result\n",
        "  return_D['lgb_with_cat_train_time'] = lgb_with_cat_train_time\n",
        "  return_D['lgb_with_cat_pred_time'] = lgb_with_cat_pred_time\n",
        "  return_D['lgb_with_cat_result'] = lgb_with_cat_result\n",
        "\n",
        "  model0 = lgb.train(params = [], train_set = d_train, categorical_feature = cate_features_name,verbose_eval=False)\n",
        "  default_result = auc2(model0, train, test)\n",
        "  return_D['default_result'] = default_result\n",
        "\n",
        "  return return_D"
      ],
      "id": "9319dc02"
    },
    {
      "cell_type": "markdown",
      "metadata": {
        "id": "0a9f7caa"
      },
      "source": [
        "### CatBoost"
      ],
      "id": "0a9f7caa"
    },
    {
      "cell_type": "code",
      "execution_count": null,
      "metadata": {
        "id": "0efae765"
      },
      "outputs": [],
      "source": [
        "import catboost as cb\n",
        "from catboost import CatBoostClassifier\n",
        "def CATBOOST(train, test, y_train, y_test,all_cat = False):\n",
        "  return_D = dict()\n",
        "  cat_features_index = [0,1,2,3,4,5,6]\n",
        "\n",
        "  def auc(m, train, test): \n",
        "      return (metrics.roc_auc_score(y_train,m.predict_proba(train)[:,1]),\n",
        "                              metrics.roc_auc_score(y_test,m.predict_proba(test)[:,1]))\n",
        "\n",
        "  params = {'depth': [2, 4, 6],\n",
        "            'learning_rate' : [0.05,0.1,0.15],\n",
        "          'l2_leaf_reg': [1,4,9],\n",
        "          'iterations': [700]}\n",
        "  cb = CatBoostClassifier(verbose = False)\n",
        "\n",
        "  start = time.time()\n",
        "  grid_search = GridSearchCV(cb, params, scoring=\"roc_auc\", cv = 3)\n",
        "  grid_search.fit(train, y_train)\n",
        "  end = time.time()\n",
        "  cb_gs_time = end - start\n",
        "  # print(f\"cb_gs_time = {cb_gs_time:.8f} sec\")\n",
        "\n",
        "  params = grid_search.best_params_\n",
        "  print(params)\n",
        "\n",
        "  # Without Categorical features\n",
        "  start = time.time()\n",
        "  clf = CatBoostClassifier(eval_metric=\"AUC\", depth=params['depth'], iterations= params['iterations'], verbose = False, \\\n",
        "                          l2_leaf_reg= params['l2_leaf_reg'], learning_rate= params['learning_rate'])\n",
        "  clf.fit(train,y_train)\n",
        "  end = time.time()\n",
        "  cb_without_cat_train_time = end - start\n",
        "  # print(f\"cb_without_cat_train_time = {cb_without_cat_train_time:.8f} sec\")\n",
        "\n",
        "  start = time.time()\n",
        "  cb_without_cat_result = auc(clf, train, test)\n",
        "  end = time.time()\n",
        "  cb_without_cat_pred_time = end - start\n",
        "  # print(f\"cb_without_cat_pred_time = {cb_without_cat_pred_time:.8f} sec\")\n",
        "\n",
        "  # With Categorical features\n",
        "  if all_cat == True: \n",
        "    cat_features_index = [0,1,2,3,4,5,6,7,8,9]\n",
        "\n",
        "  cat_names = train.iloc[:,:7].columns.tolist()\n",
        "  train[cat_names] = train[cat_names].astype(str)\n",
        "  test[cat_names] = test[cat_names].astype(str)\n",
        "\n",
        "  start = time.time()\n",
        "  clf = CatBoostClassifier(eval_metric=\"AUC\", depth=params['depth'],verbose = False, \\\n",
        "                          iterations= params['iterations'], l2_leaf_reg= params['l2_leaf_reg'], learning_rate= params['learning_rate'])\n",
        "\n",
        "  clf.fit(train,y_train, cat_features= cat_features_index)\n",
        "  end = time.time()\n",
        "  cb_with_cat_train_time = end - start\n",
        "  # print(f\"cb_with_cat_train_time = {cb_with_cat_train_time:.8f} sec\")\n",
        "\n",
        "  start = time.time()\n",
        "  cb_with_cat_result = auc(clf, train, test)\n",
        "  end = time.time()\n",
        "  cb_with_cat_pred_time = end - start\n",
        "  # print(f\"cb_with_cat_pred_time = {cb_with_cat_pred_time:.8f} sec\")\n",
        "\n",
        "  return_D['cb_gs_time'] = cb_gs_time\n",
        "  return_D['cb_without_cat_train_time'] = cb_without_cat_train_time\n",
        "  return_D['cb_without_cat_pred_time'] = cb_without_cat_pred_time\n",
        "  return_D['cb_without_cat_result'] = cb_without_cat_result\n",
        "  return_D['cb_with_cat_train_time'] = cb_with_cat_train_time\n",
        "  return_D['cb_with_cat_pred_time'] = cb_with_cat_pred_time\n",
        "  return_D['cb_with_cat_result'] = cb_with_cat_result\n",
        "\n",
        "  model0 = CatBoostClassifier(verbose = False)\n",
        "  model0.fit(train,y_train,cat_features= cat_features_index)\n",
        "  default_result = auc(model0, train, test)\n",
        "  return_D['default_result'] = default_result\n",
        "\n",
        "  return return_D"
      ],
      "id": "0efae765"
    },
    {
      "cell_type": "markdown",
      "metadata": {
        "id": "cc98b168"
      },
      "source": [
        "## TEST1 : sample number = 5000\n",
        "- 목적 : LightGBM이 10000개 이하의 표본에서 오버피팅에 약한 특징을 확인해보기 위함."
      ],
      "id": "cc98b168"
    },
    {
      "cell_type": "code",
      "execution_count": null,
      "metadata": {
        "id": "6c9b518b"
      },
      "outputs": [],
      "source": [
        "#원자료에서 추출된 약 5000개의 데이터를 train, split하여 MinMaxScale\n",
        "train, test, y_train, y_test = train_test_split(data.drop([\"ARRIVAL_DELAY\"], axis=1), data[\"ARRIVAL_DELAY\"],    \n",
        "                                                random_state=10, test_size=0.25)\n",
        "#Scaling : x_train\n",
        "features = train.columns.values\n",
        "scaler = MinMaxScaler(feature_range = (0,1))\n",
        "scaler.fit(train)\n",
        "train = pd.DataFrame(scaler.transform(train))\n",
        "train.columns = features\n",
        "\n",
        "#Scaling : y_train\n",
        "features = test.columns.values\n",
        "scaler = MinMaxScaler(feature_range = (0,1))\n",
        "scaler.fit(test)\n",
        "test = pd.DataFrame(scaler.transform(test))\n",
        "test.columns = features"
      ],
      "id": "6c9b518b"
    },
    {
      "cell_type": "code",
      "execution_count": null,
      "metadata": {
        "colab": {
          "base_uri": "https://localhost:8080/"
        },
        "id": "CnWrevjl1ZYb",
        "outputId": "55399235-581a-44c2-a7e9-604daad27d77"
      },
      "outputs": [
        {
          "output_type": "stream",
          "name": "stdout",
          "text": [
            "{'learning_rate': 0.1, 'max_depth': 3, 'min_child_weight': 2, 'n_estimators': 300}\n"
          ]
        },
        {
          "output_type": "execute_result",
          "data": {
            "text/plain": [
              "{'xgb_gs_time': 69.48226118087769,\n",
              " 'xgb_train_time': 1.4406678676605225,\n",
              " 'xgb_pred_time': 0.057296037673950195,\n",
              " 'xgb_result': (0.9030913102249329, 0.6812447434819175),\n",
              " 'default_result': (0.8071186137906396, 0.6919928893646303)}"
            ]
          },
          "metadata": {},
          "execution_count": 31
        }
      ],
      "source": [
        "#XGBoost\n",
        "result_xgb = XGBOOST(train, test, y_train, y_test)\n",
        "result_xgb"
      ],
      "id": "CnWrevjl1ZYb"
    },
    {
      "cell_type": "code",
      "execution_count": null,
      "metadata": {
        "colab": {
          "base_uri": "https://localhost:8080/"
        },
        "id": "i5ug54udlOod",
        "outputId": "b4b595f4-1038-40cf-a012-bd3567a65c68"
      },
      "outputs": [
        {
          "output_type": "stream",
          "name": "stdout",
          "text": [
            "{'learning_rate': 0.01, 'max_depth': 15, 'n_estimators': 300, 'num_leaves': 20}\n"
          ]
        },
        {
          "output_type": "execute_result",
          "data": {
            "text/plain": [
              "{'lgb_gs_time': 21.029716968536377,\n",
              " 'lgb_without_cat_train_time': 0.3362236022949219,\n",
              " 'lgb_without_cat_pred_time': 0.09801101684570312,\n",
              " 'lgb_without_cat_result': (0.8499809394371333, 0.6717983026225246),\n",
              " 'lgb_with_cat_train_time': 0.20595407485961914,\n",
              " 'lgb_with_cat_pred_time': 0.0942070484161377,\n",
              " 'lgb_with_cat_result': (0.8055318449519895, 0.6535591406070801),\n",
              " 'default_result': (0.9161919941952759, 0.6525001911461121)}"
            ]
          },
          "metadata": {},
          "execution_count": 32
        }
      ],
      "source": [
        "#LightGBM\n",
        "result_lgb = LIGHTGBM(train, test, y_train, y_test)\n",
        "result_lgb"
      ],
      "id": "i5ug54udlOod"
    },
    {
      "cell_type": "code",
      "execution_count": null,
      "metadata": {
        "colab": {
          "base_uri": "https://localhost:8080/"
        },
        "id": "FpeQ_S_BnI0B",
        "outputId": "240c265a-577e-42aa-f7c2-1dc974a4c368"
      },
      "outputs": [
        {
          "output_type": "stream",
          "name": "stdout",
          "text": [
            "{'depth': 2, 'iterations': 700, 'l2_leaf_reg': 1, 'learning_rate': 0.1}\n"
          ]
        },
        {
          "output_type": "execute_result",
          "data": {
            "text/plain": [
              "{'cb_gs_time': 116.7373399734497,\n",
              " 'cb_without_cat_train_time': 0.9503176212310791,\n",
              " 'cb_without_cat_pred_time': 0.011542081832885742,\n",
              " 'cb_without_cat_result': (0.8437917813062839, 0.6837602263169968),\n",
              " 'cb_with_cat_train_time': 3.0611627101898193,\n",
              " 'cb_with_cat_pred_time': 0.02339959144592285,\n",
              " 'cb_with_cat_result': (0.7852574373027187, 0.6876099090144506),\n",
              " 'default_result': (0.8371749115111067, 0.6711139995412493)}"
            ]
          },
          "metadata": {},
          "execution_count": 33
        }
      ],
      "source": [
        "#CatBoost\n",
        "result_cb = CATBOOST(train, test, y_train, y_test)\n",
        "result_cb"
      ],
      "id": "FpeQ_S_BnI0B"
    },
    {
      "cell_type": "code",
      "execution_count": null,
      "metadata": {
        "colab": {
          "base_uri": "https://localhost:8080/",
          "height": 206
        },
        "id": "QZt5FOVObkjV",
        "outputId": "76e6fc77-b4b3-41ec-9240-b16b780d53f3"
      },
      "outputs": [
        {
          "output_type": "execute_result",
          "data": {
            "text/plain": [
              "                      Train_AUC  Test_AUC  Train_time  Prediction_time  \\\n",
              "XGboost  -             0.903091  0.681245    1.440668         0.057296   \n",
              "LightGBM without_cat   0.849981  0.671798    0.336224         0.098011   \n",
              "         with_cat      0.805532  0.653559    0.205954         0.094207   \n",
              "CatBoost without_cat   0.843792  0.683760    0.950318         0.011542   \n",
              "         with_cat      0.785257  0.687610    3.061163         0.023400   \n",
              "\n",
              "                      HyperParams_Tuning_time  train_test_diff  \n",
              "XGboost  -                          69.482261         0.221847  \n",
              "LightGBM without_cat                21.029717         0.178183  \n",
              "         with_cat                   21.029717         0.151973  \n",
              "CatBoost without_cat               116.737340         0.160032  \n",
              "         with_cat                  116.737340         0.097648  "
            ],
            "text/html": [
              "\n",
              "  <div id=\"df-265049f8-a35e-40cd-a3fd-fbee8ede4cf3\">\n",
              "    <div class=\"colab-df-container\">\n",
              "      <div>\n",
              "<style scoped>\n",
              "    .dataframe tbody tr th:only-of-type {\n",
              "        vertical-align: middle;\n",
              "    }\n",
              "\n",
              "    .dataframe tbody tr th {\n",
              "        vertical-align: top;\n",
              "    }\n",
              "\n",
              "    .dataframe thead th {\n",
              "        text-align: right;\n",
              "    }\n",
              "</style>\n",
              "<table border=\"1\" class=\"dataframe\">\n",
              "  <thead>\n",
              "    <tr style=\"text-align: right;\">\n",
              "      <th></th>\n",
              "      <th></th>\n",
              "      <th>Train_AUC</th>\n",
              "      <th>Test_AUC</th>\n",
              "      <th>Train_time</th>\n",
              "      <th>Prediction_time</th>\n",
              "      <th>HyperParams_Tuning_time</th>\n",
              "      <th>train_test_diff</th>\n",
              "    </tr>\n",
              "  </thead>\n",
              "  <tbody>\n",
              "    <tr>\n",
              "      <th>XGboost</th>\n",
              "      <th>-</th>\n",
              "      <td>0.903091</td>\n",
              "      <td>0.681245</td>\n",
              "      <td>1.440668</td>\n",
              "      <td>0.057296</td>\n",
              "      <td>69.482261</td>\n",
              "      <td>0.221847</td>\n",
              "    </tr>\n",
              "    <tr>\n",
              "      <th rowspan=\"2\" valign=\"top\">LightGBM</th>\n",
              "      <th>without_cat</th>\n",
              "      <td>0.849981</td>\n",
              "      <td>0.671798</td>\n",
              "      <td>0.336224</td>\n",
              "      <td>0.098011</td>\n",
              "      <td>21.029717</td>\n",
              "      <td>0.178183</td>\n",
              "    </tr>\n",
              "    <tr>\n",
              "      <th>with_cat</th>\n",
              "      <td>0.805532</td>\n",
              "      <td>0.653559</td>\n",
              "      <td>0.205954</td>\n",
              "      <td>0.094207</td>\n",
              "      <td>21.029717</td>\n",
              "      <td>0.151973</td>\n",
              "    </tr>\n",
              "    <tr>\n",
              "      <th rowspan=\"2\" valign=\"top\">CatBoost</th>\n",
              "      <th>without_cat</th>\n",
              "      <td>0.843792</td>\n",
              "      <td>0.683760</td>\n",
              "      <td>0.950318</td>\n",
              "      <td>0.011542</td>\n",
              "      <td>116.737340</td>\n",
              "      <td>0.160032</td>\n",
              "    </tr>\n",
              "    <tr>\n",
              "      <th>with_cat</th>\n",
              "      <td>0.785257</td>\n",
              "      <td>0.687610</td>\n",
              "      <td>3.061163</td>\n",
              "      <td>0.023400</td>\n",
              "      <td>116.737340</td>\n",
              "      <td>0.097648</td>\n",
              "    </tr>\n",
              "  </tbody>\n",
              "</table>\n",
              "</div>\n",
              "      <button class=\"colab-df-convert\" onclick=\"convertToInteractive('df-265049f8-a35e-40cd-a3fd-fbee8ede4cf3')\"\n",
              "              title=\"Convert this dataframe to an interactive table.\"\n",
              "              style=\"display:none;\">\n",
              "        \n",
              "  <svg xmlns=\"http://www.w3.org/2000/svg\" height=\"24px\"viewBox=\"0 0 24 24\"\n",
              "       width=\"24px\">\n",
              "    <path d=\"M0 0h24v24H0V0z\" fill=\"none\"/>\n",
              "    <path d=\"M18.56 5.44l.94 2.06.94-2.06 2.06-.94-2.06-.94-.94-2.06-.94 2.06-2.06.94zm-11 1L8.5 8.5l.94-2.06 2.06-.94-2.06-.94L8.5 2.5l-.94 2.06-2.06.94zm10 10l.94 2.06.94-2.06 2.06-.94-2.06-.94-.94-2.06-.94 2.06-2.06.94z\"/><path d=\"M17.41 7.96l-1.37-1.37c-.4-.4-.92-.59-1.43-.59-.52 0-1.04.2-1.43.59L10.3 9.45l-7.72 7.72c-.78.78-.78 2.05 0 2.83L4 21.41c.39.39.9.59 1.41.59.51 0 1.02-.2 1.41-.59l7.78-7.78 2.81-2.81c.8-.78.8-2.07 0-2.86zM5.41 20L4 18.59l7.72-7.72 1.47 1.35L5.41 20z\"/>\n",
              "  </svg>\n",
              "      </button>\n",
              "      \n",
              "  <style>\n",
              "    .colab-df-container {\n",
              "      display:flex;\n",
              "      flex-wrap:wrap;\n",
              "      gap: 12px;\n",
              "    }\n",
              "\n",
              "    .colab-df-convert {\n",
              "      background-color: #E8F0FE;\n",
              "      border: none;\n",
              "      border-radius: 50%;\n",
              "      cursor: pointer;\n",
              "      display: none;\n",
              "      fill: #1967D2;\n",
              "      height: 32px;\n",
              "      padding: 0 0 0 0;\n",
              "      width: 32px;\n",
              "    }\n",
              "\n",
              "    .colab-df-convert:hover {\n",
              "      background-color: #E2EBFA;\n",
              "      box-shadow: 0px 1px 2px rgba(60, 64, 67, 0.3), 0px 1px 3px 1px rgba(60, 64, 67, 0.15);\n",
              "      fill: #174EA6;\n",
              "    }\n",
              "\n",
              "    [theme=dark] .colab-df-convert {\n",
              "      background-color: #3B4455;\n",
              "      fill: #D2E3FC;\n",
              "    }\n",
              "\n",
              "    [theme=dark] .colab-df-convert:hover {\n",
              "      background-color: #434B5C;\n",
              "      box-shadow: 0px 1px 3px 1px rgba(0, 0, 0, 0.15);\n",
              "      filter: drop-shadow(0px 1px 2px rgba(0, 0, 0, 0.3));\n",
              "      fill: #FFFFFF;\n",
              "    }\n",
              "  </style>\n",
              "\n",
              "      <script>\n",
              "        const buttonEl =\n",
              "          document.querySelector('#df-265049f8-a35e-40cd-a3fd-fbee8ede4cf3 button.colab-df-convert');\n",
              "        buttonEl.style.display =\n",
              "          google.colab.kernel.accessAllowed ? 'block' : 'none';\n",
              "\n",
              "        async function convertToInteractive(key) {\n",
              "          const element = document.querySelector('#df-265049f8-a35e-40cd-a3fd-fbee8ede4cf3');\n",
              "          const dataTable =\n",
              "            await google.colab.kernel.invokeFunction('convertToInteractive',\n",
              "                                                     [key], {});\n",
              "          if (!dataTable) return;\n",
              "\n",
              "          const docLinkHtml = 'Like what you see? Visit the ' +\n",
              "            '<a target=\"_blank\" href=https://colab.research.google.com/notebooks/data_table.ipynb>data table notebook</a>'\n",
              "            + ' to learn more about interactive tables.';\n",
              "          element.innerHTML = '';\n",
              "          dataTable['output_type'] = 'display_data';\n",
              "          await google.colab.output.renderOutput(dataTable, element);\n",
              "          const docLink = document.createElement('div');\n",
              "          docLink.innerHTML = docLinkHtml;\n",
              "          element.appendChild(docLink);\n",
              "        }\n",
              "      </script>\n",
              "    </div>\n",
              "  </div>\n",
              "  "
            ]
          },
          "metadata": {},
          "execution_count": 34
        }
      ],
      "source": [
        "temp_row = list(result_xgb['xgb_result']).copy()\n",
        "temp_row.append(result_xgb['xgb_train_time']) ; temp_row.append(result_xgb['xgb_pred_time']) ; temp_row.append(result_xgb['xgb_gs_time'])\n",
        "row1 = pd.DataFrame(temp_row, index = [\"Train_AUC\",\"Test_AUC\",\"Train_time\",\"Prediction_time\",\"HyperParams_Tuning_time\"]).T\n",
        "\n",
        "temp_row = list(result_lgb['lgb_without_cat_result']).copy()\n",
        "temp_row.append(result_lgb['lgb_without_cat_train_time']) ; temp_row.append(result_lgb['lgb_without_cat_pred_time']) ; temp_row.append(result_lgb['lgb_gs_time'])\n",
        "row2 = pd.DataFrame(temp_row, index = [\"Train_AUC\",\"Test_AUC\",\"Train_time\",\"Prediction_time\",\"HyperParams_Tuning_time\"]).T\n",
        "\n",
        "temp_row = list(result_lgb['lgb_with_cat_result']).copy()\n",
        "temp_row.append(result_lgb['lgb_with_cat_train_time']) ; temp_row.append(result_lgb['lgb_with_cat_pred_time']) ; temp_row.append(result_lgb['lgb_gs_time'])\n",
        "row3 = pd.DataFrame(temp_row, index = [\"Train_AUC\",\"Test_AUC\",\"Train_time\",\"Prediction_time\",\"HyperParams_Tuning_time\"]).T\n",
        "\n",
        "temp_row = list(result_cb['cb_without_cat_result']).copy()\n",
        "temp_row.append(result_cb['cb_without_cat_train_time']) ; temp_row.append(result_cb['cb_without_cat_pred_time']) ; temp_row.append(result_cb['cb_gs_time'])\n",
        "row4 = pd.DataFrame(temp_row, index = [\"Train_AUC\",\"Test_AUC\",\"Train_time\",\"Prediction_time\",\"HyperParams_Tuning_time\"]).T\n",
        "\n",
        "temp_row = list(result_cb['cb_with_cat_result']).copy()\n",
        "temp_row.append(result_cb['cb_with_cat_train_time']) ; temp_row.append(result_cb['cb_with_cat_pred_time']); temp_row.append(result_cb['cb_gs_time'])\n",
        "row5 = pd.DataFrame(temp_row, index = [\"Train_AUC\",\"Test_AUC\",\"Train_time\",\"Prediction_time\",\"HyperParams_Tuning_time\"]).T\n",
        "\n",
        "rows = [row2,row3,row4,row5]\n",
        "\n",
        "for r in rows:\n",
        "  row1 = pd.concat([row1, r],axis = 0)\n",
        "table1 = row1.copy()\n",
        "table1.index = [[\"XGboost\", \"LightGBM\", \"LightGBM\", \"CatBoost\",\"CatBoost\"], [\"-\", \"without_cat\",\"with_cat\", \"without_cat\",\"with_cat\"]]\n",
        "table1['train_test_diff'] = table1['Train_AUC'] - table1['Test_AUC']\n",
        "table1"
      ],
      "id": "QZt5FOVObkjV"
    },
    {
      "cell_type": "markdown",
      "metadata": {
        "id": "T_WS7zevDwaO"
      },
      "source": [
        "< 관찰 포인트 > : 현재 소표본인 상태\n",
        "- LightGBM은 Train 속도가 가장 빠르다\n",
        "- Catboost는 예측속도가 가장 빠르다\n",
        "- 대부분 성능이 소표본에서 좋지 않다(LightGBM, Catboost는 학습률이 낮은 모습을 보이고, XGboost는 오버피팅의 경향이 보임\n",
        "- 파라미터 튜닝 타임은 예상대로 XGB, CAT, LGB순으로 오래걸림. 소표본에서 LGB는 확실히 빠르지만 나머지 둘은 큰 차이까진 나지 않는다 "
      ],
      "id": "T_WS7zevDwaO"
    },
    {
      "cell_type": "markdown",
      "metadata": {
        "id": "hWzO4w1VijHm"
      },
      "source": [
        "## TEST2 : sample number = 50000\n",
        "- 목적 : LightGBM이 50000개의 표본에서 오버피팅에 대해 어떻게 변하는 지 확인하기 위함"
      ],
      "id": "hWzO4w1VijHm"
    },
    {
      "cell_type": "code",
      "execution_count": null,
      "metadata": {
        "colab": {
          "base_uri": "https://localhost:8080/",
          "height": 488
        },
        "id": "_q0cVrtgi3U9",
        "outputId": "df571c0f-c3d3-4af1-879c-3582fb36257d"
      },
      "outputs": [
        {
          "output_type": "execute_result",
          "data": {
            "text/plain": [
              "         MONTH  DAY  DAY_OF_WEEK  AIRLINE  FLIGHT_NUMBER  DESTINATION_AIRPORT  \\\n",
              "0            1    1            4        2             97                  815   \n",
              "1            1    1            4        1           2333                  773   \n",
              "2            1    1            4       12            838                  604   \n",
              "3            1    1            4        1            257                  741   \n",
              "4            1    1            4        2            134                  555   \n",
              "...        ...  ...          ...      ...            ...                  ...   \n",
              "4856718     10   30            5        3            327                  101   \n",
              "4856719     10   30            5       11            377                  217   \n",
              "4856720     10   30            5       11           1645                  277   \n",
              "4856721     10   30            5        4           1248                  277   \n",
              "4856722     10   30            5        5           4310                  172   \n",
              "\n",
              "         ORIGIN_AIRPORT  AIR_TIME  DEPARTURE_TIME  DISTANCE  ARRIVAL_DELAY  \n",
              "0                   606  5.129899          2354.0  7.277939              0  \n",
              "1                   765  5.572154             2.0  7.753624              0  \n",
              "2                   867  5.583496            18.0  7.738924              0  \n",
              "3                   765  5.552960            15.0  7.758761              0  \n",
              "4                   866  5.293305            24.0  7.277939              0  \n",
              "...                 ...       ...             ...       ...            ...  \n",
              "4856718             183  4.919981          1759.0  6.842683              0  \n",
              "4856719             143  4.753590          1754.0  6.829794              0  \n",
              "4856720             143  5.123964          1756.0  7.204893              0  \n",
              "4856721              20  5.529429          1754.0  7.559559              0  \n",
              "4856722              61  4.248495          1746.0  6.037871              1  \n",
              "\n",
              "[4767130 rows x 11 columns]"
            ],
            "text/html": [
              "\n",
              "  <div id=\"df-adfc4cdb-d070-45b2-b0e5-8f27b6b14da8\">\n",
              "    <div class=\"colab-df-container\">\n",
              "      <div>\n",
              "<style scoped>\n",
              "    .dataframe tbody tr th:only-of-type {\n",
              "        vertical-align: middle;\n",
              "    }\n",
              "\n",
              "    .dataframe tbody tr th {\n",
              "        vertical-align: top;\n",
              "    }\n",
              "\n",
              "    .dataframe thead th {\n",
              "        text-align: right;\n",
              "    }\n",
              "</style>\n",
              "<table border=\"1\" class=\"dataframe\">\n",
              "  <thead>\n",
              "    <tr style=\"text-align: right;\">\n",
              "      <th></th>\n",
              "      <th>MONTH</th>\n",
              "      <th>DAY</th>\n",
              "      <th>DAY_OF_WEEK</th>\n",
              "      <th>AIRLINE</th>\n",
              "      <th>FLIGHT_NUMBER</th>\n",
              "      <th>DESTINATION_AIRPORT</th>\n",
              "      <th>ORIGIN_AIRPORT</th>\n",
              "      <th>AIR_TIME</th>\n",
              "      <th>DEPARTURE_TIME</th>\n",
              "      <th>DISTANCE</th>\n",
              "      <th>ARRIVAL_DELAY</th>\n",
              "    </tr>\n",
              "  </thead>\n",
              "  <tbody>\n",
              "    <tr>\n",
              "      <th>0</th>\n",
              "      <td>1</td>\n",
              "      <td>1</td>\n",
              "      <td>4</td>\n",
              "      <td>2</td>\n",
              "      <td>97</td>\n",
              "      <td>815</td>\n",
              "      <td>606</td>\n",
              "      <td>5.129899</td>\n",
              "      <td>2354.0</td>\n",
              "      <td>7.277939</td>\n",
              "      <td>0</td>\n",
              "    </tr>\n",
              "    <tr>\n",
              "      <th>1</th>\n",
              "      <td>1</td>\n",
              "      <td>1</td>\n",
              "      <td>4</td>\n",
              "      <td>1</td>\n",
              "      <td>2333</td>\n",
              "      <td>773</td>\n",
              "      <td>765</td>\n",
              "      <td>5.572154</td>\n",
              "      <td>2.0</td>\n",
              "      <td>7.753624</td>\n",
              "      <td>0</td>\n",
              "    </tr>\n",
              "    <tr>\n",
              "      <th>2</th>\n",
              "      <td>1</td>\n",
              "      <td>1</td>\n",
              "      <td>4</td>\n",
              "      <td>12</td>\n",
              "      <td>838</td>\n",
              "      <td>604</td>\n",
              "      <td>867</td>\n",
              "      <td>5.583496</td>\n",
              "      <td>18.0</td>\n",
              "      <td>7.738924</td>\n",
              "      <td>0</td>\n",
              "    </tr>\n",
              "    <tr>\n",
              "      <th>3</th>\n",
              "      <td>1</td>\n",
              "      <td>1</td>\n",
              "      <td>4</td>\n",
              "      <td>1</td>\n",
              "      <td>257</td>\n",
              "      <td>741</td>\n",
              "      <td>765</td>\n",
              "      <td>5.552960</td>\n",
              "      <td>15.0</td>\n",
              "      <td>7.758761</td>\n",
              "      <td>0</td>\n",
              "    </tr>\n",
              "    <tr>\n",
              "      <th>4</th>\n",
              "      <td>1</td>\n",
              "      <td>1</td>\n",
              "      <td>4</td>\n",
              "      <td>2</td>\n",
              "      <td>134</td>\n",
              "      <td>555</td>\n",
              "      <td>866</td>\n",
              "      <td>5.293305</td>\n",
              "      <td>24.0</td>\n",
              "      <td>7.277939</td>\n",
              "      <td>0</td>\n",
              "    </tr>\n",
              "    <tr>\n",
              "      <th>...</th>\n",
              "      <td>...</td>\n",
              "      <td>...</td>\n",
              "      <td>...</td>\n",
              "      <td>...</td>\n",
              "      <td>...</td>\n",
              "      <td>...</td>\n",
              "      <td>...</td>\n",
              "      <td>...</td>\n",
              "      <td>...</td>\n",
              "      <td>...</td>\n",
              "      <td>...</td>\n",
              "    </tr>\n",
              "    <tr>\n",
              "      <th>4856718</th>\n",
              "      <td>10</td>\n",
              "      <td>30</td>\n",
              "      <td>5</td>\n",
              "      <td>3</td>\n",
              "      <td>327</td>\n",
              "      <td>101</td>\n",
              "      <td>183</td>\n",
              "      <td>4.919981</td>\n",
              "      <td>1759.0</td>\n",
              "      <td>6.842683</td>\n",
              "      <td>0</td>\n",
              "    </tr>\n",
              "    <tr>\n",
              "      <th>4856719</th>\n",
              "      <td>10</td>\n",
              "      <td>30</td>\n",
              "      <td>5</td>\n",
              "      <td>11</td>\n",
              "      <td>377</td>\n",
              "      <td>217</td>\n",
              "      <td>143</td>\n",
              "      <td>4.753590</td>\n",
              "      <td>1754.0</td>\n",
              "      <td>6.829794</td>\n",
              "      <td>0</td>\n",
              "    </tr>\n",
              "    <tr>\n",
              "      <th>4856720</th>\n",
              "      <td>10</td>\n",
              "      <td>30</td>\n",
              "      <td>5</td>\n",
              "      <td>11</td>\n",
              "      <td>1645</td>\n",
              "      <td>277</td>\n",
              "      <td>143</td>\n",
              "      <td>5.123964</td>\n",
              "      <td>1756.0</td>\n",
              "      <td>7.204893</td>\n",
              "      <td>0</td>\n",
              "    </tr>\n",
              "    <tr>\n",
              "      <th>4856721</th>\n",
              "      <td>10</td>\n",
              "      <td>30</td>\n",
              "      <td>5</td>\n",
              "      <td>4</td>\n",
              "      <td>1248</td>\n",
              "      <td>277</td>\n",
              "      <td>20</td>\n",
              "      <td>5.529429</td>\n",
              "      <td>1754.0</td>\n",
              "      <td>7.559559</td>\n",
              "      <td>0</td>\n",
              "    </tr>\n",
              "    <tr>\n",
              "      <th>4856722</th>\n",
              "      <td>10</td>\n",
              "      <td>30</td>\n",
              "      <td>5</td>\n",
              "      <td>5</td>\n",
              "      <td>4310</td>\n",
              "      <td>172</td>\n",
              "      <td>61</td>\n",
              "      <td>4.248495</td>\n",
              "      <td>1746.0</td>\n",
              "      <td>6.037871</td>\n",
              "      <td>1</td>\n",
              "    </tr>\n",
              "  </tbody>\n",
              "</table>\n",
              "<p>4767130 rows × 11 columns</p>\n",
              "</div>\n",
              "      <button class=\"colab-df-convert\" onclick=\"convertToInteractive('df-adfc4cdb-d070-45b2-b0e5-8f27b6b14da8')\"\n",
              "              title=\"Convert this dataframe to an interactive table.\"\n",
              "              style=\"display:none;\">\n",
              "        \n",
              "  <svg xmlns=\"http://www.w3.org/2000/svg\" height=\"24px\"viewBox=\"0 0 24 24\"\n",
              "       width=\"24px\">\n",
              "    <path d=\"M0 0h24v24H0V0z\" fill=\"none\"/>\n",
              "    <path d=\"M18.56 5.44l.94 2.06.94-2.06 2.06-.94-2.06-.94-.94-2.06-.94 2.06-2.06.94zm-11 1L8.5 8.5l.94-2.06 2.06-.94-2.06-.94L8.5 2.5l-.94 2.06-2.06.94zm10 10l.94 2.06.94-2.06 2.06-.94-2.06-.94-.94-2.06-.94 2.06-2.06.94z\"/><path d=\"M17.41 7.96l-1.37-1.37c-.4-.4-.92-.59-1.43-.59-.52 0-1.04.2-1.43.59L10.3 9.45l-7.72 7.72c-.78.78-.78 2.05 0 2.83L4 21.41c.39.39.9.59 1.41.59.51 0 1.02-.2 1.41-.59l7.78-7.78 2.81-2.81c.8-.78.8-2.07 0-2.86zM5.41 20L4 18.59l7.72-7.72 1.47 1.35L5.41 20z\"/>\n",
              "  </svg>\n",
              "      </button>\n",
              "      \n",
              "  <style>\n",
              "    .colab-df-container {\n",
              "      display:flex;\n",
              "      flex-wrap:wrap;\n",
              "      gap: 12px;\n",
              "    }\n",
              "\n",
              "    .colab-df-convert {\n",
              "      background-color: #E8F0FE;\n",
              "      border: none;\n",
              "      border-radius: 50%;\n",
              "      cursor: pointer;\n",
              "      display: none;\n",
              "      fill: #1967D2;\n",
              "      height: 32px;\n",
              "      padding: 0 0 0 0;\n",
              "      width: 32px;\n",
              "    }\n",
              "\n",
              "    .colab-df-convert:hover {\n",
              "      background-color: #E2EBFA;\n",
              "      box-shadow: 0px 1px 2px rgba(60, 64, 67, 0.3), 0px 1px 3px 1px rgba(60, 64, 67, 0.15);\n",
              "      fill: #174EA6;\n",
              "    }\n",
              "\n",
              "    [theme=dark] .colab-df-convert {\n",
              "      background-color: #3B4455;\n",
              "      fill: #D2E3FC;\n",
              "    }\n",
              "\n",
              "    [theme=dark] .colab-df-convert:hover {\n",
              "      background-color: #434B5C;\n",
              "      box-shadow: 0px 1px 3px 1px rgba(0, 0, 0, 0.15);\n",
              "      filter: drop-shadow(0px 1px 2px rgba(0, 0, 0, 0.3));\n",
              "      fill: #FFFFFF;\n",
              "    }\n",
              "  </style>\n",
              "\n",
              "      <script>\n",
              "        const buttonEl =\n",
              "          document.querySelector('#df-adfc4cdb-d070-45b2-b0e5-8f27b6b14da8 button.colab-df-convert');\n",
              "        buttonEl.style.display =\n",
              "          google.colab.kernel.accessAllowed ? 'block' : 'none';\n",
              "\n",
              "        async function convertToInteractive(key) {\n",
              "          const element = document.querySelector('#df-adfc4cdb-d070-45b2-b0e5-8f27b6b14da8');\n",
              "          const dataTable =\n",
              "            await google.colab.kernel.invokeFunction('convertToInteractive',\n",
              "                                                     [key], {});\n",
              "          if (!dataTable) return;\n",
              "\n",
              "          const docLinkHtml = 'Like what you see? Visit the ' +\n",
              "            '<a target=\"_blank\" href=https://colab.research.google.com/notebooks/data_table.ipynb>data table notebook</a>'\n",
              "            + ' to learn more about interactive tables.';\n",
              "          element.innerHTML = '';\n",
              "          dataTable['output_type'] = 'display_data';\n",
              "          await google.colab.output.renderOutput(dataTable, element);\n",
              "          const docLink = document.createElement('div');\n",
              "          docLink.innerHTML = docLinkHtml;\n",
              "          element.appendChild(docLink);\n",
              "        }\n",
              "      </script>\n",
              "    </div>\n",
              "  </div>\n",
              "  "
            ]
          },
          "metadata": {},
          "execution_count": 35
        }
      ],
      "source": [
        "origin"
      ],
      "id": "_q0cVrtgi3U9"
    },
    {
      "cell_type": "code",
      "execution_count": null,
      "metadata": {
        "id": "s7cq9LRUihHe"
      },
      "outputs": [],
      "source": [
        "#원자료에서 추출된 약 50000개의 데이터를 train, split하여 MinMaxScale\n",
        "train, test, y_train, y_test = train_test_split(data2.drop([\"ARRIVAL_DELAY\"], axis=1), data2[\"ARRIVAL_DELAY\"],    \n",
        "                                                random_state=10, test_size=0.25)\n",
        "features = train.columns.values\n",
        "scaler = MinMaxScaler(feature_range = (0,1))\n",
        "scaler.fit(train)\n",
        "train = pd.DataFrame(scaler.transform(train))\n",
        "train.columns = features\n",
        "# train = sm.add_constant(train, has_constant=\"add\")\n",
        "\n",
        "features = test.columns.values\n",
        "scaler = MinMaxScaler(feature_range = (0,1))\n",
        "scaler.fit(test)\n",
        "test = pd.DataFrame(scaler.transform(test))\n",
        "test.columns = features"
      ],
      "id": "s7cq9LRUihHe"
    },
    {
      "cell_type": "code",
      "execution_count": null,
      "metadata": {
        "colab": {
          "base_uri": "https://localhost:8080/"
        },
        "id": "UHbwHXwAigVt",
        "outputId": "82f95fee-aacc-4b33-986a-baf400453c76"
      },
      "outputs": [
        {
          "output_type": "stream",
          "name": "stdout",
          "text": [
            "{'learning_rate': 0.11, 'max_depth': 3, 'min_child_weight': 2, 'n_estimators': 300}\n"
          ]
        },
        {
          "output_type": "execute_result",
          "data": {
            "text/plain": [
              "{'xgb_gs_time': 618.1028666496277,\n",
              " 'xgb_train_time': 5.195542335510254,\n",
              " 'xgb_pred_time': 0.5204160213470459,\n",
              " 'xgb_result': (0.7651819956827779, 0.7087919596862362),\n",
              " 'default_result': (0.7162658696961335, 0.6875225384366879)}"
            ]
          },
          "metadata": {},
          "execution_count": 37
        }
      ],
      "source": [
        "#XGBoost\n",
        "result_xgb2 = XGBOOST(train, test, y_train, y_test)\n",
        "result_xgb2"
      ],
      "id": "UHbwHXwAigVt"
    },
    {
      "cell_type": "code",
      "execution_count": null,
      "metadata": {
        "colab": {
          "base_uri": "https://localhost:8080/"
        },
        "id": "DuwZ3U2-oDs4",
        "outputId": "9fc80d34-2dbe-4b28-a3f2-ba1f741df84c"
      },
      "outputs": [
        {
          "output_type": "stream",
          "name": "stdout",
          "text": [
            "{'learning_rate': 0.05, 'max_depth': 15, 'n_estimators': 300, 'num_leaves': 25}\n"
          ]
        },
        {
          "output_type": "execute_result",
          "data": {
            "text/plain": [
              "{'lgb_gs_time': 74.43596315383911,\n",
              " 'lgb_without_cat_train_time': 1.041442632675171,\n",
              " 'lgb_without_cat_pred_time': 0.8416872024536133,\n",
              " 'lgb_without_cat_result': (0.8185348043521384, 0.7111390404713138),\n",
              " 'lgb_with_cat_train_time': 0.6716563701629639,\n",
              " 'lgb_with_cat_pred_time': 0.760120153427124,\n",
              " 'lgb_with_cat_result': (0.7580193587903366, 0.6803174199636839),\n",
              " 'default_result': (0.7512858475982767, 0.6799156668592281)}"
            ]
          },
          "metadata": {},
          "execution_count": 38
        }
      ],
      "source": [
        "#LightGBM\n",
        "result_lgb2 = LIGHTGBM(train, test, y_train, y_test)\n",
        "result_lgb2"
      ],
      "id": "DuwZ3U2-oDs4"
    },
    {
      "cell_type": "code",
      "execution_count": null,
      "metadata": {
        "colab": {
          "base_uri": "https://localhost:8080/"
        },
        "id": "MpoMKyMOe4LK",
        "outputId": "b729ecdc-ce95-4794-feff-e825a6a5f03f"
      },
      "outputs": [
        {
          "output_type": "stream",
          "name": "stdout",
          "text": [
            "{'depth': 6, 'iterations': 700, 'l2_leaf_reg': 9, 'learning_rate': 0.05}\n"
          ]
        },
        {
          "output_type": "execute_result",
          "data": {
            "text/plain": [
              "{'cb_gs_time': 414.64954233169556,\n",
              " 'cb_without_cat_train_time': 8.292837858200073,\n",
              " 'cb_without_cat_pred_time': 0.06169700622558594,\n",
              " 'cb_without_cat_result': (0.8104356633236802, 0.7192983921918739),\n",
              " 'cb_with_cat_train_time': 53.993553161621094,\n",
              " 'cb_with_cat_pred_time': 0.5727889537811279,\n",
              " 'cb_with_cat_result': (0.8752351235111349, 0.7081679055844398),\n",
              " 'default_result': (0.8761653480364201, 0.7127645928917788)}"
            ]
          },
          "metadata": {},
          "execution_count": 39
        }
      ],
      "source": [
        "#CatBoost\n",
        "result_cb2 = CATBOOST(train, test, y_train, y_test)\n",
        "result_cb2"
      ],
      "id": "MpoMKyMOe4LK"
    },
    {
      "cell_type": "code",
      "execution_count": null,
      "metadata": {
        "id": "EcOvA5nqv33g",
        "colab": {
          "base_uri": "https://localhost:8080/",
          "height": 206
        },
        "outputId": "838dfb10-aa5d-4e18-a47b-f69bd7c2ecb6"
      },
      "outputs": [
        {
          "output_type": "execute_result",
          "data": {
            "text/plain": [
              "                      Train_AUC  Test_AUC  Train_time  Prediction_time  \\\n",
              "XGboost  -             0.765182  0.708792    5.195542         0.520416   \n",
              "LightGBM without_cat   0.818535  0.711139    1.041443         0.841687   \n",
              "         with_cat      0.758019  0.680317    0.671656         0.760120   \n",
              "CatBoost without_cat   0.810436  0.719298    8.292838         0.061697   \n",
              "         with_cat      0.875235  0.708168   53.993553         0.572789   \n",
              "\n",
              "                      HyperParams_Tuning_time  train_test_diff  \n",
              "XGboost  -                         618.102867         0.056390  \n",
              "LightGBM without_cat                74.435963         0.107396  \n",
              "         with_cat                   74.435963         0.077702  \n",
              "CatBoost without_cat               414.649542         0.091137  \n",
              "         with_cat                  414.649542         0.167067  "
            ],
            "text/html": [
              "\n",
              "  <div id=\"df-a2682fc0-a4eb-40ec-abd7-d2ef9c2337e5\">\n",
              "    <div class=\"colab-df-container\">\n",
              "      <div>\n",
              "<style scoped>\n",
              "    .dataframe tbody tr th:only-of-type {\n",
              "        vertical-align: middle;\n",
              "    }\n",
              "\n",
              "    .dataframe tbody tr th {\n",
              "        vertical-align: top;\n",
              "    }\n",
              "\n",
              "    .dataframe thead th {\n",
              "        text-align: right;\n",
              "    }\n",
              "</style>\n",
              "<table border=\"1\" class=\"dataframe\">\n",
              "  <thead>\n",
              "    <tr style=\"text-align: right;\">\n",
              "      <th></th>\n",
              "      <th></th>\n",
              "      <th>Train_AUC</th>\n",
              "      <th>Test_AUC</th>\n",
              "      <th>Train_time</th>\n",
              "      <th>Prediction_time</th>\n",
              "      <th>HyperParams_Tuning_time</th>\n",
              "      <th>train_test_diff</th>\n",
              "    </tr>\n",
              "  </thead>\n",
              "  <tbody>\n",
              "    <tr>\n",
              "      <th>XGboost</th>\n",
              "      <th>-</th>\n",
              "      <td>0.765182</td>\n",
              "      <td>0.708792</td>\n",
              "      <td>5.195542</td>\n",
              "      <td>0.520416</td>\n",
              "      <td>618.102867</td>\n",
              "      <td>0.056390</td>\n",
              "    </tr>\n",
              "    <tr>\n",
              "      <th rowspan=\"2\" valign=\"top\">LightGBM</th>\n",
              "      <th>without_cat</th>\n",
              "      <td>0.818535</td>\n",
              "      <td>0.711139</td>\n",
              "      <td>1.041443</td>\n",
              "      <td>0.841687</td>\n",
              "      <td>74.435963</td>\n",
              "      <td>0.107396</td>\n",
              "    </tr>\n",
              "    <tr>\n",
              "      <th>with_cat</th>\n",
              "      <td>0.758019</td>\n",
              "      <td>0.680317</td>\n",
              "      <td>0.671656</td>\n",
              "      <td>0.760120</td>\n",
              "      <td>74.435963</td>\n",
              "      <td>0.077702</td>\n",
              "    </tr>\n",
              "    <tr>\n",
              "      <th rowspan=\"2\" valign=\"top\">CatBoost</th>\n",
              "      <th>without_cat</th>\n",
              "      <td>0.810436</td>\n",
              "      <td>0.719298</td>\n",
              "      <td>8.292838</td>\n",
              "      <td>0.061697</td>\n",
              "      <td>414.649542</td>\n",
              "      <td>0.091137</td>\n",
              "    </tr>\n",
              "    <tr>\n",
              "      <th>with_cat</th>\n",
              "      <td>0.875235</td>\n",
              "      <td>0.708168</td>\n",
              "      <td>53.993553</td>\n",
              "      <td>0.572789</td>\n",
              "      <td>414.649542</td>\n",
              "      <td>0.167067</td>\n",
              "    </tr>\n",
              "  </tbody>\n",
              "</table>\n",
              "</div>\n",
              "      <button class=\"colab-df-convert\" onclick=\"convertToInteractive('df-a2682fc0-a4eb-40ec-abd7-d2ef9c2337e5')\"\n",
              "              title=\"Convert this dataframe to an interactive table.\"\n",
              "              style=\"display:none;\">\n",
              "        \n",
              "  <svg xmlns=\"http://www.w3.org/2000/svg\" height=\"24px\"viewBox=\"0 0 24 24\"\n",
              "       width=\"24px\">\n",
              "    <path d=\"M0 0h24v24H0V0z\" fill=\"none\"/>\n",
              "    <path d=\"M18.56 5.44l.94 2.06.94-2.06 2.06-.94-2.06-.94-.94-2.06-.94 2.06-2.06.94zm-11 1L8.5 8.5l.94-2.06 2.06-.94-2.06-.94L8.5 2.5l-.94 2.06-2.06.94zm10 10l.94 2.06.94-2.06 2.06-.94-2.06-.94-.94-2.06-.94 2.06-2.06.94z\"/><path d=\"M17.41 7.96l-1.37-1.37c-.4-.4-.92-.59-1.43-.59-.52 0-1.04.2-1.43.59L10.3 9.45l-7.72 7.72c-.78.78-.78 2.05 0 2.83L4 21.41c.39.39.9.59 1.41.59.51 0 1.02-.2 1.41-.59l7.78-7.78 2.81-2.81c.8-.78.8-2.07 0-2.86zM5.41 20L4 18.59l7.72-7.72 1.47 1.35L5.41 20z\"/>\n",
              "  </svg>\n",
              "      </button>\n",
              "      \n",
              "  <style>\n",
              "    .colab-df-container {\n",
              "      display:flex;\n",
              "      flex-wrap:wrap;\n",
              "      gap: 12px;\n",
              "    }\n",
              "\n",
              "    .colab-df-convert {\n",
              "      background-color: #E8F0FE;\n",
              "      border: none;\n",
              "      border-radius: 50%;\n",
              "      cursor: pointer;\n",
              "      display: none;\n",
              "      fill: #1967D2;\n",
              "      height: 32px;\n",
              "      padding: 0 0 0 0;\n",
              "      width: 32px;\n",
              "    }\n",
              "\n",
              "    .colab-df-convert:hover {\n",
              "      background-color: #E2EBFA;\n",
              "      box-shadow: 0px 1px 2px rgba(60, 64, 67, 0.3), 0px 1px 3px 1px rgba(60, 64, 67, 0.15);\n",
              "      fill: #174EA6;\n",
              "    }\n",
              "\n",
              "    [theme=dark] .colab-df-convert {\n",
              "      background-color: #3B4455;\n",
              "      fill: #D2E3FC;\n",
              "    }\n",
              "\n",
              "    [theme=dark] .colab-df-convert:hover {\n",
              "      background-color: #434B5C;\n",
              "      box-shadow: 0px 1px 3px 1px rgba(0, 0, 0, 0.15);\n",
              "      filter: drop-shadow(0px 1px 2px rgba(0, 0, 0, 0.3));\n",
              "      fill: #FFFFFF;\n",
              "    }\n",
              "  </style>\n",
              "\n",
              "      <script>\n",
              "        const buttonEl =\n",
              "          document.querySelector('#df-a2682fc0-a4eb-40ec-abd7-d2ef9c2337e5 button.colab-df-convert');\n",
              "        buttonEl.style.display =\n",
              "          google.colab.kernel.accessAllowed ? 'block' : 'none';\n",
              "\n",
              "        async function convertToInteractive(key) {\n",
              "          const element = document.querySelector('#df-a2682fc0-a4eb-40ec-abd7-d2ef9c2337e5');\n",
              "          const dataTable =\n",
              "            await google.colab.kernel.invokeFunction('convertToInteractive',\n",
              "                                                     [key], {});\n",
              "          if (!dataTable) return;\n",
              "\n",
              "          const docLinkHtml = 'Like what you see? Visit the ' +\n",
              "            '<a target=\"_blank\" href=https://colab.research.google.com/notebooks/data_table.ipynb>data table notebook</a>'\n",
              "            + ' to learn more about interactive tables.';\n",
              "          element.innerHTML = '';\n",
              "          dataTable['output_type'] = 'display_data';\n",
              "          await google.colab.output.renderOutput(dataTable, element);\n",
              "          const docLink = document.createElement('div');\n",
              "          docLink.innerHTML = docLinkHtml;\n",
              "          element.appendChild(docLink);\n",
              "        }\n",
              "      </script>\n",
              "    </div>\n",
              "  </div>\n",
              "  "
            ]
          },
          "metadata": {},
          "execution_count": 40
        }
      ],
      "source": [
        "temp_row = list(result_xgb2['xgb_result']).copy()\n",
        "temp_row.append(result_xgb2['xgb_train_time']) ; temp_row.append(result_xgb2['xgb_pred_time']) ; temp_row.append(result_xgb2['xgb_gs_time'])\n",
        "row1 = pd.DataFrame(temp_row, index = [\"Train_AUC\",\"Test_AUC\",\"Train_time\",\"Prediction_time\",\"HyperParams_Tuning_time\"]).T\n",
        "\n",
        "temp_row = list(result_lgb2['lgb_without_cat_result']).copy()\n",
        "temp_row.append(result_lgb2['lgb_without_cat_train_time']) ; temp_row.append(result_lgb2['lgb_without_cat_pred_time']) ; temp_row.append(result_lgb2['lgb_gs_time'])\n",
        "row2 = pd.DataFrame(temp_row, index = [\"Train_AUC\",\"Test_AUC\",\"Train_time\",\"Prediction_time\",\"HyperParams_Tuning_time\"]).T\n",
        "\n",
        "temp_row = list(result_lgb2['lgb_with_cat_result']).copy()\n",
        "temp_row.append(result_lgb2['lgb_with_cat_train_time']) ; temp_row.append(result_lgb2['lgb_with_cat_pred_time']) ; temp_row.append(result_lgb2['lgb_gs_time'])\n",
        "row3 = pd.DataFrame(temp_row, index = [\"Train_AUC\",\"Test_AUC\",\"Train_time\",\"Prediction_time\",\"HyperParams_Tuning_time\"]).T\n",
        "\n",
        "temp_row = list(result_cb2['cb_without_cat_result']).copy()\n",
        "temp_row.append(result_cb2['cb_without_cat_train_time']) ; temp_row.append(result_cb2['cb_without_cat_pred_time']) ; temp_row.append(result_cb2['cb_gs_time'])\n",
        "row4 = pd.DataFrame(temp_row, index = [\"Train_AUC\",\"Test_AUC\",\"Train_time\",\"Prediction_time\",\"HyperParams_Tuning_time\"]).T\n",
        "\n",
        "temp_row = list(result_cb2['cb_with_cat_result']).copy()\n",
        "temp_row.append(result_cb2['cb_with_cat_train_time']) ; temp_row.append(result_cb2['cb_with_cat_pred_time']); temp_row.append(result_cb2['cb_gs_time'])\n",
        "row5 = pd.DataFrame(temp_row, index = [\"Train_AUC\",\"Test_AUC\",\"Train_time\",\"Prediction_time\",\"HyperParams_Tuning_time\"]).T\n",
        "\n",
        "rows = [row2,row3,row4,row5]\n",
        "\n",
        "for r in rows:\n",
        "  row1 = pd.concat([row1, r],axis = 0)\n",
        "table2 = row1.copy()\n",
        "table2.index = [[\"XGboost\", \"LightGBM\", \"LightGBM\", \"CatBoost\",\"CatBoost\"], [\"-\", \"without_cat\",\"with_cat\", \"without_cat\",\"with_cat\"]]\n",
        "table2['train_test_diff'] = table2['Train_AUC'] - table2['Test_AUC']\n",
        "table2 #대표본"
      ],
      "id": "EcOvA5nqv33g"
    },
    {
      "cell_type": "code",
      "execution_count": null,
      "metadata": {
        "id": "hdbB5tR_tXgS",
        "colab": {
          "base_uri": "https://localhost:8080/",
          "height": 206
        },
        "outputId": "a2386f9b-8d6e-4792-9d1d-b3d37c03bc6f"
      },
      "outputs": [
        {
          "output_type": "execute_result",
          "data": {
            "text/plain": [
              "                      Train_AUC  Test_AUC  Train_time  Prediction_time  \\\n",
              "XGboost  -             0.903091  0.681245    1.440668         0.057296   \n",
              "LightGBM without_cat   0.849981  0.671798    0.336224         0.098011   \n",
              "         with_cat      0.805532  0.653559    0.205954         0.094207   \n",
              "CatBoost without_cat   0.843792  0.683760    0.950318         0.011542   \n",
              "         with_cat      0.785257  0.687610    3.061163         0.023400   \n",
              "\n",
              "                      HyperParams_Tuning_time  train_test_diff  \n",
              "XGboost  -                          69.482261         0.221847  \n",
              "LightGBM without_cat                21.029717         0.178183  \n",
              "         with_cat                   21.029717         0.151973  \n",
              "CatBoost without_cat               116.737340         0.160032  \n",
              "         with_cat                  116.737340         0.097648  "
            ],
            "text/html": [
              "\n",
              "  <div id=\"df-81f0bf79-fd93-483b-a8bf-8ab649d474c7\">\n",
              "    <div class=\"colab-df-container\">\n",
              "      <div>\n",
              "<style scoped>\n",
              "    .dataframe tbody tr th:only-of-type {\n",
              "        vertical-align: middle;\n",
              "    }\n",
              "\n",
              "    .dataframe tbody tr th {\n",
              "        vertical-align: top;\n",
              "    }\n",
              "\n",
              "    .dataframe thead th {\n",
              "        text-align: right;\n",
              "    }\n",
              "</style>\n",
              "<table border=\"1\" class=\"dataframe\">\n",
              "  <thead>\n",
              "    <tr style=\"text-align: right;\">\n",
              "      <th></th>\n",
              "      <th></th>\n",
              "      <th>Train_AUC</th>\n",
              "      <th>Test_AUC</th>\n",
              "      <th>Train_time</th>\n",
              "      <th>Prediction_time</th>\n",
              "      <th>HyperParams_Tuning_time</th>\n",
              "      <th>train_test_diff</th>\n",
              "    </tr>\n",
              "  </thead>\n",
              "  <tbody>\n",
              "    <tr>\n",
              "      <th>XGboost</th>\n",
              "      <th>-</th>\n",
              "      <td>0.903091</td>\n",
              "      <td>0.681245</td>\n",
              "      <td>1.440668</td>\n",
              "      <td>0.057296</td>\n",
              "      <td>69.482261</td>\n",
              "      <td>0.221847</td>\n",
              "    </tr>\n",
              "    <tr>\n",
              "      <th rowspan=\"2\" valign=\"top\">LightGBM</th>\n",
              "      <th>without_cat</th>\n",
              "      <td>0.849981</td>\n",
              "      <td>0.671798</td>\n",
              "      <td>0.336224</td>\n",
              "      <td>0.098011</td>\n",
              "      <td>21.029717</td>\n",
              "      <td>0.178183</td>\n",
              "    </tr>\n",
              "    <tr>\n",
              "      <th>with_cat</th>\n",
              "      <td>0.805532</td>\n",
              "      <td>0.653559</td>\n",
              "      <td>0.205954</td>\n",
              "      <td>0.094207</td>\n",
              "      <td>21.029717</td>\n",
              "      <td>0.151973</td>\n",
              "    </tr>\n",
              "    <tr>\n",
              "      <th rowspan=\"2\" valign=\"top\">CatBoost</th>\n",
              "      <th>without_cat</th>\n",
              "      <td>0.843792</td>\n",
              "      <td>0.683760</td>\n",
              "      <td>0.950318</td>\n",
              "      <td>0.011542</td>\n",
              "      <td>116.737340</td>\n",
              "      <td>0.160032</td>\n",
              "    </tr>\n",
              "    <tr>\n",
              "      <th>with_cat</th>\n",
              "      <td>0.785257</td>\n",
              "      <td>0.687610</td>\n",
              "      <td>3.061163</td>\n",
              "      <td>0.023400</td>\n",
              "      <td>116.737340</td>\n",
              "      <td>0.097648</td>\n",
              "    </tr>\n",
              "  </tbody>\n",
              "</table>\n",
              "</div>\n",
              "      <button class=\"colab-df-convert\" onclick=\"convertToInteractive('df-81f0bf79-fd93-483b-a8bf-8ab649d474c7')\"\n",
              "              title=\"Convert this dataframe to an interactive table.\"\n",
              "              style=\"display:none;\">\n",
              "        \n",
              "  <svg xmlns=\"http://www.w3.org/2000/svg\" height=\"24px\"viewBox=\"0 0 24 24\"\n",
              "       width=\"24px\">\n",
              "    <path d=\"M0 0h24v24H0V0z\" fill=\"none\"/>\n",
              "    <path d=\"M18.56 5.44l.94 2.06.94-2.06 2.06-.94-2.06-.94-.94-2.06-.94 2.06-2.06.94zm-11 1L8.5 8.5l.94-2.06 2.06-.94-2.06-.94L8.5 2.5l-.94 2.06-2.06.94zm10 10l.94 2.06.94-2.06 2.06-.94-2.06-.94-.94-2.06-.94 2.06-2.06.94z\"/><path d=\"M17.41 7.96l-1.37-1.37c-.4-.4-.92-.59-1.43-.59-.52 0-1.04.2-1.43.59L10.3 9.45l-7.72 7.72c-.78.78-.78 2.05 0 2.83L4 21.41c.39.39.9.59 1.41.59.51 0 1.02-.2 1.41-.59l7.78-7.78 2.81-2.81c.8-.78.8-2.07 0-2.86zM5.41 20L4 18.59l7.72-7.72 1.47 1.35L5.41 20z\"/>\n",
              "  </svg>\n",
              "      </button>\n",
              "      \n",
              "  <style>\n",
              "    .colab-df-container {\n",
              "      display:flex;\n",
              "      flex-wrap:wrap;\n",
              "      gap: 12px;\n",
              "    }\n",
              "\n",
              "    .colab-df-convert {\n",
              "      background-color: #E8F0FE;\n",
              "      border: none;\n",
              "      border-radius: 50%;\n",
              "      cursor: pointer;\n",
              "      display: none;\n",
              "      fill: #1967D2;\n",
              "      height: 32px;\n",
              "      padding: 0 0 0 0;\n",
              "      width: 32px;\n",
              "    }\n",
              "\n",
              "    .colab-df-convert:hover {\n",
              "      background-color: #E2EBFA;\n",
              "      box-shadow: 0px 1px 2px rgba(60, 64, 67, 0.3), 0px 1px 3px 1px rgba(60, 64, 67, 0.15);\n",
              "      fill: #174EA6;\n",
              "    }\n",
              "\n",
              "    [theme=dark] .colab-df-convert {\n",
              "      background-color: #3B4455;\n",
              "      fill: #D2E3FC;\n",
              "    }\n",
              "\n",
              "    [theme=dark] .colab-df-convert:hover {\n",
              "      background-color: #434B5C;\n",
              "      box-shadow: 0px 1px 3px 1px rgba(0, 0, 0, 0.15);\n",
              "      filter: drop-shadow(0px 1px 2px rgba(0, 0, 0, 0.3));\n",
              "      fill: #FFFFFF;\n",
              "    }\n",
              "  </style>\n",
              "\n",
              "      <script>\n",
              "        const buttonEl =\n",
              "          document.querySelector('#df-81f0bf79-fd93-483b-a8bf-8ab649d474c7 button.colab-df-convert');\n",
              "        buttonEl.style.display =\n",
              "          google.colab.kernel.accessAllowed ? 'block' : 'none';\n",
              "\n",
              "        async function convertToInteractive(key) {\n",
              "          const element = document.querySelector('#df-81f0bf79-fd93-483b-a8bf-8ab649d474c7');\n",
              "          const dataTable =\n",
              "            await google.colab.kernel.invokeFunction('convertToInteractive',\n",
              "                                                     [key], {});\n",
              "          if (!dataTable) return;\n",
              "\n",
              "          const docLinkHtml = 'Like what you see? Visit the ' +\n",
              "            '<a target=\"_blank\" href=https://colab.research.google.com/notebooks/data_table.ipynb>data table notebook</a>'\n",
              "            + ' to learn more about interactive tables.';\n",
              "          element.innerHTML = '';\n",
              "          dataTable['output_type'] = 'display_data';\n",
              "          await google.colab.output.renderOutput(dataTable, element);\n",
              "          const docLink = document.createElement('div');\n",
              "          docLink.innerHTML = docLinkHtml;\n",
              "          element.appendChild(docLink);\n",
              "        }\n",
              "      </script>\n",
              "    </div>\n",
              "  </div>\n",
              "  "
            ]
          },
          "metadata": {},
          "execution_count": 41
        }
      ],
      "source": [
        "table1 #소표본"
      ],
      "id": "hdbB5tR_tXgS"
    },
    {
      "cell_type": "code",
      "execution_count": null,
      "metadata": {
        "id": "YiG4xxOntgDu",
        "colab": {
          "base_uri": "https://localhost:8080/",
          "height": 206
        },
        "outputId": "c0fed8a1-d754-4910-b723-75448f283d01"
      },
      "outputs": [
        {
          "output_type": "execute_result",
          "data": {
            "text/plain": [
              "                      train_test_diff\n",
              "XGboost  -                  -0.165457\n",
              "LightGBM without_cat        -0.070787\n",
              "         with_cat           -0.074271\n",
              "CatBoost without_cat        -0.068894\n",
              "         with_cat            0.069420"
            ],
            "text/html": [
              "\n",
              "  <div id=\"df-c181c98b-8b03-48d5-8a1f-dc488ba984fb\">\n",
              "    <div class=\"colab-df-container\">\n",
              "      <div>\n",
              "<style scoped>\n",
              "    .dataframe tbody tr th:only-of-type {\n",
              "        vertical-align: middle;\n",
              "    }\n",
              "\n",
              "    .dataframe tbody tr th {\n",
              "        vertical-align: top;\n",
              "    }\n",
              "\n",
              "    .dataframe thead th {\n",
              "        text-align: right;\n",
              "    }\n",
              "</style>\n",
              "<table border=\"1\" class=\"dataframe\">\n",
              "  <thead>\n",
              "    <tr style=\"text-align: right;\">\n",
              "      <th></th>\n",
              "      <th></th>\n",
              "      <th>train_test_diff</th>\n",
              "    </tr>\n",
              "  </thead>\n",
              "  <tbody>\n",
              "    <tr>\n",
              "      <th>XGboost</th>\n",
              "      <th>-</th>\n",
              "      <td>-0.165457</td>\n",
              "    </tr>\n",
              "    <tr>\n",
              "      <th rowspan=\"2\" valign=\"top\">LightGBM</th>\n",
              "      <th>without_cat</th>\n",
              "      <td>-0.070787</td>\n",
              "    </tr>\n",
              "    <tr>\n",
              "      <th>with_cat</th>\n",
              "      <td>-0.074271</td>\n",
              "    </tr>\n",
              "    <tr>\n",
              "      <th rowspan=\"2\" valign=\"top\">CatBoost</th>\n",
              "      <th>without_cat</th>\n",
              "      <td>-0.068894</td>\n",
              "    </tr>\n",
              "    <tr>\n",
              "      <th>with_cat</th>\n",
              "      <td>0.069420</td>\n",
              "    </tr>\n",
              "  </tbody>\n",
              "</table>\n",
              "</div>\n",
              "      <button class=\"colab-df-convert\" onclick=\"convertToInteractive('df-c181c98b-8b03-48d5-8a1f-dc488ba984fb')\"\n",
              "              title=\"Convert this dataframe to an interactive table.\"\n",
              "              style=\"display:none;\">\n",
              "        \n",
              "  <svg xmlns=\"http://www.w3.org/2000/svg\" height=\"24px\"viewBox=\"0 0 24 24\"\n",
              "       width=\"24px\">\n",
              "    <path d=\"M0 0h24v24H0V0z\" fill=\"none\"/>\n",
              "    <path d=\"M18.56 5.44l.94 2.06.94-2.06 2.06-.94-2.06-.94-.94-2.06-.94 2.06-2.06.94zm-11 1L8.5 8.5l.94-2.06 2.06-.94-2.06-.94L8.5 2.5l-.94 2.06-2.06.94zm10 10l.94 2.06.94-2.06 2.06-.94-2.06-.94-.94-2.06-.94 2.06-2.06.94z\"/><path d=\"M17.41 7.96l-1.37-1.37c-.4-.4-.92-.59-1.43-.59-.52 0-1.04.2-1.43.59L10.3 9.45l-7.72 7.72c-.78.78-.78 2.05 0 2.83L4 21.41c.39.39.9.59 1.41.59.51 0 1.02-.2 1.41-.59l7.78-7.78 2.81-2.81c.8-.78.8-2.07 0-2.86zM5.41 20L4 18.59l7.72-7.72 1.47 1.35L5.41 20z\"/>\n",
              "  </svg>\n",
              "      </button>\n",
              "      \n",
              "  <style>\n",
              "    .colab-df-container {\n",
              "      display:flex;\n",
              "      flex-wrap:wrap;\n",
              "      gap: 12px;\n",
              "    }\n",
              "\n",
              "    .colab-df-convert {\n",
              "      background-color: #E8F0FE;\n",
              "      border: none;\n",
              "      border-radius: 50%;\n",
              "      cursor: pointer;\n",
              "      display: none;\n",
              "      fill: #1967D2;\n",
              "      height: 32px;\n",
              "      padding: 0 0 0 0;\n",
              "      width: 32px;\n",
              "    }\n",
              "\n",
              "    .colab-df-convert:hover {\n",
              "      background-color: #E2EBFA;\n",
              "      box-shadow: 0px 1px 2px rgba(60, 64, 67, 0.3), 0px 1px 3px 1px rgba(60, 64, 67, 0.15);\n",
              "      fill: #174EA6;\n",
              "    }\n",
              "\n",
              "    [theme=dark] .colab-df-convert {\n",
              "      background-color: #3B4455;\n",
              "      fill: #D2E3FC;\n",
              "    }\n",
              "\n",
              "    [theme=dark] .colab-df-convert:hover {\n",
              "      background-color: #434B5C;\n",
              "      box-shadow: 0px 1px 3px 1px rgba(0, 0, 0, 0.15);\n",
              "      filter: drop-shadow(0px 1px 2px rgba(0, 0, 0, 0.3));\n",
              "      fill: #FFFFFF;\n",
              "    }\n",
              "  </style>\n",
              "\n",
              "      <script>\n",
              "        const buttonEl =\n",
              "          document.querySelector('#df-c181c98b-8b03-48d5-8a1f-dc488ba984fb button.colab-df-convert');\n",
              "        buttonEl.style.display =\n",
              "          google.colab.kernel.accessAllowed ? 'block' : 'none';\n",
              "\n",
              "        async function convertToInteractive(key) {\n",
              "          const element = document.querySelector('#df-c181c98b-8b03-48d5-8a1f-dc488ba984fb');\n",
              "          const dataTable =\n",
              "            await google.colab.kernel.invokeFunction('convertToInteractive',\n",
              "                                                     [key], {});\n",
              "          if (!dataTable) return;\n",
              "\n",
              "          const docLinkHtml = 'Like what you see? Visit the ' +\n",
              "            '<a target=\"_blank\" href=https://colab.research.google.com/notebooks/data_table.ipynb>data table notebook</a>'\n",
              "            + ' to learn more about interactive tables.';\n",
              "          element.innerHTML = '';\n",
              "          dataTable['output_type'] = 'display_data';\n",
              "          await google.colab.output.renderOutput(dataTable, element);\n",
              "          const docLink = document.createElement('div');\n",
              "          docLink.innerHTML = docLinkHtml;\n",
              "          element.appendChild(docLink);\n",
              "        }\n",
              "      </script>\n",
              "    </div>\n",
              "  </div>\n",
              "  "
            ]
          },
          "metadata": {},
          "execution_count": 42
        }
      ],
      "source": [
        "table3 = (table2 - table1)[['train_test_diff']]\n",
        "table3  #대표본 - 소표본 : train/test차이가 감소(-인 경우) : 오버피팅 완화"
      ],
      "id": "YiG4xxOntgDu"
    },
    {
      "cell_type": "markdown",
      "metadata": {
        "id": "NN9lHn5FEnaL"
      },
      "source": [
        "< 관찰 포인트 > : 현재 대표본인 상태\n",
        "- LightGBM은 Train 속도가 가장 빠르다, (압도적임)\n",
        "- Catboost는 예측속도가 가장 빠르다\n",
        "- 전부 성능이 0.7대로 올라오면서 소표본에서보다 좋아졌다.(그래도 이 데이터 셋에서 성능이 엄청 좋진 않음 : 파라미터 튜닝의 문제일 가능성이 있음.)\n",
        "- XGBoost, LightGBM의 train_auc, test_auc의 차이가 소표본에 비해서 감소했다. (오버피팅 완화), 하지만 Catboost with cat은 차이가 조금 더 생겼다.\n",
        "- 파라미터 튜닝 타임은 XGB, CAT, LGB순으로 오래 걸리는 모습이 소표본과 다르게 확연히 드러난다"
      ],
      "id": "NN9lHn5FEnaL"
    },
    {
      "cell_type": "markdown",
      "metadata": {
        "id": "nRNFYFqxpfhe"
      },
      "source": [
        "## TEST3 : Making Missing Value\n",
        "- 목적 : sparse matrix까지는 아니지만 결측치를 대거 생성하여 결측치가 많아졌을때 모형의 성능들이 어떻게 변하는 지 확인하기 위함"
      ],
      "id": "nRNFYFqxpfhe"
    },
    {
      "cell_type": "code",
      "execution_count": null,
      "metadata": {
        "id": "hUoAW8omqnNe"
      },
      "outputs": [],
      "source": [
        "import random\n",
        "# 랜덤하게 결측치 생성하는 함수 : x_train, y_train에 각각 랜덤한 위치에 10000개씩 nan결측치를 만들기\n",
        "def make_nan(train, test):\n",
        "  nan_train = train.copy()\n",
        "  for i in range(10000):\n",
        "    random.seed(i)\n",
        "    rnd_ind = random.sample(list(nan_train.index),1)\n",
        "    rnd_col = random.sample(list(nan_train.columns),1)\n",
        "    nan_train.loc[rnd_ind,rnd_col] = np.nan\n",
        "\n",
        "  nan_test = test.copy()\n",
        "  for i in range(10000):\n",
        "    random.seed(i)\n",
        "    rnd_ind = random.sample(list(nan_test.index),1)\n",
        "    rnd_col = random.sample(list(nan_test.columns),1)\n",
        "    nan_test.loc[rnd_ind,rnd_col] = np.nan\n",
        "\n",
        "  nan_train = nan_train.astype(float)\n",
        "  nan_test = nan_test.astype(float)\n",
        "\n",
        "  display(nan_train.isnull().sum())\n",
        "  print()\n",
        "  display(nan_test.isnull().sum())\n",
        "  return nan_train, nan_test"
      ],
      "id": "hUoAW8omqnNe"
    },
    {
      "cell_type": "code",
      "execution_count": null,
      "metadata": {
        "id": "y7ASvpPCrjLS",
        "colab": {
          "base_uri": "https://localhost:8080/",
          "height": 1000
        },
        "outputId": "4f24cf15-6704-45e7-a9cc-9ce1a49e04bb"
      },
      "outputs": [
        {
          "output_type": "display_data",
          "data": {
            "text/plain": [
              "MONTH                   960\n",
              "DAY                     994\n",
              "DAY_OF_WEEK             992\n",
              "AIRLINE                 965\n",
              "FLIGHT_NUMBER           991\n",
              "DESTINATION_AIRPORT    1016\n",
              "ORIGIN_AIRPORT          960\n",
              "AIR_TIME               1012\n",
              "DEPARTURE_TIME         1033\n",
              "DISTANCE                944\n",
              "dtype: int64"
            ]
          },
          "metadata": {}
        },
        {
          "output_type": "stream",
          "name": "stdout",
          "text": [
            "\n"
          ]
        },
        {
          "output_type": "display_data",
          "data": {
            "text/plain": [
              "MONTH                   934\n",
              "DAY                     951\n",
              "DAY_OF_WEEK             993\n",
              "AIRLINE                 920\n",
              "FLIGHT_NUMBER           925\n",
              "DESTINATION_AIRPORT     991\n",
              "ORIGIN_AIRPORT          940\n",
              "AIR_TIME               1015\n",
              "DEPARTURE_TIME          976\n",
              "DISTANCE                944\n",
              "dtype: int64"
            ]
          },
          "metadata": {}
        },
        {
          "output_type": "stream",
          "name": "stdout",
          "text": [
            "{'learning_rate': 0.11, 'max_depth': 3, 'min_child_weight': 2, 'n_estimators': 300}\n"
          ]
        },
        {
          "output_type": "display_data",
          "data": {
            "text/plain": [
              "{'xgb_gs_time': 862.7747595310211,\n",
              " 'xgb_train_time': 6.9704766273498535,\n",
              " 'xgb_pred_time': 0.5438315868377686,\n",
              " 'xgb_result': (0.763181845208829, 0.689902362616989),\n",
              " 'default_result': (0.7114286803146089, 0.6749802863276632)}"
            ]
          },
          "metadata": {}
        },
        {
          "output_type": "stream",
          "name": "stdout",
          "text": [
            "\n"
          ]
        },
        {
          "output_type": "display_data",
          "data": {
            "text/plain": [
              "MONTH                   960\n",
              "DAY                     994\n",
              "DAY_OF_WEEK             992\n",
              "AIRLINE                 965\n",
              "FLIGHT_NUMBER           991\n",
              "DESTINATION_AIRPORT    1016\n",
              "ORIGIN_AIRPORT          960\n",
              "AIR_TIME               1012\n",
              "DEPARTURE_TIME         1033\n",
              "DISTANCE                944\n",
              "dtype: int64"
            ]
          },
          "metadata": {}
        },
        {
          "output_type": "stream",
          "name": "stdout",
          "text": [
            "\n"
          ]
        },
        {
          "output_type": "display_data",
          "data": {
            "text/plain": [
              "MONTH                   934\n",
              "DAY                     951\n",
              "DAY_OF_WEEK             993\n",
              "AIRLINE                 920\n",
              "FLIGHT_NUMBER           925\n",
              "DESTINATION_AIRPORT     991\n",
              "ORIGIN_AIRPORT          940\n",
              "AIR_TIME               1015\n",
              "DEPARTURE_TIME          976\n",
              "DISTANCE                944\n",
              "dtype: int64"
            ]
          },
          "metadata": {}
        },
        {
          "output_type": "stream",
          "name": "stdout",
          "text": [
            "\n",
            "<class 'pandas.core.frame.DataFrame'>\n",
            "RangeIndex: 35753 entries, 0 to 35752\n",
            "Data columns (total 10 columns):\n",
            " #   Column               Non-Null Count  Dtype  \n",
            "---  ------               --------------  -----  \n",
            " 0   MONTH                34793 non-null  float64\n",
            " 1   DAY                  34759 non-null  float64\n",
            " 2   DAY_OF_WEEK          34761 non-null  float64\n",
            " 3   AIRLINE              34788 non-null  float64\n",
            " 4   FLIGHT_NUMBER        34762 non-null  float64\n",
            " 5   DESTINATION_AIRPORT  34737 non-null  float64\n",
            " 6   ORIGIN_AIRPORT       34793 non-null  float64\n",
            " 7   AIR_TIME             34741 non-null  float64\n",
            " 8   DEPARTURE_TIME       34720 non-null  float64\n",
            " 9   DISTANCE             34809 non-null  float64\n",
            "dtypes: float64(10)\n",
            "memory usage: 2.7 MB\n"
          ]
        },
        {
          "output_type": "display_data",
          "data": {
            "text/plain": [
              "None"
            ]
          },
          "metadata": {}
        },
        {
          "output_type": "stream",
          "name": "stdout",
          "text": [
            "\n",
            "<class 'pandas.core.frame.DataFrame'>\n",
            "RangeIndex: 11918 entries, 0 to 11917\n",
            "Data columns (total 10 columns):\n",
            " #   Column               Non-Null Count  Dtype  \n",
            "---  ------               --------------  -----  \n",
            " 0   MONTH                10984 non-null  float64\n",
            " 1   DAY                  10967 non-null  float64\n",
            " 2   DAY_OF_WEEK          10925 non-null  float64\n",
            " 3   AIRLINE              10998 non-null  float64\n",
            " 4   FLIGHT_NUMBER        10993 non-null  float64\n",
            " 5   DESTINATION_AIRPORT  10927 non-null  float64\n",
            " 6   ORIGIN_AIRPORT       10978 non-null  float64\n",
            " 7   AIR_TIME             10903 non-null  float64\n",
            " 8   DEPARTURE_TIME       10942 non-null  float64\n",
            " 9   DISTANCE             10974 non-null  float64\n",
            "dtypes: float64(10)\n",
            "memory usage: 931.2 KB\n"
          ]
        },
        {
          "output_type": "display_data",
          "data": {
            "text/plain": [
              "None"
            ]
          },
          "metadata": {}
        }
      ],
      "source": [
        "#XGBoost\n",
        "nan_train, nan_test =make_nan(train, test)\n",
        "result_xgb3 = XGBOOST(nan_train, nan_test, y_train, y_test)\n",
        "display(result_xgb3)\n",
        "\n",
        "print() ; display(nan_train.isnull().sum())\n",
        "print() ; display(nan_test.isnull().sum())\n",
        "print() ; display(nan_train.info())\n",
        "print() ; display(nan_test.info())"
      ],
      "id": "y7ASvpPCrjLS"
    },
    {
      "cell_type": "code",
      "execution_count": null,
      "metadata": {
        "id": "XRHE9spnskhS",
        "colab": {
          "base_uri": "https://localhost:8080/",
          "height": 1000
        },
        "outputId": "2071ecea-b067-4913-feca-7cfbe3fccaeb"
      },
      "outputs": [
        {
          "output_type": "display_data",
          "data": {
            "text/plain": [
              "MONTH                   960\n",
              "DAY                     994\n",
              "DAY_OF_WEEK             992\n",
              "AIRLINE                 965\n",
              "FLIGHT_NUMBER           991\n",
              "DESTINATION_AIRPORT    1016\n",
              "ORIGIN_AIRPORT          960\n",
              "AIR_TIME               1012\n",
              "DEPARTURE_TIME         1033\n",
              "DISTANCE                944\n",
              "dtype: int64"
            ]
          },
          "metadata": {}
        },
        {
          "output_type": "stream",
          "name": "stdout",
          "text": [
            "\n"
          ]
        },
        {
          "output_type": "display_data",
          "data": {
            "text/plain": [
              "MONTH                   934\n",
              "DAY                     951\n",
              "DAY_OF_WEEK             993\n",
              "AIRLINE                 920\n",
              "FLIGHT_NUMBER           925\n",
              "DESTINATION_AIRPORT     991\n",
              "ORIGIN_AIRPORT          940\n",
              "AIR_TIME               1015\n",
              "DEPARTURE_TIME          976\n",
              "DISTANCE                944\n",
              "dtype: int64"
            ]
          },
          "metadata": {}
        },
        {
          "output_type": "stream",
          "name": "stdout",
          "text": [
            "{'learning_rate': 0.05, 'max_depth': 15, 'n_estimators': 300, 'num_leaves': 25}\n"
          ]
        },
        {
          "output_type": "display_data",
          "data": {
            "text/plain": [
              "{'lgb_gs_time': 87.48864579200745,\n",
              " 'lgb_without_cat_train_time': 1.2709717750549316,\n",
              " 'lgb_without_cat_pred_time': 0.8564102649688721,\n",
              " 'lgb_without_cat_result': (0.8216299605248967, 0.6921545352984144),\n",
              " 'lgb_with_cat_train_time': 0.770219087600708,\n",
              " 'lgb_with_cat_pred_time': 0.7666842937469482,\n",
              " 'lgb_with_cat_result': (0.7600433736059026, 0.6607760383595042),\n",
              " 'default_result': (0.7525705822100918, 0.6607319561214633)}"
            ]
          },
          "metadata": {}
        },
        {
          "output_type": "stream",
          "name": "stdout",
          "text": [
            "\n"
          ]
        },
        {
          "output_type": "display_data",
          "data": {
            "text/plain": [
              "MONTH                   960\n",
              "DAY                     994\n",
              "DAY_OF_WEEK             992\n",
              "AIRLINE                 965\n",
              "FLIGHT_NUMBER           991\n",
              "DESTINATION_AIRPORT    1016\n",
              "ORIGIN_AIRPORT          960\n",
              "AIR_TIME               1012\n",
              "DEPARTURE_TIME         1033\n",
              "DISTANCE                944\n",
              "dtype: int64"
            ]
          },
          "metadata": {}
        },
        {
          "output_type": "stream",
          "name": "stdout",
          "text": [
            "\n"
          ]
        },
        {
          "output_type": "display_data",
          "data": {
            "text/plain": [
              "MONTH                   934\n",
              "DAY                     951\n",
              "DAY_OF_WEEK             993\n",
              "AIRLINE                 920\n",
              "FLIGHT_NUMBER           925\n",
              "DESTINATION_AIRPORT     991\n",
              "ORIGIN_AIRPORT          940\n",
              "AIR_TIME               1015\n",
              "DEPARTURE_TIME          976\n",
              "DISTANCE                944\n",
              "dtype: int64"
            ]
          },
          "metadata": {}
        },
        {
          "output_type": "stream",
          "name": "stdout",
          "text": [
            "\n",
            "<class 'pandas.core.frame.DataFrame'>\n",
            "RangeIndex: 35753 entries, 0 to 35752\n",
            "Data columns (total 10 columns):\n",
            " #   Column               Non-Null Count  Dtype  \n",
            "---  ------               --------------  -----  \n",
            " 0   MONTH                34793 non-null  float64\n",
            " 1   DAY                  34759 non-null  float64\n",
            " 2   DAY_OF_WEEK          34761 non-null  float64\n",
            " 3   AIRLINE              34788 non-null  float64\n",
            " 4   FLIGHT_NUMBER        34762 non-null  float64\n",
            " 5   DESTINATION_AIRPORT  34737 non-null  float64\n",
            " 6   ORIGIN_AIRPORT       34793 non-null  float64\n",
            " 7   AIR_TIME             34741 non-null  float64\n",
            " 8   DEPARTURE_TIME       34720 non-null  float64\n",
            " 9   DISTANCE             34809 non-null  float64\n",
            "dtypes: float64(10)\n",
            "memory usage: 2.7 MB\n"
          ]
        },
        {
          "output_type": "display_data",
          "data": {
            "text/plain": [
              "None"
            ]
          },
          "metadata": {}
        },
        {
          "output_type": "stream",
          "name": "stdout",
          "text": [
            "\n",
            "<class 'pandas.core.frame.DataFrame'>\n",
            "RangeIndex: 11918 entries, 0 to 11917\n",
            "Data columns (total 10 columns):\n",
            " #   Column               Non-Null Count  Dtype  \n",
            "---  ------               --------------  -----  \n",
            " 0   MONTH                10984 non-null  float64\n",
            " 1   DAY                  10967 non-null  float64\n",
            " 2   DAY_OF_WEEK          10925 non-null  float64\n",
            " 3   AIRLINE              10998 non-null  float64\n",
            " 4   FLIGHT_NUMBER        10993 non-null  float64\n",
            " 5   DESTINATION_AIRPORT  10927 non-null  float64\n",
            " 6   ORIGIN_AIRPORT       10978 non-null  float64\n",
            " 7   AIR_TIME             10903 non-null  float64\n",
            " 8   DEPARTURE_TIME       10942 non-null  float64\n",
            " 9   DISTANCE             10974 non-null  float64\n",
            "dtypes: float64(10)\n",
            "memory usage: 931.2 KB\n"
          ]
        },
        {
          "output_type": "display_data",
          "data": {
            "text/plain": [
              "None"
            ]
          },
          "metadata": {}
        }
      ],
      "source": [
        "#LightGBM\n",
        "nan_train, nan_test =make_nan(train, test)\n",
        "result_lgb3 = LIGHTGBM(nan_train, nan_test, y_train, y_test)\n",
        "display(result_lgb3)\n",
        "\n",
        "print() ; display(nan_train.isnull().sum())\n",
        "print() ; display(nan_test.isnull().sum())\n",
        "print() ; display(nan_train.info())\n",
        "print() ; display(nan_test.info())"
      ],
      "id": "XRHE9spnskhS"
    },
    {
      "cell_type": "code",
      "execution_count": null,
      "metadata": {
        "id": "T7IcPQrZslti",
        "colab": {
          "base_uri": "https://localhost:8080/",
          "height": 1000
        },
        "outputId": "8474c4a8-4751-457a-b76f-516fe32582a5"
      },
      "outputs": [
        {
          "output_type": "display_data",
          "data": {
            "text/plain": [
              "MONTH                   960\n",
              "DAY                     994\n",
              "DAY_OF_WEEK             992\n",
              "AIRLINE                 965\n",
              "FLIGHT_NUMBER           991\n",
              "DESTINATION_AIRPORT    1016\n",
              "ORIGIN_AIRPORT          960\n",
              "AIR_TIME               1012\n",
              "DEPARTURE_TIME         1033\n",
              "DISTANCE                944\n",
              "dtype: int64"
            ]
          },
          "metadata": {}
        },
        {
          "output_type": "stream",
          "name": "stdout",
          "text": [
            "\n"
          ]
        },
        {
          "output_type": "display_data",
          "data": {
            "text/plain": [
              "MONTH                   934\n",
              "DAY                     951\n",
              "DAY_OF_WEEK             993\n",
              "AIRLINE                 920\n",
              "FLIGHT_NUMBER           925\n",
              "DESTINATION_AIRPORT     991\n",
              "ORIGIN_AIRPORT          940\n",
              "AIR_TIME               1015\n",
              "DEPARTURE_TIME          976\n",
              "DISTANCE                944\n",
              "dtype: int64"
            ]
          },
          "metadata": {}
        },
        {
          "output_type": "stream",
          "name": "stdout",
          "text": [
            "{'depth': 6, 'iterations': 700, 'l2_leaf_reg': 9, 'learning_rate': 0.05}\n"
          ]
        },
        {
          "output_type": "display_data",
          "data": {
            "text/plain": [
              "{'cb_gs_time': 414.00867462158203,\n",
              " 'cb_without_cat_train_time': 8.249504804611206,\n",
              " 'cb_without_cat_pred_time': 0.07544946670532227,\n",
              " 'cb_without_cat_result': (0.8071142704611363, 0.6930115329956347),\n",
              " 'cb_with_cat_train_time': 52.32287287712097,\n",
              " 'cb_with_cat_pred_time': 0.535322904586792,\n",
              " 'cb_with_cat_result': (0.8828891063716531, 0.6892528060652067),\n",
              " 'default_result': (0.8820196067518848, 0.682546616568874)}"
            ]
          },
          "metadata": {}
        },
        {
          "output_type": "stream",
          "name": "stdout",
          "text": [
            "\n"
          ]
        },
        {
          "output_type": "display_data",
          "data": {
            "text/plain": [
              "MONTH                     0\n",
              "DAY                       0\n",
              "DAY_OF_WEEK               0\n",
              "AIRLINE                   0\n",
              "FLIGHT_NUMBER             0\n",
              "DESTINATION_AIRPORT       0\n",
              "ORIGIN_AIRPORT            0\n",
              "AIR_TIME               1012\n",
              "DEPARTURE_TIME         1033\n",
              "DISTANCE                944\n",
              "dtype: int64"
            ]
          },
          "metadata": {}
        },
        {
          "output_type": "stream",
          "name": "stdout",
          "text": [
            "\n"
          ]
        },
        {
          "output_type": "display_data",
          "data": {
            "text/plain": [
              "MONTH                     0\n",
              "DAY                       0\n",
              "DAY_OF_WEEK               0\n",
              "AIRLINE                   0\n",
              "FLIGHT_NUMBER             0\n",
              "DESTINATION_AIRPORT       0\n",
              "ORIGIN_AIRPORT            0\n",
              "AIR_TIME               1015\n",
              "DEPARTURE_TIME          976\n",
              "DISTANCE                944\n",
              "dtype: int64"
            ]
          },
          "metadata": {}
        },
        {
          "output_type": "stream",
          "name": "stdout",
          "text": [
            "\n",
            "<class 'pandas.core.frame.DataFrame'>\n",
            "RangeIndex: 35753 entries, 0 to 35752\n",
            "Data columns (total 10 columns):\n",
            " #   Column               Non-Null Count  Dtype  \n",
            "---  ------               --------------  -----  \n",
            " 0   MONTH                35753 non-null  object \n",
            " 1   DAY                  35753 non-null  object \n",
            " 2   DAY_OF_WEEK          35753 non-null  object \n",
            " 3   AIRLINE              35753 non-null  object \n",
            " 4   FLIGHT_NUMBER        35753 non-null  object \n",
            " 5   DESTINATION_AIRPORT  35753 non-null  object \n",
            " 6   ORIGIN_AIRPORT       35753 non-null  object \n",
            " 7   AIR_TIME             34741 non-null  float64\n",
            " 8   DEPARTURE_TIME       34720 non-null  float64\n",
            " 9   DISTANCE             34809 non-null  float64\n",
            "dtypes: float64(3), object(7)\n",
            "memory usage: 2.7+ MB\n"
          ]
        },
        {
          "output_type": "display_data",
          "data": {
            "text/plain": [
              "None"
            ]
          },
          "metadata": {}
        },
        {
          "output_type": "stream",
          "name": "stdout",
          "text": [
            "\n",
            "<class 'pandas.core.frame.DataFrame'>\n",
            "RangeIndex: 11918 entries, 0 to 11917\n",
            "Data columns (total 10 columns):\n",
            " #   Column               Non-Null Count  Dtype  \n",
            "---  ------               --------------  -----  \n",
            " 0   MONTH                11918 non-null  object \n",
            " 1   DAY                  11918 non-null  object \n",
            " 2   DAY_OF_WEEK          11918 non-null  object \n",
            " 3   AIRLINE              11918 non-null  object \n",
            " 4   FLIGHT_NUMBER        11918 non-null  object \n",
            " 5   DESTINATION_AIRPORT  11918 non-null  object \n",
            " 6   ORIGIN_AIRPORT       11918 non-null  object \n",
            " 7   AIR_TIME             10903 non-null  float64\n",
            " 8   DEPARTURE_TIME       10942 non-null  float64\n",
            " 9   DISTANCE             10974 non-null  float64\n",
            "dtypes: float64(3), object(7)\n",
            "memory usage: 931.2+ KB\n"
          ]
        },
        {
          "output_type": "display_data",
          "data": {
            "text/plain": [
              "None"
            ]
          },
          "metadata": {}
        }
      ],
      "source": [
        "#CatBoost\n",
        "nan_train, nan_test =make_nan(train, test)\n",
        "result_cb3 = CATBOOST(nan_train, nan_test, y_train, y_test)\n",
        "display(result_cb3)\n",
        "\n",
        "print() ; display(nan_train.isnull().sum())\n",
        "print() ; display(nan_test.isnull().sum())\n",
        "print() ; display(nan_train.info())\n",
        "print() ; display(nan_test.info())\n",
        "# print(\"CatBoost는 Sparse matrix(결측치가 있는 데이터)를 지원하지 않습니다. Implutation을 해주세요!\")"
      ],
      "id": "T7IcPQrZslti"
    },
    {
      "cell_type": "code",
      "execution_count": null,
      "metadata": {
        "id": "W7vUnNrIJGlo",
        "colab": {
          "base_uri": "https://localhost:8080/",
          "height": 860
        },
        "outputId": "354995d3-bcb7-420f-98bf-c973204daf75"
      },
      "outputs": [
        {
          "output_type": "stream",
          "name": "stdout",
          "text": [
            "--------------XGBoost--------------\n"
          ]
        },
        {
          "output_type": "display_data",
          "data": {
            "text/plain": [
              "                                full                sparse        Difference\n",
              "xgb_gs_time                 618.1029              862.7748         -244.6719\n",
              "xgb_train_time                5.1955                6.9705            -1.775\n",
              "xgb_pred_time                 0.5204                0.5438           -0.0234\n",
              "xgb_result      [0.765182, 0.708792]  [0.763182, 0.689902]   [0.002, 0.0189]\n",
              "default_result  [0.716266, 0.687523]   [0.711429, 0.67498]  [0.0048, 0.0125]"
            ],
            "text/html": [
              "\n",
              "  <div id=\"df-717a36b1-b84b-4815-ad8d-6e1713dc4164\">\n",
              "    <div class=\"colab-df-container\">\n",
              "      <div>\n",
              "<style scoped>\n",
              "    .dataframe tbody tr th:only-of-type {\n",
              "        vertical-align: middle;\n",
              "    }\n",
              "\n",
              "    .dataframe tbody tr th {\n",
              "        vertical-align: top;\n",
              "    }\n",
              "\n",
              "    .dataframe thead th {\n",
              "        text-align: right;\n",
              "    }\n",
              "</style>\n",
              "<table border=\"1\" class=\"dataframe\">\n",
              "  <thead>\n",
              "    <tr style=\"text-align: right;\">\n",
              "      <th></th>\n",
              "      <th>full</th>\n",
              "      <th>sparse</th>\n",
              "      <th>Difference</th>\n",
              "    </tr>\n",
              "  </thead>\n",
              "  <tbody>\n",
              "    <tr>\n",
              "      <th>xgb_gs_time</th>\n",
              "      <td>618.1029</td>\n",
              "      <td>862.7748</td>\n",
              "      <td>-244.6719</td>\n",
              "    </tr>\n",
              "    <tr>\n",
              "      <th>xgb_train_time</th>\n",
              "      <td>5.1955</td>\n",
              "      <td>6.9705</td>\n",
              "      <td>-1.775</td>\n",
              "    </tr>\n",
              "    <tr>\n",
              "      <th>xgb_pred_time</th>\n",
              "      <td>0.5204</td>\n",
              "      <td>0.5438</td>\n",
              "      <td>-0.0234</td>\n",
              "    </tr>\n",
              "    <tr>\n",
              "      <th>xgb_result</th>\n",
              "      <td>[0.765182, 0.708792]</td>\n",
              "      <td>[0.763182, 0.689902]</td>\n",
              "      <td>[0.002, 0.0189]</td>\n",
              "    </tr>\n",
              "    <tr>\n",
              "      <th>default_result</th>\n",
              "      <td>[0.716266, 0.687523]</td>\n",
              "      <td>[0.711429, 0.67498]</td>\n",
              "      <td>[0.0048, 0.0125]</td>\n",
              "    </tr>\n",
              "  </tbody>\n",
              "</table>\n",
              "</div>\n",
              "      <button class=\"colab-df-convert\" onclick=\"convertToInteractive('df-717a36b1-b84b-4815-ad8d-6e1713dc4164')\"\n",
              "              title=\"Convert this dataframe to an interactive table.\"\n",
              "              style=\"display:none;\">\n",
              "        \n",
              "  <svg xmlns=\"http://www.w3.org/2000/svg\" height=\"24px\"viewBox=\"0 0 24 24\"\n",
              "       width=\"24px\">\n",
              "    <path d=\"M0 0h24v24H0V0z\" fill=\"none\"/>\n",
              "    <path d=\"M18.56 5.44l.94 2.06.94-2.06 2.06-.94-2.06-.94-.94-2.06-.94 2.06-2.06.94zm-11 1L8.5 8.5l.94-2.06 2.06-.94-2.06-.94L8.5 2.5l-.94 2.06-2.06.94zm10 10l.94 2.06.94-2.06 2.06-.94-2.06-.94-.94-2.06-.94 2.06-2.06.94z\"/><path d=\"M17.41 7.96l-1.37-1.37c-.4-.4-.92-.59-1.43-.59-.52 0-1.04.2-1.43.59L10.3 9.45l-7.72 7.72c-.78.78-.78 2.05 0 2.83L4 21.41c.39.39.9.59 1.41.59.51 0 1.02-.2 1.41-.59l7.78-7.78 2.81-2.81c.8-.78.8-2.07 0-2.86zM5.41 20L4 18.59l7.72-7.72 1.47 1.35L5.41 20z\"/>\n",
              "  </svg>\n",
              "      </button>\n",
              "      \n",
              "  <style>\n",
              "    .colab-df-container {\n",
              "      display:flex;\n",
              "      flex-wrap:wrap;\n",
              "      gap: 12px;\n",
              "    }\n",
              "\n",
              "    .colab-df-convert {\n",
              "      background-color: #E8F0FE;\n",
              "      border: none;\n",
              "      border-radius: 50%;\n",
              "      cursor: pointer;\n",
              "      display: none;\n",
              "      fill: #1967D2;\n",
              "      height: 32px;\n",
              "      padding: 0 0 0 0;\n",
              "      width: 32px;\n",
              "    }\n",
              "\n",
              "    .colab-df-convert:hover {\n",
              "      background-color: #E2EBFA;\n",
              "      box-shadow: 0px 1px 2px rgba(60, 64, 67, 0.3), 0px 1px 3px 1px rgba(60, 64, 67, 0.15);\n",
              "      fill: #174EA6;\n",
              "    }\n",
              "\n",
              "    [theme=dark] .colab-df-convert {\n",
              "      background-color: #3B4455;\n",
              "      fill: #D2E3FC;\n",
              "    }\n",
              "\n",
              "    [theme=dark] .colab-df-convert:hover {\n",
              "      background-color: #434B5C;\n",
              "      box-shadow: 0px 1px 3px 1px rgba(0, 0, 0, 0.15);\n",
              "      filter: drop-shadow(0px 1px 2px rgba(0, 0, 0, 0.3));\n",
              "      fill: #FFFFFF;\n",
              "    }\n",
              "  </style>\n",
              "\n",
              "      <script>\n",
              "        const buttonEl =\n",
              "          document.querySelector('#df-717a36b1-b84b-4815-ad8d-6e1713dc4164 button.colab-df-convert');\n",
              "        buttonEl.style.display =\n",
              "          google.colab.kernel.accessAllowed ? 'block' : 'none';\n",
              "\n",
              "        async function convertToInteractive(key) {\n",
              "          const element = document.querySelector('#df-717a36b1-b84b-4815-ad8d-6e1713dc4164');\n",
              "          const dataTable =\n",
              "            await google.colab.kernel.invokeFunction('convertToInteractive',\n",
              "                                                     [key], {});\n",
              "          if (!dataTable) return;\n",
              "\n",
              "          const docLinkHtml = 'Like what you see? Visit the ' +\n",
              "            '<a target=\"_blank\" href=https://colab.research.google.com/notebooks/data_table.ipynb>data table notebook</a>'\n",
              "            + ' to learn more about interactive tables.';\n",
              "          element.innerHTML = '';\n",
              "          dataTable['output_type'] = 'display_data';\n",
              "          await google.colab.output.renderOutput(dataTable, element);\n",
              "          const docLink = document.createElement('div');\n",
              "          docLink.innerHTML = docLinkHtml;\n",
              "          element.appendChild(docLink);\n",
              "        }\n",
              "      </script>\n",
              "    </div>\n",
              "  </div>\n",
              "  "
            ]
          },
          "metadata": {}
        },
        {
          "output_type": "stream",
          "name": "stdout",
          "text": [
            "\n",
            "--------------LightGBM--------------\n"
          ]
        },
        {
          "output_type": "display_data",
          "data": {
            "text/plain": [
              "                                        full            sparse  \\\n",
              "lgb_gs_time                           74.436           87.4886   \n",
              "lgb_without_cat_train_time            1.0414             1.271   \n",
              "lgb_without_cat_pred_time             0.8417            0.8564   \n",
              "lgb_without_cat_result      [0.8185, 0.7111]  [0.8216, 0.6922]   \n",
              "lgb_with_cat_train_time               0.6717            0.7702   \n",
              "lgb_with_cat_pred_time                0.7601            0.7667   \n",
              "lgb_with_cat_result          [0.758, 0.6803]    [0.76, 0.6608]   \n",
              "default_result              [0.7513, 0.6799]  [0.7526, 0.6607]   \n",
              "\n",
              "                                   Difference  \n",
              "lgb_gs_time                          -13.0526  \n",
              "lgb_without_cat_train_time            -0.2296  \n",
              "lgb_without_cat_pred_time             -0.0147  \n",
              "lgb_without_cat_result      [-0.0031, 0.0189]  \n",
              "lgb_with_cat_train_time               -0.0985  \n",
              "lgb_with_cat_pred_time                -0.0066  \n",
              "lgb_with_cat_result          [-0.002, 0.0195]  \n",
              "default_result              [-0.0013, 0.0192]  "
            ],
            "text/html": [
              "\n",
              "  <div id=\"df-66e10125-75d5-43c0-a1be-cb608f6d59c1\">\n",
              "    <div class=\"colab-df-container\">\n",
              "      <div>\n",
              "<style scoped>\n",
              "    .dataframe tbody tr th:only-of-type {\n",
              "        vertical-align: middle;\n",
              "    }\n",
              "\n",
              "    .dataframe tbody tr th {\n",
              "        vertical-align: top;\n",
              "    }\n",
              "\n",
              "    .dataframe thead th {\n",
              "        text-align: right;\n",
              "    }\n",
              "</style>\n",
              "<table border=\"1\" class=\"dataframe\">\n",
              "  <thead>\n",
              "    <tr style=\"text-align: right;\">\n",
              "      <th></th>\n",
              "      <th>full</th>\n",
              "      <th>sparse</th>\n",
              "      <th>Difference</th>\n",
              "    </tr>\n",
              "  </thead>\n",
              "  <tbody>\n",
              "    <tr>\n",
              "      <th>lgb_gs_time</th>\n",
              "      <td>74.436</td>\n",
              "      <td>87.4886</td>\n",
              "      <td>-13.0526</td>\n",
              "    </tr>\n",
              "    <tr>\n",
              "      <th>lgb_without_cat_train_time</th>\n",
              "      <td>1.0414</td>\n",
              "      <td>1.271</td>\n",
              "      <td>-0.2296</td>\n",
              "    </tr>\n",
              "    <tr>\n",
              "      <th>lgb_without_cat_pred_time</th>\n",
              "      <td>0.8417</td>\n",
              "      <td>0.8564</td>\n",
              "      <td>-0.0147</td>\n",
              "    </tr>\n",
              "    <tr>\n",
              "      <th>lgb_without_cat_result</th>\n",
              "      <td>[0.8185, 0.7111]</td>\n",
              "      <td>[0.8216, 0.6922]</td>\n",
              "      <td>[-0.0031, 0.0189]</td>\n",
              "    </tr>\n",
              "    <tr>\n",
              "      <th>lgb_with_cat_train_time</th>\n",
              "      <td>0.6717</td>\n",
              "      <td>0.7702</td>\n",
              "      <td>-0.0985</td>\n",
              "    </tr>\n",
              "    <tr>\n",
              "      <th>lgb_with_cat_pred_time</th>\n",
              "      <td>0.7601</td>\n",
              "      <td>0.7667</td>\n",
              "      <td>-0.0066</td>\n",
              "    </tr>\n",
              "    <tr>\n",
              "      <th>lgb_with_cat_result</th>\n",
              "      <td>[0.758, 0.6803]</td>\n",
              "      <td>[0.76, 0.6608]</td>\n",
              "      <td>[-0.002, 0.0195]</td>\n",
              "    </tr>\n",
              "    <tr>\n",
              "      <th>default_result</th>\n",
              "      <td>[0.7513, 0.6799]</td>\n",
              "      <td>[0.7526, 0.6607]</td>\n",
              "      <td>[-0.0013, 0.0192]</td>\n",
              "    </tr>\n",
              "  </tbody>\n",
              "</table>\n",
              "</div>\n",
              "      <button class=\"colab-df-convert\" onclick=\"convertToInteractive('df-66e10125-75d5-43c0-a1be-cb608f6d59c1')\"\n",
              "              title=\"Convert this dataframe to an interactive table.\"\n",
              "              style=\"display:none;\">\n",
              "        \n",
              "  <svg xmlns=\"http://www.w3.org/2000/svg\" height=\"24px\"viewBox=\"0 0 24 24\"\n",
              "       width=\"24px\">\n",
              "    <path d=\"M0 0h24v24H0V0z\" fill=\"none\"/>\n",
              "    <path d=\"M18.56 5.44l.94 2.06.94-2.06 2.06-.94-2.06-.94-.94-2.06-.94 2.06-2.06.94zm-11 1L8.5 8.5l.94-2.06 2.06-.94-2.06-.94L8.5 2.5l-.94 2.06-2.06.94zm10 10l.94 2.06.94-2.06 2.06-.94-2.06-.94-.94-2.06-.94 2.06-2.06.94z\"/><path d=\"M17.41 7.96l-1.37-1.37c-.4-.4-.92-.59-1.43-.59-.52 0-1.04.2-1.43.59L10.3 9.45l-7.72 7.72c-.78.78-.78 2.05 0 2.83L4 21.41c.39.39.9.59 1.41.59.51 0 1.02-.2 1.41-.59l7.78-7.78 2.81-2.81c.8-.78.8-2.07 0-2.86zM5.41 20L4 18.59l7.72-7.72 1.47 1.35L5.41 20z\"/>\n",
              "  </svg>\n",
              "      </button>\n",
              "      \n",
              "  <style>\n",
              "    .colab-df-container {\n",
              "      display:flex;\n",
              "      flex-wrap:wrap;\n",
              "      gap: 12px;\n",
              "    }\n",
              "\n",
              "    .colab-df-convert {\n",
              "      background-color: #E8F0FE;\n",
              "      border: none;\n",
              "      border-radius: 50%;\n",
              "      cursor: pointer;\n",
              "      display: none;\n",
              "      fill: #1967D2;\n",
              "      height: 32px;\n",
              "      padding: 0 0 0 0;\n",
              "      width: 32px;\n",
              "    }\n",
              "\n",
              "    .colab-df-convert:hover {\n",
              "      background-color: #E2EBFA;\n",
              "      box-shadow: 0px 1px 2px rgba(60, 64, 67, 0.3), 0px 1px 3px 1px rgba(60, 64, 67, 0.15);\n",
              "      fill: #174EA6;\n",
              "    }\n",
              "\n",
              "    [theme=dark] .colab-df-convert {\n",
              "      background-color: #3B4455;\n",
              "      fill: #D2E3FC;\n",
              "    }\n",
              "\n",
              "    [theme=dark] .colab-df-convert:hover {\n",
              "      background-color: #434B5C;\n",
              "      box-shadow: 0px 1px 3px 1px rgba(0, 0, 0, 0.15);\n",
              "      filter: drop-shadow(0px 1px 2px rgba(0, 0, 0, 0.3));\n",
              "      fill: #FFFFFF;\n",
              "    }\n",
              "  </style>\n",
              "\n",
              "      <script>\n",
              "        const buttonEl =\n",
              "          document.querySelector('#df-66e10125-75d5-43c0-a1be-cb608f6d59c1 button.colab-df-convert');\n",
              "        buttonEl.style.display =\n",
              "          google.colab.kernel.accessAllowed ? 'block' : 'none';\n",
              "\n",
              "        async function convertToInteractive(key) {\n",
              "          const element = document.querySelector('#df-66e10125-75d5-43c0-a1be-cb608f6d59c1');\n",
              "          const dataTable =\n",
              "            await google.colab.kernel.invokeFunction('convertToInteractive',\n",
              "                                                     [key], {});\n",
              "          if (!dataTable) return;\n",
              "\n",
              "          const docLinkHtml = 'Like what you see? Visit the ' +\n",
              "            '<a target=\"_blank\" href=https://colab.research.google.com/notebooks/data_table.ipynb>data table notebook</a>'\n",
              "            + ' to learn more about interactive tables.';\n",
              "          element.innerHTML = '';\n",
              "          dataTable['output_type'] = 'display_data';\n",
              "          await google.colab.output.renderOutput(dataTable, element);\n",
              "          const docLink = document.createElement('div');\n",
              "          docLink.innerHTML = docLinkHtml;\n",
              "          element.appendChild(docLink);\n",
              "        }\n",
              "      </script>\n",
              "    </div>\n",
              "  </div>\n",
              "  "
            ]
          },
          "metadata": {}
        },
        {
          "output_type": "stream",
          "name": "stdout",
          "text": [
            "\n",
            "--------------CatBoost--------------\n"
          ]
        },
        {
          "output_type": "display_data",
          "data": {
            "text/plain": [
              "                                       full            sparse  \\\n",
              "cb_gs_time                         414.6495          414.0087   \n",
              "cb_without_cat_train_time            8.2928            8.2495   \n",
              "cb_without_cat_pred_time             0.0617            0.0754   \n",
              "cb_without_cat_result      [0.8104, 0.7193]   [0.8071, 0.693]   \n",
              "cb_with_cat_train_time              53.9936           52.3229   \n",
              "cb_with_cat_pred_time                0.5728            0.5353   \n",
              "cb_with_cat_result         [0.8752, 0.7082]  [0.8829, 0.6893]   \n",
              "default_result             [0.8762, 0.7128]   [0.882, 0.6825]   \n",
              "\n",
              "                                  Difference  \n",
              "cb_gs_time                            0.6408  \n",
              "cb_without_cat_train_time             0.0433  \n",
              "cb_without_cat_pred_time             -0.0137  \n",
              "cb_without_cat_result       [0.0033, 0.0263]  \n",
              "cb_with_cat_train_time                1.6707  \n",
              "cb_with_cat_pred_time                 0.0375  \n",
              "cb_with_cat_result         [-0.0077, 0.0189]  \n",
              "default_result             [-0.0058, 0.0303]  "
            ],
            "text/html": [
              "\n",
              "  <div id=\"df-f93e276d-71a4-4c77-96b7-46f01d764acb\">\n",
              "    <div class=\"colab-df-container\">\n",
              "      <div>\n",
              "<style scoped>\n",
              "    .dataframe tbody tr th:only-of-type {\n",
              "        vertical-align: middle;\n",
              "    }\n",
              "\n",
              "    .dataframe tbody tr th {\n",
              "        vertical-align: top;\n",
              "    }\n",
              "\n",
              "    .dataframe thead th {\n",
              "        text-align: right;\n",
              "    }\n",
              "</style>\n",
              "<table border=\"1\" class=\"dataframe\">\n",
              "  <thead>\n",
              "    <tr style=\"text-align: right;\">\n",
              "      <th></th>\n",
              "      <th>full</th>\n",
              "      <th>sparse</th>\n",
              "      <th>Difference</th>\n",
              "    </tr>\n",
              "  </thead>\n",
              "  <tbody>\n",
              "    <tr>\n",
              "      <th>cb_gs_time</th>\n",
              "      <td>414.6495</td>\n",
              "      <td>414.0087</td>\n",
              "      <td>0.6408</td>\n",
              "    </tr>\n",
              "    <tr>\n",
              "      <th>cb_without_cat_train_time</th>\n",
              "      <td>8.2928</td>\n",
              "      <td>8.2495</td>\n",
              "      <td>0.0433</td>\n",
              "    </tr>\n",
              "    <tr>\n",
              "      <th>cb_without_cat_pred_time</th>\n",
              "      <td>0.0617</td>\n",
              "      <td>0.0754</td>\n",
              "      <td>-0.0137</td>\n",
              "    </tr>\n",
              "    <tr>\n",
              "      <th>cb_without_cat_result</th>\n",
              "      <td>[0.8104, 0.7193]</td>\n",
              "      <td>[0.8071, 0.693]</td>\n",
              "      <td>[0.0033, 0.0263]</td>\n",
              "    </tr>\n",
              "    <tr>\n",
              "      <th>cb_with_cat_train_time</th>\n",
              "      <td>53.9936</td>\n",
              "      <td>52.3229</td>\n",
              "      <td>1.6707</td>\n",
              "    </tr>\n",
              "    <tr>\n",
              "      <th>cb_with_cat_pred_time</th>\n",
              "      <td>0.5728</td>\n",
              "      <td>0.5353</td>\n",
              "      <td>0.0375</td>\n",
              "    </tr>\n",
              "    <tr>\n",
              "      <th>cb_with_cat_result</th>\n",
              "      <td>[0.8752, 0.7082]</td>\n",
              "      <td>[0.8829, 0.6893]</td>\n",
              "      <td>[-0.0077, 0.0189]</td>\n",
              "    </tr>\n",
              "    <tr>\n",
              "      <th>default_result</th>\n",
              "      <td>[0.8762, 0.7128]</td>\n",
              "      <td>[0.882, 0.6825]</td>\n",
              "      <td>[-0.0058, 0.0303]</td>\n",
              "    </tr>\n",
              "  </tbody>\n",
              "</table>\n",
              "</div>\n",
              "      <button class=\"colab-df-convert\" onclick=\"convertToInteractive('df-f93e276d-71a4-4c77-96b7-46f01d764acb')\"\n",
              "              title=\"Convert this dataframe to an interactive table.\"\n",
              "              style=\"display:none;\">\n",
              "        \n",
              "  <svg xmlns=\"http://www.w3.org/2000/svg\" height=\"24px\"viewBox=\"0 0 24 24\"\n",
              "       width=\"24px\">\n",
              "    <path d=\"M0 0h24v24H0V0z\" fill=\"none\"/>\n",
              "    <path d=\"M18.56 5.44l.94 2.06.94-2.06 2.06-.94-2.06-.94-.94-2.06-.94 2.06-2.06.94zm-11 1L8.5 8.5l.94-2.06 2.06-.94-2.06-.94L8.5 2.5l-.94 2.06-2.06.94zm10 10l.94 2.06.94-2.06 2.06-.94-2.06-.94-.94-2.06-.94 2.06-2.06.94z\"/><path d=\"M17.41 7.96l-1.37-1.37c-.4-.4-.92-.59-1.43-.59-.52 0-1.04.2-1.43.59L10.3 9.45l-7.72 7.72c-.78.78-.78 2.05 0 2.83L4 21.41c.39.39.9.59 1.41.59.51 0 1.02-.2 1.41-.59l7.78-7.78 2.81-2.81c.8-.78.8-2.07 0-2.86zM5.41 20L4 18.59l7.72-7.72 1.47 1.35L5.41 20z\"/>\n",
              "  </svg>\n",
              "      </button>\n",
              "      \n",
              "  <style>\n",
              "    .colab-df-container {\n",
              "      display:flex;\n",
              "      flex-wrap:wrap;\n",
              "      gap: 12px;\n",
              "    }\n",
              "\n",
              "    .colab-df-convert {\n",
              "      background-color: #E8F0FE;\n",
              "      border: none;\n",
              "      border-radius: 50%;\n",
              "      cursor: pointer;\n",
              "      display: none;\n",
              "      fill: #1967D2;\n",
              "      height: 32px;\n",
              "      padding: 0 0 0 0;\n",
              "      width: 32px;\n",
              "    }\n",
              "\n",
              "    .colab-df-convert:hover {\n",
              "      background-color: #E2EBFA;\n",
              "      box-shadow: 0px 1px 2px rgba(60, 64, 67, 0.3), 0px 1px 3px 1px rgba(60, 64, 67, 0.15);\n",
              "      fill: #174EA6;\n",
              "    }\n",
              "\n",
              "    [theme=dark] .colab-df-convert {\n",
              "      background-color: #3B4455;\n",
              "      fill: #D2E3FC;\n",
              "    }\n",
              "\n",
              "    [theme=dark] .colab-df-convert:hover {\n",
              "      background-color: #434B5C;\n",
              "      box-shadow: 0px 1px 3px 1px rgba(0, 0, 0, 0.15);\n",
              "      filter: drop-shadow(0px 1px 2px rgba(0, 0, 0, 0.3));\n",
              "      fill: #FFFFFF;\n",
              "    }\n",
              "  </style>\n",
              "\n",
              "      <script>\n",
              "        const buttonEl =\n",
              "          document.querySelector('#df-f93e276d-71a4-4c77-96b7-46f01d764acb button.colab-df-convert');\n",
              "        buttonEl.style.display =\n",
              "          google.colab.kernel.accessAllowed ? 'block' : 'none';\n",
              "\n",
              "        async function convertToInteractive(key) {\n",
              "          const element = document.querySelector('#df-f93e276d-71a4-4c77-96b7-46f01d764acb');\n",
              "          const dataTable =\n",
              "            await google.colab.kernel.invokeFunction('convertToInteractive',\n",
              "                                                     [key], {});\n",
              "          if (!dataTable) return;\n",
              "\n",
              "          const docLinkHtml = 'Like what you see? Visit the ' +\n",
              "            '<a target=\"_blank\" href=https://colab.research.google.com/notebooks/data_table.ipynb>data table notebook</a>'\n",
              "            + ' to learn more about interactive tables.';\n",
              "          element.innerHTML = '';\n",
              "          dataTable['output_type'] = 'display_data';\n",
              "          await google.colab.output.renderOutput(dataTable, element);\n",
              "          const docLink = document.createElement('div');\n",
              "          docLink.innerHTML = docLinkHtml;\n",
              "          element.appendChild(docLink);\n",
              "        }\n",
              "      </script>\n",
              "    </div>\n",
              "  </div>\n",
              "  "
            ]
          },
          "metadata": {}
        }
      ],
      "source": [
        "print('--------------XGBoost--------------')\n",
        "temp_xgb2 = pd.DataFrame([result_xgb2]).round(4).T\n",
        "temp_xgb2.loc['xgb_result',0] = np.round(temp_xgb2.loc['xgb_result'].values.tolist(),6)[0]\n",
        "temp_xgb2.loc['default_result',0] = np.round(temp_xgb2.loc['default_result'].values.tolist(),6)[0]\n",
        "\n",
        "temp_xgb3 = pd.DataFrame([result_xgb3]).round(4).T\n",
        "temp_xgb3.loc['xgb_result',0] = np.round(temp_xgb3.loc['xgb_result'].values.tolist(),6)[0]\n",
        "temp_xgb3.loc['default_result',0] = np.round(temp_xgb3.loc['default_result'].values.tolist(),6)[0]\n",
        "\n",
        "df_xgb = pd.DataFrame()\n",
        "df_xgb = pd.concat([df_xgb, temp_xgb2], axis = 1)\n",
        "df_xgb = pd.concat([df_xgb, temp_xgb3], axis = 1)\n",
        "df_xgb.columns = ['full', 'sparse']\n",
        "df_xgb[\"Difference\"] = df_xgb[\"full\"] - df_xgb[\"sparse\"]\n",
        "\n",
        "df_xgb.loc['xgb_result',\"Difference\"] = np.round(df_xgb.loc['xgb_result'].values.tolist(),4)[2]\n",
        "df_xgb.loc['default_result',\"Difference\"] = np.round(df_xgb.loc['default_result'].values.tolist(),4)[2]\n",
        "display(df_xgb)\n",
        "print()\n",
        "print('--------------LightGBM--------------')\n",
        "temp_lgb2 = pd.DataFrame([result_lgb2]).round(4).T\n",
        "temp_lgb2.loc['lgb_without_cat_result',0] = np.round(temp_lgb2.loc['lgb_without_cat_result'].values.tolist(),4)[0]\n",
        "temp_lgb2.loc['lgb_with_cat_result',0] = np.round(temp_lgb2.loc['lgb_with_cat_result'].values.tolist(),4)[0]\n",
        "temp_lgb2.loc['default_result',0] = np.round(temp_lgb2.loc['default_result'].values.tolist(),4)[0]\n",
        "\n",
        "temp_lgb3 = pd.DataFrame([result_lgb3]).round(4).T\n",
        "temp_lgb3.loc['lgb_without_cat_result',0] = np.round(temp_lgb3.loc['lgb_without_cat_result'].values.tolist(),4)[0]\n",
        "temp_lgb3.loc['lgb_with_cat_result',0] = np.round(temp_lgb3.loc['lgb_with_cat_result'].values.tolist(),4)[0]\n",
        "temp_lgb3.loc['default_result',0] = np.round(temp_lgb3.loc['default_result'].values.tolist(),4)[0]\n",
        "\n",
        "df_lgb = pd.DataFrame()\n",
        "df_lgb = pd.concat([df_lgb, temp_lgb2], axis = 1)\n",
        "df_lgb = pd.concat([df_lgb, temp_lgb3], axis = 1)\n",
        "df_lgb.columns = ['full', 'sparse']\n",
        "df_lgb[\"Difference\"] = df_lgb[\"full\"] - df_lgb[\"sparse\"]\n",
        "\n",
        "df_lgb.loc['lgb_without_cat_result',\"Difference\"] = np.round(df_lgb.loc['lgb_without_cat_result'].values.tolist(),4)[2]\n",
        "df_lgb.loc['lgb_with_cat_result',\"Difference\"] = np.round(df_lgb.loc['lgb_with_cat_result'].values.tolist(),4)[2]\n",
        "df_lgb.loc['default_result',\"Difference\"] = np.round(df_lgb.loc['default_result'].values.tolist(),4)[2]\n",
        "\n",
        "display(df_lgb)\n",
        "print()\n",
        "print('--------------CatBoost--------------')\n",
        "temp_cb2 = pd.DataFrame([result_cb2]).round(4).T\n",
        "temp_cb2.loc['cb_without_cat_result',0] = np.round(temp_cb2.loc['cb_without_cat_result'].values.tolist(),4)[0]\n",
        "temp_cb2.loc['cb_with_cat_result',0] = np.round(temp_cb2.loc['cb_with_cat_result'].values.tolist(),4)[0]\n",
        "temp_cb2.loc['default_result',0] = np.round(temp_cb2.loc['default_result'].values.tolist(),4)[0]\n",
        "\n",
        "temp_cb3 = pd.DataFrame([result_cb3]).round(4).T\n",
        "temp_cb3.loc['cb_without_cat_result',0] = np.round(temp_cb3.loc['cb_without_cat_result'].values.tolist(),4)[0]\n",
        "temp_cb3.loc['cb_with_cat_result',0] = np.round(temp_cb3.loc['cb_with_cat_result'].values.tolist(),4)[0]\n",
        "temp_cb3.loc['default_result',0] = np.round(temp_cb3.loc['default_result'].values.tolist(),4)[0]\n",
        "\n",
        "df_cb = pd.DataFrame()\n",
        "df_cb = pd.concat([df_cb, temp_cb2], axis = 1)\n",
        "df_cb = pd.concat([df_cb, temp_cb3], axis = 1)\n",
        "df_cb.columns = ['full', 'sparse']\n",
        "df_cb[\"Difference\"] = df_cb[\"full\"] - df_cb[\"sparse\"]\n",
        "\n",
        "df_cb.loc['cb_without_cat_result',\"Difference\"] = np.round(df_cb.loc['cb_without_cat_result'].values.tolist(),4)[2]\n",
        "df_cb.loc['cb_with_cat_result',\"Difference\"] = np.round(df_cb.loc['cb_with_cat_result'].values.tolist(),4)[2]\n",
        "df_cb.loc['default_result',\"Difference\"] = np.round(df_cb.loc['default_result'].values.tolist(),4)[2]\n",
        "\n",
        "display(df_cb)"
      ],
      "id": "W7vUnNrIJGlo"
    },
    {
      "cell_type": "markdown",
      "metadata": {
        "id": "ZeClLCYR0Ire"
      },
      "source": [],
      "id": "ZeClLCYR0Ire"
    },
    {
      "cell_type": "markdown",
      "metadata": {
        "id": "Kvd8Lwk9-m7s"
      },
      "source": [
        "## TEST4 : Making all continuous variables to Categorical\n",
        "- 모든 수치형 변수를 범주형 변수로 처리했을때 catboost와 lightgbm의 성능과 속도 변화를 확인하기 위함"
      ],
      "id": "Kvd8Lwk9-m7s"
    },
    {
      "cell_type": "code",
      "execution_count": null,
      "metadata": {
        "id": "uzpaaSlcDq5b",
        "colab": {
          "base_uri": "https://localhost:8080/",
          "height": 488
        },
        "outputId": "4343ebdc-5154-4e57-a4f1-ffa9f45372ce"
      },
      "outputs": [
        {
          "output_type": "execute_result",
          "data": {
            "text/plain": [
              "         MONTH  DAY  DAY_OF_WEEK  AIRLINE  FLIGHT_NUMBER  DESTINATION_AIRPORT  \\\n",
              "2602948      6   14            7       14           2522                  558   \n",
              "4078086      9   11            5       11            998                  623   \n",
              "4382930      9   30            3       14            402                  733   \n",
              "4008491      9    6            7       14           3323                  733   \n",
              "2281007      5   25            1        3            310                  766   \n",
              "...        ...  ...          ...      ...            ...                  ...   \n",
              "1975784      5    6            3       14            549                  731   \n",
              "1204301      3   19            4        5           5065                  631   \n",
              "2188058      5   19            2       11           1420                  623   \n",
              "4198498      9   18            5        8           3669                  569   \n",
              "4054216      9    9            3        1            296                  679   \n",
              "\n",
              "         ORIGIN_AIRPORT  ARRIVAL_DELAY  AIR_TIME_cat  DEPARTURE_TIME_cat  \\\n",
              "2602948             858              0             6                   2   \n",
              "4078086             675              1             6                   4   \n",
              "4382930             814              0             5                   7   \n",
              "4008491             738              0             5                   7   \n",
              "2281007             628              0             6                   6   \n",
              "...                 ...            ...           ...                 ...   \n",
              "1975784             656              0             6                   5   \n",
              "1204301             897              0             4                   7   \n",
              "2188058             740              1             6                   6   \n",
              "4198498             792              1             6                   9   \n",
              "4054216             765              1             8                   7   \n",
              "\n",
              "         DISTANCE_cat  \n",
              "2602948             6  \n",
              "4078086             6  \n",
              "4382930             5  \n",
              "4008491             6  \n",
              "2281007             6  \n",
              "...               ...  \n",
              "1975784             6  \n",
              "1204301             4  \n",
              "2188058             6  \n",
              "4198498             6  \n",
              "4054216             8  \n",
              "\n",
              "[47671 rows x 11 columns]"
            ],
            "text/html": [
              "\n",
              "  <div id=\"df-6b08215b-af29-44c7-802a-cc0745f17b3a\">\n",
              "    <div class=\"colab-df-container\">\n",
              "      <div>\n",
              "<style scoped>\n",
              "    .dataframe tbody tr th:only-of-type {\n",
              "        vertical-align: middle;\n",
              "    }\n",
              "\n",
              "    .dataframe tbody tr th {\n",
              "        vertical-align: top;\n",
              "    }\n",
              "\n",
              "    .dataframe thead th {\n",
              "        text-align: right;\n",
              "    }\n",
              "</style>\n",
              "<table border=\"1\" class=\"dataframe\">\n",
              "  <thead>\n",
              "    <tr style=\"text-align: right;\">\n",
              "      <th></th>\n",
              "      <th>MONTH</th>\n",
              "      <th>DAY</th>\n",
              "      <th>DAY_OF_WEEK</th>\n",
              "      <th>AIRLINE</th>\n",
              "      <th>FLIGHT_NUMBER</th>\n",
              "      <th>DESTINATION_AIRPORT</th>\n",
              "      <th>ORIGIN_AIRPORT</th>\n",
              "      <th>ARRIVAL_DELAY</th>\n",
              "      <th>AIR_TIME_cat</th>\n",
              "      <th>DEPARTURE_TIME_cat</th>\n",
              "      <th>DISTANCE_cat</th>\n",
              "    </tr>\n",
              "  </thead>\n",
              "  <tbody>\n",
              "    <tr>\n",
              "      <th>2602948</th>\n",
              "      <td>6</td>\n",
              "      <td>14</td>\n",
              "      <td>7</td>\n",
              "      <td>14</td>\n",
              "      <td>2522</td>\n",
              "      <td>558</td>\n",
              "      <td>858</td>\n",
              "      <td>0</td>\n",
              "      <td>6</td>\n",
              "      <td>2</td>\n",
              "      <td>6</td>\n",
              "    </tr>\n",
              "    <tr>\n",
              "      <th>4078086</th>\n",
              "      <td>9</td>\n",
              "      <td>11</td>\n",
              "      <td>5</td>\n",
              "      <td>11</td>\n",
              "      <td>998</td>\n",
              "      <td>623</td>\n",
              "      <td>675</td>\n",
              "      <td>1</td>\n",
              "      <td>6</td>\n",
              "      <td>4</td>\n",
              "      <td>6</td>\n",
              "    </tr>\n",
              "    <tr>\n",
              "      <th>4382930</th>\n",
              "      <td>9</td>\n",
              "      <td>30</td>\n",
              "      <td>3</td>\n",
              "      <td>14</td>\n",
              "      <td>402</td>\n",
              "      <td>733</td>\n",
              "      <td>814</td>\n",
              "      <td>0</td>\n",
              "      <td>5</td>\n",
              "      <td>7</td>\n",
              "      <td>5</td>\n",
              "    </tr>\n",
              "    <tr>\n",
              "      <th>4008491</th>\n",
              "      <td>9</td>\n",
              "      <td>6</td>\n",
              "      <td>7</td>\n",
              "      <td>14</td>\n",
              "      <td>3323</td>\n",
              "      <td>733</td>\n",
              "      <td>738</td>\n",
              "      <td>0</td>\n",
              "      <td>5</td>\n",
              "      <td>7</td>\n",
              "      <td>6</td>\n",
              "    </tr>\n",
              "    <tr>\n",
              "      <th>2281007</th>\n",
              "      <td>5</td>\n",
              "      <td>25</td>\n",
              "      <td>1</td>\n",
              "      <td>3</td>\n",
              "      <td>310</td>\n",
              "      <td>766</td>\n",
              "      <td>628</td>\n",
              "      <td>0</td>\n",
              "      <td>6</td>\n",
              "      <td>6</td>\n",
              "      <td>6</td>\n",
              "    </tr>\n",
              "    <tr>\n",
              "      <th>...</th>\n",
              "      <td>...</td>\n",
              "      <td>...</td>\n",
              "      <td>...</td>\n",
              "      <td>...</td>\n",
              "      <td>...</td>\n",
              "      <td>...</td>\n",
              "      <td>...</td>\n",
              "      <td>...</td>\n",
              "      <td>...</td>\n",
              "      <td>...</td>\n",
              "      <td>...</td>\n",
              "    </tr>\n",
              "    <tr>\n",
              "      <th>1975784</th>\n",
              "      <td>5</td>\n",
              "      <td>6</td>\n",
              "      <td>3</td>\n",
              "      <td>14</td>\n",
              "      <td>549</td>\n",
              "      <td>731</td>\n",
              "      <td>656</td>\n",
              "      <td>0</td>\n",
              "      <td>6</td>\n",
              "      <td>5</td>\n",
              "      <td>6</td>\n",
              "    </tr>\n",
              "    <tr>\n",
              "      <th>1204301</th>\n",
              "      <td>3</td>\n",
              "      <td>19</td>\n",
              "      <td>4</td>\n",
              "      <td>5</td>\n",
              "      <td>5065</td>\n",
              "      <td>631</td>\n",
              "      <td>897</td>\n",
              "      <td>0</td>\n",
              "      <td>4</td>\n",
              "      <td>7</td>\n",
              "      <td>4</td>\n",
              "    </tr>\n",
              "    <tr>\n",
              "      <th>2188058</th>\n",
              "      <td>5</td>\n",
              "      <td>19</td>\n",
              "      <td>2</td>\n",
              "      <td>11</td>\n",
              "      <td>1420</td>\n",
              "      <td>623</td>\n",
              "      <td>740</td>\n",
              "      <td>1</td>\n",
              "      <td>6</td>\n",
              "      <td>6</td>\n",
              "      <td>6</td>\n",
              "    </tr>\n",
              "    <tr>\n",
              "      <th>4198498</th>\n",
              "      <td>9</td>\n",
              "      <td>18</td>\n",
              "      <td>5</td>\n",
              "      <td>8</td>\n",
              "      <td>3669</td>\n",
              "      <td>569</td>\n",
              "      <td>792</td>\n",
              "      <td>1</td>\n",
              "      <td>6</td>\n",
              "      <td>9</td>\n",
              "      <td>6</td>\n",
              "    </tr>\n",
              "    <tr>\n",
              "      <th>4054216</th>\n",
              "      <td>9</td>\n",
              "      <td>9</td>\n",
              "      <td>3</td>\n",
              "      <td>1</td>\n",
              "      <td>296</td>\n",
              "      <td>679</td>\n",
              "      <td>765</td>\n",
              "      <td>1</td>\n",
              "      <td>8</td>\n",
              "      <td>7</td>\n",
              "      <td>8</td>\n",
              "    </tr>\n",
              "  </tbody>\n",
              "</table>\n",
              "<p>47671 rows × 11 columns</p>\n",
              "</div>\n",
              "      <button class=\"colab-df-convert\" onclick=\"convertToInteractive('df-6b08215b-af29-44c7-802a-cc0745f17b3a')\"\n",
              "              title=\"Convert this dataframe to an interactive table.\"\n",
              "              style=\"display:none;\">\n",
              "        \n",
              "  <svg xmlns=\"http://www.w3.org/2000/svg\" height=\"24px\"viewBox=\"0 0 24 24\"\n",
              "       width=\"24px\">\n",
              "    <path d=\"M0 0h24v24H0V0z\" fill=\"none\"/>\n",
              "    <path d=\"M18.56 5.44l.94 2.06.94-2.06 2.06-.94-2.06-.94-.94-2.06-.94 2.06-2.06.94zm-11 1L8.5 8.5l.94-2.06 2.06-.94-2.06-.94L8.5 2.5l-.94 2.06-2.06.94zm10 10l.94 2.06.94-2.06 2.06-.94-2.06-.94-.94-2.06-.94 2.06-2.06.94z\"/><path d=\"M17.41 7.96l-1.37-1.37c-.4-.4-.92-.59-1.43-.59-.52 0-1.04.2-1.43.59L10.3 9.45l-7.72 7.72c-.78.78-.78 2.05 0 2.83L4 21.41c.39.39.9.59 1.41.59.51 0 1.02-.2 1.41-.59l7.78-7.78 2.81-2.81c.8-.78.8-2.07 0-2.86zM5.41 20L4 18.59l7.72-7.72 1.47 1.35L5.41 20z\"/>\n",
              "  </svg>\n",
              "      </button>\n",
              "      \n",
              "  <style>\n",
              "    .colab-df-container {\n",
              "      display:flex;\n",
              "      flex-wrap:wrap;\n",
              "      gap: 12px;\n",
              "    }\n",
              "\n",
              "    .colab-df-convert {\n",
              "      background-color: #E8F0FE;\n",
              "      border: none;\n",
              "      border-radius: 50%;\n",
              "      cursor: pointer;\n",
              "      display: none;\n",
              "      fill: #1967D2;\n",
              "      height: 32px;\n",
              "      padding: 0 0 0 0;\n",
              "      width: 32px;\n",
              "    }\n",
              "\n",
              "    .colab-df-convert:hover {\n",
              "      background-color: #E2EBFA;\n",
              "      box-shadow: 0px 1px 2px rgba(60, 64, 67, 0.3), 0px 1px 3px 1px rgba(60, 64, 67, 0.15);\n",
              "      fill: #174EA6;\n",
              "    }\n",
              "\n",
              "    [theme=dark] .colab-df-convert {\n",
              "      background-color: #3B4455;\n",
              "      fill: #D2E3FC;\n",
              "    }\n",
              "\n",
              "    [theme=dark] .colab-df-convert:hover {\n",
              "      background-color: #434B5C;\n",
              "      box-shadow: 0px 1px 3px 1px rgba(0, 0, 0, 0.15);\n",
              "      filter: drop-shadow(0px 1px 2px rgba(0, 0, 0, 0.3));\n",
              "      fill: #FFFFFF;\n",
              "    }\n",
              "  </style>\n",
              "\n",
              "      <script>\n",
              "        const buttonEl =\n",
              "          document.querySelector('#df-6b08215b-af29-44c7-802a-cc0745f17b3a button.colab-df-convert');\n",
              "        buttonEl.style.display =\n",
              "          google.colab.kernel.accessAllowed ? 'block' : 'none';\n",
              "\n",
              "        async function convertToInteractive(key) {\n",
              "          const element = document.querySelector('#df-6b08215b-af29-44c7-802a-cc0745f17b3a');\n",
              "          const dataTable =\n",
              "            await google.colab.kernel.invokeFunction('convertToInteractive',\n",
              "                                                     [key], {});\n",
              "          if (!dataTable) return;\n",
              "\n",
              "          const docLinkHtml = 'Like what you see? Visit the ' +\n",
              "            '<a target=\"_blank\" href=https://colab.research.google.com/notebooks/data_table.ipynb>data table notebook</a>'\n",
              "            + ' to learn more about interactive tables.';\n",
              "          element.innerHTML = '';\n",
              "          dataTable['output_type'] = 'display_data';\n",
              "          await google.colab.output.renderOutput(dataTable, element);\n",
              "          const docLink = document.createElement('div');\n",
              "          docLink.innerHTML = docLinkHtml;\n",
              "          element.appendChild(docLink);\n",
              "        }\n",
              "      </script>\n",
              "    </div>\n",
              "  </div>\n",
              "  "
            ]
          },
          "metadata": {},
          "execution_count": 48
        }
      ],
      "source": [
        "all_cat_df = data3.drop(columns = ['AIR_TIME','DEPARTURE_TIME','DISTANCE'])\n",
        "all_cat_df"
      ],
      "id": "uzpaaSlcDq5b"
    },
    {
      "cell_type": "code",
      "execution_count": null,
      "metadata": {
        "id": "4HiVpizsD_af"
      },
      "outputs": [],
      "source": [
        "train, test, y_train, y_test = train_test_split(all_cat_df.drop([\"ARRIVAL_DELAY\"], axis=1), all_cat_df[\"ARRIVAL_DELAY\"],    \n",
        "                                                random_state=10, test_size=0.25)\n",
        "test = test.astype(int)\n",
        "train = train.astype(int)"
      ],
      "id": "4HiVpizsD_af"
    },
    {
      "cell_type": "code",
      "execution_count": null,
      "metadata": {
        "id": "jXnGgM49D_eX",
        "colab": {
          "base_uri": "https://localhost:8080/"
        },
        "outputId": "65760b66-75d2-4eeb-d0c4-9334a09849bb"
      },
      "outputs": [
        {
          "output_type": "stream",
          "name": "stdout",
          "text": [
            "{'learning_rate': 0.1, 'max_depth': 15, 'n_estimators': 300, 'num_leaves': 15}\n",
            "['MONTH', 'DAY', 'DAY_OF_WEEK', 'AIRLINE', 'FLIGHT_NUMBER', 'DESTINATION_AIRPORT', 'ORIGIN_AIRPORT', 'AIR_TIME_cat', 'DEPARTURE_TIME_cat', 'DISTANCE_cat']\n"
          ]
        },
        {
          "output_type": "execute_result",
          "data": {
            "text/plain": [
              "{'lgb_gs_time': 73.05258846282959,\n",
              " 'lgb_without_cat_train_time': 0.7630996704101562,\n",
              " 'lgb_without_cat_pred_time': 0.6624970436096191,\n",
              " 'lgb_without_cat_result': (0.8007672819416667, 0.7006318918282352),\n",
              " 'lgb_with_cat_train_time': 1.5742683410644531,\n",
              " 'lgb_with_cat_pred_time': 1.1785871982574463,\n",
              " 'lgb_with_cat_result': (0.9098906745946143, 0.6695883880701051),\n",
              " 'default_result': (0.8991633673939359, 0.6679673314013537)}"
            ]
          },
          "metadata": {},
          "execution_count": 50
        }
      ],
      "source": [
        "#LightGBM\n",
        "result_lgb4 = LIGHTGBM(train, test, y_train, y_test, all_cat = True)\n",
        "result_lgb4"
      ],
      "id": "jXnGgM49D_eX"
    },
    {
      "cell_type": "code",
      "execution_count": null,
      "metadata": {
        "id": "b_9SaE9SD_hP",
        "colab": {
          "base_uri": "https://localhost:8080/"
        },
        "outputId": "6b0feaab-1d6d-44ec-8ae2-d89afb36dd26"
      },
      "outputs": [
        {
          "output_type": "stream",
          "name": "stdout",
          "text": [
            "{'depth': 6, 'iterations': 700, 'l2_leaf_reg': 9, 'learning_rate': 0.05}\n"
          ]
        },
        {
          "output_type": "execute_result",
          "data": {
            "text/plain": [
              "{'cb_gs_time': 386.4340326786041,\n",
              " 'cb_without_cat_train_time': 7.742430925369263,\n",
              " 'cb_without_cat_pred_time': 0.058498382568359375,\n",
              " 'cb_without_cat_result': (0.7930304168684648, 0.7022450113070144),\n",
              " 'cb_with_cat_train_time': 66.59838938713074,\n",
              " 'cb_with_cat_pred_time': 0.45462965965270996,\n",
              " 'cb_with_cat_result': (0.8632961336689366, 0.722622264553902),\n",
              " 'default_result': (0.8748148698378038, 0.7236303871439006)}"
            ]
          },
          "metadata": {},
          "execution_count": 51
        }
      ],
      "source": [
        "#CatBoost\n",
        "result_cb4 = CATBOOST(train, test, y_train, y_test, all_cat = True)\n",
        "result_cb4"
      ],
      "id": "b_9SaE9SD_hP"
    },
    {
      "cell_type": "code",
      "execution_count": null,
      "metadata": {
        "id": "ABdnHgtHFacb",
        "colab": {
          "base_uri": "https://localhost:8080/",
          "height": 301
        },
        "outputId": "742acc09-1870-4a17-ee8c-8849107e9b24"
      },
      "outputs": [
        {
          "output_type": "execute_result",
          "data": {
            "text/plain": [
              "                           LGB_with_All_Cat_Vars LGB_with_Original_Vars\n",
              "lgb_gs_time                              73.0526                 74.436\n",
              "lgb_without_cat_train_time                0.7631                 1.0414\n",
              "lgb_without_cat_pred_time                 0.6625                 0.8417\n",
              "lgb_without_cat_result          [0.8008, 0.7006]       [0.8185, 0.7111]\n",
              "lgb_with_cat_train_time                   1.5743                 0.6717\n",
              "lgb_with_cat_pred_time                    1.1786                 0.7601\n",
              "lgb_with_cat_result             [0.9099, 0.6696]        [0.758, 0.6803]\n",
              "default_result                   [0.8992, 0.668]       [0.7513, 0.6799]"
            ],
            "text/html": [
              "\n",
              "  <div id=\"df-f8471150-df11-4b00-babb-6049a12f7ebf\">\n",
              "    <div class=\"colab-df-container\">\n",
              "      <div>\n",
              "<style scoped>\n",
              "    .dataframe tbody tr th:only-of-type {\n",
              "        vertical-align: middle;\n",
              "    }\n",
              "\n",
              "    .dataframe tbody tr th {\n",
              "        vertical-align: top;\n",
              "    }\n",
              "\n",
              "    .dataframe thead th {\n",
              "        text-align: right;\n",
              "    }\n",
              "</style>\n",
              "<table border=\"1\" class=\"dataframe\">\n",
              "  <thead>\n",
              "    <tr style=\"text-align: right;\">\n",
              "      <th></th>\n",
              "      <th>LGB_with_All_Cat_Vars</th>\n",
              "      <th>LGB_with_Original_Vars</th>\n",
              "    </tr>\n",
              "  </thead>\n",
              "  <tbody>\n",
              "    <tr>\n",
              "      <th>lgb_gs_time</th>\n",
              "      <td>73.0526</td>\n",
              "      <td>74.436</td>\n",
              "    </tr>\n",
              "    <tr>\n",
              "      <th>lgb_without_cat_train_time</th>\n",
              "      <td>0.7631</td>\n",
              "      <td>1.0414</td>\n",
              "    </tr>\n",
              "    <tr>\n",
              "      <th>lgb_without_cat_pred_time</th>\n",
              "      <td>0.6625</td>\n",
              "      <td>0.8417</td>\n",
              "    </tr>\n",
              "    <tr>\n",
              "      <th>lgb_without_cat_result</th>\n",
              "      <td>[0.8008, 0.7006]</td>\n",
              "      <td>[0.8185, 0.7111]</td>\n",
              "    </tr>\n",
              "    <tr>\n",
              "      <th>lgb_with_cat_train_time</th>\n",
              "      <td>1.5743</td>\n",
              "      <td>0.6717</td>\n",
              "    </tr>\n",
              "    <tr>\n",
              "      <th>lgb_with_cat_pred_time</th>\n",
              "      <td>1.1786</td>\n",
              "      <td>0.7601</td>\n",
              "    </tr>\n",
              "    <tr>\n",
              "      <th>lgb_with_cat_result</th>\n",
              "      <td>[0.9099, 0.6696]</td>\n",
              "      <td>[0.758, 0.6803]</td>\n",
              "    </tr>\n",
              "    <tr>\n",
              "      <th>default_result</th>\n",
              "      <td>[0.8992, 0.668]</td>\n",
              "      <td>[0.7513, 0.6799]</td>\n",
              "    </tr>\n",
              "  </tbody>\n",
              "</table>\n",
              "</div>\n",
              "      <button class=\"colab-df-convert\" onclick=\"convertToInteractive('df-f8471150-df11-4b00-babb-6049a12f7ebf')\"\n",
              "              title=\"Convert this dataframe to an interactive table.\"\n",
              "              style=\"display:none;\">\n",
              "        \n",
              "  <svg xmlns=\"http://www.w3.org/2000/svg\" height=\"24px\"viewBox=\"0 0 24 24\"\n",
              "       width=\"24px\">\n",
              "    <path d=\"M0 0h24v24H0V0z\" fill=\"none\"/>\n",
              "    <path d=\"M18.56 5.44l.94 2.06.94-2.06 2.06-.94-2.06-.94-.94-2.06-.94 2.06-2.06.94zm-11 1L8.5 8.5l.94-2.06 2.06-.94-2.06-.94L8.5 2.5l-.94 2.06-2.06.94zm10 10l.94 2.06.94-2.06 2.06-.94-2.06-.94-.94-2.06-.94 2.06-2.06.94z\"/><path d=\"M17.41 7.96l-1.37-1.37c-.4-.4-.92-.59-1.43-.59-.52 0-1.04.2-1.43.59L10.3 9.45l-7.72 7.72c-.78.78-.78 2.05 0 2.83L4 21.41c.39.39.9.59 1.41.59.51 0 1.02-.2 1.41-.59l7.78-7.78 2.81-2.81c.8-.78.8-2.07 0-2.86zM5.41 20L4 18.59l7.72-7.72 1.47 1.35L5.41 20z\"/>\n",
              "  </svg>\n",
              "      </button>\n",
              "      \n",
              "  <style>\n",
              "    .colab-df-container {\n",
              "      display:flex;\n",
              "      flex-wrap:wrap;\n",
              "      gap: 12px;\n",
              "    }\n",
              "\n",
              "    .colab-df-convert {\n",
              "      background-color: #E8F0FE;\n",
              "      border: none;\n",
              "      border-radius: 50%;\n",
              "      cursor: pointer;\n",
              "      display: none;\n",
              "      fill: #1967D2;\n",
              "      height: 32px;\n",
              "      padding: 0 0 0 0;\n",
              "      width: 32px;\n",
              "    }\n",
              "\n",
              "    .colab-df-convert:hover {\n",
              "      background-color: #E2EBFA;\n",
              "      box-shadow: 0px 1px 2px rgba(60, 64, 67, 0.3), 0px 1px 3px 1px rgba(60, 64, 67, 0.15);\n",
              "      fill: #174EA6;\n",
              "    }\n",
              "\n",
              "    [theme=dark] .colab-df-convert {\n",
              "      background-color: #3B4455;\n",
              "      fill: #D2E3FC;\n",
              "    }\n",
              "\n",
              "    [theme=dark] .colab-df-convert:hover {\n",
              "      background-color: #434B5C;\n",
              "      box-shadow: 0px 1px 3px 1px rgba(0, 0, 0, 0.15);\n",
              "      filter: drop-shadow(0px 1px 2px rgba(0, 0, 0, 0.3));\n",
              "      fill: #FFFFFF;\n",
              "    }\n",
              "  </style>\n",
              "\n",
              "      <script>\n",
              "        const buttonEl =\n",
              "          document.querySelector('#df-f8471150-df11-4b00-babb-6049a12f7ebf button.colab-df-convert');\n",
              "        buttonEl.style.display =\n",
              "          google.colab.kernel.accessAllowed ? 'block' : 'none';\n",
              "\n",
              "        async function convertToInteractive(key) {\n",
              "          const element = document.querySelector('#df-f8471150-df11-4b00-babb-6049a12f7ebf');\n",
              "          const dataTable =\n",
              "            await google.colab.kernel.invokeFunction('convertToInteractive',\n",
              "                                                     [key], {});\n",
              "          if (!dataTable) return;\n",
              "\n",
              "          const docLinkHtml = 'Like what you see? Visit the ' +\n",
              "            '<a target=\"_blank\" href=https://colab.research.google.com/notebooks/data_table.ipynb>data table notebook</a>'\n",
              "            + ' to learn more about interactive tables.';\n",
              "          element.innerHTML = '';\n",
              "          dataTable['output_type'] = 'display_data';\n",
              "          await google.colab.output.renderOutput(dataTable, element);\n",
              "          const docLink = document.createElement('div');\n",
              "          docLink.innerHTML = docLinkHtml;\n",
              "          element.appendChild(docLink);\n",
              "        }\n",
              "      </script>\n",
              "    </div>\n",
              "  </div>\n",
              "  "
            ]
          },
          "metadata": {},
          "execution_count": 52
        }
      ],
      "source": [
        "temp_lgb4 = pd.DataFrame([result_lgb4]).round(4).T\n",
        "temp_lgb4.loc['lgb_without_cat_result',0] = np.round(temp_lgb4.loc['lgb_without_cat_result'].values.tolist(),4)[0]\n",
        "temp_lgb4.loc['lgb_with_cat_result',0] = np.round(temp_lgb4.loc['lgb_with_cat_result'].values.tolist(),4)[0]\n",
        "temp_lgb4.loc['default_result',0] = np.round(temp_lgb4.loc['default_result'].values.tolist(),4)[0]\n",
        "temp_lgb4.columns = [\"LightGBM\"]\n",
        "temp_lgb4 #전부 카테고리 변수로 학습한 LightGBM\n",
        "\n",
        "test4_lgb = pd.concat([temp_lgb4, df_lgb[['full']]],axis = 1)\n",
        "test4_lgb.columns = [\"LGB_with_All_Cat_Vars\",'LGB_with_Original_Vars']\n",
        "test4_lgb"
      ],
      "id": "ABdnHgtHFacb"
    },
    {
      "cell_type": "code",
      "execution_count": null,
      "metadata": {
        "id": "yRc2tSxBFah5",
        "colab": {
          "base_uri": "https://localhost:8080/",
          "height": 301
        },
        "outputId": "abdb9d0b-917d-4a7a-bd90-b8ac69075c7e"
      },
      "outputs": [
        {
          "output_type": "execute_result",
          "data": {
            "text/plain": [
              "                          CatBoost_with_All_Cat_Vars  \\\n",
              "cb_gs_time                                   386.434   \n",
              "cb_without_cat_train_time                     7.7424   \n",
              "cb_without_cat_pred_time                      0.0585   \n",
              "cb_without_cat_result                [0.793, 0.7022]   \n",
              "cb_with_cat_train_time                       66.5984   \n",
              "cb_with_cat_pred_time                         0.4546   \n",
              "cb_with_cat_result                  [0.8633, 0.7226]   \n",
              "default_result                      [0.8748, 0.7236]   \n",
              "\n",
              "                          CatBoost_with_Original_Vars  \n",
              "cb_gs_time                                   414.6495  \n",
              "cb_without_cat_train_time                      8.2928  \n",
              "cb_without_cat_pred_time                       0.0617  \n",
              "cb_without_cat_result                [0.8104, 0.7193]  \n",
              "cb_with_cat_train_time                        53.9936  \n",
              "cb_with_cat_pred_time                          0.5728  \n",
              "cb_with_cat_result                   [0.8752, 0.7082]  \n",
              "default_result                       [0.8762, 0.7128]  "
            ],
            "text/html": [
              "\n",
              "  <div id=\"df-ca202e78-b61b-40c9-9a78-4b65bb13d85e\">\n",
              "    <div class=\"colab-df-container\">\n",
              "      <div>\n",
              "<style scoped>\n",
              "    .dataframe tbody tr th:only-of-type {\n",
              "        vertical-align: middle;\n",
              "    }\n",
              "\n",
              "    .dataframe tbody tr th {\n",
              "        vertical-align: top;\n",
              "    }\n",
              "\n",
              "    .dataframe thead th {\n",
              "        text-align: right;\n",
              "    }\n",
              "</style>\n",
              "<table border=\"1\" class=\"dataframe\">\n",
              "  <thead>\n",
              "    <tr style=\"text-align: right;\">\n",
              "      <th></th>\n",
              "      <th>CatBoost_with_All_Cat_Vars</th>\n",
              "      <th>CatBoost_with_Original_Vars</th>\n",
              "    </tr>\n",
              "  </thead>\n",
              "  <tbody>\n",
              "    <tr>\n",
              "      <th>cb_gs_time</th>\n",
              "      <td>386.434</td>\n",
              "      <td>414.6495</td>\n",
              "    </tr>\n",
              "    <tr>\n",
              "      <th>cb_without_cat_train_time</th>\n",
              "      <td>7.7424</td>\n",
              "      <td>8.2928</td>\n",
              "    </tr>\n",
              "    <tr>\n",
              "      <th>cb_without_cat_pred_time</th>\n",
              "      <td>0.0585</td>\n",
              "      <td>0.0617</td>\n",
              "    </tr>\n",
              "    <tr>\n",
              "      <th>cb_without_cat_result</th>\n",
              "      <td>[0.793, 0.7022]</td>\n",
              "      <td>[0.8104, 0.7193]</td>\n",
              "    </tr>\n",
              "    <tr>\n",
              "      <th>cb_with_cat_train_time</th>\n",
              "      <td>66.5984</td>\n",
              "      <td>53.9936</td>\n",
              "    </tr>\n",
              "    <tr>\n",
              "      <th>cb_with_cat_pred_time</th>\n",
              "      <td>0.4546</td>\n",
              "      <td>0.5728</td>\n",
              "    </tr>\n",
              "    <tr>\n",
              "      <th>cb_with_cat_result</th>\n",
              "      <td>[0.8633, 0.7226]</td>\n",
              "      <td>[0.8752, 0.7082]</td>\n",
              "    </tr>\n",
              "    <tr>\n",
              "      <th>default_result</th>\n",
              "      <td>[0.8748, 0.7236]</td>\n",
              "      <td>[0.8762, 0.7128]</td>\n",
              "    </tr>\n",
              "  </tbody>\n",
              "</table>\n",
              "</div>\n",
              "      <button class=\"colab-df-convert\" onclick=\"convertToInteractive('df-ca202e78-b61b-40c9-9a78-4b65bb13d85e')\"\n",
              "              title=\"Convert this dataframe to an interactive table.\"\n",
              "              style=\"display:none;\">\n",
              "        \n",
              "  <svg xmlns=\"http://www.w3.org/2000/svg\" height=\"24px\"viewBox=\"0 0 24 24\"\n",
              "       width=\"24px\">\n",
              "    <path d=\"M0 0h24v24H0V0z\" fill=\"none\"/>\n",
              "    <path d=\"M18.56 5.44l.94 2.06.94-2.06 2.06-.94-2.06-.94-.94-2.06-.94 2.06-2.06.94zm-11 1L8.5 8.5l.94-2.06 2.06-.94-2.06-.94L8.5 2.5l-.94 2.06-2.06.94zm10 10l.94 2.06.94-2.06 2.06-.94-2.06-.94-.94-2.06-.94 2.06-2.06.94z\"/><path d=\"M17.41 7.96l-1.37-1.37c-.4-.4-.92-.59-1.43-.59-.52 0-1.04.2-1.43.59L10.3 9.45l-7.72 7.72c-.78.78-.78 2.05 0 2.83L4 21.41c.39.39.9.59 1.41.59.51 0 1.02-.2 1.41-.59l7.78-7.78 2.81-2.81c.8-.78.8-2.07 0-2.86zM5.41 20L4 18.59l7.72-7.72 1.47 1.35L5.41 20z\"/>\n",
              "  </svg>\n",
              "      </button>\n",
              "      \n",
              "  <style>\n",
              "    .colab-df-container {\n",
              "      display:flex;\n",
              "      flex-wrap:wrap;\n",
              "      gap: 12px;\n",
              "    }\n",
              "\n",
              "    .colab-df-convert {\n",
              "      background-color: #E8F0FE;\n",
              "      border: none;\n",
              "      border-radius: 50%;\n",
              "      cursor: pointer;\n",
              "      display: none;\n",
              "      fill: #1967D2;\n",
              "      height: 32px;\n",
              "      padding: 0 0 0 0;\n",
              "      width: 32px;\n",
              "    }\n",
              "\n",
              "    .colab-df-convert:hover {\n",
              "      background-color: #E2EBFA;\n",
              "      box-shadow: 0px 1px 2px rgba(60, 64, 67, 0.3), 0px 1px 3px 1px rgba(60, 64, 67, 0.15);\n",
              "      fill: #174EA6;\n",
              "    }\n",
              "\n",
              "    [theme=dark] .colab-df-convert {\n",
              "      background-color: #3B4455;\n",
              "      fill: #D2E3FC;\n",
              "    }\n",
              "\n",
              "    [theme=dark] .colab-df-convert:hover {\n",
              "      background-color: #434B5C;\n",
              "      box-shadow: 0px 1px 3px 1px rgba(0, 0, 0, 0.15);\n",
              "      filter: drop-shadow(0px 1px 2px rgba(0, 0, 0, 0.3));\n",
              "      fill: #FFFFFF;\n",
              "    }\n",
              "  </style>\n",
              "\n",
              "      <script>\n",
              "        const buttonEl =\n",
              "          document.querySelector('#df-ca202e78-b61b-40c9-9a78-4b65bb13d85e button.colab-df-convert');\n",
              "        buttonEl.style.display =\n",
              "          google.colab.kernel.accessAllowed ? 'block' : 'none';\n",
              "\n",
              "        async function convertToInteractive(key) {\n",
              "          const element = document.querySelector('#df-ca202e78-b61b-40c9-9a78-4b65bb13d85e');\n",
              "          const dataTable =\n",
              "            await google.colab.kernel.invokeFunction('convertToInteractive',\n",
              "                                                     [key], {});\n",
              "          if (!dataTable) return;\n",
              "\n",
              "          const docLinkHtml = 'Like what you see? Visit the ' +\n",
              "            '<a target=\"_blank\" href=https://colab.research.google.com/notebooks/data_table.ipynb>data table notebook</a>'\n",
              "            + ' to learn more about interactive tables.';\n",
              "          element.innerHTML = '';\n",
              "          dataTable['output_type'] = 'display_data';\n",
              "          await google.colab.output.renderOutput(dataTable, element);\n",
              "          const docLink = document.createElement('div');\n",
              "          docLink.innerHTML = docLinkHtml;\n",
              "          element.appendChild(docLink);\n",
              "        }\n",
              "      </script>\n",
              "    </div>\n",
              "  </div>\n",
              "  "
            ]
          },
          "metadata": {},
          "execution_count": 53
        }
      ],
      "source": [
        "temp_cb4 = pd.DataFrame([result_cb4]).round(4).T\n",
        "\n",
        "temp_cb4.loc['cb_without_cat_result',0] = np.round(temp_cb4.loc['cb_without_cat_result'].values.tolist(),4)[0]\n",
        "temp_cb4.loc['cb_with_cat_result',0] = np.round(temp_cb4.loc['cb_with_cat_result'].values.tolist(),4)[0]\n",
        "temp_cb4.loc['default_result',0] = np.round(temp_cb4.loc['default_result'].values.tolist(),4)[0]\n",
        "temp_cb4.columns = [\"CatBoost\"]\n",
        "temp_cb4 #전부 카테고리 변수로 학습한 Catboost\n",
        "\n",
        "test4_cb = pd.concat([temp_cb4, df_cb[['full']]],axis = 1)\n",
        "test4_cb.columns = [\"CatBoost_with_All_Cat_Vars\",'CatBoost_with_Original_Vars']\n",
        "test4_cb"
      ],
      "id": "yRc2tSxBFah5"
    },
    {
      "cell_type": "code",
      "execution_count": null,
      "metadata": {
        "id": "QKvXWyj42bbQ"
      },
      "outputs": [],
      "source": [
        "import pickle\n",
        "# 시드 별로 결과 값들을 정리해서 피클로 저장 후 추후 평균 합산\n",
        "data_list = [table1,table2, table3,df_xgb, df_lgb, df_cb,test4_lgb,test4_cb]\n",
        "\n",
        "# save\n",
        "with open(f'data_list_seed{seed}.pickle', 'wb') as f:\n",
        "    pickle.dump(data_list, f)\n",
        "\n",
        "# load\n",
        "with open(f'data_list_seed{seed}.pickle', 'rb') as f:\n",
        "    temp = pickle.load(f)"
      ],
      "id": "QKvXWyj42bbQ"
    }
  ],
  "metadata": {
    "colab": {
      "provenance": [],
      "toc_visible": true
    },
    "gpuClass": "standard",
    "kernelspec": {
      "display_name": "Python 3 (ipykernel)",
      "language": "python",
      "name": "python3"
    },
    "language_info": {
      "codemirror_mode": {
        "name": "ipython",
        "version": 3
      },
      "file_extension": ".py",
      "mimetype": "text/x-python",
      "name": "python",
      "nbconvert_exporter": "python",
      "pygments_lexer": "ipython3",
      "version": "3.9.13"
    },
    "toc": {
      "base_numbering": 1,
      "nav_menu": {},
      "number_sections": true,
      "sideBar": true,
      "skip_h1_title": false,
      "title_cell": "Table of Contents",
      "title_sidebar": "Contents",
      "toc_cell": false,
      "toc_position": {},
      "toc_section_display": true,
      "toc_window_display": true
    }
  },
  "nbformat": 4,
  "nbformat_minor": 5
}