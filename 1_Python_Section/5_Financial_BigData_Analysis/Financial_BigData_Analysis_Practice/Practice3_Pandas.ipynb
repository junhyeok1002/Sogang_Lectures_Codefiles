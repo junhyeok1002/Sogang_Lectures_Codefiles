{
 "cells": [
  {
   "cell_type": "markdown",
   "metadata": {},
   "source": [
    "# Exercise 3. (deadline: 10/1 13:30)\n",
    "\n",
    "- 문제: 총 30명의 투자자, 그리고 그들의 주식 거래에 대한 기록이 담긴 데이터가 있습니다. 30명의 투자자들을 총투자손익액을 내림차순으로 정렬해, 막대 그래프로 그리세요.\n",
    "\n",
    "- 데이터(ex3_data.csv) 설명\n",
    "    - 각 증권거래 계좌의 주식종목별 보유기간을 정리한 데이터\n",
    "    - columns\n",
    "        - (1) id: 계좌식별 id\n",
    "        - (2) code: 보유주식 코드 ('A' + 코드 6자리)\n",
    "        - (3) buy_date: 매수일\n",
    "        - (4) hold_days: 주식 보유기간\n",
    "        \n",
    "- 유의사항\n",
    "    - (1) 투자자별 총투자손익액은 다음과 같이 구해진다.\n",
    "        - 1. 보유종목별 투자손익액을 구한다: 매도일 종가(close price) - 매수일 종가\n",
    "        - 2. 보유종목별 투자손익액을 합산한다.\n",
    "    - (2) 보유기간은 **거래일 기준**입니다.\n",
    "        - 매도일이 2020년 12월 31일을 초과하는 경우에는 2020년 12월 31일에 매도한 것으로 처리합니다.\n",
    "    - (3) 검색이 되지 않는 주식종목이 존재하는 경우 합산에서 제외합니다. "
   ]
  },
  {
   "cell_type": "markdown",
   "metadata": {},
   "source": [
    "# 1. ex3_data.csv불러오기"
   ]
  },
  {
   "cell_type": "code",
   "execution_count": 1,
   "metadata": {},
   "outputs": [
    {
     "data": {
      "text/html": [
       "<div>\n",
       "<style scoped>\n",
       "    .dataframe tbody tr th:only-of-type {\n",
       "        vertical-align: middle;\n",
       "    }\n",
       "\n",
       "    .dataframe tbody tr th {\n",
       "        vertical-align: top;\n",
       "    }\n",
       "\n",
       "    .dataframe thead th {\n",
       "        text-align: right;\n",
       "    }\n",
       "</style>\n",
       "<table border=\"1\" class=\"dataframe\">\n",
       "  <thead>\n",
       "    <tr style=\"text-align: right;\">\n",
       "      <th></th>\n",
       "      <th>id</th>\n",
       "      <th>code</th>\n",
       "      <th>buy_date</th>\n",
       "      <th>hold_days</th>\n",
       "    </tr>\n",
       "  </thead>\n",
       "  <tbody>\n",
       "    <tr>\n",
       "      <th>0</th>\n",
       "      <td>a0</td>\n",
       "      <td>A049480</td>\n",
       "      <td>20190509</td>\n",
       "      <td>23</td>\n",
       "    </tr>\n",
       "    <tr>\n",
       "      <th>1</th>\n",
       "      <td>a0</td>\n",
       "      <td>A051915</td>\n",
       "      <td>20200810</td>\n",
       "      <td>55</td>\n",
       "    </tr>\n",
       "    <tr>\n",
       "      <th>2</th>\n",
       "      <td>a0</td>\n",
       "      <td>A056700</td>\n",
       "      <td>20190619</td>\n",
       "      <td>66</td>\n",
       "    </tr>\n",
       "    <tr>\n",
       "      <th>3</th>\n",
       "      <td>a1</td>\n",
       "      <td>A217730</td>\n",
       "      <td>20200701</td>\n",
       "      <td>7</td>\n",
       "    </tr>\n",
       "    <tr>\n",
       "      <th>4</th>\n",
       "      <td>a1</td>\n",
       "      <td>A222800</td>\n",
       "      <td>20200821</td>\n",
       "      <td>9</td>\n",
       "    </tr>\n",
       "  </tbody>\n",
       "</table>\n",
       "</div>"
      ],
      "text/plain": [
       "   id     code  buy_date  hold_days\n",
       "0  a0  A049480  20190509         23\n",
       "1  a0  A051915  20200810         55\n",
       "2  a0  A056700  20190619         66\n",
       "3  a1  A217730  20200701          7\n",
       "4  a1  A222800  20200821          9"
      ]
     },
     "execution_count": 1,
     "metadata": {},
     "output_type": "execute_result"
    }
   ],
   "source": [
    "import pandas as pd\n",
    "\n",
    "df = pd.read_csv(\"ex3_data.csv\",index_col = 0)\n",
    "df.head()"
   ]
  },
  {
   "cell_type": "markdown",
   "metadata": {},
   "source": [
    "# 2. Main\n",
    "\n",
    "    2.1 설명\n",
    "        A. 가장 바깥의 for문은 30번 돌아가는데 이는 30명의 투자자의 정보를 각 루프단계에서 처리하기 위함이다\n",
    "        B. 그 다음 안쪽의 루프는 전체 데이터를 돌면서, 바깥 루프단계에서 정해진 투자자의 정보가 나오면 \n",
    "            1. 그 투자자가 투자한 종목의 데이터를 가져온다\n",
    "            -> 여기서 try-except(예외처리)를 이용해 주식 종목이 검색되지 않는 경우를 대비했다\n",
    "            2. 받아온 데이터의 value들을 int화 시킨다.\n",
    "            3. 매도일이 20.12.31을 초과하지 않은 경우 해당 매도일 종가로 매도하고, 매도일이 20.12.31일을 초과한 경우\n",
    "               20.12.31일 종가로 매도하는 if문을 적용한다.\n",
    "            -> 받아온 data(stock_df)의 index가 주말,휴일을 제외한 거래일만 나타내므로 보유일이 n일이면 n번째 행에 있는 \n",
    "               종가를 활용해 0번에 행의 매수일 종가와 빼주었다.\n",
    "            4. 그렇게 해서 나온 종목별 손익액을, 안쪽 for문 밖에 미리 설정한 변수에(aj_total_revenue) 누적해준다.\n",
    "        C. 마지막으로 해당 투자자의 루프단계를 넘어가기 전에 그 투자자의 id를 index로, 총손익액을 value로 설정해서\n",
    "           바깥 for문 밖에 미리 만들어둔 revenue_per_person이라는 dataframe에 axis = 0으로 해서 concat한다.\n",
    "    \n",
    "    \n",
    "    "
   ]
  },
  {
   "cell_type": "code",
   "execution_count": 2,
   "metadata": {},
   "outputs": [
    {
     "name": "stdout",
     "output_type": "stream",
     "text": [
      "      revenue\n",
      "a0  -106620.0\n",
      "a1    73150.0\n",
      "a2   -52360.0\n",
      "a3      -90.0\n",
      "a4   -38622.0\n",
      "a5   160401.0\n",
      "a6  -244441.0\n",
      "a7   163859.0\n",
      "a8    54889.0\n",
      "a9    85697.0\n",
      "a10   84608.0\n",
      "a11  218999.0\n",
      "a12   42055.0\n",
      "a13  135963.0\n",
      "a14   15910.0\n",
      "a15   87782.0\n",
      "a16   42390.0\n",
      "a17   88110.0\n",
      "a18   24300.0\n",
      "a19   -8163.0\n",
      "a20   78757.0\n",
      "a21   36900.0\n",
      "a22  102622.0\n",
      "a23  458807.0\n",
      "a24     700.0\n",
      "a25   42707.0\n",
      "a26   40336.0\n",
      "a27   79380.0\n",
      "a28  253032.0\n",
      "a29  -35751.0\n"
     ]
    }
   ],
   "source": [
    "import pandas_datareader.data as web\n",
    "from datetime import datetime as dt\n",
    "\n",
    "revenue_per_person = pd.DataFrame()\n",
    "for j in range(30):                                             #A : 바깥루프\n",
    "    aj_total_revenue = 0\n",
    "    for i in range(len(df)):                                    #B : 안쪽 루프\n",
    "        if df['id'][i] == 'a'+str(j):                           #바깥 루프 단계에서 정해진 투자자 정보가 나오면\n",
    "            try:                                                #B-1 : 투자종목 불러오기(예외처리)\n",
    "                stock_df = web.DataReader(df['code'][i][1:],'naver',start=str(df['buy_date'][i]), end=\"2020-12-31\")\n",
    "            except:\n",
    "                continue\n",
    "                \n",
    "            for col in stock_df.columns : stock_df[col]=stock_df[col].apply(int)      #B-2 : value의 int화\n",
    "                \n",
    "            if stock_df.index[int(df['hold_days'][i])] <= dt(2020,12,31):             #B-3 : 20.12.31 초과 시 IF문 처리(거래일 기준)\n",
    "                revenue = stock_df['Close'][int(df['hold_days'][i])] - stock_df['Close'][0]\n",
    "            else : \n",
    "                revenue = stock_df['Close'][-1] - stock_df['Close'][0]            \n",
    "            \n",
    "            aj_total_revenue += revenue                                               #B-4 : 해당 투자자의 종목별 손익 합계\n",
    "    \n",
    "    aj_series = pd.Series([aj_total_revenue], index = ['a'+str(j)])\n",
    "    revenue_per_person = pd.concat([revenue_per_person,aj_series],axis = 0)           #C : 투자자별 총투자손익액 담기(revenue_per_person)\n",
    "\n",
    "revenue_per_person.columns = [\"revenue\"]                                              \n",
    "print(revenue_per_person)\n",
    "      "
   ]
  },
  {
   "cell_type": "markdown",
   "metadata": {},
   "source": [
    "# 3. 내림차순 정렬"
   ]
  },
  {
   "cell_type": "code",
   "execution_count": 3,
   "metadata": {},
   "outputs": [
    {
     "name": "stdout",
     "output_type": "stream",
     "text": [
      "      revenue\n",
      "a23  458807.0\n",
      "a28  253032.0\n",
      "a11  218999.0\n",
      "a7   163859.0\n",
      "a5   160401.0\n",
      "a13  135963.0\n",
      "a22  102622.0\n",
      "a17   88110.0\n",
      "a15   87782.0\n",
      "a9    85697.0\n",
      "a10   84608.0\n",
      "a27   79380.0\n",
      "a20   78757.0\n",
      "a1    73150.0\n",
      "a8    54889.0\n",
      "a25   42707.0\n",
      "a16   42390.0\n",
      "a12   42055.0\n",
      "a26   40336.0\n",
      "a21   36900.0\n",
      "a18   24300.0\n",
      "a14   15910.0\n",
      "a24     700.0\n",
      "a3      -90.0\n",
      "a19   -8163.0\n",
      "a29  -35751.0\n",
      "a4   -38622.0\n",
      "a2   -52360.0\n",
      "a0  -106620.0\n",
      "a6  -244441.0\n"
     ]
    }
   ],
   "source": [
    "revenue_per_person = revenue_per_person.sort_values(by = 'revenue', ascending = False)\n",
    "print(revenue_per_person) "
   ]
  },
  {
   "cell_type": "markdown",
   "metadata": {},
   "source": [
    "# 4. 막대그래프 그리기"
   ]
  },
  {
   "cell_type": "code",
   "execution_count": 5,
   "metadata": {},
   "outputs": [
    {
     "data": {
      "image/png": "[encoded data removed]",
      "text/plain": [
       "<Figure size 864x576 with 1 Axes>"
      ]
     },
     "metadata": {
      "needs_background": "light"
     },
     "output_type": "display_data"
    }
   ],
   "source": [
    "import numpy as np\n",
    "import pandas as pd\n",
    "import matplotlib.pyplot as plt\n",
    "import seaborn as sns\n",
    "\n",
    "%matplotlib inline\n",
    "\n",
    "plt.figure(figsize=(12,8))\n",
    "plt.bar(x = revenue_per_person['revenue'].index , height = revenue_per_person['revenue'])\n",
    "plt.xlabel('invester')\n",
    "plt.ylabel('revenue(won)')\n",
    "plt.title('a1~a30 Total Investment Revenue(descending)')\n",
    "plt.show()\n",
    "\n"
   ]
  },
  {
   "cell_type": "code",
   "execution_count": null,
   "metadata": {},
   "outputs": [],
   "source": []
  }
 ],
 "metadata": {
  "kernelspec": {
   "display_name": "Python 3",
   "language": "python",
   "name": "python3"
  },
  "language_info": {
   "codemirror_mode": {
    "name": "ipython",
    "version": 3
   },
   "file_extension": ".py",
   "mimetype": "text/x-python",
   "name": "python",
   "nbconvert_exporter": "python",
   "pygments_lexer": "ipython3",
   "version": "3.7.1"
  }
 },
 "nbformat": 4,
 "nbformat_minor": 4
}
