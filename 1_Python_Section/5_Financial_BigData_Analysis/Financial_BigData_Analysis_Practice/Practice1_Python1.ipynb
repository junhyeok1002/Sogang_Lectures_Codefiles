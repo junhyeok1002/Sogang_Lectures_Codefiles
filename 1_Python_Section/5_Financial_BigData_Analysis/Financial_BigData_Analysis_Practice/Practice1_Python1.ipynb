{
 "cells": [
  {
   "cell_type": "markdown",
   "metadata": {},
   "source": [
    "## Exercises"
   ]
  },
  {
   "cell_type": "markdown",
   "metadata": {},
   "source": [
    "1. Enter the following into Python, assiging each to a unique variable name:\n",
    "    - 4\n",
    "    - 3.1415\n",
    "    - 1.0\n",
    "    - 2+4j\n",
    "    - 'Hello'\n",
    "    - 'World'"
   ]
  },
  {
   "cell_type": "code",
   "execution_count": 1,
   "metadata": {},
   "outputs": [],
   "source": [
    "it = 4\n",
    "pie = 3.1415\n",
    "ft = 1.0\n",
    "cx = 2+4j\n",
    "hi = 'Hello'\n",
    "wd = 'World'"
   ]
  },
  {
   "cell_type": "markdown",
   "metadata": {},
   "source": [
    "2. What is the type of each variable?"
   ]
  },
  {
   "cell_type": "code",
   "execution_count": 2,
   "metadata": {},
   "outputs": [
    {
     "name": "stdout",
     "output_type": "stream",
     "text": [
      "<class 'int'>\n",
      "<class 'float'>\n",
      "<class 'float'>\n",
      "<class 'complex'>\n",
      "<class 'str'>\n",
      "<class 'str'>\n"
     ]
    }
   ],
   "source": [
    "for i in [it,pie,ft,cx,hi,wd]:\n",
    "    print(type(i))"
   ]
  },
  {
   "cell_type": "markdown",
   "metadata": {},
   "source": [
    "3. Input the variable \n",
    "ex = 'Python is an interesting and useful language for numerical computing!' \\\n",
    "Extract the strings below \n",
    "    - Python\n",
    "    - !\n",
    "    - computing\n",
    "    - !gnitupmoc laciremun rof egaugnal lufesu dna gnitseretni na si nohtyP' (Reversed)"
   ]
  },
  {
   "cell_type": "code",
   "execution_count": 3,
   "metadata": {},
   "outputs": [
    {
     "name": "stdout",
     "output_type": "stream",
     "text": [
      "Python\n",
      "!\n",
      "computing\n",
      "!gnitupmoc laciremun rof egaugnal lufesu dna gnitseretni na si nohtyP\n"
     ]
    }
   ],
   "source": [
    "ex = 'Python is an interesting and useful language for numerical computing!'\n",
    "print(ex[:6:1])\n",
    "print(ex[-1:-2:-1])\n",
    "print(ex[-10:-1:])\n",
    "print(ex[::-1])\n"
   ]
  },
  {
   "cell_type": "markdown",
   "metadata": {},
   "source": [
    "4. Construct a nested list to hold the arry\n",
    "$$\\begin{Bmatrix} 1 & 0.5 \\\\ 0.5 & 1 \\end{Bmatrix}$$\n",
    "so that item[i][j] corresponds to the position in the arrray"
   ]
  },
  {
   "cell_type": "code",
   "execution_count": 4,
   "metadata": {},
   "outputs": [
    {
     "name": "stdout",
     "output_type": "stream",
     "text": [
      "1      0.5\n",
      "0.5      1\n"
     ]
    }
   ],
   "source": [
    "L=[[1,0.5],[0.5,1]]\n",
    "\n",
    "print('{:<5}{:5}'.format(L[0][0],L[0][1]))\n",
    "print('{:<5}{:5}'.format(L[1][0],L[1][1]))"
   ]
  },
  {
   "cell_type": "markdown",
   "metadata": {},
   "source": [
    "5. Assign the array you just created first to x, and then assign y=x. Change y[0][0] to 1.61. What happens to x?"
   ]
  },
  {
   "cell_type": "code",
   "execution_count": 5,
   "metadata": {
    "scrolled": true
   },
   "outputs": [
    {
     "name": "stdout",
     "output_type": "stream",
     "text": [
      "1.61   0.5\n",
      "0.5      1\n",
      "\n",
      "x(especially x[0][0]) changed although i changed y(especially y[0][0])\n"
     ]
    }
   ],
   "source": [
    "x=L\n",
    "y=x\n",
    "y[0][0] = 1.61\n",
    "print('{:<5}{:5}'.format(x[0][0],x[0][1]))\n",
    "print('{:<5}{:5}'.format(x[1][0],x[1][1]));\n",
    "print()\n",
    "print(\"x(especially x[0][0]) changed although i changed y(especially y[0][0])\")"
   ]
  },
  {
   "cell_type": "code",
   "execution_count": null,
   "metadata": {},
   "outputs": [],
   "source": []
  }
 ],
 "metadata": {
  "kernelspec": {
   "display_name": "Python 3",
   "language": "python",
   "name": "python3"
  },
  "language_info": {
   "codemirror_mode": {
    "name": "ipython",
    "version": 3
   },
   "file_extension": ".py",
   "mimetype": "text/x-python",
   "name": "python",
   "nbconvert_exporter": "python",
   "pygments_lexer": "ipython3",
   "version": "3.7.1"
  }
 },
 "nbformat": 4,
 "nbformat_minor": 2
}
