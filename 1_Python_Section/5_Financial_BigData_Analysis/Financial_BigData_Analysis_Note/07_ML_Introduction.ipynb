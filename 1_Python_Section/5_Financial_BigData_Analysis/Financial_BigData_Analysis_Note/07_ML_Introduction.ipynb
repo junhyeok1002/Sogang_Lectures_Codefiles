{
 "cells": [
  {
   "cell_type": "markdown",
   "metadata": {},
   "source": [
    "# Introduction to Machine Learning \n"
   ]
  },
  {
   "cell_type": "markdown",
   "metadata": {},
   "source": [
    "- Arthur Samuel(1959): \"Field of study that gives computers the ability to learn without being explicitly programmed.\"\n",
    "- Tom M. Mitchell(1997): \"A computer program is said to learn from experience E with respect to some class of tasks T and performance measure P if its performance at tasks in T, as measured by P, improves with experience E.\"\n",
    "- ML is to give computers the ability to learn to make decisions from data *without being explicitly \n",
    "programmed*.\n",
    "    - automated detection of patterns in data\n",
    "- Examples:\n",
    "    - predicting a spam mail or not\n",
    "    - clustering Google photos into different categories\n",
    "- [Machine Learning](https://en.wikipedia.org/wiki/Machine_learning)\n",
    "- [Google explaining ML](https://www.youtube.com/watch?v=HcqpanDadyQ)"
   ]
  },
  {
   "cell_type": "markdown",
   "metadata": {
    "tags": []
   },
   "source": [
    "### Types of ML\n",
    "#### Supervised Learning  \n",
    "- X와 Y변수가 정해진 모형에서 사용\n",
    "- uses **labeled** data\n",
    "- classification: e.g., spam mail\n",
    "- predictor variables (or features) and a target variable: \"predict the target variables given the predictor variables\"\n",
    "- naming convention:\n",
    "    - predictor variables = features = independent variables\n",
    "    - target variable = dependent variable = response variable\n",
    "- how to get **labeled** data:\n",
    "    - existing data with labels\n",
    "    - experiments to get labeled data\n",
    "    - crowd-sourcing labeled data\n",
    "- algorithms:\n",
    "    - k-nearest neighbors\n",
    "    - linear regression\n",
    "    - logistic regression\n",
    "    - support vector machine (SVM)\n",
    "    - decision treee, random forests\n",
    "    - neural networks\n",
    "    - deep learning\n",
    "- supervised learning in Python\n",
    "    - We will use scikit-learn (sklearn)\n",
    "    - other libraries: TensorFlow, keras"
   ]
  },
  {
   "cell_type": "markdown",
   "metadata": {},
   "source": [
    "#### Unsupervised Learning\n",
    "\n",
    "- X와 Y변수가 정해지지 않은 모형에서 사용\n",
    "\n",
    "- clustering\n",
    "    - k-means\n",
    "    - hierachinal cluster analysis (HCA)\n",
    "    - expectation maximization\n",
    "- visualization, dimensionality reduction\n",
    "    - principal component analysis (PCA)\n",
    "    - kernel PCA\n",
    "    - locally-linear embedding (LLE)\n",
    "    - t-distributed stochastic neighbor embedding (t-SNE)"
   ]
  },
  {
   "cell_type": "markdown",
   "metadata": {},
   "source": [
    "#### Semisupervised learning\n",
    "#### Reinforcement Learning"
   ]
  },
  {
   "cell_type": "markdown",
   "metadata": {},
   "source": [
    "### No Free Lunch Theorem of ML\n",
    "- Wolpert (1996)\n",
    "- A universal learner (or model) does not exist.\n",
    "- Without prior knowledge, we can't have confidence that generalization beyond training data set will work."
   ]
  },
  {
   "cell_type": "markdown",
   "metadata": {},
   "source": [
    "### Overfitting, Underfitting\n",
    "\n",
    "- Overfitting refers to a model that models the training data too well.\n",
    "- Underfitting refers to a model that can neither model the training data nor generalize to new data.\n",
    "- Both overfitting and underfitting can lead to poor model performance. But by far the most common problem in applied machine learning is overfitting.\n",
    "- How to limit overfitting:\n",
    "    - Use a resampling technique to estimate model accuracy $\\rightarrow$ we will see k-fold cross validation\n",
    "    - Hold back a validation dataset.\n"
   ]
  },
  {
   "cell_type": "markdown",
   "metadata": {},
   "source": [
    "#### Economics, Finance and ML\n",
    "\n",
    "- Susan Athey (2019), \"The Impact of Machine Learning on Economics,\" in * The Economics of Artificial Intelligence: An Agenda*, \\\n",
    "https://www.nber.org/chapters/c14009.pdf\n",
    "- Susan Athey and Guido Imbens (2019), \"Machine Learning Methods Economists Should Know About,\" \\\n",
    "https://arxiv.org/abs/1903.10075\n",
    "- Gu, Kelley, and Xiu (2018), \"Empirical Asset Pricing via Machine Learning,\" \\\n",
    "https://papers.ssrn.com/sol3/papers.cfm?abstract_id=3159577\n",
    "- Easley, López de Prado, O’Hara, and Zhang (2021). \"Microstructure in the machine age\" \\\n",
    "https://papers.ssrn.com/sol3/papers.cfm?abstract_id=3345183"
   ]
  },
  {
   "cell_type": "code",
   "execution_count": null,
   "metadata": {},
   "outputs": [],
   "source": []
  }
 ],
 "metadata": {
  "kernelspec": {
   "display_name": "Python 3",
   "language": "python",
   "name": "python3"
  },
  "language_info": {
   "codemirror_mode": {
    "name": "ipython",
    "version": 3
   },
   "file_extension": ".py",
   "mimetype": "text/x-python",
   "name": "python",
   "nbconvert_exporter": "python",
   "pygments_lexer": "ipython3",
   "version": "3.7.1"
  }
 },
 "nbformat": 4,
 "nbformat_minor": 4
}
