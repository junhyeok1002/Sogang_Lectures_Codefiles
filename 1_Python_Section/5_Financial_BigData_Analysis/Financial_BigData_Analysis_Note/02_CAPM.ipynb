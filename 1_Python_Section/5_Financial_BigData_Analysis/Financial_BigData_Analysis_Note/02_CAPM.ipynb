{
 "cells": [
  {
   "cell_type": "markdown",
   "metadata": {},
   "source": [
    "### CAPM\n",
    "\n",
    "- In this exercise we will fit CAPM with real financial data(stock prices) and test whether the predictions of CAPM are true."
   ]
  },
  {
   "cell_type": "code",
   "execution_count": 1,
   "metadata": {},
   "outputs": [],
   "source": [
    "import numpy as np \n",
    "import pandas as pd \n",
    "import matplotlib.pyplot as plt \n",
    "import seaborn as sns; sns.set()\n",
    "import pandas_datareader.data as web\n",
    "import statsmodels.api as sm\n",
    "from statsmodels.formula.api import ols "
   ]
  },
  {
   "cell_type": "markdown",
   "metadata": {},
   "source": [
    "### Empirical test of CAPM\n",
    "\n",
    "- We will conduct a simple test on whether the predictions of CAPM hold.\n",
    "    - Asset return is a function of how much risk it is exposed to.\n",
    "    - Thus, asset returns should be increasing in betas.\n",
    "- It is done by the following steps.\n",
    "    - Setting up the sample data\n",
    "    - Estimating betas\n",
    "    - Estimating the SML"
   ]
  },
  {
   "cell_type": "code",
   "execution_count": 2,
   "metadata": {},
   "outputs": [],
   "source": [
    "df = pd.read_excel('beta_data.xls',  index_col=0, parse_date = True, header=3)"
   ]
  },
  {
   "cell_type": "code",
   "execution_count": 3,
   "metadata": {},
   "outputs": [
    {
     "data": {
      "text/html": [
       "<div>\n",
       "<style scoped>\n",
       "    .dataframe tbody tr th:only-of-type {\n",
       "        vertical-align: middle;\n",
       "    }\n",
       "\n",
       "    .dataframe tbody tr th {\n",
       "        vertical-align: top;\n",
       "    }\n",
       "\n",
       "    .dataframe thead th {\n",
       "        text-align: right;\n",
       "    }\n",
       "</style>\n",
       "<table border=\"1\" class=\"dataframe\">\n",
       "  <thead>\n",
       "    <tr style=\"text-align: right;\">\n",
       "      <th></th>\n",
       "      <th>Low Beta</th>\n",
       "      <th>2</th>\n",
       "      <th>3</th>\n",
       "      <th>High Beta</th>\n",
       "      <th>Low Beta.1</th>\n",
       "      <th>2.1</th>\n",
       "      <th>3.1</th>\n",
       "      <th>High Beta.1</th>\n",
       "      <th>Low Beta.2</th>\n",
       "      <th>2.2</th>\n",
       "      <th>...</th>\n",
       "      <th>3.5</th>\n",
       "      <th>High Beta.5</th>\n",
       "      <th>Low Beta.6</th>\n",
       "      <th>2.6</th>\n",
       "      <th>3.6</th>\n",
       "      <th>High Beta.6</th>\n",
       "      <th>Low Beta.7</th>\n",
       "      <th>2.7</th>\n",
       "      <th>3.7</th>\n",
       "      <th>High Beta.7</th>\n",
       "    </tr>\n",
       "    <tr>\n",
       "      <th>date</th>\n",
       "      <th></th>\n",
       "      <th></th>\n",
       "      <th></th>\n",
       "      <th></th>\n",
       "      <th></th>\n",
       "      <th></th>\n",
       "      <th></th>\n",
       "      <th></th>\n",
       "      <th></th>\n",
       "      <th></th>\n",
       "      <th></th>\n",
       "      <th></th>\n",
       "      <th></th>\n",
       "      <th></th>\n",
       "      <th></th>\n",
       "      <th></th>\n",
       "      <th></th>\n",
       "      <th></th>\n",
       "      <th></th>\n",
       "      <th></th>\n",
       "      <th></th>\n",
       "    </tr>\n",
       "  </thead>\n",
       "  <tbody>\n",
       "    <tr>\n",
       "      <th>196307</th>\n",
       "      <td>-0.233</td>\n",
       "      <td>-0.471</td>\n",
       "      <td>3.787</td>\n",
       "      <td>0.002</td>\n",
       "      <td>0.863</td>\n",
       "      <td>0.151</td>\n",
       "      <td>-0.597</td>\n",
       "      <td>-2.090</td>\n",
       "      <td>0.353</td>\n",
       "      <td>0.408</td>\n",
       "      <td>...</td>\n",
       "      <td>0.6966</td>\n",
       "      <td>0.5497</td>\n",
       "      <td>0.4947</td>\n",
       "      <td>0.4503</td>\n",
       "      <td>0.5452</td>\n",
       "      <td>0.8183</td>\n",
       "      <td>0.5834</td>\n",
       "      <td>0.5002</td>\n",
       "      <td>0.4438</td>\n",
       "      <td>0.3788</td>\n",
       "    </tr>\n",
       "    <tr>\n",
       "      <th>196308</th>\n",
       "      <td>1.124</td>\n",
       "      <td>-0.661</td>\n",
       "      <td>2.007</td>\n",
       "      <td>9.214</td>\n",
       "      <td>2.145</td>\n",
       "      <td>2.878</td>\n",
       "      <td>6.162</td>\n",
       "      <td>6.429</td>\n",
       "      <td>4.328</td>\n",
       "      <td>3.907</td>\n",
       "      <td>...</td>\n",
       "      <td>0.4689</td>\n",
       "      <td>0.6331</td>\n",
       "      <td>0.4935</td>\n",
       "      <td>0.4637</td>\n",
       "      <td>0.5328</td>\n",
       "      <td>0.8075</td>\n",
       "      <td>0.5463</td>\n",
       "      <td>0.5124</td>\n",
       "      <td>0.4356</td>\n",
       "      <td>0.3817</td>\n",
       "    </tr>\n",
       "    <tr>\n",
       "      <th>196309</th>\n",
       "      <td>-0.729</td>\n",
       "      <td>5.764</td>\n",
       "      <td>-0.323</td>\n",
       "      <td>-2.947</td>\n",
       "      <td>-1.337</td>\n",
       "      <td>0.236</td>\n",
       "      <td>-3.178</td>\n",
       "      <td>-4.137</td>\n",
       "      <td>-1.121</td>\n",
       "      <td>-2.219</td>\n",
       "      <td>...</td>\n",
       "      <td>0.4521</td>\n",
       "      <td>0.5482</td>\n",
       "      <td>0.4785</td>\n",
       "      <td>0.4424</td>\n",
       "      <td>0.5239</td>\n",
       "      <td>0.7232</td>\n",
       "      <td>0.5181</td>\n",
       "      <td>0.5073</td>\n",
       "      <td>0.4236</td>\n",
       "      <td>0.3678</td>\n",
       "    </tr>\n",
       "    <tr>\n",
       "      <th>196310</th>\n",
       "      <td>-0.939</td>\n",
       "      <td>1.462</td>\n",
       "      <td>0.544</td>\n",
       "      <td>2.286</td>\n",
       "      <td>-0.881</td>\n",
       "      <td>-1.154</td>\n",
       "      <td>-1.740</td>\n",
       "      <td>3.197</td>\n",
       "      <td>-0.895</td>\n",
       "      <td>-1.630</td>\n",
       "      <td>...</td>\n",
       "      <td>0.4559</td>\n",
       "      <td>0.5551</td>\n",
       "      <td>0.4871</td>\n",
       "      <td>0.4518</td>\n",
       "      <td>0.5503</td>\n",
       "      <td>0.7749</td>\n",
       "      <td>0.5119</td>\n",
       "      <td>0.5564</td>\n",
       "      <td>0.4403</td>\n",
       "      <td>0.3616</td>\n",
       "    </tr>\n",
       "    <tr>\n",
       "      <th>196311</th>\n",
       "      <td>-0.187</td>\n",
       "      <td>-0.706</td>\n",
       "      <td>-0.987</td>\n",
       "      <td>-0.994</td>\n",
       "      <td>-1.203</td>\n",
       "      <td>-0.654</td>\n",
       "      <td>-2.242</td>\n",
       "      <td>1.711</td>\n",
       "      <td>-1.314</td>\n",
       "      <td>-0.799</td>\n",
       "      <td>...</td>\n",
       "      <td>0.4660</td>\n",
       "      <td>0.6216</td>\n",
       "      <td>0.4192</td>\n",
       "      <td>0.4600</td>\n",
       "      <td>0.5125</td>\n",
       "      <td>0.6030</td>\n",
       "      <td>0.5436</td>\n",
       "      <td>0.5544</td>\n",
       "      <td>0.4434</td>\n",
       "      <td>0.3579</td>\n",
       "    </tr>\n",
       "  </tbody>\n",
       "</table>\n",
       "<p>5 rows × 33 columns</p>\n",
       "</div>"
      ],
      "text/plain": [
       "        Low Beta      2      3  High Beta  Low Beta.1    2.1    3.1  \\\n",
       "date                                                                  \n",
       "196307    -0.233 -0.471  3.787      0.002       0.863  0.151 -0.597   \n",
       "196308     1.124 -0.661  2.007      9.214       2.145  2.878  6.162   \n",
       "196309    -0.729  5.764 -0.323     -2.947      -1.337  0.236 -3.178   \n",
       "196310    -0.939  1.462  0.544      2.286      -0.881 -1.154 -1.740   \n",
       "196311    -0.187 -0.706 -0.987     -0.994      -1.203 -0.654 -2.242   \n",
       "\n",
       "        High Beta.1  Low Beta.2    2.2     ...          3.5  High Beta.5  \\\n",
       "date                                       ...                             \n",
       "196307       -2.090       0.353  0.408     ...       0.6966       0.5497   \n",
       "196308        6.429       4.328  3.907     ...       0.4689       0.6331   \n",
       "196309       -4.137      -1.121 -2.219     ...       0.4521       0.5482   \n",
       "196310        3.197      -0.895 -1.630     ...       0.4559       0.5551   \n",
       "196311        1.711      -1.314 -0.799     ...       0.4660       0.6216   \n",
       "\n",
       "        Low Beta.6     2.6     3.6  High Beta.6  Low Beta.7     2.7     3.7  \\\n",
       "date                                                                          \n",
       "196307      0.4947  0.4503  0.5452       0.8183      0.5834  0.5002  0.4438   \n",
       "196308      0.4935  0.4637  0.5328       0.8075      0.5463  0.5124  0.4356   \n",
       "196309      0.4785  0.4424  0.5239       0.7232      0.5181  0.5073  0.4236   \n",
       "196310      0.4871  0.4518  0.5503       0.7749      0.5119  0.5564  0.4403   \n",
       "196311      0.4192  0.4600  0.5125       0.6030      0.5436  0.5544  0.4434   \n",
       "\n",
       "        High Beta.7  \n",
       "date                 \n",
       "196307       0.3788  \n",
       "196308       0.3817  \n",
       "196309       0.3678  \n",
       "196310       0.3616  \n",
       "196311       0.3579  \n",
       "\n",
       "[5 rows x 33 columns]"
      ]
     },
     "execution_count": 3,
     "metadata": {},
     "output_type": "execute_result"
    }
   ],
   "source": [
    "df.head() #xbeta.data.엑셀 파일을 열어 보면 알겠지만 16개의 포트폴리오를 의미 \n",
    "#아래는 포트폴리오종목 시가총액 기준으로 4개의 파트로 나누고 그것을 베타의 크기에 따라 4분류로 또 나눈 것임 -> 엑셀파일 참고"
   ]
  },
  {
   "cell_type": "code",
   "execution_count": 4,
   "metadata": {},
   "outputs": [],
   "source": [
    "pfs = np.mat(df.iloc[:,:16]) # 16 portfolios formed on size and past beta\n",
    "factors = np.mat(df.iloc[:,16]) # market portfolio\n",
    "BMs = np.mat(df.iloc[:,17:]) # 16 portfolios formed on B/M ratio and past beta\n",
    "\n",
    "T, N = pfs.shape"
   ]
  },
  {
   "cell_type": "code",
   "execution_count": 5,
   "metadata": {},
   "outputs": [
    {
     "data": {
      "text/plain": [
       "(426, 16)"
      ]
     },
     "execution_count": 5,
     "metadata": {},
     "output_type": "execute_result"
    }
   ],
   "source": [
    "pfs.shape #월별 단위로 426개월 data이고 포트폴리오는 16개"
   ]
  },
  {
   "cell_type": "code",
   "execution_count": 6,
   "metadata": {},
   "outputs": [
    {
     "name": "stdout",
     "output_type": "stream",
     "text": [
      "beta estimates from 1-stage time-series regression:\n",
      "rows: small to big, columns: low to high\n"
     ]
    },
    {
     "data": {
      "text/plain": [
       "matrix([[0.77842172, 0.98245255, 1.13454692, 1.33811698],\n",
       "        [0.74968325, 1.02779653, 1.21785727, 1.44684187],\n",
       "        [0.71854073, 1.01907206, 1.20557186, 1.50285895],\n",
       "        [0.71755303, 0.97620692, 1.18288207, 1.41142603]])"
      ]
     },
     "execution_count": 6,
     "metadata": {},
     "output_type": "execute_result"
    }
   ],
   "source": [
    "# 1-stage time-series regression (estimating beta for each portfolio)\n",
    "\n",
    "X = sm.add_constant(factors.T)\n",
    "\n",
    "ts_model = sm.OLS(pfs, X).fit()\n",
    "alphas = ts_model.params[0] #CAPM의 알파부분\n",
    "betas = ts_model.params[1:] #CAPM의 베타부분\n",
    "print(\"beta estimates from 1-stage time-series regression:\")\n",
    "print(\"rows: small to big, columns: low to high\")\n",
    "np.mat(betas).reshape(4,4)"
   ]
  },
  {
   "cell_type": "markdown",
   "metadata": {},
   "source": [
    "#### In other words, fit\n",
    "\n",
    "$r_{i,t} - r_{f,t} = \\alpha_i + \\beta_i \\left( r_{M,t} - r+{f,t} \\right) + u_{i,t}$ \n",
    "\n",
    "and get $\\beta_i$"
   ]
  },
  {
   "cell_type": "code",
   "execution_count": 7,
   "metadata": {},
   "outputs": [
    {
     "name": "stdout",
     "output_type": "stream",
     "text": [
      "estimates of gamma0 and gamma1:\n",
      "[0.57274814 0.60237696]\n",
      "standard errors:\n",
      "[1.76058915 1.57590834]\n",
      "t-values:\n",
      "[0.32531618 0.38224112]\n"
     ]
    }
   ],
   "source": [
    "# 2-nd step cross-sectional regression (estimating SML)\n",
    "\n",
    "mean_ret = np.mat([np.mean(pfs[i,:]) for i in range(16)]).T\n",
    "betas1 = sm.add_constant(betas.T)\n",
    "cs_model1 = sm.OLS(mean_ret, betas1).fit()\n",
    "\n",
    "gammas = cs_model1.params\n",
    "stds = cs_model1.bse\n",
    "\n",
    "print(\"estimates of gamma0 and gamma1:\")\n",
    "print(gammas)\n",
    "print(\"standard errors:\")\n",
    "print(stds)\n",
    "print(\"t-values:\")\n",
    "print(gammas/stds)"
   ]
  },
  {
   "cell_type": "code",
   "execution_count": 8,
   "metadata": {},
   "outputs": [
    {
     "data": {
      "text/plain": [
       "(16, 1)"
      ]
     },
     "execution_count": 8,
     "metadata": {},
     "output_type": "execute_result"
    }
   ],
   "source": [
    "mean_ret.shape"
   ]
  },
  {
   "cell_type": "code",
   "execution_count": 9,
   "metadata": {},
   "outputs": [
    {
     "data": {
      "text/plain": [
       "(16, 2)"
      ]
     },
     "execution_count": 9,
     "metadata": {},
     "output_type": "execute_result"
    }
   ],
   "source": [
    "betas1.shape"
   ]
  },
  {
   "cell_type": "markdown",
   "metadata": {},
   "source": [
    "#### Estimating the SML\n",
    "$\\overline{r_i - r_f} = \\gamma_0 + \\gamma_1\\beta_i+\\epsilon_i$\n",
    "- If CAPM holds, $\\hat{\\gamma_0}=0$ and $\\hat{\\gamma_M}>0$ should hold."
   ]
  },
  {
   "cell_type": "markdown",
   "metadata": {},
   "source": [
    "The estimated model\n",
    "\n",
    "$\\hat{\\overline{r_i - r_f}} = 0.57 + 0.60\\beta_i$"
   ]
  },
  {
   "cell_type": "markdown",
   "metadata": {},
   "source": [
    "- Does CAPM hold?\n",
    "- Given that $\\gamma_0$ is insignificant, CAPM doesn't hold."
   ]
  },
  {
   "cell_type": "code",
   "execution_count": 10,
   "metadata": {},
   "outputs": [
    {
     "data": {
      "text/html": [
       "<div>\n",
       "<style scoped>\n",
       "    .dataframe tbody tr th:only-of-type {\n",
       "        vertical-align: middle;\n",
       "    }\n",
       "\n",
       "    .dataframe tbody tr th {\n",
       "        vertical-align: top;\n",
       "    }\n",
       "\n",
       "    .dataframe thead th {\n",
       "        text-align: right;\n",
       "    }\n",
       "</style>\n",
       "<table border=\"1\" class=\"dataframe\">\n",
       "  <thead>\n",
       "    <tr style=\"text-align: right;\">\n",
       "      <th></th>\n",
       "      <th>se</th>\n",
       "      <th>skh</th>\n",
       "      <th>kk</th>\n",
       "      <th>nvr</th>\n",
       "      <th>kospi</th>\n",
       "    </tr>\n",
       "    <tr>\n",
       "      <th>Date</th>\n",
       "      <th></th>\n",
       "      <th></th>\n",
       "      <th></th>\n",
       "      <th></th>\n",
       "      <th></th>\n",
       "    </tr>\n",
       "  </thead>\n",
       "  <tbody>\n",
       "    <tr>\n",
       "      <th>2015-01-02</th>\n",
       "      <td>26600</td>\n",
       "      <td>47750</td>\n",
       "      <td>27538</td>\n",
       "      <td>146407</td>\n",
       "      <td>1926.0</td>\n",
       "    </tr>\n",
       "    <tr>\n",
       "      <th>2015-01-05</th>\n",
       "      <td>26660</td>\n",
       "      <td>47650</td>\n",
       "      <td>29003</td>\n",
       "      <td>150012</td>\n",
       "      <td>1915.0</td>\n",
       "    </tr>\n",
       "    <tr>\n",
       "      <th>2015-01-06</th>\n",
       "      <td>25900</td>\n",
       "      <td>47500</td>\n",
       "      <td>29164</td>\n",
       "      <td>148811</td>\n",
       "      <td>1882.0</td>\n",
       "    </tr>\n",
       "    <tr>\n",
       "      <th>2015-01-07</th>\n",
       "      <td>26140</td>\n",
       "      <td>47400</td>\n",
       "      <td>29746</td>\n",
       "      <td>146607</td>\n",
       "      <td>1883.0</td>\n",
       "    </tr>\n",
       "    <tr>\n",
       "      <th>2015-01-08</th>\n",
       "      <td>26280</td>\n",
       "      <td>49950</td>\n",
       "      <td>29565</td>\n",
       "      <td>149011</td>\n",
       "      <td>1904.0</td>\n",
       "    </tr>\n",
       "  </tbody>\n",
       "</table>\n",
       "</div>"
      ],
      "text/plain": [
       "               se    skh     kk     nvr   kospi\n",
       "Date                                           \n",
       "2015-01-02  26600  47750  27538  146407  1926.0\n",
       "2015-01-05  26660  47650  29003  150012  1915.0\n",
       "2015-01-06  25900  47500  29164  148811  1882.0\n",
       "2015-01-07  26140  47400  29746  146607  1883.0\n",
       "2015-01-08  26280  49950  29565  149011  1904.0"
      ]
     },
     "execution_count": 10,
     "metadata": {},
     "output_type": "execute_result"
    }
   ],
   "source": [
    "data = pd.DataFrame()\n",
    "for code in ['005930', '000660', '035720', '035420'] : \n",
    "    data = pd.concat([data,web.DataReader(code, 'naver', start='2015-01-01', end='2020-01-01')['Close'].apply(int)], axis=1)\n",
    "\n",
    "data.columns = ['se', 'skh', 'kk','nvr']\n",
    "data['kospi'] = web.DataReader('^KS11', 'yahoo', start='2015-01-01', end='2020-01-01')['Close'].apply(int)\n",
    "noa = len(data.columns)\n",
    "data.head()"
   ]
  },
  {
   "cell_type": "code",
   "execution_count": 11,
   "metadata": {},
   "outputs": [],
   "source": [
    "ret = data.pct_change().dropna()"
   ]
  },
  {
   "cell_type": "code",
   "execution_count": 12,
   "metadata": {},
   "outputs": [
    {
     "data": {
      "image/png": "[encoded data removed]",
      "text/plain": [
       "<Figure size 576x396 with 1 Axes>"
      ]
     },
     "metadata": {},
     "output_type": "display_data"
    }
   ],
   "source": [
    "x = ret['kospi'].values\n",
    "y = ret['se'].values\n",
    "plt.style.use('seaborn')\n",
    "plt.scatter(x,y)\n",
    "plt.show()"
   ]
  },
  {
   "cell_type": "markdown",
   "metadata": {},
   "source": [
    "$R_{se} = \\alpha + \\beta R_m + e$"
   ]
  },
  {
   "cell_type": "code",
   "execution_count": 13,
   "metadata": {},
   "outputs": [
    {
     "data": {
      "text/html": [
       "<table class=\"simpletable\">\n",
       "<caption>OLS Regression Results</caption>\n",
       "<tr>\n",
       "  <th>Dep. Variable:</th>           <td>se</td>        <th>  R-squared:         </th> <td>   0.446</td>\n",
       "</tr>\n",
       "<tr>\n",
       "  <th>Model:</th>                   <td>OLS</td>       <th>  Adj. R-squared:    </th> <td>   0.436</td>\n",
       "</tr>\n",
       "<tr>\n",
       "  <th>Method:</th>             <td>Least Squares</td>  <th>  F-statistic:       </th> <td>   45.82</td>\n",
       "</tr>\n",
       "<tr>\n",
       "  <th>Date:</th>             <td>Sat, 04 Dec 2021</td> <th>  Prob (F-statistic):</th> <td>7.70e-09</td>\n",
       "</tr>\n",
       "<tr>\n",
       "  <th>Time:</th>                 <td>02:18:43</td>     <th>  Log-Likelihood:    </th> <td>  171.73</td>\n",
       "</tr>\n",
       "<tr>\n",
       "  <th>No. Observations:</th>      <td>    59</td>      <th>  AIC:               </th> <td>  -339.5</td>\n",
       "</tr>\n",
       "<tr>\n",
       "  <th>Df Residuals:</th>          <td>    57</td>      <th>  BIC:               </th> <td>  -335.3</td>\n",
       "</tr>\n",
       "<tr>\n",
       "  <th>Df Model:</th>              <td>     1</td>      <th>                     </th>     <td> </td>   \n",
       "</tr>\n",
       "<tr>\n",
       "  <th>Covariance Type:</th>      <td>nonrobust</td>    <th>                     </th>     <td> </td>   \n",
       "</tr>\n",
       "</table>\n",
       "<table class=\"simpletable\">\n",
       "<tr>\n",
       "      <td></td>         <th>coef</th>     <th>std err</th>      <th>t</th>      <th>P>|t|</th>  <th>[0.025</th>    <th>0.975]</th>  \n",
       "</tr>\n",
       "<tr>\n",
       "  <th>Intercept</th> <td>    0.0012</td> <td>    0.002</td> <td>    0.688</td> <td> 0.494</td> <td>   -0.002</td> <td>    0.005</td>\n",
       "</tr>\n",
       "<tr>\n",
       "  <th>kospi</th>     <td>    1.4112</td> <td>    0.208</td> <td>    6.769</td> <td> 0.000</td> <td>    0.994</td> <td>    1.829</td>\n",
       "</tr>\n",
       "</table>\n",
       "<table class=\"simpletable\">\n",
       "<tr>\n",
       "  <th>Omnibus:</th>       <td> 6.984</td> <th>  Durbin-Watson:     </th> <td>   1.659</td>\n",
       "</tr>\n",
       "<tr>\n",
       "  <th>Prob(Omnibus):</th> <td> 0.030</td> <th>  Jarque-Bera (JB):  </th> <td>   6.599</td>\n",
       "</tr>\n",
       "<tr>\n",
       "  <th>Skew:</th>          <td> 0.577</td> <th>  Prob(JB):          </th> <td>  0.0369</td>\n",
       "</tr>\n",
       "<tr>\n",
       "  <th>Kurtosis:</th>      <td> 4.163</td> <th>  Cond. No.          </th> <td>    119.</td>\n",
       "</tr>\n",
       "</table><br/><br/>Warnings:<br/>[1] Standard Errors assume that the covariance matrix of the errors is correctly specified."
      ],
      "text/plain": [
       "<class 'statsmodels.iolib.summary.Summary'>\n",
       "\"\"\"\n",
       "                            OLS Regression Results                            \n",
       "==============================================================================\n",
       "Dep. Variable:                     se   R-squared:                       0.446\n",
       "Model:                            OLS   Adj. R-squared:                  0.436\n",
       "Method:                 Least Squares   F-statistic:                     45.82\n",
       "Date:                Sat, 04 Dec 2021   Prob (F-statistic):           7.70e-09\n",
       "Time:                        02:18:43   Log-Likelihood:                 171.73\n",
       "No. Observations:                  59   AIC:                            -339.5\n",
       "Df Residuals:                      57   BIC:                            -335.3\n",
       "Df Model:                           1                                         \n",
       "Covariance Type:            nonrobust                                         \n",
       "==============================================================================\n",
       "                 coef    std err          t      P>|t|      [0.025      0.975]\n",
       "------------------------------------------------------------------------------\n",
       "Intercept      0.0012      0.002      0.688      0.494      -0.002       0.005\n",
       "kospi          1.4112      0.208      6.769      0.000       0.994       1.829\n",
       "==============================================================================\n",
       "Omnibus:                        6.984   Durbin-Watson:                   1.659\n",
       "Prob(Omnibus):                  0.030   Jarque-Bera (JB):                6.599\n",
       "Skew:                           0.577   Prob(JB):                       0.0369\n",
       "Kurtosis:                       4.163   Cond. No.                         119.\n",
       "==============================================================================\n",
       "\n",
       "Warnings:\n",
       "[1] Standard Errors assume that the covariance matrix of the errors is correctly specified.\n",
       "\"\"\""
      ]
     },
     "execution_count": 13,
     "metadata": {},
     "output_type": "execute_result"
    }
   ],
   "source": [
    "retMonthly = ret.asfreq('m', method='bfill')\n",
    "\n",
    "monthly_ols = ols('se~1+kospi', data=retMonthly).fit()\n",
    "monthly_ols.summary()"
   ]
  },
  {
   "cell_type": "code",
   "execution_count": 14,
   "metadata": {},
   "outputs": [],
   "source": [
    "coefs_a = []\n",
    "coefs_b = []\n",
    "tvalues_a = []\n",
    "tvalues_b = []\n",
    "\n",
    "j = 24\n",
    "while j <= len(retMonthly):\n",
    "    data = retMonthly.iloc[j-24:j, :]\n",
    "    coefs = ols('se~1+kospi', data=data).fit().params\n",
    "    coefs_a.append(coefs[0])\n",
    "    coefs_b.append(coefs[1])\n",
    "    tvalues = ols('se~1+kospi', data=data).fit().tvalues\n",
    "    tvalues_a.append(tvalues[0])\n",
    "    tvalues_b.append(tvalues[1])\n",
    "    j += 1"
   ]
  },
  {
   "cell_type": "code",
   "execution_count": 16,
   "metadata": {},
   "outputs": [
    {
     "data": {
      "image/png": "[encoded data removed]",
      "text/plain": [
       "<Figure size 648x360 with 2 Axes>"
      ]
     },
     "metadata": {},
     "output_type": "display_data"
    }
   ],
   "source": [
    "fig, ax = plt.subplots(1,2, figsize=(9,5))\n",
    "\n",
    "ax[0].plot(coefs_a)\n",
    "ax[0].set_title(\"alpha\")\n",
    "ax[1].plot(coefs_b)\n",
    "ax[1].set_title(\"beta\")\n",
    "plt.suptitle(\"AAPL's Monthly Beta\", fontsize=18); #AAPL것으로 다시구해보자 이거 이상하다.."
   ]
  },
  {
   "cell_type": "code",
   "execution_count": null,
   "metadata": {},
   "outputs": [],
   "source": []
  }
 ],
 "metadata": {
  "kernelspec": {
   "display_name": "Python 3",
   "language": "python",
   "name": "python3"
  },
  "language_info": {
   "codemirror_mode": {
    "name": "ipython",
    "version": 3
   },
   "file_extension": ".py",
   "mimetype": "text/x-python",
   "name": "python",
   "nbconvert_exporter": "python",
   "pygments_lexer": "ipython3",
   "version": "3.7.1"
  }
 },
 "nbformat": 4,
 "nbformat_minor": 4
}
