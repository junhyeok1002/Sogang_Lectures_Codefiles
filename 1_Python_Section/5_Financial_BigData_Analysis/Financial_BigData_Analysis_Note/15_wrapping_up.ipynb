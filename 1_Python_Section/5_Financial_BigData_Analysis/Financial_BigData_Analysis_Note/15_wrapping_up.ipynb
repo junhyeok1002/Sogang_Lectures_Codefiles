{
 "cells": [
  {
   "cell_type": "markdown",
   "id": "1633338d-30ce-499e-96e4-8eaa67818f99",
   "metadata": {},
   "source": [
    "## Wrapping up,"
   ]
  },
  {
   "cell_type": "markdown",
   "id": "f7a0974b-b244-48f0-bf54-b1bc8c40b84a",
   "metadata": {},
   "source": [
    "(1)"
   ]
  },
  {
   "cell_type": "markdown",
   "id": "73547f64-ab88-44fe-b1bf-1fdda2a466b7",
   "metadata": {},
   "source": [
    "- Most financial research problems can be expressed as\n",
    "$$ P_{t+1} = E\\left[ P_{t+1} | I_t \\right] + \\epsilon_t$$\n",
    "- We can rewrite this as\n",
    "$$ y_{t+1} = f(X_t) + \\epsilon_t $$\n",
    "\n",
    "    - What functional form ($f$)?\n",
    "        - Linear Regression? Random Forest? SVM?\n",
    "    - What variables ($X$) to predict $y$?\n",
    "        - Market beta? HML? SMB?\n",
    "    - If $X$ can predict $y$, why?\n",
    "        - Maybe risk premium?"
   ]
  },
  {
   "cell_type": "markdown",
   "id": "82b71ad3-ecd8-415b-92ce-25756fefc4c6",
   "metadata": {},
   "source": [
    "- Building a sophisticated financial model is not straightforward.\n",
    "- Financial systems are extremely dynamic and complex, with conditions that quickly change over time. \n",
    "    - Financial cause-effect mechanisms are not invariant, due to changes in regulation, expectations, economic cycles, market regimes and other environmental variables.\n",
    "    - For instance, even if value and momentum factors truly explained the outperformance of stocks in the 20th century, that may no longer be the case as a result of recent technological, behavioral or policy changes.\n",
    "    - Perhaps value and momentum only worked under certain conditions that are no longer present.\n",
    "- Only a deep understanding of financial models can specify in what environment a particular model works and does not work in.\n",
    "    - In this sense, ML/DL models are research tools, not prediction tools."
   ]
  },
  {
   "cell_type": "markdown",
   "id": "c221065f-a4b6-40c4-8be8-bad5858d58d5",
   "metadata": {},
   "source": [
    "(2)\n",
    "\n",
    "- What you need to study to move from beginner to intermediate level.\n",
    "- Typical problem of ML/DL models: Garbage in, Garbage out.\n",
    "\n",
    "<img src=\"data.png\" width=\"600\" height=\"600\">\n",
    "\n",
    "- Is this the best we can do?\n",
    "- Problems with financial datasets - (1): Inefficient sampling\n",
    "    - ML/DL models assume that each observation conveys equal amount of information.\n",
    "    - What about time-based sampling? Does it qualify this assumption?\n",
    "    \n",
    "<img src=\"gme.png\" width=\"600\" height=\"600\">\n",
    "\n",
    "- While information drives asset prices, this information does not arrive to the market at a constant time interval.\n",
    "- Sampling data in chronological intervals means that the information of each observation is far from constant.\n",
    "\n",
    "- Problems with financial datasets - (2): Wrong Labeling\n",
    "    - Almost all ML/DL papers in finance label observations based on the change of price during a constant time interval.\n",
    "    - Time-based sampling do not exhibit good statistical properties.\n",
    "    - Since return series are extremely noisy, this may lead to wrong conclusions. \n",
    "   \n",
    "- Finally,\n",
    "\n",
    "<img src=\"false.png\" width=\"600\" height=\"600\">"
   ]
  },
  {
   "cell_type": "markdown",
   "id": "e247eb37-c27f-483c-9138-6240a8c392ce",
   "metadata": {},
   "source": [
    "(3)"
   ]
  },
  {
   "cell_type": "markdown",
   "id": "44b0ae46-21da-42a5-ab6f-83839085c03a",
   "metadata": {},
   "source": [
    "안녕하세요\n",
    "\n",
    "아래와 같이 서강대학교 경제학과 AIFinLab-winter school 참가자를 모집합니다.\n",
    "\n",
    " \n",
    "\n",
    "1. 지도교수: 경제학과(인공지능대학원) 정재식 교수\n",
    "\n",
    "   - 박석진(박사과정), 류동훈(박사과정), 강지무(석사과정), 문희주(석사과정), 조정효(석사과정), 최환석(석사과정)\n",
    "\n",
    "\n",
    "\n",
    "2. 기간: 2021년 1월 중순 이후 약 4-6주\n",
    "\n",
    "\n",
    "\n",
    "3. 지원자격:\n",
    "\n",
    "   - 서강대학교 재학중인 학생(학부/대학원 포함)\n",
    "\n",
    "   - 머신러닝/딥러닝 기초 개념 (관련 수업 수강 / 코딩 경험)\n",
    "\n",
    "   - Python basic (subclassing 가능)\n",
    "\n",
    "   - 서강대학교 경제학과 AI대학원 지망/인공지능대학원 지원 예정자 우대\n",
    "\n",
    "\n",
    "\n",
    "4. winter school  topic (preliminary)\n",
    "\n",
    "   (1) 금융시장과 거시경제 환경 전략 (최환석)\n",
    "\n",
    "   (2) 금융시장 관련:  information extraction (labeling 관련) (박석진)\n",
    "\n",
    "   (3) 금융시장 관련:  머신러닝/딥러닝을 활용한 포트폴리오 구축 (강지무)\n",
    "\n",
    "   (4) 금융시장 관련:  자본시장의 투자전략과 위험 관리 (조정효)\n",
    "\n",
    "   (5) 금융시장과 자연어: NLP의 기본개념과 금융시장 관련 (기초) (류동훈)\n",
    "\n",
    "   (6) Graph theory: 기본개념과 금융시장 응용 (문희주)\n",
    "\n",
    "   (7) Geometric deep learning  in financial markets(정재식)\n",
    "\n",
    "\n",
    "\n",
    "5. 지원일자\n",
    "\n",
    "   : 2021년 12월 30일 한\n",
    "\n",
    "6. 모집인원: 5-8명\n",
    "\n",
    "\n",
    "\n",
    "7. 운영방법:\n",
    "\n",
    "   (1) 메타버스 (전체 30명 이하)\n",
    "\n",
    "   (2) 줌"
   ]
  },
  {
   "cell_type": "code",
   "execution_count": null,
   "id": "039c6e68-e222-4545-b46b-4c2020ee337e",
   "metadata": {},
   "outputs": [],
   "source": []
  }
 ],
 "metadata": {
  "kernelspec": {
   "display_name": "Python 3",
   "language": "python",
   "name": "python3"
  },
  "language_info": {
   "codemirror_mode": {
    "name": "ipython",
    "version": 3
   },
   "file_extension": ".py",
   "mimetype": "text/x-python",
   "name": "python",
   "nbconvert_exporter": "python",
   "pygments_lexer": "ipython3",
   "version": "3.7.10"
  }
 },
 "nbformat": 4,
 "nbformat_minor": 5
}
