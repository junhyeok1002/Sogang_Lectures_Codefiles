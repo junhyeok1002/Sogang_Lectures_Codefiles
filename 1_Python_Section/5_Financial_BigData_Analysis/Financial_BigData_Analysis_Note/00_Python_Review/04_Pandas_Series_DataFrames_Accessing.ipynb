{
 "cells": [
  {
   "cell_type": "markdown",
   "metadata": {},
   "source": [
    "## Pandas\n",
    "\n",
    "- Just as Numpy provides the basic array data type plus core array operations, pandas defines fundamental structures for working with data an endows them with methods that facilitate operations such as\n",
    "    - reading in data\n",
    "    - adjusting indices\n",
    "    - working with dates and time series\n",
    "    - sorting, grouping, re-ordering and general data cleaning \n",
    "    - dealing with missing values, etc., etc.\n",
    "    - More sophisticated statistical functionality is left to other packages, such as statsmodels and scikit-learn, which are built on top of pandas.\n",
    "\n",
    "- widely used python library for data analyzing and collection \n",
    "- Consists of two main objects : Series, Dataframe\n",
    "- publicly available implemented by Wes McKinney (Author of book titled <Python for Data Analysis: Data Wrangling with Pandas, NumPy, and IPython>)\n",
    "-  Package built on top of Numpy\n",
    "- complement Numpy's a bit inflexibility on the following (example):\n",
    "     - attaching label to data\n",
    "     - missing data handling\n",
    "     - data grouping \n",
    "     - data pivoting\n",
    "- for full documentation [go to pydata](http://pandas.pydata.org/)"
   ]
  },
  {
   "cell_type": "markdown",
   "metadata": {},
   "source": [
    "### 1. Data Structures\n",
    "\n",
    "- pandas provides a set of data structures which include Series, DataFrames. \n",
    "    - pd.Series : one column, index\n",
    "    - DataFrame : multiple columns, index"
   ]
  },
  {
   "cell_type": "markdown",
   "metadata": {},
   "source": [
    "1.1 Series\n",
    "\n",
    "- Series are the primary building block of the data structures in pandas, and in many ways a Series behaves similarly to a Numpy array. \n",
    "- A Series is initialized using a list, tuple, directly from a Numpy array or using a dictionary."
   ]
  },
  {
   "cell_type": "code",
   "execution_count": 1,
   "metadata": {
    "execution": {
     "iopub.execute_input": "2021-09-13T10:03:41.327655Z",
     "iopub.status.busy": "2021-09-13T10:03:41.327655Z",
     "iopub.status.idle": "2021-09-13T10:03:41.337680Z",
     "shell.execute_reply": "2021-09-13T10:03:41.336711Z",
     "shell.execute_reply.started": "2021-09-13T10:03:41.327655Z"
    }
   },
   "outputs": [
    {
     "name": "stdout",
     "output_type": "stream",
     "text": [
      "0    0.1\n",
      "1    1.2\n",
      "2    2.3\n",
      "3    3.4\n",
      "4    4.5\n",
      "dtype: float64\n",
      "<class 'pandas.core.series.Series'>\n"
     ]
    }
   ],
   "source": [
    "import numpy as np\n",
    "import pandas as pd\n",
    "\n",
    "a = np.array([0.1, 1.2, 2.3, 3.4, 4.5])\n",
    "s = pd.Series(a)\n",
    "print(s)\n",
    "print(type(s))"
   ]
  },
  {
   "cell_type": "code",
   "execution_count": 24,
   "metadata": {},
   "outputs": [
    {
     "name": "stdout",
     "output_type": "stream",
     "text": [
      "0    0.1\n",
      "1    1.2\n",
      "2    1.2\n",
      "3    3.4\n",
      "4    4.5\n",
      "dtype: float64\n"
     ]
    }
   ],
   "source": [
    "import numpy as np\n",
    "import pandas as pd\n",
    "\n",
    "a = np.array([0.1,1.2,1.2,3.4,4.5])\n",
    "s = pd.Series(a)\n",
    "print(s)"
   ]
  },
  {
   "cell_type": "markdown",
   "metadata": {},
   "source": [
    "- Series, like arrays, are sliceable. However, unlike a 1-dimensional array, a Series has an additional column – an index – which is a set of values which are associated with the rows of the Series.\n",
    "- The index is an important part of the utility of the pandas’s data structures (Series and DataFrame) and allows for dictionary-like access using values in the index."
   ]
  },
  {
   "cell_type": "code",
   "execution_count": 2,
   "metadata": {
    "execution": {
     "iopub.execute_input": "2021-09-13T10:05:07.241583Z",
     "iopub.status.busy": "2021-09-13T10:05:07.240586Z",
     "iopub.status.idle": "2021-09-13T10:05:07.275976Z",
     "shell.execute_reply": "2021-09-13T10:05:07.275014Z",
     "shell.execute_reply.started": "2021-09-13T10:05:07.241583Z"
    }
   },
   "outputs": [
    {
     "data": {
      "text/plain": [
       "a    0.1\n",
       "b    1.2\n",
       "c    2.3\n",
       "d    3.4\n",
       "e    4.5\n",
       "dtype: float64"
      ]
     },
     "execution_count": 2,
     "metadata": {},
     "output_type": "execute_result"
    }
   ],
   "source": [
    "s = pd.Series([0.1, 1.2, 2.3, 3.4, 4.5], index = ['a','b','c','d','e'])\n",
    "s"
   ]
  },
  {
   "cell_type": "code",
   "execution_count": 31,
   "metadata": {},
   "outputs": [
    {
     "name": "stdout",
     "output_type": "stream",
     "text": [
      "ㄱ    1\n",
      "ㄴ    2\n",
      "ㄷ    3\n",
      "ㄹ    4\n",
      "dtype: int64\n",
      "1\n",
      "ㄷ    3\n",
      "ㄹ    4\n",
      "dtype: int64\n",
      "ㄷ    3\n",
      "dtype: int64\n"
     ]
    }
   ],
   "source": [
    "s = pd.Series([1,2,3,4], index= ['ㄱ','ㄴ','ㄷ','ㄹ'])\n",
    "print(s)\n",
    "print(s['ㄱ'])\n",
    "print(s[s>2])\n",
    "print(s[2:3])"
   ]
  },
  {
   "cell_type": "code",
   "execution_count": 3,
   "metadata": {
    "execution": {
     "iopub.execute_input": "2021-09-13T10:07:28.239202Z",
     "iopub.status.busy": "2021-09-13T10:07:28.239202Z",
     "iopub.status.idle": "2021-09-13T10:07:28.253165Z",
     "shell.execute_reply": "2021-09-13T10:07:28.252167Z",
     "shell.execute_reply.started": "2021-09-13T10:07:28.239202Z"
    }
   },
   "outputs": [
    {
     "name": "stdout",
     "output_type": "stream",
     "text": [
      "0.1\n",
      "0.1\n",
      "a    0.1\n",
      "c    2.3\n",
      "dtype: float64\n",
      "a    0.1\n",
      "c    2.3\n",
      "dtype: float64\n",
      "a    0.1\n",
      "b    1.2\n",
      "dtype: float64\n",
      "c    2.3\n",
      "d    3.4\n",
      "e    4.5\n",
      "dtype: float64\n"
     ]
    }
   ],
   "source": [
    "print(s[0])\n",
    "print(s['a'])\n",
    "print(s[['a','c']])\n",
    "print(s[[0,2]])\n",
    "print(s[:2])\n",
    "print(s[s>2])"
   ]
  },
  {
   "cell_type": "markdown",
   "metadata": {},
   "source": [
    "- In this examples, 'a' and 'c' behave in the same manner as 0 and 2 would in a standard Numpy array.\n",
    "- The elements of an index do not have to be unique which another way in which a Series generalizes a Numpy array."
   ]
  },
  {
   "cell_type": "code",
   "execution_count": 4,
   "metadata": {
    "execution": {
     "iopub.execute_input": "2021-09-13T10:08:30.253794Z",
     "iopub.status.busy": "2021-09-13T10:08:30.252813Z",
     "iopub.status.idle": "2021-09-13T10:08:30.280277Z",
     "shell.execute_reply": "2021-09-13T10:08:30.279280Z",
     "shell.execute_reply.started": "2021-09-13T10:08:30.253794Z"
    }
   },
   "outputs": [
    {
     "data": {
      "text/plain": [
       "a    0.1\n",
       "a    3.4\n",
       "dtype: float64"
      ]
     },
     "execution_count": 4,
     "metadata": {},
     "output_type": "execute_result"
    }
   ],
   "source": [
    "s = pd.Series([0.1, 1.2, 2.3, 3.4, 4.5], index = ['a','b','c','a','b'])\n",
    "s['a']"
   ]
  },
  {
   "cell_type": "markdown",
   "metadata": {
    "execution": {
     "iopub.execute_input": "2021-09-13T10:09:11.254126Z",
     "iopub.status.busy": "2021-09-13T10:09:11.253136Z",
     "iopub.status.idle": "2021-09-13T10:09:11.279076Z",
     "shell.execute_reply": "2021-09-13T10:09:11.277080Z",
     "shell.execute_reply.started": "2021-09-13T10:09:11.254126Z"
    }
   },
   "source": [
    "- Series can also be initialized directly from dictionaries."
   ]
  },
  {
   "cell_type": "code",
   "execution_count": 5,
   "metadata": {
    "execution": {
     "iopub.execute_input": "2021-09-13T10:09:23.278954Z",
     "iopub.status.busy": "2021-09-13T10:09:23.278954Z",
     "iopub.status.idle": "2021-09-13T10:09:23.298426Z",
     "shell.execute_reply": "2021-09-13T10:09:23.298426Z",
     "shell.execute_reply.started": "2021-09-13T10:09:23.278954Z"
    }
   },
   "outputs": [
    {
     "data": {
      "text/plain": [
       "a    0.1\n",
       "b    1.2\n",
       "c    2.3\n",
       "d    3.4\n",
       "e    4.5\n",
       "dtype: float64"
      ]
     },
     "execution_count": 5,
     "metadata": {},
     "output_type": "execute_result"
    }
   ],
   "source": [
    "s = pd.Series({'a':0.1 ,'b': 1.2, 'c': 2.3, 'd':3.4, 'e': 4.5})\n",
    "s"
   ]
  },
  {
   "cell_type": "markdown",
   "metadata": {},
   "source": [
    "- Series are like Numpy arrays in that they support most numerical operations.\n",
    "- However, Series are different from arrays when math operations are performed across two Series. In particular, math operations involving two series operate by aligning indices.\n",
    "- Indices that do not match are given the value NaN (not a number), and values are computed for all unique pairs of repeated indices."
   ]
  },
  {
   "cell_type": "code",
   "execution_count": 6,
   "metadata": {
    "execution": {
     "iopub.execute_input": "2021-09-13T10:10:41.260072Z",
     "iopub.status.busy": "2021-09-13T10:10:41.260072Z",
     "iopub.status.idle": "2021-09-13T10:10:41.303987Z",
     "shell.execute_reply": "2021-09-13T10:10:41.303987Z",
     "shell.execute_reply.started": "2021-09-13T10:10:41.260072Z"
    }
   },
   "outputs": [
    {
     "name": "stdout",
     "output_type": "stream",
     "text": [
      "a    1.1\n",
      "b    3.2\n",
      "c    5.3\n",
      "dtype: float64\n",
      "a    NaN\n",
      "b    NaN\n",
      "c    2.4\n",
      "d    NaN\n",
      "e    NaN\n",
      "dtype: float64\n"
     ]
    }
   ],
   "source": [
    "s1 = pd.Series({'a': 0.1, 'b': 1.2, 'c': 2.3})\n",
    "s2 = pd.Series({'a': 1.0, 'b': 2.0, 'c': 3.0})\n",
    "s3 = pd.Series({'c': 0.1, 'd': 1.2, 'e': 2.3})\n",
    "print(s1+s2)\n",
    "print(s1+s3)"
   ]
  },
  {
   "cell_type": "markdown",
   "metadata": {},
   "source": [
    "- The underlying Numpy array is accessible through the values property, and the index is accessible the index property."
   ]
  },
  {
   "cell_type": "code",
   "execution_count": 7,
   "metadata": {
    "execution": {
     "iopub.execute_input": "2021-09-13T10:12:30.216372Z",
     "iopub.status.busy": "2021-09-13T10:12:30.215406Z",
     "iopub.status.idle": "2021-09-13T10:12:30.244806Z",
     "shell.execute_reply": "2021-09-13T10:12:30.242812Z",
     "shell.execute_reply.started": "2021-09-13T10:12:30.216372Z"
    }
   },
   "outputs": [
    {
     "name": "stdout",
     "output_type": "stream",
     "text": [
      "[0.1 1.2 2.3]\n",
      "Index(['a', 'b', 'c'], dtype='object')\n",
      "c    0.1\n",
      "d    1.2\n",
      "e    2.3\n",
      "dtype: float64\n"
     ]
    }
   ],
   "source": [
    "print(s1.values)\n",
    "print(s1.index)\n",
    "s1.index = ['c','d','e']\n",
    "print(s1)"
   ]
  },
  {
   "cell_type": "markdown",
   "metadata": {},
   "source": [
    "1.1.1 Notable attributes and properties\n",
    "\n",
    "- head and tail"
   ]
  },
  {
   "cell_type": "code",
   "execution_count": 8,
   "metadata": {
    "execution": {
     "iopub.execute_input": "2021-09-13T10:14:39.275540Z",
     "iopub.status.busy": "2021-09-13T10:14:39.274538Z",
     "iopub.status.idle": "2021-09-13T10:14:39.298174Z",
     "shell.execute_reply": "2021-09-13T10:14:39.297175Z",
     "shell.execute_reply.started": "2021-09-13T10:14:39.275540Z"
    }
   },
   "outputs": [
    {
     "name": "stdout",
     "output_type": "stream",
     "text": [
      "0    0\n",
      "1    1\n",
      "2    2\n",
      "3    3\n",
      "4    4\n",
      "dtype: int32\n",
      "195    195\n",
      "196    196\n",
      "197    197\n",
      "198    198\n",
      "199    199\n",
      "dtype: int32\n"
     ]
    }
   ],
   "source": [
    "s = pd.Series(np.arange(200))\n",
    "print(s.head())\n",
    "print(s.tail())"
   ]
  },
  {
   "cell_type": "markdown",
   "metadata": {},
   "source": [
    "- isnull (notnull)"
   ]
  },
  {
   "cell_type": "code",
   "execution_count": 9,
   "metadata": {
    "execution": {
     "iopub.execute_input": "2021-09-13T10:15:43.241978Z",
     "iopub.status.busy": "2021-09-13T10:15:43.241978Z",
     "iopub.status.idle": "2021-09-13T10:15:43.255358Z",
     "shell.execute_reply": "2021-09-13T10:15:43.255358Z",
     "shell.execute_reply.started": "2021-09-13T10:15:43.241978Z"
    }
   },
   "outputs": [
    {
     "name": "stdout",
     "output_type": "stream",
     "text": [
      "a     True\n",
      "b     True\n",
      "c    False\n",
      "d     True\n",
      "e     True\n",
      "dtype: bool\n"
     ]
    }
   ],
   "source": [
    "s1 = pd.Series({'a': 0.1, 'b': 1.2, 'c': 2.3})\n",
    "s3 = pd.Series({'c': 0.1, 'd': 1.2, 'e': 2.3})\n",
    "print((s1+s3).isnull())"
   ]
  },
  {
   "cell_type": "markdown",
   "metadata": {},
   "source": [
    "- describe"
   ]
  },
  {
   "cell_type": "code",
   "execution_count": 10,
   "metadata": {
    "execution": {
     "iopub.execute_input": "2021-09-13T10:36:46.455662Z",
     "iopub.status.busy": "2021-09-13T10:36:46.454665Z",
     "iopub.status.idle": "2021-09-13T10:36:46.471620Z",
     "shell.execute_reply": "2021-09-13T10:36:46.471620Z",
     "shell.execute_reply.started": "2021-09-13T10:36:46.455662Z"
    }
   },
   "outputs": [
    {
     "data": {
      "text/plain": [
       "count    10.00000\n",
       "mean     14.50000\n",
       "std       3.02765\n",
       "min      10.00000\n",
       "25%      12.25000\n",
       "50%      14.50000\n",
       "75%      16.75000\n",
       "max      19.00000\n",
       "dtype: float64"
      ]
     },
     "execution_count": 10,
     "metadata": {},
     "output_type": "execute_result"
    }
   ],
   "source": [
    "s1 = pd.Series(np.arange(10.0,20.0))\n",
    "s1.describe()"
   ]
  },
  {
   "cell_type": "markdown",
   "metadata": {},
   "source": [
    "- dropna"
   ]
  },
  {
   "cell_type": "code",
   "execution_count": 11,
   "metadata": {
    "execution": {
     "iopub.execute_input": "2021-09-13T10:38:50.235884Z",
     "iopub.status.busy": "2021-09-13T10:38:50.235884Z",
     "iopub.status.idle": "2021-09-13T10:38:50.249615Z",
     "shell.execute_reply": "2021-09-13T10:38:50.249615Z",
     "shell.execute_reply.started": "2021-09-13T10:38:50.235884Z"
    }
   },
   "outputs": [
    {
     "name": "stdout",
     "output_type": "stream",
     "text": [
      "a    NaN\n",
      "b    NaN\n",
      "c    2.4\n",
      "d    NaN\n",
      "e    NaN\n",
      "dtype: float64\n",
      "c    2.4\n",
      "dtype: float64\n"
     ]
    }
   ],
   "source": [
    "s1 = pd.Series({'a': 0.1, 'b': 1.2, 'c': 2.3})\n",
    "s3 = pd.Series({'c': 0.1, 'd': 1.2, 'e': 2.3})\n",
    "print(s1+s3)\n",
    "print((s1+s3).dropna())"
   ]
  },
  {
   "cell_type": "markdown",
   "metadata": {},
   "source": [
    "- fillna"
   ]
  },
  {
   "cell_type": "code",
   "execution_count": 12,
   "metadata": {
    "execution": {
     "iopub.execute_input": "2021-09-13T10:39:13.389121Z",
     "iopub.status.busy": "2021-09-13T10:39:13.389121Z",
     "iopub.status.idle": "2021-09-13T10:39:13.404658Z",
     "shell.execute_reply": "2021-09-13T10:39:13.404658Z",
     "shell.execute_reply.started": "2021-09-13T10:39:13.389121Z"
    }
   },
   "outputs": [
    {
     "name": "stdout",
     "output_type": "stream",
     "text": [
      "a    0.0\n",
      "b    0.0\n",
      "c    2.4\n",
      "d    0.0\n",
      "e    0.0\n",
      "dtype: float64\n"
     ]
    }
   ],
   "source": [
    "print((s1+s3).fillna(0.))"
   ]
  },
  {
   "cell_type": "markdown",
   "metadata": {},
   "source": [
    "1.2 DataFrame\n",
    "\n",
    "- While the Series class is the building block of data structures in pandas, the DataFrame is the work-horse.\n",
    "- DataFrames collect multiple series in the same way that a spreadsheet collects multiple columns of data.\n",
    "- A number of methods are available to initialize a DataFrame. The simplest method uses a homogeneous Numpy array.\n",
    "- Like a Series, a DataFrame contains the input data as well as row labels. However, since a DataFrame is a collection of columns, it also contains column labels (located along the top edge). "
   ]
  },
  {
   "cell_type": "code",
   "execution_count": 13,
   "metadata": {
    "execution": {
     "iopub.execute_input": "2021-09-13T10:41:44.348945Z",
     "iopub.status.busy": "2021-09-13T10:41:44.348945Z",
     "iopub.status.idle": "2021-09-13T10:41:44.372297Z",
     "shell.execute_reply": "2021-09-13T10:41:44.371299Z",
     "shell.execute_reply.started": "2021-09-13T10:41:44.348945Z"
    }
   },
   "outputs": [
    {
     "data": {
      "text/html": [
       "<div>\n",
       "<style scoped>\n",
       "    .dataframe tbody tr th:only-of-type {\n",
       "        vertical-align: middle;\n",
       "    }\n",
       "\n",
       "    .dataframe tbody tr th {\n",
       "        vertical-align: top;\n",
       "    }\n",
       "\n",
       "    .dataframe thead th {\n",
       "        text-align: right;\n",
       "    }\n",
       "</style>\n",
       "<table border=\"1\" class=\"dataframe\">\n",
       "  <thead>\n",
       "    <tr style=\"text-align: right;\">\n",
       "      <th></th>\n",
       "      <th>a</th>\n",
       "      <th>b</th>\n",
       "    </tr>\n",
       "  </thead>\n",
       "  <tbody>\n",
       "    <tr>\n",
       "      <th>0</th>\n",
       "      <td>1</td>\n",
       "      <td>2</td>\n",
       "    </tr>\n",
       "    <tr>\n",
       "      <th>1</th>\n",
       "      <td>3</td>\n",
       "      <td>4</td>\n",
       "    </tr>\n",
       "  </tbody>\n",
       "</table>\n",
       "</div>"
      ],
      "text/plain": [
       "   a  b\n",
       "0  1  2\n",
       "1  3  4"
      ]
     },
     "execution_count": 13,
     "metadata": {},
     "output_type": "execute_result"
    }
   ],
   "source": [
    "df = pd.DataFrame(np.array([[1,2],[3,4]]),columns=['a','b'])\n",
    "df"
   ]
  },
  {
   "cell_type": "code",
   "execution_count": 41,
   "metadata": {},
   "outputs": [
    {
     "name": "stdout",
     "output_type": "stream",
     "text": [
      "    ads  asd  sdf\n",
      "as    1    2    3\n",
      "ds    3    4    5\n"
     ]
    }
   ],
   "source": [
    "a = pd.DataFrame(np.array([[1,2,3],[3,4,5]]), columns = ['ads','asd','sdf'],index = ['as','ds'])\n",
    "print(a)"
   ]
  },
  {
   "cell_type": "code",
   "execution_count": 14,
   "metadata": {
    "execution": {
     "iopub.execute_input": "2021-09-13T10:42:24.552864Z",
     "iopub.status.busy": "2021-09-13T10:42:24.551867Z",
     "iopub.status.idle": "2021-09-13T10:42:24.562555Z",
     "shell.execute_reply": "2021-09-13T10:42:24.562555Z",
     "shell.execute_reply.started": "2021-09-13T10:42:24.552864Z"
    }
   },
   "outputs": [
    {
     "data": {
      "text/html": [
       "<div>\n",
       "<style scoped>\n",
       "    .dataframe tbody tr th:only-of-type {\n",
       "        vertical-align: middle;\n",
       "    }\n",
       "\n",
       "    .dataframe tbody tr th {\n",
       "        vertical-align: top;\n",
       "    }\n",
       "\n",
       "    .dataframe thead th {\n",
       "        text-align: right;\n",
       "    }\n",
       "</style>\n",
       "<table border=\"1\" class=\"dataframe\">\n",
       "  <thead>\n",
       "    <tr style=\"text-align: right;\">\n",
       "      <th></th>\n",
       "      <th>dogs</th>\n",
       "      <th>cats</th>\n",
       "    </tr>\n",
       "  </thead>\n",
       "  <tbody>\n",
       "    <tr>\n",
       "      <th>bones</th>\n",
       "      <td>1</td>\n",
       "      <td>2</td>\n",
       "    </tr>\n",
       "    <tr>\n",
       "      <th>milk</th>\n",
       "      <td>3</td>\n",
       "      <td>4</td>\n",
       "    </tr>\n",
       "  </tbody>\n",
       "</table>\n",
       "</div>"
      ],
      "text/plain": [
       "       dogs  cats\n",
       "bones     1     2\n",
       "milk      3     4"
      ]
     },
     "execution_count": 14,
     "metadata": {},
     "output_type": "execute_result"
    }
   ],
   "source": [
    "df.columns = ['dogs','cats']\n",
    "df.index = ['bones', 'milk']\n",
    "df"
   ]
  },
  {
   "cell_type": "markdown",
   "metadata": {},
   "source": [
    "1.2.1 Manipulating DataFrames\n",
    "\n",
    "- The use of DataFrames will be demonstrated using a data set containing a mix of data types using state-level GDP data from the US.\n",
    "- The data is loaded directly into a DataFrame using read_excel, which will be described later."
   ]
  },
  {
   "cell_type": "code",
   "execution_count": 15,
   "metadata": {
    "execution": {
     "iopub.execute_input": "2021-09-13T10:47:51.409959Z",
     "iopub.status.busy": "2021-09-13T10:47:51.408961Z",
     "iopub.status.idle": "2021-09-13T10:47:51.439804Z",
     "shell.execute_reply": "2021-09-13T10:47:51.439804Z",
     "shell.execute_reply.started": "2021-09-13T10:47:51.409959Z"
    }
   },
   "outputs": [
    {
     "data": {
      "text/html": [
       "<div>\n",
       "<style scoped>\n",
       "    .dataframe tbody tr th:only-of-type {\n",
       "        vertical-align: middle;\n",
       "    }\n",
       "\n",
       "    .dataframe tbody tr th {\n",
       "        vertical-align: top;\n",
       "    }\n",
       "\n",
       "    .dataframe thead th {\n",
       "        text-align: right;\n",
       "    }\n",
       "</style>\n",
       "<table border=\"1\" class=\"dataframe\">\n",
       "  <thead>\n",
       "    <tr style=\"text-align: right;\">\n",
       "      <th></th>\n",
       "      <th>state_code</th>\n",
       "      <th>state</th>\n",
       "      <th>gdp_2009</th>\n",
       "      <th>gdp_2010</th>\n",
       "      <th>gdp_2011</th>\n",
       "      <th>gdp_2012</th>\n",
       "      <th>gdp_growth_2009</th>\n",
       "      <th>gdp_growth_2010</th>\n",
       "      <th>gdp_growth_2011</th>\n",
       "      <th>gdp_growth_2012</th>\n",
       "      <th>region</th>\n",
       "    </tr>\n",
       "  </thead>\n",
       "  <tbody>\n",
       "    <tr>\n",
       "      <th>0</th>\n",
       "      <td>AK</td>\n",
       "      <td>Alaska</td>\n",
       "      <td>44215</td>\n",
       "      <td>43472</td>\n",
       "      <td>44232</td>\n",
       "      <td>44732</td>\n",
       "      <td>7.7</td>\n",
       "      <td>-1.7</td>\n",
       "      <td>1.7</td>\n",
       "      <td>1.1</td>\n",
       "      <td>FW</td>\n",
       "    </tr>\n",
       "    <tr>\n",
       "      <th>1</th>\n",
       "      <td>AL</td>\n",
       "      <td>Alabama</td>\n",
       "      <td>149843</td>\n",
       "      <td>153839</td>\n",
       "      <td>155390</td>\n",
       "      <td>157272</td>\n",
       "      <td>-3.9</td>\n",
       "      <td>2.7</td>\n",
       "      <td>1.0</td>\n",
       "      <td>1.2</td>\n",
       "      <td>SE</td>\n",
       "    </tr>\n",
       "    <tr>\n",
       "      <th>2</th>\n",
       "      <td>AR</td>\n",
       "      <td>Arkansas</td>\n",
       "      <td>89776</td>\n",
       "      <td>92075</td>\n",
       "      <td>92684</td>\n",
       "      <td>93892</td>\n",
       "      <td>-2.0</td>\n",
       "      <td>2.6</td>\n",
       "      <td>0.7</td>\n",
       "      <td>1.3</td>\n",
       "      <td>SE</td>\n",
       "    </tr>\n",
       "    <tr>\n",
       "      <th>3</th>\n",
       "      <td>AZ</td>\n",
       "      <td>Arizona</td>\n",
       "      <td>221405</td>\n",
       "      <td>221016</td>\n",
       "      <td>224787</td>\n",
       "      <td>230641</td>\n",
       "      <td>-8.2</td>\n",
       "      <td>-0.2</td>\n",
       "      <td>1.7</td>\n",
       "      <td>2.6</td>\n",
       "      <td>SW</td>\n",
       "    </tr>\n",
       "    <tr>\n",
       "      <th>4</th>\n",
       "      <td>CA</td>\n",
       "      <td>California</td>\n",
       "      <td>1667152</td>\n",
       "      <td>1672473</td>\n",
       "      <td>1692301</td>\n",
       "      <td>1751002</td>\n",
       "      <td>-5.1</td>\n",
       "      <td>0.3</td>\n",
       "      <td>1.2</td>\n",
       "      <td>3.5</td>\n",
       "      <td>FW</td>\n",
       "    </tr>\n",
       "  </tbody>\n",
       "</table>\n",
       "</div>"
      ],
      "text/plain": [
       "  state_code       state  gdp_2009  gdp_2010  gdp_2011  gdp_2012  \\\n",
       "0         AK      Alaska     44215     43472     44232     44732   \n",
       "1         AL     Alabama    149843    153839    155390    157272   \n",
       "2         AR    Arkansas     89776     92075     92684     93892   \n",
       "3         AZ     Arizona    221405    221016    224787    230641   \n",
       "4         CA  California   1667152   1672473   1692301   1751002   \n",
       "\n",
       "   gdp_growth_2009  gdp_growth_2010  gdp_growth_2011  gdp_growth_2012 region  \n",
       "0              7.7             -1.7              1.7              1.1     FW  \n",
       "1             -3.9              2.7              1.0              1.2     SE  \n",
       "2             -2.0              2.6              0.7              1.3     SE  \n",
       "3             -8.2             -0.2              1.7              2.6     SW  \n",
       "4             -5.1              0.3              1.2              3.5     FW  "
      ]
     },
     "execution_count": 15,
     "metadata": {},
     "output_type": "execute_result"
    }
   ],
   "source": [
    "state_gdp = pd.read_excel('data/US_state_GDP.xls','Sheet1')\n",
    "state_gdp.head()"
   ]
  },
  {
   "cell_type": "code",
   "execution_count": 35,
   "metadata": {},
   "outputs": [
    {
     "name": "stdout",
     "output_type": "stream",
     "text": [
      "<class 'pandas.core.frame.DataFrame'>\n"
     ]
    }
   ],
   "source": [
    "a = pd.read_excel('data/US_state_GDP.xls','Sheet1')\n",
    "print(type(a))"
   ]
  },
  {
   "cell_type": "code",
   "execution_count": null,
   "metadata": {},
   "outputs": [],
   "source": []
  },
  {
   "cell_type": "markdown",
   "metadata": {},
   "source": [
    "- Selecting Columns\n",
    "    - Single columns are selectable using the column name, as in state_gdp['state'], and the value returned in a Series.\n",
    "    - Multiple columns are similarly selected using a list of column names as in state_gdp[['state_code', 'state']] or equivalently using an Index object."
   ]
  },
  {
   "cell_type": "code",
   "execution_count": 16,
   "metadata": {
    "execution": {
     "iopub.execute_input": "2021-09-13T10:48:58.257522Z",
     "iopub.status.busy": "2021-09-13T10:48:58.256546Z",
     "iopub.status.idle": "2021-09-13T10:48:58.269582Z",
     "shell.execute_reply": "2021-09-13T10:48:58.268586Z",
     "shell.execute_reply.started": "2021-09-13T10:48:58.257522Z"
    }
   },
   "outputs": [
    {
     "data": {
      "text/plain": [
       "0    AK\n",
       "1    AL\n",
       "2    AR\n",
       "3    AZ\n",
       "4    CA\n",
       "Name: state_code, dtype: object"
      ]
     },
     "execution_count": 16,
     "metadata": {},
     "output_type": "execute_result"
    }
   ],
   "source": [
    "state_gdp['state_code'].head() # Series로 열선택"
   ]
  },
  {
   "cell_type": "code",
   "execution_count": 17,
   "metadata": {
    "execution": {
     "iopub.execute_input": "2021-09-13T10:49:22.265656Z",
     "iopub.status.busy": "2021-09-13T10:49:22.264659Z",
     "iopub.status.idle": "2021-09-13T10:49:22.290615Z",
     "shell.execute_reply": "2021-09-13T10:49:22.289621Z",
     "shell.execute_reply.started": "2021-09-13T10:49:22.265656Z"
    }
   },
   "outputs": [
    {
     "data": {
      "text/html": [
       "<div>\n",
       "<style scoped>\n",
       "    .dataframe tbody tr th:only-of-type {\n",
       "        vertical-align: middle;\n",
       "    }\n",
       "\n",
       "    .dataframe tbody tr th {\n",
       "        vertical-align: top;\n",
       "    }\n",
       "\n",
       "    .dataframe thead th {\n",
       "        text-align: right;\n",
       "    }\n",
       "</style>\n",
       "<table border=\"1\" class=\"dataframe\">\n",
       "  <thead>\n",
       "    <tr style=\"text-align: right;\">\n",
       "      <th></th>\n",
       "      <th>state_code</th>\n",
       "    </tr>\n",
       "  </thead>\n",
       "  <tbody>\n",
       "    <tr>\n",
       "      <th>0</th>\n",
       "      <td>AK</td>\n",
       "    </tr>\n",
       "    <tr>\n",
       "      <th>1</th>\n",
       "      <td>AL</td>\n",
       "    </tr>\n",
       "    <tr>\n",
       "      <th>2</th>\n",
       "      <td>AR</td>\n",
       "    </tr>\n",
       "    <tr>\n",
       "      <th>3</th>\n",
       "      <td>AZ</td>\n",
       "    </tr>\n",
       "    <tr>\n",
       "      <th>4</th>\n",
       "      <td>CA</td>\n",
       "    </tr>\n",
       "  </tbody>\n",
       "</table>\n",
       "</div>"
      ],
      "text/plain": [
       "  state_code\n",
       "0         AK\n",
       "1         AL\n",
       "2         AR\n",
       "3         AZ\n",
       "4         CA"
      ]
     },
     "execution_count": 17,
     "metadata": {},
     "output_type": "execute_result"
    }
   ],
   "source": [
    "state_gdp[['state_code']].head() # DataFrame으로 열선택"
   ]
  },
  {
   "cell_type": "code",
   "execution_count": 18,
   "metadata": {
    "execution": {
     "iopub.execute_input": "2021-09-13T10:49:31.252479Z",
     "iopub.status.busy": "2021-09-13T10:49:31.252479Z",
     "iopub.status.idle": "2021-09-13T10:49:31.278409Z",
     "shell.execute_reply": "2021-09-13T10:49:31.277411Z",
     "shell.execute_reply.started": "2021-09-13T10:49:31.252479Z"
    }
   },
   "outputs": [
    {
     "data": {
      "text/html": [
       "<div>\n",
       "<style scoped>\n",
       "    .dataframe tbody tr th:only-of-type {\n",
       "        vertical-align: middle;\n",
       "    }\n",
       "\n",
       "    .dataframe tbody tr th {\n",
       "        vertical-align: top;\n",
       "    }\n",
       "\n",
       "    .dataframe thead th {\n",
       "        text-align: right;\n",
       "    }\n",
       "</style>\n",
       "<table border=\"1\" class=\"dataframe\">\n",
       "  <thead>\n",
       "    <tr style=\"text-align: right;\">\n",
       "      <th></th>\n",
       "      <th>state_code</th>\n",
       "      <th>state</th>\n",
       "    </tr>\n",
       "  </thead>\n",
       "  <tbody>\n",
       "    <tr>\n",
       "      <th>0</th>\n",
       "      <td>AK</td>\n",
       "      <td>Alaska</td>\n",
       "    </tr>\n",
       "    <tr>\n",
       "      <th>1</th>\n",
       "      <td>AL</td>\n",
       "      <td>Alabama</td>\n",
       "    </tr>\n",
       "    <tr>\n",
       "      <th>2</th>\n",
       "      <td>AR</td>\n",
       "      <td>Arkansas</td>\n",
       "    </tr>\n",
       "    <tr>\n",
       "      <th>3</th>\n",
       "      <td>AZ</td>\n",
       "      <td>Arizona</td>\n",
       "    </tr>\n",
       "    <tr>\n",
       "      <th>4</th>\n",
       "      <td>CA</td>\n",
       "      <td>California</td>\n",
       "    </tr>\n",
       "  </tbody>\n",
       "</table>\n",
       "</div>"
      ],
      "text/plain": [
       "  state_code       state\n",
       "0         AK      Alaska\n",
       "1         AL     Alabama\n",
       "2         AR    Arkansas\n",
       "3         AZ     Arizona\n",
       "4         CA  California"
      ]
     },
     "execution_count": 18,
     "metadata": {},
     "output_type": "execute_result"
    }
   ],
   "source": [
    "state_gdp[['state_code','state']].head()"
   ]
  },
  {
   "cell_type": "code",
   "execution_count": 19,
   "metadata": {
    "execution": {
     "iopub.execute_input": "2021-09-13T10:49:56.392454Z",
     "iopub.status.busy": "2021-09-13T10:49:56.391457Z",
     "iopub.status.idle": "2021-09-13T10:49:56.405420Z",
     "shell.execute_reply": "2021-09-13T10:49:56.405420Z",
     "shell.execute_reply.started": "2021-09-13T10:49:56.392454Z"
    }
   },
   "outputs": [
    {
     "name": "stdout",
     "output_type": "stream",
     "text": [
      "Index(['state', 'gdp_2009'], dtype='object')\n"
     ]
    },
    {
     "data": {
      "text/html": [
       "<div>\n",
       "<style scoped>\n",
       "    .dataframe tbody tr th:only-of-type {\n",
       "        vertical-align: middle;\n",
       "    }\n",
       "\n",
       "    .dataframe tbody tr th {\n",
       "        vertical-align: top;\n",
       "    }\n",
       "\n",
       "    .dataframe thead th {\n",
       "        text-align: right;\n",
       "    }\n",
       "</style>\n",
       "<table border=\"1\" class=\"dataframe\">\n",
       "  <thead>\n",
       "    <tr style=\"text-align: right;\">\n",
       "      <th></th>\n",
       "      <th>state</th>\n",
       "      <th>gdp_2009</th>\n",
       "    </tr>\n",
       "  </thead>\n",
       "  <tbody>\n",
       "    <tr>\n",
       "      <th>0</th>\n",
       "      <td>Alaska</td>\n",
       "      <td>44215</td>\n",
       "    </tr>\n",
       "    <tr>\n",
       "      <th>1</th>\n",
       "      <td>Alabama</td>\n",
       "      <td>149843</td>\n",
       "    </tr>\n",
       "    <tr>\n",
       "      <th>2</th>\n",
       "      <td>Arkansas</td>\n",
       "      <td>89776</td>\n",
       "    </tr>\n",
       "    <tr>\n",
       "      <th>3</th>\n",
       "      <td>Arizona</td>\n",
       "      <td>221405</td>\n",
       "    </tr>\n",
       "    <tr>\n",
       "      <th>4</th>\n",
       "      <td>California</td>\n",
       "      <td>1667152</td>\n",
       "    </tr>\n",
       "  </tbody>\n",
       "</table>\n",
       "</div>"
      ],
      "text/plain": [
       "        state  gdp_2009\n",
       "0      Alaska     44215\n",
       "1     Alabama    149843\n",
       "2    Arkansas     89776\n",
       "3     Arizona    221405\n",
       "4  California   1667152"
      ]
     },
     "execution_count": 19,
     "metadata": {},
     "output_type": "execute_result"
    }
   ],
   "source": [
    "cols = state_gdp.columns\n",
    "print(cols[1:3])\n",
    "state_gdp[cols[1:3]].head()"
   ]
  },
  {
   "cell_type": "markdown",
   "metadata": {},
   "source": [
    "- Selecting rows\n",
    "    - Rows can be selected using standard numerical slices.\n",
    "    - A function version is also available using iloc[rows] which is identical to the standard slicing syntax.\n",
    "    - Labeled rows can also be selected using the method loc[label] or loc[list of labels] to elect multiple rows using their label.\n",
    "    - Rows can also be selected using logical selection using a Boolean array with the same number of elements as the number of rows as the DataFrame."
   ]
  },
  {
   "cell_type": "code",
   "execution_count": 20,
   "metadata": {
    "execution": {
     "iopub.execute_input": "2021-09-13T10:52:04.365320Z",
     "iopub.status.busy": "2021-09-13T10:52:04.365320Z",
     "iopub.status.idle": "2021-09-13T10:52:04.382687Z",
     "shell.execute_reply": "2021-09-13T10:52:04.382687Z",
     "shell.execute_reply.started": "2021-09-13T10:52:04.365320Z"
    }
   },
   "outputs": [
    {
     "data": {
      "text/html": [
       "<div>\n",
       "<style scoped>\n",
       "    .dataframe tbody tr th:only-of-type {\n",
       "        vertical-align: middle;\n",
       "    }\n",
       "\n",
       "    .dataframe tbody tr th {\n",
       "        vertical-align: top;\n",
       "    }\n",
       "\n",
       "    .dataframe thead th {\n",
       "        text-align: right;\n",
       "    }\n",
       "</style>\n",
       "<table border=\"1\" class=\"dataframe\">\n",
       "  <thead>\n",
       "    <tr style=\"text-align: right;\">\n",
       "      <th></th>\n",
       "      <th>state_code</th>\n",
       "      <th>state</th>\n",
       "      <th>gdp_2009</th>\n",
       "      <th>gdp_2010</th>\n",
       "      <th>gdp_2011</th>\n",
       "      <th>gdp_2012</th>\n",
       "      <th>gdp_growth_2009</th>\n",
       "      <th>gdp_growth_2010</th>\n",
       "      <th>gdp_growth_2011</th>\n",
       "      <th>gdp_growth_2012</th>\n",
       "      <th>region</th>\n",
       "    </tr>\n",
       "  </thead>\n",
       "  <tbody>\n",
       "    <tr>\n",
       "      <th>1</th>\n",
       "      <td>AL</td>\n",
       "      <td>Alabama</td>\n",
       "      <td>149843</td>\n",
       "      <td>153839</td>\n",
       "      <td>155390</td>\n",
       "      <td>157272</td>\n",
       "      <td>-3.9</td>\n",
       "      <td>2.7</td>\n",
       "      <td>1.0</td>\n",
       "      <td>1.2</td>\n",
       "      <td>SE</td>\n",
       "    </tr>\n",
       "    <tr>\n",
       "      <th>2</th>\n",
       "      <td>AR</td>\n",
       "      <td>Arkansas</td>\n",
       "      <td>89776</td>\n",
       "      <td>92075</td>\n",
       "      <td>92684</td>\n",
       "      <td>93892</td>\n",
       "      <td>-2.0</td>\n",
       "      <td>2.6</td>\n",
       "      <td>0.7</td>\n",
       "      <td>1.3</td>\n",
       "      <td>SE</td>\n",
       "    </tr>\n",
       "  </tbody>\n",
       "</table>\n",
       "</div>"
      ],
      "text/plain": [
       "  state_code     state  gdp_2009  gdp_2010  gdp_2011  gdp_2012  \\\n",
       "1         AL   Alabama    149843    153839    155390    157272   \n",
       "2         AR  Arkansas     89776     92075     92684     93892   \n",
       "\n",
       "   gdp_growth_2009  gdp_growth_2010  gdp_growth_2011  gdp_growth_2012 region  \n",
       "1             -3.9              2.7              1.0              1.2     SE  \n",
       "2             -2.0              2.6              0.7              1.3     SE  "
      ]
     },
     "execution_count": 20,
     "metadata": {},
     "output_type": "execute_result"
    }
   ],
   "source": [
    "state_gdp[1:3]"
   ]
  },
  {
   "cell_type": "code",
   "execution_count": 21,
   "metadata": {
    "execution": {
     "iopub.execute_input": "2021-09-13T10:52:05.244986Z",
     "iopub.status.busy": "2021-09-13T10:52:05.244076Z",
     "iopub.status.idle": "2021-09-13T10:52:05.288799Z",
     "shell.execute_reply": "2021-09-13T10:52:05.287801Z",
     "shell.execute_reply.started": "2021-09-13T10:52:05.244986Z"
    }
   },
   "outputs": [
    {
     "data": {
      "text/html": [
       "<div>\n",
       "<style scoped>\n",
       "    .dataframe tbody tr th:only-of-type {\n",
       "        vertical-align: middle;\n",
       "    }\n",
       "\n",
       "    .dataframe tbody tr th {\n",
       "        vertical-align: top;\n",
       "    }\n",
       "\n",
       "    .dataframe thead th {\n",
       "        text-align: right;\n",
       "    }\n",
       "</style>\n",
       "<table border=\"1\" class=\"dataframe\">\n",
       "  <thead>\n",
       "    <tr style=\"text-align: right;\">\n",
       "      <th></th>\n",
       "      <th>state_code</th>\n",
       "      <th>state</th>\n",
       "      <th>gdp_2009</th>\n",
       "      <th>gdp_2010</th>\n",
       "      <th>gdp_2011</th>\n",
       "      <th>gdp_2012</th>\n",
       "      <th>gdp_growth_2009</th>\n",
       "      <th>gdp_growth_2010</th>\n",
       "      <th>gdp_growth_2011</th>\n",
       "      <th>gdp_growth_2012</th>\n",
       "      <th>region</th>\n",
       "    </tr>\n",
       "  </thead>\n",
       "  <tbody>\n",
       "    <tr>\n",
       "      <th>1</th>\n",
       "      <td>AL</td>\n",
       "      <td>Alabama</td>\n",
       "      <td>149843</td>\n",
       "      <td>153839</td>\n",
       "      <td>155390</td>\n",
       "      <td>157272</td>\n",
       "      <td>-3.9</td>\n",
       "      <td>2.7</td>\n",
       "      <td>1.0</td>\n",
       "      <td>1.2</td>\n",
       "      <td>SE</td>\n",
       "    </tr>\n",
       "    <tr>\n",
       "      <th>2</th>\n",
       "      <td>AR</td>\n",
       "      <td>Arkansas</td>\n",
       "      <td>89776</td>\n",
       "      <td>92075</td>\n",
       "      <td>92684</td>\n",
       "      <td>93892</td>\n",
       "      <td>-2.0</td>\n",
       "      <td>2.6</td>\n",
       "      <td>0.7</td>\n",
       "      <td>1.3</td>\n",
       "      <td>SE</td>\n",
       "    </tr>\n",
       "  </tbody>\n",
       "</table>\n",
       "</div>"
      ],
      "text/plain": [
       "  state_code     state  gdp_2009  gdp_2010  gdp_2011  gdp_2012  \\\n",
       "1         AL   Alabama    149843    153839    155390    157272   \n",
       "2         AR  Arkansas     89776     92075     92684     93892   \n",
       "\n",
       "   gdp_growth_2009  gdp_growth_2010  gdp_growth_2011  gdp_growth_2012 region  \n",
       "1             -3.9              2.7              1.0              1.2     SE  \n",
       "2             -2.0              2.6              0.7              1.3     SE  "
      ]
     },
     "execution_count": 21,
     "metadata": {},
     "output_type": "execute_result"
    }
   ],
   "source": [
    "state_gdp.iloc[1:3]"
   ]
  },
  {
   "cell_type": "code",
   "execution_count": 22,
   "metadata": {
    "execution": {
     "iopub.execute_input": "2021-09-13T10:52:27.227549Z",
     "iopub.status.busy": "2021-09-13T10:52:27.227549Z",
     "iopub.status.idle": "2021-09-13T10:52:27.241512Z",
     "shell.execute_reply": "2021-09-13T10:52:27.241512Z",
     "shell.execute_reply.started": "2021-09-13T10:52:27.227549Z"
    }
   },
   "outputs": [
    {
     "data": {
      "text/html": [
       "<div>\n",
       "<style scoped>\n",
       "    .dataframe tbody tr th:only-of-type {\n",
       "        vertical-align: middle;\n",
       "    }\n",
       "\n",
       "    .dataframe tbody tr th {\n",
       "        vertical-align: top;\n",
       "    }\n",
       "\n",
       "    .dataframe thead th {\n",
       "        text-align: right;\n",
       "    }\n",
       "</style>\n",
       "<table border=\"1\" class=\"dataframe\">\n",
       "  <thead>\n",
       "    <tr style=\"text-align: right;\">\n",
       "      <th></th>\n",
       "      <th>state_code</th>\n",
       "      <th>state</th>\n",
       "      <th>gdp_2009</th>\n",
       "      <th>gdp_2010</th>\n",
       "      <th>gdp_2011</th>\n",
       "      <th>gdp_2012</th>\n",
       "      <th>gdp_growth_2009</th>\n",
       "      <th>gdp_growth_2010</th>\n",
       "      <th>gdp_growth_2011</th>\n",
       "      <th>gdp_growth_2012</th>\n",
       "      <th>region</th>\n",
       "    </tr>\n",
       "  </thead>\n",
       "  <tbody>\n",
       "    <tr>\n",
       "      <th>0</th>\n",
       "      <td>AK</td>\n",
       "      <td>Alaska</td>\n",
       "      <td>44215</td>\n",
       "      <td>43472</td>\n",
       "      <td>44232</td>\n",
       "      <td>44732</td>\n",
       "      <td>7.7</td>\n",
       "      <td>-1.7</td>\n",
       "      <td>1.7</td>\n",
       "      <td>1.1</td>\n",
       "      <td>FW</td>\n",
       "    </tr>\n",
       "    <tr>\n",
       "      <th>3</th>\n",
       "      <td>AZ</td>\n",
       "      <td>Arizona</td>\n",
       "      <td>221405</td>\n",
       "      <td>221016</td>\n",
       "      <td>224787</td>\n",
       "      <td>230641</td>\n",
       "      <td>-8.2</td>\n",
       "      <td>-0.2</td>\n",
       "      <td>1.7</td>\n",
       "      <td>2.6</td>\n",
       "      <td>SW</td>\n",
       "    </tr>\n",
       "    <tr>\n",
       "      <th>33</th>\n",
       "      <td>NV</td>\n",
       "      <td>Nevada</td>\n",
       "      <td>110001</td>\n",
       "      <td>109610</td>\n",
       "      <td>111574</td>\n",
       "      <td>113197</td>\n",
       "      <td>-8.2</td>\n",
       "      <td>-0.4</td>\n",
       "      <td>1.8</td>\n",
       "      <td>1.5</td>\n",
       "      <td>FW</td>\n",
       "    </tr>\n",
       "    <tr>\n",
       "      <th>50</th>\n",
       "      <td>WY</td>\n",
       "      <td>Wyoming</td>\n",
       "      <td>32439</td>\n",
       "      <td>32004</td>\n",
       "      <td>31231</td>\n",
       "      <td>31302</td>\n",
       "      <td>3.4</td>\n",
       "      <td>-1.3</td>\n",
       "      <td>-2.4</td>\n",
       "      <td>0.2</td>\n",
       "      <td>RM</td>\n",
       "    </tr>\n",
       "  </tbody>\n",
       "</table>\n",
       "</div>"
      ],
      "text/plain": [
       "   state_code    state  gdp_2009  gdp_2010  gdp_2011  gdp_2012  \\\n",
       "0          AK   Alaska     44215     43472     44232     44732   \n",
       "3          AZ  Arizona    221405    221016    224787    230641   \n",
       "33         NV   Nevada    110001    109610    111574    113197   \n",
       "50         WY  Wyoming     32439     32004     31231     31302   \n",
       "\n",
       "    gdp_growth_2009  gdp_growth_2010  gdp_growth_2011  gdp_growth_2012 region  \n",
       "0               7.7             -1.7              1.7              1.1     FW  \n",
       "3              -8.2             -0.2              1.7              2.6     SW  \n",
       "33             -8.2             -0.4              1.8              1.5     FW  \n",
       "50              3.4             -1.3             -2.4              0.2     RM  "
      ]
     },
     "execution_count": 22,
     "metadata": {},
     "output_type": "execute_result"
    }
   ],
   "source": [
    "state_long_recession = state_gdp['gdp_growth_2010']<0\n",
    "state_gdp[state_long_recession]"
   ]
  },
  {
   "cell_type": "markdown",
   "metadata": {},
   "source": [
    "- Selecting Rows and Columns"
   ]
  },
  {
   "cell_type": "code",
   "execution_count": 23,
   "metadata": {
    "execution": {
     "iopub.execute_input": "2021-09-13T10:54:22.258431Z",
     "iopub.status.busy": "2021-09-13T10:54:22.258431Z",
     "iopub.status.idle": "2021-09-13T10:54:22.299960Z",
     "shell.execute_reply": "2021-09-13T10:54:22.298962Z",
     "shell.execute_reply.started": "2021-09-13T10:54:22.258431Z"
    }
   },
   "outputs": [
    {
     "ename": "TypeError",
     "evalue": "unhashable type: 'slice'",
     "output_type": "error",
     "traceback": [
      "\u001b[1;31m---------------------------------------------------------------------------\u001b[0m",
      "\u001b[1;31mTypeError\u001b[0m                                 Traceback (most recent call last)",
      "\u001b[1;32m<ipython-input-23-2671aa9c99a0>\u001b[0m in \u001b[0;36m<module>\u001b[1;34m\u001b[0m\n\u001b[1;32m----> 1\u001b[1;33m \u001b[0mstate_gdp\u001b[0m\u001b[1;33m[\u001b[0m\u001b[1;36m1\u001b[0m\u001b[1;33m:\u001b[0m\u001b[1;36m3\u001b[0m\u001b[1;33m,\u001b[0m \u001b[1;36m4\u001b[0m\u001b[1;33m:\u001b[0m\u001b[1;36m5\u001b[0m\u001b[1;33m]\u001b[0m\u001b[1;33m\u001b[0m\u001b[1;33m\u001b[0m\u001b[0m\n\u001b[0m",
      "\u001b[1;32mC:\\ProgramData\\Anaconda3\\lib\\site-packages\\pandas\\core\\frame.py\u001b[0m in \u001b[0;36m__getitem__\u001b[1;34m(self, key)\u001b[0m\n\u001b[0;32m   2686\u001b[0m             \u001b[1;32mreturn\u001b[0m \u001b[0mself\u001b[0m\u001b[1;33m.\u001b[0m\u001b[0m_getitem_multilevel\u001b[0m\u001b[1;33m(\u001b[0m\u001b[0mkey\u001b[0m\u001b[1;33m)\u001b[0m\u001b[1;33m\u001b[0m\u001b[1;33m\u001b[0m\u001b[0m\n\u001b[0;32m   2687\u001b[0m         \u001b[1;32melse\u001b[0m\u001b[1;33m:\u001b[0m\u001b[1;33m\u001b[0m\u001b[1;33m\u001b[0m\u001b[0m\n\u001b[1;32m-> 2688\u001b[1;33m             \u001b[1;32mreturn\u001b[0m \u001b[0mself\u001b[0m\u001b[1;33m.\u001b[0m\u001b[0m_getitem_column\u001b[0m\u001b[1;33m(\u001b[0m\u001b[0mkey\u001b[0m\u001b[1;33m)\u001b[0m\u001b[1;33m\u001b[0m\u001b[1;33m\u001b[0m\u001b[0m\n\u001b[0m\u001b[0;32m   2689\u001b[0m \u001b[1;33m\u001b[0m\u001b[0m\n\u001b[0;32m   2690\u001b[0m     \u001b[1;32mdef\u001b[0m \u001b[0m_getitem_column\u001b[0m\u001b[1;33m(\u001b[0m\u001b[0mself\u001b[0m\u001b[1;33m,\u001b[0m \u001b[0mkey\u001b[0m\u001b[1;33m)\u001b[0m\u001b[1;33m:\u001b[0m\u001b[1;33m\u001b[0m\u001b[1;33m\u001b[0m\u001b[0m\n",
      "\u001b[1;32mC:\\ProgramData\\Anaconda3\\lib\\site-packages\\pandas\\core\\frame.py\u001b[0m in \u001b[0;36m_getitem_column\u001b[1;34m(self, key)\u001b[0m\n\u001b[0;32m   2693\u001b[0m         \u001b[1;31m# get column\u001b[0m\u001b[1;33m\u001b[0m\u001b[1;33m\u001b[0m\u001b[1;33m\u001b[0m\u001b[0m\n\u001b[0;32m   2694\u001b[0m         \u001b[1;32mif\u001b[0m \u001b[0mself\u001b[0m\u001b[1;33m.\u001b[0m\u001b[0mcolumns\u001b[0m\u001b[1;33m.\u001b[0m\u001b[0mis_unique\u001b[0m\u001b[1;33m:\u001b[0m\u001b[1;33m\u001b[0m\u001b[1;33m\u001b[0m\u001b[0m\n\u001b[1;32m-> 2695\u001b[1;33m             \u001b[1;32mreturn\u001b[0m \u001b[0mself\u001b[0m\u001b[1;33m.\u001b[0m\u001b[0m_get_item_cache\u001b[0m\u001b[1;33m(\u001b[0m\u001b[0mkey\u001b[0m\u001b[1;33m)\u001b[0m\u001b[1;33m\u001b[0m\u001b[1;33m\u001b[0m\u001b[0m\n\u001b[0m\u001b[0;32m   2696\u001b[0m \u001b[1;33m\u001b[0m\u001b[0m\n\u001b[0;32m   2697\u001b[0m         \u001b[1;31m# duplicate columns & possible reduce dimensionality\u001b[0m\u001b[1;33m\u001b[0m\u001b[1;33m\u001b[0m\u001b[1;33m\u001b[0m\u001b[0m\n",
      "\u001b[1;32mC:\\ProgramData\\Anaconda3\\lib\\site-packages\\pandas\\core\\generic.py\u001b[0m in \u001b[0;36m_get_item_cache\u001b[1;34m(self, item)\u001b[0m\n\u001b[0;32m   2485\u001b[0m         \u001b[1;34m\"\"\"Return the cached item, item represents a label indexer.\"\"\"\u001b[0m\u001b[1;33m\u001b[0m\u001b[1;33m\u001b[0m\u001b[0m\n\u001b[0;32m   2486\u001b[0m         \u001b[0mcache\u001b[0m \u001b[1;33m=\u001b[0m \u001b[0mself\u001b[0m\u001b[1;33m.\u001b[0m\u001b[0m_item_cache\u001b[0m\u001b[1;33m\u001b[0m\u001b[1;33m\u001b[0m\u001b[0m\n\u001b[1;32m-> 2487\u001b[1;33m         \u001b[0mres\u001b[0m \u001b[1;33m=\u001b[0m \u001b[0mcache\u001b[0m\u001b[1;33m.\u001b[0m\u001b[0mget\u001b[0m\u001b[1;33m(\u001b[0m\u001b[0mitem\u001b[0m\u001b[1;33m)\u001b[0m\u001b[1;33m\u001b[0m\u001b[1;33m\u001b[0m\u001b[0m\n\u001b[0m\u001b[0;32m   2488\u001b[0m         \u001b[1;32mif\u001b[0m \u001b[0mres\u001b[0m \u001b[1;32mis\u001b[0m \u001b[1;32mNone\u001b[0m\u001b[1;33m:\u001b[0m\u001b[1;33m\u001b[0m\u001b[1;33m\u001b[0m\u001b[0m\n\u001b[0;32m   2489\u001b[0m             \u001b[0mvalues\u001b[0m \u001b[1;33m=\u001b[0m \u001b[0mself\u001b[0m\u001b[1;33m.\u001b[0m\u001b[0m_data\u001b[0m\u001b[1;33m.\u001b[0m\u001b[0mget\u001b[0m\u001b[1;33m(\u001b[0m\u001b[0mitem\u001b[0m\u001b[1;33m)\u001b[0m\u001b[1;33m\u001b[0m\u001b[1;33m\u001b[0m\u001b[0m\n",
      "\u001b[1;31mTypeError\u001b[0m: unhashable type: 'slice'"
     ]
    }
   ],
   "source": [
    "state_gdp[1:3, 4:5]"
   ]
  },
  {
   "cell_type": "code",
   "execution_count": null,
   "metadata": {
    "execution": {
     "iopub.execute_input": "2021-09-13T10:54:42.266604Z",
     "iopub.status.busy": "2021-09-13T10:54:42.266604Z",
     "iopub.status.idle": "2021-09-13T10:54:42.291598Z",
     "shell.execute_reply": "2021-09-13T10:54:42.290601Z",
     "shell.execute_reply.started": "2021-09-13T10:54:42.266604Z"
    }
   },
   "outputs": [],
   "source": [
    "state_gdp.iloc[1:3, 4:5]"
   ]
  },
  {
   "cell_type": "code",
   "execution_count": null,
   "metadata": {
    "execution": {
     "iopub.execute_input": "2021-09-13T10:54:50.275571Z",
     "iopub.status.busy": "2021-09-13T10:54:50.274574Z",
     "iopub.status.idle": "2021-09-13T10:54:50.296492Z",
     "shell.execute_reply": "2021-09-13T10:54:50.294556Z",
     "shell.execute_reply.started": "2021-09-13T10:54:50.275571Z"
    }
   },
   "outputs": [],
   "source": [
    "state_gdp.loc[state_long_recession,'state']"
   ]
  },
  {
   "cell_type": "code",
   "execution_count": null,
   "metadata": {
    "execution": {
     "iopub.execute_input": "2021-09-13T10:55:02.241156Z",
     "iopub.status.busy": "2021-09-13T10:55:02.240164Z",
     "iopub.status.idle": "2021-09-13T10:55:02.267692Z",
     "shell.execute_reply": "2021-09-13T10:55:02.265727Z",
     "shell.execute_reply.started": "2021-09-13T10:55:02.241156Z"
    }
   },
   "outputs": [],
   "source": [
    "state_gdp.loc[state_long_recession, ['state','gdp_growth_2009','gdp_growth_2010']]"
   ]
  },
  {
   "cell_type": "code",
   "execution_count": null,
   "metadata": {
    "execution": {
     "iopub.execute_input": "2021-09-13T10:55:10.259765Z",
     "iopub.status.busy": "2021-09-13T10:55:10.259765Z",
     "iopub.status.idle": "2021-09-13T10:55:10.272703Z",
     "shell.execute_reply": "2021-09-13T10:55:10.271705Z",
     "shell.execute_reply.started": "2021-09-13T10:55:10.259765Z"
    }
   },
   "outputs": [],
   "source": [
    "state_gdp.iloc[10:15,0] # Slice and scalar"
   ]
  },
  {
   "cell_type": "code",
   "execution_count": null,
   "metadata": {
    "execution": {
     "iopub.execute_input": "2021-09-13T10:55:18.251380Z",
     "iopub.status.busy": "2021-09-13T10:55:18.250360Z",
     "iopub.status.idle": "2021-09-13T10:55:18.276808Z",
     "shell.execute_reply": "2021-09-13T10:55:18.275811Z",
     "shell.execute_reply.started": "2021-09-13T10:55:18.251380Z"
    }
   },
   "outputs": [],
   "source": [
    "state_gdp.iloc[10:15,:2] # Slice and slice"
   ]
  },
  {
   "cell_type": "markdown",
   "metadata": {},
   "source": [
    "- Adding and deleting columnns\n",
    "    - Columns are added using a dictionary-like syntax (must be pd.Series).\n",
    "    - Columns can be deleted using the del keyword, using pop(column), or by colling drop()"
   ]
  },
  {
   "cell_type": "code",
   "execution_count": null,
   "metadata": {
    "execution": {
     "iopub.execute_input": "2021-09-13T11:00:09.252639Z",
     "iopub.status.busy": "2021-09-13T11:00:09.251616Z",
     "iopub.status.idle": "2021-09-13T11:00:09.294445Z",
     "shell.execute_reply": "2021-09-13T11:00:09.292451Z",
     "shell.execute_reply.started": "2021-09-13T11:00:09.251616Z"
    }
   },
   "outputs": [],
   "source": [
    "columns = ['state_code','gdp_growth_2011','gdp_growth_2012']\n",
    "\n",
    "state_gdp_copy = state_gdp.copy()\n",
    "state_gdp_copy = state_gdp_copy[columns]\n",
    "state_gdp_dropped = state_gdp_copy.drop(['state_code','gdp_growth_2011'], axis=1)\n",
    "state_gdp_dropped.head()"
   ]
  },
  {
   "cell_type": "markdown",
   "metadata": {},
   "source": [
    "1.2.2 Notable Properties and Methods"
   ]
  },
  {
   "cell_type": "markdown",
   "metadata": {},
   "source": [
    "- values and index\n",
    "- fillna\n",
    "- sort, sort_index"
   ]
  },
  {
   "cell_type": "code",
   "execution_count": null,
   "metadata": {
    "execution": {
     "iopub.execute_input": "2021-09-13T11:02:45.253422Z",
     "iopub.status.busy": "2021-09-13T11:02:45.253422Z",
     "iopub.status.idle": "2021-09-13T11:02:45.268351Z",
     "shell.execute_reply": "2021-09-13T11:02:45.268351Z",
     "shell.execute_reply.started": "2021-09-13T11:02:45.253422Z"
    }
   },
   "outputs": [],
   "source": [
    "df = pd.DataFrame(np.array([[1, 3],[1, 2],[3, 2],[2,1]]), columns=['one','two'])\n",
    "df"
   ]
  },
  {
   "cell_type": "code",
   "execution_count": null,
   "metadata": {
    "execution": {
     "iopub.execute_input": "2021-09-13T11:02:46.252272Z",
     "iopub.status.busy": "2021-09-13T11:02:46.252272Z",
     "iopub.status.idle": "2021-09-13T11:02:46.266235Z",
     "shell.execute_reply": "2021-09-13T11:02:46.266235Z",
     "shell.execute_reply.started": "2021-09-13T11:02:46.252272Z"
    }
   },
   "outputs": [],
   "source": [
    "df.sort_values(by='one')"
   ]
  },
  {
   "cell_type": "code",
   "execution_count": null,
   "metadata": {
    "execution": {
     "iopub.execute_input": "2021-09-13T11:02:46.267232Z",
     "iopub.status.busy": "2021-09-13T11:02:46.267232Z",
     "iopub.status.idle": "2021-09-13T11:02:46.281646Z",
     "shell.execute_reply": "2021-09-13T11:02:46.281646Z",
     "shell.execute_reply.started": "2021-09-13T11:02:46.267232Z"
    }
   },
   "outputs": [],
   "source": [
    "df.sort_values(by=['one','two'])"
   ]
  },
  {
   "cell_type": "code",
   "execution_count": null,
   "metadata": {
    "execution": {
     "iopub.execute_input": "2021-09-13T11:03:07.255164Z",
     "iopub.status.busy": "2021-09-13T11:03:07.254168Z",
     "iopub.status.idle": "2021-09-13T11:03:07.281249Z",
     "shell.execute_reply": "2021-09-13T11:03:07.280252Z",
     "shell.execute_reply.started": "2021-09-13T11:03:07.255164Z"
    }
   },
   "outputs": [],
   "source": [
    "df.sort_values(by=['one','two'], ascending=[0,1])"
   ]
  },
  {
   "cell_type": "markdown",
   "metadata": {},
   "source": [
    "- concat and append"
   ]
  },
  {
   "cell_type": "code",
   "execution_count": null,
   "metadata": {
    "execution": {
     "iopub.execute_input": "2021-09-13T11:04:04.428410Z",
     "iopub.status.busy": "2021-09-13T11:04:04.428410Z",
     "iopub.status.idle": "2021-09-13T11:04:04.443253Z",
     "shell.execute_reply": "2021-09-13T11:04:04.443253Z",
     "shell.execute_reply.started": "2021-09-13T11:04:04.428410Z"
    }
   },
   "outputs": [],
   "source": [
    "df1 = pd.DataFrame([1,2,3],index=['a','b','c'],columns=['one'])\n",
    "df2 = pd.DataFrame([4,5,6],index=['c','d','e'],columns=['two'])\n",
    "pd.concat((df1,df2), axis=1)"
   ]
  },
  {
   "cell_type": "code",
   "execution_count": null,
   "metadata": {
    "execution": {
     "iopub.execute_input": "2021-09-13T11:04:19.244114Z",
     "iopub.status.busy": "2021-09-13T11:04:19.243314Z",
     "iopub.status.idle": "2021-09-13T11:04:19.258100Z",
     "shell.execute_reply": "2021-09-13T11:04:19.258100Z",
     "shell.execute_reply.started": "2021-09-13T11:04:19.243314Z"
    }
   },
   "outputs": [],
   "source": [
    "pd.concat((df1,df2), axis=1, join='inner')"
   ]
  },
  {
   "cell_type": "markdown",
   "metadata": {},
   "source": [
    "- plot"
   ]
  },
  {
   "cell_type": "code",
   "execution_count": null,
   "metadata": {
    "execution": {
     "iopub.execute_input": "2021-09-13T11:06:11.798649Z",
     "iopub.status.busy": "2021-09-13T11:06:11.798649Z",
     "iopub.status.idle": "2021-09-13T11:06:11.995255Z",
     "shell.execute_reply": "2021-09-13T11:06:11.995255Z",
     "shell.execute_reply.started": "2021-09-13T11:06:11.798649Z"
    }
   },
   "outputs": [],
   "source": [
    "columns = ['gdp_growth_2011','gdp_growth_2012']\n",
    "\n",
    "state_gdp[columns].plot()"
   ]
  },
  {
   "cell_type": "code",
   "execution_count": null,
   "metadata": {
    "execution": {
     "iopub.execute_input": "2021-09-13T11:07:06.828184Z",
     "iopub.status.busy": "2021-09-13T11:07:06.828184Z",
     "iopub.status.idle": "2021-09-13T11:07:06.931624Z",
     "shell.execute_reply": "2021-09-13T11:07:06.931624Z",
     "shell.execute_reply.started": "2021-09-13T11:07:06.828184Z"
    }
   },
   "outputs": [],
   "source": [
    "state_gdp['gdp_2010'].plot()"
   ]
  }
 ],
 "metadata": {
  "kernelspec": {
   "display_name": "Python 3",
   "language": "python",
   "name": "python3"
  },
  "language_info": {
   "codemirror_mode": {
    "name": "ipython",
    "version": 3
   },
   "file_extension": ".py",
   "mimetype": "text/x-python",
   "name": "python",
   "nbconvert_exporter": "python",
   "pygments_lexer": "ipython3",
   "version": "3.7.1"
  }
 },
 "nbformat": 4,
 "nbformat_minor": 4
}
