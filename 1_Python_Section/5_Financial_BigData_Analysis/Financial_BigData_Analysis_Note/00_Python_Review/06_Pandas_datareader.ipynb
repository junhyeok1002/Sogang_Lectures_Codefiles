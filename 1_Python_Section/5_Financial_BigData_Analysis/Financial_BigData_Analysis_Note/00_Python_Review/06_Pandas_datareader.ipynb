{
 "cells": [
  {
   "cell_type": "markdown",
   "metadata": {},
   "source": [
    "### [Pandas datareader](https://pandas-datareader.readthedocs.io/en/latest/remote_data.html)\n",
    "\n",
    "- We can extract data from internet sources into a dataframe.\n",
    "- To list some sources\n",
    "    - World Bank\n",
    "    - OECD\n",
    "    - Eurostat\n",
    "    - Quandl\n",
    "    - St.Louis FED (FRED)\n",
    "    - Naver Finance (!)\n",
    "    \n",
    "- data.DataReader(\"symbol\", \"source\", \"start\", \"end\")"
   ]
  },
  {
   "cell_type": "markdown",
   "metadata": {},
   "source": [
    "(Example 1) Navor Finance"
   ]
  },
  {
   "cell_type": "code",
   "execution_count": 1,
   "metadata": {},
   "outputs": [
    {
     "data": {
      "text/html": [
       "<div>\n",
       "<style scoped>\n",
       "    .dataframe tbody tr th:only-of-type {\n",
       "        vertical-align: middle;\n",
       "    }\n",
       "\n",
       "    .dataframe tbody tr th {\n",
       "        vertical-align: top;\n",
       "    }\n",
       "\n",
       "    .dataframe thead th {\n",
       "        text-align: right;\n",
       "    }\n",
       "</style>\n",
       "<table border=\"1\" class=\"dataframe\">\n",
       "  <thead>\n",
       "    <tr style=\"text-align: right;\">\n",
       "      <th></th>\n",
       "      <th>Open</th>\n",
       "      <th>High</th>\n",
       "      <th>Low</th>\n",
       "      <th>Close</th>\n",
       "      <th>Volume</th>\n",
       "    </tr>\n",
       "    <tr>\n",
       "      <th>Date</th>\n",
       "      <th></th>\n",
       "      <th></th>\n",
       "      <th></th>\n",
       "      <th></th>\n",
       "      <th></th>\n",
       "    </tr>\n",
       "  </thead>\n",
       "  <tbody>\n",
       "    <tr>\n",
       "      <th>2019-04-01</th>\n",
       "      <td>2725</td>\n",
       "      <td>2850</td>\n",
       "      <td>2710</td>\n",
       "      <td>2820</td>\n",
       "      <td>4557184</td>\n",
       "    </tr>\n",
       "    <tr>\n",
       "      <th>2019-04-02</th>\n",
       "      <td>2825</td>\n",
       "      <td>2875</td>\n",
       "      <td>2780</td>\n",
       "      <td>2790</td>\n",
       "      <td>3038538</td>\n",
       "    </tr>\n",
       "    <tr>\n",
       "      <th>2019-04-03</th>\n",
       "      <td>2810</td>\n",
       "      <td>2855</td>\n",
       "      <td>2775</td>\n",
       "      <td>2780</td>\n",
       "      <td>2309030</td>\n",
       "    </tr>\n",
       "    <tr>\n",
       "      <th>2019-04-04</th>\n",
       "      <td>2870</td>\n",
       "      <td>3610</td>\n",
       "      <td>2845</td>\n",
       "      <td>3610</td>\n",
       "      <td>59578697</td>\n",
       "    </tr>\n",
       "    <tr>\n",
       "      <th>2019-04-05</th>\n",
       "      <td>3640</td>\n",
       "      <td>4420</td>\n",
       "      <td>3550</td>\n",
       "      <td>3955</td>\n",
       "      <td>83374834</td>\n",
       "    </tr>\n",
       "  </tbody>\n",
       "</table>\n",
       "</div>"
      ],
      "text/plain": [
       "            Open  High   Low  Close    Volume\n",
       "Date                                         \n",
       "2019-04-01  2725  2850  2710   2820   4557184\n",
       "2019-04-02  2825  2875  2780   2790   3038538\n",
       "2019-04-03  2810  2855  2775   2780   2309030\n",
       "2019-04-04  2870  3610  2845   3610  59578697\n",
       "2019-04-05  3640  4420  3550   3955  83374834"
      ]
     },
     "execution_count": 1,
     "metadata": {},
     "output_type": "execute_result"
    }
   ],
   "source": [
    "# pandas_datareader는 pandas의 설치여부와 상관없이 따로 설치해야함\n",
    "import pandas_datareader.data as web\n",
    "\n",
    "df = web.DataReader('007460', 'naver', start='2019-04-01', end='2020-09-01')\n",
    "for col in df.columns : df[col] = df[col].apply(int)\n",
    "df.head()"
   ]
  },
  {
   "cell_type": "code",
   "execution_count": 4,
   "metadata": {},
   "outputs": [
    {
     "data": {
      "text/plain": [
       "<matplotlib.axes._subplots.AxesSubplot at 0x23b1e8654a8>"
      ]
     },
     "execution_count": 4,
     "metadata": {},
     "output_type": "execute_result"
    },
    {
     "data": {
      "image/png": "[encoded data removed]",
      "text/plain": [
       "<Figure size 432x288 with 1 Axes>"
      ]
     },
     "metadata": {
      "needs_background": "light"
     },
     "output_type": "display_data"
    }
   ],
   "source": [
    "df.Close.plot()"
   ]
  },
  {
   "cell_type": "code",
   "execution_count": 9,
   "metadata": {},
   "outputs": [
    {
     "data": {
      "text/html": [
       "<div>\n",
       "<style scoped>\n",
       "    .dataframe tbody tr th:only-of-type {\n",
       "        vertical-align: middle;\n",
       "    }\n",
       "\n",
       "    .dataframe tbody tr th {\n",
       "        vertical-align: top;\n",
       "    }\n",
       "\n",
       "    .dataframe thead th {\n",
       "        text-align: right;\n",
       "    }\n",
       "</style>\n",
       "<table border=\"1\" class=\"dataframe\">\n",
       "  <thead>\n",
       "    <tr style=\"text-align: right;\">\n",
       "      <th></th>\n",
       "      <th>High</th>\n",
       "      <th>Low</th>\n",
       "      <th>Open</th>\n",
       "      <th>Close</th>\n",
       "      <th>Volume</th>\n",
       "      <th>Adj Close</th>\n",
       "    </tr>\n",
       "    <tr>\n",
       "      <th>Date</th>\n",
       "      <th></th>\n",
       "      <th></th>\n",
       "      <th></th>\n",
       "      <th></th>\n",
       "      <th></th>\n",
       "      <th></th>\n",
       "    </tr>\n",
       "  </thead>\n",
       "  <tbody>\n",
       "    <tr>\n",
       "      <th>2010-06-29</th>\n",
       "      <td>5.000</td>\n",
       "      <td>3.508</td>\n",
       "      <td>3.800</td>\n",
       "      <td>4.778</td>\n",
       "      <td>93831500.0</td>\n",
       "      <td>4.778</td>\n",
       "    </tr>\n",
       "    <tr>\n",
       "      <th>2010-06-30</th>\n",
       "      <td>6.084</td>\n",
       "      <td>4.660</td>\n",
       "      <td>5.158</td>\n",
       "      <td>4.766</td>\n",
       "      <td>85935500.0</td>\n",
       "      <td>4.766</td>\n",
       "    </tr>\n",
       "    <tr>\n",
       "      <th>2010-07-01</th>\n",
       "      <td>5.184</td>\n",
       "      <td>4.054</td>\n",
       "      <td>5.000</td>\n",
       "      <td>4.392</td>\n",
       "      <td>41094000.0</td>\n",
       "      <td>4.392</td>\n",
       "    </tr>\n",
       "    <tr>\n",
       "      <th>2010-07-02</th>\n",
       "      <td>4.620</td>\n",
       "      <td>3.742</td>\n",
       "      <td>4.600</td>\n",
       "      <td>3.840</td>\n",
       "      <td>25699000.0</td>\n",
       "      <td>3.840</td>\n",
       "    </tr>\n",
       "    <tr>\n",
       "      <th>2010-07-06</th>\n",
       "      <td>4.000</td>\n",
       "      <td>3.166</td>\n",
       "      <td>4.000</td>\n",
       "      <td>3.222</td>\n",
       "      <td>34334500.0</td>\n",
       "      <td>3.222</td>\n",
       "    </tr>\n",
       "  </tbody>\n",
       "</table>\n",
       "</div>"
      ],
      "text/plain": [
       "             High    Low   Open  Close      Volume  Adj Close\n",
       "Date                                                         \n",
       "2010-06-29  5.000  3.508  3.800  4.778  93831500.0      4.778\n",
       "2010-06-30  6.084  4.660  5.158  4.766  85935500.0      4.766\n",
       "2010-07-01  5.184  4.054  5.000  4.392  41094000.0      4.392\n",
       "2010-07-02  4.620  3.742  4.600  3.840  25699000.0      3.840\n",
       "2010-07-06  4.000  3.166  4.000  3.222  34334500.0      3.222"
      ]
     },
     "execution_count": 9,
     "metadata": {},
     "output_type": "execute_result"
    }
   ],
   "source": [
    "import pandas_datareader as pdr\n",
    "import matplotlib.pyplot as plt\n",
    "%matplotlib inline\n",
    "\n",
    "data = pdr.DataReader(\"TSLA\",'yahoo', start='2010-01-01')\n",
    "data.head()"
   ]
  },
  {
   "cell_type": "code",
   "execution_count": null,
   "metadata": {},
   "outputs": [],
   "source": []
  }
 ],
 "metadata": {
  "kernelspec": {
   "display_name": "Python 3",
   "language": "python",
   "name": "python3"
  },
  "language_info": {
   "codemirror_mode": {
    "name": "ipython",
    "version": 3
   },
   "file_extension": ".py",
   "mimetype": "text/x-python",
   "name": "python",
   "nbconvert_exporter": "python",
   "pygments_lexer": "ipython3",
   "version": "3.7.1"
  }
 },
 "nbformat": 4,
 "nbformat_minor": 4
}
