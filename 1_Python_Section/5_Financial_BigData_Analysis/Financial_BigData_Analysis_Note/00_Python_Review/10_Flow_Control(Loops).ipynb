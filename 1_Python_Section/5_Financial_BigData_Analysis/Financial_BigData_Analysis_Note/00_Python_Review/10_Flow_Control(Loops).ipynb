{
 "cells": [
  {
   "cell_type": "markdown",
   "metadata": {},
   "source": [
    "## 1. Logical Operators\n",
    "\n",
    "- Logical operators, when combined with flow control, allow for complex choices to be compactly expressed.\n",
    "\n",
    "### 1.1 >, >=, <, <=, ==, !=\n",
    "\n",
    "- The core logical operators are\n",
    "\n",
    "<img src=\"./img/9.png\" width=\"600\" height=\"600\">\n",
    "\n",
    "- Logical operators can be used on scalars, arrays and matrices. \n",
    "- All comparisons are done element-by-element.\n",
    "- Return either True or False (Boolean)."
   ]
  },
  {
   "cell_type": "code",
   "execution_count": 1,
   "metadata": {
    "execution": {
     "iopub.execute_input": "2021-09-07T09:54:56.024111Z",
     "iopub.status.busy": "2021-09-07T09:54:56.024111Z",
     "iopub.status.idle": "2021-09-07T09:54:56.037077Z",
     "shell.execute_reply": "2021-09-07T09:54:56.036079Z",
     "shell.execute_reply.started": "2021-09-07T09:54:56.024111Z"
    }
   },
   "outputs": [
    {
     "name": "stdout",
     "output_type": "stream",
     "text": [
      "True\n",
      "False\n",
      "True\n",
      "[ True  True  True  True  True]\n",
      "[[False  True]\n",
      " [False False]]\n"
     ]
    }
   ],
   "source": [
    "import numpy as np\n",
    "\n",
    "print(1.0 < 5.0)\n",
    "print(1.0 == 5.0)\n",
    "print(1.0 != 5.0)\n",
    "\n",
    "x =  np.arange(5)\n",
    "print(x<5)\n",
    "x = np.array([[1,2], [-3,-4]])\n",
    "y = np.array([1,-1])\n",
    "print(x>y)"
   ]
  },
  {
   "cell_type": "markdown",
   "metadata": {},
   "source": [
    "### 1.2 and, or, not and xor\n",
    "\n",
    "- Logical expressions can be combined using four logical devices,\n",
    "\n",
    "<img src=\"./img/10.png\" width=\"600\" height=\"600\">\n",
    "\n",
    "- The keyword version (e.g. and) can only be used with scalars.\n",
    "- Both the function and bitwise operators can be used with Numpy arrays."
   ]
  },
  {
   "cell_type": "code",
   "execution_count": 2,
   "metadata": {
    "execution": {
     "iopub.execute_input": "2021-09-07T10:00:56.056500Z",
     "iopub.status.busy": "2021-09-07T10:00:56.056500Z",
     "iopub.status.idle": "2021-09-07T10:00:56.074428Z",
     "shell.execute_reply": "2021-09-07T10:00:56.074428Z",
     "shell.execute_reply.started": "2021-09-07T10:00:56.056500Z"
    }
   },
   "outputs": [
    {
     "name": "stdout",
     "output_type": "stream",
     "text": [
      "False\n",
      "False\n",
      "-1\n"
     ]
    }
   ],
   "source": [
    "print((1>2) and (3>4))\n",
    "print((1>2) or (3>4))\n",
    "print(~((1>2) and (3>4)))"
   ]
  },
  {
   "cell_type": "code",
   "execution_count": 3,
   "metadata": {
    "execution": {
     "iopub.execute_input": "2021-09-07T10:00:01.044688Z",
     "iopub.status.busy": "2021-09-07T10:00:01.043691Z",
     "iopub.status.idle": "2021-09-07T10:00:01.148794Z",
     "shell.execute_reply": "2021-09-07T10:00:01.147799Z",
     "shell.execute_reply.started": "2021-09-07T10:00:01.044688Z"
    }
   },
   "outputs": [
    {
     "ename": "ValueError",
     "evalue": "The truth value of an array with more than one element is ambiguous. Use a.any() or a.all()",
     "output_type": "error",
     "traceback": [
      "\u001b[1;31m---------------------------------------------------------------------------\u001b[0m",
      "\u001b[1;31mValueError\u001b[0m                                Traceback (most recent call last)",
      "\u001b[1;32m<ipython-input-3-9d4e8dafc805>\u001b[0m in \u001b[0;36m<module>\u001b[1;34m\u001b[0m\n\u001b[0;32m      1\u001b[0m \u001b[0mx\u001b[0m \u001b[1;33m=\u001b[0m \u001b[0mnp\u001b[0m\u001b[1;33m.\u001b[0m\u001b[0marange\u001b[0m\u001b[1;33m(\u001b[0m\u001b[1;33m-\u001b[0m\u001b[1;36m2\u001b[0m\u001b[1;33m,\u001b[0m\u001b[1;36m4\u001b[0m\u001b[1;33m)\u001b[0m\u001b[1;33m\u001b[0m\u001b[1;33m\u001b[0m\u001b[0m\n\u001b[1;32m----> 2\u001b[1;33m \u001b[1;33m(\u001b[0m\u001b[0mx\u001b[0m\u001b[1;33m>\u001b[0m\u001b[1;36m0\u001b[0m\u001b[1;33m)\u001b[0m \u001b[1;32mand\u001b[0m \u001b[1;33m(\u001b[0m\u001b[0mx\u001b[0m\u001b[1;33m<\u001b[0m\u001b[1;36m2\u001b[0m\u001b[1;33m)\u001b[0m\u001b[1;33m\u001b[0m\u001b[1;33m\u001b[0m\u001b[0m\n\u001b[0m",
      "\u001b[1;31mValueError\u001b[0m: The truth value of an array with more than one element is ambiguous. Use a.any() or a.all()"
     ]
    }
   ],
   "source": [
    "x = np.arange(-2,4)\n",
    "(x>0) and (x<2)"
   ]
  },
  {
   "cell_type": "code",
   "execution_count": 4,
   "metadata": {
    "execution": {
     "iopub.execute_input": "2021-09-07T10:00:09.041461Z",
     "iopub.status.busy": "2021-09-07T10:00:09.040464Z",
     "iopub.status.idle": "2021-09-07T10:00:09.054003Z",
     "shell.execute_reply": "2021-09-07T10:00:09.054003Z",
     "shell.execute_reply.started": "2021-09-07T10:00:09.040464Z"
    }
   },
   "outputs": [
    {
     "data": {
      "text/plain": [
       "array([False, False, False,  True, False, False])"
      ]
     },
     "execution_count": 4,
     "metadata": {},
     "output_type": "execute_result"
    }
   ],
   "source": [
    "x = np.arange(-2,4)\n",
    "(x>0) & (x<2)"
   ]
  },
  {
   "cell_type": "code",
   "execution_count": 5,
   "metadata": {
    "execution": {
     "iopub.execute_input": "2021-09-07T10:00:25.049306Z",
     "iopub.status.busy": "2021-09-07T10:00:25.048318Z",
     "iopub.status.idle": "2021-09-07T10:00:25.077987Z",
     "shell.execute_reply": "2021-09-07T10:00:25.074998Z",
     "shell.execute_reply.started": "2021-09-07T10:00:25.049306Z"
    }
   },
   "outputs": [
    {
     "ename": "ValueError",
     "evalue": "The truth value of an array with more than one element is ambiguous. Use a.any() or a.all()",
     "output_type": "error",
     "traceback": [
      "\u001b[1;31m---------------------------------------------------------------------------\u001b[0m",
      "\u001b[1;31mValueError\u001b[0m                                Traceback (most recent call last)",
      "\u001b[1;32m<ipython-input-5-6059b4b02787>\u001b[0m in \u001b[0;36m<module>\u001b[1;34m\u001b[0m\n\u001b[0;32m      1\u001b[0m \u001b[0mx\u001b[0m \u001b[1;33m=\u001b[0m \u001b[0mnp\u001b[0m\u001b[1;33m.\u001b[0m\u001b[0marange\u001b[0m\u001b[1;33m(\u001b[0m\u001b[1;33m-\u001b[0m\u001b[1;36m2\u001b[0m\u001b[1;33m,\u001b[0m\u001b[1;36m4\u001b[0m\u001b[1;33m)\u001b[0m\u001b[1;33m\u001b[0m\u001b[1;33m\u001b[0m\u001b[0m\n\u001b[1;32m----> 2\u001b[1;33m \u001b[0mx\u001b[0m\u001b[1;33m>\u001b[0m\u001b[1;36m0\u001b[0m \u001b[1;33m&\u001b[0m \u001b[0mx\u001b[0m\u001b[1;33m<\u001b[0m\u001b[1;36m2\u001b[0m\u001b[1;33m\u001b[0m\u001b[1;33m\u001b[0m\u001b[0m\n\u001b[0m",
      "\u001b[1;31mValueError\u001b[0m: The truth value of an array with more than one element is ambiguous. Use a.any() or a.all()"
     ]
    }
   ],
   "source": [
    "x = np.arange(-2,4)\n",
    "x>0 & x<2"
   ]
  },
  {
   "cell_type": "markdown",
   "metadata": {},
   "source": [
    "### 1.3 Multiple tests (all and any)\n",
    "- all returns True if all logical elements in an array is True.\n",
    "- any returns if any element of an array is True."
   ]
  },
  {
   "cell_type": "code",
   "execution_count": 6,
   "metadata": {
    "execution": {
     "iopub.execute_input": "2021-09-07T10:57:09.054158Z",
     "iopub.status.busy": "2021-09-07T10:57:09.054158Z",
     "iopub.status.idle": "2021-09-07T10:57:09.078127Z",
     "shell.execute_reply": "2021-09-07T10:57:09.076155Z",
     "shell.execute_reply.started": "2021-09-07T10:57:09.054158Z"
    }
   },
   "outputs": [
    {
     "data": {
      "text/plain": [
       "False"
      ]
     },
     "execution_count": 6,
     "metadata": {},
     "output_type": "execute_result"
    }
   ],
   "source": [
    "any([False, False, False])"
   ]
  },
  {
   "cell_type": "code",
   "execution_count": 7,
   "metadata": {
    "execution": {
     "iopub.execute_input": "2021-09-07T10:57:15.352977Z",
     "iopub.status.busy": "2021-09-07T10:57:15.351980Z",
     "iopub.status.idle": "2021-09-07T10:57:15.361518Z",
     "shell.execute_reply": "2021-09-07T10:57:15.361518Z",
     "shell.execute_reply.started": "2021-09-07T10:57:15.352977Z"
    }
   },
   "outputs": [
    {
     "data": {
      "text/plain": [
       "True"
      ]
     },
     "execution_count": 7,
     "metadata": {},
     "output_type": "execute_result"
    }
   ],
   "source": [
    "any([True, False, False])"
   ]
  },
  {
   "cell_type": "code",
   "execution_count": 8,
   "metadata": {
    "execution": {
     "iopub.execute_input": "2021-09-07T10:57:45.325767Z",
     "iopub.status.busy": "2021-09-07T10:57:45.325767Z",
     "iopub.status.idle": "2021-09-07T10:57:45.338757Z",
     "shell.execute_reply": "2021-09-07T10:57:45.338757Z",
     "shell.execute_reply.started": "2021-09-07T10:57:45.325767Z"
    }
   },
   "outputs": [
    {
     "data": {
      "text/plain": [
       "array([ True,  True, False, False])"
      ]
     },
     "execution_count": 8,
     "metadata": {},
     "output_type": "execute_result"
    }
   ],
   "source": [
    "x = np.array([1,2,3,4])\n",
    "x <= 2"
   ]
  },
  {
   "cell_type": "code",
   "execution_count": 9,
   "metadata": {
    "execution": {
     "iopub.execute_input": "2021-09-07T10:57:53.041980Z",
     "iopub.status.busy": "2021-09-07T10:57:53.040982Z",
     "iopub.status.idle": "2021-09-07T10:57:53.066914Z",
     "shell.execute_reply": "2021-09-07T10:57:53.064940Z",
     "shell.execute_reply.started": "2021-09-07T10:57:53.041980Z"
    }
   },
   "outputs": [
    {
     "data": {
      "text/plain": [
       "True"
      ]
     },
     "execution_count": 9,
     "metadata": {},
     "output_type": "execute_result"
    }
   ],
   "source": [
    "any(x<=2)"
   ]
  },
  {
   "cell_type": "code",
   "execution_count": 10,
   "metadata": {
    "execution": {
     "iopub.execute_input": "2021-09-07T10:58:01.022132Z",
     "iopub.status.busy": "2021-09-07T10:58:01.021136Z",
     "iopub.status.idle": "2021-09-07T10:58:01.035405Z",
     "shell.execute_reply": "2021-09-07T10:58:01.034148Z",
     "shell.execute_reply.started": "2021-09-07T10:58:01.022132Z"
    }
   },
   "outputs": [
    {
     "data": {
      "text/plain": [
       "False"
      ]
     },
     "execution_count": 10,
     "metadata": {},
     "output_type": "execute_result"
    }
   ],
   "source": [
    "all(x<=2)"
   ]
  },
  {
   "cell_type": "code",
   "execution_count": 11,
   "metadata": {
    "execution": {
     "iopub.execute_input": "2021-09-07T10:58:19.395370Z",
     "iopub.status.busy": "2021-09-07T10:58:19.395370Z",
     "iopub.status.idle": "2021-09-07T10:58:19.412324Z",
     "shell.execute_reply": "2021-09-07T10:58:19.411350Z",
     "shell.execute_reply.started": "2021-09-07T10:58:19.395370Z"
    }
   },
   "outputs": [
    {
     "data": {
      "text/plain": [
       "array([[ True,  True, False, False]])"
      ]
     },
     "execution_count": 11,
     "metadata": {},
     "output_type": "execute_result"
    }
   ],
   "source": [
    "x = np.array([[1,2,3,4]])\n",
    "x <= 2"
   ]
  },
  {
   "cell_type": "code",
   "execution_count": 12,
   "metadata": {
    "execution": {
     "iopub.execute_input": "2021-09-07T10:58:20.051590Z",
     "iopub.status.busy": "2021-09-07T10:58:20.051590Z",
     "iopub.status.idle": "2021-09-07T10:58:20.078588Z",
     "shell.execute_reply": "2021-09-07T10:58:20.076716Z",
     "shell.execute_reply.started": "2021-09-07T10:58:20.051590Z"
    }
   },
   "outputs": [
    {
     "data": {
      "text/plain": [
       "(1, 4)"
      ]
     },
     "execution_count": 12,
     "metadata": {},
     "output_type": "execute_result"
    }
   ],
   "source": [
    "x.shape"
   ]
  },
  {
   "cell_type": "code",
   "execution_count": 13,
   "metadata": {
    "execution": {
     "iopub.execute_input": "2021-09-07T10:58:30.093389Z",
     "iopub.status.busy": "2021-09-07T10:58:30.092392Z",
     "iopub.status.idle": "2021-09-07T10:58:30.117208Z",
     "shell.execute_reply": "2021-09-07T10:58:30.115355Z",
     "shell.execute_reply.started": "2021-09-07T10:58:30.092392Z"
    }
   },
   "outputs": [
    {
     "ename": "ValueError",
     "evalue": "The truth value of an array with more than one element is ambiguous. Use a.any() or a.all()",
     "output_type": "error",
     "traceback": [
      "\u001b[1;31m---------------------------------------------------------------------------\u001b[0m",
      "\u001b[1;31mValueError\u001b[0m                                Traceback (most recent call last)",
      "\u001b[1;32m<ipython-input-13-736f012f6697>\u001b[0m in \u001b[0;36m<module>\u001b[1;34m\u001b[0m\n\u001b[1;32m----> 1\u001b[1;33m \u001b[0many\u001b[0m\u001b[1;33m(\u001b[0m\u001b[0mx\u001b[0m\u001b[1;33m<=\u001b[0m\u001b[1;36m2\u001b[0m\u001b[1;33m)\u001b[0m\u001b[1;33m\u001b[0m\u001b[1;33m\u001b[0m\u001b[0m\n\u001b[0m",
      "\u001b[1;31mValueError\u001b[0m: The truth value of an array with more than one element is ambiguous. Use a.any() or a.all()"
     ]
    }
   ],
   "source": [
    "any(x<=2)"
   ]
  },
  {
   "cell_type": "code",
   "execution_count": 36,
   "metadata": {
    "execution": {
     "iopub.execute_input": "2021-09-07T10:58:39.065555Z",
     "iopub.status.busy": "2021-09-07T10:58:39.064838Z",
     "iopub.status.idle": "2021-09-07T10:58:39.090481Z",
     "shell.execute_reply": "2021-09-07T10:58:39.087677Z",
     "shell.execute_reply.started": "2021-09-07T10:58:39.065555Z"
    }
   },
   "outputs": [
    {
     "data": {
      "text/plain": [
       "True"
      ]
     },
     "execution_count": 36,
     "metadata": {},
     "output_type": "execute_result"
    }
   ],
   "source": [
    "(x<=2).any()"
   ]
  },
  {
   "cell_type": "markdown",
   "metadata": {},
   "source": [
    "### 2. Flow control, Loops\n",
    "\n",
    "- Flow control utilizes logical variables to allow different code to be executed depending on whether certain conditions are met.\n",
    "- Python use white space changes to indicate the start and end of flow control blocks, and so indentation matters.\n",
    "- Best practice is to only use spaces (and not tabs) and to use 4 spaces when starting a new level of indentation."
   ]
  },
  {
   "cell_type": "code",
   "execution_count": 15,
   "metadata": {
    "execution": {
     "iopub.execute_input": "2021-09-07T11:04:29.046927Z",
     "iopub.status.busy": "2021-09-07T11:04:29.046927Z",
     "iopub.status.idle": "2021-09-07T11:04:29.060890Z",
     "shell.execute_reply": "2021-09-07T11:04:29.059893Z",
     "shell.execute_reply.started": "2021-09-07T11:04:29.046927Z"
    }
   },
   "outputs": [
    {
     "name": "stdout",
     "output_type": "stream",
     "text": [
      "4\n"
     ]
    }
   ],
   "source": [
    "if 1+2==3:\n",
    "    print(4)"
   ]
  },
  {
   "cell_type": "markdown",
   "metadata": {},
   "source": [
    "## 2.1 if, elif, else\n",
    "\n",
    "<img src=\"./img/11.png\" width=\"600\" height=\"600\">\n"
   ]
  },
  {
   "cell_type": "code",
   "execution_count": 16,
   "metadata": {
    "execution": {
     "iopub.execute_input": "2021-09-07T11:07:41.176530Z",
     "iopub.status.busy": "2021-09-07T11:07:41.176530Z",
     "iopub.status.idle": "2021-09-07T11:07:41.194482Z",
     "shell.execute_reply": "2021-09-07T11:07:41.194184Z",
     "shell.execute_reply.started": "2021-09-07T11:07:41.176530Z"
    }
   },
   "outputs": [
    {
     "data": {
      "text/plain": [
       "4"
      ]
     },
     "execution_count": 16,
     "metadata": {},
     "output_type": "execute_result"
    }
   ],
   "source": [
    "x=5\n",
    "\n",
    "if x<5:\n",
    "    x += 1\n",
    "else :\n",
    "    x -= 1\n",
    "x"
   ]
  },
  {
   "cell_type": "code",
   "execution_count": 17,
   "metadata": {
    "execution": {
     "iopub.execute_input": "2021-09-07T11:08:27.402436Z",
     "iopub.status.busy": "2021-09-07T11:08:27.402436Z",
     "iopub.status.idle": "2021-09-07T11:08:27.415793Z",
     "shell.execute_reply": "2021-09-07T11:08:27.415793Z",
     "shell.execute_reply.started": "2021-09-07T11:08:27.402436Z"
    }
   },
   "outputs": [
    {
     "data": {
      "text/plain": [
       "10"
      ]
     },
     "execution_count": 17,
     "metadata": {},
     "output_type": "execute_result"
    }
   ],
   "source": [
    "x=5\n",
    "\n",
    "if x<5:\n",
    "    x += 1\n",
    "elif x>5:\n",
    "    x -= 1\n",
    "else :\n",
    "    x *= 2\n",
    "x"
   ]
  },
  {
   "cell_type": "markdown",
   "metadata": {},
   "source": [
    "### 2.2 for\n",
    "\n",
    "- for loops begin with for _item_ in _iterable_\n",
    "- The generic structure of a for loop is\n",
    "\n",
    "for _item_ in _iterable_ : \n",
    "    _Code to run_"
   ]
  },
  {
   "cell_type": "code",
   "execution_count": 18,
   "metadata": {
    "execution": {
     "iopub.execute_input": "2021-09-07T11:11:55.046851Z",
     "iopub.status.busy": "2021-09-07T11:11:55.045766Z",
     "iopub.status.idle": "2021-09-07T11:11:55.070934Z",
     "shell.execute_reply": "2021-09-07T11:11:55.068941Z",
     "shell.execute_reply.started": "2021-09-07T11:11:55.046755Z"
    }
   },
   "outputs": [
    {
     "data": {
      "text/plain": [
       "4950"
      ]
     },
     "execution_count": 18,
     "metadata": {},
     "output_type": "execute_result"
    }
   ],
   "source": [
    "count = 0\n",
    "for i in range(100):\n",
    "    count += i\n",
    "count"
   ]
  },
  {
   "cell_type": "code",
   "execution_count": 19,
   "metadata": {
    "execution": {
     "iopub.execute_input": "2021-09-07T11:12:19.065702Z",
     "iopub.status.busy": "2021-09-07T11:12:19.065128Z",
     "iopub.status.idle": "2021-09-07T11:12:19.077794Z",
     "shell.execute_reply": "2021-09-07T11:12:19.077794Z",
     "shell.execute_reply.started": "2021-09-07T11:12:19.065702Z"
    }
   },
   "outputs": [
    {
     "data": {
      "text/plain": [
       "12499.999999999998"
      ]
     },
     "execution_count": 19,
     "metadata": {},
     "output_type": "execute_result"
    }
   ],
   "source": [
    "count = 0\n",
    "for i in np.linspace(0,500,50):\n",
    "    count += i\n",
    "count"
   ]
  },
  {
   "cell_type": "markdown",
   "metadata": {},
   "source": [
    "- Loops can also be nested"
   ]
  },
  {
   "cell_type": "code",
   "execution_count": 20,
   "metadata": {
    "execution": {
     "iopub.execute_input": "2021-09-07T11:13:11.175015Z",
     "iopub.status.busy": "2021-09-07T11:13:11.175015Z",
     "iopub.status.idle": "2021-09-07T11:13:11.189973Z",
     "shell.execute_reply": "2021-09-07T11:13:11.188976Z",
     "shell.execute_reply.started": "2021-09-07T11:13:11.175015Z"
    }
   },
   "outputs": [
    {
     "data": {
      "text/plain": [
       "450"
      ]
     },
     "execution_count": 20,
     "metadata": {},
     "output_type": "execute_result"
    }
   ],
   "source": [
    "count = 0\n",
    "\n",
    "for i in range(10) :\n",
    "    for j in range(10) :\n",
    "        count += j\n",
    "        \n",
    "count"
   ]
  },
  {
   "cell_type": "markdown",
   "metadata": {},
   "source": [
    "- or can contain flow control variables"
   ]
  },
  {
   "cell_type": "code",
   "execution_count": 21,
   "metadata": {
    "execution": {
     "iopub.execute_input": "2021-09-07T11:15:08.089334Z",
     "iopub.status.busy": "2021-09-07T11:15:08.088458Z",
     "iopub.status.idle": "2021-09-07T11:15:08.112074Z",
     "shell.execute_reply": "2021-09-07T11:15:08.110075Z",
     "shell.execute_reply.started": "2021-09-07T11:15:08.089334Z"
    }
   },
   "outputs": [
    {
     "data": {
      "text/plain": [
       "0"
      ]
     },
     "execution_count": 21,
     "metadata": {},
     "output_type": "execute_result"
    }
   ],
   "source": [
    "returns = np.random.rand(100)\n",
    "count = 0\n",
    "for ret in returns :\n",
    "    if ret < 0 :\n",
    "        count += 1\n",
    "count"
   ]
  },
  {
   "cell_type": "markdown",
   "metadata": {},
   "source": [
    "### 2.3 while\n",
    "\n",
    "- while loops are useful when the number of iterations needed depends on the outcome of the loop contents.\n",
    "- while loops are commonly used when a loop should only stop if a certain condition is met."
   ]
  },
  {
   "cell_type": "code",
   "execution_count": 22,
   "metadata": {
    "execution": {
     "iopub.execute_input": "2021-09-07T11:18:23.236971Z",
     "iopub.status.busy": "2021-09-07T11:18:23.236971Z",
     "iopub.status.idle": "2021-09-07T11:18:23.248939Z",
     "shell.execute_reply": "2021-09-07T11:18:23.247942Z",
     "shell.execute_reply.started": "2021-09-07T11:18:23.236971Z"
    }
   },
   "outputs": [
    {
     "data": {
      "text/plain": [
       "45"
      ]
     },
     "execution_count": 22,
     "metadata": {},
     "output_type": "execute_result"
    }
   ],
   "source": [
    "count = 0\n",
    "i=0\n",
    "while i < 10 :\n",
    "    count += i\n",
    "    i += 1\n",
    "count"
   ]
  },
  {
   "cell_type": "markdown",
   "metadata": {},
   "source": [
    "- while loops should generally be avoided when for loops are sufficient. \n",
    "- However, there are situations where no for loop equivalence exists."
   ]
  },
  {
   "cell_type": "code",
   "execution_count": 23,
   "metadata": {
    "execution": {
     "iopub.execute_input": "2021-09-07T11:20:54.040550Z",
     "iopub.status.busy": "2021-09-07T11:20:54.040550Z",
     "iopub.status.idle": "2021-09-07T11:20:54.055510Z",
     "shell.execute_reply": "2021-09-07T11:20:54.055510Z",
     "shell.execute_reply.started": "2021-09-07T11:20:54.040550Z"
    }
   },
   "outputs": [],
   "source": [
    "mu = abs(100 * np.random.rand(1))\n",
    "index = 1\n",
    "\n",
    "while abs(mu) > 0.0001 :\n",
    "    mu = (mu+np.random.randn(1))/index\n",
    "    index = index+1"
   ]
  },
  {
   "cell_type": "markdown",
   "metadata": {},
   "source": [
    "### 2.4 break, continue\n",
    "\n",
    "- A loop can be terminated early using break.\n",
    "- continue can be used to skip an iteration of a loop"
   ]
  },
  {
   "cell_type": "code",
   "execution_count": 24,
   "metadata": {
    "execution": {
     "iopub.execute_input": "2021-09-07T11:24:45.067963Z",
     "iopub.status.busy": "2021-09-07T11:24:45.067963Z",
     "iopub.status.idle": "2021-09-07T11:24:45.078670Z",
     "shell.execute_reply": "2021-09-07T11:24:45.078670Z",
     "shell.execute_reply.started": "2021-09-07T11:24:45.067963Z"
    }
   },
   "outputs": [
    {
     "name": "stdout",
     "output_type": "stream",
     "text": [
      "2.1427871114975434\n"
     ]
    }
   ],
   "source": [
    "x = np.random.randn(1000)\n",
    "for i in x :\n",
    "    print(i)\n",
    "    if i > 2 :\n",
    "        break"
   ]
  },
  {
   "cell_type": "code",
   "execution_count": 25,
   "metadata": {
    "execution": {
     "iopub.execute_input": "2021-09-07T11:23:37.076207Z",
     "iopub.status.busy": "2021-09-07T11:23:37.076207Z",
     "iopub.status.idle": "2021-09-07T11:23:37.082191Z",
     "shell.execute_reply": "2021-09-07T11:23:37.082191Z",
     "shell.execute_reply.started": "2021-09-07T11:23:37.076207Z"
    }
   },
   "outputs": [],
   "source": [
    "x = np.random.rand(10)\n",
    "for i in x:\n",
    "    if i < 0 : \n",
    "        print(i)"
   ]
  },
  {
   "cell_type": "code",
   "execution_count": 26,
   "metadata": {
    "execution": {
     "iopub.execute_input": "2021-09-07T11:23:59.117910Z",
     "iopub.status.busy": "2021-09-07T11:23:59.117910Z",
     "iopub.status.idle": "2021-09-07T11:23:59.136859Z",
     "shell.execute_reply": "2021-09-07T11:23:59.135862Z",
     "shell.execute_reply.started": "2021-09-07T11:23:59.117910Z"
    }
   },
   "outputs": [],
   "source": [
    "x = np.random.rand(10)\n",
    "for i in x:\n",
    "    if i >= 0 : \n",
    "        continue\n",
    "    print(i)"
   ]
  },
  {
   "cell_type": "markdown",
   "metadata": {},
   "source": [
    "### 2.5 try, except\n",
    "\n",
    "- try, except handles exceptions which are outside of the programmer's control. \n",
    "- In most numerical applications, code should be deterministicand so dangerous codes can usually be avoided. \n",
    "- When it can't (e.g. reading data from a data source which isn't always available), then try, except can be used."
   ]
  },
  {
   "cell_type": "code",
   "execution_count": 27,
   "metadata": {
    "execution": {
     "iopub.execute_input": "2021-09-07T11:28:48.501234Z",
     "iopub.status.busy": "2021-09-07T11:28:48.501234Z",
     "iopub.status.idle": "2021-09-07T11:28:48.505223Z",
     "shell.execute_reply": "2021-09-07T11:28:48.505223Z",
     "shell.execute_reply.started": "2021-09-07T11:28:48.501234Z"
    }
   },
   "outputs": [
    {
     "name": "stdout",
     "output_type": "stream",
     "text": [
      "Not convertable to a float\n",
      "1.0\n",
      "54.1\n",
      "Not convertable to a float\n"
     ]
    }
   ],
   "source": [
    "text = ['a', '1', '54.1', '43.a']\n",
    "for t in text :\n",
    "    try :\n",
    "        temp = float(t)\n",
    "        print(temp)\n",
    "    except ValueError:\n",
    "        print('Not convertable to a float')"
   ]
  },
  {
   "cell_type": "markdown",
   "metadata": {},
   "source": [
    "### 2.6 List Comprehensions\n",
    "\n",
    "- List comprehensions are an optimized method of building a list which may simplify code when an iterable object is looped across and the results are saved to a list."
   ]
  },
  {
   "cell_type": "code",
   "execution_count": 33,
   "metadata": {
    "execution": {
     "iopub.execute_input": "2021-09-07T11:49:47.440591Z",
     "iopub.status.busy": "2021-09-07T11:49:47.440591Z",
     "iopub.status.idle": "2021-09-07T11:49:47.604318Z",
     "shell.execute_reply": "2021-09-07T11:49:47.604318Z",
     "shell.execute_reply.started": "2021-09-07T11:49:47.440591Z"
    }
   },
   "outputs": [
    {
     "data": {
      "text/plain": [
       "array([    0,     1,     2, ..., 49997, 49998, 49999])"
      ]
     },
     "execution_count": 33,
     "metadata": {},
     "output_type": "execute_result"
    }
   ],
   "source": [
    "x = np.arange(50000)#y\n",
    "x"
   ]
  },
  {
   "cell_type": "code",
   "execution_count": 34,
   "metadata": {
    "execution": {
     "iopub.execute_input": "2021-09-07T11:49:49.054452Z",
     "iopub.status.busy": "2021-09-07T11:49:49.054452Z",
     "iopub.status.idle": "2021-09-07T11:49:49.209146Z",
     "shell.execute_reply": "2021-09-07T11:49:49.208222Z",
     "shell.execute_reply.started": "2021-09-07T11:49:49.054452Z"
    }
   },
   "outputs": [
    {
     "data": {
      "text/plain": [
       "[1.0,\n",
       " 2.718281828459045,\n",
       " 7.38905609893065,\n",
       " 20.085536923187668,\n",
       " 54.598150033144236,\n",
       " 148.4131591025766,\n",
       " 403.4287934927351,\n",
       " 1096.6331584284585,\n",
       " 2980.9579870417283,\n",
       " 8103.083927575384,\n",
       " 22026.465794806718,\n",
       " 59874.14171519782,\n",
       " 162754.79141900392,\n",
       " 442413.3920089205,\n",
       " 1202604.2841647768,\n",
       " 3269017.3724721107,\n",
       " 8886110.520507872,\n",
       " 24154952.7535753,\n",
       " 65659969.13733051,\n",
       " 178482300.96318725,\n",
       " 485165195.4097903,\n",
       " 1318815734.4832146,\n",
       " 3584912846.131592,\n",
       " 9744803446.248903,\n",
       " 26489122129.84347,\n",
       " 72004899337.38588,\n",
       " 195729609428.83878,\n",
       " 532048240601.7986,\n",
       " 1446257064291.475,\n",
       " 3931334297144.042,\n",
       " 10686474581524.463,\n",
       " 29048849665247.426,\n",
       " 78962960182680.69,\n",
       " 214643579785916.06,\n",
       " 583461742527454.9,\n",
       " 1586013452313430.8,\n",
       " 4311231547115195.0,\n",
       " 1.1719142372802612e+16,\n",
       " 3.1855931757113756e+16,\n",
       " 8.659340042399374e+16,\n",
       " 2.3538526683702e+17,\n",
       " 6.398434935300549e+17,\n",
       " 1.739274941520501e+18,\n",
       " 4.727839468229346e+18,\n",
       " 1.2851600114359308e+19,\n",
       " 3.4934271057485095e+19,\n",
       " 9.496119420602448e+19,\n",
       " 2.5813128861900675e+20,\n",
       " 7.016735912097631e+20,\n",
       " 1.9073465724950998e+21,\n",
       " 5.184705528587072e+21,\n",
       " 1.4093490824269389e+22,\n",
       " 3.831008000716577e+22,\n",
       " 1.0413759433029089e+23,\n",
       " 2.830753303274694e+23,\n",
       " 7.694785265142018e+23,\n",
       " 2.091659496012996e+24,\n",
       " 5.685719999335932e+24,\n",
       " 1.545538935590104e+25,\n",
       " 4.2012104037905144e+25,\n",
       " 1.1420073898156842e+26,\n",
       " 3.10429793570192e+26,\n",
       " 8.438356668741454e+26,\n",
       " 2.29378315946961e+27,\n",
       " 6.235149080811617e+27,\n",
       " 1.6948892444103338e+28,\n",
       " 4.607186634331292e+28,\n",
       " 1.2523631708422137e+29,\n",
       " 3.404276049931741e+29,\n",
       " 9.253781725587787e+29,\n",
       " 2.515438670919167e+30,\n",
       " 6.837671229762744e+30,\n",
       " 1.8586717452841279e+31,\n",
       " 5.052393630276104e+31,\n",
       " 1.3733829795401761e+32,\n",
       " 3.7332419967990015e+32,\n",
       " 1.0148003881138887e+33,\n",
       " 2.7585134545231703e+33,\n",
       " 7.498416996990121e+33,\n",
       " 2.0382810665126688e+34,\n",
       " 5.54062238439351e+34,\n",
       " 1.5060973145850306e+35,\n",
       " 4.0939969621274545e+35,\n",
       " 1.1128637547917594e+36,\n",
       " 3.0250773222011426e+36,\n",
       " 8.223012714622913e+36,\n",
       " 2.235246603734715e+37,\n",
       " 6.076030225056872e+37,\n",
       " 1.6516362549940018e+38,\n",
       " 4.4896128191743455e+38,\n",
       " 1.2204032943178408e+39,\n",
       " 3.317400098335743e+39,\n",
       " 9.017628405034299e+39,\n",
       " 2.451245542920086e+40,\n",
       " 6.663176216410896e+40,\n",
       " 1.8112390828890233e+41,\n",
       " 4.923458286012058e+41,\n",
       " 1.3383347192042695e+42,\n",
       " 3.637970947608805e+42,\n",
       " 9.889030319346946e+42,\n",
       " 2.6881171418161356e+43,\n",
       " 7.307059979368067e+43,\n",
       " 1.9862648361376543e+44,\n",
       " 5.399227610580169e+44,\n",
       " 1.4676622301554424e+45,\n",
       " 3.989519570547216e+45,\n",
       " 1.0844638552900231e+46,\n",
       " 2.947878391455509e+46,\n",
       " 8.013164264000591e+46,\n",
       " 2.1782038807290206e+47,\n",
       " 5.92097202766467e+47,\n",
       " 1.609487066961518e+48,\n",
       " 4.375039447261341e+48,\n",
       " 1.189259022828201e+49,\n",
       " 3.2327411910848595e+49,\n",
       " 8.787501635837023e+49,\n",
       " 2.3886906014249913e+50,\n",
       " 6.493134255664462e+50,\n",
       " 1.7650168856917655e+51,\n",
       " 4.797813327299302e+51,\n",
       " 1.3041808783936323e+52,\n",
       " 3.5451311827611664e+52,\n",
       " 9.636665673603202e+52,\n",
       " 2.6195173187490626e+53,\n",
       " 7.120586326889338e+53,\n",
       " 1.9355760420357226e+54,\n",
       " 5.261441182666386e+54,\n",
       " 1.4302079958348105e+55,\n",
       " 3.8877084059945954e+55,\n",
       " 1.0567887114362587e+56,\n",
       " 2.872649550817832e+56,\n",
       " 7.808671073519151e+56,\n",
       " 2.1226168683560893e+57,\n",
       " 5.769870862033003e+57,\n",
       " 1.568413511681964e+58,\n",
       " 4.263389948314721e+58,\n",
       " 1.1589095424138854e+59,\n",
       " 3.150242749971452e+59,\n",
       " 8.56324762248225e+59,\n",
       " 2.3277320404788622e+60,\n",
       " 6.327431707155585e+60,\n",
       " 1.7199742630376623e+61,\n",
       " 4.675374784632515e+61,\n",
       " 1.2708986318302189e+62,\n",
       " 3.454660656717546e+62,\n",
       " 9.390741286647697e+62,\n",
       " 2.5526681395254553e+63,\n",
       " 6.938871417758404e+63,\n",
       " 1.886180808490652e+64,\n",
       " 5.12717101690833e+64,\n",
       " 1.3937095806663797e+65,\n",
       " 3.788495427274696e+65,\n",
       " 1.0298198277160991e+66,\n",
       " 2.799340524267497e+66,\n",
       " 7.609396478785354e+66,\n",
       " 2.0684484173822473e+67,\n",
       " 5.622625746075033e+67,\n",
       " 1.5283881393781746e+68,\n",
       " 4.154589706104022e+68,\n",
       " 1.129334570280557e+69,\n",
       " 3.0698496406442424e+69,\n",
       " 8.344716494264775e+69,\n",
       " 2.2683291210002403e+70,\n",
       " 6.165957830579433e+70,\n",
       " 1.6760811125908828e+71,\n",
       " 4.556060831379215e+71,\n",
       " 1.2384657367292132e+72,\n",
       " 3.366498907320164e+72,\n",
       " 9.151092805295634e+72,\n",
       " 2.487524928317743e+73,\n",
       " 6.761793810485009e+73,\n",
       " 1.8380461242828246e+74,\n",
       " 4.996327379507578e+74,\n",
       " 1.358142592474785e+75,\n",
       " 3.691814329580466e+75,\n",
       " 1.0035391806143295e+76,\n",
       " 2.7279023188106115e+76,\n",
       " 7.415207303034179e+76,\n",
       " 2.0156623266094611e+77,\n",
       " 5.47913827473198e+77,\n",
       " 1.4893842007818383e+78,\n",
       " 4.048566008579269e+78,\n",
       " 1.1005143412437996e+79,\n",
       " 2.991508135761597e+79,\n",
       " 8.131762205128143e+79,\n",
       " 2.2104421435549888e+80,\n",
       " 6.008604711685586e+80,\n",
       " 1.633308100216833e+81,\n",
       " 4.4397917290943824e+81,\n",
       " 1.2068605179340022e+82,\n",
       " 3.2805870153846705e+82,\n",
       " 8.917560070598843e+82,\n",
       " 2.4240441494100796e+83,\n",
       " 6.589235162723882e+83,\n",
       " 1.7911398206275708e+84,\n",
       " 4.8688228266413195e+84,\n",
       " 1.3234832615645704e+85,\n",
       " 3.5976005001806814e+85,\n",
       " 9.779292065696318e+85,\n",
       " 2.658287191737602e+86,\n",
       " 7.225973768125749e+86,\n",
       " 1.964223318681796e+87,\n",
       " 5.339312554208246e+87,\n",
       " 1.4513756292567526e+88,\n",
       " 3.945247999276943e+88,\n",
       " 1.0724295945198918e+89,\n",
       " 2.9151658790851237e+89,\n",
       " 7.924242436060931e+89,\n",
       " 2.1540324218248465e+90,\n",
       " 5.855267190158109e+90,\n",
       " 1.5916266403779241e+91,\n",
       " 4.326489774230631e+91,\n",
       " 1.1760618534305e+92,\n",
       " 3.196867565323994e+92,\n",
       " 8.689987010810322e+92,\n",
       " 2.3621833781030834e+93,\n",
       " 6.421080152185614e+93,\n",
       " 1.7454305496765193e+94,\n",
       " 4.744572146022966e+94,\n",
       " 1.2897084248347162e+95,\n",
       " 3.505790975238748e+95,\n",
       " 9.529727902367202e+95,\n",
       " 2.5904486187163903e+96,\n",
       " 7.041569407813597e+96,\n",
       " 1.9140970165092822e+97,\n",
       " 5.2030551378848545e+97,\n",
       " 1.4143370233782872e+98,\n",
       " 3.844566629966054e+98,\n",
       " 1.0450615608536755e+99,\n",
       " 2.840771850489593e+99,\n",
       " 7.722018499983836e+99,\n",
       " 2.0990622567530634e+100,\n",
       " 5.705842789336087e+100,\n",
       " 1.551008877029636e+101,\n",
       " 4.216079246208329e+101,\n",
       " 1.146049160231141e+102,\n",
       " 3.115284606777059e+102,\n",
       " 8.468221537080262e+102,\n",
       " 2.30190127236108e+103,\n",
       " 6.25721639956588e+103,\n",
       " 1.700887763567586e+104,\n",
       " 4.6234922999541146e+104,\n",
       " 1.2567955102985587e+105,\n",
       " 3.416324397733485e+105,\n",
       " 9.286532530480224e+105,\n",
       " 2.5243412626998188e+106,\n",
       " 6.861870983226278e+106,\n",
       " 1.8652499202934394e+107,\n",
       " 5.070274963868339e+107,\n",
       " 1.3782436299574147e+108,\n",
       " 3.7464546145026734e+108,\n",
       " 1.0183919499749154e+109,\n",
       " 2.7682763318657856e+109,\n",
       " 7.524955249064026e+109,\n",
       " 2.045494911349825e+110,\n",
       " 5.5602316477276757e+110,\n",
       " 1.5114276650041035e+111,\n",
       " 4.10848635681094e+111,\n",
       " 1.1168023806191083e+112,\n",
       " 3.0357836172167243e+112,\n",
       " 8.25211544181389e+112,\n",
       " 2.2431575451828986e+113,\n",
       " 6.0975343934414735e+113,\n",
       " 1.6574816940096004e+114,\n",
       " 4.505502369829812e+114,\n",
       " 1.2247225219987542e+115,\n",
       " 3.329140976453747e+115,\n",
       " 9.049543420672623e+115,\n",
       " 2.45992094362655e+116,\n",
       " 6.686758400505878e+116,\n",
       " 1.8176493851391e+117,\n",
       " 4.940883294133372e+117,\n",
       " 1.3430713274979614e+118,\n",
       " 3.6508463838620755e+118,\n",
       " 9.924029383747696e+118,\n",
       " 2.6976308738934977e+119,\n",
       " 7.33292098439479e+119,\n",
       " 1.993294586140637e+120,\n",
       " 5.418336452271886e+120,\n",
       " 1.472856551868792e+121,\n",
       " 4.0036392008717847e+121,\n",
       " 1.0883019687436065e+122,\n",
       " 2.9583114655119493e+122,\n",
       " 8.04152429962318e+122,\n",
       " 2.185912937677754e+123,\n",
       " 5.941927417082968e+123,\n",
       " 1.6151833323879222e+124,\n",
       " 4.390523502060015e+124,\n",
       " 1.1934680253072109e+125,\n",
       " 3.2441824460394912e+125,\n",
       " 8.818602191274965e+125,\n",
       " 2.3971446088951858e+126,\n",
       " 6.516114630548348e+126,\n",
       " 1.77126359923757e+127,\n",
       " 4.814793655218451e+127,\n",
       " 1.3087966100760222e+128,\n",
       " 3.55767804231845e+128,\n",
       " 9.670771573941992e+128,\n",
       " 2.6287882636624796e+129,\n",
       " 7.145787367980123e+129,\n",
       " 1.9424263952412558e+130,\n",
       " 5.280062373303513e+130,\n",
       " 1.435269760248128e+131,\n",
       " 3.901467708219257e+131,\n",
       " 1.0605288775572162e+132,\n",
       " 2.882816376419849e+132,\n",
       " 7.836307370806225e+132,\n",
       " 2.130129192828224e+133,\n",
       " 5.790291477135095e+133,\n",
       " 1.5739644103777611e+134,\n",
       " 4.278478855371123e+134,\n",
       " 1.1630111326001581e+135,\n",
       " 3.161392028042583e+135,\n",
       " 8.593554502463442e+135,\n",
       " 2.3359703045918785e+136,\n",
       " 6.349825630792043e+136,\n",
       " 1.7260615626065507e+137,\n",
       " 4.691921780435012e+137,\n",
       " 1.2753965716307703e+138,\n",
       " 3.4668873247428877e+138,\n",
       " 9.423976816163585e+138,\n",
       " 2.56170249311968e+139,\n",
       " 6.963429336965459e+139,\n",
       " 1.8928563430431824e+140,\n",
       " 5.145317001177723e+140,\n",
       " 1.3986421705962793e+141,\n",
       " 3.801903596848382e+141,\n",
       " 1.0334645460866042e+142,\n",
       " 2.8092478959838913e+142,\n",
       " 7.636327507289818e+142,\n",
       " 2.075769029922787e+143,\n",
       " 5.642525234117172e+143,\n",
       " 1.533797381052233e+144,\n",
       " 4.169293549452358e+144,\n",
       " 1.133331489298786e+145,\n",
       " 3.080714392981317e+145,\n",
       " 8.374249953113352e+145,\n",
       " 2.2763571474522036e+146,\n",
       " 6.187780269002192e+146,\n",
       " 1.682013066372608e+147,\n",
       " 4.572185553551339e+147,\n",
       " 1.2428488906561565e+148,\n",
       " 3.378413554991113e+148,\n",
       " 9.183480175552067e+148,\n",
       " 2.4963287283217065e+149,\n",
       " 6.785725020057171e+149,\n",
       " 1.8445513014941297e+150,\n",
       " 5.014010284511975e+150,\n",
       " 1.362949304409567e+151,\n",
       " 3.7048803272874213e+151,\n",
       " 1.0070908870280797e+152,\n",
       " 2.7375568578151306e+152,\n",
       " 7.441451060972311e+152,\n",
       " 2.0227961196408315e+153,\n",
       " 5.498529934697141e+153,\n",
       " 1.4946554004725342e+154,\n",
       " 4.062894614912666e+154,\n",
       " 1.1044092602661211e+155,\n",
       " 3.0020956233632933e+155,\n",
       " 8.16054198028487e+155,\n",
       " 2.2182652975385555e+156,\n",
       " 6.0298702490003525e+156,\n",
       " 1.6390886725823477e+157,\n",
       " 4.4555049539136534e+157,\n",
       " 1.211131815283274e+158,\n",
       " 3.2921976053531405e+158,\n",
       " 8.949120926327824e+158,\n",
       " 2.4326232794719504e+159,\n",
       " 6.612555656075053e+159,\n",
       " 1.7974789879582895e+160,\n",
       " 4.8860544700039736e+160,\n",
       " 1.3281673078672893e+161,\n",
       " 3.6103330581290227e+161,\n",
       " 9.813902746597095e+161,\n",
       " 2.66769535023392e+162,\n",
       " 7.251547794405553e+162,\n",
       " 1.9711750597734883e+163,\n",
       " 5.358209345693946e+163,\n",
       " 1.4565123097479284e+164,\n",
       " 3.959210944514706e+164,\n",
       " 1.0762251165510499e+165,\n",
       " 2.9254831776519365e+165,\n",
       " 7.952287761273885e+165,\n",
       " 2.161655931614806e+166,\n",
       " 5.875990038289236e+166,\n",
       " 1.5972596945288e+167,\n",
       " 4.3418020029676826e+167,\n",
       " 1.1802241487434137e+168,\n",
       " 3.2081818570377667e+168,\n",
       " 8.720742444377757e+168,\n",
       " 2.370543571722357e+169,\n",
       " 6.443805514583285e+169,\n",
       " 1.7516079436415928e+170,\n",
       " 4.7613640437854577e+170,\n",
       " 1.2942729358900287e+171,\n",
       " 3.518198602696204e+171,\n",
       " 9.563455330619095e+171,\n",
       " 2.5996166842501676e+172,\n",
       " 7.066490793756186e+172,\n",
       " 1.9208713515640576e+173,\n",
       " 5.221469689764144e+173,\n",
       " 1.419342617553556e+174,\n",
       " 3.858173245653328e+174,\n",
       " 1.0487602224706297e+175,\n",
       " 2.8508258551525784e+175,\n",
       " 7.749348118162471e+175,\n",
       " 2.1064912172004347e+176,\n",
       " 5.726036797524517e+176,\n",
       " 1.556498177579872e+177,\n",
       " 4.231000712144986e+177,\n",
       " 1.1501052352020995e+178,\n",
       " 3.1263101616654833e+178,\n",
       " 8.498192102582143e+178,\n",
       " 2.3100481167203208e+179,\n",
       " 6.279361818546888e+179,\n",
       " 1.7069075125675549e+180,\n",
       " 4.639855674272614e+180,\n",
       " 1.2612435366047836e+181,\n",
       " 3.428415386814204e+181,\n",
       " 9.31939924638644e+181,\n",
       " 2.5332753623607178e+182,\n",
       " 6.886156383988143e+182,\n",
       " 1.8718513766522217e+183,\n",
       " 5.088219582729782e+183,\n",
       " 1.3831214830943832e+184,\n",
       " 3.759713994046786e+184,\n",
       " 1.0219962230220558e+185,\n",
       " 2.778073761794632e+185,\n",
       " 7.551587424805211e+185,\n",
       " 2.052734287286784e+186,\n",
       " 5.579910311786494e+186,\n",
       " 1.5167768804960472e+187,\n",
       " 4.123027032079202e+187,\n",
       " 1.1207549459546325e+188,\n",
       " 3.046527803744077e+188,\n",
       " 8.281321168812768e+188,\n",
       " 2.2510964848816967e+189,\n",
       " 6.119114668961948e+189,\n",
       " 1.663347821089645e+190,\n",
       " 4.521448156474929e+190,\n",
       " 1.229057036206545e+191,\n",
       " 3.340923407659982e+191,\n",
       " 9.0815713893156e+191,\n",
       " 2.4686270481430163e+192,\n",
       " 6.710424046209653e+192,\n",
       " 1.8240823746066321e+193,\n",
       " 4.958369972505633e+193,\n",
       " 1.3478246995039038e+194,\n",
       " 3.663767388609735e+194,\n",
       " 9.959152316158692e+194,\n",
       " 2.7071782767869983e+195,\n",
       " 7.35887351618917e+195,\n",
       " 2.000349215698554e+196,\n",
       " 5.437512923605682e+196,\n",
       " 1.4780692572248542e+197,\n",
       " 4.017808803118279e+197,\n",
       " 1.0921536659739205e+198,\n",
       " 2.968781464101838e+198,\n",
       " 8.069984706534065e+198,\n",
       " 2.193649278371395e+199,\n",
       " 5.962956971409261e+199,\n",
       " 1.6208997579264978e+200,\n",
       " 4.4060623577252635e+200,\n",
       " 1.1976919242062002e+201,\n",
       " 3.255664193661862e+201,\n",
       " 8.849812817195809e+201,\n",
       " 2.405628536624732e+202,\n",
       " 6.539176337129533e+202,\n",
       " 1.777532421030859e+203,\n",
       " 4.831834079584997e+203,\n",
       " 1.3134286776665033e+204,\n",
       " 3.5702693074778485e+204,\n",
       " 9.704998181222095e+204,\n",
       " 2.6380920201244107e+205,\n",
       " 7.1710776001069995e+205,\n",
       " 1.9493009930840557e+206,\n",
       " 5.298749467697559e+206,\n",
       " 1.4403494391599313e+207,\n",
       " 3.9152757070996186e+207,\n",
       " 1.0642822808016033e+208,\n",
       " 2.8930191842539453e+208,\n",
       " 7.86404147794091e+208,\n",
       " 2.137668104773499e+209,\n",
       " 5.810784364482288e+209,\n",
       " 1.5795349547066147e+210,\n",
       " 4.2936211647948715e+210,\n",
       " 1.167127239054906e+211,\n",
       " 3.172580765422527e+211,\n",
       " 8.623968643966744e+211,\n",
       " 2.3442377254095393e+212,\n",
       " 6.372298810568915e+212,\n",
       " 1.732170406228067e+213,\n",
       " 4.708527339044277e+213,\n",
       " 1.279910430452668e+214,\n",
       " 3.4791572651546824e+214,\n",
       " 9.457329972221242e+214,\n",
       " 2.5707688209230085e+215,\n",
       " 6.9880741710841e+215,\n",
       " 1.8995555035181914e+216,\n",
       " 5.1635272073628715e+216,\n",
       " 1.4035922178528375e+217,\n",
       " 3.8153592203558975e+217,\n",
       " 1.0371221637737106e+218,\n",
       " 2.8191903316782035e+218,\n",
       " 7.663353849568289e+218,\n",
       " 2.0831155514333153e+219,\n",
       " 5.662495150041624e+219,\n",
       " 1.5392257670095623e+220,\n",
       " 4.184049432358029e+220,\n",
       " 1.1373425541353215e+221,\n",
       " 3.091617597639242e+221,\n",
       " 8.403887936206959e+221,\n",
       " 2.2844135865397565e+222,\n",
       " 6.209679940975975e+222,\n",
       " 1.687966014410163e+223,\n",
       " 4.588367344027585e+223,\n",
       " 1.2472475573565076e+224,\n",
       " 3.3903703707521256e+224,\n",
       " 9.215982170561459e+224,\n",
       " 2.505163686563976e+225,\n",
       " 6.809740926502327e+225,\n",
       " 1.851079501702514e+226,\n",
       " 5.031755772510968e+226,\n",
       " 1.367773028166047e+227,\n",
       " 3.7179925679201674e+227,\n",
       " 1.0106551635723174e+228,\n",
       " 2.7472455659769343e+228,\n",
       " 7.467787700309786e+228,\n",
       " 2.0299551604542052e+229,\n",
       " 5.517990225249331e+229,\n",
       " 1.4999452558909891e+230,\n",
       " 4.077273932771829e+230,\n",
       " 1.1083179641103409e+231,\n",
       " 3.0127205819958637e+231,\n",
       " 8.189423612263916e+231,\n",
       " 2.2261161390770435e+232,\n",
       " 6.051211048892536e+232,\n",
       " 1.644889703437518e+233,\n",
       " 4.471273790673593e+233,\n",
       " 1.2154182295253221e+234,\n",
       " 3.3038492872965484e+234,\n",
       " 8.980793481625574e+234,\n",
       " 2.441232772624624e+235,\n",
       " 6.635958684864208e+235,\n",
       " 1.803840590747136e+236,\n",
       " 4.903347099264769e+236,\n",
       " 1.3328679318558793e+237,\n",
       " 3.6231106788996255e+237,\n",
       " 9.848635920948766e+237,\n",
       " 2.6771368059024047e+238,\n",
       " 7.277212331783397e+238,\n",
       " 1.9781514043324884e+239,\n",
       " 5.377173016337745e+239,\n",
       " 1.4616671698791204e+240,\n",
       " 3.9732233071375736e+240,\n",
       " 1.0800340716202018e+241,\n",
       " 2.935836991001829e+241,\n",
       " 7.980432343958154e+241,\n",
       " 2.1693064223828275e+242,\n",
       " 5.896786228322743e+242,\n",
       " 1.6029126850757262e+243,\n",
       " 4.357168424447843e+243,\n",
       " 1.1844011751712099e+244,\n",
       " 3.219536192073438e+244,\n",
       " 8.751606726979457e+244,\n",
       " 2.37893335357682e+245,\n",
       " 6.4666113061430065e+245,\n",
       " 1.757807200519635e+246,\n",
       " 4.778215371106989e+246,\n",
       " 1.298853601574382e+247,\n",
       " 3.5306501429882274e+247,\n",
       " 9.597302126331227e+247,\n",
       " 2.608817197223753e+248,\n",
       " 7.091500380984786e+248,\n",
       " 1.9276696622141338e+249,\n",
       " 5.239949414068466e+249,\n",
       " 1.4243659274306933e+250,\n",
       " 3.871828017611069e+250,\n",
       " 1.0524719743190776e+251,\n",
       " 2.860915442753964e+251,\n",
       " 7.776774460795963e+251,\n",
       " 2.1139464700806057e+252,\n",
       " 5.746302275955253e+252,\n",
       " 1.5620069057562017e+253,\n",
       " 4.245974987844624e+253,\n",
       " 1.1541756653549656e+254,\n",
       " 3.137374737984031e+254,\n",
       " 8.52826873932845e+254,\n",
       " 2.3182237942331857e+255,\n",
       " 6.301585614165449e+255,\n",
       " 1.7129485665464872e+256,\n",
       " 4.656276961528286e+256,\n",
       " 1.2657073052794837e+257,\n",
       " 3.440549168089086e+257,\n",
       " 9.352382283536447e+257,\n",
       " 2.5422410814139436e+258,\n",
       " 6.910527735169595e+258,\n",
       " 1.878476196757375e+259,\n",
       " 5.106227710838431e+259,\n",
       " 1.3880165998346134e+260,\n",
       " 3.7730203009299397e+260,\n",
       " 1.0256132522424933e+261,\n",
       " 2.787905866597553e+261,\n",
       " 7.578313856626495e+261,\n",
       " 2.059999284682719e+262,\n",
       " 5.599658622191666e+262,\n",
       " 1.522145027827762e+263,\n",
       " 4.1376191694234934e+263,\n",
       " 1.124721500132769e+264,\n",
       " 3.0573100158881035e+264,\n",
       " 8.310630260154467e+264,\n",
       " 2.2590635219219752e+265,\n",
       " 6.140771320975198e+265,\n",
       " 1.6692347094529326e+266,\n",
       " 4.537450378139021e+266,\n",
       " 1.2334068910429924e+267,\n",
       " 3.352747539018332e+267,\n",
       " 9.113712710724316e+267,\n",
       " 2.4773639651358133e+268,\n",
       " 6.734173448907929e+268,\n",
       " 1.83053813158578e+269,\n",
       " 4.975918539390998e+269,\n",
       " 1.3525948945519025e+270,\n",
       " 3.676734123126915e+270,\n",
       " 9.994399554971195e+270,\n",
       " 2.7167594696637367e+271,\n",
       " 7.384917898680968e+271,\n",
       " 2.007428812864643e+272,\n",
       " 5.456757263935073e+272,\n",
       " 1.4833004112866607e+273,\n",
       " 4.032028554146358e+273,\n",
       " 1.0960189950564043e+274,\n",
       " 2.9792885179077677e+274,\n",
       " 8.098545839965366e+274,\n",
       " 2.201412999372045e+275,\n",
       " 5.984060953126553e+275,\n",
       " 1.6266364149275224e+276,\n",
       " 4.421656208207252e+276,\n",
       " 1.2019307722462898e+277,\n",
       " 3.2671865772628366e+277,\n",
       " 8.881133903158874e+277,\n",
       " 2.414142490506832e+278,\n",
       " 6.562319663255584e+278,\n",
       " 1.7838234293167135e+279,\n",
       " 4.848934813091121e+279,\n",
       " 1.318077138980805e+280,\n",
       " 3.58290513539881e+280,\n",
       " 9.73934592264718e+280,\n",
       " 2.6474287042608523e+281,\n",
       " 7.19645733893315e+281,\n",
       " 1.956199921370272e+282,\n",
       " 5.317502699093823e+282,\n",
       " 1.4454470959728667e+283,\n",
       " 3.9291325749819406e+283,\n",
       " 1.0680489680179907e+284,\n",
       " 2.90325810166774e+284,\n",
       " 7.891873741089921e+284,\n",
       " 2.1452336982897837e+285,\n",
       " 5.831349779859113e+285,\n",
       " 1.585125214197968e+286,\n",
       " 4.308817065586588e+286,\n",
       " 1.1712579131538248e+287,\n",
       " 3.1838091017649045e+287,\n",
       " 8.654490426610056e+287,\n",
       " 2.3525344061226884e+288,\n",
       " 6.394851526987996e+288,\n",
       " 1.7383008701505047e+289,\n",
       " 4.725191667724663e+289,\n",
       " 1.2844402646362043e+290,\n",
       " 3.491470631101721e+290,\n",
       " 9.490801171122244e+290,\n",
       " 2.579867236097942e+291,\n",
       " 7.012806227721897e+291,\n",
       " 1.9062783735320858e+292,\n",
       " 5.181801862756733e+292,\n",
       " 1.4085597842206858e+293,\n",
       " 3.828862465745284e+293,\n",
       " 1.04079272643043e+294,\n",
       " 2.829167955448184e+294,\n",
       " 7.690475842953428e+294,\n",
       " 2.090488073610356e+295,\n",
       " 5.682535743105387e+295,\n",
       " 1.5446733650052388e+296,\n",
       " 4.198857538998427e+296,\n",
       " 1.1413678148547691e+297,\n",
       " 3.1025593907077266e+297,\n",
       " 8.433630813475781e+297,\n",
       " 2.2924985388203488e+298,\n",
       " 6.231657119844268e+298,\n",
       " 1.6939400310060103e+299,\n",
       " 4.60460640478299e+299,\n",
       " 1.2516617917327736e+300,\n",
       " 3.4023695038436884e+300,\n",
       " 9.248599196001516e+300,\n",
       " 2.5140299133191857e+301,\n",
       " 6.833841829578011e+301,\n",
       " 1.8576308063905224e+302,\n",
       " 5.049564064997079e+302,\n",
       " 1.372613823952135e+303,\n",
       " 3.7311512151407716e+303,\n",
       " 1.0142320547350045e+304,\n",
       " 2.7569685642268427e+304,\n",
       " 7.49421754977065e+304,\n",
       " 2.037139538406043e+305,\n",
       " 5.5375193892845935e+305,\n",
       " 1.505253833063194e+306,\n",
       " 4.0917041416340054e+306,\n",
       " 1.1122405015634333e+307,\n",
       " 3.023383144276055e+307,\n",
       " 8.218407461554972e+307,\n",
       " inf,\n",
       " inf,\n",
       " inf,\n",
       " inf,\n",
       " inf,\n",
       " inf,\n",
       " inf,\n",
       " inf,\n",
       " inf,\n",
       " inf,\n",
       " inf,\n",
       " inf,\n",
       " inf,\n",
       " inf,\n",
       " inf,\n",
       " inf,\n",
       " inf,\n",
       " inf,\n",
       " inf,\n",
       " inf,\n",
       " inf,\n",
       " inf,\n",
       " inf,\n",
       " inf,\n",
       " inf,\n",
       " inf,\n",
       " inf,\n",
       " inf,\n",
       " inf,\n",
       " inf,\n",
       " inf,\n",
       " inf,\n",
       " inf,\n",
       " inf,\n",
       " inf,\n",
       " inf,\n",
       " inf,\n",
       " inf,\n",
       " inf,\n",
       " inf,\n",
       " inf,\n",
       " inf,\n",
       " inf,\n",
       " inf,\n",
       " inf,\n",
       " inf,\n",
       " inf,\n",
       " inf,\n",
       " inf,\n",
       " inf,\n",
       " inf,\n",
       " inf,\n",
       " inf,\n",
       " inf,\n",
       " inf,\n",
       " inf,\n",
       " inf,\n",
       " inf,\n",
       " inf,\n",
       " inf,\n",
       " inf,\n",
       " inf,\n",
       " inf,\n",
       " inf,\n",
       " inf,\n",
       " inf,\n",
       " inf,\n",
       " inf,\n",
       " inf,\n",
       " inf,\n",
       " inf,\n",
       " inf,\n",
       " inf,\n",
       " inf,\n",
       " inf,\n",
       " inf,\n",
       " inf,\n",
       " inf,\n",
       " inf,\n",
       " inf,\n",
       " inf,\n",
       " inf,\n",
       " inf,\n",
       " inf,\n",
       " inf,\n",
       " inf,\n",
       " inf,\n",
       " inf,\n",
       " inf,\n",
       " inf,\n",
       " inf,\n",
       " inf,\n",
       " inf,\n",
       " inf,\n",
       " inf,\n",
       " inf,\n",
       " inf,\n",
       " inf,\n",
       " inf,\n",
       " inf,\n",
       " inf,\n",
       " inf,\n",
       " inf,\n",
       " inf,\n",
       " inf,\n",
       " inf,\n",
       " inf,\n",
       " inf,\n",
       " inf,\n",
       " inf,\n",
       " inf,\n",
       " inf,\n",
       " inf,\n",
       " inf,\n",
       " inf,\n",
       " inf,\n",
       " inf,\n",
       " inf,\n",
       " inf,\n",
       " inf,\n",
       " inf,\n",
       " inf,\n",
       " inf,\n",
       " inf,\n",
       " inf,\n",
       " inf,\n",
       " inf,\n",
       " inf,\n",
       " inf,\n",
       " inf,\n",
       " inf,\n",
       " inf,\n",
       " inf,\n",
       " inf,\n",
       " inf,\n",
       " inf,\n",
       " inf,\n",
       " inf,\n",
       " inf,\n",
       " inf,\n",
       " inf,\n",
       " inf,\n",
       " inf,\n",
       " inf,\n",
       " inf,\n",
       " inf,\n",
       " inf,\n",
       " inf,\n",
       " inf,\n",
       " inf,\n",
       " inf,\n",
       " inf,\n",
       " inf,\n",
       " inf,\n",
       " inf,\n",
       " inf,\n",
       " inf,\n",
       " inf,\n",
       " inf,\n",
       " inf,\n",
       " inf,\n",
       " inf,\n",
       " inf,\n",
       " inf,\n",
       " inf,\n",
       " inf,\n",
       " inf,\n",
       " inf,\n",
       " inf,\n",
       " inf,\n",
       " inf,\n",
       " inf,\n",
       " inf,\n",
       " inf,\n",
       " inf,\n",
       " inf,\n",
       " inf,\n",
       " inf,\n",
       " inf,\n",
       " inf,\n",
       " inf,\n",
       " inf,\n",
       " inf,\n",
       " inf,\n",
       " inf,\n",
       " inf,\n",
       " inf,\n",
       " inf,\n",
       " inf,\n",
       " inf,\n",
       " inf,\n",
       " inf,\n",
       " inf,\n",
       " inf,\n",
       " inf,\n",
       " inf,\n",
       " inf,\n",
       " inf,\n",
       " inf,\n",
       " inf,\n",
       " inf,\n",
       " inf,\n",
       " inf,\n",
       " inf,\n",
       " inf,\n",
       " inf,\n",
       " inf,\n",
       " inf,\n",
       " inf,\n",
       " inf,\n",
       " inf,\n",
       " inf,\n",
       " inf,\n",
       " inf,\n",
       " inf,\n",
       " inf,\n",
       " inf,\n",
       " inf,\n",
       " inf,\n",
       " inf,\n",
       " inf,\n",
       " inf,\n",
       " inf,\n",
       " inf,\n",
       " inf,\n",
       " inf,\n",
       " inf,\n",
       " inf,\n",
       " inf,\n",
       " inf,\n",
       " inf,\n",
       " inf,\n",
       " inf,\n",
       " inf,\n",
       " inf,\n",
       " inf,\n",
       " inf,\n",
       " inf,\n",
       " inf,\n",
       " inf,\n",
       " inf,\n",
       " inf,\n",
       " inf,\n",
       " inf,\n",
       " inf,\n",
       " inf,\n",
       " inf,\n",
       " inf,\n",
       " inf,\n",
       " inf,\n",
       " inf,\n",
       " inf,\n",
       " inf,\n",
       " inf,\n",
       " inf,\n",
       " inf,\n",
       " inf,\n",
       " inf,\n",
       " inf,\n",
       " inf,\n",
       " inf,\n",
       " inf,\n",
       " inf,\n",
       " inf,\n",
       " inf,\n",
       " inf,\n",
       " inf,\n",
       " inf,\n",
       " inf,\n",
       " inf,\n",
       " inf,\n",
       " inf,\n",
       " inf,\n",
       " inf,\n",
       " inf,\n",
       " inf,\n",
       " inf,\n",
       " inf,\n",
       " inf,\n",
       " inf,\n",
       " inf,\n",
       " inf,\n",
       " inf,\n",
       " inf,\n",
       " inf,\n",
       " inf,\n",
       " inf,\n",
       " inf,\n",
       " inf,\n",
       " inf,\n",
       " ...]"
      ]
     },
     "execution_count": 34,
     "metadata": {},
     "output_type": "execute_result"
    }
   ],
   "source": [
    "[np.exp(x[i]) for i in range(len(x))]"
   ]
  },
  {
   "cell_type": "code",
   "execution_count": null,
   "metadata": {},
   "outputs": [],
   "source": []
  }
 ],
 "metadata": {
  "kernelspec": {
   "display_name": "Python 3",
   "language": "python",
   "name": "python3"
  },
  "language_info": {
   "codemirror_mode": {
    "name": "ipython",
    "version": 3
   },
   "file_extension": ".py",
   "mimetype": "text/x-python",
   "name": "python",
   "nbconvert_exporter": "python",
   "pygments_lexer": "ipython3",
   "version": "3.7.1"
  }
 },
 "nbformat": 4,
 "nbformat_minor": 4
}
