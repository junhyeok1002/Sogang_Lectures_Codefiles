{
 "cells": [
  {
   "cell_type": "markdown",
   "metadata": {},
   "source": [
    "# Overview\n",
    "Numpy is a first-rate library for numerical programming\n",
    "- Widely used in academia, finance and industry.\n",
    "- Mature, fast, stable and under continuous development.\n",
    "\n",
    "Numpy arrays / fundamental array processing operations \n",
    "    \n",
    "    \n",
    "### Introduction to Numpy([Numpy Documentation](https://numpy.org/doc/stable/))\n",
    "\n",
    "The essential problem that NumPy solves is fast array processing.\n",
    "\n",
    "For example, suppose we want to create an array of 1 million random draws from a uniform distribution and compute the mean.\n",
    "\n",
    "If we did this in pure Python it would be orders of magnitude slower than C or Fortran.\n",
    "\n",
    "This is because\n",
    "\n",
    "Loops in Python over Python data types like lists carry significant overhead.\n",
    "C and Fortran code contains a lot of type information that can be used for optimization.\n",
    "Various optimizations can be carried out during compilation when the compiler sees the instructions as a whole.\n",
    "However, for a task like the one described above, there’s no need to switch back to C or Fortran.    \n",
    "    \n",
    "\n"
   ]
  },
  {
   "cell_type": "markdown",
   "metadata": {},
   "source": [
    "- (Note) Attribute, Method\n",
    "    - Attribute : class.attribute\n",
    "        - A variable stored in an instance or class is called an attribute.\n",
    "    - Method : class.method()\n",
    "        - A function stored in an instance or class is called an method."
   ]
  },
  {
   "cell_type": "code",
   "execution_count": 1,
   "metadata": {},
   "outputs": [
    {
     "name": "stdout",
     "output_type": "stream",
     "text": [
      "0.5001050232176241\n"
     ]
    },
    {
     "data": {
      "text/plain": [
       "0.11470341682434082"
      ]
     },
     "execution_count": 1,
     "metadata": {},
     "output_type": "execute_result"
    }
   ],
   "source": [
    "import numpy as np\n",
    "from numpy import random\n",
    "import time\n",
    "\n",
    "start = time.time()\n",
    "x = random.uniform(0, 1, size=10000000)\n",
    "print(x.mean())\n",
    "end = time.time()\n",
    "end-start"
   ]
  },
  {
   "cell_type": "markdown",
   "metadata": {},
   "source": [
    "### (1) Numpy arrays\n",
    "\n",
    "The most important thing that Numpy defines is an array data type formally called a Numpy.ndarray.\n",
    "\n",
    "Numpy arrays power a large proportion of the scientific Python ecosystem."
   ]
  },
  {
   "cell_type": "markdown",
   "metadata": {},
   "source": [
    "(1) Creating arrays"
   ]
  },
  {
   "cell_type": "code",
   "execution_count": 2,
   "metadata": {
    "execution": {
     "iopub.execute_input": "2021-09-02T07:04:36.301982Z",
     "iopub.status.busy": "2021-09-02T07:04:36.301982Z",
     "iopub.status.idle": "2021-09-02T07:04:36.316963Z",
     "shell.execute_reply": "2021-09-02T07:04:36.316963Z",
     "shell.execute_reply.started": "2021-09-02T07:04:36.301982Z"
    }
   },
   "outputs": [
    {
     "name": "stdout",
     "output_type": "stream",
     "text": [
      "[0. 0. 0.]\n",
      "[1. 1. 1. 1.]\n"
     ]
    }
   ],
   "source": [
    "#numpy array containing only zeros.\n",
    "\n",
    "a = np.zeros(3)\n",
    "b = np.ones(4)\n",
    "print(a)\n",
    "print(b)"
   ]
  },
  {
   "cell_type": "code",
   "execution_count": 3,
   "metadata": {
    "execution": {
     "iopub.execute_input": "2021-09-02T07:04:36.317940Z",
     "iopub.status.busy": "2021-09-02T07:04:36.317940Z",
     "iopub.status.idle": "2021-09-02T07:04:36.333016Z",
     "shell.execute_reply": "2021-09-02T07:04:36.333016Z",
     "shell.execute_reply.started": "2021-09-02T07:04:36.317940Z"
    }
   },
   "outputs": [
    {
     "data": {
      "text/plain": [
       "array([1, 2, 3, 4])"
      ]
     },
     "execution_count": 3,
     "metadata": {},
     "output_type": "execute_result"
    }
   ],
   "source": [
    "#we can also create numpy arrays by np.array\n",
    "a = np.array([1, 2, 3, 4])         # From 2 to 4, with 5 elements\n",
    "a"
   ]
  },
  {
   "cell_type": "code",
   "execution_count": 4,
   "metadata": {
    "execution": {
     "iopub.execute_input": "2021-09-02T07:04:36.333992Z",
     "iopub.status.busy": "2021-09-02T07:04:36.333992Z",
     "iopub.status.idle": "2021-09-02T07:04:36.349046Z",
     "shell.execute_reply": "2021-09-02T07:04:36.349046Z",
     "shell.execute_reply.started": "2021-09-02T07:04:36.333992Z"
    }
   },
   "outputs": [
    {
     "data": {
      "text/plain": [
       "array([2. , 2.5, 3. , 3.5, 4. ])"
      ]
     },
     "execution_count": 4,
     "metadata": {},
     "output_type": "execute_result"
    }
   ],
   "source": [
    "#To set up a grid of evenly spaced numbers use np.linspace\n",
    "a = np.linspace(2, 4, 5) \n",
    "a"
   ]
  },
  {
   "cell_type": "code",
   "execution_count": 5,
   "metadata": {},
   "outputs": [
    {
     "data": {
      "text/plain": [
       "array([ 0,  1,  2,  3,  4,  5,  6,  7,  8,  9, 10, 11, 12, 13, 14, 15, 16,\n",
       "       17, 18, 19, 20, 21, 22, 23, 24, 25, 26, 27, 28, 29, 30, 31, 32, 33,\n",
       "       34, 35, 36, 37, 38, 39, 40, 41, 42, 43, 44, 45, 46, 47, 48, 49, 50,\n",
       "       51, 52, 53, 54, 55, 56, 57, 58, 59, 60, 61, 62, 63, 64, 65, 66, 67,\n",
       "       68, 69, 70, 71, 72, 73, 74, 75, 76, 77, 78, 79, 80, 81, 82, 83, 84,\n",
       "       85, 86, 87, 88, 89, 90, 91, 92, 93, 94, 95, 96, 97, 98, 99])"
      ]
     },
     "execution_count": 5,
     "metadata": {},
     "output_type": "execute_result"
    }
   ],
   "source": [
    "\"\"\"팁 np.치고 tab누르면 np에 있는 메소드들 쭉나옴. 그리고 어떻게 쓰는지\n",
    "모르겠으면 가로안에 shift누르고 커서대면 설명나옴!\"\"\"\n",
    "\n",
    "a = np.arange(100)\n",
    "a"
   ]
  },
  {
   "cell_type": "code",
   "execution_count": 6,
   "metadata": {
    "execution": {
     "iopub.execute_input": "2021-09-02T07:04:36.350044Z",
     "iopub.status.busy": "2021-09-02T07:04:36.350044Z",
     "iopub.status.idle": "2021-09-02T07:04:36.365082Z",
     "shell.execute_reply": "2021-09-02T07:04:36.365082Z",
     "shell.execute_reply.started": "2021-09-02T07:04:36.350044Z"
    }
   },
   "outputs": [
    {
     "data": {
      "text/plain": [
       "array([[1],\n",
       "       [2],\n",
       "       [3],\n",
       "       [4]])"
      ]
     },
     "execution_count": 6,
     "metadata": {},
     "output_type": "execute_result"
    }
   ],
   "source": [
    "a = np.array([[1], [2], [3], [4]])         # 2D array from a list of lists\n",
    "a"
   ]
  },
  {
   "cell_type": "code",
   "execution_count": 7,
   "metadata": {
    "execution": {
     "iopub.execute_input": "2021-09-02T07:04:36.367022Z",
     "iopub.status.busy": "2021-09-02T07:04:36.367022Z",
     "iopub.status.idle": "2021-09-02T07:04:36.381139Z",
     "shell.execute_reply": "2021-09-02T07:04:36.381139Z",
     "shell.execute_reply.started": "2021-09-02T07:04:36.367022Z"
    }
   },
   "outputs": [
    {
     "data": {
      "text/plain": [
       "array([[1., 0.],\n",
       "       [0., 1.]])"
      ]
     },
     "execution_count": 7,
     "metadata": {},
     "output_type": "execute_result"
    }
   ],
   "source": [
    "np.identity(2)"
   ]
  },
  {
   "cell_type": "markdown",
   "metadata": {},
   "source": [
    "(2) Shape and Dimension"
   ]
  },
  {
   "cell_type": "code",
   "execution_count": 8,
   "metadata": {
    "execution": {
     "iopub.execute_input": "2021-09-02T07:04:36.383162Z",
     "iopub.status.busy": "2021-09-02T07:04:36.382139Z",
     "iopub.status.idle": "2021-09-02T07:04:36.396291Z",
     "shell.execute_reply": "2021-09-02T07:04:36.396291Z",
     "shell.execute_reply.started": "2021-09-02T07:04:36.383162Z"
    }
   },
   "outputs": [
    {
     "data": {
      "text/plain": [
       "(10,)"
      ]
     },
     "execution_count": 8,
     "metadata": {},
     "output_type": "execute_result"
    }
   ],
   "source": [
    "# Consider the following assignment\n",
    "\n",
    "z = np.zeros(10)\n",
    "\n",
    "# Here z is a flat array with no dimension — neither row nor column vector.\n",
    "# The dimension is recorded in the shape attribute, which is a tuple\n",
    "\n",
    "z.shape"
   ]
  },
  {
   "cell_type": "code",
   "execution_count": 9,
   "metadata": {
    "execution": {
     "iopub.execute_input": "2021-09-02T07:04:36.397207Z",
     "iopub.status.busy": "2021-09-02T07:04:36.397207Z",
     "iopub.status.idle": "2021-09-02T07:04:36.412449Z",
     "shell.execute_reply": "2021-09-02T07:04:36.412449Z",
     "shell.execute_reply.started": "2021-09-02T07:04:36.397207Z"
    }
   },
   "outputs": [
    {
     "data": {
      "text/plain": [
       "array([[0.],\n",
       "       [0.],\n",
       "       [0.],\n",
       "       [0.],\n",
       "       [0.],\n",
       "       [0.],\n",
       "       [0.],\n",
       "       [0.],\n",
       "       [0.],\n",
       "       [0.]])"
      ]
     },
     "execution_count": 9,
     "metadata": {},
     "output_type": "execute_result"
    }
   ],
   "source": [
    "# To give it dimension, we can change the shape attribute\n",
    "z.shape = (10, 1) #identical to z.reshape(10,1)\n",
    "z"
   ]
  },
  {
   "cell_type": "code",
   "execution_count": 10,
   "metadata": {
    "execution": {
     "iopub.execute_input": "2021-09-02T07:05:18.018913Z",
     "iopub.status.busy": "2021-09-02T07:05:18.018913Z",
     "iopub.status.idle": "2021-09-02T07:05:18.030905Z",
     "shell.execute_reply": "2021-09-02T07:05:18.030905Z",
     "shell.execute_reply.started": "2021-09-02T07:05:18.018913Z"
    }
   },
   "outputs": [
    {
     "name": "stdout",
     "output_type": "stream",
     "text": [
      "[0 1 2 3 4 5 6 7 8]\n",
      "[[0 1 2 3 4 5 6 7 8]]\n"
     ]
    }
   ],
   "source": [
    "# add a new dimension\n",
    "x = np.arange(9)\n",
    "print(x)\n",
    "print(x[np.newaxis,:])"
   ]
  },
  {
   "cell_type": "code",
   "execution_count": 11,
   "metadata": {
    "execution": {
     "iopub.execute_input": "2021-09-02T07:04:36.429006Z",
     "iopub.status.busy": "2021-09-02T07:04:36.429006Z",
     "iopub.status.idle": "2021-09-02T07:04:36.444966Z",
     "shell.execute_reply": "2021-09-02T07:04:36.444071Z",
     "shell.execute_reply.started": "2021-09-02T07:04:36.429006Z"
    }
   },
   "outputs": [
    {
     "name": "stdout",
     "output_type": "stream",
     "text": [
      "[0 1 2 3 4 5 6 7 8]\n",
      "[[0 1 2 3 4 5 6 7 8]]\n"
     ]
    }
   ],
   "source": [
    "# This is also possible\n",
    "x = np.arange(9)\n",
    "print(x)\n",
    "print(x[None, :],)"
   ]
  },
  {
   "cell_type": "code",
   "execution_count": 12,
   "metadata": {
    "execution": {
     "iopub.execute_input": "2021-09-02T07:04:36.444966Z",
     "iopub.status.busy": "2021-09-02T07:04:36.444966Z",
     "iopub.status.idle": "2021-09-02T07:04:36.460811Z",
     "shell.execute_reply": "2021-09-02T07:04:36.460082Z",
     "shell.execute_reply.started": "2021-09-02T07:04:36.444966Z"
    }
   },
   "outputs": [
    {
     "data": {
      "text/plain": [
       "array([[0., 0.],\n",
       "       [0., 0.]])"
      ]
     },
     "execution_count": 12,
     "metadata": {},
     "output_type": "execute_result"
    }
   ],
   "source": [
    "z = np.zeros(4)\n",
    "z.shape = (2, 2)\n",
    "z"
   ]
  },
  {
   "cell_type": "code",
   "execution_count": 13,
   "metadata": {
    "execution": {
     "iopub.execute_input": "2021-09-02T07:04:36.460811Z",
     "iopub.status.busy": "2021-09-02T07:04:36.460811Z",
     "iopub.status.idle": "2021-09-02T07:04:36.476047Z",
     "shell.execute_reply": "2021-09-02T07:04:36.476047Z",
     "shell.execute_reply.started": "2021-09-02T07:04:36.460811Z"
    }
   },
   "outputs": [
    {
     "name": "stdout",
     "output_type": "stream",
     "text": [
      "2 (2, 2) 4\n"
     ]
    }
   ],
   "source": [
    "x = np.array([[1,2],[3, 4]])   # why it has so many square bracket?\n",
    "print(x.ndim, x.shape, x.size)"
   ]
  },
  {
   "cell_type": "code",
   "execution_count": 14,
   "metadata": {
    "execution": {
     "iopub.execute_input": "2021-09-02T07:04:36.476972Z",
     "iopub.status.busy": "2021-09-02T07:04:36.476972Z",
     "iopub.status.idle": "2021-09-02T07:04:36.492132Z",
     "shell.execute_reply": "2021-09-02T07:04:36.492132Z",
     "shell.execute_reply.started": "2021-09-02T07:04:36.476972Z"
    }
   },
   "outputs": [
    {
     "name": "stdout",
     "output_type": "stream",
     "text": [
      "1 (4,) 4\n"
     ]
    }
   ],
   "source": [
    "x = np.array([1,2,3,4])   \n",
    "print(x.ndim, x.shape, x.size) #x.ndim은 x가 몇차원인지 알려줌."
   ]
  },
  {
   "cell_type": "code",
   "execution_count": 15,
   "metadata": {
    "execution": {
     "iopub.execute_input": "2021-09-02T07:04:36.493035Z",
     "iopub.status.busy": "2021-09-02T07:04:36.493035Z",
     "iopub.status.idle": "2021-09-02T07:04:36.507710Z",
     "shell.execute_reply": "2021-09-02T07:04:36.507710Z",
     "shell.execute_reply.started": "2021-09-02T07:04:36.493035Z"
    }
   },
   "outputs": [
    {
     "name": "stdout",
     "output_type": "stream",
     "text": [
      "0 () 1\n"
     ]
    }
   ],
   "source": [
    "x = np.array(1)   \n",
    "print(x.ndim, x.shape, x.size)"
   ]
  },
  {
   "cell_type": "markdown",
   "metadata": {},
   "source": [
    "(3) Indexing of arrays\n",
    "- negative indexing\n",
    "- Array slicing : x[start:stop:step]"
   ]
  },
  {
   "cell_type": "code",
   "execution_count": 16,
   "metadata": {
    "execution": {
     "iopub.execute_input": "2021-09-02T07:04:36.508709Z",
     "iopub.status.busy": "2021-09-02T07:04:36.508709Z",
     "iopub.status.idle": "2021-09-02T07:04:36.523559Z",
     "shell.execute_reply": "2021-09-02T07:04:36.523559Z",
     "shell.execute_reply.started": "2021-09-02T07:04:36.508709Z"
    }
   },
   "outputs": [
    {
     "data": {
      "text/plain": [
       "[0, 1, 2, 3, 4, 5, 6, 7, 8, 9]"
      ]
     },
     "execution_count": 16,
     "metadata": {},
     "output_type": "execute_result"
    }
   ],
   "source": [
    "list(range(10))"
   ]
  },
  {
   "cell_type": "code",
   "execution_count": 17,
   "metadata": {
    "execution": {
     "iopub.execute_input": "2021-09-02T07:04:36.524456Z",
     "iopub.status.busy": "2021-09-02T07:04:36.524456Z",
     "iopub.status.idle": "2021-09-02T07:04:36.539645Z",
     "shell.execute_reply": "2021-09-02T07:04:36.539645Z",
     "shell.execute_reply.started": "2021-09-02T07:04:36.524456Z"
    }
   },
   "outputs": [
    {
     "name": "stdout",
     "output_type": "stream",
     "text": [
      "[0 1 2 3 4 5 6 7 8 9] <class 'numpy.ndarray'>\n",
      "1 (10,) 10\n"
     ]
    }
   ],
   "source": [
    "x = np.arange(10)\n",
    "print(x, type(x))\n",
    "print(x.ndim, x.shape, x.size)"
   ]
  },
  {
   "cell_type": "code",
   "execution_count": 18,
   "metadata": {
    "execution": {
     "iopub.execute_input": "2021-09-02T07:04:36.540579Z",
     "iopub.status.busy": "2021-09-02T07:04:36.540579Z",
     "iopub.status.idle": "2021-09-02T07:04:36.555541Z",
     "shell.execute_reply": "2021-09-02T07:04:36.554801Z",
     "shell.execute_reply.started": "2021-09-02T07:04:36.540579Z"
    }
   },
   "outputs": [
    {
     "name": "stdout",
     "output_type": "stream",
     "text": [
      "9\n",
      "9\n"
     ]
    }
   ],
   "source": [
    "print(x[9])\n",
    "print(x[-1])"
   ]
  },
  {
   "cell_type": "code",
   "execution_count": 19,
   "metadata": {
    "execution": {
     "iopub.execute_input": "2021-09-02T07:04:36.555541Z",
     "iopub.status.busy": "2021-09-02T07:04:36.555541Z",
     "iopub.status.idle": "2021-09-02T07:04:36.570891Z",
     "shell.execute_reply": "2021-09-02T07:04:36.570891Z",
     "shell.execute_reply.started": "2021-09-02T07:04:36.555541Z"
    }
   },
   "outputs": [
    {
     "data": {
      "text/plain": [
       "array([2, 3, 4, 5, 6, 7, 8, 9])"
      ]
     },
     "execution_count": 19,
     "metadata": {},
     "output_type": "execute_result"
    }
   ],
   "source": [
    "x[2:]"
   ]
  },
  {
   "cell_type": "code",
   "execution_count": 20,
   "metadata": {
    "execution": {
     "iopub.execute_input": "2021-09-02T07:04:36.571785Z",
     "iopub.status.busy": "2021-09-02T07:04:36.571785Z",
     "iopub.status.idle": "2021-09-02T07:04:36.586171Z",
     "shell.execute_reply": "2021-09-02T07:04:36.586171Z",
     "shell.execute_reply.started": "2021-09-02T07:04:36.571785Z"
    }
   },
   "outputs": [
    {
     "data": {
      "text/plain": [
       "array([0, 1, 2, 3, 4, 5, 6, 7, 8])"
      ]
     },
     "execution_count": 20,
     "metadata": {},
     "output_type": "execute_result"
    }
   ],
   "source": [
    "x[:-1]"
   ]
  },
  {
   "cell_type": "code",
   "execution_count": 21,
   "metadata": {
    "execution": {
     "iopub.execute_input": "2021-09-02T07:04:36.587199Z",
     "iopub.status.busy": "2021-09-02T07:04:36.587199Z",
     "iopub.status.idle": "2021-09-02T07:04:36.601322Z",
     "shell.execute_reply": "2021-09-02T07:04:36.601322Z",
     "shell.execute_reply.started": "2021-09-02T07:04:36.587199Z"
    }
   },
   "outputs": [
    {
     "data": {
      "text/plain": [
       "array([4, 5, 6])"
      ]
     },
     "execution_count": 21,
     "metadata": {},
     "output_type": "execute_result"
    }
   ],
   "source": [
    "x[4:7] "
   ]
  },
  {
   "cell_type": "code",
   "execution_count": 22,
   "metadata": {
    "execution": {
     "iopub.execute_input": "2021-09-02T07:04:36.602239Z",
     "iopub.status.busy": "2021-09-02T07:04:36.602239Z",
     "iopub.status.idle": "2021-09-02T07:04:36.616669Z",
     "shell.execute_reply": "2021-09-02T07:04:36.616669Z",
     "shell.execute_reply.started": "2021-09-02T07:04:36.602239Z"
    }
   },
   "outputs": [
    {
     "data": {
      "text/plain": [
       "array([0, 2, 4, 6, 8])"
      ]
     },
     "execution_count": 22,
     "metadata": {},
     "output_type": "execute_result"
    }
   ],
   "source": [
    "x[::2]"
   ]
  },
  {
   "cell_type": "code",
   "execution_count": 23,
   "metadata": {
    "execution": {
     "iopub.execute_input": "2021-09-02T07:04:36.617668Z",
     "iopub.status.busy": "2021-09-02T07:04:36.617668Z",
     "iopub.status.idle": "2021-09-02T07:04:36.631928Z",
     "shell.execute_reply": "2021-09-02T07:04:36.631928Z",
     "shell.execute_reply.started": "2021-09-02T07:04:36.617668Z"
    }
   },
   "outputs": [
    {
     "data": {
      "text/plain": [
       "array([2, 1, 0])"
      ]
     },
     "execution_count": 23,
     "metadata": {},
     "output_type": "execute_result"
    }
   ],
   "source": [
    "x[2::-1]"
   ]
  },
  {
   "cell_type": "code",
   "execution_count": 24,
   "metadata": {
    "execution": {
     "iopub.execute_input": "2021-09-02T07:04:36.632926Z",
     "iopub.status.busy": "2021-09-02T07:04:36.632926Z",
     "iopub.status.idle": "2021-09-02T07:04:36.647163Z",
     "shell.execute_reply": "2021-09-02T07:04:36.647163Z",
     "shell.execute_reply.started": "2021-09-02T07:04:36.632926Z"
    }
   },
   "outputs": [
    {
     "data": {
      "text/plain": [
       "array([2, 5, 8])"
      ]
     },
     "execution_count": 24,
     "metadata": {},
     "output_type": "execute_result"
    }
   ],
   "source": [
    "x[2::3]"
   ]
  },
  {
   "cell_type": "code",
   "execution_count": 25,
   "metadata": {
    "execution": {
     "iopub.execute_input": "2021-09-02T07:04:36.650078Z",
     "iopub.status.busy": "2021-09-02T07:04:36.650078Z",
     "iopub.status.idle": "2021-09-02T07:04:36.664015Z",
     "shell.execute_reply": "2021-09-02T07:04:36.663042Z",
     "shell.execute_reply.started": "2021-09-02T07:04:36.650078Z"
    }
   },
   "outputs": [
    {
     "name": "stdout",
     "output_type": "stream",
     "text": [
      "[[ 0  1  2  3]\n",
      " [ 4  5  6  7]\n",
      " [ 8  9 10 11]]\n"
     ]
    }
   ],
   "source": [
    "x = np.arange(12).reshape(3,4)  #함수 reshape()\n",
    "print(x)"
   ]
  },
  {
   "cell_type": "code",
   "execution_count": 26,
   "metadata": {
    "execution": {
     "iopub.execute_input": "2021-09-02T07:04:36.665033Z",
     "iopub.status.busy": "2021-09-02T07:04:36.665033Z",
     "iopub.status.idle": "2021-09-02T07:04:36.678002Z",
     "shell.execute_reply": "2021-09-02T07:04:36.678002Z",
     "shell.execute_reply.started": "2021-09-02T07:04:36.665033Z"
    }
   },
   "outputs": [
    {
     "data": {
      "text/plain": [
       "7"
      ]
     },
     "execution_count": 26,
     "metadata": {},
     "output_type": "execute_result"
    }
   ],
   "source": [
    "x[1,-1]"
   ]
  },
  {
   "cell_type": "code",
   "execution_count": 27,
   "metadata": {
    "execution": {
     "iopub.execute_input": "2021-09-02T07:04:36.679004Z",
     "iopub.status.busy": "2021-09-02T07:04:36.679004Z",
     "iopub.status.idle": "2021-09-02T07:04:36.693959Z",
     "shell.execute_reply": "2021-09-02T07:04:36.693959Z",
     "shell.execute_reply.started": "2021-09-02T07:04:36.679004Z"
    }
   },
   "outputs": [
    {
     "data": {
      "text/plain": [
       "9"
      ]
     },
     "execution_count": 27,
     "metadata": {},
     "output_type": "execute_result"
    }
   ],
   "source": [
    "x[-1,-3]"
   ]
  },
  {
   "cell_type": "code",
   "execution_count": 28,
   "metadata": {
    "execution": {
     "iopub.execute_input": "2021-09-02T07:04:36.694958Z",
     "iopub.status.busy": "2021-09-02T07:04:36.694958Z",
     "iopub.status.idle": "2021-09-02T07:04:36.709896Z",
     "shell.execute_reply": "2021-09-02T07:04:36.709896Z",
     "shell.execute_reply.started": "2021-09-02T07:04:36.694958Z"
    }
   },
   "outputs": [
    {
     "data": {
      "text/plain": [
       "array([ 8,  9, 10, 11])"
      ]
     },
     "execution_count": 28,
     "metadata": {},
     "output_type": "execute_result"
    }
   ],
   "source": [
    "x[-1] #equivalent : x[-1,:]"
   ]
  },
  {
   "cell_type": "code",
   "execution_count": 29,
   "metadata": {
    "execution": {
     "iopub.execute_input": "2021-09-02T07:04:36.710894Z",
     "iopub.status.busy": "2021-09-02T07:04:36.710894Z",
     "iopub.status.idle": "2021-09-02T07:04:36.725791Z",
     "shell.execute_reply": "2021-09-02T07:04:36.725791Z",
     "shell.execute_reply.started": "2021-09-02T07:04:36.710894Z"
    }
   },
   "outputs": [
    {
     "data": {
      "text/plain": [
       "array([ 3,  7, 11])"
      ]
     },
     "execution_count": 29,
     "metadata": {},
     "output_type": "execute_result"
    }
   ],
   "source": [
    "x[:,-1]"
   ]
  },
  {
   "cell_type": "markdown",
   "metadata": {},
   "source": [
    "(4) Method of arrays"
   ]
  },
  {
   "cell_type": "code",
   "execution_count": 30,
   "metadata": {
    "execution": {
     "iopub.execute_input": "2021-09-02T07:04:36.726764Z",
     "iopub.status.busy": "2021-09-02T07:04:36.726764Z",
     "iopub.status.idle": "2021-09-02T07:04:36.740752Z",
     "shell.execute_reply": "2021-09-02T07:04:36.740752Z",
     "shell.execute_reply.started": "2021-09-02T07:04:36.726764Z"
    }
   },
   "outputs": [
    {
     "data": {
      "text/plain": [
       "array([4, 3, 2, 1])"
      ]
     },
     "execution_count": 30,
     "metadata": {},
     "output_type": "execute_result"
    }
   ],
   "source": [
    "a = np.array((4, 3, 2, 1))\n",
    "a"
   ]
  },
  {
   "cell_type": "code",
   "execution_count": 31,
   "metadata": {
    "execution": {
     "iopub.execute_input": "2021-09-02T07:04:36.741724Z",
     "iopub.status.busy": "2021-09-02T07:04:36.741724Z",
     "iopub.status.idle": "2021-09-02T07:04:36.755944Z",
     "shell.execute_reply": "2021-09-02T07:04:36.755944Z",
     "shell.execute_reply.started": "2021-09-02T07:04:36.741724Z"
    }
   },
   "outputs": [
    {
     "data": {
      "text/plain": [
       "array([1, 2, 3, 4])"
      ]
     },
     "execution_count": 31,
     "metadata": {},
     "output_type": "execute_result"
    }
   ],
   "source": [
    "a.sort()              # Sorts a in place\n",
    "a"
   ]
  },
  {
   "cell_type": "code",
   "execution_count": 32,
   "metadata": {
    "execution": {
     "iopub.execute_input": "2021-09-02T07:04:36.756837Z",
     "iopub.status.busy": "2021-09-02T07:04:36.756837Z",
     "iopub.status.idle": "2021-09-02T07:04:36.771987Z",
     "shell.execute_reply": "2021-09-02T07:04:36.771987Z",
     "shell.execute_reply.started": "2021-09-02T07:04:36.756837Z"
    }
   },
   "outputs": [
    {
     "data": {
      "text/plain": [
       "10"
      ]
     },
     "execution_count": 32,
     "metadata": {},
     "output_type": "execute_result"
    }
   ],
   "source": [
    "a.sum()   "
   ]
  },
  {
   "cell_type": "code",
   "execution_count": 33,
   "metadata": {
    "execution": {
     "iopub.execute_input": "2021-09-02T07:04:36.772986Z",
     "iopub.status.busy": "2021-09-02T07:04:36.772986Z",
     "iopub.status.idle": "2021-09-02T07:04:36.787408Z",
     "shell.execute_reply": "2021-09-02T07:04:36.787408Z",
     "shell.execute_reply.started": "2021-09-02T07:04:36.772986Z"
    }
   },
   "outputs": [
    {
     "data": {
      "text/plain": [
       "2.5"
      ]
     },
     "execution_count": 33,
     "metadata": {},
     "output_type": "execute_result"
    }
   ],
   "source": [
    "a.mean()"
   ]
  },
  {
   "cell_type": "code",
   "execution_count": 34,
   "metadata": {
    "execution": {
     "iopub.execute_input": "2021-09-02T07:04:36.788302Z",
     "iopub.status.busy": "2021-09-02T07:04:36.788302Z",
     "iopub.status.idle": "2021-09-02T07:04:36.803419Z",
     "shell.execute_reply": "2021-09-02T07:04:36.803419Z",
     "shell.execute_reply.started": "2021-09-02T07:04:36.788302Z"
    }
   },
   "outputs": [
    {
     "data": {
      "text/plain": [
       "4"
      ]
     },
     "execution_count": 34,
     "metadata": {},
     "output_type": "execute_result"
    }
   ],
   "source": [
    "a.max()"
   ]
  },
  {
   "cell_type": "code",
   "execution_count": 35,
   "metadata": {
    "execution": {
     "iopub.execute_input": "2021-09-02T07:04:36.804310Z",
     "iopub.status.busy": "2021-09-02T07:04:36.804310Z",
     "iopub.status.idle": "2021-09-02T07:04:36.819685Z",
     "shell.execute_reply": "2021-09-02T07:04:36.818686Z",
     "shell.execute_reply.started": "2021-09-02T07:04:36.804310Z"
    }
   },
   "outputs": [
    {
     "data": {
      "text/plain": [
       "3"
      ]
     },
     "execution_count": 35,
     "metadata": {},
     "output_type": "execute_result"
    }
   ],
   "source": [
    "a.argmax()  #최댓값이 있는 인덱스넘버"
   ]
  },
  {
   "cell_type": "code",
   "execution_count": 36,
   "metadata": {
    "execution": {
     "iopub.execute_input": "2021-09-02T07:04:36.820681Z",
     "iopub.status.busy": "2021-09-02T07:04:36.820681Z",
     "iopub.status.idle": "2021-09-02T07:04:36.834839Z",
     "shell.execute_reply": "2021-09-02T07:04:36.833891Z",
     "shell.execute_reply.started": "2021-09-02T07:04:36.820681Z"
    }
   },
   "outputs": [
    {
     "data": {
      "text/plain": [
       "array([ 1,  3,  6, 10], dtype=int32)"
      ]
     },
     "execution_count": 36,
     "metadata": {},
     "output_type": "execute_result"
    }
   ],
   "source": [
    "a.cumsum()  #누적해서 덧셈"
   ]
  },
  {
   "cell_type": "code",
   "execution_count": 37,
   "metadata": {
    "execution": {
     "iopub.execute_input": "2021-09-02T07:04:36.835836Z",
     "iopub.status.busy": "2021-09-02T07:04:36.835836Z",
     "iopub.status.idle": "2021-09-02T07:04:36.850240Z",
     "shell.execute_reply": "2021-09-02T07:04:36.849264Z",
     "shell.execute_reply.started": "2021-09-02T07:04:36.835836Z"
    }
   },
   "outputs": [
    {
     "data": {
      "text/plain": [
       "array([ 1,  2,  6, 24], dtype=int32)"
      ]
     },
     "execution_count": 37,
     "metadata": {},
     "output_type": "execute_result"
    }
   ],
   "source": [
    "a.cumprod() #누적해서 곱"
   ]
  },
  {
   "cell_type": "code",
   "execution_count": 38,
   "metadata": {
    "execution": {
     "iopub.execute_input": "2021-09-02T07:04:36.851237Z",
     "iopub.status.busy": "2021-09-02T07:04:36.851237Z",
     "iopub.status.idle": "2021-09-02T07:04:36.866394Z",
     "shell.execute_reply": "2021-09-02T07:04:36.865414Z",
     "shell.execute_reply.started": "2021-09-02T07:04:36.851237Z"
    }
   },
   "outputs": [
    {
     "data": {
      "text/plain": [
       "1.25"
      ]
     },
     "execution_count": 38,
     "metadata": {},
     "output_type": "execute_result"
    }
   ],
   "source": [
    "a.var()   "
   ]
  },
  {
   "cell_type": "code",
   "execution_count": 39,
   "metadata": {
    "execution": {
     "iopub.execute_input": "2021-09-02T07:04:36.867392Z",
     "iopub.status.busy": "2021-09-02T07:04:36.867392Z",
     "iopub.status.idle": "2021-09-02T07:04:36.881846Z",
     "shell.execute_reply": "2021-09-02T07:04:36.880898Z",
     "shell.execute_reply.started": "2021-09-02T07:04:36.867392Z"
    }
   },
   "outputs": [
    {
     "data": {
      "text/plain": [
       "1.118033988749895"
      ]
     },
     "execution_count": 39,
     "metadata": {},
     "output_type": "execute_result"
    }
   ],
   "source": [
    "a.std() "
   ]
  },
  {
   "cell_type": "code",
   "execution_count": 40,
   "metadata": {
    "execution": {
     "iopub.execute_input": "2021-09-02T07:04:36.882845Z",
     "iopub.status.busy": "2021-09-02T07:04:36.882845Z",
     "iopub.status.idle": "2021-09-02T07:04:36.896977Z",
     "shell.execute_reply": "2021-09-02T07:04:36.896026Z",
     "shell.execute_reply.started": "2021-09-02T07:04:36.882845Z"
    }
   },
   "outputs": [
    {
     "data": {
      "text/plain": [
       "array([[1, 3],\n",
       "       [2, 4]])"
      ]
     },
     "execution_count": 40,
     "metadata": {},
     "output_type": "execute_result"
    }
   ],
   "source": [
    "a.shape = (2, 2)\n",
    "a.T   #  a.transpose()   와 같다(줄임표현)"
   ]
  },
  {
   "cell_type": "markdown",
   "metadata": {},
   "source": [
    "__Array Concatenation__: `concatenate`, `vstack`, `hstack`"
   ]
  },
  {
   "cell_type": "code",
   "execution_count": 41,
   "metadata": {
    "execution": {
     "iopub.execute_input": "2021-09-02T07:04:36.897993Z",
     "iopub.status.busy": "2021-09-02T07:04:36.897993Z",
     "iopub.status.idle": "2021-09-02T07:04:36.911944Z",
     "shell.execute_reply": "2021-09-02T07:04:36.910995Z",
     "shell.execute_reply.started": "2021-09-02T07:04:36.897993Z"
    }
   },
   "outputs": [
    {
     "data": {
      "text/plain": [
       "array([[1, 3],\n",
       "       [2, 6],\n",
       "       [3, 9]])"
      ]
     },
     "execution_count": 41,
     "metadata": {},
     "output_type": "execute_result"
    }
   ],
   "source": [
    "x = np.array([1,2,3])\n",
    "y = np.array([3,6,9])\n",
    "np.concatenate([x,y])\n",
    "np.c_[x,y]    #  np.concatenate()   와 같다(줄임표현), 다른 행으로 붙이기"
   ]
  },
  {
   "cell_type": "code",
   "execution_count": 42,
   "metadata": {},
   "outputs": [
    {
     "data": {
      "text/plain": [
       "array([1, 2, 3, 3, 6, 9])"
      ]
     },
     "execution_count": 42,
     "metadata": {},
     "output_type": "execute_result"
    }
   ],
   "source": [
    "x = np.array([1,2,3])\n",
    "y = np.array([3,6,9])\n",
    "np.r_[x,y]      #np.c_와 달리 같은 행의 뒤에 붙인다."
   ]
  },
  {
   "cell_type": "code",
   "execution_count": 43,
   "metadata": {
    "execution": {
     "iopub.execute_input": "2021-09-02T07:04:36.912944Z",
     "iopub.status.busy": "2021-09-02T07:04:36.912944Z",
     "iopub.status.idle": "2021-09-02T07:04:36.927901Z",
     "shell.execute_reply": "2021-09-02T07:04:36.926951Z",
     "shell.execute_reply.started": "2021-09-02T07:04:36.912944Z"
    }
   },
   "outputs": [
    {
     "data": {
      "text/plain": [
       "array([[1, 2, 3],\n",
       "       [3, 6, 9]])"
      ]
     },
     "execution_count": 43,
     "metadata": {},
     "output_type": "execute_result"
    }
   ],
   "source": [
    "np.vstack([x,y])  "
   ]
  },
  {
   "cell_type": "code",
   "execution_count": 44,
   "metadata": {
    "execution": {
     "iopub.execute_input": "2021-09-02T07:04:36.928898Z",
     "iopub.status.busy": "2021-09-02T07:04:36.928898Z",
     "iopub.status.idle": "2021-09-02T07:04:36.944017Z",
     "shell.execute_reply": "2021-09-02T07:04:36.943068Z",
     "shell.execute_reply.started": "2021-09-02T07:04:36.928898Z"
    }
   },
   "outputs": [
    {
     "data": {
      "text/plain": [
       "array([1, 2, 3, 3, 6, 9])"
      ]
     },
     "execution_count": 44,
     "metadata": {},
     "output_type": "execute_result"
    }
   ],
   "source": [
    "np.hstack([x,y])   #np.r_와 같음, 교수님은 r_ 대신 hstack사용하심"
   ]
  },
  {
   "cell_type": "markdown",
   "metadata": {},
   "source": [
    "(5) Comparison Operator"
   ]
  },
  {
   "cell_type": "code",
   "execution_count": 45,
   "metadata": {},
   "outputs": [],
   "source": [
    "x = np.array([1,2,3,4,5])"
   ]
  },
  {
   "cell_type": "code",
   "execution_count": 46,
   "metadata": {},
   "outputs": [
    {
     "data": {
      "text/plain": [
       "array([ True,  True, False, False, False])"
      ]
     },
     "execution_count": 46,
     "metadata": {},
     "output_type": "execute_result"
    }
   ],
   "source": [
    "x < 3"
   ]
  },
  {
   "cell_type": "code",
   "execution_count": 47,
   "metadata": {},
   "outputs": [
    {
     "data": {
      "text/plain": [
       "array([False, False, False,  True,  True])"
      ]
     },
     "execution_count": 47,
     "metadata": {},
     "output_type": "execute_result"
    }
   ],
   "source": [
    "x > 3"
   ]
  },
  {
   "cell_type": "code",
   "execution_count": 48,
   "metadata": {},
   "outputs": [
    {
     "data": {
      "text/plain": [
       "array([ True,  True, False,  True,  True])"
      ]
     },
     "execution_count": 48,
     "metadata": {},
     "output_type": "execute_result"
    }
   ],
   "source": [
    "x!= 3"
   ]
  },
  {
   "cell_type": "code",
   "execution_count": 49,
   "metadata": {},
   "outputs": [
    {
     "data": {
      "text/plain": [
       "array([False, False,  True, False, False])"
      ]
     },
     "execution_count": 49,
     "metadata": {},
     "output_type": "execute_result"
    }
   ],
   "source": [
    "x == 3"
   ]
  },
  {
   "cell_type": "code",
   "execution_count": 50,
   "metadata": {},
   "outputs": [
    {
     "data": {
      "text/plain": [
       "array([ True,  True,  True,  True, False])"
      ]
     },
     "execution_count": 50,
     "metadata": {},
     "output_type": "execute_result"
    }
   ],
   "source": [
    "y = np.array([5,5,5,5,5])\n",
    "x < y"
   ]
  },
  {
   "cell_type": "markdown",
   "metadata": {},
   "source": [
    "(additional) Sub-packages \n",
    "\n",
    "- NumPy provides some additional functionality related to scientific programming through its sub-packages. We’ve already seen how we can generate random variables using np.random"
   ]
  },
  {
   "cell_type": "code",
   "execution_count": 51,
   "metadata": {
    "execution": {
     "iopub.execute_input": "2021-09-02T07:04:37.195301Z",
     "iopub.status.busy": "2021-09-02T07:04:37.195301Z",
     "iopub.status.idle": "2021-09-02T07:04:37.210240Z",
     "shell.execute_reply": "2021-09-02T07:04:37.209271Z",
     "shell.execute_reply.started": "2021-09-02T07:04:37.195301Z"
    }
   },
   "outputs": [
    {
     "name": "stdout",
     "output_type": "stream",
     "text": [
      "[ 1.64394503 -0.05651279 -0.15907639 ... -0.56482706  1.4578134\n",
      " -0.21732135]\n",
      "\n",
      "[5 6 6 ... 6 7 5]\n",
      "\n",
      "4.9909\n"
     ]
    }
   ],
   "source": [
    "z = np.random.normal(size=10000)  # Generate standard normals\n",
    "y = np.random.binomial(10, 0.5, size=10000)    # 1,000 draws from Bin(10, 0.5)\n",
    "print(z)\n",
    "print()\n",
    "print(y)\n",
    "print()\n",
    "print(y.mean())"
   ]
  },
  {
   "cell_type": "markdown",
   "metadata": {},
   "source": [
    "Another commonly used subpackage is np.linalg"
   ]
  },
  {
   "cell_type": "code",
   "execution_count": 52,
   "metadata": {
    "execution": {
     "iopub.execute_input": "2021-09-02T07:04:37.211259Z",
     "iopub.status.busy": "2021-09-02T07:04:37.211259Z",
     "iopub.status.idle": "2021-09-02T07:04:37.226227Z",
     "shell.execute_reply": "2021-09-02T07:04:37.225237Z",
     "shell.execute_reply.started": "2021-09-02T07:04:37.211259Z"
    }
   },
   "outputs": [
    {
     "data": {
      "text/plain": [
       "-2.0000000000000004"
      ]
     },
     "execution_count": 52,
     "metadata": {},
     "output_type": "execute_result"
    }
   ],
   "source": [
    "A = np.array([[1, 2], [3, 4]])\n",
    "\n",
    "np.linalg.det(A)  "
   ]
  },
  {
   "cell_type": "code",
   "execution_count": 53,
   "metadata": {
    "execution": {
     "iopub.execute_input": "2021-09-02T07:04:37.227224Z",
     "iopub.status.busy": "2021-09-02T07:04:37.227224Z",
     "iopub.status.idle": "2021-09-02T07:04:37.243184Z",
     "shell.execute_reply": "2021-09-02T07:04:37.241188Z",
     "shell.execute_reply.started": "2021-09-02T07:04:37.227224Z"
    }
   },
   "outputs": [
    {
     "data": {
      "text/plain": [
       "array([[-2. ,  1. ],\n",
       "       [ 1.5, -0.5]])"
      ]
     },
     "execution_count": 53,
     "metadata": {},
     "output_type": "execute_result"
    }
   ],
   "source": [
    "np.linalg.inv(A)   #역행렬구하기, 역행렬 : 원래 행렬에 곱하면 단위행렬(identity matrix)로 만드는 행렬"
   ]
  },
  {
   "cell_type": "markdown",
   "metadata": {},
   "source": [
    "__Exercise__  <br>\n",
    "1. Create len(10) integer array filled with zeros\n",
    "2. Create 3x5 floating point array filled with ones\n",
    "3. Create 3x5 array filled with 3.14\n",
    "4. Create an array filled with a linear space starting at 0, ending at 20, stepping by 2\n",
    "5. Create an array of five values evenly spaced between 0 and 1\n",
    "6. Create a 3x3 array of uniformly distributed random (0, 1)\n",
    "7. Create a 3x3 array of with mean 0 and standard deviation 1\n",
    "8. Create a 3x3 array of random integers in the interval [0, 10]\n",
    "9. Create a 3x3 identity matrix"
   ]
  },
  {
   "cell_type": "code",
   "execution_count": null,
   "metadata": {},
   "outputs": [],
   "source": []
  }
 ],
 "metadata": {
  "kernelspec": {
   "display_name": "Python 3",
   "language": "python",
   "name": "python3"
  },
  "language_info": {
   "codemirror_mode": {
    "name": "ipython",
    "version": 3
   },
   "file_extension": ".py",
   "mimetype": "text/x-python",
   "name": "python",
   "nbconvert_exporter": "python",
   "pygments_lexer": "ipython3",
   "version": "3.7.1"
  }
 },
 "nbformat": 4,
 "nbformat_minor": 4
}
