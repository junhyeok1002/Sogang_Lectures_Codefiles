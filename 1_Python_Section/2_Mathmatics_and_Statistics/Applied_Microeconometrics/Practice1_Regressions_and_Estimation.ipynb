{
 "cells": [
  {
   "cell_type": "markdown",
   "id": "4cebab77",
   "metadata": {},
   "source": [
    "20180634_최준혁_응용미시계량분석_HW1"
   ]
  },
  {
   "cell_type": "markdown",
   "id": "92c874e3",
   "metadata": {},
   "source": [
    "# Verbal Questions\n",
    "Q. 회사에서 건강보험을 제공한 여부가 임금에 영향을 미치는 지 확인하는 회귀분석에서 X는 개인과 회사의 특성이 담긴 독립변수 벡터일 때 도구변수로 firm size와 union status는 어떠한지 실증적인 관점에서 validity를 확인해라 "
   ]
  },
  {
   "cell_type": "markdown",
   "id": "7d73b08f",
   "metadata": {
    "ExecuteTime": {
     "end_time": "2022-10-10T12:39:15.043135Z",
     "start_time": "2022-10-10T12:39:15.023194Z"
    }
   },
   "source": [
    "Ans : 먼저 firm size가 커질 수록 규모가 큰 회사는 직원들에게 insurance를 제공하는 경향이 있고 union status가 높을 수록 회사에는 중요 인력이라고 판단해 insurance를 제공하는 경향이 있을 것이다 따라서 두 도구변수와 insurance는 relevance가 있다. 하지만 도구변수는 종속변수인 임금에 대한 직접적인 영향이 없어야하는데 회사 내 개인 직급과 회사의 크기는 임금에 직접적인 영향을 주므로 Exclusion restriction을 위배한다. 개인이 직급이 높을 수록 높은 임금을 받는 경향이 뚜렷하고 또한 회사의 크기(직원 수)역시 회사의 규모가 큰 대기업일 수록 높은 임금을 제공하는 경향이 있으므로 종속변수에 직접적인 영향을 준다. 따라서 두 변수 모두 도구 변수로 타당하지 않다 따라서 회사 내 개인직급과 회사의 크기는 실증적인 관점에서 타당성이 떨어진다. "
   ]
  },
  {
   "cell_type": "markdown",
   "id": "13618c76",
   "metadata": {},
   "source": [
    "# Computational Questions"
   ]
  },
  {
   "cell_type": "markdown",
   "id": "99b982ae",
   "metadata": {},
   "source": [
    "## (Wooldridge (2019), Problem 3.C6) Use the data set in WAGE2 for this problem."
   ]
  },
  {
   "cell_type": "code",
   "execution_count": 1,
   "id": "91023c01",
   "metadata": {
    "ExecuteTime": {
     "end_time": "2022-10-10T12:49:39.546801Z",
     "start_time": "2022-10-10T12:49:36.483227Z"
    }
   },
   "outputs": [],
   "source": [
    "import numpy as np\n",
    "import matplotlib.pyplot as plt\n",
    "import pandas as pd\n",
    "import seaborn as sns\n",
    "import warnings\n",
    "warnings.filterwarnings('ignore')\n",
    "%matplotlib inline"
   ]
  },
  {
   "cell_type": "code",
   "execution_count": 2,
   "id": "c079b742",
   "metadata": {
    "ExecuteTime": {
     "end_time": "2022-10-10T12:49:39.561766Z",
     "start_time": "2022-10-10T12:49:39.549797Z"
    }
   },
   "outputs": [],
   "source": [
    "plt.rc('font', family='Malgun Gothic')\n",
    "plt.rcParams['axes.unicode_minus'] = False"
   ]
  },
  {
   "cell_type": "code",
   "execution_count": 3,
   "id": "e6f19a10",
   "metadata": {
    "ExecuteTime": {
     "end_time": "2022-10-10T12:49:39.639488Z",
     "start_time": "2022-10-10T12:49:39.563690Z"
    }
   },
   "outputs": [
    {
     "data": {
      "text/html": [
       "<div>\n",
       "<style scoped>\n",
       "    .dataframe tbody tr th:only-of-type {\n",
       "        vertical-align: middle;\n",
       "    }\n",
       "\n",
       "    .dataframe tbody tr th {\n",
       "        vertical-align: top;\n",
       "    }\n",
       "\n",
       "    .dataframe thead th {\n",
       "        text-align: right;\n",
       "    }\n",
       "</style>\n",
       "<table border=\"1\" class=\"dataframe\">\n",
       "  <thead>\n",
       "    <tr style=\"text-align: right;\">\n",
       "      <th></th>\n",
       "      <th>wage</th>\n",
       "      <th>hours</th>\n",
       "      <th>IQ</th>\n",
       "      <th>KWW</th>\n",
       "      <th>educ</th>\n",
       "      <th>exper</th>\n",
       "      <th>tenure</th>\n",
       "      <th>age</th>\n",
       "      <th>married</th>\n",
       "      <th>black</th>\n",
       "      <th>south</th>\n",
       "      <th>urban</th>\n",
       "      <th>sibs</th>\n",
       "      <th>brthord</th>\n",
       "      <th>meduc</th>\n",
       "      <th>feduc</th>\n",
       "      <th>lwage</th>\n",
       "    </tr>\n",
       "  </thead>\n",
       "  <tbody>\n",
       "    <tr>\n",
       "      <th>0</th>\n",
       "      <td>769</td>\n",
       "      <td>40</td>\n",
       "      <td>93</td>\n",
       "      <td>35</td>\n",
       "      <td>12</td>\n",
       "      <td>11</td>\n",
       "      <td>2</td>\n",
       "      <td>31</td>\n",
       "      <td>1</td>\n",
       "      <td>0</td>\n",
       "      <td>0</td>\n",
       "      <td>1</td>\n",
       "      <td>1</td>\n",
       "      <td>2.0</td>\n",
       "      <td>8.0</td>\n",
       "      <td>8.0</td>\n",
       "      <td>6.645091</td>\n",
       "    </tr>\n",
       "    <tr>\n",
       "      <th>1</th>\n",
       "      <td>808</td>\n",
       "      <td>50</td>\n",
       "      <td>119</td>\n",
       "      <td>41</td>\n",
       "      <td>18</td>\n",
       "      <td>11</td>\n",
       "      <td>16</td>\n",
       "      <td>37</td>\n",
       "      <td>1</td>\n",
       "      <td>0</td>\n",
       "      <td>0</td>\n",
       "      <td>1</td>\n",
       "      <td>1</td>\n",
       "      <td>NaN</td>\n",
       "      <td>14.0</td>\n",
       "      <td>14.0</td>\n",
       "      <td>6.694562</td>\n",
       "    </tr>\n",
       "    <tr>\n",
       "      <th>2</th>\n",
       "      <td>825</td>\n",
       "      <td>40</td>\n",
       "      <td>108</td>\n",
       "      <td>46</td>\n",
       "      <td>14</td>\n",
       "      <td>11</td>\n",
       "      <td>9</td>\n",
       "      <td>33</td>\n",
       "      <td>1</td>\n",
       "      <td>0</td>\n",
       "      <td>0</td>\n",
       "      <td>1</td>\n",
       "      <td>1</td>\n",
       "      <td>2.0</td>\n",
       "      <td>14.0</td>\n",
       "      <td>14.0</td>\n",
       "      <td>6.715383</td>\n",
       "    </tr>\n",
       "    <tr>\n",
       "      <th>3</th>\n",
       "      <td>650</td>\n",
       "      <td>40</td>\n",
       "      <td>96</td>\n",
       "      <td>32</td>\n",
       "      <td>12</td>\n",
       "      <td>13</td>\n",
       "      <td>7</td>\n",
       "      <td>32</td>\n",
       "      <td>1</td>\n",
       "      <td>0</td>\n",
       "      <td>0</td>\n",
       "      <td>1</td>\n",
       "      <td>4</td>\n",
       "      <td>3.0</td>\n",
       "      <td>12.0</td>\n",
       "      <td>12.0</td>\n",
       "      <td>6.476973</td>\n",
       "    </tr>\n",
       "    <tr>\n",
       "      <th>4</th>\n",
       "      <td>562</td>\n",
       "      <td>40</td>\n",
       "      <td>74</td>\n",
       "      <td>27</td>\n",
       "      <td>11</td>\n",
       "      <td>14</td>\n",
       "      <td>5</td>\n",
       "      <td>34</td>\n",
       "      <td>1</td>\n",
       "      <td>0</td>\n",
       "      <td>0</td>\n",
       "      <td>1</td>\n",
       "      <td>10</td>\n",
       "      <td>6.0</td>\n",
       "      <td>6.0</td>\n",
       "      <td>11.0</td>\n",
       "      <td>6.331502</td>\n",
       "    </tr>\n",
       "  </tbody>\n",
       "</table>\n",
       "</div>"
      ],
      "text/plain": [
       "   wage  hours   IQ  KWW  educ  exper  tenure  age  married  black  south  \\\n",
       "0   769     40   93   35    12     11       2   31        1      0      0   \n",
       "1   808     50  119   41    18     11      16   37        1      0      0   \n",
       "2   825     40  108   46    14     11       9   33        1      0      0   \n",
       "3   650     40   96   32    12     13       7   32        1      0      0   \n",
       "4   562     40   74   27    11     14       5   34        1      0      0   \n",
       "\n",
       "   urban  sibs  brthord  meduc  feduc     lwage  \n",
       "0      1     1      2.0    8.0    8.0  6.645091  \n",
       "1      1     1      NaN   14.0   14.0  6.694562  \n",
       "2      1     1      2.0   14.0   14.0  6.715383  \n",
       "3      1     4      3.0   12.0   12.0  6.476973  \n",
       "4      1    10      6.0    6.0   11.0  6.331502  "
      ]
     },
     "execution_count": 3,
     "metadata": {},
     "output_type": "execute_result"
    }
   ],
   "source": [
    "data = pd.read_csv('wage2.csv')\n",
    "df_wage = data.copy()\n",
    "df_wage.head()"
   ]
  },
  {
   "cell_type": "markdown",
   "id": "07ce006b",
   "metadata": {},
   "source": [
    "### (a) Run a simple regression of IQ on educ to obtain the slope coefficient, say, ˜δ1.\n",
    "- ans : ˜δ1 = 3.5338"
   ]
  },
  {
   "cell_type": "code",
   "execution_count": 4,
   "id": "78af73e7",
   "metadata": {
    "ExecuteTime": {
     "end_time": "2022-10-10T12:49:40.451776Z",
     "start_time": "2022-10-10T12:49:39.642480Z"
    }
   },
   "outputs": [
    {
     "data": {
      "text/html": [
       "<table class=\"simpletable\">\n",
       "<caption>OLS Regression Results</caption>\n",
       "<tr>\n",
       "  <th>Dep. Variable:</th>           <td>IQ</td>        <th>  R-squared:         </th> <td>   0.266</td>\n",
       "</tr>\n",
       "<tr>\n",
       "  <th>Model:</th>                   <td>OLS</td>       <th>  Adj. R-squared:    </th> <td>   0.265</td>\n",
       "</tr>\n",
       "<tr>\n",
       "  <th>Method:</th>             <td>Least Squares</td>  <th>  F-statistic:       </th> <td>   338.0</td>\n",
       "</tr>\n",
       "<tr>\n",
       "  <th>Date:</th>             <td>Mon, 10 Oct 2022</td> <th>  Prob (F-statistic):</th> <td>1.16e-64</td>\n",
       "</tr>\n",
       "<tr>\n",
       "  <th>Time:</th>                 <td>21:49:40</td>     <th>  Log-Likelihood:    </th> <td> -3717.0</td>\n",
       "</tr>\n",
       "<tr>\n",
       "  <th>No. Observations:</th>      <td>   935</td>      <th>  AIC:               </th> <td>   7438.</td>\n",
       "</tr>\n",
       "<tr>\n",
       "  <th>Df Residuals:</th>          <td>   933</td>      <th>  BIC:               </th> <td>   7448.</td>\n",
       "</tr>\n",
       "<tr>\n",
       "  <th>Df Model:</th>              <td>     1</td>      <th>                     </th>     <td> </td>   \n",
       "</tr>\n",
       "<tr>\n",
       "  <th>Covariance Type:</th>      <td>nonrobust</td>    <th>                     </th>     <td> </td>   \n",
       "</tr>\n",
       "</table>\n",
       "<table class=\"simpletable\">\n",
       "<tr>\n",
       "      <td></td>         <th>coef</th>     <th>std err</th>      <th>t</th>      <th>P>|t|</th>  <th>[0.025</th>    <th>0.975]</th>  \n",
       "</tr>\n",
       "<tr>\n",
       "  <th>Intercept</th> <td>   53.6872</td> <td>    2.623</td> <td>   20.468</td> <td> 0.000</td> <td>   48.540</td> <td>   58.835</td>\n",
       "</tr>\n",
       "<tr>\n",
       "  <th>educ</th>      <td>    3.5338</td> <td>    0.192</td> <td>   18.385</td> <td> 0.000</td> <td>    3.157</td> <td>    3.911</td>\n",
       "</tr>\n",
       "</table>\n",
       "<table class=\"simpletable\">\n",
       "<tr>\n",
       "  <th>Omnibus:</th>       <td>30.954</td> <th>  Durbin-Watson:     </th> <td>   1.779</td>\n",
       "</tr>\n",
       "<tr>\n",
       "  <th>Prob(Omnibus):</th> <td> 0.000</td> <th>  Jarque-Bera (JB):  </th> <td>  35.266</td>\n",
       "</tr>\n",
       "<tr>\n",
       "  <th>Skew:</th>          <td>-0.398</td> <th>  Prob(JB):          </th> <td>2.20e-08</td>\n",
       "</tr>\n",
       "<tr>\n",
       "  <th>Kurtosis:</th>      <td> 3.522</td> <th>  Cond. No.          </th> <td>    85.3</td>\n",
       "</tr>\n",
       "</table><br/><br/>Notes:<br/>[1] Standard Errors assume that the covariance matrix of the errors is correctly specified."
      ],
      "text/plain": [
       "<class 'statsmodels.iolib.summary.Summary'>\n",
       "\"\"\"\n",
       "                            OLS Regression Results                            \n",
       "==============================================================================\n",
       "Dep. Variable:                     IQ   R-squared:                       0.266\n",
       "Model:                            OLS   Adj. R-squared:                  0.265\n",
       "Method:                 Least Squares   F-statistic:                     338.0\n",
       "Date:                Mon, 10 Oct 2022   Prob (F-statistic):           1.16e-64\n",
       "Time:                        21:49:40   Log-Likelihood:                -3717.0\n",
       "No. Observations:                 935   AIC:                             7438.\n",
       "Df Residuals:                     933   BIC:                             7448.\n",
       "Df Model:                           1                                         \n",
       "Covariance Type:            nonrobust                                         \n",
       "==============================================================================\n",
       "                 coef    std err          t      P>|t|      [0.025      0.975]\n",
       "------------------------------------------------------------------------------\n",
       "Intercept     53.6872      2.623     20.468      0.000      48.540      58.835\n",
       "educ           3.5338      0.192     18.385      0.000       3.157       3.911\n",
       "==============================================================================\n",
       "Omnibus:                       30.954   Durbin-Watson:                   1.779\n",
       "Prob(Omnibus):                  0.000   Jarque-Bera (JB):               35.266\n",
       "Skew:                          -0.398   Prob(JB):                     2.20e-08\n",
       "Kurtosis:                       3.522   Cond. No.                         85.3\n",
       "==============================================================================\n",
       "\n",
       "Notes:\n",
       "[1] Standard Errors assume that the covariance matrix of the errors is correctly specified.\n",
       "\"\"\""
      ]
     },
     "execution_count": 4,
     "metadata": {},
     "output_type": "execute_result"
    }
   ],
   "source": [
    "#회귀분석 실시 - statemodels 사용\n",
    "from statsmodels.formula.api import ols\n",
    "import statsmodels.api as sm\n",
    "\n",
    "model = ols('IQ ~ educ', df_wage)\n",
    "result = model.fit()\n",
    "result.summary()"
   ]
  },
  {
   "cell_type": "markdown",
   "id": "44ffa164",
   "metadata": {},
   "source": [
    "### (b) Run the simple regression of log(wage) on educ, and obtain the slope coefficient, β˜1.\n",
    "- ans : β˜1 = 0.0598"
   ]
  },
  {
   "cell_type": "code",
   "execution_count": 5,
   "id": "2d3b044f",
   "metadata": {
    "ExecuteTime": {
     "end_time": "2022-10-10T12:49:40.497656Z",
     "start_time": "2022-10-10T12:49:40.454770Z"
    }
   },
   "outputs": [
    {
     "data": {
      "text/html": [
       "<table class=\"simpletable\">\n",
       "<caption>OLS Regression Results</caption>\n",
       "<tr>\n",
       "  <th>Dep. Variable:</th>          <td>lwage</td>      <th>  R-squared:         </th> <td>   0.097</td>\n",
       "</tr>\n",
       "<tr>\n",
       "  <th>Model:</th>                   <td>OLS</td>       <th>  Adj. R-squared:    </th> <td>   0.096</td>\n",
       "</tr>\n",
       "<tr>\n",
       "  <th>Method:</th>             <td>Least Squares</td>  <th>  F-statistic:       </th> <td>   100.7</td>\n",
       "</tr>\n",
       "<tr>\n",
       "  <th>Date:</th>             <td>Mon, 10 Oct 2022</td> <th>  Prob (F-statistic):</th> <td>1.42e-22</td>\n",
       "</tr>\n",
       "<tr>\n",
       "  <th>Time:</th>                 <td>21:49:40</td>     <th>  Log-Likelihood:    </th> <td> -469.72</td>\n",
       "</tr>\n",
       "<tr>\n",
       "  <th>No. Observations:</th>      <td>   935</td>      <th>  AIC:               </th> <td>   943.4</td>\n",
       "</tr>\n",
       "<tr>\n",
       "  <th>Df Residuals:</th>          <td>   933</td>      <th>  BIC:               </th> <td>   953.1</td>\n",
       "</tr>\n",
       "<tr>\n",
       "  <th>Df Model:</th>              <td>     1</td>      <th>                     </th>     <td> </td>   \n",
       "</tr>\n",
       "<tr>\n",
       "  <th>Covariance Type:</th>      <td>nonrobust</td>    <th>                     </th>     <td> </td>   \n",
       "</tr>\n",
       "</table>\n",
       "<table class=\"simpletable\">\n",
       "<tr>\n",
       "      <td></td>         <th>coef</th>     <th>std err</th>      <th>t</th>      <th>P>|t|</th>  <th>[0.025</th>    <th>0.975]</th>  \n",
       "</tr>\n",
       "<tr>\n",
       "  <th>Intercept</th> <td>    5.9731</td> <td>    0.081</td> <td>   73.403</td> <td> 0.000</td> <td>    5.813</td> <td>    6.133</td>\n",
       "</tr>\n",
       "<tr>\n",
       "  <th>educ</th>      <td>    0.0598</td> <td>    0.006</td> <td>   10.035</td> <td> 0.000</td> <td>    0.048</td> <td>    0.072</td>\n",
       "</tr>\n",
       "</table>\n",
       "<table class=\"simpletable\">\n",
       "<tr>\n",
       "  <th>Omnibus:</th>       <td>31.006</td> <th>  Durbin-Watson:     </th> <td>   1.779</td>\n",
       "</tr>\n",
       "<tr>\n",
       "  <th>Prob(Omnibus):</th> <td> 0.000</td> <th>  Jarque-Bera (JB):  </th> <td>  37.262</td>\n",
       "</tr>\n",
       "<tr>\n",
       "  <th>Skew:</th>          <td>-0.375</td> <th>  Prob(JB):          </th> <td>8.10e-09</td>\n",
       "</tr>\n",
       "<tr>\n",
       "  <th>Kurtosis:</th>      <td> 3.627</td> <th>  Cond. No.          </th> <td>    85.3</td>\n",
       "</tr>\n",
       "</table><br/><br/>Notes:<br/>[1] Standard Errors assume that the covariance matrix of the errors is correctly specified."
      ],
      "text/plain": [
       "<class 'statsmodels.iolib.summary.Summary'>\n",
       "\"\"\"\n",
       "                            OLS Regression Results                            \n",
       "==============================================================================\n",
       "Dep. Variable:                  lwage   R-squared:                       0.097\n",
       "Model:                            OLS   Adj. R-squared:                  0.096\n",
       "Method:                 Least Squares   F-statistic:                     100.7\n",
       "Date:                Mon, 10 Oct 2022   Prob (F-statistic):           1.42e-22\n",
       "Time:                        21:49:40   Log-Likelihood:                -469.72\n",
       "No. Observations:                 935   AIC:                             943.4\n",
       "Df Residuals:                     933   BIC:                             953.1\n",
       "Df Model:                           1                                         \n",
       "Covariance Type:            nonrobust                                         \n",
       "==============================================================================\n",
       "                 coef    std err          t      P>|t|      [0.025      0.975]\n",
       "------------------------------------------------------------------------------\n",
       "Intercept      5.9731      0.081     73.403      0.000       5.813       6.133\n",
       "educ           0.0598      0.006     10.035      0.000       0.048       0.072\n",
       "==============================================================================\n",
       "Omnibus:                       31.006   Durbin-Watson:                   1.779\n",
       "Prob(Omnibus):                  0.000   Jarque-Bera (JB):               37.262\n",
       "Skew:                          -0.375   Prob(JB):                     8.10e-09\n",
       "Kurtosis:                       3.627   Cond. No.                         85.3\n",
       "==============================================================================\n",
       "\n",
       "Notes:\n",
       "[1] Standard Errors assume that the covariance matrix of the errors is correctly specified.\n",
       "\"\"\""
      ]
     },
     "execution_count": 5,
     "metadata": {},
     "output_type": "execute_result"
    }
   ],
   "source": [
    "model = ols('lwage ~ educ', df_wage)\n",
    "result = model.fit()\n",
    "result.summary()"
   ]
  },
  {
   "cell_type": "markdown",
   "id": "9a843893",
   "metadata": {},
   "source": [
    "### (c) Run the multiple regression of log(wage) on educ and IQ, and obtain the slope coefficients, βˆ1 and βˆ2, respectively.\n",
    "- ans : βˆ1 = 0.0391, βˆ2 = 0.0059"
   ]
  },
  {
   "cell_type": "code",
   "execution_count": 6,
   "id": "ce02c7b7",
   "metadata": {
    "ExecuteTime": {
     "end_time": "2022-10-10T12:49:40.543531Z",
     "start_time": "2022-10-10T12:49:40.499649Z"
    }
   },
   "outputs": [
    {
     "data": {
      "text/html": [
       "<table class=\"simpletable\">\n",
       "<caption>OLS Regression Results</caption>\n",
       "<tr>\n",
       "  <th>Dep. Variable:</th>          <td>lwage</td>      <th>  R-squared:         </th> <td>   0.130</td>\n",
       "</tr>\n",
       "<tr>\n",
       "  <th>Model:</th>                   <td>OLS</td>       <th>  Adj. R-squared:    </th> <td>   0.128</td>\n",
       "</tr>\n",
       "<tr>\n",
       "  <th>Method:</th>             <td>Least Squares</td>  <th>  F-statistic:       </th> <td>   69.42</td>\n",
       "</tr>\n",
       "<tr>\n",
       "  <th>Date:</th>             <td>Mon, 10 Oct 2022</td> <th>  Prob (F-statistic):</th> <td>7.88e-29</td>\n",
       "</tr>\n",
       "<tr>\n",
       "  <th>Time:</th>                 <td>21:49:40</td>     <th>  Log-Likelihood:    </th> <td> -452.72</td>\n",
       "</tr>\n",
       "<tr>\n",
       "  <th>No. Observations:</th>      <td>   935</td>      <th>  AIC:               </th> <td>   911.4</td>\n",
       "</tr>\n",
       "<tr>\n",
       "  <th>Df Residuals:</th>          <td>   932</td>      <th>  BIC:               </th> <td>   926.0</td>\n",
       "</tr>\n",
       "<tr>\n",
       "  <th>Df Model:</th>              <td>     2</td>      <th>                     </th>     <td> </td>   \n",
       "</tr>\n",
       "<tr>\n",
       "  <th>Covariance Type:</th>      <td>nonrobust</td>    <th>                     </th>     <td> </td>   \n",
       "</tr>\n",
       "</table>\n",
       "<table class=\"simpletable\">\n",
       "<tr>\n",
       "      <td></td>         <th>coef</th>     <th>std err</th>      <th>t</th>      <th>P>|t|</th>  <th>[0.025</th>    <th>0.975]</th>  \n",
       "</tr>\n",
       "<tr>\n",
       "  <th>Intercept</th> <td>    5.6583</td> <td>    0.096</td> <td>   58.793</td> <td> 0.000</td> <td>    5.469</td> <td>    5.847</td>\n",
       "</tr>\n",
       "<tr>\n",
       "  <th>educ</th>      <td>    0.0391</td> <td>    0.007</td> <td>    5.721</td> <td> 0.000</td> <td>    0.026</td> <td>    0.053</td>\n",
       "</tr>\n",
       "<tr>\n",
       "  <th>IQ</th>        <td>    0.0059</td> <td>    0.001</td> <td>    5.875</td> <td> 0.000</td> <td>    0.004</td> <td>    0.008</td>\n",
       "</tr>\n",
       "</table>\n",
       "<table class=\"simpletable\">\n",
       "<tr>\n",
       "  <th>Omnibus:</th>       <td>35.757</td> <th>  Durbin-Watson:     </th> <td>   1.810</td>\n",
       "</tr>\n",
       "<tr>\n",
       "  <th>Prob(Omnibus):</th> <td> 0.000</td> <th>  Jarque-Bera (JB):  </th> <td>  47.770</td>\n",
       "</tr>\n",
       "<tr>\n",
       "  <th>Skew:</th>          <td>-0.376</td> <th>  Prob(JB):          </th> <td>4.23e-11</td>\n",
       "</tr>\n",
       "<tr>\n",
       "  <th>Kurtosis:</th>      <td> 3.813</td> <th>  Cond. No.          </th> <td>    773.</td>\n",
       "</tr>\n",
       "</table><br/><br/>Notes:<br/>[1] Standard Errors assume that the covariance matrix of the errors is correctly specified."
      ],
      "text/plain": [
       "<class 'statsmodels.iolib.summary.Summary'>\n",
       "\"\"\"\n",
       "                            OLS Regression Results                            \n",
       "==============================================================================\n",
       "Dep. Variable:                  lwage   R-squared:                       0.130\n",
       "Model:                            OLS   Adj. R-squared:                  0.128\n",
       "Method:                 Least Squares   F-statistic:                     69.42\n",
       "Date:                Mon, 10 Oct 2022   Prob (F-statistic):           7.88e-29\n",
       "Time:                        21:49:40   Log-Likelihood:                -452.72\n",
       "No. Observations:                 935   AIC:                             911.4\n",
       "Df Residuals:                     932   BIC:                             926.0\n",
       "Df Model:                           2                                         \n",
       "Covariance Type:            nonrobust                                         \n",
       "==============================================================================\n",
       "                 coef    std err          t      P>|t|      [0.025      0.975]\n",
       "------------------------------------------------------------------------------\n",
       "Intercept      5.6583      0.096     58.793      0.000       5.469       5.847\n",
       "educ           0.0391      0.007      5.721      0.000       0.026       0.053\n",
       "IQ             0.0059      0.001      5.875      0.000       0.004       0.008\n",
       "==============================================================================\n",
       "Omnibus:                       35.757   Durbin-Watson:                   1.810\n",
       "Prob(Omnibus):                  0.000   Jarque-Bera (JB):               47.770\n",
       "Skew:                          -0.376   Prob(JB):                     4.23e-11\n",
       "Kurtosis:                       3.813   Cond. No.                         773.\n",
       "==============================================================================\n",
       "\n",
       "Notes:\n",
       "[1] Standard Errors assume that the covariance matrix of the errors is correctly specified.\n",
       "\"\"\""
      ]
     },
     "execution_count": 6,
     "metadata": {},
     "output_type": "execute_result"
    }
   ],
   "source": [
    "model = ols('lwage ~ educ + IQ', df_wage)\n",
    "result = model.fit()\n",
    "result.summary()"
   ]
  },
  {
   "cell_type": "markdown",
   "id": "9f44d1e2",
   "metadata": {},
   "source": [
    "### (d) Verify that β˜1 = βˆ1 + βˆ2 ·˜δ1."
   ]
  },
  {
   "cell_type": "markdown",
   "id": "bac6e726",
   "metadata": {},
   "source": [
    "β˜1 = 0.0598, βˆ1 = 0.0391, βˆ2 = 0.0059, , ˜δ1 = 3.5338 <br>\n",
    "βˆ1 + βˆ2 ·˜δ1 = 0.0391 + 0.0059 x 3.5338 <br>\n",
    "= 0.0599 = β˜1"
   ]
  },
  {
   "cell_type": "markdown",
   "id": "e2778794",
   "metadata": {},
   "source": [
    "## (Wooldridge (2019), Problem 15.C2) The data in FERTIL2 include, for women in Botswana during 1988, information on number of children, years of education, age, and religious and economic status variables."
   ]
  },
  {
   "cell_type": "code",
   "execution_count": 7,
   "id": "49c51277",
   "metadata": {
    "ExecuteTime": {
     "end_time": "2022-10-10T12:49:40.591404Z",
     "start_time": "2022-10-10T12:49:40.546524Z"
    }
   },
   "outputs": [
    {
     "data": {
      "text/html": [
       "<div>\n",
       "<style scoped>\n",
       "    .dataframe tbody tr th:only-of-type {\n",
       "        vertical-align: middle;\n",
       "    }\n",
       "\n",
       "    .dataframe tbody tr th {\n",
       "        vertical-align: top;\n",
       "    }\n",
       "\n",
       "    .dataframe thead th {\n",
       "        text-align: right;\n",
       "    }\n",
       "</style>\n",
       "<table border=\"1\" class=\"dataframe\">\n",
       "  <thead>\n",
       "    <tr style=\"text-align: right;\">\n",
       "      <th></th>\n",
       "      <th>mnthborn</th>\n",
       "      <th>yearborn</th>\n",
       "      <th>age</th>\n",
       "      <th>electric</th>\n",
       "      <th>radio</th>\n",
       "      <th>tv</th>\n",
       "      <th>bicycle</th>\n",
       "      <th>educ</th>\n",
       "      <th>ceb</th>\n",
       "      <th>agefbrth</th>\n",
       "      <th>...</th>\n",
       "      <th>heduc</th>\n",
       "      <th>agesq</th>\n",
       "      <th>urban</th>\n",
       "      <th>urb_educ</th>\n",
       "      <th>spirit</th>\n",
       "      <th>protest</th>\n",
       "      <th>catholic</th>\n",
       "      <th>frsthalf</th>\n",
       "      <th>educ0</th>\n",
       "      <th>evermarr</th>\n",
       "    </tr>\n",
       "  </thead>\n",
       "  <tbody>\n",
       "    <tr>\n",
       "      <th>0</th>\n",
       "      <td>5</td>\n",
       "      <td>64</td>\n",
       "      <td>24</td>\n",
       "      <td>1.0</td>\n",
       "      <td>1.0</td>\n",
       "      <td>1.0</td>\n",
       "      <td>1.0</td>\n",
       "      <td>12</td>\n",
       "      <td>0</td>\n",
       "      <td>NaN</td>\n",
       "      <td>...</td>\n",
       "      <td>NaN</td>\n",
       "      <td>576</td>\n",
       "      <td>1</td>\n",
       "      <td>12</td>\n",
       "      <td>0</td>\n",
       "      <td>0</td>\n",
       "      <td>0</td>\n",
       "      <td>1</td>\n",
       "      <td>0</td>\n",
       "      <td>0</td>\n",
       "    </tr>\n",
       "    <tr>\n",
       "      <th>1</th>\n",
       "      <td>1</td>\n",
       "      <td>56</td>\n",
       "      <td>32</td>\n",
       "      <td>1.0</td>\n",
       "      <td>1.0</td>\n",
       "      <td>1.0</td>\n",
       "      <td>1.0</td>\n",
       "      <td>13</td>\n",
       "      <td>3</td>\n",
       "      <td>25.0</td>\n",
       "      <td>...</td>\n",
       "      <td>12.0</td>\n",
       "      <td>1024</td>\n",
       "      <td>1</td>\n",
       "      <td>13</td>\n",
       "      <td>0</td>\n",
       "      <td>0</td>\n",
       "      <td>0</td>\n",
       "      <td>1</td>\n",
       "      <td>0</td>\n",
       "      <td>1</td>\n",
       "    </tr>\n",
       "    <tr>\n",
       "      <th>2</th>\n",
       "      <td>7</td>\n",
       "      <td>58</td>\n",
       "      <td>30</td>\n",
       "      <td>1.0</td>\n",
       "      <td>0.0</td>\n",
       "      <td>0.0</td>\n",
       "      <td>0.0</td>\n",
       "      <td>5</td>\n",
       "      <td>1</td>\n",
       "      <td>27.0</td>\n",
       "      <td>...</td>\n",
       "      <td>7.0</td>\n",
       "      <td>900</td>\n",
       "      <td>1</td>\n",
       "      <td>5</td>\n",
       "      <td>1</td>\n",
       "      <td>0</td>\n",
       "      <td>0</td>\n",
       "      <td>0</td>\n",
       "      <td>0</td>\n",
       "      <td>1</td>\n",
       "    </tr>\n",
       "    <tr>\n",
       "      <th>3</th>\n",
       "      <td>11</td>\n",
       "      <td>45</td>\n",
       "      <td>42</td>\n",
       "      <td>1.0</td>\n",
       "      <td>0.0</td>\n",
       "      <td>1.0</td>\n",
       "      <td>0.0</td>\n",
       "      <td>4</td>\n",
       "      <td>3</td>\n",
       "      <td>17.0</td>\n",
       "      <td>...</td>\n",
       "      <td>11.0</td>\n",
       "      <td>1764</td>\n",
       "      <td>1</td>\n",
       "      <td>4</td>\n",
       "      <td>0</td>\n",
       "      <td>0</td>\n",
       "      <td>0</td>\n",
       "      <td>0</td>\n",
       "      <td>0</td>\n",
       "      <td>1</td>\n",
       "    </tr>\n",
       "    <tr>\n",
       "      <th>4</th>\n",
       "      <td>5</td>\n",
       "      <td>45</td>\n",
       "      <td>43</td>\n",
       "      <td>1.0</td>\n",
       "      <td>1.0</td>\n",
       "      <td>1.0</td>\n",
       "      <td>1.0</td>\n",
       "      <td>11</td>\n",
       "      <td>2</td>\n",
       "      <td>24.0</td>\n",
       "      <td>...</td>\n",
       "      <td>14.0</td>\n",
       "      <td>1849</td>\n",
       "      <td>1</td>\n",
       "      <td>11</td>\n",
       "      <td>0</td>\n",
       "      <td>1</td>\n",
       "      <td>0</td>\n",
       "      <td>1</td>\n",
       "      <td>0</td>\n",
       "      <td>1</td>\n",
       "    </tr>\n",
       "  </tbody>\n",
       "</table>\n",
       "<p>5 rows × 27 columns</p>\n",
       "</div>"
      ],
      "text/plain": [
       "   mnthborn  yearborn  age  electric  radio   tv  bicycle  educ  ceb  \\\n",
       "0         5        64   24       1.0    1.0  1.0      1.0    12    0   \n",
       "1         1        56   32       1.0    1.0  1.0      1.0    13    3   \n",
       "2         7        58   30       1.0    0.0  0.0      0.0     5    1   \n",
       "3        11        45   42       1.0    0.0  1.0      0.0     4    3   \n",
       "4         5        45   43       1.0    1.0  1.0      1.0    11    2   \n",
       "\n",
       "   agefbrth  ...  heduc  agesq  urban  urb_educ  spirit  protest  catholic  \\\n",
       "0       NaN  ...    NaN    576      1        12       0        0         0   \n",
       "1      25.0  ...   12.0   1024      1        13       0        0         0   \n",
       "2      27.0  ...    7.0    900      1         5       1        0         0   \n",
       "3      17.0  ...   11.0   1764      1         4       0        0         0   \n",
       "4      24.0  ...   14.0   1849      1        11       0        1         0   \n",
       "\n",
       "   frsthalf  educ0  evermarr  \n",
       "0         1      0         0  \n",
       "1         1      0         1  \n",
       "2         0      0         1  \n",
       "3         0      0         1  \n",
       "4         1      0         1  \n",
       "\n",
       "[5 rows x 27 columns]"
      ]
     },
     "execution_count": 7,
     "metadata": {},
     "output_type": "execute_result"
    }
   ],
   "source": [
    "data = pd.read_csv('fertil2.csv')\n",
    "df_f = data.copy()\n",
    "df_f.head()"
   ]
  },
  {
   "cell_type": "code",
   "execution_count": 8,
   "id": "728c8534",
   "metadata": {
    "ExecuteTime": {
     "end_time": "2022-10-10T12:49:40.621326Z",
     "start_time": "2022-10-10T12:49:40.594396Z"
    }
   },
   "outputs": [],
   "source": [
    "df_f = df_f[['children','educ', 'age' , 'agesq','frsthalf','electric', 'tv', 'bicycle']]\n",
    "df_f.dropna(inplace = True)\n",
    "df_f = sm.add_constant(df_f, has_constant=\"add\")"
   ]
  },
  {
   "cell_type": "markdown",
   "id": "f1746a7c",
   "metadata": {},
   "source": [
    "### (a) interpret the estimates. In particular, holding age fixed, what is the estimated effect of another year of education on fertility?\n",
    "- ans : 특히! 다른 독립변수들(age, age^2)가 고정되어 있을때, 여성의 교육년수가 1년 증가하면 출산하는 아이가 0.0904명 감소한다\n",
    "<br> 전체 F값과 개별 변수의 t값의 p-value가 매우 낮으므로 유의하며 변수들이 fertility 총변동의 56%를 설명하고 있다\n",
    "<br> 다른 독립변수들이 고정되어 있을때, 여성의 나이가 1년 증가하면 출산하는 아이가 0.33명 증가한다.\n",
    "<br> 다른 독립변수들이 고정되어 있을때, 여성의 agesq가 한단위 증가하면 출산하는 아이가 0.0026명 감소한다."
   ]
  },
  {
   "cell_type": "code",
   "execution_count": 9,
   "id": "9c4ff7ea",
   "metadata": {
    "ExecuteTime": {
     "end_time": "2022-10-10T12:49:42.301508Z",
     "start_time": "2022-10-10T12:49:40.626313Z"
    }
   },
   "outputs": [
    {
     "name": "stdout",
     "output_type": "stream",
     "text": [
      "                            OLS Estimation Summary                            \n",
      "==============================================================================\n",
      "Dep. Variable:               children   R-squared:                      0.5684\n",
      "Estimator:                        OLS   Adj. R-squared:                 0.5681\n",
      "No. Observations:                4356   F-statistic:                    5736.7\n",
      "Date:                Mon, Oct 10 2022   P-value (F-stat)                0.0000\n",
      "Time:                        21:49:42   Distribution:                  chi2(3)\n",
      "Cov. Estimator:            unadjusted                                         \n",
      "                                                                              \n",
      "                             Parameter Estimates                              \n",
      "==============================================================================\n",
      "            Parameter  Std. Err.     T-stat    P-value    Lower CI    Upper CI\n",
      "------------------------------------------------------------------------------\n",
      "const         -4.1417     0.2406    -17.213     0.0000     -4.6133     -3.6701\n",
      "educ          -0.0904     0.0059    -15.252     0.0000     -0.1020     -0.0787\n",
      "age            0.3327     0.0166     20.099     0.0000      0.3002      0.3651\n",
      "agesq         -0.0026     0.0003    -9.6652     0.0000     -0.0032     -0.0021\n",
      "==============================================================================\n"
     ]
    }
   ],
   "source": [
    "from linearmodels.iv import IV2SLS\n",
    "\n",
    "OLS = IV2SLS(df_f.children, df_f[[\"const\",\"educ\", \"age\",\"agesq\"]], None, None).fit(cov_type=\"unadjusted\")\n",
    "print(OLS)"
   ]
  },
  {
   "cell_type": "markdown",
   "id": "41bafa82",
   "metadata": {},
   "source": [
    "### (b) The variable frsthalf is a dummy variable equal to one if the woman was born during the first six months of the year. Assuming that frsthalf is uncorrelated with the error term from part (a), how would you validate the relevance condition for this variable to be an IV for educ?\n",
    "- ans : 에러텀과 frsthalf가 연관되어있지 않다고 가정하였으므로 frsthalf이 educ과 cov가 0이 아님을 밝히면 도구변수로서 타당함을 밝힐 수 있다. 따라서 educ에 대해 frsthalf로 regression한 결과는 다음과 같으며 따라서 frsthalf를 educ의 도구변수로 두기에 타당하다."
   ]
  },
  {
   "cell_type": "code",
   "execution_count": 10,
   "id": "e7884268",
   "metadata": {
    "ExecuteTime": {
     "end_time": "2022-10-10T12:49:42.347385Z",
     "start_time": "2022-10-10T12:49:42.307491Z"
    }
   },
   "outputs": [
    {
     "data": {
      "text/html": [
       "<table class=\"simpletable\">\n",
       "<caption>OLS Regression Results</caption>\n",
       "<tr>\n",
       "  <th>Dep. Variable:</th>          <td>educ</td>       <th>  R-squared:         </th> <td>   0.014</td> \n",
       "</tr>\n",
       "<tr>\n",
       "  <th>Model:</th>                   <td>OLS</td>       <th>  Adj. R-squared:    </th> <td>   0.014</td> \n",
       "</tr>\n",
       "<tr>\n",
       "  <th>Method:</th>             <td>Least Squares</td>  <th>  F-statistic:       </th> <td>   62.86</td> \n",
       "</tr>\n",
       "<tr>\n",
       "  <th>Date:</th>             <td>Mon, 10 Oct 2022</td> <th>  Prob (F-statistic):</th> <td>2.79e-15</td> \n",
       "</tr>\n",
       "<tr>\n",
       "  <th>Time:</th>                 <td>21:49:42</td>     <th>  Log-Likelihood:    </th> <td> -12107.</td> \n",
       "</tr>\n",
       "<tr>\n",
       "  <th>No. Observations:</th>      <td>  4356</td>      <th>  AIC:               </th> <td>2.422e+04</td>\n",
       "</tr>\n",
       "<tr>\n",
       "  <th>Df Residuals:</th>          <td>  4354</td>      <th>  BIC:               </th> <td>2.423e+04</td>\n",
       "</tr>\n",
       "<tr>\n",
       "  <th>Df Model:</th>              <td>     1</td>      <th>                     </th>     <td> </td>    \n",
       "</tr>\n",
       "<tr>\n",
       "  <th>Covariance Type:</th>      <td>nonrobust</td>    <th>                     </th>     <td> </td>    \n",
       "</tr>\n",
       "</table>\n",
       "<table class=\"simpletable\">\n",
       "<tr>\n",
       "      <td></td>         <th>coef</th>     <th>std err</th>      <th>t</th>      <th>P>|t|</th>  <th>[0.025</th>    <th>0.975]</th>  \n",
       "</tr>\n",
       "<tr>\n",
       "  <th>Intercept</th> <td>    6.3623</td> <td>    0.087</td> <td>   73.000</td> <td> 0.000</td> <td>    6.191</td> <td>    6.533</td>\n",
       "</tr>\n",
       "<tr>\n",
       "  <th>frsthalf</th>  <td>   -0.9398</td> <td>    0.119</td> <td>   -7.929</td> <td> 0.000</td> <td>   -1.172</td> <td>   -0.707</td>\n",
       "</tr>\n",
       "</table>\n",
       "<table class=\"simpletable\">\n",
       "<tr>\n",
       "  <th>Omnibus:</th>       <td>72.665</td> <th>  Durbin-Watson:     </th> <td>   1.397</td>\n",
       "</tr>\n",
       "<tr>\n",
       "  <th>Prob(Omnibus):</th> <td> 0.000</td> <th>  Jarque-Bera (JB):  </th> <td>  41.623</td>\n",
       "</tr>\n",
       "<tr>\n",
       "  <th>Skew:</th>          <td>-0.026</td> <th>  Prob(JB):          </th> <td>9.16e-10</td>\n",
       "</tr>\n",
       "<tr>\n",
       "  <th>Kurtosis:</th>      <td> 2.524</td> <th>  Cond. No.          </th> <td>    2.72</td>\n",
       "</tr>\n",
       "</table><br/><br/>Notes:<br/>[1] Standard Errors assume that the covariance matrix of the errors is correctly specified."
      ],
      "text/plain": [
       "<class 'statsmodels.iolib.summary.Summary'>\n",
       "\"\"\"\n",
       "                            OLS Regression Results                            \n",
       "==============================================================================\n",
       "Dep. Variable:                   educ   R-squared:                       0.014\n",
       "Model:                            OLS   Adj. R-squared:                  0.014\n",
       "Method:                 Least Squares   F-statistic:                     62.86\n",
       "Date:                Mon, 10 Oct 2022   Prob (F-statistic):           2.79e-15\n",
       "Time:                        21:49:42   Log-Likelihood:                -12107.\n",
       "No. Observations:                4356   AIC:                         2.422e+04\n",
       "Df Residuals:                    4354   BIC:                         2.423e+04\n",
       "Df Model:                           1                                         \n",
       "Covariance Type:            nonrobust                                         \n",
       "==============================================================================\n",
       "                 coef    std err          t      P>|t|      [0.025      0.975]\n",
       "------------------------------------------------------------------------------\n",
       "Intercept      6.3623      0.087     73.000      0.000       6.191       6.533\n",
       "frsthalf      -0.9398      0.119     -7.929      0.000      -1.172      -0.707\n",
       "==============================================================================\n",
       "Omnibus:                       72.665   Durbin-Watson:                   1.397\n",
       "Prob(Omnibus):                  0.000   Jarque-Bera (JB):               41.623\n",
       "Skew:                          -0.026   Prob(JB):                     9.16e-10\n",
       "Kurtosis:                       2.524   Cond. No.                         2.72\n",
       "==============================================================================\n",
       "\n",
       "Notes:\n",
       "[1] Standard Errors assume that the covariance matrix of the errors is correctly specified.\n",
       "\"\"\""
      ]
     },
     "execution_count": 10,
     "metadata": {},
     "output_type": "execute_result"
    }
   ],
   "source": [
    "stage1_model = ols('educ ~ frsthalf', df_f).fit()\n",
    "stage1_model.summary()"
   ]
  },
  {
   "cell_type": "code",
   "execution_count": 11,
   "id": "6fe8c70d",
   "metadata": {
    "ExecuteTime": {
     "end_time": "2022-10-10T12:49:42.393260Z",
     "start_time": "2022-10-10T12:49:42.349380Z"
    }
   },
   "outputs": [
    {
     "data": {
      "text/html": [
       "<table class=\"simpletable\">\n",
       "<caption>OLS Regression Results</caption>\n",
       "<tr>\n",
       "  <th>Dep. Variable:</th>        <td>children</td>     <th>  R-squared:         </th> <td>   0.003</td> \n",
       "</tr>\n",
       "<tr>\n",
       "  <th>Model:</th>                   <td>OLS</td>       <th>  Adj. R-squared:    </th> <td>   0.003</td> \n",
       "</tr>\n",
       "<tr>\n",
       "  <th>Method:</th>             <td>Least Squares</td>  <th>  F-statistic:       </th> <td>   15.15</td> \n",
       "</tr>\n",
       "<tr>\n",
       "  <th>Date:</th>             <td>Mon, 10 Oct 2022</td> <th>  Prob (F-statistic):</th> <td>0.000101</td> \n",
       "</tr>\n",
       "<tr>\n",
       "  <th>Time:</th>                 <td>21:49:42</td>     <th>  Log-Likelihood:    </th> <td> -9650.8</td> \n",
       "</tr>\n",
       "<tr>\n",
       "  <th>No. Observations:</th>      <td>  4356</td>      <th>  AIC:               </th> <td>1.931e+04</td>\n",
       "</tr>\n",
       "<tr>\n",
       "  <th>Df Residuals:</th>          <td>  4354</td>      <th>  BIC:               </th> <td>1.932e+04</td>\n",
       "</tr>\n",
       "<tr>\n",
       "  <th>Df Model:</th>              <td>     1</td>      <th>                     </th>     <td> </td>    \n",
       "</tr>\n",
       "<tr>\n",
       "  <th>Covariance Type:</th>      <td>nonrobust</td>    <th>                     </th>     <td> </td>    \n",
       "</tr>\n",
       "</table>\n",
       "<table class=\"simpletable\">\n",
       "<tr>\n",
       "      <td></td>         <th>coef</th>     <th>std err</th>      <th>t</th>      <th>P>|t|</th>  <th>[0.025</th>    <th>0.975]</th>  \n",
       "</tr>\n",
       "<tr>\n",
       "  <th>Intercept</th> <td>    2.1264</td> <td>    0.050</td> <td>   42.877</td> <td> 0.000</td> <td>    2.029</td> <td>    2.224</td>\n",
       "</tr>\n",
       "<tr>\n",
       "  <th>frsthalf</th>  <td>    0.2625</td> <td>    0.067</td> <td>    3.892</td> <td> 0.000</td> <td>    0.130</td> <td>    0.395</td>\n",
       "</tr>\n",
       "</table>\n",
       "<table class=\"simpletable\">\n",
       "<tr>\n",
       "  <th>Omnibus:</th>       <td>623.649</td> <th>  Durbin-Watson:     </th> <td>   1.976</td> \n",
       "</tr>\n",
       "<tr>\n",
       "  <th>Prob(Omnibus):</th> <td> 0.000</td>  <th>  Jarque-Bera (JB):  </th> <td> 922.028</td> \n",
       "</tr>\n",
       "<tr>\n",
       "  <th>Skew:</th>          <td> 1.065</td>  <th>  Prob(JB):          </th> <td>6.08e-201</td>\n",
       "</tr>\n",
       "<tr>\n",
       "  <th>Kurtosis:</th>      <td> 3.739</td>  <th>  Cond. No.          </th> <td>    2.72</td> \n",
       "</tr>\n",
       "</table><br/><br/>Notes:<br/>[1] Standard Errors assume that the covariance matrix of the errors is correctly specified."
      ],
      "text/plain": [
       "<class 'statsmodels.iolib.summary.Summary'>\n",
       "\"\"\"\n",
       "                            OLS Regression Results                            \n",
       "==============================================================================\n",
       "Dep. Variable:               children   R-squared:                       0.003\n",
       "Model:                            OLS   Adj. R-squared:                  0.003\n",
       "Method:                 Least Squares   F-statistic:                     15.15\n",
       "Date:                Mon, 10 Oct 2022   Prob (F-statistic):           0.000101\n",
       "Time:                        21:49:42   Log-Likelihood:                -9650.8\n",
       "No. Observations:                4356   AIC:                         1.931e+04\n",
       "Df Residuals:                    4354   BIC:                         1.932e+04\n",
       "Df Model:                           1                                         \n",
       "Covariance Type:            nonrobust                                         \n",
       "==============================================================================\n",
       "                 coef    std err          t      P>|t|      [0.025      0.975]\n",
       "------------------------------------------------------------------------------\n",
       "Intercept      2.1264      0.050     42.877      0.000       2.029       2.224\n",
       "frsthalf       0.2625      0.067      3.892      0.000       0.130       0.395\n",
       "==============================================================================\n",
       "Omnibus:                      623.649   Durbin-Watson:                   1.976\n",
       "Prob(Omnibus):                  0.000   Jarque-Bera (JB):              922.028\n",
       "Skew:                           1.065   Prob(JB):                    6.08e-201\n",
       "Kurtosis:                       3.739   Cond. No.                         2.72\n",
       "==============================================================================\n",
       "\n",
       "Notes:\n",
       "[1] Standard Errors assume that the covariance matrix of the errors is correctly specified.\n",
       "\"\"\""
      ]
     },
     "execution_count": 11,
     "metadata": {},
     "output_type": "execute_result"
    }
   ],
   "source": [
    "reduced_model = ols('children ~ frsthalf', df_f).fit()\n",
    "reduced_model.summary()"
   ]
  },
  {
   "cell_type": "code",
   "execution_count": 12,
   "id": "e0b48d2b",
   "metadata": {
    "ExecuteTime": {
     "end_time": "2022-10-10T12:49:42.440135Z",
     "start_time": "2022-10-10T12:49:42.395256Z"
    }
   },
   "outputs": [
    {
     "data": {
      "text/html": [
       "<table class=\"simpletable\">\n",
       "<caption>OLS Regression Results</caption>\n",
       "<tr>\n",
       "  <th>Dep. Variable:</th>        <td>children</td>     <th>  R-squared:         </th> <td>   0.003</td> \n",
       "</tr>\n",
       "<tr>\n",
       "  <th>Model:</th>                   <td>OLS</td>       <th>  Adj. R-squared:    </th> <td>   0.003</td> \n",
       "</tr>\n",
       "<tr>\n",
       "  <th>Method:</th>             <td>Least Squares</td>  <th>  F-statistic:       </th> <td>   15.15</td> \n",
       "</tr>\n",
       "<tr>\n",
       "  <th>Date:</th>             <td>Mon, 10 Oct 2022</td> <th>  Prob (F-statistic):</th> <td>0.000101</td> \n",
       "</tr>\n",
       "<tr>\n",
       "  <th>Time:</th>                 <td>21:49:42</td>     <th>  Log-Likelihood:    </th> <td> -9650.8</td> \n",
       "</tr>\n",
       "<tr>\n",
       "  <th>No. Observations:</th>      <td>  4356</td>      <th>  AIC:               </th> <td>1.931e+04</td>\n",
       "</tr>\n",
       "<tr>\n",
       "  <th>Df Residuals:</th>          <td>  4354</td>      <th>  BIC:               </th> <td>1.932e+04</td>\n",
       "</tr>\n",
       "<tr>\n",
       "  <th>Df Model:</th>              <td>     1</td>      <th>                     </th>     <td> </td>    \n",
       "</tr>\n",
       "<tr>\n",
       "  <th>Covariance Type:</th>      <td>nonrobust</td>    <th>                     </th>     <td> </td>    \n",
       "</tr>\n",
       "</table>\n",
       "<table class=\"simpletable\">\n",
       "<tr>\n",
       "      <td></td>         <th>coef</th>     <th>std err</th>      <th>t</th>      <th>P>|t|</th>  <th>[0.025</th>    <th>0.975]</th>  \n",
       "</tr>\n",
       "<tr>\n",
       "  <th>Intercept</th> <td>    3.9037</td> <td>    0.421</td> <td>    9.261</td> <td> 0.000</td> <td>    3.077</td> <td>    4.730</td>\n",
       "</tr>\n",
       "<tr>\n",
       "  <th>x_hat</th>     <td>   -0.2793</td> <td>    0.072</td> <td>   -3.892</td> <td> 0.000</td> <td>   -0.420</td> <td>   -0.139</td>\n",
       "</tr>\n",
       "</table>\n",
       "<table class=\"simpletable\">\n",
       "<tr>\n",
       "  <th>Omnibus:</th>       <td>623.649</td> <th>  Durbin-Watson:     </th> <td>   1.976</td> \n",
       "</tr>\n",
       "<tr>\n",
       "  <th>Prob(Omnibus):</th> <td> 0.000</td>  <th>  Jarque-Bera (JB):  </th> <td> 922.028</td> \n",
       "</tr>\n",
       "<tr>\n",
       "  <th>Skew:</th>          <td> 1.065</td>  <th>  Prob(JB):          </th> <td>6.08e-201</td>\n",
       "</tr>\n",
       "<tr>\n",
       "  <th>Kurtosis:</th>      <td> 3.739</td>  <th>  Cond. No.          </th> <td>    75.8</td> \n",
       "</tr>\n",
       "</table><br/><br/>Notes:<br/>[1] Standard Errors assume that the covariance matrix of the errors is correctly specified."
      ],
      "text/plain": [
       "<class 'statsmodels.iolib.summary.Summary'>\n",
       "\"\"\"\n",
       "                            OLS Regression Results                            \n",
       "==============================================================================\n",
       "Dep. Variable:               children   R-squared:                       0.003\n",
       "Model:                            OLS   Adj. R-squared:                  0.003\n",
       "Method:                 Least Squares   F-statistic:                     15.15\n",
       "Date:                Mon, 10 Oct 2022   Prob (F-statistic):           0.000101\n",
       "Time:                        21:49:42   Log-Likelihood:                -9650.8\n",
       "No. Observations:                4356   AIC:                         1.931e+04\n",
       "Df Residuals:                    4354   BIC:                         1.932e+04\n",
       "Df Model:                           1                                         \n",
       "Covariance Type:            nonrobust                                         \n",
       "==============================================================================\n",
       "                 coef    std err          t      P>|t|      [0.025      0.975]\n",
       "------------------------------------------------------------------------------\n",
       "Intercept      3.9037      0.421      9.261      0.000       3.077       4.730\n",
       "x_hat         -0.2793      0.072     -3.892      0.000      -0.420      -0.139\n",
       "==============================================================================\n",
       "Omnibus:                      623.649   Durbin-Watson:                   1.976\n",
       "Prob(Omnibus):                  0.000   Jarque-Bera (JB):              922.028\n",
       "Skew:                           1.065   Prob(JB):                    6.08e-201\n",
       "Kurtosis:                       3.739   Cond. No.                         75.8\n",
       "==============================================================================\n",
       "\n",
       "Notes:\n",
       "[1] Standard Errors assume that the covariance matrix of the errors is correctly specified.\n",
       "\"\"\""
      ]
     },
     "execution_count": 12,
     "metadata": {},
     "output_type": "execute_result"
    }
   ],
   "source": [
    "x_hat = stage1_model.predict()\n",
    "df_f['x_hat'] = x_hat\n",
    "stage2_model = ols('children ~ x_hat', df_f).fit()\n",
    "stage2_model.summary()"
   ]
  },
  {
   "cell_type": "markdown",
   "id": "74e37300",
   "metadata": {},
   "source": [
    "### (c) Estimate the model from part (a) by using frsthalf as an IV for educ. Compare the estimated effect of education with the OLS estimate from part (a).\n",
    "- ans : OLS의 educ계수 = -0.0904, IV estimation의 educ계수 = -0.2793"
   ]
  },
  {
   "cell_type": "code",
   "execution_count": 13,
   "id": "b37ba6fe",
   "metadata": {
    "ExecuteTime": {
     "end_time": "2022-10-10T12:49:42.488009Z",
     "start_time": "2022-10-10T12:49:42.444125Z"
    }
   },
   "outputs": [
    {
     "name": "stdout",
     "output_type": "stream",
     "text": [
      "                          IV-2SLS Estimation Summary                          \n",
      "==============================================================================\n",
      "Dep. Variable:               children   R-squared:                      0.1214\n",
      "Estimator:                    IV-2SLS   Adj. R-squared:                 0.1212\n",
      "No. Observations:                4356   F-statistic:                    17.191\n",
      "Date:                Mon, Oct 10 2022   P-value (F-stat)                0.0000\n",
      "Time:                        21:49:42   Distribution:                  chi2(1)\n",
      "Cov. Estimator:            unadjusted                                         \n",
      "                                                                              \n",
      "                             Parameter Estimates                              \n",
      "==============================================================================\n",
      "            Parameter  Std. Err.     T-stat    P-value    Lower CI    Upper CI\n",
      "------------------------------------------------------------------------------\n",
      "const          3.9037     0.3957     9.8659     0.0000      3.1282      4.6792\n",
      "educ          -0.2793     0.0674    -4.1462     0.0000     -0.4114     -0.1473\n",
      "==============================================================================\n",
      "\n",
      "Endogenous: educ\n",
      "Instruments: frsthalf\n",
      "Unadjusted Covariance (Homoskedastic)\n",
      "Debiased: False\n"
     ]
    }
   ],
   "source": [
    "SLS = IV2SLS(df_f.children, df_f[[\"const\"]], df_f.educ, df_f.frsthalf).fit(cov_type=\"unadjusted\")\n",
    "print(SLS)"
   ]
  },
  {
   "cell_type": "code",
   "execution_count": 14,
   "id": "a064c547",
   "metadata": {
    "ExecuteTime": {
     "end_time": "2022-10-10T12:49:42.535880Z",
     "start_time": "2022-10-10T12:49:42.491001Z"
    }
   },
   "outputs": [
    {
     "name": "stdout",
     "output_type": "stream",
     "text": [
      "                  Model Comparison                 \n",
      "===================================================\n",
      "                                OLS            2SLS\n",
      "---------------------------------------------------\n",
      "Dep. Variable              children        children\n",
      "Estimator                       OLS         IV-2SLS\n",
      "No. Observations               4356            4356\n",
      "Cov. Est.                unadjusted      unadjusted\n",
      "R-squared                    0.5684          0.1214\n",
      "Adj. R-squared               0.5681          0.1212\n",
      "F-statistic                  5736.7          17.191\n",
      "P-value (F-stat)             0.0000       3.381e-05\n",
      "==================     ============   =============\n",
      "const                       -4.1417          3.9037\n",
      "                           (0.0000)        (0.0000)\n",
      "educ                        -0.0904         -0.2793\n",
      "                           (0.0000)     (3.381e-05)\n",
      "age                          0.3327                \n",
      "                           (0.0000)                \n",
      "agesq                       -0.0026                \n",
      "                           (0.0000)                \n",
      "==================== ============== ===============\n",
      "Instruments                                frsthalf\n",
      "---------------------------------------------------\n",
      "\n",
      "P-values reported in parentheses\n"
     ]
    }
   ],
   "source": [
    "from linearmodels.iv import compare\n",
    "\n",
    "print(compare({\"OLS\": OLS, \"2SLS\":SLS}, precision = 'pvalues'))"
   ]
  },
  {
   "cell_type": "code",
   "execution_count": null,
   "id": "e2a37338",
   "metadata": {},
   "outputs": [],
   "source": []
  },
  {
   "cell_type": "markdown",
   "id": "56540c97",
   "metadata": {},
   "source": [
    "### (d) Add the binary variables electric, tv, and bicycle to the model and assume these are exogenous. Estimate the equation by OLS and 2SLS and compare the estimated coefficients on educ.\n",
    "- ans : OLS의 educ계수 = -0.0767, IV estimation의 educ계수 = -0.2793"
   ]
  },
  {
   "cell_type": "code",
   "execution_count": 15,
   "id": "6c6bc0fa",
   "metadata": {
    "ExecuteTime": {
     "end_time": "2022-10-10T12:49:42.583753Z",
     "start_time": "2022-10-10T12:49:42.538872Z"
    }
   },
   "outputs": [
    {
     "name": "stdout",
     "output_type": "stream",
     "text": [
      "                            OLS Estimation Summary                            \n",
      "==============================================================================\n",
      "Dep. Variable:               children   R-squared:                      0.5761\n",
      "Estimator:                        OLS   Adj. R-squared:                 0.5755\n",
      "No. Observations:                4356   F-statistic:                    5919.0\n",
      "Date:                Mon, Oct 10 2022   P-value (F-stat)                0.0000\n",
      "Time:                        21:49:42   Distribution:                  chi2(6)\n",
      "Cov. Estimator:            unadjusted                                         \n",
      "                                                                              \n",
      "                             Parameter Estimates                              \n",
      "==============================================================================\n",
      "            Parameter  Std. Err.     T-stat    P-value    Lower CI    Upper CI\n",
      "------------------------------------------------------------------------------\n",
      "const         -4.3898     0.2401    -18.281     0.0000     -4.8604     -3.9191\n",
      "educ          -0.0767     0.0063    -12.085     0.0000     -0.0892     -0.0643\n",
      "age            0.3402     0.0164     20.708     0.0000      0.3080      0.3724\n",
      "agesq         -0.0027     0.0003    -10.018     0.0000     -0.0032     -0.0022\n",
      "electric      -0.3027     0.0761    -3.9767     0.0001     -0.4519     -0.1535\n",
      "tv            -0.2531     0.0914    -2.7707     0.0056     -0.4322     -0.0741\n",
      "bicycle        0.3179     0.0493     6.4447     0.0000      0.2212      0.4146\n",
      "==============================================================================\n"
     ]
    }
   ],
   "source": [
    "OLS = IV2SLS(df_f.children, df_f[[\"const\",\"educ\", \"age\",\"agesq\",'electric','tv','bicycle']], None, None).fit(cov_type=\"unadjusted\")\n",
    "print(OLS)"
   ]
  },
  {
   "cell_type": "code",
   "execution_count": 16,
   "id": "d8e5fc00",
   "metadata": {
    "ExecuteTime": {
     "end_time": "2022-10-10T12:49:42.614670Z",
     "start_time": "2022-10-10T12:49:42.586745Z"
    }
   },
   "outputs": [
    {
     "name": "stdout",
     "output_type": "stream",
     "text": [
      "                          IV-2SLS Estimation Summary                          \n",
      "==============================================================================\n",
      "Dep. Variable:               children   R-squared:                      0.1214\n",
      "Estimator:                    IV-2SLS   Adj. R-squared:                 0.1212\n",
      "No. Observations:                4356   F-statistic:                    17.191\n",
      "Date:                Mon, Oct 10 2022   P-value (F-stat)                0.0000\n",
      "Time:                        21:49:42   Distribution:                  chi2(1)\n",
      "Cov. Estimator:            unadjusted                                         \n",
      "                                                                              \n",
      "                             Parameter Estimates                              \n",
      "==============================================================================\n",
      "            Parameter  Std. Err.     T-stat    P-value    Lower CI    Upper CI\n",
      "------------------------------------------------------------------------------\n",
      "const          3.9037     0.3957     9.8659     0.0000      3.1282      4.6792\n",
      "educ          -0.2793     0.0674    -4.1462     0.0000     -0.4114     -0.1473\n",
      "==============================================================================\n",
      "\n",
      "Endogenous: educ\n",
      "Instruments: frsthalf\n",
      "Unadjusted Covariance (Homoskedastic)\n",
      "Debiased: False\n"
     ]
    }
   ],
   "source": [
    "SLS = IV2SLS(df_f.children, df_f[[\"const\"]], df_f.educ, df_f.frsthalf).fit(cov_type=\"unadjusted\")\n",
    "print(SLS)"
   ]
  },
  {
   "cell_type": "code",
   "execution_count": 17,
   "id": "6694af73",
   "metadata": {
    "ExecuteTime": {
     "end_time": "2022-10-10T12:49:42.645586Z",
     "start_time": "2022-10-10T12:49:42.617663Z"
    }
   },
   "outputs": [
    {
     "name": "stdout",
     "output_type": "stream",
     "text": [
      "                  Model Comparison                  \n",
      "====================================================\n",
      "                                 OLS            2SLS\n",
      "----------------------------------------------------\n",
      "Dep. Variable               children        children\n",
      "Estimator                        OLS         IV-2SLS\n",
      "No. Observations                4356            4356\n",
      "Cov. Est.                 unadjusted      unadjusted\n",
      "R-squared                     0.5761          0.1214\n",
      "Adj. R-squared                0.5755          0.1212\n",
      "F-statistic                   5919.0          17.191\n",
      "P-value (F-stat)              0.0000       3.381e-05\n",
      "==================     =============   =============\n",
      "const                        -4.3898          3.9037\n",
      "                            (0.0000)        (0.0000)\n",
      "educ                         -0.0767         -0.2793\n",
      "                            (0.0000)     (3.381e-05)\n",
      "age                           0.3402                \n",
      "                            (0.0000)                \n",
      "agesq                        -0.0027                \n",
      "                            (0.0000)                \n",
      "electric                     -0.3027                \n",
      "                         (6.988e-05)                \n",
      "tv                           -0.2531                \n",
      "                            (0.0056)                \n",
      "bicycle                       0.3179                \n",
      "                         (1.158e-10)                \n",
      "==================== =============== ===============\n",
      "Instruments                                 frsthalf\n",
      "----------------------------------------------------\n",
      "\n",
      "P-values reported in parentheses\n"
     ]
    }
   ],
   "source": [
    "print(compare({\"OLS\": OLS, \"2SLS\":SLS}, precision = 'pvalues'))"
   ]
  }
 ],
 "metadata": {
  "kernelspec": {
   "display_name": "Python 3 (ipykernel)",
   "language": "python",
   "name": "python3"
  },
  "language_info": {
   "codemirror_mode": {
    "name": "ipython",
    "version": 3
   },
   "file_extension": ".py",
   "mimetype": "text/x-python",
   "name": "python",
   "nbconvert_exporter": "python",
   "pygments_lexer": "ipython3",
   "version": "3.9.16"
  },
  "toc": {
   "base_numbering": 1,
   "nav_menu": {},
   "number_sections": true,
   "sideBar": true,
   "skip_h1_title": false,
   "title_cell": "Table of Contents",
   "title_sidebar": "Contents",
   "toc_cell": false,
   "toc_position": {
    "height": "calc(100% - 180px)",
    "left": "10px",
    "top": "150px",
    "width": "284.438px"
   },
   "toc_section_display": true,
   "toc_window_display": true
  }
 },
 "nbformat": 4,
 "nbformat_minor": 5
}
