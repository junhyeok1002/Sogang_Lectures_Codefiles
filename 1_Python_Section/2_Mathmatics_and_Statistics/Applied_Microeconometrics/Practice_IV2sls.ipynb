{
 "cells": [
  {
   "cell_type": "markdown",
   "id": "36d275b6",
   "metadata": {},
   "source": [
    "참고링크 https://bashtage.github.io/linearmodels/iv/examples/basic-examples.html"
   ]
  },
  {
   "cell_type": "code",
   "execution_count": 9,
   "id": "670931ba",
   "metadata": {
    "ExecuteTime": {
     "end_time": "2022-10-10T11:17:58.256140Z",
     "start_time": "2022-10-10T11:17:58.215159Z"
    },
    "scrolled": true
   },
   "outputs": [
    {
     "name": "stdout",
     "output_type": "stream",
     "text": [
      "\n",
      "T.A. Mroz (1987), \"The Sensitivity of an Empirical Model of Married Women's\n",
      "Hours of Work to Economic and Statistical Assumptions,\" Econometrica 55,\n",
      "765-799.\n",
      "\n",
      "nlf        1 if in labor force, 1975\n",
      "hours      hours worked, 1975\n",
      "kidslt6    # kids < 6 years\n",
      "kidsge6    # kids 6-18\n",
      "age        woman's age in yrs\n",
      "educ       years of schooling\n",
      "wage       estimated wage from earns., hours\n",
      "repwage    reported wage at interview in 1976\n",
      "hushrs     hours worked by husband, 1975\n",
      "husage     husband's age\n",
      "huseduc    husband's years of schooling\n",
      "huswage    husband's hourly wage, 1975\n",
      "faminc     family income, 1975\n",
      "mtr        fed. marginal tax rate facing woman\n",
      "motheduc   mother's years of schooling\n",
      "fatheduc   father's years of schooling\n",
      "unem       unem. rate in county of resid.\n",
      "city       =1 if live in SMSA\n",
      "exper      actual labor mkt exper\n",
      "nwifeinc   (faminc - wage*hours)/1000\n",
      "lwage      log(wage)\n",
      "expersq    exper^2\n",
      "\n"
     ]
    }
   ],
   "source": [
    "import numpy as np\n",
    "from linearmodels.datasets import mroz\n",
    "from statsmodels.api import add_constant\n",
    "\n",
    "print(mroz.DESCR)\n",
    "data = mroz.load()\n",
    "data = data.dropna()\n",
    "data = add_constant(data, has_constant=\"add\")"
   ]
  },
  {
   "cell_type": "code",
   "execution_count": 2,
   "id": "7f0e9613",
   "metadata": {
    "ExecuteTime": {
     "end_time": "2022-10-10T11:16:36.068579Z",
     "start_time": "2022-10-10T11:16:36.000766Z"
    }
   },
   "outputs": [
    {
     "name": "stdout",
     "output_type": "stream",
     "text": [
      "                            OLS Estimation Summary                            \n",
      "==============================================================================\n",
      "Dep. Variable:                   wage   R-squared:                      0.1179\n",
      "Estimator:                        OLS   Adj. R-squared:                 0.1158\n",
      "No. Observations:                 428   F-statistic:                    57.196\n",
      "Date:                Mon, Oct 10 2022   P-value (F-stat)                0.0000\n",
      "Time:                        20:16:36   Distribution:                  chi2(1)\n",
      "Cov. Estimator:            unadjusted                                         \n",
      "                                                                              \n",
      "                             Parameter Estimates                              \n",
      "==============================================================================\n",
      "            Parameter  Std. Err.     T-stat    P-value    Lower CI    Upper CI\n",
      "------------------------------------------------------------------------------\n",
      "const         -0.1852     0.1848    -1.0022     0.3163     -0.5474      0.1770\n",
      "educ           0.1086     0.0144     7.5628     0.0000      0.0805      0.1368\n",
      "==============================================================================\n"
     ]
    }
   ],
   "source": [
    "from linearmodels.iv import IV2SLS\n",
    "\n",
    "res_ols = IV2SLS(np.log(data.wage), data[[\"const\", \"educ\"]], None, None).fit(\n",
    "    cov_type=\"unadjusted\"\n",
    ")\n",
    "print(res_ols)"
   ]
  },
  {
   "cell_type": "code",
   "execution_count": 3,
   "id": "44839b8b",
   "metadata": {
    "ExecuteTime": {
     "end_time": "2022-10-10T11:16:43.469464Z",
     "start_time": "2022-10-10T11:16:43.408618Z"
    }
   },
   "outputs": [
    {
     "name": "stdout",
     "output_type": "stream",
     "text": [
      "                            OLS Estimation Summary                            \n",
      "==============================================================================\n",
      "Dep. Variable:                   educ   R-squared:                      0.1726\n",
      "Estimator:                        OLS   Adj. R-squared:                 0.1706\n",
      "No. Observations:                 428   F-statistic:                    89.258\n",
      "Date:                Mon, Oct 10 2022   P-value (F-stat)                0.0000\n",
      "Time:                        20:16:43   Distribution:                  chi2(1)\n",
      "Cov. Estimator:            unadjusted                                         \n",
      "                                                                              \n",
      "                             Parameter Estimates                              \n",
      "==============================================================================\n",
      "            Parameter  Std. Err.     T-stat    P-value    Lower CI    Upper CI\n",
      "------------------------------------------------------------------------------\n",
      "const          10.237     0.2753     37.186     0.0000      9.6975      10.777\n",
      "fatheduc       0.2694     0.0285     9.4476     0.0000      0.2135      0.3253\n",
      "==============================================================================\n"
     ]
    }
   ],
   "source": [
    "res_first = IV2SLS(data.educ, data[[\"const\", \"fatheduc\"]], None, None).fit(\n",
    "    cov_type=\"unadjusted\"\n",
    ")\n",
    "print(res_first)\n",
    "data[\"educ_hat\"] = data.educ - res_first.resids"
   ]
  },
  {
   "cell_type": "code",
   "execution_count": 4,
   "id": "dcb7576b",
   "metadata": {
    "ExecuteTime": {
     "end_time": "2022-10-10T11:16:50.196641Z",
     "start_time": "2022-10-10T11:16:50.171706Z"
    }
   },
   "outputs": [
    {
     "name": "stdout",
     "output_type": "stream",
     "text": [
      "                          IV-2SLS Estimation Summary                          \n",
      "==============================================================================\n",
      "Dep. Variable:                   wage   R-squared:                      0.0934\n",
      "Estimator:                    IV-2SLS   Adj. R-squared:                 0.0913\n",
      "No. Observations:                 428   F-statistic:                    2.8487\n",
      "Date:                Mon, Oct 10 2022   P-value (F-stat)                0.0914\n",
      "Time:                        20:16:50   Distribution:                  chi2(1)\n",
      "Cov. Estimator:            unadjusted                                         \n",
      "                                                                              \n",
      "                             Parameter Estimates                              \n",
      "==============================================================================\n",
      "            Parameter  Std. Err.     T-stat    P-value    Lower CI    Upper CI\n",
      "------------------------------------------------------------------------------\n",
      "const          0.4411     0.4451     0.9911     0.3216     -0.4312      1.3134\n",
      "educ           0.0592     0.0351     1.6878     0.0914     -0.0095      0.1279\n",
      "==============================================================================\n",
      "\n",
      "Endogenous: educ\n",
      "Instruments: fatheduc\n",
      "Unadjusted Covariance (Homoskedastic)\n",
      "Debiased: False\n"
     ]
    }
   ],
   "source": [
    "res_second = IV2SLS(np.log(data.wage), data[[\"const\"]], data.educ, data.fatheduc).fit(\n",
    "    cov_type=\"unadjusted\"\n",
    ")\n",
    "print(res_second)"
   ]
  },
  {
   "cell_type": "code",
   "execution_count": 5,
   "id": "e91d8a41",
   "metadata": {
    "ExecuteTime": {
     "end_time": "2022-10-10T11:16:57.487640Z",
     "start_time": "2022-10-10T11:16:57.433788Z"
    }
   },
   "outputs": [
    {
     "name": "stdout",
     "output_type": "stream",
     "text": [
      "                         Model Comparison                        \n",
      "=================================================================\n",
      "                                OLS           2SLS         Direct\n",
      "-----------------------------------------------------------------\n",
      "Dep. Variable                  wage           wage           wage\n",
      "Estimator                       OLS        IV-2SLS            OLS\n",
      "No. Observations                428            428            428\n",
      "Cov. Est.                unadjusted     unadjusted     unadjusted\n",
      "R-squared                    0.1179         0.0934         0.0060\n",
      "Adj. R-squared               0.1158         0.0913         0.0037\n",
      "F-statistic                  57.196         2.8487         2.5982\n",
      "P-value (F-stat)          3.941e-14         0.0914         0.1070\n",
      "==================     ============   ============   ============\n",
      "const                       -0.1852         0.4411         0.4411\n",
      "                          (-1.0022)       (0.9911)       (0.9465)\n",
      "educ                         0.1086         0.0592               \n",
      "                           (7.5628)       (1.6878)               \n",
      "educ_hat                                                   0.0592\n",
      "                                                         (1.6119)\n",
      "==================== ============== ============== ==============\n",
      "Instruments                               fatheduc               \n",
      "-----------------------------------------------------------------\n",
      "\n",
      "T-stats reported in parentheses\n"
     ]
    }
   ],
   "source": [
    "from linearmodels.iv import compare\n",
    "\n",
    "res_direct = IV2SLS(np.log(data.wage), data[[\"const\", \"educ_hat\"]], None, None).fit(\n",
    "    cov_type=\"unadjusted\"\n",
    ")\n",
    "print(compare({\"OLS\": res_ols, \"2SLS\": res_second, \"Direct\": res_direct}))"
   ]
  },
  {
   "cell_type": "code",
   "execution_count": null,
   "id": "a269e3b9",
   "metadata": {},
   "outputs": [],
   "source": []
  }
 ],
 "metadata": {
  "kernelspec": {
   "display_name": "Python 3 (ipykernel)",
   "language": "python",
   "name": "python3"
  },
  "language_info": {
   "codemirror_mode": {
    "name": "ipython",
    "version": 3
   },
   "file_extension": ".py",
   "mimetype": "text/x-python",
   "name": "python",
   "nbconvert_exporter": "python",
   "pygments_lexer": "ipython3",
   "version": "3.9.13"
  },
  "toc": {
   "base_numbering": 1,
   "nav_menu": {},
   "number_sections": true,
   "sideBar": true,
   "skip_h1_title": false,
   "title_cell": "Table of Contents",
   "title_sidebar": "Contents",
   "toc_cell": false,
   "toc_position": {},
   "toc_section_display": true,
   "toc_window_display": false
  }
 },
 "nbformat": 4,
 "nbformat_minor": 5
}
