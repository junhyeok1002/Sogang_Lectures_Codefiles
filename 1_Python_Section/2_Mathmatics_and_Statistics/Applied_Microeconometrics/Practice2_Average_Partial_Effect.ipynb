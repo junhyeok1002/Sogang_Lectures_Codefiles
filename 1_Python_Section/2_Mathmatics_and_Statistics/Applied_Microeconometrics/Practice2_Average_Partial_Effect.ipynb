{
 "cells": [
  {
   "cell_type": "markdown",
   "id": "06c97804",
   "metadata": {},
   "source": [
    "20180634_최준혁_HW2"
   ]
  },
  {
   "cell_type": "markdown",
   "id": "2c9a54c7",
   "metadata": {},
   "source": [
    "## Married Women's Labor Force Participation"
   ]
  },
  {
   "cell_type": "code",
   "execution_count": 1,
   "id": "2062098d",
   "metadata": {
    "ExecuteTime": {
     "end_time": "2022-11-06T14:45:48.814023Z",
     "start_time": "2022-11-06T14:45:42.651263Z"
    }
   },
   "outputs": [],
   "source": [
    "import numpy as np\n",
    "import matplotlib.pyplot as plt\n",
    "import pandas as pd\n",
    "import seaborn as sns\n",
    "import statsmodels.api as sm\n",
    "import warnings\n",
    "warnings.filterwarnings('ignore')\n",
    "%matplotlib inline\n",
    "\n",
    "plt.rc('font', family='Malgun Gothic')\n",
    "plt.rcParams['axes.unicode_minus'] = False"
   ]
  },
  {
   "cell_type": "code",
   "execution_count": 2,
   "id": "9e3a81da",
   "metadata": {
    "ExecuteTime": {
     "end_time": "2022-11-06T14:45:48.971601Z",
     "start_time": "2022-11-06T14:45:48.818013Z"
    },
    "scrolled": true
   },
   "outputs": [
    {
     "data": {
      "text/html": [
       "<div>\n",
       "<style scoped>\n",
       "    .dataframe tbody tr th:only-of-type {\n",
       "        vertical-align: middle;\n",
       "    }\n",
       "\n",
       "    .dataframe tbody tr th {\n",
       "        vertical-align: top;\n",
       "    }\n",
       "\n",
       "    .dataframe thead th {\n",
       "        text-align: right;\n",
       "    }\n",
       "</style>\n",
       "<table border=\"1\" class=\"dataframe\">\n",
       "  <thead>\n",
       "    <tr style=\"text-align: right;\">\n",
       "      <th></th>\n",
       "      <th>inlf</th>\n",
       "      <th>hours</th>\n",
       "      <th>kidslt6</th>\n",
       "      <th>kidsge6</th>\n",
       "      <th>age</th>\n",
       "      <th>educ</th>\n",
       "      <th>wage</th>\n",
       "      <th>repwage</th>\n",
       "      <th>hushrs</th>\n",
       "      <th>husage</th>\n",
       "      <th>...</th>\n",
       "      <th>faminc</th>\n",
       "      <th>mtr</th>\n",
       "      <th>motheduc</th>\n",
       "      <th>fatheduc</th>\n",
       "      <th>unem</th>\n",
       "      <th>city</th>\n",
       "      <th>exper</th>\n",
       "      <th>nwifeinc</th>\n",
       "      <th>lwage</th>\n",
       "      <th>expersq</th>\n",
       "    </tr>\n",
       "  </thead>\n",
       "  <tbody>\n",
       "    <tr>\n",
       "      <th>0</th>\n",
       "      <td>1</td>\n",
       "      <td>1610</td>\n",
       "      <td>1</td>\n",
       "      <td>0</td>\n",
       "      <td>32</td>\n",
       "      <td>12</td>\n",
       "      <td>3.3540</td>\n",
       "      <td>2.65</td>\n",
       "      <td>2708</td>\n",
       "      <td>34</td>\n",
       "      <td>...</td>\n",
       "      <td>16310</td>\n",
       "      <td>0.7215</td>\n",
       "      <td>12</td>\n",
       "      <td>7</td>\n",
       "      <td>5.0</td>\n",
       "      <td>0</td>\n",
       "      <td>14</td>\n",
       "      <td>10.910060</td>\n",
       "      <td>1.210154</td>\n",
       "      <td>196</td>\n",
       "    </tr>\n",
       "    <tr>\n",
       "      <th>1</th>\n",
       "      <td>1</td>\n",
       "      <td>1656</td>\n",
       "      <td>0</td>\n",
       "      <td>2</td>\n",
       "      <td>30</td>\n",
       "      <td>12</td>\n",
       "      <td>1.3889</td>\n",
       "      <td>2.65</td>\n",
       "      <td>2310</td>\n",
       "      <td>30</td>\n",
       "      <td>...</td>\n",
       "      <td>21800</td>\n",
       "      <td>0.6615</td>\n",
       "      <td>7</td>\n",
       "      <td>7</td>\n",
       "      <td>11.0</td>\n",
       "      <td>1</td>\n",
       "      <td>5</td>\n",
       "      <td>19.499981</td>\n",
       "      <td>0.328512</td>\n",
       "      <td>25</td>\n",
       "    </tr>\n",
       "    <tr>\n",
       "      <th>2</th>\n",
       "      <td>1</td>\n",
       "      <td>1980</td>\n",
       "      <td>1</td>\n",
       "      <td>3</td>\n",
       "      <td>35</td>\n",
       "      <td>12</td>\n",
       "      <td>4.5455</td>\n",
       "      <td>4.04</td>\n",
       "      <td>3072</td>\n",
       "      <td>40</td>\n",
       "      <td>...</td>\n",
       "      <td>21040</td>\n",
       "      <td>0.6915</td>\n",
       "      <td>12</td>\n",
       "      <td>7</td>\n",
       "      <td>5.0</td>\n",
       "      <td>0</td>\n",
       "      <td>15</td>\n",
       "      <td>12.039910</td>\n",
       "      <td>1.514138</td>\n",
       "      <td>225</td>\n",
       "    </tr>\n",
       "    <tr>\n",
       "      <th>3</th>\n",
       "      <td>1</td>\n",
       "      <td>456</td>\n",
       "      <td>0</td>\n",
       "      <td>3</td>\n",
       "      <td>34</td>\n",
       "      <td>12</td>\n",
       "      <td>1.0965</td>\n",
       "      <td>3.25</td>\n",
       "      <td>1920</td>\n",
       "      <td>53</td>\n",
       "      <td>...</td>\n",
       "      <td>7300</td>\n",
       "      <td>0.7815</td>\n",
       "      <td>7</td>\n",
       "      <td>7</td>\n",
       "      <td>5.0</td>\n",
       "      <td>0</td>\n",
       "      <td>6</td>\n",
       "      <td>6.799996</td>\n",
       "      <td>0.092123</td>\n",
       "      <td>36</td>\n",
       "    </tr>\n",
       "    <tr>\n",
       "      <th>4</th>\n",
       "      <td>1</td>\n",
       "      <td>1568</td>\n",
       "      <td>1</td>\n",
       "      <td>2</td>\n",
       "      <td>31</td>\n",
       "      <td>14</td>\n",
       "      <td>4.5918</td>\n",
       "      <td>3.60</td>\n",
       "      <td>2000</td>\n",
       "      <td>32</td>\n",
       "      <td>...</td>\n",
       "      <td>27300</td>\n",
       "      <td>0.6215</td>\n",
       "      <td>12</td>\n",
       "      <td>14</td>\n",
       "      <td>9.5</td>\n",
       "      <td>1</td>\n",
       "      <td>7</td>\n",
       "      <td>20.100058</td>\n",
       "      <td>1.524272</td>\n",
       "      <td>49</td>\n",
       "    </tr>\n",
       "  </tbody>\n",
       "</table>\n",
       "<p>5 rows × 22 columns</p>\n",
       "</div>"
      ],
      "text/plain": [
       "   inlf  hours  kidslt6  kidsge6  age  educ    wage  repwage  hushrs  husage  \\\n",
       "0     1   1610        1        0   32    12  3.3540     2.65    2708      34   \n",
       "1     1   1656        0        2   30    12  1.3889     2.65    2310      30   \n",
       "2     1   1980        1        3   35    12  4.5455     4.04    3072      40   \n",
       "3     1    456        0        3   34    12  1.0965     3.25    1920      53   \n",
       "4     1   1568        1        2   31    14  4.5918     3.60    2000      32   \n",
       "\n",
       "   ...  faminc     mtr  motheduc  fatheduc  unem  city  exper   nwifeinc  \\\n",
       "0  ...   16310  0.7215        12         7   5.0     0     14  10.910060   \n",
       "1  ...   21800  0.6615         7         7  11.0     1      5  19.499981   \n",
       "2  ...   21040  0.6915        12         7   5.0     0     15  12.039910   \n",
       "3  ...    7300  0.7815         7         7   5.0     0      6   6.799996   \n",
       "4  ...   27300  0.6215        12        14   9.5     1      7  20.100058   \n",
       "\n",
       "      lwage  expersq  \n",
       "0  1.210154      196  \n",
       "1  0.328512       25  \n",
       "2  1.514138      225  \n",
       "3  0.092123       36  \n",
       "4  1.524272       49  \n",
       "\n",
       "[5 rows x 22 columns]"
      ]
     },
     "execution_count": 2,
     "metadata": {},
     "output_type": "execute_result"
    }
   ],
   "source": [
    "data = pd.read_excel('mroz.xls')\n",
    "df = data.copy()\n",
    "df.head()"
   ]
  },
  {
   "cell_type": "code",
   "execution_count": 3,
   "id": "f352d0f8",
   "metadata": {
    "ExecuteTime": {
     "end_time": "2022-11-06T14:45:48.986562Z",
     "start_time": "2022-11-06T14:45:48.974595Z"
    }
   },
   "outputs": [],
   "source": [
    "df.fillna(0, inplace=True) #wage의 결측치를 소득없음(0)으로 대체 : 전부 노동 비참여자"
   ]
  },
  {
   "cell_type": "markdown",
   "id": "772d2fa7",
   "metadata": {},
   "source": [
    "### report the OLS estimation result. what kind of standard errors would you use?"
   ]
  },
  {
   "cell_type": "code",
   "execution_count": 4,
   "id": "5c73006b",
   "metadata": {
    "ExecuteTime": {
     "end_time": "2022-11-06T14:45:49.017480Z",
     "start_time": "2022-11-06T14:45:48.991549Z"
    }
   },
   "outputs": [],
   "source": [
    "y = df[['inlf']]\n",
    "X = df[['age','educ','exper','nwifeinc','kidslt6','kidsge6']]\n",
    "X = sm.add_constant(X)"
   ]
  },
  {
   "cell_type": "code",
   "execution_count": 5,
   "id": "3b9c53e4",
   "metadata": {
    "ExecuteTime": {
     "end_time": "2022-11-06T14:45:49.081310Z",
     "start_time": "2022-11-06T14:45:49.022466Z"
    }
   },
   "outputs": [],
   "source": [
    "model = sm.OLS(y,X).fit()"
   ]
  },
  {
   "cell_type": "markdown",
   "id": "c45ceebd",
   "metadata": {},
   "source": [
    "- 종속변수가 binary하므로 이분산이 의심됨. 따라서 white test를 진행하겠음"
   ]
  },
  {
   "cell_type": "code",
   "execution_count": 6,
   "id": "435728be",
   "metadata": {
    "ExecuteTime": {
     "end_time": "2022-11-06T14:45:49.490215Z",
     "start_time": "2022-11-06T14:45:49.085298Z"
    }
   },
   "outputs": [],
   "source": [
    "from sklearn.linear_model import LinearRegression\n",
    "from statsmodels.stats.diagnostic import het_white"
   ]
  },
  {
   "cell_type": "code",
   "execution_count": 7,
   "id": "d53d925c",
   "metadata": {
    "ExecuteTime": {
     "end_time": "2022-11-06T14:45:49.551051Z",
     "start_time": "2022-11-06T14:45:49.494205Z"
    }
   },
   "outputs": [
    {
     "name": "stdout",
     "output_type": "stream",
     "text": [
      "{'Test Statistic': 111.20640491523122, 'Test Statistic p-value': 3.4696521734486925e-12, 'F-Statistic': 4.6527387194732475, 'F-Test p-value': 2.5788968539478646e-13}\n"
     ]
    }
   ],
   "source": [
    "white_test = het_white(model.resid,  model.model.exog)\n",
    "\n",
    "#define labels to use for output of White's test\n",
    "labels = ['Test Statistic', 'Test Statistic p-value', 'F-Statistic', 'F-Test p-value']\n",
    "\n",
    "#print results of White's test\n",
    "print(dict(zip(labels, white_test)))"
   ]
  },
  {
   "cell_type": "markdown",
   "id": "15198dcc",
   "metadata": {},
   "source": [
    "- p-value가 매우낮으므로 동분산이라는 귀무가설을 기각함.\n",
    "<br> -> 따라서 white robust standard error를 사용할 것이다"
   ]
  },
  {
   "cell_type": "code",
   "execution_count": 8,
   "id": "953c2602",
   "metadata": {
    "ExecuteTime": {
     "end_time": "2022-11-06T14:45:49.645799Z",
     "start_time": "2022-11-06T14:45:49.556040Z"
    }
   },
   "outputs": [
    {
     "data": {
      "text/html": [
       "<table class=\"simpletable\">\n",
       "<caption>OLS Regression Results</caption>\n",
       "<tr>\n",
       "  <th>Dep. Variable:</th>          <td>inlf</td>       <th>  R-squared:         </th> <td>   0.254</td>\n",
       "</tr>\n",
       "<tr>\n",
       "  <th>Model:</th>                   <td>OLS</td>       <th>  Adj. R-squared:    </th> <td>   0.248</td>\n",
       "</tr>\n",
       "<tr>\n",
       "  <th>Method:</th>             <td>Least Squares</td>  <th>  F-statistic:       </th> <td>   66.17</td>\n",
       "</tr>\n",
       "<tr>\n",
       "  <th>Date:</th>             <td>Sun, 06 Nov 2022</td> <th>  Prob (F-statistic):</th> <td>6.45e-66</td>\n",
       "</tr>\n",
       "<tr>\n",
       "  <th>Time:</th>                 <td>23:45:49</td>     <th>  Log-Likelihood:    </th> <td> -429.12</td>\n",
       "</tr>\n",
       "<tr>\n",
       "  <th>No. Observations:</th>      <td>   753</td>      <th>  AIC:               </th> <td>   872.2</td>\n",
       "</tr>\n",
       "<tr>\n",
       "  <th>Df Residuals:</th>          <td>   746</td>      <th>  BIC:               </th> <td>   904.6</td>\n",
       "</tr>\n",
       "<tr>\n",
       "  <th>Df Model:</th>              <td>     6</td>      <th>                     </th>     <td> </td>   \n",
       "</tr>\n",
       "<tr>\n",
       "  <th>Covariance Type:</th>         <td>HC0</td>       <th>                     </th>     <td> </td>   \n",
       "</tr>\n",
       "</table>\n",
       "<table class=\"simpletable\">\n",
       "<tr>\n",
       "      <td></td>        <th>coef</th>     <th>std err</th>      <th>z</th>      <th>P>|z|</th>  <th>[0.025</th>    <th>0.975]</th>  \n",
       "</tr>\n",
       "<tr>\n",
       "  <th>const</th>    <td>    0.7072</td> <td>    0.145</td> <td>    4.869</td> <td> 0.000</td> <td>    0.423</td> <td>    0.992</td>\n",
       "</tr>\n",
       "<tr>\n",
       "  <th>age</th>      <td>   -0.0177</td> <td>    0.002</td> <td>   -7.829</td> <td> 0.000</td> <td>   -0.022</td> <td>   -0.013</td>\n",
       "</tr>\n",
       "<tr>\n",
       "  <th>educ</th>     <td>    0.0398</td> <td>    0.007</td> <td>    5.551</td> <td> 0.000</td> <td>    0.026</td> <td>    0.054</td>\n",
       "</tr>\n",
       "<tr>\n",
       "  <th>exper</th>    <td>    0.0226</td> <td>    0.002</td> <td>   10.799</td> <td> 0.000</td> <td>    0.018</td> <td>    0.027</td>\n",
       "</tr>\n",
       "<tr>\n",
       "  <th>nwifeinc</th> <td>   -0.0033</td> <td>    0.002</td> <td>   -2.213</td> <td> 0.027</td> <td>   -0.006</td> <td>   -0.000</td>\n",
       "</tr>\n",
       "<tr>\n",
       "  <th>kidslt6</th>  <td>   -0.2718</td> <td>    0.031</td> <td>   -8.690</td> <td> 0.000</td> <td>   -0.333</td> <td>   -0.211</td>\n",
       "</tr>\n",
       "<tr>\n",
       "  <th>kidsge6</th>  <td>    0.0125</td> <td>    0.014</td> <td>    0.926</td> <td> 0.355</td> <td>   -0.014</td> <td>    0.039</td>\n",
       "</tr>\n",
       "</table>\n",
       "<table class=\"simpletable\">\n",
       "<tr>\n",
       "  <th>Omnibus:</th>       <td>193.244</td> <th>  Durbin-Watson:     </th> <td>   0.471</td>\n",
       "</tr>\n",
       "<tr>\n",
       "  <th>Prob(Omnibus):</th> <td> 0.000</td>  <th>  Jarque-Bera (JB):  </th> <td>  37.883</td>\n",
       "</tr>\n",
       "<tr>\n",
       "  <th>Skew:</th>          <td>-0.184</td>  <th>  Prob(JB):          </th> <td>5.94e-09</td>\n",
       "</tr>\n",
       "<tr>\n",
       "  <th>Kurtosis:</th>      <td> 1.965</td>  <th>  Cond. No.          </th> <td>    488.</td>\n",
       "</tr>\n",
       "</table><br/><br/>Notes:<br/>[1] Standard Errors are heteroscedasticity robust (HC0)"
      ],
      "text/plain": [
       "<class 'statsmodels.iolib.summary.Summary'>\n",
       "\"\"\"\n",
       "                            OLS Regression Results                            \n",
       "==============================================================================\n",
       "Dep. Variable:                   inlf   R-squared:                       0.254\n",
       "Model:                            OLS   Adj. R-squared:                  0.248\n",
       "Method:                 Least Squares   F-statistic:                     66.17\n",
       "Date:                Sun, 06 Nov 2022   Prob (F-statistic):           6.45e-66\n",
       "Time:                        23:45:49   Log-Likelihood:                -429.12\n",
       "No. Observations:                 753   AIC:                             872.2\n",
       "Df Residuals:                     746   BIC:                             904.6\n",
       "Df Model:                           6                                         \n",
       "Covariance Type:                  HC0                                         \n",
       "==============================================================================\n",
       "                 coef    std err          z      P>|z|      [0.025      0.975]\n",
       "------------------------------------------------------------------------------\n",
       "const          0.7072      0.145      4.869      0.000       0.423       0.992\n",
       "age           -0.0177      0.002     -7.829      0.000      -0.022      -0.013\n",
       "educ           0.0398      0.007      5.551      0.000       0.026       0.054\n",
       "exper          0.0226      0.002     10.799      0.000       0.018       0.027\n",
       "nwifeinc      -0.0033      0.002     -2.213      0.027      -0.006      -0.000\n",
       "kidslt6       -0.2718      0.031     -8.690      0.000      -0.333      -0.211\n",
       "kidsge6        0.0125      0.014      0.926      0.355      -0.014       0.039\n",
       "==============================================================================\n",
       "Omnibus:                      193.244   Durbin-Watson:                   0.471\n",
       "Prob(Omnibus):                  0.000   Jarque-Bera (JB):               37.883\n",
       "Skew:                          -0.184   Prob(JB):                     5.94e-09\n",
       "Kurtosis:                       1.965   Cond. No.                         488.\n",
       "==============================================================================\n",
       "\n",
       "Notes:\n",
       "[1] Standard Errors are heteroscedasticity robust (HC0)\n",
       "\"\"\""
      ]
     },
     "execution_count": 8,
     "metadata": {},
     "output_type": "execute_result"
    }
   ],
   "source": [
    "ols_robust=sm.OLS(y, X).fit(cov_type = \"HC0\")\n",
    "ols_robust.summary()"
   ]
  },
  {
   "cell_type": "markdown",
   "id": "ab9ed861",
   "metadata": {},
   "source": [
    "kidsge6변수는 유의한 변수가 아니고, nwifeinc은 5%수준에서 유의한 변수이다 "
   ]
  },
  {
   "cell_type": "markdown",
   "id": "9879e076",
   "metadata": {},
   "source": [
    "### what is the marginal effect of education for those whose education level is 12"
   ]
  },
  {
   "cell_type": "code",
   "execution_count": 9,
   "id": "81a4ea1b",
   "metadata": {
    "ExecuteTime": {
     "end_time": "2022-11-06T14:45:49.676717Z",
     "start_time": "2022-11-06T14:45:49.652781Z"
    }
   },
   "outputs": [],
   "source": [
    "df['educ_12'] = 0\n",
    "df['educ_12'][df['educ']==12] = 1"
   ]
  },
  {
   "cell_type": "code",
   "execution_count": 10,
   "id": "5fe8bdee",
   "metadata": {
    "ExecuteTime": {
     "end_time": "2022-11-06T14:45:49.729575Z",
     "start_time": "2022-11-06T14:45:49.687686Z"
    }
   },
   "outputs": [
    {
     "data": {
      "text/plain": [
       "1    381\n",
       "0    372\n",
       "Name: educ_12, dtype: int64"
      ]
     },
     "execution_count": 10,
     "metadata": {},
     "output_type": "execute_result"
    }
   ],
   "source": [
    "df['educ_12'].value_counts()"
   ]
  },
  {
   "cell_type": "code",
   "execution_count": 11,
   "id": "ba8e3848",
   "metadata": {
    "ExecuteTime": {
     "end_time": "2022-11-06T14:45:49.770466Z",
     "start_time": "2022-11-06T14:45:49.735561Z"
    }
   },
   "outputs": [],
   "source": [
    "y = df[['inlf']]\n",
    "X = df[['age','educ','exper','nwifeinc','kidslt6','kidsge6','educ_12']]\n",
    "X = sm.add_constant(X)"
   ]
  },
  {
   "cell_type": "code",
   "execution_count": 12,
   "id": "2132e0a7",
   "metadata": {
    "ExecuteTime": {
     "end_time": "2022-11-06T14:45:49.878177Z",
     "start_time": "2022-11-06T14:45:49.780440Z"
    }
   },
   "outputs": [
    {
     "data": {
      "text/html": [
       "<table class=\"simpletable\">\n",
       "<caption>OLS Regression Results</caption>\n",
       "<tr>\n",
       "  <th>Dep. Variable:</th>          <td>inlf</td>       <th>  R-squared:         </th> <td>   0.255</td>\n",
       "</tr>\n",
       "<tr>\n",
       "  <th>Model:</th>                   <td>OLS</td>       <th>  Adj. R-squared:    </th> <td>   0.248</td>\n",
       "</tr>\n",
       "<tr>\n",
       "  <th>Method:</th>             <td>Least Squares</td>  <th>  F-statistic:       </th> <td>   57.44</td>\n",
       "</tr>\n",
       "<tr>\n",
       "  <th>Date:</th>             <td>Sun, 06 Nov 2022</td> <th>  Prob (F-statistic):</th> <td>9.12e-66</td>\n",
       "</tr>\n",
       "<tr>\n",
       "  <th>Time:</th>                 <td>23:45:49</td>     <th>  Log-Likelihood:    </th> <td> -428.53</td>\n",
       "</tr>\n",
       "<tr>\n",
       "  <th>No. Observations:</th>      <td>   753</td>      <th>  AIC:               </th> <td>   873.1</td>\n",
       "</tr>\n",
       "<tr>\n",
       "  <th>Df Residuals:</th>          <td>   745</td>      <th>  BIC:               </th> <td>   910.1</td>\n",
       "</tr>\n",
       "<tr>\n",
       "  <th>Df Model:</th>              <td>     7</td>      <th>                     </th>     <td> </td>   \n",
       "</tr>\n",
       "<tr>\n",
       "  <th>Covariance Type:</th>         <td>HC0</td>       <th>                     </th>     <td> </td>   \n",
       "</tr>\n",
       "</table>\n",
       "<table class=\"simpletable\">\n",
       "<tr>\n",
       "      <td></td>        <th>coef</th>     <th>std err</th>      <th>z</th>      <th>P>|z|</th>  <th>[0.025</th>    <th>0.975]</th>  \n",
       "</tr>\n",
       "<tr>\n",
       "  <th>const</th>    <td>    0.7405</td> <td>    0.150</td> <td>    4.922</td> <td> 0.000</td> <td>    0.446</td> <td>    1.035</td>\n",
       "</tr>\n",
       "<tr>\n",
       "  <th>age</th>      <td>   -0.0178</td> <td>    0.002</td> <td>   -7.857</td> <td> 0.000</td> <td>   -0.022</td> <td>   -0.013</td>\n",
       "</tr>\n",
       "<tr>\n",
       "  <th>educ</th>     <td>    0.0390</td> <td>    0.007</td> <td>    5.377</td> <td> 0.000</td> <td>    0.025</td> <td>    0.053</td>\n",
       "</tr>\n",
       "<tr>\n",
       "  <th>exper</th>    <td>    0.0226</td> <td>    0.002</td> <td>   10.824</td> <td> 0.000</td> <td>    0.019</td> <td>    0.027</td>\n",
       "</tr>\n",
       "<tr>\n",
       "  <th>nwifeinc</th> <td>   -0.0034</td> <td>    0.001</td> <td>   -2.287</td> <td> 0.022</td> <td>   -0.006</td> <td>   -0.000</td>\n",
       "</tr>\n",
       "<tr>\n",
       "  <th>kidslt6</th>  <td>   -0.2736</td> <td>    0.031</td> <td>   -8.749</td> <td> 0.000</td> <td>   -0.335</td> <td>   -0.212</td>\n",
       "</tr>\n",
       "<tr>\n",
       "  <th>kidsge6</th>  <td>    0.0128</td> <td>    0.014</td> <td>    0.943</td> <td> 0.345</td> <td>   -0.014</td> <td>    0.039</td>\n",
       "</tr>\n",
       "<tr>\n",
       "  <th>educ_12</th>  <td>   -0.0342</td> <td>    0.032</td> <td>   -1.074</td> <td> 0.283</td> <td>   -0.097</td> <td>    0.028</td>\n",
       "</tr>\n",
       "</table>\n",
       "<table class=\"simpletable\">\n",
       "<tr>\n",
       "  <th>Omnibus:</th>       <td>189.385</td> <th>  Durbin-Watson:     </th> <td>   0.472</td>\n",
       "</tr>\n",
       "<tr>\n",
       "  <th>Prob(Omnibus):</th> <td> 0.000</td>  <th>  Jarque-Bera (JB):  </th> <td>  37.488</td>\n",
       "</tr>\n",
       "<tr>\n",
       "  <th>Skew:</th>          <td>-0.181</td>  <th>  Prob(JB):          </th> <td>7.24e-09</td>\n",
       "</tr>\n",
       "<tr>\n",
       "  <th>Kurtosis:</th>      <td> 1.968</td>  <th>  Cond. No.          </th> <td>    499.</td>\n",
       "</tr>\n",
       "</table><br/><br/>Notes:<br/>[1] Standard Errors are heteroscedasticity robust (HC0)"
      ],
      "text/plain": [
       "<class 'statsmodels.iolib.summary.Summary'>\n",
       "\"\"\"\n",
       "                            OLS Regression Results                            \n",
       "==============================================================================\n",
       "Dep. Variable:                   inlf   R-squared:                       0.255\n",
       "Model:                            OLS   Adj. R-squared:                  0.248\n",
       "Method:                 Least Squares   F-statistic:                     57.44\n",
       "Date:                Sun, 06 Nov 2022   Prob (F-statistic):           9.12e-66\n",
       "Time:                        23:45:49   Log-Likelihood:                -428.53\n",
       "No. Observations:                 753   AIC:                             873.1\n",
       "Df Residuals:                     745   BIC:                             910.1\n",
       "Df Model:                           7                                         \n",
       "Covariance Type:                  HC0                                         \n",
       "==============================================================================\n",
       "                 coef    std err          z      P>|z|      [0.025      0.975]\n",
       "------------------------------------------------------------------------------\n",
       "const          0.7405      0.150      4.922      0.000       0.446       1.035\n",
       "age           -0.0178      0.002     -7.857      0.000      -0.022      -0.013\n",
       "educ           0.0390      0.007      5.377      0.000       0.025       0.053\n",
       "exper          0.0226      0.002     10.824      0.000       0.019       0.027\n",
       "nwifeinc      -0.0034      0.001     -2.287      0.022      -0.006      -0.000\n",
       "kidslt6       -0.2736      0.031     -8.749      0.000      -0.335      -0.212\n",
       "kidsge6        0.0128      0.014      0.943      0.345      -0.014       0.039\n",
       "educ_12       -0.0342      0.032     -1.074      0.283      -0.097       0.028\n",
       "==============================================================================\n",
       "Omnibus:                      189.385   Durbin-Watson:                   0.472\n",
       "Prob(Omnibus):                  0.000   Jarque-Bera (JB):               37.488\n",
       "Skew:                          -0.181   Prob(JB):                     7.24e-09\n",
       "Kurtosis:                       1.968   Cond. No.                         499.\n",
       "==============================================================================\n",
       "\n",
       "Notes:\n",
       "[1] Standard Errors are heteroscedasticity robust (HC0)\n",
       "\"\"\""
      ]
     },
     "execution_count": 12,
     "metadata": {},
     "output_type": "execute_result"
    }
   ],
   "source": [
    "ols_robust=sm.OLS(y, X).fit(cov_type = \"HC0\")\n",
    "ols_robust.summary()"
   ]
  },
  {
   "cell_type": "markdown",
   "id": "e9f86ec2",
   "metadata": {},
   "source": [
    "The marginal effect of education for those whose education level is 12 = 0.1035\n"
   ]
  },
  {
   "cell_type": "markdown",
   "id": "04c73975",
   "metadata": {},
   "source": [
    "### Run a probit regression. Does your answer to the previous question change"
   ]
  },
  {
   "cell_type": "code",
   "execution_count": 13,
   "id": "92ec42de",
   "metadata": {
    "ExecuteTime": {
     "end_time": "2022-11-06T14:45:49.910092Z",
     "start_time": "2022-11-06T14:45:49.884162Z"
    }
   },
   "outputs": [],
   "source": [
    "from statsmodels.discrete.discrete_model import Probit"
   ]
  },
  {
   "cell_type": "code",
   "execution_count": 14,
   "id": "0e1cc420",
   "metadata": {
    "ExecuteTime": {
     "end_time": "2022-11-06T14:45:50.050717Z",
     "start_time": "2022-11-06T14:45:49.917076Z"
    }
   },
   "outputs": [
    {
     "name": "stdout",
     "output_type": "stream",
     "text": [
      "Optimization terminated successfully.\n",
      "         Current function value: 0.538752\n",
      "         Iterations 5\n"
     ]
    },
    {
     "data": {
      "text/html": [
       "<table class=\"simpletable\">\n",
       "<caption>Probit Regression Results</caption>\n",
       "<tr>\n",
       "  <th>Dep. Variable:</th>         <td>inlf</td>       <th>  No. Observations:  </th>  <td>   753</td>  \n",
       "</tr>\n",
       "<tr>\n",
       "  <th>Model:</th>                <td>Probit</td>      <th>  Df Residuals:      </th>  <td>   745</td>  \n",
       "</tr>\n",
       "<tr>\n",
       "  <th>Method:</th>                 <td>MLE</td>       <th>  Df Model:          </th>  <td>     7</td>  \n",
       "</tr>\n",
       "<tr>\n",
       "  <th>Date:</th>            <td>Sun, 06 Nov 2022</td> <th>  Pseudo R-squ.:     </th>  <td>0.2121</td>  \n",
       "</tr>\n",
       "<tr>\n",
       "  <th>Time:</th>                <td>23:45:49</td>     <th>  Log-Likelihood:    </th> <td> -405.68</td> \n",
       "</tr>\n",
       "<tr>\n",
       "  <th>converged:</th>             <td>True</td>       <th>  LL-Null:           </th> <td> -514.87</td> \n",
       "</tr>\n",
       "<tr>\n",
       "  <th>Covariance Type:</th>        <td>HC0</td>       <th>  LLR p-value:       </th> <td>1.452e-43</td>\n",
       "</tr>\n",
       "</table>\n",
       "<table class=\"simpletable\">\n",
       "<tr>\n",
       "      <td></td>        <th>coef</th>     <th>std err</th>      <th>z</th>      <th>P>|z|</th>  <th>[0.025</th>    <th>0.975]</th>  \n",
       "</tr>\n",
       "<tr>\n",
       "  <th>const</th>    <td>    0.6657</td> <td>    0.504</td> <td>    1.321</td> <td> 0.187</td> <td>   -0.322</td> <td>    1.653</td>\n",
       "</tr>\n",
       "<tr>\n",
       "  <th>age</th>      <td>   -0.0557</td> <td>    0.008</td> <td>   -6.853</td> <td> 0.000</td> <td>   -0.072</td> <td>   -0.040</td>\n",
       "</tr>\n",
       "<tr>\n",
       "  <th>educ</th>     <td>    0.1320</td> <td>    0.026</td> <td>    5.109</td> <td> 0.000</td> <td>    0.081</td> <td>    0.183</td>\n",
       "</tr>\n",
       "<tr>\n",
       "  <th>exper</th>    <td>    0.0704</td> <td>    0.008</td> <td>    8.558</td> <td> 0.000</td> <td>    0.054</td> <td>    0.086</td>\n",
       "</tr>\n",
       "<tr>\n",
       "  <th>nwifeinc</th> <td>   -0.0119</td> <td>    0.005</td> <td>   -2.338</td> <td> 0.019</td> <td>   -0.022</td> <td>   -0.002</td>\n",
       "</tr>\n",
       "<tr>\n",
       "  <th>kidslt6</th>  <td>   -0.8781</td> <td>    0.115</td> <td>   -7.634</td> <td> 0.000</td> <td>   -1.103</td> <td>   -0.653</td>\n",
       "</tr>\n",
       "<tr>\n",
       "  <th>kidsge6</th>  <td>    0.0353</td> <td>    0.044</td> <td>    0.798</td> <td> 0.425</td> <td>   -0.051</td> <td>    0.122</td>\n",
       "</tr>\n",
       "<tr>\n",
       "  <th>educ_12</th>  <td>   -0.1064</td> <td>    0.103</td> <td>   -1.036</td> <td> 0.300</td> <td>   -0.308</td> <td>    0.095</td>\n",
       "</tr>\n",
       "</table>"
      ],
      "text/plain": [
       "<class 'statsmodels.iolib.summary.Summary'>\n",
       "\"\"\"\n",
       "                          Probit Regression Results                           \n",
       "==============================================================================\n",
       "Dep. Variable:                   inlf   No. Observations:                  753\n",
       "Model:                         Probit   Df Residuals:                      745\n",
       "Method:                           MLE   Df Model:                            7\n",
       "Date:                Sun, 06 Nov 2022   Pseudo R-squ.:                  0.2121\n",
       "Time:                        23:45:49   Log-Likelihood:                -405.68\n",
       "converged:                       True   LL-Null:                       -514.87\n",
       "Covariance Type:                  HC0   LLR p-value:                 1.452e-43\n",
       "==============================================================================\n",
       "                 coef    std err          z      P>|z|      [0.025      0.975]\n",
       "------------------------------------------------------------------------------\n",
       "const          0.6657      0.504      1.321      0.187      -0.322       1.653\n",
       "age           -0.0557      0.008     -6.853      0.000      -0.072      -0.040\n",
       "educ           0.1320      0.026      5.109      0.000       0.081       0.183\n",
       "exper          0.0704      0.008      8.558      0.000       0.054       0.086\n",
       "nwifeinc      -0.0119      0.005     -2.338      0.019      -0.022      -0.002\n",
       "kidslt6       -0.8781      0.115     -7.634      0.000      -1.103      -0.653\n",
       "kidsge6        0.0353      0.044      0.798      0.425      -0.051       0.122\n",
       "educ_12       -0.1064      0.103     -1.036      0.300      -0.308       0.095\n",
       "==============================================================================\n",
       "\"\"\""
      ]
     },
     "execution_count": 14,
     "metadata": {},
     "output_type": "execute_result"
    }
   ],
   "source": [
    "probit_model = Probit(y, X).fit(cov_type = \"HC0\")\n",
    "probit_model.summary()"
   ]
  },
  {
   "cell_type": "code",
   "execution_count": 15,
   "id": "1a994680",
   "metadata": {
    "ExecuteTime": {
     "end_time": "2022-11-06T14:45:50.130503Z",
     "start_time": "2022-11-06T14:45:50.060690Z"
    }
   },
   "outputs": [
    {
     "data": {
      "text/html": [
       "<table class=\"simpletable\">\n",
       "<caption>Probit Marginal Effects</caption>\n",
       "<tr>\n",
       "  <th>Dep. Variable:</th>  <td>inlf</td>  \n",
       "</tr>\n",
       "<tr>\n",
       "  <th>Method:</th>         <td>dydx</td>  \n",
       "</tr>\n",
       "<tr>\n",
       "  <th>At:</th>            <td>overall</td>\n",
       "</tr>\n",
       "</table>\n",
       "<table class=\"simpletable\">\n",
       "<tr>\n",
       "      <th></th>        <th>dy/dx</th>    <th>std err</th>      <th>z</th>      <th>P>|z|</th>  <th>[0.025</th>    <th>0.975]</th>  \n",
       "</tr>\n",
       "<tr>\n",
       "  <th>age</th>      <td>   -0.0170</td> <td>    0.002</td> <td>   -7.393</td> <td> 0.000</td> <td>   -0.021</td> <td>   -0.012</td>\n",
       "</tr>\n",
       "<tr>\n",
       "  <th>educ</th>     <td>    0.0402</td> <td>    0.007</td> <td>    5.377</td> <td> 0.000</td> <td>    0.026</td> <td>    0.055</td>\n",
       "</tr>\n",
       "<tr>\n",
       "  <th>exper</th>    <td>    0.0215</td> <td>    0.002</td> <td>   10.260</td> <td> 0.000</td> <td>    0.017</td> <td>    0.026</td>\n",
       "</tr>\n",
       "<tr>\n",
       "  <th>nwifeinc</th> <td>   -0.0036</td> <td>    0.002</td> <td>   -2.367</td> <td> 0.018</td> <td>   -0.007</td> <td>   -0.001</td>\n",
       "</tr>\n",
       "<tr>\n",
       "  <th>kidslt6</th>  <td>   -0.2677</td> <td>    0.032</td> <td>   -8.434</td> <td> 0.000</td> <td>   -0.330</td> <td>   -0.206</td>\n",
       "</tr>\n",
       "<tr>\n",
       "  <th>kidsge6</th>  <td>    0.0108</td> <td>    0.013</td> <td>    0.799</td> <td> 0.424</td> <td>   -0.016</td> <td>    0.037</td>\n",
       "</tr>\n",
       "<tr>\n",
       "  <th>educ_12</th>  <td>   -0.0324</td> <td>    0.031</td> <td>   -1.038</td> <td> 0.299</td> <td>   -0.094</td> <td>    0.029</td>\n",
       "</tr>\n",
       "</table>"
      ],
      "text/plain": [
       "<class 'statsmodels.iolib.summary.Summary'>\n",
       "\"\"\"\n",
       "       Probit Marginal Effects       \n",
       "=====================================\n",
       "Dep. Variable:                   inlf\n",
       "Method:                          dydx\n",
       "At:                           overall\n",
       "==============================================================================\n",
       "                dy/dx    std err          z      P>|z|      [0.025      0.975]\n",
       "------------------------------------------------------------------------------\n",
       "age           -0.0170      0.002     -7.393      0.000      -0.021      -0.012\n",
       "educ           0.0402      0.007      5.377      0.000       0.026       0.055\n",
       "exper          0.0215      0.002     10.260      0.000       0.017       0.026\n",
       "nwifeinc      -0.0036      0.002     -2.367      0.018      -0.007      -0.001\n",
       "kidslt6       -0.2677      0.032     -8.434      0.000      -0.330      -0.206\n",
       "kidsge6        0.0108      0.013      0.799      0.424      -0.016       0.037\n",
       "educ_12       -0.0324      0.031     -1.038      0.299      -0.094       0.029\n",
       "==============================================================================\n",
       "\"\"\""
      ]
     },
     "execution_count": 15,
     "metadata": {},
     "output_type": "execute_result"
    }
   ],
   "source": [
    "probit_model.get_margeff().summary()"
   ]
  },
  {
   "cell_type": "markdown",
   "id": "f0d93d44",
   "metadata": {},
   "source": [
    "educ_12의 marginal effect는 변화가 없다."
   ]
  },
  {
   "cell_type": "markdown",
   "id": "177b0835",
   "metadata": {},
   "source": [
    "### Calculate the average partial effect of education on the probability of labor force participation using both the linear probability model and the probit model"
   ]
  },
  {
   "cell_type": "code",
   "execution_count": 16,
   "id": "24885009",
   "metadata": {
    "ExecuteTime": {
     "end_time": "2022-11-06T14:45:50.194333Z",
     "start_time": "2022-11-06T14:45:50.135489Z"
    },
    "scrolled": true
   },
   "outputs": [
    {
     "data": {
      "text/html": [
       "<table class=\"simpletable\">\n",
       "<caption>Probit Marginal Effects</caption>\n",
       "<tr>\n",
       "  <th>Dep. Variable:</th>  <td>inlf</td>  \n",
       "</tr>\n",
       "<tr>\n",
       "  <th>Method:</th>         <td>dydx</td>  \n",
       "</tr>\n",
       "<tr>\n",
       "  <th>At:</th>            <td>overall</td>\n",
       "</tr>\n",
       "</table>\n",
       "<table class=\"simpletable\">\n",
       "<tr>\n",
       "      <th></th>        <th>dy/dx</th>    <th>std err</th>      <th>z</th>      <th>P>|z|</th>  <th>[0.025</th>    <th>0.975]</th>  \n",
       "</tr>\n",
       "<tr>\n",
       "  <th>age</th>      <td>   -0.0170</td> <td>    0.002</td> <td>   -7.393</td> <td> 0.000</td> <td>   -0.021</td> <td>   -0.012</td>\n",
       "</tr>\n",
       "<tr>\n",
       "  <th>educ</th>     <td>    0.0402</td> <td>    0.007</td> <td>    5.377</td> <td> 0.000</td> <td>    0.026</td> <td>    0.055</td>\n",
       "</tr>\n",
       "<tr>\n",
       "  <th>exper</th>    <td>    0.0215</td> <td>    0.002</td> <td>   10.260</td> <td> 0.000</td> <td>    0.017</td> <td>    0.026</td>\n",
       "</tr>\n",
       "<tr>\n",
       "  <th>nwifeinc</th> <td>   -0.0036</td> <td>    0.002</td> <td>   -2.367</td> <td> 0.018</td> <td>   -0.007</td> <td>   -0.001</td>\n",
       "</tr>\n",
       "<tr>\n",
       "  <th>kidslt6</th>  <td>   -0.2677</td> <td>    0.032</td> <td>   -8.434</td> <td> 0.000</td> <td>   -0.330</td> <td>   -0.206</td>\n",
       "</tr>\n",
       "<tr>\n",
       "  <th>kidsge6</th>  <td>    0.0108</td> <td>    0.013</td> <td>    0.799</td> <td> 0.424</td> <td>   -0.016</td> <td>    0.037</td>\n",
       "</tr>\n",
       "<tr>\n",
       "  <th>educ_12</th>  <td>   -0.0324</td> <td>    0.031</td> <td>   -1.038</td> <td> 0.299</td> <td>   -0.094</td> <td>    0.029</td>\n",
       "</tr>\n",
       "</table>"
      ],
      "text/plain": [
       "<class 'statsmodels.iolib.summary.Summary'>\n",
       "\"\"\"\n",
       "       Probit Marginal Effects       \n",
       "=====================================\n",
       "Dep. Variable:                   inlf\n",
       "Method:                          dydx\n",
       "At:                           overall\n",
       "==============================================================================\n",
       "                dy/dx    std err          z      P>|z|      [0.025      0.975]\n",
       "------------------------------------------------------------------------------\n",
       "age           -0.0170      0.002     -7.393      0.000      -0.021      -0.012\n",
       "educ           0.0402      0.007      5.377      0.000       0.026       0.055\n",
       "exper          0.0215      0.002     10.260      0.000       0.017       0.026\n",
       "nwifeinc      -0.0036      0.002     -2.367      0.018      -0.007      -0.001\n",
       "kidslt6       -0.2677      0.032     -8.434      0.000      -0.330      -0.206\n",
       "kidsge6        0.0108      0.013      0.799      0.424      -0.016       0.037\n",
       "educ_12       -0.0324      0.031     -1.038      0.299      -0.094       0.029\n",
       "==============================================================================\n",
       "\"\"\""
      ]
     },
     "execution_count": 16,
     "metadata": {},
     "output_type": "execute_result"
    }
   ],
   "source": [
    "probit_model.get_margeff(at = 'overall').summary()"
   ]
  },
  {
   "cell_type": "code",
   "execution_count": 17,
   "id": "247b52a8",
   "metadata": {
    "ExecuteTime": {
     "end_time": "2022-11-06T14:45:50.236220Z",
     "start_time": "2022-11-06T14:45:50.200317Z"
    }
   },
   "outputs": [
    {
     "data": {
      "text/plain": [
       "[12, 16, 14, 17, 10, 13, 11, 8, 9, 15, 7, 6, 5]"
      ]
     },
     "execution_count": 17,
     "metadata": {},
     "output_type": "execute_result"
    }
   ],
   "source": [
    "edu = list(df['educ'].value_counts().index)\n",
    "edu"
   ]
  },
  {
   "cell_type": "code",
   "execution_count": 18,
   "id": "feadf761",
   "metadata": {
    "ExecuteTime": {
     "end_time": "2022-11-06T14:45:50.284093Z",
     "start_time": "2022-11-06T14:45:50.257164Z"
    }
   },
   "outputs": [],
   "source": [
    "inlf_df = df[df['inlf']==1]"
   ]
  },
  {
   "cell_type": "code",
   "execution_count": 19,
   "id": "3b9f0342",
   "metadata": {
    "ExecuteTime": {
     "end_time": "2022-11-06T14:45:50.422722Z",
     "start_time": "2022-11-06T14:45:50.288081Z"
    }
   },
   "outputs": [
    {
     "data": {
      "text/html": [
       "<div>\n",
       "<style scoped>\n",
       "    .dataframe tbody tr th:only-of-type {\n",
       "        vertical-align: middle;\n",
       "    }\n",
       "\n",
       "    .dataframe tbody tr th {\n",
       "        vertical-align: top;\n",
       "    }\n",
       "\n",
       "    .dataframe thead th {\n",
       "        text-align: right;\n",
       "    }\n",
       "</style>\n",
       "<table border=\"1\" class=\"dataframe\">\n",
       "  <thead>\n",
       "    <tr style=\"text-align: right;\">\n",
       "      <th></th>\n",
       "      <th>inlf</th>\n",
       "      <th>hours</th>\n",
       "      <th>kidslt6</th>\n",
       "      <th>kidsge6</th>\n",
       "      <th>age</th>\n",
       "      <th>educ</th>\n",
       "      <th>wage</th>\n",
       "      <th>repwage</th>\n",
       "      <th>hushrs</th>\n",
       "      <th>husage</th>\n",
       "      <th>...</th>\n",
       "      <th>mtr</th>\n",
       "      <th>motheduc</th>\n",
       "      <th>fatheduc</th>\n",
       "      <th>unem</th>\n",
       "      <th>city</th>\n",
       "      <th>exper</th>\n",
       "      <th>nwifeinc</th>\n",
       "      <th>lwage</th>\n",
       "      <th>expersq</th>\n",
       "      <th>educ_12</th>\n",
       "    </tr>\n",
       "  </thead>\n",
       "  <tbody>\n",
       "    <tr>\n",
       "      <th>0</th>\n",
       "      <td>1</td>\n",
       "      <td>1610</td>\n",
       "      <td>1</td>\n",
       "      <td>0</td>\n",
       "      <td>32</td>\n",
       "      <td>12</td>\n",
       "      <td>3.3540</td>\n",
       "      <td>2.65</td>\n",
       "      <td>2708</td>\n",
       "      <td>34</td>\n",
       "      <td>...</td>\n",
       "      <td>0.7215</td>\n",
       "      <td>12</td>\n",
       "      <td>7</td>\n",
       "      <td>5.0</td>\n",
       "      <td>0</td>\n",
       "      <td>14</td>\n",
       "      <td>10.910060</td>\n",
       "      <td>1.210154</td>\n",
       "      <td>196</td>\n",
       "      <td>1</td>\n",
       "    </tr>\n",
       "    <tr>\n",
       "      <th>1</th>\n",
       "      <td>1</td>\n",
       "      <td>1656</td>\n",
       "      <td>0</td>\n",
       "      <td>2</td>\n",
       "      <td>30</td>\n",
       "      <td>12</td>\n",
       "      <td>1.3889</td>\n",
       "      <td>2.65</td>\n",
       "      <td>2310</td>\n",
       "      <td>30</td>\n",
       "      <td>...</td>\n",
       "      <td>0.6615</td>\n",
       "      <td>7</td>\n",
       "      <td>7</td>\n",
       "      <td>11.0</td>\n",
       "      <td>1</td>\n",
       "      <td>5</td>\n",
       "      <td>19.499981</td>\n",
       "      <td>0.328512</td>\n",
       "      <td>25</td>\n",
       "      <td>1</td>\n",
       "    </tr>\n",
       "    <tr>\n",
       "      <th>2</th>\n",
       "      <td>1</td>\n",
       "      <td>1980</td>\n",
       "      <td>1</td>\n",
       "      <td>3</td>\n",
       "      <td>35</td>\n",
       "      <td>12</td>\n",
       "      <td>4.5455</td>\n",
       "      <td>4.04</td>\n",
       "      <td>3072</td>\n",
       "      <td>40</td>\n",
       "      <td>...</td>\n",
       "      <td>0.6915</td>\n",
       "      <td>12</td>\n",
       "      <td>7</td>\n",
       "      <td>5.0</td>\n",
       "      <td>0</td>\n",
       "      <td>15</td>\n",
       "      <td>12.039910</td>\n",
       "      <td>1.514138</td>\n",
       "      <td>225</td>\n",
       "      <td>1</td>\n",
       "    </tr>\n",
       "    <tr>\n",
       "      <th>3</th>\n",
       "      <td>1</td>\n",
       "      <td>456</td>\n",
       "      <td>0</td>\n",
       "      <td>3</td>\n",
       "      <td>34</td>\n",
       "      <td>12</td>\n",
       "      <td>1.0965</td>\n",
       "      <td>3.25</td>\n",
       "      <td>1920</td>\n",
       "      <td>53</td>\n",
       "      <td>...</td>\n",
       "      <td>0.7815</td>\n",
       "      <td>7</td>\n",
       "      <td>7</td>\n",
       "      <td>5.0</td>\n",
       "      <td>0</td>\n",
       "      <td>6</td>\n",
       "      <td>6.799996</td>\n",
       "      <td>0.092123</td>\n",
       "      <td>36</td>\n",
       "      <td>1</td>\n",
       "    </tr>\n",
       "    <tr>\n",
       "      <th>5</th>\n",
       "      <td>1</td>\n",
       "      <td>2032</td>\n",
       "      <td>0</td>\n",
       "      <td>0</td>\n",
       "      <td>54</td>\n",
       "      <td>12</td>\n",
       "      <td>4.7421</td>\n",
       "      <td>4.70</td>\n",
       "      <td>1040</td>\n",
       "      <td>57</td>\n",
       "      <td>...</td>\n",
       "      <td>0.6915</td>\n",
       "      <td>14</td>\n",
       "      <td>7</td>\n",
       "      <td>7.5</td>\n",
       "      <td>1</td>\n",
       "      <td>33</td>\n",
       "      <td>9.859054</td>\n",
       "      <td>1.556480</td>\n",
       "      <td>1089</td>\n",
       "      <td>1</td>\n",
       "    </tr>\n",
       "    <tr>\n",
       "      <th>...</th>\n",
       "      <td>...</td>\n",
       "      <td>...</td>\n",
       "      <td>...</td>\n",
       "      <td>...</td>\n",
       "      <td>...</td>\n",
       "      <td>...</td>\n",
       "      <td>...</td>\n",
       "      <td>...</td>\n",
       "      <td>...</td>\n",
       "      <td>...</td>\n",
       "      <td>...</td>\n",
       "      <td>...</td>\n",
       "      <td>...</td>\n",
       "      <td>...</td>\n",
       "      <td>...</td>\n",
       "      <td>...</td>\n",
       "      <td>...</td>\n",
       "      <td>...</td>\n",
       "      <td>...</td>\n",
       "      <td>...</td>\n",
       "      <td>...</td>\n",
       "    </tr>\n",
       "    <tr>\n",
       "      <th>420</th>\n",
       "      <td>1</td>\n",
       "      <td>1944</td>\n",
       "      <td>0</td>\n",
       "      <td>2</td>\n",
       "      <td>49</td>\n",
       "      <td>12</td>\n",
       "      <td>2.5720</td>\n",
       "      <td>2.70</td>\n",
       "      <td>1920</td>\n",
       "      <td>53</td>\n",
       "      <td>...</td>\n",
       "      <td>0.7215</td>\n",
       "      <td>7</td>\n",
       "      <td>7</td>\n",
       "      <td>5.0</td>\n",
       "      <td>1</td>\n",
       "      <td>13</td>\n",
       "      <td>14.434031</td>\n",
       "      <td>0.944684</td>\n",
       "      <td>169</td>\n",
       "      <td>1</td>\n",
       "    </tr>\n",
       "    <tr>\n",
       "      <th>421</th>\n",
       "      <td>1</td>\n",
       "      <td>50</td>\n",
       "      <td>1</td>\n",
       "      <td>1</td>\n",
       "      <td>45</td>\n",
       "      <td>12</td>\n",
       "      <td>3.4600</td>\n",
       "      <td>5.00</td>\n",
       "      <td>1780</td>\n",
       "      <td>46</td>\n",
       "      <td>...</td>\n",
       "      <td>0.7215</td>\n",
       "      <td>7</td>\n",
       "      <td>7</td>\n",
       "      <td>9.5</td>\n",
       "      <td>1</td>\n",
       "      <td>9</td>\n",
       "      <td>23.709000</td>\n",
       "      <td>1.241269</td>\n",
       "      <td>81</td>\n",
       "      <td>1</td>\n",
       "    </tr>\n",
       "    <tr>\n",
       "      <th>424</th>\n",
       "      <td>1</td>\n",
       "      <td>2450</td>\n",
       "      <td>0</td>\n",
       "      <td>1</td>\n",
       "      <td>40</td>\n",
       "      <td>12</td>\n",
       "      <td>5.3061</td>\n",
       "      <td>6.50</td>\n",
       "      <td>2008</td>\n",
       "      <td>40</td>\n",
       "      <td>...</td>\n",
       "      <td>0.6215</td>\n",
       "      <td>7</td>\n",
       "      <td>7</td>\n",
       "      <td>5.0</td>\n",
       "      <td>1</td>\n",
       "      <td>21</td>\n",
       "      <td>22.641056</td>\n",
       "      <td>1.668857</td>\n",
       "      <td>441</td>\n",
       "      <td>1</td>\n",
       "    </tr>\n",
       "    <tr>\n",
       "      <th>426</th>\n",
       "      <td>1</td>\n",
       "      <td>1760</td>\n",
       "      <td>0</td>\n",
       "      <td>1</td>\n",
       "      <td>33</td>\n",
       "      <td>12</td>\n",
       "      <td>3.4091</td>\n",
       "      <td>3.21</td>\n",
       "      <td>3380</td>\n",
       "      <td>34</td>\n",
       "      <td>...</td>\n",
       "      <td>0.5815</td>\n",
       "      <td>12</td>\n",
       "      <td>16</td>\n",
       "      <td>11.0</td>\n",
       "      <td>1</td>\n",
       "      <td>14</td>\n",
       "      <td>23.999985</td>\n",
       "      <td>1.226448</td>\n",
       "      <td>196</td>\n",
       "      <td>1</td>\n",
       "    </tr>\n",
       "    <tr>\n",
       "      <th>427</th>\n",
       "      <td>1</td>\n",
       "      <td>490</td>\n",
       "      <td>0</td>\n",
       "      <td>1</td>\n",
       "      <td>30</td>\n",
       "      <td>12</td>\n",
       "      <td>4.0816</td>\n",
       "      <td>2.46</td>\n",
       "      <td>2430</td>\n",
       "      <td>33</td>\n",
       "      <td>...</td>\n",
       "      <td>0.6915</td>\n",
       "      <td>12</td>\n",
       "      <td>12</td>\n",
       "      <td>7.5</td>\n",
       "      <td>1</td>\n",
       "      <td>7</td>\n",
       "      <td>16.000015</td>\n",
       "      <td>1.406489</td>\n",
       "      <td>49</td>\n",
       "      <td>1</td>\n",
       "    </tr>\n",
       "  </tbody>\n",
       "</table>\n",
       "<p>212 rows × 23 columns</p>\n",
       "</div>"
      ],
      "text/plain": [
       "     inlf  hours  kidslt6  kidsge6  age  educ    wage  repwage  hushrs  \\\n",
       "0       1   1610        1        0   32    12  3.3540     2.65    2708   \n",
       "1       1   1656        0        2   30    12  1.3889     2.65    2310   \n",
       "2       1   1980        1        3   35    12  4.5455     4.04    3072   \n",
       "3       1    456        0        3   34    12  1.0965     3.25    1920   \n",
       "5       1   2032        0        0   54    12  4.7421     4.70    1040   \n",
       "..    ...    ...      ...      ...  ...   ...     ...      ...     ...   \n",
       "420     1   1944        0        2   49    12  2.5720     2.70    1920   \n",
       "421     1     50        1        1   45    12  3.4600     5.00    1780   \n",
       "424     1   2450        0        1   40    12  5.3061     6.50    2008   \n",
       "426     1   1760        0        1   33    12  3.4091     3.21    3380   \n",
       "427     1    490        0        1   30    12  4.0816     2.46    2430   \n",
       "\n",
       "     husage  ...     mtr  motheduc  fatheduc  unem  city  exper   nwifeinc  \\\n",
       "0        34  ...  0.7215        12         7   5.0     0     14  10.910060   \n",
       "1        30  ...  0.6615         7         7  11.0     1      5  19.499981   \n",
       "2        40  ...  0.6915        12         7   5.0     0     15  12.039910   \n",
       "3        53  ...  0.7815         7         7   5.0     0      6   6.799996   \n",
       "5        57  ...  0.6915        14         7   7.5     1     33   9.859054   \n",
       "..      ...  ...     ...       ...       ...   ...   ...    ...        ...   \n",
       "420      53  ...  0.7215         7         7   5.0     1     13  14.434031   \n",
       "421      46  ...  0.7215         7         7   9.5     1      9  23.709000   \n",
       "424      40  ...  0.6215         7         7   5.0     1     21  22.641056   \n",
       "426      34  ...  0.5815        12        16  11.0     1     14  23.999985   \n",
       "427      33  ...  0.6915        12        12   7.5     1      7  16.000015   \n",
       "\n",
       "        lwage  expersq  educ_12  \n",
       "0    1.210154      196        1  \n",
       "1    0.328512       25        1  \n",
       "2    1.514138      225        1  \n",
       "3    0.092123       36        1  \n",
       "5    1.556480     1089        1  \n",
       "..        ...      ...      ...  \n",
       "420  0.944684      169        1  \n",
       "421  1.241269       81        1  \n",
       "424  1.668857      441        1  \n",
       "426  1.226448      196        1  \n",
       "427  1.406489       49        1  \n",
       "\n",
       "[212 rows x 23 columns]"
      ]
     },
     "execution_count": 19,
     "metadata": {},
     "output_type": "execute_result"
    }
   ],
   "source": [
    "inlf_df[inlf_df['educ']==12]"
   ]
  },
  {
   "cell_type": "code",
   "execution_count": 20,
   "id": "740d15a6",
   "metadata": {
    "ExecuteTime": {
     "end_time": "2022-11-06T14:45:50.515473Z",
     "start_time": "2022-11-06T14:45:50.430702Z"
    }
   },
   "outputs": [
    {
     "data": {
      "text/plain": [
       "0.5683930942895087"
      ]
     },
     "execution_count": 20,
     "metadata": {},
     "output_type": "execute_result"
    }
   ],
   "source": [
    "sum = 0\n",
    "for i in edu:\n",
    "    sum += len(inlf_df[inlf_df['educ']==i])\n",
    "sum/len(df)"
   ]
  },
  {
   "cell_type": "markdown",
   "id": "b04f8175",
   "metadata": {},
   "source": [
    "## Individual's Pension plan"
   ]
  },
  {
   "cell_type": "markdown",
   "id": "8a825f7a",
   "metadata": {},
   "source": [
    "### Report  the proportion of indivisuals in each catagory of the dependent variable. What is the proportion of individuals who most prefer stocks"
   ]
  },
  {
   "cell_type": "code",
   "execution_count": 21,
   "id": "04e7b5f8",
   "metadata": {
    "ExecuteTime": {
     "end_time": "2022-11-06T14:45:50.733889Z",
     "start_time": "2022-11-06T14:45:50.528439Z"
    },
    "scrolled": true
   },
   "outputs": [
    {
     "data": {
      "text/html": [
       "<div>\n",
       "<style scoped>\n",
       "    .dataframe tbody tr th:only-of-type {\n",
       "        vertical-align: middle;\n",
       "    }\n",
       "\n",
       "    .dataframe tbody tr th {\n",
       "        vertical-align: top;\n",
       "    }\n",
       "\n",
       "    .dataframe thead th {\n",
       "        text-align: right;\n",
       "    }\n",
       "</style>\n",
       "<table border=\"1\" class=\"dataframe\">\n",
       "  <thead>\n",
       "    <tr style=\"text-align: right;\">\n",
       "      <th></th>\n",
       "      <th>id</th>\n",
       "      <th>pyears</th>\n",
       "      <th>prftshr</th>\n",
       "      <th>choice</th>\n",
       "      <th>female</th>\n",
       "      <th>married</th>\n",
       "      <th>age</th>\n",
       "      <th>educ</th>\n",
       "      <th>finc25</th>\n",
       "      <th>finc35</th>\n",
       "      <th>finc50</th>\n",
       "      <th>finc75</th>\n",
       "      <th>finc100</th>\n",
       "      <th>finc101</th>\n",
       "      <th>wealth89</th>\n",
       "      <th>black</th>\n",
       "      <th>stckin89</th>\n",
       "      <th>irain89</th>\n",
       "      <th>pctstck</th>\n",
       "    </tr>\n",
       "  </thead>\n",
       "  <tbody>\n",
       "    <tr>\n",
       "      <th>0</th>\n",
       "      <td>38</td>\n",
       "      <td>1.0</td>\n",
       "      <td>0</td>\n",
       "      <td>1</td>\n",
       "      <td>0</td>\n",
       "      <td>1</td>\n",
       "      <td>64</td>\n",
       "      <td>12</td>\n",
       "      <td>0</td>\n",
       "      <td>0</td>\n",
       "      <td>1</td>\n",
       "      <td>0</td>\n",
       "      <td>0</td>\n",
       "      <td>0</td>\n",
       "      <td>77.900002</td>\n",
       "      <td>0</td>\n",
       "      <td>1</td>\n",
       "      <td>1</td>\n",
       "      <td>0</td>\n",
       "    </tr>\n",
       "    <tr>\n",
       "      <th>1</th>\n",
       "      <td>152</td>\n",
       "      <td>6.0</td>\n",
       "      <td>1</td>\n",
       "      <td>1</td>\n",
       "      <td>1</td>\n",
       "      <td>1</td>\n",
       "      <td>56</td>\n",
       "      <td>13</td>\n",
       "      <td>0</td>\n",
       "      <td>0</td>\n",
       "      <td>0</td>\n",
       "      <td>1</td>\n",
       "      <td>0</td>\n",
       "      <td>0</td>\n",
       "      <td>154.899994</td>\n",
       "      <td>0</td>\n",
       "      <td>1</td>\n",
       "      <td>1</td>\n",
       "      <td>50</td>\n",
       "    </tr>\n",
       "    <tr>\n",
       "      <th>2</th>\n",
       "      <td>152</td>\n",
       "      <td>25.0</td>\n",
       "      <td>1</td>\n",
       "      <td>1</td>\n",
       "      <td>0</td>\n",
       "      <td>1</td>\n",
       "      <td>56</td>\n",
       "      <td>12</td>\n",
       "      <td>0</td>\n",
       "      <td>0</td>\n",
       "      <td>0</td>\n",
       "      <td>1</td>\n",
       "      <td>0</td>\n",
       "      <td>0</td>\n",
       "      <td>154.899994</td>\n",
       "      <td>0</td>\n",
       "      <td>1</td>\n",
       "      <td>1</td>\n",
       "      <td>50</td>\n",
       "    </tr>\n",
       "    <tr>\n",
       "      <th>3</th>\n",
       "      <td>182</td>\n",
       "      <td>20.0</td>\n",
       "      <td>1</td>\n",
       "      <td>0</td>\n",
       "      <td>1</td>\n",
       "      <td>1</td>\n",
       "      <td>63</td>\n",
       "      <td>12</td>\n",
       "      <td>1</td>\n",
       "      <td>0</td>\n",
       "      <td>0</td>\n",
       "      <td>0</td>\n",
       "      <td>0</td>\n",
       "      <td>0</td>\n",
       "      <td>232.500000</td>\n",
       "      <td>0</td>\n",
       "      <td>1</td>\n",
       "      <td>1</td>\n",
       "      <td>100</td>\n",
       "    </tr>\n",
       "    <tr>\n",
       "      <th>4</th>\n",
       "      <td>222</td>\n",
       "      <td>35.0</td>\n",
       "      <td>0</td>\n",
       "      <td>1</td>\n",
       "      <td>0</td>\n",
       "      <td>1</td>\n",
       "      <td>67</td>\n",
       "      <td>12</td>\n",
       "      <td>0</td>\n",
       "      <td>1</td>\n",
       "      <td>0</td>\n",
       "      <td>0</td>\n",
       "      <td>0</td>\n",
       "      <td>0</td>\n",
       "      <td>179.000000</td>\n",
       "      <td>0</td>\n",
       "      <td>0</td>\n",
       "      <td>1</td>\n",
       "      <td>100</td>\n",
       "    </tr>\n",
       "  </tbody>\n",
       "</table>\n",
       "</div>"
      ],
      "text/plain": [
       "    id  pyears  prftshr  choice  female  married  age  educ  finc25  finc35  \\\n",
       "0   38     1.0        0       1       0        1   64    12       0       0   \n",
       "1  152     6.0        1       1       1        1   56    13       0       0   \n",
       "2  152    25.0        1       1       0        1   56    12       0       0   \n",
       "3  182    20.0        1       0       1        1   63    12       1       0   \n",
       "4  222    35.0        0       1       0        1   67    12       0       1   \n",
       "\n",
       "   finc50  finc75  finc100  finc101    wealth89  black  stckin89  irain89  \\\n",
       "0       1       0        0        0   77.900002      0         1        1   \n",
       "1       0       1        0        0  154.899994      0         1        1   \n",
       "2       0       1        0        0  154.899994      0         1        1   \n",
       "3       0       0        0        0  232.500000      0         1        1   \n",
       "4       0       0        0        0  179.000000      0         0        1   \n",
       "\n",
       "   pctstck  \n",
       "0        0  \n",
       "1       50  \n",
       "2       50  \n",
       "3      100  \n",
       "4      100  "
      ]
     },
     "execution_count": 21,
     "metadata": {},
     "output_type": "execute_result"
    }
   ],
   "source": [
    "data = pd.read_excel('pension.xls')\n",
    "df = data.copy()\n",
    "df.head()"
   ]
  },
  {
   "cell_type": "code",
   "execution_count": 22,
   "id": "029c0817",
   "metadata": {
    "ExecuteTime": {
     "end_time": "2022-11-06T14:45:50.763810Z",
     "start_time": "2022-11-06T14:45:50.739877Z"
    }
   },
   "outputs": [],
   "source": [
    "df.fillna(0, inplace = True)"
   ]
  },
  {
   "cell_type": "code",
   "execution_count": 23,
   "id": "88ca60be",
   "metadata": {
    "ExecuteTime": {
     "end_time": "2022-11-06T14:45:50.825644Z",
     "start_time": "2022-11-06T14:45:50.770792Z"
    }
   },
   "outputs": [],
   "source": [
    "df_p = df[['pctstck']].value_counts()"
   ]
  },
  {
   "cell_type": "code",
   "execution_count": 24,
   "id": "ccdc02af",
   "metadata": {
    "ExecuteTime": {
     "end_time": "2022-11-06T14:45:50.859553Z",
     "start_time": "2022-11-06T14:45:50.832626Z"
    }
   },
   "outputs": [
    {
     "data": {
      "text/plain": [
       "pctstck\n",
       "50         72\n",
       "0          64\n",
       "100        58\n",
       "dtype: int64"
      ]
     },
     "execution_count": 24,
     "metadata": {},
     "output_type": "execute_result"
    }
   ],
   "source": [
    "df_p"
   ]
  },
  {
   "cell_type": "code",
   "execution_count": 25,
   "id": "579bfc0a",
   "metadata": {
    "ExecuteTime": {
     "end_time": "2022-11-06T14:45:50.915404Z",
     "start_time": "2022-11-06T14:45:50.865537Z"
    }
   },
   "outputs": [
    {
     "name": "stdout",
     "output_type": "stream",
     "text": [
      "0.32989690721649484\n",
      "0.3711340206185567\n",
      "0.29896907216494845\n"
     ]
    }
   ],
   "source": [
    "print(df_p[0]/df_p.sum())\n",
    "print(df_p[50]/df_p.sum())\n",
    "print(df_p[100]/df_p.sum())"
   ]
  },
  {
   "cell_type": "code",
   "execution_count": 26,
   "id": "17456f9a",
   "metadata": {
    "ExecuteTime": {
     "end_time": "2022-11-06T14:45:50.964273Z",
     "start_time": "2022-11-06T14:45:50.930365Z"
    }
   },
   "outputs": [
    {
     "name": "stdout",
     "output_type": "stream",
     "text": [
      "The proportion of individuals who most prefer stocks : 0.29896907216494845\n"
     ]
    }
   ],
   "source": [
    "print(\"The proportion of individuals who most prefer stocks :\",df_p[100]/df_p.sum())"
   ]
  },
  {
   "cell_type": "markdown",
   "id": "163a156a",
   "metadata": {},
   "source": [
    "### One can consider age, gender, martial status, race, education level, family income, and wealth as important factors that may effect the portfolio choice. Run an ordered probit regression and provide an interpretation on the estimated coefficient on the wealth variable"
   ]
  },
  {
   "cell_type": "code",
   "execution_count": 27,
   "id": "e8299183",
   "metadata": {
    "ExecuteTime": {
     "end_time": "2022-11-06T14:45:51.043065Z",
     "start_time": "2022-11-06T14:45:50.970257Z"
    }
   },
   "outputs": [
    {
     "data": {
      "text/html": [
       "<div>\n",
       "<style scoped>\n",
       "    .dataframe tbody tr th:only-of-type {\n",
       "        vertical-align: middle;\n",
       "    }\n",
       "\n",
       "    .dataframe tbody tr th {\n",
       "        vertical-align: top;\n",
       "    }\n",
       "\n",
       "    .dataframe thead th {\n",
       "        text-align: right;\n",
       "    }\n",
       "</style>\n",
       "<table border=\"1\" class=\"dataframe\">\n",
       "  <thead>\n",
       "    <tr style=\"text-align: right;\">\n",
       "      <th></th>\n",
       "      <th>id</th>\n",
       "      <th>pyears</th>\n",
       "      <th>prftshr</th>\n",
       "      <th>choice</th>\n",
       "      <th>female</th>\n",
       "      <th>married</th>\n",
       "      <th>age</th>\n",
       "      <th>educ</th>\n",
       "      <th>finc25</th>\n",
       "      <th>finc35</th>\n",
       "      <th>finc50</th>\n",
       "      <th>finc75</th>\n",
       "      <th>finc100</th>\n",
       "      <th>finc101</th>\n",
       "      <th>wealth89</th>\n",
       "      <th>black</th>\n",
       "      <th>stckin89</th>\n",
       "      <th>irain89</th>\n",
       "      <th>pctstck</th>\n",
       "    </tr>\n",
       "  </thead>\n",
       "  <tbody>\n",
       "    <tr>\n",
       "      <th>0</th>\n",
       "      <td>38</td>\n",
       "      <td>1.0</td>\n",
       "      <td>0</td>\n",
       "      <td>1</td>\n",
       "      <td>0</td>\n",
       "      <td>1</td>\n",
       "      <td>64</td>\n",
       "      <td>12</td>\n",
       "      <td>0</td>\n",
       "      <td>0</td>\n",
       "      <td>1</td>\n",
       "      <td>0</td>\n",
       "      <td>0</td>\n",
       "      <td>0</td>\n",
       "      <td>77.900002</td>\n",
       "      <td>0</td>\n",
       "      <td>1</td>\n",
       "      <td>1</td>\n",
       "      <td>0</td>\n",
       "    </tr>\n",
       "    <tr>\n",
       "      <th>1</th>\n",
       "      <td>152</td>\n",
       "      <td>6.0</td>\n",
       "      <td>1</td>\n",
       "      <td>1</td>\n",
       "      <td>1</td>\n",
       "      <td>1</td>\n",
       "      <td>56</td>\n",
       "      <td>13</td>\n",
       "      <td>0</td>\n",
       "      <td>0</td>\n",
       "      <td>0</td>\n",
       "      <td>1</td>\n",
       "      <td>0</td>\n",
       "      <td>0</td>\n",
       "      <td>154.899994</td>\n",
       "      <td>0</td>\n",
       "      <td>1</td>\n",
       "      <td>1</td>\n",
       "      <td>50</td>\n",
       "    </tr>\n",
       "    <tr>\n",
       "      <th>2</th>\n",
       "      <td>152</td>\n",
       "      <td>25.0</td>\n",
       "      <td>1</td>\n",
       "      <td>1</td>\n",
       "      <td>0</td>\n",
       "      <td>1</td>\n",
       "      <td>56</td>\n",
       "      <td>12</td>\n",
       "      <td>0</td>\n",
       "      <td>0</td>\n",
       "      <td>0</td>\n",
       "      <td>1</td>\n",
       "      <td>0</td>\n",
       "      <td>0</td>\n",
       "      <td>154.899994</td>\n",
       "      <td>0</td>\n",
       "      <td>1</td>\n",
       "      <td>1</td>\n",
       "      <td>50</td>\n",
       "    </tr>\n",
       "    <tr>\n",
       "      <th>3</th>\n",
       "      <td>182</td>\n",
       "      <td>20.0</td>\n",
       "      <td>1</td>\n",
       "      <td>0</td>\n",
       "      <td>1</td>\n",
       "      <td>1</td>\n",
       "      <td>63</td>\n",
       "      <td>12</td>\n",
       "      <td>1</td>\n",
       "      <td>0</td>\n",
       "      <td>0</td>\n",
       "      <td>0</td>\n",
       "      <td>0</td>\n",
       "      <td>0</td>\n",
       "      <td>232.500000</td>\n",
       "      <td>0</td>\n",
       "      <td>1</td>\n",
       "      <td>1</td>\n",
       "      <td>100</td>\n",
       "    </tr>\n",
       "    <tr>\n",
       "      <th>4</th>\n",
       "      <td>222</td>\n",
       "      <td>35.0</td>\n",
       "      <td>0</td>\n",
       "      <td>1</td>\n",
       "      <td>0</td>\n",
       "      <td>1</td>\n",
       "      <td>67</td>\n",
       "      <td>12</td>\n",
       "      <td>0</td>\n",
       "      <td>1</td>\n",
       "      <td>0</td>\n",
       "      <td>0</td>\n",
       "      <td>0</td>\n",
       "      <td>0</td>\n",
       "      <td>179.000000</td>\n",
       "      <td>0</td>\n",
       "      <td>0</td>\n",
       "      <td>1</td>\n",
       "      <td>100</td>\n",
       "    </tr>\n",
       "  </tbody>\n",
       "</table>\n",
       "</div>"
      ],
      "text/plain": [
       "    id  pyears  prftshr  choice  female  married  age  educ  finc25  finc35  \\\n",
       "0   38     1.0        0       1       0        1   64    12       0       0   \n",
       "1  152     6.0        1       1       1        1   56    13       0       0   \n",
       "2  152    25.0        1       1       0        1   56    12       0       0   \n",
       "3  182    20.0        1       0       1        1   63    12       1       0   \n",
       "4  222    35.0        0       1       0        1   67    12       0       1   \n",
       "\n",
       "   finc50  finc75  finc100  finc101    wealth89  black  stckin89  irain89  \\\n",
       "0       1       0        0        0   77.900002      0         1        1   \n",
       "1       0       1        0        0  154.899994      0         1        1   \n",
       "2       0       1        0        0  154.899994      0         1        1   \n",
       "3       0       0        0        0  232.500000      0         1        1   \n",
       "4       0       0        0        0  179.000000      0         0        1   \n",
       "\n",
       "   pctstck  \n",
       "0        0  \n",
       "1       50  \n",
       "2       50  \n",
       "3      100  \n",
       "4      100  "
      ]
     },
     "execution_count": 27,
     "metadata": {},
     "output_type": "execute_result"
    }
   ],
   "source": [
    "df.head()"
   ]
  },
  {
   "cell_type": "code",
   "execution_count": 28,
   "id": "76332999",
   "metadata": {
    "ExecuteTime": {
     "end_time": "2022-11-06T14:45:51.090934Z",
     "start_time": "2022-11-06T14:45:51.067996Z"
    }
   },
   "outputs": [],
   "source": [
    "y = df[['pctstck']]\n",
    "X = df[['age','female','married','black','educ',\n",
    "        'finc25','finc50','finc75','finc100','finc101','wealth89']]"
   ]
  },
  {
   "cell_type": "code",
   "execution_count": 29,
   "id": "bf9917d8",
   "metadata": {
    "ExecuteTime": {
     "end_time": "2022-11-06T14:45:52.840255Z",
     "start_time": "2022-11-06T14:45:51.094926Z"
    }
   },
   "outputs": [
    {
     "name": "stdout",
     "output_type": "stream",
     "text": [
      "Optimization terminated successfully.\n",
      "         Current function value: 1.061248\n",
      "         Iterations: 48\n",
      "         Function evaluations: 54\n",
      "         Gradient evaluations: 54\n"
     ]
    },
    {
     "data": {
      "text/html": [
       "<table class=\"simpletable\">\n",
       "<caption>OrderedModel Results</caption>\n",
       "<tr>\n",
       "  <th>Dep. Variable:</th>          <td>pctstck</td>      <th>  Log-Likelihood:    </th> <td> -205.88</td>\n",
       "</tr>\n",
       "<tr>\n",
       "  <th>Model:</th>               <td>OrderedModel</td>    <th>  AIC:               </th> <td>   437.8</td>\n",
       "</tr>\n",
       "<tr>\n",
       "  <th>Method:</th>           <td>Maximum Likelihood</td> <th>  BIC:               </th> <td>   480.2</td>\n",
       "</tr>\n",
       "<tr>\n",
       "  <th>Date:</th>              <td>Sun, 06 Nov 2022</td>  <th>                     </th>     <td> </td>   \n",
       "</tr>\n",
       "<tr>\n",
       "  <th>Time:</th>                  <td>23:45:52</td>      <th>                     </th>     <td> </td>   \n",
       "</tr>\n",
       "<tr>\n",
       "  <th>No. Observations:</th>       <td>   194</td>       <th>                     </th>     <td> </td>   \n",
       "</tr>\n",
       "<tr>\n",
       "  <th>Df Residuals:</th>           <td>   181</td>       <th>                     </th>     <td> </td>   \n",
       "</tr>\n",
       "<tr>\n",
       "  <th>Df Model:</th>               <td>    13</td>       <th>                     </th>     <td> </td>   \n",
       "</tr>\n",
       "</table>\n",
       "<table class=\"simpletable\">\n",
       "<tr>\n",
       "      <td></td>        <th>coef</th>     <th>std err</th>      <th>z</th>      <th>P>|z|</th>  <th>[0.025</th>    <th>0.975]</th>  \n",
       "</tr>\n",
       "<tr>\n",
       "  <th>age</th>      <td>   -0.0499</td> <td>    0.022</td> <td>   -2.223</td> <td> 0.026</td> <td>   -0.094</td> <td>   -0.006</td>\n",
       "</tr>\n",
       "<tr>\n",
       "  <th>female</th>   <td>    0.0095</td> <td>    0.202</td> <td>    0.047</td> <td> 0.962</td> <td>   -0.386</td> <td>    0.406</td>\n",
       "</tr>\n",
       "<tr>\n",
       "  <th>married</th>  <td>    0.0824</td> <td>    0.231</td> <td>    0.357</td> <td> 0.721</td> <td>   -0.370</td> <td>    0.535</td>\n",
       "</tr>\n",
       "<tr>\n",
       "  <th>black</th>    <td>   -0.0502</td> <td>    0.274</td> <td>   -0.183</td> <td> 0.854</td> <td>   -0.586</td> <td>    0.486</td>\n",
       "</tr>\n",
       "<tr>\n",
       "  <th>educ</th>     <td>    0.0213</td> <td>    0.035</td> <td>    0.609</td> <td> 0.542</td> <td>   -0.047</td> <td>    0.090</td>\n",
       "</tr>\n",
       "<tr>\n",
       "  <th>finc25</th>   <td>   -0.5036</td> <td>    0.257</td> <td>   -1.959</td> <td> 0.050</td> <td>   -1.007</td> <td>    0.000</td>\n",
       "</tr>\n",
       "<tr>\n",
       "  <th>finc50</th>   <td>   -0.1642</td> <td>    0.246</td> <td>   -0.667</td> <td> 0.505</td> <td>   -0.646</td> <td>    0.318</td>\n",
       "</tr>\n",
       "<tr>\n",
       "  <th>finc75</th>   <td>   -0.3350</td> <td>    0.311</td> <td>   -1.079</td> <td> 0.281</td> <td>   -0.944</td> <td>    0.274</td>\n",
       "</tr>\n",
       "<tr>\n",
       "  <th>finc100</th>  <td>   -0.1493</td> <td>    0.306</td> <td>   -0.487</td> <td> 0.626</td> <td>   -0.749</td> <td>    0.451</td>\n",
       "</tr>\n",
       "<tr>\n",
       "  <th>finc101</th>  <td>   -0.7503</td> <td>    0.392</td> <td>   -1.916</td> <td> 0.055</td> <td>   -1.518</td> <td>    0.017</td>\n",
       "</tr>\n",
       "<tr>\n",
       "  <th>wealth89</th> <td>   -0.0001</td> <td>    0.000</td> <td>   -0.364</td> <td> 0.716</td> <td>   -0.001</td> <td>    0.001</td>\n",
       "</tr>\n",
       "<tr>\n",
       "  <th>0/50</th>     <td>   -3.4013</td> <td>    1.535</td> <td>   -2.216</td> <td> 0.027</td> <td>   -6.409</td> <td>   -0.394</td>\n",
       "</tr>\n",
       "<tr>\n",
       "  <th>50/100</th>   <td>    0.0082</td> <td>    0.101</td> <td>    0.082</td> <td> 0.935</td> <td>   -0.190</td> <td>    0.206</td>\n",
       "</tr>\n",
       "</table>"
      ],
      "text/plain": [
       "<class 'statsmodels.iolib.summary.Summary'>\n",
       "\"\"\"\n",
       "                             OrderedModel Results                             \n",
       "==============================================================================\n",
       "Dep. Variable:                pctstck   Log-Likelihood:                -205.88\n",
       "Model:                   OrderedModel   AIC:                             437.8\n",
       "Method:            Maximum Likelihood   BIC:                             480.2\n",
       "Date:                Sun, 06 Nov 2022                                         \n",
       "Time:                        23:45:52                                         \n",
       "No. Observations:                 194                                         \n",
       "Df Residuals:                     181                                         \n",
       "Df Model:                          13                                         \n",
       "==============================================================================\n",
       "                 coef    std err          z      P>|z|      [0.025      0.975]\n",
       "------------------------------------------------------------------------------\n",
       "age           -0.0499      0.022     -2.223      0.026      -0.094      -0.006\n",
       "female         0.0095      0.202      0.047      0.962      -0.386       0.406\n",
       "married        0.0824      0.231      0.357      0.721      -0.370       0.535\n",
       "black         -0.0502      0.274     -0.183      0.854      -0.586       0.486\n",
       "educ           0.0213      0.035      0.609      0.542      -0.047       0.090\n",
       "finc25        -0.5036      0.257     -1.959      0.050      -1.007       0.000\n",
       "finc50        -0.1642      0.246     -0.667      0.505      -0.646       0.318\n",
       "finc75        -0.3350      0.311     -1.079      0.281      -0.944       0.274\n",
       "finc100       -0.1493      0.306     -0.487      0.626      -0.749       0.451\n",
       "finc101       -0.7503      0.392     -1.916      0.055      -1.518       0.017\n",
       "wealth89      -0.0001      0.000     -0.364      0.716      -0.001       0.001\n",
       "0/50          -3.4013      1.535     -2.216      0.027      -6.409      -0.394\n",
       "50/100         0.0082      0.101      0.082      0.935      -0.190       0.206\n",
       "==============================================================================\n",
       "\"\"\""
      ]
     },
     "execution_count": 29,
     "metadata": {},
     "output_type": "execute_result"
    }
   ],
   "source": [
    "from statsmodels.miscmodels.ordinal_model import OrderedModel\n",
    "order_prob = OrderedModel(y,X,distr='probit').fit(method='bfgs')\n",
    "order_prob.summary()"
   ]
  },
  {
   "cell_type": "markdown",
   "id": "e275c3bf",
   "metadata": {},
   "source": [
    "wealth의 계수는 종속변수를 설명하는데 유의한 변수도 아니며 영향이 없다."
   ]
  },
  {
   "cell_type": "markdown",
   "id": "078c580e",
   "metadata": {},
   "source": []
  },
  {
   "cell_type": "markdown",
   "id": "374828e0",
   "metadata": {},
   "source": [
    "### choice로 다시 실행"
   ]
  },
  {
   "cell_type": "code",
   "execution_count": 30,
   "id": "92a04179",
   "metadata": {
    "ExecuteTime": {
     "end_time": "2022-11-06T14:45:54.225552Z",
     "start_time": "2022-11-06T14:45:52.844247Z"
    }
   },
   "outputs": [
    {
     "name": "stdout",
     "output_type": "stream",
     "text": [
      "Optimization terminated successfully.\n",
      "         Current function value: 0.599945\n",
      "         Iterations: 54\n",
      "         Function evaluations: 59\n",
      "         Gradient evaluations: 59\n"
     ]
    },
    {
     "data": {
      "text/html": [
       "<table class=\"simpletable\">\n",
       "<caption>OrderedModel Results</caption>\n",
       "<tr>\n",
       "  <th>Dep. Variable:</th>          <td>choice</td>       <th>  Log-Likelihood:    </th> <td> -116.39</td>\n",
       "</tr>\n",
       "<tr>\n",
       "  <th>Model:</th>               <td>OrderedModel</td>    <th>  AIC:               </th> <td>   256.8</td>\n",
       "</tr>\n",
       "<tr>\n",
       "  <th>Method:</th>           <td>Maximum Likelihood</td> <th>  BIC:               </th> <td>   296.0</td>\n",
       "</tr>\n",
       "<tr>\n",
       "  <th>Date:</th>              <td>Sun, 06 Nov 2022</td>  <th>                     </th>     <td> </td>   \n",
       "</tr>\n",
       "<tr>\n",
       "  <th>Time:</th>                  <td>23:45:54</td>      <th>                     </th>     <td> </td>   \n",
       "</tr>\n",
       "<tr>\n",
       "  <th>No. Observations:</th>       <td>   194</td>       <th>                     </th>     <td> </td>   \n",
       "</tr>\n",
       "<tr>\n",
       "  <th>Df Residuals:</th>           <td>   182</td>       <th>                     </th>     <td> </td>   \n",
       "</tr>\n",
       "<tr>\n",
       "  <th>Df Model:</th>               <td>    12</td>       <th>                     </th>     <td> </td>   \n",
       "</tr>\n",
       "</table>\n",
       "<table class=\"simpletable\">\n",
       "<tr>\n",
       "      <td></td>        <th>coef</th>     <th>std err</th>      <th>z</th>      <th>P>|z|</th>  <th>[0.025</th>    <th>0.975]</th>  \n",
       "</tr>\n",
       "<tr>\n",
       "  <th>age</th>      <td>   -0.0103</td> <td>    0.026</td> <td>   -0.401</td> <td> 0.688</td> <td>   -0.061</td> <td>    0.040</td>\n",
       "</tr>\n",
       "<tr>\n",
       "  <th>female</th>   <td>   -0.1533</td> <td>    0.242</td> <td>   -0.633</td> <td> 0.527</td> <td>   -0.628</td> <td>    0.321</td>\n",
       "</tr>\n",
       "<tr>\n",
       "  <th>married</th>  <td>   -0.3056</td> <td>    0.266</td> <td>   -1.147</td> <td> 0.251</td> <td>   -0.828</td> <td>    0.217</td>\n",
       "</tr>\n",
       "<tr>\n",
       "  <th>black</th>    <td>   -0.5573</td> <td>    0.317</td> <td>   -1.760</td> <td> 0.078</td> <td>   -1.178</td> <td>    0.063</td>\n",
       "</tr>\n",
       "<tr>\n",
       "  <th>educ</th>     <td>    0.0208</td> <td>    0.042</td> <td>    0.500</td> <td> 0.617</td> <td>   -0.061</td> <td>    0.102</td>\n",
       "</tr>\n",
       "<tr>\n",
       "  <th>finc25</th>   <td>   -0.6190</td> <td>    0.287</td> <td>   -2.158</td> <td> 0.031</td> <td>   -1.181</td> <td>   -0.057</td>\n",
       "</tr>\n",
       "<tr>\n",
       "  <th>finc50</th>   <td>   -0.1488</td> <td>    0.281</td> <td>   -0.529</td> <td> 0.597</td> <td>   -0.701</td> <td>    0.403</td>\n",
       "</tr>\n",
       "<tr>\n",
       "  <th>finc75</th>   <td>    1.0272</td> <td>    0.437</td> <td>    2.349</td> <td> 0.019</td> <td>    0.170</td> <td>    1.884</td>\n",
       "</tr>\n",
       "<tr>\n",
       "  <th>finc100</th>  <td>   -0.0646</td> <td>    0.354</td> <td>   -0.183</td> <td> 0.855</td> <td>   -0.758</td> <td>    0.628</td>\n",
       "</tr>\n",
       "<tr>\n",
       "  <th>finc101</th>  <td>    0.2526</td> <td>    0.476</td> <td>    0.531</td> <td> 0.595</td> <td>   -0.680</td> <td>    1.185</td>\n",
       "</tr>\n",
       "<tr>\n",
       "  <th>wealth89</th> <td>   -0.0001</td> <td>    0.000</td> <td>   -0.303</td> <td> 0.762</td> <td>   -0.001</td> <td>    0.001</td>\n",
       "</tr>\n",
       "<tr>\n",
       "  <th>0/1</th>      <td>   -1.1163</td> <td>    1.780</td> <td>   -0.627</td> <td> 0.531</td> <td>   -4.605</td> <td>    2.373</td>\n",
       "</tr>\n",
       "</table>"
      ],
      "text/plain": [
       "<class 'statsmodels.iolib.summary.Summary'>\n",
       "\"\"\"\n",
       "                             OrderedModel Results                             \n",
       "==============================================================================\n",
       "Dep. Variable:                 choice   Log-Likelihood:                -116.39\n",
       "Model:                   OrderedModel   AIC:                             256.8\n",
       "Method:            Maximum Likelihood   BIC:                             296.0\n",
       "Date:                Sun, 06 Nov 2022                                         \n",
       "Time:                        23:45:54                                         \n",
       "No. Observations:                 194                                         \n",
       "Df Residuals:                     182                                         \n",
       "Df Model:                          12                                         \n",
       "==============================================================================\n",
       "                 coef    std err          z      P>|z|      [0.025      0.975]\n",
       "------------------------------------------------------------------------------\n",
       "age           -0.0103      0.026     -0.401      0.688      -0.061       0.040\n",
       "female        -0.1533      0.242     -0.633      0.527      -0.628       0.321\n",
       "married       -0.3056      0.266     -1.147      0.251      -0.828       0.217\n",
       "black         -0.5573      0.317     -1.760      0.078      -1.178       0.063\n",
       "educ           0.0208      0.042      0.500      0.617      -0.061       0.102\n",
       "finc25        -0.6190      0.287     -2.158      0.031      -1.181      -0.057\n",
       "finc50        -0.1488      0.281     -0.529      0.597      -0.701       0.403\n",
       "finc75         1.0272      0.437      2.349      0.019       0.170       1.884\n",
       "finc100       -0.0646      0.354     -0.183      0.855      -0.758       0.628\n",
       "finc101        0.2526      0.476      0.531      0.595      -0.680       1.185\n",
       "wealth89      -0.0001      0.000     -0.303      0.762      -0.001       0.001\n",
       "0/1           -1.1163      1.780     -0.627      0.531      -4.605       2.373\n",
       "==============================================================================\n",
       "\"\"\""
      ]
     },
     "execution_count": 30,
     "metadata": {},
     "output_type": "execute_result"
    }
   ],
   "source": [
    "y = df.choice\n",
    "order_prob = OrderedModel(y,X,distr='probit').fit(method='bfgs')\n",
    "order_prob.summary()"
   ]
  },
  {
   "cell_type": "markdown",
   "id": "6b0f1a6f",
   "metadata": {},
   "source": [
    "fin25와 fin75변수는 5%수준에서 유의한 변수이다. 가족들의 소득에 따라 choice가 바뀔 수 있다"
   ]
  },
  {
   "cell_type": "markdown",
   "id": "d41fc606",
   "metadata": {},
   "source": [
    "### APE 계산"
   ]
  },
  {
   "cell_type": "code",
   "execution_count": 31,
   "id": "cb04d13a",
   "metadata": {
    "ExecuteTime": {
     "end_time": "2022-11-06T14:45:54.255471Z",
     "start_time": "2022-11-06T14:45:54.233530Z"
    }
   },
   "outputs": [],
   "source": [
    "df_p = df[df['choice']==1]['pctstck'].value_counts()\n",
    "term1 = df_p[100]/df_p.sum()"
   ]
  },
  {
   "cell_type": "code",
   "execution_count": 32,
   "id": "3f97890c",
   "metadata": {
    "ExecuteTime": {
     "end_time": "2022-11-06T14:45:54.285391Z",
     "start_time": "2022-11-06T14:45:54.262461Z"
    }
   },
   "outputs": [],
   "source": [
    "df_p = df[df['choice']==0]['pctstck'].value_counts()\n",
    "term2 = df_p[100]/df_p.sum()"
   ]
  },
  {
   "cell_type": "code",
   "execution_count": 33,
   "id": "348b3e22",
   "metadata": {
    "ExecuteTime": {
     "end_time": "2022-11-06T14:45:54.332266Z",
     "start_time": "2022-11-06T14:45:54.293371Z"
    }
   },
   "outputs": [
    {
     "data": {
      "text/plain": [
       "0.03092436974789914"
      ]
     },
     "execution_count": 33,
     "metadata": {},
     "output_type": "execute_result"
    }
   ],
   "source": [
    "term1 - term2"
   ]
  },
  {
   "cell_type": "code",
   "execution_count": 34,
   "id": "eb50017b",
   "metadata": {
    "ExecuteTime": {
     "end_time": "2022-11-06T14:45:54.381135Z",
     "start_time": "2022-11-06T14:45:54.335258Z"
    }
   },
   "outputs": [],
   "source": [
    "df['term1'] = (df['pctstck']== 100) & (df['choice'] ==1)\n",
    "df['term2'] = (df['pctstck']== 100) & (df['choice'] ==0)\n",
    "\n",
    "df['term1'][df['term1'] == True] = 1\n",
    "df['term1'][df['term1'] == False] = 0\n",
    "df['term2'][df['term2'] == True] = 1\n",
    "df['term2'][df['term2'] == False] = 0\n",
    "\n",
    "df['term3'] = df['term1'] - df['term2']"
   ]
  },
  {
   "cell_type": "code",
   "execution_count": 35,
   "id": "d748ecdb",
   "metadata": {
    "ExecuteTime": {
     "end_time": "2022-11-06T14:45:54.409065Z",
     "start_time": "2022-11-06T14:45:54.389114Z"
    }
   },
   "outputs": [
    {
     "data": {
      "text/plain": [
       "0.08247422680412371"
      ]
     },
     "execution_count": 35,
     "metadata": {},
     "output_type": "execute_result"
    }
   ],
   "source": [
    "df['term3'].sum()/len(df)"
   ]
  }
 ],
 "metadata": {
  "kernelspec": {
   "display_name": "Python 3 (ipykernel)",
   "language": "python",
   "name": "python3"
  },
  "language_info": {
   "codemirror_mode": {
    "name": "ipython",
    "version": 3
   },
   "file_extension": ".py",
   "mimetype": "text/x-python",
   "name": "python",
   "nbconvert_exporter": "python",
   "pygments_lexer": "ipython3",
   "version": "3.9.16"
  },
  "toc": {
   "base_numbering": 1,
   "nav_menu": {},
   "number_sections": true,
   "sideBar": true,
   "skip_h1_title": false,
   "title_cell": "Table of Contents",
   "title_sidebar": "Contents",
   "toc_cell": false,
   "toc_position": {
    "height": "calc(100% - 180px)",
    "left": "10px",
    "top": "150px",
    "width": "246.667px"
   },
   "toc_section_display": true,
   "toc_window_display": true
  }
 },
 "nbformat": 4,
 "nbformat_minor": 5
}
