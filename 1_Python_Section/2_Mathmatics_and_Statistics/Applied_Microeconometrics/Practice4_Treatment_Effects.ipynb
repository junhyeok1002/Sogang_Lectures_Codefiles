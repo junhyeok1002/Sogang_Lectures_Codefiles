{
 "cells": [
  {
   "cell_type": "code",
   "execution_count": 1,
   "id": "0181e6ac",
   "metadata": {
    "ExecuteTime": {
     "end_time": "2022-12-12T15:24:05.902656Z",
     "start_time": "2022-12-12T15:24:00.971681Z"
    }
   },
   "outputs": [],
   "source": [
    "import numpy as np\n",
    "import matplotlib.pyplot as plt\n",
    "import pandas as pd\n",
    "import seaborn as sns\n",
    "import statsmodels.api as sm\n",
    "from statsmodels.formula.api import ols\n",
    "import warnings\n",
    "from linearmodels.iv import IV2SLS\n",
    "warnings.filterwarnings('ignore')\n",
    "%matplotlib inline"
   ]
  },
  {
   "cell_type": "markdown",
   "id": "6798af8d",
   "metadata": {},
   "source": [
    "# Local average treatment effects"
   ]
  },
  {
   "cell_type": "code",
   "execution_count": 2,
   "id": "255725e8",
   "metadata": {
    "ExecuteTime": {
     "end_time": "2022-12-12T15:24:08.626945Z",
     "start_time": "2022-12-12T15:24:05.905659Z"
    }
   },
   "outputs": [],
   "source": [
    "data = pd.read_excel('hw4_data.xlsx')\n",
    "df = data.copy()"
   ]
  },
  {
   "cell_type": "code",
   "execution_count": 3,
   "id": "6dc64e0a",
   "metadata": {
    "ExecuteTime": {
     "end_time": "2022-12-12T15:24:08.658476Z",
     "start_time": "2022-12-12T15:24:08.628952Z"
    }
   },
   "outputs": [
    {
     "data": {
      "text/html": [
       "<div>\n",
       "<style scoped>\n",
       "    .dataframe tbody tr th:only-of-type {\n",
       "        vertical-align: middle;\n",
       "    }\n",
       "\n",
       "    .dataframe tbody tr th {\n",
       "        vertical-align: top;\n",
       "    }\n",
       "\n",
       "    .dataframe thead th {\n",
       "        text-align: right;\n",
       "    }\n",
       "</style>\n",
       "<table border=\"1\" class=\"dataframe\">\n",
       "  <thead>\n",
       "    <tr style=\"text-align: right;\">\n",
       "      <th></th>\n",
       "      <th>z</th>\n",
       "      <th>d1</th>\n",
       "      <th>d0</th>\n",
       "      <th>d</th>\n",
       "      <th>y1</th>\n",
       "      <th>y0</th>\n",
       "      <th>y</th>\n",
       "    </tr>\n",
       "  </thead>\n",
       "  <tbody>\n",
       "    <tr>\n",
       "      <th>0</th>\n",
       "      <td>1</td>\n",
       "      <td>1</td>\n",
       "      <td>0</td>\n",
       "      <td>1</td>\n",
       "      <td>2.269907</td>\n",
       "      <td>0.484351</td>\n",
       "      <td>2.269907</td>\n",
       "    </tr>\n",
       "    <tr>\n",
       "      <th>1</th>\n",
       "      <td>0</td>\n",
       "      <td>0</td>\n",
       "      <td>0</td>\n",
       "      <td>0</td>\n",
       "      <td>3.549198</td>\n",
       "      <td>1.105060</td>\n",
       "      <td>1.105060</td>\n",
       "    </tr>\n",
       "    <tr>\n",
       "      <th>2</th>\n",
       "      <td>1</td>\n",
       "      <td>0</td>\n",
       "      <td>0</td>\n",
       "      <td>0</td>\n",
       "      <td>1.403377</td>\n",
       "      <td>0.814125</td>\n",
       "      <td>0.814125</td>\n",
       "    </tr>\n",
       "    <tr>\n",
       "      <th>3</th>\n",
       "      <td>0</td>\n",
       "      <td>1</td>\n",
       "      <td>0</td>\n",
       "      <td>0</td>\n",
       "      <td>1.648925</td>\n",
       "      <td>0.392743</td>\n",
       "      <td>0.392743</td>\n",
       "    </tr>\n",
       "    <tr>\n",
       "      <th>4</th>\n",
       "      <td>1</td>\n",
       "      <td>1</td>\n",
       "      <td>0</td>\n",
       "      <td>1</td>\n",
       "      <td>-0.354274</td>\n",
       "      <td>-0.752172</td>\n",
       "      <td>-0.354274</td>\n",
       "    </tr>\n",
       "    <tr>\n",
       "      <th>...</th>\n",
       "      <td>...</td>\n",
       "      <td>...</td>\n",
       "      <td>...</td>\n",
       "      <td>...</td>\n",
       "      <td>...</td>\n",
       "      <td>...</td>\n",
       "      <td>...</td>\n",
       "    </tr>\n",
       "    <tr>\n",
       "      <th>19995</th>\n",
       "      <td>1</td>\n",
       "      <td>0</td>\n",
       "      <td>0</td>\n",
       "      <td>0</td>\n",
       "      <td>1.307680</td>\n",
       "      <td>-0.340629</td>\n",
       "      <td>-0.340629</td>\n",
       "    </tr>\n",
       "    <tr>\n",
       "      <th>19996</th>\n",
       "      <td>1</td>\n",
       "      <td>0</td>\n",
       "      <td>0</td>\n",
       "      <td>0</td>\n",
       "      <td>4.273262</td>\n",
       "      <td>-0.225077</td>\n",
       "      <td>-0.225077</td>\n",
       "    </tr>\n",
       "    <tr>\n",
       "      <th>19997</th>\n",
       "      <td>1</td>\n",
       "      <td>0</td>\n",
       "      <td>0</td>\n",
       "      <td>0</td>\n",
       "      <td>3.735581</td>\n",
       "      <td>0.972001</td>\n",
       "      <td>0.972001</td>\n",
       "    </tr>\n",
       "    <tr>\n",
       "      <th>19998</th>\n",
       "      <td>1</td>\n",
       "      <td>1</td>\n",
       "      <td>0</td>\n",
       "      <td>1</td>\n",
       "      <td>-0.250311</td>\n",
       "      <td>-0.564228</td>\n",
       "      <td>-0.250311</td>\n",
       "    </tr>\n",
       "    <tr>\n",
       "      <th>19999</th>\n",
       "      <td>0</td>\n",
       "      <td>1</td>\n",
       "      <td>1</td>\n",
       "      <td>1</td>\n",
       "      <td>-2.452646</td>\n",
       "      <td>-1.312333</td>\n",
       "      <td>-2.452646</td>\n",
       "    </tr>\n",
       "  </tbody>\n",
       "</table>\n",
       "<p>20000 rows × 7 columns</p>\n",
       "</div>"
      ],
      "text/plain": [
       "       z  d1  d0  d        y1        y0         y\n",
       "0      1   1   0  1  2.269907  0.484351  2.269907\n",
       "1      0   0   0  0  3.549198  1.105060  1.105060\n",
       "2      1   0   0  0  1.403377  0.814125  0.814125\n",
       "3      0   1   0  0  1.648925  0.392743  0.392743\n",
       "4      1   1   0  1 -0.354274 -0.752172 -0.354274\n",
       "...   ..  ..  .. ..       ...       ...       ...\n",
       "19995  1   0   0  0  1.307680 -0.340629 -0.340629\n",
       "19996  1   0   0  0  4.273262 -0.225077 -0.225077\n",
       "19997  1   0   0  0  3.735581  0.972001  0.972001\n",
       "19998  1   1   0  1 -0.250311 -0.564228 -0.250311\n",
       "19999  0   1   1  1 -2.452646 -1.312333 -2.452646\n",
       "\n",
       "[20000 rows x 7 columns]"
      ]
     },
     "execution_count": 3,
     "metadata": {},
     "output_type": "execute_result"
    }
   ],
   "source": [
    "df"
   ]
  },
  {
   "cell_type": "markdown",
   "id": "6ce2492d",
   "metadata": {},
   "source": [
    "## Generate the treatment effect variable and calculate the average treatment effect from the generated variable (i.e., the ATE for the whole population)."
   ]
  },
  {
   "cell_type": "code",
   "execution_count": 4,
   "id": "f2258566",
   "metadata": {
    "ExecuteTime": {
     "end_time": "2022-12-12T15:24:08.674395Z",
     "start_time": "2022-12-12T15:24:08.660431Z"
    }
   },
   "outputs": [
    {
     "data": {
      "text/html": [
       "<div>\n",
       "<style scoped>\n",
       "    .dataframe tbody tr th:only-of-type {\n",
       "        vertical-align: middle;\n",
       "    }\n",
       "\n",
       "    .dataframe tbody tr th {\n",
       "        vertical-align: top;\n",
       "    }\n",
       "\n",
       "    .dataframe thead th {\n",
       "        text-align: right;\n",
       "    }\n",
       "</style>\n",
       "<table border=\"1\" class=\"dataframe\">\n",
       "  <thead>\n",
       "    <tr style=\"text-align: right;\">\n",
       "      <th></th>\n",
       "      <th>z</th>\n",
       "      <th>d1</th>\n",
       "      <th>d0</th>\n",
       "      <th>d</th>\n",
       "      <th>y1</th>\n",
       "      <th>y0</th>\n",
       "      <th>y</th>\n",
       "      <th>treatment_effect_variable</th>\n",
       "      <th>d1-d0</th>\n",
       "    </tr>\n",
       "  </thead>\n",
       "  <tbody>\n",
       "    <tr>\n",
       "      <th>0</th>\n",
       "      <td>1</td>\n",
       "      <td>1</td>\n",
       "      <td>0</td>\n",
       "      <td>1</td>\n",
       "      <td>2.269907</td>\n",
       "      <td>0.484351</td>\n",
       "      <td>2.269907</td>\n",
       "      <td>1.785556</td>\n",
       "      <td>1</td>\n",
       "    </tr>\n",
       "    <tr>\n",
       "      <th>1</th>\n",
       "      <td>0</td>\n",
       "      <td>0</td>\n",
       "      <td>0</td>\n",
       "      <td>0</td>\n",
       "      <td>3.549198</td>\n",
       "      <td>1.105060</td>\n",
       "      <td>1.105060</td>\n",
       "      <td>2.444138</td>\n",
       "      <td>0</td>\n",
       "    </tr>\n",
       "    <tr>\n",
       "      <th>2</th>\n",
       "      <td>1</td>\n",
       "      <td>0</td>\n",
       "      <td>0</td>\n",
       "      <td>0</td>\n",
       "      <td>1.403377</td>\n",
       "      <td>0.814125</td>\n",
       "      <td>0.814125</td>\n",
       "      <td>0.589252</td>\n",
       "      <td>0</td>\n",
       "    </tr>\n",
       "    <tr>\n",
       "      <th>3</th>\n",
       "      <td>0</td>\n",
       "      <td>1</td>\n",
       "      <td>0</td>\n",
       "      <td>0</td>\n",
       "      <td>1.648925</td>\n",
       "      <td>0.392743</td>\n",
       "      <td>0.392743</td>\n",
       "      <td>1.256181</td>\n",
       "      <td>1</td>\n",
       "    </tr>\n",
       "    <tr>\n",
       "      <th>4</th>\n",
       "      <td>1</td>\n",
       "      <td>1</td>\n",
       "      <td>0</td>\n",
       "      <td>1</td>\n",
       "      <td>-0.354274</td>\n",
       "      <td>-0.752172</td>\n",
       "      <td>-0.354274</td>\n",
       "      <td>0.397898</td>\n",
       "      <td>1</td>\n",
       "    </tr>\n",
       "  </tbody>\n",
       "</table>\n",
       "</div>"
      ],
      "text/plain": [
       "   z  d1  d0  d        y1        y0         y  treatment_effect_variable  \\\n",
       "0  1   1   0  1  2.269907  0.484351  2.269907                   1.785556   \n",
       "1  0   0   0  0  3.549198  1.105060  1.105060                   2.444138   \n",
       "2  1   0   0  0  1.403377  0.814125  0.814125                   0.589252   \n",
       "3  0   1   0  0  1.648925  0.392743  0.392743                   1.256181   \n",
       "4  1   1   0  1 -0.354274 -0.752172 -0.354274                   0.397898   \n",
       "\n",
       "   d1-d0  \n",
       "0      1  \n",
       "1      0  \n",
       "2      0  \n",
       "3      1  \n",
       "4      1  "
      ]
     },
     "execution_count": 4,
     "metadata": {},
     "output_type": "execute_result"
    }
   ],
   "source": [
    "# Generate the treatment effect variable\n",
    "df['treatment_effect_variable'] = df['y1'] - df['y0']\n",
    "df['d1-d0'] = df['d1'] - df['d0']\n",
    "df.head()"
   ]
  },
  {
   "cell_type": "code",
   "execution_count": 5,
   "id": "885aca6f",
   "metadata": {
    "ExecuteTime": {
     "end_time": "2022-12-12T15:24:08.690354Z",
     "start_time": "2022-12-12T15:24:08.679382Z"
    }
   },
   "outputs": [
    {
     "data": {
      "text/plain": [
       "1.0060516975986729"
      ]
     },
     "execution_count": 5,
     "metadata": {},
     "output_type": "execute_result"
    }
   ],
   "source": [
    "# average treatment effect for the whole population\n",
    "df['treatment_effect_variable'].mean()"
   ]
  },
  {
   "cell_type": "code",
   "execution_count": 6,
   "id": "275378ba",
   "metadata": {
    "ExecuteTime": {
     "end_time": "2022-12-12T15:24:08.722300Z",
     "start_time": "2022-12-12T15:24:08.693343Z"
    }
   },
   "outputs": [
    {
     "data": {
      "text/html": [
       "<div>\n",
       "<style scoped>\n",
       "    .dataframe tbody tr th:only-of-type {\n",
       "        vertical-align: middle;\n",
       "    }\n",
       "\n",
       "    .dataframe tbody tr th {\n",
       "        vertical-align: top;\n",
       "    }\n",
       "\n",
       "    .dataframe thead th {\n",
       "        text-align: right;\n",
       "    }\n",
       "</style>\n",
       "<table border=\"1\" class=\"dataframe\">\n",
       "  <thead>\n",
       "    <tr style=\"text-align: right;\">\n",
       "      <th></th>\n",
       "      <th>z</th>\n",
       "      <th>d1</th>\n",
       "      <th>d0</th>\n",
       "      <th>d</th>\n",
       "      <th>y1</th>\n",
       "      <th>y0</th>\n",
       "      <th>y</th>\n",
       "      <th>treatment_effect_variable</th>\n",
       "      <th>d1-d0</th>\n",
       "    </tr>\n",
       "  </thead>\n",
       "  <tbody>\n",
       "    <tr>\n",
       "      <th>0</th>\n",
       "      <td>1</td>\n",
       "      <td>1</td>\n",
       "      <td>0</td>\n",
       "      <td>1</td>\n",
       "      <td>2.269907</td>\n",
       "      <td>0.484351</td>\n",
       "      <td>2.269907</td>\n",
       "      <td>1.785556</td>\n",
       "      <td>1</td>\n",
       "    </tr>\n",
       "    <tr>\n",
       "      <th>1</th>\n",
       "      <td>0</td>\n",
       "      <td>0</td>\n",
       "      <td>0</td>\n",
       "      <td>0</td>\n",
       "      <td>3.549198</td>\n",
       "      <td>1.105060</td>\n",
       "      <td>1.105060</td>\n",
       "      <td>2.444138</td>\n",
       "      <td>0</td>\n",
       "    </tr>\n",
       "    <tr>\n",
       "      <th>2</th>\n",
       "      <td>1</td>\n",
       "      <td>0</td>\n",
       "      <td>0</td>\n",
       "      <td>0</td>\n",
       "      <td>1.403377</td>\n",
       "      <td>0.814125</td>\n",
       "      <td>0.814125</td>\n",
       "      <td>0.589252</td>\n",
       "      <td>0</td>\n",
       "    </tr>\n",
       "    <tr>\n",
       "      <th>3</th>\n",
       "      <td>0</td>\n",
       "      <td>1</td>\n",
       "      <td>0</td>\n",
       "      <td>0</td>\n",
       "      <td>1.648925</td>\n",
       "      <td>0.392743</td>\n",
       "      <td>0.392743</td>\n",
       "      <td>1.256181</td>\n",
       "      <td>1</td>\n",
       "    </tr>\n",
       "    <tr>\n",
       "      <th>4</th>\n",
       "      <td>1</td>\n",
       "      <td>1</td>\n",
       "      <td>0</td>\n",
       "      <td>1</td>\n",
       "      <td>-0.354274</td>\n",
       "      <td>-0.752172</td>\n",
       "      <td>-0.354274</td>\n",
       "      <td>0.397898</td>\n",
       "      <td>1</td>\n",
       "    </tr>\n",
       "    <tr>\n",
       "      <th>...</th>\n",
       "      <td>...</td>\n",
       "      <td>...</td>\n",
       "      <td>...</td>\n",
       "      <td>...</td>\n",
       "      <td>...</td>\n",
       "      <td>...</td>\n",
       "      <td>...</td>\n",
       "      <td>...</td>\n",
       "      <td>...</td>\n",
       "    </tr>\n",
       "    <tr>\n",
       "      <th>19995</th>\n",
       "      <td>1</td>\n",
       "      <td>0</td>\n",
       "      <td>0</td>\n",
       "      <td>0</td>\n",
       "      <td>1.307680</td>\n",
       "      <td>-0.340629</td>\n",
       "      <td>-0.340629</td>\n",
       "      <td>1.648310</td>\n",
       "      <td>0</td>\n",
       "    </tr>\n",
       "    <tr>\n",
       "      <th>19996</th>\n",
       "      <td>1</td>\n",
       "      <td>0</td>\n",
       "      <td>0</td>\n",
       "      <td>0</td>\n",
       "      <td>4.273262</td>\n",
       "      <td>-0.225077</td>\n",
       "      <td>-0.225077</td>\n",
       "      <td>4.498339</td>\n",
       "      <td>0</td>\n",
       "    </tr>\n",
       "    <tr>\n",
       "      <th>19997</th>\n",
       "      <td>1</td>\n",
       "      <td>0</td>\n",
       "      <td>0</td>\n",
       "      <td>0</td>\n",
       "      <td>3.735581</td>\n",
       "      <td>0.972001</td>\n",
       "      <td>0.972001</td>\n",
       "      <td>2.763580</td>\n",
       "      <td>0</td>\n",
       "    </tr>\n",
       "    <tr>\n",
       "      <th>19998</th>\n",
       "      <td>1</td>\n",
       "      <td>1</td>\n",
       "      <td>0</td>\n",
       "      <td>1</td>\n",
       "      <td>-0.250311</td>\n",
       "      <td>-0.564228</td>\n",
       "      <td>-0.250311</td>\n",
       "      <td>0.313917</td>\n",
       "      <td>1</td>\n",
       "    </tr>\n",
       "    <tr>\n",
       "      <th>19999</th>\n",
       "      <td>0</td>\n",
       "      <td>1</td>\n",
       "      <td>1</td>\n",
       "      <td>1</td>\n",
       "      <td>-2.452646</td>\n",
       "      <td>-1.312333</td>\n",
       "      <td>-2.452646</td>\n",
       "      <td>-1.140313</td>\n",
       "      <td>0</td>\n",
       "    </tr>\n",
       "  </tbody>\n",
       "</table>\n",
       "<p>20000 rows × 9 columns</p>\n",
       "</div>"
      ],
      "text/plain": [
       "       z  d1  d0  d        y1        y0         y  treatment_effect_variable  \\\n",
       "0      1   1   0  1  2.269907  0.484351  2.269907                   1.785556   \n",
       "1      0   0   0  0  3.549198  1.105060  1.105060                   2.444138   \n",
       "2      1   0   0  0  1.403377  0.814125  0.814125                   0.589252   \n",
       "3      0   1   0  0  1.648925  0.392743  0.392743                   1.256181   \n",
       "4      1   1   0  1 -0.354274 -0.752172 -0.354274                   0.397898   \n",
       "...   ..  ..  .. ..       ...       ...       ...                        ...   \n",
       "19995  1   0   0  0  1.307680 -0.340629 -0.340629                   1.648310   \n",
       "19996  1   0   0  0  4.273262 -0.225077 -0.225077                   4.498339   \n",
       "19997  1   0   0  0  3.735581  0.972001  0.972001                   2.763580   \n",
       "19998  1   1   0  1 -0.250311 -0.564228 -0.250311                   0.313917   \n",
       "19999  0   1   1  1 -2.452646 -1.312333 -2.452646                  -1.140313   \n",
       "\n",
       "       d1-d0  \n",
       "0          1  \n",
       "1          0  \n",
       "2          0  \n",
       "3          1  \n",
       "4          1  \n",
       "...      ...  \n",
       "19995      0  \n",
       "19996      0  \n",
       "19997      0  \n",
       "19998      1  \n",
       "19999      0  \n",
       "\n",
       "[20000 rows x 9 columns]"
      ]
     },
     "execution_count": 6,
     "metadata": {},
     "output_type": "execute_result"
    }
   ],
   "source": [
    "df"
   ]
  },
  {
   "cell_type": "markdown",
   "id": "1d995def",
   "metadata": {},
   "source": [
    "##  Generate the following four dummy variables"
   ]
  },
  {
   "cell_type": "code",
   "execution_count": 7,
   "id": "af1db48b",
   "metadata": {
    "ExecuteTime": {
     "end_time": "2022-12-12T15:24:08.754221Z",
     "start_time": "2022-12-12T15:24:08.725261Z"
    }
   },
   "outputs": [],
   "source": [
    "df[\"NT\"] = 0 \n",
    "df[\"DF\"] = 0\n",
    "df[\"COMP\"] = 0\n",
    "df[\"AT\"] = 0 \n",
    "\n",
    "df[\"NT\"][(df['d1']==0) & (df['d0'] == 0)] = 1 # Never Taker\n",
    "df[\"DF\"][(df['d1']==0) & (df['d0'] == 1)] = 1 # Defier\n",
    "df[\"COMP\"][(df['d1']==1) & (df['d0'] == 0)] = 1 # Complier\n",
    "df[\"AT\"][(df['d1']==1) & (df['d0'] == 1)] = 1 # Always Taker"
   ]
  },
  {
   "cell_type": "code",
   "execution_count": 8,
   "id": "cd3527e7",
   "metadata": {
    "ExecuteTime": {
     "end_time": "2022-12-12T15:24:08.786096Z",
     "start_time": "2022-12-12T15:24:08.759168Z"
    }
   },
   "outputs": [
    {
     "data": {
      "text/html": [
       "<div>\n",
       "<style scoped>\n",
       "    .dataframe tbody tr th:only-of-type {\n",
       "        vertical-align: middle;\n",
       "    }\n",
       "\n",
       "    .dataframe tbody tr th {\n",
       "        vertical-align: top;\n",
       "    }\n",
       "\n",
       "    .dataframe thead th {\n",
       "        text-align: right;\n",
       "    }\n",
       "</style>\n",
       "<table border=\"1\" class=\"dataframe\">\n",
       "  <thead>\n",
       "    <tr style=\"text-align: right;\">\n",
       "      <th></th>\n",
       "      <th>z</th>\n",
       "      <th>d1</th>\n",
       "      <th>d0</th>\n",
       "      <th>d</th>\n",
       "      <th>y1</th>\n",
       "      <th>y0</th>\n",
       "      <th>y</th>\n",
       "      <th>treatment_effect_variable</th>\n",
       "      <th>d1-d0</th>\n",
       "      <th>NT</th>\n",
       "      <th>DF</th>\n",
       "      <th>COMP</th>\n",
       "      <th>AT</th>\n",
       "    </tr>\n",
       "  </thead>\n",
       "  <tbody>\n",
       "    <tr>\n",
       "      <th>0</th>\n",
       "      <td>1</td>\n",
       "      <td>1</td>\n",
       "      <td>0</td>\n",
       "      <td>1</td>\n",
       "      <td>2.269907</td>\n",
       "      <td>0.484351</td>\n",
       "      <td>2.269907</td>\n",
       "      <td>1.785556</td>\n",
       "      <td>1</td>\n",
       "      <td>0</td>\n",
       "      <td>0</td>\n",
       "      <td>1</td>\n",
       "      <td>0</td>\n",
       "    </tr>\n",
       "    <tr>\n",
       "      <th>1</th>\n",
       "      <td>0</td>\n",
       "      <td>0</td>\n",
       "      <td>0</td>\n",
       "      <td>0</td>\n",
       "      <td>3.549198</td>\n",
       "      <td>1.105060</td>\n",
       "      <td>1.105060</td>\n",
       "      <td>2.444138</td>\n",
       "      <td>0</td>\n",
       "      <td>1</td>\n",
       "      <td>0</td>\n",
       "      <td>0</td>\n",
       "      <td>0</td>\n",
       "    </tr>\n",
       "    <tr>\n",
       "      <th>2</th>\n",
       "      <td>1</td>\n",
       "      <td>0</td>\n",
       "      <td>0</td>\n",
       "      <td>0</td>\n",
       "      <td>1.403377</td>\n",
       "      <td>0.814125</td>\n",
       "      <td>0.814125</td>\n",
       "      <td>0.589252</td>\n",
       "      <td>0</td>\n",
       "      <td>1</td>\n",
       "      <td>0</td>\n",
       "      <td>0</td>\n",
       "      <td>0</td>\n",
       "    </tr>\n",
       "    <tr>\n",
       "      <th>3</th>\n",
       "      <td>0</td>\n",
       "      <td>1</td>\n",
       "      <td>0</td>\n",
       "      <td>0</td>\n",
       "      <td>1.648925</td>\n",
       "      <td>0.392743</td>\n",
       "      <td>0.392743</td>\n",
       "      <td>1.256181</td>\n",
       "      <td>1</td>\n",
       "      <td>0</td>\n",
       "      <td>0</td>\n",
       "      <td>1</td>\n",
       "      <td>0</td>\n",
       "    </tr>\n",
       "    <tr>\n",
       "      <th>4</th>\n",
       "      <td>1</td>\n",
       "      <td>1</td>\n",
       "      <td>0</td>\n",
       "      <td>1</td>\n",
       "      <td>-0.354274</td>\n",
       "      <td>-0.752172</td>\n",
       "      <td>-0.354274</td>\n",
       "      <td>0.397898</td>\n",
       "      <td>1</td>\n",
       "      <td>0</td>\n",
       "      <td>0</td>\n",
       "      <td>1</td>\n",
       "      <td>0</td>\n",
       "    </tr>\n",
       "    <tr>\n",
       "      <th>...</th>\n",
       "      <td>...</td>\n",
       "      <td>...</td>\n",
       "      <td>...</td>\n",
       "      <td>...</td>\n",
       "      <td>...</td>\n",
       "      <td>...</td>\n",
       "      <td>...</td>\n",
       "      <td>...</td>\n",
       "      <td>...</td>\n",
       "      <td>...</td>\n",
       "      <td>...</td>\n",
       "      <td>...</td>\n",
       "      <td>...</td>\n",
       "    </tr>\n",
       "    <tr>\n",
       "      <th>19995</th>\n",
       "      <td>1</td>\n",
       "      <td>0</td>\n",
       "      <td>0</td>\n",
       "      <td>0</td>\n",
       "      <td>1.307680</td>\n",
       "      <td>-0.340629</td>\n",
       "      <td>-0.340629</td>\n",
       "      <td>1.648310</td>\n",
       "      <td>0</td>\n",
       "      <td>1</td>\n",
       "      <td>0</td>\n",
       "      <td>0</td>\n",
       "      <td>0</td>\n",
       "    </tr>\n",
       "    <tr>\n",
       "      <th>19996</th>\n",
       "      <td>1</td>\n",
       "      <td>0</td>\n",
       "      <td>0</td>\n",
       "      <td>0</td>\n",
       "      <td>4.273262</td>\n",
       "      <td>-0.225077</td>\n",
       "      <td>-0.225077</td>\n",
       "      <td>4.498339</td>\n",
       "      <td>0</td>\n",
       "      <td>1</td>\n",
       "      <td>0</td>\n",
       "      <td>0</td>\n",
       "      <td>0</td>\n",
       "    </tr>\n",
       "    <tr>\n",
       "      <th>19997</th>\n",
       "      <td>1</td>\n",
       "      <td>0</td>\n",
       "      <td>0</td>\n",
       "      <td>0</td>\n",
       "      <td>3.735581</td>\n",
       "      <td>0.972001</td>\n",
       "      <td>0.972001</td>\n",
       "      <td>2.763580</td>\n",
       "      <td>0</td>\n",
       "      <td>1</td>\n",
       "      <td>0</td>\n",
       "      <td>0</td>\n",
       "      <td>0</td>\n",
       "    </tr>\n",
       "    <tr>\n",
       "      <th>19998</th>\n",
       "      <td>1</td>\n",
       "      <td>1</td>\n",
       "      <td>0</td>\n",
       "      <td>1</td>\n",
       "      <td>-0.250311</td>\n",
       "      <td>-0.564228</td>\n",
       "      <td>-0.250311</td>\n",
       "      <td>0.313917</td>\n",
       "      <td>1</td>\n",
       "      <td>0</td>\n",
       "      <td>0</td>\n",
       "      <td>1</td>\n",
       "      <td>0</td>\n",
       "    </tr>\n",
       "    <tr>\n",
       "      <th>19999</th>\n",
       "      <td>0</td>\n",
       "      <td>1</td>\n",
       "      <td>1</td>\n",
       "      <td>1</td>\n",
       "      <td>-2.452646</td>\n",
       "      <td>-1.312333</td>\n",
       "      <td>-2.452646</td>\n",
       "      <td>-1.140313</td>\n",
       "      <td>0</td>\n",
       "      <td>0</td>\n",
       "      <td>0</td>\n",
       "      <td>0</td>\n",
       "      <td>1</td>\n",
       "    </tr>\n",
       "  </tbody>\n",
       "</table>\n",
       "<p>20000 rows × 13 columns</p>\n",
       "</div>"
      ],
      "text/plain": [
       "       z  d1  d0  d        y1        y0         y  treatment_effect_variable  \\\n",
       "0      1   1   0  1  2.269907  0.484351  2.269907                   1.785556   \n",
       "1      0   0   0  0  3.549198  1.105060  1.105060                   2.444138   \n",
       "2      1   0   0  0  1.403377  0.814125  0.814125                   0.589252   \n",
       "3      0   1   0  0  1.648925  0.392743  0.392743                   1.256181   \n",
       "4      1   1   0  1 -0.354274 -0.752172 -0.354274                   0.397898   \n",
       "...   ..  ..  .. ..       ...       ...       ...                        ...   \n",
       "19995  1   0   0  0  1.307680 -0.340629 -0.340629                   1.648310   \n",
       "19996  1   0   0  0  4.273262 -0.225077 -0.225077                   4.498339   \n",
       "19997  1   0   0  0  3.735581  0.972001  0.972001                   2.763580   \n",
       "19998  1   1   0  1 -0.250311 -0.564228 -0.250311                   0.313917   \n",
       "19999  0   1   1  1 -2.452646 -1.312333 -2.452646                  -1.140313   \n",
       "\n",
       "       d1-d0  NT  DF  COMP  AT  \n",
       "0          1   0   0     1   0  \n",
       "1          0   1   0     0   0  \n",
       "2          0   1   0     0   0  \n",
       "3          1   0   0     1   0  \n",
       "4          1   0   0     1   0  \n",
       "...      ...  ..  ..   ...  ..  \n",
       "19995      0   1   0     0   0  \n",
       "19996      0   1   0     0   0  \n",
       "19997      0   1   0     0   0  \n",
       "19998      1   0   0     1   0  \n",
       "19999      0   0   0     0   1  \n",
       "\n",
       "[20000 rows x 13 columns]"
      ]
     },
     "execution_count": 8,
     "metadata": {},
     "output_type": "execute_result"
    }
   ],
   "source": [
    "df"
   ]
  },
  {
   "cell_type": "markdown",
   "id": "76b50483",
   "metadata": {},
   "source": [
    "## Report the proportions of always-takers, compliers, defiers, and never-takers."
   ]
  },
  {
   "cell_type": "code",
   "execution_count": 9,
   "id": "50995a48",
   "metadata": {
    "ExecuteTime": {
     "end_time": "2022-12-12T15:24:08.802090Z",
     "start_time": "2022-12-12T15:24:08.788091Z"
    }
   },
   "outputs": [],
   "source": [
    "never_takers_proportion = len(df[df[\"NT\"] == 1])/len(df)\n",
    "defiers_proportion = len(df[df[\"DF\"] == 1])/len(df)\n",
    "compliers_proportion = len(df[df[\"COMP\"] == 1])/len(df)\n",
    "alwaystakers_proportion = len(df[df[\"AT\"] == 1])/len(df)\n",
    "proportions = [never_takers_proportion, defiers_proportion, compliers_proportion, alwaystakers_proportion]\n",
    "names = ['never_takers_proportion', 'defiers_proportion', 'compliers_proportion', 'alwaystakers_proportion']"
   ]
  },
  {
   "cell_type": "code",
   "execution_count": 10,
   "id": "76e4a448",
   "metadata": {
    "ExecuteTime": {
     "end_time": "2022-12-12T15:24:08.818044Z",
     "start_time": "2022-12-12T15:24:08.804048Z"
    }
   },
   "outputs": [
    {
     "name": "stdout",
     "output_type": "stream",
     "text": [
      "never_takers_proportion = 0.50055\n",
      "defiers_proportion = 0.0\n",
      "compliers_proportion = 0.3398\n",
      "alwaystakers_proportion = 0.15965\n"
     ]
    }
   ],
   "source": [
    "for i in range(len(proportions)):\n",
    "    print(f\"{names[i]} = {proportions[i]}\")"
   ]
  },
  {
   "cell_type": "markdown",
   "id": "82b08c37",
   "metadata": {},
   "source": [
    "## Report the ATE for always-takers"
   ]
  },
  {
   "cell_type": "code",
   "execution_count": 11,
   "id": "c39ac5d4",
   "metadata": {
    "ExecuteTime": {
     "end_time": "2022-12-12T15:24:08.834007Z",
     "start_time": "2022-12-12T15:24:08.821003Z"
    }
   },
   "outputs": [
    {
     "data": {
      "text/plain": [
       "-0.5051438462357073"
      ]
     },
     "execution_count": 11,
     "metadata": {},
     "output_type": "execute_result"
    }
   ],
   "source": [
    "# average treatment effect for always_takers\n",
    "df[df['AT'] == 1]['treatment_effect_variable'].mean()"
   ]
  },
  {
   "cell_type": "markdown",
   "id": "9574ba81",
   "metadata": {},
   "source": [
    "## Report the ATE effect for never-takers."
   ]
  },
  {
   "cell_type": "code",
   "execution_count": 12,
   "id": "95afee90",
   "metadata": {
    "ExecuteTime": {
     "end_time": "2022-12-12T15:24:08.849956Z",
     "start_time": "2022-12-12T15:24:08.835963Z"
    }
   },
   "outputs": [
    {
     "data": {
      "text/plain": [
       "1.7963490987235717"
      ]
     },
     "execution_count": 12,
     "metadata": {},
     "output_type": "execute_result"
    }
   ],
   "source": [
    "# average treatment effect for never-takers\n",
    "df[df['NT'] == 1]['treatment_effect_variable'].mean()"
   ]
  },
  {
   "cell_type": "markdown",
   "id": "e833280c",
   "metadata": {},
   "source": [
    "## Report the ATE for compliers."
   ]
  },
  {
   "cell_type": "code",
   "execution_count": 13,
   "id": "4f7811ac",
   "metadata": {
    "ExecuteTime": {
     "end_time": "2022-12-12T15:24:08.865881Z",
     "start_time": "2022-12-12T15:24:08.851919Z"
    }
   },
   "outputs": [
    {
     "data": {
      "text/plain": [
       "0.5518992680521332"
      ]
     },
     "execution_count": 13,
     "metadata": {},
     "output_type": "execute_result"
    }
   ],
   "source": [
    "# average treatment effect for compliers\n",
    "df[df['COMP'] == 1]['treatment_effect_variable'].mean()"
   ]
  },
  {
   "cell_type": "markdown",
   "id": "a32653ff",
   "metadata": {},
   "source": [
    "## Run OLS of y on d. Is the estimated coefficient on d similar to any ATE?\n",
    "- ans : NO"
   ]
  },
  {
   "cell_type": "code",
   "execution_count": 14,
   "id": "2f1cd370",
   "metadata": {
    "ExecuteTime": {
     "end_time": "2022-12-12T15:24:08.929711Z",
     "start_time": "2022-12-12T15:24:08.867878Z"
    }
   },
   "outputs": [
    {
     "data": {
      "text/html": [
       "<table class=\"simpletable\">\n",
       "<tr>\n",
       "      <td></td>         <th>coef</th>     <th>std err</th>      <th>t</th>      <th>P>|t|</th>  <th>[0.025</th>    <th>0.975]</th>  \n",
       "</tr>\n",
       "<tr>\n",
       "  <th>Intercept</th> <td>    0.0648</td> <td>    0.011</td> <td>    5.845</td> <td> 0.000</td> <td>    0.043</td> <td>    0.087</td>\n",
       "</tr>\n",
       "<tr>\n",
       "  <th>d</th>         <td>   -0.3524</td> <td>    0.018</td> <td>  -19.157</td> <td> 0.000</td> <td>   -0.388</td> <td>   -0.316</td>\n",
       "</tr>\n",
       "</table>"
      ],
      "text/plain": [
       "<class 'statsmodels.iolib.table.SimpleTable'>"
      ]
     },
     "execution_count": 14,
     "metadata": {},
     "output_type": "execute_result"
    }
   ],
   "source": [
    "model = ols('y ~ d', df).fit()\n",
    "model.summary().tables[1]"
   ]
  },
  {
   "cell_type": "markdown",
   "id": "7b6faf4d",
   "metadata": {},
   "source": [
    "## Perform an IV regression of y on d by using z as an instrumental variable. Is the estimated coefficient on d similar to the ATE for compliers?\n",
    "- ans : Yes\n"
   ]
  },
  {
   "cell_type": "code",
   "execution_count": 15,
   "id": "a7e0738f",
   "metadata": {
    "ExecuteTime": {
     "end_time": "2022-12-12T15:24:08.975587Z",
     "start_time": "2022-12-12T15:24:08.931705Z"
    }
   },
   "outputs": [],
   "source": [
    "# first stage model(Z -> T)\n",
    "stage1_model = ols('d ~ z', df).fit()\n",
    "# reduced model(Z -> Y)\n",
    "reduced_model = ols('y ~ z', data).fit()"
   ]
  },
  {
   "cell_type": "code",
   "execution_count": 16,
   "id": "14a0056e",
   "metadata": {
    "ExecuteTime": {
     "end_time": "2022-12-12T15:24:09.007502Z",
     "start_time": "2022-12-12T15:24:08.977583Z"
    }
   },
   "outputs": [
    {
     "data": {
      "text/html": [
       "<table class=\"simpletable\">\n",
       "<tr>\n",
       "      <td></td>         <th>coef</th>     <th>std err</th>      <th>t</th>      <th>P>|t|</th>  <th>[0.025</th>    <th>0.975]</th>  \n",
       "</tr>\n",
       "<tr>\n",
       "  <th>Intercept</th> <td>    0.1570</td> <td>    0.005</td> <td>   31.188</td> <td> 0.000</td> <td>    0.147</td> <td>    0.167</td>\n",
       "</tr>\n",
       "<tr>\n",
       "  <th>z</th>         <td>    0.3447</td> <td>    0.007</td> <td>   53.016</td> <td> 0.000</td> <td>    0.332</td> <td>    0.357</td>\n",
       "</tr>\n",
       "</table>"
      ],
      "text/plain": [
       "<class 'statsmodels.iolib.table.SimpleTable'>"
      ]
     },
     "execution_count": 16,
     "metadata": {},
     "output_type": "execute_result"
    }
   ],
   "source": [
    "# first stage model\n",
    "stage1_model.summary().tables[1]"
   ]
  },
  {
   "cell_type": "code",
   "execution_count": 17,
   "id": "919ab776",
   "metadata": {
    "ExecuteTime": {
     "end_time": "2022-12-12T15:24:09.037427Z",
     "start_time": "2022-12-12T15:24:09.010496Z"
    }
   },
   "outputs": [
    {
     "data": {
      "text/html": [
       "<table class=\"simpletable\">\n",
       "<tr>\n",
       "      <td></td>         <th>coef</th>     <th>std err</th>      <th>t</th>      <th>P>|t|</th>  <th>[0.025</th>    <th>0.975]</th>  \n",
       "</tr>\n",
       "<tr>\n",
       "  <th>Intercept</th> <td>   -0.1781</td> <td>    0.014</td> <td>  -12.651</td> <td> 0.000</td> <td>   -0.206</td> <td>   -0.150</td>\n",
       "</tr>\n",
       "<tr>\n",
       "  <th>z</th>         <td>    0.1913</td> <td>    0.018</td> <td>   10.524</td> <td> 0.000</td> <td>    0.156</td> <td>    0.227</td>\n",
       "</tr>\n",
       "</table>"
      ],
      "text/plain": [
       "<class 'statsmodels.iolib.table.SimpleTable'>"
      ]
     },
     "execution_count": 17,
     "metadata": {},
     "output_type": "execute_result"
    }
   ],
   "source": [
    "# reduced model\n",
    "reduced_model.summary().tables[1]"
   ]
  },
  {
   "cell_type": "code",
   "execution_count": 18,
   "id": "9ed1573c",
   "metadata": {
    "ExecuteTime": {
     "end_time": "2022-12-12T15:24:09.052384Z",
     "start_time": "2022-12-12T15:24:09.040415Z"
    }
   },
   "outputs": [
    {
     "data": {
      "text/plain": [
       "0.5549753408761241"
      ]
     },
     "execution_count": 18,
     "metadata": {},
     "output_type": "execute_result"
    }
   ],
   "source": [
    "_2SLS = 0.1913 / 0.3447\n",
    "_2SLS"
   ]
  },
  {
   "cell_type": "code",
   "execution_count": 19,
   "id": "87d2ee12",
   "metadata": {
    "ExecuteTime": {
     "end_time": "2022-12-12T15:24:09.080308Z",
     "start_time": "2022-12-12T15:24:09.056380Z"
    }
   },
   "outputs": [
    {
     "data": {
      "text/plain": [
       "0.5518992680521332"
      ]
     },
     "execution_count": 19,
     "metadata": {},
     "output_type": "execute_result"
    }
   ],
   "source": [
    "# average treatment effect for compliers\n",
    "df[df['COMP'] == 1]['treatment_effect_variable'].mean()"
   ]
  },
  {
   "cell_type": "markdown",
   "id": "2cab7606",
   "metadata": {},
   "source": [
    "## Calculate the Wald estimator and verify that the Wald estimate is equivalent to the 2SLS estimator from the previous question. You can obtain the Wald estimate by computing the four conditional means."
   ]
  },
  {
   "cell_type": "code",
   "execution_count": 20,
   "id": "2f898393",
   "metadata": {
    "ExecuteTime": {
     "end_time": "2022-12-12T15:24:09.099258Z",
     "start_time": "2022-12-12T15:24:09.083301Z"
    }
   },
   "outputs": [
    {
     "data": {
      "text/plain": [
       "0.5549258842110272"
      ]
     },
     "execution_count": 20,
     "metadata": {},
     "output_type": "execute_result"
    }
   ],
   "source": [
    "E_Y_Z1 = df[df['z'] == 1]['y'].mean()\n",
    "E_Y_Z0 = df[df['z'] == 0]['y'].mean()\n",
    "E_D_Z1 = df[df['z'] == 1]['d'].mean()\n",
    "E_D_Z0 = df[df['z'] == 0]['d'].mean()\n",
    "\n",
    "Wald = (E_Y_Z1 - E_Y_Z0) / (E_D_Z1 - E_D_Z0)\n",
    "Wald"
   ]
  },
  {
   "cell_type": "code",
   "execution_count": 21,
   "id": "ff9a00bd",
   "metadata": {
    "ExecuteTime": {
     "end_time": "2022-12-12T15:24:09.114225Z",
     "start_time": "2022-12-12T15:24:09.102249Z"
    }
   },
   "outputs": [
    {
     "data": {
      "text/plain": [
       "True"
      ]
     },
     "execution_count": 21,
     "metadata": {},
     "output_type": "execute_result"
    }
   ],
   "source": [
    "# 둘은 거의 같다고 볼 수 있다.\n",
    "round(_2SLS,3) == round(Wald,3)"
   ]
  }
 ],
 "metadata": {
  "kernelspec": {
   "display_name": "Python 3 (ipykernel)",
   "language": "python",
   "name": "python3"
  },
  "language_info": {
   "codemirror_mode": {
    "name": "ipython",
    "version": 3
   },
   "file_extension": ".py",
   "mimetype": "text/x-python",
   "name": "python",
   "nbconvert_exporter": "python",
   "pygments_lexer": "ipython3",
   "version": "3.9.16"
  },
  "toc": {
   "base_numbering": 1,
   "nav_menu": {},
   "number_sections": true,
   "sideBar": true,
   "skip_h1_title": false,
   "title_cell": "Table of Contents",
   "title_sidebar": "Contents",
   "toc_cell": false,
   "toc_position": {
    "height": "calc(100% - 180px)",
    "left": "10px",
    "top": "150px",
    "width": "254.396px"
   },
   "toc_section_display": true,
   "toc_window_display": true
  }
 },
 "nbformat": 4,
 "nbformat_minor": 5
}
