{
 "cells": [
  {
   "cell_type": "markdown",
   "id": "1454248d",
   "metadata": {},
   "source": [
    "20180634_최준혁_과제1번"
   ]
  },
  {
   "cell_type": "code",
   "execution_count": 1,
   "id": "4f49cd6c",
   "metadata": {
    "ExecuteTime": {
     "end_time": "2023-10-05T13:07:31.514443Z",
     "start_time": "2023-10-05T13:07:27.394812Z"
    }
   },
   "outputs": [],
   "source": [
    "import numpy as np\n",
    "import matplotlib.pyplot as plt\n",
    "import pandas as pd\n",
    "from statsmodels.tsa import stattools\n",
    "import FinanceDataReader as fdr\n",
    "import datetime"
   ]
  },
  {
   "cell_type": "markdown",
   "id": "22d55073",
   "metadata": {},
   "source": [
    "Using Python, perform the following for the KOSPI index returns during the\n",
    "period 2021:01:02-2021:12:30 (on the basis of daily, closing prices; data available\n",
    "at https://ecos.bok.or.kr/áex/EasySearch.jsp)."
   ]
  },
  {
   "cell_type": "code",
   "execution_count": 2,
   "id": "6e2322e2",
   "metadata": {
    "ExecuteTime": {
     "end_time": "2023-10-05T13:07:31.996258Z",
     "start_time": "2023-10-05T13:07:31.520423Z"
    },
    "scrolled": true
   },
   "outputs": [],
   "source": [
    "s = datetime.datetime(2021,1,2)\n",
    "e = datetime.datetime(2021,12,30)\n",
    "data = fdr.DataReader(\"^KS11\",s,e)\n",
    "df = data['Close'].dropna()"
   ]
  },
  {
   "cell_type": "code",
   "execution_count": 3,
   "id": "e99f1ded",
   "metadata": {
    "ExecuteTime": {
     "end_time": "2023-10-05T13:07:32.028213Z",
     "start_time": "2023-10-05T13:07:31.999253Z"
    }
   },
   "outputs": [
    {
     "data": {
      "text/plain": [
       "Date\n",
       "2021-01-04    2944.449951\n",
       "2021-01-05    2990.570068\n",
       "2021-01-06    2968.209961\n",
       "2021-01-07    3031.679932\n",
       "2021-01-08    3152.179932\n",
       "                 ...     \n",
       "2021-12-23    2998.169922\n",
       "2021-12-24    3012.429932\n",
       "2021-12-27    2999.550049\n",
       "2021-12-28    3020.239990\n",
       "2021-12-29    2993.290039\n",
       "Name: Close, Length: 247, dtype: float64"
      ]
     },
     "execution_count": 3,
     "metadata": {},
     "output_type": "execute_result"
    }
   ],
   "source": [
    "df #2021년 장이 1월 4일(월)에 열림"
   ]
  },
  {
   "cell_type": "markdown",
   "id": "135413c0",
   "metadata": {},
   "source": [
    "Plot the sample autocorrelation function of the simple returns of the KOSPI index (log-differences of the index). <br>\n",
    "Do they indicate serial correlation?"
   ]
  },
  {
   "cell_type": "code",
   "execution_count": 4,
   "id": "16f61d0e",
   "metadata": {
    "ExecuteTime": {
     "end_time": "2023-10-05T13:07:32.059415Z",
     "start_time": "2023-10-05T13:07:32.030168Z"
    }
   },
   "outputs": [
    {
     "data": {
      "text/plain": [
       "[0.01554200161845909,\n",
       " -0.00750496304372561,\n",
       " 0.021157834503501505,\n",
       " 0.038977356508338445,\n",
       " -0.0011840027124296881,\n",
       " -0.007172031364802933,\n",
       " 0.007121239367583243,\n",
       " 0.0005207480985447432,\n",
       " -0.020536891529033596,\n",
       " -0.02359846482912431,\n",
       " 0.025786681145195445,\n",
       " 0.007053161689393406,\n",
       " 0.014753147642663222,\n",
       " -0.0064144634154494895,\n",
       " 0.02153286328676529,\n",
       " -0.021634702821367924,\n",
       " -0.005668342849629582,\n",
       " -0.017285113677518282,\n",
       " -0.030717417529013247,\n",
       " 0.02662962918090095,\n",
       " 0.013092273393304765,\n",
       " 0.010558172708668323,\n",
       " -0.013552829151235457,\n",
       " 0.010656954997022794,\n",
       " -0.009462565346177954,\n",
       " -0.0021276445324183157,\n",
       " 0.005144558777891106,\n",
       " 0.014860402160811859,\n",
       " 0.005150362004965103,\n",
       " -0.009375998129440788,\n",
       " -0.015134410307142687,\n",
       " 0.0067676259068853994,\n",
       " -0.009008772697590928,\n",
       " -0.003141519065978926,\n",
       " -0.024769358723018442,\n",
       " 0.034364540385656284,\n",
       " -0.02838243846532329,\n",
       " 0.010210121569578234,\n",
       " 0.012770131500387194,\n",
       " -0.012895022091321096,\n",
       " -0.005677342981185163,\n",
       " -0.01001272067396819,\n",
       " -0.00669433826328536,\n",
       " -0.006066507082270967,\n",
       " 0.018614572521021167,\n",
       " 0.013411321496777262,\n",
       " -0.0028458346800270817,\n",
       " 0.007021256616145166,\n",
       " -0.006433704549843711,\n",
       " 0.006055462911186638,\n",
       " -0.008674137541181182,\n",
       " -0.0013399424906577195,\n",
       " -0.010171926799387165,\n",
       " -0.0027961244851191225,\n",
       " 0.003990219476856183,\n",
       " 0.010804566925191494,\n",
       " -0.001635652847340907,\n",
       " 0.011123514076269103,\n",
       " -0.002798726464572354,\n",
       " 0.008450445889151226,\n",
       " 0.008193377405975255,\n",
       " 0.0025763586475608946,\n",
       " 0.0020006696411041247,\n",
       " 0.0032979040205685095,\n",
       " 0.0018628903491126891,\n",
       " -0.0036270552274562107,\n",
       " 0.0011839563493936112,\n",
       " 0.010623967349664198,\n",
       " 0.004187958208168752,\n",
       " 0.003748079828902462,\n",
       " 0.0013421157722515176,\n",
       " 6.876822771317848e-05,\n",
       " 0.006810440423871356,\n",
       " -0.015343629632743827,\n",
       " 0.0018459422245999946,\n",
       " 0.0011197616824816237,\n",
       " 0.011393207172272213,\n",
       " -0.0006560309319212365,\n",
       " -0.010614617518616143,\n",
       " -0.0023286475416668395,\n",
       " -0.008291806598425211,\n",
       " -0.006584871048858076,\n",
       " 0.0064292008085153896,\n",
       " 0.004140852138482032,\n",
       " 0.011567338669181026,\n",
       " 0.016164192164017877,\n",
       " -0.012346273514367567,\n",
       " -0.014996151802817437,\n",
       " -0.012588088721940949,\n",
       " 0.009946798052792971,\n",
       " -0.00597982892644211,\n",
       " 0.012217227182167889,\n",
       " -0.0033999902901538093,\n",
       " -0.0018548463214145272,\n",
       " -0.003847143819800891,\n",
       " 0.008556620998998454,\n",
       " -0.0009117508419773657,\n",
       " -0.0009219923881751413,\n",
       " 0.007308528917244317,\n",
       " 0.004752323628247623,\n",
       " 0.005586936884734328,\n",
       " 0.0007321832022189056,\n",
       " 0.007169737501179441,\n",
       " -0.0022658484174140625,\n",
       " 0.0037090824193821703,\n",
       " -0.0013200223060891858,\n",
       " -0.009792806287599376,\n",
       " 0.002626984171293145,\n",
       " 0.007624481680158723,\n",
       " 0.0008643657018403417,\n",
       " 0.0019966954374375234,\n",
       " 0.0061340558839528825,\n",
       " -0.004193382071504104,\n",
       " 0.0009092365716405482,\n",
       " -0.008339596853604192,\n",
       " 0.007099496595410315,\n",
       " 0.003764507985069443,\n",
       " 0.003020337252646499,\n",
       " 0.005081249956761624,\n",
       " -0.00028773167390205856,\n",
       " -0.004617083350042961,\n",
       " 0.0030379647771372476,\n",
       " -0.004444588807945848,\n",
       " -8.532505253455724e-05,\n",
       " 0.0034767941947357883,\n",
       " 0.003637238421124067,\n",
       " -0.006029825448848669,\n",
       " -0.00999092311548111,\n",
       " -0.010734755390551243,\n",
       " 0.008823747648751379,\n",
       " 0.007643635198212095,\n",
       " -0.002010292317340401,\n",
       " 0.006536373098164461,\n",
       " -0.002837080908259182,\n",
       " -0.01008139968550914,\n",
       " -0.0035017924467268813,\n",
       " -0.0052073477221412645,\n",
       " 0.010609259153000039,\n",
       " 0.0012944507723204879,\n",
       " -0.009096617354327208,\n",
       " 0.0023476902770234176,\n",
       " 0.0013386358081923788,\n",
       " 0.0017871093749040057,\n",
       " -0.012515298162924182,\n",
       " 0.006449457299316563,\n",
       " 0.004365165223697787,\n",
       " 0.01326904279971508,\n",
       " -0.0012964216471651469,\n",
       " -0.001762708719565964,\n",
       " -0.0030441057980272745,\n",
       " -0.005298602368277727,\n",
       " -0.006983471210572745,\n",
       " -0.003807823546365441,\n",
       " -0.011627642915032155,\n",
       " -0.008932037007042481,\n",
       " 0.0050269206716890835,\n",
       " -0.019531449581489113,\n",
       " -0.012120319544582259,\n",
       " 0.009657465133905418,\n",
       " 0.015442230504291388,\n",
       " 0.002707992399258785,\n",
       " -0.005826005108632515,\n",
       " 0.001714949109292263,\n",
       " 0.0032780824970366496,\n",
       " 0.017366378486448397,\n",
       " 0.0024194982532179665,\n",
       " -0.009766819377567515,\n",
       " 0.007906679477615697,\n",
       " 0.0007088946945774666,\n",
       " -0.0049791304213187,\n",
       " -0.007694008057701041,\n",
       " -0.015384955918026577,\n",
       " 0.00354463313582265,\n",
       " 0.0006716420376218224,\n",
       " 0.006681881183659755,\n",
       " 0.001450224703134495,\n",
       " -0.007419418497185859,\n",
       " 0.003323424051270507,\n",
       " -0.004125642790201667,\n",
       " -0.0007484904679184723,\n",
       " 0.002684156973852936,\n",
       " -0.01146434064210844,\n",
       " -0.012227739470111132,\n",
       " 0.00278999114824785,\n",
       " -0.0163078962333163,\n",
       " -0.01906316729666191,\n",
       " -0.018349904767287484,\n",
       " 0.017434629330380425,\n",
       " -0.0010683030735476606,\n",
       " -0.013595421970548749,\n",
       " 0.009565346548643383,\n",
       " 0.014909971039434033,\n",
       " 0.008801351420464343,\n",
       " -0.002783292676999949,\n",
       " 0.0074092931416327446,\n",
       " -0.005266383758634419,\n",
       " -0.001926698900657442,\n",
       " -0.00038918033179236033,\n",
       " 0.004772148740530113,\n",
       " 0.009404295093085935,\n",
       " -0.0077668728235238405,\n",
       " -0.005282476326051722,\n",
       " -0.012999722257966084,\n",
       " 0.0027766527889960813,\n",
       " 0.011531359480811965,\n",
       " -0.012616219336536005,\n",
       " 0.0025205914692278952,\n",
       " -0.00468710625634472,\n",
       " -0.003059321024844408,\n",
       " 0.0007631740276403676,\n",
       " -0.010959575891603457,\n",
       " -0.0017933119890098936,\n",
       " 0.014890744054192773,\n",
       " 0.010294435265241653,\n",
       " -0.0007704395967742528,\n",
       " -0.011675367390308722,\n",
       " -0.005089875111247366,\n",
       " 0.007988734493515004,\n",
       " 0.014113895556653766,\n",
       " -0.005297312080191574,\n",
       " -0.0010147636871202792,\n",
       " -0.004693247568340553,\n",
       " -0.014815963958984213,\n",
       " -0.00927854291778285,\n",
       " -0.02446399689988077,\n",
       " 0.02115876723189114,\n",
       " 0.015586329900703966,\n",
       " 0.007799030879048985,\n",
       " 0.0016560992395584506,\n",
       " 0.006192832526739522,\n",
       " 0.0033636619116581556,\n",
       " 0.009208592640900903,\n",
       " -0.006404236546854847,\n",
       " -0.002851041505769203,\n",
       " -0.00457792252160516,\n",
       " 0.0004818002875648375,\n",
       " 0.005677329220247884,\n",
       " 0.003758239857310386,\n",
       " -0.018302617903982465,\n",
       " 0.004051864136735972,\n",
       " 0.0031713878846169052,\n",
       " 0.004576555913763158,\n",
       " 0.004744962932596408,\n",
       " -0.004284745706373272,\n",
       " 0.006874001364101545,\n",
       " -0.00896316516121587]"
      ]
     },
     "execution_count": 4,
     "metadata": {},
     "output_type": "execute_result"
    }
   ],
   "source": [
    "log_return = []\n",
    "for j in range(len(df)):\n",
    "    if j == 0 : continue\n",
    "    else : log_return.append(np.log(df[j])-np.log(df[j-1])) #log difference\n",
    "log_return"
   ]
  },
  {
   "cell_type": "code",
   "execution_count": 5,
   "id": "a81c84ce",
   "metadata": {
    "ExecuteTime": {
     "end_time": "2023-10-05T13:07:32.342658Z",
     "start_time": "2023-10-05T13:07:32.061411Z"
    }
   },
   "outputs": [
    {
     "data": {
      "image/png": "[encoded data removed]",
      "text/plain": [
       "<Figure size 640x480 with 1 Axes>"
      ]
     },
     "metadata": {},
     "output_type": "display_data"
    }
   ],
   "source": [
    "n_lags=40\n",
    "atcf_qs=stattools.acf(log_return, nlags=n_lags,qstat=True)\n",
    "  # atcf_qs[0]: values of ACF\n",
    "  # atcf_qs[1]: values of q-stat\n",
    "  # atcf_qs[2]: p-values of the q-stat\n",
    "plt.bar(range(n_lags+1),atcf_qs[0])\n",
    "plt.show()"
   ]
  },
  {
   "cell_type": "markdown",
   "id": "e331bdd0",
   "metadata": {},
   "source": [
    "ans : 그래프만 보았을 경우 serial correlation은 보이지 않는다"
   ]
  },
  {
   "cell_type": "markdown",
   "id": "961b8486",
   "metadata": {},
   "source": [
    "Test the null of no serial correlation using the Ljung-Box test at the 5%\n",
    "level. Set the lag length at 10."
   ]
  },
  {
   "cell_type": "code",
   "execution_count": 6,
   "id": "9012f73a",
   "metadata": {
    "ExecuteTime": {
     "end_time": "2023-10-05T13:07:32.358616Z",
     "start_time": "2023-10-05T13:07:32.345656Z"
    }
   },
   "outputs": [
    {
     "data": {
      "text/plain": [
       "array([0.84206584, 0.75288016, 0.29544476, 0.44593275, 0.29356783,\n",
       "       0.12056061, 0.13403173, 0.17225091, 0.13625489, 0.18532994])"
      ]
     },
     "execution_count": 6,
     "metadata": {},
     "output_type": "execute_result"
    }
   ],
   "source": [
    "n_lags=10\n",
    "atcf_qs=stattools.acf(log_return, nlags=n_lags,qstat=True)\n",
    "  # atcf_qs[0]: values of ACF\n",
    "  # atcf_qs[1]: values of q-stat\n",
    "  # atcf_qs[2]: p-values of the q-stat\n",
    "atcf_qs[2]"
   ]
  },
  {
   "cell_type": "markdown",
   "id": "19e85ea5",
   "metadata": {},
   "source": [
    "ans : p-value가 전부 0.05보다 높으므로 5% 유의수준에서 Ljung-Box test에서 귀무가설을 기각하지 못한다(no serial corr)"
   ]
  }
 ],
 "metadata": {
  "kernelspec": {
   "display_name": "Python 3 (ipykernel)",
   "language": "python",
   "name": "python3"
  },
  "language_info": {
   "codemirror_mode": {
    "name": "ipython",
    "version": 3
   },
   "file_extension": ".py",
   "mimetype": "text/x-python",
   "name": "python",
   "nbconvert_exporter": "python",
   "pygments_lexer": "ipython3",
   "version": "3.9.16"
  },
  "toc": {
   "base_numbering": 1,
   "nav_menu": {},
   "number_sections": true,
   "sideBar": true,
   "skip_h1_title": false,
   "title_cell": "Table of Contents",
   "title_sidebar": "Contents",
   "toc_cell": false,
   "toc_position": {},
   "toc_section_display": true,
   "toc_window_display": false
  }
 },
 "nbformat": 4,
 "nbformat_minor": 5
}
