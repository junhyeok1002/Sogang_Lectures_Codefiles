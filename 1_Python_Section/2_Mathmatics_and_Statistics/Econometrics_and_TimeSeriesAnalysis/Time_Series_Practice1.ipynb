{
 "cells": [
  {
   "cell_type": "markdown",
   "id": "1454248d",
   "metadata": {},
   "source": [
    "20180634_최준혁_과제1번"
   ]
  },
  {
   "cell_type": "code",
   "execution_count": 1,
   "id": "4f49cd6c",
   "metadata": {},
   "outputs": [],
   "source": [
    "import numpy as np\n",
    "import matplotlib.pyplot as plt\n",
    "import pandas as pd\n",
    "from statsmodels.tsa import stattools\n",
    "import pandas_datareader as wb\n",
    "import datetime"
   ]
  },
  {
   "cell_type": "markdown",
   "id": "22d55073",
   "metadata": {},
   "source": [
    "Using Python, perform the following for the KOSPI index returns during the\n",
    "period 2021:01:02-2021:12:30 (on the basis of daily, closing prices; data available\n",
    "at https://ecos.bok.or.kr/áex/EasySearch.jsp)."
   ]
  },
  {
   "cell_type": "code",
   "execution_count": 2,
   "id": "6e2322e2",
   "metadata": {},
   "outputs": [],
   "source": [
    "s = datetime.datetime(2021,1,2)\n",
    "e = datetime.datetime(2021,12,30)\n",
    "data = wb.DataReader(\"^KS11\",'yahoo',s,e)\n",
    "df = data['Close'].dropna()"
   ]
  },
  {
   "cell_type": "code",
   "execution_count": 3,
   "id": "e99f1ded",
   "metadata": {},
   "outputs": [
    {
     "data": {
      "text/plain": [
       "Date\n",
       "2021-01-04    2944.449951\n",
       "2021-01-05    2990.570068\n",
       "2021-01-06    2968.209961\n",
       "2021-01-07    3031.679932\n",
       "2021-01-08    3152.179932\n",
       "                 ...     \n",
       "2021-12-24    3012.429932\n",
       "2021-12-27    2999.550049\n",
       "2021-12-28    3020.239990\n",
       "2021-12-29    2993.290039\n",
       "2021-12-30    2977.649902\n",
       "Name: Close, Length: 248, dtype: float64"
      ]
     },
     "execution_count": 3,
     "metadata": {},
     "output_type": "execute_result"
    }
   ],
   "source": [
    "df #2021년 장이 1월 4일(월)에 열림"
   ]
  },
  {
   "cell_type": "markdown",
   "id": "135413c0",
   "metadata": {},
   "source": [
    "Plot the sample autocorrelation function of the simple returns of the KOSPI index (log-differences of the index). <br>\n",
    "Do they indicate serial correlation?"
   ]
  },
  {
   "cell_type": "code",
   "execution_count": 1,
   "id": "16f61d0e",
   "metadata": {
    "ExecuteTime": {
     "end_time": "2022-11-13T17:32:05.488412Z",
     "start_time": "2022-11-13T17:32:04.941832Z"
    }
   },
   "outputs": [
    {
     "ename": "NameError",
     "evalue": "name 'df' is not defined",
     "output_type": "error",
     "traceback": [
      "\u001b[1;31m---------------------------------------------------------------------------\u001b[0m",
      "\u001b[1;31mNameError\u001b[0m                                 Traceback (most recent call last)",
      "Input \u001b[1;32mIn [1]\u001b[0m, in \u001b[0;36m<cell line: 2>\u001b[1;34m()\u001b[0m\n\u001b[0;32m      1\u001b[0m log_return \u001b[38;5;241m=\u001b[39m []\n\u001b[1;32m----> 2\u001b[0m \u001b[38;5;28;01mfor\u001b[39;00m j \u001b[38;5;129;01min\u001b[39;00m \u001b[38;5;28mrange\u001b[39m(\u001b[38;5;28mlen\u001b[39m(\u001b[43mdf\u001b[49m)):\n\u001b[0;32m      3\u001b[0m     \u001b[38;5;28;01mif\u001b[39;00m j \u001b[38;5;241m==\u001b[39m \u001b[38;5;241m0\u001b[39m : \u001b[38;5;28;01mcontinue\u001b[39;00m\n\u001b[0;32m      4\u001b[0m     \u001b[38;5;28;01melse\u001b[39;00m : log_return\u001b[38;5;241m.\u001b[39mappend(np\u001b[38;5;241m.\u001b[39mlog(df[j])\u001b[38;5;241m-\u001b[39mnp\u001b[38;5;241m.\u001b[39mlog(df[j\u001b[38;5;241m-\u001b[39m\u001b[38;5;241m1\u001b[39m])) \u001b[38;5;66;03m#log difference\u001b[39;00m\n",
      "\u001b[1;31mNameError\u001b[0m: name 'df' is not defined"
     ]
    }
   ],
   "source": [
    "log_return = []\n",
    "for j in range(len(df)):\n",
    "    if j == 0 : continue\n",
    "    else : log_return.append(np.log(df[j])-np.log(df[j-1])) #log difference\n",
    "log_return"
   ]
  },
  {
   "cell_type": "code",
   "execution_count": 5,
   "id": "a81c84ce",
   "metadata": {},
   "outputs": [
    {
     "name": "stderr",
     "output_type": "stream",
     "text": [
      "C:\\Users\\chris\\anaconda3\\lib\\site-packages\\statsmodels\\tsa\\stattools.py:667: FutureWarning: fft=True will become the default after the release of the 0.12 release of statsmodels. To suppress this warning, explicitly set fft=False.\n",
      "  warnings.warn(\n"
     ]
    },
    {
     "data": {
      "image/png": "[encoded data removed]",
      "text/plain": [
       "<Figure size 432x288 with 1 Axes>"
      ]
     },
     "metadata": {
      "needs_background": "light"
     },
     "output_type": "display_data"
    }
   ],
   "source": [
    "n_lags=40\n",
    "atcf_qs=stattools.acf(log_return, nlags=n_lags,qstat=True)\n",
    "  # atcf_qs[0]: values of ACF\n",
    "  # atcf_qs[1]: values of q-stat\n",
    "  # atcf_qs[2]: p-values of the q-stat\n",
    "plt.bar(range(n_lags+1),atcf_qs[0])\n",
    "plt.show()"
   ]
  },
  {
   "cell_type": "markdown",
   "id": "e331bdd0",
   "metadata": {},
   "source": [
    "ans : 그래프만 보았을 경우 serial correlation은 보이지 않는다"
   ]
  },
  {
   "cell_type": "code",
   "execution_count": null,
   "id": "b781e8f8",
   "metadata": {},
   "outputs": [],
   "source": []
  },
  {
   "cell_type": "markdown",
   "id": "961b8486",
   "metadata": {},
   "source": [
    "Test the null of no serial correlation using the Ljung-Box test at the 5%\n",
    "level. Set the lag length at 10."
   ]
  },
  {
   "cell_type": "code",
   "execution_count": 6,
   "id": "9012f73a",
   "metadata": {},
   "outputs": [
    {
     "data": {
      "text/plain": [
       "array([0.86485348, 0.74425573, 0.29790866, 0.44831887, 0.29011251,\n",
       "       0.11701053, 0.13144568, 0.16511785, 0.13191549, 0.1793381 ])"
      ]
     },
     "execution_count": 6,
     "metadata": {},
     "output_type": "execute_result"
    }
   ],
   "source": [
    "n_lags=10\n",
    "atcf_qs=stattools.acf(log_return, nlags=n_lags,qstat=True)\n",
    "  # atcf_qs[0]: values of ACF\n",
    "  # atcf_qs[1]: values of q-stat\n",
    "  # atcf_qs[2]: p-values of the q-stat\n",
    "atcf_qs[2]"
   ]
  },
  {
   "cell_type": "markdown",
   "id": "19e85ea5",
   "metadata": {},
   "source": [
    "ans : p-value가 전부 0.05보다 높으므로 5% 유의수준에서 Ljung-Box test에서 귀무가설을 기각하지 못한다(no serial corr)"
   ]
  },
  {
   "cell_type": "code",
   "execution_count": null,
   "id": "5fc2683f",
   "metadata": {},
   "outputs": [],
   "source": []
  }
 ],
 "metadata": {
  "kernelspec": {
   "display_name": "Python 3 (ipykernel)",
   "language": "python",
   "name": "python3"
  },
  "language_info": {
   "codemirror_mode": {
    "name": "ipython",
    "version": 3
   },
   "file_extension": ".py",
   "mimetype": "text/x-python",
   "name": "python",
   "nbconvert_exporter": "python",
   "pygments_lexer": "ipython3",
   "version": "3.9.13"
  },
  "toc": {
   "base_numbering": 1,
   "nav_menu": {},
   "number_sections": true,
   "sideBar": true,
   "skip_h1_title": false,
   "title_cell": "Table of Contents",
   "title_sidebar": "Contents",
   "toc_cell": false,
   "toc_position": {},
   "toc_section_display": true,
   "toc_window_display": false
  }
 },
 "nbformat": 4,
 "nbformat_minor": 5
}
