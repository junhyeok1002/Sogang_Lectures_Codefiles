{
 "cells": [
  {
   "cell_type": "markdown",
   "id": "7fe18c86",
   "metadata": {},
   "source": [
    "20180634_최준혁_과제2번"
   ]
  },
  {
   "cell_type": "code",
   "execution_count": 1,
   "id": "89e808ef",
   "metadata": {
    "ExecuteTime": {
     "end_time": "2022-10-10T18:37:31.891018Z",
     "start_time": "2022-10-10T18:37:26.490263Z"
    }
   },
   "outputs": [],
   "source": [
    "import numpy as np\n",
    "import matplotlib.pyplot as plt\n",
    "import pandas as pd\n",
    "from statsmodels.tsa import stattools\n",
    "import statsmodels.api as sm\n",
    "import pandas_datareader as wb\n",
    "import datetime\n",
    "from pandas import read_excel\n",
    "import warnings\n",
    "warnings.filterwarnings('ignore')"
   ]
  },
  {
   "cell_type": "markdown",
   "id": "ebd6b8cd",
   "metadata": {},
   "source": [
    "### Using Python, perform the following for the KOSPI index returns during the period 2021:01:02-2021:12:30 (on the basis of daily, closing prices)."
   ]
  },
  {
   "cell_type": "code",
   "execution_count": 2,
   "id": "4000cb36",
   "metadata": {
    "ExecuteTime": {
     "end_time": "2022-10-10T18:37:32.812009Z",
     "start_time": "2022-10-10T18:37:31.894011Z"
    }
   },
   "outputs": [],
   "source": [
    "s = datetime.datetime(2021,1,2)\n",
    "e = datetime.datetime(2021,12,30)\n",
    "data = wb.DataReader(\"^KS11\",'yahoo',s,e)\n",
    "df1 = data['Close'].dropna()\n",
    "df2 = data[['Close']].dropna()"
   ]
  },
  {
   "cell_type": "code",
   "execution_count": 3,
   "id": "3d77ff18",
   "metadata": {
    "ExecuteTime": {
     "end_time": "2022-10-10T18:37:32.843886Z",
     "start_time": "2022-10-10T18:37:32.814965Z"
    }
   },
   "outputs": [
    {
     "data": {
      "text/plain": [
       "Date\n",
       "2021-01-04    2944.449951\n",
       "2021-01-05    2990.570068\n",
       "2021-01-06    2968.209961\n",
       "2021-01-07    3031.679932\n",
       "2021-01-08    3152.179932\n",
       "                 ...     \n",
       "2021-12-24    3012.429932\n",
       "2021-12-27    2999.550049\n",
       "2021-12-28    3020.239990\n",
       "2021-12-29    2993.290039\n",
       "2021-12-30    2977.649902\n",
       "Name: Close, Length: 248, dtype: float64"
      ]
     },
     "execution_count": 3,
     "metadata": {},
     "output_type": "execute_result"
    }
   ],
   "source": [
    "df1 #2021년 장이 1월 4일(월)에 열림"
   ]
  },
  {
   "cell_type": "code",
   "execution_count": 4,
   "id": "daa74098",
   "metadata": {
    "ExecuteTime": {
     "end_time": "2022-10-10T18:37:32.873809Z",
     "start_time": "2022-10-10T18:37:32.849873Z"
    }
   },
   "outputs": [],
   "source": [
    "log_kospi = np.log(df1) #log_kospi는 kospi에 log를 취한 값\n",
    "\n",
    "log_return = [] #log_return은 log difference\n",
    "for j in range(len(df1)):\n",
    "    if j == 0 : continue\n",
    "    else : log_return.append(np.log(df1[j])-np.log(df1[j-1])) \n",
    "log_return = pd.Series(log_return)"
   ]
  },
  {
   "cell_type": "code",
   "execution_count": 5,
   "id": "b2c14b32",
   "metadata": {
    "ExecuteTime": {
     "end_time": "2022-10-10T18:37:32.889764Z",
     "start_time": "2022-10-10T18:37:32.876800Z"
    },
    "scrolled": false
   },
   "outputs": [
    {
     "data": {
      "text/plain": [
       "Date\n",
       "2021-01-04    7.987677\n",
       "2021-01-05    8.003219\n",
       "2021-01-06    7.995714\n",
       "2021-01-07    8.016872\n",
       "2021-01-08    8.055850\n",
       "                ...   \n",
       "2021-12-24    8.010502\n",
       "2021-12-27    8.006218\n",
       "2021-12-28    8.013092\n",
       "2021-12-29    8.004128\n",
       "2021-12-30    7.998890\n",
       "Name: Close, Length: 248, dtype: float64"
      ]
     },
     "execution_count": 5,
     "metadata": {},
     "output_type": "execute_result"
    }
   ],
   "source": [
    "log_kospi"
   ]
  },
  {
   "cell_type": "code",
   "execution_count": 6,
   "id": "2c3587f5",
   "metadata": {
    "ExecuteTime": {
     "end_time": "2022-10-10T18:37:32.905722Z",
     "start_time": "2022-10-10T18:37:32.891760Z"
    }
   },
   "outputs": [
    {
     "data": {
      "text/plain": [
       "0      0.015542\n",
       "1     -0.007505\n",
       "2      0.021158\n",
       "3      0.038977\n",
       "4     -0.001184\n",
       "         ...   \n",
       "242    0.004745\n",
       "243   -0.004285\n",
       "244    0.006874\n",
       "245   -0.008963\n",
       "246   -0.005239\n",
       "Length: 247, dtype: float64"
      ]
     },
     "execution_count": 6,
     "metadata": {},
     "output_type": "execute_result"
    }
   ],
   "source": [
    "log_return"
   ]
  },
  {
   "cell_type": "markdown",
   "id": "d928f780",
   "metadata": {},
   "source": [
    "#### (a) (2 points) Find a proper ARMA model for the log KOSPI index.\n",
    "- log KOSPI index가 코스피에 log를 취한 것인지 지난과제에서 의미하는 log_difference return을 의미하는지 혼동되어 두가지로 모두 진행했습니다!"
   ]
  },
  {
   "cell_type": "markdown",
   "id": "d03619d7",
   "metadata": {},
   "source": [
    "ans: ARMA(1,0) is a proper model(log_kospi)"
   ]
  },
  {
   "cell_type": "code",
   "execution_count": 7,
   "id": "bcdbbc48",
   "metadata": {
    "ExecuteTime": {
     "end_time": "2022-10-10T18:37:45.780317Z",
     "start_time": "2022-10-10T18:37:32.908716Z"
    }
   },
   "outputs": [
    {
     "name": "stdout",
     "output_type": "stream",
     "text": [
      "----log_kospi----\n",
      "best_aic : (1, 0)\n",
      "best_bic : (1, 0)\n"
     ]
    }
   ],
   "source": [
    "res = sm.tsa.arma_order_select_ic(log_kospi,max_ar = 4, max_ma = 4, ic=[\"aic\", \"bic\"], trend=\"c\")\n",
    "print(\"----log_kospi----\")\n",
    "print(\"best_aic :\",res.aic_min_order)\n",
    "print(\"best_bic :\",res.bic_min_order)\n",
    "#ARMA(1,0) is a proper model(log_kospi)"
   ]
  },
  {
   "cell_type": "markdown",
   "id": "b948e281",
   "metadata": {},
   "source": [
    "ans: ARMA(0,0) is a proper model(log_return)"
   ]
  },
  {
   "cell_type": "code",
   "execution_count": 8,
   "id": "f0bf5dba",
   "metadata": {
    "ExecuteTime": {
     "end_time": "2022-10-10T18:37:54.190879Z",
     "start_time": "2022-10-10T18:37:45.783311Z"
    }
   },
   "outputs": [
    {
     "name": "stdout",
     "output_type": "stream",
     "text": [
      "----log_return----\n",
      "best_aic : (0, 0)\n",
      "best_bic : (0, 0)\n"
     ]
    }
   ],
   "source": [
    "res = sm.tsa.arma_order_select_ic(log_return,max_ar = 4, max_ma = 4,ic=[\"aic\", \"bic\"], trend=\"c\")\n",
    "print(\"----log_return----\")\n",
    "print(\"best_aic :\",res.aic_min_order)\n",
    "print(\"best_bic :\",res.bic_min_order)\n",
    "#ARMA(0,0) is a proper model(log_return)"
   ]
  },
  {
   "cell_type": "code",
   "execution_count": 9,
   "id": "5cdc810a",
   "metadata": {
    "ExecuteTime": {
     "end_time": "2022-10-10T18:37:54.316506Z",
     "start_time": "2022-10-10T18:37:54.193837Z"
    }
   },
   "outputs": [
    {
     "name": "stdout",
     "output_type": "stream",
     "text": [
      "                               SARIMAX Results                                \n",
      "==============================================================================\n",
      "Dep. Variable:                  Close   No. Observations:                  248\n",
      "Model:                 ARIMA(1, 0, 0)   Log Likelihood                 786.229\n",
      "Date:                Tue, 11 Oct 2022   AIC                          -1566.458\n",
      "Time:                        03:37:54   BIC                          -1555.918\n",
      "Sample:                             0   HQIC                         -1562.215\n",
      "                                - 248                                         \n",
      "Covariance Type:                  opg                                         \n",
      "==============================================================================\n",
      "                 coef    std err          z      P>|z|      [0.025      0.975]\n",
      "------------------------------------------------------------------------------\n",
      "const          8.0351      0.013    636.216      0.000       8.010       8.060\n",
      "ar.L1          0.9544      0.021     46.365      0.000       0.914       0.995\n",
      "sigma2         0.0001   7.59e-06     13.456      0.000    8.73e-05       0.000\n",
      "===================================================================================\n",
      "Ljung-Box (L1) (Q):                   0.00   Jarque-Bera (JB):                 9.88\n",
      "Prob(Q):                              0.95   Prob(JB):                         0.01\n",
      "Heteroskedasticity (H):               0.53   Skew:                            -0.04\n",
      "Prob(H) (two-sided):                  0.00   Kurtosis:                         3.97\n",
      "===================================================================================\n",
      "\n",
      "Warnings:\n",
      "[1] Covariance matrix calculated using the outer product of gradients (complex-step).\n"
     ]
    }
   ],
   "source": [
    "kospi = sm.tsa.ARIMA(log_kospi,trend='c',order=(1,0,0)).fit()\n",
    "print(kospi.summary())"
   ]
  },
  {
   "cell_type": "code",
   "execution_count": 10,
   "id": "60c4707c",
   "metadata": {
    "ExecuteTime": {
     "end_time": "2022-10-10T18:37:54.460121Z",
     "start_time": "2022-10-10T18:37:54.325482Z"
    }
   },
   "outputs": [
    {
     "name": "stdout",
     "output_type": "stream",
     "text": [
      "                               SARIMAX Results                                \n",
      "==============================================================================\n",
      "Dep. Variable:                      y   No. Observations:                  247\n",
      "Model:                          ARIMA   Log Likelihood                 781.942\n",
      "Date:                Tue, 11 Oct 2022   AIC                          -1559.884\n",
      "Time:                        03:37:54   BIC                          -1552.865\n",
      "Sample:                             0   HQIC                         -1557.058\n",
      "                                - 247                                         \n",
      "Covariance Type:                  opg                                         \n",
      "==============================================================================\n",
      "                 coef    std err          z      P>|z|      [0.025      0.975]\n",
      "------------------------------------------------------------------------------\n",
      "const       4.034e-05      0.001      0.062      0.951      -0.001       0.001\n",
      "sigma2         0.0001   7.59e-06     13.722      0.000    8.93e-05       0.000\n",
      "===================================================================================\n",
      "Ljung-Box (L1) (Q):                   0.03   Jarque-Bera (JB):                12.48\n",
      "Prob(Q):                              0.86   Prob(JB):                         0.00\n",
      "Heteroskedasticity (H):               0.50   Skew:                             0.13\n",
      "Prob(H) (two-sided):                  0.00   Kurtosis:                         4.07\n",
      "===================================================================================\n",
      "\n",
      "Warnings:\n",
      "[1] Covariance matrix calculated using the outer product of gradients (complex-step).\n"
     ]
    }
   ],
   "source": [
    "ln_return = sm.tsa.ARIMA(log_return,trend='c',order=(0,0,0)).fit()\n",
    "print(ln_return.summary())"
   ]
  },
  {
   "cell_type": "markdown",
   "id": "d6db7fa7",
   "metadata": {},
   "source": [
    "#### (b) (2 points) Test whether the log KOSPI index has a unit root or not using the augmented Dickey-Fuller test."
   ]
  },
  {
   "cell_type": "markdown",
   "id": "eee340c1",
   "metadata": {},
   "source": [
    "ans : log_kospi는 p-value = 0.1297 -> NON-stationary, unit root가 있다"
   ]
  },
  {
   "cell_type": "code",
   "execution_count": 11,
   "id": "8b8c852d",
   "metadata": {
    "ExecuteTime": {
     "end_time": "2022-10-10T18:37:54.491041Z",
     "start_time": "2022-10-10T18:37:54.463114Z"
    }
   },
   "outputs": [
    {
     "data": {
      "text/plain": [
       "(-2.443743228499484,\n",
       " 0.12976877579460117,\n",
       " 0,\n",
       " 247,\n",
       " {'1%': -3.457105309726321,\n",
       "  '5%': -2.873313676101283,\n",
       "  '10%': -2.5730443824681606},\n",
       " -1499.4649783311263)"
      ]
     },
     "execution_count": 11,
     "metadata": {},
     "output_type": "execute_result"
    }
   ],
   "source": [
    "from statsmodels.tsa.stattools import adfuller\n",
    "\n",
    "adfuller(log_kospi, regression='c') #1번째 결과 : test statistics , 2번째 결과 : p-value\n",
    "#log_kospi는 p-value = 0.1297 -> NON-stationary, unit root가 있다"
   ]
  },
  {
   "cell_type": "markdown",
   "id": "75c7588a",
   "metadata": {
    "ExecuteTime": {
     "end_time": "2022-10-10T18:35:27.634283Z",
     "start_time": "2022-10-10T18:35:27.624309Z"
    }
   },
   "source": [
    "ans : log_return은 p-value = 매우 낮음 -> stationary, unit root가 없다."
   ]
  },
  {
   "cell_type": "code",
   "execution_count": 12,
   "id": "0303ae35",
   "metadata": {
    "ExecuteTime": {
     "end_time": "2022-10-10T18:37:54.521959Z",
     "start_time": "2022-10-10T18:37:54.494033Z"
    }
   },
   "outputs": [
    {
     "data": {
      "text/plain": [
       "(-10.507441759062361,\n",
       " 1.0453766982299086e-18,\n",
       " 2,\n",
       " 244,\n",
       " {'1%': -3.457437824930831,\n",
       "  '5%': -2.873459364726563,\n",
       "  '10%': -2.573122099570008},\n",
       " -1489.533956433947)"
      ]
     },
     "execution_count": 12,
     "metadata": {},
     "output_type": "execute_result"
    }
   ],
   "source": [
    "adfuller(log_return, regression='c')\n",
    "#log_return은 p-value = 매우 낮음 -> stationary, unit root가 없다."
   ]
  },
  {
   "cell_type": "markdown",
   "id": "5bfdb611",
   "metadata": {},
   "source": [
    "### (2 points) Find a proper SARIMA model for the monthly Korean unemployment rate during the period 2010:01-2021:12.\n",
    "- 교수님꼐서 올려주신 data가 2012:01~2019:02까지 있으므로 해당 기간 데이터로 진행하겠습니다!"
   ]
  },
  {
   "cell_type": "code",
   "execution_count": 13,
   "id": "e7a75050",
   "metadata": {
    "ExecuteTime": {
     "end_time": "2022-10-10T18:37:56.286975Z",
     "start_time": "2022-10-10T18:37:54.526946Z"
    }
   },
   "outputs": [],
   "source": [
    "# 기간: 2012:01 - 2019:02\n",
    "excel_data= read_excel('./연령별_경제활동인구_총괄_20190403.xlsx', '데이터') \n",
    "# excel_data= read_excel('c:/연령별_경제활동인구_총괄_20190418164345_A.xlsx', '데이터') "
   ]
  },
  {
   "cell_type": "code",
   "execution_count": 14,
   "id": "c342db84",
   "metadata": {
    "ExecuteTime": {
     "end_time": "2022-10-10T18:37:56.316939Z",
     "start_time": "2022-10-10T18:37:56.292966Z"
    }
   },
   "outputs": [
    {
     "data": {
      "text/plain": [
       "DatetimeIndex(['2012-01-31', '2012-02-29', '2012-03-31', '2012-04-30',\n",
       "               '2012-05-31', '2012-06-30', '2012-07-31', '2012-08-31',\n",
       "               '2012-09-30', '2012-10-31', '2012-11-30', '2012-12-31',\n",
       "               '2013-01-31', '2013-02-28', '2013-03-31', '2013-04-30',\n",
       "               '2013-05-31', '2013-06-30', '2013-07-31', '2013-08-31',\n",
       "               '2013-09-30', '2013-10-31', '2013-11-30', '2013-12-31',\n",
       "               '2014-01-31', '2014-02-28', '2014-03-31', '2014-04-30',\n",
       "               '2014-05-31', '2014-06-30', '2014-07-31', '2014-08-31',\n",
       "               '2014-09-30', '2014-10-31', '2014-11-30', '2014-12-31',\n",
       "               '2015-01-31', '2015-02-28', '2015-03-31', '2015-04-30',\n",
       "               '2015-05-31', '2015-06-30', '2015-07-31', '2015-08-31',\n",
       "               '2015-09-30', '2015-10-31', '2015-11-30', '2015-12-31',\n",
       "               '2016-01-31', '2016-02-29', '2016-03-31', '2016-04-30',\n",
       "               '2016-05-31', '2016-06-30', '2016-07-31', '2016-08-31',\n",
       "               '2016-09-30', '2016-10-31', '2016-11-30', '2016-12-31',\n",
       "               '2017-01-31', '2017-02-28', '2017-03-31', '2017-04-30',\n",
       "               '2017-05-31', '2017-06-30', '2017-07-31', '2017-08-31',\n",
       "               '2017-09-30', '2017-10-31', '2017-11-30', '2017-12-31',\n",
       "               '2018-01-31', '2018-02-28', '2018-03-31', '2018-04-30',\n",
       "               '2018-05-31', '2018-06-30', '2018-07-31', '2018-08-31',\n",
       "               '2018-09-30', '2018-10-31', '2018-11-30', '2018-12-31',\n",
       "               '2019-01-31', '2019-02-28'],\n",
       "              dtype='datetime64[ns]', freq='M')"
      ]
     },
     "execution_count": 14,
     "metadata": {},
     "output_type": "execute_result"
    }
   ],
   "source": [
    "dates = pd.date_range('2012', periods= 86, freq='m')\n",
    "dates"
   ]
  },
  {
   "cell_type": "code",
   "execution_count": 15,
   "id": "e8376023",
   "metadata": {
    "ExecuteTime": {
     "end_time": "2022-10-10T18:37:56.332861Z",
     "start_time": "2022-10-10T18:37:56.317899Z"
    }
   },
   "outputs": [],
   "source": [
    "data=excel_data.values\n",
    "urate=[]\n",
    "for i in range(86):\n",
    "    urate.append(data[1,7+i*8])"
   ]
  },
  {
   "cell_type": "code",
   "execution_count": 16,
   "id": "327981ea",
   "metadata": {
    "ExecuteTime": {
     "end_time": "2022-10-10T18:37:56.553731Z",
     "start_time": "2022-10-10T18:37:56.334856Z"
    }
   },
   "outputs": [
    {
     "data": {
      "image/png": "[encoded data removed]",
      "text/plain": [
       "<Figure size 640x480 with 1 Axes>"
      ]
     },
     "metadata": {},
     "output_type": "display_data"
    }
   ],
   "source": [
    "plt.plot(dates, urate)\n",
    "plt.show()"
   ]
  },
  {
   "cell_type": "code",
   "execution_count": 17,
   "id": "4ab0914f",
   "metadata": {
    "ExecuteTime": {
     "end_time": "2022-10-10T18:37:56.569690Z",
     "start_time": "2022-10-10T18:37:56.555727Z"
    }
   },
   "outputs": [],
   "source": [
    "from statsmodels.tsa.statespace.sarimax import SARIMAX\n",
    "import itertools\n",
    "\n",
    "p=d=q = range(0,3)\n",
    "pdq = list(itertools.product(p,d,q))\n",
    "seasonal_pdq = [(x[0],x[1],x[2],12) for x in list(itertools.product(p,d,q))]"
   ]
  },
  {
   "cell_type": "code",
   "execution_count": 18,
   "id": "9b527cce",
   "metadata": {
    "ExecuteTime": {
     "end_time": "2022-10-10T18:50:09.962500Z",
     "start_time": "2022-10-10T18:37:56.571685Z"
    }
   },
   "outputs": [
    {
     "name": "stdout",
     "output_type": "stream",
     "text": [
      "SARIMAX(0, 0, 0)x(0, 0, 0, 12)12 - AIC:131.69053912315917\n",
      "OK\n",
      "SARIMAX(0, 0, 0)x(0, 0, 1, 12)12 - AIC:82.32524864491414\n",
      "OK\n",
      "SARIMAX(0, 0, 0)x(0, 0, 2, 12)12 - AIC:55.86263705053869\n",
      "OK\n",
      "SARIMAX(0, 0, 0)x(0, 1, 0, 12)12 - AIC:-0.6037660843963373\n",
      "OK\n",
      "SARIMAX(0, 0, 0)x(0, 1, 1, 12)12 - AIC:-27.572832031749492\n",
      "OK\n",
      "SARIMAX(0, 0, 0)x(0, 1, 2, 12)12 - AIC:-25.574150337476624\n",
      "SARIMAX(0, 0, 0)x(0, 2, 0, 12)12 - AIC:62.615513729294356\n",
      "SARIMAX(0, 0, 0)x(0, 2, 1, 12)12 - AIC:32.924712909187605\n",
      "SARIMAX(0, 0, 0)x(0, 2, 2, 12)12 - AIC:25.611345416380537\n",
      "SARIMAX(0, 0, 0)x(1, 0, 0, 12)12 - AIC:31.006666721691122\n",
      "SARIMAX(0, 0, 0)x(1, 0, 1, 12)12 - AIC:32.133316419638106\n",
      "SARIMAX(0, 0, 0)x(1, 0, 2, 12)12 - AIC:32.47954705125465\n",
      "SARIMAX(0, 0, 0)x(1, 1, 0, 12)12 - AIC:-17.79832642624837\n",
      "SARIMAX(0, 0, 0)x(1, 1, 1, 12)12 - AIC:-25.576675465385804\n",
      "SARIMAX(0, 0, 0)x(1, 1, 2, 12)12 - AIC:-24.081345760821208\n",
      "SARIMAX(0, 0, 0)x(1, 2, 0, 12)12 - AIC:38.851966317402635\n",
      "SARIMAX(0, 0, 0)x(1, 2, 1, 12)12 - AIC:27.343933569018244\n",
      "SARIMAX(0, 0, 0)x(1, 2, 2, 12)12 - AIC:28.798567869021515\n",
      "SARIMAX(0, 0, 0)x(2, 0, 0, 12)12 - AIC:31.817272137596536\n",
      "SARIMAX(0, 0, 0)x(2, 0, 1, 12)12 - AIC:32.57262715034082\n",
      "SARIMAX(0, 0, 0)x(2, 0, 2, 12)12 - AIC:34.267992350916316\n",
      "SARIMAX(0, 0, 0)x(2, 1, 0, 12)12 - AIC:-18.107205965533403\n",
      "SARIMAX(0, 0, 0)x(2, 1, 1, 12)12 - AIC:-23.576886344803064\n",
      "SARIMAX(0, 0, 0)x(2, 1, 2, 12)12 - AIC:-22.380276564157683\n",
      "SARIMAX(0, 0, 0)x(2, 2, 0, 12)12 - AIC:34.801245704853336\n",
      "SARIMAX(0, 0, 0)x(2, 2, 1, 12)12 - AIC:29.101166498384536\n",
      "SARIMAX(0, 0, 0)x(2, 2, 2, 12)12 - AIC:30.77914916250309\n",
      "SARIMAX(0, 0, 1)x(0, 0, 0, 12)12 - AIC:96.49201320326462\n",
      "SARIMAX(0, 0, 1)x(0, 0, 1, 12)12 - AIC:52.900963541666634\n",
      "SARIMAX(0, 0, 1)x(0, 0, 2, 12)12 - AIC:34.15211312583607\n",
      "SARIMAX(0, 0, 1)x(0, 1, 0, 12)12 - AIC:-7.891502741890745\n",
      "SARIMAX(0, 0, 1)x(0, 1, 1, 12)12 - AIC:-30.629128670577742\n",
      "OK\n",
      "SARIMAX(0, 0, 1)x(0, 1, 2, 12)12 - AIC:-28.658771918727666\n",
      "SARIMAX(0, 0, 1)x(0, 2, 0, 12)12 - AIC:53.11814022287377\n",
      "SARIMAX(0, 0, 1)x(0, 2, 1, 12)12 - AIC:26.941719068262387\n",
      "SARIMAX(0, 0, 1)x(0, 2, 2, 12)12 - AIC:22.524893047070986\n",
      "SARIMAX(0, 0, 1)x(1, 0, 0, 12)12 - AIC:12.296819292457686\n",
      "SARIMAX(0, 0, 1)x(1, 0, 1, 12)12 - AIC:12.227511951988737\n",
      "SARIMAX(0, 0, 1)x(1, 0, 2, 12)12 - AIC:12.302831068809763\n",
      "SARIMAX(0, 0, 1)x(1, 1, 0, 12)12 - AIC:-22.28351349443297\n",
      "SARIMAX(0, 0, 1)x(1, 1, 1, 12)12 - AIC:-28.661661143369656\n",
      "SARIMAX(0, 0, 1)x(1, 1, 2, 12)12 - AIC:-26.89515618930885\n",
      "SARIMAX(0, 0, 1)x(1, 2, 0, 12)12 - AIC:31.169806702962237\n",
      "SARIMAX(0, 0, 1)x(1, 2, 1, 12)12 - AIC:23.38087287697077\n",
      "SARIMAX(0, 0, 1)x(1, 2, 2, 12)12 - AIC:24.524209039174504\n",
      "SARIMAX(0, 0, 1)x(2, 0, 0, 12)12 - AIC:11.532502826334571\n",
      "SARIMAX(0, 0, 1)x(2, 0, 1, 12)12 - AIC:14.15050680234847\n",
      "SARIMAX(0, 0, 1)x(2, 0, 2, 12)12 - AIC:15.54069568280486\n",
      "SARIMAX(0, 0, 1)x(2, 1, 0, 12)12 - AIC:-22.255189520374294\n",
      "SARIMAX(0, 0, 1)x(2, 1, 1, 12)12 - AIC:-26.670297569185024\n",
      "SARIMAX(0, 0, 1)x(2, 1, 2, 12)12 - AIC:-25.247382873750638\n",
      "SARIMAX(0, 0, 1)x(2, 2, 0, 12)12 - AIC:27.357442111948252\n",
      "SARIMAX(0, 0, 1)x(2, 2, 1, 12)12 - AIC:25.22135340908359\n",
      "SARIMAX(0, 0, 1)x(2, 2, 2, 12)12 - AIC:26.331573585900983\n",
      "SARIMAX(0, 0, 2)x(0, 0, 0, 12)12 - AIC:73.70581053510682\n",
      "SARIMAX(0, 0, 2)x(0, 0, 1, 12)12 - AIC:34.55893644708648\n",
      "SARIMAX(0, 0, 2)x(0, 0, 2, 12)12 - AIC:6.627988711370379\n",
      "SARIMAX(0, 0, 2)x(0, 1, 0, 12)12 - AIC:-28.5633866716609\n",
      "SARIMAX(0, 0, 2)x(0, 1, 1, 12)12 - AIC:-41.05194139556728\n",
      "OK\n",
      "SARIMAX(0, 0, 2)x(0, 1, 2, 12)12 - AIC:-39.586090213610085\n",
      "SARIMAX(0, 0, 2)x(0, 2, 0, 12)12 - AIC:33.668575507062585\n",
      "SARIMAX(0, 0, 2)x(0, 2, 1, 12)12 - AIC:8.831851336180238\n",
      "SARIMAX(0, 0, 2)x(0, 2, 2, 12)12 - AIC:7.731325451341042\n",
      "SARIMAX(0, 0, 2)x(1, 0, 0, 12)12 - AIC:-15.036631536961195\n",
      "SARIMAX(0, 0, 2)x(1, 0, 1, 12)12 - AIC:-15.898047544529128\n",
      "SARIMAX(0, 0, 2)x(1, 0, 2, 12)12 - AIC:-14.786285767443495\n",
      "SARIMAX(0, 0, 2)x(1, 1, 0, 12)12 - AIC:-37.771354733137635\n",
      "SARIMAX(0, 0, 2)x(1, 1, 1, 12)12 - AIC:-39.82303940139358\n",
      "SARIMAX(0, 0, 2)x(1, 1, 2, 12)12 - AIC:-37.98456710230698\n",
      "SARIMAX(0, 0, 2)x(1, 2, 0, 12)12 - AIC:9.792681465926439\n",
      "SARIMAX(0, 0, 2)x(1, 2, 1, 12)12 - AIC:7.1625308754924575\n",
      "SARIMAX(0, 0, 2)x(1, 2, 2, 12)12 - AIC:8.803785635087852\n",
      "SARIMAX(0, 0, 2)x(2, 0, 0, 12)12 - AIC:-16.817107041315424\n",
      "SARIMAX(0, 0, 2)x(2, 0, 1, 12)12 - AIC:-15.12365773640439\n",
      "SARIMAX(0, 0, 2)x(2, 0, 2, 12)12 - AIC:-13.904293349312109\n",
      "SARIMAX(0, 0, 2)x(2, 1, 0, 12)12 - AIC:-36.199803071522894\n",
      "SARIMAX(0, 0, 2)x(2, 1, 1, 12)12 - AIC:-38.28339061222216\n",
      "SARIMAX(0, 0, 2)x(2, 1, 2, 12)12 - AIC:-37.28312097757033\n",
      "SARIMAX(0, 0, 2)x(2, 2, 0, 12)12 - AIC:9.49132168869801\n",
      "SARIMAX(0, 0, 2)x(2, 2, 1, 12)12 - AIC:9.041510981846848\n",
      "SARIMAX(0, 0, 2)x(2, 2, 2, 12)12 - AIC:10.779940559784034\n",
      "SARIMAX(0, 1, 0)x(0, 0, 0, 12)12 - AIC:90.83293463406119\n",
      "SARIMAX(0, 1, 0)x(0, 0, 1, 12)12 - AIC:51.99325397136226\n",
      "SARIMAX(0, 1, 0)x(0, 0, 2, 12)12 - AIC:29.158283962156112\n",
      "SARIMAX(0, 1, 0)x(0, 1, 0, 12)12 - AIC:6.109526630491164\n",
      "SARIMAX(0, 1, 0)x(0, 1, 1, 12)12 - AIC:-6.275781027656926\n",
      "SARIMAX(0, 1, 0)x(0, 1, 2, 12)12 - AIC:-4.550369744630901\n",
      "SARIMAX(0, 1, 0)x(0, 2, 0, 12)12 - AIC:57.09559445771854\n",
      "SARIMAX(0, 1, 0)x(0, 2, 1, 12)12 - AIC:37.05879557598624\n",
      "SARIMAX(0, 1, 0)x(0, 2, 2, 12)12 - AIC:35.37344330845348\n",
      "SARIMAX(0, 1, 0)x(1, 0, 0, 12)12 - AIC:11.171487817115146\n",
      "SARIMAX(0, 1, 0)x(1, 0, 1, 12)12 - AIC:4.324725791432316\n",
      "SARIMAX(0, 1, 0)x(1, 0, 2, 12)12 - AIC:6.324691555750535\n",
      "SARIMAX(0, 1, 0)x(1, 1, 0, 12)12 - AIC:-3.031046785599914\n",
      "SARIMAX(0, 1, 0)x(1, 1, 1, 12)12 - AIC:-4.638326242196909\n",
      "SARIMAX(0, 1, 0)x(1, 1, 2, 12)12 - AIC:-2.8489986599774966\n",
      "SARIMAX(0, 1, 0)x(1, 2, 0, 12)12 - AIC:36.154980778711106\n",
      "SARIMAX(0, 1, 0)x(1, 2, 1, 12)12 - AIC:34.46391700195371\n",
      "SARIMAX(0, 1, 0)x(1, 2, 2, 12)12 - AIC:36.32058257416291\n",
      "SARIMAX(0, 1, 0)x(2, 0, 0, 12)12 - AIC:4.445920471641758\n",
      "SARIMAX(0, 1, 0)x(2, 0, 1, 12)12 - AIC:6.213801044376591\n",
      "SARIMAX(0, 1, 0)x(2, 0, 2, 12)12 - AIC:8.120696122996087\n",
      "SARIMAX(0, 1, 0)x(2, 1, 0, 12)12 - AIC:-1.9178812737703002\n",
      "SARIMAX(0, 1, 0)x(2, 1, 1, 12)12 - AIC:-3.314604982548248\n",
      "SARIMAX(0, 1, 0)x(2, 1, 2, 12)12 - AIC:-1.351241911648227\n",
      "SARIMAX(0, 1, 0)x(2, 2, 0, 12)12 - AIC:34.26240013066475\n",
      "SARIMAX(0, 1, 0)x(2, 2, 1, 12)12 - AIC:36.186243316767786\n",
      "SARIMAX(0, 1, 0)x(2, 2, 2, 12)12 - AIC:38.14921987871523\n",
      "SARIMAX(0, 1, 1)x(0, 0, 0, 12)12 - AIC:92.77097774851438\n",
      "SARIMAX(0, 1, 1)x(0, 0, 1, 12)12 - AIC:53.04183410795412\n",
      "SARIMAX(0, 1, 1)x(0, 0, 2, 12)12 - AIC:26.414312329698713\n",
      "SARIMAX(0, 1, 1)x(0, 1, 0, 12)12 - AIC:-18.35059899997517\n",
      "SARIMAX(0, 1, 1)x(0, 1, 1, 12)12 - AIC:-32.70560481367146\n",
      "SARIMAX(0, 1, 1)x(0, 1, 2, 12)12 - AIC:-30.706034944970703\n",
      "SARIMAX(0, 1, 1)x(0, 2, 0, 12)12 - AIC:44.32388715247267\n",
      "SARIMAX(0, 1, 1)x(0, 2, 1, 12)12 - AIC:16.86350037648453\n",
      "SARIMAX(0, 1, 1)x(0, 2, 2, 12)12 - AIC:13.933679139635725\n",
      "SARIMAX(0, 1, 1)x(1, 0, 0, 12)12 - AIC:-5.592749893631133\n",
      "SARIMAX(0, 1, 1)x(1, 0, 1, 12)12 - AIC:-16.553683286298075\n",
      "SARIMAX(0, 1, 1)x(1, 0, 2, 12)12 - AIC:-14.52601318929488\n",
      "SARIMAX(0, 1, 1)x(1, 1, 0, 12)12 - AIC:-30.960354179607805\n",
      "SARIMAX(0, 1, 1)x(1, 1, 1, 12)12 - AIC:-30.706538271746865\n",
      "SARIMAX(0, 1, 1)x(1, 1, 2, 12)12 - AIC:-29.428729050864504\n",
      "SARIMAX(0, 1, 1)x(1, 2, 0, 12)12 - AIC:15.764142182092822\n",
      "SARIMAX(0, 1, 1)x(1, 2, 1, 12)12 - AIC:12.483468143053212\n",
      "SARIMAX(0, 1, 1)x(1, 2, 2, 12)12 - AIC:14.483323704746002\n",
      "SARIMAX(0, 1, 1)x(2, 0, 0, 12)12 - AIC:-16.365666738866125\n",
      "SARIMAX(0, 1, 1)x(2, 0, 1, 12)12 - AIC:-14.806030365511578\n",
      "SARIMAX(0, 1, 1)x(2, 0, 2, 12)12 - AIC:-13.334351185991977\n",
      "SARIMAX(0, 1, 1)x(2, 1, 0, 12)12 - AIC:-29.405341723575646\n",
      "SARIMAX(0, 1, 1)x(2, 1, 1, 12)12 - AIC:-29.273317638169253\n",
      "SARIMAX(0, 1, 1)x(2, 1, 2, 12)12 - AIC:-28.38756124920757\n",
      "SARIMAX(0, 1, 1)x(2, 2, 0, 12)12 - AIC:13.41481344761085\n",
      "SARIMAX(0, 1, 1)x(2, 2, 1, 12)12 - AIC:14.48323731930519\n",
      "SARIMAX(0, 1, 1)x(2, 2, 2, 12)12 - AIC:16.48329899072281\n",
      "SARIMAX(0, 1, 2)x(0, 0, 0, 12)12 - AIC:94.55209393279264\n",
      "SARIMAX(0, 1, 2)x(0, 0, 1, 12)12 - AIC:48.75067061457809\n",
      "SARIMAX(0, 1, 2)x(0, 0, 2, 12)12 - AIC:27.785774203685015\n",
      "SARIMAX(0, 1, 2)x(0, 1, 0, 12)12 - AIC:-16.478131632639474\n",
      "SARIMAX(0, 1, 2)x(0, 1, 1, 12)12 - AIC:-30.815375566778926\n",
      "SARIMAX(0, 1, 2)x(0, 1, 2, 12)12 - AIC:-28.82093760621749\n",
      "SARIMAX(0, 1, 2)x(0, 2, 0, 12)12 - AIC:46.0327764275758\n"
     ]
    },
    {
     "name": "stdout",
     "output_type": "stream",
     "text": [
      "SARIMAX(0, 1, 2)x(0, 2, 1, 12)12 - AIC:18.679569180201984\n",
      "SARIMAX(0, 1, 2)x(0, 2, 2, 12)12 - AIC:15.202260620921326\n",
      "SARIMAX(0, 1, 2)x(1, 0, 0, 12)12 - AIC:-3.7384851042675162\n",
      "SARIMAX(0, 1, 2)x(1, 0, 1, 12)12 - AIC:-14.782124055976752\n",
      "SARIMAX(0, 1, 2)x(1, 0, 2, 12)12 - AIC:-12.80785437489132\n",
      "SARIMAX(0, 1, 2)x(1, 1, 0, 12)12 - AIC:-29.699339981659456\n",
      "SARIMAX(0, 1, 2)x(1, 1, 1, 12)12 - AIC:-28.830005078658218\n",
      "SARIMAX(0, 1, 2)x(1, 1, 2, 12)12 - AIC:-27.58953729686268\n",
      "SARIMAX(0, 1, 2)x(1, 2, 0, 12)12 - AIC:17.293676327457877\n",
      "SARIMAX(0, 1, 2)x(1, 2, 1, 12)12 - AIC:13.619697448503501\n",
      "SARIMAX(0, 1, 2)x(1, 2, 2, 12)12 - AIC:15.618086670244226\n",
      "SARIMAX(0, 1, 2)x(2, 0, 0, 12)12 - AIC:-14.369215478162864\n",
      "SARIMAX(0, 1, 2)x(2, 0, 1, 12)12 - AIC:-12.863984621276899\n",
      "SARIMAX(0, 1, 2)x(2, 0, 2, 12)12 - AIC:-11.192208827594666\n",
      "SARIMAX(0, 1, 2)x(2, 1, 0, 12)12 - AIC:-28.040959560259097\n",
      "SARIMAX(0, 1, 2)x(2, 1, 1, 12)12 - AIC:-27.52773363194558\n",
      "SARIMAX(0, 1, 2)x(2, 1, 2, 12)12 - AIC:-26.60592337130013\n",
      "SARIMAX(0, 1, 2)x(2, 2, 0, 12)12 - AIC:14.550247283787533\n",
      "SARIMAX(0, 1, 2)x(2, 2, 1, 12)12 - AIC:15.617689743670075\n",
      "SARIMAX(0, 1, 2)x(2, 2, 2, 12)12 - AIC:17.61806194336382\n",
      "SARIMAX(0, 2, 0)x(0, 0, 0, 12)12 - AIC:145.1143412921176\n",
      "SARIMAX(0, 2, 0)x(0, 0, 1, 12)12 - AIC:115.71463601243794\n",
      "SARIMAX(0, 2, 0)x(0, 0, 2, 12)12 - AIC:102.82907742660436\n",
      "SARIMAX(0, 2, 0)x(0, 1, 0, 12)12 - AIC:84.89791823050663\n",
      "SARIMAX(0, 2, 0)x(0, 1, 1, 12)12 - AIC:68.47877240866003\n",
      "SARIMAX(0, 2, 0)x(0, 1, 2, 12)12 - AIC:70.47343973972906\n",
      "SARIMAX(0, 2, 0)x(0, 2, 0, 12)12 - AIC:119.5347013346077\n",
      "SARIMAX(0, 2, 0)x(0, 2, 1, 12)12 - AIC:103.05495577849672\n",
      "SARIMAX(0, 2, 0)x(0, 2, 2, 12)12 - AIC:100.30312572835946\n",
      "SARIMAX(0, 2, 0)x(1, 0, 0, 12)12 - AIC:93.73148646775348\n",
      "SARIMAX(0, 2, 0)x(1, 0, 1, 12)12 - AIC:86.77778358770558\n",
      "SARIMAX(0, 2, 0)x(1, 0, 2, 12)12 - AIC:88.58736248050992\n",
      "SARIMAX(0, 2, 0)x(1, 1, 0, 12)12 - AIC:72.82106578575574\n",
      "SARIMAX(0, 2, 0)x(1, 1, 1, 12)12 - AIC:70.46983896332986\n",
      "SARIMAX(0, 2, 0)x(1, 1, 2, 12)12 - AIC:72.41325187506305\n",
      "SARIMAX(0, 2, 0)x(1, 2, 0, 12)12 - AIC:103.95438256594235\n",
      "SARIMAX(0, 2, 0)x(1, 2, 1, 12)12 - AIC:100.40940130411326\n",
      "SARIMAX(0, 2, 0)x(1, 2, 2, 12)12 - AIC:101.66165549781653\n",
      "SARIMAX(0, 2, 0)x(2, 0, 0, 12)12 - AIC:87.21523012608517\n",
      "SARIMAX(0, 2, 0)x(2, 0, 1, 12)12 - AIC:88.35884770827462\n",
      "SARIMAX(0, 2, 0)x(2, 0, 2, 12)12 - AIC:90.35764715938176\n",
      "SARIMAX(0, 2, 0)x(2, 1, 0, 12)12 - AIC:71.98758079086332\n",
      "SARIMAX(0, 2, 0)x(2, 1, 1, 12)12 - AIC:75.17397278006013\n",
      "SARIMAX(0, 2, 0)x(2, 1, 2, 12)12 - AIC:73.88159611014407\n",
      "SARIMAX(0, 2, 0)x(2, 2, 0, 12)12 - AIC:98.93194883483045\n",
      "SARIMAX(0, 2, 0)x(2, 2, 1, 12)12 - AIC:100.89004237930814\n",
      "SARIMAX(0, 2, 0)x(2, 2, 2, 12)12 - AIC:102.7448360443043\n",
      "SARIMAX(0, 2, 1)x(0, 0, 0, 12)12 - AIC:96.97261153351042\n",
      "SARIMAX(0, 2, 1)x(0, 0, 1, 12)12 - AIC:63.35222333224721\n",
      "SARIMAX(0, 2, 1)x(0, 0, 2, 12)12 - AIC:34.902066770379875\n",
      "SARIMAX(0, 2, 1)x(0, 1, 0, 12)12 - AIC:13.335552551224804\n",
      "SARIMAX(0, 2, 1)x(0, 1, 1, 12)12 - AIC:2.7921120517133513\n",
      "SARIMAX(0, 2, 1)x(0, 1, 2, 12)12 - AIC:4.398215910170439\n",
      "SARIMAX(0, 2, 1)x(0, 2, 0, 12)12 - AIC:63.87750547402323\n",
      "SARIMAX(0, 2, 1)x(0, 2, 1, 12)12 - AIC:45.24939522982506\n",
      "SARIMAX(0, 2, 1)x(0, 2, 2, 12)12 - AIC:43.98792444660114\n",
      "SARIMAX(0, 2, 1)x(1, 0, 0, 12)12 - AIC:16.124088555024223\n",
      "SARIMAX(0, 2, 1)x(1, 0, 1, 12)12 - AIC:9.571930484881925\n",
      "SARIMAX(0, 2, 1)x(1, 0, 2, 12)12 - AIC:11.247040298581327\n",
      "SARIMAX(0, 2, 1)x(1, 1, 0, 12)12 - AIC:4.873950571486587\n",
      "SARIMAX(0, 2, 1)x(1, 1, 1, 12)12 - AIC:4.269450193023635\n",
      "SARIMAX(0, 2, 1)x(1, 1, 2, 12)12 - AIC:6.783182386141899\n",
      "SARIMAX(0, 2, 1)x(1, 2, 0, 12)12 - AIC:43.6075343913334\n",
      "SARIMAX(0, 2, 1)x(1, 2, 1, 12)12 - AIC:42.6824034930168\n",
      "SARIMAX(0, 2, 1)x(1, 2, 2, 12)12 - AIC:44.556750028480145\n",
      "SARIMAX(0, 2, 1)x(2, 0, 0, 12)12 - AIC:9.434015871837246\n",
      "SARIMAX(0, 2, 1)x(2, 0, 1, 12)12 - AIC:11.071605497502741\n",
      "SARIMAX(0, 2, 1)x(2, 0, 2, 12)12 - AIC:16.527357824322536\n",
      "SARIMAX(0, 2, 1)x(2, 1, 0, 12)12 - AIC:6.180260811872035\n",
      "SARIMAX(0, 2, 1)x(2, 1, 1, 12)12 - AIC:8.866787071641292\n",
      "SARIMAX(0, 2, 1)x(2, 1, 2, 12)12 - AIC:7.939009573598888\n",
      "SARIMAX(0, 2, 1)x(2, 2, 0, 12)12 - AIC:42.34193461859738\n",
      "SARIMAX(0, 2, 1)x(2, 2, 1, 12)12 - AIC:44.349312882546585\n",
      "SARIMAX(0, 2, 1)x(2, 2, 2, 12)12 - AIC:46.434209641796045\n",
      "SARIMAX(0, 2, 2)x(0, 0, 0, 12)12 - AIC:98.87683476752855\n",
      "SARIMAX(0, 2, 2)x(0, 0, 1, 12)12 - AIC:63.69218670341168\n",
      "SARIMAX(0, 2, 2)x(0, 0, 2, 12)12 - AIC:32.46337158629456\n",
      "SARIMAX(0, 2, 2)x(0, 1, 0, 12)12 - AIC:-8.879130478297999\n",
      "SARIMAX(0, 2, 2)x(0, 1, 1, 12)12 - AIC:-20.750067960907074\n",
      "SARIMAX(0, 2, 2)x(0, 1, 2, 12)12 - AIC:-19.064043468488556\n",
      "SARIMAX(0, 2, 2)x(0, 2, 0, 12)12 - AIC:50.34810436221266\n",
      "SARIMAX(0, 2, 2)x(0, 2, 1, 12)12 - AIC:23.711576151259578\n",
      "SARIMAX(0, 2, 2)x(0, 2, 2, 12)12 - AIC:22.019910806145464\n",
      "SARIMAX(0, 2, 2)x(1, 0, 0, 12)12 - AIC:8.64161923735308\n",
      "SARIMAX(0, 2, 2)x(1, 0, 1, 12)12 - AIC:-6.308521437882355\n",
      "SARIMAX(0, 2, 2)x(1, 0, 2, 12)12 - AIC:3.263851381483523\n",
      "SARIMAX(0, 2, 2)x(1, 1, 0, 12)12 - AIC:-20.40347236360767\n",
      "SARIMAX(0, 2, 2)x(1, 1, 1, 12)12 - AIC:-19.504106913815527\n",
      "SARIMAX(0, 2, 2)x(1, 1, 2, 12)12 - AIC:-17.036694538981834\n",
      "SARIMAX(0, 2, 2)x(1, 2, 0, 12)12 - AIC:20.989980263035356\n",
      "SARIMAX(0, 2, 2)x(1, 2, 1, 12)12 - AIC:18.751093191499677\n",
      "SARIMAX(0, 2, 2)x(1, 2, 2, 12)12 - AIC:22.804084637571794\n",
      "SARIMAX(0, 2, 2)x(2, 0, 0, 12)12 - AIC:-5.803322681020099\n",
      "SARIMAX(0, 2, 2)x(2, 0, 1, 12)12 - AIC:-3.454768939117635\n",
      "SARIMAX(0, 2, 2)x(2, 0, 2, 12)12 - AIC:2.6059142063681513\n",
      "SARIMAX(0, 2, 2)x(2, 1, 0, 12)12 - AIC:-18.778210634683514\n",
      "SARIMAX(0, 2, 2)x(2, 1, 1, 12)12 - AIC:-16.307823422171264\n",
      "SARIMAX(0, 2, 2)x(2, 1, 2, 12)12 - AIC:-16.537942004354953\n",
      "SARIMAX(0, 2, 2)x(2, 2, 0, 12)12 - AIC:18.48949551178341\n",
      "SARIMAX(0, 2, 2)x(2, 2, 1, 12)12 - AIC:20.8641438805865\n",
      "SARIMAX(0, 2, 2)x(2, 2, 2, 12)12 - AIC:23.62474955005615\n",
      "SARIMAX(1, 0, 0)x(0, 0, 0, 12)12 - AIC:81.09610253393771\n",
      "SARIMAX(1, 0, 0)x(0, 0, 1, 12)12 - AIC:39.334734636207244\n",
      "SARIMAX(1, 0, 0)x(0, 0, 2, 12)12 - AIC:16.238965710466672\n",
      "SARIMAX(1, 0, 0)x(0, 1, 0, 12)12 - AIC:-15.681343434321533\n",
      "SARIMAX(1, 0, 0)x(0, 1, 1, 12)12 - AIC:-33.86156808934678\n",
      "SARIMAX(1, 0, 0)x(0, 1, 2, 12)12 - AIC:-31.999377063872885\n",
      "SARIMAX(1, 0, 0)x(0, 2, 0, 12)12 - AIC:43.4965256563343\n",
      "SARIMAX(1, 0, 0)x(0, 2, 1, 12)12 - AIC:19.82392719643153\n",
      "SARIMAX(1, 0, 0)x(0, 2, 2, 12)12 - AIC:17.42393053339567\n",
      "SARIMAX(1, 0, 0)x(1, 0, 0, 12)12 - AIC:-5.290512680005634\n",
      "SARIMAX(1, 0, 0)x(1, 0, 1, 12)12 - AIC:-8.78000214190805\n",
      "SARIMAX(1, 0, 0)x(1, 0, 2, 12)12 - AIC:-8.04935549314904\n",
      "SARIMAX(1, 0, 0)x(1, 1, 0, 12)12 - AIC:-27.526663763341176\n",
      "SARIMAX(1, 0, 0)x(1, 1, 1, 12)12 - AIC:-32.01292131923732\n",
      "SARIMAX(1, 0, 0)x(1, 1, 2, 12)12 - AIC:-30.002269841172257\n",
      "SARIMAX(1, 0, 0)x(1, 2, 0, 12)12 - AIC:21.530351470352237\n",
      "SARIMAX(1, 0, 0)x(1, 2, 1, 12)12 - AIC:17.329619182943347\n",
      "SARIMAX(1, 0, 0)x(1, 2, 2, 12)12 - AIC:19.151385524112218\n",
      "SARIMAX(1, 0, 0)x(2, 0, 0, 12)12 - AIC:-9.89339943502761\n",
      "SARIMAX(1, 0, 0)x(2, 0, 1, 12)12 - AIC:-7.901120345457489\n",
      "SARIMAX(1, 0, 0)x(2, 0, 2, 12)12 - AIC:-6.056872911983287\n",
      "SARIMAX(1, 0, 0)x(2, 1, 0, 12)12 - AIC:-26.935632579482103\n",
      "SARIMAX(1, 0, 0)x(2, 1, 1, 12)12 - AIC:-30.133798637741968\n",
      "SARIMAX(1, 0, 0)x(2, 1, 2, 12)12 - AIC:-28.568289181123674\n",
      "SARIMAX(1, 0, 0)x(2, 2, 0, 12)12 - AIC:18.88121462351553\n",
      "SARIMAX(1, 0, 0)x(2, 2, 1, 12)12 - AIC:19.239166029843624\n",
      "SARIMAX(1, 0, 0)x(2, 2, 2, 12)12 - AIC:20.991348497118082\n",
      "SARIMAX(1, 0, 1)x(0, 0, 0, 12)12 - AIC:80.69744797361672\n",
      "SARIMAX(1, 0, 1)x(0, 0, 1, 12)12 - AIC:40.85684133938272\n",
      "SARIMAX(1, 0, 1)x(0, 0, 2, 12)12 - AIC:17.968760645276983\n",
      "SARIMAX(1, 0, 1)x(0, 1, 0, 12)12 - AIC:-20.293901263465422\n",
      "SARIMAX(1, 0, 1)x(0, 1, 1, 12)12 - AIC:-37.02884805868348\n",
      "SARIMAX(1, 0, 1)x(0, 1, 2, 12)12 - AIC:-35.08718721556342\n",
      "SARIMAX(1, 0, 1)x(0, 2, 0, 12)12 - AIC:42.374256248173545\n",
      "SARIMAX(1, 0, 1)x(0, 2, 1, 12)12 - AIC:14.863905538944772\n",
      "SARIMAX(1, 0, 1)x(0, 2, 2, 12)12 - AIC:11.68257070532036\n",
      "SARIMAX(1, 0, 1)x(1, 0, 0, 12)12 - AIC:-8.20774652167545\n",
      "SARIMAX(1, 0, 1)x(1, 0, 1, 12)12 - AIC:-14.73819190838481\n",
      "SARIMAX(1, 0, 1)x(1, 0, 2, 12)12 - AIC:-13.621062606665575\n",
      "SARIMAX(1, 0, 1)x(1, 1, 0, 12)12 - AIC:-34.01080712009539\n",
      "SARIMAX(1, 0, 1)x(1, 1, 1, 12)12 - AIC:-35.125096438715985\n"
     ]
    },
    {
     "name": "stdout",
     "output_type": "stream",
     "text": [
      "SARIMAX(1, 0, 1)x(1, 1, 2, 12)12 - AIC:-33.19241958412269\n",
      "SARIMAX(1, 0, 1)x(1, 2, 0, 12)12 - AIC:14.821069613148268\n",
      "SARIMAX(1, 0, 1)x(1, 2, 1, 12)12 - AIC:10.554169979660635\n",
      "SARIMAX(1, 0, 1)x(1, 2, 2, 12)12 - AIC:12.879343394524582\n",
      "SARIMAX(1, 0, 1)x(2, 0, 0, 12)12 - AIC:-16.845871535325657\n",
      "SARIMAX(1, 0, 1)x(2, 0, 1, 12)12 - AIC:-13.936234510971271\n",
      "SARIMAX(1, 0, 1)x(2, 0, 2, 12)12 - AIC:-11.07735590485336\n",
      "SARIMAX(1, 0, 1)x(2, 1, 0, 12)12 - AIC:-32.81158716583137\n",
      "SARIMAX(1, 0, 1)x(2, 1, 1, 12)12 - AIC:-33.37191976419765\n",
      "SARIMAX(1, 0, 1)x(2, 1, 2, 12)12 - AIC:-32.41128734020651\n",
      "SARIMAX(1, 0, 1)x(2, 2, 0, 12)12 - AIC:12.009234295270693\n",
      "SARIMAX(1, 0, 1)x(2, 2, 1, 12)12 - AIC:12.55352829929695\n",
      "SARIMAX(1, 0, 1)x(2, 2, 2, 12)12 - AIC:14.553509277541252\n",
      "SARIMAX(1, 0, 2)x(0, 0, 0, 12)12 - AIC:73.5553132904283\n",
      "SARIMAX(1, 0, 2)x(0, 0, 1, 12)12 - AIC:34.734989899276385\n",
      "SARIMAX(1, 0, 2)x(0, 0, 2, 12)12 - AIC:7.665993308048382\n",
      "SARIMAX(1, 0, 2)x(0, 1, 0, 12)12 - AIC:-26.7072869406815\n",
      "SARIMAX(1, 0, 2)x(0, 1, 1, 12)12 - AIC:-40.08082788452908\n",
      "SARIMAX(1, 0, 2)x(0, 1, 2, 12)12 - AIC:-38.432755621554136\n",
      "SARIMAX(1, 0, 2)x(0, 2, 0, 12)12 - AIC:32.76039384861784\n",
      "SARIMAX(1, 0, 2)x(0, 2, 1, 12)12 - AIC:10.59572613243243\n",
      "SARIMAX(1, 0, 2)x(0, 2, 2, 12)12 - AIC:9.686390369470203\n",
      "SARIMAX(1, 0, 2)x(1, 0, 0, 12)12 - AIC:-14.058051722181876\n",
      "SARIMAX(1, 0, 2)x(1, 0, 1, 12)12 - AIC:-15.107152126681921\n",
      "SARIMAX(1, 0, 2)x(1, 0, 2, 12)12 - AIC:-14.326069281688046\n",
      "SARIMAX(1, 0, 2)x(1, 1, 0, 12)12 - AIC:-36.45592487028756\n",
      "SARIMAX(1, 0, 2)x(1, 1, 1, 12)12 - AIC:-38.620608446225084\n",
      "SARIMAX(1, 0, 2)x(1, 1, 2, 12)12 - AIC:-35.69251603566533\n",
      "SARIMAX(1, 0, 2)x(1, 2, 0, 12)12 - AIC:10.935456666197432\n",
      "SARIMAX(1, 0, 2)x(1, 2, 1, 12)12 - AIC:9.160835268176278\n",
      "SARIMAX(1, 0, 2)x(1, 2, 2, 12)12 - AIC:10.707191248425506\n",
      "SARIMAX(1, 0, 2)x(2, 0, 0, 12)12 - AIC:-15.994588855980506\n",
      "SARIMAX(1, 0, 2)x(2, 0, 1, 12)12 - AIC:-14.927655578861245\n",
      "SARIMAX(1, 0, 2)x(2, 0, 2, 12)12 - AIC:-12.356688996289858\n",
      "SARIMAX(1, 0, 2)x(2, 1, 0, 12)12 - AIC:-35.01228358074618\n",
      "SARIMAX(1, 0, 2)x(2, 1, 1, 12)12 - AIC:-37.05088703143827\n",
      "SARIMAX(1, 0, 2)x(2, 1, 2, 12)12 - AIC:-36.25943006385139\n",
      "SARIMAX(1, 0, 2)x(2, 2, 0, 12)12 - AIC:11.06806160703539\n",
      "SARIMAX(1, 0, 2)x(2, 2, 1, 12)12 - AIC:11.041524379023317\n",
      "SARIMAX(1, 0, 2)x(2, 2, 2, 12)12 - AIC:12.782491870808308\n",
      "SARIMAX(1, 1, 0)x(0, 0, 0, 12)12 - AIC:92.76852829347186\n",
      "SARIMAX(1, 1, 0)x(0, 0, 1, 12)12 - AIC:53.048922503064155\n",
      "SARIMAX(1, 1, 0)x(0, 0, 2, 12)12 - AIC:25.847846084245198\n",
      "SARIMAX(1, 1, 0)x(0, 1, 0, 12)12 - AIC:-20.30042276350891\n",
      "SARIMAX(1, 1, 0)x(0, 1, 1, 12)12 - AIC:-30.83782800408202\n",
      "SARIMAX(1, 1, 0)x(0, 1, 2, 12)12 - AIC:-28.95677721788671\n",
      "SARIMAX(1, 1, 0)x(0, 2, 0, 12)12 - AIC:43.10932416825924\n",
      "SARIMAX(1, 1, 0)x(0, 2, 1, 12)12 - AIC:14.532306749495081\n",
      "SARIMAX(1, 1, 0)x(0, 2, 2, 12)12 - AIC:11.229717477090482\n",
      "SARIMAX(1, 1, 0)x(1, 0, 0, 12)12 - AIC:-6.752469707577431\n",
      "SARIMAX(1, 1, 0)x(1, 0, 1, 12)12 - AIC:-14.946159999530824\n",
      "SARIMAX(1, 1, 0)x(1, 0, 2, 12)12 - AIC:-13.321249407111353\n",
      "SARIMAX(1, 1, 0)x(1, 1, 0, 12)12 - AIC:-31.332531361496073\n",
      "SARIMAX(1, 1, 0)x(1, 1, 1, 12)12 - AIC:-29.361094479389152\n",
      "SARIMAX(1, 1, 0)x(1, 1, 2, 12)12 - AIC:-28.10896456573093\n",
      "SARIMAX(1, 1, 0)x(1, 2, 0, 12)12 - AIC:11.747302041967133\n",
      "SARIMAX(1, 1, 0)x(1, 2, 1, 12)12 - AIC:9.505870121052759\n",
      "SARIMAX(1, 1, 0)x(1, 2, 2, 12)12 - AIC:11.480372228950415\n",
      "SARIMAX(1, 1, 0)x(2, 0, 0, 12)12 - AIC:-16.009594955899026\n",
      "SARIMAX(1, 1, 0)x(2, 0, 1, 12)12 - AIC:-14.013472559384184\n",
      "SARIMAX(1, 1, 0)x(2, 0, 2, 12)12 - AIC:-12.350070027566996\n",
      "SARIMAX(1, 1, 0)x(2, 1, 0, 12)12 - AIC:-29.34392440278676\n",
      "SARIMAX(1, 1, 0)x(2, 1, 1, 12)12 - AIC:-27.39930763139605\n",
      "SARIMAX(1, 1, 0)x(2, 1, 2, 12)12 - AIC:-27.200322431192347\n",
      "SARIMAX(1, 1, 0)x(2, 2, 0, 12)12 - AIC:10.292046173615088\n",
      "SARIMAX(1, 1, 0)x(2, 2, 1, 12)12 - AIC:11.473881675870114\n",
      "SARIMAX(1, 1, 0)x(2, 2, 2, 12)12 - AIC:13.463833972265135\n",
      "SARIMAX(1, 1, 1)x(0, 0, 0, 12)12 - AIC:87.21464854272685\n",
      "SARIMAX(1, 1, 1)x(0, 0, 1, 12)12 - AIC:52.80725825635973\n",
      "SARIMAX(1, 1, 1)x(0, 0, 2, 12)12 - AIC:27.161972510452358\n",
      "SARIMAX(1, 1, 1)x(0, 1, 0, 12)12 - AIC:-18.406890940683752\n",
      "SARIMAX(1, 1, 1)x(0, 1, 1, 12)12 - AIC:-30.90061513969028\n",
      "SARIMAX(1, 1, 1)x(0, 1, 2, 12)12 - AIC:-28.924608037954826\n",
      "SARIMAX(1, 1, 1)x(0, 2, 0, 12)12 - AIC:43.63257645062891\n",
      "SARIMAX(1, 1, 1)x(0, 2, 1, 12)12 - AIC:16.3727344739301\n",
      "SARIMAX(1, 1, 1)x(0, 2, 2, 12)12 - AIC:13.22037711902063\n",
      "SARIMAX(1, 1, 1)x(1, 0, 0, 12)12 - AIC:6.141516891321133\n",
      "SARIMAX(1, 1, 1)x(1, 0, 1, 12)12 - AIC:8.152297858678116\n",
      "SARIMAX(1, 1, 1)x(1, 0, 2, 12)12 - AIC:10.137831496178531\n",
      "SARIMAX(1, 1, 1)x(1, 1, 0, 12)12 - AIC:-30.338123442424006\n",
      "SARIMAX(1, 1, 1)x(1, 1, 1, 12)12 - AIC:-28.974973310317843\n",
      "SARIMAX(1, 1, 1)x(1, 1, 2, 12)12 - AIC:-27.875359064608062\n",
      "SARIMAX(1, 1, 1)x(1, 2, 0, 12)12 - AIC:13.40491363165969\n",
      "SARIMAX(1, 1, 1)x(1, 2, 1, 12)12 - AIC:11.499239298751522\n",
      "SARIMAX(1, 1, 1)x(1, 2, 2, 12)12 - AIC:13.478021404273434\n",
      "SARIMAX(1, 1, 1)x(2, 0, 0, 12)12 - AIC:1.681577329507034\n",
      "SARIMAX(1, 1, 1)x(2, 0, 1, 12)12 - AIC:10.053013510130462\n",
      "SARIMAX(1, 1, 1)x(2, 0, 2, 12)12 - AIC:12.344319988163035\n",
      "SARIMAX(1, 1, 1)x(2, 1, 0, 12)12 - AIC:-28.559140148215633\n",
      "SARIMAX(1, 1, 1)x(2, 1, 1, 12)12 - AIC:-27.090831440638766\n",
      "SARIMAX(1, 1, 1)x(2, 1, 2, 12)12 - AIC:-26.754542199453567\n",
      "SARIMAX(1, 1, 1)x(2, 2, 0, 12)12 - AIC:12.2890238519808\n",
      "SARIMAX(1, 1, 1)x(2, 2, 1, 12)12 - AIC:13.472215798190676\n",
      "SARIMAX(1, 1, 1)x(2, 2, 2, 12)12 - AIC:15.467132858942321\n",
      "SARIMAX(1, 1, 2)x(0, 0, 0, 12)12 - AIC:80.35737310520793\n",
      "SARIMAX(1, 1, 2)x(0, 0, 1, 12)12 - AIC:40.83034252055753\n",
      "SARIMAX(1, 1, 2)x(0, 0, 2, 12)12 - AIC:17.820628802839796\n",
      "SARIMAX(1, 1, 2)x(0, 1, 0, 12)12 - AIC:-17.223554658177083\n",
      "SARIMAX(1, 1, 2)x(0, 1, 1, 12)12 - AIC:-30.139238700587264\n",
      "SARIMAX(1, 1, 2)x(0, 1, 2, 12)12 - AIC:-28.196746391835177\n",
      "SARIMAX(1, 1, 2)x(0, 2, 0, 12)12 - AIC:44.808623911253065\n",
      "SARIMAX(1, 1, 2)x(0, 2, 1, 12)12 - AIC:17.840902980545813\n",
      "SARIMAX(1, 1, 2)x(0, 2, 2, 12)12 - AIC:14.581247320760585\n",
      "SARIMAX(1, 1, 2)x(1, 0, 0, 12)12 - AIC:-3.5996283144250416\n",
      "SARIMAX(1, 1, 2)x(1, 0, 1, 12)12 - AIC:-12.947795898762287\n",
      "SARIMAX(1, 1, 2)x(1, 0, 2, 12)12 - AIC:-10.597682665683742\n",
      "SARIMAX(1, 1, 2)x(1, 1, 0, 12)12 - AIC:-29.806814610813596\n",
      "SARIMAX(1, 1, 2)x(1, 1, 1, 12)12 - AIC:-28.302374649815825\n",
      "SARIMAX(1, 1, 2)x(1, 1, 2, 12)12 - AIC:-27.294505788927346\n",
      "SARIMAX(1, 1, 2)x(1, 2, 0, 12)12 - AIC:15.355896024698307\n",
      "SARIMAX(1, 1, 2)x(1, 2, 1, 12)12 - AIC:12.828480138683009\n",
      "SARIMAX(1, 1, 2)x(1, 2, 2, 12)12 - AIC:14.780744753639123\n",
      "SARIMAX(1, 1, 2)x(2, 0, 0, 12)12 - AIC:-13.709352623983236\n",
      "SARIMAX(1, 1, 2)x(2, 0, 1, 12)12 - AIC:-11.822473102033406\n",
      "SARIMAX(1, 1, 2)x(2, 0, 2, 12)12 - AIC:-9.385961355895244\n",
      "SARIMAX(1, 1, 2)x(2, 1, 0, 12)12 - AIC:-27.94876296818294\n",
      "SARIMAX(1, 1, 2)x(2, 1, 1, 12)12 - AIC:-25.808468924510613\n",
      "SARIMAX(1, 1, 2)x(2, 1, 2, 12)12 - AIC:-26.20972371883947\n",
      "SARIMAX(1, 1, 2)x(2, 2, 0, 12)12 - AIC:13.901070372796438\n",
      "SARIMAX(1, 1, 2)x(2, 2, 1, 12)12 - AIC:14.772279976274575\n",
      "SARIMAX(1, 1, 2)x(2, 2, 2, 12)12 - AIC:16.774557405021515\n",
      "SARIMAX(1, 2, 0)x(0, 0, 0, 12)12 - AIC:123.52914328163891\n",
      "SARIMAX(1, 2, 0)x(0, 0, 1, 12)12 - AIC:86.35642455407331\n",
      "SARIMAX(1, 2, 0)x(0, 0, 2, 12)12 - AIC:56.757932537657325\n",
      "SARIMAX(1, 2, 0)x(0, 1, 0, 12)12 - AIC:20.709463168822964\n",
      "SARIMAX(1, 2, 0)x(0, 1, 1, 12)12 - AIC:14.988018762058546\n",
      "SARIMAX(1, 2, 0)x(0, 1, 2, 12)12 - AIC:16.980002513706488\n",
      "SARIMAX(1, 2, 0)x(0, 2, 0, 12)12 - AIC:68.15264464585005\n",
      "SARIMAX(1, 2, 0)x(0, 2, 1, 12)12 - AIC:47.83420534067093\n",
      "SARIMAX(1, 2, 0)x(0, 2, 2, 12)12 - AIC:46.89332096063154\n",
      "SARIMAX(1, 2, 0)x(1, 0, 0, 12)12 - AIC:35.39794573998425\n",
      "SARIMAX(1, 2, 0)x(1, 0, 1, 12)12 - AIC:32.12772197338744\n",
      "SARIMAX(1, 2, 0)x(1, 0, 2, 12)12 - AIC:33.905545522387314\n",
      "SARIMAX(1, 2, 0)x(1, 1, 0, 12)12 - AIC:15.084242861346304\n",
      "SARIMAX(1, 2, 0)x(1, 1, 1, 12)12 - AIC:17.05926685114786\n",
      "SARIMAX(1, 2, 0)x(1, 1, 2, 12)12 - AIC:17.92782912818265\n",
      "SARIMAX(1, 2, 0)x(1, 2, 0, 12)12 - AIC:44.1927766691466\n",
      "SARIMAX(1, 2, 0)x(1, 2, 1, 12)12 - AIC:45.32983087491154\n",
      "SARIMAX(1, 2, 0)x(1, 2, 2, 12)12 - AIC:46.88546292397232\n",
      "SARIMAX(1, 2, 0)x(2, 0, 0, 12)12 - AIC:31.293082307145326\n",
      "SARIMAX(1, 2, 0)x(2, 0, 1, 12)12 - AIC:32.66002558615652\n",
      "SARIMAX(1, 2, 0)x(2, 0, 2, 12)12 - AIC:34.32819868710155\n"
     ]
    },
    {
     "name": "stdout",
     "output_type": "stream",
     "text": [
      "SARIMAX(1, 2, 0)x(2, 1, 0, 12)12 - AIC:17.08277027480659\n",
      "SARIMAX(1, 2, 0)x(2, 1, 1, 12)12 - AIC:18.639352843295626\n",
      "SARIMAX(1, 2, 0)x(2, 1, 2, 12)12 - AIC:18.67182084757698\n",
      "SARIMAX(1, 2, 0)x(2, 2, 0, 12)12 - AIC:45.66430385856127\n",
      "SARIMAX(1, 2, 0)x(2, 2, 1, 12)12 - AIC:46.87436300708386\n",
      "SARIMAX(1, 2, 0)x(2, 2, 2, 12)12 - AIC:48.86181452959473\n",
      "SARIMAX(1, 2, 1)x(0, 0, 0, 12)12 - AIC:98.87130364888131\n",
      "SARIMAX(1, 2, 1)x(0, 0, 1, 12)12 - AIC:59.098076231069236\n",
      "SARIMAX(1, 2, 1)x(0, 0, 2, 12)12 - AIC:31.794254383465137\n",
      "SARIMAX(1, 2, 1)x(0, 1, 0, 12)12 - AIC:-11.72292887103831\n",
      "SARIMAX(1, 2, 1)x(0, 1, 1, 12)12 - AIC:-17.37428466518022\n",
      "SARIMAX(1, 2, 1)x(0, 1, 2, 12)12 - AIC:-16.63140707348619\n",
      "SARIMAX(1, 2, 1)x(0, 2, 0, 12)12 - AIC:49.80162859279401\n",
      "SARIMAX(1, 2, 1)x(0, 2, 1, 12)12 - AIC:23.186749376597476\n",
      "SARIMAX(1, 2, 1)x(0, 2, 2, 12)12 - AIC:19.561840002572087\n",
      "SARIMAX(1, 2, 1)x(1, 0, 0, 12)12 - AIC:-1.4651338182866898\n",
      "SARIMAX(1, 2, 1)x(1, 0, 1, 12)12 - AIC:5.236230071669721\n",
      "SARIMAX(1, 2, 1)x(1, 0, 2, 12)12 - AIC:-6.777383610856667\n",
      "SARIMAX(1, 2, 1)x(1, 1, 0, 12)12 - AIC:-21.8882004708895\n",
      "SARIMAX(1, 2, 1)x(1, 1, 1, 12)12 - AIC:-19.8906543107306\n",
      "SARIMAX(1, 2, 1)x(1, 1, 2, 12)12 - AIC:-18.42106249467369\n",
      "SARIMAX(1, 2, 1)x(1, 2, 0, 12)12 - AIC:19.031508089210398\n",
      "SARIMAX(1, 2, 1)x(1, 2, 1, 12)12 - AIC:17.665355743882273\n",
      "SARIMAX(1, 2, 1)x(1, 2, 2, 12)12 - AIC:20.019448340654804\n",
      "SARIMAX(1, 2, 1)x(2, 0, 0, 12)12 - AIC:-10.767093842454521\n",
      "SARIMAX(1, 2, 1)x(2, 0, 1, 12)12 - AIC:-7.308151255949113\n",
      "SARIMAX(1, 2, 1)x(2, 0, 2, 12)12 - AIC:-0.926016049454482\n",
      "SARIMAX(1, 2, 1)x(2, 1, 0, 12)12 - AIC:-19.889733358433546\n",
      "SARIMAX(1, 2, 1)x(2, 1, 1, 12)12 - AIC:-17.906176424398957\n",
      "SARIMAX(1, 2, 1)x(2, 1, 2, 12)12 - AIC:-16.45187677341879\n",
      "SARIMAX(1, 2, 1)x(2, 2, 0, 12)12 - AIC:17.99770821655351\n",
      "SARIMAX(1, 2, 1)x(2, 2, 1, 12)12 - AIC:19.970424246245585\n",
      "SARIMAX(1, 2, 1)x(2, 2, 2, 12)12 - AIC:23.264746048756635\n",
      "SARIMAX(1, 2, 2)x(0, 0, 0, 12)12 - AIC:93.44477293023841\n",
      "SARIMAX(1, 2, 2)x(0, 0, 1, 12)12 - AIC:58.797754264968454\n",
      "SARIMAX(1, 2, 2)x(0, 0, 2, 12)12 - AIC:30.366507422149223\n",
      "SARIMAX(1, 2, 2)x(0, 1, 0, 12)12 - AIC:-9.92197671523239\n",
      "SARIMAX(1, 2, 2)x(0, 1, 1, 12)12 - AIC:-19.865999529282387\n",
      "SARIMAX(1, 2, 2)x(0, 1, 2, 12)12 - AIC:-16.198048538080336\n",
      "SARIMAX(1, 2, 2)x(0, 2, 0, 12)12 - AIC:50.25015858066641\n",
      "SARIMAX(1, 2, 2)x(0, 2, 1, 12)12 - AIC:25.043175019324956\n",
      "SARIMAX(1, 2, 2)x(0, 2, 2, 12)12 - AIC:22.691323336510408\n",
      "SARIMAX(1, 2, 2)x(1, 0, 0, 12)12 - AIC:-0.12990112010087174\n",
      "SARIMAX(1, 2, 2)x(1, 0, 1, 12)12 - AIC:0.43512409813438424\n",
      "SARIMAX(1, 2, 2)x(1, 0, 2, 12)12 - AIC:0.2536655603860094\n",
      "SARIMAX(1, 2, 2)x(1, 1, 0, 12)12 - AIC:-20.198047044564376\n",
      "SARIMAX(1, 2, 2)x(1, 1, 1, 12)12 - AIC:-18.35392067385971\n",
      "SARIMAX(1, 2, 2)x(1, 1, 2, 12)12 - AIC:-16.728349613671504\n",
      "SARIMAX(1, 2, 2)x(1, 2, 0, 12)12 - AIC:20.785339541258256\n",
      "SARIMAX(1, 2, 2)x(1, 2, 1, 12)12 - AIC:19.754599592493467\n",
      "SARIMAX(1, 2, 2)x(1, 2, 2, 12)12 - AIC:21.948127126477193\n",
      "SARIMAX(1, 2, 2)x(2, 0, 0, 12)12 - AIC:-3.269003124058383\n",
      "SARIMAX(1, 2, 2)x(2, 0, 1, 12)12 - AIC:-1.018135125484907\n",
      "SARIMAX(1, 2, 2)x(2, 0, 2, 12)12 - AIC:2.73550847743363\n",
      "SARIMAX(1, 2, 2)x(2, 1, 0, 12)12 - AIC:-18.270857745173473\n",
      "SARIMAX(1, 2, 2)x(2, 1, 1, 12)12 - AIC:-15.079624247501837\n",
      "SARIMAX(1, 2, 2)x(2, 1, 2, 12)12 - AIC:-13.666022610558041\n",
      "SARIMAX(1, 2, 2)x(2, 2, 0, 12)12 - AIC:20.022247662967054\n",
      "SARIMAX(1, 2, 2)x(2, 2, 1, 12)12 - AIC:23.399693866231505\n",
      "SARIMAX(1, 2, 2)x(2, 2, 2, 12)12 - AIC:24.926239179073676\n",
      "SARIMAX(2, 0, 0)x(0, 0, 0, 12)12 - AIC:78.67597530561284\n",
      "SARIMAX(2, 0, 0)x(0, 0, 1, 12)12 - AIC:40.477521295597015\n",
      "SARIMAX(2, 0, 0)x(0, 0, 2, 12)12 - AIC:17.72298512064919\n",
      "SARIMAX(2, 0, 0)x(0, 1, 0, 12)12 - AIC:-25.464880418269033\n",
      "SARIMAX(2, 0, 0)x(0, 1, 1, 12)12 - AIC:-39.44284147928458\n",
      "SARIMAX(2, 0, 0)x(0, 1, 2, 12)12 - AIC:-37.443215325760555\n",
      "SARIMAX(2, 0, 0)x(0, 2, 0, 12)12 - AIC:39.32428241059166\n",
      "SARIMAX(2, 0, 0)x(0, 2, 1, 12)12 - AIC:10.314680936435721\n",
      "SARIMAX(2, 0, 0)x(0, 2, 2, 12)12 - AIC:7.13769688471373\n",
      "SARIMAX(2, 0, 0)x(1, 0, 0, 12)12 - AIC:-11.612531460594862\n",
      "SARIMAX(2, 0, 0)x(1, 0, 1, 12)12 - AIC:-18.090008637916647\n",
      "SARIMAX(2, 0, 0)x(1, 0, 2, 12)12 - AIC:-17.102897579708586\n",
      "SARIMAX(2, 0, 0)x(1, 1, 0, 12)12 - AIC:-38.0751727372945\n",
      "SARIMAX(2, 0, 0)x(1, 1, 1, 12)12 - AIC:-37.44362311258467\n",
      "SARIMAX(2, 0, 0)x(1, 1, 2, 12)12 - AIC:-36.12735618226628\n",
      "SARIMAX(2, 0, 0)x(1, 2, 0, 12)12 - AIC:9.40050597264647\n",
      "SARIMAX(2, 0, 0)x(1, 2, 1, 12)12 - AIC:5.916682319007114\n",
      "SARIMAX(2, 0, 0)x(1, 2, 2, 12)12 - AIC:7.8616846640043425\n",
      "SARIMAX(2, 0, 0)x(2, 0, 0, 12)12 - AIC:-19.64765025352232\n",
      "SARIMAX(2, 0, 0)x(2, 0, 1, 12)12 - AIC:-17.568035124099634\n",
      "SARIMAX(2, 0, 0)x(2, 0, 2, 12)12 - AIC:-15.634200530498966\n",
      "SARIMAX(2, 0, 0)x(2, 1, 0, 12)12 - AIC:-36.368934457324386\n",
      "SARIMAX(2, 0, 0)x(2, 1, 1, 12)12 - AIC:-36.754797820211316\n",
      "SARIMAX(2, 0, 0)x(2, 1, 2, 12)12 - AIC:-35.12032250195299\n",
      "SARIMAX(2, 0, 0)x(2, 2, 0, 12)12 - AIC:7.491661147111064\n",
      "SARIMAX(2, 0, 0)x(2, 2, 1, 12)12 - AIC:7.8702774454174325\n",
      "SARIMAX(2, 0, 0)x(2, 2, 2, 12)12 - AIC:9.864239797933026\n",
      "SARIMAX(2, 0, 1)x(0, 0, 0, 12)12 - AIC:78.78736021479003\n",
      "SARIMAX(2, 0, 1)x(0, 0, 1, 12)12 - AIC:43.334551126127636\n",
      "SARIMAX(2, 0, 1)x(0, 0, 2, 12)12 - AIC:15.831430588169784\n",
      "SARIMAX(2, 0, 1)x(0, 1, 0, 12)12 - AIC:-24.7394552702073\n",
      "SARIMAX(2, 0, 1)x(0, 1, 1, 12)12 - AIC:-37.78357239366175\n",
      "SARIMAX(2, 0, 1)x(0, 1, 2, 12)12 - AIC:-35.79719045534096\n",
      "SARIMAX(2, 0, 1)x(0, 2, 0, 12)12 - AIC:38.552527387262856\n",
      "SARIMAX(2, 0, 1)x(0, 2, 1, 12)12 - AIC:11.266955022339166\n",
      "SARIMAX(2, 0, 1)x(0, 2, 2, 12)12 - AIC:8.847830675311954\n",
      "SARIMAX(2, 0, 1)x(1, 0, 0, 12)12 - AIC:-11.724150319318632\n",
      "SARIMAX(2, 0, 1)x(1, 0, 1, 12)12 - AIC:-12.475044006448844\n",
      "SARIMAX(2, 0, 1)x(1, 0, 2, 12)12 - AIC:-15.837849131953725\n",
      "SARIMAX(2, 0, 1)x(1, 1, 0, 12)12 - AIC:-36.24266348012141\n",
      "SARIMAX(2, 0, 1)x(1, 1, 1, 12)12 - AIC:-35.810471625913905\n",
      "SARIMAX(2, 0, 1)x(1, 1, 2, 12)12 - AIC:-34.39109263461893\n",
      "SARIMAX(2, 0, 1)x(1, 2, 0, 12)12 - AIC:10.305230723043952\n",
      "SARIMAX(2, 0, 1)x(1, 2, 1, 12)12 - AIC:8.638039802271052\n",
      "SARIMAX(2, 0, 1)x(1, 2, 2, 12)12 - AIC:9.786865502669606\n",
      "SARIMAX(2, 0, 1)x(2, 0, 0, 12)12 - AIC:-18.28890511232577\n",
      "SARIMAX(2, 0, 1)x(2, 0, 1, 12)12 - AIC:-15.797590394334893\n",
      "SARIMAX(2, 0, 1)x(2, 0, 2, 12)12 - AIC:-14.077146506380032\n",
      "SARIMAX(2, 0, 1)x(2, 1, 0, 12)12 - AIC:-34.5147675905724\n",
      "SARIMAX(2, 0, 1)x(2, 1, 1, 12)12 - AIC:-34.82969167365826\n",
      "SARIMAX(2, 0, 1)x(2, 1, 2, 12)12 - AIC:-33.54003844282543\n",
      "SARIMAX(2, 0, 1)x(2, 2, 0, 12)12 - AIC:9.233159637204833\n",
      "SARIMAX(2, 0, 1)x(2, 2, 1, 12)12 - AIC:9.68921303316154\n",
      "SARIMAX(2, 0, 1)x(2, 2, 2, 12)12 - AIC:11.69850731185506\n",
      "SARIMAX(2, 0, 2)x(0, 0, 0, 12)12 - AIC:74.90143184495471\n",
      "SARIMAX(2, 0, 2)x(0, 0, 1, 12)12 - AIC:36.27804217524902\n",
      "SARIMAX(2, 0, 2)x(0, 0, 2, 12)12 - AIC:9.5445285299823\n",
      "SARIMAX(2, 0, 2)x(0, 1, 0, 12)12 - AIC:-26.35211769743467\n",
      "SARIMAX(2, 0, 2)x(0, 1, 1, 12)12 - AIC:-38.082899716304965\n",
      "SARIMAX(2, 0, 2)x(0, 1, 2, 12)12 - AIC:-36.44713909573356\n",
      "SARIMAX(2, 0, 2)x(0, 2, 0, 12)12 - AIC:34.40550179397289\n",
      "SARIMAX(2, 0, 2)x(0, 2, 1, 12)12 - AIC:10.763485996877161\n",
      "SARIMAX(2, 0, 2)x(0, 2, 2, 12)12 - AIC:9.653524996306707\n",
      "SARIMAX(2, 0, 2)x(1, 0, 0, 12)12 - AIC:-13.945218932436909\n",
      "SARIMAX(2, 0, 2)x(1, 0, 1, 12)12 - AIC:-16.070285441633423\n",
      "SARIMAX(2, 0, 2)x(1, 0, 2, 12)12 - AIC:-15.077451340364654\n",
      "SARIMAX(2, 0, 2)x(1, 1, 0, 12)12 - AIC:-35.214075719641976\n",
      "SARIMAX(2, 0, 2)x(1, 1, 1, 12)12 - AIC:-36.624627012101115\n",
      "SARIMAX(2, 0, 2)x(1, 1, 2, 12)12 - AIC:-34.09211040308313\n",
      "SARIMAX(2, 0, 2)x(1, 2, 0, 12)12 - AIC:10.099932833560617\n",
      "SARIMAX(2, 0, 2)x(1, 2, 1, 12)12 - AIC:8.728884618291033\n",
      "SARIMAX(2, 0, 2)x(1, 2, 2, 12)12 - AIC:10.29126788425705\n",
      "SARIMAX(2, 0, 2)x(2, 0, 0, 12)12 - AIC:-17.245782028803454\n",
      "SARIMAX(2, 0, 2)x(2, 0, 1, 12)12 - AIC:-15.98762125208821\n",
      "SARIMAX(2, 0, 2)x(2, 0, 2, 12)12 - AIC:-13.479513362864935\n",
      "SARIMAX(2, 0, 2)x(2, 1, 0, 12)12 - AIC:-33.52016952554041\n",
      "SARIMAX(2, 0, 2)x(2, 1, 1, 12)12 - AIC:-34.97201826408252\n",
      "SARIMAX(2, 0, 2)x(2, 1, 2, 12)12 - AIC:-34.20078605643152\n",
      "SARIMAX(2, 0, 2)x(2, 2, 0, 12)12 - AIC:10.207032619990338\n",
      "SARIMAX(2, 0, 2)x(2, 2, 1, 12)12 - AIC:10.502377952198227\n",
      "SARIMAX(2, 0, 2)x(2, 2, 2, 12)12 - AIC:12.328744787635172\n",
      "SARIMAX(2, 1, 0)x(0, 0, 0, 12)12 - AIC:94.76004438739389\n"
     ]
    },
    {
     "name": "stdout",
     "output_type": "stream",
     "text": [
      "SARIMAX(2, 1, 0)x(0, 0, 1, 12)12 - AIC:54.969875648082095\n",
      "SARIMAX(2, 1, 0)x(0, 0, 2, 12)12 - AIC:26.50464099324996\n",
      "SARIMAX(2, 1, 0)x(0, 1, 0, 12)12 - AIC:-18.374371416011115\n",
      "SARIMAX(2, 1, 0)x(0, 1, 1, 12)12 - AIC:-29.05293703435855\n",
      "SARIMAX(2, 1, 0)x(0, 1, 2, 12)12 - AIC:-27.21658879233793\n",
      "SARIMAX(2, 1, 0)x(0, 2, 0, 12)12 - AIC:43.96595219924471\n",
      "SARIMAX(2, 1, 0)x(0, 2, 1, 12)12 - AIC:16.414558063166247\n",
      "SARIMAX(2, 1, 0)x(0, 2, 2, 12)12 - AIC:13.22324965712605\n",
      "SARIMAX(2, 1, 0)x(1, 0, 0, 12)12 - AIC:-5.154276403112826\n",
      "SARIMAX(2, 1, 0)x(1, 0, 1, 12)12 - AIC:-12.946196497437594\n",
      "SARIMAX(2, 1, 0)x(1, 0, 2, 12)12 - AIC:-11.322838223858493\n",
      "SARIMAX(2, 1, 0)x(1, 1, 0, 12)12 - AIC:-29.61343024301768\n",
      "SARIMAX(2, 1, 0)x(1, 1, 1, 12)12 - AIC:-27.674629679730913\n",
      "SARIMAX(2, 1, 0)x(1, 1, 2, 12)12 - AIC:-26.34457502494262\n",
      "SARIMAX(2, 1, 0)x(1, 2, 0, 12)12 - AIC:13.472734858201237\n",
      "SARIMAX(2, 1, 0)x(1, 2, 1, 12)12 - AIC:11.50137963151785\n",
      "SARIMAX(2, 1, 0)x(1, 2, 2, 12)12 - AIC:13.478807617683668\n",
      "SARIMAX(2, 1, 0)x(2, 0, 0, 12)12 - AIC:-14.009939260471306\n",
      "SARIMAX(2, 1, 0)x(2, 0, 1, 12)12 - AIC:-12.013512024243031\n",
      "SARIMAX(2, 1, 0)x(2, 0, 2, 12)12 - AIC:-10.231385109763373\n",
      "SARIMAX(2, 1, 0)x(2, 1, 0, 12)12 - AIC:-27.641363501166673\n",
      "SARIMAX(2, 1, 0)x(2, 1, 1, 12)12 - AIC:-25.640200515634078\n",
      "SARIMAX(2, 1, 0)x(2, 1, 2, 12)12 - AIC:-25.37714975304239\n",
      "SARIMAX(2, 1, 0)x(2, 2, 0, 12)12 - AIC:12.289810859399878\n",
      "SARIMAX(2, 1, 0)x(2, 2, 1, 12)12 - AIC:13.472965036999195\n",
      "SARIMAX(2, 1, 0)x(2, 2, 2, 12)12 - AIC:15.468217537775859\n",
      "SARIMAX(2, 1, 1)x(0, 0, 0, 12)12 - AIC:87.24229043235384\n",
      "SARIMAX(2, 1, 1)x(0, 0, 1, 12)12 - AIC:54.77415135780693\n",
      "SARIMAX(2, 1, 1)x(0, 0, 2, 12)12 - AIC:26.369540245813887\n",
      "SARIMAX(2, 1, 1)x(0, 1, 0, 12)12 - AIC:-20.88224960613543\n",
      "SARIMAX(2, 1, 1)x(0, 1, 1, 12)12 - AIC:-31.365068666899944\n",
      "SARIMAX(2, 1, 1)x(0, 1, 2, 12)12 - AIC:-29.105495041322605\n",
      "SARIMAX(2, 1, 1)x(0, 2, 0, 12)12 - AIC:45.595652667595395\n",
      "SARIMAX(2, 1, 1)x(0, 2, 1, 12)12 - AIC:16.594010766338812\n",
      "SARIMAX(2, 1, 1)x(0, 2, 2, 12)12 - AIC:13.650503136619651\n",
      "SARIMAX(2, 1, 1)x(1, 0, 0, 12)12 - AIC:-3.396372370471269\n",
      "SARIMAX(2, 1, 1)x(1, 0, 1, 12)12 - AIC:-16.48810915709054\n",
      "SARIMAX(2, 1, 1)x(1, 0, 2, 12)12 - AIC:-11.356453311891812\n",
      "SARIMAX(2, 1, 1)x(1, 1, 0, 12)12 - AIC:-30.79094140171562\n",
      "SARIMAX(2, 1, 1)x(1, 1, 1, 12)12 - AIC:-29.352984958759194\n",
      "SARIMAX(2, 1, 1)x(1, 1, 2, 12)12 - AIC:-27.90437134260393\n",
      "SARIMAX(2, 1, 1)x(1, 2, 0, 12)12 - AIC:14.687240026862948\n",
      "SARIMAX(2, 1, 1)x(1, 2, 1, 12)12 - AIC:12.02267343921037\n",
      "SARIMAX(2, 1, 1)x(1, 2, 2, 12)12 - AIC:13.968657575178236\n",
      "SARIMAX(2, 1, 1)x(2, 0, 0, 12)12 - AIC:-17.555462738674038\n",
      "SARIMAX(2, 1, 1)x(2, 0, 1, 12)12 - AIC:-17.78654809930483\n",
      "SARIMAX(2, 1, 1)x(2, 0, 2, 12)12 - AIC:-16.63639438187579\n",
      "SARIMAX(2, 1, 1)x(2, 1, 0, 12)12 - AIC:-28.914025894819183\n",
      "SARIMAX(2, 1, 1)x(2, 1, 1, 12)12 - AIC:-26.798574849731665\n",
      "SARIMAX(2, 1, 1)x(2, 1, 2, 12)12 - AIC:-27.354354072729606\n",
      "SARIMAX(2, 1, 1)x(2, 2, 0, 12)12 - AIC:13.109697494030263\n",
      "SARIMAX(2, 1, 1)x(2, 2, 1, 12)12 - AIC:15.438066070681419\n",
      "SARIMAX(2, 1, 1)x(2, 2, 2, 12)12 - AIC:15.969360247131833\n",
      "SARIMAX(2, 1, 2)x(0, 0, 0, 12)12 - AIC:79.37797983841685\n",
      "SARIMAX(2, 1, 2)x(0, 0, 1, 12)12 - AIC:41.76646660360964\n",
      "SARIMAX(2, 1, 2)x(0, 0, 2, 12)12 - AIC:15.972149102475644\n",
      "SARIMAX(2, 1, 2)x(0, 1, 0, 12)12 - AIC:-19.828293832275612\n",
      "SARIMAX(2, 1, 2)x(0, 1, 1, 12)12 - AIC:-30.027635578759032\n",
      "SARIMAX(2, 1, 2)x(0, 1, 2, 12)12 - AIC:-28.028072993576842\n",
      "SARIMAX(2, 1, 2)x(0, 2, 0, 12)12 - AIC:42.98412942594436\n",
      "SARIMAX(2, 1, 2)x(0, 2, 1, 12)12 - AIC:17.875353336467924\n",
      "SARIMAX(2, 1, 2)x(0, 2, 2, 12)12 - AIC:15.587962655434477\n",
      "SARIMAX(2, 1, 2)x(1, 0, 0, 12)12 - AIC:-11.791433832874997\n",
      "SARIMAX(2, 1, 2)x(1, 0, 1, 12)12 - AIC:-14.926453613634031\n",
      "SARIMAX(2, 1, 2)x(1, 0, 2, 12)12 - AIC:-13.62508220084834\n",
      "SARIMAX(2, 1, 2)x(1, 1, 0, 12)12 - AIC:-29.301881762310046\n",
      "SARIMAX(2, 1, 2)x(1, 1, 1, 12)12 - AIC:-28.023383259311302\n",
      "SARIMAX(2, 1, 2)x(1, 1, 2, 12)12 - AIC:-26.66414209669921\n",
      "SARIMAX(2, 1, 2)x(1, 2, 0, 12)12 - AIC:15.76572866270029\n",
      "SARIMAX(2, 1, 2)x(1, 2, 1, 12)12 - AIC:14.202803798052617\n",
      "SARIMAX(2, 1, 2)x(1, 2, 2, 12)12 - AIC:16.175065171007574\n",
      "SARIMAX(2, 1, 2)x(2, 0, 0, 12)12 - AIC:-17.045929352800414\n",
      "SARIMAX(2, 1, 2)x(2, 0, 1, 12)12 - AIC:-13.775192846883265\n",
      "SARIMAX(2, 1, 2)x(2, 0, 2, 12)12 - AIC:-13.360767630231564\n",
      "SARIMAX(2, 1, 2)x(2, 1, 0, 12)12 - AIC:-27.406835379906795\n",
      "SARIMAX(2, 1, 2)x(2, 1, 1, 12)12 - AIC:-25.327595902047314\n",
      "SARIMAX(2, 1, 2)x(2, 1, 2, 12)12 - AIC:-26.059169430783093\n",
      "SARIMAX(2, 1, 2)x(2, 2, 0, 12)12 - AIC:15.186267224236852\n",
      "SARIMAX(2, 1, 2)x(2, 2, 1, 12)12 - AIC:18.37777594790181\n",
      "SARIMAX(2, 1, 2)x(2, 2, 2, 12)12 - AIC:18.11956202119063\n",
      "SARIMAX(2, 2, 0)x(0, 0, 0, 12)12 - AIC:125.24043725869755\n",
      "SARIMAX(2, 2, 0)x(0, 0, 1, 12)12 - AIC:87.39330651967495\n",
      "SARIMAX(2, 2, 0)x(0, 0, 2, 12)12 - AIC:57.65612552605649\n",
      "SARIMAX(2, 2, 0)x(0, 1, 0, 12)12 - AIC:12.9919083410208\n",
      "SARIMAX(2, 2, 0)x(0, 1, 1, 12)12 - AIC:5.57265938936737\n",
      "SARIMAX(2, 2, 0)x(0, 1, 2, 12)12 - AIC:7.335942860203168\n",
      "SARIMAX(2, 2, 0)x(0, 2, 0, 12)12 - AIC:66.88387367569176\n",
      "SARIMAX(2, 2, 0)x(0, 2, 1, 12)12 - AIC:42.36555817020872\n",
      "SARIMAX(2, 2, 0)x(0, 2, 2, 12)12 - AIC:39.233561156785946\n",
      "SARIMAX(2, 2, 0)x(1, 0, 0, 12)12 - AIC:30.26698038601749\n",
      "SARIMAX(2, 2, 0)x(1, 0, 1, 12)12 - AIC:25.342380513638506\n",
      "SARIMAX(2, 2, 0)x(1, 0, 2, 12)12 - AIC:26.600859057821037\n",
      "SARIMAX(2, 2, 0)x(1, 1, 0, 12)12 - AIC:4.588410506404629\n",
      "SARIMAX(2, 2, 0)x(1, 1, 1, 12)12 - AIC:6.5578772844340465\n",
      "SARIMAX(2, 2, 0)x(1, 1, 2, 12)12 - AIC:8.241689282155921\n",
      "SARIMAX(2, 2, 0)x(1, 2, 0, 12)12 - AIC:38.409406290626045\n",
      "SARIMAX(2, 2, 0)x(1, 2, 1, 12)12 - AIC:37.83546411775827\n",
      "SARIMAX(2, 2, 0)x(1, 2, 2, 12)12 - AIC:39.83460596177633\n",
      "SARIMAX(2, 2, 0)x(2, 0, 0, 12)12 - AIC:23.939629793256067\n",
      "SARIMAX(2, 2, 0)x(2, 0, 1, 12)12 - AIC:25.673375333514876\n",
      "SARIMAX(2, 2, 0)x(2, 0, 2, 12)12 - AIC:27.576250543891064\n",
      "SARIMAX(2, 2, 0)x(2, 1, 0, 12)12 - AIC:6.570159788661957\n",
      "SARIMAX(2, 2, 0)x(2, 1, 1, 12)12 - AIC:8.460199222573873\n",
      "SARIMAX(2, 2, 0)x(2, 1, 2, 12)12 - AIC:9.09986144439119\n",
      "SARIMAX(2, 2, 0)x(2, 2, 0, 12)12 - AIC:38.078269139209524\n",
      "SARIMAX(2, 2, 0)x(2, 2, 1, 12)12 - AIC:39.834391710553426\n",
      "SARIMAX(2, 2, 0)x(2, 2, 2, 12)12 - AIC:41.83526062789854\n",
      "SARIMAX(2, 2, 1)x(0, 0, 0, 12)12 - AIC:100.82794142827066\n",
      "SARIMAX(2, 2, 1)x(0, 0, 1, 12)12 - AIC:65.77669968070381\n",
      "SARIMAX(2, 2, 1)x(0, 0, 2, 12)12 - AIC:32.20316346618374\n",
      "SARIMAX(2, 2, 1)x(0, 1, 0, 12)12 - AIC:-9.874017687214092\n",
      "SARIMAX(2, 2, 1)x(0, 1, 1, 12)12 - AIC:-19.12838254013584\n",
      "SARIMAX(2, 2, 1)x(0, 1, 2, 12)12 - AIC:-16.778209410330845\n",
      "SARIMAX(2, 2, 1)x(0, 2, 0, 12)12 - AIC:50.55805906423167\n",
      "SARIMAX(2, 2, 1)x(0, 2, 1, 12)12 - AIC:25.091631566436533\n",
      "SARIMAX(2, 2, 1)x(0, 2, 2, 12)12 - AIC:21.523625622487714\n",
      "SARIMAX(2, 2, 1)x(1, 0, 0, 12)12 - AIC:6.559160729921589\n",
      "SARIMAX(2, 2, 1)x(1, 0, 1, 12)12 - AIC:9.400912055474063\n",
      "SARIMAX(2, 2, 1)x(1, 0, 2, 12)12 - AIC:-3.566292096379886\n",
      "SARIMAX(2, 2, 1)x(1, 1, 0, 12)12 - AIC:-20.026427799730833\n",
      "SARIMAX(2, 2, 1)x(1, 1, 1, 12)12 - AIC:-18.053398725061456\n",
      "SARIMAX(2, 2, 1)x(1, 1, 2, 12)12 - AIC:-16.35830905882422\n",
      "SARIMAX(2, 2, 1)x(1, 2, 0, 12)12 - AIC:20.891717498548726\n",
      "SARIMAX(2, 2, 1)x(1, 2, 1, 12)12 - AIC:19.677552206661034\n",
      "SARIMAX(2, 2, 1)x(1, 2, 2, 12)12 - AIC:23.052979058276897\n",
      "SARIMAX(2, 2, 1)x(2, 0, 0, 12)12 - AIC:-3.975142722434068\n",
      "SARIMAX(2, 2, 1)x(2, 0, 1, 12)12 - AIC:-0.48255796678173013\n",
      "SARIMAX(2, 2, 1)x(2, 0, 2, 12)12 - AIC:3.3443570398336977\n",
      "SARIMAX(2, 2, 1)x(2, 1, 0, 12)12 - AIC:-17.801341229715383\n",
      "SARIMAX(2, 2, 1)x(2, 1, 1, 12)12 - AIC:-15.540195332860229\n",
      "SARIMAX(2, 2, 1)x(2, 1, 2, 12)12 - AIC:-14.166274911352545\n",
      "SARIMAX(2, 2, 1)x(2, 2, 0, 12)12 - AIC:19.996196742283992\n",
      "SARIMAX(2, 2, 1)x(2, 2, 1, 12)12 - AIC:21.96797714966467\n",
      "SARIMAX(2, 2, 1)x(2, 2, 2, 12)12 - AIC:25.195562178684053\n",
      "SARIMAX(2, 2, 2)x(0, 0, 0, 12)12 - AIC:93.28419490735845\n",
      "SARIMAX(2, 2, 2)x(0, 0, 1, 12)12 - AIC:60.801398962428436\n",
      "SARIMAX(2, 2, 2)x(0, 0, 2, 12)12 - AIC:32.12579989095903\n",
      "SARIMAX(2, 2, 2)x(0, 1, 0, 12)12 - AIC:-8.229532394577511\n",
      "SARIMAX(2, 2, 2)x(0, 1, 1, 12)12 - AIC:-17.086077759428157\n",
      "SARIMAX(2, 2, 2)x(0, 1, 2, 12)12 - AIC:-15.362225885701793\n",
      "SARIMAX(2, 2, 2)x(0, 2, 0, 12)12 - AIC:52.19289762196765\n",
      "SARIMAX(2, 2, 2)x(0, 2, 1, 12)12 - AIC:27.107874836059228\n"
     ]
    },
    {
     "name": "stdout",
     "output_type": "stream",
     "text": [
      "SARIMAX(2, 2, 2)x(0, 2, 2, 12)12 - AIC:23.36807660768961\n",
      "SARIMAX(2, 2, 2)x(1, 0, 0, 12)12 - AIC:2.285804405474348\n",
      "SARIMAX(2, 2, 2)x(1, 0, 1, 12)12 - AIC:-5.179541890789814\n",
      "SARIMAX(2, 2, 2)x(1, 0, 2, 12)12 - AIC:3.4778418132441544\n",
      "SARIMAX(2, 2, 2)x(1, 1, 0, 12)12 - AIC:-18.176197855663858\n",
      "SARIMAX(2, 2, 2)x(1, 1, 1, 12)12 - AIC:-16.25257896903645\n",
      "SARIMAX(2, 2, 2)x(1, 1, 2, 12)12 - AIC:-14.254939744150164\n",
      "SARIMAX(2, 2, 2)x(1, 2, 0, 12)12 - AIC:22.868146024549585\n",
      "SARIMAX(2, 2, 2)x(1, 2, 1, 12)12 - AIC:21.797932872576922\n",
      "SARIMAX(2, 2, 2)x(1, 2, 2, 12)12 - AIC:23.996127429866654\n",
      "SARIMAX(2, 2, 2)x(2, 0, 0, 12)12 - AIC:-6.6547563567017\n",
      "SARIMAX(2, 2, 2)x(2, 0, 1, 12)12 - AIC:-3.901691349236387\n",
      "SARIMAX(2, 2, 2)x(2, 0, 2, 12)12 - AIC:-2.1012291546150124\n",
      "SARIMAX(2, 2, 2)x(2, 1, 0, 12)12 - AIC:-16.173915834394478\n",
      "SARIMAX(2, 2, 2)x(2, 1, 1, 12)12 - AIC:-14.196974731191581\n",
      "SARIMAX(2, 2, 2)x(2, 1, 2, 12)12 - AIC:-12.89369562348908\n",
      "SARIMAX(2, 2, 2)x(2, 2, 0, 12)12 - AIC:21.81485526440195\n",
      "SARIMAX(2, 2, 2)x(2, 2, 1, 12)12 - AIC:23.89056695099087\n",
      "SARIMAX(2, 2, 2)x(2, 2, 2, 12)12 - AIC:26.524408856666327\n",
      "Best SARIMAX(0, 0, 2)x(0, 1, 1, 12)12 model - AIC: -41.05194139556728\n"
     ]
    }
   ],
   "source": [
    "best_aic = np.inf \n",
    "best_pdq = None\n",
    "best_seasonal_pdq = None\n",
    "top_model = None\n",
    "best_mdl = None\n",
    "\n",
    "for param in pdq:\n",
    "    for param_seasonal in seasonal_pdq:\n",
    "        try: \n",
    "            tmp_mdl = sm.tsa.statespace.SARIMAX(urate, exog = None, order = param,\n",
    "                                                seasonal_order = param_seasonal,\n",
    "                                                enforce_stationarity = True,\n",
    "                                                enforce_invertibility = True, trend = \"c\")\n",
    "            res = tmp_mdl.fit()\n",
    "            print(\"SARIMAX{}x{}12 - AIC:{}\".format(param,param_seasonal, res.aic))\n",
    "            if res.aic < best_aic:\n",
    "                best_aic = res.aic\n",
    "                best_pdq = param\n",
    "                best_seasonal_pdq = param_seasonal\n",
    "                best_mdl = tmp_mdl\n",
    "                print(\"OK\")\n",
    "        except : \n",
    "            print(\"unexpecter error\")\n",
    "            continue\n",
    "print(\"Best SARIMAX{}x{}12 model - AIC: {}\".format(best_pdq, best_seasonal_pdq, best_aic))"
   ]
  },
  {
   "cell_type": "markdown",
   "id": "5613d2b5",
   "metadata": {},
   "source": [
    "ans : SARIMAX(0, 0, 2)x(0, 1, 1, 12)12 model이 가장 적합한 모형이다(AIC기준) AIC: -41.05194139556728"
   ]
  },
  {
   "cell_type": "code",
   "execution_count": 19,
   "id": "58f15121",
   "metadata": {
    "ExecuteTime": {
     "end_time": "2022-10-10T18:50:10.244853Z",
     "start_time": "2022-10-10T18:50:09.965493Z"
    }
   },
   "outputs": [
    {
     "data": {
      "text/html": [
       "<table class=\"simpletable\">\n",
       "<caption>SARIMAX Results</caption>\n",
       "<tr>\n",
       "  <th>Dep. Variable:</th>                   <td>y</td>                <th>  No. Observations:  </th>   <td>86</td>   \n",
       "</tr>\n",
       "<tr>\n",
       "  <th>Model:</th>           <td>SARIMAX(0, 0, 2)x(0, 1, [1], 12)</td> <th>  Log Likelihood     </th> <td>17.026</td> \n",
       "</tr>\n",
       "<tr>\n",
       "  <th>Date:</th>                    <td>Tue, 11 Oct 2022</td>         <th>  AIC                </th> <td>-26.053</td>\n",
       "</tr>\n",
       "<tr>\n",
       "  <th>Time:</th>                        <td>03:50:10</td>             <th>  BIC                </th> <td>-16.837</td>\n",
       "</tr>\n",
       "<tr>\n",
       "  <th>Sample:</th>                          <td>0</td>                <th>  HQIC               </th> <td>-22.376</td>\n",
       "</tr>\n",
       "<tr>\n",
       "  <th></th>                               <td> - 86</td>              <th>                     </th>    <td> </td>   \n",
       "</tr>\n",
       "<tr>\n",
       "  <th>Covariance Type:</th>                <td>opg</td>               <th>                     </th>    <td> </td>   \n",
       "</tr>\n",
       "</table>\n",
       "<table class=\"simpletable\">\n",
       "<tr>\n",
       "      <td></td>        <th>coef</th>     <th>std err</th>      <th>z</th>      <th>P>|z|</th>  <th>[0.025</th>    <th>0.975]</th>  \n",
       "</tr>\n",
       "<tr>\n",
       "  <th>ma.L1</th>    <td>    0.4324</td> <td>    0.104</td> <td>    4.147</td> <td> 0.000</td> <td>    0.228</td> <td>    0.637</td>\n",
       "</tr>\n",
       "<tr>\n",
       "  <th>ma.L2</th>    <td>    0.6349</td> <td>    0.120</td> <td>    5.271</td> <td> 0.000</td> <td>    0.399</td> <td>    0.871</td>\n",
       "</tr>\n",
       "<tr>\n",
       "  <th>ma.S.L12</th> <td>   -0.2553</td> <td>    0.191</td> <td>   -1.340</td> <td> 0.180</td> <td>   -0.629</td> <td>    0.118</td>\n",
       "</tr>\n",
       "<tr>\n",
       "  <th>sigma2</th>   <td>    0.0360</td> <td>    0.004</td> <td>    8.147</td> <td> 0.000</td> <td>    0.027</td> <td>    0.045</td>\n",
       "</tr>\n",
       "</table>\n",
       "<table class=\"simpletable\">\n",
       "<tr>\n",
       "  <th>Ljung-Box (L1) (Q):</th>     <td>0.63</td> <th>  Jarque-Bera (JB):  </th> <td>27.12</td>\n",
       "</tr>\n",
       "<tr>\n",
       "  <th>Prob(Q):</th>                <td>0.43</td> <th>  Prob(JB):          </th> <td>0.00</td> \n",
       "</tr>\n",
       "<tr>\n",
       "  <th>Heteroskedasticity (H):</th> <td>1.91</td> <th>  Skew:              </th> <td>1.00</td> \n",
       "</tr>\n",
       "<tr>\n",
       "  <th>Prob(H) (two-sided):</th>    <td>0.11</td> <th>  Kurtosis:          </th> <td>5.19</td> \n",
       "</tr>\n",
       "</table><br/><br/>Warnings:<br/>[1] Covariance matrix calculated using the outer product of gradients (complex-step)."
      ],
      "text/plain": [
       "<class 'statsmodels.iolib.summary.Summary'>\n",
       "\"\"\"\n",
       "                                      SARIMAX Results                                       \n",
       "============================================================================================\n",
       "Dep. Variable:                                    y   No. Observations:                   86\n",
       "Model:             SARIMAX(0, 0, 2)x(0, 1, [1], 12)   Log Likelihood                  17.026\n",
       "Date:                              Tue, 11 Oct 2022   AIC                            -26.053\n",
       "Time:                                      03:50:10   BIC                            -16.837\n",
       "Sample:                                           0   HQIC                           -22.376\n",
       "                                               - 86                                         \n",
       "Covariance Type:                                opg                                         \n",
       "==============================================================================\n",
       "                 coef    std err          z      P>|z|      [0.025      0.975]\n",
       "------------------------------------------------------------------------------\n",
       "ma.L1          0.4324      0.104      4.147      0.000       0.228       0.637\n",
       "ma.L2          0.6349      0.120      5.271      0.000       0.399       0.871\n",
       "ma.S.L12      -0.2553      0.191     -1.340      0.180      -0.629       0.118\n",
       "sigma2         0.0360      0.004      8.147      0.000       0.027       0.045\n",
       "===================================================================================\n",
       "Ljung-Box (L1) (Q):                   0.63   Jarque-Bera (JB):                27.12\n",
       "Prob(Q):                              0.43   Prob(JB):                         0.00\n",
       "Heteroskedasticity (H):               1.91   Skew:                             1.00\n",
       "Prob(H) (two-sided):                  0.11   Kurtosis:                         5.19\n",
       "===================================================================================\n",
       "\n",
       "Warnings:\n",
       "[1] Covariance matrix calculated using the outer product of gradients (complex-step).\n",
       "\"\"\""
      ]
     },
     "execution_count": 19,
     "metadata": {},
     "output_type": "execute_result"
    }
   ],
   "source": [
    "mdl = sm.tsa.statespace.SARIMAX(urate, order = (0,0,2),seasonal_order = (0,1,1,12),\n",
    "                                enforce_stationarity = True,\n",
    "                                enforce_invertibility = True)\n",
    "res = mdl.fit()\n",
    "res.summary()"
   ]
  },
  {
   "cell_type": "code",
   "execution_count": null,
   "id": "b4d6396d",
   "metadata": {},
   "outputs": [],
   "source": []
  }
 ],
 "metadata": {
  "kernelspec": {
   "display_name": "Python 3 (ipykernel)",
   "language": "python",
   "name": "python3"
  },
  "language_info": {
   "codemirror_mode": {
    "name": "ipython",
    "version": 3
   },
   "file_extension": ".py",
   "mimetype": "text/x-python",
   "name": "python",
   "nbconvert_exporter": "python",
   "pygments_lexer": "ipython3",
   "version": "3.9.13"
  },
  "toc": {
   "base_numbering": 1,
   "nav_menu": {},
   "number_sections": true,
   "sideBar": true,
   "skip_h1_title": false,
   "title_cell": "Table of Contents",
   "title_sidebar": "Contents",
   "toc_cell": false,
   "toc_position": {},
   "toc_section_display": true,
   "toc_window_display": false
  }
 },
 "nbformat": 4,
 "nbformat_minor": 5
}
