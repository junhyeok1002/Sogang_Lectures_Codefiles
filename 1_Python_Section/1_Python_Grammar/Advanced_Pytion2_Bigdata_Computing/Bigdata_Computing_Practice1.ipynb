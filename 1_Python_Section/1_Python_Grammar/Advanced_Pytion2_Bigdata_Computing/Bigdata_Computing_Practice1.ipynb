{
 "cells": [
  {
   "cell_type": "markdown",
   "id": "94ecc1de",
   "metadata": {},
   "source": [
    "## 실습3"
   ]
  },
  {
   "cell_type": "code",
   "execution_count": 1,
   "id": "d390d73d",
   "metadata": {
    "ExecuteTime": {
     "end_time": "2023-03-13T07:03:08.935194Z",
     "start_time": "2023-03-13T07:03:08.908959Z"
    }
   },
   "outputs": [
    {
     "name": "stdout",
     "output_type": "stream",
     "text": [
      "학생의 GPA는 3.255입니다\n"
     ]
    }
   ],
   "source": [
    "grade_score = {\"A+\":4.3, \"A0\" :4.0, \"A-\":3.7,\\\n",
    "               \"B+\":3.3, \"B0\" :3.0, \"B-\":2.7,\\\n",
    "               \"C+\":2.3, \"C0\" :2.0, \"C-\":1.7,\\\n",
    "               \"D+\":1.3, \"D0\" :1.0, \"D-\":0.7,\\\n",
    "               \"F\":0}                                        #학점 별 환산 점수 대조용 사전\n",
    "\n",
    "stu_grade = [\"A+\",\"B0\",\"B+\",\"A-\",\"C+\",\"A+\",\"B0\",\"C0\"]        # 학생이 받은 학점\n",
    "credit_hours = [3,3,1,2,2,3,3,3]                             # 이수 시간\n",
    "\n",
    "total_score = 0                                              #sum하고 나중에 나눠서 gpa계산할 용도로 토탈점수 생성\n",
    "for i in range(len(stu_grade)):                              #8번 루프돌면서\n",
    "    total_score += grade_score[stu_grade[i]]*credit_hours[i] #학점 점수와 이수시간을 곱해서 누적\n",
    "\n",
    "stu_gpa = total_score / sum(credit_hours)                    # 누적한 총점을 이수 시간으로 나눠서 gpa구하기\n",
    "print(f\"학생의 GPA는 {stu_gpa}입니다\")"
   ]
  },
  {
   "cell_type": "markdown",
   "id": "2a907a03",
   "metadata": {},
   "source": [
    "## 실습4"
   ]
  },
  {
   "cell_type": "code",
   "execution_count": 2,
   "id": "cb89def4",
   "metadata": {
    "ExecuteTime": {
     "end_time": "2023-03-13T07:03:08.951125Z",
     "start_time": "2023-03-13T07:03:08.938159Z"
    }
   },
   "outputs": [
    {
     "name": "stdout",
     "output_type": "stream",
     "text": [
      "85,  90,  20,  50,  60\n",
      "25,  30,  75,  40,  55\n",
      "70, 100,  70,  70,  55\n",
      "75,  55,  60,  40,  45\n",
      "25,  65,  15,  25,  20\n",
      "5,  60,  70,  35,  10\n",
      "80,  45,  80,  40,  75\n",
      "35,  80,  55,  70,  90\n",
      "35,  50,  75,  25,  35\n",
      "70,  65,  50,  70,  10\n"
     ]
    }
   ],
   "source": [
    "with open(\"score.txt\", \"r\") as f:\n",
    "    example = f.readlines()         # ['첫 번째 줄\\n', '두 번째 줄\\n', '세 번째 줄'] 저장\n",
    "    for line in example:\n",
    "        print(line.strip())"
   ]
  },
  {
   "cell_type": "code",
   "execution_count": 3,
   "id": "2f6877f8",
   "metadata": {
    "ExecuteTime": {
     "end_time": "2023-03-13T07:03:08.981678Z",
     "start_time": "2023-03-13T07:03:08.955114Z"
    }
   },
   "outputs": [
    {
     "data": {
      "text/plain": [
       "[61.0, 45.0, 73.0, 55.0, 30.0, 36.0, 64.0, 66.0, 44.0, 53.0]"
      ]
     },
     "execution_count": 3,
     "metadata": {},
     "output_type": "execute_result"
    }
   ],
   "source": [
    "score = list()                           #최종 출력용 빈리스트 생성\n",
    "for i in range(len(example)): \n",
    "    temp = example[i].strip().split(\",\") #한줄을 받아와서 5과목 점수 나눠서 temp에 저장\n",
    "    avg = 0                              #평균계산용 변수생성\n",
    "    for j in range(len(temp)): \n",
    "        avg += int(temp[j])              #한줄(한 학생)의 점수를 더해서 총점구하기\n",
    "    score.append(avg/len(temp))          #총점을 과목수로 나누어 평균을 구한 후 출력용 빈 리스트에 append\n",
    "score"
   ]
  }
 ],
 "metadata": {
  "kernelspec": {
   "display_name": "Python 3 (ipykernel)",
   "language": "python",
   "name": "python3"
  },
  "language_info": {
   "codemirror_mode": {
    "name": "ipython",
    "version": 3
   },
   "file_extension": ".py",
   "mimetype": "text/x-python",
   "name": "python",
   "nbconvert_exporter": "python",
   "pygments_lexer": "ipython3",
   "version": "3.9.13"
  },
  "toc": {
   "base_numbering": 1,
   "nav_menu": {},
   "number_sections": true,
   "sideBar": true,
   "skip_h1_title": false,
   "title_cell": "Table of Contents",
   "title_sidebar": "Contents",
   "toc_cell": false,
   "toc_position": {},
   "toc_section_display": true,
   "toc_window_display": false
  }
 },
 "nbformat": 4,
 "nbformat_minor": 5
}
