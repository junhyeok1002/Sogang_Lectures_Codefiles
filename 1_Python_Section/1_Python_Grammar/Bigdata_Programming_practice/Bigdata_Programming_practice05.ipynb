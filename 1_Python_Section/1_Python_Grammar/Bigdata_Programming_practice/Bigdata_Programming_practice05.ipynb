{
 "cells": [
  {
   "cell_type": "markdown",
   "id": "0298a5a8",
   "metadata": {},
   "source": [
    "20180634_최준혁_실습과제3(lambda함수_이용하기)"
   ]
  },
  {
   "cell_type": "code",
   "execution_count": 13,
   "id": "4f90b8ce",
   "metadata": {},
   "outputs": [
    {
     "name": "stdout",
     "output_type": "stream",
     "text": [
      "0 4 5 0 5 3 5 0 3 0 1 1 "
     ]
    }
   ],
   "source": [
    "import random\n",
    "\n",
    "rd_int = iter(lambda: random.randint(0,5),2)\n",
    "for i in rd_int:\n",
    "    print(i, end= \" \")"
   ]
  },
  {
   "cell_type": "code",
   "execution_count": null,
   "id": "c38ca9b0",
   "metadata": {},
   "outputs": [],
   "source": []
  },
  {
   "cell_type": "code",
   "execution_count": null,
   "id": "106805ad",
   "metadata": {},
   "outputs": [],
   "source": []
  }
 ],
 "metadata": {
  "kernelspec": {
   "display_name": "Python 3 (ipykernel)",
   "language": "python",
   "name": "python3"
  },
  "language_info": {
   "codemirror_mode": {
    "name": "ipython",
    "version": 3
   },
   "file_extension": ".py",
   "mimetype": "text/x-python",
   "name": "python",
   "nbconvert_exporter": "python",
   "pygments_lexer": "ipython3",
   "version": "3.9.7"
  }
 },
 "nbformat": 4,
 "nbformat_minor": 5
}
