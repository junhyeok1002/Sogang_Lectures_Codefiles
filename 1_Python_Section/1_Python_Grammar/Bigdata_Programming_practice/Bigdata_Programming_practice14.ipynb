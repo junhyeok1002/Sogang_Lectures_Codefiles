{
 "cells": [
  {
   "cell_type": "markdown",
   "id": "0d308f96",
   "metadata": {},
   "source": [
    "20180634_최준혁_과제6(과제5의 윤년가 요일찾기의 OOP V.1)"
   ]
  },
  {
   "cell_type": "code",
   "execution_count": 3,
   "id": "1b407b25",
   "metadata": {},
   "outputs": [],
   "source": [
    "def input_date():\n",
    "    y = int(input(\"__년도를 입력하시오:\"))\n",
    "    m = int(input(\"__월을 입력하시오:\"))\n",
    "    d = int(input(\"__일을 입력하시오:\"))\n",
    "    return y,m,d\n",
    "\n",
    "class DayName:\n",
    "    def __init__(self, year, month, day):\n",
    "        self.year = year ; self.month = month ; self.day = day\n",
    "        \n",
    "    def is_leap(self,*y):\n",
    "        y = self.year if y==() else y[0]\n",
    "        if (y % 4 == 0 and y % 100 != 0) or y % 400 == 0: return True\n",
    "        else : return False\n",
    "        \n",
    "    def get_name(self):\n",
    "        Mth_day = {1:31,2:(29 if self.is_leap() else 28),3:31,4:30,5:31,6:30,7:31,8:31,9:30,10:31,11:30,12:31}\n",
    "        day_count = self.day ; day_name = ['일요일','월요일','화요일','수요일','목요일','금요일','토요일']\n",
    "    \n",
    "        if 0 < self.year and 0 < self.month <= 12 and 0 < self.day <= Mth_day.get(self.month):\n",
    "            for i in range(1,self.year): day_count += (366 if self.is_leap(i) else 365)\n",
    "            for i in range(1,self.month): day_count += Mth_day.get(i)\n",
    "            return day_name[day_count % 7]\n",
    "        else : return False"
   ]
  },
  {
   "cell_type": "code",
   "execution_count": 4,
   "id": "2cbccf13",
   "metadata": {},
   "outputs": [
    {
     "name": "stdout",
     "output_type": "stream",
     "text": [
      "__년도를 입력하시오:2022\n",
      "__월을 입력하시오:4\n",
      "__일을 입력하시오:2\n",
      "토요일\n"
     ]
    }
   ],
   "source": [
    "if __name__ == \"__main__\":\n",
    "    year, month, day = input_date()\n",
    "    day_name = DayName(year, month, day)\n",
    "    if day_name.get_name() == False:\n",
    "        print(\"입력하신 날짜는 존재하지 않습니다\")\n",
    "    else :\n",
    "        print(day_name.get_name())\n",
    "        if day_name.is_leap() == True:\n",
    "            print(\"입력하신 %s은 윤년입니다\"%day_name.year)"
   ]
  },
  {
   "cell_type": "code",
   "execution_count": null,
   "id": "c80a61cc",
   "metadata": {},
   "outputs": [],
   "source": []
  }
 ],
 "metadata": {
  "kernelspec": {
   "display_name": "Python 3 (ipykernel)",
   "language": "python",
   "name": "python3"
  },
  "language_info": {
   "codemirror_mode": {
    "name": "ipython",
    "version": 3
   },
   "file_extension": ".py",
   "mimetype": "text/x-python",
   "name": "python",
   "nbconvert_exporter": "python",
   "pygments_lexer": "ipython3",
   "version": "3.9.7"
  }
 },
 "nbformat": 4,
 "nbformat_minor": 5
}
