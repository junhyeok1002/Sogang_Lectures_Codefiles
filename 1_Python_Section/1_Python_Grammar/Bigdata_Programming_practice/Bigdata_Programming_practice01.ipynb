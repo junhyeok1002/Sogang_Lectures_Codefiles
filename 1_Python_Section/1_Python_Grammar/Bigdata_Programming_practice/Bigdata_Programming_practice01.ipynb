{
 "cells": [
  {
   "cell_type": "markdown",
   "id": "7a5d613f",
   "metadata": {},
   "source": [
    "20180634_최준혁_역순출력"
   ]
  },
  {
   "cell_type": "code",
   "execution_count": 7,
   "id": "c1269679",
   "metadata": {},
   "outputs": [
    {
     "name": "stdout",
     "output_type": "stream",
     "text": [
      "Writing inverseIn.py\n"
     ]
    }
   ],
   "source": [
    "%%writefile inverseIn.py\n",
    "rev = input(\"Input :\") ; print()  \n",
    "for i in range(len(rev)):          \n",
    "    L = list()\n",
    "    for j in range(len(rev)):\n",
    "        if i < j : break\n",
    "        else :\n",
    "            L.append(rev[j])\n",
    "    L = L[::-1]; out = \"\"\n",
    "    for k in range(len(L)):\n",
    "        out += L[k]\n",
    "    print(out)   "
   ]
  },
  {
   "cell_type": "code",
   "execution_count": 8,
   "id": "fb5f1eb6",
   "metadata": {
    "scrolled": true
   },
   "outputs": [
    {
     "name": "stdout",
     "output_type": "stream",
     "text": [
      "Input :Sogang University\n",
      "\n",
      "S\n",
      "oS\n",
      "goS\n",
      "agoS\n",
      "nagoS\n",
      "gnagoS\n",
      " gnagoS\n",
      "U gnagoS\n",
      "nU gnagoS\n",
      "inU gnagoS\n",
      "vinU gnagoS\n",
      "evinU gnagoS\n",
      "revinU gnagoS\n",
      "srevinU gnagoS\n",
      "isrevinU gnagoS\n",
      "tisrevinU gnagoS\n",
      "ytisrevinU gnagoS\n"
     ]
    }
   ],
   "source": [
    "%run inverseIn.py"
   ]
  },
  {
   "cell_type": "code",
   "execution_count": null,
   "id": "e79bc8a0",
   "metadata": {},
   "outputs": [],
   "source": []
  },
  {
   "cell_type": "markdown",
   "id": "f3ad0821",
   "metadata": {},
   "source": [
    "## 과제 설명 및 후기"
   ]
  },
  {
   "cell_type": "markdown",
   "id": "531b5e28",
   "metadata": {},
   "source": [
    "### 설명\n",
    "\n",
    "- 매직커맨드 %%writefile을 이용하여 inverseIn.py를 만들어줍니다\n",
    "- rev변수로 인풋을 받아서 문자열 rev의 길이만큼 루프를 돌립니다\n",
    "- 루프1은 피라미드식으로 출력할때 각 층(줄)을 출력하기 위함입니다\n",
    "- 각 층(줄)을 출력하기 위해 루프1 안쪽에 빈 리스트를 생성했습니다.\n",
    "- 첫 줄에 1개 둘째 줄에 2개..n번쨰 줄에 n개를 출력하기 위해 안쪽에 루프2를 두었습니다(자기 층수보다 많아지면 break해서 나오도록)\n",
    "- 두번째 루프에서는 break될때까지 순서대로 리스트L에 문자를 넣습니다(하지만 아직까지는 역순이 아닙니다)\n",
    "- 두번쨰 루프가 끝나고 리스트L이 완성되면 L을 역순으로 뒤집어 줍니다\n",
    "- 리스트L을 하나의 문자열로 붙여서 출력하기 위해 루프3을 만들었고, 루프3 밖에 out변수(빈 문자열)를 선언하여 세번째 루프를 도는 동안 out뒤에 L의 원소들을 차곡차곡 붙여줍니다\n",
    "- 루프3이 끝나면 한 층(줄)에 출력될 out변수가 완성됩니다. 따라서 out을 출력해주고 루프1의 다음 싸이클로 넘어가서 모든 줄을 루프1이 끝날때까지 출력해줍니다\n",
    "- 매직커맨드 %run을 이용하여 inverseIn.py를 실행합니다\n"
   ]
  },
  {
   "cell_type": "markdown",
   "id": "09da2ae2",
   "metadata": {},
   "source": [
    "### 후기\n",
    "\n",
    "- 이번 실습은 난이도가 어렵지 않아서 5~10분정도 걸린 것 같습니다(설명/후기 적는데는 30분 걸린 거 같습니다)\n",
    "- 코드를 짜고 설명과 후기를 적은 적은 처음이라 신선했습니다\n",
    "- 코드를 짜는 것 보다 설명을 적는게 더 힘들었지만 이렇게 하다보면 실력이 늘 것 같다는 느낌이 들어서 다음에도 최대한 열심히 작성할 예정입니다.코드가 많이 복잡해지면 어떻게 설명해야 하나 걱정도 됩니다\n",
    "- 코드를 다 짜고 보니 입력받아서 바로 뒤집은 다음 루프문 2개써서 -1 인덱스부터 피라미드식으로 출력했으면 더 간단히 끝났을 것 같다는 생각도 듭니다"
   ]
  }
 ],
 "metadata": {
  "kernelspec": {
   "display_name": "Python 3 (ipykernel)",
   "language": "python",
   "name": "python3"
  },
  "language_info": {
   "codemirror_mode": {
    "name": "ipython",
    "version": 3
   },
   "file_extension": ".py",
   "mimetype": "text/x-python",
   "name": "python",
   "nbconvert_exporter": "python",
   "pygments_lexer": "ipython3",
   "version": "3.9.7"
  }
 },
 "nbformat": 4,
 "nbformat_minor": 5
}
