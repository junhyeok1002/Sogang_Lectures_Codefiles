{
 "cells": [
  {
   "cell_type": "markdown",
   "id": "eb8a5286",
   "metadata": {},
   "source": [
    "20180634_최준혁_실습과제2(yield_이용하기)"
   ]
  },
  {
   "cell_type": "code",
   "execution_count": 1,
   "id": "74a5d453",
   "metadata": {},
   "outputs": [
    {
     "name": "stdout",
     "output_type": "stream",
     "text": [
      "Overwriting Fibonacci1.py\n"
     ]
    }
   ],
   "source": [
    "%%writefile Fibonacci1.py\n",
    "\n",
    "def Fibo_func(num):\n",
    "    Fibo_list =[0,1]\n",
    "    for i in range(num+1):\n",
    "        if i<2 : \n",
    "            yield Fibo_list[i]\n",
    "            continue\n",
    "        else : \n",
    "            Fibo_list.append(Fibo_list[i-1]+Fibo_list[i-2])\n",
    "            yield Fibo_list[i]"
   ]
  },
  {
   "cell_type": "code",
   "execution_count": 2,
   "id": "d86def42",
   "metadata": {},
   "outputs": [],
   "source": [
    "%run Fibonacci1.py"
   ]
  },
  {
   "cell_type": "code",
   "execution_count": 3,
   "id": "0e9696ca",
   "metadata": {},
   "outputs": [],
   "source": [
    "import Fibonacci1\n",
    "fib = Fibonacci1.Fibo_func(10)"
   ]
  },
  {
   "cell_type": "code",
   "execution_count": 4,
   "id": "55072325",
   "metadata": {},
   "outputs": [
    {
     "name": "stdout",
     "output_type": "stream",
     "text": [
      "0\n",
      "1\n",
      "1\n",
      "2\n",
      "3\n",
      "5\n",
      "8\n",
      "13\n",
      "21\n",
      "34\n",
      "55\n"
     ]
    }
   ],
   "source": [
    "for i in fib:\n",
    "    print(i)"
   ]
  },
  {
   "cell_type": "code",
   "execution_count": null,
   "id": "71fbede7",
   "metadata": {},
   "outputs": [],
   "source": []
  }
 ],
 "metadata": {
  "kernelspec": {
   "display_name": "Python 3 (ipykernel)",
   "language": "python",
   "name": "python3"
  },
  "language_info": {
   "codemirror_mode": {
    "name": "ipython",
    "version": 3
   },
   "file_extension": ".py",
   "mimetype": "text/x-python",
   "name": "python",
   "nbconvert_exporter": "python",
   "pygments_lexer": "ipython3",
   "version": "3.9.7"
  }
 },
 "nbformat": 4,
 "nbformat_minor": 5
}
