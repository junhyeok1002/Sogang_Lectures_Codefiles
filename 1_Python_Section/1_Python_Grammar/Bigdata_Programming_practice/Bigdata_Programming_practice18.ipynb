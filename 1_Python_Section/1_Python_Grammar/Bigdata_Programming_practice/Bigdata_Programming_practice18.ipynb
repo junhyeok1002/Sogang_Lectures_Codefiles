{
 "cells": [
  {
   "cell_type": "markdown",
   "id": "6bfde9c5",
   "metadata": {},
   "source": [
    "20180634_최준혁_과제9(성적처리시스템OOP)"
   ]
  },
  {
   "cell_type": "code",
   "execution_count": 1,
   "id": "1c659bdc",
   "metadata": {},
   "outputs": [
    {
     "name": "stdout",
     "output_type": "stream",
     "text": [
      "Overwriting Student.py\n"
     ]
    }
   ],
   "source": [
    "%%writefile Student.py\n",
    "class Student():\n",
    "    def __init__(self,num,name,kor,eng,math):\n",
    "        self._num = num\n",
    "        self._name = name\n",
    "        self._kor = kor\n",
    "        self._eng = eng\n",
    "        self._math = math\n",
    "        self._total = kor + eng + math\n",
    "        self._avg = self._total/3\n",
    "        self._order = 0\n",
    "        \n",
    "    def getnum(self): return self._num \n",
    "    num = property(getnum)        \n",
    "    def getname(self): return self._name \n",
    "    name = property(getname)     \n",
    "    def getkor(self): return self._kor \n",
    "    kor = property(getkor)\n",
    "    def geteng(self): return self._eng\n",
    "    eng = property(geteng)\n",
    "    def getmath(self): return self._math\n",
    "    math = property(getmath)   \n",
    "    def gettotal(self): return self._total\n",
    "    total = property(gettotal)\n",
    "    def getavg(self): return self._avg\n",
    "    avg = property(getavg)\n",
    "    def getorder(self): return self._order\n",
    "    def setorder(self, value): self._order = value \n",
    "    order = property(getorder, setorder)"
   ]
  },
  {
   "cell_type": "code",
   "execution_count": 2,
   "id": "7fec75bd",
   "metadata": {},
   "outputs": [
    {
     "name": "stdout",
     "output_type": "stream",
     "text": [
      "Overwriting StudentGradingSystem.py\n"
     ]
    }
   ],
   "source": [
    "%%writefile StudentGradingSystem.py \n",
    "class StudentGradingSystem():\n",
    "    def __init__(self):\n",
    "        self.cls_total_avg = 0 ; self.cls_kor_avg = 0 ; self.cls_eng_avg = 0 ; self.cls_math_avg = 0 #반 전체 성적용 변수\n",
    "        self.kor_best = 0 ; self.eng_best = 0 ; self.math_best = 0 #최고점 변수\n",
    "        self.kor_bests = [] ; self.eng_bests = []; self.math_bests = [] #과목별 최고점자 변수\n",
    "        self.unsorted_list = []; self.sorted_list = []\n",
    "        \n",
    "    def register_student(self, Student):\n",
    "        self.unsorted_list.append(Student)\n",
    "        \n",
    "    def process(self):\n",
    "        # 반 전체 성적 구하기\n",
    "        cls_total= 0 ; cls_kor = 0; cls_eng = 0; cls_math = 0\n",
    "        L = self.unsorted_list\n",
    "        for stu in L:\n",
    "            cls_kor += stu.kor \n",
    "            cls_eng += stu.eng\n",
    "            cls_math += stu.math\n",
    "            cls_total += stu.total\n",
    "        self.cls_kor_avg = cls_kor/len(L)\n",
    "        self.cls_eng_avg = cls_eng/len(L)\n",
    "        self.cls_math_avg = cls_math/len(L)\n",
    "        self.cls_total_avg = cls_total/len(L)\n",
    "        \n",
    "        # 학생들 평균으로 등수 매기기\n",
    "        total_list = list()\n",
    "        for i in range(len(L)):\n",
    "            total_list.append(L[i].avg)\n",
    "            total_list.sort(reverse=True)\n",
    "        \n",
    "        order = 1\n",
    "        for i in range(len(total_list)):\n",
    "            order_plus = 0\n",
    "            for j in range(len(L)):\n",
    "                if total_list[i] == L[j].avg and L[j].order == 0:\n",
    "                    self.unsorted_list[j].order = order\n",
    "                    order_plus += 1\n",
    "            order += order_plus\n",
    "        total_list.clear() ; order = 0\n",
    "        \n",
    "        # 각 과목 최고점 구하기\n",
    "        for i in range(len(L)):\n",
    "            if i == 0: \n",
    "                self.kor_best = L[i].kor\n",
    "                self.eng_best = L[i].eng\n",
    "                self.math_best = L[i].math\n",
    "            else :\n",
    "                if self.kor_best < L[i].kor : self.kor_best = L[i].kor\n",
    "                if self.eng_best < L[i].eng : self.eng_best = L[i].eng\n",
    "                if self.math_best < L[i].math : self.math_best = L[i].math\n",
    "                    \n",
    "        # 각 과목별 최고점자 명단 구하기\n",
    "        for i in L:\n",
    "            if i.kor == self.kor_best : self.kor_bests.append(i.name)\n",
    "            if i.eng == self.eng_best : self.eng_bests.append(i.name)\n",
    "            if i.math == self.math_best : self.math_bests.append(i.name)\n",
    "                \n",
    "    def print_students(self):\n",
    "        self.sorted_list = sorted(self.unsorted_list, key = lambda stu: stu.order) #lambda로 정렬\n",
    "        for i in self.sorted_list:\n",
    "            print(\"번호: {}, 이름: {}, 국어: {}, 영어: {}, 수학: {}, 총점: {:.2f}, 평균: {:.2f}, 등수: {}\"\n",
    "                  .format(i.num,i.name,i.kor,i.eng,i.math,i.total,i.avg,i.order))\n",
    "    \n",
    "    def print_class_information(self):\n",
    "        print(\"총점 반평균: {:.2f}\".format(self.cls_total_avg))\n",
    "        print(\"국어 반평균: {:.2f}\".format(self.cls_kor_avg))\n",
    "        print(\"영어 반평균: {:.2f}\".format(self.cls_eng_avg))\n",
    "        print(\"수학 반평균: {:.2f}\".format(self.cls_math_avg))\n",
    "        \n",
    "    def print_best_scores(self):\n",
    "        print(\"각 과목의 최고점과 명단\")\n",
    "        print(\"국어의 최고점 {},\".format(self.kor_best), end = \" \")\n",
    "        [print(names, end = \" \") for names in self.kor_bests]\n",
    "        print(\"\\n영어의 최고점 {},\".format(self.eng_best), end = \" \")\n",
    "        [print(names, end = \" \") for names in self.eng_bests]\n",
    "        print(\"\\n수학의 최고점 {},\".format(self.math_best), end = \" \")\n",
    "        [print(names, end = \" \") for names in self.math_bests]\n",
    "        print()"
   ]
  },
  {
   "cell_type": "code",
   "execution_count": null,
   "id": "298bd8c3",
   "metadata": {},
   "outputs": [],
   "source": []
  },
  {
   "cell_type": "code",
   "execution_count": 3,
   "id": "d2d33cad",
   "metadata": {
    "scrolled": true
   },
   "outputs": [
    {
     "name": "stdout",
     "output_type": "stream",
     "text": [
      "번호: 2, 이름: 서강이, 국어: 90, 영어: 85, 수학: 95, 총점: 270.00, 평균: 90.00, 등수: 1\n",
      "번호: 4, 이름: 서강사, 국어: 90, 영어: 92, 수학: 83, 총점: 265.00, 평균: 88.33, 등수: 2\n",
      "번호: 5, 이름: 서강오, 국어: 85, 영어: 90, 수학: 90, 총점: 265.00, 평균: 88.33, 등수: 2\n",
      "번호: 1, 이름: 서강일, 국어: 90, 영어: 80, 수학: 85, 총점: 255.00, 평균: 85.00, 등수: 4\n",
      "번호: 3, 이름: 서강삼, 국어: 80, 영어: 80, 수학: 80, 총점: 240.00, 평균: 80.00, 등수: 5\n",
      "\n",
      "총점 반평균: 259.00\n",
      "국어 반평균: 87.00\n",
      "영어 반평균: 85.40\n",
      "수학 반평균: 86.60\n",
      "\n",
      "각 과목의 최고점과 명단\n",
      "국어의 최고점 90, 서강일 서강이 서강사 \n",
      "영어의 최고점 92, 서강사 \n",
      "수학의 최고점 95, 서강이 \n",
      "\n",
      "실행시간은: 0.0019927024841308594\n"
     ]
    }
   ],
   "source": [
    "import Student\n",
    "import StudentGradingSystem\n",
    "import time \n",
    "\n",
    "def check_time(func):\n",
    "    def new_func():\n",
    "        start_time = time.time()\n",
    "        func()\n",
    "        end_time = time.time()\n",
    "        print(\"\\n실행시간은: {}\".format(end_time - start_time))\n",
    "    return new_func\n",
    "\n",
    "def main():\n",
    "    friday_class = StudentGradingSystem.StudentGradingSystem()\n",
    "    \n",
    "    with open('SData.txt') as fp:\n",
    "        lines = fp.readlines()\n",
    "        for line in lines:\n",
    "            stu_info_list = []\n",
    "            for i in range(len(line)-2):\n",
    "                if line[i]==\":\" and line[i+1] == \" \": \n",
    "                    stu_info = \"\" \n",
    "                    j = i+2\n",
    "                    while(j < len(line)):\n",
    "                        if line[j] == \",\" or line[j] == \"\\n\" : break\n",
    "                        else : \n",
    "                            stu_info += line[j]\n",
    "                            j+= 1\n",
    "                    stu_info_list.append(stu_info)    \n",
    "            stu = Student.Student(int(stu_info_list[0]),stu_info_list[1],\n",
    "                                  int(stu_info_list[2]),int(stu_info_list[3]),int(stu_info_list[4]))\n",
    "            friday_class.register_student(stu)\n",
    "\n",
    "    friday_class.process()\n",
    "    friday_class.print_students()\n",
    "    print()\n",
    "    friday_class.print_class_information()\n",
    "    print()\n",
    "    friday_class.print_best_scores()\n",
    "\n",
    "friday_class_system = check_time(main)\n",
    "friday_class_system()"
   ]
  },
  {
   "cell_type": "code",
   "execution_count": null,
   "id": "342cab58",
   "metadata": {},
   "outputs": [],
   "source": []
  }
 ],
 "metadata": {
  "kernelspec": {
   "display_name": "Python 3 (ipykernel)",
   "language": "python",
   "name": "python3"
  },
  "language_info": {
   "codemirror_mode": {
    "name": "ipython",
    "version": 3
   },
   "file_extension": ".py",
   "mimetype": "text/x-python",
   "name": "python",
   "nbconvert_exporter": "python",
   "pygments_lexer": "ipython3",
   "version": "3.9.7"
  }
 },
 "nbformat": 4,
 "nbformat_minor": 5
}
