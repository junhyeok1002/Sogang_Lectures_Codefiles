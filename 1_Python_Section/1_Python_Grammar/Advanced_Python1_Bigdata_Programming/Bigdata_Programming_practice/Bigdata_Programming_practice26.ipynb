{
 "cells": [
  {
   "cell_type": "markdown",
   "id": "cd54b643",
   "metadata": {},
   "source": [
    "20180634_최준혁_실습과제18:list와 ndarray의 계산성능비교"
   ]
  },
  {
   "cell_type": "code",
   "execution_count": 1,
   "id": "d5413000",
   "metadata": {},
   "outputs": [],
   "source": [
    "import time\n",
    "import numpy as np\n",
    "\n",
    "def list_ver():\n",
    "    start_t = time.time()\n",
    "    x = list(range(1,10000001))\n",
    "    y = list(range(2,10000002))\n",
    "    z = list()\n",
    "    for i in range(len(x)):\n",
    "        z.append(x[i]+y[i])\n",
    "    end_t = time.time()\n",
    "    return end_t - start_t\n",
    "\n",
    "def numpy_ver():\n",
    "    start_t = time.time()\n",
    "    x = np.arange(1,10000001)\n",
    "    y = np.arange(2,10000002)\n",
    "    z = x+y\n",
    "    end_t = time.time()\n",
    "    return end_t - start_t\n",
    "    "
   ]
  },
  {
   "cell_type": "code",
   "execution_count": 2,
   "id": "f11433c3",
   "metadata": {},
   "outputs": [
    {
     "name": "stdout",
     "output_type": "stream",
     "text": [
      "python list exe. time:  1.9827160835266113\n",
      "numpy ndarray exe. time:  0.03590679168701172\n",
      "numpy is in this example 55.218413853549706 faster\n"
     ]
    }
   ],
   "source": [
    "L = list_ver() ; N = numpy_ver()\n",
    "print('python list exe. time: ',L)\n",
    "print('numpy ndarray exe. time: ',N)\n",
    "print('numpy is in this example '+ str(L/N)+\" faster\" ) "
   ]
  }
 ],
 "metadata": {
  "kernelspec": {
   "display_name": "Python 3 (ipykernel)",
   "language": "python",
   "name": "python3"
  },
  "language_info": {
   "codemirror_mode": {
    "name": "ipython",
    "version": 3
   },
   "file_extension": ".py",
   "mimetype": "text/x-python",
   "name": "python",
   "nbconvert_exporter": "python",
   "pygments_lexer": "ipython3",
   "version": "3.9.7"
  }
 },
 "nbformat": 4,
 "nbformat_minor": 5
}
