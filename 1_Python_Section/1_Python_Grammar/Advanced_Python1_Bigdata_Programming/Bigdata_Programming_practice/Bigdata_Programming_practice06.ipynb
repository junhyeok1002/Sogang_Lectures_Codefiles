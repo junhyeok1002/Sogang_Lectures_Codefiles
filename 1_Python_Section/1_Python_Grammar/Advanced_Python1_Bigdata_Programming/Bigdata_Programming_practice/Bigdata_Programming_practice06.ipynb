{
 "cells": [
  {
   "cell_type": "markdown",
   "id": "23e1a6c8",
   "metadata": {},
   "source": [
    "20180634_최준혁_윤년과_요일찾기"
   ]
  },
  {
   "cell_type": "code",
   "execution_count": 1,
   "id": "3e66210e",
   "metadata": {},
   "outputs": [],
   "source": [
    "def input_date():\n",
    "    y = int(input(\"__년도를 입력하시오:\"))\n",
    "    m = int(input(\"__월을 입력하시오:\"))\n",
    "    d = int(input(\"__일을 입력하시오:\"))\n",
    "    return y,m,d\n",
    "    \n",
    "def is_leap(y):\n",
    "    if (y % 4 == 0 and y % 100 != 0) or y % 400 == 0: return True\n",
    "    else : return False\n",
    "\n",
    "def get_day_name(y, m, d): \n",
    "    Mth_day = {1:31,2:(29 if is_leap(y) else 28),3:31,4:30,5:31,6:30,7:31,8:31,9:30,10:31,11:30,12:31}\n",
    "    day_count = d ; day_name = ['일요일','월요일','화요일','수요일','목요일','금요일','토요일']\n",
    "    \n",
    "    if 0 < y and 0 < m <= 12 and 0 < d <= Mth_day.get(m):\n",
    "        for i in range(1,y): day_count += (366 if is_leap(i) else 365)\n",
    "        for i in range(1,m): day_count += Mth_day.get(i)\n",
    "        return day_name[day_count % 7]\n",
    "    else : return False"
   ]
  },
  {
   "cell_type": "code",
   "execution_count": 8,
   "id": "636da6a8",
   "metadata": {
    "scrolled": true
   },
   "outputs": [
    {
     "name": "stdout",
     "output_type": "stream",
     "text": [
      "__년도를 입력하시오:2022\n",
      "__월을 입력하시오:3\n",
      "__일을 입력하시오:24\n",
      "목요일\n"
     ]
    }
   ],
   "source": [
    "if __name__ ==\"__main__\":\n",
    "    year, month, day = input_date()\n",
    "    day_name = get_day_name(year, month, day)\n",
    "    if day_name == False:\n",
    "        print(\"입력하신 날짜는 존재하지 않습니다\")\n",
    "    else :\n",
    "        print(day_name)\n",
    "        if is_leap(year) == True:\n",
    "            print(\"입력하신 %s은 윤년입니다\"%year)"
   ]
  },
  {
   "cell_type": "code",
   "execution_count": null,
   "id": "7b6bb135",
   "metadata": {},
   "outputs": [],
   "source": []
  }
 ],
 "metadata": {
  "kernelspec": {
   "display_name": "Python 3 (ipykernel)",
   "language": "python",
   "name": "python3"
  },
  "language_info": {
   "codemirror_mode": {
    "name": "ipython",
    "version": 3
   },
   "file_extension": ".py",
   "mimetype": "text/x-python",
   "name": "python",
   "nbconvert_exporter": "python",
   "pygments_lexer": "ipython3",
   "version": "3.9.7"
  }
 },
 "nbformat": 4,
 "nbformat_minor": 5
}
