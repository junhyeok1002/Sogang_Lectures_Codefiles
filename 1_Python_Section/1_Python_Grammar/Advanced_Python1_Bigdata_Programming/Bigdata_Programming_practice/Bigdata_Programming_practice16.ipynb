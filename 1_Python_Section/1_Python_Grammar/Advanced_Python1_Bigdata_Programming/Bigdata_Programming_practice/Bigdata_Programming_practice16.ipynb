{
 "cells": [
  {
   "cell_type": "markdown",
   "id": "e208d623",
   "metadata": {},
   "source": [
    "20180634_최준혁_실습과제10"
   ]
  },
  {
   "cell_type": "markdown",
   "id": "0bbd9d20",
   "metadata": {},
   "source": [
    "##### 실습문제 1 : ScoreEroor"
   ]
  },
  {
   "cell_type": "code",
   "execution_count": 1,
   "id": "c1f2d560",
   "metadata": {},
   "outputs": [
    {
     "name": "stdout",
     "output_type": "stream",
     "text": [
      "점수를 입력하시오: 99\n",
      "점수는 99입니다.\n"
     ]
    }
   ],
   "source": [
    "class ScoreError(Exception):\n",
    "    def __init__(self, msg):\n",
    "        self._message = msg\n",
    "        \n",
    "def input_score():\n",
    "    score = int(input(\"점수를 입력하시오: \"))\n",
    "    if score < 0 or score > 100: \n",
    "        raise ScoreError(\"점수는 0점에서 100점 사이의 값이어야 합니다\")\n",
    "    else : return score\n",
    "    \n",
    "if __name__ == \"__main__\":\n",
    "    try:\n",
    "        score = input_score()\n",
    "    except ScoreError as e:\n",
    "        print(e.args[0])\n",
    "    else: \n",
    "        print(\"점수는 {}입니다.\".format(score))"
   ]
  },
  {
   "cell_type": "markdown",
   "id": "a882f676",
   "metadata": {},
   "source": [
    "##### 실습문제 1 : keyboardinterrupt"
   ]
  },
  {
   "cell_type": "code",
   "execution_count": 2,
   "id": "9a50d87a",
   "metadata": {},
   "outputs": [
    {
     "name": "stdout",
     "output_type": "stream",
     "text": [
      "Overwriting list_index.py\n"
     ]
    }
   ],
   "source": [
    "%%writefile list_index.py\n",
    "num = [0,1,2,3,4,5,6,7,8,9,10]\n",
    "while(True):\n",
    "    try:\n",
    "        i = int(input(\"인덱스를 입력하십시오: \"))\n",
    "        print(num[i])\n",
    "    except IndexError:\n",
    "        print(-1)\n",
    "    except ValueError:\n",
    "        print(\"프로그램을 종료합니다\")\n",
    "        break\n",
    "    except KeyboardInterrupt:\n",
    "        print(\"프로그램을 종료합니다\")\n",
    "        break"
   ]
  },
  {
   "cell_type": "code",
   "execution_count": 3,
   "id": "69495f74",
   "metadata": {},
   "outputs": [
    {
     "name": "stdout",
     "output_type": "stream",
     "text": [
      "인덱스를 입력하십시오: 0\n",
      "0\n",
      "인덱스를 입력하십시오: 11\n",
      "-1\n",
      "인덱스를 입력하십시오: \n",
      "프로그램을 종료합니다\n"
     ]
    }
   ],
   "source": [
    "%run list_index.py"
   ]
  },
  {
   "cell_type": "code",
   "execution_count": null,
   "id": "4ee667fa",
   "metadata": {},
   "outputs": [],
   "source": []
  }
 ],
 "metadata": {
  "kernelspec": {
   "display_name": "Python 3 (ipykernel)",
   "language": "python",
   "name": "python3"
  },
  "language_info": {
   "codemirror_mode": {
    "name": "ipython",
    "version": 3
   },
   "file_extension": ".py",
   "mimetype": "text/x-python",
   "name": "python",
   "nbconvert_exporter": "python",
   "pygments_lexer": "ipython3",
   "version": "3.9.7"
  }
 },
 "nbformat": 4,
 "nbformat_minor": 5
}
