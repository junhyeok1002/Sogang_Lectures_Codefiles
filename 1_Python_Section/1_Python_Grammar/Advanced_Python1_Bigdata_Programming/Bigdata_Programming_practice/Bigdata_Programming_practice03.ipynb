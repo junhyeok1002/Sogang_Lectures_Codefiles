{
 "cells": [
  {
   "cell_type": "markdown",
   "id": "3f47dd7b",
   "metadata": {},
   "source": [
    "20180634_최준혁_fibonacci_number"
   ]
  },
  {
   "cell_type": "code",
   "execution_count": 1,
   "id": "17cbbc70",
   "metadata": {},
   "outputs": [
    {
     "name": "stdout",
     "output_type": "stream",
     "text": [
      "Overwriting fibonacci.py\n"
     ]
    }
   ],
   "source": [
    "%%writefile fibonacci.py\n",
    "\n",
    "def fibo(n):\n",
    "    FiboList = [0,1]\n",
    "    for i in range(n+1):\n",
    "        if i < 2 : continue\n",
    "        else : \n",
    "            FiboList.append(FiboList[i-1]+FiboList[i-2])\n",
    "    print(FiboList[n])\n",
    "\n",
    "if __name__ == \"__main__\":\n",
    "    num = int(input(\"input: \"))\n",
    "    fibo(num)"
   ]
  },
  {
   "cell_type": "code",
   "execution_count": 2,
   "id": "5736e4b6",
   "metadata": {},
   "outputs": [
    {
     "name": "stdout",
     "output_type": "stream",
     "text": [
      "input: 7\n",
      "13\n"
     ]
    }
   ],
   "source": [
    "%run fibonacci.py"
   ]
  },
  {
   "cell_type": "code",
   "execution_count": 3,
   "id": "5cd29ef1",
   "metadata": {},
   "outputs": [
    {
     "name": "stdout",
     "output_type": "stream",
     "text": [
      "13\n"
     ]
    }
   ],
   "source": [
    "import fibonacci\n",
    "fibonacci.fibo(7)"
   ]
  }
 ],
 "metadata": {
  "kernelspec": {
   "display_name": "Python 3 (ipykernel)",
   "language": "python",
   "name": "python3"
  },
  "language_info": {
   "codemirror_mode": {
    "name": "ipython",
    "version": 3
   },
   "file_extension": ".py",
   "mimetype": "text/x-python",
   "name": "python",
   "nbconvert_exporter": "python",
   "pygments_lexer": "ipython3",
   "version": "3.9.7"
  }
 },
 "nbformat": 4,
 "nbformat_minor": 5
}
