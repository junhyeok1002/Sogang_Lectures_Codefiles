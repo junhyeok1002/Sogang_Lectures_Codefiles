{
 "cells": [
  {
   "cell_type": "markdown",
   "id": "67b5f8b1",
   "metadata": {},
   "source": [
    "20180634_최준혁_실습과제11"
   ]
  },
  {
   "cell_type": "code",
   "execution_count": 1,
   "id": "c11c9d25",
   "metadata": {},
   "outputs": [],
   "source": [
    "fp = open(\"ban_stu.txt\", 'wt',encoding = \"cp949\")\n",
    "fp.write(\"2 Alice Paul David Bob\\n\")\n",
    "fp.write(\"4 Cindy Stella Bill\\n\")\n",
    "fp.write(\"1 Henry Jenny Jessica Erin Tim\\n\")\n",
    "fp.write(\"3 John Joe Tom\")\n",
    "fp.close()"
   ]
  },
  {
   "cell_type": "code",
   "execution_count": 2,
   "id": "43603a62",
   "metadata": {},
   "outputs": [
    {
     "name": "stdout",
     "output_type": "stream",
     "text": [
      "{'2': ['Alice', 'Paul', 'David', 'Bob'], '4': ['Cindy', 'Stella', 'Bill'], '1': ['Henry', 'Jenny', 'Jessica', 'Erin', 'Tim'], '3': ['John', 'Joe']}\n"
     ]
    }
   ],
   "source": [
    "D = dict()\n",
    "with open(\"ban_stu.txt\") as f:\n",
    "    lines = f.readlines()\n",
    "    for line in lines:\n",
    "        L = list() ; div = 0\n",
    "        for i in range(len(line)):\n",
    "            if line[i] == \" \" or line[i] == \"\\n\":\n",
    "                L.append(line[div:i])\n",
    "                div = i+1\n",
    "        key = L.pop(0)        \n",
    "        D[key] = L\n",
    "print(D)        "
   ]
  }
 ],
 "metadata": {
  "kernelspec": {
   "display_name": "Python 3 (ipykernel)",
   "language": "python",
   "name": "python3"
  },
  "language_info": {
   "codemirror_mode": {
    "name": "ipython",
    "version": 3
   },
   "file_extension": ".py",
   "mimetype": "text/x-python",
   "name": "python",
   "nbconvert_exporter": "python",
   "pygments_lexer": "ipython3",
   "version": "3.9.7"
  }
 },
 "nbformat": 4,
 "nbformat_minor": 5
}
