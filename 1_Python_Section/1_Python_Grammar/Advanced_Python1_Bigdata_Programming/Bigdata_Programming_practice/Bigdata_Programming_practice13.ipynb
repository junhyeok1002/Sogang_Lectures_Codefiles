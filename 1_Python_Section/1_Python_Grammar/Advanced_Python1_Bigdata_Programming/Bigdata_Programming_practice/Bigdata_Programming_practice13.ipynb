{
 "cells": [
  {
   "cell_type": "markdown",
   "id": "1c2d4cb7",
   "metadata": {},
   "source": [
    "20180634_최준혁_과제8(과제5의 윤년과 요일찾기의 OOP V.2)"
   ]
  },
  {
   "cell_type": "code",
   "execution_count": 1,
   "id": "e18e652e",
   "metadata": {},
   "outputs": [],
   "source": [
    "import time\n",
    "\n",
    "def input_date():\n",
    "    y = int(input(\"__년도를 입력하시오:\"))\n",
    "    m = int(input(\"__월을 입력하시오:\"))\n",
    "    d = int(input(\"__일을 입력하시오:\"))\n",
    "    return y,m,d\n",
    "\n",
    "class Day:\n",
    "    def __init__(self, year, month, day):\n",
    "        self._year = year ; self.month = month ; self.day = day\n",
    "    \n",
    "    def getY(self): return self._year\n",
    "    def setY(self, value): self._year = value\n",
    "    def delY(self): del self._year\n",
    "    year = property(getY, setY, delY)\n",
    "    \n",
    "    def is_leap(self,*y):\n",
    "        y = self._year if y==() else y[0]\n",
    "        if (y % 4 == 0 and y % 100 != 0) or y % 400 == 0: return True\n",
    "        else : return False\n",
    "        \n",
    "    def get_name(self):\n",
    "        Mth_day = {1:31,2:(29 if self.is_leap() else 28),3:31,4:30,5:31,6:30,7:31,8:31,9:30,10:31,11:30,12:31}\n",
    "        day_count = self.day ; day_name = ['일요일','월요일','화요일','수요일','목요일','금요일','토요일']\n",
    "    \n",
    "        if 0 < self._year and 0 < self.month <= 12 and 0 < self.day <= Mth_day.get(self.month):\n",
    "            for i in range(1,self._year): day_count += (366 if self.is_leap(i) else 365)\n",
    "            for i in range(1,self.month): day_count += Mth_day.get(i)\n",
    "            return day_name[day_count % 7]\n",
    "        else : return False\n",
    "        \n",
    "    def get_BornAge(self):\n",
    "        t = time.localtime()\n",
    "        BornAge = t.tm_year - self._year\n",
    "        if t.tm_mon < self.month : BornAge -= 1\n",
    "        elif t.tm_mon == self.month and t.tm_mday < self.day : BornAge-= 1\n",
    "        else : pass\n",
    "        return BornAge\n",
    "        \n",
    "    @staticmethod \n",
    "    def AnimalAge(BornYear):\n",
    "        AnimalList = [\"원숭이\",\"닭\",\"개\",\"돼지\",\"쥐\",\"소\",\"호랑이\",\"토끼\",\"용\",\"뱀\",\"말\",\"양\"]\n",
    "        return  AnimalList[BornYear%12]"
   ]
  },
  {
   "cell_type": "code",
   "execution_count": 2,
   "id": "9d7b1cee",
   "metadata": {
    "scrolled": true
   },
   "outputs": [
    {
     "name": "stdout",
     "output_type": "stream",
     "text": [
      "__년도를 입력하시오:2022\n",
      "__월을 입력하시오:4\n",
      "__일을 입력하시오:21\n",
      "목요일\n",
      "\n",
      "1999년 10월 2일 생은 만 22세이고 토끼띠입니다\n",
      "2022년 12월 31일 생은 아직 태어나지 않았습니다\n",
      "2022년 4월 21일 생은 만 0세이고 호랑이띠입니다\n",
      "\n",
      "check time : 2.996553421020508\n"
     ]
    }
   ],
   "source": [
    "if __name__ == \"__main__\":\n",
    "    start = time.time()\n",
    "    year, month, day = input_date()\n",
    "    day_name = Day(year, month, day)\n",
    "    if day_name.get_name() == False:\n",
    "        print(\"입력하신 날짜는 존재하지 않습니다\")\n",
    "    else :\n",
    "        print(day_name.get_name())\n",
    "        if day_name.is_leap() == True:\n",
    "            print(\"입력하신 %s은 윤년입니다\"%day_name.year)\n",
    "    print()\n",
    "    day1 = Day(1999,10,2)\n",
    "    day2 = Day(2022,12,31)\n",
    "    day3 = Day(2022,4,21)\n",
    "    dayList = [day1, day2, day3]\n",
    "    for i in dayList:\n",
    "        if i.get_BornAge() == -1: print(\"{}년 {}월 {}일 생은 아직 태어나지 않았습니다\".format(i.year, i.month, i.day))\n",
    "        else : \n",
    "            print(\"{}년 {}월 {}일 생은 만 {}세이고 {}띠입니다\".format(i.year, i.month, i.day, i.get_BornAge(), Day.AnimalAge(i.year)))\n",
    "    end = time.time()\n",
    "    print(\"\\ncheck time :\",end - start)"
   ]
  },
  {
   "cell_type": "code",
   "execution_count": null,
   "id": "2414d4d3",
   "metadata": {},
   "outputs": [],
   "source": []
  }
 ],
 "metadata": {
  "kernelspec": {
   "display_name": "Python 3 (ipykernel)",
   "language": "python",
   "name": "python3"
  },
  "language_info": {
   "codemirror_mode": {
    "name": "ipython",
    "version": 3
   },
   "file_extension": ".py",
   "mimetype": "text/x-python",
   "name": "python",
   "nbconvert_exporter": "python",
   "pygments_lexer": "ipython3",
   "version": "3.9.7"
  }
 },
 "nbformat": 4,
 "nbformat_minor": 5
}
