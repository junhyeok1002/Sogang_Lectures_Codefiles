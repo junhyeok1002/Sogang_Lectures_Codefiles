{
 "cells": [
  {
   "cell_type": "markdown",
   "id": "ee2fec87",
   "metadata": {},
   "source": [
    "20180634_최준혁_과제10(주민번호가리기)"
   ]
  },
  {
   "cell_type": "code",
   "execution_count": 1,
   "id": "51b8f278",
   "metadata": {},
   "outputs": [],
   "source": [
    "data = '''\n",
    "park sunje 890901-1074422\n",
    "kim sunhee 990103-2079912\n",
    "'''\n",
    "data2 = '''\n",
    "홍길동 560922-1089123 02-705-8491\n",
    "홍길동 560922-1089123 042-7052-8491\n",
    "김바한솔 911212-1089123 042=705-8491\n",
    "김연찬 920922-1089123 031-7054-8491\n",
    "'''"
   ]
  },
  {
   "cell_type": "code",
   "execution_count": 2,
   "id": "97055ded",
   "metadata": {},
   "outputs": [],
   "source": [
    "def hide(data):\n",
    "    data_list = list(data.split(\" \"))\n",
    "    flag = 0\n",
    "    for i in range(len(data)):\n",
    "        if data[i] == \" \":\n",
    "            flag += 1\n",
    "            try: \n",
    "                for k in range(1,7):\n",
    "                    int(data[i+k])\n",
    "            except : continue\n",
    "            else : \n",
    "                sex_num = int(data[i+8])\n",
    "                sex = \"남\" if (sex_num in (1,3)) else \"여\"\n",
    "                data_list.insert(flag, sex) ; flag += 1\n",
    "                data_list[flag] = data_list[flag][0:7]+\"*******\"+data_list[flag][14::]\n",
    "    return \" \".join(data_list)"
   ]
  },
  {
   "cell_type": "code",
   "execution_count": 3,
   "id": "5e9f2151",
   "metadata": {},
   "outputs": [
    {
     "name": "stdout",
     "output_type": "stream",
     "text": [
      "\n",
      "park sunje 남 890901-*******\n",
      "kim sunhee 여 990103-*******\n",
      "\n"
     ]
    }
   ],
   "source": [
    "print(hide(data))"
   ]
  },
  {
   "cell_type": "code",
   "execution_count": 4,
   "id": "c2310518",
   "metadata": {},
   "outputs": [
    {
     "name": "stdout",
     "output_type": "stream",
     "text": [
      "\n",
      "홍길동 남 560922-******* 02-705-8491\n",
      "홍길동 남 560922-******* 042-7052-8491\n",
      "김바한솔 남 911212-******* 042=705-8491\n",
      "김연찬 남 920922-******* 031-7054-8491\n",
      "\n"
     ]
    }
   ],
   "source": [
    "print(hide(data2))"
   ]
  },
  {
   "cell_type": "code",
   "execution_count": null,
   "id": "ba7fd466",
   "metadata": {},
   "outputs": [],
   "source": []
  }
 ],
 "metadata": {
  "kernelspec": {
   "display_name": "Python 3 (ipykernel)",
   "language": "python",
   "name": "python3"
  },
  "language_info": {
   "codemirror_mode": {
    "name": "ipython",
    "version": 3
   },
   "file_extension": ".py",
   "mimetype": "text/x-python",
   "name": "python",
   "nbconvert_exporter": "python",
   "pygments_lexer": "ipython3",
   "version": "3.9.7"
  }
 },
 "nbformat": 4,
 "nbformat_minor": 5
}
