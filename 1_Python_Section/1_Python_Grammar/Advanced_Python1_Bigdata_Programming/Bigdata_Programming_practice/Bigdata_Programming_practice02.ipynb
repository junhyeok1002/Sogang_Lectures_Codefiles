{
 "cells": [
  {
   "cell_type": "markdown",
   "id": "04b1c5bd",
   "metadata": {},
   "source": [
    "20180634_최준혁_대소문자_변경"
   ]
  },
  {
   "cell_type": "code",
   "execution_count": 8,
   "id": "d471b264",
   "metadata": {},
   "outputs": [
    {
     "name": "stdout",
     "output_type": "stream",
     "text": [
      "Writing chan.py\n"
     ]
    }
   ],
   "source": [
    "%%writefile chan.py\n",
    "\n",
    "UpperList = [\"A\",\"B\",\"C\",\"D\",\"E\",\"F\",\"G\",\"H\",\"I\",\"J\",\"K\",\"L\",\\\n",
    "             \"M\",\"N\",\"O\",\"P\",\"Q\",\"R\",\"S\",\"T\",\"U\",\"V\",\"W\",\"X\",\"Y\",\"Z\"]\n",
    "LowerList = [\"a\",\"b\",\"c\",\"d\",\"e\",\"f\",\"g\",\"h\",\"i\",\"j\",\"k\",\"l\",\\\n",
    "             \"m\",\"n\",\"o\",\"p\",\"q\",\"r\",\"s\",\"t\",\"u\",\"v\",\"w\",\"x\",\"y\",\"z\"]\n",
    "\n",
    "def change_UpLow(string) :\n",
    "    NewString = \"\"\n",
    "    for i in range(len(string)):\n",
    "        if string[i] in LowerList : NewString += UpperList[LowerList.index(string[i])]\n",
    "        elif string[i] in UpperList : NewString += LowerList[UpperList.index(string[i])]\n",
    "    return NewString\n",
    "\n",
    "def count_str(string) : \n",
    "    str_list = list() ; CountDict = dict()\n",
    "    for i in range(len(string)):\n",
    "        if string[i] in UpperList : str_list.append(LowerList[UpperList.index(string[i])])\n",
    "        elif string[i] in LowerList : str_list.append(string[i])\n",
    "    for i in str_list:\n",
    "        CountDict[i] = str_list.count(i)\n",
    "    for i in CountDict:\n",
    "        print(\"(%c : %d)\"%(i,CountDict[i]), end = \"  \")  \n",
    "    print()\n",
    "\n",
    "if __name__ == \"__main__\" :  \n",
    "    while(True):\n",
    "        ip = input(\"Input:\")\n",
    "        if ip ==\"STOP\": print(\"Bye\") ; break\n",
    "        else : \n",
    "            count_str(ip)\n",
    "            print(change_UpLow(ip))"
   ]
  },
  {
   "cell_type": "code",
   "execution_count": 9,
   "id": "9658c9b2",
   "metadata": {},
   "outputs": [
    {
     "name": "stdout",
     "output_type": "stream",
     "text": [
      "Input:Sogang\n",
      "(s : 1)  (o : 1)  (g : 2)  (a : 1)  (n : 1)  \n",
      "sOGANG\n",
      "Input:SOGANG\n",
      "(s : 1)  (o : 1)  (g : 2)  (a : 1)  (n : 1)  \n",
      "sogang\n",
      "Input:Univ\n",
      "(u : 1)  (n : 1)  (i : 1)  (v : 1)  \n",
      "uNIV\n",
      "Input:Tel\n",
      "(t : 1)  (e : 1)  (l : 1)  \n",
      "tEL\n",
      "Input:STOP\n",
      "Bye\n"
     ]
    }
   ],
   "source": [
    "%run chan.py"
   ]
  },
  {
   "cell_type": "code",
   "execution_count": null,
   "id": "5b09e0d1",
   "metadata": {},
   "outputs": [],
   "source": []
  }
 ],
 "metadata": {
  "kernelspec": {
   "display_name": "Python 3 (ipykernel)",
   "language": "python",
   "name": "python3"
  },
  "language_info": {
   "codemirror_mode": {
    "name": "ipython",
    "version": 3
   },
   "file_extension": ".py",
   "mimetype": "text/x-python",
   "name": "python",
   "nbconvert_exporter": "python",
   "pygments_lexer": "ipython3",
   "version": "3.9.7"
  }
 },
 "nbformat": 4,
 "nbformat_minor": 5
}
