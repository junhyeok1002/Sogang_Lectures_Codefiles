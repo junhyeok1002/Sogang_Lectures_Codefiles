{
 "cells": [
  {
   "cell_type": "markdown",
   "id": "2bda3259",
   "metadata": {},
   "source": [
    "20180634_최준혁_실습과제12"
   ]
  },
  {
   "cell_type": "markdown",
   "id": "b6768adf",
   "metadata": {},
   "source": [
    "1"
   ]
  },
  {
   "cell_type": "code",
   "execution_count": 1,
   "id": "40b58c77",
   "metadata": {},
   "outputs": [],
   "source": [
    "fp1 = open(\"information,txt\",\"wt\")\n",
    "fp1.write(\"3\\n\")\n",
    "fp1.write(\"3.14\\n\")\n",
    "fp1.write(\"\\\"3.14\\\"\\n\")\n",
    "fp1.close()"
   ]
  },
  {
   "cell_type": "markdown",
   "id": "ff997529",
   "metadata": {},
   "source": [
    "2"
   ]
  },
  {
   "cell_type": "code",
   "execution_count": 6,
   "id": "dc603356",
   "metadata": {},
   "outputs": [
    {
     "name": "stdout",
     "output_type": "stream",
     "text": [
      "3\n",
      "3.14\n",
      "\"3.14\"\n",
      "\n"
     ]
    }
   ],
   "source": [
    "fp1 = open(\"information,txt\")\n",
    "print(fp1.read())\n",
    "fp1.close()"
   ]
  },
  {
   "cell_type": "markdown",
   "id": "6277d0da",
   "metadata": {},
   "source": [
    "3"
   ]
  },
  {
   "cell_type": "code",
   "execution_count": 7,
   "id": "70ac5ffa",
   "metadata": {},
   "outputs": [],
   "source": [
    "import pickle\n",
    "with open('information.dat',\"wb\") as fp2:\n",
    "    pickle.dump(3,fp2)\n",
    "    pickle.dump(3.14,fp2)\n",
    "    pickle.dump(\"\\\"3.14\\\"\\n\",fp2)"
   ]
  },
  {
   "cell_type": "markdown",
   "id": "2a3012d6",
   "metadata": {},
   "source": [
    "4"
   ]
  },
  {
   "cell_type": "code",
   "execution_count": 11,
   "id": "635c3e21",
   "metadata": {},
   "outputs": [
    {
     "name": "stdout",
     "output_type": "stream",
     "text": [
      "3\n",
      "3.14\n",
      "\"3.14\"\n",
      "\n"
     ]
    }
   ],
   "source": [
    "import pickle\n",
    "with open('information.dat',\"rb\") as fp2:\n",
    "    while(True):\n",
    "        try: print(pickle.load(fp2))\n",
    "        except : break\n",
    "    fp.close()"
   ]
  },
  {
   "cell_type": "code",
   "execution_count": null,
   "id": "be2f79b7",
   "metadata": {},
   "outputs": [],
   "source": []
  }
 ],
 "metadata": {
  "kernelspec": {
   "display_name": "Python 3 (ipykernel)",
   "language": "python",
   "name": "python3"
  },
  "language_info": {
   "codemirror_mode": {
    "name": "ipython",
    "version": 3
   },
   "file_extension": ".py",
   "mimetype": "text/x-python",
   "name": "python",
   "nbconvert_exporter": "python",
   "pygments_lexer": "ipython3",
   "version": "3.9.7"
  }
 },
 "nbformat": 4,
 "nbformat_minor": 5
}
