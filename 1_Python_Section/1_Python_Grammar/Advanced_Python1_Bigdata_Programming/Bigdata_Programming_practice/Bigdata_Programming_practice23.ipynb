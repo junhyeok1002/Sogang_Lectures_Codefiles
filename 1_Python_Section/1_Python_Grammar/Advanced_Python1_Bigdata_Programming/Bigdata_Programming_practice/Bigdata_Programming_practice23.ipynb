{
 "cells": [
  {
   "cell_type": "markdown",
   "id": "ba621f2a",
   "metadata": {},
   "source": [
    "20180634_최준혁_실습과제15(가격과 수량추출)"
   ]
  },
  {
   "cell_type": "markdown",
   "id": "56f80abb",
   "metadata": {},
   "source": [
    "실습1"
   ]
  },
  {
   "cell_type": "code",
   "execution_count": 1,
   "id": "3a7d9120",
   "metadata": {},
   "outputs": [
    {
     "name": "stdout",
     "output_type": "stream",
     "text": [
      "23.45\n",
      "5.01\n",
      "889.00\n",
      "69.89\n"
     ]
    }
   ],
   "source": [
    "import re\n",
    "data = \"\"\"\n",
    "ABC01: $23.45\n",
    "HGG42: $5.01\n",
    "CFXE1: $889.00\n",
    "XTC99: $69.89\n",
    "Total items found: 4\n",
    "\"\"\"\n",
    "p = re.compile(r'(?<=\\$)\\d+[.]\\d+',re.M)\n",
    "results = p.findall(data)\n",
    "for i in results:\n",
    "    print(i)"
   ]
  },
  {
   "cell_type": "markdown",
   "id": "f18e095a",
   "metadata": {},
   "source": [
    "실습2"
   ]
  },
  {
   "cell_type": "code",
   "execution_count": 2,
   "id": "f30b5774",
   "metadata": {},
   "outputs": [],
   "source": [
    "import re\n",
    "data = \"\"\"\n",
    "I paid $30 for 100 apples,\n",
    "50 oranges, and 60 pears.\n",
    "I saved $5 on this order.\n",
    "\"\"\"\n",
    "price = re.compile(r'(?<=[\\s\\n]\\$)\\d+',re.M)\n",
    "price_num = price.findall(data)\n",
    "quant = re.compile(r'(?<=[\\s\\n])\\d+',re.M)\n",
    "quant_num = quant.findall(data)"
   ]
  },
  {
   "cell_type": "code",
   "execution_count": 3,
   "id": "380aa87e",
   "metadata": {},
   "outputs": [
    {
     "name": "stdout",
     "output_type": "stream",
     "text": [
      "가격을 나타내는 숫자들\n",
      "30\n",
      "5\n",
      "\n",
      "수량을 나타내는 숫자들\n",
      "100\n",
      "50\n",
      "60\n"
     ]
    }
   ],
   "source": [
    "print(\"가격을 나타내는 숫자들\")\n",
    "for i in price_num: print(i)\n",
    "print(\"\\n수량을 나타내는 숫자들\")\n",
    "for j in quant_num: print(j)"
   ]
  },
  {
   "cell_type": "code",
   "execution_count": null,
   "id": "d5f17912",
   "metadata": {},
   "outputs": [],
   "source": []
  }
 ],
 "metadata": {
  "kernelspec": {
   "display_name": "Python 3 (ipykernel)",
   "language": "python",
   "name": "python3"
  },
  "language_info": {
   "codemirror_mode": {
    "name": "ipython",
    "version": 3
   },
   "file_extension": ".py",
   "mimetype": "text/x-python",
   "name": "python",
   "nbconvert_exporter": "python",
   "pygments_lexer": "ipython3",
   "version": "3.9.7"
  }
 },
 "nbformat": 4,
 "nbformat_minor": 5
}
