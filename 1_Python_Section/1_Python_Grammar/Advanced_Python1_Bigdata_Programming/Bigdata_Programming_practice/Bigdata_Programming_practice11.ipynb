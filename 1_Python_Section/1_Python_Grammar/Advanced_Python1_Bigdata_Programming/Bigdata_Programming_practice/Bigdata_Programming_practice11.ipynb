{
 "cells": [
  {
   "cell_type": "markdown",
   "id": "81fcba47",
   "metadata": {},
   "source": [
    "20180634_최준혁_실습과제7: Food 클래스 객체들간의 가격비교"
   ]
  },
  {
   "cell_type": "code",
   "execution_count": 3,
   "id": "054089f2",
   "metadata": {},
   "outputs": [
    {
     "name": "stdout",
     "output_type": "stream",
     "text": [
      "True\n",
      "8000\n"
     ]
    }
   ],
   "source": [
    "class Food():\n",
    "    def __init__(self, name, price):\n",
    "        self.name = name\n",
    "        self.price = price\n",
    "        \n",
    "    def __add__(self, other):\n",
    "        return self.price + other.price\n",
    "    def __lt__(self, other):\n",
    "        if self.price < other.price : return True\n",
    "        else : return False\n",
    "        \n",
    "food_1 = Food('아이스크림', 3000)\n",
    "food_2 = Food('햄버거', 5000)\n",
    "food_3 = Food('빙수', 8000)\n",
    "    \n",
    "print(food_1 < food_2)    \n",
    "print(food_1 + food_2)"
   ]
  },
  {
   "cell_type": "code",
   "execution_count": null,
   "id": "d92233fd",
   "metadata": {},
   "outputs": [],
   "source": []
  }
 ],
 "metadata": {
  "kernelspec": {
   "display_name": "Python 3 (ipykernel)",
   "language": "python",
   "name": "python3"
  },
  "language_info": {
   "codemirror_mode": {
    "name": "ipython",
    "version": 3
   },
   "file_extension": ".py",
   "mimetype": "text/x-python",
   "name": "python",
   "nbconvert_exporter": "python",
   "pygments_lexer": "ipython3",
   "version": "3.9.7"
  }
 },
 "nbformat": 4,
 "nbformat_minor": 5
}
