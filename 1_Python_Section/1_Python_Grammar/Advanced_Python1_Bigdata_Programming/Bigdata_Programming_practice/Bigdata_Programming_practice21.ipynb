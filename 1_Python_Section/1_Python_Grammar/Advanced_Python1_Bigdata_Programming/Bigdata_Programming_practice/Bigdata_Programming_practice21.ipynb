{
 "cells": [
  {
   "cell_type": "markdown",
   "id": "233171a0",
   "metadata": {},
   "source": [
    "20180634_최준혁_실습과제13(전방탐색,후방탐색)"
   ]
  },
  {
   "cell_type": "markdown",
   "id": "e5c3d40a",
   "metadata": {},
   "source": [
    "실습 1"
   ]
  },
  {
   "cell_type": "code",
   "execution_count": 1,
   "id": "04f83179",
   "metadata": {},
   "outputs": [
    {
     "name": "stdout",
     "output_type": "stream",
     "text": [
      "<HEAD>\n",
      "<Title>Seo Maria's Homepage</TITLE>\n",
      "<\\HEAD>\n",
      "\n",
      "Seo Maria's Homepage\n"
     ]
    }
   ],
   "source": [
    "import re\n",
    "string = \"<HEAD>\\n<Title>Seo Maria's Homepage</TITLE>\\n<\\HEAD>\"\n",
    "pat = re.compile('(?<=\\<(T|t)(I|i)(T|t)(L|l)(E|e)\\>).*(?=\\</(T|t)(I|i)(T|t)(L|l)(E|e)\\>)')\n",
    "m = pat.search(string)\n",
    "print(string)\n",
    "print()\n",
    "print(m.group())"
   ]
  },
  {
   "cell_type": "markdown",
   "id": "a4bcf479",
   "metadata": {},
   "source": [
    "실습 2"
   ]
  },
  {
   "cell_type": "code",
   "execution_count": 2,
   "id": "e3fc6f9c",
   "metadata": {},
   "outputs": [
    {
     "name": "stdout",
     "output_type": "stream",
     "text": [
      "foo.bar, sendmail.cf, checksum.exe\n"
     ]
    }
   ],
   "source": [
    "input_list = ['foo.bar', 'autoexec.bat', 'sendmail.cf', 'checksum.exe']\n",
    "output_list = list()\n",
    "\n",
    "pat = re.compile(r'\\w+[.](?!(bat))\\w+')\n",
    "for i in input_list:\n",
    "    m = pat.search(i)\n",
    "    try : output_list.append(m.group())\n",
    "    except : continue\n",
    "for j in range(len(output_list)):\n",
    "    if j == len(output_list)-1 : print(output_list[j])\n",
    "    else : print(output_list[j], end = \", \")"
   ]
  },
  {
   "cell_type": "code",
   "execution_count": 3,
   "id": "76f63f1f",
   "metadata": {},
   "outputs": [
    {
     "name": "stdout",
     "output_type": "stream",
     "text": [
      "foo.bar, sendmail.cf\n"
     ]
    }
   ],
   "source": [
    "input_list = ['foo.bar', 'autoexec.bat', 'sendmail.cf', 'checksum.exe']\n",
    "output_list = list()\n",
    "\n",
    "pat = re.compile(r'\\w+[.](?!(bat|exe))\\w+')\n",
    "for i in input_list:\n",
    "    m = pat.search(i)\n",
    "    try : output_list.append(m.group())\n",
    "    except : continue\n",
    "for j in range(len(output_list)):\n",
    "    if j == len(output_list)-1 : print(output_list[j])\n",
    "    else : print(output_list[j], end = \", \")"
   ]
  },
  {
   "cell_type": "code",
   "execution_count": null,
   "id": "6034e0b5",
   "metadata": {},
   "outputs": [],
   "source": []
  }
 ],
 "metadata": {
  "kernelspec": {
   "display_name": "Python 3 (ipykernel)",
   "language": "python",
   "name": "python3"
  },
  "language_info": {
   "codemirror_mode": {
    "name": "ipython",
    "version": 3
   },
   "file_extension": ".py",
   "mimetype": "text/x-python",
   "name": "python",
   "nbconvert_exporter": "python",
   "pygments_lexer": "ipython3",
   "version": "3.9.7"
  }
 },
 "nbformat": 4,
 "nbformat_minor": 5
}
