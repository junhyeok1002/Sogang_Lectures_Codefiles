{
 "cells": [
  {
   "cell_type": "markdown",
   "id": "a8f774ce",
   "metadata": {},
   "source": [
    "20180634_최준혁_실습과제14(sub이용)"
   ]
  },
  {
   "cell_type": "markdown",
   "id": "24033d5e",
   "metadata": {},
   "source": [
    "##### square함수를 이용한 방법"
   ]
  },
  {
   "cell_type": "code",
   "execution_count": 1,
   "id": "fb1fd067",
   "metadata": {
    "scrolled": true
   },
   "outputs": [
    {
     "data": {
      "text/plain": [
       "'Please, square the following numbers, 9 49 121 169 289 361'"
      ]
     },
     "execution_count": 1,
     "metadata": {},
     "output_type": "execute_result"
    }
   ],
   "source": [
    "import re\n",
    "def square(match):\n",
    "    result = int(match.group())**2\n",
    "    return str(result)\n",
    "pat = re.compile(r'\\d+')\n",
    "pat.sub(square, 'Please, square the following numbers, 3 7 11 13 17 19')"
   ]
  },
  {
   "cell_type": "markdown",
   "id": "782ad901",
   "metadata": {},
   "source": [
    "##### lambda를 이용한 방법"
   ]
  },
  {
   "cell_type": "code",
   "execution_count": 2,
   "id": "42d70f36",
   "metadata": {},
   "outputs": [
    {
     "data": {
      "text/plain": [
       "'Please, square the following numbers, 9 49 121 169 289 361'"
      ]
     },
     "execution_count": 2,
     "metadata": {},
     "output_type": "execute_result"
    }
   ],
   "source": [
    "import re\n",
    "pat = re.compile(r'\\d+')\n",
    "pat.sub(lambda match : str(int(match.group())**2), 'Please, square the following numbers, 3 7 11 13 17 19')"
   ]
  }
 ],
 "metadata": {
  "kernelspec": {
   "display_name": "Python 3 (ipykernel)",
   "language": "python",
   "name": "python3"
  },
  "language_info": {
   "codemirror_mode": {
    "name": "ipython",
    "version": 3
   },
   "file_extension": ".py",
   "mimetype": "text/x-python",
   "name": "python",
   "nbconvert_exporter": "python",
   "pygments_lexer": "ipython3",
   "version": "3.9.7"
  }
 },
 "nbformat": 4,
 "nbformat_minor": 5
}
