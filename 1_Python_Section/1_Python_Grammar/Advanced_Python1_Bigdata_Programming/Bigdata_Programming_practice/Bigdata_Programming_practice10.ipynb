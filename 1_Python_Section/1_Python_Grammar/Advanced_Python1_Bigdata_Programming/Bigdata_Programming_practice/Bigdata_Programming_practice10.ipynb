{
 "cells": [
  {
   "cell_type": "markdown",
   "id": "98c31d34",
   "metadata": {},
   "source": [
    "20180634_최준혁_실습과제8: static method 이용하기"
   ]
  },
  {
   "cell_type": "code",
   "execution_count": 1,
   "id": "aef3631f",
   "metadata": {},
   "outputs": [],
   "source": [
    "import datetime\n",
    "\n",
    "class Date(object):\n",
    "    def __init__(self, string):\n",
    "        self.dt = datetime.datetime.strptime(string, '%Y, %m, %d')\n",
    "        self.date = self.dt.strftime('date : %Y, %m, %d')\n",
    "        \n",
    "        tday = datetime.datetime.today() \n",
    "        if self.date == tday.strftime('date : %Y, %m, %d'): self.date = \"date : today\"\n",
    "        \n",
    "    def show(self):\n",
    "        print(self.date)\n",
    "        \n",
    "    @staticmethod\n",
    "    def now():\n",
    "        tm = datetime.datetime.today()\n",
    "        return Date(tm.strftime('%Y, %m, %d'))\n",
    "    \n",
    "    @staticmethod\n",
    "    def yesterday(string):\n",
    "        tm = datetime.datetime.strptime(string, '%Y, %m, %d') - datetime.timedelta(days = 1)\n",
    "        return Date(tm.strftime('%Y, %m, %d'))"
   ]
  },
  {
   "cell_type": "code",
   "execution_count": 2,
   "id": "1472d6aa",
   "metadata": {},
   "outputs": [
    {
     "name": "stdout",
     "output_type": "stream",
     "text": [
      "date : 2022, 04, 07\n",
      "date : today\n",
      "date : 2022, 04, 06\n"
     ]
    }
   ],
   "source": [
    "a = Date(\"2022, 4, 7\")\n",
    "a.show()\n",
    "b = Date.now()\n",
    "b.show()\n",
    "c = Date.yesterday(\"2022, 4, 7\")\n",
    "c.show()"
   ]
  },
  {
   "cell_type": "code",
   "execution_count": 3,
   "id": "b96303ee",
   "metadata": {},
   "outputs": [
    {
     "name": "stdout",
     "output_type": "stream",
     "text": [
      "date : 2022, 04, 07\n",
      "date : today\n",
      "date : 2022, 04, 06\n"
     ]
    }
   ],
   "source": [
    "a = Date(\"2022, 4, 7\")\n",
    "a.show()\n",
    "b = Date.now()\n",
    "print(b.date)\n",
    "c = Date.yesterday(\"2022, 4, 7\")\n",
    "print(c.date)"
   ]
  }
 ],
 "metadata": {
  "kernelspec": {
   "display_name": "Python 3 (ipykernel)",
   "language": "python",
   "name": "python3"
  },
  "language_info": {
   "codemirror_mode": {
    "name": "ipython",
    "version": 3
   },
   "file_extension": ".py",
   "mimetype": "text/x-python",
   "name": "python",
   "nbconvert_exporter": "python",
   "pygments_lexer": "ipython3",
   "version": "3.9.7"
  }
 },
 "nbformat": 4,
 "nbformat_minor": 5
}
