{
 "cells": [
  {
   "cell_type": "markdown",
   "id": "cd344dc2",
   "metadata": {},
   "source": [
    "20180634_최준혁_실습과제5(인자를 갖는 함수에 대한 decorator 만들기)"
   ]
  },
  {
   "cell_type": "code",
   "execution_count": 3,
   "id": "3790c4a4",
   "metadata": {},
   "outputs": [
    {
     "name": "stdout",
     "output_type": "stream",
     "text": [
      "Initializing Verbose.\n",
      "Program start\n",
      "\n",
      "Begin my_function\n",
      "hello, Mickey!\n",
      "End my_function \n",
      "\n",
      "\n",
      "Begin my_function\n",
      "hello, Minnie!\n",
      "End my_function \n",
      "\n",
      "\n",
      "Begin my_function\n",
      "hello, Donald!\n",
      "End my_function \n",
      "\n"
     ]
    }
   ],
   "source": [
    "class verbose:\n",
    "    def __init__(self, f):\n",
    "        print(\"Initializing Verbose.\")\n",
    "        self.func =f\n",
    "        \n",
    "    def __call__(self, name):\n",
    "        print(\"\\nBegin\", self.func.__name__)\n",
    "        self.func(name)\n",
    "        print(\"End\",self.func.__name__,\"\\n\")\n",
    "        \n",
    "@verbose\n",
    "def my_function(name):\n",
    "    print(\"hello, {}!\".format(name))\n",
    "    \n",
    "print(\"Program start\")\n",
    "my_function(\"Mickey\")\n",
    "my_function(\"Minnie\")\n",
    "my_function(\"Donald\")"
   ]
  },
  {
   "cell_type": "code",
   "execution_count": null,
   "id": "4674c513",
   "metadata": {},
   "outputs": [],
   "source": []
  }
 ],
 "metadata": {
  "kernelspec": {
   "display_name": "Python 3 (ipykernel)",
   "language": "python",
   "name": "python3"
  },
  "language_info": {
   "codemirror_mode": {
    "name": "ipython",
    "version": 3
   },
   "file_extension": ".py",
   "mimetype": "text/x-python",
   "name": "python",
   "nbconvert_exporter": "python",
   "pygments_lexer": "ipython3",
   "version": "3.9.7"
  }
 },
 "nbformat": 4,
 "nbformat_minor": 5
}
