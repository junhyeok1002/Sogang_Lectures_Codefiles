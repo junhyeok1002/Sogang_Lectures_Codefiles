{
 "cells": [
  {
   "cell_type": "markdown",
   "id": "e351aef0",
   "metadata": {},
   "source": [
    "20180634_최준혁_실습과제9"
   ]
  },
  {
   "cell_type": "markdown",
   "id": "4d81e6e7",
   "metadata": {},
   "source": [
    "##### 실습 1번 : datetime 요일"
   ]
  },
  {
   "cell_type": "code",
   "execution_count": 28,
   "id": "82c67544",
   "metadata": {},
   "outputs": [
    {
     "name": "stdout",
     "output_type": "stream",
     "text": [
      "Overwriting W_2.py\n"
     ]
    }
   ],
   "source": [
    "%%writefile W_2.py\n",
    "import sys\n",
    "import datetime\n",
    "y, m, d = int(sys.argv[1]), int(sys.argv[2]), int(sys.argv[3])\n",
    "dayList = [\"월요일\",\"화요일\",\"수요일\",\"목요일\",\"금요알\",\"토요일\",\"일요일\"]\n",
    "date = datetime.date(y,m,d)\n",
    "print(dayList[date.weekday()])"
   ]
  },
  {
   "cell_type": "code",
   "execution_count": 29,
   "id": "eb5546fd",
   "metadata": {},
   "outputs": [
    {
     "name": "stdout",
     "output_type": "stream",
     "text": [
      "화요일\n"
     ]
    }
   ],
   "source": [
    "%run W_2.py 2019 10 1"
   ]
  },
  {
   "cell_type": "code",
   "execution_count": 30,
   "id": "e9d0e03f",
   "metadata": {},
   "outputs": [
    {
     "name": "stdout",
     "output_type": "stream",
     "text": [
      "월요일\n"
     ]
    }
   ],
   "source": [
    "%run W_2.py 2019 10 14"
   ]
  },
  {
   "cell_type": "markdown",
   "id": "f3830fb4",
   "metadata": {},
   "source": [
    "##### 실습 2번 : 운영체제 구하기"
   ]
  },
  {
   "cell_type": "code",
   "execution_count": 5,
   "id": "060e61c9",
   "metadata": {},
   "outputs": [
    {
     "data": {
      "text/plain": [
       "'nt'"
      ]
     },
     "execution_count": 5,
     "metadata": {},
     "output_type": "execute_result"
    }
   ],
   "source": [
    "import os\n",
    "os.name"
   ]
  },
  {
   "cell_type": "markdown",
   "id": "0496f4d7",
   "metadata": {},
   "source": [
    "##### 실습 3번 : 윤년 코드"
   ]
  },
  {
   "cell_type": "code",
   "execution_count": 39,
   "id": "b59c9140",
   "metadata": {},
   "outputs": [
    {
     "name": "stdout",
     "output_type": "stream",
     "text": [
      "Overwriting leapArg.py\n"
     ]
    }
   ],
   "source": [
    "%%writefile leapArg.py\n",
    "import sys\n",
    "class DayName:\n",
    "    def __init__(self, year, month, day):\n",
    "        self.year = year ; self.month = month ; self.day = day\n",
    "        \n",
    "    def is_leap(self,*y):\n",
    "        y = self.year if y==() else y[0]\n",
    "        if (y % 4 == 0 and y % 100 != 0) or y % 400 == 0: return True\n",
    "        else : return False\n",
    "        \n",
    "    def get_name(self):\n",
    "        Mth_day = {1:31,2:(29 if self.is_leap() else 28),3:31,4:30,5:31,6:30,7:31,8:31,9:30,10:31,11:30,12:31}\n",
    "        day_count = self.day ; day_name = ['일요일','월요일','화요일','수요일','목요일','금요일','토요일']\n",
    "    \n",
    "        if 0 < self.year and 0 < self.month <= 12 and 0 < self.day <= Mth_day.get(self.month):\n",
    "            for i in range(1,self.year): day_count += (366 if self.is_leap(i) else 365)\n",
    "            for i in range(1,self.month): day_count += Mth_day.get(i)\n",
    "            return day_name[day_count % 7]\n",
    "        else : return False\n",
    "        \n",
    "if __name__ == \"__main__\":\n",
    "    year, month, day = int(sys.argv[1]), int(sys.argv[2]), int(sys.argv[3])\n",
    "    day_name = DayName(year, month, day)\n",
    "    if day_name.get_name() == False:\n",
    "        print(\"입력하신 날짜는 존재하지 않습니다\")\n",
    "    else :\n",
    "        print(day_name.get_name())\n",
    "        if day_name.is_leap() == True:\n",
    "            print(\"입력하신 %s은 윤년입니다\"%day_name.year)"
   ]
  },
  {
   "cell_type": "code",
   "execution_count": 42,
   "id": "2f38b219",
   "metadata": {},
   "outputs": [
    {
     "name": "stdout",
     "output_type": "stream",
     "text": [
      "일요일\n"
     ]
    }
   ],
   "source": [
    "%run leapArg.py 2018 4 15"
   ]
  },
  {
   "cell_type": "code",
   "execution_count": 43,
   "id": "9dfcedaa",
   "metadata": {},
   "outputs": [
    {
     "name": "stdout",
     "output_type": "stream",
     "text": [
      "토요일\n",
      "입력하신 2020은 윤년입니다\n"
     ]
    }
   ],
   "source": [
    "%run leapArg.py 2020 2 29"
   ]
  },
  {
   "cell_type": "code",
   "execution_count": 44,
   "id": "f6607a44",
   "metadata": {},
   "outputs": [
    {
     "name": "stdout",
     "output_type": "stream",
     "text": [
      "입력하신 날짜는 존재하지 않습니다\n"
     ]
    }
   ],
   "source": [
    "%run leapArg.py 2018 2 29"
   ]
  },
  {
   "cell_type": "markdown",
   "id": "3fbe1720",
   "metadata": {},
   "source": [
    "##### 실습 4번 : 수학 코드"
   ]
  },
  {
   "cell_type": "code",
   "execution_count": 50,
   "id": "adfc890e",
   "metadata": {},
   "outputs": [
    {
     "name": "stdout",
     "output_type": "stream",
     "text": [
      "(1):  -1.6351885780427125e-13\n",
      "(2):  2.939601270583009e+48\n",
      "(3):  1.203359304667218\n"
     ]
    }
   ],
   "source": [
    "import math as m\n",
    "print(\"(1): \", (2000/m.log(20))*m.sin(2*m.pi))\n",
    "print(\"(2): \", (m.pow(3,100))*m.log(300))\n",
    "print(\"(3): \", m.sin(45)*m.sqrt(2))"
   ]
  },
  {
   "cell_type": "markdown",
   "id": "6d397e49",
   "metadata": {},
   "source": [
    "##### 실습 5번 : 가위바위보"
   ]
  },
  {
   "cell_type": "code",
   "execution_count": 80,
   "id": "b1dd1946",
   "metadata": {},
   "outputs": [
    {
     "name": "stdout",
     "output_type": "stream",
     "text": [
      "가위, 바위, 보 중 하나를 선택하시오: 보\n",
      "플레이어: 보\n",
      "컴퓨터: 보\n",
      "비겼습니다.\n"
     ]
    }
   ],
   "source": [
    "import random\n",
    "RSP = ['가위','바위','보']\n",
    "my = input(\"가위, 바위, 보 중 하나를 선택하시오: \")\n",
    "com = random.randint(0,2)\n",
    "if my != '가위' and my != '바위' and my != '보' : print(\"잘못된 입력입니다\")\n",
    "else : \n",
    "    print(\"플레이어: {}\".format(my))\n",
    "    print(\"컴퓨터: {}\".format(RSP[com]))\n",
    "    if my == RSP[com] :print('비겼습니다.')\n",
    "    else:\n",
    "        if my == '가위' and RSP[com] =='바위' : \n",
    "            print(\"컴퓨터가 이겼습니다\")\n",
    "        elif my == '바위' and RSP[com] =='보' : \n",
    "            print(\"컴퓨터가 이겼습니다\")\n",
    "        elif (my == '보' and RSP[com] =='가위'): \n",
    "            print(\"컴퓨터가 이겼습니다\")\n",
    "        else :\n",
    "            print('당신이 이겼습니다')"
   ]
  }
 ],
 "metadata": {
  "kernelspec": {
   "display_name": "Python 3 (ipykernel)",
   "language": "python",
   "name": "python3"
  },
  "language_info": {
   "codemirror_mode": {
    "name": "ipython",
    "version": 3
   },
   "file_extension": ".py",
   "mimetype": "text/x-python",
   "name": "python",
   "nbconvert_exporter": "python",
   "pygments_lexer": "ipython3",
   "version": "3.9.7"
  }
 },
 "nbformat": 4,
 "nbformat_minor": 5
}
